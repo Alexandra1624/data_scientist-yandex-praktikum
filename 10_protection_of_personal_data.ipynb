{
 "cells": [
  {
   "cell_type": "markdown",
   "metadata": {
    "toc": true
   },
   "source": [
    "<h1>Содержание<span class=\"tocSkip\"></span></h1>\n",
    "<div class=\"toc\"><ul class=\"toc-item\"><li><span><a href=\"#Загрузка-данных\" data-toc-modified-id=\"Загрузка-данных-1\"><span class=\"toc-item-num\">1&nbsp;&nbsp;</span>Загрузка данных</a></span><ul class=\"toc-item\"><li><span><a href=\"#Открываем-файл-с-данными-и-изучаем-общую-информацию\" data-toc-modified-id=\"Открываем-файл-с-данными-и-изучаем-общую-информацию-1.1\"><span class=\"toc-item-num\">1.1&nbsp;&nbsp;</span>Открываем файл с данными и изучаем общую информацию</a></span></li><li><span><a href=\"#Проверяем-полные-дубликаты\" data-toc-modified-id=\"Проверяем-полные-дубликаты-1.2\"><span class=\"toc-item-num\">1.2&nbsp;&nbsp;</span>Проверяем полные дубликаты</a></span></li><li><span><a href=\"#Изменения-типа-данных\" data-toc-modified-id=\"Изменения-типа-данных-1.3\"><span class=\"toc-item-num\">1.3&nbsp;&nbsp;</span>Изменения типа данных</a></span></li></ul></li><li><span><a href=\"#Умножение-матриц\" data-toc-modified-id=\"Умножение-матриц-2\"><span class=\"toc-item-num\">2&nbsp;&nbsp;</span>Умножение матриц</a></span><ul class=\"toc-item\"><li><span><a href=\"#Признаки-умножают-на-обратимую-матрицу.-Изменится-ли-качество-линейной-регрессии?-(Её-можно-обучить-заново.)\" data-toc-modified-id=\"Признаки-умножают-на-обратимую-матрицу.-Изменится-ли-качество-линейной-регрессии?-(Её-можно-обучить-заново.)-2.1\"><span class=\"toc-item-num\">2.1&nbsp;&nbsp;</span>Признаки умножают на обратимую матрицу. Изменится ли качество линейной регрессии? (Её можно обучить заново.)</a></span></li></ul></li><li><span><a href=\"#Алгоритм-преобразования\" data-toc-modified-id=\"Алгоритм-преобразования-3\"><span class=\"toc-item-num\">3&nbsp;&nbsp;</span>Алгоритм преобразования</a></span></li><li><span><a href=\"#Проверка-алгоритма\" data-toc-modified-id=\"Проверка-алгоритма-4\"><span class=\"toc-item-num\">4&nbsp;&nbsp;</span>Проверка алгоритма</a></span><ul class=\"toc-item\"><li><span><a href=\"#Создадим-обратимую-матрицу-P\" data-toc-modified-id=\"Создадим-обратимую-матрицу-P-4.1\"><span class=\"toc-item-num\">4.1&nbsp;&nbsp;</span>Создадим обратимую матрицу P</a></span></li><li><span><a href=\"#Проверим-обратимость\" data-toc-modified-id=\"Проверим-обратимость-4.2\"><span class=\"toc-item-num\">4.2&nbsp;&nbsp;</span>Проверим обратимость</a></span></li><li><span><a href=\"#Разделим-данные-на-тренировочную-выборку-и-целевой-признак\" data-toc-modified-id=\"Разделим-данные-на-тренировочную-выборку-и-целевой-признак-4.3\"><span class=\"toc-item-num\">4.3&nbsp;&nbsp;</span>Разделим данные на тренировочную выборку и целевой признак</a></span></li><li><span><a href=\"#Сравним-расчет-Линейной-регрессии-по-формулам-и-через-библиотеку-sklearn\" data-toc-modified-id=\"Сравним-расчет-Линейной-регрессии-по-формулам-и-через-библиотеку-sklearn-4.4\"><span class=\"toc-item-num\">4.4&nbsp;&nbsp;</span>Сравним расчет Линейной регрессии по формулам и через библиотеку sklearn</a></span></li><li><span><a href=\"#Функция-для-модели-Линейной-регрессии\" data-toc-modified-id=\"Функция-для-модели-Линейной-регрессии-4.5\"><span class=\"toc-item-num\">4.5&nbsp;&nbsp;</span>Функция для модели Линейной регрессии</a></span></li><li><span><a href=\"#R2-для-исходных-данных\" data-toc-modified-id=\"R2-для-исходных-данных-4.6\"><span class=\"toc-item-num\">4.6&nbsp;&nbsp;</span>R2 для исходных данных</a></span></li><li><span><a href=\"#R2-для-зашифрованных-данных\" data-toc-modified-id=\"R2-для-зашифрованных-данных-4.7\"><span class=\"toc-item-num\">4.7&nbsp;&nbsp;</span>R2 для зашифрованных данных</a></span></li></ul></li><li><span><a href=\"#Итоговый-вывод\" data-toc-modified-id=\"Итоговый-вывод-5\"><span class=\"toc-item-num\">5&nbsp;&nbsp;</span>Итоговый вывод</a></span></li><li><span><a href=\"#Чек-лист-проверки\" data-toc-modified-id=\"Чек-лист-проверки-6\"><span class=\"toc-item-num\">6&nbsp;&nbsp;</span>Чек-лист проверки</a></span></li></ul></div>"
   ]
  },
  {
   "cell_type": "markdown",
   "metadata": {},
   "source": [
    "# Защита персональных данных клиентов"
   ]
  },
  {
   "cell_type": "markdown",
   "metadata": {},
   "source": [
    "Вам нужно защитить данные клиентов страховой компании «Хоть потоп». Разработайте такой метод преобразования данных, чтобы по ним было сложно восстановить персональную информацию. Обоснуйте корректность его работы.\n",
    "\n",
    "Нужно защитить данные, чтобы при преобразовании качество моделей машинного обучения не ухудшилось. Подбирать наилучшую модель не требуется."
   ]
  },
  {
   "cell_type": "markdown",
   "metadata": {},
   "source": [
    "## Загрузка данных"
   ]
  },
  {
   "cell_type": "markdown",
   "metadata": {},
   "source": [
    "### Открываем файл с данными и изучаем общую информацию"
   ]
  },
  {
   "cell_type": "code",
   "execution_count": 1,
   "metadata": {},
   "outputs": [
    {
     "name": "stdout",
     "output_type": "stream",
     "text": [
      "Requirement already satisfied: phik in /opt/conda/lib/python3.9/site-packages (0.12.3)\n",
      "Requirement already satisfied: pandas>=0.25.1 in /opt/conda/lib/python3.9/site-packages (from phik) (1.2.4)\n",
      "Requirement already satisfied: matplotlib>=2.2.3 in /opt/conda/lib/python3.9/site-packages (from phik) (3.3.4)\n",
      "Requirement already satisfied: joblib>=0.14.1 in /opt/conda/lib/python3.9/site-packages (from phik) (1.1.0)\n",
      "Requirement already satisfied: numpy>=1.18.0 in /opt/conda/lib/python3.9/site-packages (from phik) (1.21.1)\n",
      "Requirement already satisfied: scipy>=1.5.2 in /opt/conda/lib/python3.9/site-packages (from phik) (1.9.1)\n",
      "Requirement already satisfied: kiwisolver>=1.0.1 in /opt/conda/lib/python3.9/site-packages (from matplotlib>=2.2.3->phik) (1.4.4)\n",
      "Requirement already satisfied: pyparsing!=2.0.4,!=2.1.2,!=2.1.6,>=2.0.3 in /opt/conda/lib/python3.9/site-packages (from matplotlib>=2.2.3->phik) (2.4.7)\n",
      "Requirement already satisfied: pillow>=6.2.0 in /opt/conda/lib/python3.9/site-packages (from matplotlib>=2.2.3->phik) (8.4.0)\n",
      "Requirement already satisfied: python-dateutil>=2.1 in /opt/conda/lib/python3.9/site-packages (from matplotlib>=2.2.3->phik) (2.8.1)\n",
      "Requirement already satisfied: cycler>=0.10 in /opt/conda/lib/python3.9/site-packages (from matplotlib>=2.2.3->phik) (0.11.0)\n",
      "Requirement already satisfied: pytz>=2017.3 in /opt/conda/lib/python3.9/site-packages (from pandas>=0.25.1->phik) (2021.1)\n",
      "Requirement already satisfied: six>=1.5 in /opt/conda/lib/python3.9/site-packages (from python-dateutil>=2.1->matplotlib>=2.2.3->phik) (1.16.0)\n"
     ]
    }
   ],
   "source": [
    "!pip install phik"
   ]
  },
  {
   "cell_type": "code",
   "execution_count": 2,
   "metadata": {},
   "outputs": [],
   "source": [
    "# Импорт библиотек\n",
    "import phik\n",
    "import pandas as pd\n",
    "import numpy as np\n",
    "import os\n",
    "import seaborn as sns\n",
    "\n",
    "from sklearn.model_selection import train_test_split\n",
    "from sklearn.preprocessing import StandardScaler\n",
    "\n",
    "\n",
    "from sklearn.linear_model import LinearRegression\n",
    "from sklearn.metrics import r2_score"
   ]
  },
  {
   "cell_type": "code",
   "execution_count": 3,
   "metadata": {},
   "outputs": [],
   "source": [
    "# чтение файлов с данными\n",
    "pth1 = '/datasets/insurance.csv'\n",
    "\n",
    "pth1_local = 'C:/Users/Alexandra' + pth1\n",
    "    \n",
    "if os.path.exists(pth1):\n",
    "    data = pd.read_csv(pth1) #обучающая выборка\n",
    "    \n",
    "elif os.path.exists(pth1_local):\n",
    "    data = pd.read_csv(pth1_local) #обучающая выборка\n",
    "\n",
    "else:\n",
    "    print('Файлы не найдены')"
   ]
  },
  {
   "cell_type": "code",
   "execution_count": 4,
   "metadata": {
    "scrolled": true
   },
   "outputs": [
    {
     "data": {
      "text/html": [
       "<div>\n",
       "<style scoped>\n",
       "    .dataframe tbody tr th:only-of-type {\n",
       "        vertical-align: middle;\n",
       "    }\n",
       "\n",
       "    .dataframe tbody tr th {\n",
       "        vertical-align: top;\n",
       "    }\n",
       "\n",
       "    .dataframe thead th {\n",
       "        text-align: right;\n",
       "    }\n",
       "</style>\n",
       "<table border=\"1\" class=\"dataframe\">\n",
       "  <thead>\n",
       "    <tr style=\"text-align: right;\">\n",
       "      <th></th>\n",
       "      <th>Пол</th>\n",
       "      <th>Возраст</th>\n",
       "      <th>Зарплата</th>\n",
       "      <th>Члены семьи</th>\n",
       "      <th>Страховые выплаты</th>\n",
       "    </tr>\n",
       "  </thead>\n",
       "  <tbody>\n",
       "    <tr>\n",
       "      <th>0</th>\n",
       "      <td>1</td>\n",
       "      <td>41.0</td>\n",
       "      <td>49600.0</td>\n",
       "      <td>1</td>\n",
       "      <td>0</td>\n",
       "    </tr>\n",
       "    <tr>\n",
       "      <th>1</th>\n",
       "      <td>0</td>\n",
       "      <td>46.0</td>\n",
       "      <td>38000.0</td>\n",
       "      <td>1</td>\n",
       "      <td>1</td>\n",
       "    </tr>\n",
       "    <tr>\n",
       "      <th>2</th>\n",
       "      <td>0</td>\n",
       "      <td>29.0</td>\n",
       "      <td>21000.0</td>\n",
       "      <td>0</td>\n",
       "      <td>0</td>\n",
       "    </tr>\n",
       "    <tr>\n",
       "      <th>3</th>\n",
       "      <td>0</td>\n",
       "      <td>21.0</td>\n",
       "      <td>41700.0</td>\n",
       "      <td>2</td>\n",
       "      <td>0</td>\n",
       "    </tr>\n",
       "    <tr>\n",
       "      <th>4</th>\n",
       "      <td>1</td>\n",
       "      <td>28.0</td>\n",
       "      <td>26100.0</td>\n",
       "      <td>0</td>\n",
       "      <td>0</td>\n",
       "    </tr>\n",
       "  </tbody>\n",
       "</table>\n",
       "</div>"
      ],
      "text/plain": [
       "   Пол  Возраст  Зарплата  Члены семьи  Страховые выплаты\n",
       "0    1     41.0   49600.0            1                  0\n",
       "1    0     46.0   38000.0            1                  1\n",
       "2    0     29.0   21000.0            0                  0\n",
       "3    0     21.0   41700.0            2                  0\n",
       "4    1     28.0   26100.0            0                  0"
      ]
     },
     "execution_count": 4,
     "metadata": {},
     "output_type": "execute_result"
    }
   ],
   "source": [
    "#Выводим первые 5 строчек датафрейма на экран.\n",
    "data.head()"
   ]
  },
  {
   "cell_type": "code",
   "execution_count": 5,
   "metadata": {},
   "outputs": [
    {
     "name": "stdout",
     "output_type": "stream",
     "text": [
      "<class 'pandas.core.frame.DataFrame'>\n",
      "RangeIndex: 5000 entries, 0 to 4999\n",
      "Data columns (total 5 columns):\n",
      " #   Column             Non-Null Count  Dtype  \n",
      "---  ------             --------------  -----  \n",
      " 0   Пол                5000 non-null   int64  \n",
      " 1   Возраст            5000 non-null   float64\n",
      " 2   Зарплата           5000 non-null   float64\n",
      " 3   Члены семьи        5000 non-null   int64  \n",
      " 4   Страховые выплаты  5000 non-null   int64  \n",
      "dtypes: float64(2), int64(3)\n",
      "memory usage: 195.4 KB\n"
     ]
    }
   ],
   "source": [
    "#Выводим основную информацию о датафрейме\n",
    "data.info() "
   ]
  },
  {
   "cell_type": "code",
   "execution_count": 6,
   "metadata": {
    "scrolled": true
   },
   "outputs": [
    {
     "data": {
      "text/html": [
       "<style  type=\"text/css\" >\n",
       "#T_56ffa_row0_col0,#T_56ffa_row1_col0,#T_56ffa_row2_col0,#T_56ffa_row3_col0,#T_56ffa_row4_col0{\n",
       "            background-color:  #ffffcc;\n",
       "            color:  #000000;\n",
       "        }</style><table id=\"T_56ffa_\" ><thead>    <tr>        <th class=\"blank level0\" ></th>        <th class=\"col_heading level0 col0\" >0</th>    </tr></thead><tbody>\n",
       "                <tr>\n",
       "                        <th id=\"T_56ffa_level0_row0\" class=\"row_heading level0 row0\" >Пол</th>\n",
       "                        <td id=\"T_56ffa_row0_col0\" class=\"data row0 col0\" >0.000000</td>\n",
       "            </tr>\n",
       "            <tr>\n",
       "                        <th id=\"T_56ffa_level0_row1\" class=\"row_heading level0 row1\" >Возраст</th>\n",
       "                        <td id=\"T_56ffa_row1_col0\" class=\"data row1 col0\" >0.000000</td>\n",
       "            </tr>\n",
       "            <tr>\n",
       "                        <th id=\"T_56ffa_level0_row2\" class=\"row_heading level0 row2\" >Зарплата</th>\n",
       "                        <td id=\"T_56ffa_row2_col0\" class=\"data row2 col0\" >0.000000</td>\n",
       "            </tr>\n",
       "            <tr>\n",
       "                        <th id=\"T_56ffa_level0_row3\" class=\"row_heading level0 row3\" >Члены семьи</th>\n",
       "                        <td id=\"T_56ffa_row3_col0\" class=\"data row3 col0\" >0.000000</td>\n",
       "            </tr>\n",
       "            <tr>\n",
       "                        <th id=\"T_56ffa_level0_row4\" class=\"row_heading level0 row4\" >Страховые выплаты</th>\n",
       "                        <td id=\"T_56ffa_row4_col0\" class=\"data row4 col0\" >0.000000</td>\n",
       "            </tr>\n",
       "    </tbody></table>"
      ],
      "text/plain": [
       "<pandas.io.formats.style.Styler at 0x7f56e635a340>"
      ]
     },
     "execution_count": 6,
     "metadata": {},
     "output_type": "execute_result"
    }
   ],
   "source": [
    "# Проверяем пропущенные значения\n",
    "pd.DataFrame(round(data.isna().mean()*100,)).style.background_gradient('YlOrRd')"
   ]
  },
  {
   "cell_type": "markdown",
   "metadata": {},
   "source": [
    "**Вывод:**\n",
    "\n",
    "В выборке **data** 5000 строк, 5 столбцов. Пропусков нет."
   ]
  },
  {
   "cell_type": "markdown",
   "metadata": {},
   "source": [
    "### Проверяем полные дубликаты"
   ]
  },
  {
   "cell_type": "code",
   "execution_count": 7,
   "metadata": {},
   "outputs": [
    {
     "data": {
      "text/plain": [
       "153"
      ]
     },
     "execution_count": 7,
     "metadata": {},
     "output_type": "execute_result"
    }
   ],
   "source": [
    "data.duplicated().sum()"
   ]
  },
  {
   "cell_type": "code",
   "execution_count": 8,
   "metadata": {
    "scrolled": true
   },
   "outputs": [
    {
     "data": {
      "text/html": [
       "<div>\n",
       "<style scoped>\n",
       "    .dataframe tbody tr th:only-of-type {\n",
       "        vertical-align: middle;\n",
       "    }\n",
       "\n",
       "    .dataframe tbody tr th {\n",
       "        vertical-align: top;\n",
       "    }\n",
       "\n",
       "    .dataframe thead th {\n",
       "        text-align: right;\n",
       "    }\n",
       "</style>\n",
       "<table border=\"1\" class=\"dataframe\">\n",
       "  <thead>\n",
       "    <tr style=\"text-align: right;\">\n",
       "      <th></th>\n",
       "      <th>Пол</th>\n",
       "      <th>Возраст</th>\n",
       "      <th>Зарплата</th>\n",
       "      <th>Члены семьи</th>\n",
       "      <th>Страховые выплаты</th>\n",
       "    </tr>\n",
       "  </thead>\n",
       "  <tbody>\n",
       "    <tr>\n",
       "      <th>281</th>\n",
       "      <td>1</td>\n",
       "      <td>39.0</td>\n",
       "      <td>48100.0</td>\n",
       "      <td>1</td>\n",
       "      <td>0</td>\n",
       "    </tr>\n",
       "    <tr>\n",
       "      <th>488</th>\n",
       "      <td>1</td>\n",
       "      <td>24.0</td>\n",
       "      <td>32900.0</td>\n",
       "      <td>1</td>\n",
       "      <td>0</td>\n",
       "    </tr>\n",
       "    <tr>\n",
       "      <th>513</th>\n",
       "      <td>0</td>\n",
       "      <td>31.0</td>\n",
       "      <td>37400.0</td>\n",
       "      <td>2</td>\n",
       "      <td>0</td>\n",
       "    </tr>\n",
       "    <tr>\n",
       "      <th>718</th>\n",
       "      <td>1</td>\n",
       "      <td>22.0</td>\n",
       "      <td>32600.0</td>\n",
       "      <td>1</td>\n",
       "      <td>0</td>\n",
       "    </tr>\n",
       "    <tr>\n",
       "      <th>785</th>\n",
       "      <td>0</td>\n",
       "      <td>20.0</td>\n",
       "      <td>35800.0</td>\n",
       "      <td>0</td>\n",
       "      <td>0</td>\n",
       "    </tr>\n",
       "    <tr>\n",
       "      <th>...</th>\n",
       "      <td>...</td>\n",
       "      <td>...</td>\n",
       "      <td>...</td>\n",
       "      <td>...</td>\n",
       "      <td>...</td>\n",
       "    </tr>\n",
       "    <tr>\n",
       "      <th>4793</th>\n",
       "      <td>1</td>\n",
       "      <td>24.0</td>\n",
       "      <td>37800.0</td>\n",
       "      <td>0</td>\n",
       "      <td>0</td>\n",
       "    </tr>\n",
       "    <tr>\n",
       "      <th>4902</th>\n",
       "      <td>1</td>\n",
       "      <td>35.0</td>\n",
       "      <td>38700.0</td>\n",
       "      <td>1</td>\n",
       "      <td>0</td>\n",
       "    </tr>\n",
       "    <tr>\n",
       "      <th>4935</th>\n",
       "      <td>1</td>\n",
       "      <td>19.0</td>\n",
       "      <td>32700.0</td>\n",
       "      <td>0</td>\n",
       "      <td>0</td>\n",
       "    </tr>\n",
       "    <tr>\n",
       "      <th>4945</th>\n",
       "      <td>1</td>\n",
       "      <td>21.0</td>\n",
       "      <td>45800.0</td>\n",
       "      <td>0</td>\n",
       "      <td>0</td>\n",
       "    </tr>\n",
       "    <tr>\n",
       "      <th>4965</th>\n",
       "      <td>0</td>\n",
       "      <td>22.0</td>\n",
       "      <td>40100.0</td>\n",
       "      <td>1</td>\n",
       "      <td>0</td>\n",
       "    </tr>\n",
       "  </tbody>\n",
       "</table>\n",
       "<p>153 rows × 5 columns</p>\n",
       "</div>"
      ],
      "text/plain": [
       "      Пол  Возраст  Зарплата  Члены семьи  Страховые выплаты\n",
       "281     1     39.0   48100.0            1                  0\n",
       "488     1     24.0   32900.0            1                  0\n",
       "513     0     31.0   37400.0            2                  0\n",
       "718     1     22.0   32600.0            1                  0\n",
       "785     0     20.0   35800.0            0                  0\n",
       "...   ...      ...       ...          ...                ...\n",
       "4793    1     24.0   37800.0            0                  0\n",
       "4902    1     35.0   38700.0            1                  0\n",
       "4935    1     19.0   32700.0            0                  0\n",
       "4945    1     21.0   45800.0            0                  0\n",
       "4965    0     22.0   40100.0            1                  0\n",
       "\n",
       "[153 rows x 5 columns]"
      ]
     },
     "execution_count": 8,
     "metadata": {},
     "output_type": "execute_result"
    }
   ],
   "source": [
    "# выведем полные дубликаты\n",
    "data[data.duplicated()]"
   ]
  },
  {
   "cell_type": "markdown",
   "metadata": {},
   "source": [
    "**Вывод:**\n",
    "\n",
    "У нас слишком мало данных. Всего 5 столбцов. Возможно эти полные дубликаты совпали для разных людей. Т.е. возможны 2 человека, с одинаковыми полом, возрастом, зарплатой, количеством членов семьи и страховыми выплатами. Поэтому оставляем дубликаты."
   ]
  },
  {
   "cell_type": "markdown",
   "metadata": {},
   "source": [
    "### Изменения типа данных"
   ]
  },
  {
   "cell_type": "code",
   "execution_count": 9,
   "metadata": {
    "scrolled": true
   },
   "outputs": [
    {
     "data": {
      "text/plain": [
       "array([41., 46., 29., 21., 28., 43., 39., 25., 36., 32., 38., 23., 40.,\n",
       "       34., 26., 42., 27., 33., 47., 30., 19., 31., 22., 20., 24., 18.,\n",
       "       37., 48., 45., 44., 52., 49., 35., 56., 65., 55., 57., 54., 50.,\n",
       "       53., 51., 58., 59., 60., 61., 62.])"
      ]
     },
     "execution_count": 9,
     "metadata": {},
     "output_type": "execute_result"
    }
   ],
   "source": [
    "data['Возраст'].unique() # Проверяем уникальные значения"
   ]
  },
  {
   "cell_type": "code",
   "execution_count": 10,
   "metadata": {
    "scrolled": true
   },
   "outputs": [
    {
     "data": {
      "text/plain": [
       "array([49600., 38000., 21000., 41700., 26100., 41000., 39700., 38600.,\n",
       "       49700., 51700., 36600., 29300., 39500., 55000., 43700., 23300.,\n",
       "       48900., 33200., 36900., 43500., 36100., 26600., 48700., 40400.,\n",
       "       38400., 34600., 34800., 36800., 42200., 46300., 30300., 51000.,\n",
       "       28100., 64800., 30400., 45300., 38300., 49500., 19400., 40200.,\n",
       "       31700., 69200., 33100., 31600., 34500., 38700., 39600., 42400.,\n",
       "       34900., 30500., 24200., 49900., 14300., 47000., 44800., 43800.,\n",
       "       42700., 35400., 57200., 29600., 37400., 48100., 33700., 61800.,\n",
       "       39400., 15600., 52600., 37600., 52500., 32700., 51600., 60900.,\n",
       "       41800., 47400., 26500., 45900., 35700., 34300., 26700., 25700.,\n",
       "       33300., 31100., 31500., 42100., 37300., 42500., 27300., 46800.,\n",
       "       33500., 44300., 41600., 53900., 40100., 44600., 45000., 32000.,\n",
       "       38200., 33000., 38500., 51800., 33800., 46400., 43200., 31800.,\n",
       "       50200., 35100., 30700., 45800., 49300., 42800., 33600., 50300.,\n",
       "       34000., 36400., 44900., 43600., 54600., 52800., 29700., 39000.,\n",
       "       44100., 31900., 37700., 35200., 43100., 51300., 47500., 40800.,\n",
       "       26800., 64900., 35900., 31200., 39900., 43300., 33900., 40700.,\n",
       "       44700., 53400., 30600., 56000., 35600., 55200., 40600., 48300.,\n",
       "       50800., 41200., 44200., 44400., 40500., 39800., 16600., 48400.,\n",
       "       25100., 23100., 32100., 31000., 42900., 46700., 26000., 55900.,\n",
       "       52000., 41500., 49400., 60300., 45600., 49000., 37500., 21900.,\n",
       "       45100., 47900., 54300., 32400., 41300., 44500., 23200., 37900.,\n",
       "       48000., 52100., 45700., 29900., 42600., 45200., 36000., 46500.,\n",
       "       23800., 30200., 24400., 32800., 29000., 43400., 51500., 61700.,\n",
       "       45400., 50700., 36200., 41900., 27900., 47200., 48800., 55100.,\n",
       "       48200., 35500., 35000., 43900., 40000., 22000., 40300., 36300.,\n",
       "       49800., 25600., 42300., 54900., 25500., 32900., 36700., 38900.,\n",
       "       24700., 28800., 22900., 47300., 14500., 28700., 44000., 34100.,\n",
       "       53000., 59300., 28500., 47100., 41400., 58900., 17500., 54200.,\n",
       "       43000., 29800., 20000., 13800., 27500., 67700., 28000., 37100.,\n",
       "        8900., 14600., 56200., 38800., 27700., 50500., 58400., 34700.,\n",
       "       34400., 49100., 50900., 28200., 61500., 32500., 25900.,  9800.,\n",
       "       28300., 41100., 62000., 32600., 37200., 53800., 24000., 53600.,\n",
       "       54800., 59600., 20200., 21700., 29200., 38100., 20700., 32300.,\n",
       "       21200., 62100., 54000., 24500., 51900., 47800., 56100., 55300.,\n",
       "       58100., 28900., 39100., 58000., 27200., 24600., 30100., 57100.,\n",
       "       60100., 22200., 47700., 24900., 37800., 52700., 34200., 18700.,\n",
       "       42000., 26300., 22600., 30900., 35800., 30800., 51100., 53300.,\n",
       "       46200., 24100., 54700., 51200., 62300., 51400., 40900., 23400.,\n",
       "       35300., 55800., 33400., 21300., 30000., 56700., 46900.,  5300.,\n",
       "       39200., 57500., 31300., 53700., 21600., 50000., 36500., 16400.,\n",
       "       15900., 65100., 59900., 63200., 26200., 61200., 48500., 32200.,\n",
       "       29100., 50100., 22700., 28600., 23500., 23700., 19600., 17800.,\n",
       "       50600., 57900., 22500., 22100., 58300., 64100., 25000., 60400.,\n",
       "       59100., 37000., 62400., 29500., 25800., 25400., 26900., 21500.,\n",
       "       52200., 46600., 57300., 46100., 19300., 18900., 31400., 28400.,\n",
       "       29400., 17600., 13900., 52400., 11300., 46000., 60500., 58700.,\n",
       "       58200., 24800., 63700., 60600., 20400., 26400., 55600., 57000.,\n",
       "       45500., 48600., 57600., 52900., 62800., 17000., 56500., 52300.,\n",
       "       18400., 63300., 12900., 27000., 55700., 39300., 27800., 18300.,\n",
       "       56300., 59800., 24300., 14400., 13400., 17900., 47600., 54500.,\n",
       "       54400., 23900., 13000., 19900., 55400., 22800., 61000., 57400.,\n",
       "       23000., 20500., 53200., 18100., 25300., 59500., 18200., 50400.,\n",
       "       21100., 20900., 27400., 17300., 60700., 70600., 17700., 19700.,\n",
       "       49200., 63100., 59200., 14700., 53100., 21800., 68000., 16500.,\n",
       "       71400., 10000., 55500., 54100., 56400., 20600., 66300., 18800.,\n",
       "       11000., 66100., 27100., 57800., 53500., 19200., 58500., 64000.,\n",
       "       63600., 23600., 25200., 19100., 18600., 57700., 62700., 56600.,\n",
       "       21400., 58800., 68400., 17100., 13300., 68500., 56900., 64400.,\n",
       "       27600., 67200., 16200., 58600., 62200., 16000., 79000., 22300.,\n",
       "       11200., 71600., 61300., 70500., 67100., 59000., 13500., 16700.,\n",
       "       15700., 60000., 17400., 63400., 61900., 65200., 62600., 14100.,\n",
       "       20100., 63800., 15100., 70000., 60200., 20300., 65900., 15200.,\n",
       "       63500., 13200., 68900., 12200.,  6000., 74800., 59700., 10800.,\n",
       "       19000., 10600., 69400., 15000., 75200., 62500., 16300., 20800.,\n",
       "        7400., 65300., 61400., 56800.])"
      ]
     },
     "execution_count": 10,
     "metadata": {},
     "output_type": "execute_result"
    }
   ],
   "source": [
    "data['Зарплата'].unique() # Проверяем уникальные значения"
   ]
  },
  {
   "cell_type": "markdown",
   "metadata": {},
   "source": [
    "В столбце **Возраст** находятся только целочисленные значения. Меняем тип данных для этого столбца."
   ]
  },
  {
   "cell_type": "code",
   "execution_count": 11,
   "metadata": {},
   "outputs": [],
   "source": [
    "data['Возраст'] = data['Возраст'].astype('int')"
   ]
  },
  {
   "cell_type": "markdown",
   "metadata": {},
   "source": [
    "Зарплата в данной выборке в тысячах. Причем, все числа заканчиваются на \"00\". Если размерность не изменится, то вряд ли начнут людям платить зарплату с копейками...\n",
    "    \n",
    "float понадобится, если размер зарплаты начнут записывать в тыс. рублей.\n",
    "На всякий случай, float в этом столбце оставила."
   ]
  },
  {
   "cell_type": "code",
   "execution_count": 12,
   "metadata": {
    "scrolled": false
   },
   "outputs": [
    {
     "name": "stdout",
     "output_type": "stream",
     "text": [
      "<class 'pandas.core.frame.DataFrame'>\n",
      "RangeIndex: 5000 entries, 0 to 4999\n",
      "Data columns (total 5 columns):\n",
      " #   Column             Non-Null Count  Dtype  \n",
      "---  ------             --------------  -----  \n",
      " 0   Пол                5000 non-null   int64  \n",
      " 1   Возраст            5000 non-null   int64  \n",
      " 2   Зарплата           5000 non-null   float64\n",
      " 3   Члены семьи        5000 non-null   int64  \n",
      " 4   Страховые выплаты  5000 non-null   int64  \n",
      "dtypes: float64(1), int64(4)\n",
      "memory usage: 195.4 KB\n"
     ]
    }
   ],
   "source": [
    "#Выводим первые 5 строчек датафрейма на экран.\n",
    "data.info() #Выводим основную информацию о датафрейме."
   ]
  },
  {
   "cell_type": "code",
   "execution_count": 13,
   "metadata": {},
   "outputs": [
    {
     "name": "stdout",
     "output_type": "stream",
     "text": [
      "interval columns not set, guessing: ['Пол', 'Возраст', 'Зарплата', 'Члены семьи', 'Страховые выплаты']\n"
     ]
    },
    {
     "data": {
      "image/png": "[encoded data removed]",
      "text/plain": [
       "<Figure size 432x288 with 2 Axes>"
      ]
     },
     "metadata": {
      "needs_background": "light"
     },
     "output_type": "display_data"
    }
   ],
   "source": [
    "sns.heatmap(data.phik_matrix(), annot = True, fmt='.4g', cmap= 'jet');\n"
   ]
  },
  {
   "cell_type": "markdown",
   "metadata": {},
   "source": [
    "**Вывод:**\n",
    "\n",
    "Метод **phik_matrix** показал, что зависимость страховых выплат от возраста **89%**.\n"
   ]
  },
  {
   "cell_type": "markdown",
   "metadata": {},
   "source": [
    "**Вывод:**\n",
    "\n",
    "В выборке **data** пропусков нет. 153 полных дубликата. Типы данных в столбце **Возраст** заменен на **int**.\n",
    "\n",
    "Значительная корреляция наблюдается только между Страховыми выплатами (целевой признак) и Возрастом клиентов. "
   ]
  },
  {
   "cell_type": "markdown",
   "metadata": {},
   "source": [
    "## Умножение матриц"
   ]
  },
  {
   "cell_type": "markdown",
   "metadata": {},
   "source": [
    "### Признаки умножают на обратимую матрицу. Изменится ли качество линейной регрессии? (Её можно обучить заново.)"
   ]
  },
  {
   "cell_type": "markdown",
   "metadata": {},
   "source": [
    "Целевой признак - **Страховые выплаты**. Разделим данные для построения модели."
   ]
  },
  {
   "cell_type": "markdown",
   "metadata": {},
   "source": [
    "Обозначения:\n",
    "\n",
    "- $X$ — матрица признаков (нулевой столбец состоит из единиц)\n",
    "\n",
    "- $y$ — вектор целевого признака\n",
    "\n",
    "- $P$ — матрица, на которую умножаются признаки\n",
    "\n",
    "- $w$ — вектор весов линейной регрессии (нулевой элемент равен сдвигу)"
   ]
  },
  {
   "cell_type": "markdown",
   "metadata": {},
   "source": [
    "Предсказания:\n",
    "\n",
    "$$\n",
    "a = Xw\n",
    "$$\n",
    "\n",
    "Задача обучения:\n",
    "\n",
    "$$\n",
    "w = \\arg\\min_w MSE(Xw, y)\n",
    "$$\n",
    "\n",
    "Формула обучения:\n",
    "\n",
    "$$\n",
    "w = (X^T X)^{-1} X^T y\n",
    "$$"
   ]
  },
  {
   "cell_type": "markdown",
   "metadata": {},
   "source": [
    "**Ответ:** Качество модели не изменится\n",
    "\n",
    "**Обоснование:** \n",
    "\n",
    "$P$ - обратимая матрица, на которую умножаются признаки.\n",
    "\n",
    "Значит искомая матрица $X_1$ будет: \n",
    "$$                                   \n",
    "X_1 = X*P\n",
    "$$\n",
    "Подставим новое значение в формулу обучения:\n",
    "$$\n",
    "w_1 = (X_1^T X_1)^{-1} X_1^T y = ((X*P)^T (X*P))^{-1} (X*P)^T y\n",
    "$$\n",
    "        \n",
    "$$\n",
    "w_1 = ([P^TX^T]*XP)^{-1}*P^T* X^T * y\n",
    "$$\n",
    "        \n",
    "$$\n",
    "w_1 = ([P^TX^TX]*P)^{-1}*P^T* X^T * y\n",
    "$$\n",
    "        \n",
    "$$\n",
    "w_1 = P^{-1}*[P^T(X^T*X)]^{-1}*P^T* X^T * y\n",
    "$$\n",
    "        \n",
    "$$\n",
    "w_1 = P^{-1}*[X^T*X]^{-1}*[P^T]^{-1}*P^T* X^T * y\n",
    "$$\n",
    "    \n",
    "$$\n",
    "a_1 = XPP^{-1}*[X^T*X]^{-1}*[P^T]^{-1}*P^T* X^T * y\n",
    "$$\n",
    "\n",
    "По условию матрица $P$ обратимая, следовательно, произведение $(P^T)^{-1}*P^T = E$ и $P*P^{-1} = E$\n",
    "\n",
    "    \n",
    "$$\n",
    "a_1 = X*E*[X^T*X]^{-1}*E* X^T * y = X*[X^T*X]^{-1}* X^T * y \n",
    "$$\n",
    "\n",
    "\n",
    "$w = (X^T X)^{-1} X^T y$    Поэтому получили:\n",
    "\n",
    "    \n",
    "$$\n",
    "a_1 = X*w = a\n",
    "$$\n"
   ]
  },
  {
   "cell_type": "markdown",
   "metadata": {},
   "source": [
    "**Вывод:**\n",
    "\n",
    "Так как при умножении признаков на обратимую матрицу мы получили, что $ a_1 = a $, т.е. предсказания модели не изменятся, соответственно и качество модели не изменится."
   ]
  },
  {
   "cell_type": "markdown",
   "metadata": {},
   "source": [
    "## Алгоритм преобразования"
   ]
  },
  {
   "cell_type": "markdown",
   "metadata": {},
   "source": [
    "**Алгоритм**"
   ]
  },
  {
   "cell_type": "markdown",
   "metadata": {},
   "source": [
    "Для защиты данных будем преобразовывать признаки, умножая их на обратимую матрицу (на качество модели это никак не скажется, доказали в предыдущем разделе):\n",
    "\n",
    "1. Создадим обратимую матрицу 4х4 (по количеству признаков)\n",
    "2. Проверим обратимость созданной матрицы\n",
    "3. Произведём умножение матрицы признаков на обратимую матрицу. \n",
    "4. Разделим данные на признаки и целевой признак.\n",
    "5. Сравним расчет Линейной регрессии по формулам и через библиотеку sklearn\n",
    "6. Напишем функцию, вычисляющую R2.\n",
    "7. Сравним метрики качества для исходных и зашифрованных данных"
   ]
  },
  {
   "cell_type": "markdown",
   "metadata": {},
   "source": [
    "**Обоснование**\n",
    "\n",
    "В предыдущем разделе проверили теорию, что если признаки умножают на обратимую матрицу, то качество линейной регрессии не меняется. Поэтому рассматриваем такой вид шифрования данных."
   ]
  },
  {
   "cell_type": "markdown",
   "metadata": {},
   "source": [
    "## Проверка алгоритма"
   ]
  },
  {
   "cell_type": "markdown",
   "metadata": {},
   "source": [
    "### Создадим обратимую матрицу P"
   ]
  },
  {
   "cell_type": "code",
   "execution_count": 14,
   "metadata": {},
   "outputs": [
    {
     "data": {
      "text/plain": [
       "array([[ 29, 252,  14, 285],\n",
       "       [ 19, 470,  12, 325],\n",
       "       [ 94, 161, 307, 165],\n",
       "       [201, 322,  73, 290]])"
      ]
     },
     "execution_count": 14,
     "metadata": {},
     "output_type": "execute_result"
    }
   ],
   "source": [
    "P = np.random.randint(1,500,(4,4))  # Случайная матрица\n",
    "P"
   ]
  },
  {
   "cell_type": "markdown",
   "metadata": {},
   "source": [
    "### Проверим обратимость"
   ]
  },
  {
   "cell_type": "code",
   "execution_count": 15,
   "metadata": {},
   "outputs": [
    {
     "data": {
      "text/plain": [
       "array([[-3.17576046e-03, -2.12987351e-03, -1.25085923e-03,\n",
       "         6.21962894e-03],\n",
       "       [-6.50576429e-03,  5.31752649e-03, -1.67006462e-05,\n",
       "         4.43801103e-04],\n",
       "       [-7.87815646e-04,  2.81457005e-04,  3.66962556e-03,\n",
       "        -1.62908374e-03],\n",
       "       [ 9.62308447e-03, -4.49891488e-03, -3.82150081e-05,\n",
       "        -9.45262965e-04]])"
      ]
     },
     "execution_count": 15,
     "metadata": {},
     "output_type": "execute_result"
    }
   ],
   "source": [
    "# матрица обратима, если существует ее обратная матрица\n",
    "np.linalg.inv(P)"
   ]
  },
  {
   "cell_type": "markdown",
   "metadata": {},
   "source": [
    "Матрица $P$ обратима. Будем ее использовать для дальнейших исследований."
   ]
  },
  {
   "cell_type": "markdown",
   "metadata": {},
   "source": [
    "### Разделим данные на тренировочную выборку и целевой признак"
   ]
  },
  {
   "cell_type": "code",
   "execution_count": 16,
   "metadata": {},
   "outputs": [],
   "source": [
    "# Разделим данные на тренировочную выборку и целевой признак\n",
    "features = data.drop('Страховые выплаты', axis=1)\n",
    "target = data['Страховые выплаты']"
   ]
  },
  {
   "cell_type": "markdown",
   "metadata": {},
   "source": [
    "### Сравним расчет Линейной регрессии по формулам и через библиотеку sklearn"
   ]
  },
  {
   "cell_type": "code",
   "execution_count": 17,
   "metadata": {},
   "outputs": [
    {
     "name": "stdout",
     "output_type": "stream",
     "text": [
      "Коэффициенты рассчитанные по формуле:\n",
      "[ 7.92580543e-03  3.57083050e-02 -1.70080492e-07 -1.35676623e-02]\n",
      "-0.9382355041524771\n",
      "\n",
      "Коэффициенты рассчитанные с использованием библиотеки sklearn:\n",
      "[ 7.92580543e-03  3.57083050e-02 -1.70080492e-07 -1.35676623e-02]\n",
      "-0.9382355041528408\n"
     ]
    }
   ],
   "source": [
    "# Расчет по формуле\n",
    "X = np.concatenate((np.ones((features.shape[0], 1)), features), axis=1)\n",
    "y = target\n",
    "w = (np.linalg.inv(X.T.dot(X))).dot(X.T).dot(y) # вектор весов линейной регрессии (нулевой элемент равен сдвигу)\n",
    "print(\"Коэффициенты рассчитанные по формуле:\")\n",
    "print(w[1:])\n",
    "print(w[0])\n",
    "\n",
    "# Расчет через sklearn\n",
    "model = LinearRegression()\n",
    "model.fit(features, target)\n",
    "print()\n",
    "print(\"Коэффициенты рассчитанные с использованием библиотеки sklearn:\")\n",
    "print(model.coef_)\n",
    "print(model.intercept_)"
   ]
  },
  {
   "cell_type": "markdown",
   "metadata": {},
   "source": [
    "**Вывод:**\n",
    "\n",
    "Коэффициенты Линейной регрессии совпадают."
   ]
  },
  {
   "cell_type": "markdown",
   "metadata": {},
   "source": [
    "### Функция для модели Линейной регрессии"
   ]
  },
  {
   "cell_type": "code",
   "execution_count": 18,
   "metadata": {},
   "outputs": [],
   "source": [
    "def linear_regression(features, target):\n",
    "    # Разделим на тренировочную и тестовую выборку в соотношении 75% к 25%\n",
    "    features_train, features_test, target_train, target_test = train_test_split(features,target, test_size=0.25, random_state=2023)\n",
    "    \n",
    "    # Проверяем сколько строк и столбцов в полученных датасетах\n",
    "    print('Размер тестовой выборки - {:.0%}'.format(features_train.shape[0] / features.shape[0]))\n",
    "    print('Размер тренировочной выборки- {:.0%}'.format(features_test.shape[0] / features.shape[0]))\n",
    "    \n",
    "    model = LinearRegression()\n",
    "    model.fit(features_train, target_train)\n",
    "    predictions = model.predict(features_test)\n",
    "    print(\"R2:\", r2_score(target_test, predictions))"
   ]
  },
  {
   "cell_type": "markdown",
   "metadata": {},
   "source": [
    "### R2 для исходных данных"
   ]
  },
  {
   "cell_type": "code",
   "execution_count": 19,
   "metadata": {},
   "outputs": [
    {
     "name": "stdout",
     "output_type": "stream",
     "text": [
      "Размер тестовой выборки - 75%\n",
      "Размер тренировочной выборки- 25%\n",
      "R2: 0.3899836476051658\n"
     ]
    }
   ],
   "source": [
    "linear_regression(features, target)"
   ]
  },
  {
   "cell_type": "markdown",
   "metadata": {},
   "source": [
    "### R2 для зашифрованных данных"
   ]
  },
  {
   "cell_type": "code",
   "execution_count": 20,
   "metadata": {},
   "outputs": [],
   "source": [
    "# Шифрование данных с помощью матрицы P\n",
    "features_transformed = features @ P"
   ]
  },
  {
   "cell_type": "code",
   "execution_count": 21,
   "metadata": {
    "scrolled": true
   },
   "outputs": [
    {
     "name": "stdout",
     "output_type": "stream",
     "text": [
      "Размер тестовой выборки - 75%\n",
      "Размер тренировочной выборки- 25%\n",
      "R2: 0.38998364760516335\n"
     ]
    }
   ],
   "source": [
    "linear_regression(features_transformed, target)"
   ]
  },
  {
   "cell_type": "markdown",
   "metadata": {},
   "source": [
    "**Вывод:**\n",
    "\n",
    "Метрика качества R2 практически совпала. Значит, что кодирование с помощью умножения признаков на обратимую матрицу не изменяет качество модели."
   ]
  },
  {
   "cell_type": "markdown",
   "metadata": {},
   "source": [
    "## Итоговый вывод"
   ]
  },
  {
   "cell_type": "markdown",
   "metadata": {},
   "source": [
    "В результате исследования данных было выявлено, что в датасете 5 столбцов и 5000 строк.В выборке есть 153 полных дубликата. Пропущенных значений не было.\n",
    "\n",
    "В столбце **Возраст**  находятся только целочисленные значения, тип данных изменили. Значительная корреляция наблюдается только между Страховыми выплатами (целевой признак) и Возрастом клиентов.\n",
    "\n",
    "При умножении признаков на обратимую матрицу качество линейной регрессии не изменяется. Во втором разделе это доказали.\n",
    "\n",
    "Подготовили алгоритм для преобразования признаков.\n",
    "\n",
    "В результате проверки алгоритма на исследуемых данных была подобрана случайным образом обратимая матрица $P$ для шифрования данных. Полученные метрики качества отличаются незначительно, что доказывает правильность работы алгоритма.\n"
   ]
  },
  {
   "cell_type": "markdown",
   "metadata": {},
   "source": [
    "## Чек-лист проверки"
   ]
  },
  {
   "cell_type": "markdown",
   "metadata": {},
   "source": [
    "Поставьте 'x' в выполненных пунктах. Далее нажмите Shift+Enter."
   ]
  },
  {
   "cell_type": "markdown",
   "metadata": {},
   "source": [
    "- [x]  Jupyter Notebook открыт\n",
    "- [x]  Весь код выполняется без ошибок\n",
    "- [x]  Ячейки с кодом расположены в порядке исполнения\n",
    "- [x]  Выполнен шаг 1: данные загружены\n",
    "- [x]  Выполнен шаг 2: получен ответ на вопрос об умножении матриц\n",
    "    - [x]  Указан правильный вариант ответа\n",
    "    - [x]  Вариант обоснован\n",
    "- [x]  Выполнен шаг 3: предложен алгоритм преобразования\n",
    "    - [x]  Алгоритм описан\n",
    "    - [x]  Алгоритм обоснован\n",
    "- [x]  Выполнен шаг 4: алгоритм проверен\n",
    "    - [x]  Алгоритм реализован\n",
    "    - [x]  Проведено сравнение качества моделей до и после преобразования"
   ]
  }
 ],
 "metadata": {
  "ExecuteTimeLog": [
   {
    "duration": 1307,
    "start_time": "2023-05-31T10:05:38.914Z"
   },
   {
    "duration": 138,
    "start_time": "2023-05-31T10:16:41.458Z"
   },
   {
    "duration": 9,
    "start_time": "2023-05-31T10:16:57.017Z"
   },
   {
    "duration": 100,
    "start_time": "2023-05-31T10:16:57.442Z"
   },
   {
    "duration": 19,
    "start_time": "2023-05-31T10:20:18.547Z"
   },
   {
    "duration": 11,
    "start_time": "2023-05-31T10:20:41.156Z"
   },
   {
    "duration": 606,
    "start_time": "2023-05-31T10:28:02.545Z"
   },
   {
    "duration": 9,
    "start_time": "2023-05-31T10:47:18.580Z"
   },
   {
    "duration": 6,
    "start_time": "2023-05-31T10:49:13.245Z"
   },
   {
    "duration": 12,
    "start_time": "2023-05-31T10:50:13.342Z"
   },
   {
    "duration": 1257,
    "start_time": "2023-05-31T10:52:30.741Z"
   },
   {
    "duration": 51,
    "start_time": "2023-05-31T10:52:32.000Z"
   },
   {
    "duration": 29,
    "start_time": "2023-05-31T10:52:32.053Z"
   },
   {
    "duration": 26,
    "start_time": "2023-05-31T10:52:32.084Z"
   },
   {
    "duration": 380,
    "start_time": "2023-05-31T10:52:32.113Z"
   },
   {
    "duration": 7,
    "start_time": "2023-05-31T10:52:32.496Z"
   },
   {
    "duration": 30,
    "start_time": "2023-05-31T10:52:32.505Z"
   },
   {
    "duration": 29,
    "start_time": "2023-05-31T10:52:32.540Z"
   },
   {
    "duration": 14,
    "start_time": "2023-05-31T10:52:32.571Z"
   },
   {
    "duration": 7,
    "start_time": "2023-05-31T11:02:44.347Z"
   },
   {
    "duration": 12,
    "start_time": "2023-05-31T11:02:59.050Z"
   },
   {
    "duration": 6,
    "start_time": "2023-05-31T11:03:54.391Z"
   },
   {
    "duration": 5,
    "start_time": "2023-05-31T11:04:03.755Z"
   },
   {
    "duration": 8,
    "start_time": "2023-05-31T11:04:09.199Z"
   },
   {
    "duration": 11,
    "start_time": "2023-05-31T11:04:43.061Z"
   },
   {
    "duration": 44,
    "start_time": "2023-05-31T11:10:45.196Z"
   },
   {
    "duration": 13,
    "start_time": "2023-05-31T11:11:37.364Z"
   },
   {
    "duration": 4,
    "start_time": "2023-05-31T14:56:04.913Z"
   },
   {
    "duration": 1281,
    "start_time": "2023-06-02T07:36:27.313Z"
   },
   {
    "duration": 98,
    "start_time": "2023-06-02T07:36:28.596Z"
   },
   {
    "duration": 21,
    "start_time": "2023-06-02T07:36:28.709Z"
   },
   {
    "duration": 11,
    "start_time": "2023-06-02T07:36:28.732Z"
   },
   {
    "duration": 549,
    "start_time": "2023-06-02T07:36:28.745Z"
   },
   {
    "duration": 8,
    "start_time": "2023-06-02T07:36:29.298Z"
   },
   {
    "duration": 11,
    "start_time": "2023-06-02T07:36:29.316Z"
   },
   {
    "duration": 11,
    "start_time": "2023-06-02T07:36:29.328Z"
   },
   {
    "duration": 28,
    "start_time": "2023-06-02T07:36:29.340Z"
   },
   {
    "duration": 10,
    "start_time": "2023-06-02T07:36:29.370Z"
   },
   {
    "duration": 48,
    "start_time": "2023-06-02T07:36:29.381Z"
   },
   {
    "duration": 20,
    "start_time": "2023-06-02T07:36:29.431Z"
   },
   {
    "duration": 155,
    "start_time": "2023-06-02T07:37:55.251Z"
   },
   {
    "duration": 66,
    "start_time": "2023-06-02T07:38:17.365Z"
   },
   {
    "duration": 407,
    "start_time": "2023-06-02T07:38:24.453Z"
   },
   {
    "duration": 358,
    "start_time": "2023-06-02T07:38:55.911Z"
   },
   {
    "duration": 426,
    "start_time": "2023-06-02T07:43:11.253Z"
   },
   {
    "duration": 391,
    "start_time": "2023-06-02T07:43:31.953Z"
   },
   {
    "duration": 385,
    "start_time": "2023-06-02T07:43:55.448Z"
   },
   {
    "duration": 344,
    "start_time": "2023-06-02T07:45:14.903Z"
   },
   {
    "duration": 101,
    "start_time": "2023-06-02T07:45:24.350Z"
   },
   {
    "duration": 324,
    "start_time": "2023-06-02T07:45:30.452Z"
   },
   {
    "duration": 5,
    "start_time": "2023-06-02T15:24:42.027Z"
   },
   {
    "duration": 14,
    "start_time": "2023-06-02T15:37:28.939Z"
   },
   {
    "duration": 16,
    "start_time": "2023-06-02T15:38:16.620Z"
   },
   {
    "duration": 8,
    "start_time": "2023-06-02T15:46:45.363Z"
   },
   {
    "duration": 9,
    "start_time": "2023-06-02T15:47:52.956Z"
   },
   {
    "duration": 9,
    "start_time": "2023-06-02T16:01:16.697Z"
   },
   {
    "duration": 13,
    "start_time": "2023-06-02T16:01:56.056Z"
   },
   {
    "duration": 4,
    "start_time": "2023-06-02T16:02:08.278Z"
   },
   {
    "duration": 3,
    "start_time": "2023-06-02T16:17:04.424Z"
   },
   {
    "duration": 3,
    "start_time": "2023-06-02T16:17:09.942Z"
   },
   {
    "duration": 4,
    "start_time": "2023-06-02T16:18:24.979Z"
   },
   {
    "duration": 4,
    "start_time": "2023-06-02T16:26:16.499Z"
   },
   {
    "duration": 4,
    "start_time": "2023-06-02T16:26:17.910Z"
   },
   {
    "duration": 4,
    "start_time": "2023-06-02T16:28:30.184Z"
   },
   {
    "duration": 5,
    "start_time": "2023-06-02T16:31:05.199Z"
   },
   {
    "duration": 4,
    "start_time": "2023-06-02T16:34:30.444Z"
   },
   {
    "duration": 16,
    "start_time": "2023-06-02T16:34:35.129Z"
   },
   {
    "duration": 4,
    "start_time": "2023-06-02T16:35:27.218Z"
   },
   {
    "duration": 4,
    "start_time": "2023-06-02T16:37:34.466Z"
   },
   {
    "duration": 5,
    "start_time": "2023-06-02T16:37:53.320Z"
   },
   {
    "duration": 5,
    "start_time": "2023-06-02T16:39:05.354Z"
   },
   {
    "duration": 4,
    "start_time": "2023-06-02T16:39:22.420Z"
   },
   {
    "duration": 4,
    "start_time": "2023-06-02T16:46:40.057Z"
   },
   {
    "duration": 5,
    "start_time": "2023-06-02T16:46:40.504Z"
   },
   {
    "duration": 4,
    "start_time": "2023-06-02T16:46:41.064Z"
   },
   {
    "duration": 9,
    "start_time": "2023-06-02T16:46:41.956Z"
   },
   {
    "duration": 13,
    "start_time": "2023-06-02T16:46:43.012Z"
   },
   {
    "duration": 5,
    "start_time": "2023-06-02T16:46:59.814Z"
   },
   {
    "duration": 3,
    "start_time": "2023-06-02T16:47:00.220Z"
   },
   {
    "duration": 9,
    "start_time": "2023-06-02T16:47:00.604Z"
   },
   {
    "duration": 8,
    "start_time": "2023-06-02T16:47:01.045Z"
   },
   {
    "duration": 11,
    "start_time": "2023-06-02T16:53:28.878Z"
   },
   {
    "duration": 3,
    "start_time": "2023-06-02T16:55:48.353Z"
   },
   {
    "duration": 1634,
    "start_time": "2023-06-02T18:46:37.403Z"
   },
   {
    "duration": 104,
    "start_time": "2023-06-02T18:46:39.040Z"
   },
   {
    "duration": 15,
    "start_time": "2023-06-02T18:46:39.146Z"
   },
   {
    "duration": 16,
    "start_time": "2023-06-02T18:46:39.164Z"
   },
   {
    "duration": 76,
    "start_time": "2023-06-02T18:46:39.182Z"
   },
   {
    "duration": 8,
    "start_time": "2023-06-02T18:46:39.260Z"
   },
   {
    "duration": 6,
    "start_time": "2023-06-02T18:46:39.270Z"
   },
   {
    "duration": 6,
    "start_time": "2023-06-02T18:46:39.278Z"
   },
   {
    "duration": 12,
    "start_time": "2023-06-02T18:46:39.286Z"
   },
   {
    "duration": 5,
    "start_time": "2023-06-02T18:46:39.301Z"
   },
   {
    "duration": 50,
    "start_time": "2023-06-02T18:46:39.308Z"
   },
   {
    "duration": 454,
    "start_time": "2023-06-02T18:46:39.360Z"
   },
   {
    "duration": 5,
    "start_time": "2023-06-02T18:46:39.816Z"
   },
   {
    "duration": 35,
    "start_time": "2023-06-02T18:46:39.822Z"
   },
   {
    "duration": 7,
    "start_time": "2023-06-02T18:46:39.860Z"
   },
   {
    "duration": 88,
    "start_time": "2023-06-02T18:46:39.869Z"
   },
   {
    "duration": 7,
    "start_time": "2023-06-02T18:46:39.959Z"
   },
   {
    "duration": 5,
    "start_time": "2023-06-02T18:46:39.967Z"
   },
   {
    "duration": 83,
    "start_time": "2023-06-02T18:46:39.974Z"
   },
   {
    "duration": 97,
    "start_time": "2023-06-02T18:46:40.059Z"
   },
   {
    "duration": 14,
    "start_time": "2023-06-02T18:46:40.159Z"
   },
   {
    "duration": 5,
    "start_time": "2023-06-02T18:47:21.491Z"
   },
   {
    "duration": 3,
    "start_time": "2023-06-02T19:05:24.653Z"
   },
   {
    "duration": 5,
    "start_time": "2023-06-02T19:10:08.734Z"
   },
   {
    "duration": 14,
    "start_time": "2023-06-02T19:11:08.367Z"
   },
   {
    "duration": 10,
    "start_time": "2023-06-02T19:11:44.175Z"
   },
   {
    "duration": 1426,
    "start_time": "2023-06-02T19:15:33.097Z"
   },
   {
    "duration": 30,
    "start_time": "2023-06-02T19:15:34.525Z"
   },
   {
    "duration": 12,
    "start_time": "2023-06-02T19:15:34.572Z"
   },
   {
    "duration": 12,
    "start_time": "2023-06-02T19:15:34.585Z"
   },
   {
    "duration": 62,
    "start_time": "2023-06-02T19:15:34.598Z"
   },
   {
    "duration": 7,
    "start_time": "2023-06-02T19:15:34.670Z"
   },
   {
    "duration": 6,
    "start_time": "2023-06-02T19:15:34.678Z"
   },
   {
    "duration": 6,
    "start_time": "2023-06-02T19:15:34.685Z"
   },
   {
    "duration": 7,
    "start_time": "2023-06-02T19:15:34.693Z"
   },
   {
    "duration": 5,
    "start_time": "2023-06-02T19:15:34.702Z"
   },
   {
    "duration": 14,
    "start_time": "2023-06-02T19:15:34.709Z"
   },
   {
    "duration": 413,
    "start_time": "2023-06-02T19:15:34.724Z"
   },
   {
    "duration": 6,
    "start_time": "2023-06-02T19:15:35.138Z"
   },
   {
    "duration": 27,
    "start_time": "2023-06-02T19:15:35.146Z"
   },
   {
    "duration": 9,
    "start_time": "2023-06-02T19:15:35.174Z"
   },
   {
    "duration": 87,
    "start_time": "2023-06-02T19:15:35.185Z"
   },
   {
    "duration": 9,
    "start_time": "2023-06-02T19:15:35.278Z"
   },
   {
    "duration": 13,
    "start_time": "2023-06-02T19:15:35.357Z"
   },
   {
    "duration": 12,
    "start_time": "2023-06-02T19:15:35.375Z"
   },
   {
    "duration": 15,
    "start_time": "2023-06-02T19:15:35.388Z"
   },
   {
    "duration": 1450,
    "start_time": "2023-06-03T11:12:10.927Z"
   },
   {
    "duration": 86,
    "start_time": "2023-06-03T11:12:12.379Z"
   },
   {
    "duration": 11,
    "start_time": "2023-06-03T11:12:12.467Z"
   },
   {
    "duration": 17,
    "start_time": "2023-06-03T11:12:12.480Z"
   },
   {
    "duration": 42,
    "start_time": "2023-06-03T11:12:12.498Z"
   },
   {
    "duration": 5,
    "start_time": "2023-06-03T11:12:12.542Z"
   },
   {
    "duration": 4,
    "start_time": "2023-06-03T11:12:12.548Z"
   },
   {
    "duration": 4,
    "start_time": "2023-06-03T11:12:12.553Z"
   },
   {
    "duration": 11,
    "start_time": "2023-06-03T11:12:12.558Z"
   },
   {
    "duration": 6,
    "start_time": "2023-06-03T11:12:12.571Z"
   },
   {
    "duration": 10,
    "start_time": "2023-06-03T11:12:12.578Z"
   },
   {
    "duration": 380,
    "start_time": "2023-06-03T11:12:12.606Z"
   },
   {
    "duration": 4,
    "start_time": "2023-06-03T11:12:12.987Z"
   },
   {
    "duration": 15,
    "start_time": "2023-06-03T11:12:12.992Z"
   },
   {
    "duration": 15,
    "start_time": "2023-06-03T11:12:13.009Z"
   },
   {
    "duration": 88,
    "start_time": "2023-06-03T11:12:13.025Z"
   },
   {
    "duration": 93,
    "start_time": "2023-06-03T11:12:13.114Z"
   },
   {
    "duration": 105,
    "start_time": "2023-06-03T11:12:13.208Z"
   },
   {
    "duration": 2,
    "start_time": "2023-06-03T11:12:13.315Z"
   },
   {
    "duration": 9,
    "start_time": "2023-06-03T11:12:13.319Z"
   },
   {
    "duration": 6,
    "start_time": "2023-06-03T11:12:26.504Z"
   },
   {
    "duration": 1312,
    "start_time": "2023-06-03T11:13:29.013Z"
   },
   {
    "duration": 30,
    "start_time": "2023-06-03T11:13:30.327Z"
   },
   {
    "duration": 12,
    "start_time": "2023-06-03T11:13:31.080Z"
   },
   {
    "duration": 11,
    "start_time": "2023-06-03T11:13:31.952Z"
   },
   {
    "duration": 44,
    "start_time": "2023-06-03T11:13:33.031Z"
   },
   {
    "duration": 7,
    "start_time": "2023-06-03T11:13:36.098Z"
   },
   {
    "duration": 7,
    "start_time": "2023-06-03T11:13:36.969Z"
   },
   {
    "duration": 12,
    "start_time": "2023-06-03T11:14:58.748Z"
   },
   {
    "duration": 13,
    "start_time": "2023-06-03T12:29:05.125Z"
   },
   {
    "duration": 13,
    "start_time": "2023-06-03T12:29:32.758Z"
   },
   {
    "duration": 1299,
    "start_time": "2023-06-03T12:34:19.105Z"
   },
   {
    "duration": 29,
    "start_time": "2023-06-03T12:34:20.406Z"
   },
   {
    "duration": 11,
    "start_time": "2023-06-03T12:34:20.436Z"
   },
   {
    "duration": 20,
    "start_time": "2023-06-03T12:34:20.448Z"
   },
   {
    "duration": 43,
    "start_time": "2023-06-03T12:34:20.470Z"
   },
   {
    "duration": 4,
    "start_time": "2023-06-03T12:34:20.515Z"
   },
   {
    "duration": 19,
    "start_time": "2023-06-03T12:34:20.521Z"
   },
   {
    "duration": 16,
    "start_time": "2023-06-03T12:34:20.541Z"
   },
   {
    "duration": 11,
    "start_time": "2023-06-03T12:34:20.558Z"
   },
   {
    "duration": 8,
    "start_time": "2023-06-03T12:34:20.570Z"
   },
   {
    "duration": 30,
    "start_time": "2023-06-03T12:34:20.579Z"
   },
   {
    "duration": 330,
    "start_time": "2023-06-03T12:34:20.610Z"
   },
   {
    "duration": 4,
    "start_time": "2023-06-03T12:34:20.942Z"
   },
   {
    "duration": 7,
    "start_time": "2023-06-03T12:34:20.948Z"
   },
   {
    "duration": 50,
    "start_time": "2023-06-03T12:34:20.956Z"
   },
   {
    "duration": 11,
    "start_time": "2023-06-03T12:34:21.008Z"
   },
   {
    "duration": 88,
    "start_time": "2023-06-03T12:34:21.020Z"
   },
   {
    "duration": 96,
    "start_time": "2023-06-03T12:34:21.110Z"
   },
   {
    "duration": 3,
    "start_time": "2023-06-03T12:34:21.208Z"
   },
   {
    "duration": 38,
    "start_time": "2023-06-03T12:34:21.212Z"
   },
   {
    "duration": 4,
    "start_time": "2023-06-03T12:39:54.328Z"
   },
   {
    "duration": 1883,
    "start_time": "2023-06-03T12:40:35.639Z"
   },
   {
    "duration": 4,
    "start_time": "2023-06-03T12:40:41.977Z"
   },
   {
    "duration": 8,
    "start_time": "2023-06-03T12:51:33.297Z"
   },
   {
    "duration": 1333,
    "start_time": "2023-06-03T12:54:11.286Z"
   },
   {
    "duration": 29,
    "start_time": "2023-06-03T12:54:12.621Z"
   },
   {
    "duration": 10,
    "start_time": "2023-06-03T12:54:12.651Z"
   },
   {
    "duration": 12,
    "start_time": "2023-06-03T12:54:12.663Z"
   },
   {
    "duration": 44,
    "start_time": "2023-06-03T12:54:12.677Z"
   },
   {
    "duration": 5,
    "start_time": "2023-06-03T12:54:12.722Z"
   },
   {
    "duration": 17,
    "start_time": "2023-06-03T12:54:12.729Z"
   },
   {
    "duration": 13,
    "start_time": "2023-06-03T12:54:12.747Z"
   },
   {
    "duration": 5,
    "start_time": "2023-06-03T12:54:12.762Z"
   },
   {
    "duration": 16,
    "start_time": "2023-06-03T12:54:12.768Z"
   },
   {
    "duration": 4,
    "start_time": "2023-06-03T12:54:12.785Z"
   },
   {
    "duration": 17,
    "start_time": "2023-06-03T12:54:12.790Z"
   },
   {
    "duration": 337,
    "start_time": "2023-06-03T12:54:12.808Z"
   },
   {
    "duration": 100,
    "start_time": "2023-06-03T12:54:13.146Z"
   },
   {
    "duration": 0,
    "start_time": "2023-06-03T12:54:13.247Z"
   },
   {
    "duration": 0,
    "start_time": "2023-06-03T12:54:13.248Z"
   },
   {
    "duration": 0,
    "start_time": "2023-06-03T12:54:13.249Z"
   },
   {
    "duration": 0,
    "start_time": "2023-06-03T12:54:13.250Z"
   },
   {
    "duration": 0,
    "start_time": "2023-06-03T12:54:13.251Z"
   },
   {
    "duration": 0,
    "start_time": "2023-06-03T12:54:13.252Z"
   },
   {
    "duration": 0,
    "start_time": "2023-06-03T12:54:13.253Z"
   },
   {
    "duration": 0,
    "start_time": "2023-06-03T12:54:13.254Z"
   },
   {
    "duration": 0,
    "start_time": "2023-06-03T12:54:13.255Z"
   },
   {
    "duration": 2991,
    "start_time": "2023-06-03T12:54:58.010Z"
   },
   {
    "duration": 1243,
    "start_time": "2023-06-03T12:55:27.149Z"
   },
   {
    "duration": 29,
    "start_time": "2023-06-03T12:55:28.393Z"
   },
   {
    "duration": 11,
    "start_time": "2023-06-03T12:55:28.423Z"
   },
   {
    "duration": 10,
    "start_time": "2023-06-03T12:55:28.436Z"
   },
   {
    "duration": 45,
    "start_time": "2023-06-03T12:55:28.448Z"
   },
   {
    "duration": 12,
    "start_time": "2023-06-03T12:55:28.495Z"
   },
   {
    "duration": 13,
    "start_time": "2023-06-03T12:55:28.509Z"
   },
   {
    "duration": 5,
    "start_time": "2023-06-03T12:55:28.523Z"
   },
   {
    "duration": 6,
    "start_time": "2023-06-03T12:55:28.529Z"
   },
   {
    "duration": 7,
    "start_time": "2023-06-03T12:55:28.536Z"
   },
   {
    "duration": 4,
    "start_time": "2023-06-03T12:55:28.544Z"
   },
   {
    "duration": 14,
    "start_time": "2023-06-03T12:55:28.549Z"
   },
   {
    "duration": 377,
    "start_time": "2023-06-03T12:55:28.564Z"
   },
   {
    "duration": 2,
    "start_time": "2023-06-03T12:55:28.943Z"
   },
   {
    "duration": 93,
    "start_time": "2023-06-03T12:55:28.947Z"
   },
   {
    "duration": 4,
    "start_time": "2023-06-03T12:55:29.041Z"
   },
   {
    "duration": 16,
    "start_time": "2023-06-03T12:55:29.046Z"
   },
   {
    "duration": 43,
    "start_time": "2023-06-03T12:55:29.063Z"
   },
   {
    "duration": 17,
    "start_time": "2023-06-03T12:55:29.108Z"
   },
   {
    "duration": 5,
    "start_time": "2023-06-03T12:55:29.207Z"
   },
   {
    "duration": 99,
    "start_time": "2023-06-03T12:55:29.214Z"
   },
   {
    "duration": 2,
    "start_time": "2023-06-03T12:55:29.315Z"
   },
   {
    "duration": 18,
    "start_time": "2023-06-03T12:55:29.319Z"
   },
   {
    "duration": 382,
    "start_time": "2023-06-03T12:57:15.985Z"
   },
   {
    "duration": 447,
    "start_time": "2023-06-03T12:57:39.902Z"
   },
   {
    "duration": 443,
    "start_time": "2023-06-03T12:57:54.992Z"
   },
   {
    "duration": 1235,
    "start_time": "2023-06-03T12:58:27.263Z"
   },
   {
    "duration": 30,
    "start_time": "2023-06-03T12:58:28.499Z"
   },
   {
    "duration": 11,
    "start_time": "2023-06-03T12:58:28.530Z"
   },
   {
    "duration": 18,
    "start_time": "2023-06-03T12:58:28.542Z"
   },
   {
    "duration": 44,
    "start_time": "2023-06-03T12:58:28.561Z"
   },
   {
    "duration": 6,
    "start_time": "2023-06-03T12:58:28.606Z"
   },
   {
    "duration": 18,
    "start_time": "2023-06-03T12:58:28.613Z"
   },
   {
    "duration": 4,
    "start_time": "2023-06-03T12:58:28.632Z"
   },
   {
    "duration": 16,
    "start_time": "2023-06-03T12:58:28.638Z"
   },
   {
    "duration": 6,
    "start_time": "2023-06-03T12:58:28.657Z"
   },
   {
    "duration": 4,
    "start_time": "2023-06-03T12:58:28.665Z"
   },
   {
    "duration": 11,
    "start_time": "2023-06-03T12:58:28.670Z"
   },
   {
    "duration": 359,
    "start_time": "2023-06-03T12:58:28.682Z"
   },
   {
    "duration": 393,
    "start_time": "2023-06-03T12:58:29.043Z"
   },
   {
    "duration": 4,
    "start_time": "2023-06-03T12:58:29.438Z"
   },
   {
    "duration": 14,
    "start_time": "2023-06-03T12:58:29.443Z"
   },
   {
    "duration": 49,
    "start_time": "2023-06-03T12:58:29.458Z"
   },
   {
    "duration": 11,
    "start_time": "2023-06-03T12:58:29.508Z"
   },
   {
    "duration": 4,
    "start_time": "2023-06-03T12:58:29.521Z"
   },
   {
    "duration": 11,
    "start_time": "2023-06-03T12:58:29.606Z"
   },
   {
    "duration": 88,
    "start_time": "2023-06-03T12:58:29.618Z"
   },
   {
    "duration": 15,
    "start_time": "2023-06-03T12:58:29.708Z"
   },
   {
    "duration": 1302,
    "start_time": "2023-06-03T13:06:16.799Z"
   },
   {
    "duration": 29,
    "start_time": "2023-06-03T13:06:18.103Z"
   },
   {
    "duration": 11,
    "start_time": "2023-06-03T13:06:18.133Z"
   },
   {
    "duration": 12,
    "start_time": "2023-06-03T13:06:18.145Z"
   },
   {
    "duration": 43,
    "start_time": "2023-06-03T13:06:18.159Z"
   },
   {
    "duration": 5,
    "start_time": "2023-06-03T13:06:18.203Z"
   },
   {
    "duration": 12,
    "start_time": "2023-06-03T13:06:18.209Z"
   },
   {
    "duration": 5,
    "start_time": "2023-06-03T13:06:18.222Z"
   },
   {
    "duration": 24,
    "start_time": "2023-06-03T13:06:18.228Z"
   },
   {
    "duration": 17,
    "start_time": "2023-06-03T13:06:18.253Z"
   },
   {
    "duration": 12,
    "start_time": "2023-06-03T13:06:18.271Z"
   },
   {
    "duration": 342,
    "start_time": "2023-06-03T13:06:18.284Z"
   },
   {
    "duration": 400,
    "start_time": "2023-06-03T13:06:18.627Z"
   },
   {
    "duration": 4,
    "start_time": "2023-06-03T13:06:19.030Z"
   },
   {
    "duration": 5,
    "start_time": "2023-06-03T13:06:19.036Z"
   },
   {
    "duration": 64,
    "start_time": "2023-06-03T13:06:19.042Z"
   },
   {
    "duration": 9,
    "start_time": "2023-06-03T13:06:19.108Z"
   },
   {
    "duration": 88,
    "start_time": "2023-06-03T13:06:19.119Z"
   },
   {
    "duration": 99,
    "start_time": "2023-06-03T13:06:19.209Z"
   },
   {
    "duration": 3,
    "start_time": "2023-06-03T13:06:19.309Z"
   },
   {
    "duration": 9,
    "start_time": "2023-06-03T13:06:19.314Z"
   },
   {
    "duration": 2353,
    "start_time": "2023-12-22T01:40:44.971Z"
   },
   {
    "duration": 102,
    "start_time": "2023-12-22T01:40:47.326Z"
   },
   {
    "duration": 13,
    "start_time": "2023-12-22T01:40:47.430Z"
   },
   {
    "duration": 12,
    "start_time": "2023-12-22T01:40:47.445Z"
   },
   {
    "duration": 156,
    "start_time": "2023-12-22T01:40:47.458Z"
   },
   {
    "duration": 6,
    "start_time": "2023-12-22T01:40:47.616Z"
   },
   {
    "duration": 42,
    "start_time": "2023-12-22T01:40:47.623Z"
   },
   {
    "duration": 8,
    "start_time": "2023-12-22T01:40:47.667Z"
   },
   {
    "duration": 8,
    "start_time": "2023-12-22T01:40:47.715Z"
   },
   {
    "duration": 23,
    "start_time": "2023-12-22T01:40:47.725Z"
   },
   {
    "duration": 70,
    "start_time": "2023-12-22T01:40:47.749Z"
   },
   {
    "duration": 213,
    "start_time": "2023-12-22T01:40:47.821Z"
   },
   {
    "duration": 0,
    "start_time": "2023-12-22T01:40:48.036Z"
   },
   {
    "duration": 0,
    "start_time": "2023-12-22T01:40:48.037Z"
   },
   {
    "duration": 0,
    "start_time": "2023-12-22T01:40:48.039Z"
   },
   {
    "duration": 0,
    "start_time": "2023-12-22T01:40:48.040Z"
   },
   {
    "duration": 0,
    "start_time": "2023-12-22T01:40:48.041Z"
   },
   {
    "duration": 0,
    "start_time": "2023-12-22T01:40:48.042Z"
   },
   {
    "duration": 0,
    "start_time": "2023-12-22T01:40:48.044Z"
   },
   {
    "duration": 0,
    "start_time": "2023-12-22T01:40:48.045Z"
   },
   {
    "duration": 3266,
    "start_time": "2023-12-22T01:43:11.370Z"
   },
   {
    "duration": 2307,
    "start_time": "2023-12-22T01:43:51.011Z"
   },
   {
    "duration": 1370,
    "start_time": "2023-12-22T01:43:53.321Z"
   },
   {
    "duration": 30,
    "start_time": "2023-12-22T01:43:54.693Z"
   },
   {
    "duration": 11,
    "start_time": "2023-12-22T01:43:54.725Z"
   },
   {
    "duration": 9,
    "start_time": "2023-12-22T01:43:54.738Z"
   },
   {
    "duration": 48,
    "start_time": "2023-12-22T01:43:54.749Z"
   },
   {
    "duration": 6,
    "start_time": "2023-12-22T01:43:54.815Z"
   },
   {
    "duration": 18,
    "start_time": "2023-12-22T01:43:54.823Z"
   },
   {
    "duration": 5,
    "start_time": "2023-12-22T01:43:54.843Z"
   },
   {
    "duration": 11,
    "start_time": "2023-12-22T01:43:54.849Z"
   },
   {
    "duration": 15,
    "start_time": "2023-12-22T01:43:54.861Z"
   },
   {
    "duration": 16,
    "start_time": "2023-12-22T01:43:54.878Z"
   },
   {
    "duration": 460,
    "start_time": "2023-12-22T01:43:54.915Z"
   },
   {
    "duration": 4,
    "start_time": "2023-12-22T01:43:55.378Z"
   },
   {
    "duration": 31,
    "start_time": "2023-12-22T01:43:55.384Z"
   },
   {
    "duration": 5,
    "start_time": "2023-12-22T01:43:55.417Z"
   },
   {
    "duration": 91,
    "start_time": "2023-12-22T01:43:55.424Z"
   },
   {
    "duration": 7,
    "start_time": "2023-12-22T01:43:55.517Z"
   },
   {
    "duration": 95,
    "start_time": "2023-12-22T01:43:55.525Z"
   },
   {
    "duration": 3,
    "start_time": "2023-12-22T01:43:55.622Z"
   },
   {
    "duration": 13,
    "start_time": "2023-12-22T01:43:55.626Z"
   }
  ],
  "kernelspec": {
   "display_name": "Python 3 (ipykernel)",
   "language": "python",
   "name": "python3"
  },
  "language_info": {
   "codemirror_mode": {
    "name": "ipython",
    "version": 3
   },
   "file_extension": ".py",
   "mimetype": "text/x-python",
   "name": "python",
   "nbconvert_exporter": "python",
   "pygments_lexer": "ipython3",
   "version": "3.9.5"
  },
  "toc": {
   "base_numbering": 1,
   "nav_menu": {},
   "number_sections": true,
   "sideBar": true,
   "skip_h1_title": true,
   "title_cell": "Содержание",
   "title_sidebar": "Contents",
   "toc_cell": true,
   "toc_position": {
    "height": "calc(100% - 180px)",
    "left": "10px",
    "top": "150px",
    "width": "284.391px"
   },
   "toc_section_display": true,
   "toc_window_display": true
  }
 },
 "nbformat": 4,
 "nbformat_minor": 2
}
