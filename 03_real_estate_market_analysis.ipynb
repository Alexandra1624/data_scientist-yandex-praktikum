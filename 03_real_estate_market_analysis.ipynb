{
 "cells": [
  {
   "cell_type": "markdown",
   "metadata": {},
   "source": [
    "# Исследование объявлений о продаже квартир\n",
    "\n",
    "В вашем распоряжении данные сервиса Яндекс.Недвижимость — архив объявлений о продаже квартир в Санкт-Петербурге и соседних населённых пунктов за несколько лет. Нужно научиться определять рыночную стоимость объектов недвижимости. Ваша задача — установить параметры. Это позволит построить автоматизированную систему: она отследит аномалии и мошенническую деятельность. \n",
    "\n",
    "По каждой квартире на продажу доступны два вида данных. Первые вписаны пользователем, вторые — получены автоматически на основе картографических данных. Например, расстояние до центра, аэропорта, ближайшего парка и водоёма.\n",
    "\n",
    "\n",
    "**Цель исследования:**\n",
    "1. Определить рыночную стоимость объектов недвижимости\n",
    "2. Построить автоматизированную систему, которая отследит аномалии и мошенническую деятельность\n",
    "3. Установить, какие факторы влияют на ценообразование стоимости квартир\n",
    "\n",
    "**Этапы исследования**\n",
    "1. Обзор данных\n",
    "2. Предобработка данных\n",
    "3. Расчеты и добавление результатов в таблицу\n",
    "4. Проведение анализа для Ленинградской области\n",
    "5. Проведение анализа для Санкт-Петербурга\n",
    "6. Различаются ли факторы, которые влияют на ценообразование квартир\n",
    "7. Общие выводы"
   ]
  },
  {
   "cell_type": "markdown",
   "metadata": {},
   "source": [
    "## Откройте файл с данными и изучите общую информацию. "
   ]
  },
  {
   "cell_type": "markdown",
   "metadata": {},
   "source": [
    "# Исследование объявлений о продаже квартир\n",
    "\n",
    "В вашем распоряжении данные сервиса Яндекс.Недвижимость — архив объявлений о продаже квартир в Санкт-Петербурге и соседних населённых пунктов за несколько лет. Нужно научиться определять рыночную стоимость объектов недвижимости. Ваша задача — установить параметры. Это позволит построить автоматизированную систему: она отследит аномалии и мошенническую деятельность. \n",
    "\n",
    "По каждой квартире на продажу доступны два вида данных. Первые вписаны пользователем, вторые — получены автоматически на основе картографических данных. Например, расстояние до центра, аэропорта, ближайшего парка и водоёма. "
   ]
  },
  {
   "cell_type": "markdown",
   "metadata": {},
   "source": []
  },
  {
   "cell_type": "markdown",
   "metadata": {},
   "source": [
    "## Откройте файл с данными и изучите общую информацию. "
   ]
  },
  {
   "cell_type": "code",
   "execution_count": 1,
   "metadata": {},
   "outputs": [
    {
     "data": {
      "text/html": [
       "<div>\n",
       "<style scoped>\n",
       "    .dataframe tbody tr th:only-of-type {\n",
       "        vertical-align: middle;\n",
       "    }\n",
       "\n",
       "    .dataframe tbody tr th {\n",
       "        vertical-align: top;\n",
       "    }\n",
       "\n",
       "    .dataframe thead th {\n",
       "        text-align: right;\n",
       "    }\n",
       "</style>\n",
       "<table border=\"1\" class=\"dataframe\">\n",
       "  <thead>\n",
       "    <tr style=\"text-align: right;\">\n",
       "      <th></th>\n",
       "      <th>total_images</th>\n",
       "      <th>last_price</th>\n",
       "      <th>total_area</th>\n",
       "      <th>first_day_exposition</th>\n",
       "      <th>rooms</th>\n",
       "      <th>ceiling_height</th>\n",
       "      <th>floors_total</th>\n",
       "      <th>living_area</th>\n",
       "      <th>floor</th>\n",
       "      <th>is_apartment</th>\n",
       "      <th>...</th>\n",
       "      <th>kitchen_area</th>\n",
       "      <th>balcony</th>\n",
       "      <th>locality_name</th>\n",
       "      <th>airports_nearest</th>\n",
       "      <th>cityCenters_nearest</th>\n",
       "      <th>parks_around3000</th>\n",
       "      <th>parks_nearest</th>\n",
       "      <th>ponds_around3000</th>\n",
       "      <th>ponds_nearest</th>\n",
       "      <th>days_exposition</th>\n",
       "    </tr>\n",
       "  </thead>\n",
       "  <tbody>\n",
       "    <tr>\n",
       "      <th>0</th>\n",
       "      <td>20</td>\n",
       "      <td>13000000.0</td>\n",
       "      <td>108.00</td>\n",
       "      <td>2019-03-07T00:00:00</td>\n",
       "      <td>3</td>\n",
       "      <td>2.70</td>\n",
       "      <td>16.0</td>\n",
       "      <td>51.00</td>\n",
       "      <td>8</td>\n",
       "      <td>NaN</td>\n",
       "      <td>...</td>\n",
       "      <td>25.00</td>\n",
       "      <td>NaN</td>\n",
       "      <td>Санкт-Петербург</td>\n",
       "      <td>18863.0</td>\n",
       "      <td>16028.0</td>\n",
       "      <td>1.0</td>\n",
       "      <td>482.0</td>\n",
       "      <td>2.0</td>\n",
       "      <td>755.0</td>\n",
       "      <td>NaN</td>\n",
       "    </tr>\n",
       "    <tr>\n",
       "      <th>1</th>\n",
       "      <td>7</td>\n",
       "      <td>3350000.0</td>\n",
       "      <td>40.40</td>\n",
       "      <td>2018-12-04T00:00:00</td>\n",
       "      <td>1</td>\n",
       "      <td>NaN</td>\n",
       "      <td>11.0</td>\n",
       "      <td>18.60</td>\n",
       "      <td>1</td>\n",
       "      <td>NaN</td>\n",
       "      <td>...</td>\n",
       "      <td>11.00</td>\n",
       "      <td>2.0</td>\n",
       "      <td>посёлок Шушары</td>\n",
       "      <td>12817.0</td>\n",
       "      <td>18603.0</td>\n",
       "      <td>0.0</td>\n",
       "      <td>NaN</td>\n",
       "      <td>0.0</td>\n",
       "      <td>NaN</td>\n",
       "      <td>81.0</td>\n",
       "    </tr>\n",
       "    <tr>\n",
       "      <th>2</th>\n",
       "      <td>10</td>\n",
       "      <td>5196000.0</td>\n",
       "      <td>56.00</td>\n",
       "      <td>2015-08-20T00:00:00</td>\n",
       "      <td>2</td>\n",
       "      <td>NaN</td>\n",
       "      <td>5.0</td>\n",
       "      <td>34.30</td>\n",
       "      <td>4</td>\n",
       "      <td>NaN</td>\n",
       "      <td>...</td>\n",
       "      <td>8.30</td>\n",
       "      <td>0.0</td>\n",
       "      <td>Санкт-Петербург</td>\n",
       "      <td>21741.0</td>\n",
       "      <td>13933.0</td>\n",
       "      <td>1.0</td>\n",
       "      <td>90.0</td>\n",
       "      <td>2.0</td>\n",
       "      <td>574.0</td>\n",
       "      <td>558.0</td>\n",
       "    </tr>\n",
       "    <tr>\n",
       "      <th>3</th>\n",
       "      <td>0</td>\n",
       "      <td>64900000.0</td>\n",
       "      <td>159.00</td>\n",
       "      <td>2015-07-24T00:00:00</td>\n",
       "      <td>3</td>\n",
       "      <td>NaN</td>\n",
       "      <td>14.0</td>\n",
       "      <td>NaN</td>\n",
       "      <td>9</td>\n",
       "      <td>NaN</td>\n",
       "      <td>...</td>\n",
       "      <td>NaN</td>\n",
       "      <td>0.0</td>\n",
       "      <td>Санкт-Петербург</td>\n",
       "      <td>28098.0</td>\n",
       "      <td>6800.0</td>\n",
       "      <td>2.0</td>\n",
       "      <td>84.0</td>\n",
       "      <td>3.0</td>\n",
       "      <td>234.0</td>\n",
       "      <td>424.0</td>\n",
       "    </tr>\n",
       "    <tr>\n",
       "      <th>4</th>\n",
       "      <td>2</td>\n",
       "      <td>10000000.0</td>\n",
       "      <td>100.00</td>\n",
       "      <td>2018-06-19T00:00:00</td>\n",
       "      <td>2</td>\n",
       "      <td>3.03</td>\n",
       "      <td>14.0</td>\n",
       "      <td>32.00</td>\n",
       "      <td>13</td>\n",
       "      <td>NaN</td>\n",
       "      <td>...</td>\n",
       "      <td>41.00</td>\n",
       "      <td>NaN</td>\n",
       "      <td>Санкт-Петербург</td>\n",
       "      <td>31856.0</td>\n",
       "      <td>8098.0</td>\n",
       "      <td>2.0</td>\n",
       "      <td>112.0</td>\n",
       "      <td>1.0</td>\n",
       "      <td>48.0</td>\n",
       "      <td>121.0</td>\n",
       "    </tr>\n",
       "    <tr>\n",
       "      <th>5</th>\n",
       "      <td>10</td>\n",
       "      <td>2890000.0</td>\n",
       "      <td>30.40</td>\n",
       "      <td>2018-09-10T00:00:00</td>\n",
       "      <td>1</td>\n",
       "      <td>NaN</td>\n",
       "      <td>12.0</td>\n",
       "      <td>14.40</td>\n",
       "      <td>5</td>\n",
       "      <td>NaN</td>\n",
       "      <td>...</td>\n",
       "      <td>9.10</td>\n",
       "      <td>NaN</td>\n",
       "      <td>городской посёлок Янино-1</td>\n",
       "      <td>NaN</td>\n",
       "      <td>NaN</td>\n",
       "      <td>NaN</td>\n",
       "      <td>NaN</td>\n",
       "      <td>NaN</td>\n",
       "      <td>NaN</td>\n",
       "      <td>55.0</td>\n",
       "    </tr>\n",
       "    <tr>\n",
       "      <th>6</th>\n",
       "      <td>6</td>\n",
       "      <td>3700000.0</td>\n",
       "      <td>37.30</td>\n",
       "      <td>2017-11-02T00:00:00</td>\n",
       "      <td>1</td>\n",
       "      <td>NaN</td>\n",
       "      <td>26.0</td>\n",
       "      <td>10.60</td>\n",
       "      <td>6</td>\n",
       "      <td>NaN</td>\n",
       "      <td>...</td>\n",
       "      <td>14.40</td>\n",
       "      <td>1.0</td>\n",
       "      <td>посёлок Парголово</td>\n",
       "      <td>52996.0</td>\n",
       "      <td>19143.0</td>\n",
       "      <td>0.0</td>\n",
       "      <td>NaN</td>\n",
       "      <td>0.0</td>\n",
       "      <td>NaN</td>\n",
       "      <td>155.0</td>\n",
       "    </tr>\n",
       "    <tr>\n",
       "      <th>7</th>\n",
       "      <td>5</td>\n",
       "      <td>7915000.0</td>\n",
       "      <td>71.60</td>\n",
       "      <td>2019-04-18T00:00:00</td>\n",
       "      <td>2</td>\n",
       "      <td>NaN</td>\n",
       "      <td>24.0</td>\n",
       "      <td>NaN</td>\n",
       "      <td>22</td>\n",
       "      <td>NaN</td>\n",
       "      <td>...</td>\n",
       "      <td>18.90</td>\n",
       "      <td>2.0</td>\n",
       "      <td>Санкт-Петербург</td>\n",
       "      <td>23982.0</td>\n",
       "      <td>11634.0</td>\n",
       "      <td>0.0</td>\n",
       "      <td>NaN</td>\n",
       "      <td>0.0</td>\n",
       "      <td>NaN</td>\n",
       "      <td>NaN</td>\n",
       "    </tr>\n",
       "    <tr>\n",
       "      <th>8</th>\n",
       "      <td>20</td>\n",
       "      <td>2900000.0</td>\n",
       "      <td>33.16</td>\n",
       "      <td>2018-05-23T00:00:00</td>\n",
       "      <td>1</td>\n",
       "      <td>NaN</td>\n",
       "      <td>27.0</td>\n",
       "      <td>15.43</td>\n",
       "      <td>26</td>\n",
       "      <td>NaN</td>\n",
       "      <td>...</td>\n",
       "      <td>8.81</td>\n",
       "      <td>NaN</td>\n",
       "      <td>посёлок Мурино</td>\n",
       "      <td>NaN</td>\n",
       "      <td>NaN</td>\n",
       "      <td>NaN</td>\n",
       "      <td>NaN</td>\n",
       "      <td>NaN</td>\n",
       "      <td>NaN</td>\n",
       "      <td>189.0</td>\n",
       "    </tr>\n",
       "    <tr>\n",
       "      <th>9</th>\n",
       "      <td>18</td>\n",
       "      <td>5400000.0</td>\n",
       "      <td>61.00</td>\n",
       "      <td>2017-02-26T00:00:00</td>\n",
       "      <td>3</td>\n",
       "      <td>2.50</td>\n",
       "      <td>9.0</td>\n",
       "      <td>43.60</td>\n",
       "      <td>7</td>\n",
       "      <td>NaN</td>\n",
       "      <td>...</td>\n",
       "      <td>6.50</td>\n",
       "      <td>2.0</td>\n",
       "      <td>Санкт-Петербург</td>\n",
       "      <td>50898.0</td>\n",
       "      <td>15008.0</td>\n",
       "      <td>0.0</td>\n",
       "      <td>NaN</td>\n",
       "      <td>0.0</td>\n",
       "      <td>NaN</td>\n",
       "      <td>289.0</td>\n",
       "    </tr>\n",
       "    <tr>\n",
       "      <th>10</th>\n",
       "      <td>5</td>\n",
       "      <td>5050000.0</td>\n",
       "      <td>39.60</td>\n",
       "      <td>2017-11-16T00:00:00</td>\n",
       "      <td>1</td>\n",
       "      <td>2.67</td>\n",
       "      <td>12.0</td>\n",
       "      <td>20.30</td>\n",
       "      <td>3</td>\n",
       "      <td>NaN</td>\n",
       "      <td>...</td>\n",
       "      <td>8.50</td>\n",
       "      <td>NaN</td>\n",
       "      <td>Санкт-Петербург</td>\n",
       "      <td>38357.0</td>\n",
       "      <td>13878.0</td>\n",
       "      <td>1.0</td>\n",
       "      <td>310.0</td>\n",
       "      <td>2.0</td>\n",
       "      <td>553.0</td>\n",
       "      <td>137.0</td>\n",
       "    </tr>\n",
       "    <tr>\n",
       "      <th>11</th>\n",
       "      <td>9</td>\n",
       "      <td>3300000.0</td>\n",
       "      <td>44.00</td>\n",
       "      <td>2018-08-27T00:00:00</td>\n",
       "      <td>2</td>\n",
       "      <td>NaN</td>\n",
       "      <td>5.0</td>\n",
       "      <td>31.00</td>\n",
       "      <td>4</td>\n",
       "      <td>False</td>\n",
       "      <td>...</td>\n",
       "      <td>6.00</td>\n",
       "      <td>1.0</td>\n",
       "      <td>Ломоносов</td>\n",
       "      <td>48252.0</td>\n",
       "      <td>51677.0</td>\n",
       "      <td>0.0</td>\n",
       "      <td>NaN</td>\n",
       "      <td>0.0</td>\n",
       "      <td>NaN</td>\n",
       "      <td>7.0</td>\n",
       "    </tr>\n",
       "    <tr>\n",
       "      <th>12</th>\n",
       "      <td>10</td>\n",
       "      <td>3890000.0</td>\n",
       "      <td>54.00</td>\n",
       "      <td>2016-06-30T00:00:00</td>\n",
       "      <td>2</td>\n",
       "      <td>NaN</td>\n",
       "      <td>5.0</td>\n",
       "      <td>30.00</td>\n",
       "      <td>5</td>\n",
       "      <td>NaN</td>\n",
       "      <td>...</td>\n",
       "      <td>9.00</td>\n",
       "      <td>0.0</td>\n",
       "      <td>Сертолово</td>\n",
       "      <td>NaN</td>\n",
       "      <td>NaN</td>\n",
       "      <td>NaN</td>\n",
       "      <td>NaN</td>\n",
       "      <td>NaN</td>\n",
       "      <td>NaN</td>\n",
       "      <td>90.0</td>\n",
       "    </tr>\n",
       "    <tr>\n",
       "      <th>13</th>\n",
       "      <td>20</td>\n",
       "      <td>3550000.0</td>\n",
       "      <td>42.80</td>\n",
       "      <td>2017-07-01T00:00:00</td>\n",
       "      <td>2</td>\n",
       "      <td>2.56</td>\n",
       "      <td>5.0</td>\n",
       "      <td>27.00</td>\n",
       "      <td>5</td>\n",
       "      <td>NaN</td>\n",
       "      <td>...</td>\n",
       "      <td>5.20</td>\n",
       "      <td>1.0</td>\n",
       "      <td>Петергоф</td>\n",
       "      <td>37868.0</td>\n",
       "      <td>33058.0</td>\n",
       "      <td>1.0</td>\n",
       "      <td>294.0</td>\n",
       "      <td>3.0</td>\n",
       "      <td>298.0</td>\n",
       "      <td>366.0</td>\n",
       "    </tr>\n",
       "    <tr>\n",
       "      <th>14</th>\n",
       "      <td>1</td>\n",
       "      <td>4400000.0</td>\n",
       "      <td>36.00</td>\n",
       "      <td>2016-06-23T00:00:00</td>\n",
       "      <td>1</td>\n",
       "      <td>NaN</td>\n",
       "      <td>6.0</td>\n",
       "      <td>17.00</td>\n",
       "      <td>1</td>\n",
       "      <td>NaN</td>\n",
       "      <td>...</td>\n",
       "      <td>8.00</td>\n",
       "      <td>0.0</td>\n",
       "      <td>Пушкин</td>\n",
       "      <td>20782.0</td>\n",
       "      <td>30759.0</td>\n",
       "      <td>0.0</td>\n",
       "      <td>NaN</td>\n",
       "      <td>1.0</td>\n",
       "      <td>96.0</td>\n",
       "      <td>203.0</td>\n",
       "    </tr>\n",
       "    <tr>\n",
       "      <th>15</th>\n",
       "      <td>16</td>\n",
       "      <td>4650000.0</td>\n",
       "      <td>39.00</td>\n",
       "      <td>2017-11-18T00:00:00</td>\n",
       "      <td>1</td>\n",
       "      <td>NaN</td>\n",
       "      <td>14.0</td>\n",
       "      <td>20.50</td>\n",
       "      <td>5</td>\n",
       "      <td>NaN</td>\n",
       "      <td>...</td>\n",
       "      <td>7.60</td>\n",
       "      <td>1.0</td>\n",
       "      <td>Санкт-Петербург</td>\n",
       "      <td>12900.0</td>\n",
       "      <td>14259.0</td>\n",
       "      <td>1.0</td>\n",
       "      <td>590.0</td>\n",
       "      <td>1.0</td>\n",
       "      <td>296.0</td>\n",
       "      <td>19.0</td>\n",
       "    </tr>\n",
       "    <tr>\n",
       "      <th>16</th>\n",
       "      <td>11</td>\n",
       "      <td>6700000.0</td>\n",
       "      <td>82.00</td>\n",
       "      <td>2017-11-23T00:00:00</td>\n",
       "      <td>3</td>\n",
       "      <td>3.05</td>\n",
       "      <td>5.0</td>\n",
       "      <td>55.60</td>\n",
       "      <td>1</td>\n",
       "      <td>NaN</td>\n",
       "      <td>...</td>\n",
       "      <td>9.00</td>\n",
       "      <td>NaN</td>\n",
       "      <td>Санкт-Петербург</td>\n",
       "      <td>22108.0</td>\n",
       "      <td>10698.0</td>\n",
       "      <td>3.0</td>\n",
       "      <td>420.0</td>\n",
       "      <td>0.0</td>\n",
       "      <td>NaN</td>\n",
       "      <td>397.0</td>\n",
       "    </tr>\n",
       "    <tr>\n",
       "      <th>17</th>\n",
       "      <td>6</td>\n",
       "      <td>4180000.0</td>\n",
       "      <td>36.00</td>\n",
       "      <td>2016-09-09T00:00:00</td>\n",
       "      <td>1</td>\n",
       "      <td>NaN</td>\n",
       "      <td>17.0</td>\n",
       "      <td>16.50</td>\n",
       "      <td>7</td>\n",
       "      <td>NaN</td>\n",
       "      <td>...</td>\n",
       "      <td>11.00</td>\n",
       "      <td>1.0</td>\n",
       "      <td>Санкт-Петербург</td>\n",
       "      <td>33564.0</td>\n",
       "      <td>14616.0</td>\n",
       "      <td>0.0</td>\n",
       "      <td>NaN</td>\n",
       "      <td>1.0</td>\n",
       "      <td>859.0</td>\n",
       "      <td>571.0</td>\n",
       "    </tr>\n",
       "    <tr>\n",
       "      <th>18</th>\n",
       "      <td>8</td>\n",
       "      <td>3250000.0</td>\n",
       "      <td>31.00</td>\n",
       "      <td>2017-01-27T00:00:00</td>\n",
       "      <td>1</td>\n",
       "      <td>2.50</td>\n",
       "      <td>5.0</td>\n",
       "      <td>19.40</td>\n",
       "      <td>2</td>\n",
       "      <td>NaN</td>\n",
       "      <td>...</td>\n",
       "      <td>5.60</td>\n",
       "      <td>1.0</td>\n",
       "      <td>Санкт-Петербург</td>\n",
       "      <td>44060.0</td>\n",
       "      <td>10842.0</td>\n",
       "      <td>1.0</td>\n",
       "      <td>759.0</td>\n",
       "      <td>0.0</td>\n",
       "      <td>NaN</td>\n",
       "      <td>168.0</td>\n",
       "    </tr>\n",
       "    <tr>\n",
       "      <th>19</th>\n",
       "      <td>16</td>\n",
       "      <td>14200000.0</td>\n",
       "      <td>121.00</td>\n",
       "      <td>2019-01-09T00:00:00</td>\n",
       "      <td>3</td>\n",
       "      <td>2.75</td>\n",
       "      <td>16.0</td>\n",
       "      <td>76.00</td>\n",
       "      <td>8</td>\n",
       "      <td>NaN</td>\n",
       "      <td>...</td>\n",
       "      <td>12.00</td>\n",
       "      <td>NaN</td>\n",
       "      <td>Санкт-Петербург</td>\n",
       "      <td>38900.0</td>\n",
       "      <td>12843.0</td>\n",
       "      <td>0.0</td>\n",
       "      <td>NaN</td>\n",
       "      <td>0.0</td>\n",
       "      <td>NaN</td>\n",
       "      <td>97.0</td>\n",
       "    </tr>\n",
       "  </tbody>\n",
       "</table>\n",
       "<p>20 rows × 22 columns</p>\n",
       "</div>"
      ],
      "text/plain": [
       "    total_images  last_price  total_area first_day_exposition  rooms  \\\n",
       "0             20  13000000.0      108.00  2019-03-07T00:00:00      3   \n",
       "1              7   3350000.0       40.40  2018-12-04T00:00:00      1   \n",
       "2             10   5196000.0       56.00  2015-08-20T00:00:00      2   \n",
       "3              0  64900000.0      159.00  2015-07-24T00:00:00      3   \n",
       "4              2  10000000.0      100.00  2018-06-19T00:00:00      2   \n",
       "5             10   2890000.0       30.40  2018-09-10T00:00:00      1   \n",
       "6              6   3700000.0       37.30  2017-11-02T00:00:00      1   \n",
       "7              5   7915000.0       71.60  2019-04-18T00:00:00      2   \n",
       "8             20   2900000.0       33.16  2018-05-23T00:00:00      1   \n",
       "9             18   5400000.0       61.00  2017-02-26T00:00:00      3   \n",
       "10             5   5050000.0       39.60  2017-11-16T00:00:00      1   \n",
       "11             9   3300000.0       44.00  2018-08-27T00:00:00      2   \n",
       "12            10   3890000.0       54.00  2016-06-30T00:00:00      2   \n",
       "13            20   3550000.0       42.80  2017-07-01T00:00:00      2   \n",
       "14             1   4400000.0       36.00  2016-06-23T00:00:00      1   \n",
       "15            16   4650000.0       39.00  2017-11-18T00:00:00      1   \n",
       "16            11   6700000.0       82.00  2017-11-23T00:00:00      3   \n",
       "17             6   4180000.0       36.00  2016-09-09T00:00:00      1   \n",
       "18             8   3250000.0       31.00  2017-01-27T00:00:00      1   \n",
       "19            16  14200000.0      121.00  2019-01-09T00:00:00      3   \n",
       "\n",
       "    ceiling_height  floors_total  living_area  floor is_apartment  ...  \\\n",
       "0             2.70          16.0        51.00      8          NaN  ...   \n",
       "1              NaN          11.0        18.60      1          NaN  ...   \n",
       "2              NaN           5.0        34.30      4          NaN  ...   \n",
       "3              NaN          14.0          NaN      9          NaN  ...   \n",
       "4             3.03          14.0        32.00     13          NaN  ...   \n",
       "5              NaN          12.0        14.40      5          NaN  ...   \n",
       "6              NaN          26.0        10.60      6          NaN  ...   \n",
       "7              NaN          24.0          NaN     22          NaN  ...   \n",
       "8              NaN          27.0        15.43     26          NaN  ...   \n",
       "9             2.50           9.0        43.60      7          NaN  ...   \n",
       "10            2.67          12.0        20.30      3          NaN  ...   \n",
       "11             NaN           5.0        31.00      4        False  ...   \n",
       "12             NaN           5.0        30.00      5          NaN  ...   \n",
       "13            2.56           5.0        27.00      5          NaN  ...   \n",
       "14             NaN           6.0        17.00      1          NaN  ...   \n",
       "15             NaN          14.0        20.50      5          NaN  ...   \n",
       "16            3.05           5.0        55.60      1          NaN  ...   \n",
       "17             NaN          17.0        16.50      7          NaN  ...   \n",
       "18            2.50           5.0        19.40      2          NaN  ...   \n",
       "19            2.75          16.0        76.00      8          NaN  ...   \n",
       "\n",
       "    kitchen_area  balcony              locality_name  airports_nearest  \\\n",
       "0          25.00      NaN            Санкт-Петербург           18863.0   \n",
       "1          11.00      2.0             посёлок Шушары           12817.0   \n",
       "2           8.30      0.0            Санкт-Петербург           21741.0   \n",
       "3            NaN      0.0            Санкт-Петербург           28098.0   \n",
       "4          41.00      NaN            Санкт-Петербург           31856.0   \n",
       "5           9.10      NaN  городской посёлок Янино-1               NaN   \n",
       "6          14.40      1.0          посёлок Парголово           52996.0   \n",
       "7          18.90      2.0            Санкт-Петербург           23982.0   \n",
       "8           8.81      NaN             посёлок Мурино               NaN   \n",
       "9           6.50      2.0            Санкт-Петербург           50898.0   \n",
       "10          8.50      NaN            Санкт-Петербург           38357.0   \n",
       "11          6.00      1.0                  Ломоносов           48252.0   \n",
       "12          9.00      0.0                  Сертолово               NaN   \n",
       "13          5.20      1.0                   Петергоф           37868.0   \n",
       "14          8.00      0.0                     Пушкин           20782.0   \n",
       "15          7.60      1.0            Санкт-Петербург           12900.0   \n",
       "16          9.00      NaN            Санкт-Петербург           22108.0   \n",
       "17         11.00      1.0            Санкт-Петербург           33564.0   \n",
       "18          5.60      1.0            Санкт-Петербург           44060.0   \n",
       "19         12.00      NaN            Санкт-Петербург           38900.0   \n",
       "\n",
       "   cityCenters_nearest  parks_around3000  parks_nearest  ponds_around3000  \\\n",
       "0              16028.0               1.0          482.0               2.0   \n",
       "1              18603.0               0.0            NaN               0.0   \n",
       "2              13933.0               1.0           90.0               2.0   \n",
       "3               6800.0               2.0           84.0               3.0   \n",
       "4               8098.0               2.0          112.0               1.0   \n",
       "5                  NaN               NaN            NaN               NaN   \n",
       "6              19143.0               0.0            NaN               0.0   \n",
       "7              11634.0               0.0            NaN               0.0   \n",
       "8                  NaN               NaN            NaN               NaN   \n",
       "9              15008.0               0.0            NaN               0.0   \n",
       "10             13878.0               1.0          310.0               2.0   \n",
       "11             51677.0               0.0            NaN               0.0   \n",
       "12                 NaN               NaN            NaN               NaN   \n",
       "13             33058.0               1.0          294.0               3.0   \n",
       "14             30759.0               0.0            NaN               1.0   \n",
       "15             14259.0               1.0          590.0               1.0   \n",
       "16             10698.0               3.0          420.0               0.0   \n",
       "17             14616.0               0.0            NaN               1.0   \n",
       "18             10842.0               1.0          759.0               0.0   \n",
       "19             12843.0               0.0            NaN               0.0   \n",
       "\n",
       "    ponds_nearest  days_exposition  \n",
       "0           755.0              NaN  \n",
       "1             NaN             81.0  \n",
       "2           574.0            558.0  \n",
       "3           234.0            424.0  \n",
       "4            48.0            121.0  \n",
       "5             NaN             55.0  \n",
       "6             NaN            155.0  \n",
       "7             NaN              NaN  \n",
       "8             NaN            189.0  \n",
       "9             NaN            289.0  \n",
       "10          553.0            137.0  \n",
       "11            NaN              7.0  \n",
       "12            NaN             90.0  \n",
       "13          298.0            366.0  \n",
       "14           96.0            203.0  \n",
       "15          296.0             19.0  \n",
       "16            NaN            397.0  \n",
       "17          859.0            571.0  \n",
       "18            NaN            168.0  \n",
       "19            NaN             97.0  \n",
       "\n",
       "[20 rows x 22 columns]"
      ]
     },
     "execution_count": 1,
     "metadata": {},
     "output_type": "execute_result"
    }
   ],
   "source": [
    "import pandas as pd\n",
    "import matplotlib.pyplot as plt\n",
    "\n",
    "data = pd.read_csv(\"/datasets/real_estate_data.csv\", sep=\"\\t\")\n",
    "data.head(20) #Выводим первые 20 строчек датафрейма data на экран."
   ]
  },
  {
   "cell_type": "code",
   "execution_count": 2,
   "metadata": {},
   "outputs": [
    {
     "name": "stdout",
     "output_type": "stream",
     "text": [
      "<class 'pandas.core.frame.DataFrame'>\n",
      "RangeIndex: 23699 entries, 0 to 23698\n",
      "Data columns (total 22 columns):\n",
      " #   Column                Non-Null Count  Dtype  \n",
      "---  ------                --------------  -----  \n",
      " 0   total_images          23699 non-null  int64  \n",
      " 1   last_price            23699 non-null  float64\n",
      " 2   total_area            23699 non-null  float64\n",
      " 3   first_day_exposition  23699 non-null  object \n",
      " 4   rooms                 23699 non-null  int64  \n",
      " 5   ceiling_height        14504 non-null  float64\n",
      " 6   floors_total          23613 non-null  float64\n",
      " 7   living_area           21796 non-null  float64\n",
      " 8   floor                 23699 non-null  int64  \n",
      " 9   is_apartment          2775 non-null   object \n",
      " 10  studio                23699 non-null  bool   \n",
      " 11  open_plan             23699 non-null  bool   \n",
      " 12  kitchen_area          21421 non-null  float64\n",
      " 13  balcony               12180 non-null  float64\n",
      " 14  locality_name         23650 non-null  object \n",
      " 15  airports_nearest      18157 non-null  float64\n",
      " 16  cityCenters_nearest   18180 non-null  float64\n",
      " 17  parks_around3000      18181 non-null  float64\n",
      " 18  parks_nearest         8079 non-null   float64\n",
      " 19  ponds_around3000      18181 non-null  float64\n",
      " 20  ponds_nearest         9110 non-null   float64\n",
      " 21  days_exposition       20518 non-null  float64\n",
      "dtypes: bool(2), float64(14), int64(3), object(3)\n",
      "memory usage: 3.7+ MB\n"
     ]
    }
   ],
   "source": [
    "data.info() #Выводим основную информацию о датафрейме."
   ]
  },
  {
   "cell_type": "markdown",
   "metadata": {},
   "source": [
    "Типы данных соответствуют по столбцам."
   ]
  },
  {
   "cell_type": "code",
   "execution_count": 3,
   "metadata": {},
   "outputs": [
    {
     "data": {
      "image/png": "[encoded data removed]",
      "text/plain": [
       "<Figure size 1080x1440 with 20 Axes>"
      ]
     },
     "metadata": {
      "needs_background": "light"
     },
     "output_type": "display_data"
    }
   ],
   "source": [
    "data.hist(figsize=(15, 20)); #Построим общую гистограмму для всех числовых столбцов таблицы."
   ]
  },
  {
   "cell_type": "markdown",
   "metadata": {},
   "source": [
    "## Предобработка данных"
   ]
  },
  {
   "cell_type": "markdown",
   "metadata": {},
   "source": [
    "### Изучение пропусков"
   ]
  },
  {
   "cell_type": "markdown",
   "metadata": {},
   "source": [
    "Выводим количество пропущенных значений для каждого столбца."
   ]
  },
  {
   "cell_type": "code",
   "execution_count": 4,
   "metadata": {
    "scrolled": false
   },
   "outputs": [
    {
     "data": {
      "text/plain": [
       "total_images                0\n",
       "last_price                  0\n",
       "total_area                  0\n",
       "first_day_exposition        0\n",
       "rooms                       0\n",
       "ceiling_height           9195\n",
       "floors_total               86\n",
       "living_area              1903\n",
       "floor                       0\n",
       "is_apartment            20924\n",
       "studio                      0\n",
       "open_plan                   0\n",
       "kitchen_area             2278\n",
       "balcony                 11519\n",
       "locality_name              49\n",
       "airports_nearest         5542\n",
       "cityCenters_nearest      5519\n",
       "parks_around3000         5518\n",
       "parks_nearest           15620\n",
       "ponds_around3000         5518\n",
       "ponds_nearest           14589\n",
       "days_exposition          3181\n",
       "dtype: int64"
      ]
     },
     "execution_count": 4,
     "metadata": {},
     "output_type": "execute_result"
    }
   ],
   "source": [
    "data.isna().sum()"
   ]
  },
  {
   "cell_type": "code",
   "execution_count": 5,
   "metadata": {
    "scrolled": true
   },
   "outputs": [
    {
     "data": {
      "text/html": [
       "<style  type=\"text/css\" >\n",
       "#T_9d73a_row0_col0,#T_9d73a_row1_col0,#T_9d73a_row2_col0,#T_9d73a_row3_col0,#T_9d73a_row4_col0,#T_9d73a_row6_col0,#T_9d73a_row8_col0,#T_9d73a_row10_col0,#T_9d73a_row11_col0,#T_9d73a_row14_col0{\n",
       "            background-color:  #3b4cc0;\n",
       "            color:  #f1f1f1;\n",
       "        }#T_9d73a_row5_col0{\n",
       "            background-color:  #cdd9ec;\n",
       "            color:  #000000;\n",
       "        }#T_9d73a_row7_col0{\n",
       "            background-color:  #5673e0;\n",
       "            color:  #000000;\n",
       "        }#T_9d73a_row9_col0{\n",
       "            background-color:  #b40426;\n",
       "            color:  #f1f1f1;\n",
       "        }#T_9d73a_row12_col0{\n",
       "            background-color:  #5e7de7;\n",
       "            color:  #000000;\n",
       "        }#T_9d73a_row13_col0{\n",
       "            background-color:  #ead4c8;\n",
       "            color:  #000000;\n",
       "        }#T_9d73a_row15_col0,#T_9d73a_row16_col0,#T_9d73a_row17_col0,#T_9d73a_row19_col0{\n",
       "            background-color:  #90b2fe;\n",
       "            color:  #000000;\n",
       "        }#T_9d73a_row18_col0{\n",
       "            background-color:  #f4987a;\n",
       "            color:  #000000;\n",
       "        }#T_9d73a_row20_col0{\n",
       "            background-color:  #f7aa8c;\n",
       "            color:  #000000;\n",
       "        }#T_9d73a_row21_col0{\n",
       "            background-color:  #688aef;\n",
       "            color:  #000000;\n",
       "        }</style><table id=\"T_9d73a_\" ><thead>    <tr>        <th class=\"blank level0\" ></th>        <th class=\"col_heading level0 col0\" >0</th>    </tr></thead><tbody>\n",
       "                <tr>\n",
       "                        <th id=\"T_9d73a_level0_row0\" class=\"row_heading level0 row0\" >total_images</th>\n",
       "                        <td id=\"T_9d73a_row0_col0\" class=\"data row0 col0\" >0.000000</td>\n",
       "            </tr>\n",
       "            <tr>\n",
       "                        <th id=\"T_9d73a_level0_row1\" class=\"row_heading level0 row1\" >last_price</th>\n",
       "                        <td id=\"T_9d73a_row1_col0\" class=\"data row1 col0\" >0.000000</td>\n",
       "            </tr>\n",
       "            <tr>\n",
       "                        <th id=\"T_9d73a_level0_row2\" class=\"row_heading level0 row2\" >total_area</th>\n",
       "                        <td id=\"T_9d73a_row2_col0\" class=\"data row2 col0\" >0.000000</td>\n",
       "            </tr>\n",
       "            <tr>\n",
       "                        <th id=\"T_9d73a_level0_row3\" class=\"row_heading level0 row3\" >first_day_exposition</th>\n",
       "                        <td id=\"T_9d73a_row3_col0\" class=\"data row3 col0\" >0.000000</td>\n",
       "            </tr>\n",
       "            <tr>\n",
       "                        <th id=\"T_9d73a_level0_row4\" class=\"row_heading level0 row4\" >rooms</th>\n",
       "                        <td id=\"T_9d73a_row4_col0\" class=\"data row4 col0\" >0.000000</td>\n",
       "            </tr>\n",
       "            <tr>\n",
       "                        <th id=\"T_9d73a_level0_row5\" class=\"row_heading level0 row5\" >ceiling_height</th>\n",
       "                        <td id=\"T_9d73a_row5_col0\" class=\"data row5 col0\" >39.000000</td>\n",
       "            </tr>\n",
       "            <tr>\n",
       "                        <th id=\"T_9d73a_level0_row6\" class=\"row_heading level0 row6\" >floors_total</th>\n",
       "                        <td id=\"T_9d73a_row6_col0\" class=\"data row6 col0\" >0.000000</td>\n",
       "            </tr>\n",
       "            <tr>\n",
       "                        <th id=\"T_9d73a_level0_row7\" class=\"row_heading level0 row7\" >living_area</th>\n",
       "                        <td id=\"T_9d73a_row7_col0\" class=\"data row7 col0\" >8.000000</td>\n",
       "            </tr>\n",
       "            <tr>\n",
       "                        <th id=\"T_9d73a_level0_row8\" class=\"row_heading level0 row8\" >floor</th>\n",
       "                        <td id=\"T_9d73a_row8_col0\" class=\"data row8 col0\" >0.000000</td>\n",
       "            </tr>\n",
       "            <tr>\n",
       "                        <th id=\"T_9d73a_level0_row9\" class=\"row_heading level0 row9\" >is_apartment</th>\n",
       "                        <td id=\"T_9d73a_row9_col0\" class=\"data row9 col0\" >88.000000</td>\n",
       "            </tr>\n",
       "            <tr>\n",
       "                        <th id=\"T_9d73a_level0_row10\" class=\"row_heading level0 row10\" >studio</th>\n",
       "                        <td id=\"T_9d73a_row10_col0\" class=\"data row10 col0\" >0.000000</td>\n",
       "            </tr>\n",
       "            <tr>\n",
       "                        <th id=\"T_9d73a_level0_row11\" class=\"row_heading level0 row11\" >open_plan</th>\n",
       "                        <td id=\"T_9d73a_row11_col0\" class=\"data row11 col0\" >0.000000</td>\n",
       "            </tr>\n",
       "            <tr>\n",
       "                        <th id=\"T_9d73a_level0_row12\" class=\"row_heading level0 row12\" >kitchen_area</th>\n",
       "                        <td id=\"T_9d73a_row12_col0\" class=\"data row12 col0\" >10.000000</td>\n",
       "            </tr>\n",
       "            <tr>\n",
       "                        <th id=\"T_9d73a_level0_row13\" class=\"row_heading level0 row13\" >balcony</th>\n",
       "                        <td id=\"T_9d73a_row13_col0\" class=\"data row13 col0\" >49.000000</td>\n",
       "            </tr>\n",
       "            <tr>\n",
       "                        <th id=\"T_9d73a_level0_row14\" class=\"row_heading level0 row14\" >locality_name</th>\n",
       "                        <td id=\"T_9d73a_row14_col0\" class=\"data row14 col0\" >0.000000</td>\n",
       "            </tr>\n",
       "            <tr>\n",
       "                        <th id=\"T_9d73a_level0_row15\" class=\"row_heading level0 row15\" >airports_nearest</th>\n",
       "                        <td id=\"T_9d73a_row15_col0\" class=\"data row15 col0\" >23.000000</td>\n",
       "            </tr>\n",
       "            <tr>\n",
       "                        <th id=\"T_9d73a_level0_row16\" class=\"row_heading level0 row16\" >cityCenters_nearest</th>\n",
       "                        <td id=\"T_9d73a_row16_col0\" class=\"data row16 col0\" >23.000000</td>\n",
       "            </tr>\n",
       "            <tr>\n",
       "                        <th id=\"T_9d73a_level0_row17\" class=\"row_heading level0 row17\" >parks_around3000</th>\n",
       "                        <td id=\"T_9d73a_row17_col0\" class=\"data row17 col0\" >23.000000</td>\n",
       "            </tr>\n",
       "            <tr>\n",
       "                        <th id=\"T_9d73a_level0_row18\" class=\"row_heading level0 row18\" >parks_nearest</th>\n",
       "                        <td id=\"T_9d73a_row18_col0\" class=\"data row18 col0\" >66.000000</td>\n",
       "            </tr>\n",
       "            <tr>\n",
       "                        <th id=\"T_9d73a_level0_row19\" class=\"row_heading level0 row19\" >ponds_around3000</th>\n",
       "                        <td id=\"T_9d73a_row19_col0\" class=\"data row19 col0\" >23.000000</td>\n",
       "            </tr>\n",
       "            <tr>\n",
       "                        <th id=\"T_9d73a_level0_row20\" class=\"row_heading level0 row20\" >ponds_nearest</th>\n",
       "                        <td id=\"T_9d73a_row20_col0\" class=\"data row20 col0\" >62.000000</td>\n",
       "            </tr>\n",
       "            <tr>\n",
       "                        <th id=\"T_9d73a_level0_row21\" class=\"row_heading level0 row21\" >days_exposition</th>\n",
       "                        <td id=\"T_9d73a_row21_col0\" class=\"data row21 col0\" >13.000000</td>\n",
       "            </tr>\n",
       "    </tbody></table>"
      ],
      "text/plain": [
       "<pandas.io.formats.style.Styler at 0x7f02101a2610>"
      ]
     },
     "execution_count": 5,
     "metadata": {},
     "output_type": "execute_result"
    }
   ],
   "source": [
    "pd.DataFrame(round(data.isna().mean()*100,)).style.background_gradient('coolwarm')"
   ]
  },
  {
   "cell_type": "code",
   "execution_count": 6,
   "metadata": {},
   "outputs": [
    {
     "data": {
      "text/html": [
       "<div>\n",
       "<style scoped>\n",
       "    .dataframe tbody tr th:only-of-type {\n",
       "        vertical-align: middle;\n",
       "    }\n",
       "\n",
       "    .dataframe tbody tr th {\n",
       "        vertical-align: top;\n",
       "    }\n",
       "\n",
       "    .dataframe thead th {\n",
       "        text-align: right;\n",
       "    }\n",
       "</style>\n",
       "<table border=\"1\" class=\"dataframe\">\n",
       "  <thead>\n",
       "    <tr style=\"text-align: right;\">\n",
       "      <th></th>\n",
       "      <th>total_images</th>\n",
       "      <th>last_price</th>\n",
       "      <th>total_area</th>\n",
       "      <th>rooms</th>\n",
       "      <th>ceiling_height</th>\n",
       "      <th>floors_total</th>\n",
       "      <th>living_area</th>\n",
       "      <th>floor</th>\n",
       "      <th>kitchen_area</th>\n",
       "      <th>balcony</th>\n",
       "      <th>airports_nearest</th>\n",
       "      <th>cityCenters_nearest</th>\n",
       "      <th>parks_around3000</th>\n",
       "      <th>parks_nearest</th>\n",
       "      <th>ponds_around3000</th>\n",
       "      <th>ponds_nearest</th>\n",
       "      <th>days_exposition</th>\n",
       "    </tr>\n",
       "  </thead>\n",
       "  <tbody>\n",
       "    <tr>\n",
       "      <th>count</th>\n",
       "      <td>23699.000000</td>\n",
       "      <td>2.369900e+04</td>\n",
       "      <td>23699.000000</td>\n",
       "      <td>23699.000000</td>\n",
       "      <td>14504.000000</td>\n",
       "      <td>23613.000000</td>\n",
       "      <td>21796.000000</td>\n",
       "      <td>23699.000000</td>\n",
       "      <td>21421.000000</td>\n",
       "      <td>12180.000000</td>\n",
       "      <td>18157.000000</td>\n",
       "      <td>18180.000000</td>\n",
       "      <td>18181.000000</td>\n",
       "      <td>8079.000000</td>\n",
       "      <td>18181.000000</td>\n",
       "      <td>9110.000000</td>\n",
       "      <td>20518.000000</td>\n",
       "    </tr>\n",
       "    <tr>\n",
       "      <th>mean</th>\n",
       "      <td>9.858475</td>\n",
       "      <td>6.541549e+06</td>\n",
       "      <td>60.348651</td>\n",
       "      <td>2.070636</td>\n",
       "      <td>2.771499</td>\n",
       "      <td>10.673824</td>\n",
       "      <td>34.457852</td>\n",
       "      <td>5.892358</td>\n",
       "      <td>10.569807</td>\n",
       "      <td>1.150082</td>\n",
       "      <td>28793.672193</td>\n",
       "      <td>14191.277833</td>\n",
       "      <td>0.611408</td>\n",
       "      <td>490.804555</td>\n",
       "      <td>0.770255</td>\n",
       "      <td>517.980900</td>\n",
       "      <td>180.888634</td>\n",
       "    </tr>\n",
       "    <tr>\n",
       "      <th>std</th>\n",
       "      <td>5.682529</td>\n",
       "      <td>1.088701e+07</td>\n",
       "      <td>35.654083</td>\n",
       "      <td>1.078405</td>\n",
       "      <td>1.261056</td>\n",
       "      <td>6.597173</td>\n",
       "      <td>22.030445</td>\n",
       "      <td>4.885249</td>\n",
       "      <td>5.905438</td>\n",
       "      <td>1.071300</td>\n",
       "      <td>12630.880622</td>\n",
       "      <td>8608.386210</td>\n",
       "      <td>0.802074</td>\n",
       "      <td>342.317995</td>\n",
       "      <td>0.938346</td>\n",
       "      <td>277.720643</td>\n",
       "      <td>219.727988</td>\n",
       "    </tr>\n",
       "    <tr>\n",
       "      <th>min</th>\n",
       "      <td>0.000000</td>\n",
       "      <td>1.219000e+04</td>\n",
       "      <td>12.000000</td>\n",
       "      <td>0.000000</td>\n",
       "      <td>1.000000</td>\n",
       "      <td>1.000000</td>\n",
       "      <td>2.000000</td>\n",
       "      <td>1.000000</td>\n",
       "      <td>1.300000</td>\n",
       "      <td>0.000000</td>\n",
       "      <td>0.000000</td>\n",
       "      <td>181.000000</td>\n",
       "      <td>0.000000</td>\n",
       "      <td>1.000000</td>\n",
       "      <td>0.000000</td>\n",
       "      <td>13.000000</td>\n",
       "      <td>1.000000</td>\n",
       "    </tr>\n",
       "    <tr>\n",
       "      <th>25%</th>\n",
       "      <td>6.000000</td>\n",
       "      <td>3.400000e+06</td>\n",
       "      <td>40.000000</td>\n",
       "      <td>1.000000</td>\n",
       "      <td>2.520000</td>\n",
       "      <td>5.000000</td>\n",
       "      <td>18.600000</td>\n",
       "      <td>2.000000</td>\n",
       "      <td>7.000000</td>\n",
       "      <td>0.000000</td>\n",
       "      <td>18585.000000</td>\n",
       "      <td>9238.000000</td>\n",
       "      <td>0.000000</td>\n",
       "      <td>288.000000</td>\n",
       "      <td>0.000000</td>\n",
       "      <td>294.000000</td>\n",
       "      <td>45.000000</td>\n",
       "    </tr>\n",
       "    <tr>\n",
       "      <th>50%</th>\n",
       "      <td>9.000000</td>\n",
       "      <td>4.650000e+06</td>\n",
       "      <td>52.000000</td>\n",
       "      <td>2.000000</td>\n",
       "      <td>2.650000</td>\n",
       "      <td>9.000000</td>\n",
       "      <td>30.000000</td>\n",
       "      <td>4.000000</td>\n",
       "      <td>9.100000</td>\n",
       "      <td>1.000000</td>\n",
       "      <td>26726.000000</td>\n",
       "      <td>13098.500000</td>\n",
       "      <td>0.000000</td>\n",
       "      <td>455.000000</td>\n",
       "      <td>1.000000</td>\n",
       "      <td>502.000000</td>\n",
       "      <td>95.000000</td>\n",
       "    </tr>\n",
       "    <tr>\n",
       "      <th>75%</th>\n",
       "      <td>14.000000</td>\n",
       "      <td>6.800000e+06</td>\n",
       "      <td>69.900000</td>\n",
       "      <td>3.000000</td>\n",
       "      <td>2.800000</td>\n",
       "      <td>16.000000</td>\n",
       "      <td>42.300000</td>\n",
       "      <td>8.000000</td>\n",
       "      <td>12.000000</td>\n",
       "      <td>2.000000</td>\n",
       "      <td>37273.000000</td>\n",
       "      <td>16293.000000</td>\n",
       "      <td>1.000000</td>\n",
       "      <td>612.000000</td>\n",
       "      <td>1.000000</td>\n",
       "      <td>729.000000</td>\n",
       "      <td>232.000000</td>\n",
       "    </tr>\n",
       "    <tr>\n",
       "      <th>max</th>\n",
       "      <td>50.000000</td>\n",
       "      <td>7.630000e+08</td>\n",
       "      <td>900.000000</td>\n",
       "      <td>19.000000</td>\n",
       "      <td>100.000000</td>\n",
       "      <td>60.000000</td>\n",
       "      <td>409.700000</td>\n",
       "      <td>33.000000</td>\n",
       "      <td>112.000000</td>\n",
       "      <td>5.000000</td>\n",
       "      <td>84869.000000</td>\n",
       "      <td>65968.000000</td>\n",
       "      <td>3.000000</td>\n",
       "      <td>3190.000000</td>\n",
       "      <td>3.000000</td>\n",
       "      <td>1344.000000</td>\n",
       "      <td>1580.000000</td>\n",
       "    </tr>\n",
       "  </tbody>\n",
       "</table>\n",
       "</div>"
      ],
      "text/plain": [
       "       total_images    last_price    total_area         rooms  ceiling_height  \\\n",
       "count  23699.000000  2.369900e+04  23699.000000  23699.000000    14504.000000   \n",
       "mean       9.858475  6.541549e+06     60.348651      2.070636        2.771499   \n",
       "std        5.682529  1.088701e+07     35.654083      1.078405        1.261056   \n",
       "min        0.000000  1.219000e+04     12.000000      0.000000        1.000000   \n",
       "25%        6.000000  3.400000e+06     40.000000      1.000000        2.520000   \n",
       "50%        9.000000  4.650000e+06     52.000000      2.000000        2.650000   \n",
       "75%       14.000000  6.800000e+06     69.900000      3.000000        2.800000   \n",
       "max       50.000000  7.630000e+08    900.000000     19.000000      100.000000   \n",
       "\n",
       "       floors_total   living_area         floor  kitchen_area       balcony  \\\n",
       "count  23613.000000  21796.000000  23699.000000  21421.000000  12180.000000   \n",
       "mean      10.673824     34.457852      5.892358     10.569807      1.150082   \n",
       "std        6.597173     22.030445      4.885249      5.905438      1.071300   \n",
       "min        1.000000      2.000000      1.000000      1.300000      0.000000   \n",
       "25%        5.000000     18.600000      2.000000      7.000000      0.000000   \n",
       "50%        9.000000     30.000000      4.000000      9.100000      1.000000   \n",
       "75%       16.000000     42.300000      8.000000     12.000000      2.000000   \n",
       "max       60.000000    409.700000     33.000000    112.000000      5.000000   \n",
       "\n",
       "       airports_nearest  cityCenters_nearest  parks_around3000  parks_nearest  \\\n",
       "count      18157.000000         18180.000000      18181.000000    8079.000000   \n",
       "mean       28793.672193         14191.277833          0.611408     490.804555   \n",
       "std        12630.880622          8608.386210          0.802074     342.317995   \n",
       "min            0.000000           181.000000          0.000000       1.000000   \n",
       "25%        18585.000000          9238.000000          0.000000     288.000000   \n",
       "50%        26726.000000         13098.500000          0.000000     455.000000   \n",
       "75%        37273.000000         16293.000000          1.000000     612.000000   \n",
       "max        84869.000000         65968.000000          3.000000    3190.000000   \n",
       "\n",
       "       ponds_around3000  ponds_nearest  days_exposition  \n",
       "count      18181.000000    9110.000000     20518.000000  \n",
       "mean           0.770255     517.980900       180.888634  \n",
       "std            0.938346     277.720643       219.727988  \n",
       "min            0.000000      13.000000         1.000000  \n",
       "25%            0.000000     294.000000        45.000000  \n",
       "50%            1.000000     502.000000        95.000000  \n",
       "75%            1.000000     729.000000       232.000000  \n",
       "max            3.000000    1344.000000      1580.000000  "
      ]
     },
     "execution_count": 6,
     "metadata": {},
     "output_type": "execute_result"
    }
   ],
   "source": [
    "data.describe()"
   ]
  },
  {
   "cell_type": "markdown",
   "metadata": {},
   "source": [
    "#### Минимальное _количество комнат_ равно нулю."
   ]
  },
  {
   "cell_type": "code",
   "execution_count": 7,
   "metadata": {},
   "outputs": [
    {
     "data": {
      "text/plain": [
       "array([nan])"
      ]
     },
     "execution_count": 7,
     "metadata": {},
     "output_type": "execute_result"
    }
   ],
   "source": [
    "data.query('rooms == 0')['kitchen_area'].unique()"
   ]
  },
  {
   "cell_type": "code",
   "execution_count": 8,
   "metadata": {},
   "outputs": [
    {
     "data": {
      "text/html": [
       "<div>\n",
       "<style scoped>\n",
       "    .dataframe tbody tr th:only-of-type {\n",
       "        vertical-align: middle;\n",
       "    }\n",
       "\n",
       "    .dataframe tbody tr th {\n",
       "        vertical-align: top;\n",
       "    }\n",
       "\n",
       "    .dataframe thead th {\n",
       "        text-align: right;\n",
       "    }\n",
       "</style>\n",
       "<table border=\"1\" class=\"dataframe\">\n",
       "  <thead>\n",
       "    <tr style=\"text-align: right;\">\n",
       "      <th></th>\n",
       "      <th>total_images</th>\n",
       "      <th>last_price</th>\n",
       "      <th>total_area</th>\n",
       "      <th>first_day_exposition</th>\n",
       "      <th>rooms</th>\n",
       "      <th>ceiling_height</th>\n",
       "      <th>floors_total</th>\n",
       "      <th>living_area</th>\n",
       "      <th>floor</th>\n",
       "      <th>is_apartment</th>\n",
       "      <th>...</th>\n",
       "      <th>kitchen_area</th>\n",
       "      <th>balcony</th>\n",
       "      <th>locality_name</th>\n",
       "      <th>airports_nearest</th>\n",
       "      <th>cityCenters_nearest</th>\n",
       "      <th>parks_around3000</th>\n",
       "      <th>parks_nearest</th>\n",
       "      <th>ponds_around3000</th>\n",
       "      <th>ponds_nearest</th>\n",
       "      <th>days_exposition</th>\n",
       "    </tr>\n",
       "  </thead>\n",
       "  <tbody>\n",
       "    <tr>\n",
       "      <th>349</th>\n",
       "      <td>4</td>\n",
       "      <td>2320000.0</td>\n",
       "      <td>25.00</td>\n",
       "      <td>2017-09-27T00:00:00</td>\n",
       "      <td>0</td>\n",
       "      <td>NaN</td>\n",
       "      <td>14.0</td>\n",
       "      <td>17.0</td>\n",
       "      <td>1</td>\n",
       "      <td>NaN</td>\n",
       "      <td>...</td>\n",
       "      <td>NaN</td>\n",
       "      <td>0.0</td>\n",
       "      <td>деревня Кудрово</td>\n",
       "      <td>NaN</td>\n",
       "      <td>NaN</td>\n",
       "      <td>NaN</td>\n",
       "      <td>NaN</td>\n",
       "      <td>NaN</td>\n",
       "      <td>NaN</td>\n",
       "      <td>45.0</td>\n",
       "    </tr>\n",
       "    <tr>\n",
       "      <th>508</th>\n",
       "      <td>0</td>\n",
       "      <td>3375000.0</td>\n",
       "      <td>34.40</td>\n",
       "      <td>2017-03-28T00:00:00</td>\n",
       "      <td>0</td>\n",
       "      <td>NaN</td>\n",
       "      <td>26.0</td>\n",
       "      <td>24.3</td>\n",
       "      <td>19</td>\n",
       "      <td>NaN</td>\n",
       "      <td>...</td>\n",
       "      <td>NaN</td>\n",
       "      <td>1.0</td>\n",
       "      <td>посёлок Парголово</td>\n",
       "      <td>53115.0</td>\n",
       "      <td>19292.0</td>\n",
       "      <td>0.0</td>\n",
       "      <td>NaN</td>\n",
       "      <td>1.0</td>\n",
       "      <td>593.0</td>\n",
       "      <td>430.0</td>\n",
       "    </tr>\n",
       "    <tr>\n",
       "      <th>780</th>\n",
       "      <td>9</td>\n",
       "      <td>2600000.0</td>\n",
       "      <td>26.10</td>\n",
       "      <td>2018-02-20T00:00:00</td>\n",
       "      <td>0</td>\n",
       "      <td>NaN</td>\n",
       "      <td>18.0</td>\n",
       "      <td>NaN</td>\n",
       "      <td>8</td>\n",
       "      <td>NaN</td>\n",
       "      <td>...</td>\n",
       "      <td>NaN</td>\n",
       "      <td>1.0</td>\n",
       "      <td>посёлок Мурино</td>\n",
       "      <td>NaN</td>\n",
       "      <td>NaN</td>\n",
       "      <td>NaN</td>\n",
       "      <td>NaN</td>\n",
       "      <td>NaN</td>\n",
       "      <td>NaN</td>\n",
       "      <td>45.0</td>\n",
       "    </tr>\n",
       "    <tr>\n",
       "      <th>839</th>\n",
       "      <td>14</td>\n",
       "      <td>1900000.0</td>\n",
       "      <td>35.00</td>\n",
       "      <td>2017-04-14T00:00:00</td>\n",
       "      <td>0</td>\n",
       "      <td>2.7</td>\n",
       "      <td>5.0</td>\n",
       "      <td>15.0</td>\n",
       "      <td>3</td>\n",
       "      <td>False</td>\n",
       "      <td>...</td>\n",
       "      <td>NaN</td>\n",
       "      <td>1.0</td>\n",
       "      <td>поселок Новый Свет</td>\n",
       "      <td>NaN</td>\n",
       "      <td>NaN</td>\n",
       "      <td>NaN</td>\n",
       "      <td>NaN</td>\n",
       "      <td>NaN</td>\n",
       "      <td>NaN</td>\n",
       "      <td>7.0</td>\n",
       "    </tr>\n",
       "    <tr>\n",
       "      <th>946</th>\n",
       "      <td>5</td>\n",
       "      <td>2200000.0</td>\n",
       "      <td>23.00</td>\n",
       "      <td>2016-09-27T00:00:00</td>\n",
       "      <td>0</td>\n",
       "      <td>NaN</td>\n",
       "      <td>27.0</td>\n",
       "      <td>18.0</td>\n",
       "      <td>7</td>\n",
       "      <td>NaN</td>\n",
       "      <td>...</td>\n",
       "      <td>NaN</td>\n",
       "      <td>2.0</td>\n",
       "      <td>посёлок Мурино</td>\n",
       "      <td>NaN</td>\n",
       "      <td>NaN</td>\n",
       "      <td>NaN</td>\n",
       "      <td>NaN</td>\n",
       "      <td>NaN</td>\n",
       "      <td>NaN</td>\n",
       "      <td>483.0</td>\n",
       "    </tr>\n",
       "    <tr>\n",
       "      <th>1574</th>\n",
       "      <td>0</td>\n",
       "      <td>2200000.0</td>\n",
       "      <td>22.00</td>\n",
       "      <td>2017-11-03T00:00:00</td>\n",
       "      <td>0</td>\n",
       "      <td>NaN</td>\n",
       "      <td>18.0</td>\n",
       "      <td>15.0</td>\n",
       "      <td>16</td>\n",
       "      <td>NaN</td>\n",
       "      <td>...</td>\n",
       "      <td>NaN</td>\n",
       "      <td>1.0</td>\n",
       "      <td>деревня Кудрово</td>\n",
       "      <td>NaN</td>\n",
       "      <td>NaN</td>\n",
       "      <td>NaN</td>\n",
       "      <td>NaN</td>\n",
       "      <td>NaN</td>\n",
       "      <td>NaN</td>\n",
       "      <td>81.0</td>\n",
       "    </tr>\n",
       "    <tr>\n",
       "      <th>1625</th>\n",
       "      <td>7</td>\n",
       "      <td>1980000.0</td>\n",
       "      <td>23.98</td>\n",
       "      <td>2018-02-01T00:00:00</td>\n",
       "      <td>0</td>\n",
       "      <td>NaN</td>\n",
       "      <td>4.0</td>\n",
       "      <td>10.5</td>\n",
       "      <td>3</td>\n",
       "      <td>NaN</td>\n",
       "      <td>...</td>\n",
       "      <td>NaN</td>\n",
       "      <td>1.0</td>\n",
       "      <td>поселок станции Корнево</td>\n",
       "      <td>NaN</td>\n",
       "      <td>NaN</td>\n",
       "      <td>NaN</td>\n",
       "      <td>NaN</td>\n",
       "      <td>NaN</td>\n",
       "      <td>NaN</td>\n",
       "      <td>120.0</td>\n",
       "    </tr>\n",
       "    <tr>\n",
       "      <th>2532</th>\n",
       "      <td>5</td>\n",
       "      <td>3500000.0</td>\n",
       "      <td>27.10</td>\n",
       "      <td>2018-02-01T00:00:00</td>\n",
       "      <td>0</td>\n",
       "      <td>NaN</td>\n",
       "      <td>18.0</td>\n",
       "      <td>18.7</td>\n",
       "      <td>9</td>\n",
       "      <td>NaN</td>\n",
       "      <td>...</td>\n",
       "      <td>NaN</td>\n",
       "      <td>2.0</td>\n",
       "      <td>Санкт-Петербург</td>\n",
       "      <td>32036.0</td>\n",
       "      <td>8175.0</td>\n",
       "      <td>0.0</td>\n",
       "      <td>NaN</td>\n",
       "      <td>1.0</td>\n",
       "      <td>644.0</td>\n",
       "      <td>70.0</td>\n",
       "    </tr>\n",
       "    <tr>\n",
       "      <th>3019</th>\n",
       "      <td>18</td>\n",
       "      <td>2100000.0</td>\n",
       "      <td>24.00</td>\n",
       "      <td>2017-11-10T00:00:00</td>\n",
       "      <td>0</td>\n",
       "      <td>NaN</td>\n",
       "      <td>10.0</td>\n",
       "      <td>18.0</td>\n",
       "      <td>6</td>\n",
       "      <td>NaN</td>\n",
       "      <td>...</td>\n",
       "      <td>NaN</td>\n",
       "      <td>2.0</td>\n",
       "      <td>Сертолово</td>\n",
       "      <td>NaN</td>\n",
       "      <td>NaN</td>\n",
       "      <td>NaN</td>\n",
       "      <td>NaN</td>\n",
       "      <td>NaN</td>\n",
       "      <td>NaN</td>\n",
       "      <td>5.0</td>\n",
       "    </tr>\n",
       "    <tr>\n",
       "      <th>4115</th>\n",
       "      <td>7</td>\n",
       "      <td>2600000.0</td>\n",
       "      <td>24.00</td>\n",
       "      <td>2018-02-01T00:00:00</td>\n",
       "      <td>0</td>\n",
       "      <td>NaN</td>\n",
       "      <td>25.0</td>\n",
       "      <td>18.0</td>\n",
       "      <td>4</td>\n",
       "      <td>NaN</td>\n",
       "      <td>...</td>\n",
       "      <td>NaN</td>\n",
       "      <td>2.0</td>\n",
       "      <td>Санкт-Петербург</td>\n",
       "      <td>10031.0</td>\n",
       "      <td>13330.0</td>\n",
       "      <td>1.0</td>\n",
       "      <td>915.0</td>\n",
       "      <td>0.0</td>\n",
       "      <td>NaN</td>\n",
       "      <td>42.0</td>\n",
       "    </tr>\n",
       "  </tbody>\n",
       "</table>\n",
       "<p>10 rows × 22 columns</p>\n",
       "</div>"
      ],
      "text/plain": [
       "      total_images  last_price  total_area first_day_exposition  rooms  \\\n",
       "349              4   2320000.0       25.00  2017-09-27T00:00:00      0   \n",
       "508              0   3375000.0       34.40  2017-03-28T00:00:00      0   \n",
       "780              9   2600000.0       26.10  2018-02-20T00:00:00      0   \n",
       "839             14   1900000.0       35.00  2017-04-14T00:00:00      0   \n",
       "946              5   2200000.0       23.00  2016-09-27T00:00:00      0   \n",
       "1574             0   2200000.0       22.00  2017-11-03T00:00:00      0   \n",
       "1625             7   1980000.0       23.98  2018-02-01T00:00:00      0   \n",
       "2532             5   3500000.0       27.10  2018-02-01T00:00:00      0   \n",
       "3019            18   2100000.0       24.00  2017-11-10T00:00:00      0   \n",
       "4115             7   2600000.0       24.00  2018-02-01T00:00:00      0   \n",
       "\n",
       "      ceiling_height  floors_total  living_area  floor is_apartment  ...  \\\n",
       "349              NaN          14.0         17.0      1          NaN  ...   \n",
       "508              NaN          26.0         24.3     19          NaN  ...   \n",
       "780              NaN          18.0          NaN      8          NaN  ...   \n",
       "839              2.7           5.0         15.0      3        False  ...   \n",
       "946              NaN          27.0         18.0      7          NaN  ...   \n",
       "1574             NaN          18.0         15.0     16          NaN  ...   \n",
       "1625             NaN           4.0         10.5      3          NaN  ...   \n",
       "2532             NaN          18.0         18.7      9          NaN  ...   \n",
       "3019             NaN          10.0         18.0      6          NaN  ...   \n",
       "4115             NaN          25.0         18.0      4          NaN  ...   \n",
       "\n",
       "      kitchen_area  balcony            locality_name  airports_nearest  \\\n",
       "349            NaN      0.0          деревня Кудрово               NaN   \n",
       "508            NaN      1.0        посёлок Парголово           53115.0   \n",
       "780            NaN      1.0           посёлок Мурино               NaN   \n",
       "839            NaN      1.0       поселок Новый Свет               NaN   \n",
       "946            NaN      2.0           посёлок Мурино               NaN   \n",
       "1574           NaN      1.0          деревня Кудрово               NaN   \n",
       "1625           NaN      1.0  поселок станции Корнево               NaN   \n",
       "2532           NaN      2.0          Санкт-Петербург           32036.0   \n",
       "3019           NaN      2.0                Сертолово               NaN   \n",
       "4115           NaN      2.0          Санкт-Петербург           10031.0   \n",
       "\n",
       "     cityCenters_nearest  parks_around3000  parks_nearest  ponds_around3000  \\\n",
       "349                  NaN               NaN            NaN               NaN   \n",
       "508              19292.0               0.0            NaN               1.0   \n",
       "780                  NaN               NaN            NaN               NaN   \n",
       "839                  NaN               NaN            NaN               NaN   \n",
       "946                  NaN               NaN            NaN               NaN   \n",
       "1574                 NaN               NaN            NaN               NaN   \n",
       "1625                 NaN               NaN            NaN               NaN   \n",
       "2532              8175.0               0.0            NaN               1.0   \n",
       "3019                 NaN               NaN            NaN               NaN   \n",
       "4115             13330.0               1.0          915.0               0.0   \n",
       "\n",
       "      ponds_nearest  days_exposition  \n",
       "349             NaN             45.0  \n",
       "508           593.0            430.0  \n",
       "780             NaN             45.0  \n",
       "839             NaN              7.0  \n",
       "946             NaN            483.0  \n",
       "1574            NaN             81.0  \n",
       "1625            NaN            120.0  \n",
       "2532          644.0             70.0  \n",
       "3019            NaN              5.0  \n",
       "4115            NaN             42.0  \n",
       "\n",
       "[10 rows x 22 columns]"
      ]
     },
     "execution_count": 8,
     "metadata": {},
     "output_type": "execute_result"
    }
   ],
   "source": [
    "data.query('rooms == 0 and studio == False').head(10)"
   ]
  },
  {
   "cell_type": "markdown",
   "metadata": {},
   "source": [
    "***Вывод:***\n",
    "   При количестве комнат равном нулю во всех случаях наличие кухни не указано (значение \"NaN\"). Возможно, это квартиры-студии. При этом существуют квартиры, тип которых не является студией по таблице. Скорее всего вид квартиры указан неверно. Поэтому оставляем нулевые значения для количества комнат."
   ]
  },
  {
   "cell_type": "code",
   "execution_count": 9,
   "metadata": {},
   "outputs": [
    {
     "data": {
      "text/html": [
       "<div>\n",
       "<style scoped>\n",
       "    .dataframe tbody tr th:only-of-type {\n",
       "        vertical-align: middle;\n",
       "    }\n",
       "\n",
       "    .dataframe tbody tr th {\n",
       "        vertical-align: top;\n",
       "    }\n",
       "\n",
       "    .dataframe thead th {\n",
       "        text-align: right;\n",
       "    }\n",
       "</style>\n",
       "<table border=\"1\" class=\"dataframe\">\n",
       "  <thead>\n",
       "    <tr style=\"text-align: right;\">\n",
       "      <th></th>\n",
       "      <th>total_images</th>\n",
       "      <th>last_price</th>\n",
       "      <th>total_area</th>\n",
       "      <th>first_day_exposition</th>\n",
       "      <th>rooms</th>\n",
       "      <th>ceiling_height</th>\n",
       "      <th>floors_total</th>\n",
       "      <th>living_area</th>\n",
       "      <th>floor</th>\n",
       "      <th>is_apartment</th>\n",
       "      <th>...</th>\n",
       "      <th>kitchen_area</th>\n",
       "      <th>balcony</th>\n",
       "      <th>locality_name</th>\n",
       "      <th>airports_nearest</th>\n",
       "      <th>cityCenters_nearest</th>\n",
       "      <th>parks_around3000</th>\n",
       "      <th>parks_nearest</th>\n",
       "      <th>ponds_around3000</th>\n",
       "      <th>ponds_nearest</th>\n",
       "      <th>days_exposition</th>\n",
       "    </tr>\n",
       "  </thead>\n",
       "  <tbody>\n",
       "    <tr>\n",
       "      <th>0</th>\n",
       "      <td>20</td>\n",
       "      <td>13000000.0</td>\n",
       "      <td>108.00</td>\n",
       "      <td>2019-03-07T00:00:00</td>\n",
       "      <td>3</td>\n",
       "      <td>2.70</td>\n",
       "      <td>16.0</td>\n",
       "      <td>51.0</td>\n",
       "      <td>8</td>\n",
       "      <td>NaN</td>\n",
       "      <td>...</td>\n",
       "      <td>25.00</td>\n",
       "      <td>NaN</td>\n",
       "      <td>Санкт-Петербург</td>\n",
       "      <td>18863.0</td>\n",
       "      <td>16028.0</td>\n",
       "      <td>1.0</td>\n",
       "      <td>482.0</td>\n",
       "      <td>2.0</td>\n",
       "      <td>755.0</td>\n",
       "      <td>NaN</td>\n",
       "    </tr>\n",
       "    <tr>\n",
       "      <th>1</th>\n",
       "      <td>7</td>\n",
       "      <td>3350000.0</td>\n",
       "      <td>40.40</td>\n",
       "      <td>2018-12-04T00:00:00</td>\n",
       "      <td>1</td>\n",
       "      <td>NaN</td>\n",
       "      <td>11.0</td>\n",
       "      <td>18.6</td>\n",
       "      <td>1</td>\n",
       "      <td>NaN</td>\n",
       "      <td>...</td>\n",
       "      <td>11.00</td>\n",
       "      <td>2.0</td>\n",
       "      <td>посёлок Шушары</td>\n",
       "      <td>12817.0</td>\n",
       "      <td>18603.0</td>\n",
       "      <td>0.0</td>\n",
       "      <td>NaN</td>\n",
       "      <td>0.0</td>\n",
       "      <td>NaN</td>\n",
       "      <td>81.0</td>\n",
       "    </tr>\n",
       "    <tr>\n",
       "      <th>2</th>\n",
       "      <td>10</td>\n",
       "      <td>5196000.0</td>\n",
       "      <td>56.00</td>\n",
       "      <td>2015-08-20T00:00:00</td>\n",
       "      <td>2</td>\n",
       "      <td>NaN</td>\n",
       "      <td>5.0</td>\n",
       "      <td>34.3</td>\n",
       "      <td>4</td>\n",
       "      <td>NaN</td>\n",
       "      <td>...</td>\n",
       "      <td>8.30</td>\n",
       "      <td>0.0</td>\n",
       "      <td>Санкт-Петербург</td>\n",
       "      <td>21741.0</td>\n",
       "      <td>13933.0</td>\n",
       "      <td>1.0</td>\n",
       "      <td>90.0</td>\n",
       "      <td>2.0</td>\n",
       "      <td>574.0</td>\n",
       "      <td>558.0</td>\n",
       "    </tr>\n",
       "    <tr>\n",
       "      <th>3</th>\n",
       "      <td>0</td>\n",
       "      <td>64900000.0</td>\n",
       "      <td>159.00</td>\n",
       "      <td>2015-07-24T00:00:00</td>\n",
       "      <td>3</td>\n",
       "      <td>NaN</td>\n",
       "      <td>14.0</td>\n",
       "      <td>NaN</td>\n",
       "      <td>9</td>\n",
       "      <td>NaN</td>\n",
       "      <td>...</td>\n",
       "      <td>NaN</td>\n",
       "      <td>0.0</td>\n",
       "      <td>Санкт-Петербург</td>\n",
       "      <td>28098.0</td>\n",
       "      <td>6800.0</td>\n",
       "      <td>2.0</td>\n",
       "      <td>84.0</td>\n",
       "      <td>3.0</td>\n",
       "      <td>234.0</td>\n",
       "      <td>424.0</td>\n",
       "    </tr>\n",
       "    <tr>\n",
       "      <th>4</th>\n",
       "      <td>2</td>\n",
       "      <td>10000000.0</td>\n",
       "      <td>100.00</td>\n",
       "      <td>2018-06-19T00:00:00</td>\n",
       "      <td>2</td>\n",
       "      <td>3.03</td>\n",
       "      <td>14.0</td>\n",
       "      <td>32.0</td>\n",
       "      <td>13</td>\n",
       "      <td>NaN</td>\n",
       "      <td>...</td>\n",
       "      <td>41.00</td>\n",
       "      <td>NaN</td>\n",
       "      <td>Санкт-Петербург</td>\n",
       "      <td>31856.0</td>\n",
       "      <td>8098.0</td>\n",
       "      <td>2.0</td>\n",
       "      <td>112.0</td>\n",
       "      <td>1.0</td>\n",
       "      <td>48.0</td>\n",
       "      <td>121.0</td>\n",
       "    </tr>\n",
       "    <tr>\n",
       "      <th>...</th>\n",
       "      <td>...</td>\n",
       "      <td>...</td>\n",
       "      <td>...</td>\n",
       "      <td>...</td>\n",
       "      <td>...</td>\n",
       "      <td>...</td>\n",
       "      <td>...</td>\n",
       "      <td>...</td>\n",
       "      <td>...</td>\n",
       "      <td>...</td>\n",
       "      <td>...</td>\n",
       "      <td>...</td>\n",
       "      <td>...</td>\n",
       "      <td>...</td>\n",
       "      <td>...</td>\n",
       "      <td>...</td>\n",
       "      <td>...</td>\n",
       "      <td>...</td>\n",
       "      <td>...</td>\n",
       "      <td>...</td>\n",
       "      <td>...</td>\n",
       "    </tr>\n",
       "    <tr>\n",
       "      <th>23694</th>\n",
       "      <td>9</td>\n",
       "      <td>9700000.0</td>\n",
       "      <td>133.81</td>\n",
       "      <td>2017-03-21T00:00:00</td>\n",
       "      <td>3</td>\n",
       "      <td>3.70</td>\n",
       "      <td>5.0</td>\n",
       "      <td>73.3</td>\n",
       "      <td>3</td>\n",
       "      <td>NaN</td>\n",
       "      <td>...</td>\n",
       "      <td>13.83</td>\n",
       "      <td>NaN</td>\n",
       "      <td>Санкт-Петербург</td>\n",
       "      <td>24665.0</td>\n",
       "      <td>4232.0</td>\n",
       "      <td>1.0</td>\n",
       "      <td>796.0</td>\n",
       "      <td>3.0</td>\n",
       "      <td>381.0</td>\n",
       "      <td>NaN</td>\n",
       "    </tr>\n",
       "    <tr>\n",
       "      <th>23695</th>\n",
       "      <td>14</td>\n",
       "      <td>3100000.0</td>\n",
       "      <td>59.00</td>\n",
       "      <td>2018-01-15T00:00:00</td>\n",
       "      <td>3</td>\n",
       "      <td>NaN</td>\n",
       "      <td>5.0</td>\n",
       "      <td>38.0</td>\n",
       "      <td>4</td>\n",
       "      <td>NaN</td>\n",
       "      <td>...</td>\n",
       "      <td>8.50</td>\n",
       "      <td>NaN</td>\n",
       "      <td>Тосно</td>\n",
       "      <td>NaN</td>\n",
       "      <td>NaN</td>\n",
       "      <td>NaN</td>\n",
       "      <td>NaN</td>\n",
       "      <td>NaN</td>\n",
       "      <td>NaN</td>\n",
       "      <td>45.0</td>\n",
       "    </tr>\n",
       "    <tr>\n",
       "      <th>23696</th>\n",
       "      <td>18</td>\n",
       "      <td>2500000.0</td>\n",
       "      <td>56.70</td>\n",
       "      <td>2018-02-11T00:00:00</td>\n",
       "      <td>2</td>\n",
       "      <td>NaN</td>\n",
       "      <td>3.0</td>\n",
       "      <td>29.7</td>\n",
       "      <td>1</td>\n",
       "      <td>NaN</td>\n",
       "      <td>...</td>\n",
       "      <td>NaN</td>\n",
       "      <td>NaN</td>\n",
       "      <td>село Рождествено</td>\n",
       "      <td>NaN</td>\n",
       "      <td>NaN</td>\n",
       "      <td>NaN</td>\n",
       "      <td>NaN</td>\n",
       "      <td>NaN</td>\n",
       "      <td>NaN</td>\n",
       "      <td>NaN</td>\n",
       "    </tr>\n",
       "    <tr>\n",
       "      <th>23697</th>\n",
       "      <td>13</td>\n",
       "      <td>11475000.0</td>\n",
       "      <td>76.75</td>\n",
       "      <td>2017-03-28T00:00:00</td>\n",
       "      <td>2</td>\n",
       "      <td>3.00</td>\n",
       "      <td>17.0</td>\n",
       "      <td>NaN</td>\n",
       "      <td>12</td>\n",
       "      <td>NaN</td>\n",
       "      <td>...</td>\n",
       "      <td>23.30</td>\n",
       "      <td>2.0</td>\n",
       "      <td>Санкт-Петербург</td>\n",
       "      <td>39140.0</td>\n",
       "      <td>10364.0</td>\n",
       "      <td>2.0</td>\n",
       "      <td>173.0</td>\n",
       "      <td>3.0</td>\n",
       "      <td>196.0</td>\n",
       "      <td>602.0</td>\n",
       "    </tr>\n",
       "    <tr>\n",
       "      <th>23698</th>\n",
       "      <td>4</td>\n",
       "      <td>1350000.0</td>\n",
       "      <td>32.30</td>\n",
       "      <td>2017-07-21T00:00:00</td>\n",
       "      <td>1</td>\n",
       "      <td>2.50</td>\n",
       "      <td>5.0</td>\n",
       "      <td>12.3</td>\n",
       "      <td>1</td>\n",
       "      <td>NaN</td>\n",
       "      <td>...</td>\n",
       "      <td>9.00</td>\n",
       "      <td>NaN</td>\n",
       "      <td>поселок Новый Учхоз</td>\n",
       "      <td>NaN</td>\n",
       "      <td>NaN</td>\n",
       "      <td>NaN</td>\n",
       "      <td>NaN</td>\n",
       "      <td>NaN</td>\n",
       "      <td>NaN</td>\n",
       "      <td>NaN</td>\n",
       "    </tr>\n",
       "  </tbody>\n",
       "</table>\n",
       "<p>23699 rows × 22 columns</p>\n",
       "</div>"
      ],
      "text/plain": [
       "       total_images  last_price  total_area first_day_exposition  rooms  \\\n",
       "0                20  13000000.0      108.00  2019-03-07T00:00:00      3   \n",
       "1                 7   3350000.0       40.40  2018-12-04T00:00:00      1   \n",
       "2                10   5196000.0       56.00  2015-08-20T00:00:00      2   \n",
       "3                 0  64900000.0      159.00  2015-07-24T00:00:00      3   \n",
       "4                 2  10000000.0      100.00  2018-06-19T00:00:00      2   \n",
       "...             ...         ...         ...                  ...    ...   \n",
       "23694             9   9700000.0      133.81  2017-03-21T00:00:00      3   \n",
       "23695            14   3100000.0       59.00  2018-01-15T00:00:00      3   \n",
       "23696            18   2500000.0       56.70  2018-02-11T00:00:00      2   \n",
       "23697            13  11475000.0       76.75  2017-03-28T00:00:00      2   \n",
       "23698             4   1350000.0       32.30  2017-07-21T00:00:00      1   \n",
       "\n",
       "       ceiling_height  floors_total  living_area  floor is_apartment  ...  \\\n",
       "0                2.70          16.0         51.0      8          NaN  ...   \n",
       "1                 NaN          11.0         18.6      1          NaN  ...   \n",
       "2                 NaN           5.0         34.3      4          NaN  ...   \n",
       "3                 NaN          14.0          NaN      9          NaN  ...   \n",
       "4                3.03          14.0         32.0     13          NaN  ...   \n",
       "...               ...           ...          ...    ...          ...  ...   \n",
       "23694            3.70           5.0         73.3      3          NaN  ...   \n",
       "23695             NaN           5.0         38.0      4          NaN  ...   \n",
       "23696             NaN           3.0         29.7      1          NaN  ...   \n",
       "23697            3.00          17.0          NaN     12          NaN  ...   \n",
       "23698            2.50           5.0         12.3      1          NaN  ...   \n",
       "\n",
       "       kitchen_area  balcony        locality_name  airports_nearest  \\\n",
       "0             25.00      NaN      Санкт-Петербург           18863.0   \n",
       "1             11.00      2.0       посёлок Шушары           12817.0   \n",
       "2              8.30      0.0      Санкт-Петербург           21741.0   \n",
       "3               NaN      0.0      Санкт-Петербург           28098.0   \n",
       "4             41.00      NaN      Санкт-Петербург           31856.0   \n",
       "...             ...      ...                  ...               ...   \n",
       "23694         13.83      NaN      Санкт-Петербург           24665.0   \n",
       "23695          8.50      NaN                Тосно               NaN   \n",
       "23696           NaN      NaN     село Рождествено               NaN   \n",
       "23697         23.30      2.0      Санкт-Петербург           39140.0   \n",
       "23698          9.00      NaN  поселок Новый Учхоз               NaN   \n",
       "\n",
       "      cityCenters_nearest  parks_around3000  parks_nearest  ponds_around3000  \\\n",
       "0                 16028.0               1.0          482.0               2.0   \n",
       "1                 18603.0               0.0            NaN               0.0   \n",
       "2                 13933.0               1.0           90.0               2.0   \n",
       "3                  6800.0               2.0           84.0               3.0   \n",
       "4                  8098.0               2.0          112.0               1.0   \n",
       "...                   ...               ...            ...               ...   \n",
       "23694              4232.0               1.0          796.0               3.0   \n",
       "23695                 NaN               NaN            NaN               NaN   \n",
       "23696                 NaN               NaN            NaN               NaN   \n",
       "23697             10364.0               2.0          173.0               3.0   \n",
       "23698                 NaN               NaN            NaN               NaN   \n",
       "\n",
       "       ponds_nearest  days_exposition  \n",
       "0              755.0              NaN  \n",
       "1                NaN             81.0  \n",
       "2              574.0            558.0  \n",
       "3              234.0            424.0  \n",
       "4               48.0            121.0  \n",
       "...              ...              ...  \n",
       "23694          381.0              NaN  \n",
       "23695            NaN             45.0  \n",
       "23696            NaN              NaN  \n",
       "23697          196.0            602.0  \n",
       "23698            NaN              NaN  \n",
       "\n",
       "[23699 rows x 22 columns]"
      ]
     },
     "execution_count": 9,
     "metadata": {},
     "output_type": "execute_result"
    }
   ],
   "source": [
    "data"
   ]
  },
  {
   "cell_type": "markdown",
   "metadata": {},
   "source": [
    "#### Удаляем записи, где отсутствует название населенного пункта и количество этажей в доме"
   ]
  },
  {
   "cell_type": "code",
   "execution_count": 10,
   "metadata": {},
   "outputs": [],
   "source": [
    "data.dropna(subset=['locality_name'], inplace=True)\n",
    "data.dropna(subset=['floors_total'], inplace=True)"
   ]
  },
  {
   "cell_type": "markdown",
   "metadata": {},
   "source": [
    "#### Заменяем на нулевые значения"
   ]
  },
  {
   "cell_type": "code",
   "execution_count": 11,
   "metadata": {},
   "outputs": [],
   "source": [
    "data['is_apartment'] = data['is_apartment'].fillna(value=False)\n",
    "data['balcony'] = data['balcony'].fillna(value=0).astype(int)\n",
    "data['parks_around3000'] = data['parks_around3000'].fillna(value=0).astype(int)\n",
    "data['ponds_around3000'] = data['ponds_around3000'].fillna(value=0).astype(int)"
   ]
  },
  {
   "cell_type": "markdown",
   "metadata": {},
   "source": [
    "#### Заменяем пустые значения жилой площади и площади кухни"
   ]
  },
  {
   "cell_type": "code",
   "execution_count": 12,
   "metadata": {},
   "outputs": [],
   "source": [
    "living_ratio = data['living_area'].mean() / data['total_area'].mean()\n",
    "kitchen_ratio = data['kitchen_area'].mean() / data['total_area'].mean()\n",
    "data['living_area'].fillna(living_ratio * data['total_area'], inplace=True)\n",
    "data['kitchen_area'].fillna(kitchen_ratio * data['total_area'], inplace=True)"
   ]
  },
  {
   "cell_type": "code",
   "execution_count": 13,
   "metadata": {},
   "outputs": [
    {
     "data": {
      "text/plain": [
       "total_images                0\n",
       "last_price                  0\n",
       "total_area                  0\n",
       "first_day_exposition        0\n",
       "rooms                       0\n",
       "ceiling_height           9084\n",
       "floors_total                0\n",
       "living_area                 0\n",
       "floor                       0\n",
       "is_apartment                0\n",
       "studio                      0\n",
       "open_plan                   0\n",
       "kitchen_area                0\n",
       "balcony                     0\n",
       "locality_name               0\n",
       "airports_nearest         5524\n",
       "cityCenters_nearest      5501\n",
       "parks_around3000            0\n",
       "parks_nearest           15535\n",
       "ponds_around3000            0\n",
       "ponds_nearest           14529\n",
       "days_exposition          3171\n",
       "dtype: int64"
      ]
     },
     "execution_count": 13,
     "metadata": {},
     "output_type": "execute_result"
    }
   ],
   "source": [
    "data.isna().sum() # Проверка"
   ]
  },
  {
   "cell_type": "markdown",
   "metadata": {},
   "source": [
    "### Типы данных"
   ]
  },
  {
   "cell_type": "markdown",
   "metadata": {},
   "source": [
    "Изменение формата вывода даты и времени по столбцу **first_day_exposition**"
   ]
  },
  {
   "cell_type": "code",
   "execution_count": 14,
   "metadata": {
    "scrolled": true
   },
   "outputs": [
    {
     "data": {
      "text/html": [
       "<div>\n",
       "<style scoped>\n",
       "    .dataframe tbody tr th:only-of-type {\n",
       "        vertical-align: middle;\n",
       "    }\n",
       "\n",
       "    .dataframe tbody tr th {\n",
       "        vertical-align: top;\n",
       "    }\n",
       "\n",
       "    .dataframe thead th {\n",
       "        text-align: right;\n",
       "    }\n",
       "</style>\n",
       "<table border=\"1\" class=\"dataframe\">\n",
       "  <thead>\n",
       "    <tr style=\"text-align: right;\">\n",
       "      <th></th>\n",
       "      <th>total_images</th>\n",
       "      <th>last_price</th>\n",
       "      <th>total_area</th>\n",
       "      <th>first_day_exposition</th>\n",
       "      <th>rooms</th>\n",
       "      <th>ceiling_height</th>\n",
       "      <th>floors_total</th>\n",
       "      <th>living_area</th>\n",
       "      <th>floor</th>\n",
       "      <th>is_apartment</th>\n",
       "      <th>...</th>\n",
       "      <th>kitchen_area</th>\n",
       "      <th>balcony</th>\n",
       "      <th>locality_name</th>\n",
       "      <th>airports_nearest</th>\n",
       "      <th>cityCenters_nearest</th>\n",
       "      <th>parks_around3000</th>\n",
       "      <th>parks_nearest</th>\n",
       "      <th>ponds_around3000</th>\n",
       "      <th>ponds_nearest</th>\n",
       "      <th>days_exposition</th>\n",
       "    </tr>\n",
       "  </thead>\n",
       "  <tbody>\n",
       "    <tr>\n",
       "      <th>0</th>\n",
       "      <td>20</td>\n",
       "      <td>13000000.0</td>\n",
       "      <td>108.0</td>\n",
       "      <td>2019-03-07</td>\n",
       "      <td>3</td>\n",
       "      <td>2.70</td>\n",
       "      <td>16.0</td>\n",
       "      <td>51.000000</td>\n",
       "      <td>8</td>\n",
       "      <td>False</td>\n",
       "      <td>...</td>\n",
       "      <td>25.000000</td>\n",
       "      <td>0</td>\n",
       "      <td>Санкт-Петербург</td>\n",
       "      <td>18863.0</td>\n",
       "      <td>16028.0</td>\n",
       "      <td>1</td>\n",
       "      <td>482.0</td>\n",
       "      <td>2</td>\n",
       "      <td>755.0</td>\n",
       "      <td>NaN</td>\n",
       "    </tr>\n",
       "    <tr>\n",
       "      <th>1</th>\n",
       "      <td>7</td>\n",
       "      <td>3350000.0</td>\n",
       "      <td>40.4</td>\n",
       "      <td>2018-12-04</td>\n",
       "      <td>1</td>\n",
       "      <td>NaN</td>\n",
       "      <td>11.0</td>\n",
       "      <td>18.600000</td>\n",
       "      <td>1</td>\n",
       "      <td>False</td>\n",
       "      <td>...</td>\n",
       "      <td>11.000000</td>\n",
       "      <td>2</td>\n",
       "      <td>посёлок Шушары</td>\n",
       "      <td>12817.0</td>\n",
       "      <td>18603.0</td>\n",
       "      <td>0</td>\n",
       "      <td>NaN</td>\n",
       "      <td>0</td>\n",
       "      <td>NaN</td>\n",
       "      <td>81.0</td>\n",
       "    </tr>\n",
       "    <tr>\n",
       "      <th>2</th>\n",
       "      <td>10</td>\n",
       "      <td>5196000.0</td>\n",
       "      <td>56.0</td>\n",
       "      <td>2015-08-20</td>\n",
       "      <td>2</td>\n",
       "      <td>NaN</td>\n",
       "      <td>5.0</td>\n",
       "      <td>34.300000</td>\n",
       "      <td>4</td>\n",
       "      <td>False</td>\n",
       "      <td>...</td>\n",
       "      <td>8.300000</td>\n",
       "      <td>0</td>\n",
       "      <td>Санкт-Петербург</td>\n",
       "      <td>21741.0</td>\n",
       "      <td>13933.0</td>\n",
       "      <td>1</td>\n",
       "      <td>90.0</td>\n",
       "      <td>2</td>\n",
       "      <td>574.0</td>\n",
       "      <td>558.0</td>\n",
       "    </tr>\n",
       "    <tr>\n",
       "      <th>3</th>\n",
       "      <td>0</td>\n",
       "      <td>64900000.0</td>\n",
       "      <td>159.0</td>\n",
       "      <td>2015-07-24</td>\n",
       "      <td>3</td>\n",
       "      <td>NaN</td>\n",
       "      <td>14.0</td>\n",
       "      <td>90.816648</td>\n",
       "      <td>9</td>\n",
       "      <td>False</td>\n",
       "      <td>...</td>\n",
       "      <td>27.836861</td>\n",
       "      <td>0</td>\n",
       "      <td>Санкт-Петербург</td>\n",
       "      <td>28098.0</td>\n",
       "      <td>6800.0</td>\n",
       "      <td>2</td>\n",
       "      <td>84.0</td>\n",
       "      <td>3</td>\n",
       "      <td>234.0</td>\n",
       "      <td>424.0</td>\n",
       "    </tr>\n",
       "    <tr>\n",
       "      <th>4</th>\n",
       "      <td>2</td>\n",
       "      <td>10000000.0</td>\n",
       "      <td>100.0</td>\n",
       "      <td>2018-06-19</td>\n",
       "      <td>2</td>\n",
       "      <td>3.03</td>\n",
       "      <td>14.0</td>\n",
       "      <td>32.000000</td>\n",
       "      <td>13</td>\n",
       "      <td>False</td>\n",
       "      <td>...</td>\n",
       "      <td>41.000000</td>\n",
       "      <td>0</td>\n",
       "      <td>Санкт-Петербург</td>\n",
       "      <td>31856.0</td>\n",
       "      <td>8098.0</td>\n",
       "      <td>2</td>\n",
       "      <td>112.0</td>\n",
       "      <td>1</td>\n",
       "      <td>48.0</td>\n",
       "      <td>121.0</td>\n",
       "    </tr>\n",
       "  </tbody>\n",
       "</table>\n",
       "<p>5 rows × 22 columns</p>\n",
       "</div>"
      ],
      "text/plain": [
       "   total_images  last_price  total_area first_day_exposition  rooms  \\\n",
       "0            20  13000000.0       108.0           2019-03-07      3   \n",
       "1             7   3350000.0        40.4           2018-12-04      1   \n",
       "2            10   5196000.0        56.0           2015-08-20      2   \n",
       "3             0  64900000.0       159.0           2015-07-24      3   \n",
       "4             2  10000000.0       100.0           2018-06-19      2   \n",
       "\n",
       "   ceiling_height  floors_total  living_area  floor  is_apartment  ...  \\\n",
       "0            2.70          16.0    51.000000      8         False  ...   \n",
       "1             NaN          11.0    18.600000      1         False  ...   \n",
       "2             NaN           5.0    34.300000      4         False  ...   \n",
       "3             NaN          14.0    90.816648      9         False  ...   \n",
       "4            3.03          14.0    32.000000     13         False  ...   \n",
       "\n",
       "   kitchen_area  balcony    locality_name  airports_nearest  \\\n",
       "0     25.000000        0  Санкт-Петербург           18863.0   \n",
       "1     11.000000        2   посёлок Шушары           12817.0   \n",
       "2      8.300000        0  Санкт-Петербург           21741.0   \n",
       "3     27.836861        0  Санкт-Петербург           28098.0   \n",
       "4     41.000000        0  Санкт-Петербург           31856.0   \n",
       "\n",
       "  cityCenters_nearest  parks_around3000  parks_nearest  ponds_around3000  \\\n",
       "0             16028.0                 1          482.0                 2   \n",
       "1             18603.0                 0            NaN                 0   \n",
       "2             13933.0                 1           90.0                 2   \n",
       "3              6800.0                 2           84.0                 3   \n",
       "4              8098.0                 2          112.0                 1   \n",
       "\n",
       "   ponds_nearest  days_exposition  \n",
       "0          755.0              NaN  \n",
       "1            NaN             81.0  \n",
       "2          574.0            558.0  \n",
       "3          234.0            424.0  \n",
       "4           48.0            121.0  \n",
       "\n",
       "[5 rows x 22 columns]"
      ]
     },
     "execution_count": 14,
     "metadata": {},
     "output_type": "execute_result"
    }
   ],
   "source": [
    "data['first_day_exposition'] = pd.to_datetime(data['first_day_exposition'], format='%Y-%m-%d')\n",
    "data.head()"
   ]
  },
  {
   "cell_type": "code",
   "execution_count": 15,
   "metadata": {},
   "outputs": [],
   "source": [
    "# Приводим в целочисленный тип\n",
    "data['last_price'] = data['last_price'].astype(int)\n",
    "data['balcony'] = data['balcony'].astype(int)\n",
    "data['parks_around3000'] = data['parks_around3000'].astype(int)\n",
    "data['ponds_around3000'] = data['ponds_around3000'].astype(int)\n",
    "data['floors_total'] = data['floors_total'].astype(int)"
   ]
  },
  {
   "cell_type": "code",
   "execution_count": 16,
   "metadata": {},
   "outputs": [
    {
     "data": {
      "text/html": [
       "<div>\n",
       "<style scoped>\n",
       "    .dataframe tbody tr th:only-of-type {\n",
       "        vertical-align: middle;\n",
       "    }\n",
       "\n",
       "    .dataframe tbody tr th {\n",
       "        vertical-align: top;\n",
       "    }\n",
       "\n",
       "    .dataframe thead th {\n",
       "        text-align: right;\n",
       "    }\n",
       "</style>\n",
       "<table border=\"1\" class=\"dataframe\">\n",
       "  <thead>\n",
       "    <tr style=\"text-align: right;\">\n",
       "      <th></th>\n",
       "      <th>total_images</th>\n",
       "      <th>last_price</th>\n",
       "      <th>total_area</th>\n",
       "      <th>first_day_exposition</th>\n",
       "      <th>rooms</th>\n",
       "      <th>ceiling_height</th>\n",
       "      <th>floors_total</th>\n",
       "      <th>living_area</th>\n",
       "      <th>floor</th>\n",
       "      <th>is_apartment</th>\n",
       "      <th>...</th>\n",
       "      <th>kitchen_area</th>\n",
       "      <th>balcony</th>\n",
       "      <th>locality_name</th>\n",
       "      <th>airports_nearest</th>\n",
       "      <th>cityCenters_nearest</th>\n",
       "      <th>parks_around3000</th>\n",
       "      <th>parks_nearest</th>\n",
       "      <th>ponds_around3000</th>\n",
       "      <th>ponds_nearest</th>\n",
       "      <th>days_exposition</th>\n",
       "    </tr>\n",
       "  </thead>\n",
       "  <tbody>\n",
       "    <tr>\n",
       "      <th>0</th>\n",
       "      <td>20</td>\n",
       "      <td>13000000</td>\n",
       "      <td>108.0</td>\n",
       "      <td>2019-03-07</td>\n",
       "      <td>3</td>\n",
       "      <td>2.70</td>\n",
       "      <td>16</td>\n",
       "      <td>51.000000</td>\n",
       "      <td>8</td>\n",
       "      <td>False</td>\n",
       "      <td>...</td>\n",
       "      <td>25.000000</td>\n",
       "      <td>0</td>\n",
       "      <td>Санкт-Петербург</td>\n",
       "      <td>18863.0</td>\n",
       "      <td>16028.0</td>\n",
       "      <td>1</td>\n",
       "      <td>482.0</td>\n",
       "      <td>2</td>\n",
       "      <td>755.0</td>\n",
       "      <td>NaN</td>\n",
       "    </tr>\n",
       "    <tr>\n",
       "      <th>1</th>\n",
       "      <td>7</td>\n",
       "      <td>3350000</td>\n",
       "      <td>40.4</td>\n",
       "      <td>2018-12-04</td>\n",
       "      <td>1</td>\n",
       "      <td>NaN</td>\n",
       "      <td>11</td>\n",
       "      <td>18.600000</td>\n",
       "      <td>1</td>\n",
       "      <td>False</td>\n",
       "      <td>...</td>\n",
       "      <td>11.000000</td>\n",
       "      <td>2</td>\n",
       "      <td>посёлок Шушары</td>\n",
       "      <td>12817.0</td>\n",
       "      <td>18603.0</td>\n",
       "      <td>0</td>\n",
       "      <td>NaN</td>\n",
       "      <td>0</td>\n",
       "      <td>NaN</td>\n",
       "      <td>81.0</td>\n",
       "    </tr>\n",
       "    <tr>\n",
       "      <th>2</th>\n",
       "      <td>10</td>\n",
       "      <td>5196000</td>\n",
       "      <td>56.0</td>\n",
       "      <td>2015-08-20</td>\n",
       "      <td>2</td>\n",
       "      <td>NaN</td>\n",
       "      <td>5</td>\n",
       "      <td>34.300000</td>\n",
       "      <td>4</td>\n",
       "      <td>False</td>\n",
       "      <td>...</td>\n",
       "      <td>8.300000</td>\n",
       "      <td>0</td>\n",
       "      <td>Санкт-Петербург</td>\n",
       "      <td>21741.0</td>\n",
       "      <td>13933.0</td>\n",
       "      <td>1</td>\n",
       "      <td>90.0</td>\n",
       "      <td>2</td>\n",
       "      <td>574.0</td>\n",
       "      <td>558.0</td>\n",
       "    </tr>\n",
       "    <tr>\n",
       "      <th>3</th>\n",
       "      <td>0</td>\n",
       "      <td>64900000</td>\n",
       "      <td>159.0</td>\n",
       "      <td>2015-07-24</td>\n",
       "      <td>3</td>\n",
       "      <td>NaN</td>\n",
       "      <td>14</td>\n",
       "      <td>90.816648</td>\n",
       "      <td>9</td>\n",
       "      <td>False</td>\n",
       "      <td>...</td>\n",
       "      <td>27.836861</td>\n",
       "      <td>0</td>\n",
       "      <td>Санкт-Петербург</td>\n",
       "      <td>28098.0</td>\n",
       "      <td>6800.0</td>\n",
       "      <td>2</td>\n",
       "      <td>84.0</td>\n",
       "      <td>3</td>\n",
       "      <td>234.0</td>\n",
       "      <td>424.0</td>\n",
       "    </tr>\n",
       "    <tr>\n",
       "      <th>4</th>\n",
       "      <td>2</td>\n",
       "      <td>10000000</td>\n",
       "      <td>100.0</td>\n",
       "      <td>2018-06-19</td>\n",
       "      <td>2</td>\n",
       "      <td>3.03</td>\n",
       "      <td>14</td>\n",
       "      <td>32.000000</td>\n",
       "      <td>13</td>\n",
       "      <td>False</td>\n",
       "      <td>...</td>\n",
       "      <td>41.000000</td>\n",
       "      <td>0</td>\n",
       "      <td>Санкт-Петербург</td>\n",
       "      <td>31856.0</td>\n",
       "      <td>8098.0</td>\n",
       "      <td>2</td>\n",
       "      <td>112.0</td>\n",
       "      <td>1</td>\n",
       "      <td>48.0</td>\n",
       "      <td>121.0</td>\n",
       "    </tr>\n",
       "  </tbody>\n",
       "</table>\n",
       "<p>5 rows × 22 columns</p>\n",
       "</div>"
      ],
      "text/plain": [
       "   total_images  last_price  total_area first_day_exposition  rooms  \\\n",
       "0            20    13000000       108.0           2019-03-07      3   \n",
       "1             7     3350000        40.4           2018-12-04      1   \n",
       "2            10     5196000        56.0           2015-08-20      2   \n",
       "3             0    64900000       159.0           2015-07-24      3   \n",
       "4             2    10000000       100.0           2018-06-19      2   \n",
       "\n",
       "   ceiling_height  floors_total  living_area  floor  is_apartment  ...  \\\n",
       "0            2.70            16    51.000000      8         False  ...   \n",
       "1             NaN            11    18.600000      1         False  ...   \n",
       "2             NaN             5    34.300000      4         False  ...   \n",
       "3             NaN            14    90.816648      9         False  ...   \n",
       "4            3.03            14    32.000000     13         False  ...   \n",
       "\n",
       "   kitchen_area  balcony    locality_name  airports_nearest  \\\n",
       "0     25.000000        0  Санкт-Петербург           18863.0   \n",
       "1     11.000000        2   посёлок Шушары           12817.0   \n",
       "2      8.300000        0  Санкт-Петербург           21741.0   \n",
       "3     27.836861        0  Санкт-Петербург           28098.0   \n",
       "4     41.000000        0  Санкт-Петербург           31856.0   \n",
       "\n",
       "  cityCenters_nearest  parks_around3000  parks_nearest  ponds_around3000  \\\n",
       "0             16028.0                 1          482.0                 2   \n",
       "1             18603.0                 0            NaN                 0   \n",
       "2             13933.0                 1           90.0                 2   \n",
       "3              6800.0                 2           84.0                 3   \n",
       "4              8098.0                 2          112.0                 1   \n",
       "\n",
       "   ponds_nearest  days_exposition  \n",
       "0          755.0              NaN  \n",
       "1            NaN             81.0  \n",
       "2          574.0            558.0  \n",
       "3          234.0            424.0  \n",
       "4           48.0            121.0  \n",
       "\n",
       "[5 rows x 22 columns]"
      ]
     },
     "execution_count": 16,
     "metadata": {},
     "output_type": "execute_result"
    }
   ],
   "source": [
    "data.head()"
   ]
  },
  {
   "cell_type": "markdown",
   "metadata": {},
   "source": [
    "### Дубликаты явные и неявные"
   ]
  },
  {
   "cell_type": "code",
   "execution_count": 17,
   "metadata": {},
   "outputs": [
    {
     "data": {
      "text/plain": [
       "0"
      ]
     },
     "execution_count": 17,
     "metadata": {},
     "output_type": "execute_result"
    }
   ],
   "source": [
    "data.duplicated().sum() # Определяем количество полных дубликатов"
   ]
  },
  {
   "cell_type": "code",
   "execution_count": 18,
   "metadata": {
    "scrolled": false
   },
   "outputs": [
    {
     "name": "stdout",
     "output_type": "stream",
     "text": [
      "364\n"
     ]
    },
    {
     "data": {
      "text/plain": [
       "{'Бокситогорск',\n",
       " 'Волосово',\n",
       " 'Волхов',\n",
       " 'Всеволожск',\n",
       " 'Выборг',\n",
       " 'Высоцк',\n",
       " 'Гатчина',\n",
       " 'Зеленогорск',\n",
       " 'Ивангород',\n",
       " 'Каменногорск',\n",
       " 'Кингисепп',\n",
       " 'Кириши',\n",
       " 'Кировск',\n",
       " 'Колпино',\n",
       " 'Коммунар',\n",
       " 'Красное Село',\n",
       " 'Кронштадт',\n",
       " 'Кудрово',\n",
       " 'Лодейное Поле',\n",
       " 'Ломоносов',\n",
       " 'Луга',\n",
       " 'Любань',\n",
       " 'Мурино',\n",
       " 'Никольское',\n",
       " 'Новая Ладога',\n",
       " 'Отрадное',\n",
       " 'Павловск',\n",
       " 'Петергоф',\n",
       " 'Пикалёво',\n",
       " 'Подпорожье',\n",
       " 'Приморск',\n",
       " 'Приозерск',\n",
       " 'Пушкин',\n",
       " 'Санкт-Петербург',\n",
       " 'Светогорск',\n",
       " 'Сертолово',\n",
       " 'Сестрорецк',\n",
       " 'Сланцы',\n",
       " 'Сосновый Бор',\n",
       " 'Сясьстрой',\n",
       " 'Тихвин',\n",
       " 'Тосно',\n",
       " 'Шлиссельбург',\n",
       " 'городской поселок Большая Ижора',\n",
       " 'городской поселок Янино-1',\n",
       " 'городской посёлок Будогощь',\n",
       " 'городской посёлок Виллози',\n",
       " 'городской посёлок Лесогорский',\n",
       " 'городской посёлок Мга',\n",
       " 'городской посёлок Назия',\n",
       " 'городской посёлок Новоселье',\n",
       " 'городской посёлок Павлово',\n",
       " 'городской посёлок Рощино',\n",
       " 'городской посёлок Свирьстрой',\n",
       " 'городской посёлок Советский',\n",
       " 'городской посёлок Фёдоровское',\n",
       " 'городской посёлок Янино-1',\n",
       " 'деревня Агалатово',\n",
       " 'деревня Аро',\n",
       " 'деревня Батово',\n",
       " 'деревня Бегуницы',\n",
       " 'деревня Белогорка',\n",
       " 'деревня Большая Вруда',\n",
       " 'деревня Большая Пустомержа',\n",
       " 'деревня Большие Колпаны',\n",
       " 'деревня Большое Рейзино',\n",
       " 'деревня Большой Сабск',\n",
       " 'деревня Бор',\n",
       " 'деревня Борисова Грива',\n",
       " 'деревня Ваганово',\n",
       " 'деревня Вартемяги',\n",
       " 'деревня Вахнова Кара',\n",
       " 'деревня Выскатка',\n",
       " 'деревня Гарболово',\n",
       " 'деревня Глинка',\n",
       " 'деревня Горбунки',\n",
       " 'деревня Гостилицы',\n",
       " 'деревня Заклинье',\n",
       " 'деревня Заневка',\n",
       " 'деревня Зимитицы',\n",
       " 'деревня Извара',\n",
       " 'деревня Иссад',\n",
       " 'деревня Калитино',\n",
       " 'деревня Кальтино',\n",
       " 'деревня Камышовка',\n",
       " 'деревня Каськово',\n",
       " 'деревня Келози',\n",
       " 'деревня Кипень',\n",
       " 'деревня Кисельня',\n",
       " 'деревня Колтуши',\n",
       " 'деревня Коркино',\n",
       " 'деревня Котлы',\n",
       " 'деревня Кривко',\n",
       " 'деревня Кудрово',\n",
       " 'деревня Кузьмолово',\n",
       " 'деревня Курковицы',\n",
       " 'деревня Куровицы',\n",
       " 'деревня Куттузи',\n",
       " 'деревня Лаврики',\n",
       " 'деревня Лаголово',\n",
       " 'деревня Лампово',\n",
       " 'деревня Лесколово',\n",
       " 'деревня Лопухинка',\n",
       " 'деревня Лупполово',\n",
       " 'деревня Малая Романовка',\n",
       " 'деревня Малое Верево',\n",
       " 'деревня Малое Карлино',\n",
       " 'деревня Малые Колпаны',\n",
       " 'деревня Мануйлово',\n",
       " 'деревня Меньково',\n",
       " 'деревня Мины',\n",
       " 'деревня Мистолово',\n",
       " 'деревня Ненимяки',\n",
       " 'деревня Нижние Осельки',\n",
       " 'деревня Нижняя',\n",
       " 'деревня Низино',\n",
       " 'деревня Новое Девяткино',\n",
       " 'деревня Новолисино',\n",
       " 'деревня Нурма',\n",
       " 'деревня Оржицы',\n",
       " 'деревня Парицы',\n",
       " 'деревня Пельгора',\n",
       " 'деревня Пеники',\n",
       " 'деревня Пижма',\n",
       " 'деревня Пикколово',\n",
       " 'деревня Пудомяги',\n",
       " 'деревня Пустынка',\n",
       " 'деревня Пчева',\n",
       " 'деревня Рабитицы',\n",
       " 'деревня Разбегаево',\n",
       " 'деревня Раздолье',\n",
       " 'деревня Разметелево',\n",
       " 'деревня Рапполово',\n",
       " 'деревня Реброво',\n",
       " 'деревня Русско',\n",
       " 'деревня Сижно',\n",
       " 'деревня Снегирёвка',\n",
       " 'деревня Старая',\n",
       " 'деревня Старая Пустошь',\n",
       " 'деревня Старое Хинколово',\n",
       " 'деревня Старополье',\n",
       " 'деревня Старосиверская',\n",
       " 'деревня Старые Бегуницы',\n",
       " 'деревня Суоранда',\n",
       " 'деревня Сяськелево',\n",
       " 'деревня Тарасово',\n",
       " 'деревня Терпилицы',\n",
       " 'деревня Тихковицы',\n",
       " 'деревня Тойворово',\n",
       " 'деревня Торосово',\n",
       " 'деревня Торошковичи',\n",
       " 'деревня Трубников Бор',\n",
       " 'деревня Фалилеево',\n",
       " 'деревня Фёдоровское',\n",
       " 'деревня Хапо-Ое',\n",
       " 'деревня Хязельки',\n",
       " 'деревня Чудской Бор',\n",
       " 'деревня Шпаньково',\n",
       " 'деревня Щеглово',\n",
       " 'деревня Юкки',\n",
       " 'деревня Ялгино',\n",
       " 'деревня Яльгелево',\n",
       " 'деревня Ям-Тесово',\n",
       " 'коттеджный поселок Кивеннапа Север',\n",
       " 'коттеджный поселок Счастье',\n",
       " 'коттеджный посёлок Лесное',\n",
       " 'поселок Аннино',\n",
       " 'поселок Барышево',\n",
       " 'поселок Бугры',\n",
       " 'поселок Возрождение',\n",
       " 'поселок Войсковицы',\n",
       " 'поселок Володарское',\n",
       " 'поселок Гаврилово',\n",
       " 'поселок Гарболово',\n",
       " 'поселок Гладкое',\n",
       " 'поселок Глажево',\n",
       " 'поселок Глебычево',\n",
       " 'поселок Гончарово',\n",
       " 'поселок Громово',\n",
       " 'поселок Дружноселье',\n",
       " 'поселок Елизаветино',\n",
       " 'поселок Жилгородок',\n",
       " 'поселок Жилпосёлок',\n",
       " 'поселок Житково',\n",
       " 'поселок Заводской',\n",
       " 'поселок Запорожское',\n",
       " 'поселок Зимитицы',\n",
       " 'поселок Ильичёво',\n",
       " 'поселок Калитино',\n",
       " 'поселок Каложицы',\n",
       " 'поселок Кингисеппский',\n",
       " 'поселок Кирпичное',\n",
       " 'поселок Кобралово',\n",
       " 'поселок Кобринское',\n",
       " 'поселок Коммунары',\n",
       " 'поселок Коробицыно',\n",
       " 'поселок Котельский',\n",
       " 'поселок Красная Долина',\n",
       " 'поселок Красносельское',\n",
       " 'поселок Лесное',\n",
       " 'поселок Лисий Нос',\n",
       " 'поселок Лукаши',\n",
       " 'поселок Любань',\n",
       " 'поселок Мельниково',\n",
       " 'поселок Мичуринское',\n",
       " 'поселок Молодцово',\n",
       " 'поселок Мурино',\n",
       " 'поселок Новый Свет',\n",
       " 'поселок Новый Учхоз',\n",
       " 'поселок Оредеж',\n",
       " 'поселок Пансионат Зелёный Бор',\n",
       " 'поселок Первомайское',\n",
       " 'поселок Перово',\n",
       " 'поселок Петровское',\n",
       " 'поселок Победа',\n",
       " 'поселок Поляны',\n",
       " 'поселок Почап',\n",
       " 'поселок Починок',\n",
       " 'поселок Пушное',\n",
       " 'поселок Пчевжа',\n",
       " 'поселок Рабитицы',\n",
       " 'поселок Романовка',\n",
       " 'поселок Ромашки',\n",
       " 'поселок Рябово',\n",
       " 'поселок Севастьяново',\n",
       " 'поселок Селезнёво',\n",
       " 'поселок Сельцо',\n",
       " 'поселок Семиозерье',\n",
       " 'поселок Семрино',\n",
       " 'поселок Серебрянский',\n",
       " 'поселок Совхозный',\n",
       " 'поселок Старая Малукса',\n",
       " 'поселок Стеклянный',\n",
       " 'поселок Сумино',\n",
       " 'поселок Суходолье',\n",
       " 'поселок Тельмана',\n",
       " 'поселок Терволово',\n",
       " 'поселок Торковичи',\n",
       " 'поселок Тёсово-4',\n",
       " 'поселок Углово',\n",
       " 'поселок Усть-Луга',\n",
       " 'поселок Ушаки',\n",
       " 'поселок Цвелодубово',\n",
       " 'поселок Цвылёво',\n",
       " 'поселок городского типа Большая Ижора',\n",
       " 'поселок городского типа Вырица',\n",
       " 'поселок городского типа Дружная Горка',\n",
       " 'поселок городского типа Дубровка',\n",
       " 'поселок городского типа Ефимовский',\n",
       " 'поселок городского типа Кондратьево',\n",
       " 'поселок городского типа Красный Бор',\n",
       " 'поселок городского типа Кузьмоловский',\n",
       " 'поселок городского типа Лебяжье',\n",
       " 'поселок городского типа Лесогорский',\n",
       " 'поселок городского типа Назия',\n",
       " 'поселок городского типа Никольский',\n",
       " 'поселок городского типа Приладожский',\n",
       " 'поселок городского типа Рахья',\n",
       " 'поселок городского типа Рощино',\n",
       " 'поселок городского типа Рябово',\n",
       " 'поселок городского типа Синявино',\n",
       " 'поселок городского типа Советский',\n",
       " 'поселок городского типа Токсово',\n",
       " 'поселок городского типа Форносово',\n",
       " 'поселок городского типа имени Свердлова',\n",
       " 'поселок станции Вещево',\n",
       " 'поселок станции Корнево',\n",
       " 'поселок станции Лужайка',\n",
       " 'поселок станции Приветнинское',\n",
       " 'посёлок Александровская',\n",
       " 'посёлок Алексеевка',\n",
       " 'посёлок Аннино',\n",
       " 'посёлок Белоостров',\n",
       " 'посёлок Бугры',\n",
       " 'посёлок Возрождение',\n",
       " 'посёлок Войскорово',\n",
       " 'посёлок Высокоключевой',\n",
       " 'посёлок Гаврилово',\n",
       " 'посёлок Дзержинского',\n",
       " 'посёлок Жилгородок',\n",
       " 'посёлок Ильичёво',\n",
       " 'посёлок Кикерино',\n",
       " 'посёлок Кобралово',\n",
       " 'посёлок Коробицыно',\n",
       " 'посёлок Левашово',\n",
       " 'посёлок Ленинское',\n",
       " 'посёлок Лисий Нос',\n",
       " 'посёлок Мельниково',\n",
       " 'посёлок Металлострой',\n",
       " 'посёлок Мичуринское',\n",
       " 'посёлок Молодёжное',\n",
       " 'посёлок Мурино',\n",
       " 'посёлок Мыза-Ивановка',\n",
       " 'посёлок Новогорелово',\n",
       " 'посёлок Новый Свет',\n",
       " 'посёлок Пансионат Зелёный Бор',\n",
       " 'посёлок Парголово',\n",
       " 'посёлок Перово',\n",
       " 'посёлок Песочный',\n",
       " 'посёлок Петро-Славянка',\n",
       " 'посёлок Петровское',\n",
       " 'посёлок Платформа 69-й километр',\n",
       " 'посёлок Плодовое',\n",
       " 'посёлок Плоское',\n",
       " 'посёлок Победа',\n",
       " 'посёлок Поляны',\n",
       " 'посёлок Понтонный',\n",
       " 'посёлок Пригородный',\n",
       " 'посёлок Пудость',\n",
       " 'посёлок Репино',\n",
       " 'посёлок Ропша',\n",
       " 'посёлок Сапёрное',\n",
       " 'посёлок Сапёрный',\n",
       " 'посёлок Сосново',\n",
       " 'посёлок Старая Малукса',\n",
       " 'посёлок Стеклянный',\n",
       " 'посёлок Стрельна',\n",
       " 'посёлок Суйда',\n",
       " 'посёлок Сумино',\n",
       " 'посёлок Тельмана',\n",
       " 'посёлок Терволово',\n",
       " 'посёлок Торфяное',\n",
       " 'посёлок Усть-Ижора',\n",
       " 'посёлок Усть-Луга',\n",
       " 'посёлок Форт Красная Горка',\n",
       " 'посёлок Шугозеро',\n",
       " 'посёлок Шушары',\n",
       " 'посёлок Щеглово',\n",
       " 'посёлок городского типа Важины',\n",
       " 'посёлок городского типа Вознесенье',\n",
       " 'посёлок городского типа Вырица',\n",
       " 'посёлок городского типа Красный Бор',\n",
       " 'посёлок городского типа Кузнечное',\n",
       " 'посёлок городского типа Кузьмоловский',\n",
       " 'посёлок городского типа Лебяжье',\n",
       " 'посёлок городского типа Мга',\n",
       " 'посёлок городского типа Павлово',\n",
       " 'посёлок городского типа Рощино',\n",
       " 'посёлок городского типа Рябово',\n",
       " 'посёлок городского типа Сиверский',\n",
       " 'посёлок городского типа Тайцы',\n",
       " 'посёлок городского типа Токсово',\n",
       " 'посёлок городского типа Ульяновка',\n",
       " 'посёлок городского типа Форносово',\n",
       " 'посёлок городского типа имени Морозова',\n",
       " 'посёлок городского типа имени Свердлова',\n",
       " 'посёлок при железнодорожной станции Вещево',\n",
       " 'посёлок при железнодорожной станции Приветнинское',\n",
       " 'посёлок станции Громово',\n",
       " 'посёлок станции Свирь',\n",
       " 'садоводческое некоммерческое товарищество Лесная Поляна',\n",
       " 'садовое товарищество Новая Ропша',\n",
       " 'садовое товарищество Приладожский',\n",
       " 'садовое товарищество Рахья',\n",
       " 'садовое товарищество Садко',\n",
       " 'село Копорье',\n",
       " 'село Никольское',\n",
       " 'село Павлово',\n",
       " 'село Паша',\n",
       " 'село Путилово',\n",
       " 'село Рождествено',\n",
       " 'село Русско-Высоцкое',\n",
       " 'село Старая Ладога',\n",
       " 'село Шум'}"
      ]
     },
     "execution_count": 18,
     "metadata": {},
     "output_type": "execute_result"
    }
   ],
   "source": [
    "unique_local_name = set(data['locality_name'].unique()) #уникальные значения\n",
    "#в алфавитном порядке для столбца \"locality_name\"\n",
    "print(len(unique_local_name))\n",
    "unique_local_name"
   ]
  },
  {
   "cell_type": "markdown",
   "metadata": {},
   "source": [
    " В столбце с названиями имеются неявные дубликаты (к примеру 'городской посёлок Рощино', 'поселок городского типа Рощино', 'посёлок городского типа Рощино', 'городской посёлок Рощино'), их необходимо переименовать. Также есть поселки без названия 'поселок', 'деревня' или 'село', такие как Любань, Мурино, Никольское, Кудрово"
   ]
  },
  {
   "cell_type": "code",
   "execution_count": 19,
   "metadata": {},
   "outputs": [
    {
     "name": "stdout",
     "output_type": "stream",
     "text": [
      "318\n"
     ]
    },
    {
     "data": {
      "text/plain": [
       "{'Бокситогорск',\n",
       " 'Волосово',\n",
       " 'Волхов',\n",
       " 'Всеволожск',\n",
       " 'Выборг',\n",
       " 'Высоцк',\n",
       " 'Гатчина',\n",
       " 'Зеленогорск',\n",
       " 'Ивангород',\n",
       " 'Каменногорск',\n",
       " 'Кингисепп',\n",
       " 'Кириши',\n",
       " 'Кировск',\n",
       " 'Колпино',\n",
       " 'Коммунар',\n",
       " 'Красное Село',\n",
       " 'Кронштадт',\n",
       " 'Кудрово',\n",
       " 'Лодейное Поле',\n",
       " 'Ломоносов',\n",
       " 'Луга',\n",
       " 'Любань',\n",
       " 'Мурино',\n",
       " 'Никольское',\n",
       " 'Новая Ладога',\n",
       " 'Отрадное',\n",
       " 'Павловск',\n",
       " 'Петергоф',\n",
       " 'Пикалево',\n",
       " 'Подпорожье',\n",
       " 'Приморск',\n",
       " 'Приозерск',\n",
       " 'Пушкин',\n",
       " 'Санкт-Петербург',\n",
       " 'Светогорск',\n",
       " 'Сертолово',\n",
       " 'Сестрорецк',\n",
       " 'Сланцы',\n",
       " 'Сосновый Бор',\n",
       " 'Сясьстрой',\n",
       " 'Тихвин',\n",
       " 'Тосно',\n",
       " 'Шлиссельбург',\n",
       " 'деревня Агалатово',\n",
       " 'деревня Аро',\n",
       " 'деревня Батово',\n",
       " 'деревня Бегуницы',\n",
       " 'деревня Белогорка',\n",
       " 'деревня Большая Вруда',\n",
       " 'деревня Большая Пустомержа',\n",
       " 'деревня Большие Колпаны',\n",
       " 'деревня Большое Рейзино',\n",
       " 'деревня Большой Сабск',\n",
       " 'деревня Бор',\n",
       " 'деревня Борисова Грива',\n",
       " 'деревня Ваганово',\n",
       " 'деревня Вартемяги',\n",
       " 'деревня Вахнова Кара',\n",
       " 'деревня Выскатка',\n",
       " 'деревня Гарболово',\n",
       " 'деревня Глинка',\n",
       " 'деревня Горбунки',\n",
       " 'деревня Гостилицы',\n",
       " 'деревня Заклинье',\n",
       " 'деревня Заневка',\n",
       " 'деревня Зимитицы',\n",
       " 'деревня Извара',\n",
       " 'деревня Иссад',\n",
       " 'деревня Калитино',\n",
       " 'деревня Кальтино',\n",
       " 'деревня Камышовка',\n",
       " 'деревня Каськово',\n",
       " 'деревня Келози',\n",
       " 'деревня Кипень',\n",
       " 'деревня Кисельня',\n",
       " 'деревня Колтуши',\n",
       " 'деревня Коркино',\n",
       " 'деревня Котлы',\n",
       " 'деревня Кривко',\n",
       " 'деревня Кузьмолово',\n",
       " 'деревня Курковицы',\n",
       " 'деревня Куровицы',\n",
       " 'деревня Куттузи',\n",
       " 'деревня Лаврики',\n",
       " 'деревня Лаголово',\n",
       " 'деревня Лампово',\n",
       " 'деревня Лесколово',\n",
       " 'деревня Лопухинка',\n",
       " 'деревня Лупполово',\n",
       " 'деревня Малая Романовка',\n",
       " 'деревня Малое Верево',\n",
       " 'деревня Малое Карлино',\n",
       " 'деревня Малые Колпаны',\n",
       " 'деревня Мануйлово',\n",
       " 'деревня Меньково',\n",
       " 'деревня Мины',\n",
       " 'деревня Мистолово',\n",
       " 'деревня Ненимяки',\n",
       " 'деревня Нижние Осельки',\n",
       " 'деревня Нижняя',\n",
       " 'деревня Низино',\n",
       " 'деревня Новое Девяткино',\n",
       " 'деревня Новолисино',\n",
       " 'деревня Нурма',\n",
       " 'деревня Оржицы',\n",
       " 'деревня Парицы',\n",
       " 'деревня Пельгора',\n",
       " 'деревня Пеники',\n",
       " 'деревня Пижма',\n",
       " 'деревня Пикколово',\n",
       " 'деревня Пудомяги',\n",
       " 'деревня Пустынка',\n",
       " 'деревня Пчева',\n",
       " 'деревня Рабитицы',\n",
       " 'деревня Разбегаево',\n",
       " 'деревня Раздолье',\n",
       " 'деревня Разметелево',\n",
       " 'деревня Рапполово',\n",
       " 'деревня Реброво',\n",
       " 'деревня Русско',\n",
       " 'деревня Сижно',\n",
       " 'деревня Снегиревка',\n",
       " 'деревня Старая',\n",
       " 'деревня Старая Пустошь',\n",
       " 'деревня Старое Хинколово',\n",
       " 'деревня Старополье',\n",
       " 'деревня Старосиверская',\n",
       " 'деревня Старые Бегуницы',\n",
       " 'деревня Суоранда',\n",
       " 'деревня Сяськелево',\n",
       " 'деревня Тарасово',\n",
       " 'деревня Терпилицы',\n",
       " 'деревня Тихковицы',\n",
       " 'деревня Тойворово',\n",
       " 'деревня Торосово',\n",
       " 'деревня Торошковичи',\n",
       " 'деревня Трубников Бор',\n",
       " 'деревня Фалилеево',\n",
       " 'деревня Федоровское',\n",
       " 'деревня Хапо-Ое',\n",
       " 'деревня Хязельки',\n",
       " 'деревня Чудской Бор',\n",
       " 'деревня Шпаньково',\n",
       " 'деревня Щеглово',\n",
       " 'деревня Юкки',\n",
       " 'деревня Ялгино',\n",
       " 'деревня Яльгелево',\n",
       " 'деревня Ям-Тесово',\n",
       " 'коттеджный поселок Кивеннапа Север',\n",
       " 'коттеджный поселок Лесное',\n",
       " 'коттеджный поселок Счастье',\n",
       " 'поселок Александровская',\n",
       " 'поселок Алексеевка',\n",
       " 'поселок Аннино',\n",
       " 'поселок Барышево',\n",
       " 'поселок Белоостров',\n",
       " 'поселок Большая Ижора',\n",
       " 'поселок Бугры',\n",
       " 'поселок Будогощь',\n",
       " 'поселок Важины',\n",
       " 'поселок Виллози',\n",
       " 'поселок Вознесенье',\n",
       " 'поселок Возрождение',\n",
       " 'поселок Войсковицы',\n",
       " 'поселок Войскорово',\n",
       " 'поселок Володарское',\n",
       " 'поселок Вырица',\n",
       " 'поселок Высокоключевой',\n",
       " 'поселок Гаврилово',\n",
       " 'поселок Гарболово',\n",
       " 'поселок Гладкое',\n",
       " 'поселок Глажево',\n",
       " 'поселок Глебычево',\n",
       " 'поселок Гончарово',\n",
       " 'поселок Громово',\n",
       " 'поселок Дзержинского',\n",
       " 'поселок Дружная Горка',\n",
       " 'поселок Дружноселье',\n",
       " 'поселок Дубровка',\n",
       " 'поселок Елизаветино',\n",
       " 'поселок Ефимовский',\n",
       " 'поселок Жилгородок',\n",
       " 'поселок Жилпоселок',\n",
       " 'поселок Житково',\n",
       " 'поселок Заводской',\n",
       " 'поселок Запорожское',\n",
       " 'поселок Зимитицы',\n",
       " 'поселок Ильичево',\n",
       " 'поселок Калитино',\n",
       " 'поселок Каложицы',\n",
       " 'поселок Кикерино',\n",
       " 'поселок Кингисеппский',\n",
       " 'поселок Кирпичное',\n",
       " 'поселок Кобралово',\n",
       " 'поселок Кобринское',\n",
       " 'поселок Коммунары',\n",
       " 'поселок Кондратьево',\n",
       " 'поселок Коробицыно',\n",
       " 'поселок Котельский',\n",
       " 'поселок Красная Долина',\n",
       " 'поселок Красносельское',\n",
       " 'поселок Красный Бор',\n",
       " 'поселок Кузнечное',\n",
       " 'поселок Кузьмоловский',\n",
       " 'поселок Лебяжье',\n",
       " 'поселок Левашово',\n",
       " 'поселок Ленинское',\n",
       " 'поселок Лесное',\n",
       " 'поселок Лесогорский',\n",
       " 'поселок Лисий Нос',\n",
       " 'поселок Лукаши',\n",
       " 'поселок Мга',\n",
       " 'поселок Мельниково',\n",
       " 'поселок Металлострой',\n",
       " 'поселок Мичуринское',\n",
       " 'поселок Молодежное',\n",
       " 'поселок Молодцово',\n",
       " 'поселок Мыза-Ивановка',\n",
       " 'поселок Назия',\n",
       " 'поселок Никольский',\n",
       " 'поселок Новогорелово',\n",
       " 'поселок Новоселье',\n",
       " 'поселок Новый Свет',\n",
       " 'поселок Новый Учхоз',\n",
       " 'поселок Оредеж',\n",
       " 'поселок Павлово',\n",
       " 'поселок Пансионат Зеленый Бор',\n",
       " 'поселок Парголово',\n",
       " 'поселок Первомайское',\n",
       " 'поселок Перово',\n",
       " 'поселок Песочный',\n",
       " 'поселок Петро-Славянка',\n",
       " 'поселок Петровское',\n",
       " 'поселок Платформа 69-й километр',\n",
       " 'поселок Плодовое',\n",
       " 'поселок Плоское',\n",
       " 'поселок Победа',\n",
       " 'поселок Поляны',\n",
       " 'поселок Понтонный',\n",
       " 'поселок Почап',\n",
       " 'поселок Починок',\n",
       " 'поселок Пригородный',\n",
       " 'поселок Приладожский',\n",
       " 'поселок Пудость',\n",
       " 'поселок Пушное',\n",
       " 'поселок Пчевжа',\n",
       " 'поселок Рабитицы',\n",
       " 'поселок Рахья',\n",
       " 'поселок Репино',\n",
       " 'поселок Романовка',\n",
       " 'поселок Ромашки',\n",
       " 'поселок Ропша',\n",
       " 'поселок Рощино',\n",
       " 'поселок Рябово',\n",
       " 'поселок Саперное',\n",
       " 'поселок Саперный',\n",
       " 'поселок Свирьстрой',\n",
       " 'поселок Севастьяново',\n",
       " 'поселок Селезнево',\n",
       " 'поселок Сельцо',\n",
       " 'поселок Семиозерье',\n",
       " 'поселок Семрино',\n",
       " 'поселок Серебрянский',\n",
       " 'поселок Сиверский',\n",
       " 'поселок Синявино',\n",
       " 'поселок Советский',\n",
       " 'поселок Совхозный',\n",
       " 'поселок Сосново',\n",
       " 'поселок Старая Малукса',\n",
       " 'поселок Стеклянный',\n",
       " 'поселок Стрельна',\n",
       " 'поселок Суйда',\n",
       " 'поселок Сумино',\n",
       " 'поселок Суходолье',\n",
       " 'поселок Тайцы',\n",
       " 'поселок Тельмана',\n",
       " 'поселок Терволово',\n",
       " 'поселок Тесово-4',\n",
       " 'поселок Токсово',\n",
       " 'поселок Торковичи',\n",
       " 'поселок Торфяное',\n",
       " 'поселок Углово',\n",
       " 'поселок Ульяновка',\n",
       " 'поселок Усть-Ижора',\n",
       " 'поселок Усть-Луга',\n",
       " 'поселок Ушаки',\n",
       " 'поселок Федоровское',\n",
       " 'поселок Форносово',\n",
       " 'поселок Форт Красная Горка',\n",
       " 'поселок Цвелодубово',\n",
       " 'поселок Цвылево',\n",
       " 'поселок Шугозеро',\n",
       " 'поселок Шушары',\n",
       " 'поселок Щеглово',\n",
       " 'поселок Янино-1',\n",
       " 'поселок имени Морозова',\n",
       " 'поселок имени Свердлова',\n",
       " 'поселок при железнодорожной станции Вещево',\n",
       " 'поселок при железнодорожной станции Приветнинское',\n",
       " 'поселок станции Вещево',\n",
       " 'поселок станции Громово',\n",
       " 'поселок станции Корнево',\n",
       " 'поселок станции Лужайка',\n",
       " 'поселок станции Приветнинское',\n",
       " 'поселок станции Свирь',\n",
       " 'садоводческое некоммерческое товарищество Лесная Поляна',\n",
       " 'садовое товарищество Новая Ропша',\n",
       " 'садовое товарищество Приладожский',\n",
       " 'садовое товарищество Рахья',\n",
       " 'садовое товарищество Садко',\n",
       " 'село Копорье',\n",
       " 'село Павлово',\n",
       " 'село Паша',\n",
       " 'село Путилово',\n",
       " 'село Рождествено',\n",
       " 'село Русско-Высоцкое',\n",
       " 'село Старая Ладога',\n",
       " 'село Шум'}"
      ]
     },
     "execution_count": 19,
     "metadata": {},
     "output_type": "execute_result"
    }
   ],
   "source": [
    "data.locality_name = data.locality_name.str.replace(\n",
    "    'ё', 'е') #замена буквы \"ё\" на \"е\"\n",
    "\n",
    "#Замена на однотипные значения:\n",
    "data.locality_name = data.locality_name.str.replace(\n",
    "    'поселок городского типа', 'поселок') \n",
    "data.locality_name = data.locality_name.str.replace(\n",
    "    'городской поселок', 'поселок')\n",
    "\n",
    "data.locality_name = data.locality_name.str.replace(\n",
    "    'поселок Любань', 'Любань')\n",
    "data.locality_name = data.locality_name.str.replace(\n",
    "    'поселок Мурино', 'Мурино')\n",
    "data.locality_name = data.locality_name.str.replace(\n",
    "    'село Никольское', 'Никольское')\n",
    "data.locality_name = data.locality_name.str.replace(\n",
    "    'деревня Кудрово', 'Кудрово')\n",
    "\n",
    "sorted_locality_name = set(data['locality_name'].unique()) #уникальные значения в алфавитном порядке\n",
    "print(len(sorted_locality_name)) #количество уникальных значений после удаления дубликатов\n",
    "\n",
    "sorted_locality_name"
   ]
  },
  {
   "cell_type": "markdown",
   "metadata": {},
   "source": [
    "### Редкие и выбивающиеся значения"
   ]
  },
  {
   "cell_type": "markdown",
   "metadata": {},
   "source": [
    "#### Высота потолков *ceiling_height*"
   ]
  },
  {
   "cell_type": "markdown",
   "metadata": {},
   "source": [
    "Возьмем среднюю высоту потолка в квартире 2.65 м."
   ]
  },
  {
   "cell_type": "code",
   "execution_count": 20,
   "metadata": {},
   "outputs": [],
   "source": [
    "data['ceiling_height'] = data['ceiling_height'].fillna(2.65) # Заменим пропуски на среднее значение"
   ]
  },
  {
   "cell_type": "markdown",
   "metadata": {},
   "source": [
    "Потолков выше 9 и ниже 2 метров не бывает. Проверим какие значения не соответствуют этим параметрам."
   ]
  },
  {
   "cell_type": "code",
   "execution_count": 21,
   "metadata": {},
   "outputs": [
    {
     "data": {
      "text/plain": [
       "array([  1.  ,   1.2 ,   1.75,  10.3 ,  14.  ,  20.  ,  22.6 ,  24.  ,\n",
       "        25.  ,  26.  ,  27.  ,  27.5 ,  32.  , 100.  ])"
      ]
     },
     "execution_count": 21,
     "metadata": {},
     "output_type": "execute_result"
    }
   ],
   "source": [
    "unique_ceiling_height = data.query('ceiling_height < 2 or ceiling_height > 9')['ceiling_height'].unique()\n",
    "unique_ceiling_height.sort()\n",
    "unique_ceiling_height"
   ]
  },
  {
   "cell_type": "markdown",
   "metadata": {},
   "source": [
    "Имеются значения, где высота потолков в интервале 20-90 похоже, что запятую не поставили. Разделим эти значения >= 20 на 10"
   ]
  },
  {
   "cell_type": "code",
   "execution_count": 22,
   "metadata": {
    "scrolled": true
   },
   "outputs": [],
   "source": [
    "data.loc[data['ceiling_height'] >= 20, 'ceiling_height'] = data['ceiling_height'] / 10     "
   ]
  },
  {
   "cell_type": "markdown",
   "metadata": {},
   "source": [
    "Теперь все значения, меньше 2 метров и больше 9 метров приравняем к среднему."
   ]
  },
  {
   "cell_type": "code",
   "execution_count": 23,
   "metadata": {},
   "outputs": [],
   "source": [
    "data.loc[data['ceiling_height'] < 2, 'ceiling_height'] = 2.65\n",
    "data.loc[data['ceiling_height'] > 9, 'ceiling_height'] = 2.65"
   ]
  },
  {
   "cell_type": "markdown",
   "metadata": {},
   "source": [
    "Проверяем столбец **ceiling_height**"
   ]
  },
  {
   "cell_type": "code",
   "execution_count": 24,
   "metadata": {
    "scrolled": true
   },
   "outputs": [
    {
     "data": {
      "text/plain": [
       "array([2.  , 2.2 , 2.25, 2.26, 2.3 , 2.34, 2.4 , 2.45, 2.46, 2.47, 2.48,\n",
       "       2.49, 2.5 , 2.51, 2.52, 2.53, 2.54, 2.55, 2.56, 2.57, 2.58, 2.59,\n",
       "       2.6 , 2.61, 2.62, 2.63, 2.64, 2.65, 2.66, 2.67, 2.68, 2.69, 2.7 ,\n",
       "       2.71, 2.72, 2.73, 2.74, 2.75, 2.76, 2.77, 2.78, 2.79, 2.8 , 2.81,\n",
       "       2.82, 2.83, 2.84, 2.85, 2.86, 2.87, 2.88, 2.89, 2.9 , 2.91, 2.92,\n",
       "       2.93, 2.94, 2.95, 2.96, 2.97, 2.98, 2.99, 3.  , 3.01, 3.02, 3.03,\n",
       "       3.04, 3.05, 3.06, 3.07, 3.08, 3.09, 3.1 , 3.11, 3.12, 3.13, 3.14,\n",
       "       3.15, 3.16, 3.17, 3.18, 3.2 , 3.21, 3.22, 3.23, 3.24, 3.25, 3.26,\n",
       "       3.27, 3.28, 3.29, 3.3 , 3.31, 3.32, 3.33, 3.34, 3.35, 3.36, 3.37,\n",
       "       3.38, 3.39, 3.4 , 3.42, 3.43, 3.44, 3.45, 3.46, 3.47, 3.48, 3.49,\n",
       "       3.5 , 3.51, 3.52, 3.53, 3.54, 3.55, 3.56, 3.57, 3.58, 3.59, 3.6 ,\n",
       "       3.62, 3.63, 3.65, 3.66, 3.67, 3.68, 3.69, 3.7 , 3.75, 3.76, 3.78,\n",
       "       3.8 , 3.82, 3.83, 3.84, 3.85, 3.86, 3.87, 3.88, 3.9 , 3.93, 3.95,\n",
       "       3.98, 4.  , 4.06, 4.1 , 4.14, 4.15, 4.19, 4.2 , 4.25, 4.3 , 4.37,\n",
       "       4.4 , 4.45, 4.5 , 4.65, 4.7 , 4.8 , 4.9 , 5.  , 5.2 , 5.3 , 5.5 ,\n",
       "       5.6 , 5.8 , 6.  , 8.  , 8.3 ])"
      ]
     },
     "execution_count": 24,
     "metadata": {},
     "output_type": "execute_result"
    }
   ],
   "source": [
    "unique_ceiling_height = data['ceiling_height'].unique()\n",
    "unique_ceiling_height.sort()\n",
    "unique_ceiling_height"
   ]
  },
  {
   "cell_type": "markdown",
   "metadata": {},
   "source": [
    "***Вывод:***\n",
    "\n",
    "В столбце **высота потолков** было 39% пропусков и ошибочные значения. В результате предобработки пропуски и выбивающиеся значения после 90 м заменены на среднюю высоту потолков. Значения, увеличенные в 10 раз, уменьшены соответственно."
   ]
  },
  {
   "cell_type": "markdown",
   "metadata": {},
   "source": [
    "## Посчитайте и добавьте в таблицу новые столбцы"
   ]
  },
  {
   "cell_type": "code",
   "execution_count": 25,
   "metadata": {},
   "outputs": [],
   "source": [
    "# Добавляем столбец со стоимостью квадратного метра и приводим его в целочисленный тип\n",
    "data['square_meter_price'] = data['last_price'] / data['total_area']\n",
    "data['square_meter_price'] = data['square_meter_price'].astype(int)\n",
    "# Добавляем столбцы дня недели, месяца и года\n",
    "data['day_of_week'] = data['first_day_exposition'].dt.weekday\n",
    "data['month'] = data['first_day_exposition'].dt.month\n",
    "data['year'] = data['first_day_exposition'].dt.year\n",
    "\n",
    "# Создаём функцию для заполнения нового столбца с типом этажа\n",
    "def floor_group(row):\n",
    "    if row['floor'] == 1:\n",
    "        return 'первый'\n",
    "    elif row['floor'] == row['floors_total']:\n",
    "        return 'последний'\n",
    "    else:\n",
    "        return 'другой'\n",
    "data['floor_type'] = data.apply(floor_group, axis=1)\n",
    "\n",
    "# Добавляем столбец с расстоянием до центра в км, округляем до целого\n",
    "data['center_km'] = data['cityCenters_nearest'] / 1000\n",
    "data['center_km'] = data['center_km'].fillna(value=0).astype(int)"
   ]
  },
  {
   "cell_type": "code",
   "execution_count": 26,
   "metadata": {
    "scrolled": true
   },
   "outputs": [
    {
     "data": {
      "text/html": [
       "<div>\n",
       "<style scoped>\n",
       "    .dataframe tbody tr th:only-of-type {\n",
       "        vertical-align: middle;\n",
       "    }\n",
       "\n",
       "    .dataframe tbody tr th {\n",
       "        vertical-align: top;\n",
       "    }\n",
       "\n",
       "    .dataframe thead th {\n",
       "        text-align: right;\n",
       "    }\n",
       "</style>\n",
       "<table border=\"1\" class=\"dataframe\">\n",
       "  <thead>\n",
       "    <tr style=\"text-align: right;\">\n",
       "      <th></th>\n",
       "      <th>total_images</th>\n",
       "      <th>last_price</th>\n",
       "      <th>total_area</th>\n",
       "      <th>first_day_exposition</th>\n",
       "      <th>rooms</th>\n",
       "      <th>ceiling_height</th>\n",
       "      <th>floors_total</th>\n",
       "      <th>living_area</th>\n",
       "      <th>floor</th>\n",
       "      <th>is_apartment</th>\n",
       "      <th>...</th>\n",
       "      <th>parks_nearest</th>\n",
       "      <th>ponds_around3000</th>\n",
       "      <th>ponds_nearest</th>\n",
       "      <th>days_exposition</th>\n",
       "      <th>square_meter_price</th>\n",
       "      <th>day_of_week</th>\n",
       "      <th>month</th>\n",
       "      <th>year</th>\n",
       "      <th>floor_type</th>\n",
       "      <th>center_km</th>\n",
       "    </tr>\n",
       "  </thead>\n",
       "  <tbody>\n",
       "    <tr>\n",
       "      <th>0</th>\n",
       "      <td>20</td>\n",
       "      <td>13000000</td>\n",
       "      <td>108.0</td>\n",
       "      <td>2019-03-07</td>\n",
       "      <td>3</td>\n",
       "      <td>2.70</td>\n",
       "      <td>16</td>\n",
       "      <td>51.000000</td>\n",
       "      <td>8</td>\n",
       "      <td>False</td>\n",
       "      <td>...</td>\n",
       "      <td>482.0</td>\n",
       "      <td>2</td>\n",
       "      <td>755.0</td>\n",
       "      <td>NaN</td>\n",
       "      <td>120370</td>\n",
       "      <td>3</td>\n",
       "      <td>3</td>\n",
       "      <td>2019</td>\n",
       "      <td>другой</td>\n",
       "      <td>16</td>\n",
       "    </tr>\n",
       "    <tr>\n",
       "      <th>1</th>\n",
       "      <td>7</td>\n",
       "      <td>3350000</td>\n",
       "      <td>40.4</td>\n",
       "      <td>2018-12-04</td>\n",
       "      <td>1</td>\n",
       "      <td>2.65</td>\n",
       "      <td>11</td>\n",
       "      <td>18.600000</td>\n",
       "      <td>1</td>\n",
       "      <td>False</td>\n",
       "      <td>...</td>\n",
       "      <td>NaN</td>\n",
       "      <td>0</td>\n",
       "      <td>NaN</td>\n",
       "      <td>81.0</td>\n",
       "      <td>82920</td>\n",
       "      <td>1</td>\n",
       "      <td>12</td>\n",
       "      <td>2018</td>\n",
       "      <td>первый</td>\n",
       "      <td>18</td>\n",
       "    </tr>\n",
       "    <tr>\n",
       "      <th>2</th>\n",
       "      <td>10</td>\n",
       "      <td>5196000</td>\n",
       "      <td>56.0</td>\n",
       "      <td>2015-08-20</td>\n",
       "      <td>2</td>\n",
       "      <td>2.65</td>\n",
       "      <td>5</td>\n",
       "      <td>34.300000</td>\n",
       "      <td>4</td>\n",
       "      <td>False</td>\n",
       "      <td>...</td>\n",
       "      <td>90.0</td>\n",
       "      <td>2</td>\n",
       "      <td>574.0</td>\n",
       "      <td>558.0</td>\n",
       "      <td>92785</td>\n",
       "      <td>3</td>\n",
       "      <td>8</td>\n",
       "      <td>2015</td>\n",
       "      <td>другой</td>\n",
       "      <td>13</td>\n",
       "    </tr>\n",
       "    <tr>\n",
       "      <th>3</th>\n",
       "      <td>0</td>\n",
       "      <td>64900000</td>\n",
       "      <td>159.0</td>\n",
       "      <td>2015-07-24</td>\n",
       "      <td>3</td>\n",
       "      <td>2.65</td>\n",
       "      <td>14</td>\n",
       "      <td>90.816648</td>\n",
       "      <td>9</td>\n",
       "      <td>False</td>\n",
       "      <td>...</td>\n",
       "      <td>84.0</td>\n",
       "      <td>3</td>\n",
       "      <td>234.0</td>\n",
       "      <td>424.0</td>\n",
       "      <td>408176</td>\n",
       "      <td>4</td>\n",
       "      <td>7</td>\n",
       "      <td>2015</td>\n",
       "      <td>другой</td>\n",
       "      <td>6</td>\n",
       "    </tr>\n",
       "    <tr>\n",
       "      <th>4</th>\n",
       "      <td>2</td>\n",
       "      <td>10000000</td>\n",
       "      <td>100.0</td>\n",
       "      <td>2018-06-19</td>\n",
       "      <td>2</td>\n",
       "      <td>3.03</td>\n",
       "      <td>14</td>\n",
       "      <td>32.000000</td>\n",
       "      <td>13</td>\n",
       "      <td>False</td>\n",
       "      <td>...</td>\n",
       "      <td>112.0</td>\n",
       "      <td>1</td>\n",
       "      <td>48.0</td>\n",
       "      <td>121.0</td>\n",
       "      <td>100000</td>\n",
       "      <td>1</td>\n",
       "      <td>6</td>\n",
       "      <td>2018</td>\n",
       "      <td>другой</td>\n",
       "      <td>8</td>\n",
       "    </tr>\n",
       "  </tbody>\n",
       "</table>\n",
       "<p>5 rows × 28 columns</p>\n",
       "</div>"
      ],
      "text/plain": [
       "   total_images  last_price  total_area first_day_exposition  rooms  \\\n",
       "0            20    13000000       108.0           2019-03-07      3   \n",
       "1             7     3350000        40.4           2018-12-04      1   \n",
       "2            10     5196000        56.0           2015-08-20      2   \n",
       "3             0    64900000       159.0           2015-07-24      3   \n",
       "4             2    10000000       100.0           2018-06-19      2   \n",
       "\n",
       "   ceiling_height  floors_total  living_area  floor  is_apartment  ...  \\\n",
       "0            2.70            16    51.000000      8         False  ...   \n",
       "1            2.65            11    18.600000      1         False  ...   \n",
       "2            2.65             5    34.300000      4         False  ...   \n",
       "3            2.65            14    90.816648      9         False  ...   \n",
       "4            3.03            14    32.000000     13         False  ...   \n",
       "\n",
       "   parks_nearest  ponds_around3000  ponds_nearest  days_exposition  \\\n",
       "0          482.0                 2          755.0              NaN   \n",
       "1            NaN                 0            NaN             81.0   \n",
       "2           90.0                 2          574.0            558.0   \n",
       "3           84.0                 3          234.0            424.0   \n",
       "4          112.0                 1           48.0            121.0   \n",
       "\n",
       "  square_meter_price  day_of_week  month  year  floor_type  center_km  \n",
       "0             120370            3      3  2019      другой         16  \n",
       "1              82920            1     12  2018      первый         18  \n",
       "2              92785            3      8  2015      другой         13  \n",
       "3             408176            4      7  2015      другой          6  \n",
       "4             100000            1      6  2018      другой          8  \n",
       "\n",
       "[5 rows x 28 columns]"
      ]
     },
     "execution_count": 26,
     "metadata": {},
     "output_type": "execute_result"
    }
   ],
   "source": [
    "data.head()"
   ]
  },
  {
   "cell_type": "markdown",
   "metadata": {},
   "source": [
    "## Проведите исследовательский анализ данных"
   ]
  },
  {
   "cell_type": "markdown",
   "metadata": {},
   "source": [
    "### Изучение параметров объектов."
   ]
  },
  {
   "cell_type": "markdown",
   "metadata": {},
   "source": [
    "#### Общая площадь"
   ]
  },
  {
   "cell_type": "code",
   "execution_count": 27,
   "metadata": {},
   "outputs": [
    {
     "data": {
      "text/plain": [
       "count    23565.000000\n",
       "mean        60.322824\n",
       "std         35.657060\n",
       "min         12.000000\n",
       "25%         40.000000\n",
       "50%         52.000000\n",
       "75%         69.700000\n",
       "max        900.000000\n",
       "Name: total_area, dtype: float64"
      ]
     },
     "execution_count": 27,
     "metadata": {},
     "output_type": "execute_result"
    }
   ],
   "source": [
    "data['total_area'].describe()"
   ]
  },
  {
   "cell_type": "code",
   "execution_count": 28,
   "metadata": {},
   "outputs": [
    {
     "data": {
      "image/png": "[encoded data removed]",
      "text/plain": [
       "<Figure size 576x288 with 1 Axes>"
      ]
     },
     "metadata": {
      "needs_background": "light"
     },
     "output_type": "display_data"
    }
   ],
   "source": [
    "data.plot(y = 'total_area', kind = 'hist', bins=150, grid=True, figsize=(8,4), range=(20,100), title='Общая площадь')\n",
    "plt.xlabel('м2')\n",
    "plt.ylabel('Частотность');"
   ]
  },
  {
   "cell_type": "markdown",
   "metadata": {},
   "source": [
    "***Вывод***\n",
    "\n",
    "45 м2 - самая часто встречающаяся общая площадь квартиры. Пиковые значения 30, 45, 60 соответствуют большинству средних однокомнатных, двухкомнатных и трехкомнатных квартир.\n",
    "\n",
    "Распределение по **общей площади** похоже на распределение Пуассона. Большинство предложений по квартирам общей площадью от 40 до 69 кв.м. Большой разброс данных: от 12 до 900 квадратных метров."
   ]
  },
  {
   "cell_type": "markdown",
   "metadata": {},
   "source": [
    "#### Жилая площадь"
   ]
  },
  {
   "cell_type": "code",
   "execution_count": 29,
   "metadata": {},
   "outputs": [
    {
     "data": {
      "text/plain": [
       "count    23565.000000\n",
       "mean        34.592277\n",
       "std         22.373679\n",
       "min          2.000000\n",
       "25%         19.000000\n",
       "50%         30.000000\n",
       "75%         42.100000\n",
       "max        409.700000\n",
       "Name: living_area, dtype: float64"
      ]
     },
     "execution_count": 29,
     "metadata": {},
     "output_type": "execute_result"
    }
   ],
   "source": [
    "data['living_area'].describe()"
   ]
  },
  {
   "cell_type": "code",
   "execution_count": 30,
   "metadata": {
    "scrolled": true
   },
   "outputs": [
    {
     "data": {
      "image/png": "[encoded data removed]",
      "text/plain": [
       "<Figure size 576x288 with 1 Axes>"
      ]
     },
     "metadata": {
      "needs_background": "light"
     },
     "output_type": "display_data"
    }
   ],
   "source": [
    "data.plot(\n",
    "    y = 'living_area', kind = 'hist', bins = 100, grid=True, figsize = (8,4), range = (0,150), title = 'Жилая площадь'\n",
    ")\n",
    "plt.xlabel('м2')\n",
    "plt.ylabel('Частотность');"
   ]
  },
  {
   "cell_type": "markdown",
   "metadata": {},
   "source": [
    "Большинство предложений по квартирам **жилой площадью** от 19 до 42 кв.м. Большой разброс данных как и в общей площади: от 2 до 409 квадратных метров."
   ]
  },
  {
   "cell_type": "markdown",
   "metadata": {},
   "source": [
    "#### Площадь кухни"
   ]
  },
  {
   "cell_type": "code",
   "execution_count": 31,
   "metadata": {},
   "outputs": [
    {
     "data": {
      "text/plain": [
       "count    23565.000000\n",
       "mean        10.499898\n",
       "std          6.037750\n",
       "min          1.300000\n",
       "25%          7.000000\n",
       "50%          9.000000\n",
       "75%         12.000000\n",
       "max        112.000000\n",
       "Name: kitchen_area, dtype: float64"
      ]
     },
     "execution_count": 31,
     "metadata": {},
     "output_type": "execute_result"
    }
   ],
   "source": [
    "data['kitchen_area'].describe()"
   ]
  },
  {
   "cell_type": "code",
   "execution_count": 32,
   "metadata": {
    "scrolled": true
   },
   "outputs": [
    {
     "data": {
      "image/png": "[encoded data removed]",
      "text/plain": [
       "<Figure size 576x288 with 1 Axes>"
      ]
     },
     "metadata": {
      "needs_background": "light"
     },
     "output_type": "display_data"
    }
   ],
   "source": [
    "data.plot(\n",
    "    y = 'kitchen_area', kind = 'hist', bins = 100, grid=True, figsize = (8,4), range = (0,60), title = 'Площадь кухни'\n",
    ")\n",
    "plt.xlabel('м2')\n",
    "plt.ylabel('Частотность');"
   ]
  },
  {
   "cell_type": "markdown",
   "metadata": {},
   "source": [
    "Большинство предложений по квартирам с **площадью кухни** от 7 до 12 кв.м. Большой разброс данных как и в общей площади: от 1.3 до 112 квадратных метров."
   ]
  },
  {
   "cell_type": "markdown",
   "metadata": {},
   "source": [
    "#### Цена объекта"
   ]
  },
  {
   "cell_type": "code",
   "execution_count": 33,
   "metadata": {},
   "outputs": [
    {
     "data": {
      "text/plain": [
       "count    2.356500e+04\n",
       "mean     6.540058e+06\n",
       "std      1.091093e+07\n",
       "min      1.219000e+04\n",
       "25%      3.400000e+06\n",
       "50%      4.646000e+06\n",
       "75%      6.790000e+06\n",
       "max      7.630000e+08\n",
       "Name: last_price, dtype: float64"
      ]
     },
     "execution_count": 33,
     "metadata": {},
     "output_type": "execute_result"
    }
   ],
   "source": [
    "data['last_price'].describe()"
   ]
  },
  {
   "cell_type": "code",
   "execution_count": 34,
   "metadata": {
    "scrolled": true
   },
   "outputs": [
    {
     "data": {
      "image/png": "[encoded data removed]",
      "text/plain": [
       "<Figure size 576x288 with 1 Axes>"
      ]
     },
     "metadata": {
      "needs_background": "light"
     },
     "output_type": "display_data"
    }
   ],
   "source": [
    "data.plot(\n",
    "    y = 'last_price', kind = 'hist', bins = 100, grid=True, figsize = (8,4), range = (1,15000000), title = 'Цена объекта'\n",
    ")\n",
    "plt.xlabel('рубли')\n",
    "plt.ylabel('Частотность');"
   ]
  },
  {
   "cell_type": "markdown",
   "metadata": {},
   "source": [
    "**Цена объекта** распределена нормально. Есть выбросы, но они не сильно влияют на результат."
   ]
  },
  {
   "cell_type": "markdown",
   "metadata": {},
   "source": [
    "#### Количество комнат"
   ]
  },
  {
   "cell_type": "code",
   "execution_count": 35,
   "metadata": {},
   "outputs": [
    {
     "data": {
      "text/plain": [
       "count    23565.000000\n",
       "mean         2.070656\n",
       "std          1.078591\n",
       "min          0.000000\n",
       "25%          1.000000\n",
       "50%          2.000000\n",
       "75%          3.000000\n",
       "max         19.000000\n",
       "Name: rooms, dtype: float64"
      ]
     },
     "execution_count": 35,
     "metadata": {},
     "output_type": "execute_result"
    }
   ],
   "source": [
    "data['rooms'].describe()"
   ]
  },
  {
   "cell_type": "code",
   "execution_count": 36,
   "metadata": {
    "scrolled": true
   },
   "outputs": [
    {
     "data": {
      "image/png": "[encoded data removed]",
      "text/plain": [
       "<Figure size 576x288 with 1 Axes>"
      ]
     },
     "metadata": {
      "needs_background": "light"
     },
     "output_type": "display_data"
    }
   ],
   "source": [
    "data.plot(\n",
    "    y = 'rooms', kind = 'hist', bins = 100, grid=True, figsize = (8,4), range = (1,8), title = 'Количество комнат'\n",
    ")\n",
    "plt.xlabel('количество')\n",
    "plt.ylabel('Частотность');"
   ]
  },
  {
   "cell_type": "markdown",
   "metadata": {},
   "source": [
    "Наиболее распространены квартиры с **количеством комнат** 1 и 2."
   ]
  },
  {
   "cell_type": "markdown",
   "metadata": {},
   "source": [
    "#### Высота потолков"
   ]
  },
  {
   "cell_type": "code",
   "execution_count": 37,
   "metadata": {},
   "outputs": [
    {
     "data": {
      "text/plain": [
       "count    23565.000000\n",
       "mean         2.697798\n",
       "std          0.232244\n",
       "min          2.000000\n",
       "25%          2.600000\n",
       "50%          2.650000\n",
       "75%          2.700000\n",
       "max          8.300000\n",
       "Name: ceiling_height, dtype: float64"
      ]
     },
     "execution_count": 37,
     "metadata": {},
     "output_type": "execute_result"
    }
   ],
   "source": [
    "data['ceiling_height'].describe()"
   ]
  },
  {
   "cell_type": "code",
   "execution_count": 38,
   "metadata": {
    "scrolled": true
   },
   "outputs": [
    {
     "data": {
      "image/png": "[encoded data removed]",
      "text/plain": [
       "<Figure size 576x288 with 1 Axes>"
      ]
     },
     "metadata": {
      "needs_background": "light"
     },
     "output_type": "display_data"
    }
   ],
   "source": [
    "data.plot(\n",
    "    y = 'ceiling_height', kind = 'hist', bins = 100, grid=True, figsize = (8,4), range = (2,8), title = 'Высота потолков'\n",
    ")\n",
    "plt.xlabel('м')\n",
    "plt.ylabel('Частотность');"
   ]
  },
  {
   "cell_type": "markdown",
   "metadata": {},
   "source": [
    "После обработки данных получилось, что в большинстве **высота потолков** 2.6-2.7 метров. Это стандартная высота для обычных квартир."
   ]
  },
  {
   "cell_type": "markdown",
   "metadata": {},
   "source": [
    "#### Этаж"
   ]
  },
  {
   "cell_type": "code",
   "execution_count": 39,
   "metadata": {},
   "outputs": [
    {
     "data": {
      "text/plain": [
       "count    23565.000000\n",
       "mean         5.878124\n",
       "std          4.871485\n",
       "min          1.000000\n",
       "25%          2.000000\n",
       "50%          4.000000\n",
       "75%          8.000000\n",
       "max         33.000000\n",
       "Name: floor, dtype: float64"
      ]
     },
     "execution_count": 39,
     "metadata": {},
     "output_type": "execute_result"
    }
   ],
   "source": [
    "data['floor'].describe()"
   ]
  },
  {
   "cell_type": "code",
   "execution_count": 40,
   "metadata": {
    "scrolled": true
   },
   "outputs": [
    {
     "data": {
      "image/png": "[encoded data removed]",
      "text/plain": [
       "<Figure size 576x288 with 1 Axes>"
      ]
     },
     "metadata": {
      "needs_background": "light"
     },
     "output_type": "display_data"
    }
   ],
   "source": [
    "data.plot(\n",
    "    y = 'floor', kind = 'hist', bins = 100, grid=True, figsize = (8,4), range = (0,33), title = 'Этаж'\n",
    ")\n",
    "plt.xlabel('этаж')\n",
    "plt.ylabel('Частотность');"
   ]
  },
  {
   "cell_type": "markdown",
   "metadata": {},
   "source": [
    "**Этаж** чаще всего встречается второй. Распределение похоже на распределение Пуассона."
   ]
  },
  {
   "cell_type": "markdown",
   "metadata": {},
   "source": [
    "#### Тип этажа"
   ]
  },
  {
   "cell_type": "code",
   "execution_count": 41,
   "metadata": {},
   "outputs": [
    {
     "data": {
      "text/plain": [
       "count      23565\n",
       "unique         3\n",
       "top       другой\n",
       "freq       17326\n",
       "Name: floor_type, dtype: object"
      ]
     },
     "execution_count": 41,
     "metadata": {},
     "output_type": "execute_result"
    }
   ],
   "source": [
    "data['floor_type'].describe()"
   ]
  },
  {
   "cell_type": "code",
   "execution_count": 42,
   "metadata": {
    "scrolled": true
   },
   "outputs": [
    {
     "data": {
      "image/png": "[encoded data removed]",
      "text/plain": [
       "<Figure size 432x288 with 1 Axes>"
      ]
     },
     "metadata": {
      "needs_background": "light"
     },
     "output_type": "display_data"
    }
   ],
   "source": [
    "data['floor_type'].hist(bins=100, range=(0, 2))\n",
    "plt.title('Тип этажа')\n",
    "plt.ylabel('Частотность')\n",
    "plt.legend(['floor_type']);"
   ]
  },
  {
   "cell_type": "markdown",
   "metadata": {},
   "source": [
    "Первый и последний этажи продаются реже."
   ]
  },
  {
   "cell_type": "markdown",
   "metadata": {},
   "source": [
    "#### Всего этажей в доме"
   ]
  },
  {
   "cell_type": "code",
   "execution_count": 43,
   "metadata": {},
   "outputs": [
    {
     "data": {
      "text/plain": [
       "count    23565.000000\n",
       "mean        10.675875\n",
       "std          6.594823\n",
       "min          1.000000\n",
       "25%          5.000000\n",
       "50%          9.000000\n",
       "75%         16.000000\n",
       "max         60.000000\n",
       "Name: floors_total, dtype: float64"
      ]
     },
     "execution_count": 43,
     "metadata": {},
     "output_type": "execute_result"
    }
   ],
   "source": [
    "data['floors_total'].describe()"
   ]
  },
  {
   "cell_type": "code",
   "execution_count": 75,
   "metadata": {
    "scrolled": true
   },
   "outputs": [
    {
     "data": {
      "image/png": "[encoded data removed]",
      "text/plain": [
       "<Figure size 576x288 with 1 Axes>"
      ]
     },
     "metadata": {
      "needs_background": "light"
     },
     "output_type": "display_data"
    }
   ],
   "source": [
    "data.plot(\n",
    "    y = 'floors_total', kind = 'hist', bins = 100, grid=True, figsize = (8,4), range = (1,30), title = 'Всего этажей в доме'\n",
    ")\n",
    "plt.xlabel('Количество этажей')\n",
    "plt.ylabel('Частотность');"
   ]
  },
  {
   "cell_type": "markdown",
   "metadata": {},
   "source": [
    "5-ти и 9-ти этажки преобладают в датасете."
   ]
  },
  {
   "cell_type": "markdown",
   "metadata": {},
   "source": [
    "#### Расстояние до центра города в метрах"
   ]
  },
  {
   "cell_type": "code",
   "execution_count": 45,
   "metadata": {},
   "outputs": [
    {
     "data": {
      "text/plain": [
       "count    18064.000000\n",
       "mean     14192.656056\n",
       "std       8613.348153\n",
       "min        181.000000\n",
       "25%       9238.000000\n",
       "50%      13096.500000\n",
       "75%      16285.000000\n",
       "max      65968.000000\n",
       "Name: cityCenters_nearest, dtype: float64"
      ]
     },
     "execution_count": 45,
     "metadata": {},
     "output_type": "execute_result"
    }
   ],
   "source": [
    "data['cityCenters_nearest'].describe()"
   ]
  },
  {
   "cell_type": "code",
   "execution_count": 76,
   "metadata": {
    "scrolled": true
   },
   "outputs": [
    {
     "data": {
      "image/png": "[encoded data removed]",
      "text/plain": [
       "<Figure size 576x288 with 1 Axes>"
      ]
     },
     "metadata": {
      "needs_background": "light"
     },
     "output_type": "display_data"
    }
   ],
   "source": [
    "data.plot(\n",
    "    y = 'cityCenters_nearest', kind = 'hist', bins = 100, grid=True, figsize = (8,4), range = (1,60000), title = 'Расстояние до центра города'\n",
    ")\n",
    "plt.xlabel('м')\n",
    "plt.ylabel('Частотность');"
   ]
  },
  {
   "cell_type": "markdown",
   "metadata": {},
   "source": [
    "Большинство квартир находится рядом с центром. Больше всего на расстоянии около 15 км."
   ]
  },
  {
   "cell_type": "markdown",
   "metadata": {},
   "source": [
    "#### Расстояние до ближайшего аэропорта"
   ]
  },
  {
   "cell_type": "code",
   "execution_count": 47,
   "metadata": {},
   "outputs": [
    {
     "data": {
      "text/plain": [
       "count    18041.000000\n",
       "mean     28797.082701\n",
       "std      12632.499735\n",
       "min          0.000000\n",
       "25%      18565.000000\n",
       "50%      26757.000000\n",
       "75%      37273.000000\n",
       "max      84869.000000\n",
       "Name: airports_nearest, dtype: float64"
      ]
     },
     "execution_count": 47,
     "metadata": {},
     "output_type": "execute_result"
    }
   ],
   "source": [
    "data['airports_nearest'].describe()"
   ]
  },
  {
   "cell_type": "code",
   "execution_count": 77,
   "metadata": {
    "scrolled": true
   },
   "outputs": [
    {
     "data": {
      "image/png": "[encoded data removed]",
      "text/plain": [
       "<Figure size 576x288 with 1 Axes>"
      ]
     },
     "metadata": {
      "needs_background": "light"
     },
     "output_type": "display_data"
    }
   ],
   "source": [
    "data.plot(\n",
    "    y = 'airports_nearest', kind = 'hist', bins = 100, grid=True, figsize = (8,4), range = (0,85000), title = 'Расстояние до центра города'\n",
    ")\n",
    "plt.xlabel('м')\n",
    "plt.ylabel('Частотность');"
   ]
  },
  {
   "cell_type": "markdown",
   "metadata": {},
   "source": [
    "Большинство квартир находится на расстоянии около от 10 км до 55 км."
   ]
  },
  {
   "cell_type": "markdown",
   "metadata": {},
   "source": [
    "#### Расстояние до ближайшего парка"
   ]
  },
  {
   "cell_type": "code",
   "execution_count": 49,
   "metadata": {},
   "outputs": [
    {
     "data": {
      "text/plain": [
       "count    8030.000000\n",
       "mean      490.580448\n",
       "std       341.572956\n",
       "min         1.000000\n",
       "25%       288.000000\n",
       "50%       455.000000\n",
       "75%       612.000000\n",
       "max      3190.000000\n",
       "Name: parks_nearest, dtype: float64"
      ]
     },
     "execution_count": 49,
     "metadata": {},
     "output_type": "execute_result"
    }
   ],
   "source": [
    "data['parks_nearest'].describe()"
   ]
  },
  {
   "cell_type": "code",
   "execution_count": 78,
   "metadata": {
    "scrolled": true
   },
   "outputs": [
    {
     "data": {
      "image/png": "[encoded data removed]",
      "text/plain": [
       "<Figure size 576x288 with 1 Axes>"
      ]
     },
     "metadata": {
      "needs_background": "light"
     },
     "output_type": "display_data"
    }
   ],
   "source": [
    "data.plot(\n",
    "    y = 'parks_nearest', kind = 'hist', bins = 100, grid=True, figsize = (8,4), range = (1,4000), title = 'Расстояние до ближайшего парка'\n",
    ")\n",
    "plt.xlabel('м')\n",
    "plt.ylabel('Частотность');"
   ]
  },
  {
   "cell_type": "markdown",
   "metadata": {},
   "source": [
    "Большинство квартир находится рядом с парками. Больше всего на расстоянии около 400 м."
   ]
  },
  {
   "cell_type": "markdown",
   "metadata": {},
   "source": [
    "#### День публикации объявления"
   ]
  },
  {
   "cell_type": "markdown",
   "metadata": {},
   "source": [
    "data['day_of_week'] = data['first_day_exposition'].dt.weekday\n",
    "data['month'] = data['first_day_exposition'].dt.month\n",
    "data['year'] = data['first_day_exposition'].dt.year"
   ]
  },
  {
   "cell_type": "code",
   "execution_count": 51,
   "metadata": {},
   "outputs": [
    {
     "data": {
      "text/plain": [
       "count    23565.000000\n",
       "mean         2.567367\n",
       "std          1.788279\n",
       "min          0.000000\n",
       "25%          1.000000\n",
       "50%          3.000000\n",
       "75%          4.000000\n",
       "max          6.000000\n",
       "Name: day_of_week, dtype: float64"
      ]
     },
     "execution_count": 51,
     "metadata": {},
     "output_type": "execute_result"
    }
   ],
   "source": [
    "data['day_of_week'].describe()"
   ]
  },
  {
   "cell_type": "code",
   "execution_count": 79,
   "metadata": {
    "scrolled": true
   },
   "outputs": [
    {
     "data": {
      "image/png": "[encoded data removed]",
      "text/plain": [
       "<Figure size 576x288 with 1 Axes>"
      ]
     },
     "metadata": {
      "needs_background": "light"
     },
     "output_type": "display_data"
    }
   ],
   "source": [
    "data.plot(\n",
    "    y = 'day_of_week', kind = 'hist', bins = 100, grid=True, figsize = (8,4), range = (0,6), title = 'День публикации объевления'\n",
    ")\n",
    "plt.xlabel('Номер дня недели')\n",
    "plt.ylabel('Частотность');"
   ]
  },
  {
   "cell_type": "markdown",
   "metadata": {},
   "source": [
    "В **субботу** и **воскресенье** публиковалось наименьшее количество объявлений. В будние дни примерно одинаковое количество публикаций."
   ]
  },
  {
   "cell_type": "markdown",
   "metadata": {},
   "source": [
    "#### Месяц публикации объявления"
   ]
  },
  {
   "cell_type": "code",
   "execution_count": 53,
   "metadata": {
    "scrolled": false
   },
   "outputs": [
    {
     "data": {
      "text/plain": [
       "count    23565.000000\n",
       "mean         6.401570\n",
       "std          3.492948\n",
       "min          1.000000\n",
       "25%          3.000000\n",
       "50%          6.000000\n",
       "75%         10.000000\n",
       "max         12.000000\n",
       "Name: month, dtype: float64"
      ]
     },
     "execution_count": 53,
     "metadata": {},
     "output_type": "execute_result"
    }
   ],
   "source": [
    "data['month'].describe()"
   ]
  },
  {
   "cell_type": "code",
   "execution_count": 80,
   "metadata": {
    "scrolled": true
   },
   "outputs": [
    {
     "data": {
      "image/png": "[encoded data removed]",
      "text/plain": [
       "<Figure size 576x288 with 1 Axes>"
      ]
     },
     "metadata": {
      "needs_background": "light"
     },
     "output_type": "display_data"
    }
   ],
   "source": [
    "data.plot(\n",
    "    y = 'month', kind = 'hist', bins = 100, grid=True, figsize = (8,4), range = (0,13), title = 'Месяц публикации объевления'\n",
    ")\n",
    "plt.xlabel('Номер месяца')\n",
    "plt.ylabel('Частотность');"
   ]
  },
  {
   "cell_type": "markdown",
   "metadata": {},
   "source": [
    "В январе и мае много праздничных дней, думаю, поэтому количество объявлений тут меньше. Наибольшее количество объевлений выложено в феврале (люди отходят от празднования нового года и выкладывают информацию для продажи квартиры). Также прослеживается снижение появления новых объевлений в летние месяцы (сезон отпусков)."
   ]
  },
  {
   "cell_type": "markdown",
   "metadata": {},
   "source": [
    "### Как быстро продавались квартиры."
   ]
  },
  {
   "cell_type": "code",
   "execution_count": 55,
   "metadata": {
    "scrolled": true
   },
   "outputs": [
    {
     "data": {
      "text/plain": [
       "count    20394.000000\n",
       "mean       180.741395\n",
       "std        219.732782\n",
       "min          1.000000\n",
       "25%         45.000000\n",
       "50%         95.000000\n",
       "75%        231.000000\n",
       "max       1580.000000\n",
       "Name: days_exposition, dtype: float64"
      ]
     },
     "execution_count": 55,
     "metadata": {},
     "output_type": "execute_result"
    }
   ],
   "source": [
    "data['days_exposition'].describe()"
   ]
  },
  {
   "cell_type": "code",
   "execution_count": 56,
   "metadata": {
    "scrolled": true
   },
   "outputs": [
    {
     "data": {
      "text/plain": [
       "180.7413945278023"
      ]
     },
     "execution_count": 56,
     "metadata": {},
     "output_type": "execute_result"
    }
   ],
   "source": [
    "data['days_exposition'].mean() # среднее"
   ]
  },
  {
   "cell_type": "code",
   "execution_count": 57,
   "metadata": {},
   "outputs": [
    {
     "data": {
      "text/plain": [
       "95.0"
      ]
     },
     "execution_count": 57,
     "metadata": {},
     "output_type": "execute_result"
    }
   ],
   "source": [
    "data['days_exposition'].median() # медиана"
   ]
  },
  {
   "cell_type": "code",
   "execution_count": 81,
   "metadata": {
    "scrolled": false
   },
   "outputs": [
    {
     "data": {
      "image/png": "[encoded data removed]",
      "text/plain": [
       "<Figure size 576x288 with 1 Axes>"
      ]
     },
     "metadata": {
      "needs_background": "light"
     },
     "output_type": "display_data"
    }
   ],
   "source": [
    "data.plot(\n",
    "    y = 'days_exposition', kind = 'hist', bins = 100, grid=True, figsize = (8,4), range = (0,1580), title = 'Сколько дней было размещено объявление'\n",
    ")\n",
    "plt.xlabel('Дней')\n",
    "plt.ylabel('Частотность');"
   ]
  },
  {
   "cell_type": "markdown",
   "metadata": {},
   "source": [
    "Распределение похоже на распределение Пуассона. Выбросы редкие. Среднее значение - 180.74 дней, Медиана - 95 дней. Исходя из метода describe() можно сказать, что обычно продажа занимает 45-231 день. Долгие продажи - дольше 231 день. Быстрые - до 95 дней.\n",
    "Где-то после 500 дней (около 1.5 лет) продажи совсем редкие. Их можно считать необычно долгими."
   ]
  },
  {
   "cell_type": "code",
   "execution_count": 59,
   "metadata": {
    "scrolled": false
   },
   "outputs": [
    {
     "data": {
      "image/png": "[encoded data removed]",
      "text/plain": [
       "<Figure size 576x288 with 1 Axes>"
      ]
     },
     "metadata": {
      "needs_background": "light"
     },
     "output_type": "display_data"
    }
   ],
   "source": [
    "data.plot(\n",
    "    y = 'days_exposition', kind = 'hist', bins = 100, grid=True, figsize = (8,4), range = (0,100), title = 'Сколько дней было размещено объявление'\n",
    ")\n",
    "plt.xlabel('Дней')\n",
    "plt.ylabel('Частотность');"
   ]
  },
  {
   "cell_type": "markdown",
   "metadata": {},
   "source": [
    "Если рассмотреть гистограмму за первые 100 дней, увидим выбросы на 7, 30, 45, 60, 90. Похоже, что эти дни были связаны с тарифами. Например, сейчас платное размещение объявления на продажу квартиры расчитывается на 30 дней. Скорее всего через 30 дней продавец снимал объявление с продажи."
   ]
  },
  {
   "cell_type": "markdown",
   "metadata": {},
   "source": [
    "### Какие факторы больше всего влияют на общую (полную) стоимость объекта."
   ]
  },
  {
   "cell_type": "markdown",
   "metadata": {},
   "source": [
    "#### Зависимость цены от общей площади"
   ]
  },
  {
   "cell_type": "code",
   "execution_count": 60,
   "metadata": {
    "scrolled": false
   },
   "outputs": [
    {
     "name": "stdout",
     "output_type": "stream",
     "text": [
      "                 median\n",
      "             last_price\n",
      "total_area             \n",
      "12.0          2400000.0\n",
      "13.0          1850000.0\n",
      "13.2          1686000.0\n",
      "14.0          1190000.0\n",
      "15.0          1725000.0\n",
      "...                 ...\n",
      "590.0        65000000.0\n",
      "618.0       300000000.0\n",
      "631.0       140000000.0\n",
      "631.2       140000000.0\n",
      "900.0       420000000.0\n",
      "\n",
      "[2159 rows x 1 columns]\n",
      "Коэффициент корреляции: 0.6536213939252808\n"
     ]
    }
   ],
   "source": [
    " pivot_table_total_area = data.pivot_table(\n",
    "    index = 'total_area', values = 'last_price', aggfunc = ['median'])\n",
    "print(pivot_table_total_area)\n",
    "print('Коэффициент корреляции:', (data['total_area'].corr(data['last_price'])))"
   ]
  },
  {
   "cell_type": "code",
   "execution_count": 84,
   "metadata": {
    "scrolled": true
   },
   "outputs": [
    {
     "data": {
      "image/png": "[encoded data removed]",
      "text/plain": [
       "<Figure size 432x288 with 1 Axes>"
      ]
     },
     "metadata": {
      "needs_background": "light"
     },
     "output_type": "display_data"
    }
   ],
   "source": [
    "plt.scatter(data['total_area'], data['last_price'], alpha=0.3,\n",
    "           c = 'green')\n",
    "plt.title('Зависимость цены от общей площади')\n",
    "plt.xlabel('Площадь, м2')\n",
    "plt.ylabel('Цена, рублей');"
   ]
  },
  {
   "cell_type": "markdown",
   "metadata": {},
   "source": [
    "***Вывод***\n",
    "\n",
    "Большинство квартир с площадью до 300 м2."
   ]
  },
  {
   "cell_type": "markdown",
   "metadata": {},
   "source": [
    "Коэффициент корреляции 0,65 показывает, что есть зависимость между общей площадью и ценой на квартиру. **Чем больше площадь, тем выше цена.**"
   ]
  },
  {
   "cell_type": "markdown",
   "metadata": {},
   "source": [
    "#### Зависимость цены от жилой площади"
   ]
  },
  {
   "cell_type": "code",
   "execution_count": 86,
   "metadata": {
    "scrolled": false
   },
   "outputs": [
    {
     "name": "stdout",
     "output_type": "stream",
     "text": [
      "                  median\n",
      "              last_price\n",
      "living_area             \n",
      "2.000000       4340000.0\n",
      "3.000000      34715000.0\n",
      "5.000000       2680000.0\n",
      "5.400000       6100000.0\n",
      "6.000000       3799000.0\n",
      "...                  ...\n",
      "332.000000    50000000.0\n",
      "347.500000    91500000.0\n",
      "360.410721   140000000.0\n",
      "409.000000    65000000.0\n",
      "409.700000   420000000.0\n",
      "\n",
      "[2408 rows x 1 columns]\n",
      "Коэффициент корреляции: 0.5856800396382067\n"
     ]
    }
   ],
   "source": [
    " pivot_table_living_area = data.pivot_table(\n",
    "    index = 'living_area', values = 'last_price', aggfunc = ['median'])\n",
    "print(pivot_table_living_area)\n",
    "\n",
    "print('Коэффициент корреляции:', (data['living_area'].corr(data['last_price'])))"
   ]
  },
  {
   "cell_type": "code",
   "execution_count": 85,
   "metadata": {
    "scrolled": true
   },
   "outputs": [
    {
     "data": {
      "image/png": "[encoded data removed]",
      "text/plain": [
       "<Figure size 432x288 with 1 Axes>"
      ]
     },
     "metadata": {
      "needs_background": "light"
     },
     "output_type": "display_data"
    }
   ],
   "source": [
    "plt.scatter(data['living_area'], data['last_price'], alpha=0.3,\n",
    "           c = 'green')\n",
    "plt.title('Зависимость цены от жилой площади')\n",
    "plt.xlabel('Площадь, м2')\n",
    "plt.ylabel('Цена, рублей');"
   ]
  },
  {
   "cell_type": "markdown",
   "metadata": {},
   "source": [
    "Коэффициент корреляции 0,58 показывает, что есть зависимость между жилой площадью и ценой на квартиру, но не такая сильная как для общей площади квартиры. **Чем больше площадь, тем выше цена.**"
   ]
  },
  {
   "cell_type": "markdown",
   "metadata": {},
   "source": [
    "#### Зависимость цены от площади кухни"
   ]
  },
  {
   "cell_type": "code",
   "execution_count": 89,
   "metadata": {
    "scrolled": false
   },
   "outputs": [
    {
     "name": "stdout",
     "output_type": "stream",
     "text": [
      "                   median\n",
      "               last_price\n",
      "kitchen_area             \n",
      "1.300000        4250000.0\n",
      "2.000000        2720000.0\n",
      "2.100895        2400000.0\n",
      "2.275970        1850000.0\n",
      "2.300000        2940000.0\n",
      "...                   ...\n",
      "93.200000      82400000.0\n",
      "100.000000     65000000.0\n",
      "100.700000     12500000.0\n",
      "107.000000     85000000.0\n",
      "112.000000    420000000.0\n",
      "\n",
      "[1658 rows x 1 columns]\n",
      "Коэффициент корреляции: 0.5145308032223361\n"
     ]
    }
   ],
   "source": [
    " pivot_table_kitchen_area = data.pivot_table(\n",
    "    index = 'kitchen_area', values = 'last_price', aggfunc = ['median'])\n",
    "print(pivot_table_kitchen_area)\n",
    "\n",
    "print('Коэффициент корреляции:', (data['kitchen_area'].corr(data['last_price'])))"
   ]
  },
  {
   "cell_type": "code",
   "execution_count": 88,
   "metadata": {
    "scrolled": true
   },
   "outputs": [
    {
     "data": {
      "image/png": "[encoded data removed]",
      "text/plain": [
       "<Figure size 432x288 with 1 Axes>"
      ]
     },
     "metadata": {
      "needs_background": "light"
     },
     "output_type": "display_data"
    }
   ],
   "source": [
    "plt.scatter(data['kitchen_area'], data['last_price'], alpha=0.3,\n",
    "           c = 'green')\n",
    "plt.title('Зависимость цены от площади кухни')\n",
    "plt.xlabel('Площадь, м2')\n",
    "plt.ylabel('Цена, рублей');"
   ]
  },
  {
   "cell_type": "markdown",
   "metadata": {},
   "source": [
    "Коэффициент корреляции 0,51 показывает, что есть зависимость между жилой площадью и ценой на квартиру еще меньше предыдущих двух зависимостей. **Чем больше площадь кухни, тем выше цена.**"
   ]
  },
  {
   "cell_type": "markdown",
   "metadata": {},
   "source": [
    "#### Зависимость цены от количества комнат"
   ]
  },
  {
   "cell_type": "code",
   "execution_count": 64,
   "metadata": {
    "scrolled": false
   },
   "outputs": [
    {
     "name": "stdout",
     "output_type": "stream",
     "text": [
      "          median      count\n",
      "      last_price last_price\n",
      "rooms                      \n",
      "0        2700000        194\n",
      "1        3600000       8004\n",
      "2        4768714       7897\n",
      "3        6200000       5779\n",
      "4        9000000       1172\n",
      "5       14000000        325\n",
      "6       19000000        104\n",
      "7       24900000         59\n",
      "8       23095000         12\n",
      "9       23750000          8\n",
      "10      23000000          3\n",
      "11      25250000          2\n",
      "12     420000000          1\n",
      "14      26829500          2\n",
      "15      65000000          1\n",
      "16      28500000          1\n",
      "19      32250000          1\n",
      "Коэффициент корреляции: 0.3631905485065752\n"
     ]
    },
    {
     "data": {
      "image/png": "[encoded data removed]",
      "text/plain": [
       "<Figure size 576x288 with 1 Axes>"
      ]
     },
     "metadata": {
      "needs_background": "light"
     },
     "output_type": "display_data"
    }
   ],
   "source": [
    " pivot_table_rooms = data.pivot_table(\n",
    "    index = 'rooms', values = 'last_price', aggfunc = ['median', 'count'])\n",
    "print(pivot_table_rooms)\n",
    "\n",
    "pivot_table_rooms.plot(\n",
    "    y = 'median', grid=True, figsize = (8,4), title = 'Зависимость цены от количества комнат'\n",
    ")\n",
    "plt.xlabel('Количество комнат')\n",
    "plt.ylabel('Цена, рублей')\n",
    "\n",
    "print('Коэффициент корреляции:', (data['rooms'].corr(data['last_price'])))"
   ]
  },
  {
   "cell_type": "markdown",
   "metadata": {},
   "source": [
    "Коэффициент корреляции 0,36 показывает, что есть зависимость между жилой площадью и ценой на квартиру меньше зависимости от площади. **Чем больше площадь, тем выше цена.** В датасете есть одна 12-ти комнатная квартира с самой высокой ценой, в 10 раз больше, чем у 11-ти и 14-ти комнатных."
   ]
  },
  {
   "cell_type": "code",
   "execution_count": 65,
   "metadata": {
    "scrolled": false
   },
   "outputs": [
    {
     "data": {
      "text/html": [
       "<div>\n",
       "<style scoped>\n",
       "    .dataframe tbody tr th:only-of-type {\n",
       "        vertical-align: middle;\n",
       "    }\n",
       "\n",
       "    .dataframe tbody tr th {\n",
       "        vertical-align: top;\n",
       "    }\n",
       "\n",
       "    .dataframe thead th {\n",
       "        text-align: right;\n",
       "    }\n",
       "</style>\n",
       "<table border=\"1\" class=\"dataframe\">\n",
       "  <thead>\n",
       "    <tr style=\"text-align: right;\">\n",
       "      <th></th>\n",
       "      <th>total_images</th>\n",
       "      <th>last_price</th>\n",
       "      <th>total_area</th>\n",
       "      <th>first_day_exposition</th>\n",
       "      <th>rooms</th>\n",
       "      <th>ceiling_height</th>\n",
       "      <th>floors_total</th>\n",
       "      <th>living_area</th>\n",
       "      <th>floor</th>\n",
       "      <th>is_apartment</th>\n",
       "      <th>...</th>\n",
       "      <th>parks_nearest</th>\n",
       "      <th>ponds_around3000</th>\n",
       "      <th>ponds_nearest</th>\n",
       "      <th>days_exposition</th>\n",
       "      <th>square_meter_price</th>\n",
       "      <th>day_of_week</th>\n",
       "      <th>month</th>\n",
       "      <th>year</th>\n",
       "      <th>floor_type</th>\n",
       "      <th>center_km</th>\n",
       "    </tr>\n",
       "  </thead>\n",
       "  <tbody>\n",
       "    <tr>\n",
       "      <th>19540</th>\n",
       "      <td>8</td>\n",
       "      <td>420000000</td>\n",
       "      <td>900.0</td>\n",
       "      <td>2017-12-06</td>\n",
       "      <td>12</td>\n",
       "      <td>2.8</td>\n",
       "      <td>25</td>\n",
       "      <td>409.7</td>\n",
       "      <td>25</td>\n",
       "      <td>False</td>\n",
       "      <td>...</td>\n",
       "      <td>NaN</td>\n",
       "      <td>2</td>\n",
       "      <td>318.0</td>\n",
       "      <td>106.0</td>\n",
       "      <td>466666</td>\n",
       "      <td>2</td>\n",
       "      <td>12</td>\n",
       "      <td>2017</td>\n",
       "      <td>последний</td>\n",
       "      <td>7</td>\n",
       "    </tr>\n",
       "  </tbody>\n",
       "</table>\n",
       "<p>1 rows × 28 columns</p>\n",
       "</div>"
      ],
      "text/plain": [
       "       total_images  last_price  total_area first_day_exposition  rooms  \\\n",
       "19540             8   420000000       900.0           2017-12-06     12   \n",
       "\n",
       "       ceiling_height  floors_total  living_area  floor  is_apartment  ...  \\\n",
       "19540             2.8            25        409.7     25         False  ...   \n",
       "\n",
       "       parks_nearest  ponds_around3000  ponds_nearest  days_exposition  \\\n",
       "19540            NaN                 2          318.0            106.0   \n",
       "\n",
       "      square_meter_price  day_of_week  month  year  floor_type  center_km  \n",
       "19540             466666            2     12  2017   последний          7  \n",
       "\n",
       "[1 rows x 28 columns]"
      ]
     },
     "execution_count": 65,
     "metadata": {},
     "output_type": "execute_result"
    }
   ],
   "source": [
    "data.query('rooms == 12')"
   ]
  },
  {
   "cell_type": "markdown",
   "metadata": {},
   "source": [
    "Квартира с двенадцатью комнатами похоже относится к очень дорогим. У нее самая большая площадь, находится на 25 этаже, 7 км от центра. Ее можно не учитывать."
   ]
  },
  {
   "cell_type": "markdown",
   "metadata": {},
   "source": [
    "#### Зависимость цены от этажа"
   ]
  },
  {
   "cell_type": "code",
   "execution_count": 66,
   "metadata": {
    "scrolled": false
   },
   "outputs": [
    {
     "name": "stdout",
     "output_type": "stream",
     "text": [
      "               median\n",
      "           last_price\n",
      "floor_type           \n",
      "другой        4848500\n",
      "первый        3900000\n",
      "последний     4300000\n"
     ]
    }
   ],
   "source": [
    " pivot_table_floor_type = data.pivot_table(\n",
    "    index = 'floor_type', values = 'last_price', aggfunc = ['median'])\n",
    "print(pivot_table_floor_type)\n",
    "\n"
   ]
  },
  {
   "cell_type": "code",
   "execution_count": 90,
   "metadata": {},
   "outputs": [
    {
     "data": {
      "image/png": "[encoded data removed]",
      "text/plain": [
       "<Figure size 576x288 with 1 Axes>"
      ]
     },
     "metadata": {
      "needs_background": "light"
     },
     "output_type": "display_data"
    }
   ],
   "source": [
    "pivot_table_floor_type.plot(\n",
    "    y = 'median', grid=True, figsize = (8,4), title = 'Зависимость цены от площади кухни'\n",
    ")\n",
    "plt.xlabel('Тип этажа')\n",
    "plt.ylabel('Цена, рублей');"
   ]
  },
  {
   "cell_type": "markdown",
   "metadata": {},
   "source": [
    "На первом и последнем этаже квартиры дешевле."
   ]
  },
  {
   "cell_type": "markdown",
   "metadata": {},
   "source": [
    "#### Зависимость цены от дня недели в дате размещения"
   ]
  },
  {
   "cell_type": "code",
   "execution_count": 68,
   "metadata": {
    "scrolled": false
   },
   "outputs": [
    {
     "name": "stdout",
     "output_type": "stream",
     "text": [
      "               last_price\n",
      "day_of_week              \n",
      "0            6.518332e+06\n",
      "1            6.389281e+06\n",
      "2            6.630246e+06\n",
      "3            6.706766e+06\n",
      "4            6.359714e+06\n",
      "5            6.986165e+06\n",
      "6            6.242137e+06\n",
      "Коэффициент корреляции: 0.0013569211122710745\n"
     ]
    },
    {
     "data": {
      "image/png": "[encoded data removed]",
      "text/plain": [
       "<Figure size 576x288 with 1 Axes>"
      ]
     },
     "metadata": {
      "needs_background": "light"
     },
     "output_type": "display_data"
    }
   ],
   "source": [
    " pivot_table_day_of_week = data.pivot_table(\n",
    "    index = 'day_of_week', values = 'last_price')\n",
    "print(pivot_table_day_of_week)\n",
    "\n",
    "pivot_table_day_of_week.plot(\n",
    "    grid=True, figsize = (8,4), title = 'Зависимость цены от дня недели'\n",
    ")\n",
    "plt.xlabel('День недели')\n",
    "plt.ylabel('Цена, рублей')\n",
    "\n",
    "print('Коэффициент корреляции:', (data['day_of_week'].corr(data['last_price'])))"
   ]
  },
  {
   "cell_type": "markdown",
   "metadata": {},
   "source": [
    "Коэффициент корреляции 0,001 показывает, что зависимости между днем недели и ценой практически нет."
   ]
  },
  {
   "cell_type": "markdown",
   "metadata": {},
   "source": [
    "#### Зависимость цены от месяца в дате размещения"
   ]
  },
  {
   "cell_type": "code",
   "execution_count": 69,
   "metadata": {
    "scrolled": false
   },
   "outputs": [
    {
     "name": "stdout",
     "output_type": "stream",
     "text": [
      "         last_price\n",
      "month              \n",
      "1      6.664171e+06\n",
      "2      6.463941e+06\n",
      "3      6.359922e+06\n",
      "4      6.743395e+06\n",
      "5      6.591127e+06\n",
      "6      6.316913e+06\n",
      "7      6.639479e+06\n",
      "8      6.345784e+06\n",
      "9      6.838447e+06\n",
      "10     6.236776e+06\n",
      "11     6.449083e+06\n",
      "12     7.005343e+06\n",
      "Коэффициент корреляции: 0.0027259571647347564\n"
     ]
    },
    {
     "data": {
      "image/png": "[encoded data removed]",
      "text/plain": [
       "<Figure size 576x288 with 1 Axes>"
      ]
     },
     "metadata": {
      "needs_background": "light"
     },
     "output_type": "display_data"
    }
   ],
   "source": [
    " pivot_table_month = data.pivot_table(\n",
    "    index = 'month', values = 'last_price')\n",
    "print(pivot_table_month)\n",
    "\n",
    "pivot_table_month.plot(\n",
    "    grid=True, figsize = (8,4), title = 'Зависимость цены от месяца'\n",
    ")\n",
    "plt.xlabel('Месяц')\n",
    "plt.ylabel('Цена, рублей')\n",
    "\n",
    "print('Коэффициент корреляции:', (data['month'].corr(data['last_price'])))"
   ]
  },
  {
   "cell_type": "markdown",
   "metadata": {},
   "source": [
    "Коэффициент корреляции 0,002 показывает, что зависимости между месяцем и ценой практически нет."
   ]
  },
  {
   "cell_type": "markdown",
   "metadata": {},
   "source": [
    "#### Зависимость цены от года в дате размещения"
   ]
  },
  {
   "cell_type": "code",
   "execution_count": 70,
   "metadata": {
    "scrolled": false
   },
   "outputs": [
    {
     "name": "stdout",
     "output_type": "stream",
     "text": [
      "         median      count\n",
      "     last_price last_price\n",
      "year                      \n",
      "2014    7640000        136\n",
      "2015    5300500       1166\n",
      "2016    4530000       2745\n",
      "2017    4500000       8161\n",
      "2018    4550000       8486\n",
      "2019    5050000       2871\n",
      "Коэффициент корреляции: -0.04286415271361106\n"
     ]
    },
    {
     "data": {
      "image/png": "[encoded data removed]",
      "text/plain": [
       "<Figure size 576x288 with 1 Axes>"
      ]
     },
     "metadata": {
      "needs_background": "light"
     },
     "output_type": "display_data"
    }
   ],
   "source": [
    " pivot_table_year = data.pivot_table(\n",
    "    index = 'year', values = 'last_price', aggfunc = ['median', 'count'])\n",
    "print(pivot_table_year)\n",
    "\n",
    "pivot_table_year.plot(\n",
    "    y = 'median', grid=True, figsize = (8,4), title = 'Зависимость цены от года'\n",
    ")\n",
    "plt.xlabel('Год')\n",
    "plt.ylabel('Цена, рублей')\n",
    "\n",
    "print('Коэффициент корреляции:', (data['year'].corr(data['last_price'])))"
   ]
  },
  {
   "cell_type": "code",
   "execution_count": 95,
   "metadata": {
    "scrolled": false
   },
   "outputs": [
    {
     "name": "stdout",
     "output_type": "stream",
     "text": [
      "           mean      count\n",
      "     total_area total_area\n",
      "year                      \n",
      "2014  86.225956        136\n",
      "2015  71.584563       1166\n",
      "2016  62.129938       2745\n",
      "2017  60.697526       8161\n",
      "2018  57.701893       8486\n",
      "2019  59.475991       2871\n",
      "Коэффициент корреляции: -0.07904067205888969\n"
     ]
    },
    {
     "data": {
      "image/png": "[encoded data removed]",
      "text/plain": [
       "<Figure size 576x288 with 1 Axes>"
      ]
     },
     "metadata": {
      "needs_background": "light"
     },
     "output_type": "display_data"
    }
   ],
   "source": [
    "pivot_table_year_total_area = data.pivot_table(\n",
    "    index = 'year', values = 'total_area', aggfunc = ['mean', 'count'])\n",
    "print(pivot_table_year_total_area)\n",
    "\n",
    "pivot_table_year_total_area.plot(\n",
    "    y = 'mean', grid=True, figsize = (8,4), title = 'Зависимость площади продаваемых квартир от года'\n",
    ")\n",
    "plt.xlabel('Год')\n",
    "plt.ylabel('Площадь, м2')\n",
    "\n",
    "print('Коэффициент корреляции:', (data['year'].corr(data['total_area'])))"
   ]
  },
  {
   "cell_type": "markdown",
   "metadata": {},
   "source": [
    "***Вывод:***\n",
    "\n",
    "\n",
    "Коэффициент корреляции -0,04 показывает, что зависимость слабая. Отрицательная корреляция показывает: чем раньше год, тем выше цена. \n",
    "\n",
    "За 2014 год есть только 136 значений в датасете. Средняя площадь квартир по годам изменялась аналогично цене. Т.е. можно предположить, что на графиках отражается прямая зависимость цены от площади квартиры."
   ]
  },
  {
   "cell_type": "markdown",
   "metadata": {},
   "source": [
    "### Средняя цена одного квадратного метра в 10 населённых пунктах с наибольшим числом объявлений"
   ]
  },
  {
   "cell_type": "code",
   "execution_count": 71,
   "metadata": {},
   "outputs": [
    {
     "data": {
      "text/plain": [
       "locality_name\n",
       "Санкт-Петербург      15651\n",
       "Мурино                 586\n",
       "Кудрово                470\n",
       "поселок Шушары         439\n",
       "Всеволожск             398\n",
       "Пушкин                 369\n",
       "Колпино                338\n",
       "поселок Парголово      327\n",
       "Гатчина                307\n",
       "Выборг                 237\n",
       "Name: square_meter_price, dtype: int64"
      ]
     },
     "execution_count": 71,
     "metadata": {},
     "output_type": "execute_result"
    }
   ],
   "source": [
    "top10 = data.groupby('locality_name').count().sort_values(by='square_meter_price', ascending=False).head(10)\n",
    "top10['square_meter_price'] # количество объявлений в 10 населенных пунктах с наибольшим числом объявлений"
   ]
  },
  {
   "cell_type": "code",
   "execution_count": 72,
   "metadata": {
    "scrolled": true
   },
   "outputs": [
    {
     "data": {
      "text/html": [
       "<div>\n",
       "<style scoped>\n",
       "    .dataframe tbody tr th:only-of-type {\n",
       "        vertical-align: middle;\n",
       "    }\n",
       "\n",
       "    .dataframe tbody tr th {\n",
       "        vertical-align: top;\n",
       "    }\n",
       "\n",
       "    .dataframe thead th {\n",
       "        text-align: right;\n",
       "    }\n",
       "</style>\n",
       "<table border=\"1\" class=\"dataframe\">\n",
       "  <thead>\n",
       "    <tr style=\"text-align: right;\">\n",
       "      <th></th>\n",
       "      <th>square_meter_price</th>\n",
       "    </tr>\n",
       "    <tr>\n",
       "      <th>locality_name</th>\n",
       "      <th></th>\n",
       "    </tr>\n",
       "  </thead>\n",
       "  <tbody>\n",
       "    <tr>\n",
       "      <th>Санкт-Петербург</th>\n",
       "      <td>114868</td>\n",
       "    </tr>\n",
       "    <tr>\n",
       "      <th>Пушкин</th>\n",
       "      <td>103125</td>\n",
       "    </tr>\n",
       "    <tr>\n",
       "      <th>Кудрово</th>\n",
       "      <td>95260</td>\n",
       "    </tr>\n",
       "    <tr>\n",
       "      <th>поселок Парголово</th>\n",
       "      <td>90175</td>\n",
       "    </tr>\n",
       "    <tr>\n",
       "      <th>Мурино</th>\n",
       "      <td>86040</td>\n",
       "    </tr>\n",
       "    <tr>\n",
       "      <th>поселок Шушары</th>\n",
       "      <td>78550</td>\n",
       "    </tr>\n",
       "    <tr>\n",
       "      <th>Колпино</th>\n",
       "      <td>75424</td>\n",
       "    </tr>\n",
       "    <tr>\n",
       "      <th>Гатчина</th>\n",
       "      <td>68745</td>\n",
       "    </tr>\n",
       "    <tr>\n",
       "      <th>Всеволожск</th>\n",
       "      <td>68654</td>\n",
       "    </tr>\n",
       "    <tr>\n",
       "      <th>Выборг</th>\n",
       "      <td>58141</td>\n",
       "    </tr>\n",
       "  </tbody>\n",
       "</table>\n",
       "</div>"
      ],
      "text/plain": [
       "                   square_meter_price\n",
       "locality_name                        \n",
       "Санкт-Петербург                114868\n",
       "Пушкин                         103125\n",
       "Кудрово                         95260\n",
       "поселок Парголово               90175\n",
       "Мурино                          86040\n",
       "поселок Шушары                  78550\n",
       "Колпино                         75424\n",
       "Гатчина                         68745\n",
       "Всеволожск                      68654\n",
       "Выборг                          58141"
      ]
     },
     "execution_count": 72,
     "metadata": {},
     "output_type": "execute_result"
    }
   ],
   "source": [
    "top10_square_meter_price = data.query('locality_name in @top10.index').pivot_table(values='square_meter_price', index='locality_name')\n",
    "top10_square_meter_price = top10_square_meter_price.astype(int)\n",
    "top10_square_meter_price.sort_values('square_meter_price', ascending=False)"
   ]
  },
  {
   "cell_type": "markdown",
   "metadata": {},
   "source": [
    "Наибольшая цена квардатного метра в Санкт-Петербурге и Пушкине. Наименьшая - в Выборге."
   ]
  },
  {
   "cell_type": "code",
   "execution_count": 73,
   "metadata": {},
   "outputs": [
    {
     "data": {
      "text/html": [
       "<div>\n",
       "<style scoped>\n",
       "    .dataframe tbody tr th:only-of-type {\n",
       "        vertical-align: middle;\n",
       "    }\n",
       "\n",
       "    .dataframe tbody tr th {\n",
       "        vertical-align: top;\n",
       "    }\n",
       "\n",
       "    .dataframe thead th {\n",
       "        text-align: right;\n",
       "    }\n",
       "</style>\n",
       "<table border=\"1\" class=\"dataframe\">\n",
       "  <thead>\n",
       "    <tr style=\"text-align: right;\">\n",
       "      <th></th>\n",
       "      <th>balcony</th>\n",
       "      <th>last_price</th>\n",
       "    </tr>\n",
       "    <tr>\n",
       "      <th>locality_name</th>\n",
       "      <th></th>\n",
       "      <th></th>\n",
       "    </tr>\n",
       "  </thead>\n",
       "  <tbody>\n",
       "    <tr>\n",
       "      <th>Санкт-Петербург</th>\n",
       "      <td>15651</td>\n",
       "      <td>5500000.0</td>\n",
       "    </tr>\n",
       "    <tr>\n",
       "      <th>Мурино</th>\n",
       "      <td>586</td>\n",
       "      <td>3400000.0</td>\n",
       "    </tr>\n",
       "    <tr>\n",
       "      <th>Кудрово</th>\n",
       "      <td>470</td>\n",
       "      <td>3887500.0</td>\n",
       "    </tr>\n",
       "    <tr>\n",
       "      <th>поселок Шушары</th>\n",
       "      <td>439</td>\n",
       "      <td>3950000.0</td>\n",
       "    </tr>\n",
       "    <tr>\n",
       "      <th>Всеволожск</th>\n",
       "      <td>398</td>\n",
       "      <td>3450000.0</td>\n",
       "    </tr>\n",
       "    <tr>\n",
       "      <th>Пушкин</th>\n",
       "      <td>369</td>\n",
       "      <td>5180000.0</td>\n",
       "    </tr>\n",
       "    <tr>\n",
       "      <th>Колпино</th>\n",
       "      <td>338</td>\n",
       "      <td>3600000.0</td>\n",
       "    </tr>\n",
       "    <tr>\n",
       "      <th>поселок Парголово</th>\n",
       "      <td>327</td>\n",
       "      <td>4100000.0</td>\n",
       "    </tr>\n",
       "    <tr>\n",
       "      <th>Гатчина</th>\n",
       "      <td>307</td>\n",
       "      <td>3100000.0</td>\n",
       "    </tr>\n",
       "    <tr>\n",
       "      <th>Выборг</th>\n",
       "      <td>237</td>\n",
       "      <td>2897000.0</td>\n",
       "    </tr>\n",
       "  </tbody>\n",
       "</table>\n",
       "</div>"
      ],
      "text/plain": [
       "                   balcony  last_price\n",
       "locality_name                         \n",
       "Санкт-Петербург      15651   5500000.0\n",
       "Мурино                 586   3400000.0\n",
       "Кудрово                470   3887500.0\n",
       "поселок Шушары         439   3950000.0\n",
       "Всеволожск             398   3450000.0\n",
       "Пушкин                 369   5180000.0\n",
       "Колпино                338   3600000.0\n",
       "поселок Парголово      327   4100000.0\n",
       "Гатчина                307   3100000.0\n",
       "Выборг                 237   2897000.0"
      ]
     },
     "execution_count": 73,
     "metadata": {},
     "output_type": "execute_result"
    }
   ],
   "source": [
    "data.groupby('locality_name').agg({'balcony':'count', 'last_price':'median'}) \\\n",
    "    .sort_values(by = 'balcony', ascending = False) \\\n",
    "    .head(10)"
   ]
  },
  {
   "cell_type": "markdown",
   "metadata": {},
   "source": [
    "### Средняя цена километра (center_km)"
   ]
  },
  {
   "cell_type": "code",
   "execution_count": 74,
   "metadata": {},
   "outputs": [
    {
     "data": {
      "image/png": "[encoded data removed]",
      "text/plain": [
       "<Figure size 576x288 with 1 Axes>"
      ]
     },
     "metadata": {
      "needs_background": "light"
     },
     "output_type": "display_data"
    }
   ],
   "source": [
    "# Выбираем Санкт-Петербург, смотрим на график, где указана средняя стоимость для каждого км\n",
    "pivot_table_center_km = data.query('locality_name == \"Санкт-Петербург\"').pivot_table(index='center_km', values='last_price')\n",
    "pivot_table_center_km.plot(grid=True, style='s-', color = 'g', xlim=(0,20), figsize=(8, 4))\n",
    "plt.xlabel('км')\n",
    "plt.ylabel('Цена, рублей')\n",
    "plt.title('Зависимость цены от расстояния до центра');"
   ]
  },
  {
   "cell_type": "markdown",
   "metadata": {},
   "source": [
    "Наибольшая цена за квадратный метр в центре Санкт-Петербурга до 7 км. Потом наблюдается резкий спад."
   ]
  },
  {
   "cell_type": "markdown",
   "metadata": {},
   "source": [
    "## Общий вывод"
   ]
  },
  {
   "cell_type": "markdown",
   "metadata": {},
   "source": [
    "При работе с данными были выявлены пропущенные значения. Пропущенные данные, составляющие незначительную часть датасета были удалены. Высота потолков проанализирована, выбивающиеся и пропущенные данные заменены на медианные значения. С помощью графиков проведен анализ зависимостей.\n",
    "\n",
    "Прослеживается прямая зависимость между ценой и общей площадью, жилой площадью, площадью кухни. Цена квартир зависит от количества комнат меньше, чем от площади квартиры.\n",
    "Квартиры, которые находятся не на первом и не на последнем этажах, дороже.\n",
    "\n",
    "День и месяц на стоимость влияют незначительно.\n",
    "\n",
    "В 2014 году квартиры подорожали, потом был спад цен до 2018 года.\n",
    "\n",
    "Самые дорогие квартиры продавались в центре Санкт-Петербурга (до 7 км от центра города).\n"
   ]
  }
 ],
 "metadata": {
  "ExecuteTimeLog": [
   {
    "duration": 735,
    "start_time": "2023-02-24T07:03:50.277Z"
   },
   {
    "duration": 126,
    "start_time": "2023-02-24T07:03:58.915Z"
   },
   {
    "duration": 2427,
    "start_time": "2023-02-24T07:12:45.614Z"
   },
   {
    "duration": 1998,
    "start_time": "2023-02-24T07:16:51.111Z"
   },
   {
    "duration": 473,
    "start_time": "2023-02-24T11:05:06.263Z"
   },
   {
    "duration": 2364,
    "start_time": "2023-02-24T11:05:50.370Z"
   },
   {
    "duration": 15,
    "start_time": "2023-02-24T11:06:39.132Z"
   },
   {
    "duration": 9,
    "start_time": "2023-02-24T12:48:57.778Z"
   },
   {
    "duration": 9,
    "start_time": "2023-02-24T13:13:17.607Z"
   },
   {
    "duration": 9,
    "start_time": "2023-02-24T13:27:07.937Z"
   },
   {
    "duration": 77,
    "start_time": "2023-02-24T13:28:32.506Z"
   },
   {
    "duration": 714,
    "start_time": "2023-02-25T03:11:48.156Z"
   },
   {
    "duration": 15,
    "start_time": "2023-02-25T03:11:48.872Z"
   },
   {
    "duration": 2560,
    "start_time": "2023-02-25T03:11:48.889Z"
   },
   {
    "duration": 11,
    "start_time": "2023-02-25T03:11:51.451Z"
   },
   {
    "duration": 13,
    "start_time": "2023-02-25T03:11:51.464Z"
   },
   {
    "duration": 85,
    "start_time": "2023-02-25T03:11:51.478Z"
   },
   {
    "duration": 12,
    "start_time": "2023-02-25T03:11:56.879Z"
   },
   {
    "duration": 58,
    "start_time": "2023-02-25T03:12:12.379Z"
   },
   {
    "duration": 40,
    "start_time": "2023-02-25T03:17:10.407Z"
   },
   {
    "duration": 101,
    "start_time": "2023-02-25T04:51:20.068Z"
   },
   {
    "duration": 709,
    "start_time": "2023-02-25T04:51:31.787Z"
   },
   {
    "duration": 21,
    "start_time": "2023-02-25T04:51:32.497Z"
   },
   {
    "duration": 2580,
    "start_time": "2023-02-25T04:51:32.520Z"
   },
   {
    "duration": 35,
    "start_time": "2023-02-25T04:51:35.102Z"
   },
   {
    "duration": 40,
    "start_time": "2023-02-25T04:51:35.142Z"
   },
   {
    "duration": 7,
    "start_time": "2023-02-25T04:51:35.184Z"
   },
   {
    "duration": 80,
    "start_time": "2023-02-25T04:51:35.193Z"
   },
   {
    "duration": 135,
    "start_time": "2023-02-25T04:57:42.451Z"
   },
   {
    "duration": 130,
    "start_time": "2023-02-25T04:58:39.177Z"
   },
   {
    "duration": 19,
    "start_time": "2023-02-25T04:59:22.800Z"
   },
   {
    "duration": 14,
    "start_time": "2023-02-25T05:02:51.281Z"
   },
   {
    "duration": 47,
    "start_time": "2023-02-25T05:03:36.348Z"
   },
   {
    "duration": 134,
    "start_time": "2023-02-25T05:07:09.755Z"
   },
   {
    "duration": 67,
    "start_time": "2023-02-25T05:07:21.336Z"
   },
   {
    "duration": 79,
    "start_time": "2023-02-25T05:08:02.964Z"
   },
   {
    "duration": 10,
    "start_time": "2023-02-25T05:49:00.395Z"
   },
   {
    "duration": 25,
    "start_time": "2023-02-25T05:53:24.471Z"
   },
   {
    "duration": 27,
    "start_time": "2023-02-25T05:53:50.324Z"
   },
   {
    "duration": 15,
    "start_time": "2023-02-25T05:54:42.328Z"
   },
   {
    "duration": 15,
    "start_time": "2023-02-25T05:55:00.848Z"
   },
   {
    "duration": 14,
    "start_time": "2023-02-25T05:55:05.986Z"
   },
   {
    "duration": 5,
    "start_time": "2023-02-25T06:00:15.232Z"
   },
   {
    "duration": 5,
    "start_time": "2023-02-25T06:00:39.687Z"
   },
   {
    "duration": 17,
    "start_time": "2023-02-25T06:00:46.866Z"
   },
   {
    "duration": 5,
    "start_time": "2023-02-25T06:01:58.787Z"
   },
   {
    "duration": 30,
    "start_time": "2023-02-25T06:02:17.193Z"
   },
   {
    "duration": 55,
    "start_time": "2023-02-26T01:42:26.711Z"
   },
   {
    "duration": 51,
    "start_time": "2023-02-26T02:10:13.073Z"
   },
   {
    "duration": 823,
    "start_time": "2023-02-26T02:10:34.025Z"
   },
   {
    "duration": 14,
    "start_time": "2023-02-26T02:10:45.666Z"
   },
   {
    "duration": 9,
    "start_time": "2023-02-26T02:10:54.492Z"
   },
   {
    "duration": 14,
    "start_time": "2023-02-26T02:11:12.028Z"
   },
   {
    "duration": 3,
    "start_time": "2023-02-26T02:11:13.731Z"
   },
   {
    "duration": 14,
    "start_time": "2023-02-26T02:11:15.704Z"
   },
   {
    "duration": 9,
    "start_time": "2023-02-26T02:11:21.763Z"
   },
   {
    "duration": 14,
    "start_time": "2023-02-26T02:13:51.486Z"
   },
   {
    "duration": 8,
    "start_time": "2023-02-26T02:16:53.136Z"
   },
   {
    "duration": 9,
    "start_time": "2023-02-26T02:17:26.254Z"
   },
   {
    "duration": 10,
    "start_time": "2023-02-26T02:22:53.844Z"
   },
   {
    "duration": 9,
    "start_time": "2023-02-26T02:22:56.947Z"
   },
   {
    "duration": 6,
    "start_time": "2023-02-26T02:37:29.076Z"
   },
   {
    "duration": 27,
    "start_time": "2023-02-26T02:37:45.457Z"
   },
   {
    "duration": 29,
    "start_time": "2023-02-26T02:37:51.356Z"
   },
   {
    "duration": 28,
    "start_time": "2023-02-26T02:37:56.388Z"
   },
   {
    "duration": 8,
    "start_time": "2023-02-26T02:41:49.457Z"
   },
   {
    "duration": 35,
    "start_time": "2023-02-26T02:42:07.410Z"
   },
   {
    "duration": 72,
    "start_time": "2023-02-26T02:43:42.492Z"
   },
   {
    "duration": 52,
    "start_time": "2023-02-26T05:40:59.428Z"
   },
   {
    "duration": 8,
    "start_time": "2023-02-26T05:41:20.408Z"
   },
   {
    "duration": 8,
    "start_time": "2023-02-26T05:41:33.734Z"
   },
   {
    "duration": 590,
    "start_time": "2023-02-26T05:41:41.011Z"
   },
   {
    "duration": 20,
    "start_time": "2023-02-26T05:41:56.150Z"
   },
   {
    "duration": 9,
    "start_time": "2023-02-26T05:42:33.640Z"
   },
   {
    "duration": 70,
    "start_time": "2023-02-26T05:47:37.513Z"
   },
   {
    "duration": 43,
    "start_time": "2023-02-26T05:48:26.602Z"
   },
   {
    "duration": 59,
    "start_time": "2023-02-26T05:52:15.557Z"
   },
   {
    "duration": 8,
    "start_time": "2023-02-26T05:53:03.943Z"
   },
   {
    "duration": 14,
    "start_time": "2023-02-26T05:53:17.783Z"
   },
   {
    "duration": 10,
    "start_time": "2023-02-26T05:53:35.158Z"
   },
   {
    "duration": 7,
    "start_time": "2023-02-26T06:05:18.476Z"
   },
   {
    "duration": 777,
    "start_time": "2023-02-26T15:06:00.135Z"
   },
   {
    "duration": 15,
    "start_time": "2023-02-26T15:06:23.532Z"
   },
   {
    "duration": 7,
    "start_time": "2023-02-26T15:06:59.461Z"
   },
   {
    "duration": 9,
    "start_time": "2023-02-26T15:07:08.493Z"
   },
   {
    "duration": 9,
    "start_time": "2023-02-26T15:07:46.222Z"
   },
   {
    "duration": 7,
    "start_time": "2023-02-26T15:08:09.728Z"
   },
   {
    "duration": 71,
    "start_time": "2023-02-26T15:10:45.900Z"
   },
   {
    "duration": 8,
    "start_time": "2023-02-26T15:11:02.622Z"
   },
   {
    "duration": 8,
    "start_time": "2023-02-26T15:11:48.791Z"
   },
   {
    "duration": 9,
    "start_time": "2023-02-26T15:18:26.494Z"
   },
   {
    "duration": 9,
    "start_time": "2023-02-26T15:20:59.531Z"
   },
   {
    "duration": 9,
    "start_time": "2023-02-26T15:21:18.399Z"
   },
   {
    "duration": 12,
    "start_time": "2023-02-26T15:22:10.391Z"
   },
   {
    "duration": 4,
    "start_time": "2023-02-26T15:22:12.312Z"
   },
   {
    "duration": 17,
    "start_time": "2023-02-26T16:37:58.188Z"
   },
   {
    "duration": 42,
    "start_time": "2023-02-26T16:37:58.365Z"
   },
   {
    "duration": 12,
    "start_time": "2023-02-26T16:38:38.951Z"
   },
   {
    "duration": 6,
    "start_time": "2023-02-26T16:50:27.790Z"
   },
   {
    "duration": 11,
    "start_time": "2023-02-26T16:50:48.188Z"
   },
   {
    "duration": 8,
    "start_time": "2023-02-26T16:51:31.462Z"
   },
   {
    "duration": 6,
    "start_time": "2023-02-26T16:52:50.088Z"
   },
   {
    "duration": 7,
    "start_time": "2023-02-26T16:52:54.192Z"
   },
   {
    "duration": 10,
    "start_time": "2023-02-26T16:53:18.151Z"
   },
   {
    "duration": 9,
    "start_time": "2023-02-26T16:54:03.889Z"
   },
   {
    "duration": 11,
    "start_time": "2023-02-26T17:29:26.793Z"
   },
   {
    "duration": 96,
    "start_time": "2023-02-26T17:52:46.563Z"
   },
   {
    "duration": 3,
    "start_time": "2023-02-26T17:52:53.469Z"
   },
   {
    "duration": 8,
    "start_time": "2023-02-26T17:54:01.446Z"
   },
   {
    "duration": 13,
    "start_time": "2023-02-26T17:54:16.814Z"
   },
   {
    "duration": 12,
    "start_time": "2023-02-26T17:54:31.239Z"
   },
   {
    "duration": 6,
    "start_time": "2023-02-26T17:54:50.035Z"
   },
   {
    "duration": 5,
    "start_time": "2023-02-26T17:55:14.356Z"
   },
   {
    "duration": 48,
    "start_time": "2023-02-26T17:55:32.342Z"
   },
   {
    "duration": 550,
    "start_time": "2023-02-27T02:37:06.282Z"
   },
   {
    "duration": 19,
    "start_time": "2023-02-27T02:37:09.578Z"
   },
   {
    "duration": 2422,
    "start_time": "2023-02-27T02:37:15.289Z"
   },
   {
    "duration": 11,
    "start_time": "2023-02-27T02:37:21.801Z"
   },
   {
    "duration": 13,
    "start_time": "2023-02-27T02:37:27.834Z"
   },
   {
    "duration": 5,
    "start_time": "2023-02-27T02:37:30.328Z"
   },
   {
    "duration": 8,
    "start_time": "2023-02-27T02:37:44.457Z"
   },
   {
    "duration": 50,
    "start_time": "2023-02-27T02:39:09.987Z"
   },
   {
    "duration": 8,
    "start_time": "2023-02-27T02:39:40.683Z"
   },
   {
    "duration": 29,
    "start_time": "2023-02-27T02:40:08.557Z"
   },
   {
    "duration": 47,
    "start_time": "2023-02-27T02:40:20.636Z"
   },
   {
    "duration": 7,
    "start_time": "2023-02-27T02:40:40.924Z"
   },
   {
    "duration": 51,
    "start_time": "2023-02-27T08:12:19.126Z"
   },
   {
    "duration": 617,
    "start_time": "2023-02-27T10:26:40.081Z"
   },
   {
    "duration": 17,
    "start_time": "2023-02-27T10:26:49.060Z"
   },
   {
    "duration": 2501,
    "start_time": "2023-02-27T10:26:53.368Z"
   },
   {
    "duration": 10,
    "start_time": "2023-02-27T10:27:00.506Z"
   },
   {
    "duration": 12,
    "start_time": "2023-02-27T10:27:17.369Z"
   },
   {
    "duration": 5,
    "start_time": "2023-02-27T10:27:20.856Z"
   },
   {
    "duration": 10,
    "start_time": "2023-02-27T10:27:44.081Z"
   },
   {
    "duration": 5,
    "start_time": "2023-02-27T10:28:54.657Z"
   },
   {
    "duration": 6,
    "start_time": "2023-02-27T10:29:01.649Z"
   },
   {
    "duration": 6,
    "start_time": "2023-02-27T10:29:13.157Z"
   },
   {
    "duration": 3,
    "start_time": "2023-02-27T10:30:41.153Z"
   },
   {
    "duration": 3,
    "start_time": "2023-02-27T10:30:48.500Z"
   },
   {
    "duration": 5,
    "start_time": "2023-02-27T10:31:04.128Z"
   },
   {
    "duration": 3,
    "start_time": "2023-02-27T10:31:09.291Z"
   },
   {
    "duration": 6,
    "start_time": "2023-02-27T10:31:26.358Z"
   },
   {
    "duration": 7,
    "start_time": "2023-02-27T11:06:51.054Z"
   },
   {
    "duration": 44,
    "start_time": "2023-02-27T11:07:10.153Z"
   },
   {
    "duration": 12,
    "start_time": "2023-02-27T11:07:38.730Z"
   },
   {
    "duration": 11,
    "start_time": "2023-02-27T11:07:41.331Z"
   },
   {
    "duration": 7,
    "start_time": "2023-02-27T11:07:44.040Z"
   },
   {
    "duration": 32,
    "start_time": "2023-02-27T11:08:01.259Z"
   },
   {
    "duration": 9,
    "start_time": "2023-02-27T11:08:05.488Z"
   },
   {
    "duration": 28,
    "start_time": "2023-02-27T11:08:08.536Z"
   },
   {
    "duration": 23,
    "start_time": "2023-02-27T11:08:16.003Z"
   },
   {
    "duration": 10,
    "start_time": "2023-02-27T11:09:21.964Z"
   },
   {
    "duration": 6,
    "start_time": "2023-02-27T11:21:14.592Z"
   },
   {
    "duration": 6,
    "start_time": "2023-02-27T11:21:35.555Z"
   },
   {
    "duration": 69,
    "start_time": "2023-02-27T11:21:56.642Z"
   },
   {
    "duration": 10,
    "start_time": "2023-02-27T11:22:02.733Z"
   },
   {
    "duration": 40,
    "start_time": "2023-02-27T11:22:23.973Z"
   },
   {
    "duration": 807,
    "start_time": "2023-02-28T02:12:52.012Z"
   },
   {
    "duration": 16,
    "start_time": "2023-02-28T02:12:55.936Z"
   },
   {
    "duration": 2439,
    "start_time": "2023-02-28T02:12:58.441Z"
   },
   {
    "duration": 10,
    "start_time": "2023-02-28T02:13:04.331Z"
   },
   {
    "duration": 14,
    "start_time": "2023-02-28T02:13:12.409Z"
   },
   {
    "duration": 4,
    "start_time": "2023-02-28T02:13:13.657Z"
   },
   {
    "duration": 11,
    "start_time": "2023-02-28T02:13:16.416Z"
   },
   {
    "duration": 6,
    "start_time": "2023-02-28T02:13:18.072Z"
   },
   {
    "duration": 7,
    "start_time": "2023-02-28T02:13:39.367Z"
   },
   {
    "duration": 130,
    "start_time": "2023-02-28T02:15:45.836Z"
   },
   {
    "duration": 15,
    "start_time": "2023-02-28T02:15:50.004Z"
   },
   {
    "duration": 1989,
    "start_time": "2023-02-28T02:15:52.455Z"
   },
   {
    "duration": 11,
    "start_time": "2023-02-28T02:15:58.330Z"
   },
   {
    "duration": 12,
    "start_time": "2023-02-28T02:16:01.442Z"
   },
   {
    "duration": 6,
    "start_time": "2023-02-28T02:16:03.386Z"
   },
   {
    "duration": 9,
    "start_time": "2023-02-28T02:16:05.939Z"
   },
   {
    "duration": 6,
    "start_time": "2023-02-28T02:16:21.923Z"
   },
   {
    "duration": 5,
    "start_time": "2023-02-28T02:16:26.451Z"
   },
   {
    "duration": 7,
    "start_time": "2023-02-28T02:16:28.534Z"
   },
   {
    "duration": 44,
    "start_time": "2023-02-28T02:20:05.981Z"
   },
   {
    "duration": 13,
    "start_time": "2023-02-28T02:20:17.325Z"
   },
   {
    "duration": 12,
    "start_time": "2023-02-28T02:20:21.495Z"
   },
   {
    "duration": 7,
    "start_time": "2023-02-28T02:20:24.006Z"
   },
   {
    "duration": 10,
    "start_time": "2023-02-28T02:20:28.245Z"
   },
   {
    "duration": 40,
    "start_time": "2023-02-28T02:20:34.279Z"
   },
   {
    "duration": 8,
    "start_time": "2023-02-28T02:20:37.966Z"
   },
   {
    "duration": 22,
    "start_time": "2023-02-28T02:21:28.910Z"
   },
   {
    "duration": 25,
    "start_time": "2023-02-28T02:21:33.733Z"
   },
   {
    "duration": 12,
    "start_time": "2023-02-28T02:21:36.061Z"
   },
   {
    "duration": 48,
    "start_time": "2023-02-28T02:21:43.313Z"
   },
   {
    "duration": 69,
    "start_time": "2023-02-28T02:22:40.776Z"
   },
   {
    "duration": 9,
    "start_time": "2023-02-28T02:22:45.136Z"
   },
   {
    "duration": 29,
    "start_time": "2023-02-28T02:22:58.832Z"
   },
   {
    "duration": 83,
    "start_time": "2023-02-28T02:39:13.201Z"
   },
   {
    "duration": 109,
    "start_time": "2023-02-28T02:42:08.637Z"
   },
   {
    "duration": 112,
    "start_time": "2023-02-28T02:42:18.238Z"
   },
   {
    "duration": 10,
    "start_time": "2023-02-28T02:51:03.571Z"
   },
   {
    "duration": 616,
    "start_time": "2023-02-28T06:26:07.209Z"
   },
   {
    "duration": 26,
    "start_time": "2023-02-28T06:26:10.377Z"
   },
   {
    "duration": 9,
    "start_time": "2023-02-28T06:26:15.031Z"
   },
   {
    "duration": 10,
    "start_time": "2023-02-28T06:26:20.743Z"
   },
   {
    "duration": 4,
    "start_time": "2023-02-28T06:26:22.615Z"
   },
   {
    "duration": 9,
    "start_time": "2023-02-28T06:26:25.119Z"
   },
   {
    "duration": 5,
    "start_time": "2023-02-28T06:26:27.115Z"
   },
   {
    "duration": 5,
    "start_time": "2023-02-28T06:26:28.527Z"
   },
   {
    "duration": 18,
    "start_time": "2023-02-28T06:26:31.085Z"
   },
   {
    "duration": 44,
    "start_time": "2023-02-28T06:26:34.440Z"
   },
   {
    "duration": 18,
    "start_time": "2023-02-28T06:26:47.180Z"
   },
   {
    "duration": 23,
    "start_time": "2023-02-28T06:27:05.831Z"
   },
   {
    "duration": 11,
    "start_time": "2023-02-28T06:27:07.529Z"
   },
   {
    "duration": 105,
    "start_time": "2023-02-28T06:27:14.336Z"
   },
   {
    "duration": 8,
    "start_time": "2023-02-28T06:27:27.224Z"
   },
   {
    "duration": 13,
    "start_time": "2023-02-28T06:38:58.319Z"
   },
   {
    "duration": 13,
    "start_time": "2023-02-28T06:39:37.566Z"
   },
   {
    "duration": 9,
    "start_time": "2023-02-28T06:39:38.780Z"
   },
   {
    "duration": 96,
    "start_time": "2023-02-28T06:44:19.187Z"
   },
   {
    "duration": 84,
    "start_time": "2023-02-28T06:45:02.264Z"
   },
   {
    "duration": 14,
    "start_time": "2023-02-28T06:45:39.356Z"
   },
   {
    "duration": 264,
    "start_time": "2023-02-28T06:58:50.207Z"
   },
   {
    "duration": 14,
    "start_time": "2023-02-28T06:58:59.754Z"
   },
   {
    "duration": 602,
    "start_time": "2023-02-28T07:07:56.414Z"
   },
   {
    "duration": 20,
    "start_time": "2023-02-28T07:07:58.788Z"
   },
   {
    "duration": 2221,
    "start_time": "2023-02-28T07:08:03.039Z"
   },
   {
    "duration": 9,
    "start_time": "2023-02-28T07:08:07.773Z"
   },
   {
    "duration": 79,
    "start_time": "2023-02-28T07:08:08.604Z"
   },
   {
    "duration": 9,
    "start_time": "2023-02-28T07:08:10.365Z"
   },
   {
    "duration": 43,
    "start_time": "2023-02-28T07:08:11.270Z"
   },
   {
    "duration": 48,
    "start_time": "2023-02-28T07:08:13.017Z"
   },
   {
    "duration": 15,
    "start_time": "2023-02-28T07:08:15.192Z"
   },
   {
    "duration": 20,
    "start_time": "2023-02-28T07:08:17.585Z"
   },
   {
    "duration": 10,
    "start_time": "2023-02-28T07:08:19.703Z"
   },
   {
    "duration": 13,
    "start_time": "2023-02-28T07:08:20.871Z"
   },
   {
    "duration": 39,
    "start_time": "2023-02-28T07:08:25.144Z"
   },
   {
    "duration": 9,
    "start_time": "2023-02-28T07:08:26.047Z"
   },
   {
    "duration": 42,
    "start_time": "2023-02-28T07:08:26.976Z"
   },
   {
    "duration": 28,
    "start_time": "2023-02-28T07:08:28.601Z"
   },
   {
    "duration": 11,
    "start_time": "2023-02-28T07:08:29.429Z"
   },
   {
    "duration": 104,
    "start_time": "2023-02-28T07:08:31.438Z"
   },
   {
    "duration": 11,
    "start_time": "2023-02-28T07:08:34.531Z"
   },
   {
    "duration": 5,
    "start_time": "2023-02-28T07:08:35.403Z"
   },
   {
    "duration": 11,
    "start_time": "2023-02-28T07:08:37.165Z"
   },
   {
    "duration": 6,
    "start_time": "2023-02-28T07:08:38.551Z"
   },
   {
    "duration": 6,
    "start_time": "2023-02-28T07:08:39.901Z"
   },
   {
    "duration": 7,
    "start_time": "2023-02-28T07:08:41.608Z"
   },
   {
    "duration": 407,
    "start_time": "2023-02-28T07:08:44.246Z"
   },
   {
    "duration": 509,
    "start_time": "2023-02-28T07:09:01.870Z"
   },
   {
    "duration": 28,
    "start_time": "2023-02-28T07:09:26.774Z"
   },
   {
    "duration": 331,
    "start_time": "2023-02-28T07:37:43.027Z"
   },
   {
    "duration": 33,
    "start_time": "2023-02-28T07:38:07.163Z"
   },
   {
    "duration": 10,
    "start_time": "2023-02-28T07:43:37.112Z"
   },
   {
    "duration": 237,
    "start_time": "2023-02-28T08:00:56.194Z"
   },
   {
    "duration": 233,
    "start_time": "2023-02-28T08:02:48.662Z"
   },
   {
    "duration": 404,
    "start_time": "2023-02-28T08:02:56.607Z"
   },
   {
    "duration": 276,
    "start_time": "2023-02-28T08:03:09.567Z"
   },
   {
    "duration": 244,
    "start_time": "2023-02-28T08:03:23.582Z"
   },
   {
    "duration": 314,
    "start_time": "2023-02-28T08:03:30.040Z"
   },
   {
    "duration": 242,
    "start_time": "2023-02-28T08:04:01.784Z"
   },
   {
    "duration": 316,
    "start_time": "2023-02-28T08:05:59.185Z"
   },
   {
    "duration": 327,
    "start_time": "2023-02-28T08:06:06.791Z"
   },
   {
    "duration": 264,
    "start_time": "2023-02-28T08:06:16.779Z"
   },
   {
    "duration": 297,
    "start_time": "2023-02-28T08:16:11.718Z"
   },
   {
    "duration": 282,
    "start_time": "2023-02-28T08:16:22.100Z"
   },
   {
    "duration": 241,
    "start_time": "2023-02-28T08:16:37.925Z"
   },
   {
    "duration": 242,
    "start_time": "2023-02-28T08:16:51.713Z"
   },
   {
    "duration": 10,
    "start_time": "2023-02-28T08:17:04.509Z"
   },
   {
    "duration": 408,
    "start_time": "2023-02-28T08:17:04.640Z"
   },
   {
    "duration": 333,
    "start_time": "2023-02-28T08:43:30.872Z"
   },
   {
    "duration": 347,
    "start_time": "2023-02-28T08:44:23.928Z"
   },
   {
    "duration": 316,
    "start_time": "2023-02-28T08:44:49.457Z"
   },
   {
    "duration": 327,
    "start_time": "2023-02-28T08:49:12.500Z"
   },
   {
    "duration": 282,
    "start_time": "2023-02-28T08:50:46.069Z"
   },
   {
    "duration": 446,
    "start_time": "2023-02-28T08:50:56.357Z"
   },
   {
    "duration": 317,
    "start_time": "2023-02-28T08:51:03.664Z"
   },
   {
    "duration": 283,
    "start_time": "2023-02-28T08:51:12.860Z"
   },
   {
    "duration": 286,
    "start_time": "2023-02-28T08:54:14.679Z"
   },
   {
    "duration": 300,
    "start_time": "2023-02-28T08:54:25.199Z"
   },
   {
    "duration": 304,
    "start_time": "2023-02-28T08:56:39.672Z"
   },
   {
    "duration": 8,
    "start_time": "2023-02-28T08:57:42.698Z"
   },
   {
    "duration": 317,
    "start_time": "2023-02-28T08:57:50.466Z"
   },
   {
    "duration": 309,
    "start_time": "2023-02-28T08:58:07.986Z"
   },
   {
    "duration": 549,
    "start_time": "2023-02-28T09:04:51.344Z"
   },
   {
    "duration": 311,
    "start_time": "2023-02-28T09:05:33.282Z"
   },
   {
    "duration": 322,
    "start_time": "2023-02-28T09:06:17.649Z"
   },
   {
    "duration": 331,
    "start_time": "2023-02-28T09:06:28.648Z"
   },
   {
    "duration": 308,
    "start_time": "2023-02-28T09:07:05.617Z"
   },
   {
    "duration": 313,
    "start_time": "2023-02-28T09:09:41.715Z"
   },
   {
    "duration": 147,
    "start_time": "2023-02-28T10:17:09.661Z"
   },
   {
    "duration": 13,
    "start_time": "2023-02-28T10:17:11.365Z"
   },
   {
    "duration": 2113,
    "start_time": "2023-02-28T10:17:12.483Z"
   },
   {
    "duration": 8,
    "start_time": "2023-02-28T10:17:14.598Z"
   },
   {
    "duration": 74,
    "start_time": "2023-02-28T10:17:14.763Z"
   },
   {
    "duration": 10,
    "start_time": "2023-02-28T10:17:15.562Z"
   },
   {
    "duration": 54,
    "start_time": "2023-02-28T10:17:16.028Z"
   },
   {
    "duration": 44,
    "start_time": "2023-02-28T10:17:16.868Z"
   },
   {
    "duration": 13,
    "start_time": "2023-02-28T10:17:17.770Z"
   },
   {
    "duration": 12,
    "start_time": "2023-02-28T10:17:18.626Z"
   },
   {
    "duration": 6,
    "start_time": "2023-02-28T10:17:19.497Z"
   },
   {
    "duration": 10,
    "start_time": "2023-02-28T10:17:19.875Z"
   },
   {
    "duration": 30,
    "start_time": "2023-02-28T10:17:21.197Z"
   },
   {
    "duration": 8,
    "start_time": "2023-02-28T10:17:21.611Z"
   },
   {
    "duration": 24,
    "start_time": "2023-02-28T10:17:22.051Z"
   },
   {
    "duration": 21,
    "start_time": "2023-02-28T10:17:22.829Z"
   },
   {
    "duration": 9,
    "start_time": "2023-02-28T10:17:23.235Z"
   },
   {
    "duration": 86,
    "start_time": "2023-02-28T10:17:24.044Z"
   },
   {
    "duration": 11,
    "start_time": "2023-02-28T10:17:25.235Z"
   },
   {
    "duration": 5,
    "start_time": "2023-02-28T10:17:25.607Z"
   },
   {
    "duration": 10,
    "start_time": "2023-02-28T10:17:26.425Z"
   },
   {
    "duration": 7,
    "start_time": "2023-02-28T10:17:27.066Z"
   },
   {
    "duration": 6,
    "start_time": "2023-02-28T10:17:27.667Z"
   },
   {
    "duration": 7,
    "start_time": "2023-02-28T10:17:28.275Z"
   },
   {
    "duration": 326,
    "start_time": "2023-02-28T10:17:28.868Z"
   },
   {
    "duration": 26,
    "start_time": "2023-02-28T10:17:29.250Z"
   },
   {
    "duration": 9,
    "start_time": "2023-02-28T10:17:30.739Z"
   },
   {
    "duration": 76,
    "start_time": "2023-02-28T10:17:31.108Z"
   },
   {
    "duration": 299,
    "start_time": "2023-02-28T10:17:51.294Z"
   },
   {
    "duration": 306,
    "start_time": "2023-02-28T10:18:33.070Z"
   },
   {
    "duration": 317,
    "start_time": "2023-02-28T10:19:23.469Z"
   },
   {
    "duration": 321,
    "start_time": "2023-02-28T10:20:56.865Z"
   },
   {
    "duration": 329,
    "start_time": "2023-02-28T10:25:58.961Z"
   },
   {
    "duration": 379,
    "start_time": "2023-02-28T10:26:07.305Z"
   },
   {
    "duration": 8,
    "start_time": "2023-02-28T10:37:37.586Z"
   },
   {
    "duration": 276,
    "start_time": "2023-02-28T10:37:43.343Z"
   },
   {
    "duration": 286,
    "start_time": "2023-02-28T10:38:00.669Z"
   },
   {
    "duration": 628,
    "start_time": "2023-02-28T10:40:35.091Z"
   },
   {
    "duration": 10,
    "start_time": "2023-02-28T10:42:38.918Z"
   },
   {
    "duration": 292,
    "start_time": "2023-02-28T10:43:23.485Z"
   },
   {
    "duration": 296,
    "start_time": "2023-02-28T10:43:36.895Z"
   },
   {
    "duration": 222,
    "start_time": "2023-02-28T10:43:58.383Z"
   },
   {
    "duration": 226,
    "start_time": "2023-02-28T10:44:22.558Z"
   },
   {
    "duration": 157,
    "start_time": "2023-02-28T10:44:36.998Z"
   },
   {
    "duration": 304,
    "start_time": "2023-02-28T10:45:47.785Z"
   },
   {
    "duration": 303,
    "start_time": "2023-02-28T11:03:17.833Z"
   },
   {
    "duration": 315,
    "start_time": "2023-02-28T11:03:38.133Z"
   },
   {
    "duration": 282,
    "start_time": "2023-02-28T11:07:26.277Z"
   },
   {
    "duration": 9,
    "start_time": "2023-02-28T11:07:34.278Z"
   },
   {
    "duration": 295,
    "start_time": "2023-02-28T11:08:14.927Z"
   },
   {
    "duration": 5,
    "start_time": "2023-02-28T11:13:29.351Z"
   },
   {
    "duration": 17,
    "start_time": "2023-02-28T11:13:32.193Z"
   },
   {
    "duration": 5,
    "start_time": "2023-02-28T11:13:54.506Z"
   },
   {
    "duration": 5,
    "start_time": "2023-02-28T11:13:56.073Z"
   },
   {
    "duration": 6,
    "start_time": "2023-02-28T11:13:57.628Z"
   },
   {
    "duration": 124,
    "start_time": "2023-02-28T11:14:08.337Z"
   },
   {
    "duration": 14,
    "start_time": "2023-02-28T11:14:08.635Z"
   },
   {
    "duration": 2206,
    "start_time": "2023-02-28T11:14:09.233Z"
   },
   {
    "duration": 8,
    "start_time": "2023-02-28T11:14:11.441Z"
   },
   {
    "duration": 83,
    "start_time": "2023-02-28T11:14:11.451Z"
   },
   {
    "duration": 8,
    "start_time": "2023-02-28T11:14:12.566Z"
   },
   {
    "duration": 31,
    "start_time": "2023-02-28T11:14:13.722Z"
   },
   {
    "duration": 40,
    "start_time": "2023-02-28T11:14:14.642Z"
   },
   {
    "duration": 11,
    "start_time": "2023-02-28T11:14:16.241Z"
   },
   {
    "duration": 11,
    "start_time": "2023-02-28T11:14:17.178Z"
   },
   {
    "duration": 7,
    "start_time": "2023-02-28T11:14:18.060Z"
   },
   {
    "duration": 9,
    "start_time": "2023-02-28T11:14:18.719Z"
   },
   {
    "duration": 30,
    "start_time": "2023-02-28T11:14:20.276Z"
   },
   {
    "duration": 7,
    "start_time": "2023-02-28T11:14:20.730Z"
   },
   {
    "duration": 26,
    "start_time": "2023-02-28T11:14:21.330Z"
   },
   {
    "duration": 23,
    "start_time": "2023-02-28T11:14:22.297Z"
   },
   {
    "duration": 9,
    "start_time": "2023-02-28T11:14:22.921Z"
   },
   {
    "duration": 82,
    "start_time": "2023-02-28T11:14:23.959Z"
   },
   {
    "duration": 3,
    "start_time": "2023-02-28T11:14:28.794Z"
   },
   {
    "duration": 10,
    "start_time": "2023-02-28T11:14:29.874Z"
   },
   {
    "duration": 5,
    "start_time": "2023-02-28T11:14:31.746Z"
   },
   {
    "duration": 5,
    "start_time": "2023-02-28T11:14:32.810Z"
   },
   {
    "duration": 7,
    "start_time": "2023-02-28T11:14:34.127Z"
   },
   {
    "duration": 342,
    "start_time": "2023-02-28T11:14:35.403Z"
   },
   {
    "duration": 25,
    "start_time": "2023-02-28T11:14:36.093Z"
   },
   {
    "duration": 9,
    "start_time": "2023-02-28T11:14:38.338Z"
   },
   {
    "duration": 411,
    "start_time": "2023-02-28T11:14:38.786Z"
   },
   {
    "duration": 9,
    "start_time": "2023-02-28T11:14:40.226Z"
   },
   {
    "duration": 300,
    "start_time": "2023-02-28T11:14:40.738Z"
   },
   {
    "duration": 9,
    "start_time": "2023-02-28T11:14:43.474Z"
   },
   {
    "duration": 289,
    "start_time": "2023-02-28T11:14:44.104Z"
   },
   {
    "duration": 11,
    "start_time": "2023-02-28T11:14:46.123Z"
   },
   {
    "duration": 296,
    "start_time": "2023-02-28T11:14:47.090Z"
   },
   {
    "duration": 7,
    "start_time": "2023-02-28T11:14:52.447Z"
   },
   {
    "duration": 307,
    "start_time": "2023-02-28T11:14:52.874Z"
   },
   {
    "duration": 9,
    "start_time": "2023-02-28T11:14:54.522Z"
   },
   {
    "duration": 9,
    "start_time": "2023-02-28T11:15:48.635Z"
   },
   {
    "duration": 334,
    "start_time": "2023-02-28T11:15:50.340Z"
   },
   {
    "duration": 9,
    "start_time": "2023-02-28T11:22:46.784Z"
   },
   {
    "duration": 291,
    "start_time": "2023-02-28T11:23:12.444Z"
   },
   {
    "duration": 293,
    "start_time": "2023-02-28T11:23:22.525Z"
   },
   {
    "duration": 303,
    "start_time": "2023-02-28T11:26:28.781Z"
   },
   {
    "duration": 315,
    "start_time": "2023-02-28T11:27:51.901Z"
   },
   {
    "duration": 10,
    "start_time": "2023-02-28T11:29:40.027Z"
   },
   {
    "duration": 25,
    "start_time": "2023-02-28T11:30:19.974Z"
   },
   {
    "duration": 8,
    "start_time": "2023-02-28T14:14:15.264Z"
   },
   {
    "duration": 318,
    "start_time": "2023-02-28T14:14:32.232Z"
   },
   {
    "duration": 166,
    "start_time": "2023-02-28T14:14:55.039Z"
   },
   {
    "duration": 18,
    "start_time": "2023-02-28T14:14:55.491Z"
   },
   {
    "duration": 2211,
    "start_time": "2023-02-28T14:14:57.262Z"
   },
   {
    "duration": 9,
    "start_time": "2023-02-28T14:15:02.475Z"
   },
   {
    "duration": 72,
    "start_time": "2023-02-28T14:15:03.480Z"
   },
   {
    "duration": 7,
    "start_time": "2023-02-28T14:15:05.496Z"
   },
   {
    "duration": 33,
    "start_time": "2023-02-28T14:15:06.610Z"
   },
   {
    "duration": 41,
    "start_time": "2023-02-28T14:15:11.274Z"
   },
   {
    "duration": 11,
    "start_time": "2023-02-28T14:15:12.807Z"
   },
   {
    "duration": 11,
    "start_time": "2023-02-28T14:15:14.279Z"
   },
   {
    "duration": 9,
    "start_time": "2023-02-28T14:15:15.668Z"
   },
   {
    "duration": 9,
    "start_time": "2023-02-28T14:15:16.535Z"
   },
   {
    "duration": 28,
    "start_time": "2023-02-28T14:15:19.239Z"
   },
   {
    "duration": 7,
    "start_time": "2023-02-28T14:15:19.963Z"
   },
   {
    "duration": 26,
    "start_time": "2023-02-28T14:15:20.776Z"
   },
   {
    "duration": 20,
    "start_time": "2023-02-28T14:15:25.833Z"
   },
   {
    "duration": 9,
    "start_time": "2023-02-28T14:15:26.768Z"
   },
   {
    "duration": 84,
    "start_time": "2023-02-28T14:15:28.128Z"
   },
   {
    "duration": 4,
    "start_time": "2023-02-28T14:15:31.279Z"
   },
   {
    "duration": 10,
    "start_time": "2023-02-28T14:15:32.665Z"
   },
   {
    "duration": 8,
    "start_time": "2023-02-28T14:15:33.929Z"
   },
   {
    "duration": 6,
    "start_time": "2023-02-28T14:15:35.328Z"
   },
   {
    "duration": 8,
    "start_time": "2023-02-28T14:15:36.736Z"
   },
   {
    "duration": 345,
    "start_time": "2023-02-28T14:15:38.118Z"
   },
   {
    "duration": 30,
    "start_time": "2023-02-28T14:15:39.201Z"
   },
   {
    "duration": 9,
    "start_time": "2023-02-28T14:15:41.769Z"
   },
   {
    "duration": 379,
    "start_time": "2023-02-28T14:15:42.471Z"
   },
   {
    "duration": 8,
    "start_time": "2023-02-28T14:15:44.368Z"
   },
   {
    "duration": 334,
    "start_time": "2023-02-28T14:15:44.869Z"
   },
   {
    "duration": 9,
    "start_time": "2023-02-28T14:15:47.108Z"
   },
   {
    "duration": 277,
    "start_time": "2023-02-28T14:15:47.665Z"
   },
   {
    "duration": 10,
    "start_time": "2023-02-28T14:15:49.268Z"
   },
   {
    "duration": 300,
    "start_time": "2023-02-28T14:15:49.832Z"
   },
   {
    "duration": 9,
    "start_time": "2023-02-28T14:15:51.282Z"
   },
   {
    "duration": 307,
    "start_time": "2023-02-28T14:15:51.784Z"
   },
   {
    "duration": 9,
    "start_time": "2023-02-28T14:15:53.167Z"
   },
   {
    "duration": 296,
    "start_time": "2023-02-28T14:15:53.600Z"
   },
   {
    "duration": 8,
    "start_time": "2023-02-28T14:15:55.218Z"
   },
   {
    "duration": 308,
    "start_time": "2023-02-28T14:15:55.738Z"
   },
   {
    "duration": 8,
    "start_time": "2023-02-28T14:15:58.677Z"
   },
   {
    "duration": 286,
    "start_time": "2023-02-28T14:15:59.664Z"
   },
   {
    "duration": 289,
    "start_time": "2023-02-28T14:18:37.328Z"
   },
   {
    "duration": 316,
    "start_time": "2023-02-28T14:19:03.677Z"
   },
   {
    "duration": 289,
    "start_time": "2023-02-28T14:20:51.752Z"
   },
   {
    "duration": 308,
    "start_time": "2023-02-28T14:21:28.065Z"
   },
   {
    "duration": 293,
    "start_time": "2023-02-28T14:21:42.726Z"
   },
   {
    "duration": 863,
    "start_time": "2023-02-28T14:21:48.656Z"
   },
   {
    "duration": 310,
    "start_time": "2023-02-28T14:22:03.278Z"
   },
   {
    "duration": 304,
    "start_time": "2023-02-28T14:22:40.910Z"
   },
   {
    "duration": 322,
    "start_time": "2023-02-28T14:22:45.341Z"
   },
   {
    "duration": 292,
    "start_time": "2023-02-28T14:27:58.609Z"
   },
   {
    "duration": 310,
    "start_time": "2023-02-28T14:29:09.083Z"
   },
   {
    "duration": 9,
    "start_time": "2023-02-28T14:32:28.867Z"
   },
   {
    "duration": 284,
    "start_time": "2023-02-28T14:32:52.111Z"
   },
   {
    "duration": 307,
    "start_time": "2023-02-28T14:33:29.734Z"
   },
   {
    "duration": 296,
    "start_time": "2023-02-28T14:33:39.679Z"
   },
   {
    "duration": 380,
    "start_time": "2023-02-28T14:34:35.375Z"
   },
   {
    "duration": 332,
    "start_time": "2023-02-28T14:35:13.676Z"
   },
   {
    "duration": 389,
    "start_time": "2023-02-28T14:35:32.799Z"
   },
   {
    "duration": 294,
    "start_time": "2023-02-28T14:35:48.073Z"
   },
   {
    "duration": 289,
    "start_time": "2023-02-28T14:46:11.442Z"
   },
   {
    "duration": 10,
    "start_time": "2023-02-28T14:46:17.333Z"
   },
   {
    "duration": 315,
    "start_time": "2023-02-28T14:46:41.288Z"
   },
   {
    "duration": 311,
    "start_time": "2023-02-28T14:47:54.253Z"
   },
   {
    "duration": 314,
    "start_time": "2023-02-28T14:51:43.124Z"
   },
   {
    "duration": 298,
    "start_time": "2023-02-28T14:52:56.646Z"
   },
   {
    "duration": 9,
    "start_time": "2023-02-28T14:53:12.701Z"
   },
   {
    "duration": 294,
    "start_time": "2023-02-28T14:53:39.507Z"
   },
   {
    "duration": 80,
    "start_time": "2023-02-28T15:06:39.567Z"
   },
   {
    "duration": 242,
    "start_time": "2023-02-28T15:06:52.544Z"
   },
   {
    "duration": 278,
    "start_time": "2023-02-28T15:07:02.887Z"
   },
   {
    "duration": 279,
    "start_time": "2023-02-28T15:07:53.266Z"
   },
   {
    "duration": 261,
    "start_time": "2023-02-28T15:09:12.052Z"
   },
   {
    "duration": 952,
    "start_time": "2023-02-28T15:09:46.659Z"
   },
   {
    "duration": 303,
    "start_time": "2023-02-28T15:10:08.415Z"
   },
   {
    "duration": 310,
    "start_time": "2023-02-28T15:10:12.633Z"
   },
   {
    "duration": 283,
    "start_time": "2023-02-28T15:10:26.314Z"
   },
   {
    "duration": 282,
    "start_time": "2023-02-28T15:10:32.315Z"
   },
   {
    "duration": 310,
    "start_time": "2023-02-28T15:10:49.923Z"
   },
   {
    "duration": 1192,
    "start_time": "2023-03-01T00:21:52.874Z"
   },
   {
    "duration": 18,
    "start_time": "2023-03-01T00:21:54.069Z"
   },
   {
    "duration": 2184,
    "start_time": "2023-03-01T00:21:56.416Z"
   },
   {
    "duration": 9,
    "start_time": "2023-03-01T00:22:01.151Z"
   },
   {
    "duration": 97,
    "start_time": "2023-03-01T00:22:02.111Z"
   },
   {
    "duration": 9,
    "start_time": "2023-03-01T00:22:04.943Z"
   },
   {
    "duration": 32,
    "start_time": "2023-03-01T00:22:06.424Z"
   },
   {
    "duration": 43,
    "start_time": "2023-03-01T00:22:08.713Z"
   },
   {
    "duration": 13,
    "start_time": "2023-03-01T00:22:10.887Z"
   },
   {
    "duration": 12,
    "start_time": "2023-03-01T00:22:13.028Z"
   },
   {
    "duration": 7,
    "start_time": "2023-03-01T00:22:14.748Z"
   },
   {
    "duration": 11,
    "start_time": "2023-03-01T00:22:15.631Z"
   },
   {
    "duration": 39,
    "start_time": "2023-03-01T00:22:18.226Z"
   },
   {
    "duration": 8,
    "start_time": "2023-03-01T00:22:18.391Z"
   },
   {
    "duration": 28,
    "start_time": "2023-03-01T00:22:19.448Z"
   },
   {
    "duration": 26,
    "start_time": "2023-03-01T00:22:21.207Z"
   },
   {
    "duration": 11,
    "start_time": "2023-03-01T00:22:22.071Z"
   },
   {
    "duration": 126,
    "start_time": "2023-03-01T00:22:23.801Z"
   },
   {
    "duration": 4,
    "start_time": "2023-03-01T00:22:27.583Z"
   },
   {
    "duration": 11,
    "start_time": "2023-03-01T00:22:29.543Z"
   },
   {
    "duration": 6,
    "start_time": "2023-03-01T00:22:31.335Z"
   },
   {
    "duration": 6,
    "start_time": "2023-03-01T00:22:33.103Z"
   },
   {
    "duration": 7,
    "start_time": "2023-03-01T00:22:34.839Z"
   },
   {
    "duration": 350,
    "start_time": "2023-03-01T00:22:36.960Z"
   },
   {
    "duration": 28,
    "start_time": "2023-03-01T00:22:37.815Z"
   },
   {
    "duration": 10,
    "start_time": "2023-03-01T00:22:41.431Z"
   },
   {
    "duration": 406,
    "start_time": "2023-03-01T00:22:42.360Z"
   },
   {
    "duration": 11,
    "start_time": "2023-03-01T00:22:45.263Z"
   },
   {
    "duration": 400,
    "start_time": "2023-03-01T00:22:46.275Z"
   },
   {
    "duration": 10,
    "start_time": "2023-03-01T00:22:49.127Z"
   },
   {
    "duration": 299,
    "start_time": "2023-03-01T00:22:50.056Z"
   },
   {
    "duration": 10,
    "start_time": "2023-03-01T00:22:53.065Z"
   },
   {
    "duration": 305,
    "start_time": "2023-03-01T00:22:53.928Z"
   },
   {
    "duration": 10,
    "start_time": "2023-03-01T00:22:56.571Z"
   },
   {
    "duration": 341,
    "start_time": "2023-03-01T00:22:57.384Z"
   },
   {
    "duration": 11,
    "start_time": "2023-03-01T00:23:00.063Z"
   },
   {
    "duration": 323,
    "start_time": "2023-03-01T00:23:00.881Z"
   },
   {
    "duration": 9,
    "start_time": "2023-03-01T00:23:03.223Z"
   },
   {
    "duration": 418,
    "start_time": "2023-03-01T00:23:04.167Z"
   },
   {
    "duration": 10,
    "start_time": "2023-03-01T00:23:07.407Z"
   },
   {
    "duration": 339,
    "start_time": "2023-03-01T00:23:08.431Z"
   },
   {
    "duration": 12,
    "start_time": "2023-03-01T00:23:11.255Z"
   },
   {
    "duration": 348,
    "start_time": "2023-03-01T00:23:12.808Z"
   },
   {
    "duration": 9,
    "start_time": "2023-03-01T00:23:15.065Z"
   },
   {
    "duration": 330,
    "start_time": "2023-03-01T00:23:15.840Z"
   },
   {
    "duration": 13,
    "start_time": "2023-03-01T00:23:18.183Z"
   },
   {
    "duration": 320,
    "start_time": "2023-03-01T00:23:19.696Z"
   },
   {
    "duration": 13,
    "start_time": "2023-03-01T00:23:21.784Z"
   },
   {
    "duration": 353,
    "start_time": "2023-03-01T00:23:22.472Z"
   },
   {
    "duration": 8,
    "start_time": "2023-03-01T00:23:24.706Z"
   },
   {
    "duration": 475,
    "start_time": "2023-03-01T00:23:25.272Z"
   },
   {
    "duration": 9,
    "start_time": "2023-03-01T00:23:27.265Z"
   },
   {
    "duration": 294,
    "start_time": "2023-03-01T00:23:27.936Z"
   },
   {
    "duration": 304,
    "start_time": "2023-03-01T00:25:42.707Z"
   },
   {
    "duration": 10,
    "start_time": "2023-03-01T00:26:27.739Z"
   },
   {
    "duration": 11,
    "start_time": "2023-03-01T00:26:37.667Z"
   },
   {
    "duration": 9,
    "start_time": "2023-03-01T00:26:41.763Z"
   },
   {
    "duration": 324,
    "start_time": "2023-03-01T00:27:05.604Z"
   },
   {
    "duration": 6,
    "start_time": "2023-03-01T00:28:53.212Z"
   },
   {
    "duration": 7,
    "start_time": "2023-03-01T00:29:46.173Z"
   },
   {
    "duration": 323,
    "start_time": "2023-03-01T00:34:39.544Z"
   },
   {
    "duration": 326,
    "start_time": "2023-03-01T00:37:21.578Z"
   },
   {
    "duration": 481,
    "start_time": "2023-03-01T00:37:51.851Z"
   },
   {
    "duration": 76,
    "start_time": "2023-03-01T01:28:50.668Z"
   },
   {
    "duration": 192,
    "start_time": "2023-03-01T01:29:31.536Z"
   },
   {
    "duration": 56,
    "start_time": "2023-03-01T02:24:05.408Z"
   },
   {
    "duration": 45,
    "start_time": "2023-03-01T02:24:50.697Z"
   },
   {
    "duration": 157,
    "start_time": "2023-03-01T02:25:06.107Z"
   },
   {
    "duration": 149,
    "start_time": "2023-03-01T02:28:15.985Z"
   },
   {
    "duration": 152,
    "start_time": "2023-03-01T02:28:28.199Z"
   },
   {
    "duration": 136,
    "start_time": "2023-03-01T02:28:44.382Z"
   },
   {
    "duration": 162,
    "start_time": "2023-03-01T02:28:59.658Z"
   },
   {
    "duration": 90,
    "start_time": "2023-03-01T02:30:26.118Z"
   },
   {
    "duration": 161,
    "start_time": "2023-03-01T02:30:58.542Z"
   },
   {
    "duration": 171,
    "start_time": "2023-03-01T02:32:25.560Z"
   },
   {
    "duration": 179,
    "start_time": "2023-03-01T02:33:50.944Z"
   },
   {
    "duration": 173,
    "start_time": "2023-03-01T02:34:09.913Z"
   },
   {
    "duration": 50,
    "start_time": "2023-03-01T02:36:46.864Z"
   },
   {
    "duration": 166,
    "start_time": "2023-03-01T02:38:41.565Z"
   },
   {
    "duration": 185,
    "start_time": "2023-03-01T02:39:27.885Z"
   },
   {
    "duration": 180,
    "start_time": "2023-03-01T02:43:30.745Z"
   },
   {
    "duration": 1583,
    "start_time": "2023-03-01T05:34:08.484Z"
   },
   {
    "duration": 15,
    "start_time": "2023-03-01T05:34:10.070Z"
   },
   {
    "duration": 2135,
    "start_time": "2023-03-01T05:34:10.761Z"
   },
   {
    "duration": 9,
    "start_time": "2023-03-01T05:34:13.558Z"
   },
   {
    "duration": 79,
    "start_time": "2023-03-01T05:34:14.525Z"
   },
   {
    "duration": 10,
    "start_time": "2023-03-01T05:34:15.965Z"
   },
   {
    "duration": 35,
    "start_time": "2023-03-01T05:34:16.459Z"
   },
   {
    "duration": 43,
    "start_time": "2023-03-01T05:34:17.446Z"
   },
   {
    "duration": 12,
    "start_time": "2023-03-01T05:34:18.335Z"
   },
   {
    "duration": 11,
    "start_time": "2023-03-01T05:34:19.141Z"
   },
   {
    "duration": 6,
    "start_time": "2023-03-01T05:34:19.880Z"
   },
   {
    "duration": 10,
    "start_time": "2023-03-01T05:34:20.246Z"
   },
   {
    "duration": 45,
    "start_time": "2023-03-01T05:34:21.342Z"
   },
   {
    "duration": 8,
    "start_time": "2023-03-01T05:34:21.648Z"
   },
   {
    "duration": 27,
    "start_time": "2023-03-01T05:34:22.006Z"
   },
   {
    "duration": 26,
    "start_time": "2023-03-01T05:34:22.629Z"
   },
   {
    "duration": 10,
    "start_time": "2023-03-01T05:34:22.961Z"
   },
   {
    "duration": 95,
    "start_time": "2023-03-01T05:34:23.525Z"
   },
   {
    "duration": 5,
    "start_time": "2023-03-01T05:34:24.525Z"
   },
   {
    "duration": 10,
    "start_time": "2023-03-01T05:34:24.981Z"
   },
   {
    "duration": 6,
    "start_time": "2023-03-01T05:34:25.453Z"
   },
   {
    "duration": 5,
    "start_time": "2023-03-01T05:34:25.869Z"
   },
   {
    "duration": 6,
    "start_time": "2023-03-01T05:34:26.301Z"
   },
   {
    "duration": 350,
    "start_time": "2023-03-01T05:34:26.729Z"
   },
   {
    "duration": 24,
    "start_time": "2023-03-01T05:34:27.081Z"
   },
   {
    "duration": 9,
    "start_time": "2023-03-01T05:34:27.805Z"
   },
   {
    "duration": 443,
    "start_time": "2023-03-01T05:34:27.991Z"
   },
   {
    "duration": 10,
    "start_time": "2023-03-01T05:34:28.637Z"
   },
   {
    "duration": 398,
    "start_time": "2023-03-01T05:34:28.869Z"
   },
   {
    "duration": 9,
    "start_time": "2023-03-01T05:34:29.541Z"
   },
   {
    "duration": 303,
    "start_time": "2023-03-01T05:34:30.231Z"
   },
   {
    "duration": 9,
    "start_time": "2023-03-01T05:34:31.957Z"
   },
   {
    "duration": 339,
    "start_time": "2023-03-01T05:34:32.753Z"
   },
   {
    "duration": 9,
    "start_time": "2023-03-01T05:34:33.973Z"
   },
   {
    "duration": 339,
    "start_time": "2023-03-01T05:34:34.318Z"
   },
   {
    "duration": 10,
    "start_time": "2023-03-01T05:34:35.269Z"
   },
   {
    "duration": 371,
    "start_time": "2023-03-01T05:34:35.566Z"
   },
   {
    "duration": 9,
    "start_time": "2023-03-01T05:34:36.389Z"
   },
   {
    "duration": 436,
    "start_time": "2023-03-01T05:34:36.685Z"
   },
   {
    "duration": 11,
    "start_time": "2023-03-01T05:34:37.389Z"
   },
   {
    "duration": 294,
    "start_time": "2023-03-01T05:34:37.629Z"
   },
   {
    "duration": 9,
    "start_time": "2023-03-01T05:34:38.357Z"
   },
   {
    "duration": 314,
    "start_time": "2023-03-01T05:34:38.597Z"
   },
   {
    "duration": 10,
    "start_time": "2023-03-01T05:34:39.293Z"
   },
   {
    "duration": 313,
    "start_time": "2023-03-01T05:34:39.527Z"
   },
   {
    "duration": 9,
    "start_time": "2023-03-01T05:34:40.213Z"
   },
   {
    "duration": 295,
    "start_time": "2023-03-01T05:34:40.445Z"
   },
   {
    "duration": 12,
    "start_time": "2023-03-01T05:34:41.133Z"
   },
   {
    "duration": 325,
    "start_time": "2023-03-01T05:34:41.406Z"
   },
   {
    "duration": 12,
    "start_time": "2023-03-01T05:34:42.501Z"
   },
   {
    "duration": 473,
    "start_time": "2023-03-01T05:34:42.766Z"
   },
   {
    "duration": 9,
    "start_time": "2023-03-01T05:34:43.614Z"
   },
   {
    "duration": 305,
    "start_time": "2023-03-01T05:34:43.880Z"
   },
   {
    "duration": 11,
    "start_time": "2023-03-01T05:34:44.597Z"
   },
   {
    "duration": 5,
    "start_time": "2023-03-01T05:34:44.870Z"
   },
   {
    "duration": 6,
    "start_time": "2023-03-01T05:34:45.264Z"
   },
   {
    "duration": 319,
    "start_time": "2023-03-01T05:34:45.552Z"
   },
   {
    "duration": 296,
    "start_time": "2023-03-01T05:34:46.109Z"
   },
   {
    "duration": 172,
    "start_time": "2023-03-01T05:34:47.205Z"
   },
   {
    "duration": 175,
    "start_time": "2023-03-01T05:34:48.455Z"
   },
   {
    "duration": 179,
    "start_time": "2023-03-01T05:34:49.270Z"
   },
   {
    "duration": 169,
    "start_time": "2023-03-01T05:34:50.045Z"
   },
   {
    "duration": 180,
    "start_time": "2023-03-01T05:37:09.159Z"
   },
   {
    "duration": 179,
    "start_time": "2023-03-01T05:50:07.794Z"
   },
   {
    "duration": 50,
    "start_time": "2023-03-01T05:53:39.461Z"
   },
   {
    "duration": 10,
    "start_time": "2023-03-01T05:53:43.751Z"
   },
   {
    "duration": 26,
    "start_time": "2023-03-01T05:53:52.083Z"
   },
   {
    "duration": 553,
    "start_time": "2023-03-01T06:00:10.533Z"
   },
   {
    "duration": 179,
    "start_time": "2023-03-01T06:01:24.228Z"
   },
   {
    "duration": 348,
    "start_time": "2023-03-01T06:04:31.599Z"
   },
   {
    "duration": 170,
    "start_time": "2023-03-01T06:40:21.835Z"
   },
   {
    "duration": 164,
    "start_time": "2023-03-01T06:42:46.330Z"
   },
   {
    "duration": 14,
    "start_time": "2023-03-01T06:48:37.163Z"
   },
   {
    "duration": 151,
    "start_time": "2023-03-01T06:48:44.781Z"
   },
   {
    "duration": 189,
    "start_time": "2023-03-01T06:51:28.096Z"
   },
   {
    "duration": 191,
    "start_time": "2023-03-01T06:52:05.927Z"
   },
   {
    "duration": 1215,
    "start_time": "2023-03-01T06:55:24.820Z"
   },
   {
    "duration": 193,
    "start_time": "2023-03-01T06:56:06.929Z"
   },
   {
    "duration": 173,
    "start_time": "2023-03-01T06:59:23.045Z"
   },
   {
    "duration": 231,
    "start_time": "2023-03-01T07:02:58.070Z"
   },
   {
    "duration": 252,
    "start_time": "2023-03-01T07:27:28.526Z"
   },
   {
    "duration": 17,
    "start_time": "2023-03-01T07:30:02.228Z"
   },
   {
    "duration": 25,
    "start_time": "2023-03-01T07:30:14.133Z"
   },
   {
    "duration": 36,
    "start_time": "2023-03-01T07:30:31.364Z"
   },
   {
    "duration": 111,
    "start_time": "2023-03-01T07:31:45.981Z"
   },
   {
    "duration": 107,
    "start_time": "2023-03-01T07:32:03.953Z"
   },
   {
    "duration": 32,
    "start_time": "2023-03-01T07:32:25.532Z"
   },
   {
    "duration": 842,
    "start_time": "2023-03-01T07:35:29.273Z"
   },
   {
    "duration": 28,
    "start_time": "2023-03-01T07:35:43.028Z"
   },
   {
    "duration": 15,
    "start_time": "2023-03-01T07:48:29.968Z"
   },
   {
    "duration": 21,
    "start_time": "2023-03-01T07:48:54.138Z"
   },
   {
    "duration": 17,
    "start_time": "2023-03-01T07:51:13.389Z"
   },
   {
    "duration": 14,
    "start_time": "2023-03-01T07:54:33.631Z"
   },
   {
    "duration": 20,
    "start_time": "2023-03-01T07:54:46.922Z"
   },
   {
    "duration": 30,
    "start_time": "2023-03-01T07:55:33.982Z"
   },
   {
    "duration": 15,
    "start_time": "2023-03-01T07:56:27.777Z"
   },
   {
    "duration": 30,
    "start_time": "2023-03-01T07:56:38.336Z"
   },
   {
    "duration": 24,
    "start_time": "2023-03-01T07:57:11.474Z"
   },
   {
    "duration": 20,
    "start_time": "2023-03-01T07:57:19.268Z"
   },
   {
    "duration": 16,
    "start_time": "2023-03-01T07:59:49.075Z"
   },
   {
    "duration": 27,
    "start_time": "2023-03-01T08:00:13.427Z"
   },
   {
    "duration": 184,
    "start_time": "2023-03-01T08:15:32.231Z"
   },
   {
    "duration": 50,
    "start_time": "2023-03-01T08:17:16.190Z"
   },
   {
    "duration": 207,
    "start_time": "2023-03-01T08:17:32.915Z"
   },
   {
    "duration": 209,
    "start_time": "2023-03-01T08:18:49.917Z"
   },
   {
    "duration": 172,
    "start_time": "2023-03-01T08:19:09.623Z"
   },
   {
    "duration": 167,
    "start_time": "2023-03-01T08:19:17.695Z"
   },
   {
    "duration": 183,
    "start_time": "2023-03-01T08:19:32.135Z"
   },
   {
    "duration": 203,
    "start_time": "2023-03-01T08:19:41.703Z"
   },
   {
    "duration": 204,
    "start_time": "2023-03-01T08:20:31.376Z"
   },
   {
    "duration": 219,
    "start_time": "2023-03-01T08:22:36.649Z"
   },
   {
    "duration": 189,
    "start_time": "2023-03-01T08:23:01.973Z"
   },
   {
    "duration": 158,
    "start_time": "2023-03-01T08:23:08.458Z"
   },
   {
    "duration": 225,
    "start_time": "2023-03-01T08:23:14.578Z"
   },
   {
    "duration": 222,
    "start_time": "2023-03-01T08:23:29.119Z"
   },
   {
    "duration": 223,
    "start_time": "2023-03-01T08:24:52.467Z"
   },
   {
    "duration": 189,
    "start_time": "2023-03-01T08:24:59.371Z"
   },
   {
    "duration": 178,
    "start_time": "2023-03-01T08:25:31.217Z"
   },
   {
    "duration": 413,
    "start_time": "2023-03-01T08:25:42.541Z"
   },
   {
    "duration": 993,
    "start_time": "2023-03-01T11:56:40.353Z"
   },
   {
    "duration": 16,
    "start_time": "2023-03-01T11:56:41.348Z"
   },
   {
    "duration": 1967,
    "start_time": "2023-03-01T11:56:41.365Z"
   },
   {
    "duration": 9,
    "start_time": "2023-03-01T11:56:43.334Z"
   },
   {
    "duration": 89,
    "start_time": "2023-03-01T11:56:43.345Z"
   },
   {
    "duration": 9,
    "start_time": "2023-03-01T11:56:43.436Z"
   },
   {
    "duration": 32,
    "start_time": "2023-03-01T11:56:43.447Z"
   },
   {
    "duration": 64,
    "start_time": "2023-03-01T11:56:43.481Z"
   },
   {
    "duration": 11,
    "start_time": "2023-03-01T11:56:43.547Z"
   },
   {
    "duration": 10,
    "start_time": "2023-03-01T11:56:43.560Z"
   },
   {
    "duration": 7,
    "start_time": "2023-03-01T11:56:43.572Z"
   },
   {
    "duration": 8,
    "start_time": "2023-03-01T11:56:43.581Z"
   },
   {
    "duration": 60,
    "start_time": "2023-03-01T11:56:43.591Z"
   },
   {
    "duration": 7,
    "start_time": "2023-03-01T11:56:43.653Z"
   },
   {
    "duration": 26,
    "start_time": "2023-03-01T11:56:43.662Z"
   },
   {
    "duration": 46,
    "start_time": "2023-03-01T11:56:43.689Z"
   },
   {
    "duration": 11,
    "start_time": "2023-03-01T11:56:43.737Z"
   },
   {
    "duration": 113,
    "start_time": "2023-03-01T11:56:43.750Z"
   },
   {
    "duration": 5,
    "start_time": "2023-03-01T11:56:43.864Z"
   },
   {
    "duration": 13,
    "start_time": "2023-03-01T11:56:43.871Z"
   },
   {
    "duration": 5,
    "start_time": "2023-03-01T11:56:43.886Z"
   },
   {
    "duration": 13,
    "start_time": "2023-03-01T11:56:43.893Z"
   },
   {
    "duration": 33,
    "start_time": "2023-03-01T11:56:43.908Z"
   },
   {
    "duration": 424,
    "start_time": "2023-03-01T11:56:43.942Z"
   },
   {
    "duration": 24,
    "start_time": "2023-03-01T11:56:44.368Z"
   },
   {
    "duration": 9,
    "start_time": "2023-03-01T11:56:44.394Z"
   },
   {
    "duration": 416,
    "start_time": "2023-03-01T11:56:44.404Z"
   },
   {
    "duration": 13,
    "start_time": "2023-03-01T11:56:44.824Z"
   },
   {
    "duration": 408,
    "start_time": "2023-03-01T11:56:44.838Z"
   },
   {
    "duration": 9,
    "start_time": "2023-03-01T11:56:45.247Z"
   },
   {
    "duration": 321,
    "start_time": "2023-03-01T11:56:45.258Z"
   },
   {
    "duration": 9,
    "start_time": "2023-03-01T11:56:45.581Z"
   },
   {
    "duration": 318,
    "start_time": "2023-03-01T11:56:45.592Z"
   },
   {
    "duration": 9,
    "start_time": "2023-03-01T11:56:45.912Z"
   },
   {
    "duration": 334,
    "start_time": "2023-03-01T11:56:45.933Z"
   },
   {
    "duration": 9,
    "start_time": "2023-03-01T11:56:46.268Z"
   },
   {
    "duration": 323,
    "start_time": "2023-03-01T11:56:46.279Z"
   },
   {
    "duration": 9,
    "start_time": "2023-03-01T11:56:46.604Z"
   },
   {
    "duration": 432,
    "start_time": "2023-03-01T11:56:46.614Z"
   },
   {
    "duration": 9,
    "start_time": "2023-03-01T11:56:47.048Z"
   },
   {
    "duration": 301,
    "start_time": "2023-03-01T11:56:47.059Z"
   },
   {
    "duration": 9,
    "start_time": "2023-03-01T11:56:47.361Z"
   },
   {
    "duration": 324,
    "start_time": "2023-03-01T11:56:47.371Z"
   },
   {
    "duration": 10,
    "start_time": "2023-03-01T11:56:47.697Z"
   },
   {
    "duration": 337,
    "start_time": "2023-03-01T11:56:47.708Z"
   },
   {
    "duration": 10,
    "start_time": "2023-03-01T11:56:48.046Z"
   },
   {
    "duration": 329,
    "start_time": "2023-03-01T11:56:48.057Z"
   },
   {
    "duration": 10,
    "start_time": "2023-03-01T11:56:48.388Z"
   },
   {
    "duration": 344,
    "start_time": "2023-03-01T11:56:48.400Z"
   },
   {
    "duration": 9,
    "start_time": "2023-03-01T11:56:48.746Z"
   },
   {
    "duration": 491,
    "start_time": "2023-03-01T11:56:48.757Z"
   },
   {
    "duration": 8,
    "start_time": "2023-03-01T11:56:49.250Z"
   },
   {
    "duration": 328,
    "start_time": "2023-03-01T11:56:49.260Z"
   },
   {
    "duration": 10,
    "start_time": "2023-03-01T11:56:49.589Z"
   },
   {
    "duration": 4,
    "start_time": "2023-03-01T11:56:49.600Z"
   },
   {
    "duration": 11,
    "start_time": "2023-03-01T11:56:49.606Z"
   },
   {
    "duration": 326,
    "start_time": "2023-03-01T11:56:49.618Z"
   },
   {
    "duration": 317,
    "start_time": "2023-03-01T11:56:49.946Z"
   },
   {
    "duration": 184,
    "start_time": "2023-03-01T11:56:50.266Z"
   },
   {
    "duration": 200,
    "start_time": "2023-03-01T11:56:50.452Z"
   },
   {
    "duration": 200,
    "start_time": "2023-03-01T11:56:50.653Z"
   },
   {
    "duration": 188,
    "start_time": "2023-03-01T11:56:50.854Z"
   },
   {
    "duration": 25,
    "start_time": "2023-03-01T11:56:51.044Z"
   },
   {
    "duration": 21,
    "start_time": "2023-03-01T11:56:51.071Z"
   },
   {
    "duration": 168,
    "start_time": "2023-03-01T11:56:51.094Z"
   },
   {
    "duration": 193,
    "start_time": "2023-03-01T11:56:51.264Z"
   },
   {
    "duration": 198,
    "start_time": "2023-03-01T11:56:51.459Z"
   },
   {
    "duration": 189,
    "start_time": "2023-03-01T11:56:51.659Z"
   },
   {
    "duration": 16,
    "start_time": "2023-03-01T11:56:51.849Z"
   },
   {
    "duration": 24,
    "start_time": "2023-03-01T11:56:51.867Z"
   },
   {
    "duration": 382,
    "start_time": "2023-03-01T11:56:51.893Z"
   },
   {
    "duration": 828,
    "start_time": "2023-03-01T12:04:02.328Z"
   },
   {
    "duration": 17,
    "start_time": "2023-03-01T12:04:03.158Z"
   },
   {
    "duration": 2187,
    "start_time": "2023-03-01T12:04:03.177Z"
   },
   {
    "duration": 11,
    "start_time": "2023-03-01T12:04:05.367Z"
   },
   {
    "duration": 89,
    "start_time": "2023-03-01T12:04:05.381Z"
   },
   {
    "duration": 10,
    "start_time": "2023-03-01T12:04:05.472Z"
   },
   {
    "duration": 52,
    "start_time": "2023-03-01T12:04:05.483Z"
   },
   {
    "duration": 45,
    "start_time": "2023-03-01T12:04:05.537Z"
   },
   {
    "duration": 12,
    "start_time": "2023-03-01T12:04:05.584Z"
   },
   {
    "duration": 19,
    "start_time": "2023-03-01T12:04:05.598Z"
   },
   {
    "duration": 20,
    "start_time": "2023-03-01T12:04:05.618Z"
   },
   {
    "duration": 20,
    "start_time": "2023-03-01T12:04:05.640Z"
   },
   {
    "duration": 32,
    "start_time": "2023-03-01T12:04:05.662Z"
   },
   {
    "duration": 8,
    "start_time": "2023-03-01T12:04:05.699Z"
   },
   {
    "duration": 49,
    "start_time": "2023-03-01T12:04:05.709Z"
   },
   {
    "duration": 24,
    "start_time": "2023-03-01T12:04:05.760Z"
   },
   {
    "duration": 11,
    "start_time": "2023-03-01T12:04:05.785Z"
   },
   {
    "duration": 131,
    "start_time": "2023-03-01T12:04:05.797Z"
   },
   {
    "duration": 5,
    "start_time": "2023-03-01T12:04:05.935Z"
   },
   {
    "duration": 18,
    "start_time": "2023-03-01T12:04:05.941Z"
   },
   {
    "duration": 5,
    "start_time": "2023-03-01T12:04:05.961Z"
   },
   {
    "duration": 8,
    "start_time": "2023-03-01T12:04:05.968Z"
   },
   {
    "duration": 19,
    "start_time": "2023-03-01T12:04:05.977Z"
   },
   {
    "duration": 356,
    "start_time": "2023-03-01T12:04:05.998Z"
   },
   {
    "duration": 24,
    "start_time": "2023-03-01T12:04:06.356Z"
   },
   {
    "duration": 9,
    "start_time": "2023-03-01T12:04:06.383Z"
   },
   {
    "duration": 432,
    "start_time": "2023-03-01T12:04:06.393Z"
   },
   {
    "duration": 12,
    "start_time": "2023-03-01T12:04:06.827Z"
   },
   {
    "duration": 407,
    "start_time": "2023-03-01T12:04:06.840Z"
   },
   {
    "duration": 9,
    "start_time": "2023-03-01T12:04:07.249Z"
   },
   {
    "duration": 325,
    "start_time": "2023-03-01T12:04:07.260Z"
   },
   {
    "duration": 9,
    "start_time": "2023-03-01T12:04:07.587Z"
   },
   {
    "duration": 323,
    "start_time": "2023-03-01T12:04:07.598Z"
   },
   {
    "duration": 18,
    "start_time": "2023-03-01T12:04:07.923Z"
   },
   {
    "duration": 374,
    "start_time": "2023-03-01T12:04:07.942Z"
   },
   {
    "duration": 17,
    "start_time": "2023-03-01T12:04:08.318Z"
   },
   {
    "duration": 329,
    "start_time": "2023-03-01T12:04:08.337Z"
   },
   {
    "duration": 9,
    "start_time": "2023-03-01T12:04:08.668Z"
   },
   {
    "duration": 442,
    "start_time": "2023-03-01T12:04:08.679Z"
   },
   {
    "duration": 13,
    "start_time": "2023-03-01T12:04:09.123Z"
   },
   {
    "duration": 325,
    "start_time": "2023-03-01T12:04:09.140Z"
   },
   {
    "duration": 9,
    "start_time": "2023-03-01T12:04:09.467Z"
   },
   {
    "duration": 337,
    "start_time": "2023-03-01T12:04:09.477Z"
   },
   {
    "duration": 21,
    "start_time": "2023-03-01T12:04:09.816Z"
   },
   {
    "duration": 330,
    "start_time": "2023-03-01T12:04:09.839Z"
   },
   {
    "duration": 11,
    "start_time": "2023-03-01T12:04:10.171Z"
   },
   {
    "duration": 328,
    "start_time": "2023-03-01T12:04:10.183Z"
   },
   {
    "duration": 11,
    "start_time": "2023-03-01T12:04:10.513Z"
   },
   {
    "duration": 380,
    "start_time": "2023-03-01T12:04:10.525Z"
   },
   {
    "duration": 9,
    "start_time": "2023-03-01T12:04:10.906Z"
   },
   {
    "duration": 489,
    "start_time": "2023-03-01T12:04:10.917Z"
   },
   {
    "duration": 9,
    "start_time": "2023-03-01T12:04:11.408Z"
   },
   {
    "duration": 339,
    "start_time": "2023-03-01T12:04:11.419Z"
   },
   {
    "duration": 9,
    "start_time": "2023-03-01T12:04:11.760Z"
   },
   {
    "duration": 4,
    "start_time": "2023-03-01T12:04:11.771Z"
   },
   {
    "duration": 5,
    "start_time": "2023-03-01T12:04:11.777Z"
   },
   {
    "duration": 354,
    "start_time": "2023-03-01T12:04:11.783Z"
   },
   {
    "duration": 331,
    "start_time": "2023-03-01T12:04:12.139Z"
   },
   {
    "duration": 169,
    "start_time": "2023-03-01T12:04:12.472Z"
   },
   {
    "duration": 201,
    "start_time": "2023-03-01T12:04:12.643Z"
   },
   {
    "duration": 178,
    "start_time": "2023-03-01T12:04:12.845Z"
   },
   {
    "duration": 189,
    "start_time": "2023-03-01T12:04:13.025Z"
   },
   {
    "duration": 31,
    "start_time": "2023-03-01T12:04:13.216Z"
   },
   {
    "duration": 13,
    "start_time": "2023-03-01T12:04:13.249Z"
   },
   {
    "duration": 174,
    "start_time": "2023-03-01T12:04:13.263Z"
   },
   {
    "duration": 200,
    "start_time": "2023-03-01T12:04:13.439Z"
   },
   {
    "duration": 194,
    "start_time": "2023-03-01T12:04:13.640Z"
   },
   {
    "duration": 203,
    "start_time": "2023-03-01T12:04:13.836Z"
   },
   {
    "duration": 19,
    "start_time": "2023-03-01T12:04:14.040Z"
   },
   {
    "duration": 22,
    "start_time": "2023-03-01T12:04:14.061Z"
   },
   {
    "duration": 420,
    "start_time": "2023-03-01T12:04:14.085Z"
   },
   {
    "duration": 89,
    "start_time": "2023-03-01T12:08:51.643Z"
   },
   {
    "duration": 16,
    "start_time": "2023-03-01T12:22:01.659Z"
   },
   {
    "duration": 188,
    "start_time": "2023-03-01T12:22:14.927Z"
   },
   {
    "duration": 181,
    "start_time": "2023-03-01T12:22:17.432Z"
   },
   {
    "duration": 46,
    "start_time": "2023-03-01T13:14:34.073Z"
   },
   {
    "duration": 56,
    "start_time": "2023-03-02T05:44:50.974Z"
   },
   {
    "duration": 1203,
    "start_time": "2023-03-02T05:45:13.788Z"
   },
   {
    "duration": 14,
    "start_time": "2023-03-02T05:45:19.023Z"
   },
   {
    "duration": 2114,
    "start_time": "2023-03-02T05:45:23.549Z"
   },
   {
    "duration": 85,
    "start_time": "2023-03-02T05:50:38.977Z"
   },
   {
    "duration": 62,
    "start_time": "2023-03-02T05:50:53.118Z"
   },
   {
    "duration": 16,
    "start_time": "2023-03-02T05:54:14.917Z"
   },
   {
    "duration": 15,
    "start_time": "2023-03-02T05:54:38.315Z"
   },
   {
    "duration": 89,
    "start_time": "2023-03-02T05:57:17.814Z"
   },
   {
    "duration": 82,
    "start_time": "2023-03-02T05:58:39.147Z"
   },
   {
    "duration": 353,
    "start_time": "2023-03-02T06:09:28.888Z"
   },
   {
    "duration": 470,
    "start_time": "2023-03-02T06:09:54.596Z"
   },
   {
    "duration": 336,
    "start_time": "2023-03-02T06:10:06.064Z"
   },
   {
    "duration": 339,
    "start_time": "2023-03-02T06:14:13.189Z"
   },
   {
    "duration": 377,
    "start_time": "2023-03-02T06:15:33.838Z"
   },
   {
    "duration": 469,
    "start_time": "2023-03-02T06:15:45.407Z"
   },
   {
    "duration": 360,
    "start_time": "2023-03-02T06:15:54.161Z"
   },
   {
    "duration": 61,
    "start_time": "2023-03-02T06:32:17.785Z"
   },
   {
    "duration": 23,
    "start_time": "2023-03-02T06:44:30.865Z"
   },
   {
    "duration": 159,
    "start_time": "2023-03-02T06:45:04.026Z"
   },
   {
    "duration": 16,
    "start_time": "2023-03-02T06:45:04.186Z"
   },
   {
    "duration": 2065,
    "start_time": "2023-03-02T06:45:04.204Z"
   },
   {
    "duration": 11,
    "start_time": "2023-03-02T06:45:06.272Z"
   },
   {
    "duration": 19,
    "start_time": "2023-03-02T06:45:06.285Z"
   },
   {
    "duration": 101,
    "start_time": "2023-03-02T06:45:06.306Z"
   },
   {
    "duration": 8,
    "start_time": "2023-03-02T06:45:06.409Z"
   },
   {
    "duration": 46,
    "start_time": "2023-03-02T06:45:06.419Z"
   },
   {
    "duration": 42,
    "start_time": "2023-03-02T06:45:06.467Z"
   },
   {
    "duration": 12,
    "start_time": "2023-03-02T06:45:06.512Z"
   },
   {
    "duration": 34,
    "start_time": "2023-03-02T06:45:06.526Z"
   },
   {
    "duration": 8,
    "start_time": "2023-03-02T06:45:06.562Z"
   },
   {
    "duration": 20,
    "start_time": "2023-03-02T06:45:06.572Z"
   },
   {
    "duration": 63,
    "start_time": "2023-03-02T06:45:06.594Z"
   },
   {
    "duration": 6,
    "start_time": "2023-03-02T06:45:06.659Z"
   },
   {
    "duration": 26,
    "start_time": "2023-03-02T06:45:06.666Z"
   },
   {
    "duration": 21,
    "start_time": "2023-03-02T06:45:06.694Z"
   },
   {
    "duration": 10,
    "start_time": "2023-03-02T06:45:06.716Z"
   },
   {
    "duration": 100,
    "start_time": "2023-03-02T06:45:06.727Z"
   },
   {
    "duration": 4,
    "start_time": "2023-03-02T06:45:06.828Z"
   },
   {
    "duration": 20,
    "start_time": "2023-03-02T06:45:06.834Z"
   },
   {
    "duration": 7,
    "start_time": "2023-03-02T06:45:06.856Z"
   },
   {
    "duration": 4,
    "start_time": "2023-03-02T06:45:06.865Z"
   },
   {
    "duration": 7,
    "start_time": "2023-03-02T06:45:06.871Z"
   },
   {
    "duration": 329,
    "start_time": "2023-03-02T06:45:06.879Z"
   },
   {
    "duration": 55,
    "start_time": "2023-03-02T06:45:07.210Z"
   },
   {
    "duration": 9,
    "start_time": "2023-03-02T06:45:07.266Z"
   },
   {
    "duration": 441,
    "start_time": "2023-03-02T06:45:07.278Z"
   },
   {
    "duration": 9,
    "start_time": "2023-03-02T06:45:07.721Z"
   },
   {
    "duration": 337,
    "start_time": "2023-03-02T06:45:07.731Z"
   },
   {
    "duration": 11,
    "start_time": "2023-03-02T06:45:08.070Z"
   },
   {
    "duration": 495,
    "start_time": "2023-03-02T06:45:08.082Z"
   },
   {
    "duration": 11,
    "start_time": "2023-03-02T06:45:08.579Z"
   },
   {
    "duration": 315,
    "start_time": "2023-03-02T06:45:08.592Z"
   },
   {
    "duration": 8,
    "start_time": "2023-03-02T06:45:08.909Z"
   },
   {
    "duration": 317,
    "start_time": "2023-03-02T06:45:08.919Z"
   },
   {
    "duration": 15,
    "start_time": "2023-03-02T06:45:09.238Z"
   },
   {
    "duration": 306,
    "start_time": "2023-03-02T06:45:09.255Z"
   },
   {
    "duration": 9,
    "start_time": "2023-03-02T06:45:09.563Z"
   },
   {
    "duration": 322,
    "start_time": "2023-03-02T06:45:09.574Z"
   },
   {
    "duration": 10,
    "start_time": "2023-03-02T06:45:09.898Z"
   },
   {
    "duration": 448,
    "start_time": "2023-03-02T06:45:09.911Z"
   },
   {
    "duration": 10,
    "start_time": "2023-03-02T06:45:10.361Z"
   },
   {
    "duration": 314,
    "start_time": "2023-03-02T06:45:10.373Z"
   },
   {
    "duration": 10,
    "start_time": "2023-03-02T06:45:10.689Z"
   },
   {
    "duration": 317,
    "start_time": "2023-03-02T06:45:10.700Z"
   },
   {
    "duration": 10,
    "start_time": "2023-03-02T06:45:11.018Z"
   },
   {
    "duration": 306,
    "start_time": "2023-03-02T06:45:11.029Z"
   },
   {
    "duration": 16,
    "start_time": "2023-03-02T06:45:11.337Z"
   },
   {
    "duration": 313,
    "start_time": "2023-03-02T06:45:11.355Z"
   },
   {
    "duration": 9,
    "start_time": "2023-03-02T06:45:11.669Z"
   },
   {
    "duration": 326,
    "start_time": "2023-03-02T06:45:11.680Z"
   },
   {
    "duration": 9,
    "start_time": "2023-03-02T06:45:12.008Z"
   },
   {
    "duration": 505,
    "start_time": "2023-03-02T06:45:12.019Z"
   },
   {
    "duration": 10,
    "start_time": "2023-03-02T06:45:12.526Z"
   },
   {
    "duration": 5,
    "start_time": "2023-03-02T06:45:12.548Z"
   },
   {
    "duration": 8,
    "start_time": "2023-03-02T06:45:12.555Z"
   },
   {
    "duration": 335,
    "start_time": "2023-03-02T06:45:12.565Z"
   },
   {
    "duration": 294,
    "start_time": "2023-03-02T06:45:12.901Z"
   },
   {
    "duration": 177,
    "start_time": "2023-03-02T06:45:13.197Z"
   },
   {
    "duration": 196,
    "start_time": "2023-03-02T06:45:13.375Z"
   },
   {
    "duration": 176,
    "start_time": "2023-03-02T06:45:13.573Z"
   },
   {
    "duration": 189,
    "start_time": "2023-03-02T06:45:13.751Z"
   },
   {
    "duration": 28,
    "start_time": "2023-03-02T06:45:13.942Z"
   },
   {
    "duration": 13,
    "start_time": "2023-03-02T06:45:13.971Z"
   },
   {
    "duration": 177,
    "start_time": "2023-03-02T06:45:13.986Z"
   },
   {
    "duration": 208,
    "start_time": "2023-03-02T06:45:14.164Z"
   },
   {
    "duration": 182,
    "start_time": "2023-03-02T06:45:14.374Z"
   },
   {
    "duration": 177,
    "start_time": "2023-03-02T06:45:14.558Z"
   },
   {
    "duration": 23,
    "start_time": "2023-03-02T06:45:14.737Z"
   },
   {
    "duration": 20,
    "start_time": "2023-03-02T06:45:14.762Z"
   },
   {
    "duration": 16,
    "start_time": "2023-03-02T06:45:14.783Z"
   },
   {
    "duration": 199,
    "start_time": "2023-03-02T06:45:14.800Z"
   },
   {
    "duration": 177,
    "start_time": "2023-03-02T06:46:44.483Z"
   },
   {
    "duration": 11,
    "start_time": "2023-03-02T07:01:04.031Z"
   },
   {
    "duration": 158,
    "start_time": "2023-03-02T07:55:18.426Z"
   },
   {
    "duration": 158,
    "start_time": "2023-03-02T07:55:27.404Z"
   },
   {
    "duration": 152,
    "start_time": "2023-03-02T07:55:40.380Z"
   },
   {
    "duration": 173,
    "start_time": "2023-03-02T08:09:36.927Z"
   },
   {
    "duration": 168,
    "start_time": "2023-03-02T08:09:51.636Z"
   },
   {
    "duration": 181,
    "start_time": "2023-03-02T08:10:03.327Z"
   },
   {
    "duration": 126,
    "start_time": "2023-03-02T08:10:14.399Z"
   },
   {
    "duration": 131,
    "start_time": "2023-03-02T08:10:21.579Z"
   },
   {
    "duration": 197,
    "start_time": "2023-03-02T08:10:31.458Z"
   },
   {
    "duration": 223,
    "start_time": "2023-03-02T08:10:42.469Z"
   },
   {
    "duration": 461,
    "start_time": "2023-03-02T08:10:58.495Z"
   },
   {
    "duration": 166,
    "start_time": "2023-03-02T08:11:14.504Z"
   },
   {
    "duration": 170,
    "start_time": "2023-03-02T08:11:20.791Z"
   },
   {
    "duration": 163,
    "start_time": "2023-03-02T08:12:02.313Z"
   },
   {
    "duration": 195,
    "start_time": "2023-03-02T08:12:10.365Z"
   },
   {
    "duration": 178,
    "start_time": "2023-03-02T08:12:20.103Z"
   },
   {
    "duration": 220,
    "start_time": "2023-03-02T08:12:25.177Z"
   },
   {
    "duration": 144,
    "start_time": "2023-03-02T08:19:23.240Z"
   },
   {
    "duration": 93,
    "start_time": "2023-03-02T08:19:37.126Z"
   },
   {
    "duration": 120,
    "start_time": "2023-03-02T08:19:53.006Z"
   },
   {
    "duration": 111,
    "start_time": "2023-03-02T08:20:29.471Z"
   },
   {
    "duration": 186,
    "start_time": "2023-03-02T08:20:35.056Z"
   },
   {
    "duration": 196,
    "start_time": "2023-03-02T08:20:57.835Z"
   },
   {
    "duration": 161,
    "start_time": "2023-03-02T08:26:38.475Z"
   },
   {
    "duration": 7,
    "start_time": "2023-03-02T08:27:26.772Z"
   },
   {
    "duration": 95,
    "start_time": "2023-03-02T08:27:59.377Z"
   },
   {
    "duration": 10,
    "start_time": "2023-03-02T08:28:13.908Z"
   },
   {
    "duration": 7,
    "start_time": "2023-03-02T08:28:31.972Z"
   },
   {
    "duration": 167,
    "start_time": "2023-03-02T08:30:12.558Z"
   },
   {
    "duration": 171,
    "start_time": "2023-03-02T08:33:43.824Z"
   },
   {
    "duration": 167,
    "start_time": "2023-03-02T08:34:06.904Z"
   },
   {
    "duration": 190,
    "start_time": "2023-03-02T08:34:15.745Z"
   },
   {
    "duration": 122,
    "start_time": "2023-03-02T08:34:35.840Z"
   },
   {
    "duration": 164,
    "start_time": "2023-03-02T08:37:21.147Z"
   },
   {
    "duration": 171,
    "start_time": "2023-03-02T08:37:38.338Z"
   },
   {
    "duration": 169,
    "start_time": "2023-03-02T08:37:56.787Z"
   },
   {
    "duration": 168,
    "start_time": "2023-03-02T08:38:08.367Z"
   },
   {
    "duration": 174,
    "start_time": "2023-03-02T08:38:53.748Z"
   },
   {
    "duration": 171,
    "start_time": "2023-03-02T08:40:31.805Z"
   },
   {
    "duration": 172,
    "start_time": "2023-03-02T08:40:46.648Z"
   },
   {
    "duration": 171,
    "start_time": "2023-03-02T08:43:37.927Z"
   },
   {
    "duration": 129,
    "start_time": "2023-03-02T08:44:48.607Z"
   },
   {
    "duration": 128,
    "start_time": "2023-03-02T08:45:18.090Z"
   },
   {
    "duration": 139,
    "start_time": "2023-03-02T08:53:23.933Z"
   },
   {
    "duration": 110,
    "start_time": "2023-03-02T09:14:35.575Z"
   },
   {
    "duration": 168,
    "start_time": "2023-03-02T09:14:55.762Z"
   },
   {
    "duration": 166,
    "start_time": "2023-03-02T09:16:35.633Z"
   },
   {
    "duration": 169,
    "start_time": "2023-03-02T09:17:02.963Z"
   },
   {
    "duration": 171,
    "start_time": "2023-03-02T09:17:43.391Z"
   },
   {
    "duration": 165,
    "start_time": "2023-03-02T09:20:52.169Z"
   },
   {
    "duration": 18,
    "start_time": "2023-03-02T09:22:45.213Z"
   },
   {
    "duration": 383,
    "start_time": "2023-03-02T09:23:00.048Z"
   },
   {
    "duration": 267,
    "start_time": "2023-03-02T09:23:44.204Z"
   },
   {
    "duration": 434,
    "start_time": "2023-03-02T09:40:21.673Z"
   },
   {
    "duration": 328,
    "start_time": "2023-03-02T09:40:26.869Z"
   },
   {
    "duration": 303,
    "start_time": "2023-03-02T09:40:33.273Z"
   },
   {
    "duration": 299,
    "start_time": "2023-03-02T09:40:39.177Z"
   },
   {
    "duration": 315,
    "start_time": "2023-03-02T09:40:42.337Z"
   },
   {
    "duration": 324,
    "start_time": "2023-03-02T09:40:54.476Z"
   },
   {
    "duration": 627,
    "start_time": "2023-03-02T09:41:02.472Z"
   },
   {
    "duration": 309,
    "start_time": "2023-03-02T09:41:17.317Z"
   },
   {
    "duration": 217,
    "start_time": "2023-03-02T09:41:22.555Z"
   },
   {
    "duration": 224,
    "start_time": "2023-03-02T09:41:32.258Z"
   },
   {
    "duration": 223,
    "start_time": "2023-03-02T09:41:41.473Z"
   },
   {
    "duration": 313,
    "start_time": "2023-03-02T09:41:50.090Z"
   },
   {
    "duration": 245,
    "start_time": "2023-03-02T09:42:01.396Z"
   },
   {
    "duration": 150,
    "start_time": "2023-03-02T09:42:59.822Z"
   },
   {
    "duration": 1022,
    "start_time": "2023-03-02T09:51:46.895Z"
   },
   {
    "duration": 928,
    "start_time": "2023-03-02T09:52:22.664Z"
   },
   {
    "duration": 875,
    "start_time": "2023-03-02T09:52:28.906Z"
   },
   {
    "duration": 1163,
    "start_time": "2023-03-02T09:52:34.202Z"
   },
   {
    "duration": 980,
    "start_time": "2023-03-02T09:52:51.339Z"
   },
   {
    "duration": 140,
    "start_time": "2023-03-02T10:02:13.135Z"
   },
   {
    "duration": 895,
    "start_time": "2023-03-02T10:04:48.668Z"
   },
   {
    "duration": 839,
    "start_time": "2023-03-02T10:05:50.781Z"
   },
   {
    "duration": 170,
    "start_time": "2023-03-02T10:06:33.701Z"
   },
   {
    "duration": 128,
    "start_time": "2023-03-02T10:06:45.966Z"
   },
   {
    "duration": 20,
    "start_time": "2023-03-02T10:06:46.097Z"
   },
   {
    "duration": 2344,
    "start_time": "2023-03-02T10:06:46.119Z"
   },
   {
    "duration": 14,
    "start_time": "2023-03-02T10:06:48.469Z"
   },
   {
    "duration": 15,
    "start_time": "2023-03-02T10:06:48.486Z"
   },
   {
    "duration": 93,
    "start_time": "2023-03-02T10:06:48.503Z"
   },
   {
    "duration": 8,
    "start_time": "2023-03-02T10:06:48.598Z"
   },
   {
    "duration": 32,
    "start_time": "2023-03-02T10:06:48.607Z"
   },
   {
    "duration": 47,
    "start_time": "2023-03-02T10:06:48.641Z"
   },
   {
    "duration": 14,
    "start_time": "2023-03-02T10:06:48.690Z"
   },
   {
    "duration": 13,
    "start_time": "2023-03-02T10:06:48.706Z"
   },
   {
    "duration": 8,
    "start_time": "2023-03-02T10:06:48.721Z"
   },
   {
    "duration": 26,
    "start_time": "2023-03-02T10:06:48.731Z"
   },
   {
    "duration": 39,
    "start_time": "2023-03-02T10:06:48.761Z"
   },
   {
    "duration": 6,
    "start_time": "2023-03-02T10:06:48.802Z"
   },
   {
    "duration": 32,
    "start_time": "2023-03-02T10:06:48.810Z"
   },
   {
    "duration": 31,
    "start_time": "2023-03-02T10:06:48.844Z"
   },
   {
    "duration": 13,
    "start_time": "2023-03-02T10:06:48.877Z"
   },
   {
    "duration": 166,
    "start_time": "2023-03-02T10:06:48.891Z"
   },
   {
    "duration": 5,
    "start_time": "2023-03-02T10:06:49.059Z"
   },
   {
    "duration": 31,
    "start_time": "2023-03-02T10:06:49.065Z"
   },
   {
    "duration": 5,
    "start_time": "2023-03-02T10:06:49.097Z"
   },
   {
    "duration": 8,
    "start_time": "2023-03-02T10:06:49.103Z"
   },
   {
    "duration": 67,
    "start_time": "2023-03-02T10:06:49.113Z"
   },
   {
    "duration": 711,
    "start_time": "2023-03-02T10:06:49.181Z"
   },
   {
    "duration": 83,
    "start_time": "2023-03-02T10:06:49.894Z"
   },
   {
    "duration": 11,
    "start_time": "2023-03-02T10:06:49.979Z"
   },
   {
    "duration": 403,
    "start_time": "2023-03-02T10:06:49.991Z"
   },
   {
    "duration": 10,
    "start_time": "2023-03-02T10:06:50.396Z"
   },
   {
    "duration": 345,
    "start_time": "2023-03-02T10:06:50.408Z"
   },
   {
    "duration": 9,
    "start_time": "2023-03-02T10:06:50.755Z"
   },
   {
    "duration": 319,
    "start_time": "2023-03-02T10:06:50.767Z"
   },
   {
    "duration": 10,
    "start_time": "2023-03-02T10:06:51.089Z"
   },
   {
    "duration": 560,
    "start_time": "2023-03-02T10:06:51.101Z"
   },
   {
    "duration": 12,
    "start_time": "2023-03-02T10:06:51.662Z"
   },
   {
    "duration": 394,
    "start_time": "2023-03-02T10:06:51.676Z"
   },
   {
    "duration": 11,
    "start_time": "2023-03-02T10:06:52.072Z"
   },
   {
    "duration": 411,
    "start_time": "2023-03-02T10:06:52.085Z"
   },
   {
    "duration": 8,
    "start_time": "2023-03-02T10:06:52.498Z"
   },
   {
    "duration": 350,
    "start_time": "2023-03-02T10:06:52.507Z"
   },
   {
    "duration": 17,
    "start_time": "2023-03-02T10:06:52.869Z"
   },
   {
    "duration": 332,
    "start_time": "2023-03-02T10:06:52.888Z"
   },
   {
    "duration": 12,
    "start_time": "2023-03-02T10:06:53.222Z"
   },
   {
    "duration": 497,
    "start_time": "2023-03-02T10:06:53.248Z"
   },
   {
    "duration": 16,
    "start_time": "2023-03-02T10:06:53.748Z"
   },
   {
    "duration": 382,
    "start_time": "2023-03-02T10:06:53.768Z"
   },
   {
    "duration": 12,
    "start_time": "2023-03-02T10:06:54.151Z"
   },
   {
    "duration": 313,
    "start_time": "2023-03-02T10:06:54.172Z"
   },
   {
    "duration": 13,
    "start_time": "2023-03-02T10:06:54.486Z"
   },
   {
    "duration": 411,
    "start_time": "2023-03-02T10:06:54.501Z"
   },
   {
    "duration": 10,
    "start_time": "2023-03-02T10:06:54.914Z"
   },
   {
    "duration": 801,
    "start_time": "2023-03-02T10:06:54.926Z"
   },
   {
    "duration": 19,
    "start_time": "2023-03-02T10:06:55.730Z"
   },
   {
    "duration": 392,
    "start_time": "2023-03-02T10:06:55.753Z"
   },
   {
    "duration": 20,
    "start_time": "2023-03-02T10:06:56.148Z"
   },
   {
    "duration": 13,
    "start_time": "2023-03-02T10:06:56.174Z"
   },
   {
    "duration": 8,
    "start_time": "2023-03-02T10:06:56.189Z"
   },
   {
    "duration": 380,
    "start_time": "2023-03-02T10:06:56.199Z"
   },
   {
    "duration": 344,
    "start_time": "2023-03-02T10:06:56.581Z"
   },
   {
    "duration": 28,
    "start_time": "2023-03-02T10:06:56.927Z"
   },
   {
    "duration": 174,
    "start_time": "2023-03-02T10:06:56.959Z"
   },
   {
    "duration": 183,
    "start_time": "2023-03-02T10:06:57.135Z"
   },
   {
    "duration": 180,
    "start_time": "2023-03-02T10:06:57.320Z"
   },
   {
    "duration": 217,
    "start_time": "2023-03-02T10:06:57.502Z"
   },
   {
    "duration": 50,
    "start_time": "2023-03-02T10:06:57.721Z"
   },
   {
    "duration": 18,
    "start_time": "2023-03-02T10:06:57.773Z"
   },
   {
    "duration": 195,
    "start_time": "2023-03-02T10:06:57.793Z"
   },
   {
    "duration": 183,
    "start_time": "2023-03-02T10:06:57.990Z"
   },
   {
    "duration": 178,
    "start_time": "2023-03-02T10:06:58.175Z"
   },
   {
    "duration": 189,
    "start_time": "2023-03-02T10:06:58.355Z"
   },
   {
    "duration": 26,
    "start_time": "2023-03-02T10:06:58.546Z"
   },
   {
    "duration": 22,
    "start_time": "2023-03-02T10:06:58.577Z"
   },
   {
    "duration": 13,
    "start_time": "2023-03-02T10:06:58.601Z"
   },
   {
    "duration": 219,
    "start_time": "2023-03-02T10:06:58.616Z"
   },
   {
    "duration": 0,
    "start_time": "2023-03-02T10:06:58.839Z"
   },
   {
    "duration": 0,
    "start_time": "2023-03-02T10:06:58.847Z"
   },
   {
    "duration": 0,
    "start_time": "2023-03-02T10:06:58.851Z"
   },
   {
    "duration": 0,
    "start_time": "2023-03-02T10:06:58.852Z"
   },
   {
    "duration": 0,
    "start_time": "2023-03-02T10:06:58.853Z"
   },
   {
    "duration": 0,
    "start_time": "2023-03-02T10:06:58.857Z"
   },
   {
    "duration": 0,
    "start_time": "2023-03-02T10:06:58.859Z"
   },
   {
    "duration": 1,
    "start_time": "2023-03-02T10:06:58.865Z"
   },
   {
    "duration": 0,
    "start_time": "2023-03-02T10:06:58.867Z"
   },
   {
    "duration": 1,
    "start_time": "2023-03-02T10:06:58.867Z"
   },
   {
    "duration": 0,
    "start_time": "2023-03-02T10:06:58.868Z"
   },
   {
    "duration": 0,
    "start_time": "2023-03-02T10:06:58.869Z"
   },
   {
    "duration": 0,
    "start_time": "2023-03-02T10:06:58.870Z"
   },
   {
    "duration": 0,
    "start_time": "2023-03-02T10:06:58.871Z"
   },
   {
    "duration": 0,
    "start_time": "2023-03-02T10:06:58.872Z"
   },
   {
    "duration": 0,
    "start_time": "2023-03-02T10:06:58.873Z"
   },
   {
    "duration": 1,
    "start_time": "2023-03-02T10:06:58.873Z"
   },
   {
    "duration": 0,
    "start_time": "2023-03-02T10:06:58.874Z"
   },
   {
    "duration": 0,
    "start_time": "2023-03-02T10:06:58.877Z"
   },
   {
    "duration": 0,
    "start_time": "2023-03-02T10:06:58.877Z"
   },
   {
    "duration": 0,
    "start_time": "2023-03-02T10:06:58.878Z"
   },
   {
    "duration": 0,
    "start_time": "2023-03-02T10:06:58.879Z"
   },
   {
    "duration": 0,
    "start_time": "2023-03-02T10:06:58.881Z"
   },
   {
    "duration": 0,
    "start_time": "2023-03-02T10:06:58.882Z"
   },
   {
    "duration": 0,
    "start_time": "2023-03-02T10:06:58.883Z"
   },
   {
    "duration": 0,
    "start_time": "2023-03-02T10:06:58.884Z"
   },
   {
    "duration": 0,
    "start_time": "2023-03-02T10:06:58.885Z"
   },
   {
    "duration": 0,
    "start_time": "2023-03-02T10:06:58.887Z"
   },
   {
    "duration": 0,
    "start_time": "2023-03-02T10:06:58.888Z"
   },
   {
    "duration": 0,
    "start_time": "2023-03-02T10:06:58.890Z"
   },
   {
    "duration": 0,
    "start_time": "2023-03-02T10:06:58.891Z"
   },
   {
    "duration": 0,
    "start_time": "2023-03-02T10:06:58.892Z"
   },
   {
    "duration": 0,
    "start_time": "2023-03-02T10:06:58.893Z"
   },
   {
    "duration": 0,
    "start_time": "2023-03-02T10:06:58.895Z"
   },
   {
    "duration": 0,
    "start_time": "2023-03-02T10:06:58.896Z"
   },
   {
    "duration": 0,
    "start_time": "2023-03-02T10:06:58.898Z"
   },
   {
    "duration": 0,
    "start_time": "2023-03-02T10:06:58.899Z"
   },
   {
    "duration": 0,
    "start_time": "2023-03-02T10:06:58.900Z"
   },
   {
    "duration": 0,
    "start_time": "2023-03-02T10:06:58.901Z"
   },
   {
    "duration": 0,
    "start_time": "2023-03-02T10:06:58.903Z"
   },
   {
    "duration": 0,
    "start_time": "2023-03-02T10:06:58.950Z"
   },
   {
    "duration": 0,
    "start_time": "2023-03-02T10:06:58.951Z"
   },
   {
    "duration": 0,
    "start_time": "2023-03-02T10:06:58.952Z"
   },
   {
    "duration": 0,
    "start_time": "2023-03-02T10:06:58.954Z"
   },
   {
    "duration": 0,
    "start_time": "2023-03-02T10:06:58.955Z"
   },
   {
    "duration": 0,
    "start_time": "2023-03-02T10:06:58.956Z"
   },
   {
    "duration": 0,
    "start_time": "2023-03-02T10:06:58.961Z"
   },
   {
    "duration": 0,
    "start_time": "2023-03-02T10:06:58.962Z"
   },
   {
    "duration": 0,
    "start_time": "2023-03-02T10:06:58.964Z"
   },
   {
    "duration": 0,
    "start_time": "2023-03-02T10:06:58.965Z"
   },
   {
    "duration": 0,
    "start_time": "2023-03-02T10:06:58.966Z"
   },
   {
    "duration": 0,
    "start_time": "2023-03-02T10:06:58.968Z"
   },
   {
    "duration": 0,
    "start_time": "2023-03-02T10:06:58.969Z"
   },
   {
    "duration": 0,
    "start_time": "2023-03-02T10:06:58.970Z"
   },
   {
    "duration": 0,
    "start_time": "2023-03-02T10:06:58.972Z"
   },
   {
    "duration": 0,
    "start_time": "2023-03-02T10:06:58.973Z"
   },
   {
    "duration": 0,
    "start_time": "2023-03-02T10:06:58.974Z"
   },
   {
    "duration": 0,
    "start_time": "2023-03-02T10:06:58.976Z"
   },
   {
    "duration": 0,
    "start_time": "2023-03-02T10:06:58.977Z"
   },
   {
    "duration": 0,
    "start_time": "2023-03-02T10:06:58.978Z"
   },
   {
    "duration": 0,
    "start_time": "2023-03-02T10:06:58.979Z"
   },
   {
    "duration": 0,
    "start_time": "2023-03-02T10:06:58.981Z"
   },
   {
    "duration": 0,
    "start_time": "2023-03-02T10:06:58.982Z"
   },
   {
    "duration": 0,
    "start_time": "2023-03-02T10:06:58.983Z"
   },
   {
    "duration": 1,
    "start_time": "2023-03-02T10:06:58.984Z"
   },
   {
    "duration": 0,
    "start_time": "2023-03-02T10:06:58.985Z"
   },
   {
    "duration": 0,
    "start_time": "2023-03-02T10:06:58.986Z"
   },
   {
    "duration": 0,
    "start_time": "2023-03-02T10:06:58.988Z"
   },
   {
    "duration": 0,
    "start_time": "2023-03-02T10:06:58.989Z"
   },
   {
    "duration": 0,
    "start_time": "2023-03-02T10:06:58.990Z"
   },
   {
    "duration": 0,
    "start_time": "2023-03-02T10:06:58.992Z"
   },
   {
    "duration": 0,
    "start_time": "2023-03-02T10:06:58.993Z"
   },
   {
    "duration": 0,
    "start_time": "2023-03-02T10:06:58.994Z"
   },
   {
    "duration": 0,
    "start_time": "2023-03-02T10:06:58.996Z"
   },
   {
    "duration": 0,
    "start_time": "2023-03-02T10:06:59.049Z"
   },
   {
    "duration": 0,
    "start_time": "2023-03-02T10:06:59.050Z"
   },
   {
    "duration": 0,
    "start_time": "2023-03-02T10:06:59.051Z"
   },
   {
    "duration": 0,
    "start_time": "2023-03-02T10:06:59.052Z"
   },
   {
    "duration": 0,
    "start_time": "2023-03-02T10:06:59.053Z"
   },
   {
    "duration": 0,
    "start_time": "2023-03-02T10:06:59.057Z"
   },
   {
    "duration": 0,
    "start_time": "2023-03-02T10:06:59.058Z"
   },
   {
    "duration": 0,
    "start_time": "2023-03-02T10:06:59.059Z"
   },
   {
    "duration": 0,
    "start_time": "2023-03-02T10:06:59.060Z"
   },
   {
    "duration": 0,
    "start_time": "2023-03-02T10:06:59.062Z"
   },
   {
    "duration": 0,
    "start_time": "2023-03-02T10:06:59.063Z"
   },
   {
    "duration": 0,
    "start_time": "2023-03-02T10:06:59.064Z"
   },
   {
    "duration": 0,
    "start_time": "2023-03-02T10:06:59.065Z"
   },
   {
    "duration": 0,
    "start_time": "2023-03-02T10:06:59.066Z"
   },
   {
    "duration": 1,
    "start_time": "2023-03-02T10:06:59.066Z"
   },
   {
    "duration": 1,
    "start_time": "2023-03-02T10:06:59.067Z"
   },
   {
    "duration": 1,
    "start_time": "2023-03-02T10:06:59.068Z"
   },
   {
    "duration": 0,
    "start_time": "2023-03-02T10:06:59.069Z"
   },
   {
    "duration": 0,
    "start_time": "2023-03-02T10:06:59.070Z"
   },
   {
    "duration": 0,
    "start_time": "2023-03-02T10:06:59.078Z"
   },
   {
    "duration": 0,
    "start_time": "2023-03-02T10:06:59.079Z"
   },
   {
    "duration": 0,
    "start_time": "2023-03-02T10:06:59.080Z"
   },
   {
    "duration": 0,
    "start_time": "2023-03-02T10:06:59.081Z"
   },
   {
    "duration": 0,
    "start_time": "2023-03-02T10:06:59.083Z"
   },
   {
    "duration": 0,
    "start_time": "2023-03-02T10:06:59.084Z"
   },
   {
    "duration": 0,
    "start_time": "2023-03-02T10:06:59.086Z"
   },
   {
    "duration": 0,
    "start_time": "2023-03-02T10:06:59.087Z"
   },
   {
    "duration": 0,
    "start_time": "2023-03-02T10:06:59.089Z"
   },
   {
    "duration": 0,
    "start_time": "2023-03-02T10:06:59.090Z"
   },
   {
    "duration": 0,
    "start_time": "2023-03-02T10:06:59.090Z"
   },
   {
    "duration": 0,
    "start_time": "2023-03-02T10:06:59.091Z"
   },
   {
    "duration": 0,
    "start_time": "2023-03-02T10:06:59.092Z"
   },
   {
    "duration": 0,
    "start_time": "2023-03-02T10:06:59.095Z"
   },
   {
    "duration": 0,
    "start_time": "2023-03-02T10:06:59.096Z"
   },
   {
    "duration": 0,
    "start_time": "2023-03-02T10:06:59.150Z"
   },
   {
    "duration": 0,
    "start_time": "2023-03-02T10:06:59.151Z"
   },
   {
    "duration": 0,
    "start_time": "2023-03-02T10:06:59.152Z"
   },
   {
    "duration": 0,
    "start_time": "2023-03-02T10:06:59.152Z"
   },
   {
    "duration": 0,
    "start_time": "2023-03-02T10:06:59.155Z"
   },
   {
    "duration": 0,
    "start_time": "2023-03-02T10:06:59.156Z"
   },
   {
    "duration": 0,
    "start_time": "2023-03-02T10:06:59.157Z"
   },
   {
    "duration": 0,
    "start_time": "2023-03-02T10:06:59.158Z"
   },
   {
    "duration": 0,
    "start_time": "2023-03-02T10:06:59.161Z"
   },
   {
    "duration": 0,
    "start_time": "2023-03-02T10:06:59.162Z"
   },
   {
    "duration": 0,
    "start_time": "2023-03-02T10:06:59.163Z"
   },
   {
    "duration": 0,
    "start_time": "2023-03-02T10:06:59.164Z"
   },
   {
    "duration": 0,
    "start_time": "2023-03-02T10:06:59.167Z"
   },
   {
    "duration": 0,
    "start_time": "2023-03-02T10:06:59.168Z"
   },
   {
    "duration": 0,
    "start_time": "2023-03-02T10:06:59.169Z"
   },
   {
    "duration": 1,
    "start_time": "2023-03-02T10:06:59.170Z"
   },
   {
    "duration": 0,
    "start_time": "2023-03-02T10:06:59.172Z"
   },
   {
    "duration": 0,
    "start_time": "2023-03-02T10:06:59.173Z"
   },
   {
    "duration": 0,
    "start_time": "2023-03-02T10:06:59.174Z"
   },
   {
    "duration": 0,
    "start_time": "2023-03-02T10:06:59.175Z"
   },
   {
    "duration": 0,
    "start_time": "2023-03-02T10:06:59.176Z"
   },
   {
    "duration": 0,
    "start_time": "2023-03-02T10:06:59.177Z"
   },
   {
    "duration": 0,
    "start_time": "2023-03-02T10:06:59.178Z"
   },
   {
    "duration": 0,
    "start_time": "2023-03-02T10:06:59.180Z"
   },
   {
    "duration": 0,
    "start_time": "2023-03-02T10:06:59.181Z"
   },
   {
    "duration": 0,
    "start_time": "2023-03-02T10:06:59.183Z"
   },
   {
    "duration": 0,
    "start_time": "2023-03-02T10:06:59.184Z"
   },
   {
    "duration": 0,
    "start_time": "2023-03-02T10:06:59.186Z"
   },
   {
    "duration": 0,
    "start_time": "2023-03-02T10:06:59.187Z"
   },
   {
    "duration": 0,
    "start_time": "2023-03-02T10:06:59.188Z"
   },
   {
    "duration": 0,
    "start_time": "2023-03-02T10:06:59.190Z"
   },
   {
    "duration": 0,
    "start_time": "2023-03-02T10:06:59.192Z"
   },
   {
    "duration": 0,
    "start_time": "2023-03-02T10:06:59.193Z"
   },
   {
    "duration": 0,
    "start_time": "2023-03-02T10:06:59.195Z"
   },
   {
    "duration": 0,
    "start_time": "2023-03-02T10:06:59.196Z"
   },
   {
    "duration": 0,
    "start_time": "2023-03-02T10:06:59.250Z"
   },
   {
    "duration": 0,
    "start_time": "2023-03-02T10:06:59.250Z"
   },
   {
    "duration": 0,
    "start_time": "2023-03-02T10:06:59.251Z"
   },
   {
    "duration": 0,
    "start_time": "2023-03-02T10:06:59.251Z"
   },
   {
    "duration": 0,
    "start_time": "2023-03-02T10:06:59.252Z"
   },
   {
    "duration": 279,
    "start_time": "2023-03-02T10:07:52.134Z"
   },
   {
    "duration": 271,
    "start_time": "2023-03-02T10:08:03.036Z"
   },
   {
    "duration": 211,
    "start_time": "2023-03-02T10:08:19.405Z"
   },
   {
    "duration": 475,
    "start_time": "2023-03-02T10:08:59.065Z"
   },
   {
    "duration": 257,
    "start_time": "2023-03-02T10:09:04.037Z"
   },
   {
    "duration": 258,
    "start_time": "2023-03-02T10:09:09.509Z"
   },
   {
    "duration": 210,
    "start_time": "2023-03-02T10:09:20.766Z"
   },
   {
    "duration": 248,
    "start_time": "2023-03-02T10:09:28.663Z"
   },
   {
    "duration": 219,
    "start_time": "2023-03-02T10:14:29.266Z"
   },
   {
    "duration": 268,
    "start_time": "2023-03-02T10:14:37.621Z"
   },
   {
    "duration": 217,
    "start_time": "2023-03-02T10:14:42.349Z"
   },
   {
    "duration": 752,
    "start_time": "2023-03-02T10:17:29.161Z"
   },
   {
    "duration": 16,
    "start_time": "2023-03-02T10:17:29.915Z"
   },
   {
    "duration": 1828,
    "start_time": "2023-03-02T10:17:29.935Z"
   },
   {
    "duration": 11,
    "start_time": "2023-03-02T10:17:31.765Z"
   },
   {
    "duration": 60,
    "start_time": "2023-03-02T10:17:31.778Z"
   },
   {
    "duration": 84,
    "start_time": "2023-03-02T10:17:31.840Z"
   },
   {
    "duration": 9,
    "start_time": "2023-03-02T10:17:31.926Z"
   },
   {
    "duration": 53,
    "start_time": "2023-03-02T10:17:31.948Z"
   },
   {
    "duration": 40,
    "start_time": "2023-03-02T10:17:32.003Z"
   },
   {
    "duration": 14,
    "start_time": "2023-03-02T10:17:32.045Z"
   },
   {
    "duration": 30,
    "start_time": "2023-03-02T10:17:32.061Z"
   },
   {
    "duration": 32,
    "start_time": "2023-03-02T10:17:32.093Z"
   },
   {
    "duration": 42,
    "start_time": "2023-03-02T10:17:32.127Z"
   },
   {
    "duration": 42,
    "start_time": "2023-03-02T10:17:32.173Z"
   },
   {
    "duration": 24,
    "start_time": "2023-03-02T10:17:32.217Z"
   },
   {
    "duration": 28,
    "start_time": "2023-03-02T10:17:32.242Z"
   },
   {
    "duration": 45,
    "start_time": "2023-03-02T10:17:32.272Z"
   },
   {
    "duration": 9,
    "start_time": "2023-03-02T10:17:32.320Z"
   },
   {
    "duration": 93,
    "start_time": "2023-03-02T10:17:32.330Z"
   },
   {
    "duration": 4,
    "start_time": "2023-03-02T10:17:32.424Z"
   },
   {
    "duration": 40,
    "start_time": "2023-03-02T10:17:32.430Z"
   },
   {
    "duration": 20,
    "start_time": "2023-03-02T10:17:32.471Z"
   },
   {
    "duration": 13,
    "start_time": "2023-03-02T10:17:32.492Z"
   },
   {
    "duration": 23,
    "start_time": "2023-03-02T10:17:32.507Z"
   },
   {
    "duration": 344,
    "start_time": "2023-03-02T10:17:32.532Z"
   },
   {
    "duration": 28,
    "start_time": "2023-03-02T10:17:32.878Z"
   },
   {
    "duration": 8,
    "start_time": "2023-03-02T10:17:32.910Z"
   },
   {
    "duration": 473,
    "start_time": "2023-03-02T10:17:32.921Z"
   },
   {
    "duration": 8,
    "start_time": "2023-03-02T10:17:33.395Z"
   },
   {
    "duration": 286,
    "start_time": "2023-03-02T10:17:33.405Z"
   },
   {
    "duration": 8,
    "start_time": "2023-03-02T10:17:33.692Z"
   },
   {
    "duration": 312,
    "start_time": "2023-03-02T10:17:33.702Z"
   },
   {
    "duration": 10,
    "start_time": "2023-03-02T10:17:34.015Z"
   },
   {
    "duration": 334,
    "start_time": "2023-03-02T10:17:34.026Z"
   },
   {
    "duration": 8,
    "start_time": "2023-03-02T10:17:34.362Z"
   },
   {
    "duration": 293,
    "start_time": "2023-03-02T10:17:34.371Z"
   },
   {
    "duration": 8,
    "start_time": "2023-03-02T10:17:34.666Z"
   },
   {
    "duration": 273,
    "start_time": "2023-03-02T10:17:34.676Z"
   },
   {
    "duration": 7,
    "start_time": "2023-03-02T10:17:34.963Z"
   },
   {
    "duration": 406,
    "start_time": "2023-03-02T10:17:34.972Z"
   },
   {
    "duration": 11,
    "start_time": "2023-03-02T10:17:35.379Z"
   },
   {
    "duration": 280,
    "start_time": "2023-03-02T10:17:35.391Z"
   },
   {
    "duration": 7,
    "start_time": "2023-03-02T10:17:35.673Z"
   },
   {
    "duration": 303,
    "start_time": "2023-03-02T10:17:35.682Z"
   },
   {
    "duration": 9,
    "start_time": "2023-03-02T10:17:35.987Z"
   },
   {
    "duration": 309,
    "start_time": "2023-03-02T10:17:35.998Z"
   },
   {
    "duration": 9,
    "start_time": "2023-03-02T10:17:36.309Z"
   },
   {
    "duration": 285,
    "start_time": "2023-03-02T10:17:36.320Z"
   },
   {
    "duration": 9,
    "start_time": "2023-03-02T10:17:36.606Z"
   },
   {
    "duration": 372,
    "start_time": "2023-03-02T10:17:36.616Z"
   },
   {
    "duration": 8,
    "start_time": "2023-03-02T10:17:36.990Z"
   },
   {
    "duration": 297,
    "start_time": "2023-03-02T10:17:36.999Z"
   },
   {
    "duration": 8,
    "start_time": "2023-03-02T10:17:37.298Z"
   },
   {
    "duration": 285,
    "start_time": "2023-03-02T10:17:37.307Z"
   },
   {
    "duration": 10,
    "start_time": "2023-03-02T10:17:37.593Z"
   },
   {
    "duration": 6,
    "start_time": "2023-03-02T10:17:37.604Z"
   },
   {
    "duration": 7,
    "start_time": "2023-03-02T10:17:37.611Z"
   },
   {
    "duration": 314,
    "start_time": "2023-03-02T10:17:37.620Z"
   },
   {
    "duration": 261,
    "start_time": "2023-03-02T10:17:37.935Z"
   },
   {
    "duration": 18,
    "start_time": "2023-03-02T10:17:38.197Z"
   },
   {
    "duration": 174,
    "start_time": "2023-03-02T10:17:38.216Z"
   },
   {
    "duration": 181,
    "start_time": "2023-03-02T10:17:38.392Z"
   },
   {
    "duration": 231,
    "start_time": "2023-03-02T10:17:38.575Z"
   },
   {
    "duration": 175,
    "start_time": "2023-03-02T10:17:38.808Z"
   },
   {
    "duration": 21,
    "start_time": "2023-03-02T10:17:38.984Z"
   },
   {
    "duration": 17,
    "start_time": "2023-03-02T10:17:39.007Z"
   },
   {
    "duration": 148,
    "start_time": "2023-03-02T10:17:39.025Z"
   },
   {
    "duration": 162,
    "start_time": "2023-03-02T10:17:39.175Z"
   },
   {
    "duration": 165,
    "start_time": "2023-03-02T10:17:39.339Z"
   },
   {
    "duration": 159,
    "start_time": "2023-03-02T10:17:39.506Z"
   },
   {
    "duration": 15,
    "start_time": "2023-03-02T10:17:39.666Z"
   },
   {
    "duration": 22,
    "start_time": "2023-03-02T10:17:39.683Z"
   },
   {
    "duration": 13,
    "start_time": "2023-03-02T10:17:39.706Z"
   },
   {
    "duration": 172,
    "start_time": "2023-03-02T10:17:39.721Z"
   },
   {
    "duration": 262,
    "start_time": "2023-03-02T10:18:17.963Z"
   },
   {
    "duration": 276,
    "start_time": "2023-03-02T10:18:32.560Z"
   },
   {
    "duration": 374,
    "start_time": "2023-03-02T10:18:39.475Z"
   },
   {
    "duration": 271,
    "start_time": "2023-03-02T10:18:51.054Z"
   },
   {
    "duration": 281,
    "start_time": "2023-03-02T10:20:30.261Z"
   },
   {
    "duration": 282,
    "start_time": "2023-03-02T10:20:37.759Z"
   },
   {
    "duration": 296,
    "start_time": "2023-03-02T10:20:51.866Z"
   },
   {
    "duration": 162,
    "start_time": "2023-03-02T10:21:11.736Z"
   },
   {
    "duration": 282,
    "start_time": "2023-03-02T10:24:25.540Z"
   },
   {
    "duration": 166,
    "start_time": "2023-03-02T10:24:38.368Z"
   },
   {
    "duration": 194,
    "start_time": "2023-03-02T10:27:32.335Z"
   },
   {
    "duration": 17,
    "start_time": "2023-03-02T10:32:09.283Z"
   },
   {
    "duration": 208,
    "start_time": "2023-03-02T10:32:53.740Z"
   },
   {
    "duration": 197,
    "start_time": "2023-03-02T10:33:03.212Z"
   },
   {
    "duration": 16,
    "start_time": "2023-03-02T10:33:17.388Z"
   },
   {
    "duration": 230,
    "start_time": "2023-03-02T10:34:38.642Z"
   },
   {
    "duration": 214,
    "start_time": "2023-03-02T10:38:15.392Z"
   },
   {
    "duration": 903,
    "start_time": "2023-03-02T10:40:37.757Z"
   },
   {
    "duration": 178,
    "start_time": "2023-03-02T10:40:57.189Z"
   },
   {
    "duration": 166,
    "start_time": "2023-03-02T10:41:19.698Z"
   },
   {
    "duration": 165,
    "start_time": "2023-03-02T10:41:51.574Z"
   }
  ],
  "kernelspec": {
   "display_name": "Python 3 (ipykernel)",
   "language": "python",
   "name": "python3"
  },
  "language_info": {
   "codemirror_mode": {
    "name": "ipython",
    "version": 3
   },
   "file_extension": ".py",
   "mimetype": "text/x-python",
   "name": "python",
   "nbconvert_exporter": "python",
   "pygments_lexer": "ipython3",
   "version": "3.9.13"
  },
  "toc": {
   "base_numbering": 1,
   "nav_menu": {},
   "number_sections": true,
   "sideBar": true,
   "skip_h1_title": true,
   "title_cell": "Table of Contents",
   "title_sidebar": "Contents",
   "toc_cell": false,
   "toc_position": {
    "height": "calc(100% - 180px)",
    "left": "10px",
    "top": "150px",
    "width": "378.663px"
   },
   "toc_section_display": true,
   "toc_window_display": true
  }
 },
 "nbformat": 4,
 "nbformat_minor": 2
}
