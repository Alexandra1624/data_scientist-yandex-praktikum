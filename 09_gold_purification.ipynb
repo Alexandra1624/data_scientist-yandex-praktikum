{
 "cells": [
  {
   "cell_type": "markdown",
   "metadata": {
    "toc": true
   },
   "source": [
    "<h1>Содержание<span class=\"tocSkip\"></span></h1>\n",
    "<div class=\"toc\"><ul class=\"toc-item\"><li><span><a href=\"#Подготовка-данных\" data-toc-modified-id=\"Подготовка-данных-1\"><span class=\"toc-item-num\">1&nbsp;&nbsp;</span>Подготовка данных</a></span><ul class=\"toc-item\"><li><span><a href=\"#Откройте-файлы-и-изучите-их\" data-toc-modified-id=\"Откройте-файлы-и-изучите-их-1.1\"><span class=\"toc-item-num\">1.1&nbsp;&nbsp;</span>Откройте файлы и изучите их</a></span><ul class=\"toc-item\"><li><span><a href=\"#Выборка-train_data\" data-toc-modified-id=\"Выборка-train_data-1.1.1\"><span class=\"toc-item-num\">1.1.1&nbsp;&nbsp;</span>Выборка train_data</a></span></li><li><span><a href=\"#Выборка-test_data\" data-toc-modified-id=\"Выборка-test_data-1.1.2\"><span class=\"toc-item-num\">1.1.2&nbsp;&nbsp;</span>Выборка test_data</a></span></li><li><span><a href=\"#Выборка-full_data\" data-toc-modified-id=\"Выборка-full_data-1.1.3\"><span class=\"toc-item-num\">1.1.3&nbsp;&nbsp;</span>Выборка full_data</a></span></li></ul></li><li><span><a href=\"#Проверим,-что-эффективность-обогащения-рассчитана-правильно.\" data-toc-modified-id=\"Проверим,-что-эффективность-обогащения-рассчитана-правильно.-1.2\"><span class=\"toc-item-num\">1.2&nbsp;&nbsp;</span>Проверим, что эффективность обогащения рассчитана правильно.</a></span></li><li><span><a href=\"#Проанализируйем-признаки,-недоступные-в-тестовой-выборке.\" data-toc-modified-id=\"Проанализируйем-признаки,-недоступные-в-тестовой-выборке.-1.3\"><span class=\"toc-item-num\">1.3&nbsp;&nbsp;</span>Проанализируйем признаки, недоступные в тестовой выборке.</a></span></li><li><span><a href=\"#Предобработка-данных\" data-toc-modified-id=\"Предобработка-данных-1.4\"><span class=\"toc-item-num\">1.4&nbsp;&nbsp;</span>Предобработка данных</a></span><ul class=\"toc-item\"><li><span><a href=\"#Проверяем-полные-дубликаты\" data-toc-modified-id=\"Проверяем-полные-дубликаты-1.4.1\"><span class=\"toc-item-num\">1.4.1&nbsp;&nbsp;</span>Проверяем полные дубликаты</a></span></li><li><span><a href=\"#Отсутствующие-значения\" data-toc-modified-id=\"Отсутствующие-значения-1.4.2\"><span class=\"toc-item-num\">1.4.2&nbsp;&nbsp;</span>Отсутствующие значения</a></span><ul class=\"toc-item\"><li><span><a href=\"#Выборка-train_data\" data-toc-modified-id=\"Выборка-train_data-1.4.2.1\"><span class=\"toc-item-num\">1.4.2.1&nbsp;&nbsp;</span>Выборка train_data</a></span></li><li><span><a href=\"#Выборка-test_data\" data-toc-modified-id=\"Выборка-test_data-1.4.2.2\"><span class=\"toc-item-num\">1.4.2.2&nbsp;&nbsp;</span>Выборка test_data</a></span></li><li><span><a href=\"#Выборка-full_data\" data-toc-modified-id=\"Выборка-full_data-1.4.2.3\"><span class=\"toc-item-num\">1.4.2.3&nbsp;&nbsp;</span>Выборка full_data</a></span></li></ul></li></ul></li></ul></li><li><span><a href=\"#Анализ-данных\" data-toc-modified-id=\"Анализ-данных-2\"><span class=\"toc-item-num\">2&nbsp;&nbsp;</span>Анализ данных</a></span><ul class=\"toc-item\"><li><span><a href=\"#Изменение-концентрации-металлов-на-различных-этапах.\" data-toc-modified-id=\"Изменение-концентрации-металлов-на-различных-этапах.-2.1\"><span class=\"toc-item-num\">2.1&nbsp;&nbsp;</span>Изменение концентрации металлов на различных этапах.</a></span></li><li><span><a href=\"#Сравнение-распределения-гранул-исходного-сырья-на-обучающей-и-тестовой-выборках.\" data-toc-modified-id=\"Сравнение-распределения-гранул-исходного-сырья-на-обучающей-и-тестовой-выборках.-2.2\"><span class=\"toc-item-num\">2.2&nbsp;&nbsp;</span>Сравнение распределения гранул исходного сырья на обучающей и тестовой выборках.</a></span></li><li><span><a href=\"#Исследование-суммарной-концентрации-металлов-на-разных-стадиях.\" data-toc-modified-id=\"Исследование-суммарной-концентрации-металлов-на-разных-стадиях.-2.3\"><span class=\"toc-item-num\">2.3&nbsp;&nbsp;</span>Исследование суммарной концентрации металлов на разных стадиях.</a></span></li></ul></li><li><span><a href=\"#Модель\" data-toc-modified-id=\"Модель-3\"><span class=\"toc-item-num\">3&nbsp;&nbsp;</span>Модель</a></span><ul class=\"toc-item\"><li><span><a href=\"#Функция-для-вычисления-итоговой-sMAPE\" data-toc-modified-id=\"Функция-для-вычисления-итоговой-sMAPE-3.1\"><span class=\"toc-item-num\">3.1&nbsp;&nbsp;</span>Функция для вычисления итоговой sMAPE</a></span></li><li><span><a href=\"#Обучение-разных-моделей-и-оценка-их-качества-кросс-валидацией\" data-toc-modified-id=\"Обучение-разных-моделей-и-оценка-их-качества-кросс-валидацией-3.2\"><span class=\"toc-item-num\">3.2&nbsp;&nbsp;</span>Обучение разных моделей и оценка их качества кросс-валидацией</a></span><ul class=\"toc-item\"><li><span><a href=\"#Подготовка-данных-для-моделей\" data-toc-modified-id=\"Подготовка-данных-для-моделей-3.2.1\"><span class=\"toc-item-num\">3.2.1&nbsp;&nbsp;</span>Подготовка данных для моделей</a></span></li><li><span><a href=\"#Проверим-лучшую-модель-на-тестовой-выборке\" data-toc-modified-id=\"Проверим-лучшую-модель-на-тестовой-выборке-3.2.2\"><span class=\"toc-item-num\">3.2.2&nbsp;&nbsp;</span>Проверим лучшую модель на тестовой выборке</a></span></li><li><span><a href=\"#Проверим-лучшую-модель-на-адекватность\" data-toc-modified-id=\"Проверим-лучшую-модель-на-адекватность-3.2.3\"><span class=\"toc-item-num\">3.2.3&nbsp;&nbsp;</span>Проверим лучшую модель на адекватность</a></span></li></ul></li></ul></li><li><span><a href=\"#Итоговые-выводы\" data-toc-modified-id=\"Итоговые-выводы-4\"><span class=\"toc-item-num\">4&nbsp;&nbsp;</span>Итоговые выводы</a></span></li></ul></div>"
   ]
  },
  {
   "cell_type": "markdown",
   "metadata": {},
   "source": [
    "# Восстановление золота из руды"
   ]
  },
  {
   "cell_type": "markdown",
   "metadata": {},
   "source": [
    "Подготовьте прототип модели машинного обучения для «Цифры». Компания разрабатывает решения для эффективной работы промышленных предприятий.\n",
    "\n",
    "Модель должна предсказать коэффициент восстановления золота из золотосодержащей руды. Используйте данные с параметрами добычи и очистки. \n",
    "\n",
    "Модель поможет оптимизировать производство, чтобы не запускать предприятие с убыточными характеристиками.\n",
    "\n",
    "Вам нужно:\n",
    "\n",
    "1. Подготовить данные;\n",
    "2. Провести исследовательский анализ данных;\n",
    "3. Построить и обучить модель.\n",
    "\n",
    "Чтобы выполнить проект, обращайтесь к библиотекам *pandas*, *matplotlib* и *sklearn.* Вам поможет их документация."
   ]
  },
  {
   "cell_type": "markdown",
   "metadata": {},
   "source": [
    "## Подготовка данных"
   ]
  },
  {
   "cell_type": "markdown",
   "metadata": {},
   "source": [
    "### Откройте файлы и изучите их"
   ]
  },
  {
   "cell_type": "code",
   "execution_count": 1,
   "metadata": {},
   "outputs": [],
   "source": [
    "# Импорт библиотек\n",
    "import numpy as np\n",
    "import matplotlib.pyplot as plt\n",
    "import os\n",
    "import pandas as pd\n",
    "import seaborn as sns\n",
    "\n",
    "from sklearn.metrics import mean_absolute_error as MAE\n",
    "\n",
    "from sklearn.tree import DecisionTreeRegressor\n",
    "from sklearn.linear_model import LinearRegression\n",
    "from sklearn.ensemble import RandomForestRegressor\n",
    "from sklearn.model_selection import cross_val_score\n",
    "from sklearn.metrics import make_scorer\n",
    "from sklearn.dummy import DummyRegressor\n",
    "\n",
    "from sklearn.preprocessing import StandardScaler"
   ]
  },
  {
   "cell_type": "code",
   "execution_count": 2,
   "metadata": {},
   "outputs": [],
   "source": [
    "# чтение файлов с данными\n",
    " \n",
    "pth1 = '/datasets/gold_industry_train.csv'\n",
    "pth2 = '/datasets/gold_industry_test.csv'\n",
    "pth3 = '/datasets/gold_industry_full.csv'\n",
    "\n",
    "pth1_local = 'C:/Users/Alexandra' + pth1\n",
    "pth2_local = 'C:/Users/Alexandra' + pth2\n",
    "pth3_local = 'C:/Users/Alexandra' + pth3\n",
    "    \n",
    "if os.path.exists(pth1) and os.path.exists(pth2) and os.path.exists(pth3):\n",
    "    train_data = pd.read_csv(pth1) #обучающая выборка\n",
    "    test_data = pd.read_csv(pth2) #тестовая выборка\n",
    "    full_data = pd.read_csv(pth3) #исходные данные\n",
    "elif os.path.exists(pth1_local) and os.path.exists(pth2_local) and os.path.exists(pth3_local):\n",
    "    train_data = pd.read_csv(pth1_local) #обучающая выборка\n",
    "    test_data = pd.read_csv(pth2_local) #тестовая выборка\n",
    "    full_data = pd.read_csv(pth3_local) #исходные данные\n",
    "else:\n",
    "    print('Файлы не найдены')"
   ]
  },
  {
   "cell_type": "markdown",
   "metadata": {},
   "source": [
    "#### Выборка train_data"
   ]
  },
  {
   "cell_type": "code",
   "execution_count": 3,
   "metadata": {
    "scrolled": true
   },
   "outputs": [
    {
     "data": {
      "text/html": [
       "<div>\n",
       "<style scoped>\n",
       "    .dataframe tbody tr th:only-of-type {\n",
       "        vertical-align: middle;\n",
       "    }\n",
       "\n",
       "    .dataframe tbody tr th {\n",
       "        vertical-align: top;\n",
       "    }\n",
       "\n",
       "    .dataframe thead th {\n",
       "        text-align: right;\n",
       "    }\n",
       "</style>\n",
       "<table border=\"1\" class=\"dataframe\">\n",
       "  <thead>\n",
       "    <tr style=\"text-align: right;\">\n",
       "      <th></th>\n",
       "      <th>date</th>\n",
       "      <th>rougher.input.feed_au</th>\n",
       "      <th>rougher.input.feed_ag</th>\n",
       "      <th>rougher.input.feed_pb</th>\n",
       "      <th>rougher.input.feed_sol</th>\n",
       "      <th>rougher.input.feed_rate</th>\n",
       "      <th>rougher.input.feed_size</th>\n",
       "      <th>rougher.input.floatbank10_sulfate</th>\n",
       "      <th>rougher.input.floatbank10_xanthate</th>\n",
       "      <th>rougher.state.floatbank10_a_air</th>\n",
       "      <th>...</th>\n",
       "      <th>secondary_cleaner.output.tail_sol</th>\n",
       "      <th>final.output.concentrate_au</th>\n",
       "      <th>final.output.concentrate_ag</th>\n",
       "      <th>final.output.concentrate_pb</th>\n",
       "      <th>final.output.concentrate_sol</th>\n",
       "      <th>final.output.recovery</th>\n",
       "      <th>final.output.tail_au</th>\n",
       "      <th>final.output.tail_ag</th>\n",
       "      <th>final.output.tail_pb</th>\n",
       "      <th>final.output.tail_sol</th>\n",
       "    </tr>\n",
       "  </thead>\n",
       "  <tbody>\n",
       "    <tr>\n",
       "      <th>0</th>\n",
       "      <td>2016-01-15 00:00:00</td>\n",
       "      <td>6.486150</td>\n",
       "      <td>6.100378</td>\n",
       "      <td>2.284912</td>\n",
       "      <td>36.808594</td>\n",
       "      <td>523.546326</td>\n",
       "      <td>55.486599</td>\n",
       "      <td>11.986616</td>\n",
       "      <td>6.007990</td>\n",
       "      <td>999.706909</td>\n",
       "      <td>...</td>\n",
       "      <td>8.764648</td>\n",
       "      <td>42.192020</td>\n",
       "      <td>6.055403</td>\n",
       "      <td>9.889648</td>\n",
       "      <td>5.507324</td>\n",
       "      <td>70.541216</td>\n",
       "      <td>2.143149</td>\n",
       "      <td>10.411962</td>\n",
       "      <td>0.895447</td>\n",
       "      <td>16.904297</td>\n",
       "    </tr>\n",
       "    <tr>\n",
       "      <th>1</th>\n",
       "      <td>2016-01-15 01:00:00</td>\n",
       "      <td>6.478583</td>\n",
       "      <td>6.161113</td>\n",
       "      <td>2.266033</td>\n",
       "      <td>35.753385</td>\n",
       "      <td>525.290581</td>\n",
       "      <td>57.278666</td>\n",
       "      <td>11.971193</td>\n",
       "      <td>6.005766</td>\n",
       "      <td>1000.286398</td>\n",
       "      <td>...</td>\n",
       "      <td>9.001494</td>\n",
       "      <td>42.701629</td>\n",
       "      <td>6.029369</td>\n",
       "      <td>9.968944</td>\n",
       "      <td>5.257781</td>\n",
       "      <td>69.266198</td>\n",
       "      <td>2.224930</td>\n",
       "      <td>10.462676</td>\n",
       "      <td>0.927452</td>\n",
       "      <td>16.634514</td>\n",
       "    </tr>\n",
       "    <tr>\n",
       "      <th>2</th>\n",
       "      <td>2016-01-15 02:00:00</td>\n",
       "      <td>6.362222</td>\n",
       "      <td>6.116455</td>\n",
       "      <td>2.159622</td>\n",
       "      <td>35.971630</td>\n",
       "      <td>530.026610</td>\n",
       "      <td>57.510649</td>\n",
       "      <td>11.920603</td>\n",
       "      <td>6.197377</td>\n",
       "      <td>999.719565</td>\n",
       "      <td>...</td>\n",
       "      <td>8.842896</td>\n",
       "      <td>42.657501</td>\n",
       "      <td>6.055926</td>\n",
       "      <td>10.213995</td>\n",
       "      <td>5.383759</td>\n",
       "      <td>68.116445</td>\n",
       "      <td>2.257889</td>\n",
       "      <td>10.507046</td>\n",
       "      <td>0.953716</td>\n",
       "      <td>16.208849</td>\n",
       "    </tr>\n",
       "    <tr>\n",
       "      <th>3</th>\n",
       "      <td>2016-01-15 03:00:00</td>\n",
       "      <td>6.118189</td>\n",
       "      <td>6.043309</td>\n",
       "      <td>2.037807</td>\n",
       "      <td>36.862241</td>\n",
       "      <td>542.590390</td>\n",
       "      <td>57.792734</td>\n",
       "      <td>11.630094</td>\n",
       "      <td>6.203177</td>\n",
       "      <td>999.814770</td>\n",
       "      <td>...</td>\n",
       "      <td>9.122857</td>\n",
       "      <td>42.689819</td>\n",
       "      <td>6.047977</td>\n",
       "      <td>9.977019</td>\n",
       "      <td>4.858634</td>\n",
       "      <td>68.347543</td>\n",
       "      <td>2.146849</td>\n",
       "      <td>10.422762</td>\n",
       "      <td>0.883763</td>\n",
       "      <td>16.532835</td>\n",
       "    </tr>\n",
       "    <tr>\n",
       "      <th>4</th>\n",
       "      <td>2016-01-15 04:00:00</td>\n",
       "      <td>5.663707</td>\n",
       "      <td>6.060915</td>\n",
       "      <td>1.786875</td>\n",
       "      <td>34.347666</td>\n",
       "      <td>540.531893</td>\n",
       "      <td>56.047189</td>\n",
       "      <td>10.957755</td>\n",
       "      <td>6.198826</td>\n",
       "      <td>999.678690</td>\n",
       "      <td>...</td>\n",
       "      <td>8.871028</td>\n",
       "      <td>42.774141</td>\n",
       "      <td>6.148599</td>\n",
       "      <td>10.142511</td>\n",
       "      <td>4.939416</td>\n",
       "      <td>66.927016</td>\n",
       "      <td>2.055292</td>\n",
       "      <td>10.360302</td>\n",
       "      <td>0.792826</td>\n",
       "      <td>16.525686</td>\n",
       "    </tr>\n",
       "  </tbody>\n",
       "</table>\n",
       "<p>5 rows × 87 columns</p>\n",
       "</div>"
      ],
      "text/plain": [
       "                  date  rougher.input.feed_au  rougher.input.feed_ag  \\\n",
       "0  2016-01-15 00:00:00               6.486150               6.100378   \n",
       "1  2016-01-15 01:00:00               6.478583               6.161113   \n",
       "2  2016-01-15 02:00:00               6.362222               6.116455   \n",
       "3  2016-01-15 03:00:00               6.118189               6.043309   \n",
       "4  2016-01-15 04:00:00               5.663707               6.060915   \n",
       "\n",
       "   rougher.input.feed_pb  rougher.input.feed_sol  rougher.input.feed_rate  \\\n",
       "0               2.284912               36.808594               523.546326   \n",
       "1               2.266033               35.753385               525.290581   \n",
       "2               2.159622               35.971630               530.026610   \n",
       "3               2.037807               36.862241               542.590390   \n",
       "4               1.786875               34.347666               540.531893   \n",
       "\n",
       "   rougher.input.feed_size  rougher.input.floatbank10_sulfate  \\\n",
       "0                55.486599                          11.986616   \n",
       "1                57.278666                          11.971193   \n",
       "2                57.510649                          11.920603   \n",
       "3                57.792734                          11.630094   \n",
       "4                56.047189                          10.957755   \n",
       "\n",
       "   rougher.input.floatbank10_xanthate  rougher.state.floatbank10_a_air  ...  \\\n",
       "0                            6.007990                       999.706909  ...   \n",
       "1                            6.005766                      1000.286398  ...   \n",
       "2                            6.197377                       999.719565  ...   \n",
       "3                            6.203177                       999.814770  ...   \n",
       "4                            6.198826                       999.678690  ...   \n",
       "\n",
       "   secondary_cleaner.output.tail_sol  final.output.concentrate_au  \\\n",
       "0                           8.764648                    42.192020   \n",
       "1                           9.001494                    42.701629   \n",
       "2                           8.842896                    42.657501   \n",
       "3                           9.122857                    42.689819   \n",
       "4                           8.871028                    42.774141   \n",
       "\n",
       "   final.output.concentrate_ag  final.output.concentrate_pb  \\\n",
       "0                     6.055403                     9.889648   \n",
       "1                     6.029369                     9.968944   \n",
       "2                     6.055926                    10.213995   \n",
       "3                     6.047977                     9.977019   \n",
       "4                     6.148599                    10.142511   \n",
       "\n",
       "   final.output.concentrate_sol  final.output.recovery  final.output.tail_au  \\\n",
       "0                      5.507324              70.541216              2.143149   \n",
       "1                      5.257781              69.266198              2.224930   \n",
       "2                      5.383759              68.116445              2.257889   \n",
       "3                      4.858634              68.347543              2.146849   \n",
       "4                      4.939416              66.927016              2.055292   \n",
       "\n",
       "   final.output.tail_ag  final.output.tail_pb  final.output.tail_sol  \n",
       "0             10.411962              0.895447              16.904297  \n",
       "1             10.462676              0.927452              16.634514  \n",
       "2             10.507046              0.953716              16.208849  \n",
       "3             10.422762              0.883763              16.532835  \n",
       "4             10.360302              0.792826              16.525686  \n",
       "\n",
       "[5 rows x 87 columns]"
      ]
     },
     "execution_count": 3,
     "metadata": {},
     "output_type": "execute_result"
    }
   ],
   "source": [
    "#Выводим первые 5 строчек датафрейма на экран.\n",
    "train_data.head()"
   ]
  },
  {
   "cell_type": "code",
   "execution_count": 4,
   "metadata": {
    "scrolled": true
   },
   "outputs": [
    {
     "name": "stdout",
     "output_type": "stream",
     "text": [
      "<class 'pandas.core.frame.DataFrame'>\n",
      "RangeIndex: 14579 entries, 0 to 14578\n",
      "Data columns (total 87 columns):\n",
      " #   Column                                              Non-Null Count  Dtype  \n",
      "---  ------                                              --------------  -----  \n",
      " 0   date                                                14579 non-null  object \n",
      " 1   rougher.input.feed_au                               14579 non-null  float64\n",
      " 2   rougher.input.feed_ag                               14579 non-null  float64\n",
      " 3   rougher.input.feed_pb                               14507 non-null  float64\n",
      " 4   rougher.input.feed_sol                              14502 non-null  float64\n",
      " 5   rougher.input.feed_rate                             14572 non-null  float64\n",
      " 6   rougher.input.feed_size                             14478 non-null  float64\n",
      " 7   rougher.input.floatbank10_sulfate                   14548 non-null  float64\n",
      " 8   rougher.input.floatbank10_xanthate                  14572 non-null  float64\n",
      " 9   rougher.state.floatbank10_a_air                     14579 non-null  float64\n",
      " 10  rougher.state.floatbank10_a_level                   14579 non-null  float64\n",
      " 11  rougher.state.floatbank10_b_air                     14579 non-null  float64\n",
      " 12  rougher.state.floatbank10_b_level                   14579 non-null  float64\n",
      " 13  rougher.state.floatbank10_c_air                     14579 non-null  float64\n",
      " 14  rougher.state.floatbank10_c_level                   14579 non-null  float64\n",
      " 15  rougher.state.floatbank10_d_air                     14579 non-null  float64\n",
      " 16  rougher.state.floatbank10_d_level                   14579 non-null  float64\n",
      " 17  rougher.state.floatbank10_e_air                     14150 non-null  float64\n",
      " 18  rougher.state.floatbank10_e_level                   14579 non-null  float64\n",
      " 19  rougher.state.floatbank10_f_air                     14579 non-null  float64\n",
      " 20  rougher.state.floatbank10_f_level                   14579 non-null  float64\n",
      " 21  rougher.input.floatbank11_sulfate                   14543 non-null  float64\n",
      " 22  rougher.input.floatbank11_xanthate                  14172 non-null  float64\n",
      " 23  rougher.calculation.sulfate_to_au_concentrate       14578 non-null  float64\n",
      " 24  rougher.calculation.floatbank10_sulfate_to_au_feed  14578 non-null  float64\n",
      " 25  rougher.calculation.floatbank11_sulfate_to_au_feed  14578 non-null  float64\n",
      " 26  rougher.calculation.au_pb_ratio                     14579 non-null  float64\n",
      " 27  rougher.output.concentrate_au                       14579 non-null  float64\n",
      " 28  rougher.output.concentrate_ag                       14579 non-null  float64\n",
      " 29  rougher.output.concentrate_pb                       14579 non-null  float64\n",
      " 30  rougher.output.concentrate_sol                      14561 non-null  float64\n",
      " 31  rougher.output.recovery                             14579 non-null  float64\n",
      " 32  rougher.output.tail_au                              14579 non-null  float64\n",
      " 33  rougher.output.tail_ag                              14578 non-null  float64\n",
      " 34  rougher.output.tail_pb                              14579 non-null  float64\n",
      " 35  rougher.output.tail_sol                             14579 non-null  float64\n",
      " 36  primary_cleaner.input.sulfate                       14556 non-null  float64\n",
      " 37  primary_cleaner.input.depressant                    14551 non-null  float64\n",
      " 38  primary_cleaner.input.feed_size                     14579 non-null  float64\n",
      " 39  primary_cleaner.input.xanthate                      14518 non-null  float64\n",
      " 40  primary_cleaner.state.floatbank8_a_air              14576 non-null  float64\n",
      " 41  primary_cleaner.state.floatbank8_a_level            14579 non-null  float64\n",
      " 42  primary_cleaner.state.floatbank8_b_air              14576 non-null  float64\n",
      " 43  primary_cleaner.state.floatbank8_b_level            14579 non-null  float64\n",
      " 44  primary_cleaner.state.floatbank8_c_air              14579 non-null  float64\n",
      " 45  primary_cleaner.state.floatbank8_c_level            14579 non-null  float64\n",
      " 46  primary_cleaner.state.floatbank8_d_air              14578 non-null  float64\n",
      " 47  primary_cleaner.state.floatbank8_d_level            14579 non-null  float64\n",
      " 48  primary_cleaner.output.concentrate_au               14579 non-null  float64\n",
      " 49  primary_cleaner.output.concentrate_ag               14579 non-null  float64\n",
      " 50  primary_cleaner.output.concentrate_pb               14491 non-null  float64\n",
      " 51  primary_cleaner.output.concentrate_sol              14314 non-null  float64\n",
      " 52  primary_cleaner.output.tail_au                      14579 non-null  float64\n",
      " 53  primary_cleaner.output.tail_ag                      14575 non-null  float64\n",
      " 54  primary_cleaner.output.tail_pb                      14573 non-null  float64\n",
      " 55  primary_cleaner.output.tail_sol                     14534 non-null  float64\n",
      " 56  secondary_cleaner.state.floatbank2_a_air            14485 non-null  float64\n",
      " 57  secondary_cleaner.state.floatbank2_a_level          14579 non-null  float64\n",
      " 58  secondary_cleaner.state.floatbank2_b_air            14557 non-null  float64\n",
      " 59  secondary_cleaner.state.floatbank2_b_level          14579 non-null  float64\n",
      " 60  secondary_cleaner.state.floatbank3_a_air            14567 non-null  float64\n",
      " 61  secondary_cleaner.state.floatbank3_a_level          14579 non-null  float64\n",
      " 62  secondary_cleaner.state.floatbank3_b_air            14579 non-null  float64\n",
      " 63  secondary_cleaner.state.floatbank3_b_level          14579 non-null  float64\n",
      " 64  secondary_cleaner.state.floatbank4_a_air            14574 non-null  float64\n",
      " 65  secondary_cleaner.state.floatbank4_a_level          14579 non-null  float64\n",
      " 66  secondary_cleaner.state.floatbank4_b_air            14579 non-null  float64\n",
      " 67  secondary_cleaner.state.floatbank4_b_level          14579 non-null  float64\n",
      " 68  secondary_cleaner.state.floatbank5_a_air            14579 non-null  float64\n",
      " 69  secondary_cleaner.state.floatbank5_a_level          14579 non-null  float64\n",
      " 70  secondary_cleaner.state.floatbank5_b_air            14579 non-null  float64\n",
      " 71  secondary_cleaner.state.floatbank5_b_level          14579 non-null  float64\n",
      " 72  secondary_cleaner.state.floatbank6_a_air            14578 non-null  float64\n",
      " 73  secondary_cleaner.state.floatbank6_a_level          14579 non-null  float64\n",
      " 74  secondary_cleaner.output.tail_au                    14579 non-null  float64\n",
      " 75  secondary_cleaner.output.tail_ag                    14578 non-null  float64\n",
      " 76  secondary_cleaner.output.tail_pb                    14575 non-null  float64\n",
      " 77  secondary_cleaner.output.tail_sol                   13659 non-null  float64\n",
      " 78  final.output.concentrate_au                         14579 non-null  float64\n",
      " 79  final.output.concentrate_ag                         14578 non-null  float64\n",
      " 80  final.output.concentrate_pb                         14578 non-null  float64\n",
      " 81  final.output.concentrate_sol                        14387 non-null  float64\n",
      " 82  final.output.recovery                               14579 non-null  float64\n",
      " 83  final.output.tail_au                                14579 non-null  float64\n",
      " 84  final.output.tail_ag                                14578 non-null  float64\n",
      " 85  final.output.tail_pb                                14504 non-null  float64\n",
      " 86  final.output.tail_sol                               14574 non-null  float64\n",
      "dtypes: float64(86), object(1)\n",
      "memory usage: 9.7+ MB\n"
     ]
    }
   ],
   "source": [
    "train_data.info() #Выводим основную информацию о датафрейме."
   ]
  },
  {
   "cell_type": "markdown",
   "metadata": {},
   "source": [
    "#### Выборка test_data"
   ]
  },
  {
   "cell_type": "code",
   "execution_count": 5,
   "metadata": {
    "scrolled": true
   },
   "outputs": [
    {
     "data": {
      "text/html": [
       "<div>\n",
       "<style scoped>\n",
       "    .dataframe tbody tr th:only-of-type {\n",
       "        vertical-align: middle;\n",
       "    }\n",
       "\n",
       "    .dataframe tbody tr th {\n",
       "        vertical-align: top;\n",
       "    }\n",
       "\n",
       "    .dataframe thead th {\n",
       "        text-align: right;\n",
       "    }\n",
       "</style>\n",
       "<table border=\"1\" class=\"dataframe\">\n",
       "  <thead>\n",
       "    <tr style=\"text-align: right;\">\n",
       "      <th></th>\n",
       "      <th>date</th>\n",
       "      <th>rougher.input.feed_au</th>\n",
       "      <th>rougher.input.feed_ag</th>\n",
       "      <th>rougher.input.feed_pb</th>\n",
       "      <th>rougher.input.feed_sol</th>\n",
       "      <th>rougher.input.feed_rate</th>\n",
       "      <th>rougher.input.feed_size</th>\n",
       "      <th>rougher.input.floatbank10_sulfate</th>\n",
       "      <th>rougher.input.floatbank10_xanthate</th>\n",
       "      <th>rougher.state.floatbank10_a_air</th>\n",
       "      <th>...</th>\n",
       "      <th>secondary_cleaner.state.floatbank4_a_air</th>\n",
       "      <th>secondary_cleaner.state.floatbank4_a_level</th>\n",
       "      <th>secondary_cleaner.state.floatbank4_b_air</th>\n",
       "      <th>secondary_cleaner.state.floatbank4_b_level</th>\n",
       "      <th>secondary_cleaner.state.floatbank5_a_air</th>\n",
       "      <th>secondary_cleaner.state.floatbank5_a_level</th>\n",
       "      <th>secondary_cleaner.state.floatbank5_b_air</th>\n",
       "      <th>secondary_cleaner.state.floatbank5_b_level</th>\n",
       "      <th>secondary_cleaner.state.floatbank6_a_air</th>\n",
       "      <th>secondary_cleaner.state.floatbank6_a_level</th>\n",
       "    </tr>\n",
       "  </thead>\n",
       "  <tbody>\n",
       "    <tr>\n",
       "      <th>0</th>\n",
       "      <td>2017-12-09 14:59:59</td>\n",
       "      <td>4.365491</td>\n",
       "      <td>6.158718</td>\n",
       "      <td>3.875727</td>\n",
       "      <td>39.135119</td>\n",
       "      <td>555.820208</td>\n",
       "      <td>94.544358</td>\n",
       "      <td>6.146982</td>\n",
       "      <td>9.308612</td>\n",
       "      <td>1196.238112</td>\n",
       "      <td>...</td>\n",
       "      <td>23.018622</td>\n",
       "      <td>-500.492702</td>\n",
       "      <td>20.020205</td>\n",
       "      <td>-500.220296</td>\n",
       "      <td>17.963512</td>\n",
       "      <td>-499.939490</td>\n",
       "      <td>12.990306</td>\n",
       "      <td>-500.080993</td>\n",
       "      <td>19.990336</td>\n",
       "      <td>-499.191575</td>\n",
       "    </tr>\n",
       "    <tr>\n",
       "      <th>1</th>\n",
       "      <td>2017-12-09 15:59:59</td>\n",
       "      <td>4.362781</td>\n",
       "      <td>6.048130</td>\n",
       "      <td>3.902537</td>\n",
       "      <td>39.713906</td>\n",
       "      <td>544.731687</td>\n",
       "      <td>123.742430</td>\n",
       "      <td>6.210119</td>\n",
       "      <td>9.297709</td>\n",
       "      <td>1201.904177</td>\n",
       "      <td>...</td>\n",
       "      <td>23.024963</td>\n",
       "      <td>-501.153409</td>\n",
       "      <td>20.054122</td>\n",
       "      <td>-500.314711</td>\n",
       "      <td>17.979515</td>\n",
       "      <td>-499.272871</td>\n",
       "      <td>12.992404</td>\n",
       "      <td>-499.976268</td>\n",
       "      <td>20.013986</td>\n",
       "      <td>-500.625471</td>\n",
       "    </tr>\n",
       "    <tr>\n",
       "      <th>2</th>\n",
       "      <td>2017-12-09 16:59:59</td>\n",
       "      <td>5.081681</td>\n",
       "      <td>6.082745</td>\n",
       "      <td>4.564078</td>\n",
       "      <td>37.208683</td>\n",
       "      <td>558.155110</td>\n",
       "      <td>82.610855</td>\n",
       "      <td>7.363824</td>\n",
       "      <td>9.003562</td>\n",
       "      <td>1200.826926</td>\n",
       "      <td>...</td>\n",
       "      <td>22.993827</td>\n",
       "      <td>-501.559663</td>\n",
       "      <td>20.029144</td>\n",
       "      <td>-500.000662</td>\n",
       "      <td>18.012723</td>\n",
       "      <td>-500.024764</td>\n",
       "      <td>13.016445</td>\n",
       "      <td>-500.058432</td>\n",
       "      <td>19.973767</td>\n",
       "      <td>-501.394155</td>\n",
       "    </tr>\n",
       "    <tr>\n",
       "      <th>3</th>\n",
       "      <td>2017-12-09 17:59:59</td>\n",
       "      <td>5.145949</td>\n",
       "      <td>6.084374</td>\n",
       "      <td>4.768124</td>\n",
       "      <td>36.808874</td>\n",
       "      <td>539.713765</td>\n",
       "      <td>77.984784</td>\n",
       "      <td>6.927072</td>\n",
       "      <td>8.955597</td>\n",
       "      <td>1199.292489</td>\n",
       "      <td>...</td>\n",
       "      <td>23.032807</td>\n",
       "      <td>-501.287889</td>\n",
       "      <td>19.977466</td>\n",
       "      <td>-500.159903</td>\n",
       "      <td>17.980463</td>\n",
       "      <td>-500.504602</td>\n",
       "      <td>12.949071</td>\n",
       "      <td>-500.009937</td>\n",
       "      <td>20.010332</td>\n",
       "      <td>-508.337973</td>\n",
       "    </tr>\n",
       "    <tr>\n",
       "      <th>4</th>\n",
       "      <td>2017-12-09 18:59:59</td>\n",
       "      <td>5.735249</td>\n",
       "      <td>6.165220</td>\n",
       "      <td>4.512346</td>\n",
       "      <td>37.810642</td>\n",
       "      <td>558.713584</td>\n",
       "      <td>86.434874</td>\n",
       "      <td>7.823471</td>\n",
       "      <td>7.490356</td>\n",
       "      <td>1198.005449</td>\n",
       "      <td>...</td>\n",
       "      <td>23.001911</td>\n",
       "      <td>-499.947838</td>\n",
       "      <td>20.023735</td>\n",
       "      <td>-499.713680</td>\n",
       "      <td>17.990955</td>\n",
       "      <td>-500.334769</td>\n",
       "      <td>13.007523</td>\n",
       "      <td>-499.968459</td>\n",
       "      <td>19.995999</td>\n",
       "      <td>-499.788805</td>\n",
       "    </tr>\n",
       "  </tbody>\n",
       "</table>\n",
       "<p>5 rows × 53 columns</p>\n",
       "</div>"
      ],
      "text/plain": [
       "                  date  rougher.input.feed_au  rougher.input.feed_ag  \\\n",
       "0  2017-12-09 14:59:59               4.365491               6.158718   \n",
       "1  2017-12-09 15:59:59               4.362781               6.048130   \n",
       "2  2017-12-09 16:59:59               5.081681               6.082745   \n",
       "3  2017-12-09 17:59:59               5.145949               6.084374   \n",
       "4  2017-12-09 18:59:59               5.735249               6.165220   \n",
       "\n",
       "   rougher.input.feed_pb  rougher.input.feed_sol  rougher.input.feed_rate  \\\n",
       "0               3.875727               39.135119               555.820208   \n",
       "1               3.902537               39.713906               544.731687   \n",
       "2               4.564078               37.208683               558.155110   \n",
       "3               4.768124               36.808874               539.713765   \n",
       "4               4.512346               37.810642               558.713584   \n",
       "\n",
       "   rougher.input.feed_size  rougher.input.floatbank10_sulfate  \\\n",
       "0                94.544358                           6.146982   \n",
       "1               123.742430                           6.210119   \n",
       "2                82.610855                           7.363824   \n",
       "3                77.984784                           6.927072   \n",
       "4                86.434874                           7.823471   \n",
       "\n",
       "   rougher.input.floatbank10_xanthate  rougher.state.floatbank10_a_air  ...  \\\n",
       "0                            9.308612                      1196.238112  ...   \n",
       "1                            9.297709                      1201.904177  ...   \n",
       "2                            9.003562                      1200.826926  ...   \n",
       "3                            8.955597                      1199.292489  ...   \n",
       "4                            7.490356                      1198.005449  ...   \n",
       "\n",
       "   secondary_cleaner.state.floatbank4_a_air  \\\n",
       "0                                 23.018622   \n",
       "1                                 23.024963   \n",
       "2                                 22.993827   \n",
       "3                                 23.032807   \n",
       "4                                 23.001911   \n",
       "\n",
       "   secondary_cleaner.state.floatbank4_a_level  \\\n",
       "0                                 -500.492702   \n",
       "1                                 -501.153409   \n",
       "2                                 -501.559663   \n",
       "3                                 -501.287889   \n",
       "4                                 -499.947838   \n",
       "\n",
       "   secondary_cleaner.state.floatbank4_b_air  \\\n",
       "0                                 20.020205   \n",
       "1                                 20.054122   \n",
       "2                                 20.029144   \n",
       "3                                 19.977466   \n",
       "4                                 20.023735   \n",
       "\n",
       "   secondary_cleaner.state.floatbank4_b_level  \\\n",
       "0                                 -500.220296   \n",
       "1                                 -500.314711   \n",
       "2                                 -500.000662   \n",
       "3                                 -500.159903   \n",
       "4                                 -499.713680   \n",
       "\n",
       "   secondary_cleaner.state.floatbank5_a_air  \\\n",
       "0                                 17.963512   \n",
       "1                                 17.979515   \n",
       "2                                 18.012723   \n",
       "3                                 17.980463   \n",
       "4                                 17.990955   \n",
       "\n",
       "   secondary_cleaner.state.floatbank5_a_level  \\\n",
       "0                                 -499.939490   \n",
       "1                                 -499.272871   \n",
       "2                                 -500.024764   \n",
       "3                                 -500.504602   \n",
       "4                                 -500.334769   \n",
       "\n",
       "   secondary_cleaner.state.floatbank5_b_air  \\\n",
       "0                                 12.990306   \n",
       "1                                 12.992404   \n",
       "2                                 13.016445   \n",
       "3                                 12.949071   \n",
       "4                                 13.007523   \n",
       "\n",
       "   secondary_cleaner.state.floatbank5_b_level  \\\n",
       "0                                 -500.080993   \n",
       "1                                 -499.976268   \n",
       "2                                 -500.058432   \n",
       "3                                 -500.009937   \n",
       "4                                 -499.968459   \n",
       "\n",
       "   secondary_cleaner.state.floatbank6_a_air  \\\n",
       "0                                 19.990336   \n",
       "1                                 20.013986   \n",
       "2                                 19.973767   \n",
       "3                                 20.010332   \n",
       "4                                 19.995999   \n",
       "\n",
       "   secondary_cleaner.state.floatbank6_a_level  \n",
       "0                                 -499.191575  \n",
       "1                                 -500.625471  \n",
       "2                                 -501.394155  \n",
       "3                                 -508.337973  \n",
       "4                                 -499.788805  \n",
       "\n",
       "[5 rows x 53 columns]"
      ]
     },
     "execution_count": 5,
     "metadata": {},
     "output_type": "execute_result"
    }
   ],
   "source": [
    "#Выводим первые 5 строчек датафрейма на экран.\n",
    "test_data.head()"
   ]
  },
  {
   "cell_type": "code",
   "execution_count": 6,
   "metadata": {
    "scrolled": true
   },
   "outputs": [
    {
     "name": "stdout",
     "output_type": "stream",
     "text": [
      "<class 'pandas.core.frame.DataFrame'>\n",
      "RangeIndex: 4860 entries, 0 to 4859\n",
      "Data columns (total 53 columns):\n",
      " #   Column                                      Non-Null Count  Dtype  \n",
      "---  ------                                      --------------  -----  \n",
      " 0   date                                        4860 non-null   object \n",
      " 1   rougher.input.feed_au                       4860 non-null   float64\n",
      " 2   rougher.input.feed_ag                       4860 non-null   float64\n",
      " 3   rougher.input.feed_pb                       4832 non-null   float64\n",
      " 4   rougher.input.feed_sol                      4838 non-null   float64\n",
      " 5   rougher.input.feed_rate                     4856 non-null   float64\n",
      " 6   rougher.input.feed_size                     4816 non-null   float64\n",
      " 7   rougher.input.floatbank10_sulfate           4857 non-null   float64\n",
      " 8   rougher.input.floatbank10_xanthate          4859 non-null   float64\n",
      " 9   rougher.state.floatbank10_a_air             4859 non-null   float64\n",
      " 10  rougher.state.floatbank10_a_level           4859 non-null   float64\n",
      " 11  rougher.state.floatbank10_b_air             4859 non-null   float64\n",
      " 12  rougher.state.floatbank10_b_level           4859 non-null   float64\n",
      " 13  rougher.state.floatbank10_c_air             4859 non-null   float64\n",
      " 14  rougher.state.floatbank10_c_level           4859 non-null   float64\n",
      " 15  rougher.state.floatbank10_d_air             4860 non-null   float64\n",
      " 16  rougher.state.floatbank10_d_level           4860 non-null   float64\n",
      " 17  rougher.state.floatbank10_e_air             4853 non-null   float64\n",
      " 18  rougher.state.floatbank10_e_level           4860 non-null   float64\n",
      " 19  rougher.state.floatbank10_f_air             4860 non-null   float64\n",
      " 20  rougher.state.floatbank10_f_level           4860 non-null   float64\n",
      " 21  rougher.input.floatbank11_sulfate           4852 non-null   float64\n",
      " 22  rougher.input.floatbank11_xanthate          4814 non-null   float64\n",
      " 23  primary_cleaner.input.sulfate               4859 non-null   float64\n",
      " 24  primary_cleaner.input.depressant            4851 non-null   float64\n",
      " 25  primary_cleaner.input.feed_size             4860 non-null   float64\n",
      " 26  primary_cleaner.input.xanthate              4817 non-null   float64\n",
      " 27  primary_cleaner.state.floatbank8_a_air      4859 non-null   float64\n",
      " 28  primary_cleaner.state.floatbank8_a_level    4859 non-null   float64\n",
      " 29  primary_cleaner.state.floatbank8_b_air      4859 non-null   float64\n",
      " 30  primary_cleaner.state.floatbank8_b_level    4859 non-null   float64\n",
      " 31  primary_cleaner.state.floatbank8_c_air      4858 non-null   float64\n",
      " 32  primary_cleaner.state.floatbank8_c_level    4859 non-null   float64\n",
      " 33  primary_cleaner.state.floatbank8_d_air      4858 non-null   float64\n",
      " 34  primary_cleaner.state.floatbank8_d_level    4859 non-null   float64\n",
      " 35  secondary_cleaner.state.floatbank2_a_air    4734 non-null   float64\n",
      " 36  secondary_cleaner.state.floatbank2_a_level  4859 non-null   float64\n",
      " 37  secondary_cleaner.state.floatbank2_b_air    4859 non-null   float64\n",
      " 38  secondary_cleaner.state.floatbank2_b_level  4859 non-null   float64\n",
      " 39  secondary_cleaner.state.floatbank3_a_air    4859 non-null   float64\n",
      " 40  secondary_cleaner.state.floatbank3_a_level  4859 non-null   float64\n",
      " 41  secondary_cleaner.state.floatbank3_b_air    4859 non-null   float64\n",
      " 42  secondary_cleaner.state.floatbank3_b_level  4859 non-null   float64\n",
      " 43  secondary_cleaner.state.floatbank4_a_air    4859 non-null   float64\n",
      " 44  secondary_cleaner.state.floatbank4_a_level  4859 non-null   float64\n",
      " 45  secondary_cleaner.state.floatbank4_b_air    4859 non-null   float64\n",
      " 46  secondary_cleaner.state.floatbank4_b_level  4859 non-null   float64\n",
      " 47  secondary_cleaner.state.floatbank5_a_air    4859 non-null   float64\n",
      " 48  secondary_cleaner.state.floatbank5_a_level  4859 non-null   float64\n",
      " 49  secondary_cleaner.state.floatbank5_b_air    4859 non-null   float64\n",
      " 50  secondary_cleaner.state.floatbank5_b_level  4859 non-null   float64\n",
      " 51  secondary_cleaner.state.floatbank6_a_air    4859 non-null   float64\n",
      " 52  secondary_cleaner.state.floatbank6_a_level  4859 non-null   float64\n",
      "dtypes: float64(52), object(1)\n",
      "memory usage: 2.0+ MB\n"
     ]
    }
   ],
   "source": [
    "test_data.info() #Выводим основную информацию о датафрейме."
   ]
  },
  {
   "cell_type": "markdown",
   "metadata": {},
   "source": [
    "#### Выборка full_data"
   ]
  },
  {
   "cell_type": "code",
   "execution_count": 7,
   "metadata": {
    "scrolled": true
   },
   "outputs": [
    {
     "data": {
      "text/html": [
       "<div>\n",
       "<style scoped>\n",
       "    .dataframe tbody tr th:only-of-type {\n",
       "        vertical-align: middle;\n",
       "    }\n",
       "\n",
       "    .dataframe tbody tr th {\n",
       "        vertical-align: top;\n",
       "    }\n",
       "\n",
       "    .dataframe thead th {\n",
       "        text-align: right;\n",
       "    }\n",
       "</style>\n",
       "<table border=\"1\" class=\"dataframe\">\n",
       "  <thead>\n",
       "    <tr style=\"text-align: right;\">\n",
       "      <th></th>\n",
       "      <th>date</th>\n",
       "      <th>rougher.input.feed_au</th>\n",
       "      <th>rougher.input.feed_ag</th>\n",
       "      <th>rougher.input.feed_pb</th>\n",
       "      <th>rougher.input.feed_sol</th>\n",
       "      <th>rougher.input.feed_rate</th>\n",
       "      <th>rougher.input.feed_size</th>\n",
       "      <th>rougher.input.floatbank10_sulfate</th>\n",
       "      <th>rougher.input.floatbank10_xanthate</th>\n",
       "      <th>rougher.state.floatbank10_a_air</th>\n",
       "      <th>...</th>\n",
       "      <th>secondary_cleaner.output.tail_sol</th>\n",
       "      <th>final.output.concentrate_au</th>\n",
       "      <th>final.output.concentrate_ag</th>\n",
       "      <th>final.output.concentrate_pb</th>\n",
       "      <th>final.output.concentrate_sol</th>\n",
       "      <th>final.output.recovery</th>\n",
       "      <th>final.output.tail_au</th>\n",
       "      <th>final.output.tail_ag</th>\n",
       "      <th>final.output.tail_pb</th>\n",
       "      <th>final.output.tail_sol</th>\n",
       "    </tr>\n",
       "  </thead>\n",
       "  <tbody>\n",
       "    <tr>\n",
       "      <th>0</th>\n",
       "      <td>2016-01-15 00:00:00</td>\n",
       "      <td>6.486150</td>\n",
       "      <td>6.100378</td>\n",
       "      <td>2.284912</td>\n",
       "      <td>36.808594</td>\n",
       "      <td>523.546326</td>\n",
       "      <td>55.486599</td>\n",
       "      <td>11.986616</td>\n",
       "      <td>6.007990</td>\n",
       "      <td>999.706909</td>\n",
       "      <td>...</td>\n",
       "      <td>8.764648</td>\n",
       "      <td>42.192020</td>\n",
       "      <td>6.055403</td>\n",
       "      <td>9.889648</td>\n",
       "      <td>5.507324</td>\n",
       "      <td>70.541216</td>\n",
       "      <td>2.143149</td>\n",
       "      <td>10.411962</td>\n",
       "      <td>0.895447</td>\n",
       "      <td>16.904297</td>\n",
       "    </tr>\n",
       "    <tr>\n",
       "      <th>1</th>\n",
       "      <td>2016-01-15 01:00:00</td>\n",
       "      <td>6.478583</td>\n",
       "      <td>6.161113</td>\n",
       "      <td>2.266033</td>\n",
       "      <td>35.753385</td>\n",
       "      <td>525.290581</td>\n",
       "      <td>57.278666</td>\n",
       "      <td>11.971193</td>\n",
       "      <td>6.005766</td>\n",
       "      <td>1000.286398</td>\n",
       "      <td>...</td>\n",
       "      <td>9.001494</td>\n",
       "      <td>42.701629</td>\n",
       "      <td>6.029369</td>\n",
       "      <td>9.968944</td>\n",
       "      <td>5.257781</td>\n",
       "      <td>69.266198</td>\n",
       "      <td>2.224930</td>\n",
       "      <td>10.462676</td>\n",
       "      <td>0.927452</td>\n",
       "      <td>16.634514</td>\n",
       "    </tr>\n",
       "    <tr>\n",
       "      <th>2</th>\n",
       "      <td>2016-01-15 02:00:00</td>\n",
       "      <td>6.362222</td>\n",
       "      <td>6.116455</td>\n",
       "      <td>2.159622</td>\n",
       "      <td>35.971630</td>\n",
       "      <td>530.026610</td>\n",
       "      <td>57.510649</td>\n",
       "      <td>11.920603</td>\n",
       "      <td>6.197377</td>\n",
       "      <td>999.719565</td>\n",
       "      <td>...</td>\n",
       "      <td>8.842896</td>\n",
       "      <td>42.657501</td>\n",
       "      <td>6.055926</td>\n",
       "      <td>10.213995</td>\n",
       "      <td>5.383759</td>\n",
       "      <td>68.116445</td>\n",
       "      <td>2.257889</td>\n",
       "      <td>10.507046</td>\n",
       "      <td>0.953716</td>\n",
       "      <td>16.208849</td>\n",
       "    </tr>\n",
       "    <tr>\n",
       "      <th>3</th>\n",
       "      <td>2016-01-15 03:00:00</td>\n",
       "      <td>6.118189</td>\n",
       "      <td>6.043309</td>\n",
       "      <td>2.037807</td>\n",
       "      <td>36.862241</td>\n",
       "      <td>542.590390</td>\n",
       "      <td>57.792734</td>\n",
       "      <td>11.630094</td>\n",
       "      <td>6.203177</td>\n",
       "      <td>999.814770</td>\n",
       "      <td>...</td>\n",
       "      <td>9.122857</td>\n",
       "      <td>42.689819</td>\n",
       "      <td>6.047977</td>\n",
       "      <td>9.977019</td>\n",
       "      <td>4.858634</td>\n",
       "      <td>68.347543</td>\n",
       "      <td>2.146849</td>\n",
       "      <td>10.422762</td>\n",
       "      <td>0.883763</td>\n",
       "      <td>16.532835</td>\n",
       "    </tr>\n",
       "    <tr>\n",
       "      <th>4</th>\n",
       "      <td>2016-01-15 04:00:00</td>\n",
       "      <td>5.663707</td>\n",
       "      <td>6.060915</td>\n",
       "      <td>1.786875</td>\n",
       "      <td>34.347666</td>\n",
       "      <td>540.531893</td>\n",
       "      <td>56.047189</td>\n",
       "      <td>10.957755</td>\n",
       "      <td>6.198826</td>\n",
       "      <td>999.678690</td>\n",
       "      <td>...</td>\n",
       "      <td>8.871028</td>\n",
       "      <td>42.774141</td>\n",
       "      <td>6.148599</td>\n",
       "      <td>10.142511</td>\n",
       "      <td>4.939416</td>\n",
       "      <td>66.927016</td>\n",
       "      <td>2.055292</td>\n",
       "      <td>10.360302</td>\n",
       "      <td>0.792826</td>\n",
       "      <td>16.525686</td>\n",
       "    </tr>\n",
       "  </tbody>\n",
       "</table>\n",
       "<p>5 rows × 87 columns</p>\n",
       "</div>"
      ],
      "text/plain": [
       "                  date  rougher.input.feed_au  rougher.input.feed_ag  \\\n",
       "0  2016-01-15 00:00:00               6.486150               6.100378   \n",
       "1  2016-01-15 01:00:00               6.478583               6.161113   \n",
       "2  2016-01-15 02:00:00               6.362222               6.116455   \n",
       "3  2016-01-15 03:00:00               6.118189               6.043309   \n",
       "4  2016-01-15 04:00:00               5.663707               6.060915   \n",
       "\n",
       "   rougher.input.feed_pb  rougher.input.feed_sol  rougher.input.feed_rate  \\\n",
       "0               2.284912               36.808594               523.546326   \n",
       "1               2.266033               35.753385               525.290581   \n",
       "2               2.159622               35.971630               530.026610   \n",
       "3               2.037807               36.862241               542.590390   \n",
       "4               1.786875               34.347666               540.531893   \n",
       "\n",
       "   rougher.input.feed_size  rougher.input.floatbank10_sulfate  \\\n",
       "0                55.486599                          11.986616   \n",
       "1                57.278666                          11.971193   \n",
       "2                57.510649                          11.920603   \n",
       "3                57.792734                          11.630094   \n",
       "4                56.047189                          10.957755   \n",
       "\n",
       "   rougher.input.floatbank10_xanthate  rougher.state.floatbank10_a_air  ...  \\\n",
       "0                            6.007990                       999.706909  ...   \n",
       "1                            6.005766                      1000.286398  ...   \n",
       "2                            6.197377                       999.719565  ...   \n",
       "3                            6.203177                       999.814770  ...   \n",
       "4                            6.198826                       999.678690  ...   \n",
       "\n",
       "   secondary_cleaner.output.tail_sol  final.output.concentrate_au  \\\n",
       "0                           8.764648                    42.192020   \n",
       "1                           9.001494                    42.701629   \n",
       "2                           8.842896                    42.657501   \n",
       "3                           9.122857                    42.689819   \n",
       "4                           8.871028                    42.774141   \n",
       "\n",
       "   final.output.concentrate_ag  final.output.concentrate_pb  \\\n",
       "0                     6.055403                     9.889648   \n",
       "1                     6.029369                     9.968944   \n",
       "2                     6.055926                    10.213995   \n",
       "3                     6.047977                     9.977019   \n",
       "4                     6.148599                    10.142511   \n",
       "\n",
       "   final.output.concentrate_sol  final.output.recovery  final.output.tail_au  \\\n",
       "0                      5.507324              70.541216              2.143149   \n",
       "1                      5.257781              69.266198              2.224930   \n",
       "2                      5.383759              68.116445              2.257889   \n",
       "3                      4.858634              68.347543              2.146849   \n",
       "4                      4.939416              66.927016              2.055292   \n",
       "\n",
       "   final.output.tail_ag  final.output.tail_pb  final.output.tail_sol  \n",
       "0             10.411962              0.895447              16.904297  \n",
       "1             10.462676              0.927452              16.634514  \n",
       "2             10.507046              0.953716              16.208849  \n",
       "3             10.422762              0.883763              16.532835  \n",
       "4             10.360302              0.792826              16.525686  \n",
       "\n",
       "[5 rows x 87 columns]"
      ]
     },
     "execution_count": 7,
     "metadata": {},
     "output_type": "execute_result"
    }
   ],
   "source": [
    "#Выводим первые 5 строчек датафрейма на экран.\n",
    "full_data.head()"
   ]
  },
  {
   "cell_type": "code",
   "execution_count": 8,
   "metadata": {},
   "outputs": [
    {
     "name": "stdout",
     "output_type": "stream",
     "text": [
      "<class 'pandas.core.frame.DataFrame'>\n",
      "RangeIndex: 14579 entries, 0 to 14578\n",
      "Data columns (total 87 columns):\n",
      " #   Column                                              Non-Null Count  Dtype  \n",
      "---  ------                                              --------------  -----  \n",
      " 0   date                                                14579 non-null  object \n",
      " 1   rougher.input.feed_au                               14579 non-null  float64\n",
      " 2   rougher.input.feed_ag                               14579 non-null  float64\n",
      " 3   rougher.input.feed_pb                               14507 non-null  float64\n",
      " 4   rougher.input.feed_sol                              14502 non-null  float64\n",
      " 5   rougher.input.feed_rate                             14572 non-null  float64\n",
      " 6   rougher.input.feed_size                             14478 non-null  float64\n",
      " 7   rougher.input.floatbank10_sulfate                   14548 non-null  float64\n",
      " 8   rougher.input.floatbank10_xanthate                  14572 non-null  float64\n",
      " 9   rougher.state.floatbank10_a_air                     14579 non-null  float64\n",
      " 10  rougher.state.floatbank10_a_level                   14579 non-null  float64\n",
      " 11  rougher.state.floatbank10_b_air                     14579 non-null  float64\n",
      " 12  rougher.state.floatbank10_b_level                   14579 non-null  float64\n",
      " 13  rougher.state.floatbank10_c_air                     14579 non-null  float64\n",
      " 14  rougher.state.floatbank10_c_level                   14579 non-null  float64\n",
      " 15  rougher.state.floatbank10_d_air                     14579 non-null  float64\n",
      " 16  rougher.state.floatbank10_d_level                   14579 non-null  float64\n",
      " 17  rougher.state.floatbank10_e_air                     14150 non-null  float64\n",
      " 18  rougher.state.floatbank10_e_level                   14579 non-null  float64\n",
      " 19  rougher.state.floatbank10_f_air                     14579 non-null  float64\n",
      " 20  rougher.state.floatbank10_f_level                   14579 non-null  float64\n",
      " 21  rougher.input.floatbank11_sulfate                   14543 non-null  float64\n",
      " 22  rougher.input.floatbank11_xanthate                  14172 non-null  float64\n",
      " 23  rougher.calculation.sulfate_to_au_concentrate       14578 non-null  float64\n",
      " 24  rougher.calculation.floatbank10_sulfate_to_au_feed  14578 non-null  float64\n",
      " 25  rougher.calculation.floatbank11_sulfate_to_au_feed  14578 non-null  float64\n",
      " 26  rougher.calculation.au_pb_ratio                     14579 non-null  float64\n",
      " 27  rougher.output.concentrate_au                       14579 non-null  float64\n",
      " 28  rougher.output.concentrate_ag                       14579 non-null  float64\n",
      " 29  rougher.output.concentrate_pb                       14579 non-null  float64\n",
      " 30  rougher.output.concentrate_sol                      14561 non-null  float64\n",
      " 31  rougher.output.recovery                             14579 non-null  float64\n",
      " 32  rougher.output.tail_au                              14579 non-null  float64\n",
      " 33  rougher.output.tail_ag                              14578 non-null  float64\n",
      " 34  rougher.output.tail_pb                              14579 non-null  float64\n",
      " 35  rougher.output.tail_sol                             14579 non-null  float64\n",
      " 36  primary_cleaner.input.sulfate                       14556 non-null  float64\n",
      " 37  primary_cleaner.input.depressant                    14551 non-null  float64\n",
      " 38  primary_cleaner.input.feed_size                     14579 non-null  float64\n",
      " 39  primary_cleaner.input.xanthate                      14518 non-null  float64\n",
      " 40  primary_cleaner.state.floatbank8_a_air              14576 non-null  float64\n",
      " 41  primary_cleaner.state.floatbank8_a_level            14579 non-null  float64\n",
      " 42  primary_cleaner.state.floatbank8_b_air              14576 non-null  float64\n",
      " 43  primary_cleaner.state.floatbank8_b_level            14579 non-null  float64\n",
      " 44  primary_cleaner.state.floatbank8_c_air              14579 non-null  float64\n",
      " 45  primary_cleaner.state.floatbank8_c_level            14579 non-null  float64\n",
      " 46  primary_cleaner.state.floatbank8_d_air              14578 non-null  float64\n",
      " 47  primary_cleaner.state.floatbank8_d_level            14579 non-null  float64\n",
      " 48  primary_cleaner.output.concentrate_au               14579 non-null  float64\n",
      " 49  primary_cleaner.output.concentrate_ag               14579 non-null  float64\n",
      " 50  primary_cleaner.output.concentrate_pb               14491 non-null  float64\n",
      " 51  primary_cleaner.output.concentrate_sol              14314 non-null  float64\n",
      " 52  primary_cleaner.output.tail_au                      14579 non-null  float64\n",
      " 53  primary_cleaner.output.tail_ag                      14575 non-null  float64\n",
      " 54  primary_cleaner.output.tail_pb                      14573 non-null  float64\n",
      " 55  primary_cleaner.output.tail_sol                     14534 non-null  float64\n",
      " 56  secondary_cleaner.state.floatbank2_a_air            14485 non-null  float64\n",
      " 57  secondary_cleaner.state.floatbank2_a_level          14579 non-null  float64\n",
      " 58  secondary_cleaner.state.floatbank2_b_air            14557 non-null  float64\n",
      " 59  secondary_cleaner.state.floatbank2_b_level          14579 non-null  float64\n",
      " 60  secondary_cleaner.state.floatbank3_a_air            14567 non-null  float64\n",
      " 61  secondary_cleaner.state.floatbank3_a_level          14579 non-null  float64\n",
      " 62  secondary_cleaner.state.floatbank3_b_air            14579 non-null  float64\n",
      " 63  secondary_cleaner.state.floatbank3_b_level          14579 non-null  float64\n",
      " 64  secondary_cleaner.state.floatbank4_a_air            14574 non-null  float64\n",
      " 65  secondary_cleaner.state.floatbank4_a_level          14579 non-null  float64\n",
      " 66  secondary_cleaner.state.floatbank4_b_air            14579 non-null  float64\n",
      " 67  secondary_cleaner.state.floatbank4_b_level          14579 non-null  float64\n",
      " 68  secondary_cleaner.state.floatbank5_a_air            14579 non-null  float64\n",
      " 69  secondary_cleaner.state.floatbank5_a_level          14579 non-null  float64\n",
      " 70  secondary_cleaner.state.floatbank5_b_air            14579 non-null  float64\n",
      " 71  secondary_cleaner.state.floatbank5_b_level          14579 non-null  float64\n",
      " 72  secondary_cleaner.state.floatbank6_a_air            14578 non-null  float64\n",
      " 73  secondary_cleaner.state.floatbank6_a_level          14579 non-null  float64\n",
      " 74  secondary_cleaner.output.tail_au                    14579 non-null  float64\n",
      " 75  secondary_cleaner.output.tail_ag                    14578 non-null  float64\n",
      " 76  secondary_cleaner.output.tail_pb                    14575 non-null  float64\n",
      " 77  secondary_cleaner.output.tail_sol                   13659 non-null  float64\n",
      " 78  final.output.concentrate_au                         14579 non-null  float64\n",
      " 79  final.output.concentrate_ag                         14578 non-null  float64\n",
      " 80  final.output.concentrate_pb                         14578 non-null  float64\n",
      " 81  final.output.concentrate_sol                        14387 non-null  float64\n",
      " 82  final.output.recovery                               14579 non-null  float64\n",
      " 83  final.output.tail_au                                14579 non-null  float64\n",
      " 84  final.output.tail_ag                                14578 non-null  float64\n",
      " 85  final.output.tail_pb                                14504 non-null  float64\n",
      " 86  final.output.tail_sol                               14574 non-null  float64\n",
      "dtypes: float64(86), object(1)\n",
      "memory usage: 9.7+ MB\n"
     ]
    }
   ],
   "source": [
    "train_data.info() #Выводим основную информацию о датафрейме."
   ]
  },
  {
   "cell_type": "markdown",
   "metadata": {},
   "source": [
    "**Вывод:**\n",
    "\n",
    "В выборке **train** 14579 строк, 87 столбцов.\n",
    "\n",
    "В выборке **test** 4860 строк, 53 столбца.\n",
    "\n",
    "В выборке **full** 14579 строк, 87 столбцов. "
   ]
  },
  {
   "cell_type": "markdown",
   "metadata": {},
   "source": [
    "### Проверим, что эффективность обогащения рассчитана правильно. "
   ]
  },
  {
   "cell_type": "code",
   "execution_count": 9,
   "metadata": {},
   "outputs": [],
   "source": [
    "#вычислим эффективность обогащения на обучающей выборке\n",
    "C = train_data['rougher.output.concentrate_au'] # доля золота в концентрате после флотации/очистки\n",
    "F = train_data['rougher.input.feed_au'] # доля золота в сырье/концентрате до флотации/очистки\n",
    "T = train_data['rougher.output.tail_au'] # доля золота в отвальных хвостах после флотации/очистки"
   ]
  },
  {
   "cell_type": "code",
   "execution_count": 10,
   "metadata": {},
   "outputs": [
    {
     "name": "stdout",
     "output_type": "stream",
     "text": [
      "Вычисленная эффективность обогащения:\n"
     ]
    },
    {
     "data": {
      "text/plain": [
       "0        87.107763\n",
       "1        86.843261\n",
       "2        86.842308\n",
       "3        87.226430\n",
       "4        86.688794\n",
       "           ...    \n",
       "14574    87.684717\n",
       "14575    90.677361\n",
       "14576    89.574376\n",
       "14577    87.724007\n",
       "14578    88.890579\n",
       "Length: 14579, dtype: float64"
      ]
     },
     "execution_count": 10,
     "metadata": {},
     "output_type": "execute_result"
    }
   ],
   "source": [
    "counted_recovery = ((C*(F-T))/(F*(C-T)))*100\n",
    "\n",
    "print('Вычисленная эффективность обогащения:')\n",
    "counted_recovery"
   ]
  },
  {
   "cell_type": "code",
   "execution_count": 11,
   "metadata": {
    "scrolled": true
   },
   "outputs": [
    {
     "name": "stdout",
     "output_type": "stream",
     "text": [
      "Средняя вычисленная эффективность обогащения: 82.52119968211336\n",
      "Средняя эффективность обогащения в выборке:   82.52119968211336\n"
     ]
    }
   ],
   "source": [
    "#сравним средние значения прзнаком rougher.output.recovery\n",
    "print('Средняя вычисленная эффективность обогащения:', counted_recovery.mean())\n",
    "print('Средняя эффективность обогащения в выборке:  ', train_data['rougher.output.recovery'].mean())"
   ]
  },
  {
   "cell_type": "code",
   "execution_count": 12,
   "metadata": {},
   "outputs": [
    {
     "name": "stdout",
     "output_type": "stream",
     "text": [
      "9.83758577644259e-15\n"
     ]
    }
   ],
   "source": [
    "# Найдем среднюю абсолютную ошибку (MAE) между вычисленной эффективностью обогащения и значениями из выборки.\n",
    "print(MAE(counted_recovery, train_data['rougher.output.recovery']))"
   ]
  },
  {
   "cell_type": "markdown",
   "metadata": {},
   "source": [
    "**Вывод:**\n",
    "\n",
    "Средние значения эффективности обогащения равны.\n",
    "MAE очень маленькое. \n",
    "\n",
    "Поэтому делаем вывод, что эффективность обогащения **рассчитана верно**."
   ]
  },
  {
   "cell_type": "markdown",
   "metadata": {},
   "source": [
    "### Проанализируйем признаки, недоступные в тестовой выборке."
   ]
  },
  {
   "cell_type": "code",
   "execution_count": 13,
   "metadata": {},
   "outputs": [
    {
     "data": {
      "text/plain": [
       "final.output.tail_pb                                  float64\n",
       "final.output.tail_sol                                 float64\n",
       "rougher.output.concentrate_ag                         float64\n",
       "rougher.output.recovery                               float64\n",
       "secondary_cleaner.output.tail_au                      float64\n",
       "final.output.tail_ag                                  float64\n",
       "final.output.concentrate_au                           float64\n",
       "final.output.concentrate_pb                           float64\n",
       "secondary_cleaner.output.tail_pb                      float64\n",
       "secondary_cleaner.output.tail_sol                     float64\n",
       "final.output.recovery                                 float64\n",
       "primary_cleaner.output.concentrate_ag                 float64\n",
       "rougher.output.concentrate_pb                         float64\n",
       "final.output.concentrate_sol                          float64\n",
       "primary_cleaner.output.tail_sol                       float64\n",
       "primary_cleaner.output.concentrate_pb                 float64\n",
       "rougher.calculation.floatbank11_sulfate_to_au_feed    float64\n",
       "primary_cleaner.output.tail_pb                        float64\n",
       "rougher.calculation.sulfate_to_au_concentrate         float64\n",
       "rougher.output.tail_au                                float64\n",
       "rougher.output.tail_sol                               float64\n",
       "rougher.output.concentrate_sol                        float64\n",
       "rougher.output.tail_pb                                float64\n",
       "primary_cleaner.output.tail_ag                        float64\n",
       "rougher.calculation.au_pb_ratio                       float64\n",
       "primary_cleaner.output.tail_au                        float64\n",
       "rougher.output.tail_ag                                float64\n",
       "final.output.concentrate_ag                           float64\n",
       "final.output.tail_au                                  float64\n",
       "primary_cleaner.output.concentrate_sol                float64\n",
       "secondary_cleaner.output.tail_ag                      float64\n",
       "rougher.output.concentrate_au                         float64\n",
       "rougher.calculation.floatbank10_sulfate_to_au_feed    float64\n",
       "primary_cleaner.output.concentrate_au                 float64\n",
       "dtype: object"
      ]
     },
     "execution_count": 13,
     "metadata": {},
     "output_type": "execute_result"
    }
   ],
   "source": [
    "# Найдем признаки, которых нет в тестовой выборке и определим их тип\n",
    "(train_data[set(train_data.columns.to_list()) - set(test_data.columns.to_list())]).dtypes"
   ]
  },
  {
   "cell_type": "markdown",
   "metadata": {},
   "source": [
    "**Вывод:**\n",
    "\n",
    "В тестовой выборке отсутствуют признаки, у которых тип параметра либо output (параметры продукта), либо calculation(расчётные характеристики).\n",
    "\n",
    "Эти характеристики замеряются и/или рассчитываются значительно позже.\n",
    "\n",
    "У всех характеристик тип **float**."
   ]
  },
  {
   "cell_type": "markdown",
   "metadata": {},
   "source": [
    "### Предобработка данных"
   ]
  },
  {
   "cell_type": "markdown",
   "metadata": {},
   "source": [
    "#### Проверяем полные дубликаты"
   ]
  },
  {
   "cell_type": "code",
   "execution_count": 14,
   "metadata": {},
   "outputs": [
    {
     "data": {
      "text/plain": [
       "0"
      ]
     },
     "execution_count": 14,
     "metadata": {},
     "output_type": "execute_result"
    }
   ],
   "source": [
    "train_data.duplicated().sum()"
   ]
  },
  {
   "cell_type": "code",
   "execution_count": 15,
   "metadata": {},
   "outputs": [
    {
     "data": {
      "text/plain": [
       "0"
      ]
     },
     "execution_count": 15,
     "metadata": {},
     "output_type": "execute_result"
    }
   ],
   "source": [
    "test_data.duplicated().sum()"
   ]
  },
  {
   "cell_type": "code",
   "execution_count": 16,
   "metadata": {
    "scrolled": false
   },
   "outputs": [
    {
     "data": {
      "text/plain": [
       "0"
      ]
     },
     "execution_count": 16,
     "metadata": {},
     "output_type": "execute_result"
    }
   ],
   "source": [
    "full_data.duplicated().sum()"
   ]
  },
  {
   "cell_type": "markdown",
   "metadata": {},
   "source": [
    "#### Отсутствующие значения"
   ]
  },
  {
   "cell_type": "markdown",
   "metadata": {},
   "source": [
    "##### Выборка train_data"
   ]
  },
  {
   "cell_type": "code",
   "execution_count": 17,
   "metadata": {
    "scrolled": false
   },
   "outputs": [
    {
     "data": {
      "text/html": [
       "<style  type=\"text/css\" >\n",
       "#T_8b762_row0_col0,#T_8b762_row1_col0,#T_8b762_row2_col0,#T_8b762_row3_col0,#T_8b762_row5_col0,#T_8b762_row7_col0,#T_8b762_row8_col0,#T_8b762_row9_col0,#T_8b762_row10_col0,#T_8b762_row11_col0,#T_8b762_row12_col0,#T_8b762_row13_col0,#T_8b762_row14_col0,#T_8b762_row15_col0,#T_8b762_row16_col0,#T_8b762_row18_col0,#T_8b762_row19_col0,#T_8b762_row20_col0,#T_8b762_row21_col0,#T_8b762_row23_col0,#T_8b762_row24_col0,#T_8b762_row25_col0,#T_8b762_row26_col0,#T_8b762_row27_col0,#T_8b762_row28_col0,#T_8b762_row29_col0,#T_8b762_row30_col0,#T_8b762_row31_col0,#T_8b762_row32_col0,#T_8b762_row33_col0,#T_8b762_row34_col0,#T_8b762_row35_col0,#T_8b762_row36_col0,#T_8b762_row37_col0,#T_8b762_row38_col0,#T_8b762_row39_col0,#T_8b762_row40_col0,#T_8b762_row41_col0,#T_8b762_row42_col0,#T_8b762_row43_col0,#T_8b762_row44_col0,#T_8b762_row45_col0,#T_8b762_row46_col0,#T_8b762_row47_col0,#T_8b762_row48_col0,#T_8b762_row49_col0,#T_8b762_row52_col0,#T_8b762_row53_col0,#T_8b762_row54_col0,#T_8b762_row55_col0,#T_8b762_row57_col0,#T_8b762_row58_col0,#T_8b762_row59_col0,#T_8b762_row60_col0,#T_8b762_row61_col0,#T_8b762_row62_col0,#T_8b762_row63_col0,#T_8b762_row64_col0,#T_8b762_row65_col0,#T_8b762_row66_col0,#T_8b762_row67_col0,#T_8b762_row68_col0,#T_8b762_row69_col0,#T_8b762_row70_col0,#T_8b762_row71_col0,#T_8b762_row72_col0,#T_8b762_row73_col0,#T_8b762_row74_col0,#T_8b762_row75_col0,#T_8b762_row76_col0,#T_8b762_row78_col0,#T_8b762_row79_col0,#T_8b762_row80_col0,#T_8b762_row82_col0,#T_8b762_row83_col0,#T_8b762_row84_col0,#T_8b762_row86_col0{\n",
       "            background-color:  #ffffcc;\n",
       "            color:  #000000;\n",
       "        }#T_8b762_row4_col0,#T_8b762_row6_col0,#T_8b762_row50_col0,#T_8b762_row56_col0,#T_8b762_row81_col0,#T_8b762_row85_col0{\n",
       "            background-color:  #ffe793;\n",
       "            color:  #000000;\n",
       "        }#T_8b762_row17_col0,#T_8b762_row22_col0{\n",
       "            background-color:  #fd8c3c;\n",
       "            color:  #000000;\n",
       "        }#T_8b762_row51_col0{\n",
       "            background-color:  #febf5a;\n",
       "            color:  #000000;\n",
       "        }#T_8b762_row77_col0{\n",
       "            background-color:  #800026;\n",
       "            color:  #f1f1f1;\n",
       "        }</style><table id=\"T_8b762_\" ><thead>    <tr>        <th class=\"blank level0\" ></th>        <th class=\"col_heading level0 col0\" >0</th>    </tr></thead><tbody>\n",
       "                <tr>\n",
       "                        <th id=\"T_8b762_level0_row0\" class=\"row_heading level0 row0\" >date</th>\n",
       "                        <td id=\"T_8b762_row0_col0\" class=\"data row0 col0\" >0.000000</td>\n",
       "            </tr>\n",
       "            <tr>\n",
       "                        <th id=\"T_8b762_level0_row1\" class=\"row_heading level0 row1\" >rougher.input.feed_au</th>\n",
       "                        <td id=\"T_8b762_row1_col0\" class=\"data row1 col0\" >0.000000</td>\n",
       "            </tr>\n",
       "            <tr>\n",
       "                        <th id=\"T_8b762_level0_row2\" class=\"row_heading level0 row2\" >rougher.input.feed_ag</th>\n",
       "                        <td id=\"T_8b762_row2_col0\" class=\"data row2 col0\" >0.000000</td>\n",
       "            </tr>\n",
       "            <tr>\n",
       "                        <th id=\"T_8b762_level0_row3\" class=\"row_heading level0 row3\" >rougher.input.feed_pb</th>\n",
       "                        <td id=\"T_8b762_row3_col0\" class=\"data row3 col0\" >0.000000</td>\n",
       "            </tr>\n",
       "            <tr>\n",
       "                        <th id=\"T_8b762_level0_row4\" class=\"row_heading level0 row4\" >rougher.input.feed_sol</th>\n",
       "                        <td id=\"T_8b762_row4_col0\" class=\"data row4 col0\" >1.000000</td>\n",
       "            </tr>\n",
       "            <tr>\n",
       "                        <th id=\"T_8b762_level0_row5\" class=\"row_heading level0 row5\" >rougher.input.feed_rate</th>\n",
       "                        <td id=\"T_8b762_row5_col0\" class=\"data row5 col0\" >0.000000</td>\n",
       "            </tr>\n",
       "            <tr>\n",
       "                        <th id=\"T_8b762_level0_row6\" class=\"row_heading level0 row6\" >rougher.input.feed_size</th>\n",
       "                        <td id=\"T_8b762_row6_col0\" class=\"data row6 col0\" >1.000000</td>\n",
       "            </tr>\n",
       "            <tr>\n",
       "                        <th id=\"T_8b762_level0_row7\" class=\"row_heading level0 row7\" >rougher.input.floatbank10_sulfate</th>\n",
       "                        <td id=\"T_8b762_row7_col0\" class=\"data row7 col0\" >0.000000</td>\n",
       "            </tr>\n",
       "            <tr>\n",
       "                        <th id=\"T_8b762_level0_row8\" class=\"row_heading level0 row8\" >rougher.input.floatbank10_xanthate</th>\n",
       "                        <td id=\"T_8b762_row8_col0\" class=\"data row8 col0\" >0.000000</td>\n",
       "            </tr>\n",
       "            <tr>\n",
       "                        <th id=\"T_8b762_level0_row9\" class=\"row_heading level0 row9\" >rougher.state.floatbank10_a_air</th>\n",
       "                        <td id=\"T_8b762_row9_col0\" class=\"data row9 col0\" >0.000000</td>\n",
       "            </tr>\n",
       "            <tr>\n",
       "                        <th id=\"T_8b762_level0_row10\" class=\"row_heading level0 row10\" >rougher.state.floatbank10_a_level</th>\n",
       "                        <td id=\"T_8b762_row10_col0\" class=\"data row10 col0\" >0.000000</td>\n",
       "            </tr>\n",
       "            <tr>\n",
       "                        <th id=\"T_8b762_level0_row11\" class=\"row_heading level0 row11\" >rougher.state.floatbank10_b_air</th>\n",
       "                        <td id=\"T_8b762_row11_col0\" class=\"data row11 col0\" >0.000000</td>\n",
       "            </tr>\n",
       "            <tr>\n",
       "                        <th id=\"T_8b762_level0_row12\" class=\"row_heading level0 row12\" >rougher.state.floatbank10_b_level</th>\n",
       "                        <td id=\"T_8b762_row12_col0\" class=\"data row12 col0\" >0.000000</td>\n",
       "            </tr>\n",
       "            <tr>\n",
       "                        <th id=\"T_8b762_level0_row13\" class=\"row_heading level0 row13\" >rougher.state.floatbank10_c_air</th>\n",
       "                        <td id=\"T_8b762_row13_col0\" class=\"data row13 col0\" >0.000000</td>\n",
       "            </tr>\n",
       "            <tr>\n",
       "                        <th id=\"T_8b762_level0_row14\" class=\"row_heading level0 row14\" >rougher.state.floatbank10_c_level</th>\n",
       "                        <td id=\"T_8b762_row14_col0\" class=\"data row14 col0\" >0.000000</td>\n",
       "            </tr>\n",
       "            <tr>\n",
       "                        <th id=\"T_8b762_level0_row15\" class=\"row_heading level0 row15\" >rougher.state.floatbank10_d_air</th>\n",
       "                        <td id=\"T_8b762_row15_col0\" class=\"data row15 col0\" >0.000000</td>\n",
       "            </tr>\n",
       "            <tr>\n",
       "                        <th id=\"T_8b762_level0_row16\" class=\"row_heading level0 row16\" >rougher.state.floatbank10_d_level</th>\n",
       "                        <td id=\"T_8b762_row16_col0\" class=\"data row16 col0\" >0.000000</td>\n",
       "            </tr>\n",
       "            <tr>\n",
       "                        <th id=\"T_8b762_level0_row17\" class=\"row_heading level0 row17\" >rougher.state.floatbank10_e_air</th>\n",
       "                        <td id=\"T_8b762_row17_col0\" class=\"data row17 col0\" >3.000000</td>\n",
       "            </tr>\n",
       "            <tr>\n",
       "                        <th id=\"T_8b762_level0_row18\" class=\"row_heading level0 row18\" >rougher.state.floatbank10_e_level</th>\n",
       "                        <td id=\"T_8b762_row18_col0\" class=\"data row18 col0\" >0.000000</td>\n",
       "            </tr>\n",
       "            <tr>\n",
       "                        <th id=\"T_8b762_level0_row19\" class=\"row_heading level0 row19\" >rougher.state.floatbank10_f_air</th>\n",
       "                        <td id=\"T_8b762_row19_col0\" class=\"data row19 col0\" >0.000000</td>\n",
       "            </tr>\n",
       "            <tr>\n",
       "                        <th id=\"T_8b762_level0_row20\" class=\"row_heading level0 row20\" >rougher.state.floatbank10_f_level</th>\n",
       "                        <td id=\"T_8b762_row20_col0\" class=\"data row20 col0\" >0.000000</td>\n",
       "            </tr>\n",
       "            <tr>\n",
       "                        <th id=\"T_8b762_level0_row21\" class=\"row_heading level0 row21\" >rougher.input.floatbank11_sulfate</th>\n",
       "                        <td id=\"T_8b762_row21_col0\" class=\"data row21 col0\" >0.000000</td>\n",
       "            </tr>\n",
       "            <tr>\n",
       "                        <th id=\"T_8b762_level0_row22\" class=\"row_heading level0 row22\" >rougher.input.floatbank11_xanthate</th>\n",
       "                        <td id=\"T_8b762_row22_col0\" class=\"data row22 col0\" >3.000000</td>\n",
       "            </tr>\n",
       "            <tr>\n",
       "                        <th id=\"T_8b762_level0_row23\" class=\"row_heading level0 row23\" >rougher.calculation.sulfate_to_au_concentrate</th>\n",
       "                        <td id=\"T_8b762_row23_col0\" class=\"data row23 col0\" >0.000000</td>\n",
       "            </tr>\n",
       "            <tr>\n",
       "                        <th id=\"T_8b762_level0_row24\" class=\"row_heading level0 row24\" >rougher.calculation.floatbank10_sulfate_to_au_feed</th>\n",
       "                        <td id=\"T_8b762_row24_col0\" class=\"data row24 col0\" >0.000000</td>\n",
       "            </tr>\n",
       "            <tr>\n",
       "                        <th id=\"T_8b762_level0_row25\" class=\"row_heading level0 row25\" >rougher.calculation.floatbank11_sulfate_to_au_feed</th>\n",
       "                        <td id=\"T_8b762_row25_col0\" class=\"data row25 col0\" >0.000000</td>\n",
       "            </tr>\n",
       "            <tr>\n",
       "                        <th id=\"T_8b762_level0_row26\" class=\"row_heading level0 row26\" >rougher.calculation.au_pb_ratio</th>\n",
       "                        <td id=\"T_8b762_row26_col0\" class=\"data row26 col0\" >0.000000</td>\n",
       "            </tr>\n",
       "            <tr>\n",
       "                        <th id=\"T_8b762_level0_row27\" class=\"row_heading level0 row27\" >rougher.output.concentrate_au</th>\n",
       "                        <td id=\"T_8b762_row27_col0\" class=\"data row27 col0\" >0.000000</td>\n",
       "            </tr>\n",
       "            <tr>\n",
       "                        <th id=\"T_8b762_level0_row28\" class=\"row_heading level0 row28\" >rougher.output.concentrate_ag</th>\n",
       "                        <td id=\"T_8b762_row28_col0\" class=\"data row28 col0\" >0.000000</td>\n",
       "            </tr>\n",
       "            <tr>\n",
       "                        <th id=\"T_8b762_level0_row29\" class=\"row_heading level0 row29\" >rougher.output.concentrate_pb</th>\n",
       "                        <td id=\"T_8b762_row29_col0\" class=\"data row29 col0\" >0.000000</td>\n",
       "            </tr>\n",
       "            <tr>\n",
       "                        <th id=\"T_8b762_level0_row30\" class=\"row_heading level0 row30\" >rougher.output.concentrate_sol</th>\n",
       "                        <td id=\"T_8b762_row30_col0\" class=\"data row30 col0\" >0.000000</td>\n",
       "            </tr>\n",
       "            <tr>\n",
       "                        <th id=\"T_8b762_level0_row31\" class=\"row_heading level0 row31\" >rougher.output.recovery</th>\n",
       "                        <td id=\"T_8b762_row31_col0\" class=\"data row31 col0\" >0.000000</td>\n",
       "            </tr>\n",
       "            <tr>\n",
       "                        <th id=\"T_8b762_level0_row32\" class=\"row_heading level0 row32\" >rougher.output.tail_au</th>\n",
       "                        <td id=\"T_8b762_row32_col0\" class=\"data row32 col0\" >0.000000</td>\n",
       "            </tr>\n",
       "            <tr>\n",
       "                        <th id=\"T_8b762_level0_row33\" class=\"row_heading level0 row33\" >rougher.output.tail_ag</th>\n",
       "                        <td id=\"T_8b762_row33_col0\" class=\"data row33 col0\" >0.000000</td>\n",
       "            </tr>\n",
       "            <tr>\n",
       "                        <th id=\"T_8b762_level0_row34\" class=\"row_heading level0 row34\" >rougher.output.tail_pb</th>\n",
       "                        <td id=\"T_8b762_row34_col0\" class=\"data row34 col0\" >0.000000</td>\n",
       "            </tr>\n",
       "            <tr>\n",
       "                        <th id=\"T_8b762_level0_row35\" class=\"row_heading level0 row35\" >rougher.output.tail_sol</th>\n",
       "                        <td id=\"T_8b762_row35_col0\" class=\"data row35 col0\" >0.000000</td>\n",
       "            </tr>\n",
       "            <tr>\n",
       "                        <th id=\"T_8b762_level0_row36\" class=\"row_heading level0 row36\" >primary_cleaner.input.sulfate</th>\n",
       "                        <td id=\"T_8b762_row36_col0\" class=\"data row36 col0\" >0.000000</td>\n",
       "            </tr>\n",
       "            <tr>\n",
       "                        <th id=\"T_8b762_level0_row37\" class=\"row_heading level0 row37\" >primary_cleaner.input.depressant</th>\n",
       "                        <td id=\"T_8b762_row37_col0\" class=\"data row37 col0\" >0.000000</td>\n",
       "            </tr>\n",
       "            <tr>\n",
       "                        <th id=\"T_8b762_level0_row38\" class=\"row_heading level0 row38\" >primary_cleaner.input.feed_size</th>\n",
       "                        <td id=\"T_8b762_row38_col0\" class=\"data row38 col0\" >0.000000</td>\n",
       "            </tr>\n",
       "            <tr>\n",
       "                        <th id=\"T_8b762_level0_row39\" class=\"row_heading level0 row39\" >primary_cleaner.input.xanthate</th>\n",
       "                        <td id=\"T_8b762_row39_col0\" class=\"data row39 col0\" >0.000000</td>\n",
       "            </tr>\n",
       "            <tr>\n",
       "                        <th id=\"T_8b762_level0_row40\" class=\"row_heading level0 row40\" >primary_cleaner.state.floatbank8_a_air</th>\n",
       "                        <td id=\"T_8b762_row40_col0\" class=\"data row40 col0\" >0.000000</td>\n",
       "            </tr>\n",
       "            <tr>\n",
       "                        <th id=\"T_8b762_level0_row41\" class=\"row_heading level0 row41\" >primary_cleaner.state.floatbank8_a_level</th>\n",
       "                        <td id=\"T_8b762_row41_col0\" class=\"data row41 col0\" >0.000000</td>\n",
       "            </tr>\n",
       "            <tr>\n",
       "                        <th id=\"T_8b762_level0_row42\" class=\"row_heading level0 row42\" >primary_cleaner.state.floatbank8_b_air</th>\n",
       "                        <td id=\"T_8b762_row42_col0\" class=\"data row42 col0\" >0.000000</td>\n",
       "            </tr>\n",
       "            <tr>\n",
       "                        <th id=\"T_8b762_level0_row43\" class=\"row_heading level0 row43\" >primary_cleaner.state.floatbank8_b_level</th>\n",
       "                        <td id=\"T_8b762_row43_col0\" class=\"data row43 col0\" >0.000000</td>\n",
       "            </tr>\n",
       "            <tr>\n",
       "                        <th id=\"T_8b762_level0_row44\" class=\"row_heading level0 row44\" >primary_cleaner.state.floatbank8_c_air</th>\n",
       "                        <td id=\"T_8b762_row44_col0\" class=\"data row44 col0\" >0.000000</td>\n",
       "            </tr>\n",
       "            <tr>\n",
       "                        <th id=\"T_8b762_level0_row45\" class=\"row_heading level0 row45\" >primary_cleaner.state.floatbank8_c_level</th>\n",
       "                        <td id=\"T_8b762_row45_col0\" class=\"data row45 col0\" >0.000000</td>\n",
       "            </tr>\n",
       "            <tr>\n",
       "                        <th id=\"T_8b762_level0_row46\" class=\"row_heading level0 row46\" >primary_cleaner.state.floatbank8_d_air</th>\n",
       "                        <td id=\"T_8b762_row46_col0\" class=\"data row46 col0\" >0.000000</td>\n",
       "            </tr>\n",
       "            <tr>\n",
       "                        <th id=\"T_8b762_level0_row47\" class=\"row_heading level0 row47\" >primary_cleaner.state.floatbank8_d_level</th>\n",
       "                        <td id=\"T_8b762_row47_col0\" class=\"data row47 col0\" >0.000000</td>\n",
       "            </tr>\n",
       "            <tr>\n",
       "                        <th id=\"T_8b762_level0_row48\" class=\"row_heading level0 row48\" >primary_cleaner.output.concentrate_au</th>\n",
       "                        <td id=\"T_8b762_row48_col0\" class=\"data row48 col0\" >0.000000</td>\n",
       "            </tr>\n",
       "            <tr>\n",
       "                        <th id=\"T_8b762_level0_row49\" class=\"row_heading level0 row49\" >primary_cleaner.output.concentrate_ag</th>\n",
       "                        <td id=\"T_8b762_row49_col0\" class=\"data row49 col0\" >0.000000</td>\n",
       "            </tr>\n",
       "            <tr>\n",
       "                        <th id=\"T_8b762_level0_row50\" class=\"row_heading level0 row50\" >primary_cleaner.output.concentrate_pb</th>\n",
       "                        <td id=\"T_8b762_row50_col0\" class=\"data row50 col0\" >1.000000</td>\n",
       "            </tr>\n",
       "            <tr>\n",
       "                        <th id=\"T_8b762_level0_row51\" class=\"row_heading level0 row51\" >primary_cleaner.output.concentrate_sol</th>\n",
       "                        <td id=\"T_8b762_row51_col0\" class=\"data row51 col0\" >2.000000</td>\n",
       "            </tr>\n",
       "            <tr>\n",
       "                        <th id=\"T_8b762_level0_row52\" class=\"row_heading level0 row52\" >primary_cleaner.output.tail_au</th>\n",
       "                        <td id=\"T_8b762_row52_col0\" class=\"data row52 col0\" >0.000000</td>\n",
       "            </tr>\n",
       "            <tr>\n",
       "                        <th id=\"T_8b762_level0_row53\" class=\"row_heading level0 row53\" >primary_cleaner.output.tail_ag</th>\n",
       "                        <td id=\"T_8b762_row53_col0\" class=\"data row53 col0\" >0.000000</td>\n",
       "            </tr>\n",
       "            <tr>\n",
       "                        <th id=\"T_8b762_level0_row54\" class=\"row_heading level0 row54\" >primary_cleaner.output.tail_pb</th>\n",
       "                        <td id=\"T_8b762_row54_col0\" class=\"data row54 col0\" >0.000000</td>\n",
       "            </tr>\n",
       "            <tr>\n",
       "                        <th id=\"T_8b762_level0_row55\" class=\"row_heading level0 row55\" >primary_cleaner.output.tail_sol</th>\n",
       "                        <td id=\"T_8b762_row55_col0\" class=\"data row55 col0\" >0.000000</td>\n",
       "            </tr>\n",
       "            <tr>\n",
       "                        <th id=\"T_8b762_level0_row56\" class=\"row_heading level0 row56\" >secondary_cleaner.state.floatbank2_a_air</th>\n",
       "                        <td id=\"T_8b762_row56_col0\" class=\"data row56 col0\" >1.000000</td>\n",
       "            </tr>\n",
       "            <tr>\n",
       "                        <th id=\"T_8b762_level0_row57\" class=\"row_heading level0 row57\" >secondary_cleaner.state.floatbank2_a_level</th>\n",
       "                        <td id=\"T_8b762_row57_col0\" class=\"data row57 col0\" >0.000000</td>\n",
       "            </tr>\n",
       "            <tr>\n",
       "                        <th id=\"T_8b762_level0_row58\" class=\"row_heading level0 row58\" >secondary_cleaner.state.floatbank2_b_air</th>\n",
       "                        <td id=\"T_8b762_row58_col0\" class=\"data row58 col0\" >0.000000</td>\n",
       "            </tr>\n",
       "            <tr>\n",
       "                        <th id=\"T_8b762_level0_row59\" class=\"row_heading level0 row59\" >secondary_cleaner.state.floatbank2_b_level</th>\n",
       "                        <td id=\"T_8b762_row59_col0\" class=\"data row59 col0\" >0.000000</td>\n",
       "            </tr>\n",
       "            <tr>\n",
       "                        <th id=\"T_8b762_level0_row60\" class=\"row_heading level0 row60\" >secondary_cleaner.state.floatbank3_a_air</th>\n",
       "                        <td id=\"T_8b762_row60_col0\" class=\"data row60 col0\" >0.000000</td>\n",
       "            </tr>\n",
       "            <tr>\n",
       "                        <th id=\"T_8b762_level0_row61\" class=\"row_heading level0 row61\" >secondary_cleaner.state.floatbank3_a_level</th>\n",
       "                        <td id=\"T_8b762_row61_col0\" class=\"data row61 col0\" >0.000000</td>\n",
       "            </tr>\n",
       "            <tr>\n",
       "                        <th id=\"T_8b762_level0_row62\" class=\"row_heading level0 row62\" >secondary_cleaner.state.floatbank3_b_air</th>\n",
       "                        <td id=\"T_8b762_row62_col0\" class=\"data row62 col0\" >0.000000</td>\n",
       "            </tr>\n",
       "            <tr>\n",
       "                        <th id=\"T_8b762_level0_row63\" class=\"row_heading level0 row63\" >secondary_cleaner.state.floatbank3_b_level</th>\n",
       "                        <td id=\"T_8b762_row63_col0\" class=\"data row63 col0\" >0.000000</td>\n",
       "            </tr>\n",
       "            <tr>\n",
       "                        <th id=\"T_8b762_level0_row64\" class=\"row_heading level0 row64\" >secondary_cleaner.state.floatbank4_a_air</th>\n",
       "                        <td id=\"T_8b762_row64_col0\" class=\"data row64 col0\" >0.000000</td>\n",
       "            </tr>\n",
       "            <tr>\n",
       "                        <th id=\"T_8b762_level0_row65\" class=\"row_heading level0 row65\" >secondary_cleaner.state.floatbank4_a_level</th>\n",
       "                        <td id=\"T_8b762_row65_col0\" class=\"data row65 col0\" >0.000000</td>\n",
       "            </tr>\n",
       "            <tr>\n",
       "                        <th id=\"T_8b762_level0_row66\" class=\"row_heading level0 row66\" >secondary_cleaner.state.floatbank4_b_air</th>\n",
       "                        <td id=\"T_8b762_row66_col0\" class=\"data row66 col0\" >0.000000</td>\n",
       "            </tr>\n",
       "            <tr>\n",
       "                        <th id=\"T_8b762_level0_row67\" class=\"row_heading level0 row67\" >secondary_cleaner.state.floatbank4_b_level</th>\n",
       "                        <td id=\"T_8b762_row67_col0\" class=\"data row67 col0\" >0.000000</td>\n",
       "            </tr>\n",
       "            <tr>\n",
       "                        <th id=\"T_8b762_level0_row68\" class=\"row_heading level0 row68\" >secondary_cleaner.state.floatbank5_a_air</th>\n",
       "                        <td id=\"T_8b762_row68_col0\" class=\"data row68 col0\" >0.000000</td>\n",
       "            </tr>\n",
       "            <tr>\n",
       "                        <th id=\"T_8b762_level0_row69\" class=\"row_heading level0 row69\" >secondary_cleaner.state.floatbank5_a_level</th>\n",
       "                        <td id=\"T_8b762_row69_col0\" class=\"data row69 col0\" >0.000000</td>\n",
       "            </tr>\n",
       "            <tr>\n",
       "                        <th id=\"T_8b762_level0_row70\" class=\"row_heading level0 row70\" >secondary_cleaner.state.floatbank5_b_air</th>\n",
       "                        <td id=\"T_8b762_row70_col0\" class=\"data row70 col0\" >0.000000</td>\n",
       "            </tr>\n",
       "            <tr>\n",
       "                        <th id=\"T_8b762_level0_row71\" class=\"row_heading level0 row71\" >secondary_cleaner.state.floatbank5_b_level</th>\n",
       "                        <td id=\"T_8b762_row71_col0\" class=\"data row71 col0\" >0.000000</td>\n",
       "            </tr>\n",
       "            <tr>\n",
       "                        <th id=\"T_8b762_level0_row72\" class=\"row_heading level0 row72\" >secondary_cleaner.state.floatbank6_a_air</th>\n",
       "                        <td id=\"T_8b762_row72_col0\" class=\"data row72 col0\" >0.000000</td>\n",
       "            </tr>\n",
       "            <tr>\n",
       "                        <th id=\"T_8b762_level0_row73\" class=\"row_heading level0 row73\" >secondary_cleaner.state.floatbank6_a_level</th>\n",
       "                        <td id=\"T_8b762_row73_col0\" class=\"data row73 col0\" >0.000000</td>\n",
       "            </tr>\n",
       "            <tr>\n",
       "                        <th id=\"T_8b762_level0_row74\" class=\"row_heading level0 row74\" >secondary_cleaner.output.tail_au</th>\n",
       "                        <td id=\"T_8b762_row74_col0\" class=\"data row74 col0\" >0.000000</td>\n",
       "            </tr>\n",
       "            <tr>\n",
       "                        <th id=\"T_8b762_level0_row75\" class=\"row_heading level0 row75\" >secondary_cleaner.output.tail_ag</th>\n",
       "                        <td id=\"T_8b762_row75_col0\" class=\"data row75 col0\" >0.000000</td>\n",
       "            </tr>\n",
       "            <tr>\n",
       "                        <th id=\"T_8b762_level0_row76\" class=\"row_heading level0 row76\" >secondary_cleaner.output.tail_pb</th>\n",
       "                        <td id=\"T_8b762_row76_col0\" class=\"data row76 col0\" >0.000000</td>\n",
       "            </tr>\n",
       "            <tr>\n",
       "                        <th id=\"T_8b762_level0_row77\" class=\"row_heading level0 row77\" >secondary_cleaner.output.tail_sol</th>\n",
       "                        <td id=\"T_8b762_row77_col0\" class=\"data row77 col0\" >6.000000</td>\n",
       "            </tr>\n",
       "            <tr>\n",
       "                        <th id=\"T_8b762_level0_row78\" class=\"row_heading level0 row78\" >final.output.concentrate_au</th>\n",
       "                        <td id=\"T_8b762_row78_col0\" class=\"data row78 col0\" >0.000000</td>\n",
       "            </tr>\n",
       "            <tr>\n",
       "                        <th id=\"T_8b762_level0_row79\" class=\"row_heading level0 row79\" >final.output.concentrate_ag</th>\n",
       "                        <td id=\"T_8b762_row79_col0\" class=\"data row79 col0\" >0.000000</td>\n",
       "            </tr>\n",
       "            <tr>\n",
       "                        <th id=\"T_8b762_level0_row80\" class=\"row_heading level0 row80\" >final.output.concentrate_pb</th>\n",
       "                        <td id=\"T_8b762_row80_col0\" class=\"data row80 col0\" >0.000000</td>\n",
       "            </tr>\n",
       "            <tr>\n",
       "                        <th id=\"T_8b762_level0_row81\" class=\"row_heading level0 row81\" >final.output.concentrate_sol</th>\n",
       "                        <td id=\"T_8b762_row81_col0\" class=\"data row81 col0\" >1.000000</td>\n",
       "            </tr>\n",
       "            <tr>\n",
       "                        <th id=\"T_8b762_level0_row82\" class=\"row_heading level0 row82\" >final.output.recovery</th>\n",
       "                        <td id=\"T_8b762_row82_col0\" class=\"data row82 col0\" >0.000000</td>\n",
       "            </tr>\n",
       "            <tr>\n",
       "                        <th id=\"T_8b762_level0_row83\" class=\"row_heading level0 row83\" >final.output.tail_au</th>\n",
       "                        <td id=\"T_8b762_row83_col0\" class=\"data row83 col0\" >0.000000</td>\n",
       "            </tr>\n",
       "            <tr>\n",
       "                        <th id=\"T_8b762_level0_row84\" class=\"row_heading level0 row84\" >final.output.tail_ag</th>\n",
       "                        <td id=\"T_8b762_row84_col0\" class=\"data row84 col0\" >0.000000</td>\n",
       "            </tr>\n",
       "            <tr>\n",
       "                        <th id=\"T_8b762_level0_row85\" class=\"row_heading level0 row85\" >final.output.tail_pb</th>\n",
       "                        <td id=\"T_8b762_row85_col0\" class=\"data row85 col0\" >1.000000</td>\n",
       "            </tr>\n",
       "            <tr>\n",
       "                        <th id=\"T_8b762_level0_row86\" class=\"row_heading level0 row86\" >final.output.tail_sol</th>\n",
       "                        <td id=\"T_8b762_row86_col0\" class=\"data row86 col0\" >0.000000</td>\n",
       "            </tr>\n",
       "    </tbody></table>"
      ],
      "text/plain": [
       "<pandas.io.formats.style.Styler at 0x7fdb91afc1c0>"
      ]
     },
     "execution_count": 17,
     "metadata": {},
     "output_type": "execute_result"
    }
   ],
   "source": [
    "pd.DataFrame(round(train_data.isna().mean()*100,)).style.background_gradient('YlOrRd')"
   ]
  },
  {
   "cell_type": "markdown",
   "metadata": {},
   "source": [
    "Из описания проекта известно, что соседние по времени параметры часто похожи. Поэтому заполняем пропуски соседними параметрами."
   ]
  },
  {
   "cell_type": "code",
   "execution_count": 18,
   "metadata": {},
   "outputs": [],
   "source": [
    "train_data.ffill(axis='rows', inplace=True) # нулевые значения заменяются данными из предыдущей строки."
   ]
  },
  {
   "cell_type": "code",
   "execution_count": 19,
   "metadata": {
    "scrolled": true
   },
   "outputs": [
    {
     "data": {
      "text/html": [
       "<style  type=\"text/css\" >\n",
       "#T_8d464_row0_col0,#T_8d464_row1_col0,#T_8d464_row2_col0,#T_8d464_row3_col0,#T_8d464_row4_col0,#T_8d464_row5_col0,#T_8d464_row6_col0,#T_8d464_row7_col0,#T_8d464_row8_col0,#T_8d464_row9_col0,#T_8d464_row10_col0,#T_8d464_row11_col0,#T_8d464_row12_col0,#T_8d464_row13_col0,#T_8d464_row14_col0,#T_8d464_row15_col0,#T_8d464_row16_col0,#T_8d464_row17_col0,#T_8d464_row18_col0,#T_8d464_row19_col0,#T_8d464_row20_col0,#T_8d464_row21_col0,#T_8d464_row22_col0,#T_8d464_row23_col0,#T_8d464_row24_col0,#T_8d464_row25_col0,#T_8d464_row26_col0,#T_8d464_row27_col0,#T_8d464_row28_col0,#T_8d464_row29_col0,#T_8d464_row30_col0,#T_8d464_row31_col0,#T_8d464_row32_col0,#T_8d464_row33_col0,#T_8d464_row34_col0,#T_8d464_row35_col0,#T_8d464_row36_col0,#T_8d464_row37_col0,#T_8d464_row38_col0,#T_8d464_row39_col0,#T_8d464_row40_col0,#T_8d464_row41_col0,#T_8d464_row42_col0,#T_8d464_row43_col0,#T_8d464_row44_col0,#T_8d464_row45_col0,#T_8d464_row46_col0,#T_8d464_row47_col0,#T_8d464_row48_col0,#T_8d464_row49_col0,#T_8d464_row50_col0,#T_8d464_row51_col0,#T_8d464_row52_col0,#T_8d464_row53_col0,#T_8d464_row54_col0,#T_8d464_row55_col0,#T_8d464_row56_col0,#T_8d464_row57_col0,#T_8d464_row58_col0,#T_8d464_row59_col0,#T_8d464_row60_col0,#T_8d464_row61_col0,#T_8d464_row62_col0,#T_8d464_row63_col0,#T_8d464_row64_col0,#T_8d464_row65_col0,#T_8d464_row66_col0,#T_8d464_row67_col0,#T_8d464_row68_col0,#T_8d464_row69_col0,#T_8d464_row70_col0,#T_8d464_row71_col0,#T_8d464_row72_col0,#T_8d464_row73_col0,#T_8d464_row74_col0,#T_8d464_row75_col0,#T_8d464_row76_col0,#T_8d464_row77_col0,#T_8d464_row78_col0,#T_8d464_row79_col0,#T_8d464_row80_col0,#T_8d464_row81_col0,#T_8d464_row82_col0,#T_8d464_row83_col0,#T_8d464_row84_col0,#T_8d464_row85_col0,#T_8d464_row86_col0{\n",
       "            background-color:  #ffffcc;\n",
       "            color:  #000000;\n",
       "        }</style><table id=\"T_8d464_\" ><thead>    <tr>        <th class=\"blank level0\" ></th>        <th class=\"col_heading level0 col0\" >0</th>    </tr></thead><tbody>\n",
       "                <tr>\n",
       "                        <th id=\"T_8d464_level0_row0\" class=\"row_heading level0 row0\" >date</th>\n",
       "                        <td id=\"T_8d464_row0_col0\" class=\"data row0 col0\" >0.000000</td>\n",
       "            </tr>\n",
       "            <tr>\n",
       "                        <th id=\"T_8d464_level0_row1\" class=\"row_heading level0 row1\" >rougher.input.feed_au</th>\n",
       "                        <td id=\"T_8d464_row1_col0\" class=\"data row1 col0\" >0.000000</td>\n",
       "            </tr>\n",
       "            <tr>\n",
       "                        <th id=\"T_8d464_level0_row2\" class=\"row_heading level0 row2\" >rougher.input.feed_ag</th>\n",
       "                        <td id=\"T_8d464_row2_col0\" class=\"data row2 col0\" >0.000000</td>\n",
       "            </tr>\n",
       "            <tr>\n",
       "                        <th id=\"T_8d464_level0_row3\" class=\"row_heading level0 row3\" >rougher.input.feed_pb</th>\n",
       "                        <td id=\"T_8d464_row3_col0\" class=\"data row3 col0\" >0.000000</td>\n",
       "            </tr>\n",
       "            <tr>\n",
       "                        <th id=\"T_8d464_level0_row4\" class=\"row_heading level0 row4\" >rougher.input.feed_sol</th>\n",
       "                        <td id=\"T_8d464_row4_col0\" class=\"data row4 col0\" >0.000000</td>\n",
       "            </tr>\n",
       "            <tr>\n",
       "                        <th id=\"T_8d464_level0_row5\" class=\"row_heading level0 row5\" >rougher.input.feed_rate</th>\n",
       "                        <td id=\"T_8d464_row5_col0\" class=\"data row5 col0\" >0.000000</td>\n",
       "            </tr>\n",
       "            <tr>\n",
       "                        <th id=\"T_8d464_level0_row6\" class=\"row_heading level0 row6\" >rougher.input.feed_size</th>\n",
       "                        <td id=\"T_8d464_row6_col0\" class=\"data row6 col0\" >0.000000</td>\n",
       "            </tr>\n",
       "            <tr>\n",
       "                        <th id=\"T_8d464_level0_row7\" class=\"row_heading level0 row7\" >rougher.input.floatbank10_sulfate</th>\n",
       "                        <td id=\"T_8d464_row7_col0\" class=\"data row7 col0\" >0.000000</td>\n",
       "            </tr>\n",
       "            <tr>\n",
       "                        <th id=\"T_8d464_level0_row8\" class=\"row_heading level0 row8\" >rougher.input.floatbank10_xanthate</th>\n",
       "                        <td id=\"T_8d464_row8_col0\" class=\"data row8 col0\" >0.000000</td>\n",
       "            </tr>\n",
       "            <tr>\n",
       "                        <th id=\"T_8d464_level0_row9\" class=\"row_heading level0 row9\" >rougher.state.floatbank10_a_air</th>\n",
       "                        <td id=\"T_8d464_row9_col0\" class=\"data row9 col0\" >0.000000</td>\n",
       "            </tr>\n",
       "            <tr>\n",
       "                        <th id=\"T_8d464_level0_row10\" class=\"row_heading level0 row10\" >rougher.state.floatbank10_a_level</th>\n",
       "                        <td id=\"T_8d464_row10_col0\" class=\"data row10 col0\" >0.000000</td>\n",
       "            </tr>\n",
       "            <tr>\n",
       "                        <th id=\"T_8d464_level0_row11\" class=\"row_heading level0 row11\" >rougher.state.floatbank10_b_air</th>\n",
       "                        <td id=\"T_8d464_row11_col0\" class=\"data row11 col0\" >0.000000</td>\n",
       "            </tr>\n",
       "            <tr>\n",
       "                        <th id=\"T_8d464_level0_row12\" class=\"row_heading level0 row12\" >rougher.state.floatbank10_b_level</th>\n",
       "                        <td id=\"T_8d464_row12_col0\" class=\"data row12 col0\" >0.000000</td>\n",
       "            </tr>\n",
       "            <tr>\n",
       "                        <th id=\"T_8d464_level0_row13\" class=\"row_heading level0 row13\" >rougher.state.floatbank10_c_air</th>\n",
       "                        <td id=\"T_8d464_row13_col0\" class=\"data row13 col0\" >0.000000</td>\n",
       "            </tr>\n",
       "            <tr>\n",
       "                        <th id=\"T_8d464_level0_row14\" class=\"row_heading level0 row14\" >rougher.state.floatbank10_c_level</th>\n",
       "                        <td id=\"T_8d464_row14_col0\" class=\"data row14 col0\" >0.000000</td>\n",
       "            </tr>\n",
       "            <tr>\n",
       "                        <th id=\"T_8d464_level0_row15\" class=\"row_heading level0 row15\" >rougher.state.floatbank10_d_air</th>\n",
       "                        <td id=\"T_8d464_row15_col0\" class=\"data row15 col0\" >0.000000</td>\n",
       "            </tr>\n",
       "            <tr>\n",
       "                        <th id=\"T_8d464_level0_row16\" class=\"row_heading level0 row16\" >rougher.state.floatbank10_d_level</th>\n",
       "                        <td id=\"T_8d464_row16_col0\" class=\"data row16 col0\" >0.000000</td>\n",
       "            </tr>\n",
       "            <tr>\n",
       "                        <th id=\"T_8d464_level0_row17\" class=\"row_heading level0 row17\" >rougher.state.floatbank10_e_air</th>\n",
       "                        <td id=\"T_8d464_row17_col0\" class=\"data row17 col0\" >0.000000</td>\n",
       "            </tr>\n",
       "            <tr>\n",
       "                        <th id=\"T_8d464_level0_row18\" class=\"row_heading level0 row18\" >rougher.state.floatbank10_e_level</th>\n",
       "                        <td id=\"T_8d464_row18_col0\" class=\"data row18 col0\" >0.000000</td>\n",
       "            </tr>\n",
       "            <tr>\n",
       "                        <th id=\"T_8d464_level0_row19\" class=\"row_heading level0 row19\" >rougher.state.floatbank10_f_air</th>\n",
       "                        <td id=\"T_8d464_row19_col0\" class=\"data row19 col0\" >0.000000</td>\n",
       "            </tr>\n",
       "            <tr>\n",
       "                        <th id=\"T_8d464_level0_row20\" class=\"row_heading level0 row20\" >rougher.state.floatbank10_f_level</th>\n",
       "                        <td id=\"T_8d464_row20_col0\" class=\"data row20 col0\" >0.000000</td>\n",
       "            </tr>\n",
       "            <tr>\n",
       "                        <th id=\"T_8d464_level0_row21\" class=\"row_heading level0 row21\" >rougher.input.floatbank11_sulfate</th>\n",
       "                        <td id=\"T_8d464_row21_col0\" class=\"data row21 col0\" >0.000000</td>\n",
       "            </tr>\n",
       "            <tr>\n",
       "                        <th id=\"T_8d464_level0_row22\" class=\"row_heading level0 row22\" >rougher.input.floatbank11_xanthate</th>\n",
       "                        <td id=\"T_8d464_row22_col0\" class=\"data row22 col0\" >0.000000</td>\n",
       "            </tr>\n",
       "            <tr>\n",
       "                        <th id=\"T_8d464_level0_row23\" class=\"row_heading level0 row23\" >rougher.calculation.sulfate_to_au_concentrate</th>\n",
       "                        <td id=\"T_8d464_row23_col0\" class=\"data row23 col0\" >0.000000</td>\n",
       "            </tr>\n",
       "            <tr>\n",
       "                        <th id=\"T_8d464_level0_row24\" class=\"row_heading level0 row24\" >rougher.calculation.floatbank10_sulfate_to_au_feed</th>\n",
       "                        <td id=\"T_8d464_row24_col0\" class=\"data row24 col0\" >0.000000</td>\n",
       "            </tr>\n",
       "            <tr>\n",
       "                        <th id=\"T_8d464_level0_row25\" class=\"row_heading level0 row25\" >rougher.calculation.floatbank11_sulfate_to_au_feed</th>\n",
       "                        <td id=\"T_8d464_row25_col0\" class=\"data row25 col0\" >0.000000</td>\n",
       "            </tr>\n",
       "            <tr>\n",
       "                        <th id=\"T_8d464_level0_row26\" class=\"row_heading level0 row26\" >rougher.calculation.au_pb_ratio</th>\n",
       "                        <td id=\"T_8d464_row26_col0\" class=\"data row26 col0\" >0.000000</td>\n",
       "            </tr>\n",
       "            <tr>\n",
       "                        <th id=\"T_8d464_level0_row27\" class=\"row_heading level0 row27\" >rougher.output.concentrate_au</th>\n",
       "                        <td id=\"T_8d464_row27_col0\" class=\"data row27 col0\" >0.000000</td>\n",
       "            </tr>\n",
       "            <tr>\n",
       "                        <th id=\"T_8d464_level0_row28\" class=\"row_heading level0 row28\" >rougher.output.concentrate_ag</th>\n",
       "                        <td id=\"T_8d464_row28_col0\" class=\"data row28 col0\" >0.000000</td>\n",
       "            </tr>\n",
       "            <tr>\n",
       "                        <th id=\"T_8d464_level0_row29\" class=\"row_heading level0 row29\" >rougher.output.concentrate_pb</th>\n",
       "                        <td id=\"T_8d464_row29_col0\" class=\"data row29 col0\" >0.000000</td>\n",
       "            </tr>\n",
       "            <tr>\n",
       "                        <th id=\"T_8d464_level0_row30\" class=\"row_heading level0 row30\" >rougher.output.concentrate_sol</th>\n",
       "                        <td id=\"T_8d464_row30_col0\" class=\"data row30 col0\" >0.000000</td>\n",
       "            </tr>\n",
       "            <tr>\n",
       "                        <th id=\"T_8d464_level0_row31\" class=\"row_heading level0 row31\" >rougher.output.recovery</th>\n",
       "                        <td id=\"T_8d464_row31_col0\" class=\"data row31 col0\" >0.000000</td>\n",
       "            </tr>\n",
       "            <tr>\n",
       "                        <th id=\"T_8d464_level0_row32\" class=\"row_heading level0 row32\" >rougher.output.tail_au</th>\n",
       "                        <td id=\"T_8d464_row32_col0\" class=\"data row32 col0\" >0.000000</td>\n",
       "            </tr>\n",
       "            <tr>\n",
       "                        <th id=\"T_8d464_level0_row33\" class=\"row_heading level0 row33\" >rougher.output.tail_ag</th>\n",
       "                        <td id=\"T_8d464_row33_col0\" class=\"data row33 col0\" >0.000000</td>\n",
       "            </tr>\n",
       "            <tr>\n",
       "                        <th id=\"T_8d464_level0_row34\" class=\"row_heading level0 row34\" >rougher.output.tail_pb</th>\n",
       "                        <td id=\"T_8d464_row34_col0\" class=\"data row34 col0\" >0.000000</td>\n",
       "            </tr>\n",
       "            <tr>\n",
       "                        <th id=\"T_8d464_level0_row35\" class=\"row_heading level0 row35\" >rougher.output.tail_sol</th>\n",
       "                        <td id=\"T_8d464_row35_col0\" class=\"data row35 col0\" >0.000000</td>\n",
       "            </tr>\n",
       "            <tr>\n",
       "                        <th id=\"T_8d464_level0_row36\" class=\"row_heading level0 row36\" >primary_cleaner.input.sulfate</th>\n",
       "                        <td id=\"T_8d464_row36_col0\" class=\"data row36 col0\" >0.000000</td>\n",
       "            </tr>\n",
       "            <tr>\n",
       "                        <th id=\"T_8d464_level0_row37\" class=\"row_heading level0 row37\" >primary_cleaner.input.depressant</th>\n",
       "                        <td id=\"T_8d464_row37_col0\" class=\"data row37 col0\" >0.000000</td>\n",
       "            </tr>\n",
       "            <tr>\n",
       "                        <th id=\"T_8d464_level0_row38\" class=\"row_heading level0 row38\" >primary_cleaner.input.feed_size</th>\n",
       "                        <td id=\"T_8d464_row38_col0\" class=\"data row38 col0\" >0.000000</td>\n",
       "            </tr>\n",
       "            <tr>\n",
       "                        <th id=\"T_8d464_level0_row39\" class=\"row_heading level0 row39\" >primary_cleaner.input.xanthate</th>\n",
       "                        <td id=\"T_8d464_row39_col0\" class=\"data row39 col0\" >0.000000</td>\n",
       "            </tr>\n",
       "            <tr>\n",
       "                        <th id=\"T_8d464_level0_row40\" class=\"row_heading level0 row40\" >primary_cleaner.state.floatbank8_a_air</th>\n",
       "                        <td id=\"T_8d464_row40_col0\" class=\"data row40 col0\" >0.000000</td>\n",
       "            </tr>\n",
       "            <tr>\n",
       "                        <th id=\"T_8d464_level0_row41\" class=\"row_heading level0 row41\" >primary_cleaner.state.floatbank8_a_level</th>\n",
       "                        <td id=\"T_8d464_row41_col0\" class=\"data row41 col0\" >0.000000</td>\n",
       "            </tr>\n",
       "            <tr>\n",
       "                        <th id=\"T_8d464_level0_row42\" class=\"row_heading level0 row42\" >primary_cleaner.state.floatbank8_b_air</th>\n",
       "                        <td id=\"T_8d464_row42_col0\" class=\"data row42 col0\" >0.000000</td>\n",
       "            </tr>\n",
       "            <tr>\n",
       "                        <th id=\"T_8d464_level0_row43\" class=\"row_heading level0 row43\" >primary_cleaner.state.floatbank8_b_level</th>\n",
       "                        <td id=\"T_8d464_row43_col0\" class=\"data row43 col0\" >0.000000</td>\n",
       "            </tr>\n",
       "            <tr>\n",
       "                        <th id=\"T_8d464_level0_row44\" class=\"row_heading level0 row44\" >primary_cleaner.state.floatbank8_c_air</th>\n",
       "                        <td id=\"T_8d464_row44_col0\" class=\"data row44 col0\" >0.000000</td>\n",
       "            </tr>\n",
       "            <tr>\n",
       "                        <th id=\"T_8d464_level0_row45\" class=\"row_heading level0 row45\" >primary_cleaner.state.floatbank8_c_level</th>\n",
       "                        <td id=\"T_8d464_row45_col0\" class=\"data row45 col0\" >0.000000</td>\n",
       "            </tr>\n",
       "            <tr>\n",
       "                        <th id=\"T_8d464_level0_row46\" class=\"row_heading level0 row46\" >primary_cleaner.state.floatbank8_d_air</th>\n",
       "                        <td id=\"T_8d464_row46_col0\" class=\"data row46 col0\" >0.000000</td>\n",
       "            </tr>\n",
       "            <tr>\n",
       "                        <th id=\"T_8d464_level0_row47\" class=\"row_heading level0 row47\" >primary_cleaner.state.floatbank8_d_level</th>\n",
       "                        <td id=\"T_8d464_row47_col0\" class=\"data row47 col0\" >0.000000</td>\n",
       "            </tr>\n",
       "            <tr>\n",
       "                        <th id=\"T_8d464_level0_row48\" class=\"row_heading level0 row48\" >primary_cleaner.output.concentrate_au</th>\n",
       "                        <td id=\"T_8d464_row48_col0\" class=\"data row48 col0\" >0.000000</td>\n",
       "            </tr>\n",
       "            <tr>\n",
       "                        <th id=\"T_8d464_level0_row49\" class=\"row_heading level0 row49\" >primary_cleaner.output.concentrate_ag</th>\n",
       "                        <td id=\"T_8d464_row49_col0\" class=\"data row49 col0\" >0.000000</td>\n",
       "            </tr>\n",
       "            <tr>\n",
       "                        <th id=\"T_8d464_level0_row50\" class=\"row_heading level0 row50\" >primary_cleaner.output.concentrate_pb</th>\n",
       "                        <td id=\"T_8d464_row50_col0\" class=\"data row50 col0\" >0.000000</td>\n",
       "            </tr>\n",
       "            <tr>\n",
       "                        <th id=\"T_8d464_level0_row51\" class=\"row_heading level0 row51\" >primary_cleaner.output.concentrate_sol</th>\n",
       "                        <td id=\"T_8d464_row51_col0\" class=\"data row51 col0\" >0.000000</td>\n",
       "            </tr>\n",
       "            <tr>\n",
       "                        <th id=\"T_8d464_level0_row52\" class=\"row_heading level0 row52\" >primary_cleaner.output.tail_au</th>\n",
       "                        <td id=\"T_8d464_row52_col0\" class=\"data row52 col0\" >0.000000</td>\n",
       "            </tr>\n",
       "            <tr>\n",
       "                        <th id=\"T_8d464_level0_row53\" class=\"row_heading level0 row53\" >primary_cleaner.output.tail_ag</th>\n",
       "                        <td id=\"T_8d464_row53_col0\" class=\"data row53 col0\" >0.000000</td>\n",
       "            </tr>\n",
       "            <tr>\n",
       "                        <th id=\"T_8d464_level0_row54\" class=\"row_heading level0 row54\" >primary_cleaner.output.tail_pb</th>\n",
       "                        <td id=\"T_8d464_row54_col0\" class=\"data row54 col0\" >0.000000</td>\n",
       "            </tr>\n",
       "            <tr>\n",
       "                        <th id=\"T_8d464_level0_row55\" class=\"row_heading level0 row55\" >primary_cleaner.output.tail_sol</th>\n",
       "                        <td id=\"T_8d464_row55_col0\" class=\"data row55 col0\" >0.000000</td>\n",
       "            </tr>\n",
       "            <tr>\n",
       "                        <th id=\"T_8d464_level0_row56\" class=\"row_heading level0 row56\" >secondary_cleaner.state.floatbank2_a_air</th>\n",
       "                        <td id=\"T_8d464_row56_col0\" class=\"data row56 col0\" >0.000000</td>\n",
       "            </tr>\n",
       "            <tr>\n",
       "                        <th id=\"T_8d464_level0_row57\" class=\"row_heading level0 row57\" >secondary_cleaner.state.floatbank2_a_level</th>\n",
       "                        <td id=\"T_8d464_row57_col0\" class=\"data row57 col0\" >0.000000</td>\n",
       "            </tr>\n",
       "            <tr>\n",
       "                        <th id=\"T_8d464_level0_row58\" class=\"row_heading level0 row58\" >secondary_cleaner.state.floatbank2_b_air</th>\n",
       "                        <td id=\"T_8d464_row58_col0\" class=\"data row58 col0\" >0.000000</td>\n",
       "            </tr>\n",
       "            <tr>\n",
       "                        <th id=\"T_8d464_level0_row59\" class=\"row_heading level0 row59\" >secondary_cleaner.state.floatbank2_b_level</th>\n",
       "                        <td id=\"T_8d464_row59_col0\" class=\"data row59 col0\" >0.000000</td>\n",
       "            </tr>\n",
       "            <tr>\n",
       "                        <th id=\"T_8d464_level0_row60\" class=\"row_heading level0 row60\" >secondary_cleaner.state.floatbank3_a_air</th>\n",
       "                        <td id=\"T_8d464_row60_col0\" class=\"data row60 col0\" >0.000000</td>\n",
       "            </tr>\n",
       "            <tr>\n",
       "                        <th id=\"T_8d464_level0_row61\" class=\"row_heading level0 row61\" >secondary_cleaner.state.floatbank3_a_level</th>\n",
       "                        <td id=\"T_8d464_row61_col0\" class=\"data row61 col0\" >0.000000</td>\n",
       "            </tr>\n",
       "            <tr>\n",
       "                        <th id=\"T_8d464_level0_row62\" class=\"row_heading level0 row62\" >secondary_cleaner.state.floatbank3_b_air</th>\n",
       "                        <td id=\"T_8d464_row62_col0\" class=\"data row62 col0\" >0.000000</td>\n",
       "            </tr>\n",
       "            <tr>\n",
       "                        <th id=\"T_8d464_level0_row63\" class=\"row_heading level0 row63\" >secondary_cleaner.state.floatbank3_b_level</th>\n",
       "                        <td id=\"T_8d464_row63_col0\" class=\"data row63 col0\" >0.000000</td>\n",
       "            </tr>\n",
       "            <tr>\n",
       "                        <th id=\"T_8d464_level0_row64\" class=\"row_heading level0 row64\" >secondary_cleaner.state.floatbank4_a_air</th>\n",
       "                        <td id=\"T_8d464_row64_col0\" class=\"data row64 col0\" >0.000000</td>\n",
       "            </tr>\n",
       "            <tr>\n",
       "                        <th id=\"T_8d464_level0_row65\" class=\"row_heading level0 row65\" >secondary_cleaner.state.floatbank4_a_level</th>\n",
       "                        <td id=\"T_8d464_row65_col0\" class=\"data row65 col0\" >0.000000</td>\n",
       "            </tr>\n",
       "            <tr>\n",
       "                        <th id=\"T_8d464_level0_row66\" class=\"row_heading level0 row66\" >secondary_cleaner.state.floatbank4_b_air</th>\n",
       "                        <td id=\"T_8d464_row66_col0\" class=\"data row66 col0\" >0.000000</td>\n",
       "            </tr>\n",
       "            <tr>\n",
       "                        <th id=\"T_8d464_level0_row67\" class=\"row_heading level0 row67\" >secondary_cleaner.state.floatbank4_b_level</th>\n",
       "                        <td id=\"T_8d464_row67_col0\" class=\"data row67 col0\" >0.000000</td>\n",
       "            </tr>\n",
       "            <tr>\n",
       "                        <th id=\"T_8d464_level0_row68\" class=\"row_heading level0 row68\" >secondary_cleaner.state.floatbank5_a_air</th>\n",
       "                        <td id=\"T_8d464_row68_col0\" class=\"data row68 col0\" >0.000000</td>\n",
       "            </tr>\n",
       "            <tr>\n",
       "                        <th id=\"T_8d464_level0_row69\" class=\"row_heading level0 row69\" >secondary_cleaner.state.floatbank5_a_level</th>\n",
       "                        <td id=\"T_8d464_row69_col0\" class=\"data row69 col0\" >0.000000</td>\n",
       "            </tr>\n",
       "            <tr>\n",
       "                        <th id=\"T_8d464_level0_row70\" class=\"row_heading level0 row70\" >secondary_cleaner.state.floatbank5_b_air</th>\n",
       "                        <td id=\"T_8d464_row70_col0\" class=\"data row70 col0\" >0.000000</td>\n",
       "            </tr>\n",
       "            <tr>\n",
       "                        <th id=\"T_8d464_level0_row71\" class=\"row_heading level0 row71\" >secondary_cleaner.state.floatbank5_b_level</th>\n",
       "                        <td id=\"T_8d464_row71_col0\" class=\"data row71 col0\" >0.000000</td>\n",
       "            </tr>\n",
       "            <tr>\n",
       "                        <th id=\"T_8d464_level0_row72\" class=\"row_heading level0 row72\" >secondary_cleaner.state.floatbank6_a_air</th>\n",
       "                        <td id=\"T_8d464_row72_col0\" class=\"data row72 col0\" >0.000000</td>\n",
       "            </tr>\n",
       "            <tr>\n",
       "                        <th id=\"T_8d464_level0_row73\" class=\"row_heading level0 row73\" >secondary_cleaner.state.floatbank6_a_level</th>\n",
       "                        <td id=\"T_8d464_row73_col0\" class=\"data row73 col0\" >0.000000</td>\n",
       "            </tr>\n",
       "            <tr>\n",
       "                        <th id=\"T_8d464_level0_row74\" class=\"row_heading level0 row74\" >secondary_cleaner.output.tail_au</th>\n",
       "                        <td id=\"T_8d464_row74_col0\" class=\"data row74 col0\" >0.000000</td>\n",
       "            </tr>\n",
       "            <tr>\n",
       "                        <th id=\"T_8d464_level0_row75\" class=\"row_heading level0 row75\" >secondary_cleaner.output.tail_ag</th>\n",
       "                        <td id=\"T_8d464_row75_col0\" class=\"data row75 col0\" >0.000000</td>\n",
       "            </tr>\n",
       "            <tr>\n",
       "                        <th id=\"T_8d464_level0_row76\" class=\"row_heading level0 row76\" >secondary_cleaner.output.tail_pb</th>\n",
       "                        <td id=\"T_8d464_row76_col0\" class=\"data row76 col0\" >0.000000</td>\n",
       "            </tr>\n",
       "            <tr>\n",
       "                        <th id=\"T_8d464_level0_row77\" class=\"row_heading level0 row77\" >secondary_cleaner.output.tail_sol</th>\n",
       "                        <td id=\"T_8d464_row77_col0\" class=\"data row77 col0\" >0.000000</td>\n",
       "            </tr>\n",
       "            <tr>\n",
       "                        <th id=\"T_8d464_level0_row78\" class=\"row_heading level0 row78\" >final.output.concentrate_au</th>\n",
       "                        <td id=\"T_8d464_row78_col0\" class=\"data row78 col0\" >0.000000</td>\n",
       "            </tr>\n",
       "            <tr>\n",
       "                        <th id=\"T_8d464_level0_row79\" class=\"row_heading level0 row79\" >final.output.concentrate_ag</th>\n",
       "                        <td id=\"T_8d464_row79_col0\" class=\"data row79 col0\" >0.000000</td>\n",
       "            </tr>\n",
       "            <tr>\n",
       "                        <th id=\"T_8d464_level0_row80\" class=\"row_heading level0 row80\" >final.output.concentrate_pb</th>\n",
       "                        <td id=\"T_8d464_row80_col0\" class=\"data row80 col0\" >0.000000</td>\n",
       "            </tr>\n",
       "            <tr>\n",
       "                        <th id=\"T_8d464_level0_row81\" class=\"row_heading level0 row81\" >final.output.concentrate_sol</th>\n",
       "                        <td id=\"T_8d464_row81_col0\" class=\"data row81 col0\" >0.000000</td>\n",
       "            </tr>\n",
       "            <tr>\n",
       "                        <th id=\"T_8d464_level0_row82\" class=\"row_heading level0 row82\" >final.output.recovery</th>\n",
       "                        <td id=\"T_8d464_row82_col0\" class=\"data row82 col0\" >0.000000</td>\n",
       "            </tr>\n",
       "            <tr>\n",
       "                        <th id=\"T_8d464_level0_row83\" class=\"row_heading level0 row83\" >final.output.tail_au</th>\n",
       "                        <td id=\"T_8d464_row83_col0\" class=\"data row83 col0\" >0.000000</td>\n",
       "            </tr>\n",
       "            <tr>\n",
       "                        <th id=\"T_8d464_level0_row84\" class=\"row_heading level0 row84\" >final.output.tail_ag</th>\n",
       "                        <td id=\"T_8d464_row84_col0\" class=\"data row84 col0\" >0.000000</td>\n",
       "            </tr>\n",
       "            <tr>\n",
       "                        <th id=\"T_8d464_level0_row85\" class=\"row_heading level0 row85\" >final.output.tail_pb</th>\n",
       "                        <td id=\"T_8d464_row85_col0\" class=\"data row85 col0\" >0.000000</td>\n",
       "            </tr>\n",
       "            <tr>\n",
       "                        <th id=\"T_8d464_level0_row86\" class=\"row_heading level0 row86\" >final.output.tail_sol</th>\n",
       "                        <td id=\"T_8d464_row86_col0\" class=\"data row86 col0\" >0.000000</td>\n",
       "            </tr>\n",
       "    </tbody></table>"
      ],
      "text/plain": [
       "<pandas.io.formats.style.Styler at 0x7fdb919399d0>"
      ]
     },
     "execution_count": 19,
     "metadata": {},
     "output_type": "execute_result"
    }
   ],
   "source": [
    "# Проверяем:\n",
    "pd.DataFrame(round(train_data.isna().mean()*100,)).style.background_gradient('YlOrRd')"
   ]
  },
  {
   "cell_type": "markdown",
   "metadata": {},
   "source": [
    "##### Выборка test_data"
   ]
  },
  {
   "cell_type": "code",
   "execution_count": 20,
   "metadata": {
    "scrolled": true
   },
   "outputs": [
    {
     "data": {
      "text/html": [
       "<style  type=\"text/css\" >\n",
       "#T_87ed7_row0_col0,#T_87ed7_row1_col0,#T_87ed7_row2_col0,#T_87ed7_row4_col0,#T_87ed7_row5_col0,#T_87ed7_row7_col0,#T_87ed7_row8_col0,#T_87ed7_row9_col0,#T_87ed7_row10_col0,#T_87ed7_row11_col0,#T_87ed7_row12_col0,#T_87ed7_row13_col0,#T_87ed7_row14_col0,#T_87ed7_row15_col0,#T_87ed7_row16_col0,#T_87ed7_row17_col0,#T_87ed7_row18_col0,#T_87ed7_row19_col0,#T_87ed7_row20_col0,#T_87ed7_row21_col0,#T_87ed7_row23_col0,#T_87ed7_row24_col0,#T_87ed7_row25_col0,#T_87ed7_row27_col0,#T_87ed7_row28_col0,#T_87ed7_row29_col0,#T_87ed7_row30_col0,#T_87ed7_row31_col0,#T_87ed7_row32_col0,#T_87ed7_row33_col0,#T_87ed7_row34_col0,#T_87ed7_row36_col0,#T_87ed7_row37_col0,#T_87ed7_row38_col0,#T_87ed7_row39_col0,#T_87ed7_row40_col0,#T_87ed7_row41_col0,#T_87ed7_row42_col0,#T_87ed7_row43_col0,#T_87ed7_row44_col0,#T_87ed7_row45_col0,#T_87ed7_row46_col0,#T_87ed7_row47_col0,#T_87ed7_row48_col0,#T_87ed7_row49_col0,#T_87ed7_row50_col0,#T_87ed7_row51_col0,#T_87ed7_row52_col0{\n",
       "            background-color:  #ffffcc;\n",
       "            color:  #000000;\n",
       "        }#T_87ed7_row3_col0,#T_87ed7_row6_col0,#T_87ed7_row22_col0,#T_87ed7_row26_col0{\n",
       "            background-color:  #febf5a;\n",
       "            color:  #000000;\n",
       "        }#T_87ed7_row35_col0{\n",
       "            background-color:  #800026;\n",
       "            color:  #f1f1f1;\n",
       "        }</style><table id=\"T_87ed7_\" ><thead>    <tr>        <th class=\"blank level0\" ></th>        <th class=\"col_heading level0 col0\" >0</th>    </tr></thead><tbody>\n",
       "                <tr>\n",
       "                        <th id=\"T_87ed7_level0_row0\" class=\"row_heading level0 row0\" >date</th>\n",
       "                        <td id=\"T_87ed7_row0_col0\" class=\"data row0 col0\" >0.000000</td>\n",
       "            </tr>\n",
       "            <tr>\n",
       "                        <th id=\"T_87ed7_level0_row1\" class=\"row_heading level0 row1\" >rougher.input.feed_au</th>\n",
       "                        <td id=\"T_87ed7_row1_col0\" class=\"data row1 col0\" >0.000000</td>\n",
       "            </tr>\n",
       "            <tr>\n",
       "                        <th id=\"T_87ed7_level0_row2\" class=\"row_heading level0 row2\" >rougher.input.feed_ag</th>\n",
       "                        <td id=\"T_87ed7_row2_col0\" class=\"data row2 col0\" >0.000000</td>\n",
       "            </tr>\n",
       "            <tr>\n",
       "                        <th id=\"T_87ed7_level0_row3\" class=\"row_heading level0 row3\" >rougher.input.feed_pb</th>\n",
       "                        <td id=\"T_87ed7_row3_col0\" class=\"data row3 col0\" >1.000000</td>\n",
       "            </tr>\n",
       "            <tr>\n",
       "                        <th id=\"T_87ed7_level0_row4\" class=\"row_heading level0 row4\" >rougher.input.feed_sol</th>\n",
       "                        <td id=\"T_87ed7_row4_col0\" class=\"data row4 col0\" >0.000000</td>\n",
       "            </tr>\n",
       "            <tr>\n",
       "                        <th id=\"T_87ed7_level0_row5\" class=\"row_heading level0 row5\" >rougher.input.feed_rate</th>\n",
       "                        <td id=\"T_87ed7_row5_col0\" class=\"data row5 col0\" >0.000000</td>\n",
       "            </tr>\n",
       "            <tr>\n",
       "                        <th id=\"T_87ed7_level0_row6\" class=\"row_heading level0 row6\" >rougher.input.feed_size</th>\n",
       "                        <td id=\"T_87ed7_row6_col0\" class=\"data row6 col0\" >1.000000</td>\n",
       "            </tr>\n",
       "            <tr>\n",
       "                        <th id=\"T_87ed7_level0_row7\" class=\"row_heading level0 row7\" >rougher.input.floatbank10_sulfate</th>\n",
       "                        <td id=\"T_87ed7_row7_col0\" class=\"data row7 col0\" >0.000000</td>\n",
       "            </tr>\n",
       "            <tr>\n",
       "                        <th id=\"T_87ed7_level0_row8\" class=\"row_heading level0 row8\" >rougher.input.floatbank10_xanthate</th>\n",
       "                        <td id=\"T_87ed7_row8_col0\" class=\"data row8 col0\" >0.000000</td>\n",
       "            </tr>\n",
       "            <tr>\n",
       "                        <th id=\"T_87ed7_level0_row9\" class=\"row_heading level0 row9\" >rougher.state.floatbank10_a_air</th>\n",
       "                        <td id=\"T_87ed7_row9_col0\" class=\"data row9 col0\" >0.000000</td>\n",
       "            </tr>\n",
       "            <tr>\n",
       "                        <th id=\"T_87ed7_level0_row10\" class=\"row_heading level0 row10\" >rougher.state.floatbank10_a_level</th>\n",
       "                        <td id=\"T_87ed7_row10_col0\" class=\"data row10 col0\" >0.000000</td>\n",
       "            </tr>\n",
       "            <tr>\n",
       "                        <th id=\"T_87ed7_level0_row11\" class=\"row_heading level0 row11\" >rougher.state.floatbank10_b_air</th>\n",
       "                        <td id=\"T_87ed7_row11_col0\" class=\"data row11 col0\" >0.000000</td>\n",
       "            </tr>\n",
       "            <tr>\n",
       "                        <th id=\"T_87ed7_level0_row12\" class=\"row_heading level0 row12\" >rougher.state.floatbank10_b_level</th>\n",
       "                        <td id=\"T_87ed7_row12_col0\" class=\"data row12 col0\" >0.000000</td>\n",
       "            </tr>\n",
       "            <tr>\n",
       "                        <th id=\"T_87ed7_level0_row13\" class=\"row_heading level0 row13\" >rougher.state.floatbank10_c_air</th>\n",
       "                        <td id=\"T_87ed7_row13_col0\" class=\"data row13 col0\" >0.000000</td>\n",
       "            </tr>\n",
       "            <tr>\n",
       "                        <th id=\"T_87ed7_level0_row14\" class=\"row_heading level0 row14\" >rougher.state.floatbank10_c_level</th>\n",
       "                        <td id=\"T_87ed7_row14_col0\" class=\"data row14 col0\" >0.000000</td>\n",
       "            </tr>\n",
       "            <tr>\n",
       "                        <th id=\"T_87ed7_level0_row15\" class=\"row_heading level0 row15\" >rougher.state.floatbank10_d_air</th>\n",
       "                        <td id=\"T_87ed7_row15_col0\" class=\"data row15 col0\" >0.000000</td>\n",
       "            </tr>\n",
       "            <tr>\n",
       "                        <th id=\"T_87ed7_level0_row16\" class=\"row_heading level0 row16\" >rougher.state.floatbank10_d_level</th>\n",
       "                        <td id=\"T_87ed7_row16_col0\" class=\"data row16 col0\" >0.000000</td>\n",
       "            </tr>\n",
       "            <tr>\n",
       "                        <th id=\"T_87ed7_level0_row17\" class=\"row_heading level0 row17\" >rougher.state.floatbank10_e_air</th>\n",
       "                        <td id=\"T_87ed7_row17_col0\" class=\"data row17 col0\" >0.000000</td>\n",
       "            </tr>\n",
       "            <tr>\n",
       "                        <th id=\"T_87ed7_level0_row18\" class=\"row_heading level0 row18\" >rougher.state.floatbank10_e_level</th>\n",
       "                        <td id=\"T_87ed7_row18_col0\" class=\"data row18 col0\" >0.000000</td>\n",
       "            </tr>\n",
       "            <tr>\n",
       "                        <th id=\"T_87ed7_level0_row19\" class=\"row_heading level0 row19\" >rougher.state.floatbank10_f_air</th>\n",
       "                        <td id=\"T_87ed7_row19_col0\" class=\"data row19 col0\" >0.000000</td>\n",
       "            </tr>\n",
       "            <tr>\n",
       "                        <th id=\"T_87ed7_level0_row20\" class=\"row_heading level0 row20\" >rougher.state.floatbank10_f_level</th>\n",
       "                        <td id=\"T_87ed7_row20_col0\" class=\"data row20 col0\" >0.000000</td>\n",
       "            </tr>\n",
       "            <tr>\n",
       "                        <th id=\"T_87ed7_level0_row21\" class=\"row_heading level0 row21\" >rougher.input.floatbank11_sulfate</th>\n",
       "                        <td id=\"T_87ed7_row21_col0\" class=\"data row21 col0\" >0.000000</td>\n",
       "            </tr>\n",
       "            <tr>\n",
       "                        <th id=\"T_87ed7_level0_row22\" class=\"row_heading level0 row22\" >rougher.input.floatbank11_xanthate</th>\n",
       "                        <td id=\"T_87ed7_row22_col0\" class=\"data row22 col0\" >1.000000</td>\n",
       "            </tr>\n",
       "            <tr>\n",
       "                        <th id=\"T_87ed7_level0_row23\" class=\"row_heading level0 row23\" >primary_cleaner.input.sulfate</th>\n",
       "                        <td id=\"T_87ed7_row23_col0\" class=\"data row23 col0\" >0.000000</td>\n",
       "            </tr>\n",
       "            <tr>\n",
       "                        <th id=\"T_87ed7_level0_row24\" class=\"row_heading level0 row24\" >primary_cleaner.input.depressant</th>\n",
       "                        <td id=\"T_87ed7_row24_col0\" class=\"data row24 col0\" >0.000000</td>\n",
       "            </tr>\n",
       "            <tr>\n",
       "                        <th id=\"T_87ed7_level0_row25\" class=\"row_heading level0 row25\" >primary_cleaner.input.feed_size</th>\n",
       "                        <td id=\"T_87ed7_row25_col0\" class=\"data row25 col0\" >0.000000</td>\n",
       "            </tr>\n",
       "            <tr>\n",
       "                        <th id=\"T_87ed7_level0_row26\" class=\"row_heading level0 row26\" >primary_cleaner.input.xanthate</th>\n",
       "                        <td id=\"T_87ed7_row26_col0\" class=\"data row26 col0\" >1.000000</td>\n",
       "            </tr>\n",
       "            <tr>\n",
       "                        <th id=\"T_87ed7_level0_row27\" class=\"row_heading level0 row27\" >primary_cleaner.state.floatbank8_a_air</th>\n",
       "                        <td id=\"T_87ed7_row27_col0\" class=\"data row27 col0\" >0.000000</td>\n",
       "            </tr>\n",
       "            <tr>\n",
       "                        <th id=\"T_87ed7_level0_row28\" class=\"row_heading level0 row28\" >primary_cleaner.state.floatbank8_a_level</th>\n",
       "                        <td id=\"T_87ed7_row28_col0\" class=\"data row28 col0\" >0.000000</td>\n",
       "            </tr>\n",
       "            <tr>\n",
       "                        <th id=\"T_87ed7_level0_row29\" class=\"row_heading level0 row29\" >primary_cleaner.state.floatbank8_b_air</th>\n",
       "                        <td id=\"T_87ed7_row29_col0\" class=\"data row29 col0\" >0.000000</td>\n",
       "            </tr>\n",
       "            <tr>\n",
       "                        <th id=\"T_87ed7_level0_row30\" class=\"row_heading level0 row30\" >primary_cleaner.state.floatbank8_b_level</th>\n",
       "                        <td id=\"T_87ed7_row30_col0\" class=\"data row30 col0\" >0.000000</td>\n",
       "            </tr>\n",
       "            <tr>\n",
       "                        <th id=\"T_87ed7_level0_row31\" class=\"row_heading level0 row31\" >primary_cleaner.state.floatbank8_c_air</th>\n",
       "                        <td id=\"T_87ed7_row31_col0\" class=\"data row31 col0\" >0.000000</td>\n",
       "            </tr>\n",
       "            <tr>\n",
       "                        <th id=\"T_87ed7_level0_row32\" class=\"row_heading level0 row32\" >primary_cleaner.state.floatbank8_c_level</th>\n",
       "                        <td id=\"T_87ed7_row32_col0\" class=\"data row32 col0\" >0.000000</td>\n",
       "            </tr>\n",
       "            <tr>\n",
       "                        <th id=\"T_87ed7_level0_row33\" class=\"row_heading level0 row33\" >primary_cleaner.state.floatbank8_d_air</th>\n",
       "                        <td id=\"T_87ed7_row33_col0\" class=\"data row33 col0\" >0.000000</td>\n",
       "            </tr>\n",
       "            <tr>\n",
       "                        <th id=\"T_87ed7_level0_row34\" class=\"row_heading level0 row34\" >primary_cleaner.state.floatbank8_d_level</th>\n",
       "                        <td id=\"T_87ed7_row34_col0\" class=\"data row34 col0\" >0.000000</td>\n",
       "            </tr>\n",
       "            <tr>\n",
       "                        <th id=\"T_87ed7_level0_row35\" class=\"row_heading level0 row35\" >secondary_cleaner.state.floatbank2_a_air</th>\n",
       "                        <td id=\"T_87ed7_row35_col0\" class=\"data row35 col0\" >3.000000</td>\n",
       "            </tr>\n",
       "            <tr>\n",
       "                        <th id=\"T_87ed7_level0_row36\" class=\"row_heading level0 row36\" >secondary_cleaner.state.floatbank2_a_level</th>\n",
       "                        <td id=\"T_87ed7_row36_col0\" class=\"data row36 col0\" >0.000000</td>\n",
       "            </tr>\n",
       "            <tr>\n",
       "                        <th id=\"T_87ed7_level0_row37\" class=\"row_heading level0 row37\" >secondary_cleaner.state.floatbank2_b_air</th>\n",
       "                        <td id=\"T_87ed7_row37_col0\" class=\"data row37 col0\" >0.000000</td>\n",
       "            </tr>\n",
       "            <tr>\n",
       "                        <th id=\"T_87ed7_level0_row38\" class=\"row_heading level0 row38\" >secondary_cleaner.state.floatbank2_b_level</th>\n",
       "                        <td id=\"T_87ed7_row38_col0\" class=\"data row38 col0\" >0.000000</td>\n",
       "            </tr>\n",
       "            <tr>\n",
       "                        <th id=\"T_87ed7_level0_row39\" class=\"row_heading level0 row39\" >secondary_cleaner.state.floatbank3_a_air</th>\n",
       "                        <td id=\"T_87ed7_row39_col0\" class=\"data row39 col0\" >0.000000</td>\n",
       "            </tr>\n",
       "            <tr>\n",
       "                        <th id=\"T_87ed7_level0_row40\" class=\"row_heading level0 row40\" >secondary_cleaner.state.floatbank3_a_level</th>\n",
       "                        <td id=\"T_87ed7_row40_col0\" class=\"data row40 col0\" >0.000000</td>\n",
       "            </tr>\n",
       "            <tr>\n",
       "                        <th id=\"T_87ed7_level0_row41\" class=\"row_heading level0 row41\" >secondary_cleaner.state.floatbank3_b_air</th>\n",
       "                        <td id=\"T_87ed7_row41_col0\" class=\"data row41 col0\" >0.000000</td>\n",
       "            </tr>\n",
       "            <tr>\n",
       "                        <th id=\"T_87ed7_level0_row42\" class=\"row_heading level0 row42\" >secondary_cleaner.state.floatbank3_b_level</th>\n",
       "                        <td id=\"T_87ed7_row42_col0\" class=\"data row42 col0\" >0.000000</td>\n",
       "            </tr>\n",
       "            <tr>\n",
       "                        <th id=\"T_87ed7_level0_row43\" class=\"row_heading level0 row43\" >secondary_cleaner.state.floatbank4_a_air</th>\n",
       "                        <td id=\"T_87ed7_row43_col0\" class=\"data row43 col0\" >0.000000</td>\n",
       "            </tr>\n",
       "            <tr>\n",
       "                        <th id=\"T_87ed7_level0_row44\" class=\"row_heading level0 row44\" >secondary_cleaner.state.floatbank4_a_level</th>\n",
       "                        <td id=\"T_87ed7_row44_col0\" class=\"data row44 col0\" >0.000000</td>\n",
       "            </tr>\n",
       "            <tr>\n",
       "                        <th id=\"T_87ed7_level0_row45\" class=\"row_heading level0 row45\" >secondary_cleaner.state.floatbank4_b_air</th>\n",
       "                        <td id=\"T_87ed7_row45_col0\" class=\"data row45 col0\" >0.000000</td>\n",
       "            </tr>\n",
       "            <tr>\n",
       "                        <th id=\"T_87ed7_level0_row46\" class=\"row_heading level0 row46\" >secondary_cleaner.state.floatbank4_b_level</th>\n",
       "                        <td id=\"T_87ed7_row46_col0\" class=\"data row46 col0\" >0.000000</td>\n",
       "            </tr>\n",
       "            <tr>\n",
       "                        <th id=\"T_87ed7_level0_row47\" class=\"row_heading level0 row47\" >secondary_cleaner.state.floatbank5_a_air</th>\n",
       "                        <td id=\"T_87ed7_row47_col0\" class=\"data row47 col0\" >0.000000</td>\n",
       "            </tr>\n",
       "            <tr>\n",
       "                        <th id=\"T_87ed7_level0_row48\" class=\"row_heading level0 row48\" >secondary_cleaner.state.floatbank5_a_level</th>\n",
       "                        <td id=\"T_87ed7_row48_col0\" class=\"data row48 col0\" >0.000000</td>\n",
       "            </tr>\n",
       "            <tr>\n",
       "                        <th id=\"T_87ed7_level0_row49\" class=\"row_heading level0 row49\" >secondary_cleaner.state.floatbank5_b_air</th>\n",
       "                        <td id=\"T_87ed7_row49_col0\" class=\"data row49 col0\" >0.000000</td>\n",
       "            </tr>\n",
       "            <tr>\n",
       "                        <th id=\"T_87ed7_level0_row50\" class=\"row_heading level0 row50\" >secondary_cleaner.state.floatbank5_b_level</th>\n",
       "                        <td id=\"T_87ed7_row50_col0\" class=\"data row50 col0\" >0.000000</td>\n",
       "            </tr>\n",
       "            <tr>\n",
       "                        <th id=\"T_87ed7_level0_row51\" class=\"row_heading level0 row51\" >secondary_cleaner.state.floatbank6_a_air</th>\n",
       "                        <td id=\"T_87ed7_row51_col0\" class=\"data row51 col0\" >0.000000</td>\n",
       "            </tr>\n",
       "            <tr>\n",
       "                        <th id=\"T_87ed7_level0_row52\" class=\"row_heading level0 row52\" >secondary_cleaner.state.floatbank6_a_level</th>\n",
       "                        <td id=\"T_87ed7_row52_col0\" class=\"data row52 col0\" >0.000000</td>\n",
       "            </tr>\n",
       "    </tbody></table>"
      ],
      "text/plain": [
       "<pandas.io.formats.style.Styler at 0x7fdb91b3d6a0>"
      ]
     },
     "execution_count": 20,
     "metadata": {},
     "output_type": "execute_result"
    }
   ],
   "source": [
    "pd.DataFrame(round(test_data.isna().mean()*100,)).style.background_gradient('YlOrRd')"
   ]
  },
  {
   "cell_type": "code",
   "execution_count": 21,
   "metadata": {},
   "outputs": [],
   "source": [
    "test_data.ffill(axis='rows', inplace=True) # нулевые значения заменяются данными из предыдущей строки."
   ]
  },
  {
   "cell_type": "code",
   "execution_count": 22,
   "metadata": {
    "scrolled": true
   },
   "outputs": [
    {
     "data": {
      "text/html": [
       "<style  type=\"text/css\" >\n",
       "#T_d49d0_row0_col0,#T_d49d0_row1_col0,#T_d49d0_row2_col0,#T_d49d0_row3_col0,#T_d49d0_row4_col0,#T_d49d0_row5_col0,#T_d49d0_row6_col0,#T_d49d0_row7_col0,#T_d49d0_row8_col0,#T_d49d0_row9_col0,#T_d49d0_row10_col0,#T_d49d0_row11_col0,#T_d49d0_row12_col0,#T_d49d0_row13_col0,#T_d49d0_row14_col0,#T_d49d0_row15_col0,#T_d49d0_row16_col0,#T_d49d0_row17_col0,#T_d49d0_row18_col0,#T_d49d0_row19_col0,#T_d49d0_row20_col0,#T_d49d0_row21_col0,#T_d49d0_row22_col0,#T_d49d0_row23_col0,#T_d49d0_row24_col0,#T_d49d0_row25_col0,#T_d49d0_row26_col0,#T_d49d0_row27_col0,#T_d49d0_row28_col0,#T_d49d0_row29_col0,#T_d49d0_row30_col0,#T_d49d0_row31_col0,#T_d49d0_row32_col0,#T_d49d0_row33_col0,#T_d49d0_row34_col0,#T_d49d0_row35_col0,#T_d49d0_row36_col0,#T_d49d0_row37_col0,#T_d49d0_row38_col0,#T_d49d0_row39_col0,#T_d49d0_row40_col0,#T_d49d0_row41_col0,#T_d49d0_row42_col0,#T_d49d0_row43_col0,#T_d49d0_row44_col0,#T_d49d0_row45_col0,#T_d49d0_row46_col0,#T_d49d0_row47_col0,#T_d49d0_row48_col0,#T_d49d0_row49_col0,#T_d49d0_row50_col0,#T_d49d0_row51_col0,#T_d49d0_row52_col0{\n",
       "            background-color:  #ffffcc;\n",
       "            color:  #000000;\n",
       "        }</style><table id=\"T_d49d0_\" ><thead>    <tr>        <th class=\"blank level0\" ></th>        <th class=\"col_heading level0 col0\" >0</th>    </tr></thead><tbody>\n",
       "                <tr>\n",
       "                        <th id=\"T_d49d0_level0_row0\" class=\"row_heading level0 row0\" >date</th>\n",
       "                        <td id=\"T_d49d0_row0_col0\" class=\"data row0 col0\" >0.000000</td>\n",
       "            </tr>\n",
       "            <tr>\n",
       "                        <th id=\"T_d49d0_level0_row1\" class=\"row_heading level0 row1\" >rougher.input.feed_au</th>\n",
       "                        <td id=\"T_d49d0_row1_col0\" class=\"data row1 col0\" >0.000000</td>\n",
       "            </tr>\n",
       "            <tr>\n",
       "                        <th id=\"T_d49d0_level0_row2\" class=\"row_heading level0 row2\" >rougher.input.feed_ag</th>\n",
       "                        <td id=\"T_d49d0_row2_col0\" class=\"data row2 col0\" >0.000000</td>\n",
       "            </tr>\n",
       "            <tr>\n",
       "                        <th id=\"T_d49d0_level0_row3\" class=\"row_heading level0 row3\" >rougher.input.feed_pb</th>\n",
       "                        <td id=\"T_d49d0_row3_col0\" class=\"data row3 col0\" >0.000000</td>\n",
       "            </tr>\n",
       "            <tr>\n",
       "                        <th id=\"T_d49d0_level0_row4\" class=\"row_heading level0 row4\" >rougher.input.feed_sol</th>\n",
       "                        <td id=\"T_d49d0_row4_col0\" class=\"data row4 col0\" >0.000000</td>\n",
       "            </tr>\n",
       "            <tr>\n",
       "                        <th id=\"T_d49d0_level0_row5\" class=\"row_heading level0 row5\" >rougher.input.feed_rate</th>\n",
       "                        <td id=\"T_d49d0_row5_col0\" class=\"data row5 col0\" >0.000000</td>\n",
       "            </tr>\n",
       "            <tr>\n",
       "                        <th id=\"T_d49d0_level0_row6\" class=\"row_heading level0 row6\" >rougher.input.feed_size</th>\n",
       "                        <td id=\"T_d49d0_row6_col0\" class=\"data row6 col0\" >0.000000</td>\n",
       "            </tr>\n",
       "            <tr>\n",
       "                        <th id=\"T_d49d0_level0_row7\" class=\"row_heading level0 row7\" >rougher.input.floatbank10_sulfate</th>\n",
       "                        <td id=\"T_d49d0_row7_col0\" class=\"data row7 col0\" >0.000000</td>\n",
       "            </tr>\n",
       "            <tr>\n",
       "                        <th id=\"T_d49d0_level0_row8\" class=\"row_heading level0 row8\" >rougher.input.floatbank10_xanthate</th>\n",
       "                        <td id=\"T_d49d0_row8_col0\" class=\"data row8 col0\" >0.000000</td>\n",
       "            </tr>\n",
       "            <tr>\n",
       "                        <th id=\"T_d49d0_level0_row9\" class=\"row_heading level0 row9\" >rougher.state.floatbank10_a_air</th>\n",
       "                        <td id=\"T_d49d0_row9_col0\" class=\"data row9 col0\" >0.000000</td>\n",
       "            </tr>\n",
       "            <tr>\n",
       "                        <th id=\"T_d49d0_level0_row10\" class=\"row_heading level0 row10\" >rougher.state.floatbank10_a_level</th>\n",
       "                        <td id=\"T_d49d0_row10_col0\" class=\"data row10 col0\" >0.000000</td>\n",
       "            </tr>\n",
       "            <tr>\n",
       "                        <th id=\"T_d49d0_level0_row11\" class=\"row_heading level0 row11\" >rougher.state.floatbank10_b_air</th>\n",
       "                        <td id=\"T_d49d0_row11_col0\" class=\"data row11 col0\" >0.000000</td>\n",
       "            </tr>\n",
       "            <tr>\n",
       "                        <th id=\"T_d49d0_level0_row12\" class=\"row_heading level0 row12\" >rougher.state.floatbank10_b_level</th>\n",
       "                        <td id=\"T_d49d0_row12_col0\" class=\"data row12 col0\" >0.000000</td>\n",
       "            </tr>\n",
       "            <tr>\n",
       "                        <th id=\"T_d49d0_level0_row13\" class=\"row_heading level0 row13\" >rougher.state.floatbank10_c_air</th>\n",
       "                        <td id=\"T_d49d0_row13_col0\" class=\"data row13 col0\" >0.000000</td>\n",
       "            </tr>\n",
       "            <tr>\n",
       "                        <th id=\"T_d49d0_level0_row14\" class=\"row_heading level0 row14\" >rougher.state.floatbank10_c_level</th>\n",
       "                        <td id=\"T_d49d0_row14_col0\" class=\"data row14 col0\" >0.000000</td>\n",
       "            </tr>\n",
       "            <tr>\n",
       "                        <th id=\"T_d49d0_level0_row15\" class=\"row_heading level0 row15\" >rougher.state.floatbank10_d_air</th>\n",
       "                        <td id=\"T_d49d0_row15_col0\" class=\"data row15 col0\" >0.000000</td>\n",
       "            </tr>\n",
       "            <tr>\n",
       "                        <th id=\"T_d49d0_level0_row16\" class=\"row_heading level0 row16\" >rougher.state.floatbank10_d_level</th>\n",
       "                        <td id=\"T_d49d0_row16_col0\" class=\"data row16 col0\" >0.000000</td>\n",
       "            </tr>\n",
       "            <tr>\n",
       "                        <th id=\"T_d49d0_level0_row17\" class=\"row_heading level0 row17\" >rougher.state.floatbank10_e_air</th>\n",
       "                        <td id=\"T_d49d0_row17_col0\" class=\"data row17 col0\" >0.000000</td>\n",
       "            </tr>\n",
       "            <tr>\n",
       "                        <th id=\"T_d49d0_level0_row18\" class=\"row_heading level0 row18\" >rougher.state.floatbank10_e_level</th>\n",
       "                        <td id=\"T_d49d0_row18_col0\" class=\"data row18 col0\" >0.000000</td>\n",
       "            </tr>\n",
       "            <tr>\n",
       "                        <th id=\"T_d49d0_level0_row19\" class=\"row_heading level0 row19\" >rougher.state.floatbank10_f_air</th>\n",
       "                        <td id=\"T_d49d0_row19_col0\" class=\"data row19 col0\" >0.000000</td>\n",
       "            </tr>\n",
       "            <tr>\n",
       "                        <th id=\"T_d49d0_level0_row20\" class=\"row_heading level0 row20\" >rougher.state.floatbank10_f_level</th>\n",
       "                        <td id=\"T_d49d0_row20_col0\" class=\"data row20 col0\" >0.000000</td>\n",
       "            </tr>\n",
       "            <tr>\n",
       "                        <th id=\"T_d49d0_level0_row21\" class=\"row_heading level0 row21\" >rougher.input.floatbank11_sulfate</th>\n",
       "                        <td id=\"T_d49d0_row21_col0\" class=\"data row21 col0\" >0.000000</td>\n",
       "            </tr>\n",
       "            <tr>\n",
       "                        <th id=\"T_d49d0_level0_row22\" class=\"row_heading level0 row22\" >rougher.input.floatbank11_xanthate</th>\n",
       "                        <td id=\"T_d49d0_row22_col0\" class=\"data row22 col0\" >0.000000</td>\n",
       "            </tr>\n",
       "            <tr>\n",
       "                        <th id=\"T_d49d0_level0_row23\" class=\"row_heading level0 row23\" >primary_cleaner.input.sulfate</th>\n",
       "                        <td id=\"T_d49d0_row23_col0\" class=\"data row23 col0\" >0.000000</td>\n",
       "            </tr>\n",
       "            <tr>\n",
       "                        <th id=\"T_d49d0_level0_row24\" class=\"row_heading level0 row24\" >primary_cleaner.input.depressant</th>\n",
       "                        <td id=\"T_d49d0_row24_col0\" class=\"data row24 col0\" >0.000000</td>\n",
       "            </tr>\n",
       "            <tr>\n",
       "                        <th id=\"T_d49d0_level0_row25\" class=\"row_heading level0 row25\" >primary_cleaner.input.feed_size</th>\n",
       "                        <td id=\"T_d49d0_row25_col0\" class=\"data row25 col0\" >0.000000</td>\n",
       "            </tr>\n",
       "            <tr>\n",
       "                        <th id=\"T_d49d0_level0_row26\" class=\"row_heading level0 row26\" >primary_cleaner.input.xanthate</th>\n",
       "                        <td id=\"T_d49d0_row26_col0\" class=\"data row26 col0\" >0.000000</td>\n",
       "            </tr>\n",
       "            <tr>\n",
       "                        <th id=\"T_d49d0_level0_row27\" class=\"row_heading level0 row27\" >primary_cleaner.state.floatbank8_a_air</th>\n",
       "                        <td id=\"T_d49d0_row27_col0\" class=\"data row27 col0\" >0.000000</td>\n",
       "            </tr>\n",
       "            <tr>\n",
       "                        <th id=\"T_d49d0_level0_row28\" class=\"row_heading level0 row28\" >primary_cleaner.state.floatbank8_a_level</th>\n",
       "                        <td id=\"T_d49d0_row28_col0\" class=\"data row28 col0\" >0.000000</td>\n",
       "            </tr>\n",
       "            <tr>\n",
       "                        <th id=\"T_d49d0_level0_row29\" class=\"row_heading level0 row29\" >primary_cleaner.state.floatbank8_b_air</th>\n",
       "                        <td id=\"T_d49d0_row29_col0\" class=\"data row29 col0\" >0.000000</td>\n",
       "            </tr>\n",
       "            <tr>\n",
       "                        <th id=\"T_d49d0_level0_row30\" class=\"row_heading level0 row30\" >primary_cleaner.state.floatbank8_b_level</th>\n",
       "                        <td id=\"T_d49d0_row30_col0\" class=\"data row30 col0\" >0.000000</td>\n",
       "            </tr>\n",
       "            <tr>\n",
       "                        <th id=\"T_d49d0_level0_row31\" class=\"row_heading level0 row31\" >primary_cleaner.state.floatbank8_c_air</th>\n",
       "                        <td id=\"T_d49d0_row31_col0\" class=\"data row31 col0\" >0.000000</td>\n",
       "            </tr>\n",
       "            <tr>\n",
       "                        <th id=\"T_d49d0_level0_row32\" class=\"row_heading level0 row32\" >primary_cleaner.state.floatbank8_c_level</th>\n",
       "                        <td id=\"T_d49d0_row32_col0\" class=\"data row32 col0\" >0.000000</td>\n",
       "            </tr>\n",
       "            <tr>\n",
       "                        <th id=\"T_d49d0_level0_row33\" class=\"row_heading level0 row33\" >primary_cleaner.state.floatbank8_d_air</th>\n",
       "                        <td id=\"T_d49d0_row33_col0\" class=\"data row33 col0\" >0.000000</td>\n",
       "            </tr>\n",
       "            <tr>\n",
       "                        <th id=\"T_d49d0_level0_row34\" class=\"row_heading level0 row34\" >primary_cleaner.state.floatbank8_d_level</th>\n",
       "                        <td id=\"T_d49d0_row34_col0\" class=\"data row34 col0\" >0.000000</td>\n",
       "            </tr>\n",
       "            <tr>\n",
       "                        <th id=\"T_d49d0_level0_row35\" class=\"row_heading level0 row35\" >secondary_cleaner.state.floatbank2_a_air</th>\n",
       "                        <td id=\"T_d49d0_row35_col0\" class=\"data row35 col0\" >0.000000</td>\n",
       "            </tr>\n",
       "            <tr>\n",
       "                        <th id=\"T_d49d0_level0_row36\" class=\"row_heading level0 row36\" >secondary_cleaner.state.floatbank2_a_level</th>\n",
       "                        <td id=\"T_d49d0_row36_col0\" class=\"data row36 col0\" >0.000000</td>\n",
       "            </tr>\n",
       "            <tr>\n",
       "                        <th id=\"T_d49d0_level0_row37\" class=\"row_heading level0 row37\" >secondary_cleaner.state.floatbank2_b_air</th>\n",
       "                        <td id=\"T_d49d0_row37_col0\" class=\"data row37 col0\" >0.000000</td>\n",
       "            </tr>\n",
       "            <tr>\n",
       "                        <th id=\"T_d49d0_level0_row38\" class=\"row_heading level0 row38\" >secondary_cleaner.state.floatbank2_b_level</th>\n",
       "                        <td id=\"T_d49d0_row38_col0\" class=\"data row38 col0\" >0.000000</td>\n",
       "            </tr>\n",
       "            <tr>\n",
       "                        <th id=\"T_d49d0_level0_row39\" class=\"row_heading level0 row39\" >secondary_cleaner.state.floatbank3_a_air</th>\n",
       "                        <td id=\"T_d49d0_row39_col0\" class=\"data row39 col0\" >0.000000</td>\n",
       "            </tr>\n",
       "            <tr>\n",
       "                        <th id=\"T_d49d0_level0_row40\" class=\"row_heading level0 row40\" >secondary_cleaner.state.floatbank3_a_level</th>\n",
       "                        <td id=\"T_d49d0_row40_col0\" class=\"data row40 col0\" >0.000000</td>\n",
       "            </tr>\n",
       "            <tr>\n",
       "                        <th id=\"T_d49d0_level0_row41\" class=\"row_heading level0 row41\" >secondary_cleaner.state.floatbank3_b_air</th>\n",
       "                        <td id=\"T_d49d0_row41_col0\" class=\"data row41 col0\" >0.000000</td>\n",
       "            </tr>\n",
       "            <tr>\n",
       "                        <th id=\"T_d49d0_level0_row42\" class=\"row_heading level0 row42\" >secondary_cleaner.state.floatbank3_b_level</th>\n",
       "                        <td id=\"T_d49d0_row42_col0\" class=\"data row42 col0\" >0.000000</td>\n",
       "            </tr>\n",
       "            <tr>\n",
       "                        <th id=\"T_d49d0_level0_row43\" class=\"row_heading level0 row43\" >secondary_cleaner.state.floatbank4_a_air</th>\n",
       "                        <td id=\"T_d49d0_row43_col0\" class=\"data row43 col0\" >0.000000</td>\n",
       "            </tr>\n",
       "            <tr>\n",
       "                        <th id=\"T_d49d0_level0_row44\" class=\"row_heading level0 row44\" >secondary_cleaner.state.floatbank4_a_level</th>\n",
       "                        <td id=\"T_d49d0_row44_col0\" class=\"data row44 col0\" >0.000000</td>\n",
       "            </tr>\n",
       "            <tr>\n",
       "                        <th id=\"T_d49d0_level0_row45\" class=\"row_heading level0 row45\" >secondary_cleaner.state.floatbank4_b_air</th>\n",
       "                        <td id=\"T_d49d0_row45_col0\" class=\"data row45 col0\" >0.000000</td>\n",
       "            </tr>\n",
       "            <tr>\n",
       "                        <th id=\"T_d49d0_level0_row46\" class=\"row_heading level0 row46\" >secondary_cleaner.state.floatbank4_b_level</th>\n",
       "                        <td id=\"T_d49d0_row46_col0\" class=\"data row46 col0\" >0.000000</td>\n",
       "            </tr>\n",
       "            <tr>\n",
       "                        <th id=\"T_d49d0_level0_row47\" class=\"row_heading level0 row47\" >secondary_cleaner.state.floatbank5_a_air</th>\n",
       "                        <td id=\"T_d49d0_row47_col0\" class=\"data row47 col0\" >0.000000</td>\n",
       "            </tr>\n",
       "            <tr>\n",
       "                        <th id=\"T_d49d0_level0_row48\" class=\"row_heading level0 row48\" >secondary_cleaner.state.floatbank5_a_level</th>\n",
       "                        <td id=\"T_d49d0_row48_col0\" class=\"data row48 col0\" >0.000000</td>\n",
       "            </tr>\n",
       "            <tr>\n",
       "                        <th id=\"T_d49d0_level0_row49\" class=\"row_heading level0 row49\" >secondary_cleaner.state.floatbank5_b_air</th>\n",
       "                        <td id=\"T_d49d0_row49_col0\" class=\"data row49 col0\" >0.000000</td>\n",
       "            </tr>\n",
       "            <tr>\n",
       "                        <th id=\"T_d49d0_level0_row50\" class=\"row_heading level0 row50\" >secondary_cleaner.state.floatbank5_b_level</th>\n",
       "                        <td id=\"T_d49d0_row50_col0\" class=\"data row50 col0\" >0.000000</td>\n",
       "            </tr>\n",
       "            <tr>\n",
       "                        <th id=\"T_d49d0_level0_row51\" class=\"row_heading level0 row51\" >secondary_cleaner.state.floatbank6_a_air</th>\n",
       "                        <td id=\"T_d49d0_row51_col0\" class=\"data row51 col0\" >0.000000</td>\n",
       "            </tr>\n",
       "            <tr>\n",
       "                        <th id=\"T_d49d0_level0_row52\" class=\"row_heading level0 row52\" >secondary_cleaner.state.floatbank6_a_level</th>\n",
       "                        <td id=\"T_d49d0_row52_col0\" class=\"data row52 col0\" >0.000000</td>\n",
       "            </tr>\n",
       "    </tbody></table>"
      ],
      "text/plain": [
       "<pandas.io.formats.style.Styler at 0x7fdb91b518e0>"
      ]
     },
     "execution_count": 22,
     "metadata": {},
     "output_type": "execute_result"
    }
   ],
   "source": [
    "# Проверяем:\n",
    "pd.DataFrame(round(test_data.isna().mean()*100,)).style.background_gradient('YlOrRd')"
   ]
  },
  {
   "cell_type": "markdown",
   "metadata": {},
   "source": [
    "##### Выборка full_data"
   ]
  },
  {
   "cell_type": "code",
   "execution_count": 23,
   "metadata": {
    "scrolled": true
   },
   "outputs": [
    {
     "data": {
      "text/html": [
       "<style  type=\"text/css\" >\n",
       "#T_e3383_row0_col0,#T_e3383_row1_col0,#T_e3383_row2_col0,#T_e3383_row5_col0,#T_e3383_row7_col0,#T_e3383_row8_col0,#T_e3383_row9_col0,#T_e3383_row10_col0,#T_e3383_row11_col0,#T_e3383_row12_col0,#T_e3383_row13_col0,#T_e3383_row14_col0,#T_e3383_row15_col0,#T_e3383_row16_col0,#T_e3383_row18_col0,#T_e3383_row19_col0,#T_e3383_row20_col0,#T_e3383_row21_col0,#T_e3383_row23_col0,#T_e3383_row24_col0,#T_e3383_row25_col0,#T_e3383_row26_col0,#T_e3383_row27_col0,#T_e3383_row28_col0,#T_e3383_row29_col0,#T_e3383_row30_col0,#T_e3383_row31_col0,#T_e3383_row32_col0,#T_e3383_row33_col0,#T_e3383_row34_col0,#T_e3383_row35_col0,#T_e3383_row36_col0,#T_e3383_row37_col0,#T_e3383_row38_col0,#T_e3383_row40_col0,#T_e3383_row41_col0,#T_e3383_row42_col0,#T_e3383_row43_col0,#T_e3383_row44_col0,#T_e3383_row45_col0,#T_e3383_row46_col0,#T_e3383_row47_col0,#T_e3383_row48_col0,#T_e3383_row49_col0,#T_e3383_row52_col0,#T_e3383_row53_col0,#T_e3383_row54_col0,#T_e3383_row55_col0,#T_e3383_row57_col0,#T_e3383_row58_col0,#T_e3383_row59_col0,#T_e3383_row60_col0,#T_e3383_row61_col0,#T_e3383_row62_col0,#T_e3383_row63_col0,#T_e3383_row64_col0,#T_e3383_row65_col0,#T_e3383_row66_col0,#T_e3383_row67_col0,#T_e3383_row68_col0,#T_e3383_row69_col0,#T_e3383_row70_col0,#T_e3383_row71_col0,#T_e3383_row72_col0,#T_e3383_row73_col0,#T_e3383_row74_col0,#T_e3383_row75_col0,#T_e3383_row76_col0,#T_e3383_row78_col0,#T_e3383_row79_col0,#T_e3383_row80_col0,#T_e3383_row82_col0,#T_e3383_row83_col0,#T_e3383_row84_col0,#T_e3383_row86_col0{\n",
       "            background-color:  #ffffcc;\n",
       "            color:  #000000;\n",
       "        }#T_e3383_row3_col0,#T_e3383_row4_col0,#T_e3383_row6_col0,#T_e3383_row39_col0,#T_e3383_row50_col0,#T_e3383_row56_col0,#T_e3383_row81_col0,#T_e3383_row85_col0{\n",
       "            background-color:  #ffefa5;\n",
       "            color:  #000000;\n",
       "        }#T_e3383_row17_col0,#T_e3383_row22_col0,#T_e3383_row51_col0{\n",
       "            background-color:  #fede80;\n",
       "            color:  #000000;\n",
       "        }#T_e3383_row77_col0{\n",
       "            background-color:  #800026;\n",
       "            color:  #f1f1f1;\n",
       "        }</style><table id=\"T_e3383_\" ><thead>    <tr>        <th class=\"blank level0\" ></th>        <th class=\"col_heading level0 col0\" >0</th>    </tr></thead><tbody>\n",
       "                <tr>\n",
       "                        <th id=\"T_e3383_level0_row0\" class=\"row_heading level0 row0\" >date</th>\n",
       "                        <td id=\"T_e3383_row0_col0\" class=\"data row0 col0\" >0.000000</td>\n",
       "            </tr>\n",
       "            <tr>\n",
       "                        <th id=\"T_e3383_level0_row1\" class=\"row_heading level0 row1\" >rougher.input.feed_au</th>\n",
       "                        <td id=\"T_e3383_row1_col0\" class=\"data row1 col0\" >0.000000</td>\n",
       "            </tr>\n",
       "            <tr>\n",
       "                        <th id=\"T_e3383_level0_row2\" class=\"row_heading level0 row2\" >rougher.input.feed_ag</th>\n",
       "                        <td id=\"T_e3383_row2_col0\" class=\"data row2 col0\" >0.000000</td>\n",
       "            </tr>\n",
       "            <tr>\n",
       "                        <th id=\"T_e3383_level0_row3\" class=\"row_heading level0 row3\" >rougher.input.feed_pb</th>\n",
       "                        <td id=\"T_e3383_row3_col0\" class=\"data row3 col0\" >1.000000</td>\n",
       "            </tr>\n",
       "            <tr>\n",
       "                        <th id=\"T_e3383_level0_row4\" class=\"row_heading level0 row4\" >rougher.input.feed_sol</th>\n",
       "                        <td id=\"T_e3383_row4_col0\" class=\"data row4 col0\" >1.000000</td>\n",
       "            </tr>\n",
       "            <tr>\n",
       "                        <th id=\"T_e3383_level0_row5\" class=\"row_heading level0 row5\" >rougher.input.feed_rate</th>\n",
       "                        <td id=\"T_e3383_row5_col0\" class=\"data row5 col0\" >0.000000</td>\n",
       "            </tr>\n",
       "            <tr>\n",
       "                        <th id=\"T_e3383_level0_row6\" class=\"row_heading level0 row6\" >rougher.input.feed_size</th>\n",
       "                        <td id=\"T_e3383_row6_col0\" class=\"data row6 col0\" >1.000000</td>\n",
       "            </tr>\n",
       "            <tr>\n",
       "                        <th id=\"T_e3383_level0_row7\" class=\"row_heading level0 row7\" >rougher.input.floatbank10_sulfate</th>\n",
       "                        <td id=\"T_e3383_row7_col0\" class=\"data row7 col0\" >0.000000</td>\n",
       "            </tr>\n",
       "            <tr>\n",
       "                        <th id=\"T_e3383_level0_row8\" class=\"row_heading level0 row8\" >rougher.input.floatbank10_xanthate</th>\n",
       "                        <td id=\"T_e3383_row8_col0\" class=\"data row8 col0\" >0.000000</td>\n",
       "            </tr>\n",
       "            <tr>\n",
       "                        <th id=\"T_e3383_level0_row9\" class=\"row_heading level0 row9\" >rougher.state.floatbank10_a_air</th>\n",
       "                        <td id=\"T_e3383_row9_col0\" class=\"data row9 col0\" >0.000000</td>\n",
       "            </tr>\n",
       "            <tr>\n",
       "                        <th id=\"T_e3383_level0_row10\" class=\"row_heading level0 row10\" >rougher.state.floatbank10_a_level</th>\n",
       "                        <td id=\"T_e3383_row10_col0\" class=\"data row10 col0\" >0.000000</td>\n",
       "            </tr>\n",
       "            <tr>\n",
       "                        <th id=\"T_e3383_level0_row11\" class=\"row_heading level0 row11\" >rougher.state.floatbank10_b_air</th>\n",
       "                        <td id=\"T_e3383_row11_col0\" class=\"data row11 col0\" >0.000000</td>\n",
       "            </tr>\n",
       "            <tr>\n",
       "                        <th id=\"T_e3383_level0_row12\" class=\"row_heading level0 row12\" >rougher.state.floatbank10_b_level</th>\n",
       "                        <td id=\"T_e3383_row12_col0\" class=\"data row12 col0\" >0.000000</td>\n",
       "            </tr>\n",
       "            <tr>\n",
       "                        <th id=\"T_e3383_level0_row13\" class=\"row_heading level0 row13\" >rougher.state.floatbank10_c_air</th>\n",
       "                        <td id=\"T_e3383_row13_col0\" class=\"data row13 col0\" >0.000000</td>\n",
       "            </tr>\n",
       "            <tr>\n",
       "                        <th id=\"T_e3383_level0_row14\" class=\"row_heading level0 row14\" >rougher.state.floatbank10_c_level</th>\n",
       "                        <td id=\"T_e3383_row14_col0\" class=\"data row14 col0\" >0.000000</td>\n",
       "            </tr>\n",
       "            <tr>\n",
       "                        <th id=\"T_e3383_level0_row15\" class=\"row_heading level0 row15\" >rougher.state.floatbank10_d_air</th>\n",
       "                        <td id=\"T_e3383_row15_col0\" class=\"data row15 col0\" >0.000000</td>\n",
       "            </tr>\n",
       "            <tr>\n",
       "                        <th id=\"T_e3383_level0_row16\" class=\"row_heading level0 row16\" >rougher.state.floatbank10_d_level</th>\n",
       "                        <td id=\"T_e3383_row16_col0\" class=\"data row16 col0\" >0.000000</td>\n",
       "            </tr>\n",
       "            <tr>\n",
       "                        <th id=\"T_e3383_level0_row17\" class=\"row_heading level0 row17\" >rougher.state.floatbank10_e_air</th>\n",
       "                        <td id=\"T_e3383_row17_col0\" class=\"data row17 col0\" >2.000000</td>\n",
       "            </tr>\n",
       "            <tr>\n",
       "                        <th id=\"T_e3383_level0_row18\" class=\"row_heading level0 row18\" >rougher.state.floatbank10_e_level</th>\n",
       "                        <td id=\"T_e3383_row18_col0\" class=\"data row18 col0\" >0.000000</td>\n",
       "            </tr>\n",
       "            <tr>\n",
       "                        <th id=\"T_e3383_level0_row19\" class=\"row_heading level0 row19\" >rougher.state.floatbank10_f_air</th>\n",
       "                        <td id=\"T_e3383_row19_col0\" class=\"data row19 col0\" >0.000000</td>\n",
       "            </tr>\n",
       "            <tr>\n",
       "                        <th id=\"T_e3383_level0_row20\" class=\"row_heading level0 row20\" >rougher.state.floatbank10_f_level</th>\n",
       "                        <td id=\"T_e3383_row20_col0\" class=\"data row20 col0\" >0.000000</td>\n",
       "            </tr>\n",
       "            <tr>\n",
       "                        <th id=\"T_e3383_level0_row21\" class=\"row_heading level0 row21\" >rougher.input.floatbank11_sulfate</th>\n",
       "                        <td id=\"T_e3383_row21_col0\" class=\"data row21 col0\" >0.000000</td>\n",
       "            </tr>\n",
       "            <tr>\n",
       "                        <th id=\"T_e3383_level0_row22\" class=\"row_heading level0 row22\" >rougher.input.floatbank11_xanthate</th>\n",
       "                        <td id=\"T_e3383_row22_col0\" class=\"data row22 col0\" >2.000000</td>\n",
       "            </tr>\n",
       "            <tr>\n",
       "                        <th id=\"T_e3383_level0_row23\" class=\"row_heading level0 row23\" >rougher.calculation.sulfate_to_au_concentrate</th>\n",
       "                        <td id=\"T_e3383_row23_col0\" class=\"data row23 col0\" >0.000000</td>\n",
       "            </tr>\n",
       "            <tr>\n",
       "                        <th id=\"T_e3383_level0_row24\" class=\"row_heading level0 row24\" >rougher.calculation.floatbank10_sulfate_to_au_feed</th>\n",
       "                        <td id=\"T_e3383_row24_col0\" class=\"data row24 col0\" >0.000000</td>\n",
       "            </tr>\n",
       "            <tr>\n",
       "                        <th id=\"T_e3383_level0_row25\" class=\"row_heading level0 row25\" >rougher.calculation.floatbank11_sulfate_to_au_feed</th>\n",
       "                        <td id=\"T_e3383_row25_col0\" class=\"data row25 col0\" >0.000000</td>\n",
       "            </tr>\n",
       "            <tr>\n",
       "                        <th id=\"T_e3383_level0_row26\" class=\"row_heading level0 row26\" >rougher.calculation.au_pb_ratio</th>\n",
       "                        <td id=\"T_e3383_row26_col0\" class=\"data row26 col0\" >0.000000</td>\n",
       "            </tr>\n",
       "            <tr>\n",
       "                        <th id=\"T_e3383_level0_row27\" class=\"row_heading level0 row27\" >rougher.output.concentrate_au</th>\n",
       "                        <td id=\"T_e3383_row27_col0\" class=\"data row27 col0\" >0.000000</td>\n",
       "            </tr>\n",
       "            <tr>\n",
       "                        <th id=\"T_e3383_level0_row28\" class=\"row_heading level0 row28\" >rougher.output.concentrate_ag</th>\n",
       "                        <td id=\"T_e3383_row28_col0\" class=\"data row28 col0\" >0.000000</td>\n",
       "            </tr>\n",
       "            <tr>\n",
       "                        <th id=\"T_e3383_level0_row29\" class=\"row_heading level0 row29\" >rougher.output.concentrate_pb</th>\n",
       "                        <td id=\"T_e3383_row29_col0\" class=\"data row29 col0\" >0.000000</td>\n",
       "            </tr>\n",
       "            <tr>\n",
       "                        <th id=\"T_e3383_level0_row30\" class=\"row_heading level0 row30\" >rougher.output.concentrate_sol</th>\n",
       "                        <td id=\"T_e3383_row30_col0\" class=\"data row30 col0\" >0.000000</td>\n",
       "            </tr>\n",
       "            <tr>\n",
       "                        <th id=\"T_e3383_level0_row31\" class=\"row_heading level0 row31\" >rougher.output.recovery</th>\n",
       "                        <td id=\"T_e3383_row31_col0\" class=\"data row31 col0\" >0.000000</td>\n",
       "            </tr>\n",
       "            <tr>\n",
       "                        <th id=\"T_e3383_level0_row32\" class=\"row_heading level0 row32\" >rougher.output.tail_au</th>\n",
       "                        <td id=\"T_e3383_row32_col0\" class=\"data row32 col0\" >0.000000</td>\n",
       "            </tr>\n",
       "            <tr>\n",
       "                        <th id=\"T_e3383_level0_row33\" class=\"row_heading level0 row33\" >rougher.output.tail_ag</th>\n",
       "                        <td id=\"T_e3383_row33_col0\" class=\"data row33 col0\" >0.000000</td>\n",
       "            </tr>\n",
       "            <tr>\n",
       "                        <th id=\"T_e3383_level0_row34\" class=\"row_heading level0 row34\" >rougher.output.tail_pb</th>\n",
       "                        <td id=\"T_e3383_row34_col0\" class=\"data row34 col0\" >0.000000</td>\n",
       "            </tr>\n",
       "            <tr>\n",
       "                        <th id=\"T_e3383_level0_row35\" class=\"row_heading level0 row35\" >rougher.output.tail_sol</th>\n",
       "                        <td id=\"T_e3383_row35_col0\" class=\"data row35 col0\" >0.000000</td>\n",
       "            </tr>\n",
       "            <tr>\n",
       "                        <th id=\"T_e3383_level0_row36\" class=\"row_heading level0 row36\" >primary_cleaner.input.sulfate</th>\n",
       "                        <td id=\"T_e3383_row36_col0\" class=\"data row36 col0\" >0.000000</td>\n",
       "            </tr>\n",
       "            <tr>\n",
       "                        <th id=\"T_e3383_level0_row37\" class=\"row_heading level0 row37\" >primary_cleaner.input.depressant</th>\n",
       "                        <td id=\"T_e3383_row37_col0\" class=\"data row37 col0\" >0.000000</td>\n",
       "            </tr>\n",
       "            <tr>\n",
       "                        <th id=\"T_e3383_level0_row38\" class=\"row_heading level0 row38\" >primary_cleaner.input.feed_size</th>\n",
       "                        <td id=\"T_e3383_row38_col0\" class=\"data row38 col0\" >0.000000</td>\n",
       "            </tr>\n",
       "            <tr>\n",
       "                        <th id=\"T_e3383_level0_row39\" class=\"row_heading level0 row39\" >primary_cleaner.input.xanthate</th>\n",
       "                        <td id=\"T_e3383_row39_col0\" class=\"data row39 col0\" >1.000000</td>\n",
       "            </tr>\n",
       "            <tr>\n",
       "                        <th id=\"T_e3383_level0_row40\" class=\"row_heading level0 row40\" >primary_cleaner.state.floatbank8_a_air</th>\n",
       "                        <td id=\"T_e3383_row40_col0\" class=\"data row40 col0\" >0.000000</td>\n",
       "            </tr>\n",
       "            <tr>\n",
       "                        <th id=\"T_e3383_level0_row41\" class=\"row_heading level0 row41\" >primary_cleaner.state.floatbank8_a_level</th>\n",
       "                        <td id=\"T_e3383_row41_col0\" class=\"data row41 col0\" >0.000000</td>\n",
       "            </tr>\n",
       "            <tr>\n",
       "                        <th id=\"T_e3383_level0_row42\" class=\"row_heading level0 row42\" >primary_cleaner.state.floatbank8_b_air</th>\n",
       "                        <td id=\"T_e3383_row42_col0\" class=\"data row42 col0\" >0.000000</td>\n",
       "            </tr>\n",
       "            <tr>\n",
       "                        <th id=\"T_e3383_level0_row43\" class=\"row_heading level0 row43\" >primary_cleaner.state.floatbank8_b_level</th>\n",
       "                        <td id=\"T_e3383_row43_col0\" class=\"data row43 col0\" >0.000000</td>\n",
       "            </tr>\n",
       "            <tr>\n",
       "                        <th id=\"T_e3383_level0_row44\" class=\"row_heading level0 row44\" >primary_cleaner.state.floatbank8_c_air</th>\n",
       "                        <td id=\"T_e3383_row44_col0\" class=\"data row44 col0\" >0.000000</td>\n",
       "            </tr>\n",
       "            <tr>\n",
       "                        <th id=\"T_e3383_level0_row45\" class=\"row_heading level0 row45\" >primary_cleaner.state.floatbank8_c_level</th>\n",
       "                        <td id=\"T_e3383_row45_col0\" class=\"data row45 col0\" >0.000000</td>\n",
       "            </tr>\n",
       "            <tr>\n",
       "                        <th id=\"T_e3383_level0_row46\" class=\"row_heading level0 row46\" >primary_cleaner.state.floatbank8_d_air</th>\n",
       "                        <td id=\"T_e3383_row46_col0\" class=\"data row46 col0\" >0.000000</td>\n",
       "            </tr>\n",
       "            <tr>\n",
       "                        <th id=\"T_e3383_level0_row47\" class=\"row_heading level0 row47\" >primary_cleaner.state.floatbank8_d_level</th>\n",
       "                        <td id=\"T_e3383_row47_col0\" class=\"data row47 col0\" >0.000000</td>\n",
       "            </tr>\n",
       "            <tr>\n",
       "                        <th id=\"T_e3383_level0_row48\" class=\"row_heading level0 row48\" >primary_cleaner.output.concentrate_au</th>\n",
       "                        <td id=\"T_e3383_row48_col0\" class=\"data row48 col0\" >0.000000</td>\n",
       "            </tr>\n",
       "            <tr>\n",
       "                        <th id=\"T_e3383_level0_row49\" class=\"row_heading level0 row49\" >primary_cleaner.output.concentrate_ag</th>\n",
       "                        <td id=\"T_e3383_row49_col0\" class=\"data row49 col0\" >0.000000</td>\n",
       "            </tr>\n",
       "            <tr>\n",
       "                        <th id=\"T_e3383_level0_row50\" class=\"row_heading level0 row50\" >primary_cleaner.output.concentrate_pb</th>\n",
       "                        <td id=\"T_e3383_row50_col0\" class=\"data row50 col0\" >1.000000</td>\n",
       "            </tr>\n",
       "            <tr>\n",
       "                        <th id=\"T_e3383_level0_row51\" class=\"row_heading level0 row51\" >primary_cleaner.output.concentrate_sol</th>\n",
       "                        <td id=\"T_e3383_row51_col0\" class=\"data row51 col0\" >2.000000</td>\n",
       "            </tr>\n",
       "            <tr>\n",
       "                        <th id=\"T_e3383_level0_row52\" class=\"row_heading level0 row52\" >primary_cleaner.output.tail_au</th>\n",
       "                        <td id=\"T_e3383_row52_col0\" class=\"data row52 col0\" >0.000000</td>\n",
       "            </tr>\n",
       "            <tr>\n",
       "                        <th id=\"T_e3383_level0_row53\" class=\"row_heading level0 row53\" >primary_cleaner.output.tail_ag</th>\n",
       "                        <td id=\"T_e3383_row53_col0\" class=\"data row53 col0\" >0.000000</td>\n",
       "            </tr>\n",
       "            <tr>\n",
       "                        <th id=\"T_e3383_level0_row54\" class=\"row_heading level0 row54\" >primary_cleaner.output.tail_pb</th>\n",
       "                        <td id=\"T_e3383_row54_col0\" class=\"data row54 col0\" >0.000000</td>\n",
       "            </tr>\n",
       "            <tr>\n",
       "                        <th id=\"T_e3383_level0_row55\" class=\"row_heading level0 row55\" >primary_cleaner.output.tail_sol</th>\n",
       "                        <td id=\"T_e3383_row55_col0\" class=\"data row55 col0\" >0.000000</td>\n",
       "            </tr>\n",
       "            <tr>\n",
       "                        <th id=\"T_e3383_level0_row56\" class=\"row_heading level0 row56\" >secondary_cleaner.state.floatbank2_a_air</th>\n",
       "                        <td id=\"T_e3383_row56_col0\" class=\"data row56 col0\" >1.000000</td>\n",
       "            </tr>\n",
       "            <tr>\n",
       "                        <th id=\"T_e3383_level0_row57\" class=\"row_heading level0 row57\" >secondary_cleaner.state.floatbank2_a_level</th>\n",
       "                        <td id=\"T_e3383_row57_col0\" class=\"data row57 col0\" >0.000000</td>\n",
       "            </tr>\n",
       "            <tr>\n",
       "                        <th id=\"T_e3383_level0_row58\" class=\"row_heading level0 row58\" >secondary_cleaner.state.floatbank2_b_air</th>\n",
       "                        <td id=\"T_e3383_row58_col0\" class=\"data row58 col0\" >0.000000</td>\n",
       "            </tr>\n",
       "            <tr>\n",
       "                        <th id=\"T_e3383_level0_row59\" class=\"row_heading level0 row59\" >secondary_cleaner.state.floatbank2_b_level</th>\n",
       "                        <td id=\"T_e3383_row59_col0\" class=\"data row59 col0\" >0.000000</td>\n",
       "            </tr>\n",
       "            <tr>\n",
       "                        <th id=\"T_e3383_level0_row60\" class=\"row_heading level0 row60\" >secondary_cleaner.state.floatbank3_a_air</th>\n",
       "                        <td id=\"T_e3383_row60_col0\" class=\"data row60 col0\" >0.000000</td>\n",
       "            </tr>\n",
       "            <tr>\n",
       "                        <th id=\"T_e3383_level0_row61\" class=\"row_heading level0 row61\" >secondary_cleaner.state.floatbank3_a_level</th>\n",
       "                        <td id=\"T_e3383_row61_col0\" class=\"data row61 col0\" >0.000000</td>\n",
       "            </tr>\n",
       "            <tr>\n",
       "                        <th id=\"T_e3383_level0_row62\" class=\"row_heading level0 row62\" >secondary_cleaner.state.floatbank3_b_air</th>\n",
       "                        <td id=\"T_e3383_row62_col0\" class=\"data row62 col0\" >0.000000</td>\n",
       "            </tr>\n",
       "            <tr>\n",
       "                        <th id=\"T_e3383_level0_row63\" class=\"row_heading level0 row63\" >secondary_cleaner.state.floatbank3_b_level</th>\n",
       "                        <td id=\"T_e3383_row63_col0\" class=\"data row63 col0\" >0.000000</td>\n",
       "            </tr>\n",
       "            <tr>\n",
       "                        <th id=\"T_e3383_level0_row64\" class=\"row_heading level0 row64\" >secondary_cleaner.state.floatbank4_a_air</th>\n",
       "                        <td id=\"T_e3383_row64_col0\" class=\"data row64 col0\" >0.000000</td>\n",
       "            </tr>\n",
       "            <tr>\n",
       "                        <th id=\"T_e3383_level0_row65\" class=\"row_heading level0 row65\" >secondary_cleaner.state.floatbank4_a_level</th>\n",
       "                        <td id=\"T_e3383_row65_col0\" class=\"data row65 col0\" >0.000000</td>\n",
       "            </tr>\n",
       "            <tr>\n",
       "                        <th id=\"T_e3383_level0_row66\" class=\"row_heading level0 row66\" >secondary_cleaner.state.floatbank4_b_air</th>\n",
       "                        <td id=\"T_e3383_row66_col0\" class=\"data row66 col0\" >0.000000</td>\n",
       "            </tr>\n",
       "            <tr>\n",
       "                        <th id=\"T_e3383_level0_row67\" class=\"row_heading level0 row67\" >secondary_cleaner.state.floatbank4_b_level</th>\n",
       "                        <td id=\"T_e3383_row67_col0\" class=\"data row67 col0\" >0.000000</td>\n",
       "            </tr>\n",
       "            <tr>\n",
       "                        <th id=\"T_e3383_level0_row68\" class=\"row_heading level0 row68\" >secondary_cleaner.state.floatbank5_a_air</th>\n",
       "                        <td id=\"T_e3383_row68_col0\" class=\"data row68 col0\" >0.000000</td>\n",
       "            </tr>\n",
       "            <tr>\n",
       "                        <th id=\"T_e3383_level0_row69\" class=\"row_heading level0 row69\" >secondary_cleaner.state.floatbank5_a_level</th>\n",
       "                        <td id=\"T_e3383_row69_col0\" class=\"data row69 col0\" >0.000000</td>\n",
       "            </tr>\n",
       "            <tr>\n",
       "                        <th id=\"T_e3383_level0_row70\" class=\"row_heading level0 row70\" >secondary_cleaner.state.floatbank5_b_air</th>\n",
       "                        <td id=\"T_e3383_row70_col0\" class=\"data row70 col0\" >0.000000</td>\n",
       "            </tr>\n",
       "            <tr>\n",
       "                        <th id=\"T_e3383_level0_row71\" class=\"row_heading level0 row71\" >secondary_cleaner.state.floatbank5_b_level</th>\n",
       "                        <td id=\"T_e3383_row71_col0\" class=\"data row71 col0\" >0.000000</td>\n",
       "            </tr>\n",
       "            <tr>\n",
       "                        <th id=\"T_e3383_level0_row72\" class=\"row_heading level0 row72\" >secondary_cleaner.state.floatbank6_a_air</th>\n",
       "                        <td id=\"T_e3383_row72_col0\" class=\"data row72 col0\" >0.000000</td>\n",
       "            </tr>\n",
       "            <tr>\n",
       "                        <th id=\"T_e3383_level0_row73\" class=\"row_heading level0 row73\" >secondary_cleaner.state.floatbank6_a_level</th>\n",
       "                        <td id=\"T_e3383_row73_col0\" class=\"data row73 col0\" >0.000000</td>\n",
       "            </tr>\n",
       "            <tr>\n",
       "                        <th id=\"T_e3383_level0_row74\" class=\"row_heading level0 row74\" >secondary_cleaner.output.tail_au</th>\n",
       "                        <td id=\"T_e3383_row74_col0\" class=\"data row74 col0\" >0.000000</td>\n",
       "            </tr>\n",
       "            <tr>\n",
       "                        <th id=\"T_e3383_level0_row75\" class=\"row_heading level0 row75\" >secondary_cleaner.output.tail_ag</th>\n",
       "                        <td id=\"T_e3383_row75_col0\" class=\"data row75 col0\" >0.000000</td>\n",
       "            </tr>\n",
       "            <tr>\n",
       "                        <th id=\"T_e3383_level0_row76\" class=\"row_heading level0 row76\" >secondary_cleaner.output.tail_pb</th>\n",
       "                        <td id=\"T_e3383_row76_col0\" class=\"data row76 col0\" >0.000000</td>\n",
       "            </tr>\n",
       "            <tr>\n",
       "                        <th id=\"T_e3383_level0_row77\" class=\"row_heading level0 row77\" >secondary_cleaner.output.tail_sol</th>\n",
       "                        <td id=\"T_e3383_row77_col0\" class=\"data row77 col0\" >9.000000</td>\n",
       "            </tr>\n",
       "            <tr>\n",
       "                        <th id=\"T_e3383_level0_row78\" class=\"row_heading level0 row78\" >final.output.concentrate_au</th>\n",
       "                        <td id=\"T_e3383_row78_col0\" class=\"data row78 col0\" >0.000000</td>\n",
       "            </tr>\n",
       "            <tr>\n",
       "                        <th id=\"T_e3383_level0_row79\" class=\"row_heading level0 row79\" >final.output.concentrate_ag</th>\n",
       "                        <td id=\"T_e3383_row79_col0\" class=\"data row79 col0\" >0.000000</td>\n",
       "            </tr>\n",
       "            <tr>\n",
       "                        <th id=\"T_e3383_level0_row80\" class=\"row_heading level0 row80\" >final.output.concentrate_pb</th>\n",
       "                        <td id=\"T_e3383_row80_col0\" class=\"data row80 col0\" >0.000000</td>\n",
       "            </tr>\n",
       "            <tr>\n",
       "                        <th id=\"T_e3383_level0_row81\" class=\"row_heading level0 row81\" >final.output.concentrate_sol</th>\n",
       "                        <td id=\"T_e3383_row81_col0\" class=\"data row81 col0\" >1.000000</td>\n",
       "            </tr>\n",
       "            <tr>\n",
       "                        <th id=\"T_e3383_level0_row82\" class=\"row_heading level0 row82\" >final.output.recovery</th>\n",
       "                        <td id=\"T_e3383_row82_col0\" class=\"data row82 col0\" >0.000000</td>\n",
       "            </tr>\n",
       "            <tr>\n",
       "                        <th id=\"T_e3383_level0_row83\" class=\"row_heading level0 row83\" >final.output.tail_au</th>\n",
       "                        <td id=\"T_e3383_row83_col0\" class=\"data row83 col0\" >0.000000</td>\n",
       "            </tr>\n",
       "            <tr>\n",
       "                        <th id=\"T_e3383_level0_row84\" class=\"row_heading level0 row84\" >final.output.tail_ag</th>\n",
       "                        <td id=\"T_e3383_row84_col0\" class=\"data row84 col0\" >0.000000</td>\n",
       "            </tr>\n",
       "            <tr>\n",
       "                        <th id=\"T_e3383_level0_row85\" class=\"row_heading level0 row85\" >final.output.tail_pb</th>\n",
       "                        <td id=\"T_e3383_row85_col0\" class=\"data row85 col0\" >1.000000</td>\n",
       "            </tr>\n",
       "            <tr>\n",
       "                        <th id=\"T_e3383_level0_row86\" class=\"row_heading level0 row86\" >final.output.tail_sol</th>\n",
       "                        <td id=\"T_e3383_row86_col0\" class=\"data row86 col0\" >0.000000</td>\n",
       "            </tr>\n",
       "    </tbody></table>"
      ],
      "text/plain": [
       "<pandas.io.formats.style.Styler at 0x7fdb91b519a0>"
      ]
     },
     "execution_count": 23,
     "metadata": {},
     "output_type": "execute_result"
    }
   ],
   "source": [
    "pd.DataFrame(round(full_data.isna().mean()*100,)).style.background_gradient('YlOrRd')"
   ]
  },
  {
   "cell_type": "code",
   "execution_count": 24,
   "metadata": {},
   "outputs": [],
   "source": [
    "full_data.ffill(axis='rows', inplace=True) # нулевые значения заменяются данными из предыдущей строки."
   ]
  },
  {
   "cell_type": "code",
   "execution_count": 25,
   "metadata": {
    "scrolled": false
   },
   "outputs": [
    {
     "data": {
      "text/html": [
       "<style  type=\"text/css\" >\n",
       "#T_14c3d_row0_col0,#T_14c3d_row1_col0,#T_14c3d_row2_col0,#T_14c3d_row3_col0,#T_14c3d_row4_col0,#T_14c3d_row5_col0,#T_14c3d_row6_col0,#T_14c3d_row7_col0,#T_14c3d_row8_col0,#T_14c3d_row9_col0,#T_14c3d_row10_col0,#T_14c3d_row11_col0,#T_14c3d_row12_col0,#T_14c3d_row13_col0,#T_14c3d_row14_col0,#T_14c3d_row15_col0,#T_14c3d_row16_col0,#T_14c3d_row17_col0,#T_14c3d_row18_col0,#T_14c3d_row19_col0,#T_14c3d_row20_col0,#T_14c3d_row21_col0,#T_14c3d_row22_col0,#T_14c3d_row23_col0,#T_14c3d_row24_col0,#T_14c3d_row25_col0,#T_14c3d_row26_col0,#T_14c3d_row27_col0,#T_14c3d_row28_col0,#T_14c3d_row29_col0,#T_14c3d_row30_col0,#T_14c3d_row31_col0,#T_14c3d_row32_col0,#T_14c3d_row33_col0,#T_14c3d_row34_col0,#T_14c3d_row35_col0,#T_14c3d_row36_col0,#T_14c3d_row37_col0,#T_14c3d_row38_col0,#T_14c3d_row39_col0,#T_14c3d_row40_col0,#T_14c3d_row41_col0,#T_14c3d_row42_col0,#T_14c3d_row43_col0,#T_14c3d_row44_col0,#T_14c3d_row45_col0,#T_14c3d_row46_col0,#T_14c3d_row47_col0,#T_14c3d_row48_col0,#T_14c3d_row49_col0,#T_14c3d_row50_col0,#T_14c3d_row51_col0,#T_14c3d_row52_col0,#T_14c3d_row53_col0,#T_14c3d_row54_col0,#T_14c3d_row55_col0,#T_14c3d_row56_col0,#T_14c3d_row57_col0,#T_14c3d_row58_col0,#T_14c3d_row59_col0,#T_14c3d_row60_col0,#T_14c3d_row61_col0,#T_14c3d_row62_col0,#T_14c3d_row63_col0,#T_14c3d_row64_col0,#T_14c3d_row65_col0,#T_14c3d_row66_col0,#T_14c3d_row67_col0,#T_14c3d_row68_col0,#T_14c3d_row69_col0,#T_14c3d_row70_col0,#T_14c3d_row71_col0,#T_14c3d_row72_col0,#T_14c3d_row73_col0,#T_14c3d_row74_col0,#T_14c3d_row75_col0,#T_14c3d_row76_col0,#T_14c3d_row77_col0,#T_14c3d_row78_col0,#T_14c3d_row79_col0,#T_14c3d_row80_col0,#T_14c3d_row81_col0,#T_14c3d_row82_col0,#T_14c3d_row83_col0,#T_14c3d_row84_col0,#T_14c3d_row85_col0,#T_14c3d_row86_col0{\n",
       "            background-color:  #ffffcc;\n",
       "            color:  #000000;\n",
       "        }</style><table id=\"T_14c3d_\" ><thead>    <tr>        <th class=\"blank level0\" ></th>        <th class=\"col_heading level0 col0\" >0</th>    </tr></thead><tbody>\n",
       "                <tr>\n",
       "                        <th id=\"T_14c3d_level0_row0\" class=\"row_heading level0 row0\" >date</th>\n",
       "                        <td id=\"T_14c3d_row0_col0\" class=\"data row0 col0\" >0.000000</td>\n",
       "            </tr>\n",
       "            <tr>\n",
       "                        <th id=\"T_14c3d_level0_row1\" class=\"row_heading level0 row1\" >rougher.input.feed_au</th>\n",
       "                        <td id=\"T_14c3d_row1_col0\" class=\"data row1 col0\" >0.000000</td>\n",
       "            </tr>\n",
       "            <tr>\n",
       "                        <th id=\"T_14c3d_level0_row2\" class=\"row_heading level0 row2\" >rougher.input.feed_ag</th>\n",
       "                        <td id=\"T_14c3d_row2_col0\" class=\"data row2 col0\" >0.000000</td>\n",
       "            </tr>\n",
       "            <tr>\n",
       "                        <th id=\"T_14c3d_level0_row3\" class=\"row_heading level0 row3\" >rougher.input.feed_pb</th>\n",
       "                        <td id=\"T_14c3d_row3_col0\" class=\"data row3 col0\" >0.000000</td>\n",
       "            </tr>\n",
       "            <tr>\n",
       "                        <th id=\"T_14c3d_level0_row4\" class=\"row_heading level0 row4\" >rougher.input.feed_sol</th>\n",
       "                        <td id=\"T_14c3d_row4_col0\" class=\"data row4 col0\" >0.000000</td>\n",
       "            </tr>\n",
       "            <tr>\n",
       "                        <th id=\"T_14c3d_level0_row5\" class=\"row_heading level0 row5\" >rougher.input.feed_rate</th>\n",
       "                        <td id=\"T_14c3d_row5_col0\" class=\"data row5 col0\" >0.000000</td>\n",
       "            </tr>\n",
       "            <tr>\n",
       "                        <th id=\"T_14c3d_level0_row6\" class=\"row_heading level0 row6\" >rougher.input.feed_size</th>\n",
       "                        <td id=\"T_14c3d_row6_col0\" class=\"data row6 col0\" >0.000000</td>\n",
       "            </tr>\n",
       "            <tr>\n",
       "                        <th id=\"T_14c3d_level0_row7\" class=\"row_heading level0 row7\" >rougher.input.floatbank10_sulfate</th>\n",
       "                        <td id=\"T_14c3d_row7_col0\" class=\"data row7 col0\" >0.000000</td>\n",
       "            </tr>\n",
       "            <tr>\n",
       "                        <th id=\"T_14c3d_level0_row8\" class=\"row_heading level0 row8\" >rougher.input.floatbank10_xanthate</th>\n",
       "                        <td id=\"T_14c3d_row8_col0\" class=\"data row8 col0\" >0.000000</td>\n",
       "            </tr>\n",
       "            <tr>\n",
       "                        <th id=\"T_14c3d_level0_row9\" class=\"row_heading level0 row9\" >rougher.state.floatbank10_a_air</th>\n",
       "                        <td id=\"T_14c3d_row9_col0\" class=\"data row9 col0\" >0.000000</td>\n",
       "            </tr>\n",
       "            <tr>\n",
       "                        <th id=\"T_14c3d_level0_row10\" class=\"row_heading level0 row10\" >rougher.state.floatbank10_a_level</th>\n",
       "                        <td id=\"T_14c3d_row10_col0\" class=\"data row10 col0\" >0.000000</td>\n",
       "            </tr>\n",
       "            <tr>\n",
       "                        <th id=\"T_14c3d_level0_row11\" class=\"row_heading level0 row11\" >rougher.state.floatbank10_b_air</th>\n",
       "                        <td id=\"T_14c3d_row11_col0\" class=\"data row11 col0\" >0.000000</td>\n",
       "            </tr>\n",
       "            <tr>\n",
       "                        <th id=\"T_14c3d_level0_row12\" class=\"row_heading level0 row12\" >rougher.state.floatbank10_b_level</th>\n",
       "                        <td id=\"T_14c3d_row12_col0\" class=\"data row12 col0\" >0.000000</td>\n",
       "            </tr>\n",
       "            <tr>\n",
       "                        <th id=\"T_14c3d_level0_row13\" class=\"row_heading level0 row13\" >rougher.state.floatbank10_c_air</th>\n",
       "                        <td id=\"T_14c3d_row13_col0\" class=\"data row13 col0\" >0.000000</td>\n",
       "            </tr>\n",
       "            <tr>\n",
       "                        <th id=\"T_14c3d_level0_row14\" class=\"row_heading level0 row14\" >rougher.state.floatbank10_c_level</th>\n",
       "                        <td id=\"T_14c3d_row14_col0\" class=\"data row14 col0\" >0.000000</td>\n",
       "            </tr>\n",
       "            <tr>\n",
       "                        <th id=\"T_14c3d_level0_row15\" class=\"row_heading level0 row15\" >rougher.state.floatbank10_d_air</th>\n",
       "                        <td id=\"T_14c3d_row15_col0\" class=\"data row15 col0\" >0.000000</td>\n",
       "            </tr>\n",
       "            <tr>\n",
       "                        <th id=\"T_14c3d_level0_row16\" class=\"row_heading level0 row16\" >rougher.state.floatbank10_d_level</th>\n",
       "                        <td id=\"T_14c3d_row16_col0\" class=\"data row16 col0\" >0.000000</td>\n",
       "            </tr>\n",
       "            <tr>\n",
       "                        <th id=\"T_14c3d_level0_row17\" class=\"row_heading level0 row17\" >rougher.state.floatbank10_e_air</th>\n",
       "                        <td id=\"T_14c3d_row17_col0\" class=\"data row17 col0\" >0.000000</td>\n",
       "            </tr>\n",
       "            <tr>\n",
       "                        <th id=\"T_14c3d_level0_row18\" class=\"row_heading level0 row18\" >rougher.state.floatbank10_e_level</th>\n",
       "                        <td id=\"T_14c3d_row18_col0\" class=\"data row18 col0\" >0.000000</td>\n",
       "            </tr>\n",
       "            <tr>\n",
       "                        <th id=\"T_14c3d_level0_row19\" class=\"row_heading level0 row19\" >rougher.state.floatbank10_f_air</th>\n",
       "                        <td id=\"T_14c3d_row19_col0\" class=\"data row19 col0\" >0.000000</td>\n",
       "            </tr>\n",
       "            <tr>\n",
       "                        <th id=\"T_14c3d_level0_row20\" class=\"row_heading level0 row20\" >rougher.state.floatbank10_f_level</th>\n",
       "                        <td id=\"T_14c3d_row20_col0\" class=\"data row20 col0\" >0.000000</td>\n",
       "            </tr>\n",
       "            <tr>\n",
       "                        <th id=\"T_14c3d_level0_row21\" class=\"row_heading level0 row21\" >rougher.input.floatbank11_sulfate</th>\n",
       "                        <td id=\"T_14c3d_row21_col0\" class=\"data row21 col0\" >0.000000</td>\n",
       "            </tr>\n",
       "            <tr>\n",
       "                        <th id=\"T_14c3d_level0_row22\" class=\"row_heading level0 row22\" >rougher.input.floatbank11_xanthate</th>\n",
       "                        <td id=\"T_14c3d_row22_col0\" class=\"data row22 col0\" >0.000000</td>\n",
       "            </tr>\n",
       "            <tr>\n",
       "                        <th id=\"T_14c3d_level0_row23\" class=\"row_heading level0 row23\" >rougher.calculation.sulfate_to_au_concentrate</th>\n",
       "                        <td id=\"T_14c3d_row23_col0\" class=\"data row23 col0\" >0.000000</td>\n",
       "            </tr>\n",
       "            <tr>\n",
       "                        <th id=\"T_14c3d_level0_row24\" class=\"row_heading level0 row24\" >rougher.calculation.floatbank10_sulfate_to_au_feed</th>\n",
       "                        <td id=\"T_14c3d_row24_col0\" class=\"data row24 col0\" >0.000000</td>\n",
       "            </tr>\n",
       "            <tr>\n",
       "                        <th id=\"T_14c3d_level0_row25\" class=\"row_heading level0 row25\" >rougher.calculation.floatbank11_sulfate_to_au_feed</th>\n",
       "                        <td id=\"T_14c3d_row25_col0\" class=\"data row25 col0\" >0.000000</td>\n",
       "            </tr>\n",
       "            <tr>\n",
       "                        <th id=\"T_14c3d_level0_row26\" class=\"row_heading level0 row26\" >rougher.calculation.au_pb_ratio</th>\n",
       "                        <td id=\"T_14c3d_row26_col0\" class=\"data row26 col0\" >0.000000</td>\n",
       "            </tr>\n",
       "            <tr>\n",
       "                        <th id=\"T_14c3d_level0_row27\" class=\"row_heading level0 row27\" >rougher.output.concentrate_au</th>\n",
       "                        <td id=\"T_14c3d_row27_col0\" class=\"data row27 col0\" >0.000000</td>\n",
       "            </tr>\n",
       "            <tr>\n",
       "                        <th id=\"T_14c3d_level0_row28\" class=\"row_heading level0 row28\" >rougher.output.concentrate_ag</th>\n",
       "                        <td id=\"T_14c3d_row28_col0\" class=\"data row28 col0\" >0.000000</td>\n",
       "            </tr>\n",
       "            <tr>\n",
       "                        <th id=\"T_14c3d_level0_row29\" class=\"row_heading level0 row29\" >rougher.output.concentrate_pb</th>\n",
       "                        <td id=\"T_14c3d_row29_col0\" class=\"data row29 col0\" >0.000000</td>\n",
       "            </tr>\n",
       "            <tr>\n",
       "                        <th id=\"T_14c3d_level0_row30\" class=\"row_heading level0 row30\" >rougher.output.concentrate_sol</th>\n",
       "                        <td id=\"T_14c3d_row30_col0\" class=\"data row30 col0\" >0.000000</td>\n",
       "            </tr>\n",
       "            <tr>\n",
       "                        <th id=\"T_14c3d_level0_row31\" class=\"row_heading level0 row31\" >rougher.output.recovery</th>\n",
       "                        <td id=\"T_14c3d_row31_col0\" class=\"data row31 col0\" >0.000000</td>\n",
       "            </tr>\n",
       "            <tr>\n",
       "                        <th id=\"T_14c3d_level0_row32\" class=\"row_heading level0 row32\" >rougher.output.tail_au</th>\n",
       "                        <td id=\"T_14c3d_row32_col0\" class=\"data row32 col0\" >0.000000</td>\n",
       "            </tr>\n",
       "            <tr>\n",
       "                        <th id=\"T_14c3d_level0_row33\" class=\"row_heading level0 row33\" >rougher.output.tail_ag</th>\n",
       "                        <td id=\"T_14c3d_row33_col0\" class=\"data row33 col0\" >0.000000</td>\n",
       "            </tr>\n",
       "            <tr>\n",
       "                        <th id=\"T_14c3d_level0_row34\" class=\"row_heading level0 row34\" >rougher.output.tail_pb</th>\n",
       "                        <td id=\"T_14c3d_row34_col0\" class=\"data row34 col0\" >0.000000</td>\n",
       "            </tr>\n",
       "            <tr>\n",
       "                        <th id=\"T_14c3d_level0_row35\" class=\"row_heading level0 row35\" >rougher.output.tail_sol</th>\n",
       "                        <td id=\"T_14c3d_row35_col0\" class=\"data row35 col0\" >0.000000</td>\n",
       "            </tr>\n",
       "            <tr>\n",
       "                        <th id=\"T_14c3d_level0_row36\" class=\"row_heading level0 row36\" >primary_cleaner.input.sulfate</th>\n",
       "                        <td id=\"T_14c3d_row36_col0\" class=\"data row36 col0\" >0.000000</td>\n",
       "            </tr>\n",
       "            <tr>\n",
       "                        <th id=\"T_14c3d_level0_row37\" class=\"row_heading level0 row37\" >primary_cleaner.input.depressant</th>\n",
       "                        <td id=\"T_14c3d_row37_col0\" class=\"data row37 col0\" >0.000000</td>\n",
       "            </tr>\n",
       "            <tr>\n",
       "                        <th id=\"T_14c3d_level0_row38\" class=\"row_heading level0 row38\" >primary_cleaner.input.feed_size</th>\n",
       "                        <td id=\"T_14c3d_row38_col0\" class=\"data row38 col0\" >0.000000</td>\n",
       "            </tr>\n",
       "            <tr>\n",
       "                        <th id=\"T_14c3d_level0_row39\" class=\"row_heading level0 row39\" >primary_cleaner.input.xanthate</th>\n",
       "                        <td id=\"T_14c3d_row39_col0\" class=\"data row39 col0\" >0.000000</td>\n",
       "            </tr>\n",
       "            <tr>\n",
       "                        <th id=\"T_14c3d_level0_row40\" class=\"row_heading level0 row40\" >primary_cleaner.state.floatbank8_a_air</th>\n",
       "                        <td id=\"T_14c3d_row40_col0\" class=\"data row40 col0\" >0.000000</td>\n",
       "            </tr>\n",
       "            <tr>\n",
       "                        <th id=\"T_14c3d_level0_row41\" class=\"row_heading level0 row41\" >primary_cleaner.state.floatbank8_a_level</th>\n",
       "                        <td id=\"T_14c3d_row41_col0\" class=\"data row41 col0\" >0.000000</td>\n",
       "            </tr>\n",
       "            <tr>\n",
       "                        <th id=\"T_14c3d_level0_row42\" class=\"row_heading level0 row42\" >primary_cleaner.state.floatbank8_b_air</th>\n",
       "                        <td id=\"T_14c3d_row42_col0\" class=\"data row42 col0\" >0.000000</td>\n",
       "            </tr>\n",
       "            <tr>\n",
       "                        <th id=\"T_14c3d_level0_row43\" class=\"row_heading level0 row43\" >primary_cleaner.state.floatbank8_b_level</th>\n",
       "                        <td id=\"T_14c3d_row43_col0\" class=\"data row43 col0\" >0.000000</td>\n",
       "            </tr>\n",
       "            <tr>\n",
       "                        <th id=\"T_14c3d_level0_row44\" class=\"row_heading level0 row44\" >primary_cleaner.state.floatbank8_c_air</th>\n",
       "                        <td id=\"T_14c3d_row44_col0\" class=\"data row44 col0\" >0.000000</td>\n",
       "            </tr>\n",
       "            <tr>\n",
       "                        <th id=\"T_14c3d_level0_row45\" class=\"row_heading level0 row45\" >primary_cleaner.state.floatbank8_c_level</th>\n",
       "                        <td id=\"T_14c3d_row45_col0\" class=\"data row45 col0\" >0.000000</td>\n",
       "            </tr>\n",
       "            <tr>\n",
       "                        <th id=\"T_14c3d_level0_row46\" class=\"row_heading level0 row46\" >primary_cleaner.state.floatbank8_d_air</th>\n",
       "                        <td id=\"T_14c3d_row46_col0\" class=\"data row46 col0\" >0.000000</td>\n",
       "            </tr>\n",
       "            <tr>\n",
       "                        <th id=\"T_14c3d_level0_row47\" class=\"row_heading level0 row47\" >primary_cleaner.state.floatbank8_d_level</th>\n",
       "                        <td id=\"T_14c3d_row47_col0\" class=\"data row47 col0\" >0.000000</td>\n",
       "            </tr>\n",
       "            <tr>\n",
       "                        <th id=\"T_14c3d_level0_row48\" class=\"row_heading level0 row48\" >primary_cleaner.output.concentrate_au</th>\n",
       "                        <td id=\"T_14c3d_row48_col0\" class=\"data row48 col0\" >0.000000</td>\n",
       "            </tr>\n",
       "            <tr>\n",
       "                        <th id=\"T_14c3d_level0_row49\" class=\"row_heading level0 row49\" >primary_cleaner.output.concentrate_ag</th>\n",
       "                        <td id=\"T_14c3d_row49_col0\" class=\"data row49 col0\" >0.000000</td>\n",
       "            </tr>\n",
       "            <tr>\n",
       "                        <th id=\"T_14c3d_level0_row50\" class=\"row_heading level0 row50\" >primary_cleaner.output.concentrate_pb</th>\n",
       "                        <td id=\"T_14c3d_row50_col0\" class=\"data row50 col0\" >0.000000</td>\n",
       "            </tr>\n",
       "            <tr>\n",
       "                        <th id=\"T_14c3d_level0_row51\" class=\"row_heading level0 row51\" >primary_cleaner.output.concentrate_sol</th>\n",
       "                        <td id=\"T_14c3d_row51_col0\" class=\"data row51 col0\" >0.000000</td>\n",
       "            </tr>\n",
       "            <tr>\n",
       "                        <th id=\"T_14c3d_level0_row52\" class=\"row_heading level0 row52\" >primary_cleaner.output.tail_au</th>\n",
       "                        <td id=\"T_14c3d_row52_col0\" class=\"data row52 col0\" >0.000000</td>\n",
       "            </tr>\n",
       "            <tr>\n",
       "                        <th id=\"T_14c3d_level0_row53\" class=\"row_heading level0 row53\" >primary_cleaner.output.tail_ag</th>\n",
       "                        <td id=\"T_14c3d_row53_col0\" class=\"data row53 col0\" >0.000000</td>\n",
       "            </tr>\n",
       "            <tr>\n",
       "                        <th id=\"T_14c3d_level0_row54\" class=\"row_heading level0 row54\" >primary_cleaner.output.tail_pb</th>\n",
       "                        <td id=\"T_14c3d_row54_col0\" class=\"data row54 col0\" >0.000000</td>\n",
       "            </tr>\n",
       "            <tr>\n",
       "                        <th id=\"T_14c3d_level0_row55\" class=\"row_heading level0 row55\" >primary_cleaner.output.tail_sol</th>\n",
       "                        <td id=\"T_14c3d_row55_col0\" class=\"data row55 col0\" >0.000000</td>\n",
       "            </tr>\n",
       "            <tr>\n",
       "                        <th id=\"T_14c3d_level0_row56\" class=\"row_heading level0 row56\" >secondary_cleaner.state.floatbank2_a_air</th>\n",
       "                        <td id=\"T_14c3d_row56_col0\" class=\"data row56 col0\" >0.000000</td>\n",
       "            </tr>\n",
       "            <tr>\n",
       "                        <th id=\"T_14c3d_level0_row57\" class=\"row_heading level0 row57\" >secondary_cleaner.state.floatbank2_a_level</th>\n",
       "                        <td id=\"T_14c3d_row57_col0\" class=\"data row57 col0\" >0.000000</td>\n",
       "            </tr>\n",
       "            <tr>\n",
       "                        <th id=\"T_14c3d_level0_row58\" class=\"row_heading level0 row58\" >secondary_cleaner.state.floatbank2_b_air</th>\n",
       "                        <td id=\"T_14c3d_row58_col0\" class=\"data row58 col0\" >0.000000</td>\n",
       "            </tr>\n",
       "            <tr>\n",
       "                        <th id=\"T_14c3d_level0_row59\" class=\"row_heading level0 row59\" >secondary_cleaner.state.floatbank2_b_level</th>\n",
       "                        <td id=\"T_14c3d_row59_col0\" class=\"data row59 col0\" >0.000000</td>\n",
       "            </tr>\n",
       "            <tr>\n",
       "                        <th id=\"T_14c3d_level0_row60\" class=\"row_heading level0 row60\" >secondary_cleaner.state.floatbank3_a_air</th>\n",
       "                        <td id=\"T_14c3d_row60_col0\" class=\"data row60 col0\" >0.000000</td>\n",
       "            </tr>\n",
       "            <tr>\n",
       "                        <th id=\"T_14c3d_level0_row61\" class=\"row_heading level0 row61\" >secondary_cleaner.state.floatbank3_a_level</th>\n",
       "                        <td id=\"T_14c3d_row61_col0\" class=\"data row61 col0\" >0.000000</td>\n",
       "            </tr>\n",
       "            <tr>\n",
       "                        <th id=\"T_14c3d_level0_row62\" class=\"row_heading level0 row62\" >secondary_cleaner.state.floatbank3_b_air</th>\n",
       "                        <td id=\"T_14c3d_row62_col0\" class=\"data row62 col0\" >0.000000</td>\n",
       "            </tr>\n",
       "            <tr>\n",
       "                        <th id=\"T_14c3d_level0_row63\" class=\"row_heading level0 row63\" >secondary_cleaner.state.floatbank3_b_level</th>\n",
       "                        <td id=\"T_14c3d_row63_col0\" class=\"data row63 col0\" >0.000000</td>\n",
       "            </tr>\n",
       "            <tr>\n",
       "                        <th id=\"T_14c3d_level0_row64\" class=\"row_heading level0 row64\" >secondary_cleaner.state.floatbank4_a_air</th>\n",
       "                        <td id=\"T_14c3d_row64_col0\" class=\"data row64 col0\" >0.000000</td>\n",
       "            </tr>\n",
       "            <tr>\n",
       "                        <th id=\"T_14c3d_level0_row65\" class=\"row_heading level0 row65\" >secondary_cleaner.state.floatbank4_a_level</th>\n",
       "                        <td id=\"T_14c3d_row65_col0\" class=\"data row65 col0\" >0.000000</td>\n",
       "            </tr>\n",
       "            <tr>\n",
       "                        <th id=\"T_14c3d_level0_row66\" class=\"row_heading level0 row66\" >secondary_cleaner.state.floatbank4_b_air</th>\n",
       "                        <td id=\"T_14c3d_row66_col0\" class=\"data row66 col0\" >0.000000</td>\n",
       "            </tr>\n",
       "            <tr>\n",
       "                        <th id=\"T_14c3d_level0_row67\" class=\"row_heading level0 row67\" >secondary_cleaner.state.floatbank4_b_level</th>\n",
       "                        <td id=\"T_14c3d_row67_col0\" class=\"data row67 col0\" >0.000000</td>\n",
       "            </tr>\n",
       "            <tr>\n",
       "                        <th id=\"T_14c3d_level0_row68\" class=\"row_heading level0 row68\" >secondary_cleaner.state.floatbank5_a_air</th>\n",
       "                        <td id=\"T_14c3d_row68_col0\" class=\"data row68 col0\" >0.000000</td>\n",
       "            </tr>\n",
       "            <tr>\n",
       "                        <th id=\"T_14c3d_level0_row69\" class=\"row_heading level0 row69\" >secondary_cleaner.state.floatbank5_a_level</th>\n",
       "                        <td id=\"T_14c3d_row69_col0\" class=\"data row69 col0\" >0.000000</td>\n",
       "            </tr>\n",
       "            <tr>\n",
       "                        <th id=\"T_14c3d_level0_row70\" class=\"row_heading level0 row70\" >secondary_cleaner.state.floatbank5_b_air</th>\n",
       "                        <td id=\"T_14c3d_row70_col0\" class=\"data row70 col0\" >0.000000</td>\n",
       "            </tr>\n",
       "            <tr>\n",
       "                        <th id=\"T_14c3d_level0_row71\" class=\"row_heading level0 row71\" >secondary_cleaner.state.floatbank5_b_level</th>\n",
       "                        <td id=\"T_14c3d_row71_col0\" class=\"data row71 col0\" >0.000000</td>\n",
       "            </tr>\n",
       "            <tr>\n",
       "                        <th id=\"T_14c3d_level0_row72\" class=\"row_heading level0 row72\" >secondary_cleaner.state.floatbank6_a_air</th>\n",
       "                        <td id=\"T_14c3d_row72_col0\" class=\"data row72 col0\" >0.000000</td>\n",
       "            </tr>\n",
       "            <tr>\n",
       "                        <th id=\"T_14c3d_level0_row73\" class=\"row_heading level0 row73\" >secondary_cleaner.state.floatbank6_a_level</th>\n",
       "                        <td id=\"T_14c3d_row73_col0\" class=\"data row73 col0\" >0.000000</td>\n",
       "            </tr>\n",
       "            <tr>\n",
       "                        <th id=\"T_14c3d_level0_row74\" class=\"row_heading level0 row74\" >secondary_cleaner.output.tail_au</th>\n",
       "                        <td id=\"T_14c3d_row74_col0\" class=\"data row74 col0\" >0.000000</td>\n",
       "            </tr>\n",
       "            <tr>\n",
       "                        <th id=\"T_14c3d_level0_row75\" class=\"row_heading level0 row75\" >secondary_cleaner.output.tail_ag</th>\n",
       "                        <td id=\"T_14c3d_row75_col0\" class=\"data row75 col0\" >0.000000</td>\n",
       "            </tr>\n",
       "            <tr>\n",
       "                        <th id=\"T_14c3d_level0_row76\" class=\"row_heading level0 row76\" >secondary_cleaner.output.tail_pb</th>\n",
       "                        <td id=\"T_14c3d_row76_col0\" class=\"data row76 col0\" >0.000000</td>\n",
       "            </tr>\n",
       "            <tr>\n",
       "                        <th id=\"T_14c3d_level0_row77\" class=\"row_heading level0 row77\" >secondary_cleaner.output.tail_sol</th>\n",
       "                        <td id=\"T_14c3d_row77_col0\" class=\"data row77 col0\" >0.000000</td>\n",
       "            </tr>\n",
       "            <tr>\n",
       "                        <th id=\"T_14c3d_level0_row78\" class=\"row_heading level0 row78\" >final.output.concentrate_au</th>\n",
       "                        <td id=\"T_14c3d_row78_col0\" class=\"data row78 col0\" >0.000000</td>\n",
       "            </tr>\n",
       "            <tr>\n",
       "                        <th id=\"T_14c3d_level0_row79\" class=\"row_heading level0 row79\" >final.output.concentrate_ag</th>\n",
       "                        <td id=\"T_14c3d_row79_col0\" class=\"data row79 col0\" >0.000000</td>\n",
       "            </tr>\n",
       "            <tr>\n",
       "                        <th id=\"T_14c3d_level0_row80\" class=\"row_heading level0 row80\" >final.output.concentrate_pb</th>\n",
       "                        <td id=\"T_14c3d_row80_col0\" class=\"data row80 col0\" >0.000000</td>\n",
       "            </tr>\n",
       "            <tr>\n",
       "                        <th id=\"T_14c3d_level0_row81\" class=\"row_heading level0 row81\" >final.output.concentrate_sol</th>\n",
       "                        <td id=\"T_14c3d_row81_col0\" class=\"data row81 col0\" >0.000000</td>\n",
       "            </tr>\n",
       "            <tr>\n",
       "                        <th id=\"T_14c3d_level0_row82\" class=\"row_heading level0 row82\" >final.output.recovery</th>\n",
       "                        <td id=\"T_14c3d_row82_col0\" class=\"data row82 col0\" >0.000000</td>\n",
       "            </tr>\n",
       "            <tr>\n",
       "                        <th id=\"T_14c3d_level0_row83\" class=\"row_heading level0 row83\" >final.output.tail_au</th>\n",
       "                        <td id=\"T_14c3d_row83_col0\" class=\"data row83 col0\" >0.000000</td>\n",
       "            </tr>\n",
       "            <tr>\n",
       "                        <th id=\"T_14c3d_level0_row84\" class=\"row_heading level0 row84\" >final.output.tail_ag</th>\n",
       "                        <td id=\"T_14c3d_row84_col0\" class=\"data row84 col0\" >0.000000</td>\n",
       "            </tr>\n",
       "            <tr>\n",
       "                        <th id=\"T_14c3d_level0_row85\" class=\"row_heading level0 row85\" >final.output.tail_pb</th>\n",
       "                        <td id=\"T_14c3d_row85_col0\" class=\"data row85 col0\" >0.000000</td>\n",
       "            </tr>\n",
       "            <tr>\n",
       "                        <th id=\"T_14c3d_level0_row86\" class=\"row_heading level0 row86\" >final.output.tail_sol</th>\n",
       "                        <td id=\"T_14c3d_row86_col0\" class=\"data row86 col0\" >0.000000</td>\n",
       "            </tr>\n",
       "    </tbody></table>"
      ],
      "text/plain": [
       "<pandas.io.formats.style.Styler at 0x7fdb91aa6f40>"
      ]
     },
     "execution_count": 25,
     "metadata": {},
     "output_type": "execute_result"
    }
   ],
   "source": [
    "pd.DataFrame(round(full_data.isna().mean()*100,)).style.background_gradient('YlOrRd')"
   ]
  },
  {
   "cell_type": "markdown",
   "metadata": {},
   "source": [
    "**Вывод:**\n",
    "\n",
    "Полных дубликатов нет.\n",
    "\n",
    "Отсутствующие значения заменены данными из предыдущей строки."
   ]
  },
  {
   "cell_type": "markdown",
   "metadata": {},
   "source": [
    "## Анализ данных"
   ]
  },
  {
   "cell_type": "markdown",
   "metadata": {},
   "source": [
    "### Изменение концентрации металлов на различных этапах."
   ]
  },
  {
   "cell_type": "markdown",
   "metadata": {},
   "source": [
    "Посмотрите, как меняется концентрация металлов (Au, Ag, Pb) на различных этапах: в сырье, в черновом концентрате, в концентрате после первой очистки и в финальном концентрате. Какие особенности имеют распределения? Опишите выводы.\n",
    "\n",
    "- **Au** - золото\n",
    "- **Ag** - серебро\n",
    "- **Pb** - свинец"
   ]
  },
  {
   "cell_type": "code",
   "execution_count": 26,
   "metadata": {},
   "outputs": [
    {
     "data": {
      "image/png": "[encoded data removed]",
      "text/plain": [
       "<Figure size 1440x360 with 1 Axes>"
      ]
     },
     "metadata": {
      "needs_background": "light"
     },
     "output_type": "display_data"
    }
   ],
   "source": [
    "metrics = [\n",
    "    'rougher.input.feed_au',\n",
    "    'rougher.output.concentrate_au',\n",
    "    'primary_cleaner.output.concentrate_au',\n",
    "    'final.output.concentrate_au',\n",
    "]\n",
    "\n",
    "full_data[metrics].plot(\n",
    "        title = 'Изменение концентрации на разных этапах очистки для Au',\n",
    "        kind='hist', \n",
    "        bins=150, \n",
    "        grid=True, \n",
    "        legend=True,\n",
    "        figsize=(20, 5),\n",
    "        alpha=0.4,\n",
    "        ylim = [0,2000],\n",
    "    ).set(xlabel='Концентрация золота', ylabel='Частотность');\n",
    "\n",
    "plt.legend(['В сырье',\n",
    "            'В черновом концентрате',\n",
    "            'В концентрате после первой очистки',\n",
    "            'В финальном концентрате'], loc = 1);"
   ]
  },
  {
   "cell_type": "code",
   "execution_count": 27,
   "metadata": {},
   "outputs": [
    {
     "data": {
      "image/png": "[encoded data removed]",
      "text/plain": [
       "<Figure size 1440x360 with 1 Axes>"
      ]
     },
     "metadata": {
      "needs_background": "light"
     },
     "output_type": "display_data"
    }
   ],
   "source": [
    "metrics = [\n",
    "    'rougher.input.feed_ag',\n",
    "    'rougher.output.concentrate_ag',\n",
    "    'primary_cleaner.output.concentrate_ag',\n",
    "    'final.output.concentrate_ag',\n",
    "]\n",
    "\n",
    "full_data[metrics].plot(\n",
    "        title = 'Изменение концентрации на разных этапах очистки для Ag',\n",
    "        kind='hist', \n",
    "        bins=150, \n",
    "        grid=True, \n",
    "        legend=True,\n",
    "        figsize=(20, 5),\n",
    "        alpha=0.4,\n",
    "        ylim = [0,2000],\n",
    "    ).set(xlabel='Концентрация серебра', ylabel='Частотность');\n",
    "\n",
    "plt.legend(['В сырье',\n",
    "            'В черновом концентрате',\n",
    "            'В концентрате после первой очистки',\n",
    "            'В финальном концентрате'], loc = 1);"
   ]
  },
  {
   "cell_type": "code",
   "execution_count": 28,
   "metadata": {},
   "outputs": [
    {
     "data": {
      "image/png": "[encoded data removed]",
      "text/plain": [
       "<Figure size 1440x360 with 1 Axes>"
      ]
     },
     "metadata": {
      "needs_background": "light"
     },
     "output_type": "display_data"
    }
   ],
   "source": [
    "metrics = [\n",
    "    'rougher.input.feed_pb',\n",
    "    'rougher.output.concentrate_pb',\n",
    "    'primary_cleaner.output.concentrate_pb',\n",
    "    'final.output.concentrate_pb',\n",
    "]\n",
    "\n",
    "full_data[metrics].plot(\n",
    "        title = 'Изменение концентрации на разных этапах очистки для Pb',\n",
    "        kind='hist', \n",
    "        bins=150, \n",
    "        grid=True, \n",
    "        legend=True,\n",
    "        figsize=(20, 5),\n",
    "        alpha=0.4,\n",
    "        ylim = [0,2000],\n",
    "    ).set(xlabel='Концентрация свинца', ylabel='Частотность');\n",
    "\n",
    "plt.legend(['В сырье',\n",
    "            'В черновом концентрате',\n",
    "            'В концентрате после первой очистки',\n",
    "            'В финальном концентрате'], loc = 1);"
   ]
  },
  {
   "cell_type": "markdown",
   "metadata": {},
   "source": [
    "На всех этапах присутствуют выбросы около нуля, они находятся очень далеко от основной части распределения. Причем преобладают на стадии чернового концентрата. Возможно, это произошло из-за сбоя оборудования. Удаляем."
   ]
  },
  {
   "cell_type": "code",
   "execution_count": 29,
   "metadata": {},
   "outputs": [],
   "source": [
    "full_data = full_data.drop(index = full_data[full_data[\"rougher.input.feed_au\"] < 1].index,\n",
    "                               axis = 0)\n",
    "full_data = full_data.drop(index = full_data[full_data[\"rougher.input.feed_ag\"] < 1].index,\n",
    "                               axis = 0)\n",
    "full_data = full_data.drop(index = full_data[full_data[\"rougher.input.feed_pb\"] < 1].index,\n",
    "                               axis = 0)\n",
    "\n",
    "full_data = full_data.drop(index = full_data[full_data[\"rougher.output.concentrate_au\"] < 1].index,\n",
    "                               axis = 0)\n",
    "full_data = full_data.drop(index = full_data[full_data[\"rougher.output.concentrate_ag\"] < 1].index,\n",
    "                               axis = 0)\n",
    "full_data = full_data.drop(index = full_data[full_data[\"rougher.output.concentrate_pb\"] < 1].index,\n",
    "                               axis = 0)\n",
    "\n",
    "full_data = full_data.drop(index = full_data[full_data[\"primary_cleaner.output.concentrate_au\"] < 1].index,\n",
    "                               axis = 0)\n",
    "full_data = full_data.drop(index = full_data[full_data[\"primary_cleaner.output.concentrate_ag\"] < 1].index,\n",
    "                               axis = 0)\n",
    "full_data = full_data.drop(index = full_data[full_data[\"primary_cleaner.output.concentrate_pb\"] < 1].index,\n",
    "                               axis = 0)\n",
    "\n",
    "\n",
    "full_data = full_data.drop(index = full_data[full_data[\"final.output.concentrate_au\"] < 1].index,\n",
    "                               axis = 0)\n",
    "full_data = full_data.drop(index = full_data[full_data[\"final.output.concentrate_ag\"] < 1].index,\n",
    "                               axis = 0)\n",
    "full_data = full_data.drop(index = full_data[full_data[\"final.output.concentrate_pb\"] < 1].index,\n",
    "                               axis = 0)"
   ]
  },
  {
   "cell_type": "markdown",
   "metadata": {},
   "source": [
    "**Вывод:**\n",
    "\n",
    "По графикам видно, что концентрация золота увеличилась после всех этапов. В нулевом значение большое количество выбросов для всех металлов. Около нуля удалены значения соответствующих столбцов."
   ]
  },
  {
   "cell_type": "markdown",
   "metadata": {},
   "source": [
    "### Сравнение распределения гранул исходного сырья на обучающей и тестовой выборках."
   ]
  },
  {
   "cell_type": "code",
   "execution_count": 30,
   "metadata": {},
   "outputs": [
    {
     "data": {
      "image/png": "[encoded data removed]",
      "text/plain": [
       "<Figure size 1080x504 with 1 Axes>"
      ]
     },
     "metadata": {
      "needs_background": "light"
     },
     "output_type": "display_data"
    }
   ],
   "source": [
    "#построим графики\n",
    "plt.figure(figsize=(15,7))\n",
    "sns.kdeplot(train_data['rougher.input.feed_size'], label='Обучающая выборка', alpha=0.4, shade = True)\n",
    "sns.kdeplot(test_data['rougher.input.feed_size'], label='Тестовая выборка', alpha=0.4, shade = True)\n",
    "plt.legend()\n",
    "plt.xlim([0, 200])\n",
    "plt.title('Распределение размеров гранул исходного сырья на обучающей и тестовой выборках')\n",
    "plt.xlabel('Размер гранул, мк')\n",
    "plt.ylabel('Плотность распределения');"
   ]
  },
  {
   "cell_type": "code",
   "execution_count": 31,
   "metadata": {
    "scrolled": true
   },
   "outputs": [
    {
     "name": "stdout",
     "output_type": "stream",
     "text": [
      "count    14579.000000\n",
      "mean        59.070865\n",
      "std         22.903811\n",
      "min          0.049194\n",
      "25%         47.322462\n",
      "50%         54.464259\n",
      "75%         64.469177\n",
      "max        484.967466\n",
      "Name: rougher.input.feed_size, dtype: float64\n"
     ]
    },
    {
     "data": {
      "text/plain": [
       "count    4860.000000\n",
       "mean       59.136150\n",
       "std        19.512497\n",
       "min         0.046369\n",
       "25%        47.610795\n",
       "50%        55.461058\n",
       "75%        66.538910\n",
       "max       363.989699\n",
       "Name: rougher.input.feed_size, dtype: float64"
      ]
     },
     "execution_count": 31,
     "metadata": {},
     "output_type": "execute_result"
    }
   ],
   "source": [
    "print(train_data['rougher.input.feed_size'].describe())\n",
    "test_data['rougher.input.feed_size'].describe()"
   ]
  },
  {
   "cell_type": "markdown",
   "metadata": {},
   "source": [
    "**Вывод:**\n",
    "\n",
    "На графиках видно, что распределения не сильно отличаются, учитывая, что в обучающей выборке 14579 наблюдений, в тестовой - 4860. Средние значения практически совпадают (обучающая выборка - 59.070865, тестовая выборка - 59.136150).\n",
    "\n",
    "Поэтому будем считать, что распределения практически не отличаются друг от друга."
   ]
  },
  {
   "cell_type": "markdown",
   "metadata": {},
   "source": [
    "### Исследование суммарной концентрации металлов на разных стадиях."
   ]
  },
  {
   "cell_type": "code",
   "execution_count": 32,
   "metadata": {
    "scrolled": false
   },
   "outputs": [
    {
     "data": {
      "image/png": "[encoded data removed]",
      "text/plain": [
       "<Figure size 1080x720 with 1 Axes>"
      ]
     },
     "metadata": {
      "needs_background": "light"
     },
     "output_type": "display_data"
    }
   ],
   "source": [
    "metrics = [\n",
    "    'rougher.input.feed_',\n",
    "    'rougher.output.concentrate_',\n",
    "    'primary_cleaner.output.concentrate_',\n",
    "    'final.output.concentrate_',\n",
    "]\n",
    "for i in range(4):\n",
    "    full_data_sum = full_data[metrics[i] + 'au'] + full_data[metrics[i] + 'ag'] + full_data[metrics[i] + 'pb']+ full_data[metrics[i] + 'sol']\n",
    "\n",
    "    full_data_sum.plot(\n",
    "        title = 'Cуммарная концентрация металлов на разных стадиях',\n",
    "        kind='hist', \n",
    "        bins=150, \n",
    "        grid=True, \n",
    "        legend=True,\n",
    "        figsize=(15,10),\n",
    "        alpha=0.4,\n",
    "    ).set(xlabel='Концентрация', ylabel='Частотность');\n",
    "\n",
    "\n",
    "    plt.legend(['В сырье',\n",
    "            'В черновом концентрате',\n",
    "            'В концентрате после первой очистки',\n",
    "            'В финальном концентрате']);"
   ]
  },
  {
   "cell_type": "markdown",
   "metadata": {},
   "source": [
    "Из графика видно, что суммарная концентрация веществ увеличивается с течением процесса обогащения (колокол как бы сдвигается вправо по шкале). Это происходит потому что при обработке вымываются лишние примеси и подсадочные реагенты. В финальном концентрате диапазон значений значительно сужается."
   ]
  },
  {
   "cell_type": "markdown",
   "metadata": {},
   "source": [
    "**Вывод анализа данных:**\n",
    "1. Во время очистки явно возрастает концентрация золота и падает концентрация серебра. Концентрация свинца вырастает после первичной очистки, но после вторичной изменений редко меняется\n",
    "2. В результате исследования Суммарной концентрации металлов на разных стадиях были выявлены выбросы около нуля. Затем удалены.\n",
    "3. Распределения гранул в обучающей и тестовой выборках практически одинаковые.\n",
    "4. Суммарная концентрация веществ увеличивается с течением процесса обогащения (колокол как бы сдвигается вправо по шкале)."
   ]
  },
  {
   "cell_type": "markdown",
   "metadata": {},
   "source": [
    "## Модель"
   ]
  },
  {
   "cell_type": "markdown",
   "metadata": {},
   "source": [
    "### Функция для вычисления итоговой sMAPE"
   ]
  },
  {
   "cell_type": "code",
   "execution_count": 33,
   "metadata": {},
   "outputs": [],
   "source": [
    "# Функция метрики качества sMAPE\n",
    "def smape(target, predicted):\n",
    "      return 1/len(target) * np.sum(2 * np.abs(\n",
    "       target - predicted) / (np.abs(target) + np.abs(predicted))*100)\n",
    "\n",
    "\n",
    "# Функция итоговой метрики качества sMAPE\n",
    "def smape_final(rougher, final):\n",
    "    return 0.25*rougher + 0.75*final"
   ]
  },
  {
   "cell_type": "code",
   "execution_count": 34,
   "metadata": {},
   "outputs": [],
   "source": [
    "def smape_total(target_rougher, predicted_rougher, target_final, predicted_final):\n",
    "    smape_rough = smape(target_rougher, predicted_rougher)\n",
    "    smape_fin = smape(target_final, predicted_final)\n",
    "    return (0.25*smape_rough) + (0.75*smape_fin)"
   ]
  },
  {
   "cell_type": "markdown",
   "metadata": {},
   "source": [
    "### Обучение разных моделей и оценка их качества кросс-валидацией"
   ]
  },
  {
   "cell_type": "markdown",
   "metadata": {},
   "source": [
    "#### Подготовка данных для моделей"
   ]
  },
  {
   "cell_type": "code",
   "execution_count": 35,
   "metadata": {
    "scrolled": true
   },
   "outputs": [
    {
     "data": {
      "text/html": [
       "<div>\n",
       "<style scoped>\n",
       "    .dataframe tbody tr th:only-of-type {\n",
       "        vertical-align: middle;\n",
       "    }\n",
       "\n",
       "    .dataframe tbody tr th {\n",
       "        vertical-align: top;\n",
       "    }\n",
       "\n",
       "    .dataframe thead th {\n",
       "        text-align: right;\n",
       "    }\n",
       "</style>\n",
       "<table border=\"1\" class=\"dataframe\">\n",
       "  <thead>\n",
       "    <tr style=\"text-align: right;\">\n",
       "      <th></th>\n",
       "      <th>date</th>\n",
       "      <th>rougher.output.recovery</th>\n",
       "      <th>final.output.recovery</th>\n",
       "    </tr>\n",
       "  </thead>\n",
       "  <tbody>\n",
       "    <tr>\n",
       "      <th>0</th>\n",
       "      <td>2016-01-15 00:00:00</td>\n",
       "      <td>87.107763</td>\n",
       "      <td>70.541216</td>\n",
       "    </tr>\n",
       "    <tr>\n",
       "      <th>1</th>\n",
       "      <td>2016-01-15 01:00:00</td>\n",
       "      <td>86.843261</td>\n",
       "      <td>69.266198</td>\n",
       "    </tr>\n",
       "    <tr>\n",
       "      <th>2</th>\n",
       "      <td>2016-01-15 02:00:00</td>\n",
       "      <td>86.842308</td>\n",
       "      <td>68.116445</td>\n",
       "    </tr>\n",
       "    <tr>\n",
       "      <th>3</th>\n",
       "      <td>2016-01-15 03:00:00</td>\n",
       "      <td>87.226430</td>\n",
       "      <td>68.347543</td>\n",
       "    </tr>\n",
       "    <tr>\n",
       "      <th>4</th>\n",
       "      <td>2016-01-15 04:00:00</td>\n",
       "      <td>86.688794</td>\n",
       "      <td>66.927016</td>\n",
       "    </tr>\n",
       "  </tbody>\n",
       "</table>\n",
       "</div>"
      ],
      "text/plain": [
       "                  date  rougher.output.recovery  final.output.recovery\n",
       "0  2016-01-15 00:00:00                87.107763              70.541216\n",
       "1  2016-01-15 01:00:00                86.843261              69.266198\n",
       "2  2016-01-15 02:00:00                86.842308              68.116445\n",
       "3  2016-01-15 03:00:00                87.226430              68.347543\n",
       "4  2016-01-15 04:00:00                86.688794              66.927016"
      ]
     },
     "execution_count": 35,
     "metadata": {},
     "output_type": "execute_result"
    }
   ],
   "source": [
    "# Cоздадим датасет для целевых признаков, которых нет в тестовой выборке\n",
    "target_df = full_data[['date', 'rougher.output.recovery', 'final.output.recovery']]\n",
    "target_df.head()"
   ]
  },
  {
   "cell_type": "code",
   "execution_count": 36,
   "metadata": {},
   "outputs": [
    {
     "name": "stdout",
     "output_type": "stream",
     "text": [
      "<class 'pandas.core.frame.DataFrame'>\n",
      "Int64Index: 4860 entries, 0 to 4859\n",
      "Data columns (total 55 columns):\n",
      " #   Column                                      Non-Null Count  Dtype  \n",
      "---  ------                                      --------------  -----  \n",
      " 0   date                                        4860 non-null   object \n",
      " 1   rougher.input.feed_au                       4860 non-null   float64\n",
      " 2   rougher.input.feed_ag                       4860 non-null   float64\n",
      " 3   rougher.input.feed_pb                       4860 non-null   float64\n",
      " 4   rougher.input.feed_sol                      4860 non-null   float64\n",
      " 5   rougher.input.feed_rate                     4860 non-null   float64\n",
      " 6   rougher.input.feed_size                     4860 non-null   float64\n",
      " 7   rougher.input.floatbank10_sulfate           4860 non-null   float64\n",
      " 8   rougher.input.floatbank10_xanthate          4860 non-null   float64\n",
      " 9   rougher.state.floatbank10_a_air             4860 non-null   float64\n",
      " 10  rougher.state.floatbank10_a_level           4860 non-null   float64\n",
      " 11  rougher.state.floatbank10_b_air             4860 non-null   float64\n",
      " 12  rougher.state.floatbank10_b_level           4860 non-null   float64\n",
      " 13  rougher.state.floatbank10_c_air             4860 non-null   float64\n",
      " 14  rougher.state.floatbank10_c_level           4860 non-null   float64\n",
      " 15  rougher.state.floatbank10_d_air             4860 non-null   float64\n",
      " 16  rougher.state.floatbank10_d_level           4860 non-null   float64\n",
      " 17  rougher.state.floatbank10_e_air             4860 non-null   float64\n",
      " 18  rougher.state.floatbank10_e_level           4860 non-null   float64\n",
      " 19  rougher.state.floatbank10_f_air             4860 non-null   float64\n",
      " 20  rougher.state.floatbank10_f_level           4860 non-null   float64\n",
      " 21  rougher.input.floatbank11_sulfate           4860 non-null   float64\n",
      " 22  rougher.input.floatbank11_xanthate          4860 non-null   float64\n",
      " 23  primary_cleaner.input.sulfate               4860 non-null   float64\n",
      " 24  primary_cleaner.input.depressant            4860 non-null   float64\n",
      " 25  primary_cleaner.input.feed_size             4860 non-null   float64\n",
      " 26  primary_cleaner.input.xanthate              4860 non-null   float64\n",
      " 27  primary_cleaner.state.floatbank8_a_air      4860 non-null   float64\n",
      " 28  primary_cleaner.state.floatbank8_a_level    4860 non-null   float64\n",
      " 29  primary_cleaner.state.floatbank8_b_air      4860 non-null   float64\n",
      " 30  primary_cleaner.state.floatbank8_b_level    4860 non-null   float64\n",
      " 31  primary_cleaner.state.floatbank8_c_air      4860 non-null   float64\n",
      " 32  primary_cleaner.state.floatbank8_c_level    4860 non-null   float64\n",
      " 33  primary_cleaner.state.floatbank8_d_air      4860 non-null   float64\n",
      " 34  primary_cleaner.state.floatbank8_d_level    4860 non-null   float64\n",
      " 35  secondary_cleaner.state.floatbank2_a_air    4860 non-null   float64\n",
      " 36  secondary_cleaner.state.floatbank2_a_level  4860 non-null   float64\n",
      " 37  secondary_cleaner.state.floatbank2_b_air    4860 non-null   float64\n",
      " 38  secondary_cleaner.state.floatbank2_b_level  4860 non-null   float64\n",
      " 39  secondary_cleaner.state.floatbank3_a_air    4860 non-null   float64\n",
      " 40  secondary_cleaner.state.floatbank3_a_level  4860 non-null   float64\n",
      " 41  secondary_cleaner.state.floatbank3_b_air    4860 non-null   float64\n",
      " 42  secondary_cleaner.state.floatbank3_b_level  4860 non-null   float64\n",
      " 43  secondary_cleaner.state.floatbank4_a_air    4860 non-null   float64\n",
      " 44  secondary_cleaner.state.floatbank4_a_level  4860 non-null   float64\n",
      " 45  secondary_cleaner.state.floatbank4_b_air    4860 non-null   float64\n",
      " 46  secondary_cleaner.state.floatbank4_b_level  4860 non-null   float64\n",
      " 47  secondary_cleaner.state.floatbank5_a_air    4860 non-null   float64\n",
      " 48  secondary_cleaner.state.floatbank5_a_level  4860 non-null   float64\n",
      " 49  secondary_cleaner.state.floatbank5_b_air    4860 non-null   float64\n",
      " 50  secondary_cleaner.state.floatbank5_b_level  4860 non-null   float64\n",
      " 51  secondary_cleaner.state.floatbank6_a_air    4860 non-null   float64\n",
      " 52  secondary_cleaner.state.floatbank6_a_level  4860 non-null   float64\n",
      " 53  rougher.output.recovery                     4776 non-null   float64\n",
      " 54  final.output.recovery                       4776 non-null   float64\n",
      "dtypes: float64(54), object(1)\n",
      "memory usage: 2.1+ MB\n"
     ]
    }
   ],
   "source": [
    "# добавим эти признаки в тестовую выборку\n",
    "test_data = test_data.merge(target_df, how = 'left', on = 'date')\n",
    "test_data.info() # проверяем"
   ]
  },
  {
   "cell_type": "code",
   "execution_count": 37,
   "metadata": {},
   "outputs": [],
   "source": [
    "#удаляем из тренировочной выборки те признаки, которых нет в тестовой\n",
    "train_data = train_data.drop(set(train_data.columns)-set(test_data.columns), axis=1)"
   ]
  },
  {
   "cell_type": "code",
   "execution_count": 38,
   "metadata": {},
   "outputs": [],
   "source": [
    "#удаляем из тренировочной и тестовой выборок столбец date. Он не зависит от процесса.\n",
    "train_data.drop(['date'], axis=1, inplace=True)\n",
    "test_data.drop(['date'], axis=1, inplace=True)"
   ]
  },
  {
   "cell_type": "code",
   "execution_count": 39,
   "metadata": {},
   "outputs": [],
   "source": [
    "# выделим признаки на тренировочной выборке для чернового концентрата (rougher)\n",
    "features_train_r = train_data.filter(regex='^rougher',axis=1)\n",
    "features_train_r = features_train_r.drop(['rougher.output.recovery'], axis=1)\n",
    "target_train_r = train_data['rougher.output.recovery']\n",
    "\n",
    "# и для финального концентрата (final)\n",
    "features_train_f = train_data.drop(['rougher.output.recovery', 'final.output.recovery'], axis=1)\n",
    "target_train_f = train_data['final.output.recovery']\n",
    "\n",
    "# #выделим признаки на тестовой выборке для чернового концентрата (rougher)\n",
    "features_test_r = test_data.filter(regex='^rougher',axis=1)\n",
    "features_test_r = features_test_r.drop(['rougher.output.recovery'], axis=1)\n",
    "target_test_r = test_data['rougher.output.recovery']\n",
    "\n",
    "# и для финального концентрата (final)\n",
    "features_test_f = test_data.drop(['rougher.output.recovery', 'final.output.recovery'], axis=1)\n",
    "target_test_f = test_data['final.output.recovery']"
   ]
  },
  {
   "cell_type": "code",
   "execution_count": 40,
   "metadata": {
    "scrolled": false
   },
   "outputs": [
    {
     "name": "stdout",
     "output_type": "stream",
     "text": [
      "(14579, 22)\n",
      "(14579,)\n",
      "\n",
      "(14579, 52)\n",
      "(14579,)\n",
      "\n",
      "(4860, 22)\n",
      "(4860,)\n",
      "\n",
      "(4860, 52)\n",
      "(4860,)\n"
     ]
    }
   ],
   "source": [
    "# проверим размеры выборок\n",
    "print(features_train_r.shape)\n",
    "print(target_train_r.shape)\n",
    "print('')\n",
    "print(features_train_f.shape)\n",
    "print(target_train_f.shape)\n",
    "print('')\n",
    "print(features_test_r.shape)\n",
    "print(target_test_r.shape)\n",
    "print('')\n",
    "print(features_test_f.shape)\n",
    "print(target_test_f.shape)"
   ]
  },
  {
   "cell_type": "code",
   "execution_count": 41,
   "metadata": {},
   "outputs": [],
   "source": [
    "# Масштабируем данные\n",
    "scaler = StandardScaler()\n",
    "scaler.fit(features_train_r)\n",
    "features_train_r = scaler.transform(features_train_r)\n",
    "features_test_r = scaler.transform(features_test_r) \n",
    "\n",
    "scaler.fit(features_train_f)\n",
    "features_train_f = scaler.transform(features_train_f)\n",
    "features_test_f = scaler.transform(features_test_f) "
   ]
  },
  {
   "cell_type": "code",
   "execution_count": 42,
   "metadata": {},
   "outputs": [],
   "source": [
    "# Введем параметр RANDOM_STATE\n",
    "RANDOM_STATE=255577"
   ]
  },
  {
   "cell_type": "code",
   "execution_count": 43,
   "metadata": {},
   "outputs": [
    {
     "name": "stdout",
     "output_type": "stream",
     "text": [
      "sMAPE для Решающего дерева: 12.340694139559872 Глубина: 1\n",
      "sMAPE для Решающего дерева: 11.803831483554271 Глубина: 2\n",
      "sMAPE для Решающего дерева: 12.666770733290093 Глубина: 3\n",
      "sMAPE для Решающего дерева: 13.620753461922781 Глубина: 4\n",
      "sMAPE для Решающего дерева: 13.785568107277799 Глубина: 5\n",
      "sMAPE для Решающего дерева: 13.739016901957527 Глубина: 6\n",
      "sMAPE для Решающего дерева: 15.386129814722329 Глубина: 7\n",
      "sMAPE для Решающего дерева: 16.056495866101727 Глубина: 8\n",
      "sMAPE для Решающего дерева: 18.039657223599225 Глубина: 9\n",
      "Итоговое sMAPE для Решающего дерева: 11.803831483554271 Глубина: 2\n",
      "\n"
     ]
    }
   ],
   "source": [
    "#Построим модель для дерева решений\n",
    "best_sMAPE = 20\n",
    "best_depth = 0\n",
    "for depth in range(1, 10):\n",
    "    model1 = DecisionTreeRegressor(random_state=RANDOM_STATE, max_depth = depth)\n",
    "    scorer = make_scorer(smape, greater_is_better=False)\n",
    "    \n",
    "    rougher_tree = cross_val_score(model1, features_train_r, target_train_r, scoring=scorer, cv=3, n_jobs=-1)\n",
    "    final_tree = cross_val_score(model1, features_train_f, target_train_f, scoring=scorer, cv=3, n_jobs=-1)\n",
    "    \n",
    "    sMAPE = smape_final(rougher_tree, final_tree).mean()\n",
    "    print('sMAPE для Решающего дерева:', -sMAPE, 'Глубина:', depth)\n",
    "    \n",
    "    if (-1) * sMAPE < best_sMAPE:\n",
    "        best_depth = depth\n",
    "        best_sMAPE = -1*sMAPE\n",
    "\n",
    "print('Итоговое sMAPE для Решающего дерева:', best_sMAPE, 'Глубина:',best_depth)\n",
    "\n",
    "print()"
   ]
  },
  {
   "cell_type": "code",
   "execution_count": 44,
   "metadata": {},
   "outputs": [
    {
     "name": "stdout",
     "output_type": "stream",
     "text": [
      "sMAPE для Случайного леса: 12.137198164210409 Глубина: 1 Количество деревьев: 100\n",
      "sMAPE для Случайного леса: 11.762862708688806 Глубина: 2 Количество деревьев: 100\n",
      "sMAPE для Случайного леса: 12.06841964910469 Глубина: 3 Количество деревьев: 100\n",
      "sMAPE для Случайного леса: 12.258812167438883 Глубина: 4 Количество деревьев: 100\n",
      "sMAPE для Случайного леса: 12.134376818568532 Глубина: 1 Количество деревьев: 200\n",
      "sMAPE для Случайного леса: 11.759740044868883 Глубина: 2 Количество деревьев: 200\n",
      "sMAPE для Случайного леса: 12.021791417232414 Глубина: 3 Количество деревьев: 200\n",
      "sMAPE для Случайного леса: 12.198787896852389 Глубина: 4 Количество деревьев: 200\n",
      "sMAPE для Случайного леса: 12.140527954379172 Глубина: 1 Количество деревьев: 300\n",
      "sMAPE для Случайного леса: 11.766191410134587 Глубина: 2 Количество деревьев: 300\n",
      "sMAPE для Случайного леса: 12.017839636762048 Глубина: 3 Количество деревьев: 300\n",
      "sMAPE для Случайного леса: 12.201943346029205 Глубина: 4 Количество деревьев: 300\n",
      "sMAPE для Случайного леса: 12.150037857427542 Глубина: 1 Количество деревьев: 400\n",
      "sMAPE для Случайного леса: 11.770588602797739 Глубина: 2 Количество деревьев: 400\n",
      "sMAPE для Случайного леса: 12.019541687317696 Глубина: 3 Количество деревьев: 400\n",
      "sMAPE для Случайного леса: 12.197154367402595 Глубина: 4 Количество деревьев: 400\n",
      "Итоговое sMAPE для Случайного леса: 11.759740044868883 Глубина: 2 Количество деревьев: 200\n",
      "\n"
     ]
    }
   ],
   "source": [
    "#Построим модель для Случайного леса\n",
    "best_sMAPE = 20\n",
    "best_est = 0\n",
    "best_depth = 0\n",
    "for est in range(100, 500, 100):\n",
    "    for depth in range(1, 5):\n",
    "        model1 = RandomForestRegressor(random_state=RANDOM_STATE, n_estimators=est, max_depth = depth)\n",
    "        scorer = make_scorer(smape, greater_is_better=False)\n",
    "    \n",
    "        rougher_forest = cross_val_score(model1, features_train_r, target_train_r, scoring=scorer, cv=3, n_jobs=-1)\n",
    "        final_forest = cross_val_score(model1, features_train_f, target_train_f, scoring=scorer, cv=3, n_jobs=-1)\n",
    "    \n",
    "        sMAPE = smape_final(rougher_forest, final_forest).mean()\n",
    "        print('sMAPE для Случайного леса:', -sMAPE, 'Глубина:',depth,  \"Количество деревьев:\", est)\n",
    "        if (-1) * sMAPE < best_sMAPE:\n",
    "            best_depth = depth\n",
    "            best_est = est\n",
    "            best_sMAPE = -1*sMAPE\n",
    "        \n",
    "print('Итоговое sMAPE для Случайного леса:', best_sMAPE, 'Глубина:',best_depth,  \"Количество деревьев:\", best_est)\n",
    "print()"
   ]
  },
  {
   "cell_type": "code",
   "execution_count": 45,
   "metadata": {},
   "outputs": [
    {
     "name": "stdout",
     "output_type": "stream",
     "text": [
      "Итоговое sMape для линейной регрессии: 13.400064183458339\n"
     ]
    }
   ],
   "source": [
    "# построим модель для Линейной регрессии\n",
    "\n",
    "model2 = LinearRegression()\n",
    "scorer = make_scorer(smape, greater_is_better=False)\n",
    "#кросс-валидация методом cross_val_score\n",
    "rougher_lin = cross_val_score(model2, features_train_r, target_train_r, scoring=scorer, cv=3, n_jobs=-1)\n",
    "final_lin =  cross_val_score(model2, features_train_f, target_train_f, scoring=scorer, cv=3, n_jobs=-1)\n",
    "print('Итоговое sMape для линейной регрессии:', -smape_final(rougher_lin, final_lin).mean())"
   ]
  },
  {
   "cell_type": "markdown",
   "metadata": {},
   "source": [
    "**Вывод:**\n",
    "\n",
    "Лучшие значения sMAPE:\n",
    "\n",
    "| Модель  \t|Решающее дерево  \t|Случайный лес  \t|Линейная регрессия|     \n",
    "|:---\t|:---:\t|:---:\t|:---:\t|\n",
    "|Лучшее значение sMAPE  \t|11.803831483554271   \t|11.759740044868883  \t|13.400064183458339  |  \n",
    "\n",
    "Лучший параметр sMAPE получился в модели Случайный лес."
   ]
  },
  {
   "cell_type": "markdown",
   "metadata": {},
   "source": [
    "#### Проверим лучшую модель на тестовой выборке"
   ]
  },
  {
   "cell_type": "code",
   "execution_count": 46,
   "metadata": {},
   "outputs": [
    {
     "name": "stdout",
     "output_type": "stream",
     "text": [
      "Итоговое sMAPE на тестовой выборке: 7.860213115988571\n"
     ]
    }
   ],
   "source": [
    "model_r = RandomForestRegressor(random_state=RANDOM_STATE, n_estimators=200, max_depth = 2,)\n",
    "model_f = RandomForestRegressor(random_state=RANDOM_STATE, n_estimators=200, max_depth = 2,)\n",
    "model_r.fit(features_train_r, target_train_r)\n",
    "model_f.fit(features_train_f, target_train_f)\n",
    "test_predictions_r = model_r.predict(features_test_r)\n",
    "test_predictions_f = model_f.predict(features_test_f)\n",
    "print('Итоговое sMAPE на тестовой выборке:',smape_total(\n",
    "    target_test_r, test_predictions_r, target_test_f, test_predictions_f).mean())"
   ]
  },
  {
   "cell_type": "markdown",
   "metadata": {},
   "source": [
    "#### Проверим лучшую модель на адекватность"
   ]
  },
  {
   "cell_type": "code",
   "execution_count": 47,
   "metadata": {},
   "outputs": [
    {
     "name": "stdout",
     "output_type": "stream",
     "text": [
      "Итоговое sMAPE для DummyRegressor: 8.615427616041154\n"
     ]
    }
   ],
   "source": [
    "dummy_model_r = DummyRegressor(strategy=\"mean\")\n",
    "dummy_model_f = DummyRegressor(strategy=\"mean\")\n",
    "dummy_model_r.fit(features_train_r, target_train_r)\n",
    "dummy_model_f.fit(features_train_f, target_train_f)\n",
    "test_predictions_r = dummy_model_r.predict(features_test_r)\n",
    "test_predictions_f = dummy_model_f.predict(features_test_f)\n",
    "\n",
    "print('Итоговое sMAPE для DummyRegressor:',smape_total(\n",
    "    target_test_r, test_predictions_r, target_test_f, test_predictions_f).mean())"
   ]
  },
  {
   "cell_type": "markdown",
   "metadata": {},
   "source": [
    "Итоговое sMAPE для DummyRegressor: 8.615427616041154\n",
    "Итак, минимальное значение sMape на тестовой выборке у Случайного леса ( n_estimators=200, max_depth=2) = 7.860213115988571. Этот результат лучше среднего, модель адекватная."
   ]
  },
  {
   "cell_type": "markdown",
   "metadata": {},
   "source": [
    "## Итоговые выводы"
   ]
  },
  {
   "cell_type": "markdown",
   "metadata": {},
   "source": [
    "При исследовании была проверена эффективность обогащения, проанализированы признаки, не доступные в тестовой выборке.\n",
    "\n",
    "Полных дубликатов не обнаружено. Отсутствующие значения были заменены данными из предыдущей строки.\n",
    "\n",
    "Анализ данных показал как изменялась концентрация металлов на различных этапах. Только у золота концентрация росла. Наблюдались выбросы около нуля.\n",
    "\n",
    "Распределения гранул исходного сырья на обучающей и тестовой выборках практически одинаковые.\n",
    "\n",
    "В результате исследования Суммарной концентрации металлов на разных стадиях были выявлены выбросы около нуля. Затем удалены.\n",
    "\n",
    "Была написана функция для вычисления sMAPE. Опираясь на ее значения, была выявлена лучшая исследуемая модель **Случайный лес**(sMAPE = 11.759740044868883)\n",
    "\n",
    "Тестирование на тестовой выборке показало sMAPE = 7.860213115988571\n",
    "\n",
    "Адекватность полученной модели проверена с помощью DummyRegressor (8.615427616041154). Т.к. на тестовой выборке получили результат лучше, чем для константной модели, значит полученная модель адекватная."
   ]
  }
 ],
 "metadata": {
  "ExecuteTimeLog": [
   {
    "duration": 1990,
    "start_time": "2023-05-11T08:44:15.420Z"
   },
   {
    "duration": 2917,
    "start_time": "2023-05-11T08:44:17.412Z"
   },
   {
    "duration": 168,
    "start_time": "2023-05-11T11:53:49.708Z"
   },
   {
    "duration": 3519,
    "start_time": "2023-05-11T11:53:58.112Z"
   },
   {
    "duration": 7977,
    "start_time": "2023-05-11T11:54:01.634Z"
   },
   {
    "duration": 85,
    "start_time": "2023-05-11T11:54:09.619Z"
   },
   {
    "duration": 48,
    "start_time": "2023-05-11T11:54:43.457Z"
   },
   {
    "duration": 46,
    "start_time": "2023-05-11T12:06:02.901Z"
   },
   {
    "duration": 20,
    "start_time": "2023-05-11T12:06:10.826Z"
   },
   {
    "duration": 30,
    "start_time": "2023-05-11T12:06:35.711Z"
   },
   {
    "duration": 45,
    "start_time": "2023-05-11T12:06:36.292Z"
   },
   {
    "duration": 252,
    "start_time": "2023-05-11T12:07:55.070Z"
   },
   {
    "duration": 32,
    "start_time": "2023-05-11T12:08:33.701Z"
   },
   {
    "duration": 148,
    "start_time": "2023-05-11T12:08:34.085Z"
   },
   {
    "duration": 119,
    "start_time": "2023-05-11T14:27:06.623Z"
   },
   {
    "duration": 17,
    "start_time": "2023-05-11T14:27:40.123Z"
   },
   {
    "duration": 101,
    "start_time": "2023-05-11T14:28:14.085Z"
   },
   {
    "duration": 1574,
    "start_time": "2023-05-12T06:59:30.994Z"
   },
   {
    "duration": 1770,
    "start_time": "2023-05-12T06:59:32.571Z"
   },
   {
    "duration": 25,
    "start_time": "2023-05-12T06:59:34.343Z"
   },
   {
    "duration": 17,
    "start_time": "2023-05-12T06:59:34.369Z"
   },
   {
    "duration": 29,
    "start_time": "2023-05-12T06:59:34.388Z"
   },
   {
    "duration": 27,
    "start_time": "2023-05-12T06:59:34.419Z"
   },
   {
    "duration": 19,
    "start_time": "2023-05-12T06:59:34.448Z"
   },
   {
    "duration": 13,
    "start_time": "2023-05-12T06:59:34.468Z"
   },
   {
    "duration": 130,
    "start_time": "2023-05-12T06:59:34.483Z"
   },
   {
    "duration": 25,
    "start_time": "2023-05-12T06:59:34.614Z"
   },
   {
    "duration": 110,
    "start_time": "2023-05-12T06:59:34.641Z"
   },
   {
    "duration": 60,
    "start_time": "2023-05-12T06:59:34.752Z"
   },
   {
    "duration": 15,
    "start_time": "2023-05-12T06:59:34.813Z"
   },
   {
    "duration": 26,
    "start_time": "2023-05-12T06:59:34.831Z"
   },
   {
    "duration": 1705,
    "start_time": "2023-05-12T15:27:20.810Z"
   },
   {
    "duration": 3204,
    "start_time": "2023-05-12T15:27:22.517Z"
   },
   {
    "duration": 32,
    "start_time": "2023-05-12T15:27:25.722Z"
   },
   {
    "duration": 36,
    "start_time": "2023-05-12T15:27:25.757Z"
   },
   {
    "duration": 26,
    "start_time": "2023-05-12T15:27:25.795Z"
   },
   {
    "duration": 39,
    "start_time": "2023-05-12T15:27:25.825Z"
   },
   {
    "duration": 31,
    "start_time": "2023-05-12T15:27:25.866Z"
   },
   {
    "duration": 33,
    "start_time": "2023-05-12T15:27:25.899Z"
   },
   {
    "duration": 137,
    "start_time": "2023-05-12T15:27:25.934Z"
   },
   {
    "duration": 24,
    "start_time": "2023-05-12T15:27:26.073Z"
   },
   {
    "duration": 112,
    "start_time": "2023-05-12T15:27:26.099Z"
   },
   {
    "duration": 71,
    "start_time": "2023-05-12T15:27:26.213Z"
   },
   {
    "duration": 14,
    "start_time": "2023-05-12T15:27:26.286Z"
   },
   {
    "duration": 37,
    "start_time": "2023-05-12T15:27:26.301Z"
   },
   {
    "duration": 4,
    "start_time": "2023-05-12T15:27:26.341Z"
   },
   {
    "duration": 1437,
    "start_time": "2023-05-12T15:29:21.095Z"
   },
   {
    "duration": 690,
    "start_time": "2023-05-12T15:29:22.535Z"
   },
   {
    "duration": 25,
    "start_time": "2023-05-12T15:29:23.227Z"
   },
   {
    "duration": 18,
    "start_time": "2023-05-12T15:29:23.254Z"
   },
   {
    "duration": 24,
    "start_time": "2023-05-12T15:29:23.274Z"
   },
   {
    "duration": 20,
    "start_time": "2023-05-12T15:29:23.325Z"
   },
   {
    "duration": 24,
    "start_time": "2023-05-12T15:29:23.347Z"
   },
   {
    "duration": 17,
    "start_time": "2023-05-12T15:29:23.373Z"
   },
   {
    "duration": 155,
    "start_time": "2023-05-12T15:29:23.391Z"
   },
   {
    "duration": 24,
    "start_time": "2023-05-12T15:29:23.548Z"
   },
   {
    "duration": 113,
    "start_time": "2023-05-12T15:29:23.573Z"
   },
   {
    "duration": 73,
    "start_time": "2023-05-12T15:29:23.688Z"
   },
   {
    "duration": 17,
    "start_time": "2023-05-12T15:29:23.762Z"
   },
   {
    "duration": 52,
    "start_time": "2023-05-12T15:29:23.782Z"
   },
   {
    "duration": 4,
    "start_time": "2023-05-12T15:29:23.835Z"
   },
   {
    "duration": 1433,
    "start_time": "2023-05-12T15:30:06.519Z"
   },
   {
    "duration": 1956,
    "start_time": "2023-05-12T15:30:07.954Z"
   },
   {
    "duration": 0,
    "start_time": "2023-05-12T15:30:09.913Z"
   },
   {
    "duration": 0,
    "start_time": "2023-05-12T15:30:09.914Z"
   },
   {
    "duration": 0,
    "start_time": "2023-05-12T15:30:09.914Z"
   },
   {
    "duration": 0,
    "start_time": "2023-05-12T15:30:09.915Z"
   },
   {
    "duration": 0,
    "start_time": "2023-05-12T15:30:09.916Z"
   },
   {
    "duration": 0,
    "start_time": "2023-05-12T15:30:09.918Z"
   },
   {
    "duration": 0,
    "start_time": "2023-05-12T15:30:09.918Z"
   },
   {
    "duration": 0,
    "start_time": "2023-05-12T15:30:09.920Z"
   },
   {
    "duration": 0,
    "start_time": "2023-05-12T15:30:09.921Z"
   },
   {
    "duration": 0,
    "start_time": "2023-05-12T15:30:09.922Z"
   },
   {
    "duration": 0,
    "start_time": "2023-05-12T15:30:09.923Z"
   },
   {
    "duration": 0,
    "start_time": "2023-05-12T15:30:09.924Z"
   },
   {
    "duration": 0,
    "start_time": "2023-05-12T15:30:09.926Z"
   },
   {
    "duration": 1584,
    "start_time": "2023-05-12T15:31:42.305Z"
   },
   {
    "duration": 2275,
    "start_time": "2023-05-12T15:31:43.891Z"
   },
   {
    "duration": 23,
    "start_time": "2023-05-12T15:31:46.168Z"
   },
   {
    "duration": 31,
    "start_time": "2023-05-12T15:31:46.192Z"
   },
   {
    "duration": 47,
    "start_time": "2023-05-12T15:31:46.226Z"
   },
   {
    "duration": 34,
    "start_time": "2023-05-12T15:31:46.275Z"
   },
   {
    "duration": 23,
    "start_time": "2023-05-12T15:31:46.310Z"
   },
   {
    "duration": 30,
    "start_time": "2023-05-12T15:31:46.334Z"
   },
   {
    "duration": 126,
    "start_time": "2023-05-12T15:31:46.365Z"
   },
   {
    "duration": 32,
    "start_time": "2023-05-12T15:31:46.493Z"
   },
   {
    "duration": 87,
    "start_time": "2023-05-12T15:31:46.527Z"
   },
   {
    "duration": 57,
    "start_time": "2023-05-12T15:31:46.624Z"
   },
   {
    "duration": 14,
    "start_time": "2023-05-12T15:31:46.683Z"
   },
   {
    "duration": 41,
    "start_time": "2023-05-12T15:31:46.699Z"
   },
   {
    "duration": 9,
    "start_time": "2023-05-12T15:31:46.742Z"
   },
   {
    "duration": 100,
    "start_time": "2023-05-12T15:58:45.530Z"
   },
   {
    "duration": 14,
    "start_time": "2023-05-12T16:24:43.428Z"
   },
   {
    "duration": 1414,
    "start_time": "2023-05-12T16:28:33.105Z"
   },
   {
    "duration": 866,
    "start_time": "2023-05-12T16:28:34.521Z"
   },
   {
    "duration": 24,
    "start_time": "2023-05-12T16:28:35.389Z"
   },
   {
    "duration": 29,
    "start_time": "2023-05-12T16:28:35.414Z"
   },
   {
    "duration": 21,
    "start_time": "2023-05-12T16:28:35.445Z"
   },
   {
    "duration": 41,
    "start_time": "2023-05-12T16:28:35.468Z"
   },
   {
    "duration": 21,
    "start_time": "2023-05-12T16:28:35.511Z"
   },
   {
    "duration": 14,
    "start_time": "2023-05-12T16:28:35.533Z"
   },
   {
    "duration": 157,
    "start_time": "2023-05-12T16:28:35.549Z"
   },
   {
    "duration": 22,
    "start_time": "2023-05-12T16:28:35.707Z"
   },
   {
    "duration": 108,
    "start_time": "2023-05-12T16:28:35.731Z"
   },
   {
    "duration": 54,
    "start_time": "2023-05-12T16:28:35.840Z"
   },
   {
    "duration": 30,
    "start_time": "2023-05-12T16:28:35.895Z"
   },
   {
    "duration": 20,
    "start_time": "2023-05-12T16:28:35.927Z"
   },
   {
    "duration": 4,
    "start_time": "2023-05-12T16:28:35.949Z"
   },
   {
    "duration": 52,
    "start_time": "2023-05-13T02:05:13.462Z"
   },
   {
    "duration": 1471,
    "start_time": "2023-05-13T02:05:55.187Z"
   },
   {
    "duration": 2390,
    "start_time": "2023-05-13T02:05:56.659Z"
   },
   {
    "duration": 21,
    "start_time": "2023-05-13T02:05:59.050Z"
   },
   {
    "duration": 17,
    "start_time": "2023-05-13T02:05:59.073Z"
   },
   {
    "duration": 16,
    "start_time": "2023-05-13T02:05:59.092Z"
   },
   {
    "duration": 17,
    "start_time": "2023-05-13T02:05:59.110Z"
   },
   {
    "duration": 16,
    "start_time": "2023-05-13T02:05:59.129Z"
   },
   {
    "duration": 32,
    "start_time": "2023-05-13T02:05:59.147Z"
   },
   {
    "duration": 125,
    "start_time": "2023-05-13T02:05:59.187Z"
   },
   {
    "duration": 17,
    "start_time": "2023-05-13T02:05:59.314Z"
   },
   {
    "duration": 103,
    "start_time": "2023-05-13T02:05:59.333Z"
   },
   {
    "duration": 58,
    "start_time": "2023-05-13T02:05:59.438Z"
   },
   {
    "duration": 13,
    "start_time": "2023-05-13T02:05:59.498Z"
   },
   {
    "duration": 39,
    "start_time": "2023-05-13T02:05:59.512Z"
   },
   {
    "duration": 6,
    "start_time": "2023-05-13T02:05:59.553Z"
   },
   {
    "duration": 5,
    "start_time": "2023-05-13T02:05:59.561Z"
   },
   {
    "duration": 6,
    "start_time": "2023-05-13T02:05:59.585Z"
   },
   {
    "duration": 6,
    "start_time": "2023-05-13T02:10:02.192Z"
   },
   {
    "duration": 6,
    "start_time": "2023-05-13T02:13:55.595Z"
   },
   {
    "duration": 6,
    "start_time": "2023-05-13T02:15:38.836Z"
   },
   {
    "duration": 4,
    "start_time": "2023-05-13T02:17:21.802Z"
   },
   {
    "duration": 5,
    "start_time": "2023-05-13T02:17:34.336Z"
   },
   {
    "duration": 4,
    "start_time": "2023-05-13T02:17:35.335Z"
   },
   {
    "duration": 4,
    "start_time": "2023-05-13T02:17:50.383Z"
   },
   {
    "duration": 104,
    "start_time": "2023-05-13T02:20:59.560Z"
   },
   {
    "duration": 1018,
    "start_time": "2023-05-13T02:21:53.917Z"
   },
   {
    "duration": 4,
    "start_time": "2023-05-13T02:22:09.887Z"
   },
   {
    "duration": 4,
    "start_time": "2023-05-13T02:30:35.448Z"
   },
   {
    "duration": 1348,
    "start_time": "2023-05-13T02:38:25.581Z"
   },
   {
    "duration": 723,
    "start_time": "2023-05-13T02:38:26.932Z"
   },
   {
    "duration": 32,
    "start_time": "2023-05-13T02:38:27.656Z"
   },
   {
    "duration": 15,
    "start_time": "2023-05-13T02:38:27.690Z"
   },
   {
    "duration": 24,
    "start_time": "2023-05-13T02:38:27.707Z"
   },
   {
    "duration": 25,
    "start_time": "2023-05-13T02:38:27.733Z"
   },
   {
    "duration": 26,
    "start_time": "2023-05-13T02:38:27.760Z"
   },
   {
    "duration": 16,
    "start_time": "2023-05-13T02:38:27.787Z"
   },
   {
    "duration": 129,
    "start_time": "2023-05-13T02:38:27.804Z"
   },
   {
    "duration": 25,
    "start_time": "2023-05-13T02:38:27.936Z"
   },
   {
    "duration": 127,
    "start_time": "2023-05-13T02:38:27.963Z"
   },
   {
    "duration": 52,
    "start_time": "2023-05-13T02:38:28.092Z"
   },
   {
    "duration": 15,
    "start_time": "2023-05-13T02:38:28.145Z"
   },
   {
    "duration": 37,
    "start_time": "2023-05-13T02:38:28.162Z"
   },
   {
    "duration": 8,
    "start_time": "2023-05-13T02:38:28.200Z"
   },
   {
    "duration": 9,
    "start_time": "2023-05-13T02:38:28.210Z"
   },
   {
    "duration": 137,
    "start_time": "2023-05-13T02:38:28.220Z"
   },
   {
    "duration": 0,
    "start_time": "2023-05-13T02:38:28.359Z"
   },
   {
    "duration": 0,
    "start_time": "2023-05-13T02:38:28.361Z"
   },
   {
    "duration": 1393,
    "start_time": "2023-05-13T03:19:21.870Z"
   },
   {
    "duration": 844,
    "start_time": "2023-05-13T03:19:23.266Z"
   },
   {
    "duration": 32,
    "start_time": "2023-05-13T03:19:24.111Z"
   },
   {
    "duration": 21,
    "start_time": "2023-05-13T03:19:24.145Z"
   },
   {
    "duration": 20,
    "start_time": "2023-05-13T03:19:24.185Z"
   },
   {
    "duration": 17,
    "start_time": "2023-05-13T03:19:24.207Z"
   },
   {
    "duration": 21,
    "start_time": "2023-05-13T03:19:24.226Z"
   },
   {
    "duration": 43,
    "start_time": "2023-05-13T03:19:24.248Z"
   },
   {
    "duration": 139,
    "start_time": "2023-05-13T03:19:24.293Z"
   },
   {
    "duration": 20,
    "start_time": "2023-05-13T03:19:24.434Z"
   },
   {
    "duration": 112,
    "start_time": "2023-05-13T03:19:24.455Z"
   },
   {
    "duration": 68,
    "start_time": "2023-05-13T03:19:24.569Z"
   },
   {
    "duration": 15,
    "start_time": "2023-05-13T03:19:24.638Z"
   },
   {
    "duration": 41,
    "start_time": "2023-05-13T03:19:24.656Z"
   },
   {
    "duration": 3,
    "start_time": "2023-05-13T03:19:24.698Z"
   },
   {
    "duration": 17,
    "start_time": "2023-05-13T03:19:24.702Z"
   },
   {
    "duration": 16,
    "start_time": "2023-05-13T03:19:24.721Z"
   },
   {
    "duration": 41,
    "start_time": "2023-05-13T03:19:24.739Z"
   },
   {
    "duration": 33,
    "start_time": "2023-05-13T03:19:24.781Z"
   },
   {
    "duration": 25,
    "start_time": "2023-05-13T03:19:24.815Z"
   },
   {
    "duration": 10,
    "start_time": "2023-05-13T03:25:08.568Z"
   },
   {
    "duration": 120,
    "start_time": "2023-05-13T03:40:41.221Z"
   },
   {
    "duration": 4,
    "start_time": "2023-05-13T03:40:53.333Z"
   },
   {
    "duration": 4,
    "start_time": "2023-05-13T03:44:16.707Z"
   },
   {
    "duration": 11,
    "start_time": "2023-05-13T03:45:01.812Z"
   },
   {
    "duration": 14,
    "start_time": "2023-05-13T03:46:44.738Z"
   },
   {
    "duration": 8,
    "start_time": "2023-05-13T03:47:06.665Z"
   },
   {
    "duration": 1633,
    "start_time": "2023-05-13T04:01:52.693Z"
   },
   {
    "duration": 901,
    "start_time": "2023-05-13T04:01:54.328Z"
   },
   {
    "duration": 22,
    "start_time": "2023-05-13T04:01:55.233Z"
   },
   {
    "duration": 54,
    "start_time": "2023-05-13T04:01:55.257Z"
   },
   {
    "duration": 31,
    "start_time": "2023-05-13T04:01:55.322Z"
   },
   {
    "duration": 14,
    "start_time": "2023-05-13T04:01:55.355Z"
   },
   {
    "duration": 31,
    "start_time": "2023-05-13T04:01:55.371Z"
   },
   {
    "duration": 46,
    "start_time": "2023-05-13T04:01:55.403Z"
   },
   {
    "duration": 144,
    "start_time": "2023-05-13T04:01:55.450Z"
   },
   {
    "duration": 40,
    "start_time": "2023-05-13T04:01:55.596Z"
   },
   {
    "duration": 123,
    "start_time": "2023-05-13T04:01:55.640Z"
   },
   {
    "duration": 4,
    "start_time": "2023-05-13T04:01:55.765Z"
   },
   {
    "duration": 5,
    "start_time": "2023-05-13T04:01:55.771Z"
   },
   {
    "duration": 15,
    "start_time": "2023-05-13T04:01:55.778Z"
   },
   {
    "duration": 38,
    "start_time": "2023-05-13T04:01:55.803Z"
   },
   {
    "duration": 18,
    "start_time": "2023-05-13T04:01:55.843Z"
   },
   {
    "duration": 14,
    "start_time": "2023-05-13T04:01:55.862Z"
   },
   {
    "duration": 111,
    "start_time": "2023-05-13T04:01:55.877Z"
   },
   {
    "duration": 26,
    "start_time": "2023-05-13T04:01:55.991Z"
   },
   {
    "duration": 72,
    "start_time": "2023-05-13T04:01:56.026Z"
   },
   {
    "duration": 29,
    "start_time": "2023-05-13T04:06:35.152Z"
   },
   {
    "duration": 33,
    "start_time": "2023-05-13T04:07:09.912Z"
   },
   {
    "duration": 25,
    "start_time": "2023-05-13T04:08:33.534Z"
   },
   {
    "duration": 29,
    "start_time": "2023-05-13T04:11:09.609Z"
   },
   {
    "duration": 22,
    "start_time": "2023-05-13T04:11:17.018Z"
   },
   {
    "duration": 43,
    "start_time": "2023-05-13T04:11:27.575Z"
   },
   {
    "duration": 3,
    "start_time": "2023-05-13T04:16:14.207Z"
   },
   {
    "duration": 3,
    "start_time": "2023-05-13T04:16:17.873Z"
   },
   {
    "duration": 189,
    "start_time": "2023-05-13T04:16:30.482Z"
   },
   {
    "duration": 6,
    "start_time": "2023-05-13T04:18:58.806Z"
   },
   {
    "duration": 23,
    "start_time": "2023-05-13T04:19:00.638Z"
   },
   {
    "duration": 1619,
    "start_time": "2023-05-13T04:28:27.475Z"
   },
   {
    "duration": 879,
    "start_time": "2023-05-13T04:28:29.095Z"
   },
   {
    "duration": 50,
    "start_time": "2023-05-13T04:28:29.976Z"
   },
   {
    "duration": 32,
    "start_time": "2023-05-13T04:28:30.031Z"
   },
   {
    "duration": 18,
    "start_time": "2023-05-13T04:28:30.064Z"
   },
   {
    "duration": 91,
    "start_time": "2023-05-13T04:28:30.090Z"
   },
   {
    "duration": 96,
    "start_time": "2023-05-13T04:28:30.183Z"
   },
   {
    "duration": 89,
    "start_time": "2023-05-13T04:28:30.280Z"
   },
   {
    "duration": 66,
    "start_time": "2023-05-13T04:28:30.370Z"
   },
   {
    "duration": 76,
    "start_time": "2023-05-13T04:28:30.440Z"
   },
   {
    "duration": 59,
    "start_time": "2023-05-13T04:28:30.518Z"
   },
   {
    "duration": 80,
    "start_time": "2023-05-13T04:28:30.578Z"
   },
   {
    "duration": 108,
    "start_time": "2023-05-13T04:28:30.659Z"
   },
   {
    "duration": 82,
    "start_time": "2023-05-13T04:28:30.769Z"
   },
   {
    "duration": 186,
    "start_time": "2023-05-13T04:28:30.853Z"
   },
   {
    "duration": 20,
    "start_time": "2023-05-13T04:28:31.041Z"
   },
   {
    "duration": 115,
    "start_time": "2023-05-13T04:28:31.063Z"
   },
   {
    "duration": 65,
    "start_time": "2023-05-13T04:28:31.179Z"
   },
   {
    "duration": 11,
    "start_time": "2023-05-13T04:28:31.246Z"
   },
   {
    "duration": 71,
    "start_time": "2023-05-13T04:28:31.258Z"
   },
   {
    "duration": 23,
    "start_time": "2023-05-13T04:28:31.335Z"
   },
   {
    "duration": 5,
    "start_time": "2023-05-13T04:28:31.359Z"
   },
   {
    "duration": 36,
    "start_time": "2023-05-13T04:28:31.366Z"
   },
   {
    "duration": 111,
    "start_time": "2023-05-13T04:28:31.419Z"
   },
   {
    "duration": 12,
    "start_time": "2023-05-13T04:28:31.531Z"
   },
   {
    "duration": 31,
    "start_time": "2023-05-13T04:28:31.545Z"
   },
   {
    "duration": 229,
    "start_time": "2023-05-13T05:49:29.463Z"
   },
   {
    "duration": 4,
    "start_time": "2023-05-13T10:03:17.868Z"
   },
   {
    "duration": 2449,
    "start_time": "2023-05-13T10:03:36.963Z"
   },
   {
    "duration": 1094,
    "start_time": "2023-05-13T10:15:13.411Z"
   },
   {
    "duration": 1240,
    "start_time": "2023-05-13T10:15:33.528Z"
   },
   {
    "duration": 1354,
    "start_time": "2023-05-13T10:16:25.739Z"
   },
   {
    "duration": 1050,
    "start_time": "2023-05-13T10:22:29.028Z"
   },
   {
    "duration": 69,
    "start_time": "2023-05-13T10:23:01.009Z"
   },
   {
    "duration": 1021,
    "start_time": "2023-05-13T10:24:13.874Z"
   },
   {
    "duration": 1092,
    "start_time": "2023-05-13T10:24:23.182Z"
   },
   {
    "duration": 766,
    "start_time": "2023-05-13T10:25:23.529Z"
   },
   {
    "duration": 1387,
    "start_time": "2023-05-13T10:25:34.622Z"
   },
   {
    "duration": 788,
    "start_time": "2023-05-13T10:25:41.810Z"
   },
   {
    "duration": 1067,
    "start_time": "2023-05-13T10:25:58.551Z"
   },
   {
    "duration": 644,
    "start_time": "2023-05-13T10:26:57.912Z"
   },
   {
    "duration": 812,
    "start_time": "2023-05-13T10:27:19.414Z"
   },
   {
    "duration": 645,
    "start_time": "2023-05-13T10:29:07.910Z"
   },
   {
    "duration": 1013,
    "start_time": "2023-05-13T10:30:53.680Z"
   },
   {
    "duration": 856,
    "start_time": "2023-05-13T10:31:46.392Z"
   },
   {
    "duration": 1179,
    "start_time": "2023-05-13T10:31:57.171Z"
   },
   {
    "duration": 1123,
    "start_time": "2023-05-13T10:48:57.136Z"
   },
   {
    "duration": 813,
    "start_time": "2023-05-13T10:49:00.685Z"
   },
   {
    "duration": 976,
    "start_time": "2023-05-13T10:50:03.022Z"
   },
   {
    "duration": 1079,
    "start_time": "2023-05-13T10:50:29.569Z"
   },
   {
    "duration": 789,
    "start_time": "2023-05-13T10:50:39.837Z"
   },
   {
    "duration": 989,
    "start_time": "2023-05-13T10:50:46.570Z"
   },
   {
    "duration": 1003,
    "start_time": "2023-05-13T10:51:03.404Z"
   },
   {
    "duration": 1020,
    "start_time": "2023-05-13T10:51:11.541Z"
   },
   {
    "duration": 986,
    "start_time": "2023-05-13T10:51:25.216Z"
   },
   {
    "duration": 915,
    "start_time": "2023-05-13T10:56:10.224Z"
   },
   {
    "duration": 911,
    "start_time": "2023-05-13T10:56:11.140Z"
   },
   {
    "duration": 830,
    "start_time": "2023-05-13T10:56:17.010Z"
   },
   {
    "duration": 1007,
    "start_time": "2023-05-13T11:10:43.527Z"
   },
   {
    "duration": 557,
    "start_time": "2023-05-13T11:12:41.315Z"
   },
   {
    "duration": 557,
    "start_time": "2023-05-13T11:12:47.184Z"
   },
   {
    "duration": 72,
    "start_time": "2023-05-13T11:22:12.128Z"
   },
   {
    "duration": 93,
    "start_time": "2023-05-13T11:22:27.274Z"
   },
   {
    "duration": 635,
    "start_time": "2023-05-13T11:22:54.808Z"
   },
   {
    "duration": 498,
    "start_time": "2023-05-13T11:23:58.354Z"
   },
   {
    "duration": 656,
    "start_time": "2023-05-13T11:25:04.961Z"
   },
   {
    "duration": 622,
    "start_time": "2023-05-13T11:25:26.035Z"
   },
   {
    "duration": 559,
    "start_time": "2023-05-13T11:26:37.581Z"
   },
   {
    "duration": 699,
    "start_time": "2023-05-13T11:26:54.519Z"
   },
   {
    "duration": 498,
    "start_time": "2023-05-13T11:27:10.704Z"
   },
   {
    "duration": 578,
    "start_time": "2023-05-13T11:27:22.180Z"
   },
   {
    "duration": 863,
    "start_time": "2023-05-13T11:30:52.173Z"
   },
   {
    "duration": 489,
    "start_time": "2023-05-13T11:31:00.041Z"
   },
   {
    "duration": 499,
    "start_time": "2023-05-13T11:31:09.568Z"
   },
   {
    "duration": 503,
    "start_time": "2023-05-13T11:31:30.078Z"
   },
   {
    "duration": 560,
    "start_time": "2023-05-13T11:33:30.461Z"
   },
   {
    "duration": 818,
    "start_time": "2023-05-13T11:33:36.515Z"
   },
   {
    "duration": 512,
    "start_time": "2023-05-13T11:34:07.415Z"
   },
   {
    "duration": 491,
    "start_time": "2023-05-13T11:34:31.207Z"
   },
   {
    "duration": 718,
    "start_time": "2023-05-13T11:35:47.412Z"
   },
   {
    "duration": 534,
    "start_time": "2023-05-13T11:35:55.350Z"
   },
   {
    "duration": 10,
    "start_time": "2023-05-13T11:37:09.319Z"
   },
   {
    "duration": 10,
    "start_time": "2023-05-13T11:37:26.721Z"
   },
   {
    "duration": 16,
    "start_time": "2023-05-13T13:07:24.023Z"
   },
   {
    "duration": 513,
    "start_time": "2023-05-13T13:10:14.609Z"
   },
   {
    "duration": 558,
    "start_time": "2023-05-13T13:13:03.971Z"
   },
   {
    "duration": 378,
    "start_time": "2023-05-13T13:13:29.978Z"
   },
   {
    "duration": 601,
    "start_time": "2023-05-13T13:14:17.310Z"
   },
   {
    "duration": 22,
    "start_time": "2023-05-13T13:18:51.108Z"
   },
   {
    "duration": 24,
    "start_time": "2023-05-13T13:19:54.426Z"
   },
   {
    "duration": 12,
    "start_time": "2023-05-13T13:20:15.916Z"
   },
   {
    "duration": 6,
    "start_time": "2023-05-13T13:20:35.418Z"
   },
   {
    "duration": 16,
    "start_time": "2023-05-13T13:20:45.755Z"
   },
   {
    "duration": 6,
    "start_time": "2023-05-13T13:20:50.310Z"
   },
   {
    "duration": 1202,
    "start_time": "2023-05-13T13:21:21.730Z"
   },
   {
    "duration": 1182,
    "start_time": "2023-05-13T13:24:59.258Z"
   },
   {
    "duration": 1261,
    "start_time": "2023-05-13T13:25:11.723Z"
   },
   {
    "duration": 1215,
    "start_time": "2023-05-13T13:25:33.324Z"
   },
   {
    "duration": 66,
    "start_time": "2023-05-13T13:25:53.460Z"
   },
   {
    "duration": 1180,
    "start_time": "2023-05-13T13:26:03.572Z"
   },
   {
    "duration": 1191,
    "start_time": "2023-05-13T13:27:49.847Z"
   },
   {
    "duration": 1349,
    "start_time": "2023-05-13T13:29:38.013Z"
   },
   {
    "duration": 1194,
    "start_time": "2023-05-13T13:32:44.117Z"
   },
   {
    "duration": 1226,
    "start_time": "2023-05-13T13:32:59.648Z"
   },
   {
    "duration": 1176,
    "start_time": "2023-05-13T14:00:09.640Z"
   },
   {
    "duration": 1036,
    "start_time": "2023-05-13T14:00:22.010Z"
   },
   {
    "duration": 41,
    "start_time": "2023-05-13T14:25:53.361Z"
   },
   {
    "duration": 1256,
    "start_time": "2023-05-13T14:25:53.995Z"
   },
   {
    "duration": 100,
    "start_time": "2023-05-13T14:26:26.514Z"
   },
   {
    "duration": 1178,
    "start_time": "2023-05-13T14:26:28.039Z"
   },
   {
    "duration": 26,
    "start_time": "2023-05-13T14:34:33.418Z"
   },
   {
    "duration": 6,
    "start_time": "2023-05-13T14:34:36.919Z"
   },
   {
    "duration": 21,
    "start_time": "2023-05-13T14:34:38.455Z"
   },
   {
    "duration": 22,
    "start_time": "2023-05-13T14:37:09.360Z"
   },
   {
    "duration": 853,
    "start_time": "2023-05-13T15:44:58.622Z"
   },
   {
    "duration": 466,
    "start_time": "2023-05-13T15:45:38.072Z"
   },
   {
    "duration": 1952,
    "start_time": "2023-05-13T15:46:07.311Z"
   },
   {
    "duration": 251,
    "start_time": "2023-05-13T15:46:48.631Z"
   },
   {
    "duration": 10,
    "start_time": "2023-05-13T16:03:50.761Z"
   },
   {
    "duration": 21,
    "start_time": "2023-05-13T16:04:26.746Z"
   },
   {
    "duration": 10,
    "start_time": "2023-05-13T16:26:50.798Z"
   },
   {
    "duration": 5,
    "start_time": "2023-05-13T16:27:17.044Z"
   },
   {
    "duration": 1491,
    "start_time": "2023-05-14T00:05:52.671Z"
   },
   {
    "duration": 2324,
    "start_time": "2023-05-14T00:05:54.164Z"
   },
   {
    "duration": 27,
    "start_time": "2023-05-14T00:05:56.490Z"
   },
   {
    "duration": 23,
    "start_time": "2023-05-14T00:05:56.518Z"
   },
   {
    "duration": 19,
    "start_time": "2023-05-14T00:05:56.544Z"
   },
   {
    "duration": 41,
    "start_time": "2023-05-14T00:05:56.565Z"
   },
   {
    "duration": 22,
    "start_time": "2023-05-14T00:05:56.607Z"
   },
   {
    "duration": 17,
    "start_time": "2023-05-14T00:05:56.630Z"
   },
   {
    "duration": 3,
    "start_time": "2023-05-14T00:05:56.648Z"
   },
   {
    "duration": 14,
    "start_time": "2023-05-14T00:05:56.652Z"
   },
   {
    "duration": 13,
    "start_time": "2023-05-14T00:05:56.668Z"
   },
   {
    "duration": 15,
    "start_time": "2023-05-14T00:05:56.682Z"
   },
   {
    "duration": 6,
    "start_time": "2023-05-14T00:05:56.699Z"
   },
   {
    "duration": 11,
    "start_time": "2023-05-14T00:05:56.710Z"
   },
   {
    "duration": 125,
    "start_time": "2023-05-14T00:05:56.722Z"
   },
   {
    "duration": 18,
    "start_time": "2023-05-14T00:05:56.849Z"
   },
   {
    "duration": 112,
    "start_time": "2023-05-14T00:05:56.868Z"
   },
   {
    "duration": 59,
    "start_time": "2023-05-14T00:05:56.982Z"
   },
   {
    "duration": 7,
    "start_time": "2023-05-14T00:05:57.042Z"
   },
   {
    "duration": 36,
    "start_time": "2023-05-14T00:05:57.050Z"
   },
   {
    "duration": 13,
    "start_time": "2023-05-14T00:05:57.088Z"
   },
   {
    "duration": 4,
    "start_time": "2023-05-14T00:05:57.103Z"
   },
   {
    "duration": 17,
    "start_time": "2023-05-14T00:05:57.108Z"
   },
   {
    "duration": 18,
    "start_time": "2023-05-14T00:05:57.127Z"
   },
   {
    "duration": 8,
    "start_time": "2023-05-14T00:05:57.147Z"
   },
   {
    "duration": 45,
    "start_time": "2023-05-14T00:05:57.156Z"
   },
   {
    "duration": 983,
    "start_time": "2023-05-14T00:05:57.203Z"
   },
   {
    "duration": 982,
    "start_time": "2023-05-14T00:05:58.188Z"
   },
   {
    "duration": 881,
    "start_time": "2023-05-14T00:05:59.173Z"
   },
   {
    "duration": 716,
    "start_time": "2023-05-14T00:06:00.056Z"
   },
   {
    "duration": 21,
    "start_time": "2023-05-14T00:06:00.774Z"
   },
   {
    "duration": 1273,
    "start_time": "2023-05-14T00:06:00.796Z"
   },
   {
    "duration": 114,
    "start_time": "2023-05-14T00:06:02.071Z"
   },
   {
    "duration": 1140,
    "start_time": "2023-05-14T00:06:02.188Z"
   },
   {
    "duration": 3,
    "start_time": "2023-05-14T00:06:03.331Z"
   },
   {
    "duration": 31,
    "start_time": "2023-05-14T00:06:03.336Z"
   },
   {
    "duration": 277,
    "start_time": "2023-05-14T00:06:03.369Z"
   },
   {
    "duration": 9,
    "start_time": "2023-05-14T00:06:57.066Z"
   },
   {
    "duration": 9,
    "start_time": "2023-05-14T00:08:26.246Z"
   },
   {
    "duration": 33,
    "start_time": "2023-05-14T00:08:37.262Z"
   },
   {
    "duration": 22,
    "start_time": "2023-05-14T00:09:59.038Z"
   },
   {
    "duration": 1399,
    "start_time": "2023-05-14T00:10:54.387Z"
   },
   {
    "duration": 811,
    "start_time": "2023-05-14T00:10:55.788Z"
   },
   {
    "duration": 27,
    "start_time": "2023-05-14T00:10:56.601Z"
   },
   {
    "duration": 16,
    "start_time": "2023-05-14T00:10:56.630Z"
   },
   {
    "duration": 18,
    "start_time": "2023-05-14T00:10:56.647Z"
   },
   {
    "duration": 57,
    "start_time": "2023-05-14T00:10:56.667Z"
   },
   {
    "duration": 17,
    "start_time": "2023-05-14T00:10:56.726Z"
   },
   {
    "duration": 16,
    "start_time": "2023-05-14T00:10:56.744Z"
   },
   {
    "duration": 9,
    "start_time": "2023-05-14T00:10:56.762Z"
   },
   {
    "duration": 17,
    "start_time": "2023-05-14T00:10:56.774Z"
   },
   {
    "duration": 32,
    "start_time": "2023-05-14T00:10:56.792Z"
   },
   {
    "duration": 4,
    "start_time": "2023-05-14T00:10:56.825Z"
   },
   {
    "duration": 24,
    "start_time": "2023-05-14T00:10:56.830Z"
   },
   {
    "duration": 13,
    "start_time": "2023-05-14T00:10:56.856Z"
   },
   {
    "duration": 139,
    "start_time": "2023-05-14T00:10:56.871Z"
   },
   {
    "duration": 17,
    "start_time": "2023-05-14T00:10:57.012Z"
   },
   {
    "duration": 112,
    "start_time": "2023-05-14T00:10:57.031Z"
   },
   {
    "duration": 62,
    "start_time": "2023-05-14T00:10:57.145Z"
   },
   {
    "duration": 8,
    "start_time": "2023-05-14T00:10:57.209Z"
   },
   {
    "duration": 23,
    "start_time": "2023-05-14T00:10:57.219Z"
   },
   {
    "duration": 13,
    "start_time": "2023-05-14T00:10:57.243Z"
   },
   {
    "duration": 4,
    "start_time": "2023-05-14T00:10:57.257Z"
   },
   {
    "duration": 47,
    "start_time": "2023-05-14T00:10:57.262Z"
   },
   {
    "duration": 23,
    "start_time": "2023-05-14T00:10:57.310Z"
   },
   {
    "duration": 13,
    "start_time": "2023-05-14T00:10:57.334Z"
   },
   {
    "duration": 19,
    "start_time": "2023-05-14T00:10:57.348Z"
   },
   {
    "duration": 975,
    "start_time": "2023-05-14T00:10:57.368Z"
   },
   {
    "duration": 1008,
    "start_time": "2023-05-14T00:10:58.346Z"
   },
   {
    "duration": 879,
    "start_time": "2023-05-14T00:10:59.355Z"
   },
   {
    "duration": 704,
    "start_time": "2023-05-14T00:11:00.236Z"
   },
   {
    "duration": 11,
    "start_time": "2023-05-14T00:11:00.941Z"
   },
   {
    "duration": 1271,
    "start_time": "2023-05-14T00:11:00.953Z"
   },
   {
    "duration": 100,
    "start_time": "2023-05-14T00:11:02.226Z"
   },
   {
    "duration": 1131,
    "start_time": "2023-05-14T00:11:02.328Z"
   },
   {
    "duration": 4,
    "start_time": "2023-05-14T00:11:03.460Z"
   },
   {
    "duration": 15,
    "start_time": "2023-05-14T00:11:03.465Z"
   },
   {
    "duration": 158,
    "start_time": "2023-05-14T00:11:03.481Z"
   },
   {
    "duration": 16,
    "start_time": "2023-05-14T00:11:03.641Z"
   },
   {
    "duration": 23,
    "start_time": "2023-05-14T00:11:41.351Z"
   },
   {
    "duration": 7,
    "start_time": "2023-05-14T00:18:50.363Z"
   },
   {
    "duration": 31,
    "start_time": "2023-05-14T00:20:47.702Z"
   },
   {
    "duration": 17,
    "start_time": "2023-05-14T00:21:04.012Z"
   },
   {
    "duration": 6,
    "start_time": "2023-05-14T00:21:16.086Z"
   },
   {
    "duration": 146,
    "start_time": "2023-05-14T00:21:41.135Z"
   },
   {
    "duration": 13,
    "start_time": "2023-05-14T00:22:33.248Z"
   },
   {
    "duration": 1420,
    "start_time": "2023-05-14T00:23:03.075Z"
   },
   {
    "duration": 811,
    "start_time": "2023-05-14T00:23:04.496Z"
   },
   {
    "duration": 21,
    "start_time": "2023-05-14T00:23:05.309Z"
   },
   {
    "duration": 22,
    "start_time": "2023-05-14T00:23:05.332Z"
   },
   {
    "duration": 18,
    "start_time": "2023-05-14T00:23:05.356Z"
   },
   {
    "duration": 36,
    "start_time": "2023-05-14T00:23:05.375Z"
   },
   {
    "duration": 29,
    "start_time": "2023-05-14T00:23:05.413Z"
   },
   {
    "duration": 20,
    "start_time": "2023-05-14T00:23:05.444Z"
   },
   {
    "duration": 33,
    "start_time": "2023-05-14T00:23:05.465Z"
   },
   {
    "duration": 23,
    "start_time": "2023-05-14T00:23:05.500Z"
   },
   {
    "duration": 30,
    "start_time": "2023-05-14T00:23:05.525Z"
   },
   {
    "duration": 14,
    "start_time": "2023-05-14T00:23:05.556Z"
   },
   {
    "duration": 23,
    "start_time": "2023-05-14T00:23:05.571Z"
   },
   {
    "duration": 71,
    "start_time": "2023-05-14T00:23:05.598Z"
   },
   {
    "duration": 237,
    "start_time": "2023-05-14T00:23:05.671Z"
   },
   {
    "duration": 19,
    "start_time": "2023-05-14T00:23:05.909Z"
   },
   {
    "duration": 115,
    "start_time": "2023-05-14T00:23:05.929Z"
   },
   {
    "duration": 61,
    "start_time": "2023-05-14T00:23:06.046Z"
   },
   {
    "duration": 7,
    "start_time": "2023-05-14T00:23:06.108Z"
   },
   {
    "duration": 43,
    "start_time": "2023-05-14T00:23:06.116Z"
   },
   {
    "duration": 14,
    "start_time": "2023-05-14T00:23:06.160Z"
   },
   {
    "duration": 4,
    "start_time": "2023-05-14T00:23:06.175Z"
   },
   {
    "duration": 19,
    "start_time": "2023-05-14T00:23:06.180Z"
   },
   {
    "duration": 18,
    "start_time": "2023-05-14T00:23:06.201Z"
   },
   {
    "duration": 10,
    "start_time": "2023-05-14T00:23:06.221Z"
   },
   {
    "duration": 27,
    "start_time": "2023-05-14T00:23:06.232Z"
   },
   {
    "duration": 973,
    "start_time": "2023-05-14T00:23:06.261Z"
   },
   {
    "duration": 976,
    "start_time": "2023-05-14T00:23:07.235Z"
   },
   {
    "duration": 994,
    "start_time": "2023-05-14T00:23:08.213Z"
   },
   {
    "duration": 668,
    "start_time": "2023-05-14T00:23:09.209Z"
   },
   {
    "duration": 20,
    "start_time": "2023-05-14T00:23:09.879Z"
   },
   {
    "duration": 1244,
    "start_time": "2023-05-14T00:23:09.901Z"
   },
   {
    "duration": 92,
    "start_time": "2023-05-14T00:23:11.147Z"
   },
   {
    "duration": 1059,
    "start_time": "2023-05-14T00:23:11.240Z"
   },
   {
    "duration": 3,
    "start_time": "2023-05-14T00:23:12.301Z"
   },
   {
    "duration": 14,
    "start_time": "2023-05-14T00:23:12.305Z"
   },
   {
    "duration": 165,
    "start_time": "2023-05-14T00:23:12.320Z"
   },
   {
    "duration": 9,
    "start_time": "2023-05-14T00:23:12.487Z"
   },
   {
    "duration": 10,
    "start_time": "2023-05-14T00:23:12.498Z"
   },
   {
    "duration": 18,
    "start_time": "2023-05-14T00:23:12.510Z"
   },
   {
    "duration": 105,
    "start_time": "2023-05-14T00:26:00.926Z"
   },
   {
    "duration": 3,
    "start_time": "2023-05-14T00:26:14.905Z"
   },
   {
    "duration": 3,
    "start_time": "2023-05-14T00:26:31.450Z"
   },
   {
    "duration": 7,
    "start_time": "2023-05-14T00:27:37.156Z"
   },
   {
    "duration": 7,
    "start_time": "2023-05-14T00:27:47.066Z"
   },
   {
    "duration": 5,
    "start_time": "2023-05-14T00:28:00.442Z"
   },
   {
    "duration": 11,
    "start_time": "2023-05-14T00:38:30.383Z"
   },
   {
    "duration": 2,
    "start_time": "2023-05-14T00:38:36.202Z"
   },
   {
    "duration": 13326,
    "start_time": "2023-05-14T00:38:42.141Z"
   },
   {
    "duration": 18231,
    "start_time": "2023-05-14T00:39:06.433Z"
   },
   {
    "duration": 2,
    "start_time": "2023-05-14T00:40:25.332Z"
   },
   {
    "duration": 29712,
    "start_time": "2023-05-14T00:41:12.253Z"
   },
   {
    "duration": 17989,
    "start_time": "2023-05-14T00:41:54.700Z"
   },
   {
    "duration": 17922,
    "start_time": "2023-05-14T00:46:54.639Z"
   },
   {
    "duration": 18685,
    "start_time": "2023-05-14T00:47:33.128Z"
   },
   {
    "duration": 1444,
    "start_time": "2023-05-14T02:33:49.484Z"
   },
   {
    "duration": 2381,
    "start_time": "2023-05-14T02:33:50.930Z"
   },
   {
    "duration": 19,
    "start_time": "2023-05-14T02:33:53.313Z"
   },
   {
    "duration": 15,
    "start_time": "2023-05-14T02:33:53.333Z"
   },
   {
    "duration": 15,
    "start_time": "2023-05-14T02:33:53.349Z"
   },
   {
    "duration": 30,
    "start_time": "2023-05-14T02:33:53.365Z"
   },
   {
    "duration": 26,
    "start_time": "2023-05-14T02:33:53.396Z"
   },
   {
    "duration": 16,
    "start_time": "2023-05-14T02:33:53.424Z"
   },
   {
    "duration": 2,
    "start_time": "2023-05-14T02:33:53.441Z"
   },
   {
    "duration": 28,
    "start_time": "2023-05-14T02:33:53.444Z"
   },
   {
    "duration": 23,
    "start_time": "2023-05-14T02:33:53.473Z"
   },
   {
    "duration": 4,
    "start_time": "2023-05-14T02:33:53.498Z"
   },
   {
    "duration": 6,
    "start_time": "2023-05-14T02:33:53.503Z"
   },
   {
    "duration": 13,
    "start_time": "2023-05-14T02:33:53.513Z"
   },
   {
    "duration": 120,
    "start_time": "2023-05-14T02:33:53.528Z"
   },
   {
    "duration": 16,
    "start_time": "2023-05-14T02:33:53.650Z"
   },
   {
    "duration": 97,
    "start_time": "2023-05-14T02:33:53.667Z"
   },
   {
    "duration": 59,
    "start_time": "2023-05-14T02:33:53.765Z"
   },
   {
    "duration": 6,
    "start_time": "2023-05-14T02:33:53.825Z"
   },
   {
    "duration": 22,
    "start_time": "2023-05-14T02:33:53.832Z"
   },
   {
    "duration": 12,
    "start_time": "2023-05-14T02:33:53.855Z"
   },
   {
    "duration": 8,
    "start_time": "2023-05-14T02:33:53.890Z"
   },
   {
    "duration": 16,
    "start_time": "2023-05-14T02:33:53.899Z"
   },
   {
    "duration": 17,
    "start_time": "2023-05-14T02:33:53.916Z"
   },
   {
    "duration": 6,
    "start_time": "2023-05-14T02:33:53.935Z"
   },
   {
    "duration": 18,
    "start_time": "2023-05-14T02:33:53.942Z"
   },
   {
    "duration": 863,
    "start_time": "2023-05-14T02:33:53.961Z"
   },
   {
    "duration": 838,
    "start_time": "2023-05-14T02:33:54.826Z"
   },
   {
    "duration": 815,
    "start_time": "2023-05-14T02:33:55.666Z"
   },
   {
    "duration": 557,
    "start_time": "2023-05-14T02:33:56.483Z"
   },
   {
    "duration": 13,
    "start_time": "2023-05-14T02:33:57.041Z"
   },
   {
    "duration": 1052,
    "start_time": "2023-05-14T02:33:57.056Z"
   },
   {
    "duration": 84,
    "start_time": "2023-05-14T02:33:58.110Z"
   },
   {
    "duration": 951,
    "start_time": "2023-05-14T02:33:58.198Z"
   },
   {
    "duration": 3,
    "start_time": "2023-05-14T02:33:59.151Z"
   },
   {
    "duration": 18,
    "start_time": "2023-05-14T02:33:59.155Z"
   },
   {
    "duration": 133,
    "start_time": "2023-05-14T02:33:59.174Z"
   },
   {
    "duration": 4,
    "start_time": "2023-05-14T02:33:59.309Z"
   },
   {
    "duration": 23,
    "start_time": "2023-05-14T02:33:59.314Z"
   },
   {
    "duration": 21,
    "start_time": "2023-05-14T02:33:59.339Z"
   },
   {
    "duration": 15,
    "start_time": "2023-05-14T02:33:59.363Z"
   },
   {
    "duration": 5,
    "start_time": "2023-05-14T02:33:59.379Z"
   },
   {
    "duration": 18842,
    "start_time": "2023-05-14T02:33:59.389Z"
   },
   {
    "duration": 3,
    "start_time": "2023-05-14T02:36:50.225Z"
   },
   {
    "duration": 18210,
    "start_time": "2023-05-14T02:36:55.883Z"
   },
   {
    "duration": 3,
    "start_time": "2023-05-14T02:38:01.283Z"
   },
   {
    "duration": 18162,
    "start_time": "2023-05-14T02:38:09.499Z"
   },
   {
    "duration": 3,
    "start_time": "2023-05-14T02:39:45.428Z"
   },
   {
    "duration": 619,
    "start_time": "2023-05-14T02:39:52.212Z"
   },
   {
    "duration": 3,
    "start_time": "2023-05-14T03:30:01.975Z"
   },
   {
    "duration": 19661,
    "start_time": "2023-05-14T03:30:07.062Z"
   },
   {
    "duration": 20316,
    "start_time": "2023-05-14T03:33:24.751Z"
   },
   {
    "duration": 3979,
    "start_time": "2023-05-14T03:34:51.811Z"
   },
   {
    "duration": 13,
    "start_time": "2023-05-14T03:35:25.449Z"
   },
   {
    "duration": 3039,
    "start_time": "2023-05-14T03:35:38.256Z"
   },
   {
    "duration": 19761,
    "start_time": "2023-05-14T03:36:04.338Z"
   },
   {
    "duration": 20973,
    "start_time": "2023-05-14T03:37:11.681Z"
   },
   {
    "duration": 2695,
    "start_time": "2023-05-14T03:40:27.404Z"
   },
   {
    "duration": 1200340,
    "start_time": "2023-05-14T03:41:03.340Z"
   },
   {
    "duration": 21822,
    "start_time": "2023-05-14T04:40:59.208Z"
   },
   {
    "duration": 6,
    "start_time": "2023-05-14T04:41:51.080Z"
   },
   {
    "duration": 22279,
    "start_time": "2023-05-14T04:41:58.623Z"
   },
   {
    "duration": 1080,
    "start_time": "2023-05-14T04:49:27.661Z"
   },
   {
    "duration": 738,
    "start_time": "2023-05-14T04:49:28.743Z"
   },
   {
    "duration": 30,
    "start_time": "2023-05-14T04:49:29.483Z"
   },
   {
    "duration": 15,
    "start_time": "2023-05-14T04:49:29.515Z"
   },
   {
    "duration": 17,
    "start_time": "2023-05-14T04:49:29.532Z"
   },
   {
    "duration": 34,
    "start_time": "2023-05-14T04:49:29.550Z"
   },
   {
    "duration": 19,
    "start_time": "2023-05-14T04:49:29.585Z"
   },
   {
    "duration": 19,
    "start_time": "2023-05-14T04:49:29.606Z"
   },
   {
    "duration": 3,
    "start_time": "2023-05-14T04:49:29.626Z"
   },
   {
    "duration": 5,
    "start_time": "2023-05-14T04:49:29.631Z"
   },
   {
    "duration": 15,
    "start_time": "2023-05-14T04:49:29.638Z"
   },
   {
    "duration": 5,
    "start_time": "2023-05-14T04:49:29.655Z"
   },
   {
    "duration": 110,
    "start_time": "2023-05-14T04:49:29.691Z"
   },
   {
    "duration": 0,
    "start_time": "2023-05-14T04:49:29.803Z"
   },
   {
    "duration": 0,
    "start_time": "2023-05-14T04:49:29.804Z"
   },
   {
    "duration": 0,
    "start_time": "2023-05-14T04:49:29.805Z"
   },
   {
    "duration": 0,
    "start_time": "2023-05-14T04:49:29.806Z"
   },
   {
    "duration": 0,
    "start_time": "2023-05-14T04:49:29.807Z"
   },
   {
    "duration": 0,
    "start_time": "2023-05-14T04:49:29.808Z"
   },
   {
    "duration": 0,
    "start_time": "2023-05-14T04:49:29.808Z"
   },
   {
    "duration": 0,
    "start_time": "2023-05-14T04:49:29.809Z"
   },
   {
    "duration": 0,
    "start_time": "2023-05-14T04:49:29.810Z"
   },
   {
    "duration": 0,
    "start_time": "2023-05-14T04:49:29.811Z"
   },
   {
    "duration": 0,
    "start_time": "2023-05-14T04:49:29.811Z"
   },
   {
    "duration": 0,
    "start_time": "2023-05-14T04:49:29.812Z"
   },
   {
    "duration": 0,
    "start_time": "2023-05-14T04:49:29.813Z"
   },
   {
    "duration": 0,
    "start_time": "2023-05-14T04:49:29.814Z"
   },
   {
    "duration": 0,
    "start_time": "2023-05-14T04:49:29.815Z"
   },
   {
    "duration": 0,
    "start_time": "2023-05-14T04:49:29.816Z"
   },
   {
    "duration": 0,
    "start_time": "2023-05-14T04:49:29.817Z"
   },
   {
    "duration": 0,
    "start_time": "2023-05-14T04:49:29.818Z"
   },
   {
    "duration": 0,
    "start_time": "2023-05-14T04:49:29.819Z"
   },
   {
    "duration": 0,
    "start_time": "2023-05-14T04:49:29.819Z"
   },
   {
    "duration": 0,
    "start_time": "2023-05-14T04:49:29.820Z"
   },
   {
    "duration": 0,
    "start_time": "2023-05-14T04:49:29.821Z"
   },
   {
    "duration": 0,
    "start_time": "2023-05-14T04:49:29.822Z"
   },
   {
    "duration": 0,
    "start_time": "2023-05-14T04:49:29.823Z"
   },
   {
    "duration": 0,
    "start_time": "2023-05-14T04:49:29.823Z"
   },
   {
    "duration": 0,
    "start_time": "2023-05-14T04:49:29.824Z"
   },
   {
    "duration": 0,
    "start_time": "2023-05-14T04:49:29.825Z"
   },
   {
    "duration": 0,
    "start_time": "2023-05-14T04:49:29.826Z"
   },
   {
    "duration": 0,
    "start_time": "2023-05-14T04:49:29.827Z"
   },
   {
    "duration": 0,
    "start_time": "2023-05-14T04:49:29.828Z"
   },
   {
    "duration": 0,
    "start_time": "2023-05-14T04:49:29.828Z"
   },
   {
    "duration": 0,
    "start_time": "2023-05-14T04:49:29.829Z"
   },
   {
    "duration": 0,
    "start_time": "2023-05-14T04:49:29.831Z"
   },
   {
    "duration": 0,
    "start_time": "2023-05-14T04:49:29.832Z"
   },
   {
    "duration": 1110,
    "start_time": "2023-05-14T04:51:41.885Z"
   },
   {
    "duration": 732,
    "start_time": "2023-05-14T04:51:42.997Z"
   },
   {
    "duration": 24,
    "start_time": "2023-05-14T04:51:43.731Z"
   },
   {
    "duration": 38,
    "start_time": "2023-05-14T04:51:43.756Z"
   },
   {
    "duration": 17,
    "start_time": "2023-05-14T04:51:43.796Z"
   },
   {
    "duration": 12,
    "start_time": "2023-05-14T04:51:43.815Z"
   },
   {
    "duration": 16,
    "start_time": "2023-05-14T04:51:43.829Z"
   },
   {
    "duration": 15,
    "start_time": "2023-05-14T04:51:43.847Z"
   },
   {
    "duration": 2,
    "start_time": "2023-05-14T04:51:43.864Z"
   },
   {
    "duration": 11,
    "start_time": "2023-05-14T04:51:43.884Z"
   },
   {
    "duration": 15,
    "start_time": "2023-05-14T04:51:43.897Z"
   },
   {
    "duration": 4,
    "start_time": "2023-05-14T04:51:43.913Z"
   },
   {
    "duration": 14,
    "start_time": "2023-05-14T04:51:43.918Z"
   },
   {
    "duration": 10,
    "start_time": "2023-05-14T04:51:43.934Z"
   },
   {
    "duration": 130,
    "start_time": "2023-05-14T04:51:43.945Z"
   },
   {
    "duration": 21,
    "start_time": "2023-05-14T04:51:44.077Z"
   },
   {
    "duration": 103,
    "start_time": "2023-05-14T04:51:44.099Z"
   },
   {
    "duration": 299,
    "start_time": "2023-05-14T04:51:44.203Z"
   },
   {
    "duration": 6,
    "start_time": "2023-05-14T04:51:44.504Z"
   },
   {
    "duration": 22,
    "start_time": "2023-05-14T04:51:44.511Z"
   },
   {
    "duration": 13,
    "start_time": "2023-05-14T04:51:44.535Z"
   },
   {
    "duration": 3,
    "start_time": "2023-05-14T04:51:44.550Z"
   },
   {
    "duration": 43,
    "start_time": "2023-05-14T04:51:44.555Z"
   },
   {
    "duration": 20,
    "start_time": "2023-05-14T04:51:44.600Z"
   },
   {
    "duration": 8,
    "start_time": "2023-05-14T04:51:44.622Z"
   },
   {
    "duration": 19,
    "start_time": "2023-05-14T04:51:44.631Z"
   },
   {
    "duration": 1175,
    "start_time": "2023-05-14T04:51:44.652Z"
   },
   {
    "duration": 0,
    "start_time": "2023-05-14T04:51:45.829Z"
   },
   {
    "duration": 0,
    "start_time": "2023-05-14T04:51:45.831Z"
   },
   {
    "duration": 0,
    "start_time": "2023-05-14T04:51:45.832Z"
   },
   {
    "duration": 0,
    "start_time": "2023-05-14T04:51:45.833Z"
   },
   {
    "duration": 0,
    "start_time": "2023-05-14T04:51:45.835Z"
   },
   {
    "duration": 0,
    "start_time": "2023-05-14T04:51:45.836Z"
   },
   {
    "duration": 0,
    "start_time": "2023-05-14T04:51:45.837Z"
   },
   {
    "duration": 0,
    "start_time": "2023-05-14T04:51:45.839Z"
   },
   {
    "duration": 0,
    "start_time": "2023-05-14T04:51:45.839Z"
   },
   {
    "duration": 0,
    "start_time": "2023-05-14T04:51:45.841Z"
   },
   {
    "duration": 0,
    "start_time": "2023-05-14T04:51:45.842Z"
   },
   {
    "duration": 0,
    "start_time": "2023-05-14T04:51:45.843Z"
   },
   {
    "duration": 0,
    "start_time": "2023-05-14T04:51:45.844Z"
   },
   {
    "duration": 0,
    "start_time": "2023-05-14T04:51:45.845Z"
   },
   {
    "duration": 0,
    "start_time": "2023-05-14T04:51:45.846Z"
   },
   {
    "duration": 0,
    "start_time": "2023-05-14T04:51:45.847Z"
   },
   {
    "duration": 0,
    "start_time": "2023-05-14T04:51:45.848Z"
   },
   {
    "duration": 0,
    "start_time": "2023-05-14T04:51:45.849Z"
   },
   {
    "duration": 0,
    "start_time": "2023-05-14T04:51:45.849Z"
   },
   {
    "duration": 0,
    "start_time": "2023-05-14T04:51:45.884Z"
   },
   {
    "duration": 1271,
    "start_time": "2023-05-14T04:52:32.084Z"
   },
   {
    "duration": 727,
    "start_time": "2023-05-14T04:52:33.357Z"
   },
   {
    "duration": 21,
    "start_time": "2023-05-14T04:52:34.085Z"
   },
   {
    "duration": 44,
    "start_time": "2023-05-14T04:52:34.108Z"
   },
   {
    "duration": 31,
    "start_time": "2023-05-14T04:52:34.153Z"
   },
   {
    "duration": 15,
    "start_time": "2023-05-14T04:52:34.186Z"
   },
   {
    "duration": 18,
    "start_time": "2023-05-14T04:52:34.202Z"
   },
   {
    "duration": 22,
    "start_time": "2023-05-14T04:52:34.221Z"
   },
   {
    "duration": 3,
    "start_time": "2023-05-14T04:52:34.244Z"
   },
   {
    "duration": 9,
    "start_time": "2023-05-14T04:52:34.249Z"
   },
   {
    "duration": 30,
    "start_time": "2023-05-14T04:52:34.260Z"
   },
   {
    "duration": 4,
    "start_time": "2023-05-14T04:52:34.292Z"
   },
   {
    "duration": 4,
    "start_time": "2023-05-14T04:52:34.298Z"
   },
   {
    "duration": 12,
    "start_time": "2023-05-14T04:52:34.304Z"
   },
   {
    "duration": 137,
    "start_time": "2023-05-14T04:52:34.317Z"
   },
   {
    "duration": 18,
    "start_time": "2023-05-14T04:52:34.455Z"
   },
   {
    "duration": 101,
    "start_time": "2023-05-14T04:52:34.484Z"
   },
   {
    "duration": 56,
    "start_time": "2023-05-14T04:52:34.586Z"
   },
   {
    "duration": 8,
    "start_time": "2023-05-14T04:52:34.644Z"
   },
   {
    "duration": 38,
    "start_time": "2023-05-14T04:52:34.653Z"
   },
   {
    "duration": 15,
    "start_time": "2023-05-14T04:52:34.693Z"
   },
   {
    "duration": 4,
    "start_time": "2023-05-14T04:52:34.710Z"
   },
   {
    "duration": 23,
    "start_time": "2023-05-14T04:52:34.715Z"
   },
   {
    "duration": 20,
    "start_time": "2023-05-14T04:52:34.739Z"
   },
   {
    "duration": 29,
    "start_time": "2023-05-14T04:52:34.761Z"
   },
   {
    "duration": 20,
    "start_time": "2023-05-14T04:52:34.792Z"
   },
   {
    "duration": 849,
    "start_time": "2023-05-14T04:52:34.814Z"
   },
   {
    "duration": 909,
    "start_time": "2023-05-14T04:52:35.666Z"
   },
   {
    "duration": 927,
    "start_time": "2023-05-14T04:52:36.577Z"
   },
   {
    "duration": 592,
    "start_time": "2023-05-14T04:52:37.506Z"
   },
   {
    "duration": 11,
    "start_time": "2023-05-14T04:52:38.100Z"
   },
   {
    "duration": 1894,
    "start_time": "2023-05-14T04:52:38.112Z"
   },
   {
    "duration": 196,
    "start_time": "2023-05-14T04:52:40.008Z"
   },
   {
    "duration": 1115,
    "start_time": "2023-05-14T04:52:40.205Z"
   },
   {
    "duration": 3,
    "start_time": "2023-05-14T04:52:41.322Z"
   },
   {
    "duration": 5,
    "start_time": "2023-05-14T04:52:41.326Z"
   },
   {
    "duration": 10,
    "start_time": "2023-05-14T04:52:41.333Z"
   },
   {
    "duration": 25,
    "start_time": "2023-05-14T04:52:41.345Z"
   },
   {
    "duration": 10,
    "start_time": "2023-05-14T04:52:41.384Z"
   },
   {
    "duration": 9,
    "start_time": "2023-05-14T04:52:41.399Z"
   },
   {
    "duration": 12,
    "start_time": "2023-05-14T04:52:41.410Z"
   },
   {
    "duration": 6,
    "start_time": "2023-05-14T04:52:41.424Z"
   },
   {
    "duration": 6,
    "start_time": "2023-05-14T04:52:41.431Z"
   },
   {
    "duration": 121,
    "start_time": "2023-05-14T04:52:41.438Z"
   },
   {
    "duration": 0,
    "start_time": "2023-05-14T04:52:41.560Z"
   },
   {
    "duration": 0,
    "start_time": "2023-05-14T04:52:41.561Z"
   },
   {
    "duration": 0,
    "start_time": "2023-05-14T04:52:41.562Z"
   },
   {
    "duration": 1326,
    "start_time": "2023-05-14T04:54:03.261Z"
   },
   {
    "duration": 704,
    "start_time": "2023-05-14T04:54:04.589Z"
   },
   {
    "duration": 20,
    "start_time": "2023-05-14T04:54:05.294Z"
   },
   {
    "duration": 26,
    "start_time": "2023-05-14T04:54:05.315Z"
   },
   {
    "duration": 16,
    "start_time": "2023-05-14T04:54:05.343Z"
   },
   {
    "duration": 29,
    "start_time": "2023-05-14T04:54:05.361Z"
   },
   {
    "duration": 17,
    "start_time": "2023-05-14T04:54:05.391Z"
   },
   {
    "duration": 20,
    "start_time": "2023-05-14T04:54:05.409Z"
   },
   {
    "duration": 2,
    "start_time": "2023-05-14T04:54:05.430Z"
   },
   {
    "duration": 10,
    "start_time": "2023-05-14T04:54:05.434Z"
   },
   {
    "duration": 14,
    "start_time": "2023-05-14T04:54:05.445Z"
   },
   {
    "duration": 17,
    "start_time": "2023-05-14T04:54:05.460Z"
   },
   {
    "duration": 7,
    "start_time": "2023-05-14T04:54:05.479Z"
   },
   {
    "duration": 11,
    "start_time": "2023-05-14T04:54:05.488Z"
   },
   {
    "duration": 125,
    "start_time": "2023-05-14T04:54:05.501Z"
   },
   {
    "duration": 18,
    "start_time": "2023-05-14T04:54:05.628Z"
   },
   {
    "duration": 109,
    "start_time": "2023-05-14T04:54:05.648Z"
   },
   {
    "duration": 59,
    "start_time": "2023-05-14T04:54:05.759Z"
   },
   {
    "duration": 6,
    "start_time": "2023-05-14T04:54:05.820Z"
   },
   {
    "duration": 21,
    "start_time": "2023-05-14T04:54:05.827Z"
   },
   {
    "duration": 14,
    "start_time": "2023-05-14T04:54:05.850Z"
   },
   {
    "duration": 23,
    "start_time": "2023-05-14T04:54:05.865Z"
   },
   {
    "duration": 18,
    "start_time": "2023-05-14T04:54:05.889Z"
   },
   {
    "duration": 26,
    "start_time": "2023-05-14T04:54:05.909Z"
   },
   {
    "duration": 9,
    "start_time": "2023-05-14T04:54:05.937Z"
   },
   {
    "duration": 54,
    "start_time": "2023-05-14T04:54:05.948Z"
   },
   {
    "duration": 904,
    "start_time": "2023-05-14T04:54:06.004Z"
   },
   {
    "duration": 786,
    "start_time": "2023-05-14T04:54:06.910Z"
   },
   {
    "duration": 846,
    "start_time": "2023-05-14T04:54:07.698Z"
   },
   {
    "duration": 540,
    "start_time": "2023-05-14T04:54:08.545Z"
   },
   {
    "duration": 10,
    "start_time": "2023-05-14T04:54:09.086Z"
   },
   {
    "duration": 1016,
    "start_time": "2023-05-14T04:54:09.098Z"
   },
   {
    "duration": 93,
    "start_time": "2023-05-14T04:54:10.116Z"
   },
   {
    "duration": 1138,
    "start_time": "2023-05-14T04:54:10.211Z"
   },
   {
    "duration": 3,
    "start_time": "2023-05-14T04:54:11.351Z"
   },
   {
    "duration": 11,
    "start_time": "2023-05-14T04:54:11.355Z"
   },
   {
    "duration": 10,
    "start_time": "2023-05-14T04:54:11.367Z"
   },
   {
    "duration": 28,
    "start_time": "2023-05-14T04:54:11.389Z"
   },
   {
    "duration": 5,
    "start_time": "2023-05-14T04:54:11.419Z"
   },
   {
    "duration": 12,
    "start_time": "2023-05-14T04:54:11.427Z"
   },
   {
    "duration": 11,
    "start_time": "2023-05-14T04:54:11.443Z"
   },
   {
    "duration": 6,
    "start_time": "2023-05-14T04:54:11.456Z"
   },
   {
    "duration": 4,
    "start_time": "2023-05-14T04:54:11.463Z"
   },
   {
    "duration": 19933,
    "start_time": "2023-05-14T04:54:11.469Z"
   },
   {
    "duration": 1621,
    "start_time": "2023-05-14T05:05:01.257Z"
   },
   {
    "duration": 741,
    "start_time": "2023-05-14T05:05:02.879Z"
   },
   {
    "duration": 24,
    "start_time": "2023-05-14T05:05:03.622Z"
   },
   {
    "duration": 35,
    "start_time": "2023-05-14T05:05:03.648Z"
   },
   {
    "duration": 28,
    "start_time": "2023-05-14T05:05:03.692Z"
   },
   {
    "duration": 21,
    "start_time": "2023-05-14T05:05:03.721Z"
   },
   {
    "duration": 25,
    "start_time": "2023-05-14T05:05:03.744Z"
   },
   {
    "duration": 28,
    "start_time": "2023-05-14T05:05:03.771Z"
   },
   {
    "duration": 14,
    "start_time": "2023-05-14T05:05:03.800Z"
   },
   {
    "duration": 13,
    "start_time": "2023-05-14T05:05:03.815Z"
   },
   {
    "duration": 4,
    "start_time": "2023-05-14T05:05:03.829Z"
   },
   {
    "duration": 15,
    "start_time": "2023-05-14T05:05:03.835Z"
   },
   {
    "duration": 11,
    "start_time": "2023-05-14T05:05:03.851Z"
   },
   {
    "duration": 137,
    "start_time": "2023-05-14T05:05:03.865Z"
   },
   {
    "duration": 18,
    "start_time": "2023-05-14T05:05:04.003Z"
   },
   {
    "duration": 131,
    "start_time": "2023-05-14T05:05:04.023Z"
   },
   {
    "duration": 63,
    "start_time": "2023-05-14T05:05:04.156Z"
   },
   {
    "duration": 7,
    "start_time": "2023-05-14T05:05:04.220Z"
   },
   {
    "duration": 33,
    "start_time": "2023-05-14T05:05:04.229Z"
   },
   {
    "duration": 39,
    "start_time": "2023-05-14T05:05:04.264Z"
   },
   {
    "duration": 25,
    "start_time": "2023-05-14T05:05:04.304Z"
   },
   {
    "duration": 48,
    "start_time": "2023-05-14T05:05:04.331Z"
   },
   {
    "duration": 74,
    "start_time": "2023-05-14T05:05:04.381Z"
   },
   {
    "duration": 8,
    "start_time": "2023-05-14T05:05:04.457Z"
   },
   {
    "duration": 32,
    "start_time": "2023-05-14T05:05:04.466Z"
   },
   {
    "duration": 921,
    "start_time": "2023-05-14T05:05:04.500Z"
   },
   {
    "duration": 951,
    "start_time": "2023-05-14T05:05:05.423Z"
   },
   {
    "duration": 972,
    "start_time": "2023-05-14T05:05:06.376Z"
   },
   {
    "duration": 602,
    "start_time": "2023-05-14T05:05:07.349Z"
   },
   {
    "duration": 11,
    "start_time": "2023-05-14T05:05:07.952Z"
   },
   {
    "duration": 1056,
    "start_time": "2023-05-14T05:05:07.965Z"
   },
   {
    "duration": 88,
    "start_time": "2023-05-14T05:05:09.023Z"
   },
   {
    "duration": 1162,
    "start_time": "2023-05-14T05:05:09.112Z"
   },
   {
    "duration": 3,
    "start_time": "2023-05-14T05:05:10.276Z"
   },
   {
    "duration": 20,
    "start_time": "2023-05-14T05:05:10.285Z"
   },
   {
    "duration": 37,
    "start_time": "2023-05-14T05:05:10.306Z"
   },
   {
    "duration": 38,
    "start_time": "2023-05-14T05:05:10.344Z"
   },
   {
    "duration": 28,
    "start_time": "2023-05-14T05:05:10.384Z"
   },
   {
    "duration": 11,
    "start_time": "2023-05-14T05:05:10.414Z"
   },
   {
    "duration": 21,
    "start_time": "2023-05-14T05:05:10.427Z"
   },
   {
    "duration": 6,
    "start_time": "2023-05-14T05:05:10.452Z"
   },
   {
    "duration": 13,
    "start_time": "2023-05-14T05:05:10.459Z"
   },
   {
    "duration": 20054,
    "start_time": "2023-05-14T05:05:10.473Z"
   },
   {
    "duration": 1435,
    "start_time": "2023-05-14T05:15:03.439Z"
   },
   {
    "duration": 674,
    "start_time": "2023-05-14T05:15:04.876Z"
   },
   {
    "duration": 19,
    "start_time": "2023-05-14T05:15:05.551Z"
   },
   {
    "duration": 24,
    "start_time": "2023-05-14T05:15:05.571Z"
   },
   {
    "duration": 31,
    "start_time": "2023-05-14T05:15:05.597Z"
   },
   {
    "duration": 19,
    "start_time": "2023-05-14T05:15:05.629Z"
   },
   {
    "duration": 15,
    "start_time": "2023-05-14T05:15:05.649Z"
   },
   {
    "duration": 33,
    "start_time": "2023-05-14T05:15:05.665Z"
   },
   {
    "duration": 3,
    "start_time": "2023-05-14T05:15:05.699Z"
   },
   {
    "duration": 13,
    "start_time": "2023-05-14T05:15:05.704Z"
   },
   {
    "duration": 14,
    "start_time": "2023-05-14T05:15:05.718Z"
   },
   {
    "duration": 21,
    "start_time": "2023-05-14T05:15:05.733Z"
   },
   {
    "duration": 15,
    "start_time": "2023-05-14T05:15:05.755Z"
   },
   {
    "duration": 111,
    "start_time": "2023-05-14T05:15:05.773Z"
   },
   {
    "duration": 21,
    "start_time": "2023-05-14T05:15:05.885Z"
   },
   {
    "duration": 121,
    "start_time": "2023-05-14T05:15:05.908Z"
   },
   {
    "duration": 66,
    "start_time": "2023-05-14T05:15:06.031Z"
   },
   {
    "duration": 6,
    "start_time": "2023-05-14T05:15:06.099Z"
   },
   {
    "duration": 29,
    "start_time": "2023-05-14T05:15:06.106Z"
   },
   {
    "duration": 12,
    "start_time": "2023-05-14T05:15:06.136Z"
   },
   {
    "duration": 17,
    "start_time": "2023-05-14T05:15:06.150Z"
   },
   {
    "duration": 40,
    "start_time": "2023-05-14T05:15:06.168Z"
   },
   {
    "duration": 26,
    "start_time": "2023-05-14T05:15:06.209Z"
   },
   {
    "duration": 6,
    "start_time": "2023-05-14T05:15:06.236Z"
   },
   {
    "duration": 29,
    "start_time": "2023-05-14T05:15:06.243Z"
   },
   {
    "duration": 818,
    "start_time": "2023-05-14T05:15:06.273Z"
   },
   {
    "duration": 791,
    "start_time": "2023-05-14T05:15:07.093Z"
   },
   {
    "duration": 944,
    "start_time": "2023-05-14T05:15:07.886Z"
   },
   {
    "duration": 521,
    "start_time": "2023-05-14T05:15:08.831Z"
   },
   {
    "duration": 10,
    "start_time": "2023-05-14T05:15:09.354Z"
   },
   {
    "duration": 935,
    "start_time": "2023-05-14T05:15:09.365Z"
   },
   {
    "duration": 68,
    "start_time": "2023-05-14T05:15:10.301Z"
   },
   {
    "duration": 1003,
    "start_time": "2023-05-14T05:15:10.371Z"
   },
   {
    "duration": 3,
    "start_time": "2023-05-14T05:15:11.375Z"
   },
   {
    "duration": 35,
    "start_time": "2023-05-14T05:15:11.384Z"
   },
   {
    "duration": 23,
    "start_time": "2023-05-14T05:15:11.421Z"
   },
   {
    "duration": 39,
    "start_time": "2023-05-14T05:15:11.446Z"
   },
   {
    "duration": 5,
    "start_time": "2023-05-14T05:15:11.486Z"
   },
   {
    "duration": 25,
    "start_time": "2023-05-14T05:15:11.492Z"
   },
   {
    "duration": 12,
    "start_time": "2023-05-14T05:15:11.519Z"
   },
   {
    "duration": 28,
    "start_time": "2023-05-14T05:15:11.534Z"
   },
   {
    "duration": 16,
    "start_time": "2023-05-14T05:15:11.564Z"
   },
   {
    "duration": 18687,
    "start_time": "2023-05-14T05:15:11.581Z"
   },
   {
    "duration": 1127596,
    "start_time": "2023-05-14T05:15:30.270Z"
   },
   {
    "duration": 2637,
    "start_time": "2023-05-14T05:34:17.867Z"
   },
   {
    "duration": 22159,
    "start_time": "2023-05-14T05:34:20.506Z"
   },
   {
    "duration": 11,
    "start_time": "2023-05-15T06:50:46.699Z"
   },
   {
    "duration": 242,
    "start_time": "2023-05-15T06:50:56.438Z"
   },
   {
    "duration": 1556,
    "start_time": "2023-05-15T07:49:08.580Z"
   },
   {
    "duration": 3142,
    "start_time": "2023-05-15T09:41:18.363Z"
   },
   {
    "duration": 22,
    "start_time": "2023-05-15T09:41:34.587Z"
   },
   {
    "duration": 689,
    "start_time": "2023-05-15T10:47:14.444Z"
   },
   {
    "duration": 1339,
    "start_time": "2023-05-15T11:47:52.500Z"
   },
   {
    "duration": 862,
    "start_time": "2023-05-15T11:47:53.841Z"
   },
   {
    "duration": 30,
    "start_time": "2023-05-15T11:47:54.704Z"
   },
   {
    "duration": 18,
    "start_time": "2023-05-15T11:47:54.736Z"
   },
   {
    "duration": 22,
    "start_time": "2023-05-15T11:47:54.776Z"
   },
   {
    "duration": 16,
    "start_time": "2023-05-15T11:47:54.799Z"
   },
   {
    "duration": 20,
    "start_time": "2023-05-15T11:47:54.816Z"
   },
   {
    "duration": 46,
    "start_time": "2023-05-15T11:47:54.838Z"
   },
   {
    "duration": 3,
    "start_time": "2023-05-15T11:47:54.886Z"
   },
   {
    "duration": 12,
    "start_time": "2023-05-15T11:47:54.892Z"
   },
   {
    "duration": 5,
    "start_time": "2023-05-15T11:47:54.906Z"
   },
   {
    "duration": 12,
    "start_time": "2023-05-15T11:47:54.913Z"
   },
   {
    "duration": 53,
    "start_time": "2023-05-15T11:47:54.927Z"
   },
   {
    "duration": 143,
    "start_time": "2023-05-15T11:47:54.982Z"
   },
   {
    "duration": 18,
    "start_time": "2023-05-15T11:47:55.127Z"
   },
   {
    "duration": 129,
    "start_time": "2023-05-15T11:47:55.147Z"
   },
   {
    "duration": 54,
    "start_time": "2023-05-15T11:47:55.278Z"
   },
   {
    "duration": 7,
    "start_time": "2023-05-15T11:47:55.333Z"
   },
   {
    "duration": 50,
    "start_time": "2023-05-15T11:47:55.341Z"
   },
   {
    "duration": 18,
    "start_time": "2023-05-15T11:47:55.393Z"
   },
   {
    "duration": 5,
    "start_time": "2023-05-15T11:47:55.413Z"
   },
   {
    "duration": 25,
    "start_time": "2023-05-15T11:47:55.419Z"
   },
   {
    "duration": 53,
    "start_time": "2023-05-15T11:47:55.446Z"
   },
   {
    "duration": 8,
    "start_time": "2023-05-15T11:47:55.501Z"
   },
   {
    "duration": 36,
    "start_time": "2023-05-15T11:47:55.511Z"
   },
   {
    "duration": 1091,
    "start_time": "2023-05-15T11:47:55.550Z"
   },
   {
    "duration": 1027,
    "start_time": "2023-05-15T11:47:56.643Z"
   },
   {
    "duration": 1123,
    "start_time": "2023-05-15T11:47:57.676Z"
   },
   {
    "duration": 97,
    "start_time": "2023-05-15T11:47:58.802Z"
   },
   {
    "duration": 697,
    "start_time": "2023-05-15T11:47:58.901Z"
   },
   {
    "duration": 13,
    "start_time": "2023-05-15T11:47:59.600Z"
   },
   {
    "duration": 1256,
    "start_time": "2023-05-15T11:47:59.615Z"
   },
   {
    "duration": 1411,
    "start_time": "2023-05-15T11:48:00.875Z"
   },
   {
    "duration": 3,
    "start_time": "2023-05-15T11:48:02.288Z"
   },
   {
    "duration": 25,
    "start_time": "2023-05-15T11:48:02.293Z"
   },
   {
    "duration": 37,
    "start_time": "2023-05-15T11:48:02.320Z"
   },
   {
    "duration": 75,
    "start_time": "2023-05-15T11:48:02.359Z"
   },
   {
    "duration": 41,
    "start_time": "2023-05-15T11:48:02.436Z"
   },
   {
    "duration": 38,
    "start_time": "2023-05-15T11:48:02.479Z"
   },
   {
    "duration": 34,
    "start_time": "2023-05-15T11:48:02.519Z"
   },
   {
    "duration": 27,
    "start_time": "2023-05-15T11:48:02.554Z"
   },
   {
    "duration": 21,
    "start_time": "2023-05-15T11:48:02.583Z"
   },
   {
    "duration": 19114,
    "start_time": "2023-05-15T11:48:02.606Z"
   },
   {
    "duration": 1082699,
    "start_time": "2023-05-15T11:48:21.721Z"
   },
   {
    "duration": 2358,
    "start_time": "2023-05-15T12:06:24.422Z"
   },
   {
    "duration": 19813,
    "start_time": "2023-05-15T12:06:26.785Z"
   },
   {
    "duration": 1269,
    "start_time": "2023-05-15T12:08:21.495Z"
   },
   {
    "duration": 745,
    "start_time": "2023-05-15T12:08:22.766Z"
   },
   {
    "duration": 23,
    "start_time": "2023-05-15T12:08:23.513Z"
   },
   {
    "duration": 17,
    "start_time": "2023-05-15T12:08:23.538Z"
   },
   {
    "duration": 20,
    "start_time": "2023-05-15T12:08:23.574Z"
   },
   {
    "duration": 13,
    "start_time": "2023-05-15T12:08:23.596Z"
   },
   {
    "duration": 21,
    "start_time": "2023-05-15T12:08:23.611Z"
   },
   {
    "duration": 45,
    "start_time": "2023-05-15T12:08:23.633Z"
   },
   {
    "duration": 3,
    "start_time": "2023-05-15T12:08:23.680Z"
   },
   {
    "duration": 12,
    "start_time": "2023-05-15T12:08:23.685Z"
   },
   {
    "duration": 5,
    "start_time": "2023-05-15T12:08:23.698Z"
   },
   {
    "duration": 7,
    "start_time": "2023-05-15T12:08:23.704Z"
   },
   {
    "duration": 9,
    "start_time": "2023-05-15T12:08:23.712Z"
   },
   {
    "duration": 154,
    "start_time": "2023-05-15T12:08:23.723Z"
   },
   {
    "duration": 18,
    "start_time": "2023-05-15T12:08:23.879Z"
   },
   {
    "duration": 129,
    "start_time": "2023-05-15T12:08:23.899Z"
   },
   {
    "duration": 77,
    "start_time": "2023-05-15T12:08:24.030Z"
   },
   {
    "duration": 8,
    "start_time": "2023-05-15T12:08:24.110Z"
   },
   {
    "duration": 25,
    "start_time": "2023-05-15T12:08:24.120Z"
   },
   {
    "duration": 44,
    "start_time": "2023-05-15T12:08:24.147Z"
   },
   {
    "duration": 4,
    "start_time": "2023-05-15T12:08:24.193Z"
   },
   {
    "duration": 22,
    "start_time": "2023-05-15T12:08:24.198Z"
   },
   {
    "duration": 54,
    "start_time": "2023-05-15T12:08:24.222Z"
   },
   {
    "duration": 8,
    "start_time": "2023-05-15T12:08:24.278Z"
   },
   {
    "duration": 20,
    "start_time": "2023-05-15T12:08:24.287Z"
   },
   {
    "duration": 1024,
    "start_time": "2023-05-15T12:08:24.309Z"
   },
   {
    "duration": 1037,
    "start_time": "2023-05-15T12:08:25.335Z"
   },
   {
    "duration": 1035,
    "start_time": "2023-05-15T12:08:26.376Z"
   },
   {
    "duration": 100,
    "start_time": "2023-05-15T12:08:27.413Z"
   },
   {
    "duration": 709,
    "start_time": "2023-05-15T12:08:27.516Z"
   },
   {
    "duration": 12,
    "start_time": "2023-05-15T12:08:28.227Z"
   },
   {
    "duration": 1190,
    "start_time": "2023-05-15T12:08:28.241Z"
   },
   {
    "duration": 49,
    "start_time": "2023-05-15T12:08:29.435Z"
   },
   {
    "duration": 1306,
    "start_time": "2023-05-15T12:08:29.486Z"
   },
   {
    "duration": 6,
    "start_time": "2023-05-15T12:08:30.794Z"
   },
   {
    "duration": 33,
    "start_time": "2023-05-15T12:08:30.801Z"
   },
   {
    "duration": 81,
    "start_time": "2023-05-15T12:08:30.836Z"
   },
   {
    "duration": 65,
    "start_time": "2023-05-15T12:08:30.919Z"
   },
   {
    "duration": 9,
    "start_time": "2023-05-15T12:08:30.985Z"
   },
   {
    "duration": 30,
    "start_time": "2023-05-15T12:08:30.996Z"
   },
   {
    "duration": 37,
    "start_time": "2023-05-15T12:08:31.028Z"
   },
   {
    "duration": 51,
    "start_time": "2023-05-15T12:08:31.067Z"
   },
   {
    "duration": 46,
    "start_time": "2023-05-15T12:08:31.120Z"
   },
   {
    "duration": 30,
    "start_time": "2023-05-15T12:08:31.167Z"
   },
   {
    "duration": 49,
    "start_time": "2023-05-15T12:08:31.198Z"
   },
   {
    "duration": 138,
    "start_time": "2023-05-15T12:08:31.249Z"
   },
   {
    "duration": 0,
    "start_time": "2023-05-15T12:08:31.389Z"
   },
   {
    "duration": 1358,
    "start_time": "2023-05-15T12:11:38.751Z"
   },
   {
    "duration": 753,
    "start_time": "2023-05-15T12:11:40.111Z"
   },
   {
    "duration": 24,
    "start_time": "2023-05-15T12:11:40.866Z"
   },
   {
    "duration": 23,
    "start_time": "2023-05-15T12:11:40.891Z"
   },
   {
    "duration": 18,
    "start_time": "2023-05-15T12:11:40.916Z"
   },
   {
    "duration": 13,
    "start_time": "2023-05-15T12:11:40.935Z"
   },
   {
    "duration": 18,
    "start_time": "2023-05-15T12:11:40.975Z"
   },
   {
    "duration": 15,
    "start_time": "2023-05-15T12:11:40.994Z"
   },
   {
    "duration": 3,
    "start_time": "2023-05-15T12:11:41.010Z"
   },
   {
    "duration": 22,
    "start_time": "2023-05-15T12:11:41.014Z"
   },
   {
    "duration": 8,
    "start_time": "2023-05-15T12:11:41.037Z"
   },
   {
    "duration": 6,
    "start_time": "2023-05-15T12:11:41.046Z"
   },
   {
    "duration": 30,
    "start_time": "2023-05-15T12:11:41.053Z"
   },
   {
    "duration": 128,
    "start_time": "2023-05-15T12:11:41.086Z"
   },
   {
    "duration": 18,
    "start_time": "2023-05-15T12:11:41.215Z"
   },
   {
    "duration": 117,
    "start_time": "2023-05-15T12:11:41.235Z"
   },
   {
    "duration": 66,
    "start_time": "2023-05-15T12:11:41.354Z"
   },
   {
    "duration": 7,
    "start_time": "2023-05-15T12:11:41.422Z"
   },
   {
    "duration": 21,
    "start_time": "2023-05-15T12:11:41.431Z"
   },
   {
    "duration": 16,
    "start_time": "2023-05-15T12:11:41.475Z"
   },
   {
    "duration": 5,
    "start_time": "2023-05-15T12:11:41.492Z"
   },
   {
    "duration": 24,
    "start_time": "2023-05-15T12:11:41.499Z"
   },
   {
    "duration": 19,
    "start_time": "2023-05-15T12:11:41.525Z"
   },
   {
    "duration": 8,
    "start_time": "2023-05-15T12:11:41.575Z"
   },
   {
    "duration": 23,
    "start_time": "2023-05-15T12:11:41.584Z"
   },
   {
    "duration": 948,
    "start_time": "2023-05-15T12:11:41.609Z"
   },
   {
    "duration": 903,
    "start_time": "2023-05-15T12:11:42.559Z"
   },
   {
    "duration": 1069,
    "start_time": "2023-05-15T12:11:43.463Z"
   },
   {
    "duration": 94,
    "start_time": "2023-05-15T12:11:44.534Z"
   },
   {
    "duration": 602,
    "start_time": "2023-05-15T12:11:44.630Z"
   },
   {
    "duration": 11,
    "start_time": "2023-05-15T12:11:45.233Z"
   },
   {
    "duration": 1094,
    "start_time": "2023-05-15T12:11:45.246Z"
   },
   {
    "duration": 2010,
    "start_time": "2023-05-15T12:11:46.341Z"
   },
   {
    "duration": 36,
    "start_time": "2023-05-15T12:11:48.352Z"
   },
   {
    "duration": 75,
    "start_time": "2023-05-15T12:11:48.390Z"
   },
   {
    "duration": 3,
    "start_time": "2023-05-15T12:11:48.475Z"
   },
   {
    "duration": 14,
    "start_time": "2023-05-15T12:11:48.480Z"
   },
   {
    "duration": 10,
    "start_time": "2023-05-15T12:11:48.495Z"
   },
   {
    "duration": 21,
    "start_time": "2023-05-15T12:11:48.507Z"
   },
   {
    "duration": 4,
    "start_time": "2023-05-15T12:11:48.530Z"
   },
   {
    "duration": 6,
    "start_time": "2023-05-15T12:11:48.538Z"
   },
   {
    "duration": 35,
    "start_time": "2023-05-15T12:11:48.546Z"
   },
   {
    "duration": 12,
    "start_time": "2023-05-15T12:11:48.583Z"
   },
   {
    "duration": 4,
    "start_time": "2023-05-15T12:11:48.597Z"
   },
   {
    "duration": 3,
    "start_time": "2023-05-15T12:11:48.602Z"
   },
   {
    "duration": 6,
    "start_time": "2023-05-15T12:11:48.607Z"
   },
   {
    "duration": 123,
    "start_time": "2023-05-15T12:11:48.614Z"
   },
   {
    "duration": 0,
    "start_time": "2023-05-15T12:11:48.739Z"
   },
   {
    "duration": 1368,
    "start_time": "2023-05-15T23:28:26.927Z"
   },
   {
    "duration": 2041,
    "start_time": "2023-05-15T23:28:28.296Z"
   },
   {
    "duration": 23,
    "start_time": "2023-05-15T23:28:30.339Z"
   },
   {
    "duration": 25,
    "start_time": "2023-05-15T23:28:30.363Z"
   },
   {
    "duration": 21,
    "start_time": "2023-05-15T23:28:30.390Z"
   },
   {
    "duration": 57,
    "start_time": "2023-05-15T23:28:30.413Z"
   },
   {
    "duration": 35,
    "start_time": "2023-05-15T23:28:30.472Z"
   },
   {
    "duration": 46,
    "start_time": "2023-05-15T23:28:30.509Z"
   },
   {
    "duration": 14,
    "start_time": "2023-05-15T23:28:30.556Z"
   },
   {
    "duration": 59,
    "start_time": "2023-05-15T23:28:30.572Z"
   },
   {
    "duration": 48,
    "start_time": "2023-05-15T23:28:30.632Z"
   },
   {
    "duration": 54,
    "start_time": "2023-05-15T23:28:30.682Z"
   },
   {
    "duration": 41,
    "start_time": "2023-05-15T23:28:30.737Z"
   },
   {
    "duration": 154,
    "start_time": "2023-05-15T23:28:30.781Z"
   },
   {
    "duration": 18,
    "start_time": "2023-05-15T23:28:30.937Z"
   },
   {
    "duration": 108,
    "start_time": "2023-05-15T23:28:30.957Z"
   },
   {
    "duration": 57,
    "start_time": "2023-05-15T23:28:31.066Z"
   },
   {
    "duration": 6,
    "start_time": "2023-05-15T23:28:31.124Z"
   },
   {
    "duration": 41,
    "start_time": "2023-05-15T23:28:31.131Z"
   },
   {
    "duration": 23,
    "start_time": "2023-05-15T23:28:31.174Z"
   },
   {
    "duration": 21,
    "start_time": "2023-05-15T23:28:31.199Z"
   },
   {
    "duration": 56,
    "start_time": "2023-05-15T23:28:31.222Z"
   },
   {
    "duration": 49,
    "start_time": "2023-05-15T23:28:31.279Z"
   },
   {
    "duration": 10,
    "start_time": "2023-05-15T23:28:31.330Z"
   },
   {
    "duration": 30,
    "start_time": "2023-05-15T23:28:31.342Z"
   },
   {
    "duration": 985,
    "start_time": "2023-05-15T23:28:31.374Z"
   },
   {
    "duration": 848,
    "start_time": "2023-05-15T23:28:32.361Z"
   },
   {
    "duration": 963,
    "start_time": "2023-05-15T23:28:33.211Z"
   },
   {
    "duration": 77,
    "start_time": "2023-05-15T23:28:34.176Z"
   },
   {
    "duration": 653,
    "start_time": "2023-05-15T23:28:34.254Z"
   },
   {
    "duration": 11,
    "start_time": "2023-05-15T23:28:34.909Z"
   },
   {
    "duration": 1070,
    "start_time": "2023-05-15T23:28:34.921Z"
   },
   {
    "duration": 1189,
    "start_time": "2023-05-15T23:28:35.994Z"
   },
   {
    "duration": 11,
    "start_time": "2023-05-15T23:28:37.184Z"
   },
   {
    "duration": 9,
    "start_time": "2023-05-15T23:28:37.198Z"
   },
   {
    "duration": 12,
    "start_time": "2023-05-15T23:28:37.208Z"
   },
   {
    "duration": 21,
    "start_time": "2023-05-15T23:28:37.221Z"
   },
   {
    "duration": 4,
    "start_time": "2023-05-15T23:28:37.244Z"
   },
   {
    "duration": 9,
    "start_time": "2023-05-15T23:28:37.249Z"
   },
   {
    "duration": 13,
    "start_time": "2023-05-15T23:28:37.259Z"
   },
   {
    "duration": 4,
    "start_time": "2023-05-15T23:28:37.296Z"
   },
   {
    "duration": 10,
    "start_time": "2023-05-15T23:28:37.302Z"
   },
   {
    "duration": 9,
    "start_time": "2023-05-15T23:28:37.313Z"
   },
   {
    "duration": 5,
    "start_time": "2023-05-15T23:28:37.324Z"
   },
   {
    "duration": 15,
    "start_time": "2023-05-15T23:28:37.330Z"
   },
   {
    "duration": 25,
    "start_time": "2023-05-15T23:28:37.347Z"
   },
   {
    "duration": 76,
    "start_time": "2023-05-15T23:28:37.374Z"
   },
   {
    "duration": 117,
    "start_time": "2023-05-15T23:42:15.539Z"
   },
   {
    "duration": 77,
    "start_time": "2023-05-15T23:43:24.263Z"
   },
   {
    "duration": 9,
    "start_time": "2023-05-15T23:43:44.071Z"
   },
   {
    "duration": 9,
    "start_time": "2023-05-15T23:43:51.806Z"
   },
   {
    "duration": 11,
    "start_time": "2023-05-15T23:44:06.422Z"
   },
   {
    "duration": 10,
    "start_time": "2023-05-15T23:47:44.013Z"
   },
   {
    "duration": 54,
    "start_time": "2023-05-15T23:48:18.536Z"
   },
   {
    "duration": 12,
    "start_time": "2023-05-15T23:48:27.258Z"
   },
   {
    "duration": 104,
    "start_time": "2023-05-15T23:48:41.905Z"
   },
   {
    "duration": 381,
    "start_time": "2023-05-15T23:53:25.484Z"
   },
   {
    "duration": 47,
    "start_time": "2023-05-15T23:54:41.725Z"
   },
   {
    "duration": 498,
    "start_time": "2023-05-15T23:55:33.062Z"
   },
   {
    "duration": 65,
    "start_time": "2023-05-15T23:56:57.088Z"
   },
   {
    "duration": 352,
    "start_time": "2023-05-15T23:57:02.071Z"
   },
   {
    "duration": 415,
    "start_time": "2023-05-15T23:57:17.751Z"
   },
   {
    "duration": 310,
    "start_time": "2023-05-15T23:57:58.607Z"
   },
   {
    "duration": 384,
    "start_time": "2023-05-15T23:58:24.408Z"
   },
   {
    "duration": 381,
    "start_time": "2023-05-15T23:58:43.224Z"
   },
   {
    "duration": 329,
    "start_time": "2023-05-15T23:58:49.728Z"
   },
   {
    "duration": 354,
    "start_time": "2023-05-16T00:01:06.122Z"
   },
   {
    "duration": 418,
    "start_time": "2023-05-16T00:01:39.970Z"
   },
   {
    "duration": 467,
    "start_time": "2023-05-16T00:02:36.323Z"
   },
   {
    "duration": 380,
    "start_time": "2023-05-16T00:02:47.211Z"
   },
   {
    "duration": 390,
    "start_time": "2023-05-16T00:04:32.749Z"
   },
   {
    "duration": 347,
    "start_time": "2023-05-16T00:05:26.437Z"
   },
   {
    "duration": 437,
    "start_time": "2023-05-16T00:06:00.485Z"
   },
   {
    "duration": 537,
    "start_time": "2023-05-16T00:06:33.798Z"
   },
   {
    "duration": 461,
    "start_time": "2023-05-16T00:07:18.454Z"
   },
   {
    "duration": 462,
    "start_time": "2023-05-16T00:08:04.862Z"
   },
   {
    "duration": 612,
    "start_time": "2023-05-16T00:08:19.590Z"
   },
   {
    "duration": 442,
    "start_time": "2023-05-16T00:09:36.247Z"
   },
   {
    "duration": 3,
    "start_time": "2023-05-16T00:36:21.748Z"
   },
   {
    "duration": 1392,
    "start_time": "2023-05-16T02:37:30.710Z"
   },
   {
    "duration": 828,
    "start_time": "2023-05-16T02:37:32.105Z"
   },
   {
    "duration": 24,
    "start_time": "2023-05-16T02:37:32.936Z"
   },
   {
    "duration": 39,
    "start_time": "2023-05-16T02:37:32.962Z"
   },
   {
    "duration": 24,
    "start_time": "2023-05-16T02:37:33.002Z"
   },
   {
    "duration": 20,
    "start_time": "2023-05-16T02:37:33.027Z"
   },
   {
    "duration": 19,
    "start_time": "2023-05-16T02:37:33.049Z"
   },
   {
    "duration": 36,
    "start_time": "2023-05-16T02:37:33.070Z"
   },
   {
    "duration": 3,
    "start_time": "2023-05-16T02:37:33.108Z"
   },
   {
    "duration": 30,
    "start_time": "2023-05-16T02:37:33.114Z"
   },
   {
    "duration": 4,
    "start_time": "2023-05-16T02:37:33.146Z"
   },
   {
    "duration": 16,
    "start_time": "2023-05-16T02:37:33.152Z"
   },
   {
    "duration": 17,
    "start_time": "2023-05-16T02:37:33.170Z"
   },
   {
    "duration": 138,
    "start_time": "2023-05-16T02:37:33.188Z"
   },
   {
    "duration": 20,
    "start_time": "2023-05-16T02:37:33.327Z"
   },
   {
    "duration": 116,
    "start_time": "2023-05-16T02:37:33.349Z"
   },
   {
    "duration": 64,
    "start_time": "2023-05-16T02:37:33.467Z"
   },
   {
    "duration": 6,
    "start_time": "2023-05-16T02:37:33.533Z"
   },
   {
    "duration": 19,
    "start_time": "2023-05-16T02:37:33.540Z"
   },
   {
    "duration": 36,
    "start_time": "2023-05-16T02:37:33.561Z"
   },
   {
    "duration": 13,
    "start_time": "2023-05-16T02:37:33.598Z"
   },
   {
    "duration": 29,
    "start_time": "2023-05-16T02:37:33.613Z"
   },
   {
    "duration": 18,
    "start_time": "2023-05-16T02:37:33.644Z"
   },
   {
    "duration": 7,
    "start_time": "2023-05-16T02:37:33.664Z"
   },
   {
    "duration": 79,
    "start_time": "2023-05-16T02:37:33.672Z"
   },
   {
    "duration": 1048,
    "start_time": "2023-05-16T02:37:33.753Z"
   },
   {
    "duration": 968,
    "start_time": "2023-05-16T02:37:34.807Z"
   },
   {
    "duration": 923,
    "start_time": "2023-05-16T02:37:35.777Z"
   },
   {
    "duration": 206,
    "start_time": "2023-05-16T02:37:36.704Z"
   },
   {
    "duration": 426,
    "start_time": "2023-05-16T02:37:36.911Z"
   },
   {
    "duration": 11,
    "start_time": "2023-05-16T02:37:37.339Z"
   },
   {
    "duration": 1138,
    "start_time": "2023-05-16T02:37:37.352Z"
   },
   {
    "duration": 7,
    "start_time": "2023-05-16T02:37:38.492Z"
   },
   {
    "duration": 9,
    "start_time": "2023-05-16T02:37:38.505Z"
   },
   {
    "duration": 15,
    "start_time": "2023-05-16T02:37:38.515Z"
   },
   {
    "duration": 22,
    "start_time": "2023-05-16T02:37:38.531Z"
   },
   {
    "duration": 5,
    "start_time": "2023-05-16T02:37:38.554Z"
   },
   {
    "duration": 13,
    "start_time": "2023-05-16T02:37:38.560Z"
   },
   {
    "duration": 27,
    "start_time": "2023-05-16T02:37:38.575Z"
   },
   {
    "duration": 12,
    "start_time": "2023-05-16T02:37:38.609Z"
   },
   {
    "duration": 112,
    "start_time": "2023-05-16T02:37:38.623Z"
   },
   {
    "duration": 0,
    "start_time": "2023-05-16T02:37:38.736Z"
   },
   {
    "duration": 0,
    "start_time": "2023-05-16T02:37:38.737Z"
   },
   {
    "duration": 0,
    "start_time": "2023-05-16T02:37:38.738Z"
   },
   {
    "duration": 0,
    "start_time": "2023-05-16T02:37:38.739Z"
   },
   {
    "duration": 0,
    "start_time": "2023-05-16T02:37:38.740Z"
   },
   {
    "duration": 0,
    "start_time": "2023-05-16T02:37:38.742Z"
   },
   {
    "duration": 1300,
    "start_time": "2023-05-16T02:48:06.716Z"
   },
   {
    "duration": 896,
    "start_time": "2023-05-16T02:48:08.018Z"
   },
   {
    "duration": 25,
    "start_time": "2023-05-16T02:48:08.916Z"
   },
   {
    "duration": 17,
    "start_time": "2023-05-16T02:48:08.943Z"
   },
   {
    "duration": 47,
    "start_time": "2023-05-16T02:48:08.963Z"
   },
   {
    "duration": 15,
    "start_time": "2023-05-16T02:48:09.012Z"
   },
   {
    "duration": 21,
    "start_time": "2023-05-16T02:48:09.029Z"
   },
   {
    "duration": 15,
    "start_time": "2023-05-16T02:48:09.052Z"
   },
   {
    "duration": 32,
    "start_time": "2023-05-16T02:48:09.069Z"
   },
   {
    "duration": 18,
    "start_time": "2023-05-16T02:48:09.103Z"
   },
   {
    "duration": 4,
    "start_time": "2023-05-16T02:48:09.123Z"
   },
   {
    "duration": 7,
    "start_time": "2023-05-16T02:48:09.129Z"
   },
   {
    "duration": 13,
    "start_time": "2023-05-16T02:48:09.138Z"
   },
   {
    "duration": 128,
    "start_time": "2023-05-16T02:48:09.154Z"
   },
   {
    "duration": 28,
    "start_time": "2023-05-16T02:48:09.284Z"
   },
   {
    "duration": 107,
    "start_time": "2023-05-16T02:48:09.314Z"
   },
   {
    "duration": 54,
    "start_time": "2023-05-16T02:48:09.423Z"
   },
   {
    "duration": 23,
    "start_time": "2023-05-16T02:48:09.478Z"
   },
   {
    "duration": 24,
    "start_time": "2023-05-16T02:48:09.502Z"
   },
   {
    "duration": 17,
    "start_time": "2023-05-16T02:48:09.528Z"
   },
   {
    "duration": 4,
    "start_time": "2023-05-16T02:48:09.547Z"
   },
   {
    "duration": 47,
    "start_time": "2023-05-16T02:48:09.552Z"
   },
   {
    "duration": 27,
    "start_time": "2023-05-16T02:48:09.600Z"
   },
   {
    "duration": 6,
    "start_time": "2023-05-16T02:48:09.629Z"
   },
   {
    "duration": 20,
    "start_time": "2023-05-16T02:48:09.637Z"
   },
   {
    "duration": 1054,
    "start_time": "2023-05-16T02:48:09.658Z"
   },
   {
    "duration": 1010,
    "start_time": "2023-05-16T02:48:10.714Z"
   },
   {
    "duration": 946,
    "start_time": "2023-05-16T02:48:11.725Z"
   },
   {
    "duration": 207,
    "start_time": "2023-05-16T02:48:12.672Z"
   },
   {
    "duration": 443,
    "start_time": "2023-05-16T02:48:12.881Z"
   },
   {
    "duration": 11,
    "start_time": "2023-05-16T02:48:13.325Z"
   },
   {
    "duration": 1142,
    "start_time": "2023-05-16T02:48:13.337Z"
   },
   {
    "duration": 4,
    "start_time": "2023-05-16T02:48:14.480Z"
   },
   {
    "duration": 25,
    "start_time": "2023-05-16T02:48:14.485Z"
   },
   {
    "duration": 16,
    "start_time": "2023-05-16T02:48:14.512Z"
   },
   {
    "duration": 35,
    "start_time": "2023-05-16T02:48:14.530Z"
   },
   {
    "duration": 6,
    "start_time": "2023-05-16T02:48:14.568Z"
   },
   {
    "duration": 21,
    "start_time": "2023-05-16T02:48:14.576Z"
   },
   {
    "duration": 35,
    "start_time": "2023-05-16T02:48:14.601Z"
   },
   {
    "duration": 30,
    "start_time": "2023-05-16T02:48:14.638Z"
   },
   {
    "duration": 36,
    "start_time": "2023-05-16T02:48:14.672Z"
   },
   {
    "duration": 3,
    "start_time": "2023-05-16T02:48:14.710Z"
   },
   {
    "duration": 9093,
    "start_time": "2023-05-16T02:48:14.718Z"
   },
   {
    "duration": 2,
    "start_time": "2023-05-16T02:48:23.813Z"
   },
   {
    "duration": 5,
    "start_time": "2023-05-16T02:48:23.817Z"
   },
   {
    "duration": 5,
    "start_time": "2023-05-16T02:48:23.823Z"
   },
   {
    "duration": 93,
    "start_time": "2023-05-16T02:48:23.829Z"
   },
   {
    "duration": 9369,
    "start_time": "2023-05-16T02:50:15.820Z"
   },
   {
    "duration": 9116,
    "start_time": "2023-05-16T02:51:18.788Z"
   },
   {
    "duration": 9276,
    "start_time": "2023-05-16T02:51:59.775Z"
   },
   {
    "duration": 9216,
    "start_time": "2023-05-16T02:54:45.313Z"
   },
   {
    "duration": 9198,
    "start_time": "2023-05-16T02:55:55.016Z"
   },
   {
    "duration": 9167,
    "start_time": "2023-05-16T02:56:53.740Z"
   },
   {
    "duration": 9470,
    "start_time": "2023-05-16T02:57:40.056Z"
   },
   {
    "duration": 9370,
    "start_time": "2023-05-16T02:58:01.379Z"
   },
   {
    "duration": 1295,
    "start_time": "2023-05-16T04:55:19.430Z"
   },
   {
    "duration": 813,
    "start_time": "2023-05-16T04:55:20.727Z"
   },
   {
    "duration": 23,
    "start_time": "2023-05-16T04:55:21.542Z"
   },
   {
    "duration": 33,
    "start_time": "2023-05-16T04:55:21.566Z"
   },
   {
    "duration": 20,
    "start_time": "2023-05-16T04:55:21.607Z"
   },
   {
    "duration": 20,
    "start_time": "2023-05-16T04:55:21.628Z"
   },
   {
    "duration": 19,
    "start_time": "2023-05-16T04:55:21.649Z"
   },
   {
    "duration": 30,
    "start_time": "2023-05-16T04:55:21.669Z"
   },
   {
    "duration": 5,
    "start_time": "2023-05-16T04:55:21.701Z"
   },
   {
    "duration": 21,
    "start_time": "2023-05-16T04:55:21.709Z"
   },
   {
    "duration": 5,
    "start_time": "2023-05-16T04:55:21.732Z"
   },
   {
    "duration": 7,
    "start_time": "2023-05-16T04:55:21.738Z"
   },
   {
    "duration": 9,
    "start_time": "2023-05-16T04:55:21.747Z"
   },
   {
    "duration": 129,
    "start_time": "2023-05-16T04:55:21.759Z"
   },
   {
    "duration": 30,
    "start_time": "2023-05-16T04:55:21.889Z"
   },
   {
    "duration": 108,
    "start_time": "2023-05-16T04:55:21.920Z"
   },
   {
    "duration": 52,
    "start_time": "2023-05-16T04:55:22.030Z"
   },
   {
    "duration": 21,
    "start_time": "2023-05-16T04:55:22.083Z"
   },
   {
    "duration": 69,
    "start_time": "2023-05-16T04:55:22.108Z"
   },
   {
    "duration": 24,
    "start_time": "2023-05-16T04:55:22.180Z"
   },
   {
    "duration": 6,
    "start_time": "2023-05-16T04:55:22.208Z"
   },
   {
    "duration": 44,
    "start_time": "2023-05-16T04:55:22.216Z"
   },
   {
    "duration": 25,
    "start_time": "2023-05-16T04:55:22.262Z"
   },
   {
    "duration": 15,
    "start_time": "2023-05-16T04:55:22.288Z"
   },
   {
    "duration": 29,
    "start_time": "2023-05-16T04:55:22.304Z"
   },
   {
    "duration": 992,
    "start_time": "2023-05-16T04:55:22.334Z"
   },
   {
    "duration": 1011,
    "start_time": "2023-05-16T04:55:23.327Z"
   },
   {
    "duration": 997,
    "start_time": "2023-05-16T04:55:24.340Z"
   },
   {
    "duration": 205,
    "start_time": "2023-05-16T04:55:25.338Z"
   },
   {
    "duration": 492,
    "start_time": "2023-05-16T04:55:25.544Z"
   },
   {
    "duration": 12,
    "start_time": "2023-05-16T04:55:26.038Z"
   },
   {
    "duration": 1134,
    "start_time": "2023-05-16T04:55:26.051Z"
   },
   {
    "duration": 4,
    "start_time": "2023-05-16T04:55:27.186Z"
   },
   {
    "duration": 18,
    "start_time": "2023-05-16T04:55:27.200Z"
   },
   {
    "duration": 15,
    "start_time": "2023-05-16T04:55:27.219Z"
   },
   {
    "duration": 29,
    "start_time": "2023-05-16T04:55:27.236Z"
   },
   {
    "duration": 5,
    "start_time": "2023-05-16T04:55:27.267Z"
   },
   {
    "duration": 17,
    "start_time": "2023-05-16T04:55:27.274Z"
   },
   {
    "duration": 32,
    "start_time": "2023-05-16T04:55:27.293Z"
   },
   {
    "duration": 9,
    "start_time": "2023-05-16T04:55:27.326Z"
   },
   {
    "duration": 31,
    "start_time": "2023-05-16T04:55:27.339Z"
   },
   {
    "duration": 2,
    "start_time": "2023-05-16T04:55:27.372Z"
   },
   {
    "duration": 9174,
    "start_time": "2023-05-16T04:55:27.376Z"
   },
   {
    "duration": 1551,
    "start_time": "2023-05-16T14:14:27.766Z"
   },
   {
    "duration": 3459,
    "start_time": "2023-05-16T14:14:29.323Z"
   },
   {
    "duration": 30,
    "start_time": "2023-05-16T14:14:32.783Z"
   },
   {
    "duration": 21,
    "start_time": "2023-05-16T14:14:32.818Z"
   },
   {
    "duration": 19,
    "start_time": "2023-05-16T14:14:32.841Z"
   },
   {
    "duration": 14,
    "start_time": "2023-05-16T14:14:32.861Z"
   },
   {
    "duration": 48,
    "start_time": "2023-05-16T14:14:32.877Z"
   },
   {
    "duration": 15,
    "start_time": "2023-05-16T14:14:32.927Z"
   },
   {
    "duration": 4,
    "start_time": "2023-05-16T14:14:32.944Z"
   },
   {
    "duration": 13,
    "start_time": "2023-05-16T14:14:32.950Z"
   },
   {
    "duration": 12,
    "start_time": "2023-05-16T14:14:32.965Z"
   },
   {
    "duration": 5,
    "start_time": "2023-05-16T14:14:32.979Z"
   },
   {
    "duration": 34,
    "start_time": "2023-05-16T14:14:32.986Z"
   },
   {
    "duration": 134,
    "start_time": "2023-05-16T14:14:33.023Z"
   },
   {
    "duration": 29,
    "start_time": "2023-05-16T14:14:33.159Z"
   },
   {
    "duration": 134,
    "start_time": "2023-05-16T14:14:33.190Z"
   },
   {
    "duration": 52,
    "start_time": "2023-05-16T14:14:33.325Z"
   },
   {
    "duration": 6,
    "start_time": "2023-05-16T14:14:33.378Z"
   },
   {
    "duration": 35,
    "start_time": "2023-05-16T14:14:33.385Z"
   },
   {
    "duration": 17,
    "start_time": "2023-05-16T14:14:33.428Z"
   },
   {
    "duration": 7,
    "start_time": "2023-05-16T14:14:33.446Z"
   },
   {
    "duration": 23,
    "start_time": "2023-05-16T14:14:33.454Z"
   },
   {
    "duration": 19,
    "start_time": "2023-05-16T14:14:33.479Z"
   },
   {
    "duration": 16,
    "start_time": "2023-05-16T14:14:33.500Z"
   },
   {
    "duration": 21,
    "start_time": "2023-05-16T14:14:33.518Z"
   },
   {
    "duration": 1047,
    "start_time": "2023-05-16T14:14:33.540Z"
   },
   {
    "duration": 1025,
    "start_time": "2023-05-16T14:14:34.588Z"
   },
   {
    "duration": 929,
    "start_time": "2023-05-16T14:14:35.616Z"
   },
   {
    "duration": 222,
    "start_time": "2023-05-16T14:14:36.547Z"
   },
   {
    "duration": 433,
    "start_time": "2023-05-16T14:14:36.770Z"
   },
   {
    "duration": 24,
    "start_time": "2023-05-16T14:14:37.204Z"
   },
   {
    "duration": 1106,
    "start_time": "2023-05-16T14:14:37.229Z"
   },
   {
    "duration": 4,
    "start_time": "2023-05-16T14:14:38.337Z"
   },
   {
    "duration": 19,
    "start_time": "2023-05-16T14:14:38.342Z"
   },
   {
    "duration": 39,
    "start_time": "2023-05-16T14:14:38.363Z"
   },
   {
    "duration": 31,
    "start_time": "2023-05-16T14:14:38.404Z"
   },
   {
    "duration": 9,
    "start_time": "2023-05-16T14:14:38.437Z"
   },
   {
    "duration": 20,
    "start_time": "2023-05-16T14:14:38.447Z"
   },
   {
    "duration": 16,
    "start_time": "2023-05-16T14:14:38.468Z"
   },
   {
    "duration": 18,
    "start_time": "2023-05-16T14:14:38.486Z"
   },
   {
    "duration": 29,
    "start_time": "2023-05-16T14:14:38.511Z"
   },
   {
    "duration": 2,
    "start_time": "2023-05-16T14:14:38.542Z"
   },
   {
    "duration": 8649,
    "start_time": "2023-05-16T14:14:38.546Z"
   },
   {
    "duration": 548170,
    "start_time": "2023-05-16T14:14:47.197Z"
   },
   {
    "duration": 1760,
    "start_time": "2023-05-16T14:23:55.369Z"
   },
   {
    "duration": 18606,
    "start_time": "2023-05-16T14:23:57.131Z"
   },
   {
    "duration": 108,
    "start_time": "2023-05-16T14:24:15.739Z"
   },
   {
    "duration": 1281,
    "start_time": "2023-05-16T14:49:58.454Z"
   },
   {
    "duration": 694,
    "start_time": "2023-05-16T14:49:59.737Z"
   },
   {
    "duration": 24,
    "start_time": "2023-05-16T14:50:00.433Z"
   },
   {
    "duration": 82,
    "start_time": "2023-05-16T14:50:00.459Z"
   },
   {
    "duration": 94,
    "start_time": "2023-05-16T14:50:00.543Z"
   },
   {
    "duration": 59,
    "start_time": "2023-05-16T14:50:00.639Z"
   },
   {
    "duration": 50,
    "start_time": "2023-05-16T14:50:00.700Z"
   },
   {
    "duration": 62,
    "start_time": "2023-05-16T14:50:00.752Z"
   },
   {
    "duration": 53,
    "start_time": "2023-05-16T14:50:00.816Z"
   },
   {
    "duration": 75,
    "start_time": "2023-05-16T14:50:00.871Z"
   },
   {
    "duration": 63,
    "start_time": "2023-05-16T14:50:00.948Z"
   },
   {
    "duration": 70,
    "start_time": "2023-05-16T14:50:01.013Z"
   },
   {
    "duration": 156,
    "start_time": "2023-05-16T14:50:01.084Z"
   },
   {
    "duration": 174,
    "start_time": "2023-05-16T14:50:01.242Z"
   },
   {
    "duration": 25,
    "start_time": "2023-05-16T14:50:01.418Z"
   },
   {
    "duration": 159,
    "start_time": "2023-05-16T14:50:01.445Z"
   },
   {
    "duration": 75,
    "start_time": "2023-05-16T14:50:01.606Z"
   },
   {
    "duration": 25,
    "start_time": "2023-05-16T14:50:01.684Z"
   },
   {
    "duration": 78,
    "start_time": "2023-05-16T14:50:01.711Z"
   },
   {
    "duration": 50,
    "start_time": "2023-05-16T14:50:01.791Z"
   },
   {
    "duration": 87,
    "start_time": "2023-05-16T14:50:01.842Z"
   },
   {
    "duration": 107,
    "start_time": "2023-05-16T14:50:01.931Z"
   },
   {
    "duration": 50,
    "start_time": "2023-05-16T14:50:02.040Z"
   },
   {
    "duration": 19,
    "start_time": "2023-05-16T14:50:02.092Z"
   },
   {
    "duration": 60,
    "start_time": "2023-05-16T14:50:02.113Z"
   },
   {
    "duration": 984,
    "start_time": "2023-05-16T14:50:02.175Z"
   },
   {
    "duration": 1010,
    "start_time": "2023-05-16T14:50:03.160Z"
   },
   {
    "duration": 863,
    "start_time": "2023-05-16T14:50:04.172Z"
   },
   {
    "duration": 205,
    "start_time": "2023-05-16T14:50:05.037Z"
   },
   {
    "duration": 478,
    "start_time": "2023-05-16T14:50:05.244Z"
   },
   {
    "duration": 11,
    "start_time": "2023-05-16T14:50:05.723Z"
   },
   {
    "duration": 1046,
    "start_time": "2023-05-16T14:50:05.735Z"
   },
   {
    "duration": 3,
    "start_time": "2023-05-16T14:50:06.783Z"
   },
   {
    "duration": 10,
    "start_time": "2023-05-16T14:50:06.787Z"
   },
   {
    "duration": 26,
    "start_time": "2023-05-16T14:50:06.799Z"
   },
   {
    "duration": 22,
    "start_time": "2023-05-16T14:50:06.827Z"
   },
   {
    "duration": 4,
    "start_time": "2023-05-16T14:50:06.851Z"
   },
   {
    "duration": 12,
    "start_time": "2023-05-16T14:50:06.857Z"
   },
   {
    "duration": 13,
    "start_time": "2023-05-16T14:50:06.871Z"
   },
   {
    "duration": 12,
    "start_time": "2023-05-16T14:50:06.886Z"
   },
   {
    "duration": 39,
    "start_time": "2023-05-16T14:50:06.912Z"
   },
   {
    "duration": 3,
    "start_time": "2023-05-16T14:50:06.952Z"
   },
   {
    "duration": 8285,
    "start_time": "2023-05-16T14:50:06.957Z"
   },
   {
    "duration": 533893,
    "start_time": "2023-05-16T14:50:15.243Z"
   },
   {
    "duration": 1377,
    "start_time": "2023-05-16T14:59:09.138Z"
   },
   {
    "duration": 18151,
    "start_time": "2023-05-16T14:59:10.517Z"
   },
   {
    "duration": 116,
    "start_time": "2023-05-16T14:59:28.669Z"
   },
   {
    "duration": 0,
    "start_time": "2023-05-16T14:59:28.786Z"
   },
   {
    "duration": 1410,
    "start_time": "2023-05-16T15:01:46.378Z"
   },
   {
    "duration": 690,
    "start_time": "2023-05-16T15:01:47.790Z"
   },
   {
    "duration": 30,
    "start_time": "2023-05-16T15:01:48.482Z"
   },
   {
    "duration": 17,
    "start_time": "2023-05-16T15:01:48.513Z"
   },
   {
    "duration": 19,
    "start_time": "2023-05-16T15:01:48.532Z"
   },
   {
    "duration": 14,
    "start_time": "2023-05-16T15:01:48.553Z"
   },
   {
    "duration": 48,
    "start_time": "2023-05-16T15:01:48.569Z"
   },
   {
    "duration": 14,
    "start_time": "2023-05-16T15:01:48.619Z"
   },
   {
    "duration": 3,
    "start_time": "2023-05-16T15:01:48.634Z"
   },
   {
    "duration": 11,
    "start_time": "2023-05-16T15:01:48.638Z"
   },
   {
    "duration": 3,
    "start_time": "2023-05-16T15:01:48.651Z"
   },
   {
    "duration": 11,
    "start_time": "2023-05-16T15:01:48.656Z"
   },
   {
    "duration": 8,
    "start_time": "2023-05-16T15:01:48.668Z"
   },
   {
    "duration": 116,
    "start_time": "2023-05-16T15:01:48.706Z"
   },
   {
    "duration": 18,
    "start_time": "2023-05-16T15:01:48.823Z"
   },
   {
    "duration": 109,
    "start_time": "2023-05-16T15:01:48.842Z"
   },
   {
    "duration": 55,
    "start_time": "2023-05-16T15:01:48.952Z"
   },
   {
    "duration": 6,
    "start_time": "2023-05-16T15:01:49.009Z"
   },
   {
    "duration": 27,
    "start_time": "2023-05-16T15:01:49.016Z"
   },
   {
    "duration": 14,
    "start_time": "2023-05-16T15:01:49.044Z"
   },
   {
    "duration": 10,
    "start_time": "2023-05-16T15:01:49.060Z"
   },
   {
    "duration": 16,
    "start_time": "2023-05-16T15:01:49.072Z"
   },
   {
    "duration": 34,
    "start_time": "2023-05-16T15:01:49.090Z"
   },
   {
    "duration": 6,
    "start_time": "2023-05-16T15:01:49.126Z"
   },
   {
    "duration": 19,
    "start_time": "2023-05-16T15:01:49.134Z"
   },
   {
    "duration": 940,
    "start_time": "2023-05-16T15:01:49.155Z"
   },
   {
    "duration": 928,
    "start_time": "2023-05-16T15:01:50.097Z"
   },
   {
    "duration": 827,
    "start_time": "2023-05-16T15:01:51.026Z"
   },
   {
    "duration": 218,
    "start_time": "2023-05-16T15:01:51.855Z"
   },
   {
    "duration": 477,
    "start_time": "2023-05-16T15:01:52.075Z"
   },
   {
    "duration": 13,
    "start_time": "2023-05-16T15:01:52.554Z"
   },
   {
    "duration": 1091,
    "start_time": "2023-05-16T15:01:52.569Z"
   },
   {
    "duration": 4,
    "start_time": "2023-05-16T15:01:53.661Z"
   },
   {
    "duration": 6,
    "start_time": "2023-05-16T15:01:53.666Z"
   },
   {
    "duration": 39,
    "start_time": "2023-05-16T15:01:53.673Z"
   },
   {
    "duration": 26,
    "start_time": "2023-05-16T15:01:53.713Z"
   },
   {
    "duration": 9,
    "start_time": "2023-05-16T15:01:53.740Z"
   },
   {
    "duration": 15,
    "start_time": "2023-05-16T15:01:53.750Z"
   },
   {
    "duration": 16,
    "start_time": "2023-05-16T15:01:53.767Z"
   },
   {
    "duration": 10,
    "start_time": "2023-05-16T15:01:53.785Z"
   },
   {
    "duration": 43,
    "start_time": "2023-05-16T15:01:53.798Z"
   },
   {
    "duration": 3,
    "start_time": "2023-05-16T15:01:53.842Z"
   },
   {
    "duration": 8306,
    "start_time": "2023-05-16T15:01:53.846Z"
   },
   {
    "duration": 1333,
    "start_time": "2023-05-16T15:11:15.498Z"
   },
   {
    "duration": 713,
    "start_time": "2023-05-16T15:11:16.834Z"
   },
   {
    "duration": 22,
    "start_time": "2023-05-16T15:11:17.548Z"
   },
   {
    "duration": 15,
    "start_time": "2023-05-16T15:11:17.571Z"
   },
   {
    "duration": 35,
    "start_time": "2023-05-16T15:11:17.588Z"
   },
   {
    "duration": 15,
    "start_time": "2023-05-16T15:11:17.625Z"
   },
   {
    "duration": 17,
    "start_time": "2023-05-16T15:11:17.642Z"
   },
   {
    "duration": 13,
    "start_time": "2023-05-16T15:11:17.660Z"
   },
   {
    "duration": 3,
    "start_time": "2023-05-16T15:11:17.674Z"
   },
   {
    "duration": 38,
    "start_time": "2023-05-16T15:11:17.678Z"
   },
   {
    "duration": 4,
    "start_time": "2023-05-16T15:11:17.717Z"
   },
   {
    "duration": 12,
    "start_time": "2023-05-16T15:11:17.722Z"
   },
   {
    "duration": 13,
    "start_time": "2023-05-16T15:11:17.735Z"
   },
   {
    "duration": 112,
    "start_time": "2023-05-16T15:11:17.751Z"
   },
   {
    "duration": 18,
    "start_time": "2023-05-16T15:11:17.865Z"
   },
   {
    "duration": 107,
    "start_time": "2023-05-16T15:11:17.885Z"
   },
   {
    "duration": 62,
    "start_time": "2023-05-16T15:11:17.993Z"
   },
   {
    "duration": 7,
    "start_time": "2023-05-16T15:11:18.057Z"
   },
   {
    "duration": 19,
    "start_time": "2023-05-16T15:11:18.065Z"
   },
   {
    "duration": 34,
    "start_time": "2023-05-16T15:11:18.086Z"
   },
   {
    "duration": 4,
    "start_time": "2023-05-16T15:11:18.121Z"
   },
   {
    "duration": 16,
    "start_time": "2023-05-16T15:11:18.126Z"
   },
   {
    "duration": 18,
    "start_time": "2023-05-16T15:11:18.143Z"
   },
   {
    "duration": 6,
    "start_time": "2023-05-16T15:11:18.163Z"
   },
   {
    "duration": 47,
    "start_time": "2023-05-16T15:11:18.170Z"
   },
   {
    "duration": 958,
    "start_time": "2023-05-16T15:11:18.218Z"
   },
   {
    "duration": 988,
    "start_time": "2023-05-16T15:11:19.178Z"
   },
   {
    "duration": 1011,
    "start_time": "2023-05-16T15:11:20.169Z"
   },
   {
    "duration": 246,
    "start_time": "2023-05-16T15:11:21.182Z"
   },
   {
    "duration": 418,
    "start_time": "2023-05-16T15:11:21.430Z"
   },
   {
    "duration": 12,
    "start_time": "2023-05-16T15:11:21.850Z"
   },
   {
    "duration": 1207,
    "start_time": "2023-05-16T15:11:21.863Z"
   },
   {
    "duration": 3,
    "start_time": "2023-05-16T15:11:23.072Z"
   },
   {
    "duration": 10,
    "start_time": "2023-05-16T15:11:23.077Z"
   },
   {
    "duration": 32,
    "start_time": "2023-05-16T15:11:23.088Z"
   },
   {
    "duration": 22,
    "start_time": "2023-05-16T15:11:23.122Z"
   },
   {
    "duration": 5,
    "start_time": "2023-05-16T15:11:23.146Z"
   },
   {
    "duration": 10,
    "start_time": "2023-05-16T15:11:23.153Z"
   },
   {
    "duration": 15,
    "start_time": "2023-05-16T15:11:23.164Z"
   },
   {
    "duration": 10,
    "start_time": "2023-05-16T15:11:23.181Z"
   },
   {
    "duration": 39,
    "start_time": "2023-05-16T15:11:23.210Z"
   },
   {
    "duration": 3,
    "start_time": "2023-05-16T15:11:23.251Z"
   },
   {
    "duration": 8443,
    "start_time": "2023-05-16T15:11:23.256Z"
   },
   {
    "duration": 1401,
    "start_time": "2023-05-16T15:26:27.880Z"
   },
   {
    "duration": 752,
    "start_time": "2023-05-16T15:26:29.283Z"
   },
   {
    "duration": 27,
    "start_time": "2023-05-16T15:26:30.036Z"
   },
   {
    "duration": 29,
    "start_time": "2023-05-16T15:26:30.065Z"
   },
   {
    "duration": 48,
    "start_time": "2023-05-16T15:26:30.097Z"
   },
   {
    "duration": 49,
    "start_time": "2023-05-16T15:26:30.146Z"
   },
   {
    "duration": 44,
    "start_time": "2023-05-16T15:26:30.197Z"
   },
   {
    "duration": 40,
    "start_time": "2023-05-16T15:26:30.243Z"
   },
   {
    "duration": 36,
    "start_time": "2023-05-16T15:26:30.285Z"
   },
   {
    "duration": 58,
    "start_time": "2023-05-16T15:26:30.322Z"
   },
   {
    "duration": 30,
    "start_time": "2023-05-16T15:26:30.382Z"
   },
   {
    "duration": 43,
    "start_time": "2023-05-16T15:26:30.414Z"
   },
   {
    "duration": 36,
    "start_time": "2023-05-16T15:26:30.459Z"
   },
   {
    "duration": 161,
    "start_time": "2023-05-16T15:26:30.498Z"
   },
   {
    "duration": 18,
    "start_time": "2023-05-16T15:26:30.661Z"
   },
   {
    "duration": 112,
    "start_time": "2023-05-16T15:26:30.680Z"
   },
   {
    "duration": 65,
    "start_time": "2023-05-16T15:26:30.793Z"
   },
   {
    "duration": 6,
    "start_time": "2023-05-16T15:26:30.859Z"
   },
   {
    "duration": 68,
    "start_time": "2023-05-16T15:26:30.866Z"
   },
   {
    "duration": 30,
    "start_time": "2023-05-16T15:26:30.936Z"
   },
   {
    "duration": 33,
    "start_time": "2023-05-16T15:26:30.968Z"
   },
   {
    "duration": 44,
    "start_time": "2023-05-16T15:26:31.002Z"
   },
   {
    "duration": 36,
    "start_time": "2023-05-16T15:26:31.048Z"
   },
   {
    "duration": 16,
    "start_time": "2023-05-16T15:26:31.086Z"
   },
   {
    "duration": 43,
    "start_time": "2023-05-16T15:26:31.104Z"
   },
   {
    "duration": 1013,
    "start_time": "2023-05-16T15:26:31.149Z"
   },
   {
    "duration": 994,
    "start_time": "2023-05-16T15:26:32.164Z"
   },
   {
    "duration": 966,
    "start_time": "2023-05-16T15:26:33.160Z"
   },
   {
    "duration": 227,
    "start_time": "2023-05-16T15:26:34.127Z"
   },
   {
    "duration": 476,
    "start_time": "2023-05-16T15:26:34.356Z"
   },
   {
    "duration": 11,
    "start_time": "2023-05-16T15:26:34.834Z"
   },
   {
    "duration": 1171,
    "start_time": "2023-05-16T15:26:34.847Z"
   },
   {
    "duration": 3,
    "start_time": "2023-05-16T15:26:36.020Z"
   },
   {
    "duration": 12,
    "start_time": "2023-05-16T15:26:36.024Z"
   },
   {
    "duration": 25,
    "start_time": "2023-05-16T15:26:36.038Z"
   },
   {
    "duration": 24,
    "start_time": "2023-05-16T15:26:36.064Z"
   },
   {
    "duration": 5,
    "start_time": "2023-05-16T15:26:36.090Z"
   },
   {
    "duration": 40,
    "start_time": "2023-05-16T15:26:36.096Z"
   },
   {
    "duration": 14,
    "start_time": "2023-05-16T15:26:36.137Z"
   },
   {
    "duration": 13,
    "start_time": "2023-05-16T15:26:36.152Z"
   },
   {
    "duration": 30,
    "start_time": "2023-05-16T15:26:36.168Z"
   },
   {
    "duration": 2,
    "start_time": "2023-05-16T15:26:36.200Z"
   },
   {
    "duration": 8153,
    "start_time": "2023-05-16T15:26:36.204Z"
   },
   {
    "duration": 5184339,
    "start_time": "2023-05-16T15:26:44.359Z"
   },
   {
    "duration": 1945,
    "start_time": "2023-05-16T16:53:08.699Z"
   },
   {
    "duration": 18664,
    "start_time": "2023-05-16T16:53:10.707Z"
   },
   {
    "duration": 10,
    "start_time": "2023-05-16T16:53:29.372Z"
   },
   {
    "duration": 1641,
    "start_time": "2023-05-16T22:35:17.557Z"
   },
   {
    "duration": 2012,
    "start_time": "2023-05-16T22:35:19.199Z"
   },
   {
    "duration": 34,
    "start_time": "2023-05-16T22:35:21.213Z"
   },
   {
    "duration": 24,
    "start_time": "2023-05-16T22:35:21.249Z"
   },
   {
    "duration": 27,
    "start_time": "2023-05-16T22:35:21.275Z"
   },
   {
    "duration": 32,
    "start_time": "2023-05-16T22:35:21.304Z"
   },
   {
    "duration": 20,
    "start_time": "2023-05-16T22:35:21.338Z"
   },
   {
    "duration": 17,
    "start_time": "2023-05-16T22:35:21.360Z"
   },
   {
    "duration": 9,
    "start_time": "2023-05-16T22:35:21.379Z"
   },
   {
    "duration": 12,
    "start_time": "2023-05-16T22:35:21.390Z"
   },
   {
    "duration": 6,
    "start_time": "2023-05-16T22:35:21.403Z"
   },
   {
    "duration": 11,
    "start_time": "2023-05-16T22:35:21.410Z"
   },
   {
    "duration": 9,
    "start_time": "2023-05-16T22:35:21.422Z"
   },
   {
    "duration": 141,
    "start_time": "2023-05-16T22:35:21.432Z"
   },
   {
    "duration": 21,
    "start_time": "2023-05-16T22:35:21.575Z"
   },
   {
    "duration": 112,
    "start_time": "2023-05-16T22:35:21.598Z"
   },
   {
    "duration": 75,
    "start_time": "2023-05-16T22:35:21.711Z"
   },
   {
    "duration": 8,
    "start_time": "2023-05-16T22:35:21.787Z"
   },
   {
    "duration": 46,
    "start_time": "2023-05-16T22:35:21.796Z"
   },
   {
    "duration": 23,
    "start_time": "2023-05-16T22:35:21.844Z"
   },
   {
    "duration": 4,
    "start_time": "2023-05-16T22:35:21.869Z"
   },
   {
    "duration": 29,
    "start_time": "2023-05-16T22:35:21.875Z"
   },
   {
    "duration": 26,
    "start_time": "2023-05-16T22:35:21.905Z"
   },
   {
    "duration": 7,
    "start_time": "2023-05-16T22:35:21.933Z"
   },
   {
    "duration": 50,
    "start_time": "2023-05-16T22:35:21.942Z"
   },
   {
    "duration": 917,
    "start_time": "2023-05-16T22:35:21.994Z"
   },
   {
    "duration": 939,
    "start_time": "2023-05-16T22:35:22.912Z"
   },
   {
    "duration": 876,
    "start_time": "2023-05-16T22:35:23.854Z"
   },
   {
    "duration": 181,
    "start_time": "2023-05-16T22:35:24.732Z"
   },
   {
    "duration": 445,
    "start_time": "2023-05-16T22:35:24.915Z"
   },
   {
    "duration": 12,
    "start_time": "2023-05-16T22:35:25.361Z"
   },
   {
    "duration": 1093,
    "start_time": "2023-05-16T22:35:25.384Z"
   },
   {
    "duration": 6,
    "start_time": "2023-05-16T22:35:26.478Z"
   },
   {
    "duration": 3,
    "start_time": "2023-05-16T22:35:26.486Z"
   },
   {
    "duration": 14,
    "start_time": "2023-05-16T22:35:26.490Z"
   },
   {
    "duration": 26,
    "start_time": "2023-05-16T22:35:26.505Z"
   },
   {
    "duration": 5,
    "start_time": "2023-05-16T22:35:26.532Z"
   },
   {
    "duration": 9,
    "start_time": "2023-05-16T22:35:26.538Z"
   },
   {
    "duration": 12,
    "start_time": "2023-05-16T22:35:26.549Z"
   },
   {
    "duration": 6,
    "start_time": "2023-05-16T22:35:26.584Z"
   },
   {
    "duration": 29,
    "start_time": "2023-05-16T22:35:26.592Z"
   },
   {
    "duration": 2,
    "start_time": "2023-05-16T22:35:26.623Z"
   },
   {
    "duration": 11294,
    "start_time": "2023-05-16T22:35:26.626Z"
   },
   {
    "duration": 248264,
    "start_time": "2023-05-16T22:35:37.922Z"
   },
   {
    "duration": 1400,
    "start_time": "2023-05-16T22:39:46.188Z"
   },
   {
    "duration": 21882,
    "start_time": "2023-05-16T22:39:47.590Z"
   },
   {
    "duration": 13,
    "start_time": "2023-05-16T22:40:09.474Z"
   },
   {
    "duration": 1405677,
    "start_time": "2023-05-16T22:41:22.350Z"
   },
   {
    "duration": 28967,
    "start_time": "2023-05-16T23:04:48.029Z"
   },
   {
    "duration": 1314,
    "start_time": "2023-05-16T23:31:36.143Z"
   },
   {
    "duration": 678,
    "start_time": "2023-05-16T23:31:37.459Z"
   },
   {
    "duration": 23,
    "start_time": "2023-05-16T23:31:38.138Z"
   },
   {
    "duration": 30,
    "start_time": "2023-05-16T23:31:38.163Z"
   },
   {
    "duration": 17,
    "start_time": "2023-05-16T23:31:38.195Z"
   },
   {
    "duration": 17,
    "start_time": "2023-05-16T23:31:38.214Z"
   },
   {
    "duration": 19,
    "start_time": "2023-05-16T23:31:38.233Z"
   },
   {
    "duration": 51,
    "start_time": "2023-05-16T23:31:38.254Z"
   },
   {
    "duration": 3,
    "start_time": "2023-05-16T23:31:38.307Z"
   },
   {
    "duration": 9,
    "start_time": "2023-05-16T23:31:38.312Z"
   },
   {
    "duration": 5,
    "start_time": "2023-05-16T23:31:38.323Z"
   },
   {
    "duration": 4,
    "start_time": "2023-05-16T23:31:38.330Z"
   },
   {
    "duration": 10,
    "start_time": "2023-05-16T23:31:38.337Z"
   },
   {
    "duration": 162,
    "start_time": "2023-05-16T23:31:38.349Z"
   },
   {
    "duration": 29,
    "start_time": "2023-05-16T23:31:38.513Z"
   },
   {
    "duration": 109,
    "start_time": "2023-05-16T23:31:38.543Z"
   },
   {
    "duration": 59,
    "start_time": "2023-05-16T23:31:38.654Z"
   },
   {
    "duration": 10,
    "start_time": "2023-05-16T23:31:38.714Z"
   },
   {
    "duration": 24,
    "start_time": "2023-05-16T23:31:38.725Z"
   },
   {
    "duration": 15,
    "start_time": "2023-05-16T23:31:38.751Z"
   },
   {
    "duration": 4,
    "start_time": "2023-05-16T23:31:38.785Z"
   },
   {
    "duration": 20,
    "start_time": "2023-05-16T23:31:38.791Z"
   },
   {
    "duration": 20,
    "start_time": "2023-05-16T23:31:38.813Z"
   },
   {
    "duration": 7,
    "start_time": "2023-05-16T23:31:38.835Z"
   },
   {
    "duration": 54,
    "start_time": "2023-05-16T23:31:38.843Z"
   },
   {
    "duration": 823,
    "start_time": "2023-05-16T23:31:38.899Z"
   },
   {
    "duration": 917,
    "start_time": "2023-05-16T23:31:39.723Z"
   },
   {
    "duration": 860,
    "start_time": "2023-05-16T23:31:40.645Z"
   },
   {
    "duration": 214,
    "start_time": "2023-05-16T23:31:41.507Z"
   },
   {
    "duration": 471,
    "start_time": "2023-05-16T23:31:41.722Z"
   },
   {
    "duration": 11,
    "start_time": "2023-05-16T23:31:42.194Z"
   },
   {
    "duration": 958,
    "start_time": "2023-05-16T23:31:42.206Z"
   },
   {
    "duration": 3,
    "start_time": "2023-05-16T23:31:43.166Z"
   },
   {
    "duration": 26,
    "start_time": "2023-05-16T23:31:43.170Z"
   },
   {
    "duration": 27,
    "start_time": "2023-05-16T23:31:43.197Z"
   },
   {
    "duration": 22,
    "start_time": "2023-05-16T23:31:43.226Z"
   },
   {
    "duration": 6,
    "start_time": "2023-05-16T23:31:43.249Z"
   },
   {
    "duration": 10,
    "start_time": "2023-05-16T23:31:43.256Z"
   },
   {
    "duration": 13,
    "start_time": "2023-05-16T23:31:43.268Z"
   },
   {
    "duration": 14,
    "start_time": "2023-05-16T23:31:43.283Z"
   },
   {
    "duration": 32,
    "start_time": "2023-05-16T23:31:43.299Z"
   },
   {
    "duration": 3,
    "start_time": "2023-05-16T23:31:43.332Z"
   },
   {
    "duration": 9147,
    "start_time": "2023-05-16T23:31:43.337Z"
   },
   {
    "duration": 1402916,
    "start_time": "2023-05-16T23:31:52.485Z"
   },
   {
    "duration": 2304,
    "start_time": "2023-05-16T23:55:15.404Z"
   },
   {
    "duration": 30956,
    "start_time": "2023-05-16T23:55:17.711Z"
   },
   {
    "duration": 17,
    "start_time": "2023-05-16T23:55:48.669Z"
   },
   {
    "duration": 1595,
    "start_time": "2023-12-22T01:20:18.984Z"
   },
   {
    "duration": 2103,
    "start_time": "2023-12-22T01:20:20.580Z"
   },
   {
    "duration": 24,
    "start_time": "2023-12-22T01:20:22.685Z"
   },
   {
    "duration": 16,
    "start_time": "2023-12-22T01:20:22.711Z"
   },
   {
    "duration": 19,
    "start_time": "2023-12-22T01:20:22.728Z"
   },
   {
    "duration": 13,
    "start_time": "2023-12-22T01:20:22.749Z"
   },
   {
    "duration": 19,
    "start_time": "2023-12-22T01:20:22.763Z"
   },
   {
    "duration": 36,
    "start_time": "2023-12-22T01:20:22.783Z"
   },
   {
    "duration": 3,
    "start_time": "2023-12-22T01:20:22.820Z"
   },
   {
    "duration": 10,
    "start_time": "2023-12-22T01:20:22.826Z"
   },
   {
    "duration": 4,
    "start_time": "2023-12-22T01:20:22.838Z"
   },
   {
    "duration": 4,
    "start_time": "2023-12-22T01:20:22.844Z"
   },
   {
    "duration": 9,
    "start_time": "2023-12-22T01:20:22.849Z"
   },
   {
    "duration": 141,
    "start_time": "2023-12-22T01:20:22.859Z"
   },
   {
    "duration": 27,
    "start_time": "2023-12-22T01:20:23.002Z"
   },
   {
    "duration": 103,
    "start_time": "2023-12-22T01:20:23.031Z"
   },
   {
    "duration": 55,
    "start_time": "2023-12-22T01:20:23.136Z"
   },
   {
    "duration": 7,
    "start_time": "2023-12-22T01:20:23.192Z"
   },
   {
    "duration": 20,
    "start_time": "2023-12-22T01:20:23.214Z"
   },
   {
    "duration": 26,
    "start_time": "2023-12-22T01:20:23.235Z"
   },
   {
    "duration": 4,
    "start_time": "2023-12-22T01:20:23.263Z"
   },
   {
    "duration": 17,
    "start_time": "2023-12-22T01:20:23.268Z"
   },
   {
    "duration": 39,
    "start_time": "2023-12-22T01:20:23.287Z"
   },
   {
    "duration": 8,
    "start_time": "2023-12-22T01:20:23.328Z"
   },
   {
    "duration": 20,
    "start_time": "2023-12-22T01:20:23.338Z"
   },
   {
    "duration": 978,
    "start_time": "2023-12-22T01:20:23.359Z"
   },
   {
    "duration": 1031,
    "start_time": "2023-12-22T01:20:24.338Z"
   },
   {
    "duration": 933,
    "start_time": "2023-12-22T01:20:25.372Z"
   },
   {
    "duration": 186,
    "start_time": "2023-12-22T01:20:26.307Z"
   },
   {
    "duration": 455,
    "start_time": "2023-12-22T01:20:26.494Z"
   },
   {
    "duration": 11,
    "start_time": "2023-12-22T01:20:26.951Z"
   },
   {
    "duration": 1131,
    "start_time": "2023-12-22T01:20:26.963Z"
   },
   {
    "duration": 4,
    "start_time": "2023-12-22T01:20:28.096Z"
   },
   {
    "duration": 14,
    "start_time": "2023-12-22T01:20:28.101Z"
   },
   {
    "duration": 9,
    "start_time": "2023-12-22T01:20:28.116Z"
   },
   {
    "duration": 22,
    "start_time": "2023-12-22T01:20:28.127Z"
   },
   {
    "duration": 6,
    "start_time": "2023-12-22T01:20:28.150Z"
   },
   {
    "duration": 14,
    "start_time": "2023-12-22T01:20:28.158Z"
   },
   {
    "duration": 15,
    "start_time": "2023-12-22T01:20:28.173Z"
   },
   {
    "duration": 28,
    "start_time": "2023-12-22T01:20:28.190Z"
   },
   {
    "duration": 31,
    "start_time": "2023-12-22T01:20:28.219Z"
   },
   {
    "duration": 3,
    "start_time": "2023-12-22T01:20:28.251Z"
   },
   {
    "duration": 9211,
    "start_time": "2023-12-22T01:20:28.255Z"
   },
   {
    "duration": 1314042,
    "start_time": "2023-12-22T01:20:37.467Z"
   },
   {
    "duration": 1104,
    "start_time": "2023-12-22T01:42:31.514Z"
   },
   {
    "duration": 27500,
    "start_time": "2023-12-22T01:42:32.619Z"
   },
   {
    "duration": 10,
    "start_time": "2023-12-22T01:43:00.120Z"
   }
  ],
  "kernelspec": {
   "display_name": "Python 3 (ipykernel)",
   "language": "python",
   "name": "python3"
  },
  "language_info": {
   "codemirror_mode": {
    "name": "ipython",
    "version": 3
   },
   "file_extension": ".py",
   "mimetype": "text/x-python",
   "name": "python",
   "nbconvert_exporter": "python",
   "pygments_lexer": "ipython3",
   "version": "3.9.5"
  },
  "toc": {
   "base_numbering": 1,
   "nav_menu": {},
   "number_sections": true,
   "sideBar": true,
   "skip_h1_title": true,
   "title_cell": "Содержание",
   "title_sidebar": "Contents",
   "toc_cell": true,
   "toc_position": {
    "height": "calc(100% - 180px)",
    "left": "10px",
    "top": "150px",
    "width": "361.364px"
   },
   "toc_section_display": true,
   "toc_window_display": true
  }
 },
 "nbformat": 4,
 "nbformat_minor": 2
}
