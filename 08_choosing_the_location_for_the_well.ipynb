{
 "cells": [
  {
   "cell_type": "markdown",
   "metadata": {},
   "source": [
    "# Выбор локации для скважины"
   ]
  },
  {
   "cell_type": "markdown",
   "metadata": {},
   "source": [
    "Допустим, вы работаете в добывающей компании «ГлавРосГосНефть». Нужно решить, где бурить новую скважину.\n",
    "\n",
    "Вам предоставлены пробы нефти в трёх регионах: в каждом 10 000 месторождений, где измерили качество нефти и объём её запасов. Постройте модель машинного обучения, которая поможет определить регион, где добыча принесёт наибольшую прибыль. Проанализируйте возможную прибыль и риски техникой *Bootstrap.*\n",
    "\n",
    "Шаги для выбора локации:\n",
    "\n",
    "- В избранном регионе ищут месторождения, для каждого определяют значения признаков;\n",
    "- Строят модель и оценивают объём запасов;\n",
    "- Выбирают месторождения с самым высокими оценками значений. Количество месторождений зависит от бюджета компании и стоимости разработки одной скважины;\n",
    "- Прибыль равна суммарной прибыли отобранных месторождений."
   ]
  },
  {
   "cell_type": "markdown",
   "metadata": {},
   "source": [
    "## Загрузка и подготовка данных"
   ]
  },
  {
   "cell_type": "code",
   "execution_count": 1,
   "metadata": {},
   "outputs": [],
   "source": [
    "# Импорт библиотек\n",
    "import matplotlib.pyplot as plt\n",
    "import numpy as np\n",
    "import pandas as pd\n",
    "\n",
    "from scipy import stats as st\n",
    "from sklearn.model_selection import train_test_split\n",
    "from sklearn.linear_model import LinearRegression\n",
    "from sklearn.metrics import mean_squared_error\n",
    "from sklearn.preprocessing import StandardScaler\n",
    "from sklearn.utils import shuffle"
   ]
  },
  {
   "cell_type": "code",
   "execution_count": 2,
   "metadata": {},
   "outputs": [],
   "source": [
    "# чтение файла с данными каждого региона\n",
    "try:\n",
    "    geo_data_0 = pd.read_csv('/datasets/geo_data_0.csv')\n",
    "except:\n",
    "    geo_data_0 = pd.read_csv('C:/Users/Alexandra/datasets/geo_data_0.csv')\n",
    "    \n",
    "try:\n",
    "    geo_data_1 = pd.read_csv('/datasets/geo_data_1.csv')\n",
    "except:\n",
    "    geo_data_1 = pd.read_csv('C:/Users/Alexandra/datasets/geo_data_1.csv')\n",
    "    \n",
    "try:\n",
    "    geo_data_2 = pd.read_csv('/datasets/geo_data_2.csv')\n",
    "except:\n",
    "    geo_data_2 = pd.read_csv('C:/Users/Alexandra/datasets/geo_data_2.csv')"
   ]
  },
  {
   "cell_type": "markdown",
   "metadata": {},
   "source": [
    "### Исследование данных трех скважин"
   ]
  },
  {
   "cell_type": "code",
   "execution_count": 3,
   "metadata": {
    "scrolled": false
   },
   "outputs": [
    {
     "data": {
      "text/html": [
       "<div>\n",
       "<style scoped>\n",
       "    .dataframe tbody tr th:only-of-type {\n",
       "        vertical-align: middle;\n",
       "    }\n",
       "\n",
       "    .dataframe tbody tr th {\n",
       "        vertical-align: top;\n",
       "    }\n",
       "\n",
       "    .dataframe thead th {\n",
       "        text-align: right;\n",
       "    }\n",
       "</style>\n",
       "<table border=\"1\" class=\"dataframe\">\n",
       "  <thead>\n",
       "    <tr style=\"text-align: right;\">\n",
       "      <th></th>\n",
       "      <th>id</th>\n",
       "      <th>f0</th>\n",
       "      <th>f1</th>\n",
       "      <th>f2</th>\n",
       "      <th>product</th>\n",
       "    </tr>\n",
       "  </thead>\n",
       "  <tbody>\n",
       "    <tr>\n",
       "      <th>0</th>\n",
       "      <td>txEyH</td>\n",
       "      <td>0.705745</td>\n",
       "      <td>-0.497823</td>\n",
       "      <td>1.221170</td>\n",
       "      <td>105.280062</td>\n",
       "    </tr>\n",
       "    <tr>\n",
       "      <th>1</th>\n",
       "      <td>2acmU</td>\n",
       "      <td>1.334711</td>\n",
       "      <td>-0.340164</td>\n",
       "      <td>4.365080</td>\n",
       "      <td>73.037750</td>\n",
       "    </tr>\n",
       "    <tr>\n",
       "      <th>2</th>\n",
       "      <td>409Wp</td>\n",
       "      <td>1.022732</td>\n",
       "      <td>0.151990</td>\n",
       "      <td>1.419926</td>\n",
       "      <td>85.265647</td>\n",
       "    </tr>\n",
       "    <tr>\n",
       "      <th>3</th>\n",
       "      <td>iJLyR</td>\n",
       "      <td>-0.032172</td>\n",
       "      <td>0.139033</td>\n",
       "      <td>2.978566</td>\n",
       "      <td>168.620776</td>\n",
       "    </tr>\n",
       "    <tr>\n",
       "      <th>4</th>\n",
       "      <td>Xdl7t</td>\n",
       "      <td>1.988431</td>\n",
       "      <td>0.155413</td>\n",
       "      <td>4.751769</td>\n",
       "      <td>154.036647</td>\n",
       "    </tr>\n",
       "  </tbody>\n",
       "</table>\n",
       "</div>"
      ],
      "text/plain": [
       "      id        f0        f1        f2     product\n",
       "0  txEyH  0.705745 -0.497823  1.221170  105.280062\n",
       "1  2acmU  1.334711 -0.340164  4.365080   73.037750\n",
       "2  409Wp  1.022732  0.151990  1.419926   85.265647\n",
       "3  iJLyR -0.032172  0.139033  2.978566  168.620776\n",
       "4  Xdl7t  1.988431  0.155413  4.751769  154.036647"
      ]
     },
     "execution_count": 3,
     "metadata": {},
     "output_type": "execute_result"
    }
   ],
   "source": [
    "#Выводим первые 5 строчек датафрейма на экран.\n",
    "geo_data_0.head()"
   ]
  },
  {
   "cell_type": "code",
   "execution_count": 4,
   "metadata": {
    "scrolled": true
   },
   "outputs": [
    {
     "name": "stdout",
     "output_type": "stream",
     "text": [
      "<class 'pandas.core.frame.DataFrame'>\n",
      "RangeIndex: 100000 entries, 0 to 99999\n",
      "Data columns (total 5 columns):\n",
      " #   Column   Non-Null Count   Dtype  \n",
      "---  ------   --------------   -----  \n",
      " 0   id       100000 non-null  object \n",
      " 1   f0       100000 non-null  float64\n",
      " 2   f1       100000 non-null  float64\n",
      " 3   f2       100000 non-null  float64\n",
      " 4   product  100000 non-null  float64\n",
      "dtypes: float64(4), object(1)\n",
      "memory usage: 3.8+ MB\n"
     ]
    }
   ],
   "source": [
    "geo_data_0.info() #Выводим основную информацию о датафрейме."
   ]
  },
  {
   "cell_type": "code",
   "execution_count": 5,
   "metadata": {
    "scrolled": false
   },
   "outputs": [
    {
     "data": {
      "text/html": [
       "<div>\n",
       "<style scoped>\n",
       "    .dataframe tbody tr th:only-of-type {\n",
       "        vertical-align: middle;\n",
       "    }\n",
       "\n",
       "    .dataframe tbody tr th {\n",
       "        vertical-align: top;\n",
       "    }\n",
       "\n",
       "    .dataframe thead th {\n",
       "        text-align: right;\n",
       "    }\n",
       "</style>\n",
       "<table border=\"1\" class=\"dataframe\">\n",
       "  <thead>\n",
       "    <tr style=\"text-align: right;\">\n",
       "      <th></th>\n",
       "      <th>id</th>\n",
       "      <th>f0</th>\n",
       "      <th>f1</th>\n",
       "      <th>f2</th>\n",
       "      <th>product</th>\n",
       "    </tr>\n",
       "  </thead>\n",
       "  <tbody>\n",
       "    <tr>\n",
       "      <th>0</th>\n",
       "      <td>kBEdx</td>\n",
       "      <td>-15.001348</td>\n",
       "      <td>-8.276000</td>\n",
       "      <td>-0.005876</td>\n",
       "      <td>3.179103</td>\n",
       "    </tr>\n",
       "    <tr>\n",
       "      <th>1</th>\n",
       "      <td>62mP7</td>\n",
       "      <td>14.272088</td>\n",
       "      <td>-3.475083</td>\n",
       "      <td>0.999183</td>\n",
       "      <td>26.953261</td>\n",
       "    </tr>\n",
       "    <tr>\n",
       "      <th>2</th>\n",
       "      <td>vyE1P</td>\n",
       "      <td>6.263187</td>\n",
       "      <td>-5.948386</td>\n",
       "      <td>5.001160</td>\n",
       "      <td>134.766305</td>\n",
       "    </tr>\n",
       "    <tr>\n",
       "      <th>3</th>\n",
       "      <td>KcrkZ</td>\n",
       "      <td>-13.081196</td>\n",
       "      <td>-11.506057</td>\n",
       "      <td>4.999415</td>\n",
       "      <td>137.945408</td>\n",
       "    </tr>\n",
       "    <tr>\n",
       "      <th>4</th>\n",
       "      <td>AHL4O</td>\n",
       "      <td>12.702195</td>\n",
       "      <td>-8.147433</td>\n",
       "      <td>5.004363</td>\n",
       "      <td>134.766305</td>\n",
       "    </tr>\n",
       "  </tbody>\n",
       "</table>\n",
       "</div>"
      ],
      "text/plain": [
       "      id         f0         f1        f2     product\n",
       "0  kBEdx -15.001348  -8.276000 -0.005876    3.179103\n",
       "1  62mP7  14.272088  -3.475083  0.999183   26.953261\n",
       "2  vyE1P   6.263187  -5.948386  5.001160  134.766305\n",
       "3  KcrkZ -13.081196 -11.506057  4.999415  137.945408\n",
       "4  AHL4O  12.702195  -8.147433  5.004363  134.766305"
      ]
     },
     "execution_count": 5,
     "metadata": {},
     "output_type": "execute_result"
    }
   ],
   "source": [
    "#Выводим первые 5 строчек датафрейма на экран.\n",
    "geo_data_1.head()"
   ]
  },
  {
   "cell_type": "code",
   "execution_count": 6,
   "metadata": {
    "scrolled": true
   },
   "outputs": [
    {
     "name": "stdout",
     "output_type": "stream",
     "text": [
      "<class 'pandas.core.frame.DataFrame'>\n",
      "RangeIndex: 100000 entries, 0 to 99999\n",
      "Data columns (total 5 columns):\n",
      " #   Column   Non-Null Count   Dtype  \n",
      "---  ------   --------------   -----  \n",
      " 0   id       100000 non-null  object \n",
      " 1   f0       100000 non-null  float64\n",
      " 2   f1       100000 non-null  float64\n",
      " 3   f2       100000 non-null  float64\n",
      " 4   product  100000 non-null  float64\n",
      "dtypes: float64(4), object(1)\n",
      "memory usage: 3.8+ MB\n"
     ]
    }
   ],
   "source": [
    "geo_data_1.info() #Выводим основную информацию о датафрейме."
   ]
  },
  {
   "cell_type": "code",
   "execution_count": 7,
   "metadata": {
    "scrolled": false
   },
   "outputs": [
    {
     "data": {
      "text/html": [
       "<div>\n",
       "<style scoped>\n",
       "    .dataframe tbody tr th:only-of-type {\n",
       "        vertical-align: middle;\n",
       "    }\n",
       "\n",
       "    .dataframe tbody tr th {\n",
       "        vertical-align: top;\n",
       "    }\n",
       "\n",
       "    .dataframe thead th {\n",
       "        text-align: right;\n",
       "    }\n",
       "</style>\n",
       "<table border=\"1\" class=\"dataframe\">\n",
       "  <thead>\n",
       "    <tr style=\"text-align: right;\">\n",
       "      <th></th>\n",
       "      <th>id</th>\n",
       "      <th>f0</th>\n",
       "      <th>f1</th>\n",
       "      <th>f2</th>\n",
       "      <th>product</th>\n",
       "    </tr>\n",
       "  </thead>\n",
       "  <tbody>\n",
       "    <tr>\n",
       "      <th>0</th>\n",
       "      <td>fwXo0</td>\n",
       "      <td>-1.146987</td>\n",
       "      <td>0.963328</td>\n",
       "      <td>-0.828965</td>\n",
       "      <td>27.758673</td>\n",
       "    </tr>\n",
       "    <tr>\n",
       "      <th>1</th>\n",
       "      <td>WJtFt</td>\n",
       "      <td>0.262778</td>\n",
       "      <td>0.269839</td>\n",
       "      <td>-2.530187</td>\n",
       "      <td>56.069697</td>\n",
       "    </tr>\n",
       "    <tr>\n",
       "      <th>2</th>\n",
       "      <td>ovLUW</td>\n",
       "      <td>0.194587</td>\n",
       "      <td>0.289035</td>\n",
       "      <td>-5.586433</td>\n",
       "      <td>62.871910</td>\n",
       "    </tr>\n",
       "    <tr>\n",
       "      <th>3</th>\n",
       "      <td>q6cA6</td>\n",
       "      <td>2.236060</td>\n",
       "      <td>-0.553760</td>\n",
       "      <td>0.930038</td>\n",
       "      <td>114.572842</td>\n",
       "    </tr>\n",
       "    <tr>\n",
       "      <th>4</th>\n",
       "      <td>WPMUX</td>\n",
       "      <td>-0.515993</td>\n",
       "      <td>1.716266</td>\n",
       "      <td>5.899011</td>\n",
       "      <td>149.600746</td>\n",
       "    </tr>\n",
       "  </tbody>\n",
       "</table>\n",
       "</div>"
      ],
      "text/plain": [
       "      id        f0        f1        f2     product\n",
       "0  fwXo0 -1.146987  0.963328 -0.828965   27.758673\n",
       "1  WJtFt  0.262778  0.269839 -2.530187   56.069697\n",
       "2  ovLUW  0.194587  0.289035 -5.586433   62.871910\n",
       "3  q6cA6  2.236060 -0.553760  0.930038  114.572842\n",
       "4  WPMUX -0.515993  1.716266  5.899011  149.600746"
      ]
     },
     "execution_count": 7,
     "metadata": {},
     "output_type": "execute_result"
    }
   ],
   "source": [
    "#Выводим первые 5 строчек датафрейма на экран.\n",
    "geo_data_2.head()"
   ]
  },
  {
   "cell_type": "code",
   "execution_count": 8,
   "metadata": {
    "scrolled": false
   },
   "outputs": [
    {
     "name": "stdout",
     "output_type": "stream",
     "text": [
      "<class 'pandas.core.frame.DataFrame'>\n",
      "RangeIndex: 100000 entries, 0 to 99999\n",
      "Data columns (total 5 columns):\n",
      " #   Column   Non-Null Count   Dtype  \n",
      "---  ------   --------------   -----  \n",
      " 0   id       100000 non-null  object \n",
      " 1   f0       100000 non-null  float64\n",
      " 2   f1       100000 non-null  float64\n",
      " 3   f2       100000 non-null  float64\n",
      " 4   product  100000 non-null  float64\n",
      "dtypes: float64(4), object(1)\n",
      "memory usage: 3.8+ MB\n"
     ]
    }
   ],
   "source": [
    "geo_data_2.info() #Выводим основную информацию о датафрейме."
   ]
  },
  {
   "cell_type": "code",
   "execution_count": 9,
   "metadata": {},
   "outputs": [
    {
     "name": "stdout",
     "output_type": "stream",
     "text": [
      "0\n",
      "0\n"
     ]
    },
    {
     "data": {
      "text/plain": [
       "0"
      ]
     },
     "execution_count": 9,
     "metadata": {},
     "output_type": "execute_result"
    }
   ],
   "source": [
    "#Посчитаем количество полных дубликатов.\n",
    "print(geo_data_0.duplicated().sum())\n",
    "print(geo_data_1.duplicated().sum())\n",
    "geo_data_2.duplicated().sum()"
   ]
  },
  {
   "cell_type": "markdown",
   "metadata": {},
   "source": [
    "**Вывод:**\n",
    "\n",
    "В датасетах по 10000 строк и 5 столбцов. Полных дубликатов нет.\n",
    "\n",
    "Столбец **id (уникальный идентификатор скважины)** не имеет значимости для модели. Удаляем."
   ]
  },
  {
   "cell_type": "code",
   "execution_count": 10,
   "metadata": {},
   "outputs": [],
   "source": [
    "#Удаляем столбец id из трех датасетов\n",
    "geo_data_0 = geo_data_0.drop(['id'], axis=1)\n",
    "geo_data_1 = geo_data_1.drop(['id'], axis=1)\n",
    "geo_data_2 = geo_data_2.drop(['id'], axis=1)"
   ]
  },
  {
   "cell_type": "markdown",
   "metadata": {},
   "source": [
    "### Проверим признаки на мультиколлинеарность"
   ]
  },
  {
   "cell_type": "code",
   "execution_count": 11,
   "metadata": {
    "scrolled": true
   },
   "outputs": [
    {
     "data": {
      "image/png": "[encoded data removed]",
      "text/plain": [
       "<Figure size 720x360 with 2 Axes>"
      ]
     },
     "metadata": {
      "needs_background": "light"
     },
     "output_type": "display_data"
    }
   ],
   "source": [
    "# Регион 0\n",
    "import seaborn as sns \n",
    "plt.figure(figsize = (10,5))\n",
    "df_plot = sns.heatmap(geo_data_0.corr(), cmap=\"Greens\", annot=True) \n"
   ]
  },
  {
   "cell_type": "code",
   "execution_count": 12,
   "metadata": {
    "scrolled": true
   },
   "outputs": [
    {
     "data": {
      "image/png": "[encoded data removed]",
      "text/plain": [
       "<Figure size 720x360 with 2 Axes>"
      ]
     },
     "metadata": {
      "needs_background": "light"
     },
     "output_type": "display_data"
    }
   ],
   "source": [
    "# Регион 1\n",
    "import seaborn as sns \n",
    "plt.figure(figsize = (10,5))\n",
    "df_plot = sns.heatmap(geo_data_1.corr(), cmap=\"Greens\", annot=True) \n"
   ]
  },
  {
   "cell_type": "code",
   "execution_count": 13,
   "metadata": {
    "scrolled": false
   },
   "outputs": [
    {
     "data": {
      "image/png": "[encoded data removed]",
      "text/plain": [
       "<Figure size 720x360 with 2 Axes>"
      ]
     },
     "metadata": {
      "needs_background": "light"
     },
     "output_type": "display_data"
    }
   ],
   "source": [
    "# Регион 2\n",
    "import seaborn as sns \n",
    "plt.figure(figsize = (10,5))\n",
    "df_plot = sns.heatmap(geo_data_2.corr(), cmap=\"Greens\", annot=True) \n"
   ]
  },
  {
   "cell_type": "markdown",
   "metadata": {},
   "source": [
    "**Вывод:**\n",
    "\n",
    "На данных по корреляции значений второго регоина, мы видим сильную зависимость целевого показателя **product** от **f2**, такая зависмость может дать нам высокие баллы предсказаний для нашей модели.\n",
    "\n",
    "Судя по графику ниже в регионе 1 распределение сырья не является нормальным. Имеется нулевой объем сырья. Возможно поэтому наблюдается прямая зависимость объемов запасов в скважинах от f2."
   ]
  },
  {
   "cell_type": "markdown",
   "metadata": {},
   "source": [
    "### Гистограммы распределений признаков скважин по регионам"
   ]
  },
  {
   "cell_type": "code",
   "execution_count": 14,
   "metadata": {
    "scrolled": true
   },
   "outputs": [
    {
     "data": {
      "image/png": "[encoded data removed]",
      "text/plain": [
       "<Figure size 720x360 with 1 Axes>"
      ]
     },
     "metadata": {
      "needs_background": "light"
     },
     "output_type": "display_data"
    }
   ],
   "source": [
    "geo_data_0['product'].plot(kind='hist',figsize=(10,5),grid=True, legend=True, histtype='step', linewidth=3, label='0 регион')\n",
    "geo_data_1['product'].plot(kind='hist',figsize=(10,5),grid=True, legend=True,histtype='step', linewidth=3, label='1 регион')\n",
    "geo_data_2['product'].plot(kind='hist',figsize=(10,5),grid=True, legend=True,histtype='step', linewidth=3, label='2 регион')\n",
    "\n",
    "plt.title('Графики распределения запасов сырья в регионах')\n",
    "plt.xlabel('Объем запасов в скважине, тыс. барелей')\n",
    "plt.ylabel('Количество скважин');"
   ]
  },
  {
   "cell_type": "markdown",
   "metadata": {},
   "source": [
    "**Вывод:**\n",
    "\n",
    "Для регионов 0 и 2 видно нормальное распределение.\n",
    "\n",
    "Для региона 1 распределение отличается. Похоже, что были утеряны данные для этого региона."
   ]
  },
  {
   "cell_type": "markdown",
   "metadata": {},
   "source": [
    "## Обучение и проверка модели"
   ]
  },
  {
   "cell_type": "markdown",
   "metadata": {},
   "source": [
    "Целевой признак - product (объём запасов в скважине). "
   ]
  },
  {
   "cell_type": "code",
   "execution_count": 15,
   "metadata": {},
   "outputs": [],
   "source": [
    "# Зададим RandomState\n",
    "RANDOMSTATE = 111111\n",
    "\n",
    "# Функция с масштабированием параметров\n",
    "def split_scaler(df, features_df, target_df):\n",
    "    # Разбиваем выборку в соотношении 75:25. \n",
    "    train, valid = np.split(df.sample(frac=1, random_state=RANDOMSTATE), [int(.75*len(df))])\n",
    "    # Проверяем сколько строк и столбцов в полученных датасетах\n",
    "    print('Проверяем размер выборок')\n",
    "    print(train.shape)\n",
    "    print(valid.shape)\n",
    "    \n",
    "    # Масштабируем данные\n",
    "    scaler = StandardScaler()\n",
    "    scaler.fit(train[features_df])\n",
    "    train[features_df] = scaler.transform(train[features_df])\n",
    "    \n",
    "    valid[features_df] = scaler.transform(valid[features_df])  \n",
    "    \n",
    "    # Разбиваем на целевой признак и признаки модели.\n",
    "    target_train = train[target_df]\n",
    "    features_train = train[features_df]\n",
    "\n",
    "    target_valid = valid[target_df]\n",
    "    features_valid = valid[features_df]\n",
    "    \n",
    "    # Обучение модели\n",
    "    model = LinearRegression()\n",
    "\n",
    "    model.fit(features_train, target_train)\n",
    "    \n",
    "    predicted_target = model.predict(features_valid) #предсказание на валидационной выборке\n",
    "    predicted_target = pd.Series(predicted_target, index = features_valid.index)\n",
    "    print('С МАСШТАБИРОВАНИЕМ')\n",
    "    print('Средний запас предсказанного сырья :', predicted_target.mean())\n",
    "    print('RMSE :', mean_squared_error(target_valid, predicted_target)**0.5)\n"
   ]
  },
  {
   "cell_type": "code",
   "execution_count": 16,
   "metadata": {},
   "outputs": [],
   "source": [
    "# Функция без масштабирования параметров\n",
    "def split(df, features_df, target_df):\n",
    "    # Разбиваем выборку в соотношении 75:25. \n",
    "    train, valid = np.split(df.sample(frac=1, random_state=RANDOMSTATE), [int(.25*len(df))])\n",
    "    # Проверяем сколько строк и столбцов в полученных датасетах\n",
    "    #print(train.shape)\n",
    "    #print(valid.shape)\n",
    "    \n",
    "    # Разбиваем на целевой признак и признаки модели.\n",
    "    target_train = train[target_df]\n",
    "    features_train = train[features_df]\n",
    "\n",
    "    target_valid = valid[target_df]\n",
    "    features_valid = valid[features_df]\n",
    "    \n",
    "    model = LinearRegression()\n",
    "\n",
    "    model.fit(features_train, target_train)\n",
    "\n",
    "    predicted_target= model.predict(features_valid) #предсказание на валидационной выборке\n",
    "    mean_predicted_target = predicted_target.mean()\n",
    "    predicted_target = pd.Series(predicted_target, index = features_valid.index)\n",
    "    print('')\n",
    "    print('БЕЗ МАСШТАБИРОВАНИЯ')\n",
    "    print('Средний запас предсказанного сырья :', predicted_target.mean())\n",
    "    print('RMSE :', mean_squared_error(target_valid, predicted_target)**0.5)\n",
    "    \n",
    "    return target_valid, predicted_target"
   ]
  },
  {
   "cell_type": "markdown",
   "metadata": {},
   "source": [
    "### Обучение для 0 региона"
   ]
  },
  {
   "cell_type": "code",
   "execution_count": 17,
   "metadata": {
    "scrolled": false
   },
   "outputs": [
    {
     "name": "stdout",
     "output_type": "stream",
     "text": [
      "Проверяем размер выборок\n",
      "(75000, 4)\n",
      "(25000, 4)\n",
      "С МАСШТАБИРОВАНИЕМ\n",
      "Средний запас предсказанного сырья : 92.5124174697973\n",
      "RMSE : 37.784455982502216\n",
      "\n",
      "БЕЗ МАСШТАБИРОВАНИЯ\n",
      "Средний запас предсказанного сырья : 92.58503713239011\n",
      "RMSE : 37.716680536302114\n"
     ]
    }
   ],
   "source": [
    "split_scaler(geo_data_0, ['f0', 'f1', 'f2'], 'product')\n",
    "target_valid_0, predicted_target_0 = split(geo_data_0, ['f0', 'f1', 'f2'], 'product') # Предсказания объемов запасов в скважинах"
   ]
  },
  {
   "cell_type": "markdown",
   "metadata": {},
   "source": [
    "### Обучение для 1 региона"
   ]
  },
  {
   "cell_type": "code",
   "execution_count": 18,
   "metadata": {
    "scrolled": true
   },
   "outputs": [
    {
     "name": "stdout",
     "output_type": "stream",
     "text": [
      "Проверяем размер выборок\n",
      "(75000, 4)\n",
      "(25000, 4)\n",
      "С МАСШТАБИРОВАНИЕМ\n",
      "Средний запас предсказанного сырья : 68.08768102907578\n",
      "RMSE : 0.8918792227904403\n",
      "\n",
      "БЕЗ МАСШТАБИРОВАНИЯ\n",
      "Средний запас предсказанного сырья : 68.74247629462434\n",
      "RMSE : 0.8918203438850837\n"
     ]
    }
   ],
   "source": [
    "split_scaler(geo_data_1, ['f0', 'f1', 'f2'], 'product')\n",
    "target_valid_1, predicted_target_1 = split(geo_data_1, ['f0', 'f1', 'f2'], 'product') # Предсказания объемов запасов в скважинах"
   ]
  },
  {
   "cell_type": "markdown",
   "metadata": {},
   "source": [
    "### Обучение для 2 региона"
   ]
  },
  {
   "cell_type": "code",
   "execution_count": 19,
   "metadata": {
    "scrolled": true
   },
   "outputs": [
    {
     "name": "stdout",
     "output_type": "stream",
     "text": [
      "Проверяем размер выборок\n",
      "(75000, 4)\n",
      "(25000, 4)\n",
      "С МАСШТАБИРОВАНИЕМ\n",
      "Средний запас предсказанного сырья : 94.7755776932722\n",
      "RMSE : 40.2302452106027\n",
      "\n",
      "БЕЗ МАСШТАБИРОВАНИЯ\n",
      "Средний запас предсказанного сырья : 95.21029578582451\n",
      "RMSE : 40.023677080597245\n"
     ]
    }
   ],
   "source": [
    "split_scaler(geo_data_2, ['f0', 'f1', 'f2'], 'product')\n",
    "target_valid_2, predicted_target_2 = split(geo_data_2, ['f0', 'f1', 'f2'], 'product') # Предсказания объемов запасов в скважинах"
   ]
  },
  {
   "cell_type": "markdown",
   "metadata": {},
   "source": [
    "**Вывод:**\n",
    "\n",
    "Масштабирование почти не влияет на качество модели. Будем использовать данные без масштабирования.\n",
    "\n",
    "\n",
    "|ПОКАЗАТЕЛИ   \t|Регион 0   \t|Регион 1   \t|Регион 2   \t|    \n",
    "|:---\t|:---:\t|:---:\t|:---:\t|\n",
    "|Средний запас предсказанного сырья  \t|92.58503713239011  \t|68.74247629462434  \t|95.21029578582451|  \n",
    "|RMSE   \t|37.716680536302114  \t|0.8918203438850837 \t|40.023677080597245 |\n",
    "\n",
    "RMSE (среднеквадратичная ошибка в предсказании модели) для региона 1 сильно отличается от двух другий регионов. Модель для региона 1 лучше предсказала запасы. Возможно из-за потери данных для этого региона. Модель переобучилась.\n",
    "\n",
    "Нужно выбирать между 1 и 3 регионом."
   ]
  },
  {
   "cell_type": "markdown",
   "metadata": {},
   "source": [
    "## Подготовка к расчёту прибыли"
   ]
  },
  {
   "cell_type": "markdown",
   "metadata": {},
   "source": [
    "При разведке региона исследуют 500 точек, из которых с помощью машинного обучения выбирают 200 лучших для разработки."
   ]
  },
  {
   "cell_type": "code",
   "execution_count": 20,
   "metadata": {},
   "outputs": [],
   "source": [
    "RESEARCH_POINTS = 500 # исследуют 500 точек\n",
    "BEST_POINTS = 200 # лучших для разработки точек\n",
    "BUDGET = 10_000_000 #Бюджет на разработку скважин в регионе, тыс.руб\n",
    "REVENUE_PER_UNIT_OF_PRODUCT = 450 # Доход с каждой единицы продукта\n",
    "\n",
    "# Средние значения объема запасов\n",
    "product_mean_0 = geo_data_0['product'].mean()\n",
    "product_mean_1 = geo_data_1['product'].mean()\n",
    "product_mean_2 = geo_data_2['product'].mean()"
   ]
  },
  {
   "cell_type": "code",
   "execution_count": 21,
   "metadata": {
    "scrolled": true
   },
   "outputs": [
    {
     "name": "stdout",
     "output_type": "stream",
     "text": [
      "Бюджет на разработку одной скважины: 50.0 млн.руб\n",
      "Объём каждой скважины для безубыточной разработки должен составлять не менее: 111.11 тыс.баррелей\n",
      "\n",
      "Среднее значение объема запасов региона 0:  92.50000000000001\n",
      "Среднее значение объема запасов региона 1:  68.82500000000002\n",
      "Среднее значение объема запасов региона 2:  95.00000000000004\n"
     ]
    }
   ],
   "source": [
    "# Бюджет расчитан на 200 лучших скважин. Поэтому для одной скважины бюджет:\n",
    "budg_per_1_well=(BUDGET/BEST_POINTS)# тыс.руб\n",
    "print('Бюджет на разработку одной скважины:', budg_per_1_well/1000,'млн.руб')\n",
    "\n",
    "# Рассчитаем достаточный объём сырья для безубыточной разработки новой скважины\n",
    "v_prod=budg_per_1_well/REVENUE_PER_UNIT_OF_PRODUCT\n",
    "print('Объём каждой скважины для безубыточной разработки должен составлять не менее: %.2f'%v_prod,'тыс.баррелей')\n",
    "print('')\n",
    "print('Среднее значение объема запасов региона 0: ', product_mean_0)\n",
    "print('Среднее значение объема запасов региона 1: ', product_mean_1)\n",
    "print('Среднее значение объема запасов региона 2: ', product_mean_2)"
   ]
  },
  {
   "cell_type": "markdown",
   "metadata": {},
   "source": [
    "**Вывод:**\n",
    "\n",
    "Среднее значения объема запасов регионов меньше, чем объем для безубыточной разработки скважен. Необходимо выбрать скважины с максимальными запасами."
   ]
  },
  {
   "cell_type": "markdown",
   "metadata": {},
   "source": [
    "## Расчёт прибыли и рисков "
   ]
  },
  {
   "cell_type": "code",
   "execution_count": 22,
   "metadata": {},
   "outputs": [],
   "source": [
    "# Задаем параметр для вывода на печать\n",
    "def profit_for_region(target, predicted_target, NOT_PRINT):    \n",
    "    probs_sorted = predicted_target.sort_values(ascending=False) #Сортируем самые прибыльные скважины\n",
    "    selected_max = target[probs_sorted.index][:BEST_POINTS] #Выбираем 200 лучших скважин\n",
    "    profit = sum(selected_max) * REVENUE_PER_UNIT_OF_PRODUCT - BUDGET # прибыль\n",
    "    if NOT_PRINT == 0:\n",
    "        print('Суммарный запас сырья в 200 лучших скважинах составит: %.2f тыс.баррелей'%sum(selected_max))\n",
    "        print('Прибыль для полученного объёма сырья составит %.2f млн.рублей'%(profit/1000))        \n",
    "    return profit"
   ]
  },
  {
   "cell_type": "markdown",
   "metadata": {},
   "source": [
    "### Для региона 0"
   ]
  },
  {
   "cell_type": "code",
   "execution_count": 23,
   "metadata": {
    "scrolled": true
   },
   "outputs": [
    {
     "name": "stdout",
     "output_type": "stream",
     "text": [
      "Суммарный запас сырья в 200 лучших скважинах составит: 30183.55 тыс.баррелей\n",
      "Прибыль для полученного объёма сырья составит 3582.60 млн.рублей\n"
     ]
    }
   ],
   "source": [
    "profit_0 = profit_for_region(target_valid_0, predicted_target_0, 0)"
   ]
  },
  {
   "cell_type": "markdown",
   "metadata": {},
   "source": [
    "### Для региона 1"
   ]
  },
  {
   "cell_type": "code",
   "execution_count": 24,
   "metadata": {
    "scrolled": true
   },
   "outputs": [
    {
     "name": "stdout",
     "output_type": "stream",
     "text": [
      "Суммарный запас сырья в 200 лучших скважинах составит: 27589.08 тыс.баррелей\n",
      "Прибыль для полученного объёма сырья составит 2415.09 млн.рублей\n"
     ]
    }
   ],
   "source": [
    "profit_1 = profit_for_region(target_valid_1, predicted_target_1, 0)"
   ]
  },
  {
   "cell_type": "markdown",
   "metadata": {},
   "source": [
    "### Для региона 2"
   ]
  },
  {
   "cell_type": "code",
   "execution_count": 25,
   "metadata": {
    "scrolled": true
   },
   "outputs": [
    {
     "name": "stdout",
     "output_type": "stream",
     "text": [
      "Суммарный запас сырья в 200 лучших скважинах составит: 27789.23 тыс.баррелей\n",
      "Прибыль для полученного объёма сырья составит 2505.15 млн.рублей\n"
     ]
    }
   ],
   "source": [
    "profit_2 = profit_for_region(target_valid_2, predicted_target_2, 0)"
   ]
  },
  {
   "cell_type": "markdown",
   "metadata": {},
   "source": [
    "**Вывод:**\n",
    "\n",
    "Cуммарный запас сырья в 200 лучших скважинах и прибыль получились для **региона 0**. 30183.55 тыс.баррелей и 3582.60 млн.рублей соответственно."
   ]
  },
  {
   "cell_type": "markdown",
   "metadata": {},
   "source": [
    "## Посчитайте риски и прибыль для каждого региона:"
   ]
  },
  {
   "cell_type": "code",
   "execution_count": 26,
   "metadata": {},
   "outputs": [],
   "source": [
    "# Функция для применения техники Bootstrap с 1000 выборокам\n",
    "state = np.random.RandomState(RANDOMSTATE)\n",
    "def bootstrap_1000(target_valid, predicted_target):\n",
    "    predict = pd.Series(predicted_target, index=target_valid.index)\n",
    "    values=[]\n",
    "\n",
    "    for i in range(1000):\n",
    "        target_subsample = target_valid.sample(replace=True, random_state=state, n=RESEARCH_POINTS)\n",
    "        probs_subsample = predict[target_subsample.index]\n",
    "        \n",
    "        profit = profit_for_region(target_valid, probs_subsample, 1)\n",
    "        values.append(profit)\n",
    "        \n",
    "    values = pd.Series(values) \n",
    "\n",
    "    lower = values.quantile(0.025)\n",
    "    upper = values.quantile(0.975)\n",
    "    mean = values.mean()\n",
    "    risk = (values < 0).mean()\n",
    "    confidence_interval = st.t.interval(0.95, len(values)-1, values.mean(), values.sem())\n",
    "    \n",
    "    \n",
    "    print(\"Средняя прибыль: {:.2f} млн.руб\".format(mean/1000))\n",
    "    print('С вероятностью 95% прибыль в данном регионе будет составлять от: {:.2f} млн.руб до: {:.2f} млн.руб'.format((lower/1000),(upper/1000)))\n",
    "    print(\"95%-ый доверительный интервал: от {:.2f} млн.руб до {:.2f} млн.руб\". format((confidence_interval[0]/1000),(confidence_interval[1]/1000)))\n",
    "    print ('Процент вероятности убытка в данном регионе составит {:.2%}'.format(risk))\n",
    "    \n",
    "    plt.title('Распределение прибыли')\n",
    "    values.plot(kind=\"hist\", grid=True, figsize=(10,4))\n",
    "    plt.xlabel('Прибыль, тыс.руб')\n",
    "    plt.ylabel('Количество скважин');"
   ]
  },
  {
   "cell_type": "markdown",
   "metadata": {},
   "source": [
    "### Bootstrap для региона 0"
   ]
  },
  {
   "cell_type": "code",
   "execution_count": 27,
   "metadata": {
    "scrolled": true
   },
   "outputs": [
    {
     "name": "stdout",
     "output_type": "stream",
     "text": [
      "Средняя прибыль: 426.71 млн.руб\n",
      "С вероятностью 95% прибыль в данном регионе будет составлять от: -85.23 млн.руб до: 928.10 млн.руб\n",
      "95%-ый доверительный интервал: от 410.32 млн.руб до 443.09 млн.руб\n",
      "Процент вероятности убытка в данном регионе составит 5.50%\n"
     ]
    },
    {
     "data": {
      "image/png": "[encoded data removed]",
      "text/plain": [
       "<Figure size 720x288 with 1 Axes>"
      ]
     },
     "metadata": {
      "needs_background": "light"
     },
     "output_type": "display_data"
    }
   ],
   "source": [
    "bootstrap_1000(target_valid_0, predicted_target_0)"
   ]
  },
  {
   "cell_type": "markdown",
   "metadata": {},
   "source": [
    "### Bootstrap для региона 1"
   ]
  },
  {
   "cell_type": "code",
   "execution_count": 28,
   "metadata": {
    "scrolled": true
   },
   "outputs": [
    {
     "name": "stdout",
     "output_type": "stream",
     "text": [
      "Средняя прибыль: 446.20 млн.руб\n",
      "С вероятностью 95% прибыль в данном регионе будет составлять от: 65.27 млн.руб до: 851.60 млн.руб\n",
      "95%-ый доверительный интервал: от 433.48 млн.руб до 458.91 млн.руб\n",
      "Процент вероятности убытка в данном регионе составит 1.30%\n"
     ]
    },
    {
     "data": {
      "image/png": "[encoded data removed]",
      "text/plain": [
       "<Figure size 720x288 with 1 Axes>"
      ]
     },
     "metadata": {
      "needs_background": "light"
     },
     "output_type": "display_data"
    }
   ],
   "source": [
    "bootstrap_1000(target_valid_1, predicted_target_1)"
   ]
  },
  {
   "cell_type": "markdown",
   "metadata": {},
   "source": [
    "### Bootstrap для региона 2"
   ]
  },
  {
   "cell_type": "code",
   "execution_count": 29,
   "metadata": {
    "scrolled": true
   },
   "outputs": [
    {
     "name": "stdout",
     "output_type": "stream",
     "text": [
      "Средняя прибыль: 362.24 млн.руб\n",
      "С вероятностью 95% прибыль в данном регионе будет составлять от: -147.35 млн.руб до: 873.06 млн.руб\n",
      "95%-ый доверительный интервал: от 345.84 млн.руб до 378.64 млн.руб\n",
      "Процент вероятности убытка в данном регионе составит 8.20%\n"
     ]
    },
    {
     "data": {
      "image/png": "[encoded data removed]",
      "text/plain": [
       "<Figure size 720x288 with 1 Axes>"
      ]
     },
     "metadata": {
      "needs_background": "light"
     },
     "output_type": "display_data"
    }
   ],
   "source": [
    "bootstrap_1000(target_valid_2, predicted_target_2)"
   ]
  },
  {
   "cell_type": "markdown",
   "metadata": {},
   "source": [
    "**Вывод:**\n",
    "\n",
    "Наиболее выгодный для разработки скважин **регион 2**. У него минимальные риски 1.30% и максимальная средняя прибыль: 446.20 млн.руб."
   ]
  },
  {
   "cell_type": "markdown",
   "metadata": {},
   "source": [
    "## Общие выводы"
   ]
  },
  {
   "cell_type": "markdown",
   "metadata": {},
   "source": [
    "При исследовании датасетов было выявлено, что они состоят из 10000 строк. Полных дубликатов нет. В регионе 1 наблюдается сильная корреляция между столбцами f2 и product.\n",
    "\n",
    "Для обучения модели был удален столбец id, не имеющий для нее значения.\n",
    "\n",
    "Построены гистограммы распределения f0, f1, f2.\n",
    "\n",
    "Обучение модели проводилось с помощью линейной регрессии.\n",
    "\n",
    "Лучшее RMSE было выявлено в регионе 1.\n",
    "\n",
    "Расчет прибыли и рисков показал, что суммарный запас сырья в 200 лучших скважинах и прибыль получились для **региона 0**. 30183.55 тыс.баррелей и 3582.60 млн.рублей соответственно.\n",
    "\n",
    "С помощи техники Bootstrap с 1000 выборок было найдено распределение прибыли в трех регионах. Наиболее выгодный для разработки скважин оказался **регион 1**. У него минимальные риски 1.30% и максимальная средняя прибыль: 446.20 млн.руб."
   ]
  },
  {
   "cell_type": "markdown",
   "metadata": {},
   "source": [
    "## Чек-лист готовности проекта"
   ]
  },
  {
   "cell_type": "markdown",
   "metadata": {},
   "source": [
    "Поставьте 'x' в выполненных пунктах. Далее нажмите Shift+Enter."
   ]
  },
  {
   "cell_type": "markdown",
   "metadata": {},
   "source": [
    "- [x]  Jupyter Notebook открыт\n",
    "- [x]  Весь код выполняется без ошибок\n",
    "- [x]  Ячейки с кодом расположены в порядке исполнения\n",
    "- [x]  Выполнен шаг 1: данные подготовлены\n",
    "- [x]  Выполнен шаг 2: модели обучены и проверены\n",
    "    - [x]  Данные корректно разбиты на обучающую и валидационную выборки\n",
    "    - [x]  Модели обучены, предсказания сделаны\n",
    "    - [x]  Предсказания и правильные ответы на валидационной выборке сохранены\n",
    "    - [x]  На экране напечатаны результаты\n",
    "    - [x]  Сделаны выводы\n",
    "- [x]  Выполнен шаг 3: проведена подготовка к расчёту прибыли\n",
    "    - [x]  Для всех ключевых значений созданы константы Python\n",
    "    - [x]  Посчитано минимальное среднее количество продукта в месторождениях региона, достаточное для разработки\n",
    "    - [x]  По предыдущему пункту сделаны выводы\n",
    "    - [x]  Написана функция расчёта прибыли\n",
    "- [x]  Выполнен шаг 4: посчитаны риски и прибыль\n",
    "    - [x]  Проведена процедура *Bootstrap*\n",
    "    - [x]  Все параметры бутстрепа соответствуют условию\n",
    "    - [x]  Найдены все нужные величины\n",
    "    - [x]  Предложен регион для разработки месторождения\n",
    "    - [x]  Выбор региона обоснован"
   ]
  }
 ],
 "metadata": {
  "ExecuteTimeLog": [
   {
    "duration": 1728,
    "start_time": "2023-05-05T08:22:57.361Z"
   },
   {
    "duration": 884,
    "start_time": "2023-05-05T08:22:59.092Z"
   },
   {
    "duration": 16,
    "start_time": "2023-05-05T08:28:53.865Z"
   },
   {
    "duration": 19,
    "start_time": "2023-05-05T08:29:42.583Z"
   },
   {
    "duration": 12,
    "start_time": "2023-05-05T08:30:11.790Z"
   },
   {
    "duration": 113,
    "start_time": "2023-05-05T08:30:28.918Z"
   },
   {
    "duration": 22,
    "start_time": "2023-05-05T08:30:36.578Z"
   },
   {
    "duration": 10,
    "start_time": "2023-05-05T08:30:52.916Z"
   },
   {
    "duration": 1353,
    "start_time": "2023-05-05T08:33:02.842Z"
   },
   {
    "duration": 358,
    "start_time": "2023-05-05T08:33:04.197Z"
   },
   {
    "duration": 17,
    "start_time": "2023-05-05T08:33:04.557Z"
   },
   {
    "duration": 25,
    "start_time": "2023-05-05T08:33:04.576Z"
   },
   {
    "duration": 15,
    "start_time": "2023-05-05T08:33:04.603Z"
   },
   {
    "duration": 44,
    "start_time": "2023-05-05T08:33:04.620Z"
   },
   {
    "duration": 10,
    "start_time": "2023-05-05T08:33:04.666Z"
   },
   {
    "duration": 21,
    "start_time": "2023-05-05T08:33:04.678Z"
   },
   {
    "duration": 14,
    "start_time": "2023-05-05T09:44:58.564Z"
   },
   {
    "duration": 136,
    "start_time": "2023-05-05T10:23:15.544Z"
   },
   {
    "duration": 497,
    "start_time": "2023-05-05T10:29:26.062Z"
   },
   {
    "duration": 337,
    "start_time": "2023-05-05T10:29:54.223Z"
   },
   {
    "duration": 384,
    "start_time": "2023-05-05T10:30:04.655Z"
   },
   {
    "duration": 343,
    "start_time": "2023-05-05T10:30:33.023Z"
   },
   {
    "duration": 393,
    "start_time": "2023-05-05T10:30:35.310Z"
   },
   {
    "duration": 1496,
    "start_time": "2023-05-06T04:25:31.864Z"
   },
   {
    "duration": 1581,
    "start_time": "2023-05-06T04:25:33.363Z"
   },
   {
    "duration": 18,
    "start_time": "2023-05-06T04:25:34.946Z"
   },
   {
    "duration": 18,
    "start_time": "2023-05-06T04:25:34.966Z"
   },
   {
    "duration": 14,
    "start_time": "2023-05-06T04:25:34.985Z"
   },
   {
    "duration": 24,
    "start_time": "2023-05-06T04:25:35.001Z"
   },
   {
    "duration": 11,
    "start_time": "2023-05-06T04:25:35.027Z"
   },
   {
    "duration": 36,
    "start_time": "2023-05-06T04:25:35.040Z"
   },
   {
    "duration": 176,
    "start_time": "2023-05-06T04:25:35.078Z"
   },
   {
    "duration": 20,
    "start_time": "2023-05-06T04:25:35.257Z"
   },
   {
    "duration": 482,
    "start_time": "2023-05-06T04:25:35.279Z"
   },
   {
    "duration": 351,
    "start_time": "2023-05-06T04:25:35.763Z"
   },
   {
    "duration": 391,
    "start_time": "2023-05-06T04:25:36.116Z"
   },
   {
    "duration": 1385,
    "start_time": "2023-05-06T09:54:22.671Z"
   },
   {
    "duration": 866,
    "start_time": "2023-05-06T09:54:24.058Z"
   },
   {
    "duration": 12,
    "start_time": "2023-05-06T09:54:24.926Z"
   },
   {
    "duration": 14,
    "start_time": "2023-05-06T09:54:24.939Z"
   },
   {
    "duration": 8,
    "start_time": "2023-05-06T09:54:24.955Z"
   },
   {
    "duration": 14,
    "start_time": "2023-05-06T09:54:24.964Z"
   },
   {
    "duration": 9,
    "start_time": "2023-05-06T09:54:24.994Z"
   },
   {
    "duration": 24,
    "start_time": "2023-05-06T09:54:25.005Z"
   },
   {
    "duration": 125,
    "start_time": "2023-05-06T09:54:25.031Z"
   },
   {
    "duration": 10,
    "start_time": "2023-05-06T09:54:25.158Z"
   },
   {
    "duration": 466,
    "start_time": "2023-05-06T09:54:25.170Z"
   },
   {
    "duration": 302,
    "start_time": "2023-05-06T09:54:25.637Z"
   },
   {
    "duration": 305,
    "start_time": "2023-05-06T09:54:25.941Z"
   },
   {
    "duration": 118,
    "start_time": "2023-05-06T10:09:08.098Z"
   },
   {
    "duration": 20,
    "start_time": "2023-05-06T10:09:29.398Z"
   },
   {
    "duration": 15,
    "start_time": "2023-05-06T10:10:01.307Z"
   },
   {
    "duration": 14,
    "start_time": "2023-05-06T10:10:26.515Z"
   },
   {
    "duration": 136,
    "start_time": "2023-05-06T10:10:45.559Z"
   },
   {
    "duration": 13,
    "start_time": "2023-05-06T10:11:00.624Z"
   },
   {
    "duration": 1327,
    "start_time": "2023-05-06T10:15:05.570Z"
   },
   {
    "duration": 373,
    "start_time": "2023-05-06T10:15:06.900Z"
   },
   {
    "duration": 13,
    "start_time": "2023-05-06T10:15:07.275Z"
   },
   {
    "duration": 20,
    "start_time": "2023-05-06T10:15:07.289Z"
   },
   {
    "duration": 9,
    "start_time": "2023-05-06T10:15:07.311Z"
   },
   {
    "duration": 21,
    "start_time": "2023-05-06T10:15:07.321Z"
   },
   {
    "duration": 8,
    "start_time": "2023-05-06T10:15:07.344Z"
   },
   {
    "duration": 16,
    "start_time": "2023-05-06T10:15:07.354Z"
   },
   {
    "duration": 138,
    "start_time": "2023-05-06T10:15:07.395Z"
   },
   {
    "duration": 11,
    "start_time": "2023-05-06T10:15:07.535Z"
   },
   {
    "duration": 405,
    "start_time": "2023-05-06T10:15:07.547Z"
   },
   {
    "duration": 345,
    "start_time": "2023-05-06T10:15:07.954Z"
   },
   {
    "duration": 312,
    "start_time": "2023-05-06T10:15:08.300Z"
   },
   {
    "duration": 16,
    "start_time": "2023-05-06T10:15:08.615Z"
   },
   {
    "duration": 14,
    "start_time": "2023-05-06T10:16:44.548Z"
   },
   {
    "duration": 10,
    "start_time": "2023-05-06T10:16:49.548Z"
   },
   {
    "duration": 12,
    "start_time": "2023-05-06T11:23:18.078Z"
   },
   {
    "duration": 15,
    "start_time": "2023-05-06T11:23:18.780Z"
   },
   {
    "duration": 14,
    "start_time": "2023-05-06T11:23:39.108Z"
   },
   {
    "duration": 13,
    "start_time": "2023-05-06T11:23:39.904Z"
   },
   {
    "duration": 4,
    "start_time": "2023-05-06T11:42:17.688Z"
   },
   {
    "duration": 18,
    "start_time": "2023-05-06T11:42:46.098Z"
   },
   {
    "duration": 3,
    "start_time": "2023-05-06T12:29:26.125Z"
   },
   {
    "duration": 23,
    "start_time": "2023-05-06T12:29:26.797Z"
   },
   {
    "duration": 1252,
    "start_time": "2023-05-06T13:04:10.640Z"
   },
   {
    "duration": 351,
    "start_time": "2023-05-06T13:04:11.894Z"
   },
   {
    "duration": 13,
    "start_time": "2023-05-06T13:04:12.246Z"
   },
   {
    "duration": 19,
    "start_time": "2023-05-06T13:04:12.261Z"
   },
   {
    "duration": 19,
    "start_time": "2023-05-06T13:04:12.282Z"
   },
   {
    "duration": 23,
    "start_time": "2023-05-06T13:04:12.302Z"
   },
   {
    "duration": 10,
    "start_time": "2023-05-06T13:04:12.327Z"
   },
   {
    "duration": 29,
    "start_time": "2023-05-06T13:04:12.338Z"
   },
   {
    "duration": 136,
    "start_time": "2023-05-06T13:04:12.368Z"
   },
   {
    "duration": 12,
    "start_time": "2023-05-06T13:04:12.506Z"
   },
   {
    "duration": 402,
    "start_time": "2023-05-06T13:04:12.520Z"
   },
   {
    "duration": 297,
    "start_time": "2023-05-06T13:04:12.923Z"
   },
   {
    "duration": 319,
    "start_time": "2023-05-06T13:04:13.221Z"
   },
   {
    "duration": 16,
    "start_time": "2023-05-06T13:04:13.542Z"
   },
   {
    "duration": 13,
    "start_time": "2023-05-06T13:04:13.559Z"
   },
   {
    "duration": 32,
    "start_time": "2023-05-06T13:04:13.574Z"
   },
   {
    "duration": 4,
    "start_time": "2023-05-06T13:04:13.607Z"
   },
   {
    "duration": 30,
    "start_time": "2023-05-06T13:04:13.613Z"
   },
   {
    "duration": 17,
    "start_time": "2023-05-07T03:55:59.395Z"
   },
   {
    "duration": 43,
    "start_time": "2023-05-07T03:56:06.045Z"
   },
   {
    "duration": 1528,
    "start_time": "2023-05-07T03:56:12.340Z"
   },
   {
    "duration": 1675,
    "start_time": "2023-05-07T03:56:13.870Z"
   },
   {
    "duration": 14,
    "start_time": "2023-05-07T03:56:15.547Z"
   },
   {
    "duration": 42,
    "start_time": "2023-05-07T03:56:15.562Z"
   },
   {
    "duration": 9,
    "start_time": "2023-05-07T03:56:15.606Z"
   },
   {
    "duration": 17,
    "start_time": "2023-05-07T03:56:15.617Z"
   },
   {
    "duration": 15,
    "start_time": "2023-05-07T03:56:15.635Z"
   },
   {
    "duration": 24,
    "start_time": "2023-05-07T03:56:15.652Z"
   },
   {
    "duration": 171,
    "start_time": "2023-05-07T03:56:15.678Z"
   },
   {
    "duration": 15,
    "start_time": "2023-05-07T03:56:15.851Z"
   },
   {
    "duration": 440,
    "start_time": "2023-05-07T03:56:15.868Z"
   },
   {
    "duration": 349,
    "start_time": "2023-05-07T03:56:16.310Z"
   },
   {
    "duration": 337,
    "start_time": "2023-05-07T03:56:16.661Z"
   },
   {
    "duration": 17,
    "start_time": "2023-05-07T03:56:17.000Z"
   },
   {
    "duration": 30,
    "start_time": "2023-05-07T03:56:17.019Z"
   },
   {
    "duration": 15,
    "start_time": "2023-05-07T03:56:17.051Z"
   },
   {
    "duration": 4,
    "start_time": "2023-05-07T03:56:17.068Z"
   },
   {
    "duration": 43,
    "start_time": "2023-05-07T03:56:17.074Z"
   },
   {
    "duration": 4,
    "start_time": "2023-05-07T03:58:18.440Z"
   },
   {
    "duration": 37,
    "start_time": "2023-05-07T03:58:18.951Z"
   },
   {
    "duration": 1491,
    "start_time": "2023-05-08T01:35:16.231Z"
   },
   {
    "duration": 1566,
    "start_time": "2023-05-08T01:35:17.724Z"
   },
   {
    "duration": 14,
    "start_time": "2023-05-08T01:35:19.292Z"
   },
   {
    "duration": 31,
    "start_time": "2023-05-08T01:35:19.308Z"
   },
   {
    "duration": 12,
    "start_time": "2023-05-08T01:35:19.342Z"
   },
   {
    "duration": 27,
    "start_time": "2023-05-08T01:35:19.356Z"
   },
   {
    "duration": 10,
    "start_time": "2023-05-08T01:35:19.385Z"
   },
   {
    "duration": 22,
    "start_time": "2023-05-08T01:35:19.397Z"
   },
   {
    "duration": 145,
    "start_time": "2023-05-08T01:35:19.421Z"
   },
   {
    "duration": 13,
    "start_time": "2023-05-08T01:35:19.568Z"
   },
   {
    "duration": 497,
    "start_time": "2023-05-08T01:35:19.583Z"
   },
   {
    "duration": 337,
    "start_time": "2023-05-08T01:35:20.083Z"
   },
   {
    "duration": 315,
    "start_time": "2023-05-08T01:35:20.421Z"
   },
   {
    "duration": 16,
    "start_time": "2023-05-08T01:35:20.739Z"
   },
   {
    "duration": 16,
    "start_time": "2023-05-08T01:35:20.756Z"
   },
   {
    "duration": 17,
    "start_time": "2023-05-08T01:35:20.774Z"
   },
   {
    "duration": 26,
    "start_time": "2023-05-08T01:35:20.793Z"
   },
   {
    "duration": 77,
    "start_time": "2023-05-08T01:35:20.821Z"
   },
   {
    "duration": 348,
    "start_time": "2023-05-08T01:42:37.815Z"
   },
   {
    "duration": 403,
    "start_time": "2023-05-08T01:42:40.642Z"
   },
   {
    "duration": 240,
    "start_time": "2023-05-08T01:46:13.733Z"
   },
   {
    "duration": 218,
    "start_time": "2023-05-08T01:47:04.643Z"
   },
   {
    "duration": 282,
    "start_time": "2023-05-08T01:47:32.477Z"
   },
   {
    "duration": 283,
    "start_time": "2023-05-08T01:49:27.455Z"
   },
   {
    "duration": 268,
    "start_time": "2023-05-08T01:49:53.728Z"
   },
   {
    "duration": 299,
    "start_time": "2023-05-08T01:50:43.480Z"
   },
   {
    "duration": 277,
    "start_time": "2023-05-08T01:51:19.632Z"
   },
   {
    "duration": 310,
    "start_time": "2023-05-08T01:51:34.640Z"
   },
   {
    "duration": 282,
    "start_time": "2023-05-08T01:51:44.503Z"
   },
   {
    "duration": 268,
    "start_time": "2023-05-08T01:52:11.128Z"
   },
   {
    "duration": 473,
    "start_time": "2023-05-08T01:53:21.497Z"
   },
   {
    "duration": 369,
    "start_time": "2023-05-08T01:53:21.972Z"
   },
   {
    "duration": 324,
    "start_time": "2023-05-08T01:53:22.431Z"
   },
   {
    "duration": 253,
    "start_time": "2023-05-08T01:54:10.937Z"
   },
   {
    "duration": 267,
    "start_time": "2023-05-08T01:54:20.545Z"
   },
   {
    "duration": 272,
    "start_time": "2023-05-08T01:54:30.281Z"
   },
   {
    "duration": 279,
    "start_time": "2023-05-08T01:54:34.828Z"
   },
   {
    "duration": 266,
    "start_time": "2023-05-08T01:54:50.818Z"
   },
   {
    "duration": 343,
    "start_time": "2023-05-08T01:55:35.034Z"
   },
   {
    "duration": 273,
    "start_time": "2023-05-08T01:56:23.315Z"
   },
   {
    "duration": 258,
    "start_time": "2023-05-08T01:56:43.987Z"
   },
   {
    "duration": 386,
    "start_time": "2023-05-08T01:57:06.189Z"
   },
   {
    "duration": 283,
    "start_time": "2023-05-08T02:10:02.218Z"
   },
   {
    "duration": 265,
    "start_time": "2023-05-08T02:12:49.047Z"
   },
   {
    "duration": 5,
    "start_time": "2023-05-08T02:15:27.470Z"
   },
   {
    "duration": 95,
    "start_time": "2023-05-08T02:15:55.399Z"
   },
   {
    "duration": 5,
    "start_time": "2023-05-08T02:26:58.759Z"
   },
   {
    "duration": 40,
    "start_time": "2023-05-08T02:26:59.294Z"
   },
   {
    "duration": 10,
    "start_time": "2023-05-08T02:27:01.095Z"
   },
   {
    "duration": 9,
    "start_time": "2023-05-08T02:27:46.120Z"
   },
   {
    "duration": 5,
    "start_time": "2023-05-08T02:28:37.200Z"
   },
   {
    "duration": 39,
    "start_time": "2023-05-08T02:28:37.863Z"
   },
   {
    "duration": 10,
    "start_time": "2023-05-08T02:28:39.647Z"
   },
   {
    "duration": 44,
    "start_time": "2023-05-08T02:29:53.680Z"
   },
   {
    "duration": 6,
    "start_time": "2023-05-08T03:20:52.485Z"
   },
   {
    "duration": 108,
    "start_time": "2023-05-08T03:20:52.912Z"
   },
   {
    "duration": 6,
    "start_time": "2023-05-08T03:21:07.728Z"
   },
   {
    "duration": 5,
    "start_time": "2023-05-08T03:21:11.809Z"
   },
   {
    "duration": 172,
    "start_time": "2023-05-08T03:21:12.248Z"
   },
   {
    "duration": 5,
    "start_time": "2023-05-08T03:25:01.587Z"
   },
   {
    "duration": 210,
    "start_time": "2023-05-08T03:25:03.219Z"
   },
   {
    "duration": 6,
    "start_time": "2023-05-08T03:26:16.060Z"
   },
   {
    "duration": 5,
    "start_time": "2023-05-08T03:39:26.806Z"
   },
   {
    "duration": 5,
    "start_time": "2023-05-08T03:39:55.325Z"
   },
   {
    "duration": 230,
    "start_time": "2023-05-08T03:39:55.804Z"
   },
   {
    "duration": 6,
    "start_time": "2023-05-08T03:42:10.647Z"
   },
   {
    "duration": 5,
    "start_time": "2023-05-08T03:42:10.975Z"
   },
   {
    "duration": 240,
    "start_time": "2023-05-08T03:42:11.790Z"
   },
   {
    "duration": 229,
    "start_time": "2023-05-08T03:44:55.401Z"
   },
   {
    "duration": 209,
    "start_time": "2023-05-08T03:44:56.824Z"
   },
   {
    "duration": 5,
    "start_time": "2023-05-08T03:52:30.553Z"
   },
   {
    "duration": 5,
    "start_time": "2023-05-08T03:52:30.943Z"
   },
   {
    "duration": 251,
    "start_time": "2023-05-08T03:52:31.974Z"
   },
   {
    "duration": 5,
    "start_time": "2023-05-08T03:53:22.792Z"
   },
   {
    "duration": 5,
    "start_time": "2023-05-08T03:53:23.112Z"
   },
   {
    "duration": 215,
    "start_time": "2023-05-08T03:53:24.607Z"
   },
   {
    "duration": 200,
    "start_time": "2023-05-08T03:53:32.526Z"
   },
   {
    "duration": 253,
    "start_time": "2023-05-08T03:53:34.471Z"
   },
   {
    "duration": 4,
    "start_time": "2023-05-08T04:59:46.845Z"
   },
   {
    "duration": 292,
    "start_time": "2023-05-08T05:03:14.927Z"
   },
   {
    "duration": 200,
    "start_time": "2023-05-08T05:03:25.343Z"
   },
   {
    "duration": 4,
    "start_time": "2023-05-08T05:03:40.536Z"
   },
   {
    "duration": 178,
    "start_time": "2023-05-08T05:04:17.552Z"
   },
   {
    "duration": 4,
    "start_time": "2023-05-08T05:04:18.551Z"
   },
   {
    "duration": 103,
    "start_time": "2023-05-08T05:04:41.592Z"
   },
   {
    "duration": 5,
    "start_time": "2023-05-08T05:04:49.673Z"
   },
   {
    "duration": 1337,
    "start_time": "2023-05-08T05:04:57.978Z"
   },
   {
    "duration": 394,
    "start_time": "2023-05-08T05:04:59.317Z"
   },
   {
    "duration": 16,
    "start_time": "2023-05-08T05:04:59.712Z"
   },
   {
    "duration": 43,
    "start_time": "2023-05-08T05:04:59.731Z"
   },
   {
    "duration": 11,
    "start_time": "2023-05-08T05:04:59.776Z"
   },
   {
    "duration": 38,
    "start_time": "2023-05-08T05:04:59.789Z"
   },
   {
    "duration": 17,
    "start_time": "2023-05-08T05:04:59.829Z"
   },
   {
    "duration": 39,
    "start_time": "2023-05-08T05:04:59.848Z"
   },
   {
    "duration": 141,
    "start_time": "2023-05-08T05:04:59.889Z"
   },
   {
    "duration": 13,
    "start_time": "2023-05-08T05:05:00.033Z"
   },
   {
    "duration": 411,
    "start_time": "2023-05-08T05:05:00.047Z"
   },
   {
    "duration": 328,
    "start_time": "2023-05-08T05:05:00.460Z"
   },
   {
    "duration": 341,
    "start_time": "2023-05-08T05:05:00.790Z"
   },
   {
    "duration": 298,
    "start_time": "2023-05-08T05:05:01.133Z"
   },
   {
    "duration": 7,
    "start_time": "2023-05-08T05:05:01.433Z"
   },
   {
    "duration": 56,
    "start_time": "2023-05-08T05:05:01.442Z"
   },
   {
    "duration": 226,
    "start_time": "2023-05-08T05:05:01.499Z"
   },
   {
    "duration": 5,
    "start_time": "2023-05-08T05:05:01.817Z"
   },
   {
    "duration": 404,
    "start_time": "2023-05-08T05:05:01.824Z"
   },
   {
    "duration": 400,
    "start_time": "2023-05-08T05:05:02.231Z"
   },
   {
    "duration": 84,
    "start_time": "2023-05-08T05:05:02.634Z"
   },
   {
    "duration": 343,
    "start_time": "2023-05-08T05:06:40.976Z"
   },
   {
    "duration": 5,
    "start_time": "2023-05-08T05:08:04.436Z"
   },
   {
    "duration": 6,
    "start_time": "2023-05-08T05:08:51.994Z"
   },
   {
    "duration": 8,
    "start_time": "2023-05-08T05:32:41.659Z"
   },
   {
    "duration": 9,
    "start_time": "2023-05-08T05:32:42.313Z"
   },
   {
    "duration": 7,
    "start_time": "2023-05-08T05:34:12.668Z"
   },
   {
    "duration": 6,
    "start_time": "2023-05-08T05:34:29.874Z"
   },
   {
    "duration": 6,
    "start_time": "2023-05-08T05:47:32.917Z"
   },
   {
    "duration": 207,
    "start_time": "2023-05-08T05:54:59.512Z"
   },
   {
    "duration": 288,
    "start_time": "2023-05-08T05:55:01.784Z"
   },
   {
    "duration": 212,
    "start_time": "2023-05-08T05:55:03.711Z"
   },
   {
    "duration": 4,
    "start_time": "2023-05-08T05:55:59.445Z"
   },
   {
    "duration": 1664,
    "start_time": "2023-05-08T05:56:21.887Z"
   },
   {
    "duration": 454,
    "start_time": "2023-05-08T05:56:23.553Z"
   },
   {
    "duration": 27,
    "start_time": "2023-05-08T05:56:24.009Z"
   },
   {
    "duration": 28,
    "start_time": "2023-05-08T05:56:24.039Z"
   },
   {
    "duration": 10,
    "start_time": "2023-05-08T05:56:24.069Z"
   },
   {
    "duration": 24,
    "start_time": "2023-05-08T05:56:24.080Z"
   },
   {
    "duration": 23,
    "start_time": "2023-05-08T05:56:24.106Z"
   },
   {
    "duration": 34,
    "start_time": "2023-05-08T05:56:24.137Z"
   },
   {
    "duration": 170,
    "start_time": "2023-05-08T05:56:24.173Z"
   },
   {
    "duration": 14,
    "start_time": "2023-05-08T05:56:24.345Z"
   },
   {
    "duration": 442,
    "start_time": "2023-05-08T05:56:24.361Z"
   },
   {
    "duration": 356,
    "start_time": "2023-05-08T05:56:24.804Z"
   },
   {
    "duration": 335,
    "start_time": "2023-05-08T05:56:25.162Z"
   },
   {
    "duration": 348,
    "start_time": "2023-05-08T05:56:25.501Z"
   },
   {
    "duration": 9,
    "start_time": "2023-05-08T05:56:25.851Z"
   },
   {
    "duration": 41,
    "start_time": "2023-05-08T05:56:25.862Z"
   },
   {
    "duration": 336,
    "start_time": "2023-05-08T05:56:25.905Z"
   },
   {
    "duration": 421,
    "start_time": "2023-05-08T05:56:26.246Z"
   },
   {
    "duration": 384,
    "start_time": "2023-05-08T05:56:26.670Z"
   },
   {
    "duration": 68,
    "start_time": "2023-05-08T05:56:27.056Z"
   },
   {
    "duration": 132,
    "start_time": "2023-05-08T05:56:27.126Z"
   },
   {
    "duration": 18,
    "start_time": "2023-05-08T05:56:27.260Z"
   },
   {
    "duration": 137,
    "start_time": "2023-05-08T05:58:49.883Z"
   },
   {
    "duration": 14,
    "start_time": "2023-05-08T06:00:53.390Z"
   },
   {
    "duration": 12,
    "start_time": "2023-05-08T06:01:48.213Z"
   },
   {
    "duration": 11,
    "start_time": "2023-05-08T06:02:00.292Z"
   },
   {
    "duration": 3,
    "start_time": "2023-05-08T06:02:16.613Z"
   },
   {
    "duration": 3,
    "start_time": "2023-05-08T06:02:23.645Z"
   },
   {
    "duration": 9,
    "start_time": "2023-05-08T06:02:34.317Z"
   },
   {
    "duration": 1692,
    "start_time": "2023-05-08T06:02:44.785Z"
   },
   {
    "duration": 475,
    "start_time": "2023-05-08T06:02:46.479Z"
   },
   {
    "duration": 14,
    "start_time": "2023-05-08T06:02:46.956Z"
   },
   {
    "duration": 22,
    "start_time": "2023-05-08T06:02:46.971Z"
   },
   {
    "duration": 40,
    "start_time": "2023-05-08T06:02:46.996Z"
   },
   {
    "duration": 28,
    "start_time": "2023-05-08T06:02:47.046Z"
   },
   {
    "duration": 15,
    "start_time": "2023-05-08T06:02:47.076Z"
   },
   {
    "duration": 16,
    "start_time": "2023-05-08T06:02:47.092Z"
   },
   {
    "duration": 184,
    "start_time": "2023-05-08T06:02:47.110Z"
   },
   {
    "duration": 25,
    "start_time": "2023-05-08T06:02:47.296Z"
   },
   {
    "duration": 472,
    "start_time": "2023-05-08T06:02:47.325Z"
   },
   {
    "duration": 373,
    "start_time": "2023-05-08T06:02:47.799Z"
   },
   {
    "duration": 394,
    "start_time": "2023-05-08T06:02:48.174Z"
   },
   {
    "duration": 324,
    "start_time": "2023-05-08T06:02:48.572Z"
   },
   {
    "duration": 7,
    "start_time": "2023-05-08T06:02:48.897Z"
   },
   {
    "duration": 35,
    "start_time": "2023-05-08T06:02:48.917Z"
   },
   {
    "duration": 268,
    "start_time": "2023-05-08T06:02:48.955Z"
   },
   {
    "duration": 427,
    "start_time": "2023-05-08T06:02:49.225Z"
   },
   {
    "duration": 458,
    "start_time": "2023-05-08T06:02:49.663Z"
   },
   {
    "duration": 16,
    "start_time": "2023-05-08T06:02:50.134Z"
   },
   {
    "duration": 112,
    "start_time": "2023-05-08T06:02:50.155Z"
   },
   {
    "duration": 7,
    "start_time": "2023-05-08T06:02:50.269Z"
   },
   {
    "duration": 11,
    "start_time": "2023-05-08T06:02:50.278Z"
   },
   {
    "duration": 101,
    "start_time": "2023-05-08T06:03:48.102Z"
   },
   {
    "duration": 39,
    "start_time": "2023-05-08T06:04:32.592Z"
   },
   {
    "duration": 53,
    "start_time": "2023-05-08T06:04:40.903Z"
   },
   {
    "duration": 13,
    "start_time": "2023-05-08T06:04:53.468Z"
   },
   {
    "duration": 14,
    "start_time": "2023-05-08T06:15:44.968Z"
   },
   {
    "duration": 134,
    "start_time": "2023-05-08T11:12:26.267Z"
   },
   {
    "duration": 98,
    "start_time": "2023-05-08T11:14:34.457Z"
   },
   {
    "duration": 9,
    "start_time": "2023-05-08T11:14:44.370Z"
   },
   {
    "duration": 7,
    "start_time": "2023-05-08T11:16:30.668Z"
   },
   {
    "duration": 7,
    "start_time": "2023-05-08T11:16:47.502Z"
   },
   {
    "duration": 6,
    "start_time": "2023-05-08T11:18:43.752Z"
   },
   {
    "duration": 4,
    "start_time": "2023-05-08T11:21:37.104Z"
   },
   {
    "duration": 5,
    "start_time": "2023-05-08T11:21:59.858Z"
   },
   {
    "duration": 29,
    "start_time": "2023-05-08T11:22:22.314Z"
   },
   {
    "duration": 26,
    "start_time": "2023-05-08T11:22:24.985Z"
   },
   {
    "duration": 3,
    "start_time": "2023-05-08T11:35:27.771Z"
   },
   {
    "duration": 7,
    "start_time": "2023-05-08T12:26:31.654Z"
   },
   {
    "duration": 9,
    "start_time": "2023-05-08T12:26:32.397Z"
   },
   {
    "duration": 1474,
    "start_time": "2023-05-08T12:26:50.214Z"
   },
   {
    "duration": 448,
    "start_time": "2023-05-08T12:26:51.690Z"
   },
   {
    "duration": 15,
    "start_time": "2023-05-08T12:26:52.140Z"
   },
   {
    "duration": 52,
    "start_time": "2023-05-08T12:26:52.156Z"
   },
   {
    "duration": 9,
    "start_time": "2023-05-08T12:26:52.210Z"
   },
   {
    "duration": 48,
    "start_time": "2023-05-08T12:26:52.221Z"
   },
   {
    "duration": 20,
    "start_time": "2023-05-08T12:26:52.270Z"
   },
   {
    "duration": 44,
    "start_time": "2023-05-08T12:26:52.292Z"
   },
   {
    "duration": 166,
    "start_time": "2023-05-08T12:26:52.338Z"
   },
   {
    "duration": 23,
    "start_time": "2023-05-08T12:26:52.507Z"
   },
   {
    "duration": 445,
    "start_time": "2023-05-08T12:26:52.532Z"
   },
   {
    "duration": 374,
    "start_time": "2023-05-08T12:26:52.979Z"
   },
   {
    "duration": 393,
    "start_time": "2023-05-08T12:26:53.355Z"
   },
   {
    "duration": 280,
    "start_time": "2023-05-08T12:26:53.751Z"
   },
   {
    "duration": 6,
    "start_time": "2023-05-08T12:26:54.033Z"
   },
   {
    "duration": 55,
    "start_time": "2023-05-08T12:26:54.041Z"
   },
   {
    "duration": 234,
    "start_time": "2023-05-08T12:26:54.098Z"
   },
   {
    "duration": 494,
    "start_time": "2023-05-08T12:26:54.337Z"
   },
   {
    "duration": 316,
    "start_time": "2023-05-08T12:26:54.917Z"
   },
   {
    "duration": 91,
    "start_time": "2023-05-08T12:26:55.235Z"
   },
   {
    "duration": 37,
    "start_time": "2023-05-08T12:26:55.418Z"
   },
   {
    "duration": 67,
    "start_time": "2023-05-08T12:26:55.456Z"
   },
   {
    "duration": 41,
    "start_time": "2023-05-08T12:26:55.525Z"
   },
   {
    "duration": 41,
    "start_time": "2023-05-08T12:26:55.568Z"
   },
   {
    "duration": 41,
    "start_time": "2023-05-08T12:26:55.611Z"
   },
   {
    "duration": 138,
    "start_time": "2023-05-08T12:26:55.654Z"
   },
   {
    "duration": 0,
    "start_time": "2023-05-08T12:26:55.794Z"
   },
   {
    "duration": 0,
    "start_time": "2023-05-08T12:26:55.796Z"
   },
   {
    "duration": 7,
    "start_time": "2023-05-08T12:27:26.335Z"
   },
   {
    "duration": 8,
    "start_time": "2023-05-08T12:27:28.142Z"
   },
   {
    "duration": 11,
    "start_time": "2023-05-08T12:27:53.751Z"
   },
   {
    "duration": 1438,
    "start_time": "2023-05-08T12:30:53.455Z"
   },
   {
    "duration": 419,
    "start_time": "2023-05-08T12:30:54.895Z"
   },
   {
    "duration": 13,
    "start_time": "2023-05-08T12:30:55.316Z"
   },
   {
    "duration": 20,
    "start_time": "2023-05-08T12:30:55.331Z"
   },
   {
    "duration": 23,
    "start_time": "2023-05-08T12:30:55.354Z"
   },
   {
    "duration": 35,
    "start_time": "2023-05-08T12:30:55.379Z"
   },
   {
    "duration": 9,
    "start_time": "2023-05-08T12:30:55.416Z"
   },
   {
    "duration": 30,
    "start_time": "2023-05-08T12:30:55.427Z"
   },
   {
    "duration": 145,
    "start_time": "2023-05-08T12:30:55.459Z"
   },
   {
    "duration": 21,
    "start_time": "2023-05-08T12:30:55.606Z"
   },
   {
    "duration": 424,
    "start_time": "2023-05-08T12:30:55.629Z"
   },
   {
    "duration": 309,
    "start_time": "2023-05-08T12:30:56.055Z"
   },
   {
    "duration": 352,
    "start_time": "2023-05-08T12:30:56.365Z"
   },
   {
    "duration": 286,
    "start_time": "2023-05-08T12:30:56.721Z"
   },
   {
    "duration": 5,
    "start_time": "2023-05-08T12:30:57.009Z"
   },
   {
    "duration": 25,
    "start_time": "2023-05-08T12:30:57.016Z"
   },
   {
    "duration": 276,
    "start_time": "2023-05-08T12:30:57.043Z"
   },
   {
    "duration": 404,
    "start_time": "2023-05-08T12:30:57.321Z"
   },
   {
    "duration": 401,
    "start_time": "2023-05-08T12:30:57.727Z"
   },
   {
    "duration": 87,
    "start_time": "2023-05-08T12:30:58.131Z"
   },
   {
    "duration": 150,
    "start_time": "2023-05-08T12:30:58.221Z"
   },
   {
    "duration": 37,
    "start_time": "2023-05-08T12:30:58.373Z"
   },
   {
    "duration": 67,
    "start_time": "2023-05-08T12:30:58.411Z"
   },
   {
    "duration": 24,
    "start_time": "2023-05-08T12:30:58.479Z"
   },
   {
    "duration": 34,
    "start_time": "2023-05-08T12:30:58.506Z"
   },
   {
    "duration": 42,
    "start_time": "2023-05-08T12:30:58.542Z"
   },
   {
    "duration": 172,
    "start_time": "2023-05-08T12:30:58.586Z"
   },
   {
    "duration": 6,
    "start_time": "2023-05-08T12:31:54.915Z"
   },
   {
    "duration": 14,
    "start_time": "2023-05-08T12:31:56.420Z"
   },
   {
    "duration": 5,
    "start_time": "2023-05-08T12:37:00.036Z"
   },
   {
    "duration": 4,
    "start_time": "2023-05-08T12:38:22.799Z"
   },
   {
    "duration": 4,
    "start_time": "2023-05-08T12:38:34.145Z"
   },
   {
    "duration": 5,
    "start_time": "2023-05-08T12:40:18.210Z"
   },
   {
    "duration": 6,
    "start_time": "2023-05-08T12:40:32.467Z"
   },
   {
    "duration": 7,
    "start_time": "2023-05-08T12:40:41.863Z"
   },
   {
    "duration": 7,
    "start_time": "2023-05-08T12:44:02.968Z"
   },
   {
    "duration": 13,
    "start_time": "2023-05-08T12:44:03.668Z"
   },
   {
    "duration": 7,
    "start_time": "2023-05-08T12:44:21.606Z"
   },
   {
    "duration": 13,
    "start_time": "2023-05-08T12:44:22.060Z"
   },
   {
    "duration": 7,
    "start_time": "2023-05-08T12:44:39.617Z"
   },
   {
    "duration": 909,
    "start_time": "2023-05-08T12:44:40.063Z"
   },
   {
    "duration": 1428,
    "start_time": "2023-05-08T12:45:54.501Z"
   },
   {
    "duration": 422,
    "start_time": "2023-05-08T12:45:55.931Z"
   },
   {
    "duration": 14,
    "start_time": "2023-05-08T12:45:56.355Z"
   },
   {
    "duration": 18,
    "start_time": "2023-05-08T12:45:56.371Z"
   },
   {
    "duration": 27,
    "start_time": "2023-05-08T12:45:56.392Z"
   },
   {
    "duration": 15,
    "start_time": "2023-05-08T12:45:56.421Z"
   },
   {
    "duration": 25,
    "start_time": "2023-05-08T12:45:56.438Z"
   },
   {
    "duration": 30,
    "start_time": "2023-05-08T12:45:56.465Z"
   },
   {
    "duration": 151,
    "start_time": "2023-05-08T12:45:56.497Z"
   },
   {
    "duration": 13,
    "start_time": "2023-05-08T12:45:56.650Z"
   },
   {
    "duration": 478,
    "start_time": "2023-05-08T12:45:56.665Z"
   },
   {
    "duration": 333,
    "start_time": "2023-05-08T12:45:57.144Z"
   },
   {
    "duration": 353,
    "start_time": "2023-05-08T12:45:57.479Z"
   },
   {
    "duration": 287,
    "start_time": "2023-05-08T12:45:57.835Z"
   },
   {
    "duration": 6,
    "start_time": "2023-05-08T12:45:58.124Z"
   },
   {
    "duration": 40,
    "start_time": "2023-05-08T12:45:58.132Z"
   },
   {
    "duration": 346,
    "start_time": "2023-05-08T12:45:58.174Z"
   },
   {
    "duration": 95,
    "start_time": "2023-05-08T12:45:58.523Z"
   },
   {
    "duration": 106,
    "start_time": "2023-05-08T12:45:58.620Z"
   },
   {
    "duration": 291,
    "start_time": "2023-05-08T12:45:58.728Z"
   },
   {
    "duration": 315,
    "start_time": "2023-05-08T12:45:59.023Z"
   },
   {
    "duration": 79,
    "start_time": "2023-05-08T12:45:59.340Z"
   },
   {
    "duration": 110,
    "start_time": "2023-05-08T12:45:59.424Z"
   },
   {
    "duration": 8,
    "start_time": "2023-05-08T12:45:59.536Z"
   },
   {
    "duration": 26,
    "start_time": "2023-05-08T12:45:59.546Z"
   },
   {
    "duration": 24,
    "start_time": "2023-05-08T12:45:59.573Z"
   },
   {
    "duration": 32,
    "start_time": "2023-05-08T12:45:59.599Z"
   },
   {
    "duration": 27,
    "start_time": "2023-05-08T12:45:59.633Z"
   },
   {
    "duration": 1027,
    "start_time": "2023-05-08T12:45:59.662Z"
   },
   {
    "duration": 1465,
    "start_time": "2023-05-08T13:00:34.683Z"
   },
   {
    "duration": 439,
    "start_time": "2023-05-08T13:00:36.151Z"
   },
   {
    "duration": 28,
    "start_time": "2023-05-08T13:00:36.592Z"
   },
   {
    "duration": 17,
    "start_time": "2023-05-08T13:00:36.622Z"
   },
   {
    "duration": 11,
    "start_time": "2023-05-08T13:00:36.642Z"
   },
   {
    "duration": 23,
    "start_time": "2023-05-08T13:00:36.655Z"
   },
   {
    "duration": 42,
    "start_time": "2023-05-08T13:00:36.680Z"
   },
   {
    "duration": 41,
    "start_time": "2023-05-08T13:00:36.725Z"
   },
   {
    "duration": 176,
    "start_time": "2023-05-08T13:00:36.772Z"
   },
   {
    "duration": 20,
    "start_time": "2023-05-08T13:00:36.952Z"
   },
   {
    "duration": 487,
    "start_time": "2023-05-08T13:00:36.974Z"
   },
   {
    "duration": 405,
    "start_time": "2023-05-08T13:00:37.463Z"
   },
   {
    "duration": 381,
    "start_time": "2023-05-08T13:00:37.870Z"
   },
   {
    "duration": 303,
    "start_time": "2023-05-08T13:00:38.253Z"
   },
   {
    "duration": 7,
    "start_time": "2023-05-08T13:00:38.558Z"
   },
   {
    "duration": 58,
    "start_time": "2023-05-08T13:00:38.567Z"
   },
   {
    "duration": 296,
    "start_time": "2023-05-08T13:00:38.627Z"
   },
   {
    "duration": 6,
    "start_time": "2023-05-08T13:00:38.925Z"
   },
   {
    "duration": 276,
    "start_time": "2023-05-08T13:00:38.934Z"
   },
   {
    "duration": 230,
    "start_time": "2023-05-08T13:00:39.212Z"
   },
   {
    "duration": 402,
    "start_time": "2023-05-08T13:00:39.444Z"
   },
   {
    "duration": 75,
    "start_time": "2023-05-08T13:00:39.849Z"
   },
   {
    "duration": 137,
    "start_time": "2023-05-08T13:00:39.926Z"
   },
   {
    "duration": 41,
    "start_time": "2023-05-08T13:00:40.066Z"
   },
   {
    "duration": 32,
    "start_time": "2023-05-08T13:00:40.109Z"
   },
   {
    "duration": 46,
    "start_time": "2023-05-08T13:00:40.143Z"
   },
   {
    "duration": 28,
    "start_time": "2023-05-08T13:00:40.191Z"
   },
   {
    "duration": 16,
    "start_time": "2023-05-08T13:00:40.223Z"
   },
   {
    "duration": 162,
    "start_time": "2023-05-08T13:00:40.242Z"
   },
   {
    "duration": 72,
    "start_time": "2023-05-08T13:06:42.781Z"
   },
   {
    "duration": 53,
    "start_time": "2023-05-08T13:06:53.979Z"
   },
   {
    "duration": 5,
    "start_time": "2023-05-08T13:07:31.661Z"
   },
   {
    "duration": 21,
    "start_time": "2023-05-08T13:07:33.928Z"
   },
   {
    "duration": 19,
    "start_time": "2023-05-08T13:07:56.313Z"
   },
   {
    "duration": 15,
    "start_time": "2023-05-08T13:08:03.350Z"
   },
   {
    "duration": 4,
    "start_time": "2023-05-08T13:09:14.379Z"
   },
   {
    "duration": 7,
    "start_time": "2023-05-08T13:09:14.967Z"
   },
   {
    "duration": 416,
    "start_time": "2023-05-08T13:09:18.743Z"
   },
   {
    "duration": 409,
    "start_time": "2023-05-08T13:10:46.594Z"
   },
   {
    "duration": 419,
    "start_time": "2023-05-08T13:10:49.467Z"
   },
   {
    "duration": 1600,
    "start_time": "2023-05-08T15:27:56.951Z"
   },
   {
    "duration": 1879,
    "start_time": "2023-05-08T15:27:58.554Z"
   },
   {
    "duration": 14,
    "start_time": "2023-05-08T15:28:00.435Z"
   },
   {
    "duration": 59,
    "start_time": "2023-05-08T15:28:00.451Z"
   },
   {
    "duration": 68,
    "start_time": "2023-05-08T15:28:00.512Z"
   },
   {
    "duration": 54,
    "start_time": "2023-05-08T15:28:00.582Z"
   },
   {
    "duration": 65,
    "start_time": "2023-05-08T15:28:00.638Z"
   },
   {
    "duration": 59,
    "start_time": "2023-05-08T15:28:00.705Z"
   },
   {
    "duration": 175,
    "start_time": "2023-05-08T15:28:00.766Z"
   },
   {
    "duration": 13,
    "start_time": "2023-05-08T15:28:00.943Z"
   },
   {
    "duration": 608,
    "start_time": "2023-05-08T15:28:00.958Z"
   },
   {
    "duration": 400,
    "start_time": "2023-05-08T15:28:01.568Z"
   },
   {
    "duration": 386,
    "start_time": "2023-05-08T15:28:01.969Z"
   },
   {
    "duration": 344,
    "start_time": "2023-05-08T15:28:02.358Z"
   },
   {
    "duration": 18,
    "start_time": "2023-05-08T15:28:02.705Z"
   },
   {
    "duration": 44,
    "start_time": "2023-05-08T15:28:02.725Z"
   },
   {
    "duration": 254,
    "start_time": "2023-05-08T15:28:02.771Z"
   },
   {
    "duration": 5,
    "start_time": "2023-05-08T15:28:03.027Z"
   },
   {
    "duration": 255,
    "start_time": "2023-05-08T15:28:03.034Z"
   },
   {
    "duration": 231,
    "start_time": "2023-05-08T15:28:03.291Z"
   },
   {
    "duration": 309,
    "start_time": "2023-05-08T15:28:03.525Z"
   },
   {
    "duration": 88,
    "start_time": "2023-05-08T15:28:03.839Z"
   },
   {
    "duration": 115,
    "start_time": "2023-05-08T15:28:03.929Z"
   },
   {
    "duration": 22,
    "start_time": "2023-05-08T15:28:04.046Z"
   },
   {
    "duration": 44,
    "start_time": "2023-05-08T15:28:04.070Z"
   },
   {
    "duration": 98,
    "start_time": "2023-05-08T15:28:04.117Z"
   },
   {
    "duration": 37,
    "start_time": "2023-05-08T15:28:04.222Z"
   },
   {
    "duration": 26,
    "start_time": "2023-05-08T15:28:04.262Z"
   },
   {
    "duration": 18,
    "start_time": "2023-05-08T15:28:04.289Z"
   },
   {
    "duration": 421,
    "start_time": "2023-05-08T15:28:04.309Z"
   },
   {
    "duration": 350,
    "start_time": "2023-05-08T15:28:04.735Z"
   },
   {
    "duration": 375,
    "start_time": "2023-05-08T15:28:05.087Z"
   },
   {
    "duration": 7,
    "start_time": "2023-05-08T15:44:01.239Z"
   },
   {
    "duration": 14,
    "start_time": "2023-05-08T15:44:02.068Z"
   },
   {
    "duration": 13,
    "start_time": "2023-05-08T15:46:52.047Z"
   },
   {
    "duration": 14,
    "start_time": "2023-05-08T15:46:52.950Z"
   },
   {
    "duration": 3,
    "start_time": "2023-05-08T15:48:58.663Z"
   },
   {
    "duration": 8,
    "start_time": "2023-05-08T15:48:59.235Z"
   },
   {
    "duration": 12,
    "start_time": "2023-05-08T15:48:59.848Z"
   },
   {
    "duration": 4,
    "start_time": "2023-05-08T15:49:49.807Z"
   },
   {
    "duration": 6,
    "start_time": "2023-05-08T15:49:50.168Z"
   },
   {
    "duration": 11,
    "start_time": "2023-05-08T15:49:51.158Z"
   },
   {
    "duration": 3,
    "start_time": "2023-05-08T15:50:01.817Z"
   },
   {
    "duration": 7,
    "start_time": "2023-05-08T15:50:02.336Z"
   },
   {
    "duration": 22,
    "start_time": "2023-05-08T15:50:03.008Z"
   },
   {
    "duration": 3,
    "start_time": "2023-05-08T15:50:15.539Z"
   },
   {
    "duration": 7,
    "start_time": "2023-05-08T15:50:16.280Z"
   },
   {
    "duration": 11,
    "start_time": "2023-05-08T15:50:17.576Z"
   },
   {
    "duration": 5,
    "start_time": "2023-05-08T15:54:49.651Z"
   },
   {
    "duration": 6,
    "start_time": "2023-05-08T15:54:50.715Z"
   },
   {
    "duration": 11,
    "start_time": "2023-05-08T15:54:51.817Z"
   },
   {
    "duration": 4,
    "start_time": "2023-05-08T16:07:15.369Z"
   },
   {
    "duration": 7,
    "start_time": "2023-05-08T16:07:15.904Z"
   },
   {
    "duration": 11,
    "start_time": "2023-05-08T16:07:20.835Z"
   },
   {
    "duration": 6,
    "start_time": "2023-05-08T16:28:37.842Z"
   },
   {
    "duration": 11,
    "start_time": "2023-05-08T16:28:38.569Z"
   },
   {
    "duration": 13,
    "start_time": "2023-05-08T16:28:42.073Z"
   },
   {
    "duration": 11,
    "start_time": "2023-05-08T16:28:43.209Z"
   },
   {
    "duration": 1320,
    "start_time": "2023-05-08T16:28:59.458Z"
   },
   {
    "duration": 445,
    "start_time": "2023-05-08T16:29:00.781Z"
   },
   {
    "duration": 14,
    "start_time": "2023-05-08T16:29:01.228Z"
   },
   {
    "duration": 39,
    "start_time": "2023-05-08T16:29:01.244Z"
   },
   {
    "duration": 11,
    "start_time": "2023-05-08T16:29:01.286Z"
   },
   {
    "duration": 37,
    "start_time": "2023-05-08T16:29:01.299Z"
   },
   {
    "duration": 26,
    "start_time": "2023-05-08T16:29:01.337Z"
   },
   {
    "duration": 51,
    "start_time": "2023-05-08T16:29:01.365Z"
   },
   {
    "duration": 164,
    "start_time": "2023-05-08T16:29:01.418Z"
   },
   {
    "duration": 13,
    "start_time": "2023-05-08T16:29:01.584Z"
   },
   {
    "duration": 487,
    "start_time": "2023-05-08T16:29:01.599Z"
   },
   {
    "duration": 358,
    "start_time": "2023-05-08T16:29:02.087Z"
   },
   {
    "duration": 359,
    "start_time": "2023-05-08T16:29:02.447Z"
   },
   {
    "duration": 256,
    "start_time": "2023-05-08T16:29:02.810Z"
   },
   {
    "duration": 6,
    "start_time": "2023-05-08T16:29:03.067Z"
   },
   {
    "duration": 18,
    "start_time": "2023-05-08T16:29:03.074Z"
   },
   {
    "duration": 325,
    "start_time": "2023-05-08T16:29:03.094Z"
   },
   {
    "duration": 5,
    "start_time": "2023-05-08T16:29:03.421Z"
   },
   {
    "duration": 181,
    "start_time": "2023-05-08T16:29:03.428Z"
   },
   {
    "duration": 212,
    "start_time": "2023-05-08T16:29:03.611Z"
   },
   {
    "duration": 409,
    "start_time": "2023-05-08T16:29:03.826Z"
   },
   {
    "duration": 85,
    "start_time": "2023-05-08T16:29:04.237Z"
   },
   {
    "duration": 106,
    "start_time": "2023-05-08T16:29:04.324Z"
   },
   {
    "duration": 5,
    "start_time": "2023-05-08T16:29:04.432Z"
   },
   {
    "duration": 20,
    "start_time": "2023-05-08T16:29:04.439Z"
   },
   {
    "duration": 19,
    "start_time": "2023-05-08T16:29:04.461Z"
   },
   {
    "duration": 22,
    "start_time": "2023-05-08T16:29:04.482Z"
   },
   {
    "duration": 11,
    "start_time": "2023-05-08T16:29:04.507Z"
   },
   {
    "duration": 17,
    "start_time": "2023-05-08T16:29:04.520Z"
   },
   {
    "duration": 18,
    "start_time": "2023-05-08T16:29:04.539Z"
   },
   {
    "duration": 11,
    "start_time": "2023-05-08T16:29:04.558Z"
   },
   {
    "duration": 17,
    "start_time": "2023-05-08T16:29:04.570Z"
   },
   {
    "duration": 6,
    "start_time": "2023-05-08T16:29:27.611Z"
   },
   {
    "duration": 11,
    "start_time": "2023-05-08T16:29:28.102Z"
   },
   {
    "duration": 11,
    "start_time": "2023-05-08T16:29:30.461Z"
   },
   {
    "duration": 12,
    "start_time": "2023-05-08T16:29:31.323Z"
   },
   {
    "duration": 10,
    "start_time": "2023-05-08T16:32:37.765Z"
   },
   {
    "duration": 13,
    "start_time": "2023-05-08T16:32:38.380Z"
   },
   {
    "duration": 11,
    "start_time": "2023-05-08T16:32:39.509Z"
   },
   {
    "duration": 5,
    "start_time": "2023-05-08T16:34:55.951Z"
   },
   {
    "duration": 7,
    "start_time": "2023-05-08T16:34:56.430Z"
   },
   {
    "duration": 798,
    "start_time": "2023-05-08T16:34:57.478Z"
   },
   {
    "duration": 7,
    "start_time": "2023-05-08T16:35:09.936Z"
   },
   {
    "duration": 472,
    "start_time": "2023-05-08T16:35:10.446Z"
   },
   {
    "duration": 508,
    "start_time": "2023-05-08T16:35:19.215Z"
   },
   {
    "duration": 480,
    "start_time": "2023-05-08T16:35:20.966Z"
   },
   {
    "duration": 8,
    "start_time": "2023-05-08T16:40:07.199Z"
   },
   {
    "duration": 474,
    "start_time": "2023-05-08T16:40:07.753Z"
   },
   {
    "duration": 505,
    "start_time": "2023-05-08T16:40:11.940Z"
   },
   {
    "duration": 449,
    "start_time": "2023-05-08T16:40:13.640Z"
   },
   {
    "duration": 7,
    "start_time": "2023-05-08T16:40:32.954Z"
   },
   {
    "duration": 461,
    "start_time": "2023-05-08T16:40:34.639Z"
   },
   {
    "duration": 481,
    "start_time": "2023-05-08T16:40:36.510Z"
   },
   {
    "duration": 453,
    "start_time": "2023-05-08T16:40:38.378Z"
   },
   {
    "duration": 6,
    "start_time": "2023-05-08T16:41:04.627Z"
   },
   {
    "duration": 455,
    "start_time": "2023-05-08T16:41:05.138Z"
   },
   {
    "duration": 460,
    "start_time": "2023-05-08T16:41:06.138Z"
   },
   {
    "duration": 480,
    "start_time": "2023-05-08T16:41:07.443Z"
   },
   {
    "duration": 7,
    "start_time": "2023-05-08T16:41:16.586Z"
   },
   {
    "duration": 447,
    "start_time": "2023-05-08T16:41:17.367Z"
   },
   {
    "duration": 478,
    "start_time": "2023-05-08T16:41:18.458Z"
   },
   {
    "duration": 460,
    "start_time": "2023-05-08T16:41:20.034Z"
   },
   {
    "duration": 1433,
    "start_time": "2023-05-08T16:42:09.206Z"
   },
   {
    "duration": 431,
    "start_time": "2023-05-08T16:42:10.641Z"
   },
   {
    "duration": 16,
    "start_time": "2023-05-08T16:42:11.074Z"
   },
   {
    "duration": 58,
    "start_time": "2023-05-08T16:42:11.092Z"
   },
   {
    "duration": 12,
    "start_time": "2023-05-08T16:42:11.153Z"
   },
   {
    "duration": 20,
    "start_time": "2023-05-08T16:42:11.167Z"
   },
   {
    "duration": 14,
    "start_time": "2023-05-08T16:42:11.188Z"
   },
   {
    "duration": 39,
    "start_time": "2023-05-08T16:42:11.203Z"
   },
   {
    "duration": 143,
    "start_time": "2023-05-08T16:42:11.244Z"
   },
   {
    "duration": 13,
    "start_time": "2023-05-08T16:42:11.389Z"
   },
   {
    "duration": 449,
    "start_time": "2023-05-08T16:42:11.403Z"
   },
   {
    "duration": 363,
    "start_time": "2023-05-08T16:42:11.854Z"
   },
   {
    "duration": 423,
    "start_time": "2023-05-08T16:42:12.221Z"
   },
   {
    "duration": 334,
    "start_time": "2023-05-08T16:42:12.648Z"
   },
   {
    "duration": 8,
    "start_time": "2023-05-08T16:42:12.985Z"
   },
   {
    "duration": 23,
    "start_time": "2023-05-08T16:42:12.995Z"
   },
   {
    "duration": 311,
    "start_time": "2023-05-08T16:42:13.022Z"
   },
   {
    "duration": 83,
    "start_time": "2023-05-08T16:42:13.335Z"
   },
   {
    "duration": 186,
    "start_time": "2023-05-08T16:42:13.420Z"
   },
   {
    "duration": 224,
    "start_time": "2023-05-08T16:42:13.608Z"
   },
   {
    "duration": 489,
    "start_time": "2023-05-08T16:42:13.834Z"
   },
   {
    "duration": 90,
    "start_time": "2023-05-08T16:42:14.328Z"
   },
   {
    "duration": 21,
    "start_time": "2023-05-08T16:42:14.420Z"
   },
   {
    "duration": 13,
    "start_time": "2023-05-08T16:42:14.443Z"
   },
   {
    "duration": 32,
    "start_time": "2023-05-08T16:42:14.459Z"
   },
   {
    "duration": 31,
    "start_time": "2023-05-08T16:42:14.493Z"
   },
   {
    "duration": 47,
    "start_time": "2023-05-08T16:42:14.526Z"
   },
   {
    "duration": 7,
    "start_time": "2023-05-08T16:42:14.575Z"
   },
   {
    "duration": 8,
    "start_time": "2023-05-08T16:42:14.583Z"
   },
   {
    "duration": 495,
    "start_time": "2023-05-08T16:42:14.593Z"
   },
   {
    "duration": 473,
    "start_time": "2023-05-08T16:42:15.090Z"
   },
   {
    "duration": 457,
    "start_time": "2023-05-08T16:42:15.565Z"
   },
   {
    "duration": 7,
    "start_time": "2023-05-08T16:43:53.840Z"
   },
   {
    "duration": 718,
    "start_time": "2023-05-08T16:43:54.937Z"
   },
   {
    "duration": 8,
    "start_time": "2023-05-08T16:44:35.165Z"
   },
   {
    "duration": 678,
    "start_time": "2023-05-08T16:44:36.060Z"
   },
   {
    "duration": 697,
    "start_time": "2023-05-08T16:44:49.007Z"
   },
   {
    "duration": 677,
    "start_time": "2023-05-08T16:44:50.773Z"
   },
   {
    "duration": 10,
    "start_time": "2023-05-08T16:50:14.920Z"
   },
   {
    "duration": 693,
    "start_time": "2023-05-08T16:50:15.512Z"
   },
   {
    "duration": 708,
    "start_time": "2023-05-08T16:50:16.336Z"
   },
   {
    "duration": 684,
    "start_time": "2023-05-08T16:50:17.609Z"
   },
   {
    "duration": 6,
    "start_time": "2023-05-08T16:55:07.621Z"
   },
   {
    "duration": 1533,
    "start_time": "2023-05-08T16:57:41.374Z"
   },
   {
    "duration": 451,
    "start_time": "2023-05-08T16:57:42.910Z"
   },
   {
    "duration": 15,
    "start_time": "2023-05-08T16:57:43.363Z"
   },
   {
    "duration": 49,
    "start_time": "2023-05-08T16:57:43.380Z"
   },
   {
    "duration": 16,
    "start_time": "2023-05-08T16:57:43.431Z"
   },
   {
    "duration": 37,
    "start_time": "2023-05-08T16:57:43.449Z"
   },
   {
    "duration": 11,
    "start_time": "2023-05-08T16:57:43.488Z"
   },
   {
    "duration": 33,
    "start_time": "2023-05-08T16:57:43.501Z"
   },
   {
    "duration": 154,
    "start_time": "2023-05-08T16:57:43.538Z"
   },
   {
    "duration": 25,
    "start_time": "2023-05-08T16:57:43.694Z"
   },
   {
    "duration": 438,
    "start_time": "2023-05-08T16:57:43.721Z"
   },
   {
    "duration": 394,
    "start_time": "2023-05-08T16:57:44.161Z"
   },
   {
    "duration": 401,
    "start_time": "2023-05-08T16:57:44.558Z"
   },
   {
    "duration": 291,
    "start_time": "2023-05-08T16:57:44.961Z"
   },
   {
    "duration": 6,
    "start_time": "2023-05-08T16:57:45.253Z"
   },
   {
    "duration": 26,
    "start_time": "2023-05-08T16:57:45.261Z"
   },
   {
    "duration": 233,
    "start_time": "2023-05-08T16:57:45.289Z"
   },
   {
    "duration": 5,
    "start_time": "2023-05-08T16:57:45.524Z"
   },
   {
    "duration": 272,
    "start_time": "2023-05-08T16:57:45.531Z"
   },
   {
    "duration": 219,
    "start_time": "2023-05-08T16:57:45.805Z"
   },
   {
    "duration": 502,
    "start_time": "2023-05-08T16:57:46.026Z"
   },
   {
    "duration": 90,
    "start_time": "2023-05-08T16:57:46.530Z"
   },
   {
    "duration": 21,
    "start_time": "2023-05-08T16:57:46.622Z"
   },
   {
    "duration": 15,
    "start_time": "2023-05-08T16:57:46.645Z"
   },
   {
    "duration": 31,
    "start_time": "2023-05-08T16:57:46.664Z"
   },
   {
    "duration": 20,
    "start_time": "2023-05-08T16:57:46.697Z"
   },
   {
    "duration": 35,
    "start_time": "2023-05-08T16:57:46.719Z"
   },
   {
    "duration": 12,
    "start_time": "2023-05-08T16:57:46.757Z"
   },
   {
    "duration": 12,
    "start_time": "2023-05-08T16:57:46.771Z"
   },
   {
    "duration": 684,
    "start_time": "2023-05-08T16:57:46.784Z"
   },
   {
    "duration": 659,
    "start_time": "2023-05-08T16:57:47.470Z"
   },
   {
    "duration": 677,
    "start_time": "2023-05-08T16:57:48.134Z"
   },
   {
    "duration": 1381,
    "start_time": "2023-05-08T16:59:49.253Z"
   },
   {
    "duration": 421,
    "start_time": "2023-05-08T16:59:50.637Z"
   },
   {
    "duration": 17,
    "start_time": "2023-05-08T16:59:51.060Z"
   },
   {
    "duration": 53,
    "start_time": "2023-05-08T16:59:51.079Z"
   },
   {
    "duration": 44,
    "start_time": "2023-05-08T16:59:51.134Z"
   },
   {
    "duration": 67,
    "start_time": "2023-05-08T16:59:51.180Z"
   },
   {
    "duration": 26,
    "start_time": "2023-05-08T16:59:51.249Z"
   },
   {
    "duration": 43,
    "start_time": "2023-05-08T16:59:51.277Z"
   },
   {
    "duration": 157,
    "start_time": "2023-05-08T16:59:51.322Z"
   },
   {
    "duration": 14,
    "start_time": "2023-05-08T16:59:51.481Z"
   },
   {
    "duration": 488,
    "start_time": "2023-05-08T16:59:51.498Z"
   },
   {
    "duration": 369,
    "start_time": "2023-05-08T16:59:51.987Z"
   },
   {
    "duration": 410,
    "start_time": "2023-05-08T16:59:52.358Z"
   },
   {
    "duration": 299,
    "start_time": "2023-05-08T16:59:52.771Z"
   },
   {
    "duration": 6,
    "start_time": "2023-05-08T16:59:53.072Z"
   },
   {
    "duration": 32,
    "start_time": "2023-05-08T16:59:53.080Z"
   },
   {
    "duration": 206,
    "start_time": "2023-05-08T16:59:53.114Z"
   },
   {
    "duration": 8,
    "start_time": "2023-05-08T16:59:53.322Z"
   },
   {
    "duration": 171,
    "start_time": "2023-05-08T16:59:53.332Z"
   },
   {
    "duration": 131,
    "start_time": "2023-05-08T16:59:53.505Z"
   },
   {
    "duration": 392,
    "start_time": "2023-05-08T16:59:53.638Z"
   },
   {
    "duration": 86,
    "start_time": "2023-05-08T16:59:54.032Z"
   },
   {
    "duration": 100,
    "start_time": "2023-05-08T16:59:54.121Z"
   },
   {
    "duration": 17,
    "start_time": "2023-05-08T16:59:54.223Z"
   },
   {
    "duration": 38,
    "start_time": "2023-05-08T16:59:54.242Z"
   },
   {
    "duration": 33,
    "start_time": "2023-05-08T16:59:54.282Z"
   },
   {
    "duration": 38,
    "start_time": "2023-05-08T16:59:54.316Z"
   },
   {
    "duration": 19,
    "start_time": "2023-05-08T16:59:54.356Z"
   },
   {
    "duration": 25,
    "start_time": "2023-05-08T16:59:54.376Z"
   },
   {
    "duration": 668,
    "start_time": "2023-05-08T16:59:54.403Z"
   },
   {
    "duration": 661,
    "start_time": "2023-05-08T16:59:55.074Z"
   },
   {
    "duration": 654,
    "start_time": "2023-05-08T16:59:55.737Z"
   },
   {
    "duration": 1425,
    "start_time": "2023-05-08T17:00:22.478Z"
   },
   {
    "duration": 430,
    "start_time": "2023-05-08T17:00:23.905Z"
   },
   {
    "duration": 18,
    "start_time": "2023-05-08T17:00:24.337Z"
   },
   {
    "duration": 26,
    "start_time": "2023-05-08T17:00:24.359Z"
   },
   {
    "duration": 40,
    "start_time": "2023-05-08T17:00:24.387Z"
   },
   {
    "duration": 28,
    "start_time": "2023-05-08T17:00:24.430Z"
   },
   {
    "duration": 16,
    "start_time": "2023-05-08T17:00:24.460Z"
   },
   {
    "duration": 32,
    "start_time": "2023-05-08T17:00:24.478Z"
   },
   {
    "duration": 167,
    "start_time": "2023-05-08T17:00:24.517Z"
   },
   {
    "duration": 14,
    "start_time": "2023-05-08T17:00:24.687Z"
   },
   {
    "duration": 443,
    "start_time": "2023-05-08T17:00:24.718Z"
   },
   {
    "duration": 395,
    "start_time": "2023-05-08T17:00:25.163Z"
   },
   {
    "duration": 397,
    "start_time": "2023-05-08T17:00:25.560Z"
   },
   {
    "duration": 292,
    "start_time": "2023-05-08T17:00:25.960Z"
   },
   {
    "duration": 6,
    "start_time": "2023-05-08T17:00:26.254Z"
   },
   {
    "duration": 17,
    "start_time": "2023-05-08T17:00:26.262Z"
   },
   {
    "duration": 247,
    "start_time": "2023-05-08T17:00:26.280Z"
   },
   {
    "duration": 93,
    "start_time": "2023-05-08T17:00:26.530Z"
   },
   {
    "duration": 174,
    "start_time": "2023-05-08T17:00:26.628Z"
   },
   {
    "duration": 230,
    "start_time": "2023-05-08T17:00:26.804Z"
   },
   {
    "duration": 391,
    "start_time": "2023-05-08T17:00:27.036Z"
   },
   {
    "duration": 98,
    "start_time": "2023-05-08T17:00:27.429Z"
   },
   {
    "duration": 112,
    "start_time": "2023-05-08T17:00:27.531Z"
   },
   {
    "duration": 17,
    "start_time": "2023-05-08T17:00:27.645Z"
   },
   {
    "duration": 59,
    "start_time": "2023-05-08T17:00:27.664Z"
   },
   {
    "duration": 38,
    "start_time": "2023-05-08T17:00:27.725Z"
   },
   {
    "duration": 51,
    "start_time": "2023-05-08T17:00:27.765Z"
   },
   {
    "duration": 31,
    "start_time": "2023-05-08T17:00:27.820Z"
   },
   {
    "duration": 50,
    "start_time": "2023-05-08T17:00:27.853Z"
   },
   {
    "duration": 664,
    "start_time": "2023-05-08T17:00:27.905Z"
   },
   {
    "duration": 655,
    "start_time": "2023-05-08T17:00:28.571Z"
   },
   {
    "duration": 648,
    "start_time": "2023-05-08T17:00:29.227Z"
   },
   {
    "duration": 1369,
    "start_time": "2023-05-09T01:37:31.602Z"
   },
   {
    "duration": 1415,
    "start_time": "2023-05-09T01:37:32.973Z"
   },
   {
    "duration": 12,
    "start_time": "2023-05-09T01:37:34.389Z"
   },
   {
    "duration": 14,
    "start_time": "2023-05-09T01:37:34.402Z"
   },
   {
    "duration": 21,
    "start_time": "2023-05-09T01:37:34.417Z"
   },
   {
    "duration": 19,
    "start_time": "2023-05-09T01:37:34.439Z"
   },
   {
    "duration": 16,
    "start_time": "2023-05-09T01:37:34.460Z"
   },
   {
    "duration": 22,
    "start_time": "2023-05-09T01:37:34.478Z"
   },
   {
    "duration": 135,
    "start_time": "2023-05-09T01:37:34.501Z"
   },
   {
    "duration": 14,
    "start_time": "2023-05-09T01:37:34.638Z"
   },
   {
    "duration": 426,
    "start_time": "2023-05-09T01:37:34.653Z"
   },
   {
    "duration": 328,
    "start_time": "2023-05-09T01:37:35.080Z"
   },
   {
    "duration": 309,
    "start_time": "2023-05-09T01:37:35.410Z"
   },
   {
    "duration": 228,
    "start_time": "2023-05-09T01:37:35.735Z"
   },
   {
    "duration": 5,
    "start_time": "2023-05-09T01:37:35.965Z"
   },
   {
    "duration": 53,
    "start_time": "2023-05-09T01:37:35.971Z"
   },
   {
    "duration": 216,
    "start_time": "2023-05-09T01:37:36.026Z"
   },
   {
    "duration": 92,
    "start_time": "2023-05-09T01:37:36.244Z"
   },
   {
    "duration": 173,
    "start_time": "2023-05-09T01:37:36.338Z"
   },
   {
    "duration": 233,
    "start_time": "2023-05-09T01:37:36.513Z"
   },
   {
    "duration": 395,
    "start_time": "2023-05-09T01:37:36.749Z"
   },
   {
    "duration": 95,
    "start_time": "2023-05-09T01:37:37.147Z"
   },
   {
    "duration": 14,
    "start_time": "2023-05-09T01:37:37.334Z"
   },
   {
    "duration": 4,
    "start_time": "2023-05-09T01:37:37.349Z"
   },
   {
    "duration": 23,
    "start_time": "2023-05-09T01:37:37.354Z"
   },
   {
    "duration": 17,
    "start_time": "2023-05-09T01:37:37.379Z"
   },
   {
    "duration": 22,
    "start_time": "2023-05-09T01:37:37.397Z"
   },
   {
    "duration": 6,
    "start_time": "2023-05-09T01:37:37.420Z"
   },
   {
    "duration": 11,
    "start_time": "2023-05-09T01:37:37.427Z"
   },
   {
    "duration": 525,
    "start_time": "2023-05-09T01:37:37.439Z"
   },
   {
    "duration": 535,
    "start_time": "2023-05-09T01:37:37.966Z"
   },
   {
    "duration": 534,
    "start_time": "2023-05-09T01:37:38.502Z"
   },
   {
    "duration": 1223,
    "start_time": "2023-05-09T01:48:03.558Z"
   },
   {
    "duration": 353,
    "start_time": "2023-05-09T01:48:04.783Z"
   },
   {
    "duration": 13,
    "start_time": "2023-05-09T01:48:05.137Z"
   },
   {
    "duration": 13,
    "start_time": "2023-05-09T01:48:05.152Z"
   },
   {
    "duration": 7,
    "start_time": "2023-05-09T01:48:05.167Z"
   },
   {
    "duration": 16,
    "start_time": "2023-05-09T01:48:05.176Z"
   },
   {
    "duration": 9,
    "start_time": "2023-05-09T01:48:05.193Z"
   },
   {
    "duration": 40,
    "start_time": "2023-05-09T01:48:05.203Z"
   },
   {
    "duration": 127,
    "start_time": "2023-05-09T01:48:05.245Z"
   },
   {
    "duration": 14,
    "start_time": "2023-05-09T01:48:05.374Z"
   },
   {
    "duration": 365,
    "start_time": "2023-05-09T01:48:05.390Z"
   },
   {
    "duration": 264,
    "start_time": "2023-05-09T01:48:05.757Z"
   },
   {
    "duration": 315,
    "start_time": "2023-05-09T01:48:06.022Z"
   },
   {
    "duration": 237,
    "start_time": "2023-05-09T01:48:06.339Z"
   },
   {
    "duration": 5,
    "start_time": "2023-05-09T01:48:06.578Z"
   },
   {
    "duration": 21,
    "start_time": "2023-05-09T01:48:06.585Z"
   },
   {
    "duration": 232,
    "start_time": "2023-05-09T01:48:06.607Z"
   },
   {
    "duration": 96,
    "start_time": "2023-05-09T01:48:06.841Z"
   },
   {
    "duration": 168,
    "start_time": "2023-05-09T01:48:06.938Z"
   },
   {
    "duration": 235,
    "start_time": "2023-05-09T01:48:07.108Z"
   },
   {
    "duration": 394,
    "start_time": "2023-05-09T01:48:07.345Z"
   },
   {
    "duration": 96,
    "start_time": "2023-05-09T01:48:07.741Z"
   },
   {
    "duration": 96,
    "start_time": "2023-05-09T01:48:07.840Z"
   },
   {
    "duration": 3,
    "start_time": "2023-05-09T01:48:07.937Z"
   },
   {
    "duration": 28,
    "start_time": "2023-05-09T01:48:07.941Z"
   },
   {
    "duration": 16,
    "start_time": "2023-05-09T01:48:07.971Z"
   },
   {
    "duration": 30,
    "start_time": "2023-05-09T01:48:07.989Z"
   },
   {
    "duration": 11,
    "start_time": "2023-05-09T01:48:08.023Z"
   },
   {
    "duration": 7,
    "start_time": "2023-05-09T01:48:08.035Z"
   },
   {
    "duration": 526,
    "start_time": "2023-05-09T01:48:08.043Z"
   },
   {
    "duration": 516,
    "start_time": "2023-05-09T01:48:08.571Z"
   },
   {
    "duration": 513,
    "start_time": "2023-05-09T01:48:09.088Z"
   },
   {
    "duration": 3,
    "start_time": "2023-05-09T02:01:28.428Z"
   },
   {
    "duration": 8,
    "start_time": "2023-05-09T02:01:29.336Z"
   },
   {
    "duration": 128,
    "start_time": "2023-05-09T02:01:30.718Z"
   },
   {
    "duration": 4,
    "start_time": "2023-05-09T02:02:56.206Z"
   },
   {
    "duration": 6,
    "start_time": "2023-05-09T02:02:56.780Z"
   },
   {
    "duration": 15,
    "start_time": "2023-05-09T02:02:58.566Z"
   },
   {
    "duration": 3,
    "start_time": "2023-05-09T02:03:13.414Z"
   },
   {
    "duration": 6,
    "start_time": "2023-05-09T02:03:14.086Z"
   },
   {
    "duration": 22,
    "start_time": "2023-05-09T02:03:14.654Z"
   },
   {
    "duration": 4,
    "start_time": "2023-05-09T02:05:03.735Z"
   },
   {
    "duration": 7,
    "start_time": "2023-05-09T02:05:04.431Z"
   },
   {
    "duration": 27,
    "start_time": "2023-05-09T02:05:04.935Z"
   },
   {
    "duration": 9,
    "start_time": "2023-05-09T02:27:22.083Z"
   },
   {
    "duration": 4,
    "start_time": "2023-05-09T02:27:29.796Z"
   },
   {
    "duration": 1212,
    "start_time": "2023-05-09T04:04:53.582Z"
   },
   {
    "duration": 364,
    "start_time": "2023-05-09T04:04:54.796Z"
   },
   {
    "duration": 13,
    "start_time": "2023-05-09T04:04:55.162Z"
   },
   {
    "duration": 25,
    "start_time": "2023-05-09T04:04:55.177Z"
   },
   {
    "duration": 11,
    "start_time": "2023-05-09T04:04:55.204Z"
   },
   {
    "duration": 37,
    "start_time": "2023-05-09T04:04:55.216Z"
   },
   {
    "duration": 9,
    "start_time": "2023-05-09T04:04:55.255Z"
   },
   {
    "duration": 29,
    "start_time": "2023-05-09T04:04:55.266Z"
   },
   {
    "duration": 129,
    "start_time": "2023-05-09T04:04:55.297Z"
   },
   {
    "duration": 18,
    "start_time": "2023-05-09T04:04:55.427Z"
   },
   {
    "duration": 395,
    "start_time": "2023-05-09T04:04:55.448Z"
   },
   {
    "duration": 305,
    "start_time": "2023-05-09T04:04:55.844Z"
   },
   {
    "duration": 315,
    "start_time": "2023-05-09T04:04:56.152Z"
   },
   {
    "duration": 238,
    "start_time": "2023-05-09T04:04:56.468Z"
   },
   {
    "duration": 5,
    "start_time": "2023-05-09T04:04:56.708Z"
   },
   {
    "duration": 13,
    "start_time": "2023-05-09T04:04:56.714Z"
   },
   {
    "duration": 224,
    "start_time": "2023-05-09T04:04:56.728Z"
   },
   {
    "duration": 87,
    "start_time": "2023-05-09T04:04:56.953Z"
   },
   {
    "duration": 181,
    "start_time": "2023-05-09T04:04:57.042Z"
   },
   {
    "duration": 228,
    "start_time": "2023-05-09T04:04:57.224Z"
   },
   {
    "duration": 312,
    "start_time": "2023-05-09T04:04:57.534Z"
   },
   {
    "duration": 88,
    "start_time": "2023-05-09T04:04:57.847Z"
   },
   {
    "duration": 99,
    "start_time": "2023-05-09T04:04:57.937Z"
   },
   {
    "duration": 4,
    "start_time": "2023-05-09T04:04:58.038Z"
   },
   {
    "duration": 23,
    "start_time": "2023-05-09T04:04:58.044Z"
   },
   {
    "duration": 19,
    "start_time": "2023-05-09T04:04:58.069Z"
   },
   {
    "duration": 18,
    "start_time": "2023-05-09T04:04:58.089Z"
   },
   {
    "duration": 27,
    "start_time": "2023-05-09T04:04:58.109Z"
   },
   {
    "duration": 16,
    "start_time": "2023-05-09T04:04:58.137Z"
   },
   {
    "duration": 687,
    "start_time": "2023-05-09T04:04:58.155Z"
   },
   {
    "duration": 531,
    "start_time": "2023-05-09T04:04:58.844Z"
   },
   {
    "duration": 567,
    "start_time": "2023-05-09T04:04:59.377Z"
   },
   {
    "duration": 6,
    "start_time": "2023-05-09T04:06:18.140Z"
   },
   {
    "duration": 1295,
    "start_time": "2023-05-09T04:06:24.505Z"
   },
   {
    "duration": 364,
    "start_time": "2023-05-09T04:06:25.801Z"
   },
   {
    "duration": 13,
    "start_time": "2023-05-09T04:06:26.167Z"
   },
   {
    "duration": 16,
    "start_time": "2023-05-09T04:06:26.181Z"
   },
   {
    "duration": 22,
    "start_time": "2023-05-09T04:06:26.199Z"
   },
   {
    "duration": 17,
    "start_time": "2023-05-09T04:06:26.223Z"
   },
   {
    "duration": 11,
    "start_time": "2023-05-09T04:06:26.242Z"
   },
   {
    "duration": 20,
    "start_time": "2023-05-09T04:06:26.255Z"
   },
   {
    "duration": 153,
    "start_time": "2023-05-09T04:06:26.277Z"
   },
   {
    "duration": 12,
    "start_time": "2023-05-09T04:06:26.436Z"
   },
   {
    "duration": 410,
    "start_time": "2023-05-09T04:06:26.449Z"
   },
   {
    "duration": 301,
    "start_time": "2023-05-09T04:06:26.861Z"
   },
   {
    "duration": 276,
    "start_time": "2023-05-09T04:06:27.164Z"
   },
   {
    "duration": 233,
    "start_time": "2023-05-09T04:06:27.443Z"
   },
   {
    "duration": 5,
    "start_time": "2023-05-09T04:06:27.678Z"
   },
   {
    "duration": 34,
    "start_time": "2023-05-09T04:06:27.685Z"
   },
   {
    "duration": 228,
    "start_time": "2023-05-09T04:06:27.721Z"
   },
   {
    "duration": 88,
    "start_time": "2023-05-09T04:06:27.951Z"
   },
   {
    "duration": 176,
    "start_time": "2023-05-09T04:06:28.041Z"
   },
   {
    "duration": 226,
    "start_time": "2023-05-09T04:06:28.219Z"
   },
   {
    "duration": 391,
    "start_time": "2023-05-09T04:06:28.448Z"
   },
   {
    "duration": 92,
    "start_time": "2023-05-09T04:06:28.843Z"
   },
   {
    "duration": 108,
    "start_time": "2023-05-09T04:06:28.937Z"
   },
   {
    "duration": 5,
    "start_time": "2023-05-09T04:06:29.046Z"
   },
   {
    "duration": 20,
    "start_time": "2023-05-09T04:06:29.053Z"
   },
   {
    "duration": 22,
    "start_time": "2023-05-09T04:06:29.075Z"
   },
   {
    "duration": 16,
    "start_time": "2023-05-09T04:06:29.099Z"
   },
   {
    "duration": 7,
    "start_time": "2023-05-09T04:06:29.117Z"
   },
   {
    "duration": 7,
    "start_time": "2023-05-09T04:06:29.134Z"
   },
   {
    "duration": 572,
    "start_time": "2023-05-09T04:06:29.143Z"
   },
   {
    "duration": 549,
    "start_time": "2023-05-09T04:06:29.717Z"
   },
   {
    "duration": 556,
    "start_time": "2023-05-09T04:06:30.268Z"
   },
   {
    "duration": 7,
    "start_time": "2023-05-09T04:07:25.620Z"
   },
   {
    "duration": 582,
    "start_time": "2023-05-09T04:07:26.224Z"
   },
   {
    "duration": 567,
    "start_time": "2023-05-09T04:07:26.938Z"
   },
   {
    "duration": 575,
    "start_time": "2023-05-09T04:07:28.048Z"
   },
   {
    "duration": 1222,
    "start_time": "2023-05-09T04:09:43.301Z"
   },
   {
    "duration": 392,
    "start_time": "2023-05-09T04:09:44.525Z"
   },
   {
    "duration": 16,
    "start_time": "2023-05-09T04:09:44.919Z"
   },
   {
    "duration": 13,
    "start_time": "2023-05-09T04:09:44.936Z"
   },
   {
    "duration": 11,
    "start_time": "2023-05-09T04:09:44.951Z"
   },
   {
    "duration": 16,
    "start_time": "2023-05-09T04:09:44.964Z"
   },
   {
    "duration": 7,
    "start_time": "2023-05-09T04:09:44.982Z"
   },
   {
    "duration": 19,
    "start_time": "2023-05-09T04:09:44.991Z"
   },
   {
    "duration": 130,
    "start_time": "2023-05-09T04:09:45.034Z"
   },
   {
    "duration": 13,
    "start_time": "2023-05-09T04:09:45.166Z"
   },
   {
    "duration": 378,
    "start_time": "2023-05-09T04:09:45.180Z"
   },
   {
    "duration": 285,
    "start_time": "2023-05-09T04:09:45.559Z"
   },
   {
    "duration": 295,
    "start_time": "2023-05-09T04:09:45.845Z"
   },
   {
    "duration": 242,
    "start_time": "2023-05-09T04:09:46.143Z"
   },
   {
    "duration": 5,
    "start_time": "2023-05-09T04:09:46.387Z"
   },
   {
    "duration": 9,
    "start_time": "2023-05-09T04:09:46.393Z"
   },
   {
    "duration": 231,
    "start_time": "2023-05-09T04:09:46.404Z"
   },
   {
    "duration": 7,
    "start_time": "2023-05-09T04:09:46.637Z"
   },
   {
    "duration": 163,
    "start_time": "2023-05-09T04:09:46.645Z"
   },
   {
    "duration": 231,
    "start_time": "2023-05-09T04:09:46.809Z"
   },
   {
    "duration": 398,
    "start_time": "2023-05-09T04:09:47.042Z"
   },
   {
    "duration": 99,
    "start_time": "2023-05-09T04:09:47.443Z"
   },
   {
    "duration": 12,
    "start_time": "2023-05-09T04:09:47.634Z"
   },
   {
    "duration": 8,
    "start_time": "2023-05-09T04:09:47.648Z"
   },
   {
    "duration": 18,
    "start_time": "2023-05-09T04:09:47.657Z"
   },
   {
    "duration": 16,
    "start_time": "2023-05-09T04:09:47.676Z"
   },
   {
    "duration": 37,
    "start_time": "2023-05-09T04:09:47.693Z"
   },
   {
    "duration": 8,
    "start_time": "2023-05-09T04:09:47.732Z"
   },
   {
    "duration": 12,
    "start_time": "2023-05-09T04:09:47.741Z"
   },
   {
    "duration": 543,
    "start_time": "2023-05-09T04:09:47.754Z"
   },
   {
    "duration": 530,
    "start_time": "2023-05-09T04:09:48.298Z"
   },
   {
    "duration": 527,
    "start_time": "2023-05-09T04:09:48.835Z"
   },
   {
    "duration": 1484,
    "start_time": "2023-05-09T04:11:46.314Z"
   },
   {
    "duration": 351,
    "start_time": "2023-05-09T04:11:47.800Z"
   },
   {
    "duration": 12,
    "start_time": "2023-05-09T04:11:48.152Z"
   },
   {
    "duration": 15,
    "start_time": "2023-05-09T04:11:48.166Z"
   },
   {
    "duration": 9,
    "start_time": "2023-05-09T04:11:48.183Z"
   },
   {
    "duration": 15,
    "start_time": "2023-05-09T04:11:48.193Z"
   },
   {
    "duration": 28,
    "start_time": "2023-05-09T04:11:48.210Z"
   },
   {
    "duration": 16,
    "start_time": "2023-05-09T04:11:48.239Z"
   },
   {
    "duration": 126,
    "start_time": "2023-05-09T04:11:48.256Z"
   },
   {
    "duration": 11,
    "start_time": "2023-05-09T04:11:48.383Z"
   },
   {
    "duration": 346,
    "start_time": "2023-05-09T04:11:48.396Z"
   },
   {
    "duration": 285,
    "start_time": "2023-05-09T04:11:48.743Z"
   },
   {
    "duration": 291,
    "start_time": "2023-05-09T04:11:49.034Z"
   },
   {
    "duration": 236,
    "start_time": "2023-05-09T04:11:49.334Z"
   },
   {
    "duration": 6,
    "start_time": "2023-05-09T04:11:49.571Z"
   },
   {
    "duration": 13,
    "start_time": "2023-05-09T04:11:49.578Z"
   },
   {
    "duration": 249,
    "start_time": "2023-05-09T04:11:49.592Z"
   },
   {
    "duration": 6,
    "start_time": "2023-05-09T04:11:49.935Z"
   },
   {
    "duration": 171,
    "start_time": "2023-05-09T04:11:49.943Z"
   },
   {
    "duration": 228,
    "start_time": "2023-05-09T04:11:50.115Z"
   },
   {
    "duration": 396,
    "start_time": "2023-05-09T04:11:50.346Z"
   },
   {
    "duration": 91,
    "start_time": "2023-05-09T04:11:50.745Z"
   },
   {
    "duration": 15,
    "start_time": "2023-05-09T04:11:50.837Z"
   },
   {
    "duration": 81,
    "start_time": "2023-05-09T04:11:50.854Z"
   },
   {
    "duration": 20,
    "start_time": "2023-05-09T04:11:50.937Z"
   },
   {
    "duration": 43,
    "start_time": "2023-05-09T04:11:50.958Z"
   },
   {
    "duration": 18,
    "start_time": "2023-05-09T04:11:51.003Z"
   },
   {
    "duration": 10,
    "start_time": "2023-05-09T04:11:51.023Z"
   },
   {
    "duration": 12,
    "start_time": "2023-05-09T04:11:51.034Z"
   },
   {
    "duration": 579,
    "start_time": "2023-05-09T04:11:51.048Z"
   },
   {
    "duration": 504,
    "start_time": "2023-05-09T04:11:51.634Z"
   },
   {
    "duration": 534,
    "start_time": "2023-05-09T04:11:52.139Z"
   },
   {
    "duration": 1202,
    "start_time": "2023-05-09T04:13:35.282Z"
   },
   {
    "duration": 352,
    "start_time": "2023-05-09T04:13:36.486Z"
   },
   {
    "duration": 13,
    "start_time": "2023-05-09T04:13:36.839Z"
   },
   {
    "duration": 15,
    "start_time": "2023-05-09T04:13:36.854Z"
   },
   {
    "duration": 9,
    "start_time": "2023-05-09T04:13:36.871Z"
   },
   {
    "duration": 19,
    "start_time": "2023-05-09T04:13:36.882Z"
   },
   {
    "duration": 32,
    "start_time": "2023-05-09T04:13:36.903Z"
   },
   {
    "duration": 16,
    "start_time": "2023-05-09T04:13:36.937Z"
   },
   {
    "duration": 125,
    "start_time": "2023-05-09T04:13:36.955Z"
   },
   {
    "duration": 12,
    "start_time": "2023-05-09T04:13:37.082Z"
   },
   {
    "duration": 357,
    "start_time": "2023-05-09T04:13:37.096Z"
   },
   {
    "duration": 270,
    "start_time": "2023-05-09T04:13:37.455Z"
   },
   {
    "duration": 286,
    "start_time": "2023-05-09T04:13:37.734Z"
   },
   {
    "duration": 227,
    "start_time": "2023-05-09T04:13:38.022Z"
   },
   {
    "duration": 5,
    "start_time": "2023-05-09T04:13:38.251Z"
   },
   {
    "duration": 15,
    "start_time": "2023-05-09T04:13:38.258Z"
   },
   {
    "duration": 261,
    "start_time": "2023-05-09T04:13:38.275Z"
   },
   {
    "duration": 6,
    "start_time": "2023-05-09T04:13:38.538Z"
   },
   {
    "duration": 71,
    "start_time": "2023-05-09T04:13:38.635Z"
   },
   {
    "duration": 233,
    "start_time": "2023-05-09T04:13:38.708Z"
   },
   {
    "duration": 307,
    "start_time": "2023-05-09T04:13:39.034Z"
   },
   {
    "duration": 93,
    "start_time": "2023-05-09T04:13:39.343Z"
   },
   {
    "duration": 98,
    "start_time": "2023-05-09T04:13:39.438Z"
   },
   {
    "duration": 3,
    "start_time": "2023-05-09T04:13:39.538Z"
   },
   {
    "duration": 19,
    "start_time": "2023-05-09T04:13:39.543Z"
   },
   {
    "duration": 16,
    "start_time": "2023-05-09T04:13:39.563Z"
   },
   {
    "duration": 19,
    "start_time": "2023-05-09T04:13:39.581Z"
   },
   {
    "duration": 9,
    "start_time": "2023-05-09T04:13:39.601Z"
   },
   {
    "duration": 12,
    "start_time": "2023-05-09T04:13:39.612Z"
   },
   {
    "duration": 554,
    "start_time": "2023-05-09T04:13:39.625Z"
   },
   {
    "duration": 525,
    "start_time": "2023-05-09T04:13:40.180Z"
   },
   {
    "duration": 557,
    "start_time": "2023-05-09T04:13:40.707Z"
   },
   {
    "duration": 9,
    "start_time": "2023-05-09T04:18:44.605Z"
   },
   {
    "duration": 565,
    "start_time": "2023-05-09T04:18:46.231Z"
   },
   {
    "duration": 7,
    "start_time": "2023-05-09T04:18:59.945Z"
   },
   {
    "duration": 588,
    "start_time": "2023-05-09T04:19:01.639Z"
   },
   {
    "duration": 1229,
    "start_time": "2023-05-09T04:32:37.044Z"
   },
   {
    "duration": 356,
    "start_time": "2023-05-09T04:32:38.275Z"
   },
   {
    "duration": 11,
    "start_time": "2023-05-09T04:32:38.635Z"
   },
   {
    "duration": 14,
    "start_time": "2023-05-09T04:32:38.647Z"
   },
   {
    "duration": 8,
    "start_time": "2023-05-09T04:32:38.662Z"
   },
   {
    "duration": 19,
    "start_time": "2023-05-09T04:32:38.671Z"
   },
   {
    "duration": 7,
    "start_time": "2023-05-09T04:32:38.692Z"
   },
   {
    "duration": 36,
    "start_time": "2023-05-09T04:32:38.700Z"
   },
   {
    "duration": 120,
    "start_time": "2023-05-09T04:32:38.738Z"
   },
   {
    "duration": 11,
    "start_time": "2023-05-09T04:32:38.860Z"
   },
   {
    "duration": 363,
    "start_time": "2023-05-09T04:32:38.873Z"
   },
   {
    "duration": 310,
    "start_time": "2023-05-09T04:32:39.237Z"
   },
   {
    "duration": 286,
    "start_time": "2023-05-09T04:32:39.548Z"
   },
   {
    "duration": 227,
    "start_time": "2023-05-09T04:32:39.837Z"
   },
   {
    "duration": 5,
    "start_time": "2023-05-09T04:32:40.066Z"
   },
   {
    "duration": 14,
    "start_time": "2023-05-09T04:32:40.072Z"
   },
   {
    "duration": 248,
    "start_time": "2023-05-09T04:32:40.088Z"
   },
   {
    "duration": 402,
    "start_time": "2023-05-09T04:32:40.338Z"
   },
   {
    "duration": 410,
    "start_time": "2023-05-09T04:32:40.742Z"
   },
   {
    "duration": 86,
    "start_time": "2023-05-09T04:32:41.154Z"
   },
   {
    "duration": 115,
    "start_time": "2023-05-09T04:32:41.245Z"
   },
   {
    "duration": 4,
    "start_time": "2023-05-09T04:32:41.361Z"
   },
   {
    "duration": 29,
    "start_time": "2023-05-09T04:32:41.367Z"
   },
   {
    "duration": 21,
    "start_time": "2023-05-09T04:32:41.398Z"
   },
   {
    "duration": 26,
    "start_time": "2023-05-09T04:32:41.421Z"
   },
   {
    "duration": 7,
    "start_time": "2023-05-09T04:32:41.449Z"
   },
   {
    "duration": 9,
    "start_time": "2023-05-09T04:32:41.457Z"
   },
   {
    "duration": 563,
    "start_time": "2023-05-09T04:32:41.467Z"
   },
   {
    "duration": 522,
    "start_time": "2023-05-09T04:32:42.035Z"
   },
   {
    "duration": 525,
    "start_time": "2023-05-09T04:32:42.559Z"
   },
   {
    "duration": 1473,
    "start_time": "2023-05-09T10:20:16.143Z"
   },
   {
    "duration": 1412,
    "start_time": "2023-05-09T10:20:17.618Z"
   },
   {
    "duration": 13,
    "start_time": "2023-05-09T10:20:19.032Z"
   },
   {
    "duration": 16,
    "start_time": "2023-05-09T10:20:19.046Z"
   },
   {
    "duration": 8,
    "start_time": "2023-05-09T10:20:19.065Z"
   },
   {
    "duration": 22,
    "start_time": "2023-05-09T10:20:19.075Z"
   },
   {
    "duration": 9,
    "start_time": "2023-05-09T10:20:19.098Z"
   },
   {
    "duration": 14,
    "start_time": "2023-05-09T10:20:19.109Z"
   },
   {
    "duration": 144,
    "start_time": "2023-05-09T10:20:19.124Z"
   },
   {
    "duration": 11,
    "start_time": "2023-05-09T10:20:19.270Z"
   },
   {
    "duration": 424,
    "start_time": "2023-05-09T10:20:19.282Z"
   },
   {
    "duration": 344,
    "start_time": "2023-05-09T10:20:19.708Z"
   },
   {
    "duration": 295,
    "start_time": "2023-05-09T10:20:20.055Z"
   },
   {
    "duration": 251,
    "start_time": "2023-05-09T10:20:20.354Z"
   },
   {
    "duration": 6,
    "start_time": "2023-05-09T10:20:20.607Z"
   },
   {
    "duration": 16,
    "start_time": "2023-05-09T10:20:20.615Z"
   },
   {
    "duration": 218,
    "start_time": "2023-05-09T10:20:20.632Z"
   },
   {
    "duration": 398,
    "start_time": "2023-05-09T10:20:20.852Z"
   },
   {
    "duration": 301,
    "start_time": "2023-05-09T10:20:21.252Z"
   },
   {
    "duration": 95,
    "start_time": "2023-05-09T10:20:21.554Z"
   },
   {
    "duration": 7,
    "start_time": "2023-05-09T10:20:21.651Z"
   },
   {
    "duration": 9,
    "start_time": "2023-05-09T10:20:21.660Z"
   },
   {
    "duration": 26,
    "start_time": "2023-05-09T10:20:21.750Z"
   },
   {
    "duration": 20,
    "start_time": "2023-05-09T10:20:21.778Z"
   },
   {
    "duration": 19,
    "start_time": "2023-05-09T10:20:21.800Z"
   },
   {
    "duration": 8,
    "start_time": "2023-05-09T10:20:21.820Z"
   },
   {
    "duration": 7,
    "start_time": "2023-05-09T10:20:21.830Z"
   },
   {
    "duration": 517,
    "start_time": "2023-05-09T10:20:21.838Z"
   },
   {
    "duration": 499,
    "start_time": "2023-05-09T10:20:22.356Z"
   },
   {
    "duration": 526,
    "start_time": "2023-05-09T10:20:22.857Z"
   },
   {
    "duration": 1427,
    "start_time": "2023-05-09T11:31:34.239Z"
   },
   {
    "duration": 362,
    "start_time": "2023-05-09T11:31:35.669Z"
   },
   {
    "duration": 16,
    "start_time": "2023-05-09T11:31:36.033Z"
   },
   {
    "duration": 27,
    "start_time": "2023-05-09T11:31:36.052Z"
   },
   {
    "duration": 26,
    "start_time": "2023-05-09T11:31:36.082Z"
   },
   {
    "duration": 26,
    "start_time": "2023-05-09T11:31:36.110Z"
   },
   {
    "duration": 17,
    "start_time": "2023-05-09T11:31:36.138Z"
   },
   {
    "duration": 41,
    "start_time": "2023-05-09T11:31:36.157Z"
   },
   {
    "duration": 126,
    "start_time": "2023-05-09T11:31:36.200Z"
   },
   {
    "duration": 11,
    "start_time": "2023-05-09T11:31:36.327Z"
   },
   {
    "duration": 415,
    "start_time": "2023-05-09T11:31:36.348Z"
   },
   {
    "duration": 360,
    "start_time": "2023-05-09T11:31:36.765Z"
   },
   {
    "duration": 359,
    "start_time": "2023-05-09T11:31:37.126Z"
   },
   {
    "duration": 379,
    "start_time": "2023-05-09T11:31:37.489Z"
   },
   {
    "duration": 8,
    "start_time": "2023-05-09T11:31:37.871Z"
   },
   {
    "duration": 6,
    "start_time": "2023-05-09T11:31:37.881Z"
   },
   {
    "duration": 170,
    "start_time": "2023-05-09T11:31:37.889Z"
   },
   {
    "duration": 394,
    "start_time": "2023-05-09T11:31:38.061Z"
   },
   {
    "duration": 211,
    "start_time": "2023-05-09T11:31:38.459Z"
   },
   {
    "duration": 82,
    "start_time": "2023-05-09T11:31:38.673Z"
   },
   {
    "duration": 0,
    "start_time": "2023-05-09T11:31:38.757Z"
   },
   {
    "duration": 0,
    "start_time": "2023-05-09T11:31:38.761Z"
   },
   {
    "duration": 0,
    "start_time": "2023-05-09T11:31:38.765Z"
   },
   {
    "duration": 0,
    "start_time": "2023-05-09T11:31:38.770Z"
   },
   {
    "duration": 0,
    "start_time": "2023-05-09T11:31:38.773Z"
   },
   {
    "duration": 0,
    "start_time": "2023-05-09T11:31:38.777Z"
   },
   {
    "duration": 0,
    "start_time": "2023-05-09T11:31:38.778Z"
   },
   {
    "duration": 0,
    "start_time": "2023-05-09T11:31:38.779Z"
   },
   {
    "duration": 0,
    "start_time": "2023-05-09T11:31:38.780Z"
   },
   {
    "duration": 0,
    "start_time": "2023-05-09T11:31:38.782Z"
   },
   {
    "duration": 1380,
    "start_time": "2023-05-09T11:35:41.165Z"
   },
   {
    "duration": 356,
    "start_time": "2023-05-09T11:35:42.546Z"
   },
   {
    "duration": 14,
    "start_time": "2023-05-09T11:35:42.903Z"
   },
   {
    "duration": 15,
    "start_time": "2023-05-09T11:35:42.919Z"
   },
   {
    "duration": 20,
    "start_time": "2023-05-09T11:35:42.936Z"
   },
   {
    "duration": 24,
    "start_time": "2023-05-09T11:35:42.958Z"
   },
   {
    "duration": 8,
    "start_time": "2023-05-09T11:35:42.983Z"
   },
   {
    "duration": 19,
    "start_time": "2023-05-09T11:35:42.992Z"
   },
   {
    "duration": 154,
    "start_time": "2023-05-09T11:35:43.013Z"
   },
   {
    "duration": 13,
    "start_time": "2023-05-09T11:35:43.168Z"
   },
   {
    "duration": 427,
    "start_time": "2023-05-09T11:35:43.182Z"
   },
   {
    "duration": 325,
    "start_time": "2023-05-09T11:35:43.611Z"
   },
   {
    "duration": 347,
    "start_time": "2023-05-09T11:35:43.937Z"
   },
   {
    "duration": 264,
    "start_time": "2023-05-09T11:35:44.287Z"
   },
   {
    "duration": 9,
    "start_time": "2023-05-09T11:35:44.553Z"
   },
   {
    "duration": 19,
    "start_time": "2023-05-09T11:35:44.564Z"
   },
   {
    "duration": 267,
    "start_time": "2023-05-09T11:35:44.585Z"
   },
   {
    "duration": 304,
    "start_time": "2023-05-09T11:35:44.853Z"
   },
   {
    "duration": 297,
    "start_time": "2023-05-09T11:35:45.160Z"
   },
   {
    "duration": 12,
    "start_time": "2023-05-09T11:35:45.459Z"
   },
   {
    "duration": 87,
    "start_time": "2023-05-09T11:35:45.475Z"
   },
   {
    "duration": 91,
    "start_time": "2023-05-09T11:35:45.564Z"
   },
   {
    "duration": 22,
    "start_time": "2023-05-09T11:35:45.656Z"
   },
   {
    "duration": 23,
    "start_time": "2023-05-09T11:35:45.680Z"
   },
   {
    "duration": 17,
    "start_time": "2023-05-09T11:35:45.704Z"
   },
   {
    "duration": 29,
    "start_time": "2023-05-09T11:35:45.723Z"
   },
   {
    "duration": 13,
    "start_time": "2023-05-09T11:35:45.755Z"
   },
   {
    "duration": 629,
    "start_time": "2023-05-09T11:35:45.770Z"
   },
   {
    "duration": 522,
    "start_time": "2023-05-09T11:35:46.401Z"
   },
   {
    "duration": 581,
    "start_time": "2023-05-09T11:35:46.925Z"
   },
   {
    "duration": 1421,
    "start_time": "2023-05-09T11:47:35.977Z"
   },
   {
    "duration": 430,
    "start_time": "2023-05-09T11:47:37.401Z"
   },
   {
    "duration": 23,
    "start_time": "2023-05-09T11:47:37.832Z"
   },
   {
    "duration": 21,
    "start_time": "2023-05-09T11:47:37.857Z"
   },
   {
    "duration": 23,
    "start_time": "2023-05-09T11:47:37.881Z"
   },
   {
    "duration": 20,
    "start_time": "2023-05-09T11:47:37.907Z"
   },
   {
    "duration": 19,
    "start_time": "2023-05-09T11:47:37.930Z"
   },
   {
    "duration": 51,
    "start_time": "2023-05-09T11:47:37.950Z"
   },
   {
    "duration": 147,
    "start_time": "2023-05-09T11:47:38.002Z"
   },
   {
    "duration": 26,
    "start_time": "2023-05-09T11:47:38.151Z"
   },
   {
    "duration": 419,
    "start_time": "2023-05-09T11:47:38.179Z"
   },
   {
    "duration": 290,
    "start_time": "2023-05-09T11:47:38.600Z"
   },
   {
    "duration": 294,
    "start_time": "2023-05-09T11:47:38.892Z"
   },
   {
    "duration": 291,
    "start_time": "2023-05-09T11:47:39.189Z"
   },
   {
    "duration": 7,
    "start_time": "2023-05-09T11:47:39.482Z"
   },
   {
    "duration": 13,
    "start_time": "2023-05-09T11:47:39.490Z"
   },
   {
    "duration": 159,
    "start_time": "2023-05-09T11:47:39.504Z"
   },
   {
    "duration": 298,
    "start_time": "2023-05-09T11:47:39.665Z"
   },
   {
    "duration": 302,
    "start_time": "2023-05-09T11:47:39.964Z"
   },
   {
    "duration": 21,
    "start_time": "2023-05-09T11:47:40.269Z"
   },
   {
    "duration": 38,
    "start_time": "2023-05-09T11:47:40.349Z"
   },
   {
    "duration": 5,
    "start_time": "2023-05-09T11:47:40.388Z"
   },
   {
    "duration": 28,
    "start_time": "2023-05-09T11:47:40.395Z"
   },
   {
    "duration": 33,
    "start_time": "2023-05-09T11:47:40.424Z"
   },
   {
    "duration": 36,
    "start_time": "2023-05-09T11:47:40.459Z"
   },
   {
    "duration": 6,
    "start_time": "2023-05-09T11:47:40.497Z"
   },
   {
    "duration": 7,
    "start_time": "2023-05-09T11:47:40.504Z"
   },
   {
    "duration": 608,
    "start_time": "2023-05-09T11:47:40.513Z"
   },
   {
    "duration": 575,
    "start_time": "2023-05-09T11:47:41.123Z"
   },
   {
    "duration": 599,
    "start_time": "2023-05-09T11:47:41.699Z"
   },
   {
    "duration": 7,
    "start_time": "2023-05-09T11:49:38.329Z"
   },
   {
    "duration": 622,
    "start_time": "2023-05-09T11:49:40.546Z"
   },
   {
    "duration": 590,
    "start_time": "2023-05-09T11:49:42.395Z"
   },
   {
    "duration": 620,
    "start_time": "2023-05-09T11:49:50.290Z"
   },
   {
    "duration": 13,
    "start_time": "2023-05-09T12:12:06.574Z"
   },
   {
    "duration": 620,
    "start_time": "2023-05-09T12:12:10.348Z"
   },
   {
    "duration": 546,
    "start_time": "2023-05-09T12:12:12.477Z"
   },
   {
    "duration": 614,
    "start_time": "2023-05-09T12:12:17.797Z"
   },
   {
    "duration": 1600,
    "start_time": "2023-05-09T12:12:39.980Z"
   },
   {
    "duration": 417,
    "start_time": "2023-05-09T12:12:41.581Z"
   },
   {
    "duration": 14,
    "start_time": "2023-05-09T12:12:41.999Z"
   },
   {
    "duration": 16,
    "start_time": "2023-05-09T12:12:42.016Z"
   },
   {
    "duration": 10,
    "start_time": "2023-05-09T12:12:42.034Z"
   },
   {
    "duration": 53,
    "start_time": "2023-05-09T12:12:42.046Z"
   },
   {
    "duration": 10,
    "start_time": "2023-05-09T12:12:42.100Z"
   },
   {
    "duration": 22,
    "start_time": "2023-05-09T12:12:42.112Z"
   },
   {
    "duration": 163,
    "start_time": "2023-05-09T12:12:42.135Z"
   },
   {
    "duration": 11,
    "start_time": "2023-05-09T12:12:42.301Z"
   },
   {
    "duration": 424,
    "start_time": "2023-05-09T12:12:42.314Z"
   },
   {
    "duration": 323,
    "start_time": "2023-05-09T12:12:42.741Z"
   },
   {
    "duration": 317,
    "start_time": "2023-05-09T12:12:43.065Z"
   },
   {
    "duration": 264,
    "start_time": "2023-05-09T12:12:43.385Z"
   },
   {
    "duration": 9,
    "start_time": "2023-05-09T12:12:43.651Z"
   },
   {
    "duration": 43,
    "start_time": "2023-05-09T12:12:43.661Z"
   },
   {
    "duration": 283,
    "start_time": "2023-05-09T12:12:43.706Z"
   },
   {
    "duration": 455,
    "start_time": "2023-05-09T12:12:43.994Z"
   },
   {
    "duration": 236,
    "start_time": "2023-05-09T12:12:44.451Z"
   },
   {
    "duration": 61,
    "start_time": "2023-05-09T12:12:44.691Z"
   },
   {
    "duration": 71,
    "start_time": "2023-05-09T12:12:44.756Z"
   },
   {
    "duration": 20,
    "start_time": "2023-05-09T12:12:44.830Z"
   },
   {
    "duration": 62,
    "start_time": "2023-05-09T12:12:44.852Z"
   },
   {
    "duration": 44,
    "start_time": "2023-05-09T12:12:44.917Z"
   },
   {
    "duration": 54,
    "start_time": "2023-05-09T12:12:44.963Z"
   },
   {
    "duration": 22,
    "start_time": "2023-05-09T12:12:45.019Z"
   },
   {
    "duration": 50,
    "start_time": "2023-05-09T12:12:45.043Z"
   },
   {
    "duration": 635,
    "start_time": "2023-05-09T12:12:45.096Z"
   },
   {
    "duration": 610,
    "start_time": "2023-05-09T12:12:45.732Z"
   },
   {
    "duration": 634,
    "start_time": "2023-05-09T12:12:46.343Z"
   },
   {
    "duration": 11,
    "start_time": "2023-05-09T12:15:09.005Z"
   },
   {
    "duration": 624,
    "start_time": "2023-05-09T12:15:21.474Z"
   },
   {
    "duration": 638,
    "start_time": "2023-05-09T12:15:24.878Z"
   },
   {
    "duration": 609,
    "start_time": "2023-05-09T12:15:27.580Z"
   },
   {
    "duration": 632,
    "start_time": "2023-05-09T12:15:56.784Z"
   },
   {
    "duration": 7,
    "start_time": "2023-05-09T12:17:14.319Z"
   },
   {
    "duration": 593,
    "start_time": "2023-05-09T12:17:17.325Z"
   },
   {
    "duration": 584,
    "start_time": "2023-05-09T12:17:19.369Z"
   },
   {
    "duration": 562,
    "start_time": "2023-05-09T12:17:20.542Z"
   },
   {
    "duration": 5,
    "start_time": "2023-05-09T12:30:00.437Z"
   },
   {
    "duration": 1470,
    "start_time": "2023-05-09T12:30:45.083Z"
   },
   {
    "duration": 359,
    "start_time": "2023-05-09T12:30:46.558Z"
   },
   {
    "duration": 16,
    "start_time": "2023-05-09T12:30:46.918Z"
   },
   {
    "duration": 28,
    "start_time": "2023-05-09T12:30:46.937Z"
   },
   {
    "duration": 12,
    "start_time": "2023-05-09T12:30:46.967Z"
   },
   {
    "duration": 30,
    "start_time": "2023-05-09T12:30:46.981Z"
   },
   {
    "duration": 11,
    "start_time": "2023-05-09T12:30:47.014Z"
   },
   {
    "duration": 19,
    "start_time": "2023-05-09T12:30:47.049Z"
   },
   {
    "duration": 205,
    "start_time": "2023-05-09T12:30:47.070Z"
   },
   {
    "duration": 11,
    "start_time": "2023-05-09T12:30:47.278Z"
   },
   {
    "duration": 384,
    "start_time": "2023-05-09T12:30:47.291Z"
   },
   {
    "duration": 314,
    "start_time": "2023-05-09T12:30:47.677Z"
   },
   {
    "duration": 383,
    "start_time": "2023-05-09T12:30:47.993Z"
   },
   {
    "duration": 327,
    "start_time": "2023-05-09T12:30:48.378Z"
   },
   {
    "duration": 5,
    "start_time": "2023-05-09T12:30:48.707Z"
   },
   {
    "duration": 26,
    "start_time": "2023-05-09T12:30:48.714Z"
   },
   {
    "duration": 323,
    "start_time": "2023-05-09T12:30:48.742Z"
   },
   {
    "duration": 390,
    "start_time": "2023-05-09T12:30:49.068Z"
   },
   {
    "duration": 413,
    "start_time": "2023-05-09T12:30:49.460Z"
   },
   {
    "duration": 75,
    "start_time": "2023-05-09T12:30:49.875Z"
   },
   {
    "duration": 101,
    "start_time": "2023-05-09T12:30:49.952Z"
   },
   {
    "duration": 29,
    "start_time": "2023-05-09T12:30:50.056Z"
   },
   {
    "duration": 153,
    "start_time": "2023-05-09T12:30:50.086Z"
   },
   {
    "duration": 0,
    "start_time": "2023-05-09T12:30:50.241Z"
   },
   {
    "duration": 0,
    "start_time": "2023-05-09T12:30:50.243Z"
   },
   {
    "duration": 0,
    "start_time": "2023-05-09T12:30:50.244Z"
   },
   {
    "duration": 0,
    "start_time": "2023-05-09T12:30:50.245Z"
   },
   {
    "duration": 0,
    "start_time": "2023-05-09T12:30:50.246Z"
   },
   {
    "duration": 0,
    "start_time": "2023-05-09T12:30:50.249Z"
   },
   {
    "duration": 0,
    "start_time": "2023-05-09T12:30:50.250Z"
   },
   {
    "duration": 16,
    "start_time": "2023-05-09T12:32:55.873Z"
   },
   {
    "duration": 15,
    "start_time": "2023-05-09T12:33:11.983Z"
   },
   {
    "duration": 9,
    "start_time": "2023-05-09T12:33:26.067Z"
   },
   {
    "duration": 532,
    "start_time": "2023-05-09T12:33:29.308Z"
   },
   {
    "duration": 1410,
    "start_time": "2023-05-09T12:34:04.830Z"
   },
   {
    "duration": 380,
    "start_time": "2023-05-09T12:34:06.242Z"
   },
   {
    "duration": 13,
    "start_time": "2023-05-09T12:34:06.624Z"
   },
   {
    "duration": 18,
    "start_time": "2023-05-09T12:34:06.639Z"
   },
   {
    "duration": 16,
    "start_time": "2023-05-09T12:34:06.659Z"
   },
   {
    "duration": 18,
    "start_time": "2023-05-09T12:34:06.677Z"
   },
   {
    "duration": 9,
    "start_time": "2023-05-09T12:34:06.696Z"
   },
   {
    "duration": 13,
    "start_time": "2023-05-09T12:34:06.706Z"
   },
   {
    "duration": 144,
    "start_time": "2023-05-09T12:34:06.721Z"
   },
   {
    "duration": 11,
    "start_time": "2023-05-09T12:34:06.867Z"
   },
   {
    "duration": 386,
    "start_time": "2023-05-09T12:34:06.879Z"
   },
   {
    "duration": 288,
    "start_time": "2023-05-09T12:34:07.267Z"
   },
   {
    "duration": 317,
    "start_time": "2023-05-09T12:34:07.556Z"
   },
   {
    "duration": 251,
    "start_time": "2023-05-09T12:34:07.877Z"
   },
   {
    "duration": 5,
    "start_time": "2023-05-09T12:34:08.130Z"
   },
   {
    "duration": 23,
    "start_time": "2023-05-09T12:34:08.136Z"
   },
   {
    "duration": 191,
    "start_time": "2023-05-09T12:34:08.160Z"
   },
   {
    "duration": 403,
    "start_time": "2023-05-09T12:34:08.356Z"
   },
   {
    "duration": 205,
    "start_time": "2023-05-09T12:34:08.764Z"
   },
   {
    "duration": 89,
    "start_time": "2023-05-09T12:34:08.970Z"
   },
   {
    "duration": 112,
    "start_time": "2023-05-09T12:34:09.061Z"
   },
   {
    "duration": 11,
    "start_time": "2023-05-09T12:34:09.175Z"
   },
   {
    "duration": 19,
    "start_time": "2023-05-09T12:34:09.188Z"
   },
   {
    "duration": 18,
    "start_time": "2023-05-09T12:34:09.208Z"
   },
   {
    "duration": 17,
    "start_time": "2023-05-09T12:34:09.227Z"
   },
   {
    "duration": 18,
    "start_time": "2023-05-09T12:34:09.246Z"
   },
   {
    "duration": 10,
    "start_time": "2023-05-09T12:34:09.266Z"
   },
   {
    "duration": 630,
    "start_time": "2023-05-09T12:34:09.278Z"
   },
   {
    "duration": 0,
    "start_time": "2023-05-09T12:34:09.911Z"
   },
   {
    "duration": 0,
    "start_time": "2023-05-09T12:34:09.912Z"
   },
   {
    "duration": 8,
    "start_time": "2023-05-09T12:35:02.550Z"
   },
   {
    "duration": 936,
    "start_time": "2023-05-09T12:35:05.661Z"
   },
   {
    "duration": 7,
    "start_time": "2023-05-09T12:35:12.661Z"
   },
   {
    "duration": 589,
    "start_time": "2023-05-09T12:35:14.635Z"
   },
   {
    "duration": 16,
    "start_time": "2023-05-09T12:35:47.400Z"
   },
   {
    "duration": 5,
    "start_time": "2023-05-09T12:35:53.393Z"
   },
   {
    "duration": 46,
    "start_time": "2023-05-09T12:35:54.837Z"
   },
   {
    "duration": 4,
    "start_time": "2023-05-09T12:36:02.212Z"
   },
   {
    "duration": 25,
    "start_time": "2023-05-09T12:36:03.561Z"
   },
   {
    "duration": 1398,
    "start_time": "2023-05-09T12:36:29.365Z"
   },
   {
    "duration": 388,
    "start_time": "2023-05-09T12:36:30.768Z"
   },
   {
    "duration": 14,
    "start_time": "2023-05-09T12:36:31.158Z"
   },
   {
    "duration": 52,
    "start_time": "2023-05-09T12:36:31.173Z"
   },
   {
    "duration": 13,
    "start_time": "2023-05-09T12:36:31.227Z"
   },
   {
    "duration": 44,
    "start_time": "2023-05-09T12:36:31.241Z"
   },
   {
    "duration": 139,
    "start_time": "2023-05-09T12:36:31.286Z"
   },
   {
    "duration": 71,
    "start_time": "2023-05-09T12:36:31.426Z"
   },
   {
    "duration": 135,
    "start_time": "2023-05-09T12:36:31.499Z"
   },
   {
    "duration": 10,
    "start_time": "2023-05-09T12:36:31.636Z"
   },
   {
    "duration": 409,
    "start_time": "2023-05-09T12:36:31.659Z"
   },
   {
    "duration": 295,
    "start_time": "2023-05-09T12:36:32.069Z"
   },
   {
    "duration": 294,
    "start_time": "2023-05-09T12:36:32.365Z"
   },
   {
    "duration": 244,
    "start_time": "2023-05-09T12:36:32.662Z"
   },
   {
    "duration": 5,
    "start_time": "2023-05-09T12:36:32.908Z"
   },
   {
    "duration": 13,
    "start_time": "2023-05-09T12:36:32.915Z"
   },
   {
    "duration": 138,
    "start_time": "2023-05-09T12:36:32.929Z"
   },
   {
    "duration": 384,
    "start_time": "2023-05-09T12:36:33.071Z"
   },
   {
    "duration": 216,
    "start_time": "2023-05-09T12:36:33.459Z"
   },
   {
    "duration": 8,
    "start_time": "2023-05-09T12:36:33.756Z"
   },
   {
    "duration": 96,
    "start_time": "2023-05-09T12:36:33.767Z"
   },
   {
    "duration": 4,
    "start_time": "2023-05-09T12:36:33.865Z"
   },
   {
    "duration": 22,
    "start_time": "2023-05-09T12:36:33.871Z"
   },
   {
    "duration": 18,
    "start_time": "2023-05-09T12:36:33.894Z"
   },
   {
    "duration": 19,
    "start_time": "2023-05-09T12:36:33.913Z"
   },
   {
    "duration": 4,
    "start_time": "2023-05-09T12:36:33.934Z"
   },
   {
    "duration": 23,
    "start_time": "2023-05-09T12:36:33.940Z"
   },
   {
    "duration": 673,
    "start_time": "2023-05-09T12:36:33.968Z"
   },
   {
    "duration": 0,
    "start_time": "2023-05-09T12:36:34.643Z"
   },
   {
    "duration": 0,
    "start_time": "2023-05-09T12:36:34.644Z"
   },
   {
    "duration": 8,
    "start_time": "2023-05-09T12:37:04.318Z"
   },
   {
    "duration": 967,
    "start_time": "2023-05-09T12:37:06.700Z"
   },
   {
    "duration": 1361,
    "start_time": "2023-05-09T12:38:42.478Z"
   },
   {
    "duration": 390,
    "start_time": "2023-05-09T12:38:43.842Z"
   },
   {
    "duration": 25,
    "start_time": "2023-05-09T12:38:44.234Z"
   },
   {
    "duration": 18,
    "start_time": "2023-05-09T12:38:44.261Z"
   },
   {
    "duration": 12,
    "start_time": "2023-05-09T12:38:44.281Z"
   },
   {
    "duration": 16,
    "start_time": "2023-05-09T12:38:44.295Z"
   },
   {
    "duration": 7,
    "start_time": "2023-05-09T12:38:44.313Z"
   },
   {
    "duration": 45,
    "start_time": "2023-05-09T12:38:44.322Z"
   },
   {
    "duration": 140,
    "start_time": "2023-05-09T12:38:44.369Z"
   },
   {
    "duration": 11,
    "start_time": "2023-05-09T12:38:44.513Z"
   },
   {
    "duration": 465,
    "start_time": "2023-05-09T12:38:44.526Z"
   },
   {
    "duration": 323,
    "start_time": "2023-05-09T12:38:44.994Z"
   },
   {
    "duration": 361,
    "start_time": "2023-05-09T12:38:45.319Z"
   },
   {
    "duration": 297,
    "start_time": "2023-05-09T12:38:45.682Z"
   },
   {
    "duration": 5,
    "start_time": "2023-05-09T12:38:45.981Z"
   },
   {
    "duration": 12,
    "start_time": "2023-05-09T12:38:45.988Z"
   },
   {
    "duration": 182,
    "start_time": "2023-05-09T12:38:46.002Z"
   },
   {
    "duration": 299,
    "start_time": "2023-05-09T12:38:46.279Z"
   },
   {
    "duration": 298,
    "start_time": "2023-05-09T12:38:46.585Z"
   },
   {
    "duration": 11,
    "start_time": "2023-05-09T12:38:46.964Z"
   },
   {
    "duration": 108,
    "start_time": "2023-05-09T12:38:46.985Z"
   },
   {
    "duration": 14,
    "start_time": "2023-05-09T12:38:47.095Z"
   },
   {
    "duration": 32,
    "start_time": "2023-05-09T12:38:47.111Z"
   },
   {
    "duration": 55,
    "start_time": "2023-05-09T12:38:47.145Z"
   },
   {
    "duration": 26,
    "start_time": "2023-05-09T12:38:47.202Z"
   },
   {
    "duration": 14,
    "start_time": "2023-05-09T12:38:47.230Z"
   },
   {
    "duration": 48,
    "start_time": "2023-05-09T12:38:47.246Z"
   },
   {
    "duration": 647,
    "start_time": "2023-05-09T12:38:47.297Z"
   },
   {
    "duration": 587,
    "start_time": "2023-05-09T12:38:47.951Z"
   },
   {
    "duration": 647,
    "start_time": "2023-05-09T12:38:48.540Z"
   },
   {
    "duration": 1398,
    "start_time": "2023-05-09T12:40:39.563Z"
   },
   {
    "duration": 389,
    "start_time": "2023-05-09T12:40:40.963Z"
   },
   {
    "duration": 16,
    "start_time": "2023-05-09T12:40:41.354Z"
   },
   {
    "duration": 22,
    "start_time": "2023-05-09T12:40:41.372Z"
   },
   {
    "duration": 9,
    "start_time": "2023-05-09T12:40:41.395Z"
   },
   {
    "duration": 16,
    "start_time": "2023-05-09T12:40:41.406Z"
   },
   {
    "duration": 42,
    "start_time": "2023-05-09T12:40:41.424Z"
   },
   {
    "duration": 13,
    "start_time": "2023-05-09T12:40:41.467Z"
   },
   {
    "duration": 128,
    "start_time": "2023-05-09T12:40:41.481Z"
   },
   {
    "duration": 11,
    "start_time": "2023-05-09T12:40:41.611Z"
   },
   {
    "duration": 400,
    "start_time": "2023-05-09T12:40:41.624Z"
   },
   {
    "duration": 332,
    "start_time": "2023-05-09T12:40:42.027Z"
   },
   {
    "duration": 282,
    "start_time": "2023-05-09T12:40:42.360Z"
   },
   {
    "duration": 254,
    "start_time": "2023-05-09T12:40:42.648Z"
   },
   {
    "duration": 6,
    "start_time": "2023-05-09T12:40:42.904Z"
   },
   {
    "duration": 20,
    "start_time": "2023-05-09T12:40:42.912Z"
   },
   {
    "duration": 142,
    "start_time": "2023-05-09T12:40:42.934Z"
   },
   {
    "duration": 315,
    "start_time": "2023-05-09T12:40:43.152Z"
   },
   {
    "duration": 214,
    "start_time": "2023-05-09T12:40:43.549Z"
   },
   {
    "duration": 11,
    "start_time": "2023-05-09T12:40:43.764Z"
   },
   {
    "duration": 31,
    "start_time": "2023-05-09T12:40:43.849Z"
   },
   {
    "duration": 10,
    "start_time": "2023-05-09T12:40:43.882Z"
   },
   {
    "duration": 65,
    "start_time": "2023-05-09T12:40:43.894Z"
   },
   {
    "duration": 30,
    "start_time": "2023-05-09T12:40:43.962Z"
   },
   {
    "duration": 27,
    "start_time": "2023-05-09T12:40:43.994Z"
   },
   {
    "duration": 54,
    "start_time": "2023-05-09T12:40:44.023Z"
   },
   {
    "duration": 8,
    "start_time": "2023-05-09T12:40:44.079Z"
   },
   {
    "duration": 644,
    "start_time": "2023-05-09T12:40:44.091Z"
   },
   {
    "duration": 546,
    "start_time": "2023-05-09T12:40:44.736Z"
   },
   {
    "duration": 521,
    "start_time": "2023-05-09T12:40:45.284Z"
   },
   {
    "duration": 1775,
    "start_time": "2023-05-10T06:42:29.817Z"
   },
   {
    "duration": 1727,
    "start_time": "2023-05-10T06:42:31.594Z"
   },
   {
    "duration": 15,
    "start_time": "2023-05-10T06:42:33.323Z"
   },
   {
    "duration": 181,
    "start_time": "2023-05-10T06:42:33.339Z"
   },
   {
    "duration": 29,
    "start_time": "2023-05-10T06:42:33.522Z"
   },
   {
    "duration": 89,
    "start_time": "2023-05-10T06:42:33.552Z"
   },
   {
    "duration": 44,
    "start_time": "2023-05-10T06:42:33.644Z"
   },
   {
    "duration": 23,
    "start_time": "2023-05-10T06:42:33.690Z"
   },
   {
    "duration": 165,
    "start_time": "2023-05-10T06:42:33.715Z"
   },
   {
    "duration": 14,
    "start_time": "2023-05-10T06:42:33.882Z"
   },
   {
    "duration": 507,
    "start_time": "2023-05-10T06:42:33.898Z"
   },
   {
    "duration": 354,
    "start_time": "2023-05-10T06:42:34.408Z"
   },
   {
    "duration": 327,
    "start_time": "2023-05-10T06:42:34.764Z"
   },
   {
    "duration": 303,
    "start_time": "2023-05-10T06:42:35.094Z"
   },
   {
    "duration": 8,
    "start_time": "2023-05-10T06:42:35.398Z"
   },
   {
    "duration": 21,
    "start_time": "2023-05-10T06:42:35.409Z"
   },
   {
    "duration": 217,
    "start_time": "2023-05-10T06:42:35.432Z"
   },
   {
    "duration": 511,
    "start_time": "2023-05-10T06:42:35.651Z"
   },
   {
    "duration": 379,
    "start_time": "2023-05-10T06:42:36.167Z"
   },
   {
    "duration": 93,
    "start_time": "2023-05-10T06:42:36.549Z"
   },
   {
    "duration": 114,
    "start_time": "2023-05-10T06:42:36.644Z"
   },
   {
    "duration": 9,
    "start_time": "2023-05-10T06:42:36.761Z"
   },
   {
    "duration": 132,
    "start_time": "2023-05-10T06:42:36.772Z"
   },
   {
    "duration": 0,
    "start_time": "2023-05-10T06:42:36.906Z"
   },
   {
    "duration": 0,
    "start_time": "2023-05-10T06:42:36.907Z"
   },
   {
    "duration": 0,
    "start_time": "2023-05-10T06:42:36.909Z"
   },
   {
    "duration": 0,
    "start_time": "2023-05-10T06:42:36.911Z"
   },
   {
    "duration": 0,
    "start_time": "2023-05-10T06:42:36.914Z"
   },
   {
    "duration": 1,
    "start_time": "2023-05-10T06:42:36.915Z"
   },
   {
    "duration": 1438,
    "start_time": "2023-05-10T06:49:37.356Z"
   },
   {
    "duration": 399,
    "start_time": "2023-05-10T06:49:38.796Z"
   },
   {
    "duration": 17,
    "start_time": "2023-05-10T06:49:39.197Z"
   },
   {
    "duration": 28,
    "start_time": "2023-05-10T06:49:39.216Z"
   },
   {
    "duration": 12,
    "start_time": "2023-05-10T06:49:39.247Z"
   },
   {
    "duration": 17,
    "start_time": "2023-05-10T06:49:39.262Z"
   },
   {
    "duration": 11,
    "start_time": "2023-05-10T06:49:39.281Z"
   },
   {
    "duration": 53,
    "start_time": "2023-05-10T06:49:39.294Z"
   },
   {
    "duration": 173,
    "start_time": "2023-05-10T06:49:39.350Z"
   },
   {
    "duration": 21,
    "start_time": "2023-05-10T06:49:39.524Z"
   },
   {
    "duration": 432,
    "start_time": "2023-05-10T06:49:39.547Z"
   },
   {
    "duration": 338,
    "start_time": "2023-05-10T06:49:39.981Z"
   },
   {
    "duration": 343,
    "start_time": "2023-05-10T06:49:40.321Z"
   },
   {
    "duration": 290,
    "start_time": "2023-05-10T06:49:40.667Z"
   },
   {
    "duration": 6,
    "start_time": "2023-05-10T06:49:40.959Z"
   },
   {
    "duration": 41,
    "start_time": "2023-05-10T06:49:40.967Z"
   },
   {
    "duration": 237,
    "start_time": "2023-05-10T06:49:41.010Z"
   },
   {
    "duration": 501,
    "start_time": "2023-05-10T06:49:41.249Z"
   },
   {
    "duration": 395,
    "start_time": "2023-05-10T06:49:41.752Z"
   },
   {
    "duration": 92,
    "start_time": "2023-05-10T06:49:42.149Z"
   },
   {
    "duration": 114,
    "start_time": "2023-05-10T06:49:42.244Z"
   },
   {
    "duration": 12,
    "start_time": "2023-05-10T06:49:42.360Z"
   },
   {
    "duration": 122,
    "start_time": "2023-05-10T06:49:42.374Z"
   },
   {
    "duration": 0,
    "start_time": "2023-05-10T06:49:42.499Z"
   },
   {
    "duration": 0,
    "start_time": "2023-05-10T06:49:42.500Z"
   },
   {
    "duration": 0,
    "start_time": "2023-05-10T06:49:42.501Z"
   },
   {
    "duration": 0,
    "start_time": "2023-05-10T06:49:42.502Z"
   },
   {
    "duration": 0,
    "start_time": "2023-05-10T06:49:42.503Z"
   },
   {
    "duration": 0,
    "start_time": "2023-05-10T06:49:42.504Z"
   },
   {
    "duration": 1535,
    "start_time": "2023-05-10T06:51:36.429Z"
   },
   {
    "duration": 414,
    "start_time": "2023-05-10T06:51:37.966Z"
   },
   {
    "duration": 15,
    "start_time": "2023-05-10T06:51:38.382Z"
   },
   {
    "duration": 32,
    "start_time": "2023-05-10T06:51:38.399Z"
   },
   {
    "duration": 12,
    "start_time": "2023-05-10T06:51:38.434Z"
   },
   {
    "duration": 26,
    "start_time": "2023-05-10T06:51:38.448Z"
   },
   {
    "duration": 11,
    "start_time": "2023-05-10T06:51:38.475Z"
   },
   {
    "duration": 21,
    "start_time": "2023-05-10T06:51:38.489Z"
   },
   {
    "duration": 218,
    "start_time": "2023-05-10T06:51:38.512Z"
   },
   {
    "duration": 16,
    "start_time": "2023-05-10T06:51:38.733Z"
   },
   {
    "duration": 424,
    "start_time": "2023-05-10T06:51:38.751Z"
   },
   {
    "duration": 351,
    "start_time": "2023-05-10T06:51:39.177Z"
   },
   {
    "duration": 341,
    "start_time": "2023-05-10T06:51:39.530Z"
   },
   {
    "duration": 288,
    "start_time": "2023-05-10T06:51:39.874Z"
   },
   {
    "duration": 6,
    "start_time": "2023-05-10T06:51:40.165Z"
   },
   {
    "duration": 14,
    "start_time": "2023-05-10T06:51:40.173Z"
   },
   {
    "duration": 357,
    "start_time": "2023-05-10T06:51:40.189Z"
   },
   {
    "duration": 403,
    "start_time": "2023-05-10T06:51:40.550Z"
   },
   {
    "duration": 401,
    "start_time": "2023-05-10T06:51:40.955Z"
   },
   {
    "duration": 86,
    "start_time": "2023-05-10T06:51:41.358Z"
   },
   {
    "duration": 114,
    "start_time": "2023-05-10T06:51:41.447Z"
   },
   {
    "duration": 11,
    "start_time": "2023-05-10T06:51:41.563Z"
   },
   {
    "duration": 133,
    "start_time": "2023-05-10T06:51:41.576Z"
   },
   {
    "duration": 0,
    "start_time": "2023-05-10T06:51:41.711Z"
   },
   {
    "duration": 0,
    "start_time": "2023-05-10T06:51:41.712Z"
   },
   {
    "duration": 0,
    "start_time": "2023-05-10T06:51:41.713Z"
   },
   {
    "duration": 0,
    "start_time": "2023-05-10T06:51:41.714Z"
   },
   {
    "duration": 0,
    "start_time": "2023-05-10T06:51:41.715Z"
   },
   {
    "duration": 0,
    "start_time": "2023-05-10T06:51:41.716Z"
   },
   {
    "duration": 8,
    "start_time": "2023-05-10T07:02:47.661Z"
   },
   {
    "duration": 6,
    "start_time": "2023-05-10T07:02:57.526Z"
   },
   {
    "duration": 1761,
    "start_time": "2023-05-10T07:07:59.534Z"
   },
   {
    "duration": 468,
    "start_time": "2023-05-10T07:08:01.298Z"
   },
   {
    "duration": 23,
    "start_time": "2023-05-10T07:08:01.772Z"
   },
   {
    "duration": 34,
    "start_time": "2023-05-10T07:08:01.798Z"
   },
   {
    "duration": 31,
    "start_time": "2023-05-10T07:08:01.836Z"
   },
   {
    "duration": 60,
    "start_time": "2023-05-10T07:08:01.869Z"
   },
   {
    "duration": 40,
    "start_time": "2023-05-10T07:08:01.931Z"
   },
   {
    "duration": 97,
    "start_time": "2023-05-10T07:08:01.973Z"
   },
   {
    "duration": 222,
    "start_time": "2023-05-10T07:08:02.071Z"
   },
   {
    "duration": 13,
    "start_time": "2023-05-10T07:08:02.295Z"
   },
   {
    "duration": 494,
    "start_time": "2023-05-10T07:08:02.311Z"
   },
   {
    "duration": 384,
    "start_time": "2023-05-10T07:08:02.807Z"
   },
   {
    "duration": 399,
    "start_time": "2023-05-10T07:08:03.194Z"
   },
   {
    "duration": 363,
    "start_time": "2023-05-10T07:08:03.597Z"
   },
   {
    "duration": 7,
    "start_time": "2023-05-10T07:08:03.962Z"
   },
   {
    "duration": 24,
    "start_time": "2023-05-10T07:08:03.972Z"
   },
   {
    "duration": 258,
    "start_time": "2023-05-10T07:08:03.998Z"
   },
   {
    "duration": 397,
    "start_time": "2023-05-10T07:08:04.260Z"
   },
   {
    "duration": 304,
    "start_time": "2023-05-10T07:08:04.663Z"
   },
   {
    "duration": 16,
    "start_time": "2023-05-10T07:08:05.046Z"
   },
   {
    "duration": 99,
    "start_time": "2023-05-10T07:08:05.070Z"
   },
   {
    "duration": 10,
    "start_time": "2023-05-10T07:08:05.171Z"
   },
   {
    "duration": 15,
    "start_time": "2023-05-10T07:08:05.183Z"
   },
   {
    "duration": 26,
    "start_time": "2023-05-10T07:08:05.200Z"
   },
   {
    "duration": 158,
    "start_time": "2023-05-10T07:08:05.229Z"
   },
   {
    "duration": 0,
    "start_time": "2023-05-10T07:08:05.389Z"
   },
   {
    "duration": 0,
    "start_time": "2023-05-10T07:08:05.390Z"
   },
   {
    "duration": 0,
    "start_time": "2023-05-10T07:08:05.393Z"
   },
   {
    "duration": 0,
    "start_time": "2023-05-10T07:08:05.394Z"
   },
   {
    "duration": 0,
    "start_time": "2023-05-10T07:08:05.395Z"
   },
   {
    "duration": 0,
    "start_time": "2023-05-10T07:08:05.397Z"
   },
   {
    "duration": 2082,
    "start_time": "2023-05-10T07:10:10.573Z"
   },
   {
    "duration": 699,
    "start_time": "2023-05-10T07:10:12.658Z"
   },
   {
    "duration": 16,
    "start_time": "2023-05-10T07:10:13.359Z"
   },
   {
    "duration": 84,
    "start_time": "2023-05-10T07:10:13.378Z"
   },
   {
    "duration": 32,
    "start_time": "2023-05-10T07:10:13.463Z"
   },
   {
    "duration": 68,
    "start_time": "2023-05-10T07:10:13.496Z"
   },
   {
    "duration": 31,
    "start_time": "2023-05-10T07:10:13.566Z"
   },
   {
    "duration": 36,
    "start_time": "2023-05-10T07:10:13.640Z"
   },
   {
    "duration": 369,
    "start_time": "2023-05-10T07:10:13.679Z"
   },
   {
    "duration": 15,
    "start_time": "2023-05-10T07:10:14.053Z"
   },
   {
    "duration": 874,
    "start_time": "2023-05-10T07:10:14.070Z"
   },
   {
    "duration": 452,
    "start_time": "2023-05-10T07:10:14.946Z"
   },
   {
    "duration": 380,
    "start_time": "2023-05-10T07:10:15.401Z"
   },
   {
    "duration": 333,
    "start_time": "2023-05-10T07:10:15.783Z"
   },
   {
    "duration": 8,
    "start_time": "2023-05-10T07:10:16.119Z"
   },
   {
    "duration": 19,
    "start_time": "2023-05-10T07:10:16.143Z"
   },
   {
    "duration": 329,
    "start_time": "2023-05-10T07:10:16.164Z"
   },
   {
    "duration": 306,
    "start_time": "2023-05-10T07:10:16.544Z"
   },
   {
    "duration": 305,
    "start_time": "2023-05-10T07:10:16.854Z"
   },
   {
    "duration": 86,
    "start_time": "2023-05-10T07:10:17.161Z"
   },
   {
    "duration": 127,
    "start_time": "2023-05-10T07:10:17.250Z"
   },
   {
    "duration": 27,
    "start_time": "2023-05-10T07:10:17.379Z"
   },
   {
    "duration": 32,
    "start_time": "2023-05-10T07:10:17.408Z"
   },
   {
    "duration": 25,
    "start_time": "2023-05-10T07:10:17.445Z"
   },
   {
    "duration": 175,
    "start_time": "2023-05-10T07:10:17.472Z"
   },
   {
    "duration": 0,
    "start_time": "2023-05-10T07:10:17.651Z"
   },
   {
    "duration": 0,
    "start_time": "2023-05-10T07:10:17.652Z"
   },
   {
    "duration": 0,
    "start_time": "2023-05-10T07:10:17.653Z"
   },
   {
    "duration": 0,
    "start_time": "2023-05-10T07:10:17.654Z"
   },
   {
    "duration": 0,
    "start_time": "2023-05-10T07:10:17.655Z"
   },
   {
    "duration": 0,
    "start_time": "2023-05-10T07:10:17.656Z"
   },
   {
    "duration": 1719,
    "start_time": "2023-05-10T07:10:50.610Z"
   },
   {
    "duration": 433,
    "start_time": "2023-05-10T07:10:52.331Z"
   },
   {
    "duration": 15,
    "start_time": "2023-05-10T07:10:52.766Z"
   },
   {
    "duration": 49,
    "start_time": "2023-05-10T07:10:52.783Z"
   },
   {
    "duration": 55,
    "start_time": "2023-05-10T07:10:52.835Z"
   },
   {
    "duration": 33,
    "start_time": "2023-05-10T07:10:52.892Z"
   },
   {
    "duration": 35,
    "start_time": "2023-05-10T07:10:52.927Z"
   },
   {
    "duration": 41,
    "start_time": "2023-05-10T07:10:52.964Z"
   },
   {
    "duration": 357,
    "start_time": "2023-05-10T07:10:53.007Z"
   },
   {
    "duration": 14,
    "start_time": "2023-05-10T07:10:53.366Z"
   },
   {
    "duration": 796,
    "start_time": "2023-05-10T07:10:53.383Z"
   },
   {
    "duration": 584,
    "start_time": "2023-05-10T07:10:54.181Z"
   },
   {
    "duration": 603,
    "start_time": "2023-05-10T07:10:54.767Z"
   },
   {
    "duration": 382,
    "start_time": "2023-05-10T07:10:55.374Z"
   },
   {
    "duration": 6,
    "start_time": "2023-05-10T07:10:55.759Z"
   },
   {
    "duration": 16,
    "start_time": "2023-05-10T07:10:55.767Z"
   },
   {
    "duration": 164,
    "start_time": "2023-05-10T07:10:55.785Z"
   },
   {
    "duration": 500,
    "start_time": "2023-05-10T07:10:55.952Z"
   },
   {
    "duration": 395,
    "start_time": "2023-05-10T07:10:56.455Z"
   },
   {
    "duration": 89,
    "start_time": "2023-05-10T07:10:56.853Z"
   },
   {
    "duration": 107,
    "start_time": "2023-05-10T07:10:56.959Z"
   },
   {
    "duration": 26,
    "start_time": "2023-05-10T07:10:57.068Z"
   },
   {
    "duration": 20,
    "start_time": "2023-05-10T07:10:57.096Z"
   },
   {
    "duration": 20,
    "start_time": "2023-05-10T07:10:57.118Z"
   },
   {
    "duration": 160,
    "start_time": "2023-05-10T07:10:57.140Z"
   },
   {
    "duration": 0,
    "start_time": "2023-05-10T07:10:57.302Z"
   },
   {
    "duration": 0,
    "start_time": "2023-05-10T07:10:57.303Z"
   },
   {
    "duration": 0,
    "start_time": "2023-05-10T07:10:57.304Z"
   },
   {
    "duration": 0,
    "start_time": "2023-05-10T07:10:57.306Z"
   },
   {
    "duration": 0,
    "start_time": "2023-05-10T07:10:57.307Z"
   },
   {
    "duration": 0,
    "start_time": "2023-05-10T07:10:57.309Z"
   },
   {
    "duration": 1760,
    "start_time": "2023-05-10T07:11:48.766Z"
   },
   {
    "duration": 450,
    "start_time": "2023-05-10T07:11:50.529Z"
   },
   {
    "duration": 16,
    "start_time": "2023-05-10T07:11:50.981Z"
   },
   {
    "duration": 21,
    "start_time": "2023-05-10T07:11:50.999Z"
   },
   {
    "duration": 34,
    "start_time": "2023-05-10T07:11:51.022Z"
   },
   {
    "duration": 21,
    "start_time": "2023-05-10T07:11:51.058Z"
   },
   {
    "duration": 10,
    "start_time": "2023-05-10T07:11:51.081Z"
   },
   {
    "duration": 21,
    "start_time": "2023-05-10T07:11:51.092Z"
   },
   {
    "duration": 207,
    "start_time": "2023-05-10T07:11:51.115Z"
   },
   {
    "duration": 28,
    "start_time": "2023-05-10T07:11:51.326Z"
   },
   {
    "duration": 443,
    "start_time": "2023-05-10T07:11:51.357Z"
   },
   {
    "duration": 384,
    "start_time": "2023-05-10T07:11:51.803Z"
   },
   {
    "duration": 380,
    "start_time": "2023-05-10T07:11:52.188Z"
   },
   {
    "duration": 336,
    "start_time": "2023-05-10T07:11:52.570Z"
   },
   {
    "duration": 6,
    "start_time": "2023-05-10T07:11:52.909Z"
   },
   {
    "duration": 38,
    "start_time": "2023-05-10T07:11:52.918Z"
   },
   {
    "duration": 406,
    "start_time": "2023-05-10T07:11:52.958Z"
   },
   {
    "duration": 219,
    "start_time": "2023-05-10T07:11:53.445Z"
   },
   {
    "duration": 302,
    "start_time": "2023-05-10T07:11:53.746Z"
   },
   {
    "duration": 88,
    "start_time": "2023-05-10T07:11:54.055Z"
   },
   {
    "duration": 33,
    "start_time": "2023-05-10T07:11:54.149Z"
   },
   {
    "duration": 10,
    "start_time": "2023-05-10T07:11:54.184Z"
   },
   {
    "duration": 24,
    "start_time": "2023-05-10T07:11:54.196Z"
   },
   {
    "duration": 14,
    "start_time": "2023-05-10T07:11:54.222Z"
   },
   {
    "duration": 48,
    "start_time": "2023-05-10T07:11:54.238Z"
   },
   {
    "duration": 22,
    "start_time": "2023-05-10T07:11:54.288Z"
   },
   {
    "duration": 24,
    "start_time": "2023-05-10T07:11:54.313Z"
   },
   {
    "duration": 13,
    "start_time": "2023-05-10T07:11:54.346Z"
   },
   {
    "duration": 156,
    "start_time": "2023-05-10T07:11:54.361Z"
   },
   {
    "duration": 0,
    "start_time": "2023-05-10T07:11:54.519Z"
   },
   {
    "duration": 0,
    "start_time": "2023-05-10T07:11:54.520Z"
   },
   {
    "duration": 1618,
    "start_time": "2023-05-10T07:14:03.818Z"
   },
   {
    "duration": 466,
    "start_time": "2023-05-10T07:14:05.438Z"
   },
   {
    "duration": 23,
    "start_time": "2023-05-10T07:14:05.907Z"
   },
   {
    "duration": 35,
    "start_time": "2023-05-10T07:14:05.942Z"
   },
   {
    "duration": 17,
    "start_time": "2023-05-10T07:14:05.980Z"
   },
   {
    "duration": 51,
    "start_time": "2023-05-10T07:14:06.000Z"
   },
   {
    "duration": 19,
    "start_time": "2023-05-10T07:14:06.053Z"
   },
   {
    "duration": 46,
    "start_time": "2023-05-10T07:14:06.074Z"
   },
   {
    "duration": 242,
    "start_time": "2023-05-10T07:14:06.122Z"
   },
   {
    "duration": 15,
    "start_time": "2023-05-10T07:14:06.366Z"
   },
   {
    "duration": 476,
    "start_time": "2023-05-10T07:14:06.383Z"
   },
   {
    "duration": 338,
    "start_time": "2023-05-10T07:14:06.861Z"
   },
   {
    "duration": 373,
    "start_time": "2023-05-10T07:14:07.202Z"
   },
   {
    "duration": 309,
    "start_time": "2023-05-10T07:14:07.579Z"
   },
   {
    "duration": 9,
    "start_time": "2023-05-10T07:14:07.891Z"
   },
   {
    "duration": 41,
    "start_time": "2023-05-10T07:14:07.903Z"
   },
   {
    "duration": 296,
    "start_time": "2023-05-10T07:14:07.947Z"
   },
   {
    "duration": 396,
    "start_time": "2023-05-10T07:14:08.245Z"
   },
   {
    "duration": 299,
    "start_time": "2023-05-10T07:14:08.644Z"
   },
   {
    "duration": 94,
    "start_time": "2023-05-10T07:14:08.950Z"
   },
   {
    "duration": 11,
    "start_time": "2023-05-10T07:14:09.046Z"
   },
   {
    "duration": 5,
    "start_time": "2023-05-10T07:14:09.060Z"
   },
   {
    "duration": 16,
    "start_time": "2023-05-10T07:14:09.068Z"
   },
   {
    "duration": 12,
    "start_time": "2023-05-10T07:14:09.086Z"
   },
   {
    "duration": 43,
    "start_time": "2023-05-10T07:14:09.100Z"
   },
   {
    "duration": 27,
    "start_time": "2023-05-10T07:14:09.145Z"
   },
   {
    "duration": 27,
    "start_time": "2023-05-10T07:14:09.175Z"
   },
   {
    "duration": 39,
    "start_time": "2023-05-10T07:14:09.204Z"
   },
   {
    "duration": 145,
    "start_time": "2023-05-10T07:14:09.245Z"
   },
   {
    "duration": 0,
    "start_time": "2023-05-10T07:14:09.392Z"
   },
   {
    "duration": 0,
    "start_time": "2023-05-10T07:14:09.393Z"
   },
   {
    "duration": 5,
    "start_time": "2023-05-10T07:15:56.234Z"
   },
   {
    "duration": 7,
    "start_time": "2023-05-10T07:15:57.713Z"
   },
   {
    "duration": 7,
    "start_time": "2023-05-10T07:15:58.374Z"
   },
   {
    "duration": 7,
    "start_time": "2023-05-10T07:15:59.030Z"
   },
   {
    "duration": 7,
    "start_time": "2023-05-10T07:16:00.040Z"
   },
   {
    "duration": 27,
    "start_time": "2023-05-10T07:16:00.604Z"
   },
   {
    "duration": 1511,
    "start_time": "2023-05-10T07:16:31.742Z"
   },
   {
    "duration": 430,
    "start_time": "2023-05-10T07:16:33.255Z"
   },
   {
    "duration": 16,
    "start_time": "2023-05-10T07:16:33.687Z"
   },
   {
    "duration": 32,
    "start_time": "2023-05-10T07:16:33.705Z"
   },
   {
    "duration": 11,
    "start_time": "2023-05-10T07:16:33.740Z"
   },
   {
    "duration": 43,
    "start_time": "2023-05-10T07:16:33.753Z"
   },
   {
    "duration": 62,
    "start_time": "2023-05-10T07:16:33.798Z"
   },
   {
    "duration": 83,
    "start_time": "2023-05-10T07:16:33.862Z"
   },
   {
    "duration": 294,
    "start_time": "2023-05-10T07:16:33.948Z"
   },
   {
    "duration": 14,
    "start_time": "2023-05-10T07:16:34.245Z"
   },
   {
    "duration": 436,
    "start_time": "2023-05-10T07:16:34.261Z"
   },
   {
    "duration": 361,
    "start_time": "2023-05-10T07:16:34.699Z"
   },
   {
    "duration": 344,
    "start_time": "2023-05-10T07:16:35.062Z"
   },
   {
    "duration": 320,
    "start_time": "2023-05-10T07:16:35.409Z"
   },
   {
    "duration": 23,
    "start_time": "2023-05-10T07:16:35.732Z"
   },
   {
    "duration": 41,
    "start_time": "2023-05-10T07:16:35.758Z"
   },
   {
    "duration": 418,
    "start_time": "2023-05-10T07:16:35.802Z"
   },
   {
    "duration": 225,
    "start_time": "2023-05-10T07:16:36.222Z"
   },
   {
    "duration": 409,
    "start_time": "2023-05-10T07:16:36.449Z"
   },
   {
    "duration": 83,
    "start_time": "2023-05-10T07:16:36.862Z"
   },
   {
    "duration": 98,
    "start_time": "2023-05-10T07:16:36.948Z"
   },
   {
    "duration": 34,
    "start_time": "2023-05-10T07:16:37.048Z"
   },
   {
    "duration": 45,
    "start_time": "2023-05-10T07:16:37.084Z"
   },
   {
    "duration": 19,
    "start_time": "2023-05-10T07:16:37.132Z"
   },
   {
    "duration": 45,
    "start_time": "2023-05-10T07:16:37.153Z"
   },
   {
    "duration": 37,
    "start_time": "2023-05-10T07:16:37.199Z"
   },
   {
    "duration": 24,
    "start_time": "2023-05-10T07:16:37.238Z"
   },
   {
    "duration": 11,
    "start_time": "2023-05-10T07:16:37.266Z"
   },
   {
    "duration": 182,
    "start_time": "2023-05-10T07:16:37.279Z"
   },
   {
    "duration": 0,
    "start_time": "2023-05-10T07:16:37.463Z"
   },
   {
    "duration": 0,
    "start_time": "2023-05-10T07:16:37.465Z"
   },
   {
    "duration": 1699,
    "start_time": "2023-05-10T07:18:53.230Z"
   },
   {
    "duration": 444,
    "start_time": "2023-05-10T07:18:54.931Z"
   },
   {
    "duration": 17,
    "start_time": "2023-05-10T07:18:55.377Z"
   },
   {
    "duration": 31,
    "start_time": "2023-05-10T07:18:55.396Z"
   },
   {
    "duration": 19,
    "start_time": "2023-05-10T07:18:55.430Z"
   },
   {
    "duration": 26,
    "start_time": "2023-05-10T07:18:55.451Z"
   },
   {
    "duration": 12,
    "start_time": "2023-05-10T07:18:55.480Z"
   },
   {
    "duration": 44,
    "start_time": "2023-05-10T07:18:55.494Z"
   },
   {
    "duration": 197,
    "start_time": "2023-05-10T07:18:55.541Z"
   },
   {
    "duration": 16,
    "start_time": "2023-05-10T07:18:55.739Z"
   },
   {
    "duration": 517,
    "start_time": "2023-05-10T07:18:55.757Z"
   },
   {
    "duration": 356,
    "start_time": "2023-05-10T07:18:56.276Z"
   },
   {
    "duration": 351,
    "start_time": "2023-05-10T07:18:56.634Z"
   },
   {
    "duration": 323,
    "start_time": "2023-05-10T07:18:56.988Z"
   },
   {
    "duration": 8,
    "start_time": "2023-05-10T07:18:57.313Z"
   },
   {
    "duration": 31,
    "start_time": "2023-05-10T07:18:57.323Z"
   },
   {
    "duration": 305,
    "start_time": "2023-05-10T07:18:57.357Z"
   },
   {
    "duration": 489,
    "start_time": "2023-05-10T07:18:57.663Z"
   },
   {
    "duration": 393,
    "start_time": "2023-05-10T07:18:58.155Z"
   },
   {
    "duration": 86,
    "start_time": "2023-05-10T07:18:58.556Z"
   },
   {
    "duration": 29,
    "start_time": "2023-05-10T07:18:58.645Z"
   },
   {
    "duration": 17,
    "start_time": "2023-05-10T07:18:58.676Z"
   },
   {
    "duration": 32,
    "start_time": "2023-05-10T07:18:58.695Z"
   },
   {
    "duration": 16,
    "start_time": "2023-05-10T07:18:58.730Z"
   },
   {
    "duration": 44,
    "start_time": "2023-05-10T07:18:58.748Z"
   },
   {
    "duration": 27,
    "start_time": "2023-05-10T07:18:58.794Z"
   },
   {
    "duration": 30,
    "start_time": "2023-05-10T07:18:58.823Z"
   },
   {
    "duration": 11,
    "start_time": "2023-05-10T07:18:58.856Z"
   },
   {
    "duration": 1228,
    "start_time": "2023-05-10T07:18:58.869Z"
   },
   {
    "duration": 1214,
    "start_time": "2023-05-10T07:19:00.099Z"
   },
   {
    "duration": 1172,
    "start_time": "2023-05-10T07:19:01.315Z"
   },
   {
    "duration": 18,
    "start_time": "2023-05-10T07:23:40.233Z"
   },
   {
    "duration": 1440,
    "start_time": "2023-05-10T07:29:04.171Z"
   },
   {
    "duration": 455,
    "start_time": "2023-05-10T07:29:05.614Z"
   },
   {
    "duration": 15,
    "start_time": "2023-05-10T07:29:06.071Z"
   },
   {
    "duration": 28,
    "start_time": "2023-05-10T07:29:06.088Z"
   },
   {
    "duration": 23,
    "start_time": "2023-05-10T07:29:06.118Z"
   },
   {
    "duration": 15,
    "start_time": "2023-05-10T07:29:06.144Z"
   },
   {
    "duration": 10,
    "start_time": "2023-05-10T07:29:06.162Z"
   },
   {
    "duration": 24,
    "start_time": "2023-05-10T07:29:06.173Z"
   },
   {
    "duration": 195,
    "start_time": "2023-05-10T07:29:06.199Z"
   },
   {
    "duration": 15,
    "start_time": "2023-05-10T07:29:06.395Z"
   },
   {
    "duration": 456,
    "start_time": "2023-05-10T07:29:06.412Z"
   },
   {
    "duration": 328,
    "start_time": "2023-05-10T07:29:06.870Z"
   },
   {
    "duration": 370,
    "start_time": "2023-05-10T07:29:07.201Z"
   },
   {
    "duration": 295,
    "start_time": "2023-05-10T07:29:07.574Z"
   },
   {
    "duration": 6,
    "start_time": "2023-05-10T07:29:07.872Z"
   },
   {
    "duration": 14,
    "start_time": "2023-05-10T07:29:07.880Z"
   },
   {
    "duration": 259,
    "start_time": "2023-05-10T07:29:07.896Z"
   },
   {
    "duration": 491,
    "start_time": "2023-05-10T07:29:08.157Z"
   },
   {
    "duration": 397,
    "start_time": "2023-05-10T07:29:08.650Z"
   },
   {
    "duration": 95,
    "start_time": "2023-05-10T07:29:09.048Z"
   },
   {
    "duration": 25,
    "start_time": "2023-05-10T07:29:09.145Z"
   },
   {
    "duration": 38,
    "start_time": "2023-05-10T07:29:09.172Z"
   },
   {
    "duration": 43,
    "start_time": "2023-05-10T07:29:09.212Z"
   },
   {
    "duration": 19,
    "start_time": "2023-05-10T07:29:09.257Z"
   },
   {
    "duration": 21,
    "start_time": "2023-05-10T07:29:09.278Z"
   },
   {
    "duration": 18,
    "start_time": "2023-05-10T07:29:09.301Z"
   },
   {
    "duration": 1107,
    "start_time": "2023-05-10T07:29:09.321Z"
   },
   {
    "duration": 1133,
    "start_time": "2023-05-10T07:29:10.430Z"
   },
   {
    "duration": 1120,
    "start_time": "2023-05-10T07:29:11.565Z"
   },
   {
    "duration": 1505,
    "start_time": "2023-05-10T07:30:27.013Z"
   },
   {
    "duration": 412,
    "start_time": "2023-05-10T07:30:28.520Z"
   },
   {
    "duration": 15,
    "start_time": "2023-05-10T07:30:28.934Z"
   },
   {
    "duration": 36,
    "start_time": "2023-05-10T07:30:28.951Z"
   },
   {
    "duration": 16,
    "start_time": "2023-05-10T07:30:28.989Z"
   },
   {
    "duration": 49,
    "start_time": "2023-05-10T07:30:29.007Z"
   },
   {
    "duration": 21,
    "start_time": "2023-05-10T07:30:29.058Z"
   },
   {
    "duration": 31,
    "start_time": "2023-05-10T07:30:29.081Z"
   },
   {
    "duration": 168,
    "start_time": "2023-05-10T07:30:29.114Z"
   },
   {
    "duration": 14,
    "start_time": "2023-05-10T07:30:29.285Z"
   },
   {
    "duration": 431,
    "start_time": "2023-05-10T07:30:29.301Z"
   },
   {
    "duration": 336,
    "start_time": "2023-05-10T07:30:29.734Z"
   },
   {
    "duration": 325,
    "start_time": "2023-05-10T07:30:30.072Z"
   },
   {
    "duration": 317,
    "start_time": "2023-05-10T07:30:30.399Z"
   },
   {
    "duration": 8,
    "start_time": "2023-05-10T07:30:30.719Z"
   },
   {
    "duration": 75,
    "start_time": "2023-05-10T07:30:30.729Z"
   },
   {
    "duration": 443,
    "start_time": "2023-05-10T07:30:30.806Z"
   },
   {
    "duration": 395,
    "start_time": "2023-05-10T07:30:31.251Z"
   },
   {
    "duration": 399,
    "start_time": "2023-05-10T07:30:31.648Z"
   },
   {
    "duration": 95,
    "start_time": "2023-05-10T07:30:32.049Z"
   },
   {
    "duration": 157,
    "start_time": "2023-05-10T07:30:32.147Z"
   },
   {
    "duration": 42,
    "start_time": "2023-05-10T07:30:32.307Z"
   },
   {
    "duration": 88,
    "start_time": "2023-05-10T07:30:32.351Z"
   },
   {
    "duration": 35,
    "start_time": "2023-05-10T07:30:32.441Z"
   },
   {
    "duration": 51,
    "start_time": "2023-05-10T07:30:32.478Z"
   },
   {
    "duration": 18,
    "start_time": "2023-05-10T07:30:32.531Z"
   },
   {
    "duration": 1140,
    "start_time": "2023-05-10T07:30:32.551Z"
   },
   {
    "duration": 1085,
    "start_time": "2023-05-10T07:30:33.695Z"
   },
   {
    "duration": 1125,
    "start_time": "2023-05-10T07:30:34.782Z"
   },
   {
    "duration": 1450,
    "start_time": "2023-05-10T07:36:39.879Z"
   },
   {
    "duration": 444,
    "start_time": "2023-05-10T07:36:41.331Z"
   },
   {
    "duration": 15,
    "start_time": "2023-05-10T07:36:41.777Z"
   },
   {
    "duration": 41,
    "start_time": "2023-05-10T07:36:41.794Z"
   },
   {
    "duration": 32,
    "start_time": "2023-05-10T07:36:41.837Z"
   },
   {
    "duration": 25,
    "start_time": "2023-05-10T07:36:41.871Z"
   },
   {
    "duration": 36,
    "start_time": "2023-05-10T07:36:41.898Z"
   },
   {
    "duration": 40,
    "start_time": "2023-05-10T07:36:41.936Z"
   },
   {
    "duration": 184,
    "start_time": "2023-05-10T07:36:41.978Z"
   },
   {
    "duration": 15,
    "start_time": "2023-05-10T07:36:42.166Z"
   },
   {
    "duration": 443,
    "start_time": "2023-05-10T07:36:42.183Z"
   },
   {
    "duration": 348,
    "start_time": "2023-05-10T07:36:42.628Z"
   },
   {
    "duration": 340,
    "start_time": "2023-05-10T07:36:42.978Z"
   },
   {
    "duration": 304,
    "start_time": "2023-05-10T07:36:43.320Z"
   },
   {
    "duration": 6,
    "start_time": "2023-05-10T07:36:43.626Z"
   },
   {
    "duration": 40,
    "start_time": "2023-05-10T07:36:43.645Z"
   },
   {
    "duration": 266,
    "start_time": "2023-05-10T07:36:43.687Z"
   },
   {
    "duration": 505,
    "start_time": "2023-05-10T07:36:43.956Z"
   },
   {
    "duration": 301,
    "start_time": "2023-05-10T07:36:44.552Z"
   },
   {
    "duration": 8,
    "start_time": "2023-05-10T07:36:44.856Z"
   },
   {
    "duration": 23,
    "start_time": "2023-05-10T07:36:44.951Z"
   },
   {
    "duration": 75,
    "start_time": "2023-05-10T07:36:44.976Z"
   },
   {
    "duration": 52,
    "start_time": "2023-05-10T07:36:45.053Z"
   },
   {
    "duration": 25,
    "start_time": "2023-05-10T07:36:45.106Z"
   },
   {
    "duration": 26,
    "start_time": "2023-05-10T07:36:45.133Z"
   },
   {
    "duration": 10,
    "start_time": "2023-05-10T07:36:45.161Z"
   },
   {
    "duration": 1353,
    "start_time": "2023-05-10T07:36:45.174Z"
   },
   {
    "duration": 1199,
    "start_time": "2023-05-10T07:36:46.530Z"
   },
   {
    "duration": 1727,
    "start_time": "2023-05-10T07:36:47.731Z"
   },
   {
    "duration": 1736,
    "start_time": "2023-05-10T07:38:05.202Z"
   },
   {
    "duration": 498,
    "start_time": "2023-05-10T07:38:06.941Z"
   },
   {
    "duration": 26,
    "start_time": "2023-05-10T07:38:07.441Z"
   },
   {
    "duration": 22,
    "start_time": "2023-05-10T07:38:07.470Z"
   },
   {
    "duration": 13,
    "start_time": "2023-05-10T07:38:07.494Z"
   },
   {
    "duration": 44,
    "start_time": "2023-05-10T07:38:07.510Z"
   },
   {
    "duration": 16,
    "start_time": "2023-05-10T07:38:07.556Z"
   },
   {
    "duration": 22,
    "start_time": "2023-05-10T07:38:07.574Z"
   },
   {
    "duration": 225,
    "start_time": "2023-05-10T07:38:07.598Z"
   },
   {
    "duration": 37,
    "start_time": "2023-05-10T07:38:07.826Z"
   },
   {
    "duration": 460,
    "start_time": "2023-05-10T07:38:07.866Z"
   },
   {
    "duration": 370,
    "start_time": "2023-05-10T07:38:08.328Z"
   },
   {
    "duration": 397,
    "start_time": "2023-05-10T07:38:08.700Z"
   },
   {
    "duration": 355,
    "start_time": "2023-05-10T07:38:09.100Z"
   },
   {
    "duration": 8,
    "start_time": "2023-05-10T07:38:09.458Z"
   },
   {
    "duration": 26,
    "start_time": "2023-05-10T07:38:09.467Z"
   },
   {
    "duration": 261,
    "start_time": "2023-05-10T07:38:09.496Z"
   },
   {
    "duration": 510,
    "start_time": "2023-05-10T07:38:09.761Z"
   },
   {
    "duration": 311,
    "start_time": "2023-05-10T07:38:10.354Z"
   },
   {
    "duration": 16,
    "start_time": "2023-05-10T07:38:10.745Z"
   },
   {
    "duration": 46,
    "start_time": "2023-05-10T07:38:10.764Z"
   },
   {
    "duration": 52,
    "start_time": "2023-05-10T07:38:10.812Z"
   },
   {
    "duration": 41,
    "start_time": "2023-05-10T07:38:10.866Z"
   },
   {
    "duration": 21,
    "start_time": "2023-05-10T07:38:10.910Z"
   },
   {
    "duration": 27,
    "start_time": "2023-05-10T07:38:10.933Z"
   },
   {
    "duration": 9,
    "start_time": "2023-05-10T07:38:10.962Z"
   },
   {
    "duration": 1270,
    "start_time": "2023-05-10T07:38:10.973Z"
   },
   {
    "duration": 1249,
    "start_time": "2023-05-10T07:38:12.245Z"
   },
   {
    "duration": 1171,
    "start_time": "2023-05-10T07:38:13.496Z"
   },
   {
    "duration": 1275,
    "start_time": "2023-05-10T11:36:43.244Z"
   },
   {
    "duration": 1455,
    "start_time": "2023-05-10T11:36:44.521Z"
   },
   {
    "duration": 12,
    "start_time": "2023-05-10T11:36:45.977Z"
   },
   {
    "duration": 19,
    "start_time": "2023-05-10T11:36:45.990Z"
   },
   {
    "duration": 8,
    "start_time": "2023-05-10T11:36:46.010Z"
   },
   {
    "duration": 33,
    "start_time": "2023-05-10T11:36:46.019Z"
   },
   {
    "duration": 8,
    "start_time": "2023-05-10T11:36:46.053Z"
   },
   {
    "duration": 16,
    "start_time": "2023-05-10T11:36:46.062Z"
   },
   {
    "duration": 104,
    "start_time": "2023-05-10T11:36:46.079Z"
   },
   {
    "duration": 14,
    "start_time": "2023-05-10T11:36:46.185Z"
   },
   {
    "duration": 427,
    "start_time": "2023-05-10T11:36:46.200Z"
   },
   {
    "duration": 285,
    "start_time": "2023-05-10T11:36:46.628Z"
   },
   {
    "duration": 265,
    "start_time": "2023-05-10T11:36:46.915Z"
   },
   {
    "duration": 240,
    "start_time": "2023-05-10T11:36:47.182Z"
   },
   {
    "duration": 4,
    "start_time": "2023-05-10T11:36:47.424Z"
   },
   {
    "duration": 20,
    "start_time": "2023-05-10T11:36:47.430Z"
   },
   {
    "duration": 341,
    "start_time": "2023-05-10T11:36:47.452Z"
   },
   {
    "duration": 302,
    "start_time": "2023-05-10T11:36:47.795Z"
   },
   {
    "duration": 393,
    "start_time": "2023-05-10T11:36:48.099Z"
   },
   {
    "duration": 7,
    "start_time": "2023-05-10T11:36:48.494Z"
   },
   {
    "duration": 5,
    "start_time": "2023-05-10T11:36:48.592Z"
   },
   {
    "duration": 5,
    "start_time": "2023-05-10T11:36:48.599Z"
   },
   {
    "duration": 18,
    "start_time": "2023-05-10T11:36:48.605Z"
   },
   {
    "duration": 14,
    "start_time": "2023-05-10T11:36:48.625Z"
   },
   {
    "duration": 15,
    "start_time": "2023-05-10T11:36:48.641Z"
   },
   {
    "duration": 39,
    "start_time": "2023-05-10T11:36:48.657Z"
   },
   {
    "duration": 915,
    "start_time": "2023-05-10T11:36:48.698Z"
   },
   {
    "duration": 874,
    "start_time": "2023-05-10T11:36:49.617Z"
   },
   {
    "duration": 887,
    "start_time": "2023-05-10T11:36:50.493Z"
   }
  ],
  "kernelspec": {
   "display_name": "Python 3 (ipykernel)",
   "language": "python",
   "name": "python3"
  },
  "language_info": {
   "codemirror_mode": {
    "name": "ipython",
    "version": 3
   },
   "file_extension": ".py",
   "mimetype": "text/x-python",
   "name": "python",
   "nbconvert_exporter": "python",
   "pygments_lexer": "ipython3",
   "version": "3.9.5"
  },
  "toc": {
   "base_numbering": 1,
   "nav_menu": {
    "height": "126px",
    "width": "311px"
   },
   "number_sections": true,
   "sideBar": true,
   "skip_h1_title": true,
   "title_cell": "Table of Contents",
   "title_sidebar": "Contents",
   "toc_cell": false,
   "toc_position": {},
   "toc_section_display": true,
   "toc_window_display": true
  }
 },
 "nbformat": 4,
 "nbformat_minor": 2
}
