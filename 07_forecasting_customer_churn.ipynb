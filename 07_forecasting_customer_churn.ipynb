{
 "cells": [
  {
   "cell_type": "markdown",
   "metadata": {
    "toc": true
   },
   "source": [
    "<h1>Содержание<span class=\"tocSkip\"></span></h1>\n",
    "<div class=\"toc\"><ul class=\"toc-item\"><li><span><a href=\"#Подготовка-данных\" data-toc-modified-id=\"Подготовка-данных-1\"><span class=\"toc-item-num\">1&nbsp;&nbsp;</span>Подготовка данных</a></span><ul class=\"toc-item\"><li><span><a href=\"#Открываем-файл-с-данными-и-изучаем-общую-информацию\" data-toc-modified-id=\"Открываем-файл-с-данными-и-изучаем-общую-информацию-1.1\"><span class=\"toc-item-num\">1.1&nbsp;&nbsp;</span>Открываем файл с данными и изучаем общую информацию</a></span><ul class=\"toc-item\"><li><span><a href=\"#Обработка-пропусков-и-дубликатов\" data-toc-modified-id=\"Обработка-пропусков-и-дубликатов-1.1.1\"><span class=\"toc-item-num\">1.1.1&nbsp;&nbsp;</span>Обработка пропусков и дубликатов</a></span></li><li><span><a href=\"#Подготовка-данных-для-машинного-обучения\" data-toc-modified-id=\"Подготовка-данных-для-машинного-обучения-1.1.2\"><span class=\"toc-item-num\">1.1.2&nbsp;&nbsp;</span>Подготовка данных для машинного обучения</a></span></li></ul></li></ul></li><li><span><a href=\"#Исследование-задачи\" data-toc-modified-id=\"Исследование-задачи-2\"><span class=\"toc-item-num\">2&nbsp;&nbsp;</span>Исследование задачи</a></span><ul class=\"toc-item\"><li><span><a href=\"#Разделим-выборку-на-3-части\" data-toc-modified-id=\"Разделим-выборку-на-3-части-2.1\"><span class=\"toc-item-num\">2.1&nbsp;&nbsp;</span>Разделим выборку на 3 части</a></span></li><li><span><a href=\"#Исследование-баланса-классов\" data-toc-modified-id=\"Исследование-баланса-классов-2.2\"><span class=\"toc-item-num\">2.2&nbsp;&nbsp;</span>Исследование баланса классов</a></span></li><li><span><a href=\"#Проверка-моделей-без-учета-дисбаланса\" data-toc-modified-id=\"Проверка-моделей-без-учета-дисбаланса-2.3\"><span class=\"toc-item-num\">2.3&nbsp;&nbsp;</span>Проверка моделей без учета дисбаланса</a></span><ul class=\"toc-item\"><li><span><a href=\"#Дерево-решений\" data-toc-modified-id=\"Дерево-решений-2.3.1\"><span class=\"toc-item-num\">2.3.1&nbsp;&nbsp;</span>Дерево решений</a></span></li><li><span><a href=\"#Случайный-лес\" data-toc-modified-id=\"Случайный-лес-2.3.2\"><span class=\"toc-item-num\">2.3.2&nbsp;&nbsp;</span>Случайный лес</a></span></li><li><span><a href=\"#Логистическая-регрессия\" data-toc-modified-id=\"Логистическая-регрессия-2.3.3\"><span class=\"toc-item-num\">2.3.3&nbsp;&nbsp;</span>Логистическая регрессия</a></span></li></ul></li></ul></li><li><span><a href=\"#Борьба-с-дисбалансом\" data-toc-modified-id=\"Борьба-с-дисбалансом-3\"><span class=\"toc-item-num\">3&nbsp;&nbsp;</span>Борьба с дисбалансом</a></span><ul class=\"toc-item\"><li><span><a href=\"#Взвешивание-классов\" data-toc-modified-id=\"Взвешивание-классов-3.1\"><span class=\"toc-item-num\">3.1&nbsp;&nbsp;</span>Взвешивание классов</a></span></li><li><span><a href=\"#Увеличение-выборки\" data-toc-modified-id=\"Увеличение-выборки-3.2\"><span class=\"toc-item-num\">3.2&nbsp;&nbsp;</span>Увеличение выборки</a></span></li><li><span><a href=\"#Уменьшение-выборки\" data-toc-modified-id=\"Уменьшение-выборки-3.3\"><span class=\"toc-item-num\">3.3&nbsp;&nbsp;</span>Уменьшение выборки</a></span></li></ul></li><li><span><a href=\"#Тестирование-модели\" data-toc-modified-id=\"Тестирование-модели-4\"><span class=\"toc-item-num\">4&nbsp;&nbsp;</span>Тестирование модели</a></span></li><li><span><a href=\"#Общие-выводы\" data-toc-modified-id=\"Общие-выводы-5\"><span class=\"toc-item-num\">5&nbsp;&nbsp;</span>Общие выводы</a></span></li></div>"
   ]
  },
  {
   "cell_type": "markdown",
   "metadata": {},
   "source": [
    "# Отток клиентов"
   ]
  },
  {
   "cell_type": "markdown",
   "metadata": {},
   "source": [
    "Из «Бета-Банка» стали уходить клиенты. Каждый месяц. Немного, но заметно. Банковские маркетологи посчитали: сохранять текущих клиентов дешевле, чем привлекать новых.\n",
    "\n",
    "Нужно спрогнозировать, уйдёт клиент из банка в ближайшее время или нет. Вам предоставлены исторические данные о поведении клиентов и расторжении договоров с банком. \n",
    "\n",
    "Постройте модель с предельно большим значением *F1*-меры. Чтобы сдать проект успешно, нужно довести метрику до 0.59. Проверьте *F1*-меру на тестовой выборке самостоятельно.\n",
    "\n",
    "Дополнительно измеряйте *AUC-ROC*, сравнивайте её значение с *F1*-мерой.\n",
    "\n",
    "Источник данных: [https://www.kaggle.com/barelydedicated/bank-customer-churn-modeling](https://www.kaggle.com/barelydedicated/bank-customer-churn-modeling)"
   ]
  },
  {
   "cell_type": "markdown",
   "metadata": {},
   "source": [
    "## Подготовка данных"
   ]
  },
  {
   "cell_type": "markdown",
   "metadata": {},
   "source": [
    "### Открываем файл с данными и изучаем общую информацию"
   ]
  },
  {
   "cell_type": "code",
   "execution_count": 1,
   "metadata": {},
   "outputs": [
    {
     "name": "stdout",
     "output_type": "stream",
     "text": [
      "Defaulting to user installation because normal site-packages is not writeable\n",
      "Requirement already satisfied: phik in c:\\users\\alexandra\\appdata\\roaming\\python\\python39\\site-packages (0.12.3)\n",
      "Requirement already satisfied: matplotlib>=2.2.3 in c:\\programdata\\anaconda3\\lib\\site-packages (from phik) (3.5.2)\n",
      "Requirement already satisfied: numpy>=1.18.0 in c:\\programdata\\anaconda3\\lib\\site-packages (from phik) (1.21.5)\n",
      "Requirement already satisfied: joblib>=0.14.1 in c:\\programdata\\anaconda3\\lib\\site-packages (from phik) (1.1.0)\n",
      "Requirement already satisfied: pandas>=0.25.1 in c:\\programdata\\anaconda3\\lib\\site-packages (from phik) (1.4.4)\n",
      "Requirement already satisfied: scipy>=1.5.2 in c:\\programdata\\anaconda3\\lib\\site-packages (from phik) (1.9.1)\n",
      "Requirement already satisfied: kiwisolver>=1.0.1 in c:\\programdata\\anaconda3\\lib\\site-packages (from matplotlib>=2.2.3->phik) (1.4.2)\n",
      "Requirement already satisfied: fonttools>=4.22.0 in c:\\programdata\\anaconda3\\lib\\site-packages (from matplotlib>=2.2.3->phik) (4.25.0)\n",
      "Requirement already satisfied: python-dateutil>=2.7 in c:\\programdata\\anaconda3\\lib\\site-packages (from matplotlib>=2.2.3->phik) (2.8.2)\n",
      "Requirement already satisfied: cycler>=0.10 in c:\\programdata\\anaconda3\\lib\\site-packages (from matplotlib>=2.2.3->phik) (0.11.0)\n",
      "Requirement already satisfied: pyparsing>=2.2.1 in c:\\programdata\\anaconda3\\lib\\site-packages (from matplotlib>=2.2.3->phik) (3.0.9)\n",
      "Requirement already satisfied: packaging>=20.0 in c:\\programdata\\anaconda3\\lib\\site-packages (from matplotlib>=2.2.3->phik) (21.3)\n",
      "Requirement already satisfied: pillow>=6.2.0 in c:\\programdata\\anaconda3\\lib\\site-packages (from matplotlib>=2.2.3->phik) (9.2.0)\n",
      "Requirement already satisfied: pytz>=2020.1 in c:\\programdata\\anaconda3\\lib\\site-packages (from pandas>=0.25.1->phik) (2022.1)\n",
      "Requirement already satisfied: six>=1.5 in c:\\programdata\\anaconda3\\lib\\site-packages (from python-dateutil>=2.7->matplotlib>=2.2.3->phik) (1.16.0)\n"
     ]
    }
   ],
   "source": [
    "!pip install phik"
   ]
  },
  {
   "cell_type": "code",
   "execution_count": 2,
   "metadata": {},
   "outputs": [],
   "source": [
    "# Импорт библиотек\n",
    "import pandas as pd\n",
    "import matplotlib.pyplot as plt\n",
    "import numpy as np\n",
    "\n",
    "from phik import phik_matrix\n",
    "import seaborn as sns\n",
    "\n",
    "from sklearn.preprocessing import StandardScaler\n",
    "\n",
    "from sklearn.metrics import f1_score\n",
    "from sklearn.metrics import precision_score\n",
    "from sklearn.metrics import recall_score\n",
    "\n",
    "from sklearn.metrics import roc_curve\n",
    "from sklearn.metrics import roc_auc_score\n",
    "\n",
    "from sklearn.ensemble import RandomForestClassifier\n",
    "from sklearn.linear_model import LogisticRegression\n",
    "from sklearn.tree import DecisionTreeClassifier\n",
    "\n",
    "from sklearn.utils import shuffle\n",
    "\n",
    "from sklearn.preprocessing import OneHotEncoder"
   ]
  },
  {
   "cell_type": "code",
   "execution_count": 3,
   "metadata": {},
   "outputs": [],
   "source": [
    " # чтение файла с данными\n",
    "try:\n",
    "    data = pd.read_csv('/datasets/Churn.csv')\n",
    "except:\n",
    "    data = pd.read_csv('C:/Users/Alexandra/datasets/Churn.csv')"
   ]
  },
  {
   "cell_type": "code",
   "execution_count": 4,
   "metadata": {},
   "outputs": [
    {
     "data": {
      "text/html": [
       "<div>\n",
       "<style scoped>\n",
       "    .dataframe tbody tr th:only-of-type {\n",
       "        vertical-align: middle;\n",
       "    }\n",
       "\n",
       "    .dataframe tbody tr th {\n",
       "        vertical-align: top;\n",
       "    }\n",
       "\n",
       "    .dataframe thead th {\n",
       "        text-align: right;\n",
       "    }\n",
       "</style>\n",
       "<table border=\"1\" class=\"dataframe\">\n",
       "  <thead>\n",
       "    <tr style=\"text-align: right;\">\n",
       "      <th></th>\n",
       "      <th>RowNumber</th>\n",
       "      <th>CustomerId</th>\n",
       "      <th>Surname</th>\n",
       "      <th>CreditScore</th>\n",
       "      <th>Geography</th>\n",
       "      <th>Gender</th>\n",
       "      <th>Age</th>\n",
       "      <th>Tenure</th>\n",
       "      <th>Balance</th>\n",
       "      <th>NumOfProducts</th>\n",
       "      <th>HasCrCard</th>\n",
       "      <th>IsActiveMember</th>\n",
       "      <th>EstimatedSalary</th>\n",
       "      <th>Exited</th>\n",
       "    </tr>\n",
       "  </thead>\n",
       "  <tbody>\n",
       "    <tr>\n",
       "      <th>0</th>\n",
       "      <td>1</td>\n",
       "      <td>15634602</td>\n",
       "      <td>Hargrave</td>\n",
       "      <td>619</td>\n",
       "      <td>France</td>\n",
       "      <td>Female</td>\n",
       "      <td>42</td>\n",
       "      <td>2.0</td>\n",
       "      <td>0.00</td>\n",
       "      <td>1</td>\n",
       "      <td>1</td>\n",
       "      <td>1</td>\n",
       "      <td>101348.88</td>\n",
       "      <td>1</td>\n",
       "    </tr>\n",
       "    <tr>\n",
       "      <th>1</th>\n",
       "      <td>2</td>\n",
       "      <td>15647311</td>\n",
       "      <td>Hill</td>\n",
       "      <td>608</td>\n",
       "      <td>Spain</td>\n",
       "      <td>Female</td>\n",
       "      <td>41</td>\n",
       "      <td>1.0</td>\n",
       "      <td>83807.86</td>\n",
       "      <td>1</td>\n",
       "      <td>0</td>\n",
       "      <td>1</td>\n",
       "      <td>112542.58</td>\n",
       "      <td>0</td>\n",
       "    </tr>\n",
       "    <tr>\n",
       "      <th>2</th>\n",
       "      <td>3</td>\n",
       "      <td>15619304</td>\n",
       "      <td>Onio</td>\n",
       "      <td>502</td>\n",
       "      <td>France</td>\n",
       "      <td>Female</td>\n",
       "      <td>42</td>\n",
       "      <td>8.0</td>\n",
       "      <td>159660.80</td>\n",
       "      <td>3</td>\n",
       "      <td>1</td>\n",
       "      <td>0</td>\n",
       "      <td>113931.57</td>\n",
       "      <td>1</td>\n",
       "    </tr>\n",
       "    <tr>\n",
       "      <th>3</th>\n",
       "      <td>4</td>\n",
       "      <td>15701354</td>\n",
       "      <td>Boni</td>\n",
       "      <td>699</td>\n",
       "      <td>France</td>\n",
       "      <td>Female</td>\n",
       "      <td>39</td>\n",
       "      <td>1.0</td>\n",
       "      <td>0.00</td>\n",
       "      <td>2</td>\n",
       "      <td>0</td>\n",
       "      <td>0</td>\n",
       "      <td>93826.63</td>\n",
       "      <td>0</td>\n",
       "    </tr>\n",
       "    <tr>\n",
       "      <th>4</th>\n",
       "      <td>5</td>\n",
       "      <td>15737888</td>\n",
       "      <td>Mitchell</td>\n",
       "      <td>850</td>\n",
       "      <td>Spain</td>\n",
       "      <td>Female</td>\n",
       "      <td>43</td>\n",
       "      <td>2.0</td>\n",
       "      <td>125510.82</td>\n",
       "      <td>1</td>\n",
       "      <td>1</td>\n",
       "      <td>1</td>\n",
       "      <td>79084.10</td>\n",
       "      <td>0</td>\n",
       "    </tr>\n",
       "    <tr>\n",
       "      <th>5</th>\n",
       "      <td>6</td>\n",
       "      <td>15574012</td>\n",
       "      <td>Chu</td>\n",
       "      <td>645</td>\n",
       "      <td>Spain</td>\n",
       "      <td>Male</td>\n",
       "      <td>44</td>\n",
       "      <td>8.0</td>\n",
       "      <td>113755.78</td>\n",
       "      <td>2</td>\n",
       "      <td>1</td>\n",
       "      <td>0</td>\n",
       "      <td>149756.71</td>\n",
       "      <td>1</td>\n",
       "    </tr>\n",
       "    <tr>\n",
       "      <th>6</th>\n",
       "      <td>7</td>\n",
       "      <td>15592531</td>\n",
       "      <td>Bartlett</td>\n",
       "      <td>822</td>\n",
       "      <td>France</td>\n",
       "      <td>Male</td>\n",
       "      <td>50</td>\n",
       "      <td>7.0</td>\n",
       "      <td>0.00</td>\n",
       "      <td>2</td>\n",
       "      <td>1</td>\n",
       "      <td>1</td>\n",
       "      <td>10062.80</td>\n",
       "      <td>0</td>\n",
       "    </tr>\n",
       "    <tr>\n",
       "      <th>7</th>\n",
       "      <td>8</td>\n",
       "      <td>15656148</td>\n",
       "      <td>Obinna</td>\n",
       "      <td>376</td>\n",
       "      <td>Germany</td>\n",
       "      <td>Female</td>\n",
       "      <td>29</td>\n",
       "      <td>4.0</td>\n",
       "      <td>115046.74</td>\n",
       "      <td>4</td>\n",
       "      <td>1</td>\n",
       "      <td>0</td>\n",
       "      <td>119346.88</td>\n",
       "      <td>1</td>\n",
       "    </tr>\n",
       "    <tr>\n",
       "      <th>8</th>\n",
       "      <td>9</td>\n",
       "      <td>15792365</td>\n",
       "      <td>He</td>\n",
       "      <td>501</td>\n",
       "      <td>France</td>\n",
       "      <td>Male</td>\n",
       "      <td>44</td>\n",
       "      <td>4.0</td>\n",
       "      <td>142051.07</td>\n",
       "      <td>2</td>\n",
       "      <td>0</td>\n",
       "      <td>1</td>\n",
       "      <td>74940.50</td>\n",
       "      <td>0</td>\n",
       "    </tr>\n",
       "    <tr>\n",
       "      <th>9</th>\n",
       "      <td>10</td>\n",
       "      <td>15592389</td>\n",
       "      <td>H?</td>\n",
       "      <td>684</td>\n",
       "      <td>France</td>\n",
       "      <td>Male</td>\n",
       "      <td>27</td>\n",
       "      <td>2.0</td>\n",
       "      <td>134603.88</td>\n",
       "      <td>1</td>\n",
       "      <td>1</td>\n",
       "      <td>1</td>\n",
       "      <td>71725.73</td>\n",
       "      <td>0</td>\n",
       "    </tr>\n",
       "  </tbody>\n",
       "</table>\n",
       "</div>"
      ],
      "text/plain": [
       "   RowNumber  CustomerId   Surname  CreditScore Geography  Gender  Age  \\\n",
       "0          1    15634602  Hargrave          619    France  Female   42   \n",
       "1          2    15647311      Hill          608     Spain  Female   41   \n",
       "2          3    15619304      Onio          502    France  Female   42   \n",
       "3          4    15701354      Boni          699    France  Female   39   \n",
       "4          5    15737888  Mitchell          850     Spain  Female   43   \n",
       "5          6    15574012       Chu          645     Spain    Male   44   \n",
       "6          7    15592531  Bartlett          822    France    Male   50   \n",
       "7          8    15656148    Obinna          376   Germany  Female   29   \n",
       "8          9    15792365        He          501    France    Male   44   \n",
       "9         10    15592389        H?          684    France    Male   27   \n",
       "\n",
       "   Tenure    Balance  NumOfProducts  HasCrCard  IsActiveMember  \\\n",
       "0     2.0       0.00              1          1               1   \n",
       "1     1.0   83807.86              1          0               1   \n",
       "2     8.0  159660.80              3          1               0   \n",
       "3     1.0       0.00              2          0               0   \n",
       "4     2.0  125510.82              1          1               1   \n",
       "5     8.0  113755.78              2          1               0   \n",
       "6     7.0       0.00              2          1               1   \n",
       "7     4.0  115046.74              4          1               0   \n",
       "8     4.0  142051.07              2          0               1   \n",
       "9     2.0  134603.88              1          1               1   \n",
       "\n",
       "   EstimatedSalary  Exited  \n",
       "0        101348.88       1  \n",
       "1        112542.58       0  \n",
       "2        113931.57       1  \n",
       "3         93826.63       0  \n",
       "4         79084.10       0  \n",
       "5        149756.71       1  \n",
       "6         10062.80       0  \n",
       "7        119346.88       1  \n",
       "8         74940.50       0  \n",
       "9         71725.73       0  "
      ]
     },
     "execution_count": 4,
     "metadata": {},
     "output_type": "execute_result"
    }
   ],
   "source": [
    "#Выводим первые 10 строчек датафрейма data на экран.\n",
    "data.head(10)"
   ]
  },
  {
   "cell_type": "code",
   "execution_count": 5,
   "metadata": {},
   "outputs": [
    {
     "name": "stdout",
     "output_type": "stream",
     "text": [
      "<class 'pandas.core.frame.DataFrame'>\n",
      "RangeIndex: 10000 entries, 0 to 9999\n",
      "Data columns (total 14 columns):\n",
      " #   Column           Non-Null Count  Dtype  \n",
      "---  ------           --------------  -----  \n",
      " 0   RowNumber        10000 non-null  int64  \n",
      " 1   CustomerId       10000 non-null  int64  \n",
      " 2   Surname          10000 non-null  object \n",
      " 3   CreditScore      10000 non-null  int64  \n",
      " 4   Geography        10000 non-null  object \n",
      " 5   Gender           10000 non-null  object \n",
      " 6   Age              10000 non-null  int64  \n",
      " 7   Tenure           9091 non-null   float64\n",
      " 8   Balance          10000 non-null  float64\n",
      " 9   NumOfProducts    10000 non-null  int64  \n",
      " 10  HasCrCard        10000 non-null  int64  \n",
      " 11  IsActiveMember   10000 non-null  int64  \n",
      " 12  EstimatedSalary  10000 non-null  float64\n",
      " 13  Exited           10000 non-null  int64  \n",
      "dtypes: float64(3), int64(8), object(3)\n",
      "memory usage: 1.1+ MB\n"
     ]
    }
   ],
   "source": [
    "data.info() #Выводим основную информацию о датафрейме."
   ]
  },
  {
   "cell_type": "markdown",
   "metadata": {},
   "source": [
    "**Вывод:**\n",
    "\n",
    "\n",
    "В датасете 10000 строк и 13 столбцов. В столбце **Tenure (сколько лет человек является клиентом банка)** имеются неопределенные значения."
   ]
  },
  {
   "cell_type": "markdown",
   "metadata": {},
   "source": [
    "#### Обработка пропусков и дубликатов"
   ]
  },
  {
   "cell_type": "code",
   "execution_count": 6,
   "metadata": {},
   "outputs": [
    {
     "data": {
      "text/plain": [
       "0"
      ]
     },
     "execution_count": 6,
     "metadata": {},
     "output_type": "execute_result"
    }
   ],
   "source": [
    "#Посчитаем количество полных дубликатов.\n",
    "data.duplicated().sum()"
   ]
  },
  {
   "cell_type": "code",
   "execution_count": 7,
   "metadata": {
    "scrolled": true
   },
   "outputs": [
    {
     "data": {
      "text/plain": [
       "RowNumber            0\n",
       "CustomerId           0\n",
       "Surname              0\n",
       "CreditScore          0\n",
       "Geography            0\n",
       "Gender               0\n",
       "Age                  0\n",
       "Tenure             909\n",
       "Balance              0\n",
       "NumOfProducts        0\n",
       "HasCrCard            0\n",
       "IsActiveMember       0\n",
       "EstimatedSalary      0\n",
       "Exited               0\n",
       "dtype: int64"
      ]
     },
     "execution_count": 7,
     "metadata": {},
     "output_type": "execute_result"
    }
   ],
   "source": [
    "data.isna().sum() # Выводим количество пропущенных значений для каждого столбца."
   ]
  },
  {
   "cell_type": "code",
   "execution_count": 8,
   "metadata": {
    "scrolled": true
   },
   "outputs": [
    {
     "data": {
      "text/html": [
       "<style type=\"text/css\">\n",
       "#T_67d74_row0_col0, #T_67d74_row1_col0, #T_67d74_row2_col0, #T_67d74_row3_col0, #T_67d74_row4_col0, #T_67d74_row5_col0, #T_67d74_row6_col0, #T_67d74_row8_col0, #T_67d74_row9_col0, #T_67d74_row10_col0, #T_67d74_row11_col0, #T_67d74_row12_col0, #T_67d74_row13_col0 {\n",
       "  background-color: #3b4cc0;\n",
       "  color: #f1f1f1;\n",
       "}\n",
       "#T_67d74_row7_col0 {\n",
       "  background-color: #b40426;\n",
       "  color: #f1f1f1;\n",
       "}\n",
       "</style>\n",
       "<table id=\"T_67d74\">\n",
       "  <thead>\n",
       "    <tr>\n",
       "      <th class=\"blank level0\" >&nbsp;</th>\n",
       "      <th id=\"T_67d74_level0_col0\" class=\"col_heading level0 col0\" >0</th>\n",
       "    </tr>\n",
       "  </thead>\n",
       "  <tbody>\n",
       "    <tr>\n",
       "      <th id=\"T_67d74_level0_row0\" class=\"row_heading level0 row0\" >RowNumber</th>\n",
       "      <td id=\"T_67d74_row0_col0\" class=\"data row0 col0\" >0.000000</td>\n",
       "    </tr>\n",
       "    <tr>\n",
       "      <th id=\"T_67d74_level0_row1\" class=\"row_heading level0 row1\" >CustomerId</th>\n",
       "      <td id=\"T_67d74_row1_col0\" class=\"data row1 col0\" >0.000000</td>\n",
       "    </tr>\n",
       "    <tr>\n",
       "      <th id=\"T_67d74_level0_row2\" class=\"row_heading level0 row2\" >Surname</th>\n",
       "      <td id=\"T_67d74_row2_col0\" class=\"data row2 col0\" >0.000000</td>\n",
       "    </tr>\n",
       "    <tr>\n",
       "      <th id=\"T_67d74_level0_row3\" class=\"row_heading level0 row3\" >CreditScore</th>\n",
       "      <td id=\"T_67d74_row3_col0\" class=\"data row3 col0\" >0.000000</td>\n",
       "    </tr>\n",
       "    <tr>\n",
       "      <th id=\"T_67d74_level0_row4\" class=\"row_heading level0 row4\" >Geography</th>\n",
       "      <td id=\"T_67d74_row4_col0\" class=\"data row4 col0\" >0.000000</td>\n",
       "    </tr>\n",
       "    <tr>\n",
       "      <th id=\"T_67d74_level0_row5\" class=\"row_heading level0 row5\" >Gender</th>\n",
       "      <td id=\"T_67d74_row5_col0\" class=\"data row5 col0\" >0.000000</td>\n",
       "    </tr>\n",
       "    <tr>\n",
       "      <th id=\"T_67d74_level0_row6\" class=\"row_heading level0 row6\" >Age</th>\n",
       "      <td id=\"T_67d74_row6_col0\" class=\"data row6 col0\" >0.000000</td>\n",
       "    </tr>\n",
       "    <tr>\n",
       "      <th id=\"T_67d74_level0_row7\" class=\"row_heading level0 row7\" >Tenure</th>\n",
       "      <td id=\"T_67d74_row7_col0\" class=\"data row7 col0\" >9.000000</td>\n",
       "    </tr>\n",
       "    <tr>\n",
       "      <th id=\"T_67d74_level0_row8\" class=\"row_heading level0 row8\" >Balance</th>\n",
       "      <td id=\"T_67d74_row8_col0\" class=\"data row8 col0\" >0.000000</td>\n",
       "    </tr>\n",
       "    <tr>\n",
       "      <th id=\"T_67d74_level0_row9\" class=\"row_heading level0 row9\" >NumOfProducts</th>\n",
       "      <td id=\"T_67d74_row9_col0\" class=\"data row9 col0\" >0.000000</td>\n",
       "    </tr>\n",
       "    <tr>\n",
       "      <th id=\"T_67d74_level0_row10\" class=\"row_heading level0 row10\" >HasCrCard</th>\n",
       "      <td id=\"T_67d74_row10_col0\" class=\"data row10 col0\" >0.000000</td>\n",
       "    </tr>\n",
       "    <tr>\n",
       "      <th id=\"T_67d74_level0_row11\" class=\"row_heading level0 row11\" >IsActiveMember</th>\n",
       "      <td id=\"T_67d74_row11_col0\" class=\"data row11 col0\" >0.000000</td>\n",
       "    </tr>\n",
       "    <tr>\n",
       "      <th id=\"T_67d74_level0_row12\" class=\"row_heading level0 row12\" >EstimatedSalary</th>\n",
       "      <td id=\"T_67d74_row12_col0\" class=\"data row12 col0\" >0.000000</td>\n",
       "    </tr>\n",
       "    <tr>\n",
       "      <th id=\"T_67d74_level0_row13\" class=\"row_heading level0 row13\" >Exited</th>\n",
       "      <td id=\"T_67d74_row13_col0\" class=\"data row13 col0\" >0.000000</td>\n",
       "    </tr>\n",
       "  </tbody>\n",
       "</table>\n"
      ],
      "text/plain": [
       "<pandas.io.formats.style.Styler at 0x2af8a2c1fd0>"
      ]
     },
     "execution_count": 8,
     "metadata": {},
     "output_type": "execute_result"
    }
   ],
   "source": [
    "pd.DataFrame(round(data.isna().mean()*100,)).style.background_gradient('coolwarm')"
   ]
  },
  {
   "cell_type": "markdown",
   "metadata": {},
   "source": [
    "В столбце **Tenure** пропущено 9% значений. Удаляем."
   ]
  },
  {
   "cell_type": "code",
   "execution_count": 9,
   "metadata": {},
   "outputs": [
    {
     "data": {
      "text/plain": [
       "array([ 2.,  1.,  8.,  7.,  4.,  6.,  3., 10.,  5.,  9.,  0., nan])"
      ]
     },
     "execution_count": 9,
     "metadata": {},
     "output_type": "execute_result"
    }
   ],
   "source": [
    "data['Tenure'].unique() #уникальные значения Tenure содержат только целочисленные значения"
   ]
  },
  {
   "cell_type": "code",
   "execution_count": 10,
   "metadata": {
    "scrolled": true
   },
   "outputs": [],
   "source": [
    "# Удаляем пропуски и меняем тип данных на целочисленный\n",
    "data.dropna(subset = ['Tenure'], inplace = True)\n",
    "data['Tenure'] = data['Tenure'].astype(int)"
   ]
  },
  {
   "cell_type": "code",
   "execution_count": 11,
   "metadata": {},
   "outputs": [
    {
     "name": "stdout",
     "output_type": "stream",
     "text": [
      "<class 'pandas.core.frame.DataFrame'>\n",
      "Int64Index: 9091 entries, 0 to 9998\n",
      "Data columns (total 14 columns):\n",
      " #   Column           Non-Null Count  Dtype  \n",
      "---  ------           --------------  -----  \n",
      " 0   RowNumber        9091 non-null   int64  \n",
      " 1   CustomerId       9091 non-null   int64  \n",
      " 2   Surname          9091 non-null   object \n",
      " 3   CreditScore      9091 non-null   int64  \n",
      " 4   Geography        9091 non-null   object \n",
      " 5   Gender           9091 non-null   object \n",
      " 6   Age              9091 non-null   int64  \n",
      " 7   Tenure           9091 non-null   int32  \n",
      " 8   Balance          9091 non-null   float64\n",
      " 9   NumOfProducts    9091 non-null   int64  \n",
      " 10  HasCrCard        9091 non-null   int64  \n",
      " 11  IsActiveMember   9091 non-null   int64  \n",
      " 12  EstimatedSalary  9091 non-null   float64\n",
      " 13  Exited           9091 non-null   int64  \n",
      "dtypes: float64(2), int32(1), int64(8), object(3)\n",
      "memory usage: 1.0+ MB\n"
     ]
    }
   ],
   "source": [
    "# Проверяем\n",
    "data.info()"
   ]
  },
  {
   "cell_type": "markdown",
   "metadata": {},
   "source": [
    "#### Подготовка данных для машинного обучения"
   ]
  },
  {
   "cell_type": "markdown",
   "metadata": {},
   "source": [
    "**RowNumber (индекс строки в данных)**  и **CustomerId (уникальный идентификатор клиента)** присваиваются системой случайно. Никак не зависят от действий пользователя. \n",
    "    \n",
    "**Surname (фамилия)** присвается в загсе и никак не зависит от банка. Не влияет на исследование.\n",
    "\n",
    "Поэтому эти столбцы удаляем."
   ]
  },
  {
   "cell_type": "code",
   "execution_count": 12,
   "metadata": {},
   "outputs": [],
   "source": [
    "data=data.drop(['RowNumber','CustomerId','Surname'],axis=1)"
   ]
  },
  {
   "cell_type": "code",
   "execution_count": 13,
   "metadata": {
    "scrolled": true
   },
   "outputs": [
    {
     "name": "stdout",
     "output_type": "stream",
     "text": [
      "<class 'pandas.core.frame.DataFrame'>\n",
      "Int64Index: 9091 entries, 0 to 9998\n",
      "Data columns (total 11 columns):\n",
      " #   Column           Non-Null Count  Dtype  \n",
      "---  ------           --------------  -----  \n",
      " 0   CreditScore      9091 non-null   int64  \n",
      " 1   Geography        9091 non-null   object \n",
      " 2   Gender           9091 non-null   object \n",
      " 3   Age              9091 non-null   int64  \n",
      " 4   Tenure           9091 non-null   int32  \n",
      " 5   Balance          9091 non-null   float64\n",
      " 6   NumOfProducts    9091 non-null   int64  \n",
      " 7   HasCrCard        9091 non-null   int64  \n",
      " 8   IsActiveMember   9091 non-null   int64  \n",
      " 9   EstimatedSalary  9091 non-null   float64\n",
      " 10  Exited           9091 non-null   int64  \n",
      "dtypes: float64(2), int32(1), int64(6), object(2)\n",
      "memory usage: 816.8+ KB\n"
     ]
    }
   ],
   "source": [
    "data.info()"
   ]
  },
  {
   "cell_type": "code",
   "execution_count": 14,
   "metadata": {},
   "outputs": [
    {
     "name": "stdout",
     "output_type": "stream",
     "text": [
      "interval columns not set, guessing: ['CreditScore', 'Age', 'Tenure', 'Balance', 'NumOfProducts', 'HasCrCard', 'IsActiveMember', 'EstimatedSalary', 'Exited']\n"
     ]
    },
    {
     "data": {
      "image/png": "[encoded data removed]",
      "text/plain": [
       "<Figure size 2000x600 with 2 Axes>"
      ]
     },
     "metadata": {},
     "output_type": "display_data"
    }
   ],
   "source": [
    "# Проверим признаки на мультиколлинеарность методом phik_matrix\n",
    "\n",
    "corr_matrix = phik_matrix(data)\n",
    "\n",
    "fig, ax = plt.subplots(figsize=(20, 6), dpi=100)\n",
    "sns.heatmap(corr_matrix, annot=True, cmap='Greens', vmin=0, ax=ax);"
   ]
  },
  {
   "cell_type": "markdown",
   "metadata": {},
   "source": [
    "Корреляция между признаками небольшая. Оставляем все признаки."
   ]
  },
  {
   "cell_type": "markdown",
   "metadata": {},
   "source": [
    "Проверим уникальные значения для категоральных признаков."
   ]
  },
  {
   "cell_type": "code",
   "execution_count": 15,
   "metadata": {},
   "outputs": [
    {
     "data": {
      "text/plain": [
       "array(['France', 'Spain', 'Germany'], dtype=object)"
      ]
     },
     "execution_count": 15,
     "metadata": {},
     "output_type": "execute_result"
    }
   ],
   "source": [
    "data['Geography'].unique()"
   ]
  },
  {
   "cell_type": "code",
   "execution_count": 16,
   "metadata": {
    "scrolled": true
   },
   "outputs": [
    {
     "data": {
      "text/plain": [
       "array(['Female', 'Male'], dtype=object)"
      ]
     },
     "execution_count": 16,
     "metadata": {},
     "output_type": "execute_result"
    }
   ],
   "source": [
    "data['Gender'].unique()"
   ]
  },
  {
   "cell_type": "markdown",
   "metadata": {},
   "source": [
    "OHE можно применить к **Gender и Geography**.\n",
    "\n",
    "К столбцам **CreditScore, Age, Tenure, Balance, NumOfProducts и EstimatedSalary** применим масштабирование."
   ]
  },
  {
   "cell_type": "code",
   "execution_count": 17,
   "metadata": {},
   "outputs": [
    {
     "name": "stdout",
     "output_type": "stream",
     "text": [
      "   CreditScore  Age  Tenure    Balance  NumOfProducts  HasCrCard  \\\n",
      "0          619   42       2       0.00              1          1   \n",
      "1          608   41       1   83807.86              1          0   \n",
      "2          502   42       8  159660.80              3          1   \n",
      "3          699   39       1       0.00              2          0   \n",
      "4          850   43       2  125510.82              1          1   \n",
      "5          645   44       8  113755.78              2          1   \n",
      "6          822   50       7       0.00              2          1   \n",
      "7          376   29       4  115046.74              4          1   \n",
      "8          501   44       4  142051.07              2          0   \n",
      "9          684   27       2  134603.88              1          1   \n",
      "\n",
      "   IsActiveMember  EstimatedSalary  Exited  Geography_Germany  \\\n",
      "0               1        101348.88       1                0.0   \n",
      "1               1        112542.58       0                0.0   \n",
      "2               0        113931.57       1                0.0   \n",
      "3               0         93826.63       0                0.0   \n",
      "4               1         79084.10       0                0.0   \n",
      "5               0        149756.71       1                0.0   \n",
      "6               1         10062.80       0                0.0   \n",
      "7               0        119346.88       1                1.0   \n",
      "8               1         74940.50       0                0.0   \n",
      "9               1         71725.73       0                0.0   \n",
      "\n",
      "   Geography_Spain  Gender_Male  \n",
      "0              0.0          0.0  \n",
      "1              1.0          0.0  \n",
      "2              0.0          0.0  \n",
      "3              0.0          0.0  \n",
      "4              1.0          0.0  \n",
      "5              1.0          1.0  \n",
      "6              0.0          1.0  \n",
      "7              0.0          0.0  \n",
      "8              0.0          1.0  \n",
      "9              0.0          1.0  \n",
      "<class 'pandas.core.frame.DataFrame'>\n",
      "Int64Index: 9091 entries, 0 to 9998\n",
      "Data columns (total 12 columns):\n",
      " #   Column             Non-Null Count  Dtype  \n",
      "---  ------             --------------  -----  \n",
      " 0   CreditScore        9091 non-null   int64  \n",
      " 1   Age                9091 non-null   int64  \n",
      " 2   Tenure             9091 non-null   int32  \n",
      " 3   Balance            9091 non-null   float64\n",
      " 4   NumOfProducts      9091 non-null   int64  \n",
      " 5   HasCrCard          9091 non-null   int64  \n",
      " 6   IsActiveMember     9091 non-null   int64  \n",
      " 7   EstimatedSalary    9091 non-null   float64\n",
      " 8   Exited             9091 non-null   int64  \n",
      " 9   Geography_Germany  8255 non-null   float64\n",
      " 10  Geography_Spain    8255 non-null   float64\n",
      " 11  Gender_Male        8255 non-null   float64\n",
      "dtypes: float64(5), int32(1), int64(6)\n",
      "memory usage: 1.1 MB\n"
     ]
    }
   ],
   "source": [
    "encoder = OneHotEncoder(drop='first')\n",
    "\n",
    "#Определяем колонки для кодирования\n",
    "encoder_df = pd.DataFrame(encoder.fit_transform(data[['Geography','Gender']]).toarray())\n",
    "\n",
    "#соединяем one-hot encoded колонки с начальным датасетом\n",
    "final_df = data.join (encoder_df)\n",
    "\n",
    "\n",
    "#удаляем кодируемые колонки\n",
    "final_df.drop(['Geography','Gender'], axis= 1, inplace= True)\n",
    "\n",
    "#переименовываем полученные столбцы\n",
    "final_df.columns = ['CreditScore', 'Age', 'Tenure', 'Balance', 'NumOfProducts', 'HasCrCard', 'IsActiveMember', 'EstimatedSalary', 'Exited', 'Geography_Germany', 'Geography_Spain', 'Gender_Male']\n",
    "#Проверяем\n",
    "print(final_df.head(10))\n",
    "\n",
    "final_df.info()"
   ]
  },
  {
   "cell_type": "code",
   "execution_count": 18,
   "metadata": {
    "scrolled": false
   },
   "outputs": [],
   "source": [
    "#применяем OHE к 2 признакам\n",
    "data = pd.get_dummies(data, drop_first=True)"
   ]
  },
  {
   "cell_type": "code",
   "execution_count": 19,
   "metadata": {
    "scrolled": false
   },
   "outputs": [
    {
     "data": {
      "text/html": [
       "<div>\n",
       "<style scoped>\n",
       "    .dataframe tbody tr th:only-of-type {\n",
       "        vertical-align: middle;\n",
       "    }\n",
       "\n",
       "    .dataframe tbody tr th {\n",
       "        vertical-align: top;\n",
       "    }\n",
       "\n",
       "    .dataframe thead th {\n",
       "        text-align: right;\n",
       "    }\n",
       "</style>\n",
       "<table border=\"1\" class=\"dataframe\">\n",
       "  <thead>\n",
       "    <tr style=\"text-align: right;\">\n",
       "      <th></th>\n",
       "      <th>CreditScore</th>\n",
       "      <th>Age</th>\n",
       "      <th>Tenure</th>\n",
       "      <th>Balance</th>\n",
       "      <th>NumOfProducts</th>\n",
       "      <th>HasCrCard</th>\n",
       "      <th>IsActiveMember</th>\n",
       "      <th>EstimatedSalary</th>\n",
       "      <th>Exited</th>\n",
       "      <th>Geography_Germany</th>\n",
       "      <th>Geography_Spain</th>\n",
       "      <th>Gender_Male</th>\n",
       "    </tr>\n",
       "  </thead>\n",
       "  <tbody>\n",
       "    <tr>\n",
       "      <th>0</th>\n",
       "      <td>619</td>\n",
       "      <td>42</td>\n",
       "      <td>2</td>\n",
       "      <td>0.00</td>\n",
       "      <td>1</td>\n",
       "      <td>1</td>\n",
       "      <td>1</td>\n",
       "      <td>101348.88</td>\n",
       "      <td>1</td>\n",
       "      <td>0</td>\n",
       "      <td>0</td>\n",
       "      <td>0</td>\n",
       "    </tr>\n",
       "    <tr>\n",
       "      <th>1</th>\n",
       "      <td>608</td>\n",
       "      <td>41</td>\n",
       "      <td>1</td>\n",
       "      <td>83807.86</td>\n",
       "      <td>1</td>\n",
       "      <td>0</td>\n",
       "      <td>1</td>\n",
       "      <td>112542.58</td>\n",
       "      <td>0</td>\n",
       "      <td>0</td>\n",
       "      <td>1</td>\n",
       "      <td>0</td>\n",
       "    </tr>\n",
       "    <tr>\n",
       "      <th>2</th>\n",
       "      <td>502</td>\n",
       "      <td>42</td>\n",
       "      <td>8</td>\n",
       "      <td>159660.80</td>\n",
       "      <td>3</td>\n",
       "      <td>1</td>\n",
       "      <td>0</td>\n",
       "      <td>113931.57</td>\n",
       "      <td>1</td>\n",
       "      <td>0</td>\n",
       "      <td>0</td>\n",
       "      <td>0</td>\n",
       "    </tr>\n",
       "    <tr>\n",
       "      <th>3</th>\n",
       "      <td>699</td>\n",
       "      <td>39</td>\n",
       "      <td>1</td>\n",
       "      <td>0.00</td>\n",
       "      <td>2</td>\n",
       "      <td>0</td>\n",
       "      <td>0</td>\n",
       "      <td>93826.63</td>\n",
       "      <td>0</td>\n",
       "      <td>0</td>\n",
       "      <td>0</td>\n",
       "      <td>0</td>\n",
       "    </tr>\n",
       "    <tr>\n",
       "      <th>4</th>\n",
       "      <td>850</td>\n",
       "      <td>43</td>\n",
       "      <td>2</td>\n",
       "      <td>125510.82</td>\n",
       "      <td>1</td>\n",
       "      <td>1</td>\n",
       "      <td>1</td>\n",
       "      <td>79084.10</td>\n",
       "      <td>0</td>\n",
       "      <td>0</td>\n",
       "      <td>1</td>\n",
       "      <td>0</td>\n",
       "    </tr>\n",
       "    <tr>\n",
       "      <th>5</th>\n",
       "      <td>645</td>\n",
       "      <td>44</td>\n",
       "      <td>8</td>\n",
       "      <td>113755.78</td>\n",
       "      <td>2</td>\n",
       "      <td>1</td>\n",
       "      <td>0</td>\n",
       "      <td>149756.71</td>\n",
       "      <td>1</td>\n",
       "      <td>0</td>\n",
       "      <td>1</td>\n",
       "      <td>1</td>\n",
       "    </tr>\n",
       "    <tr>\n",
       "      <th>6</th>\n",
       "      <td>822</td>\n",
       "      <td>50</td>\n",
       "      <td>7</td>\n",
       "      <td>0.00</td>\n",
       "      <td>2</td>\n",
       "      <td>1</td>\n",
       "      <td>1</td>\n",
       "      <td>10062.80</td>\n",
       "      <td>0</td>\n",
       "      <td>0</td>\n",
       "      <td>0</td>\n",
       "      <td>1</td>\n",
       "    </tr>\n",
       "    <tr>\n",
       "      <th>7</th>\n",
       "      <td>376</td>\n",
       "      <td>29</td>\n",
       "      <td>4</td>\n",
       "      <td>115046.74</td>\n",
       "      <td>4</td>\n",
       "      <td>1</td>\n",
       "      <td>0</td>\n",
       "      <td>119346.88</td>\n",
       "      <td>1</td>\n",
       "      <td>1</td>\n",
       "      <td>0</td>\n",
       "      <td>0</td>\n",
       "    </tr>\n",
       "    <tr>\n",
       "      <th>8</th>\n",
       "      <td>501</td>\n",
       "      <td>44</td>\n",
       "      <td>4</td>\n",
       "      <td>142051.07</td>\n",
       "      <td>2</td>\n",
       "      <td>0</td>\n",
       "      <td>1</td>\n",
       "      <td>74940.50</td>\n",
       "      <td>0</td>\n",
       "      <td>0</td>\n",
       "      <td>0</td>\n",
       "      <td>1</td>\n",
       "    </tr>\n",
       "    <tr>\n",
       "      <th>9</th>\n",
       "      <td>684</td>\n",
       "      <td>27</td>\n",
       "      <td>2</td>\n",
       "      <td>134603.88</td>\n",
       "      <td>1</td>\n",
       "      <td>1</td>\n",
       "      <td>1</td>\n",
       "      <td>71725.73</td>\n",
       "      <td>0</td>\n",
       "      <td>0</td>\n",
       "      <td>0</td>\n",
       "      <td>1</td>\n",
       "    </tr>\n",
       "  </tbody>\n",
       "</table>\n",
       "</div>"
      ],
      "text/plain": [
       "   CreditScore  Age  Tenure    Balance  NumOfProducts  HasCrCard  \\\n",
       "0          619   42       2       0.00              1          1   \n",
       "1          608   41       1   83807.86              1          0   \n",
       "2          502   42       8  159660.80              3          1   \n",
       "3          699   39       1       0.00              2          0   \n",
       "4          850   43       2  125510.82              1          1   \n",
       "5          645   44       8  113755.78              2          1   \n",
       "6          822   50       7       0.00              2          1   \n",
       "7          376   29       4  115046.74              4          1   \n",
       "8          501   44       4  142051.07              2          0   \n",
       "9          684   27       2  134603.88              1          1   \n",
       "\n",
       "   IsActiveMember  EstimatedSalary  Exited  Geography_Germany  \\\n",
       "0               1        101348.88       1                  0   \n",
       "1               1        112542.58       0                  0   \n",
       "2               0        113931.57       1                  0   \n",
       "3               0         93826.63       0                  0   \n",
       "4               1         79084.10       0                  0   \n",
       "5               0        149756.71       1                  0   \n",
       "6               1         10062.80       0                  0   \n",
       "7               0        119346.88       1                  1   \n",
       "8               1         74940.50       0                  0   \n",
       "9               1         71725.73       0                  0   \n",
       "\n",
       "   Geography_Spain  Gender_Male  \n",
       "0                0            0  \n",
       "1                1            0  \n",
       "2                0            0  \n",
       "3                0            0  \n",
       "4                1            0  \n",
       "5                1            1  \n",
       "6                0            1  \n",
       "7                0            0  \n",
       "8                0            1  \n",
       "9                0            1  "
      ]
     },
     "execution_count": 19,
     "metadata": {},
     "output_type": "execute_result"
    }
   ],
   "source": [
    "data.head(10) # проверяем"
   ]
  },
  {
   "cell_type": "markdown",
   "metadata": {},
   "source": [
    "## Исследование задачи"
   ]
  },
  {
   "cell_type": "markdown",
   "metadata": {},
   "source": [
    "### Разделим выборку на 3 части"
   ]
  },
  {
   "cell_type": "markdown",
   "metadata": {},
   "source": [
    "**Exited** (факт ухода клиента) - целевой признак. Все остальные - признаки, которые влияют на целевой признак."
   ]
  },
  {
   "cell_type": "code",
   "execution_count": 20,
   "metadata": {},
   "outputs": [],
   "source": [
    "train, valid, test = np.split(data.sample(frac=1, random_state=821), [int(.6*len(data)), int(.8*len(data))])"
   ]
  },
  {
   "cell_type": "code",
   "execution_count": 21,
   "metadata": {
    "scrolled": false
   },
   "outputs": [
    {
     "name": "stdout",
     "output_type": "stream",
     "text": [
      "(5454, 12)\n",
      "(1818, 12)\n"
     ]
    },
    {
     "data": {
      "text/plain": [
       "(1819, 12)"
      ]
     },
     "execution_count": 21,
     "metadata": {},
     "output_type": "execute_result"
    }
   ],
   "source": [
    "# Проверяем сколько строк и столбцов в полученных датасетах\n",
    "print(train.shape)\n",
    "print(valid.shape)\n",
    "test.shape"
   ]
  },
  {
   "cell_type": "code",
   "execution_count": 22,
   "metadata": {},
   "outputs": [
    {
     "name": "stdout",
     "output_type": "stream",
     "text": [
      "      CreditScore       Age    Tenure   Balance  NumOfProducts  HasCrCard  \\\n",
      "1615     0.368653 -1.704038  0.343761  0.357046      -0.918424          1   \n",
      "4277     1.298448  1.133569 -1.037361  0.773672      -0.918424          1   \n",
      "7210    -0.013597 -1.041930  1.379602  0.426833      -0.918424          1   \n",
      "3382     0.058721  3.119893 -0.001519  1.004462       0.826294          1   \n",
      "4345     0.730240  0.660634 -0.692080  0.342303      -0.918424          1   \n",
      "\n",
      "      IsActiveMember  EstimatedSalary  Exited  Geography_Germany  \\\n",
      "1615               1         1.128568       0                  1   \n",
      "4277               1         0.603429       0                  1   \n",
      "7210               1         1.004986       0                  0   \n",
      "3382               1        -0.007585       0                  1   \n",
      "4345               1         0.579236       1                  1   \n",
      "\n",
      "      Geography_Spain  Gender_Male  \n",
      "1615                0            0  \n",
      "4277                0            1  \n",
      "7210                1            0  \n",
      "3382                0            0  \n",
      "4345                0            1  \n"
     ]
    }
   ],
   "source": [
    "# Масштабирование признаков CreditScore, Age, Tenure, Balance, NumOfProducts и EstimatedSalary\n",
    "cols_to_scale = ['CreditScore', 'Age', 'Tenure', 'Balance', 'NumOfProducts', 'EstimatedSalary']\n",
    "\n",
    "scaler = StandardScaler()\n",
    "\n",
    "\n",
    "scaler.fit(train[cols_to_scale])\n",
    "train[cols_to_scale] = scaler.transform(train[cols_to_scale])\n",
    "print(train.head())\n",
    "\n",
    "scaler.fit(valid[cols_to_scale])\n",
    "valid[cols_to_scale] = scaler.transform(valid[cols_to_scale])\n",
    "\n",
    "scaler.fit(test[cols_to_scale])\n",
    "test[cols_to_scale] = scaler.transform(test[cols_to_scale])"
   ]
  },
  {
   "cell_type": "markdown",
   "metadata": {},
   "source": [
    "Разделили датасет на 3 части в соотношении **60/20/20**."
   ]
  },
  {
   "cell_type": "code",
   "execution_count": 23,
   "metadata": {},
   "outputs": [],
   "source": [
    "target_train = train['Exited']\n",
    "features_train = train.drop(['Exited'], axis=1)\n",
    "\n",
    "target_valid = valid['Exited']\n",
    "features_valid = valid.drop(['Exited'], axis=1)\n",
    "\n",
    "target_test = test['Exited']\n",
    "features_test = test.drop(['Exited'], axis=1)"
   ]
  },
  {
   "cell_type": "code",
   "execution_count": 24,
   "metadata": {},
   "outputs": [
    {
     "data": {
      "text/plain": [
       "(5454,)"
      ]
     },
     "execution_count": 24,
     "metadata": {},
     "output_type": "execute_result"
    }
   ],
   "source": [
    "target_train.shape"
   ]
  },
  {
   "cell_type": "markdown",
   "metadata": {},
   "source": [
    "### Исследование баланса классов"
   ]
  },
  {
   "cell_type": "code",
   "execution_count": 25,
   "metadata": {},
   "outputs": [
    {
     "name": "stdout",
     "output_type": "stream",
     "text": [
      "0    0.796062\n",
      "1    0.203938\n",
      "Name: Exited, dtype: float64\n"
     ]
    },
    {
     "data": {
      "image/png": "[encoded data removed]",
      "text/plain": [
       "<Figure size 300x300 with 1 Axes>"
      ]
     },
     "metadata": {},
     "output_type": "display_data"
    }
   ],
   "source": [
    "print(data['Exited'].value_counts(normalize=1))\n",
    "data['Exited'].plot(kind ='hist', bins=2, figsize=(3,3));"
   ]
  },
  {
   "cell_type": "markdown",
   "metadata": {},
   "source": [
    "Из полученных данных видно, что в целевом признаке наблюдается достаточно сильный дисбаланс классов.Только 20% отражают факт ухода клиента. Разница почти в **4** раза."
   ]
  },
  {
   "cell_type": "markdown",
   "metadata": {},
   "source": [
    "### Проверка моделей без учета дисбаланса"
   ]
  },
  {
   "cell_type": "code",
   "execution_count": 26,
   "metadata": {},
   "outputs": [],
   "source": [
    "# Выбираем параметр random_state\n",
    "RANDOM_STATE = 5550111"
   ]
  },
  {
   "cell_type": "markdown",
   "metadata": {},
   "source": [
    "#### Дерево решений"
   ]
  },
  {
   "cell_type": "code",
   "execution_count": 27,
   "metadata": {},
   "outputs": [
    {
     "name": "stdout",
     "output_type": "stream",
     "text": [
      "Лучшая F1-мера: 0.5913312693498453 Глубина дерева: 7\n",
      "Roc-auc-score: 0.8404185190027894\n"
     ]
    }
   ],
   "source": [
    "best_roc_auc = 0\n",
    "best_f1 = 0\n",
    "best_depth = 0\n",
    "best_model = None\n",
    "for depth in range(1, 30):\n",
    "    model = DecisionTreeClassifier(random_state=RANDOM_STATE, max_depth=depth) \n",
    "    model.fit(features_train, target_train) # обучите модель на тренировочной выборке\n",
    "    predictions_valid = model.predict(features_valid) # предсказания модели на валидационной выборке\n",
    "      \n",
    "    f1_tree = f1_score(target_valid, predictions_valid)\n",
    "    roc_auc = roc_auc_score(target_valid, model.predict_proba(features_valid)[:, 1])\n",
    "    \n",
    "    if f1_tree > best_f1:\n",
    "        best_model = model\n",
    "        best_depth = depth\n",
    "        best_f1 = f1_tree\n",
    "        best_roc_auc = roc_auc\n",
    "        \n",
    "print(\"Лучшая F1-мера:\", best_f1, \"Глубина дерева:\", best_depth)\n",
    "print(\"Roc-auc-score:\", best_roc_auc)"
   ]
  },
  {
   "cell_type": "markdown",
   "metadata": {},
   "source": [
    "#### Случайный лес"
   ]
  },
  {
   "cell_type": "code",
   "execution_count": 28,
   "metadata": {},
   "outputs": [
    {
     "name": "stdout",
     "output_type": "stream",
     "text": [
      "Лучшая F1-мера 0.6134585289514867 Количество деревьев: 37 Глубина дерева: 20\n",
      "Roc-auc-score: 0.8528228149697815\n"
     ]
    }
   ],
   "source": [
    "best_roc_auc = 0\n",
    "best_f1 = 0\n",
    "best_est = 0\n",
    "best_depth = 0\n",
    "best_model = None\n",
    "for est in range(20, 50):\n",
    "    for depth in range(10, 25):\n",
    "        model = RandomForestClassifier(random_state=RANDOM_STATE, n_estimators=est, max_depth = depth) \n",
    "        model.fit(features_train, target_train) # обучите модель на тренировочной выборке\n",
    "        predictions_valid = model.predict(features_valid) # предсказания модели на валидационной выборке\n",
    "      \n",
    "        f1_tree = f1_score(target_valid, predictions_valid)\n",
    "        roc_auc = roc_auc_score(target_valid, model.predict_proba(features_valid)[:, 1])\n",
    "    \n",
    "        if f1_tree > best_f1:\n",
    "            best_model = model\n",
    "            best_est = est\n",
    "            best_depth = depth\n",
    "            best_f1 = f1_tree\n",
    "            best_roc_auc = roc_auc\n",
    "\n",
    "print(\"Лучшая F1-мера\", best_f1, \"Количество деревьев:\", best_est, \"Глубина дерева:\", best_depth)\n",
    "print(\"Roc-auc-score:\", best_roc_auc)"
   ]
  },
  {
   "cell_type": "markdown",
   "metadata": {},
   "source": [
    "#### Логистическая регрессия"
   ]
  },
  {
   "cell_type": "code",
   "execution_count": 29,
   "metadata": {
    "scrolled": true
   },
   "outputs": [
    {
     "name": "stdout",
     "output_type": "stream",
     "text": [
      "Лучшая F1-мера 0.2701612903225806 Глубина дерева: 10\n",
      "Roc-auc-score: 0.7763830776383077\n"
     ]
    }
   ],
   "source": [
    "best_roc_auc = 0\n",
    "best_f1 = 0\n",
    "best_max_iter = 0\n",
    "for max_iter in range(10, 50):\n",
    "    model = LogisticRegression(random_state=RANDOM_STATE, solver='liblinear', max_iter=max_iter)  \n",
    "    model.fit(features_train, target_train) # обучите модель на тренировочной выборке\n",
    "    predictions_valid = model.predict(features_valid) # предсказания модели на валидационной выборке\n",
    "      \n",
    "    f1_tree = f1_score(target_valid, predictions_valid)\n",
    "    roc_auc = roc_auc_score(target_valid, model.predict_proba(features_valid)[:, 1])\n",
    "   \n",
    "    if f1_tree > best_f1:\n",
    "        best_max_iter = max_iter\n",
    "        best_f1 = f1_tree\n",
    "        best_roc_auc = roc_auc\n",
    "print(\"Лучшая F1-мера\", best_f1, \"Глубина дерева:\", best_max_iter)\n",
    "print(\"Roc-auc-score:\", best_roc_auc)"
   ]
  },
  {
   "cell_type": "code",
   "execution_count": 30,
   "metadata": {
    "scrolled": true
   },
   "outputs": [
    {
     "name": "stdout",
     "output_type": "stream",
     "text": [
      "Лучшая F1-мера 0.2701612903225806 Глубина дерева: 100\n",
      "Roc-auc-score: 0.7763830776383077\n"
     ]
    }
   ],
   "source": [
    "best_roc_auc = 0\n",
    "best_f1 = 0\n",
    "best_max_iter = 0\n",
    "for max_iter in range(100, 1000, 100):\n",
    "    model = LogisticRegression(random_state=RANDOM_STATE, solver='liblinear', max_iter=max_iter)  \n",
    "    model.fit(features_train, target_train) # обучите модель на тренировочной выборке\n",
    "    predictions_valid = model.predict(features_valid) # предсказания модели на валидационной выборке\n",
    "      \n",
    "    f1_tree = f1_score(target_valid, predictions_valid)\n",
    "    roc_auc = roc_auc_score(target_valid, model.predict_proba(features_valid)[:, 1])\n",
    "   \n",
    "    if f1_tree > best_f1:\n",
    "        best_max_iter = max_iter\n",
    "        best_f1 = f1_tree\n",
    "        best_roc_auc = roc_auc\n",
    "print(\"Лучшая F1-мера\", best_f1, \"Глубина дерева:\", best_max_iter)\n",
    "print(\"Roc-auc-score:\", best_roc_auc)"
   ]
  },
  {
   "cell_type": "markdown",
   "metadata": {},
   "source": [
    "**Вывод:**\n",
    "\n",
    "Оценим модель по F1-мере и Roc-auc-score.\n",
    "\n",
    "|МОДЕЛЬ   \t|F1-мера   \t|Roc-auc-score   \t|   \n",
    "|:---\t|:---:\t|:---:\t|\n",
    "|Дерево решений   \t|0.5913312693498453   \t|0.8404185190027894   \t|   \n",
    "|**Случайный лес**   \t|**0.6134585289514867**   \t|**0.8528228149697815**   \t| \n",
    "|Логистическая регрессия   \t|0.2701612903225806   \t|0.7763830776383077   \t|  \n",
    "\n",
    "Лучший результат показала модель **Случайный лес**\n"
   ]
  },
  {
   "cell_type": "markdown",
   "metadata": {},
   "source": [
    "## Борьба с дисбалансом"
   ]
  },
  {
   "cell_type": "markdown",
   "metadata": {},
   "source": [
    "Рассмотрим 3 метода для работы с дисбалансом:\n",
    "1. Взвешивание классов\n",
    "2. Увеличение выборки\n",
    "3. Уменьшение выборки"
   ]
  },
  {
   "cell_type": "markdown",
   "metadata": {},
   "source": [
    "### Взвешивание классов"
   ]
  },
  {
   "cell_type": "code",
   "execution_count": 31,
   "metadata": {},
   "outputs": [
    {
     "name": "stdout",
     "output_type": "stream",
     "text": [
      "Лучшая F1-мера: 0.5904761904761905 Глубина дерева: 8\n",
      "Roc-auc-score: 0.8275338868549512\n"
     ]
    }
   ],
   "source": [
    "# Добавляем class_weight='balanced' в модели.\n",
    "\n",
    "# Дерево решений    \n",
    "best_roc_auc = 0\n",
    "best_f1 = 0\n",
    "best_depth = 0\n",
    "best_model = None\n",
    "for depth in range(1, 30):\n",
    "    model = DecisionTreeClassifier(random_state=RANDOM_STATE, max_depth=depth, class_weight='balanced') \n",
    "    model.fit(features_train, target_train) # обучите модель на тренировочной выборке\n",
    "    predictions_valid = model.predict(features_valid) # предсказания модели на валидационной выборке\n",
    "      \n",
    "    f1_tree = f1_score(target_valid, predictions_valid)\n",
    "    roc_auc = roc_auc_score(target_valid, model.predict_proba(features_valid)[:, 1])\n",
    "    \n",
    "    if f1_tree > best_f1:\n",
    "        best_model = model\n",
    "        best_depth = depth\n",
    "        best_f1 = f1_tree\n",
    "        best_roc_auc = roc_auc\n",
    "        \n",
    "print(\"Лучшая F1-мера:\", best_f1, \"Глубина дерева:\", best_depth)\n",
    "print(\"Roc-auc-score:\", best_roc_auc)"
   ]
  },
  {
   "cell_type": "code",
   "execution_count": 32,
   "metadata": {},
   "outputs": [
    {
     "name": "stdout",
     "output_type": "stream",
     "text": [
      "Лучшая F1-мера 0.6378378378378379 Количество деревьев: 49 Глубина дерева: 11\n",
      "Roc-auc-score: 0.8643418032310554\n"
     ]
    }
   ],
   "source": [
    "# Случайный лес\n",
    "best_roc_auc = 0\n",
    "best_f1 = 0\n",
    "best_est = 0\n",
    "best_depth = 0\n",
    "best_model = None\n",
    "for est in range(20, 50):\n",
    "    for depth in range(10, 25):\n",
    "        model = RandomForestClassifier(random_state=RANDOM_STATE, n_estimators=est, max_depth = depth, class_weight='balanced') \n",
    "        model.fit(features_train, target_train) # обучите модель на тренировочной выборке\n",
    "        predictions_valid = model.predict(features_valid) # предсказания модели на валидационной выборке\n",
    "      \n",
    "        f1_tree = f1_score(target_valid, predictions_valid)\n",
    "        roc_auc = roc_auc_score(target_valid, model.predict_proba(features_valid)[:, 1])\n",
    "    \n",
    "        if f1_tree > best_f1:\n",
    "            best_model = model\n",
    "            best_est = est\n",
    "            best_depth = depth\n",
    "            best_f1 = f1_tree\n",
    "            best_roc_auc = roc_auc\n",
    "\n",
    "print(\"Лучшая F1-мера\", best_f1, \"Количество деревьев:\", best_est, \"Глубина дерева:\", best_depth)\n",
    "print(\"Roc-auc-score:\", best_roc_auc)"
   ]
  },
  {
   "cell_type": "code",
   "execution_count": 33,
   "metadata": {},
   "outputs": [
    {
     "name": "stdout",
     "output_type": "stream",
     "text": [
      "Лучшая F1-мера 0.5132575757575757 Глубина дерева: 100\n",
      "Roc-auc-score: 0.7801985268479777\n"
     ]
    }
   ],
   "source": [
    "# Логистическая регрессия\n",
    "best_roc_auc = 0\n",
    "best_f1 = 0\n",
    "best_max_iter = 0\n",
    "for max_iter in range(100, 1000, 100):\n",
    "    model = LogisticRegression(random_state=RANDOM_STATE, solver='liblinear', max_iter=max_iter, class_weight='balanced')  \n",
    "    model.fit(features_train, target_train) # обучите модель на тренировочной выборке\n",
    "    predictions_valid = model.predict(features_valid) # предсказания модели на валидационной выборке\n",
    "      \n",
    "    f1_tree = f1_score(target_valid, predictions_valid)\n",
    "    roc_auc = roc_auc_score(target_valid, model.predict_proba(features_valid)[:, 1])\n",
    "   \n",
    "    if f1_tree > best_f1:\n",
    "        best_max_iter = max_iter\n",
    "        best_f1 = f1_tree\n",
    "        best_roc_auc = roc_auc\n",
    "print(\"Лучшая F1-мера\", best_f1, \"Глубина дерева:\", best_max_iter)\n",
    "print(\"Roc-auc-score:\", best_roc_auc)"
   ]
  },
  {
   "cell_type": "markdown",
   "metadata": {},
   "source": [
    "**Вывод:**\n",
    "\n",
    "Качество модели у Дерева решений немного ухудшилось. \n",
    "\n",
    "Для случайного леса улучшение (бьло - 0.6134585289514867, стало - 0.6378378378378379).\n",
    "\n",
    "У **Логистической регрессии** качество повысилось значительно с 0.2701612903225806 до **0.5132575757575757**."
   ]
  },
  {
   "cell_type": "markdown",
   "metadata": {},
   "source": [
    "### Увеличение выборки"
   ]
  },
  {
   "cell_type": "code",
   "execution_count": 34,
   "metadata": {},
   "outputs": [],
   "source": [
    "def upsample(features, target, repeat):\n",
    "    features_zeros = features[target == 0]\n",
    "    features_ones = features[target == 1]\n",
    "    target_zeros = target[target == 0]\n",
    "    target_ones = target[target == 1]\n",
    "\n",
    "    features_upsampled = pd.concat([features_zeros] + [features_ones] * repeat)\n",
    "    target_upsampled = pd.concat([target_zeros] + [target_ones] * repeat)\n",
    "\n",
    "    features_upsampled, target_upsampled = shuffle(\n",
    "        features_upsampled, target_upsampled, random_state=RANDOM_STATE)\n",
    "    \n",
    "    return features_upsampled, target_upsampled\n",
    "\n",
    "features_upsampled, target_upsampled = upsample(features_train, target_train, 4)"
   ]
  },
  {
   "cell_type": "code",
   "execution_count": 35,
   "metadata": {
    "scrolled": true
   },
   "outputs": [
    {
     "name": "stdout",
     "output_type": "stream",
     "text": [
      "0    0.500803\n",
      "1    0.499197\n",
      "Name: Exited, dtype: float64\n"
     ]
    },
    {
     "data": {
      "image/png": "[encoded data removed]",
      "text/plain": [
       "<Figure size 300x300 with 1 Axes>"
      ]
     },
     "metadata": {},
     "output_type": "display_data"
    }
   ],
   "source": [
    "print(target_upsampled.value_counts(normalize=1))\n",
    "target_upsampled.plot(kind ='hist', bins=2, figsize=(3,3));"
   ]
  },
  {
   "cell_type": "code",
   "execution_count": 36,
   "metadata": {},
   "outputs": [
    {
     "name": "stdout",
     "output_type": "stream",
     "text": [
      "Лучшая F1-мера: 0.5874867444326618 Глубина дерева: 8\n",
      "Roc-auc-score: 0.8226197480822872\n"
     ]
    }
   ],
   "source": [
    "# Дерево решений\n",
    "best_roc_auc = 0\n",
    "best_f1 = 0\n",
    "best_depth = 0\n",
    "best_model = None\n",
    "for depth in range(1, 30):\n",
    "    model = DecisionTreeClassifier(random_state=RANDOM_STATE, max_depth=depth) \n",
    "    model.fit(features_upsampled, target_upsampled) # обучите модель на увеличенной выборке\n",
    "    predictions_valid = model.predict(features_valid) # предсказания модели на валидационной выборке\n",
    "      \n",
    "    f1_tree = f1_score(target_valid, predictions_valid)\n",
    "    roc_auc = roc_auc_score(target_valid, model.predict_proba(features_valid)[:, 1])\n",
    "    \n",
    "    if f1_tree > best_f1:\n",
    "        best_model = model\n",
    "        best_depth = depth\n",
    "        best_f1 = f1_tree\n",
    "        best_roc_auc = roc_auc\n",
    "        \n",
    "print(\"Лучшая F1-мера:\", best_f1, \"Глубина дерева:\", best_depth)\n",
    "print(\"Roc-auc-score:\", best_roc_auc)"
   ]
  },
  {
   "cell_type": "code",
   "execution_count": 37,
   "metadata": {},
   "outputs": [
    {
     "name": "stdout",
     "output_type": "stream",
     "text": [
      "Лучшая F1-мера 0.647130647130647 Количество деревьев: 43 Глубина дерева: 11\n",
      "Roc-auc-score: 0.8682716614365411\n"
     ]
    }
   ],
   "source": [
    "# Случайный лес\n",
    "best_roc_auc = 0\n",
    "best_f1 = 0\n",
    "best_est = 0\n",
    "best_depth = 0\n",
    "best_model = None\n",
    "for est in range(20, 50):\n",
    "    for depth in range(10, 25):\n",
    "        model = RandomForestClassifier(random_state=RANDOM_STATE, n_estimators=est, max_depth = depth) \n",
    "        model.fit(features_upsampled, target_upsampled) # обучите модель на увеличенной выборке\n",
    "        predictions_valid = model.predict(features_valid) # предсказания модели на валидационной выборке\n",
    "      \n",
    "        f1_tree = f1_score(target_valid, predictions_valid)\n",
    "        roc_auc = roc_auc_score(target_valid, model.predict_proba(features_valid)[:, 1])\n",
    "    \n",
    "        if f1_tree > best_f1:\n",
    "            best_model = model\n",
    "            best_est = est\n",
    "            best_depth = depth\n",
    "            best_f1 = f1_tree\n",
    "            best_roc_auc = roc_auc\n",
    "\n",
    "print(\"Лучшая F1-мера\", best_f1, \"Количество деревьев:\", best_est, \"Глубина дерева:\", best_depth)\n",
    "print(\"Roc-auc-score:\", best_roc_auc)"
   ]
  },
  {
   "cell_type": "code",
   "execution_count": 38,
   "metadata": {},
   "outputs": [
    {
     "name": "stdout",
     "output_type": "stream",
     "text": [
      "Лучшая F1-мера 0.5142314990512334 Глубина дерева: 100\n",
      "Roc-auc-score: 0.7801948948163645\n"
     ]
    }
   ],
   "source": [
    "# Логистическая регрессия\n",
    "best_roc_auc = 0\n",
    "best_f1 = 0\n",
    "best_max_iter = 0\n",
    "for max_iter in range(100, 1000, 100):\n",
    "    model = LogisticRegression(random_state=RANDOM_STATE, solver='liblinear', max_iter=max_iter)  \n",
    "    model.fit(features_upsampled, target_upsampled) # обучите модель на увеличенной выборке\n",
    "    predictions_valid = model.predict(features_valid) # предсказания модели на валидационной выборке\n",
    "      \n",
    "    f1_tree = f1_score(target_valid, predictions_valid)\n",
    "    roc_auc = roc_auc_score(target_valid, model.predict_proba(features_valid)[:, 1])\n",
    "   \n",
    "    if f1_tree > best_f1:\n",
    "        best_max_iter = max_iter\n",
    "        best_f1 = f1_tree\n",
    "        best_roc_auc = roc_auc\n",
    "print(\"Лучшая F1-мера\", best_f1, \"Глубина дерева:\", best_max_iter)\n",
    "print(\"Roc-auc-score:\", best_roc_auc)"
   ]
  },
  {
   "cell_type": "markdown",
   "metadata": {},
   "source": [
    "**Вывод:**\n",
    "\n",
    "При увеличении выборки получили результаты:\n",
    "1. Дерево решений - 0.5874867444326618 (хуже, чем с дисбалансом)\n",
    "2. Случайный лес - 0.647130647130647 (небольшое улучшение)\n",
    "3. Логистическая регрессия - 0.49370277078085634 (улучшение значительное)\n",
    "\n",
    "Лучший результат показала модель **Случайный лес**"
   ]
  },
  {
   "cell_type": "markdown",
   "metadata": {},
   "source": [
    "### Уменьшение выборки"
   ]
  },
  {
   "cell_type": "code",
   "execution_count": 39,
   "metadata": {},
   "outputs": [],
   "source": [
    "def downsample(features, target, fraction):\n",
    "    features_zeros = features[target == 0]\n",
    "    features_ones = features[target == 1]\n",
    "    target_zeros = target[target == 0]\n",
    "    target_ones = target[target == 1]\n",
    "\n",
    "    features_downsampled = pd.concat(\n",
    "        [features_zeros.sample(frac=fraction, random_state=RANDOM_STATE)] + [features_ones])\n",
    "    target_downsampled = pd.concat(\n",
    "        [target_zeros.sample(frac=fraction, random_state=RANDOM_STATE)] + [target_ones])\n",
    "    \n",
    "    features_downsampled, target_downsampled = shuffle(\n",
    "        features_downsampled, target_downsampled, random_state=RANDOM_STATE)\n",
    "    \n",
    "    return features_downsampled, target_downsampled\n",
    "\n",
    "features_downsampled, target_downsampled = downsample(features_train, target_train, 0.25) # уменьшим количество нулевых значений в 4 раза"
   ]
  },
  {
   "cell_type": "code",
   "execution_count": 40,
   "metadata": {},
   "outputs": [
    {
     "name": "stdout",
     "output_type": "stream",
     "text": [
      "0    0.500917\n",
      "1    0.499083\n",
      "Name: Exited, dtype: float64\n"
     ]
    },
    {
     "data": {
      "image/png": "[encoded data removed]",
      "text/plain": [
       "<Figure size 300x300 with 1 Axes>"
      ]
     },
     "metadata": {},
     "output_type": "display_data"
    }
   ],
   "source": [
    "print(target_downsampled.value_counts(normalize=1))\n",
    "target_downsampled.plot(kind ='hist', bins=2, figsize=(3,3));"
   ]
  },
  {
   "cell_type": "code",
   "execution_count": 41,
   "metadata": {},
   "outputs": [
    {
     "name": "stdout",
     "output_type": "stream",
     "text": [
      "Лучшая F1-мера: 0.5841836734693876 Глубина дерева: 3\n",
      "Roc-auc-score: 0.7983577769060902\n"
     ]
    }
   ],
   "source": [
    "# Дерево решений\n",
    "best_roc_auc = 0\n",
    "best_f1 = 0\n",
    "best_depth = 0\n",
    "best_model = None\n",
    "for depth in range(1, 30):\n",
    "    model = DecisionTreeClassifier(random_state=RANDOM_STATE, max_depth=depth) \n",
    "    model.fit(features_downsampled, target_downsampled) # обучите модель на уменьшенной выборке\n",
    "    predictions_valid = model.predict(features_valid) # предсказания модели на валидационной выборке\n",
    "      \n",
    "    f1_tree = f1_score(target_valid, predictions_valid)\n",
    "    roc_auc = roc_auc_score(target_valid, model.predict_proba(features_valid)[:, 1])\n",
    "    \n",
    "    if f1_tree > best_f1:\n",
    "        best_model = model\n",
    "        best_depth = depth\n",
    "        best_f1 = f1_tree\n",
    "        best_roc_auc = roc_auc\n",
    "        \n",
    "print(\"Лучшая F1-мера:\", best_f1, \"Глубина дерева:\", best_depth)\n",
    "print(\"Roc-auc-score:\", best_roc_auc)"
   ]
  },
  {
   "cell_type": "code",
   "execution_count": 42,
   "metadata": {},
   "outputs": [
    {
     "name": "stdout",
     "output_type": "stream",
     "text": [
      "Лучшая F1-мера 0.611740473738414 Количество деревьев: 47 Глубина дерева: 12\n",
      "Roc-auc-score: 0.8574718154346815\n"
     ]
    }
   ],
   "source": [
    "# Случайный лес\n",
    "best_roc_auc = 0\n",
    "best_f1 = 0\n",
    "best_est = 0\n",
    "best_depth = 0\n",
    "best_model = None\n",
    "for est in range(20, 50):\n",
    "    for depth in range(10, 25):\n",
    "        model = RandomForestClassifier(random_state=RANDOM_STATE, n_estimators=est, max_depth = depth) \n",
    "        model.fit(features_downsampled, target_downsampled) # обучите модель на уменьшенной выборке\n",
    "        predictions_valid = model.predict(features_valid) # предсказания модели на валидационной выборке\n",
    "      \n",
    "        f1_tree = f1_score(target_valid, predictions_valid)\n",
    "        roc_auc = roc_auc_score(target_valid, model.predict_proba(features_valid)[:, 1])\n",
    "    \n",
    "        if f1_tree > best_f1:\n",
    "            best_model = model\n",
    "            best_est = est\n",
    "            best_depth = depth\n",
    "            best_f1 = f1_tree\n",
    "            best_roc_auc = roc_auc\n",
    "\n",
    "print(\"Лучшая F1-мера\", best_f1, \"Количество деревьев:\", best_est, \"Глубина дерева:\", best_depth)\n",
    "print(\"Roc-auc-score:\", best_roc_auc)"
   ]
  },
  {
   "cell_type": "code",
   "execution_count": 43,
   "metadata": {},
   "outputs": [
    {
     "name": "stdout",
     "output_type": "stream",
     "text": [
      "Лучшая F1-мера 0.5223171889838557 Глубина дерева: 100\n",
      "Roc-auc-score: 0.7807269874476988\n"
     ]
    }
   ],
   "source": [
    "# Логистическая регрессия\n",
    "best_roc_auc = 0\n",
    "best_f1 = 0\n",
    "best_max_iter = 0\n",
    "for max_iter in range(100, 1000, 100):\n",
    "    model = LogisticRegression(random_state=RANDOM_STATE, solver='liblinear', max_iter=max_iter)  \n",
    "    model.fit(features_downsampled, target_downsampled) # обучите модель на увеличенной выборке\n",
    "    predictions_valid = model.predict(features_valid) # предсказания модели на валидационной выборке\n",
    "      \n",
    "    f1_tree = f1_score(target_valid, predictions_valid)\n",
    "    roc_auc = roc_auc_score(target_valid, model.predict_proba(features_valid)[:, 1])\n",
    "   \n",
    "    if f1_tree > best_f1:\n",
    "        best_max_iter = max_iter\n",
    "        best_f1 = f1_tree\n",
    "        best_roc_auc = roc_auc\n",
    "print(\"Лучшая F1-мера\", best_f1, \"Глубина дерева:\", best_max_iter)\n",
    "print(\"Roc-auc-score:\", best_roc_auc)"
   ]
  },
  {
   "cell_type": "markdown",
   "metadata": {},
   "source": [
    "**Вывод:**\n",
    "\n",
    "При уменьшении выборки получили результаты:\n",
    "1. Дерево решений - 0.5841836734693876\n",
    "2. Случайный лес - 0.611740473738414\n",
    "3. Логистическая регрессия - 0.5223171889838557\n",
    "\n",
    "При уменьшении выборки f1-мера увеличилась только для Логистической регрессии.\n",
    "\n",
    "Наилучший результат получили при **увеличении выборки** для Случайного леса. \n",
    "\n",
    "\n",
    "| Метрики  \t|F1-мера   \t|Roc-auc-score   \t|   \n",
    "|:---\t|:---:\t|:---:\t|\n",
    "|Было   \t|0.6134585289514867   \t|0.8528228149697815   \t| \n",
    "|**Стало**   \t|**0.647130647130647**  \t|**0.8682716614365411**   \t|  \n",
    "\n"
   ]
  },
  {
   "cell_type": "markdown",
   "metadata": {},
   "source": [
    "## Тестирование модели"
   ]
  },
  {
   "cell_type": "code",
   "execution_count": 44,
   "metadata": {
    "scrolled": true
   },
   "outputs": [
    {
     "name": "stdout",
     "output_type": "stream",
     "text": [
      "F1-мера 0.6020151133501259 Количество деревьев: 43 Глубина дерева: 11\n",
      "Полнота recall: 0.6256544502617801\n",
      "Точность precision: 0.5800970873786407\n"
     ]
    }
   ],
   "source": [
    "# Случайный лес увеличенная выборка\n",
    "\n",
    "# Проведем тестирование на лучшей полученной модели Случайный лес\n",
    "# Лучшая F1-мера 0.647130647130647 Количество деревьев: 43 Глубина дерева: 11\n",
    "# Roc-auc-score: 0.8682716614365411\n",
    "\n",
    "best_est = 43\n",
    "best_depth = 11\n",
    "\n",
    "model = RandomForestClassifier(random_state=RANDOM_STATE, n_estimators=best_est, max_depth = best_depth)\n",
    "model.fit(features_upsampled, target_upsampled) # обучите модель на увеличенной выборке \n",
    "predictions_test = model.predict(features_test) # предсказания модели на тестовой выборке\n",
    "     \n",
    "f1_tree = f1_score(target_test, predictions_test)\n",
    "\n",
    "print(\"F1-мера\", f1_tree, \"Количество деревьев:\", best_est, \"Глубина дерева:\", best_depth)\n",
    "\n",
    "print(\"Полнота recall:\", recall_score(target_test, predictions_test))\n",
    "print(\"Точность precision:\", precision_score(target_test, predictions_test))\n",
    "\n",
    "\n",
    "probabilities_test = model.predict_proba(features_test)\n",
    "probabilities_one_test = probabilities_test[:, 1]"
   ]
  },
  {
   "cell_type": "markdown",
   "metadata": {},
   "source": [
    "Чтобы выявить, как сильно наша модель отличается от случайной, посчитаем площадь под ROC-кривой — **AUC-ROC** и построим график."
   ]
  },
  {
   "cell_type": "code",
   "execution_count": 45,
   "metadata": {},
   "outputs": [
    {
     "name": "stdout",
     "output_type": "stream",
     "text": [
      "ROC-AUC: 0.8532683346267491\n"
     ]
    },
    {
     "data": {
      "image/png": "[encoded data removed]",
      "text/plain": [
       "<Figure size 640x480 with 1 Axes>"
      ]
     },
     "metadata": {},
     "output_type": "display_data"
    }
   ],
   "source": [
    "print(\"ROC-AUC:\", roc_auc_score(target_test, probabilities_one_test))\n",
    "\n",
    "fpr, tpr, thresholds = roc_curve(target_test, probabilities_one_test) \n",
    "\n",
    "plt.figure()\n",
    "plt.plot(fpr, tpr, linestyle='solid')\n",
    "plt.plot([0, 1], [0, 1], linestyle='--')\n",
    "plt.xlim([0.0, 1.0])\n",
    "plt.ylim([0.0, 1.0])\n",
    "plt.xlabel('False Positive Rate')\n",
    "plt.ylabel('True Positive Rate')\n",
    "plt.title('ROC-кривая');\n"
   ]
  },
  {
   "cell_type": "markdown",
   "metadata": {},
   "source": [
    "## Общие выводы"
   ]
  },
  {
   "cell_type": "markdown",
   "metadata": {},
   "source": [
    "При исследовании данных были выявлены пропуски в столбце **Tenure**. Заменены на нули. Формат данных в этом столбце заменен на целочисленные.\n",
    "\n",
    "Для построения модели машинного обучения столбцы **RowNumber (индекс строки в данных), CustomerId (уникальный идентификатор клиента) и Surname (фамилия)** не учитывались. Разделили датасет на 3 части в соотношении 60/20/20.\n",
    "\n",
    "Дополнительно проведена проверка на наличие мультиколлинеарности. Она отсутствует.\n",
    "\n",
    "Техника **One-Hot Ecnoding** применена к **Gender и Geography.**\n",
    "\n",
    "К столбцам **CreditScore, Age, Tenure, Balance, NumOfProducts и EstimatedSalary** применили масштабирование\n",
    "\n",
    "Целевой признак **Exited (факт ухода клиента)**. Проверка на дисбаланс показала, что разница почти в **4** раза. (20% клиентов уходят).\n",
    "\n",
    "Была проведена проверка моделей без учета дисбаланса целевого признака.\n",
    "Лучший результат показала модель **Случайный лес** F1-мера 0.6134585289514867.\n",
    "\n",
    "Улучшение качества модели за счет учитывания дисбаланса классов проводилось тремя методами:\n",
    "1. Взвешивание классов\n",
    "2. Увеличение выборки (upsampling)\n",
    "3. Уменьшение выборки (downsampling)\n",
    "\n",
    "Применяя эти методы удалось значительно повысить F1-меру для модели **Логистической регрессии**.\n",
    "\n",
    "Наилучший результат был получен при увеличении выборки для **Случайного леса**. F1-мера 0.647130647130647, Roc-auc-score: 0.8682716614365411\n",
    "\n",
    "На тестовой выборке получились такие метрики:\n",
    "- F1-мера 0.6020151133501259\n",
    "- Полнота recall: 0.6256544502617801\n",
    "- Точность precision: 0.5800970873786407\n",
    "- ROC-AUC: 0.8532683346267491"
   ]
  }
 ],
 "metadata": {
  "ExecuteTimeLog": [
   {
    "duration": 968,
    "start_time": "2023-04-18T09:29:14.078Z"
   },
   {
    "duration": 344,
    "start_time": "2023-04-18T09:29:55.385Z"
   },
   {
    "duration": 29,
    "start_time": "2023-04-18T09:30:28.962Z"
   },
   {
    "duration": 14,
    "start_time": "2023-04-18T09:30:38.983Z"
   },
   {
    "duration": 14,
    "start_time": "2023-04-18T09:39:46.724Z"
   },
   {
    "duration": 5,
    "start_time": "2023-04-18T09:49:36.521Z"
   },
   {
    "duration": 139,
    "start_time": "2023-04-18T09:51:08.968Z"
   },
   {
    "duration": 1389,
    "start_time": "2023-04-18T09:51:56.141Z"
   },
   {
    "duration": 8,
    "start_time": "2023-04-18T09:52:54.855Z"
   },
   {
    "duration": 7,
    "start_time": "2023-04-18T09:53:28.234Z"
   },
   {
    "duration": 2,
    "start_time": "2023-04-18T09:57:10.653Z"
   },
   {
    "duration": 12,
    "start_time": "2023-04-18T09:58:41.223Z"
   },
   {
    "duration": 11,
    "start_time": "2023-04-18T09:58:55.246Z"
   },
   {
    "duration": 8,
    "start_time": "2023-04-18T09:59:11.710Z"
   },
   {
    "duration": 55,
    "start_time": "2023-04-18T10:00:51.114Z"
   },
   {
    "duration": 808,
    "start_time": "2023-04-20T08:26:18.323Z"
   },
   {
    "duration": 152,
    "start_time": "2023-04-20T08:26:19.134Z"
   },
   {
    "duration": 19,
    "start_time": "2023-04-20T08:26:19.288Z"
   },
   {
    "duration": 13,
    "start_time": "2023-04-20T08:26:19.309Z"
   },
   {
    "duration": 4,
    "start_time": "2023-04-20T08:26:19.324Z"
   },
   {
    "duration": 8,
    "start_time": "2023-04-20T08:26:19.330Z"
   },
   {
    "duration": 18,
    "start_time": "2023-04-20T08:26:19.339Z"
   },
   {
    "duration": 8,
    "start_time": "2023-04-20T08:26:19.358Z"
   },
   {
    "duration": 51,
    "start_time": "2023-04-20T08:26:19.367Z"
   },
   {
    "duration": 84,
    "start_time": "2023-04-20T08:26:19.420Z"
   },
   {
    "duration": 4,
    "start_time": "2023-04-20T08:30:16.849Z"
   },
   {
    "duration": 12,
    "start_time": "2023-04-20T08:30:32.236Z"
   },
   {
    "duration": 8,
    "start_time": "2023-04-20T08:30:53.595Z"
   },
   {
    "duration": 2,
    "start_time": "2023-04-20T09:31:32.317Z"
   },
   {
    "duration": 8,
    "start_time": "2023-04-20T09:33:05.557Z"
   },
   {
    "duration": 4,
    "start_time": "2023-04-20T09:33:41.718Z"
   },
   {
    "duration": 645,
    "start_time": "2023-04-20T09:34:10.951Z"
   },
   {
    "duration": 40,
    "start_time": "2023-04-20T09:34:11.598Z"
   },
   {
    "duration": 18,
    "start_time": "2023-04-20T09:34:11.640Z"
   },
   {
    "duration": 14,
    "start_time": "2023-04-20T09:34:11.660Z"
   },
   {
    "duration": 22,
    "start_time": "2023-04-20T09:34:11.677Z"
   },
   {
    "duration": 18,
    "start_time": "2023-04-20T09:34:11.700Z"
   },
   {
    "duration": 57,
    "start_time": "2023-04-20T09:34:11.720Z"
   },
   {
    "duration": 5,
    "start_time": "2023-04-20T09:34:11.779Z"
   },
   {
    "duration": 18,
    "start_time": "2023-04-20T09:34:11.785Z"
   },
   {
    "duration": 5,
    "start_time": "2023-04-20T09:39:19.805Z"
   },
   {
    "duration": 13,
    "start_time": "2023-04-20T09:39:45.156Z"
   },
   {
    "duration": 1803,
    "start_time": "2023-04-21T07:21:58.917Z"
   },
   {
    "duration": 705,
    "start_time": "2023-04-21T07:22:10.510Z"
   },
   {
    "duration": 159,
    "start_time": "2023-04-21T07:22:11.217Z"
   },
   {
    "duration": 35,
    "start_time": "2023-04-21T07:22:11.379Z"
   },
   {
    "duration": 20,
    "start_time": "2023-04-21T07:22:11.416Z"
   },
   {
    "duration": 19,
    "start_time": "2023-04-21T07:22:11.440Z"
   },
   {
    "duration": 23,
    "start_time": "2023-04-21T07:22:11.462Z"
   },
   {
    "duration": 66,
    "start_time": "2023-04-21T07:22:11.490Z"
   },
   {
    "duration": 6,
    "start_time": "2023-04-21T07:22:11.558Z"
   },
   {
    "duration": 49,
    "start_time": "2023-04-21T07:22:11.566Z"
   },
   {
    "duration": 30,
    "start_time": "2023-04-21T07:22:11.617Z"
   },
   {
    "duration": 49,
    "start_time": "2023-04-21T07:22:11.650Z"
   },
   {
    "duration": 1346,
    "start_time": "2023-04-21T07:22:11.704Z"
   },
   {
    "duration": 758,
    "start_time": "2023-04-21T07:22:48.730Z"
   },
   {
    "duration": 801,
    "start_time": "2023-04-21T07:23:05.915Z"
   },
   {
    "duration": 839,
    "start_time": "2023-04-21T07:23:22.403Z"
   },
   {
    "duration": 765,
    "start_time": "2023-04-21T07:23:31.842Z"
   },
   {
    "duration": 751,
    "start_time": "2023-04-21T07:23:37.140Z"
   },
   {
    "duration": 739,
    "start_time": "2023-04-21T07:25:14.484Z"
   },
   {
    "duration": 6,
    "start_time": "2023-04-21T07:27:09.351Z"
   },
   {
    "duration": 145,
    "start_time": "2023-04-21T07:29:40.472Z"
   },
   {
    "duration": 773,
    "start_time": "2023-04-21T07:29:59.381Z"
   },
   {
    "duration": 1000,
    "start_time": "2023-04-21T07:30:48.624Z"
   },
   {
    "duration": 764,
    "start_time": "2023-04-21T07:31:08.977Z"
   },
   {
    "duration": 5,
    "start_time": "2023-04-21T07:53:50.293Z"
   },
   {
    "duration": 7,
    "start_time": "2023-04-21T07:55:40.587Z"
   },
   {
    "duration": 10,
    "start_time": "2023-04-21T08:02:00.473Z"
   },
   {
    "duration": 17,
    "start_time": "2023-04-21T08:02:16.010Z"
   },
   {
    "duration": 15,
    "start_time": "2023-04-21T08:02:26.983Z"
   },
   {
    "duration": 22,
    "start_time": "2023-04-21T08:02:54.225Z"
   },
   {
    "duration": 9,
    "start_time": "2023-04-21T08:05:29.448Z"
   },
   {
    "duration": 1401,
    "start_time": "2023-04-21T08:06:17.138Z"
   },
   {
    "duration": 41,
    "start_time": "2023-04-21T08:06:18.541Z"
   },
   {
    "duration": 27,
    "start_time": "2023-04-21T08:06:18.587Z"
   },
   {
    "duration": 18,
    "start_time": "2023-04-21T08:06:18.617Z"
   },
   {
    "duration": 21,
    "start_time": "2023-04-21T08:06:18.637Z"
   },
   {
    "duration": 12,
    "start_time": "2023-04-21T08:06:18.660Z"
   },
   {
    "duration": 88,
    "start_time": "2023-04-21T08:06:18.674Z"
   },
   {
    "duration": 5,
    "start_time": "2023-04-21T08:06:18.764Z"
   },
   {
    "duration": 4,
    "start_time": "2023-04-21T08:06:18.771Z"
   },
   {
    "duration": 11,
    "start_time": "2023-04-21T08:06:18.777Z"
   },
   {
    "duration": 22,
    "start_time": "2023-04-21T08:06:18.790Z"
   },
   {
    "duration": 875,
    "start_time": "2023-04-21T08:06:18.815Z"
   },
   {
    "duration": 5,
    "start_time": "2023-04-21T08:06:19.692Z"
   },
   {
    "duration": 8,
    "start_time": "2023-04-21T08:06:19.699Z"
   },
   {
    "duration": 13,
    "start_time": "2023-04-21T08:06:19.708Z"
   },
   {
    "duration": 125,
    "start_time": "2023-04-21T08:06:19.723Z"
   },
   {
    "duration": 0,
    "start_time": "2023-04-21T08:06:19.850Z"
   },
   {
    "duration": 1399,
    "start_time": "2023-04-21T08:11:48.859Z"
   },
   {
    "duration": 41,
    "start_time": "2023-04-21T08:11:50.261Z"
   },
   {
    "duration": 23,
    "start_time": "2023-04-21T08:11:50.304Z"
   },
   {
    "duration": 18,
    "start_time": "2023-04-21T08:11:50.330Z"
   },
   {
    "duration": 36,
    "start_time": "2023-04-21T08:11:50.352Z"
   },
   {
    "duration": 13,
    "start_time": "2023-04-21T08:11:50.390Z"
   },
   {
    "duration": 91,
    "start_time": "2023-04-21T08:11:50.405Z"
   },
   {
    "duration": 5,
    "start_time": "2023-04-21T08:11:50.498Z"
   },
   {
    "duration": 11,
    "start_time": "2023-04-21T08:11:50.504Z"
   },
   {
    "duration": 24,
    "start_time": "2023-04-21T08:11:50.516Z"
   },
   {
    "duration": 27,
    "start_time": "2023-04-21T08:11:50.541Z"
   },
   {
    "duration": 995,
    "start_time": "2023-04-21T08:11:50.570Z"
   },
   {
    "duration": 6,
    "start_time": "2023-04-21T08:11:51.567Z"
   },
   {
    "duration": 12,
    "start_time": "2023-04-21T08:11:51.577Z"
   },
   {
    "duration": 49,
    "start_time": "2023-04-21T08:11:51.590Z"
   },
   {
    "duration": 31,
    "start_time": "2023-04-21T08:11:51.641Z"
   },
   {
    "duration": 19,
    "start_time": "2023-04-21T08:11:51.674Z"
   },
   {
    "duration": 5,
    "start_time": "2023-04-21T08:12:29.675Z"
   },
   {
    "duration": 13,
    "start_time": "2023-04-21T08:14:20.930Z"
   },
   {
    "duration": 145,
    "start_time": "2023-04-21T08:25:47.077Z"
   },
   {
    "duration": 1526,
    "start_time": "2023-04-21T08:26:00.431Z"
   },
   {
    "duration": 49,
    "start_time": "2023-04-21T08:26:01.959Z"
   },
   {
    "duration": 44,
    "start_time": "2023-04-21T08:26:02.010Z"
   },
   {
    "duration": 68,
    "start_time": "2023-04-21T08:26:02.056Z"
   },
   {
    "duration": 31,
    "start_time": "2023-04-21T08:26:02.128Z"
   },
   {
    "duration": 89,
    "start_time": "2023-04-21T08:26:02.161Z"
   },
   {
    "duration": 103,
    "start_time": "2023-04-21T08:26:02.252Z"
   },
   {
    "duration": 35,
    "start_time": "2023-04-21T08:26:02.357Z"
   },
   {
    "duration": 34,
    "start_time": "2023-04-21T08:26:02.394Z"
   },
   {
    "duration": 38,
    "start_time": "2023-04-21T08:26:02.430Z"
   },
   {
    "duration": 52,
    "start_time": "2023-04-21T08:26:02.470Z"
   },
   {
    "duration": 972,
    "start_time": "2023-04-21T08:26:02.525Z"
   },
   {
    "duration": 6,
    "start_time": "2023-04-21T08:26:03.499Z"
   },
   {
    "duration": 10,
    "start_time": "2023-04-21T08:26:03.508Z"
   },
   {
    "duration": 25,
    "start_time": "2023-04-21T08:26:03.520Z"
   },
   {
    "duration": 25,
    "start_time": "2023-04-21T08:26:03.547Z"
   },
   {
    "duration": 5,
    "start_time": "2023-04-21T08:26:03.574Z"
   },
   {
    "duration": 32,
    "start_time": "2023-04-21T08:26:03.581Z"
   },
   {
    "duration": 173,
    "start_time": "2023-04-21T08:26:03.615Z"
   },
   {
    "duration": 7,
    "start_time": "2023-04-21T08:28:16.317Z"
   },
   {
    "duration": 12,
    "start_time": "2023-04-21T08:28:33.333Z"
   },
   {
    "duration": 3,
    "start_time": "2023-04-21T08:29:02.356Z"
   },
   {
    "duration": 4,
    "start_time": "2023-04-21T08:29:08.570Z"
   },
   {
    "duration": 4,
    "start_time": "2023-04-21T08:29:31.174Z"
   },
   {
    "duration": 4,
    "start_time": "2023-04-21T08:29:31.822Z"
   },
   {
    "duration": 5,
    "start_time": "2023-04-21T08:30:35.033Z"
   },
   {
    "duration": 19,
    "start_time": "2023-04-21T08:38:00.526Z"
   },
   {
    "duration": 9,
    "start_time": "2023-04-21T08:38:36.605Z"
   },
   {
    "duration": 5,
    "start_time": "2023-04-21T08:41:24.006Z"
   },
   {
    "duration": 5,
    "start_time": "2023-04-21T08:42:11.632Z"
   },
   {
    "duration": 3,
    "start_time": "2023-04-21T08:54:26.291Z"
   },
   {
    "duration": 12,
    "start_time": "2023-04-21T10:23:04.196Z"
   },
   {
    "duration": 118,
    "start_time": "2023-04-21T10:23:16.211Z"
   },
   {
    "duration": 89,
    "start_time": "2023-04-21T10:27:48.468Z"
   },
   {
    "duration": 232,
    "start_time": "2023-04-21T10:27:59.253Z"
   },
   {
    "duration": 109,
    "start_time": "2023-04-21T10:28:09.221Z"
   },
   {
    "duration": 3,
    "start_time": "2023-04-21T11:02:55.358Z"
   },
   {
    "duration": 62,
    "start_time": "2023-04-21T11:04:02.072Z"
   },
   {
    "duration": 1449,
    "start_time": "2023-04-21T11:04:07.177Z"
   },
   {
    "duration": 41,
    "start_time": "2023-04-21T11:04:08.628Z"
   },
   {
    "duration": 19,
    "start_time": "2023-04-21T11:04:08.670Z"
   },
   {
    "duration": 13,
    "start_time": "2023-04-21T11:04:08.692Z"
   },
   {
    "duration": 12,
    "start_time": "2023-04-21T11:04:08.707Z"
   },
   {
    "duration": 8,
    "start_time": "2023-04-21T11:04:08.721Z"
   },
   {
    "duration": 77,
    "start_time": "2023-04-21T11:04:08.731Z"
   },
   {
    "duration": 5,
    "start_time": "2023-04-21T11:04:08.810Z"
   },
   {
    "duration": 18,
    "start_time": "2023-04-21T11:04:08.817Z"
   },
   {
    "duration": 19,
    "start_time": "2023-04-21T11:04:08.837Z"
   },
   {
    "duration": 15,
    "start_time": "2023-04-21T11:04:08.857Z"
   },
   {
    "duration": 967,
    "start_time": "2023-04-21T11:04:08.874Z"
   },
   {
    "duration": 6,
    "start_time": "2023-04-21T11:04:09.843Z"
   },
   {
    "duration": 11,
    "start_time": "2023-04-21T11:04:09.851Z"
   },
   {
    "duration": 12,
    "start_time": "2023-04-21T11:04:09.863Z"
   },
   {
    "duration": 14,
    "start_time": "2023-04-21T11:04:09.876Z"
   },
   {
    "duration": 11,
    "start_time": "2023-04-21T11:04:09.891Z"
   },
   {
    "duration": 6,
    "start_time": "2023-04-21T11:04:09.904Z"
   },
   {
    "duration": 6,
    "start_time": "2023-04-21T11:04:09.912Z"
   },
   {
    "duration": 13,
    "start_time": "2023-04-21T11:04:09.920Z"
   },
   {
    "duration": 10,
    "start_time": "2023-04-21T11:04:09.934Z"
   },
   {
    "duration": 161,
    "start_time": "2023-04-21T11:04:09.945Z"
   },
   {
    "duration": 3,
    "start_time": "2023-04-21T11:04:10.108Z"
   },
   {
    "duration": 1152,
    "start_time": "2023-04-21T11:04:10.113Z"
   },
   {
    "duration": 1219,
    "start_time": "2023-04-21T11:05:53.857Z"
   },
   {
    "duration": 112,
    "start_time": "2023-04-21T11:07:37.938Z"
   },
   {
    "duration": 1324,
    "start_time": "2023-04-21T11:08:54.822Z"
   },
   {
    "duration": 40,
    "start_time": "2023-04-21T11:08:56.148Z"
   },
   {
    "duration": 19,
    "start_time": "2023-04-21T11:08:56.190Z"
   },
   {
    "duration": 19,
    "start_time": "2023-04-21T11:08:56.211Z"
   },
   {
    "duration": 30,
    "start_time": "2023-04-21T11:08:56.231Z"
   },
   {
    "duration": 12,
    "start_time": "2023-04-21T11:08:56.262Z"
   },
   {
    "duration": 62,
    "start_time": "2023-04-21T11:08:56.276Z"
   },
   {
    "duration": 6,
    "start_time": "2023-04-21T11:08:56.340Z"
   },
   {
    "duration": 6,
    "start_time": "2023-04-21T11:08:56.348Z"
   },
   {
    "duration": 12,
    "start_time": "2023-04-21T11:08:56.357Z"
   },
   {
    "duration": 23,
    "start_time": "2023-04-21T11:08:56.371Z"
   },
   {
    "duration": 941,
    "start_time": "2023-04-21T11:08:56.396Z"
   },
   {
    "duration": 4,
    "start_time": "2023-04-21T11:08:57.339Z"
   },
   {
    "duration": 9,
    "start_time": "2023-04-21T11:08:57.345Z"
   },
   {
    "duration": 17,
    "start_time": "2023-04-21T11:08:57.355Z"
   },
   {
    "duration": 43,
    "start_time": "2023-04-21T11:08:57.374Z"
   },
   {
    "duration": 11,
    "start_time": "2023-04-21T11:08:57.420Z"
   },
   {
    "duration": 12,
    "start_time": "2023-04-21T11:08:57.433Z"
   },
   {
    "duration": 32,
    "start_time": "2023-04-21T11:08:57.446Z"
   },
   {
    "duration": 16,
    "start_time": "2023-04-21T11:08:57.480Z"
   },
   {
    "duration": 46,
    "start_time": "2023-04-21T11:08:57.498Z"
   },
   {
    "duration": 119,
    "start_time": "2023-04-21T11:08:57.545Z"
   },
   {
    "duration": 3,
    "start_time": "2023-04-21T11:08:57.666Z"
   },
   {
    "duration": 130,
    "start_time": "2023-04-21T11:08:57.671Z"
   },
   {
    "duration": 22,
    "start_time": "2023-04-21T11:13:55.409Z"
   },
   {
    "duration": 31,
    "start_time": "2023-04-21T11:15:10.609Z"
   },
   {
    "duration": 1239,
    "start_time": "2023-04-21T11:15:33.097Z"
   },
   {
    "duration": 1213,
    "start_time": "2023-04-21T11:16:23.028Z"
   },
   {
    "duration": 1132,
    "start_time": "2023-04-21T11:19:16.079Z"
   },
   {
    "duration": 1495,
    "start_time": "2023-04-21T15:04:24.284Z"
   },
   {
    "duration": 164,
    "start_time": "2023-04-21T15:04:25.781Z"
   },
   {
    "duration": 19,
    "start_time": "2023-04-21T15:04:25.947Z"
   },
   {
    "duration": 13,
    "start_time": "2023-04-21T15:04:25.968Z"
   },
   {
    "duration": 11,
    "start_time": "2023-04-21T15:04:25.983Z"
   },
   {
    "duration": 7,
    "start_time": "2023-04-21T15:04:25.995Z"
   },
   {
    "duration": 76,
    "start_time": "2023-04-21T15:04:26.004Z"
   },
   {
    "duration": 4,
    "start_time": "2023-04-21T15:04:26.082Z"
   },
   {
    "duration": 5,
    "start_time": "2023-04-21T15:04:26.087Z"
   },
   {
    "duration": 5,
    "start_time": "2023-04-21T15:04:26.094Z"
   },
   {
    "duration": 12,
    "start_time": "2023-04-21T15:04:26.100Z"
   },
   {
    "duration": 834,
    "start_time": "2023-04-21T15:04:26.113Z"
   },
   {
    "duration": 5,
    "start_time": "2023-04-21T15:04:26.949Z"
   },
   {
    "duration": 5,
    "start_time": "2023-04-21T15:04:26.955Z"
   },
   {
    "duration": 9,
    "start_time": "2023-04-21T15:04:26.962Z"
   },
   {
    "duration": 13,
    "start_time": "2023-04-21T15:04:26.973Z"
   },
   {
    "duration": 9,
    "start_time": "2023-04-21T15:04:26.988Z"
   },
   {
    "duration": 7,
    "start_time": "2023-04-21T15:04:26.999Z"
   },
   {
    "duration": 7,
    "start_time": "2023-04-21T15:04:27.007Z"
   },
   {
    "duration": 10,
    "start_time": "2023-04-21T15:04:27.015Z"
   },
   {
    "duration": 33,
    "start_time": "2023-04-21T15:04:27.027Z"
   },
   {
    "duration": 113,
    "start_time": "2023-04-21T15:04:27.061Z"
   },
   {
    "duration": 3,
    "start_time": "2023-04-21T15:04:27.175Z"
   },
   {
    "duration": 1078,
    "start_time": "2023-04-21T15:04:27.180Z"
   },
   {
    "duration": 984,
    "start_time": "2023-04-21T15:04:28.260Z"
   },
   {
    "duration": 1025,
    "start_time": "2023-04-21T15:04:29.246Z"
   },
   {
    "duration": 1399,
    "start_time": "2023-04-21T15:14:50.785Z"
   },
   {
    "duration": 48,
    "start_time": "2023-04-21T15:14:52.186Z"
   },
   {
    "duration": 24,
    "start_time": "2023-04-21T15:14:52.236Z"
   },
   {
    "duration": 13,
    "start_time": "2023-04-21T15:14:52.262Z"
   },
   {
    "duration": 24,
    "start_time": "2023-04-21T15:14:52.276Z"
   },
   {
    "duration": 17,
    "start_time": "2023-04-21T15:14:52.302Z"
   },
   {
    "duration": 64,
    "start_time": "2023-04-21T15:14:52.321Z"
   },
   {
    "duration": 5,
    "start_time": "2023-04-21T15:14:52.386Z"
   },
   {
    "duration": 18,
    "start_time": "2023-04-21T15:14:52.394Z"
   },
   {
    "duration": 13,
    "start_time": "2023-04-21T15:14:52.417Z"
   },
   {
    "duration": 20,
    "start_time": "2023-04-21T15:14:52.432Z"
   },
   {
    "duration": 897,
    "start_time": "2023-04-21T15:14:52.453Z"
   },
   {
    "duration": 4,
    "start_time": "2023-04-21T15:14:53.351Z"
   },
   {
    "duration": 9,
    "start_time": "2023-04-21T15:14:53.357Z"
   },
   {
    "duration": 10,
    "start_time": "2023-04-21T15:14:53.367Z"
   },
   {
    "duration": 14,
    "start_time": "2023-04-21T15:14:53.379Z"
   },
   {
    "duration": 10,
    "start_time": "2023-04-21T15:14:53.394Z"
   },
   {
    "duration": 14,
    "start_time": "2023-04-21T15:14:53.405Z"
   },
   {
    "duration": 4,
    "start_time": "2023-04-21T15:14:53.421Z"
   },
   {
    "duration": 31,
    "start_time": "2023-04-21T15:14:53.427Z"
   },
   {
    "duration": 26,
    "start_time": "2023-04-21T15:14:53.459Z"
   },
   {
    "duration": 115,
    "start_time": "2023-04-21T15:14:53.486Z"
   },
   {
    "duration": 2,
    "start_time": "2023-04-21T15:14:53.603Z"
   },
   {
    "duration": 1091,
    "start_time": "2023-04-21T15:14:53.607Z"
   },
   {
    "duration": 5313,
    "start_time": "2023-04-21T15:14:54.699Z"
   },
   {
    "duration": 1120,
    "start_time": "2023-04-21T15:15:00.014Z"
   },
   {
    "duration": 5960,
    "start_time": "2023-04-21T15:21:53.410Z"
   },
   {
    "duration": 51893,
    "start_time": "2023-04-21T15:24:00.067Z"
   },
   {
    "duration": 8605,
    "start_time": "2023-04-21T15:26:15.255Z"
   },
   {
    "duration": 1377,
    "start_time": "2023-04-21T15:30:23.552Z"
   },
   {
    "duration": 40,
    "start_time": "2023-04-21T15:30:24.931Z"
   },
   {
    "duration": 16,
    "start_time": "2023-04-21T15:30:24.973Z"
   },
   {
    "duration": 11,
    "start_time": "2023-04-21T15:30:24.991Z"
   },
   {
    "duration": 9,
    "start_time": "2023-04-21T15:30:25.004Z"
   },
   {
    "duration": 7,
    "start_time": "2023-04-21T15:30:25.015Z"
   },
   {
    "duration": 74,
    "start_time": "2023-04-21T15:30:25.024Z"
   },
   {
    "duration": 4,
    "start_time": "2023-04-21T15:30:25.100Z"
   },
   {
    "duration": 19,
    "start_time": "2023-04-21T15:30:25.105Z"
   },
   {
    "duration": 4,
    "start_time": "2023-04-21T15:30:25.126Z"
   },
   {
    "duration": 22,
    "start_time": "2023-04-21T15:30:25.132Z"
   },
   {
    "duration": 886,
    "start_time": "2023-04-21T15:30:25.156Z"
   },
   {
    "duration": 5,
    "start_time": "2023-04-21T15:30:26.044Z"
   },
   {
    "duration": 5,
    "start_time": "2023-04-21T15:30:26.051Z"
   },
   {
    "duration": 10,
    "start_time": "2023-04-21T15:30:26.058Z"
   },
   {
    "duration": 13,
    "start_time": "2023-04-21T15:30:26.070Z"
   },
   {
    "duration": 10,
    "start_time": "2023-04-21T15:30:26.085Z"
   },
   {
    "duration": 6,
    "start_time": "2023-04-21T15:30:26.096Z"
   },
   {
    "duration": 6,
    "start_time": "2023-04-21T15:30:26.103Z"
   },
   {
    "duration": 7,
    "start_time": "2023-04-21T15:30:26.111Z"
   },
   {
    "duration": 38,
    "start_time": "2023-04-21T15:30:26.120Z"
   },
   {
    "duration": 119,
    "start_time": "2023-04-21T15:30:26.160Z"
   },
   {
    "duration": 3,
    "start_time": "2023-04-21T15:30:26.281Z"
   },
   {
    "duration": 1068,
    "start_time": "2023-04-21T15:30:26.285Z"
   },
   {
    "duration": 5316,
    "start_time": "2023-04-21T15:30:27.355Z"
   },
   {
    "duration": 8390,
    "start_time": "2023-04-21T15:30:32.673Z"
   },
   {
    "duration": 8441,
    "start_time": "2023-04-21T15:37:16.618Z"
   },
   {
    "duration": 8992,
    "start_time": "2023-04-21T15:37:41.567Z"
   },
   {
    "duration": 5332,
    "start_time": "2023-04-21T15:43:22.061Z"
   },
   {
    "duration": 5340,
    "start_time": "2023-04-21T15:43:30.035Z"
   },
   {
    "duration": 5447,
    "start_time": "2023-04-21T15:46:11.498Z"
   },
   {
    "duration": 5053,
    "start_time": "2023-04-21T15:46:37.070Z"
   },
   {
    "duration": 15457,
    "start_time": "2023-04-21T15:49:37.548Z"
   },
   {
    "duration": 12598,
    "start_time": "2023-04-21T15:50:25.569Z"
   },
   {
    "duration": 1332,
    "start_time": "2023-04-21T16:33:27.515Z"
   },
   {
    "duration": 40,
    "start_time": "2023-04-21T16:33:28.849Z"
   },
   {
    "duration": 19,
    "start_time": "2023-04-21T16:33:28.891Z"
   },
   {
    "duration": 15,
    "start_time": "2023-04-21T16:33:28.912Z"
   },
   {
    "duration": 11,
    "start_time": "2023-04-21T16:33:28.929Z"
   },
   {
    "duration": 17,
    "start_time": "2023-04-21T16:33:28.942Z"
   },
   {
    "duration": 49,
    "start_time": "2023-04-21T16:33:28.961Z"
   },
   {
    "duration": 4,
    "start_time": "2023-04-21T16:33:29.012Z"
   },
   {
    "duration": 4,
    "start_time": "2023-04-21T16:33:29.018Z"
   },
   {
    "duration": 31,
    "start_time": "2023-04-21T16:33:29.025Z"
   },
   {
    "duration": 11,
    "start_time": "2023-04-21T16:33:29.058Z"
   },
   {
    "duration": 887,
    "start_time": "2023-04-21T16:33:29.071Z"
   },
   {
    "duration": 4,
    "start_time": "2023-04-21T16:33:29.960Z"
   },
   {
    "duration": 6,
    "start_time": "2023-04-21T16:33:29.965Z"
   },
   {
    "duration": 9,
    "start_time": "2023-04-21T16:33:29.973Z"
   },
   {
    "duration": 13,
    "start_time": "2023-04-21T16:33:29.984Z"
   },
   {
    "duration": 11,
    "start_time": "2023-04-21T16:33:29.999Z"
   },
   {
    "duration": 45,
    "start_time": "2023-04-21T16:33:30.011Z"
   },
   {
    "duration": 17,
    "start_time": "2023-04-21T16:33:30.058Z"
   },
   {
    "duration": 11,
    "start_time": "2023-04-21T16:33:30.076Z"
   },
   {
    "duration": 9,
    "start_time": "2023-04-21T16:33:30.088Z"
   },
   {
    "duration": 133,
    "start_time": "2023-04-21T16:33:30.099Z"
   },
   {
    "duration": 2,
    "start_time": "2023-04-21T16:33:30.234Z"
   },
   {
    "duration": 1132,
    "start_time": "2023-04-21T16:33:30.239Z"
   },
   {
    "duration": 12624,
    "start_time": "2023-04-21T16:33:31.373Z"
   },
   {
    "duration": 9058,
    "start_time": "2023-04-21T16:33:43.999Z"
   },
   {
    "duration": 1316,
    "start_time": "2023-04-21T16:36:11.770Z"
   },
   {
    "duration": 41,
    "start_time": "2023-04-21T16:36:13.088Z"
   },
   {
    "duration": 18,
    "start_time": "2023-04-21T16:36:13.131Z"
   },
   {
    "duration": 14,
    "start_time": "2023-04-21T16:36:13.150Z"
   },
   {
    "duration": 11,
    "start_time": "2023-04-21T16:36:13.166Z"
   },
   {
    "duration": 7,
    "start_time": "2023-04-21T16:36:13.178Z"
   },
   {
    "duration": 48,
    "start_time": "2023-04-21T16:36:13.187Z"
   },
   {
    "duration": 5,
    "start_time": "2023-04-21T16:36:13.256Z"
   },
   {
    "duration": 8,
    "start_time": "2023-04-21T16:36:13.262Z"
   },
   {
    "duration": 4,
    "start_time": "2023-04-21T16:36:13.272Z"
   },
   {
    "duration": 11,
    "start_time": "2023-04-21T16:36:13.278Z"
   },
   {
    "duration": 935,
    "start_time": "2023-04-21T16:36:13.291Z"
   },
   {
    "duration": 5,
    "start_time": "2023-04-21T16:36:14.228Z"
   },
   {
    "duration": 8,
    "start_time": "2023-04-21T16:36:14.236Z"
   },
   {
    "duration": 17,
    "start_time": "2023-04-21T16:36:14.246Z"
   },
   {
    "duration": 15,
    "start_time": "2023-04-21T16:36:14.265Z"
   },
   {
    "duration": 11,
    "start_time": "2023-04-21T16:36:14.282Z"
   },
   {
    "duration": 11,
    "start_time": "2023-04-21T16:36:14.295Z"
   },
   {
    "duration": 6,
    "start_time": "2023-04-21T16:36:14.308Z"
   },
   {
    "duration": 7,
    "start_time": "2023-04-21T16:36:14.316Z"
   },
   {
    "duration": 32,
    "start_time": "2023-04-21T16:36:14.325Z"
   },
   {
    "duration": 130,
    "start_time": "2023-04-21T16:36:14.359Z"
   },
   {
    "duration": 3,
    "start_time": "2023-04-21T16:36:14.491Z"
   },
   {
    "duration": 1125,
    "start_time": "2023-04-21T16:36:14.495Z"
   },
   {
    "duration": 13082,
    "start_time": "2023-04-21T16:36:15.622Z"
   },
   {
    "duration": 8465,
    "start_time": "2023-04-21T16:36:28.706Z"
   },
   {
    "duration": 2,
    "start_time": "2023-04-21T16:37:02.623Z"
   },
   {
    "duration": 1046,
    "start_time": "2023-04-21T16:37:05.111Z"
   },
   {
    "duration": 13464,
    "start_time": "2023-04-21T16:37:11.867Z"
   },
   {
    "duration": 8634,
    "start_time": "2023-04-21T16:37:25.333Z"
   },
   {
    "duration": 1371,
    "start_time": "2023-04-21T16:38:30.601Z"
   },
   {
    "duration": 42,
    "start_time": "2023-04-21T16:38:31.973Z"
   },
   {
    "duration": 18,
    "start_time": "2023-04-21T16:38:32.016Z"
   },
   {
    "duration": 12,
    "start_time": "2023-04-21T16:38:32.036Z"
   },
   {
    "duration": 12,
    "start_time": "2023-04-21T16:38:32.050Z"
   },
   {
    "duration": 7,
    "start_time": "2023-04-21T16:38:32.063Z"
   },
   {
    "duration": 50,
    "start_time": "2023-04-21T16:38:32.071Z"
   },
   {
    "duration": 5,
    "start_time": "2023-04-21T16:38:32.123Z"
   },
   {
    "duration": 27,
    "start_time": "2023-04-21T16:38:32.130Z"
   },
   {
    "duration": 5,
    "start_time": "2023-04-21T16:38:32.160Z"
   },
   {
    "duration": 14,
    "start_time": "2023-04-21T16:38:32.166Z"
   },
   {
    "duration": 844,
    "start_time": "2023-04-21T16:38:32.182Z"
   },
   {
    "duration": 5,
    "start_time": "2023-04-21T16:38:33.028Z"
   },
   {
    "duration": 5,
    "start_time": "2023-04-21T16:38:33.036Z"
   },
   {
    "duration": 19,
    "start_time": "2023-04-21T16:38:33.043Z"
   },
   {
    "duration": 15,
    "start_time": "2023-04-21T16:38:33.064Z"
   },
   {
    "duration": 11,
    "start_time": "2023-04-21T16:38:33.080Z"
   },
   {
    "duration": 8,
    "start_time": "2023-04-21T16:38:33.092Z"
   },
   {
    "duration": 10,
    "start_time": "2023-04-21T16:38:33.102Z"
   },
   {
    "duration": 10,
    "start_time": "2023-04-21T16:38:33.113Z"
   },
   {
    "duration": 30,
    "start_time": "2023-04-21T16:38:33.126Z"
   },
   {
    "duration": 124,
    "start_time": "2023-04-21T16:38:33.158Z"
   },
   {
    "duration": 5,
    "start_time": "2023-04-21T16:38:33.283Z"
   },
   {
    "duration": 1047,
    "start_time": "2023-04-21T16:38:33.289Z"
   },
   {
    "duration": 12595,
    "start_time": "2023-04-21T16:38:34.339Z"
   },
   {
    "duration": 9023,
    "start_time": "2023-04-21T16:38:46.936Z"
   },
   {
    "duration": 3,
    "start_time": "2023-04-21T16:39:05.795Z"
   },
   {
    "duration": 931,
    "start_time": "2023-04-21T16:39:09.525Z"
   },
   {
    "duration": 13241,
    "start_time": "2023-04-21T16:39:13.908Z"
   },
   {
    "duration": 8812,
    "start_time": "2023-04-21T16:39:27.151Z"
   },
   {
    "duration": 3,
    "start_time": "2023-04-21T16:39:50.004Z"
   },
   {
    "duration": 1301,
    "start_time": "2023-04-21T16:39:56.063Z"
   },
   {
    "duration": 41,
    "start_time": "2023-04-21T16:39:57.366Z"
   },
   {
    "duration": 19,
    "start_time": "2023-04-21T16:39:57.408Z"
   },
   {
    "duration": 12,
    "start_time": "2023-04-21T16:39:57.429Z"
   },
   {
    "duration": 30,
    "start_time": "2023-04-21T16:39:57.444Z"
   },
   {
    "duration": 8,
    "start_time": "2023-04-21T16:39:57.475Z"
   },
   {
    "duration": 50,
    "start_time": "2023-04-21T16:39:57.484Z"
   },
   {
    "duration": 4,
    "start_time": "2023-04-21T16:39:57.535Z"
   },
   {
    "duration": 15,
    "start_time": "2023-04-21T16:39:57.540Z"
   },
   {
    "duration": 26,
    "start_time": "2023-04-21T16:39:57.557Z"
   },
   {
    "duration": 12,
    "start_time": "2023-04-21T16:39:57.584Z"
   },
   {
    "duration": 840,
    "start_time": "2023-04-21T16:39:57.598Z"
   },
   {
    "duration": 4,
    "start_time": "2023-04-21T16:39:58.440Z"
   },
   {
    "duration": 5,
    "start_time": "2023-04-21T16:39:58.447Z"
   },
   {
    "duration": 16,
    "start_time": "2023-04-21T16:39:58.453Z"
   },
   {
    "duration": 14,
    "start_time": "2023-04-21T16:39:58.471Z"
   },
   {
    "duration": 10,
    "start_time": "2023-04-21T16:39:58.487Z"
   },
   {
    "duration": 11,
    "start_time": "2023-04-21T16:39:58.499Z"
   },
   {
    "duration": 8,
    "start_time": "2023-04-21T16:39:58.512Z"
   },
   {
    "duration": 27,
    "start_time": "2023-04-21T16:39:58.522Z"
   },
   {
    "duration": 13,
    "start_time": "2023-04-21T16:39:58.551Z"
   },
   {
    "duration": 131,
    "start_time": "2023-04-21T16:39:58.565Z"
   },
   {
    "duration": 2,
    "start_time": "2023-04-21T16:39:58.698Z"
   },
   {
    "duration": 1154,
    "start_time": "2023-04-21T16:39:58.701Z"
   },
   {
    "duration": 13243,
    "start_time": "2023-04-21T16:39:59.857Z"
   },
   {
    "duration": 8658,
    "start_time": "2023-04-21T16:40:13.102Z"
   },
   {
    "duration": 3,
    "start_time": "2023-04-21T16:57:17.320Z"
   },
   {
    "duration": 954,
    "start_time": "2023-04-21T16:57:18.792Z"
   },
   {
    "duration": 12480,
    "start_time": "2023-04-21T16:57:26.888Z"
   },
   {
    "duration": 8990,
    "start_time": "2023-04-21T16:57:39.370Z"
   },
   {
    "duration": 1390,
    "start_time": "2023-04-21T17:18:55.907Z"
   },
   {
    "duration": 40,
    "start_time": "2023-04-21T17:18:57.300Z"
   },
   {
    "duration": 23,
    "start_time": "2023-04-21T17:18:57.342Z"
   },
   {
    "duration": 19,
    "start_time": "2023-04-21T17:18:57.368Z"
   },
   {
    "duration": 12,
    "start_time": "2023-04-21T17:18:57.389Z"
   },
   {
    "duration": 7,
    "start_time": "2023-04-21T17:18:57.402Z"
   },
   {
    "duration": 127,
    "start_time": "2023-04-21T17:18:57.411Z"
   },
   {
    "duration": 6,
    "start_time": "2023-04-21T17:18:57.540Z"
   },
   {
    "duration": 5,
    "start_time": "2023-04-21T17:18:57.548Z"
   },
   {
    "duration": 6,
    "start_time": "2023-04-21T17:18:57.557Z"
   },
   {
    "duration": 20,
    "start_time": "2023-04-21T17:18:57.566Z"
   },
   {
    "duration": 956,
    "start_time": "2023-04-21T17:18:57.588Z"
   },
   {
    "duration": 4,
    "start_time": "2023-04-21T17:18:58.546Z"
   },
   {
    "duration": 21,
    "start_time": "2023-04-21T17:18:58.552Z"
   },
   {
    "duration": 24,
    "start_time": "2023-04-21T17:18:58.575Z"
   },
   {
    "duration": 21,
    "start_time": "2023-04-21T17:18:58.601Z"
   },
   {
    "duration": 19,
    "start_time": "2023-04-21T17:18:58.624Z"
   },
   {
    "duration": 20,
    "start_time": "2023-04-21T17:18:58.644Z"
   },
   {
    "duration": 29,
    "start_time": "2023-04-21T17:18:58.666Z"
   },
   {
    "duration": 18,
    "start_time": "2023-04-21T17:18:58.699Z"
   },
   {
    "duration": 17,
    "start_time": "2023-04-21T17:18:58.718Z"
   },
   {
    "duration": 148,
    "start_time": "2023-04-21T17:18:58.736Z"
   },
   {
    "duration": 4,
    "start_time": "2023-04-21T17:18:58.887Z"
   },
   {
    "duration": 1048,
    "start_time": "2023-04-21T17:18:58.893Z"
   },
   {
    "duration": 14892,
    "start_time": "2023-04-21T17:18:59.942Z"
   },
   {
    "duration": 8038,
    "start_time": "2023-04-21T17:19:14.836Z"
   },
   {
    "duration": 1604,
    "start_time": "2023-04-22T03:49:43.850Z"
   },
   {
    "duration": 84,
    "start_time": "2023-04-22T03:49:45.456Z"
   },
   {
    "duration": 20,
    "start_time": "2023-04-22T03:49:45.541Z"
   },
   {
    "duration": 15,
    "start_time": "2023-04-22T03:49:45.563Z"
   },
   {
    "duration": 15,
    "start_time": "2023-04-22T03:49:45.581Z"
   },
   {
    "duration": 19,
    "start_time": "2023-04-22T03:49:45.598Z"
   },
   {
    "duration": 61,
    "start_time": "2023-04-22T03:49:45.619Z"
   },
   {
    "duration": 9,
    "start_time": "2023-04-22T03:49:45.682Z"
   },
   {
    "duration": 13,
    "start_time": "2023-04-22T03:49:45.692Z"
   },
   {
    "duration": 16,
    "start_time": "2023-04-22T03:49:45.707Z"
   },
   {
    "duration": 20,
    "start_time": "2023-04-22T03:49:45.725Z"
   },
   {
    "duration": 1044,
    "start_time": "2023-04-22T03:49:45.747Z"
   },
   {
    "duration": 7,
    "start_time": "2023-04-22T03:49:46.793Z"
   },
   {
    "duration": 12,
    "start_time": "2023-04-22T03:49:46.804Z"
   },
   {
    "duration": 21,
    "start_time": "2023-04-22T03:49:46.818Z"
   },
   {
    "duration": 25,
    "start_time": "2023-04-22T03:49:46.842Z"
   },
   {
    "duration": 23,
    "start_time": "2023-04-22T03:49:46.869Z"
   },
   {
    "duration": 10,
    "start_time": "2023-04-22T03:49:46.895Z"
   },
   {
    "duration": 7,
    "start_time": "2023-04-22T03:49:46.907Z"
   },
   {
    "duration": 11,
    "start_time": "2023-04-22T03:49:46.916Z"
   },
   {
    "duration": 6,
    "start_time": "2023-04-22T03:49:46.930Z"
   },
   {
    "duration": 165,
    "start_time": "2023-04-22T03:49:46.939Z"
   },
   {
    "duration": 3,
    "start_time": "2023-04-22T03:49:47.106Z"
   },
   {
    "duration": 1256,
    "start_time": "2023-04-22T03:49:47.111Z"
   },
   {
    "duration": 15277,
    "start_time": "2023-04-22T03:49:48.369Z"
   },
   {
    "duration": 9676,
    "start_time": "2023-04-22T03:50:03.648Z"
   },
   {
    "duration": 1423,
    "start_time": "2023-04-22T04:30:47.117Z"
   },
   {
    "duration": 42,
    "start_time": "2023-04-22T04:30:48.542Z"
   },
   {
    "duration": 31,
    "start_time": "2023-04-22T04:30:48.586Z"
   },
   {
    "duration": 14,
    "start_time": "2023-04-22T04:30:48.618Z"
   },
   {
    "duration": 21,
    "start_time": "2023-04-22T04:30:48.634Z"
   },
   {
    "duration": 12,
    "start_time": "2023-04-22T04:30:48.657Z"
   },
   {
    "duration": 67,
    "start_time": "2023-04-22T04:30:48.670Z"
   },
   {
    "duration": 5,
    "start_time": "2023-04-22T04:30:48.739Z"
   },
   {
    "duration": 11,
    "start_time": "2023-04-22T04:30:48.745Z"
   },
   {
    "duration": 9,
    "start_time": "2023-04-22T04:30:48.758Z"
   },
   {
    "duration": 30,
    "start_time": "2023-04-22T04:30:48.769Z"
   },
   {
    "duration": 1007,
    "start_time": "2023-04-22T04:30:48.800Z"
   },
   {
    "duration": 5,
    "start_time": "2023-04-22T04:30:49.809Z"
   },
   {
    "duration": 18,
    "start_time": "2023-04-22T04:30:49.817Z"
   },
   {
    "duration": 15,
    "start_time": "2023-04-22T04:30:49.836Z"
   },
   {
    "duration": 45,
    "start_time": "2023-04-22T04:30:49.853Z"
   },
   {
    "duration": 14,
    "start_time": "2023-04-22T04:30:49.900Z"
   },
   {
    "duration": 21,
    "start_time": "2023-04-22T04:30:49.916Z"
   },
   {
    "duration": 15,
    "start_time": "2023-04-22T04:30:49.939Z"
   },
   {
    "duration": 12,
    "start_time": "2023-04-22T04:30:49.955Z"
   },
   {
    "duration": 26,
    "start_time": "2023-04-22T04:30:49.969Z"
   },
   {
    "duration": 155,
    "start_time": "2023-04-22T04:30:49.998Z"
   },
   {
    "duration": 2,
    "start_time": "2023-04-22T04:30:50.155Z"
   },
   {
    "duration": 1293,
    "start_time": "2023-04-22T04:30:50.159Z"
   },
   {
    "duration": 15076,
    "start_time": "2023-04-22T04:30:51.453Z"
   },
   {
    "duration": 6659,
    "start_time": "2023-04-22T04:31:06.531Z"
   },
   {
    "duration": 160,
    "start_time": "2023-04-22T05:41:23.274Z"
   },
   {
    "duration": 6,
    "start_time": "2023-04-22T05:42:14.900Z"
   },
   {
    "duration": 14,
    "start_time": "2023-04-22T05:42:23.408Z"
   },
   {
    "duration": 1431,
    "start_time": "2023-04-23T02:59:20.933Z"
   },
   {
    "duration": 75,
    "start_time": "2023-04-23T02:59:22.366Z"
   },
   {
    "duration": 17,
    "start_time": "2023-04-23T02:59:22.443Z"
   },
   {
    "duration": 19,
    "start_time": "2023-04-23T02:59:22.461Z"
   },
   {
    "duration": 9,
    "start_time": "2023-04-23T02:59:22.482Z"
   },
   {
    "duration": 9,
    "start_time": "2023-04-23T02:59:22.493Z"
   },
   {
    "duration": 65,
    "start_time": "2023-04-23T02:59:22.503Z"
   },
   {
    "duration": 4,
    "start_time": "2023-04-23T02:59:22.569Z"
   },
   {
    "duration": 20,
    "start_time": "2023-04-23T02:59:22.575Z"
   },
   {
    "duration": 17,
    "start_time": "2023-04-23T02:59:22.596Z"
   },
   {
    "duration": 13,
    "start_time": "2023-04-23T02:59:22.614Z"
   },
   {
    "duration": 871,
    "start_time": "2023-04-23T02:59:22.628Z"
   },
   {
    "duration": 5,
    "start_time": "2023-04-23T02:59:23.501Z"
   },
   {
    "duration": 5,
    "start_time": "2023-04-23T02:59:23.508Z"
   },
   {
    "duration": 15,
    "start_time": "2023-04-23T02:59:23.515Z"
   },
   {
    "duration": 24,
    "start_time": "2023-04-23T02:59:23.532Z"
   },
   {
    "duration": 10,
    "start_time": "2023-04-23T02:59:23.558Z"
   },
   {
    "duration": 16,
    "start_time": "2023-04-23T02:59:23.569Z"
   },
   {
    "duration": 5,
    "start_time": "2023-04-23T02:59:23.586Z"
   },
   {
    "duration": 6,
    "start_time": "2023-04-23T02:59:23.592Z"
   },
   {
    "duration": 5,
    "start_time": "2023-04-23T02:59:23.600Z"
   },
   {
    "duration": 108,
    "start_time": "2023-04-23T02:59:23.606Z"
   },
   {
    "duration": 2,
    "start_time": "2023-04-23T02:59:23.716Z"
   },
   {
    "duration": 978,
    "start_time": "2023-04-23T02:59:23.734Z"
   },
   {
    "duration": 12330,
    "start_time": "2023-04-23T02:59:24.714Z"
   },
   {
    "duration": 6700,
    "start_time": "2023-04-23T02:59:37.045Z"
   },
   {
    "duration": 103,
    "start_time": "2023-04-23T02:59:43.840Z"
   },
   {
    "duration": 130,
    "start_time": "2023-04-23T03:02:21.501Z"
   },
   {
    "duration": 23,
    "start_time": "2023-04-23T03:03:12.162Z"
   },
   {
    "duration": 24,
    "start_time": "2023-04-23T03:03:49.929Z"
   },
   {
    "duration": 357,
    "start_time": "2023-04-23T03:04:51.526Z"
   },
   {
    "duration": 20,
    "start_time": "2023-04-23T03:06:01.990Z"
   },
   {
    "duration": 89,
    "start_time": "2023-04-23T03:07:58.783Z"
   },
   {
    "duration": 105,
    "start_time": "2023-04-23T04:20:50.825Z"
   },
   {
    "duration": 15,
    "start_time": "2023-04-23T04:21:08.284Z"
   },
   {
    "duration": 96,
    "start_time": "2023-04-23T04:21:09.068Z"
   },
   {
    "duration": 109,
    "start_time": "2023-04-23T04:24:45.130Z"
   },
   {
    "duration": 11,
    "start_time": "2023-04-23T04:25:00.876Z"
   },
   {
    "duration": 104,
    "start_time": "2023-04-23T04:25:01.748Z"
   },
   {
    "duration": 99,
    "start_time": "2023-04-23T04:25:23.689Z"
   },
   {
    "duration": 16,
    "start_time": "2023-04-23T04:25:30.463Z"
   },
   {
    "duration": 115,
    "start_time": "2023-04-23T04:25:31.168Z"
   },
   {
    "duration": 11,
    "start_time": "2023-04-23T04:25:35.513Z"
   },
   {
    "duration": 94,
    "start_time": "2023-04-23T04:25:37.104Z"
   },
   {
    "duration": 10,
    "start_time": "2023-04-23T04:32:54.814Z"
   },
   {
    "duration": 222,
    "start_time": "2023-04-23T04:32:56.662Z"
   },
   {
    "duration": 100,
    "start_time": "2023-04-23T04:33:16.400Z"
   },
   {
    "duration": 11,
    "start_time": "2023-04-23T04:35:47.457Z"
   },
   {
    "duration": 99,
    "start_time": "2023-04-23T04:35:47.968Z"
   },
   {
    "duration": 10,
    "start_time": "2023-04-23T04:37:18.794Z"
   },
   {
    "duration": 56,
    "start_time": "2023-04-23T04:48:57.771Z"
   },
   {
    "duration": 24,
    "start_time": "2023-04-23T04:53:40.271Z"
   },
   {
    "duration": 339,
    "start_time": "2023-04-23T04:54:21.999Z"
   },
   {
    "duration": 24,
    "start_time": "2023-04-23T04:54:49.575Z"
   },
   {
    "duration": 1012,
    "start_time": "2023-04-23T05:10:49.613Z"
   },
   {
    "duration": 1082,
    "start_time": "2023-04-23T05:11:13.423Z"
   },
   {
    "duration": 950,
    "start_time": "2023-04-23T05:11:57.244Z"
   },
   {
    "duration": 12307,
    "start_time": "2023-04-23T05:12:27.933Z"
   },
   {
    "duration": 12040,
    "start_time": "2023-04-23T05:12:58.430Z"
   },
   {
    "duration": 6998,
    "start_time": "2023-04-23T05:13:32.438Z"
   },
   {
    "duration": 6742,
    "start_time": "2023-04-23T05:13:57.999Z"
   },
   {
    "duration": 1215,
    "start_time": "2023-04-23T05:21:23.997Z"
   },
   {
    "duration": 18058,
    "start_time": "2023-04-23T05:22:04.068Z"
   },
   {
    "duration": 7019,
    "start_time": "2023-04-23T05:22:31.120Z"
   },
   {
    "duration": 1277,
    "start_time": "2023-04-23T05:23:11.374Z"
   },
   {
    "duration": 40,
    "start_time": "2023-04-23T05:23:12.653Z"
   },
   {
    "duration": 18,
    "start_time": "2023-04-23T05:23:12.694Z"
   },
   {
    "duration": 14,
    "start_time": "2023-04-23T05:23:12.714Z"
   },
   {
    "duration": 16,
    "start_time": "2023-04-23T05:23:12.730Z"
   },
   {
    "duration": 7,
    "start_time": "2023-04-23T05:23:12.747Z"
   },
   {
    "duration": 53,
    "start_time": "2023-04-23T05:23:12.755Z"
   },
   {
    "duration": 4,
    "start_time": "2023-04-23T05:23:12.810Z"
   },
   {
    "duration": 4,
    "start_time": "2023-04-23T05:23:12.835Z"
   },
   {
    "duration": 9,
    "start_time": "2023-04-23T05:23:12.840Z"
   },
   {
    "duration": 13,
    "start_time": "2023-04-23T05:23:12.850Z"
   },
   {
    "duration": 935,
    "start_time": "2023-04-23T05:23:12.864Z"
   },
   {
    "duration": 5,
    "start_time": "2023-04-23T05:23:13.801Z"
   },
   {
    "duration": 5,
    "start_time": "2023-04-23T05:23:13.809Z"
   },
   {
    "duration": 14,
    "start_time": "2023-04-23T05:23:13.816Z"
   },
   {
    "duration": 19,
    "start_time": "2023-04-23T05:23:13.832Z"
   },
   {
    "duration": 11,
    "start_time": "2023-04-23T05:23:13.853Z"
   },
   {
    "duration": 8,
    "start_time": "2023-04-23T05:23:13.865Z"
   },
   {
    "duration": 7,
    "start_time": "2023-04-23T05:23:13.875Z"
   },
   {
    "duration": 14,
    "start_time": "2023-04-23T05:23:13.883Z"
   },
   {
    "duration": 6,
    "start_time": "2023-04-23T05:23:13.899Z"
   },
   {
    "duration": 130,
    "start_time": "2023-04-23T05:23:13.907Z"
   },
   {
    "duration": 3,
    "start_time": "2023-04-23T05:23:14.038Z"
   },
   {
    "duration": 1131,
    "start_time": "2023-04-23T05:23:14.043Z"
   },
   {
    "duration": 12343,
    "start_time": "2023-04-23T05:23:15.175Z"
   },
   {
    "duration": 6921,
    "start_time": "2023-04-23T05:23:27.519Z"
   },
   {
    "duration": 207,
    "start_time": "2023-04-23T05:23:34.442Z"
   },
   {
    "duration": 389,
    "start_time": "2023-04-23T05:23:34.651Z"
   },
   {
    "duration": 94,
    "start_time": "2023-04-23T05:23:35.042Z"
   },
   {
    "duration": 1048,
    "start_time": "2023-04-23T05:23:35.138Z"
   },
   {
    "duration": 12255,
    "start_time": "2023-04-23T05:23:36.188Z"
   },
   {
    "duration": 7291,
    "start_time": "2023-04-23T05:23:48.444Z"
   },
   {
    "duration": 101,
    "start_time": "2023-04-23T05:23:55.738Z"
   },
   {
    "duration": 96,
    "start_time": "2023-04-23T05:23:55.840Z"
   },
   {
    "duration": 1167,
    "start_time": "2023-04-23T05:23:55.937Z"
   },
   {
    "duration": 17476,
    "start_time": "2023-04-23T05:23:57.106Z"
   },
   {
    "duration": 7,
    "start_time": "2023-04-23T05:24:14.584Z"
   },
   {
    "duration": 0,
    "start_time": "2023-04-23T05:24:14.592Z"
   },
   {
    "duration": 0,
    "start_time": "2023-04-23T05:24:14.594Z"
   },
   {
    "duration": 1274,
    "start_time": "2023-04-23T05:59:52.425Z"
   },
   {
    "duration": 39,
    "start_time": "2023-04-23T05:59:53.700Z"
   },
   {
    "duration": 17,
    "start_time": "2023-04-23T05:59:53.741Z"
   },
   {
    "duration": 20,
    "start_time": "2023-04-23T05:59:53.760Z"
   },
   {
    "duration": 10,
    "start_time": "2023-04-23T05:59:53.782Z"
   },
   {
    "duration": 6,
    "start_time": "2023-04-23T05:59:53.794Z"
   },
   {
    "duration": 65,
    "start_time": "2023-04-23T05:59:53.802Z"
   },
   {
    "duration": 5,
    "start_time": "2023-04-23T05:59:53.868Z"
   },
   {
    "duration": 10,
    "start_time": "2023-04-23T05:59:53.874Z"
   },
   {
    "duration": 6,
    "start_time": "2023-04-23T05:59:53.887Z"
   },
   {
    "duration": 21,
    "start_time": "2023-04-23T05:59:53.895Z"
   },
   {
    "duration": 858,
    "start_time": "2023-04-23T05:59:53.917Z"
   },
   {
    "duration": 5,
    "start_time": "2023-04-23T05:59:54.777Z"
   },
   {
    "duration": 13,
    "start_time": "2023-04-23T05:59:54.784Z"
   },
   {
    "duration": 26,
    "start_time": "2023-04-23T05:59:54.799Z"
   },
   {
    "duration": 26,
    "start_time": "2023-04-23T05:59:54.826Z"
   },
   {
    "duration": 13,
    "start_time": "2023-04-23T05:59:54.853Z"
   },
   {
    "duration": 13,
    "start_time": "2023-04-23T05:59:54.868Z"
   },
   {
    "duration": 8,
    "start_time": "2023-04-23T05:59:54.883Z"
   },
   {
    "duration": 12,
    "start_time": "2023-04-23T05:59:54.893Z"
   },
   {
    "duration": 13,
    "start_time": "2023-04-23T05:59:54.907Z"
   },
   {
    "duration": 111,
    "start_time": "2023-04-23T05:59:54.922Z"
   },
   {
    "duration": 2,
    "start_time": "2023-04-23T05:59:55.035Z"
   },
   {
    "duration": 968,
    "start_time": "2023-04-23T05:59:55.039Z"
   },
   {
    "duration": 12390,
    "start_time": "2023-04-23T05:59:56.009Z"
   },
   {
    "duration": 6750,
    "start_time": "2023-04-23T06:00:08.400Z"
   },
   {
    "duration": 199,
    "start_time": "2023-04-23T06:00:15.152Z"
   },
   {
    "duration": 417,
    "start_time": "2023-04-23T06:00:15.354Z"
   },
   {
    "duration": 62,
    "start_time": "2023-04-23T06:00:15.773Z"
   },
   {
    "duration": 1211,
    "start_time": "2023-04-23T06:00:15.837Z"
   },
   {
    "duration": 12758,
    "start_time": "2023-04-23T06:00:17.050Z"
   },
   {
    "duration": 7226,
    "start_time": "2023-04-23T06:00:29.809Z"
   },
   {
    "duration": 97,
    "start_time": "2023-04-23T06:00:37.038Z"
   },
   {
    "duration": 129,
    "start_time": "2023-04-23T06:00:37.136Z"
   },
   {
    "duration": 1247,
    "start_time": "2023-04-23T06:00:37.267Z"
   },
   {
    "duration": 18795,
    "start_time": "2023-04-23T06:00:38.516Z"
   },
   {
    "duration": 5,
    "start_time": "2023-04-23T06:00:57.312Z"
   },
   {
    "duration": 0,
    "start_time": "2023-04-23T06:00:57.318Z"
   },
   {
    "duration": 0,
    "start_time": "2023-04-23T06:00:57.320Z"
   },
   {
    "duration": 9433,
    "start_time": "2023-04-23T07:37:47.700Z"
   },
   {
    "duration": 8975,
    "start_time": "2023-04-23T07:43:42.369Z"
   },
   {
    "duration": 104,
    "start_time": "2023-04-23T07:44:59.343Z"
   },
   {
    "duration": 1318,
    "start_time": "2023-04-23T07:45:06.020Z"
   },
   {
    "duration": 38,
    "start_time": "2023-04-23T07:45:07.341Z"
   },
   {
    "duration": 16,
    "start_time": "2023-04-23T07:45:07.381Z"
   },
   {
    "duration": 11,
    "start_time": "2023-04-23T07:45:07.399Z"
   },
   {
    "duration": 10,
    "start_time": "2023-04-23T07:45:07.411Z"
   },
   {
    "duration": 13,
    "start_time": "2023-04-23T07:45:07.422Z"
   },
   {
    "duration": 56,
    "start_time": "2023-04-23T07:45:07.436Z"
   },
   {
    "duration": 5,
    "start_time": "2023-04-23T07:45:07.493Z"
   },
   {
    "duration": 7,
    "start_time": "2023-04-23T07:45:07.499Z"
   },
   {
    "duration": 8,
    "start_time": "2023-04-23T07:45:07.507Z"
   },
   {
    "duration": 33,
    "start_time": "2023-04-23T07:45:07.516Z"
   },
   {
    "duration": 900,
    "start_time": "2023-04-23T07:45:07.551Z"
   },
   {
    "duration": 6,
    "start_time": "2023-04-23T07:45:08.453Z"
   },
   {
    "duration": 14,
    "start_time": "2023-04-23T07:45:08.462Z"
   },
   {
    "duration": 11,
    "start_time": "2023-04-23T07:45:08.478Z"
   },
   {
    "duration": 19,
    "start_time": "2023-04-23T07:45:08.491Z"
   },
   {
    "duration": 11,
    "start_time": "2023-04-23T07:45:08.511Z"
   },
   {
    "duration": 11,
    "start_time": "2023-04-23T07:45:08.523Z"
   },
   {
    "duration": 5,
    "start_time": "2023-04-23T07:45:08.536Z"
   },
   {
    "duration": 25,
    "start_time": "2023-04-23T07:45:08.543Z"
   },
   {
    "duration": 9,
    "start_time": "2023-04-23T07:45:08.569Z"
   },
   {
    "duration": 123,
    "start_time": "2023-04-23T07:45:08.579Z"
   },
   {
    "duration": 3,
    "start_time": "2023-04-23T07:45:08.703Z"
   },
   {
    "duration": 977,
    "start_time": "2023-04-23T07:45:08.707Z"
   },
   {
    "duration": 13226,
    "start_time": "2023-04-23T07:45:09.685Z"
   },
   {
    "duration": 6831,
    "start_time": "2023-04-23T07:45:22.912Z"
   },
   {
    "duration": 202,
    "start_time": "2023-04-23T07:45:29.745Z"
   },
   {
    "duration": 363,
    "start_time": "2023-04-23T07:45:29.948Z"
   },
   {
    "duration": 35,
    "start_time": "2023-04-23T07:45:30.312Z"
   },
   {
    "duration": 1222,
    "start_time": "2023-04-23T07:45:30.349Z"
   },
   {
    "duration": 12426,
    "start_time": "2023-04-23T07:45:31.573Z"
   },
   {
    "duration": 7035,
    "start_time": "2023-04-23T07:45:44.001Z"
   },
   {
    "duration": 101,
    "start_time": "2023-04-23T07:45:51.039Z"
   },
   {
    "duration": 108,
    "start_time": "2023-04-23T07:45:51.142Z"
   },
   {
    "duration": 1237,
    "start_time": "2023-04-23T07:45:51.252Z"
   },
   {
    "duration": 17129,
    "start_time": "2023-04-23T07:45:52.491Z"
   },
   {
    "duration": 9126,
    "start_time": "2023-04-23T07:46:09.621Z"
   },
   {
    "duration": 186,
    "start_time": "2023-04-23T07:46:18.749Z"
   },
   {
    "duration": 116,
    "start_time": "2023-04-23T07:46:18.936Z"
   },
   {
    "duration": 504,
    "start_time": "2023-04-23T07:46:19.054Z"
   },
   {
    "duration": 6604,
    "start_time": "2023-04-23T07:46:19.561Z"
   },
   {
    "duration": 4775,
    "start_time": "2023-04-23T07:46:26.167Z"
   },
   {
    "duration": 1274,
    "start_time": "2023-04-23T07:48:46.997Z"
   },
   {
    "duration": 38,
    "start_time": "2023-04-23T07:48:48.272Z"
   },
   {
    "duration": 15,
    "start_time": "2023-04-23T07:48:48.312Z"
   },
   {
    "duration": 17,
    "start_time": "2023-04-23T07:48:48.329Z"
   },
   {
    "duration": 22,
    "start_time": "2023-04-23T07:48:48.348Z"
   },
   {
    "duration": 22,
    "start_time": "2023-04-23T07:48:48.371Z"
   },
   {
    "duration": 63,
    "start_time": "2023-04-23T07:48:48.394Z"
   },
   {
    "duration": 4,
    "start_time": "2023-04-23T07:48:48.458Z"
   },
   {
    "duration": 10,
    "start_time": "2023-04-23T07:48:48.464Z"
   },
   {
    "duration": 16,
    "start_time": "2023-04-23T07:48:48.475Z"
   },
   {
    "duration": 36,
    "start_time": "2023-04-23T07:48:48.492Z"
   },
   {
    "duration": 876,
    "start_time": "2023-04-23T07:48:48.530Z"
   },
   {
    "duration": 5,
    "start_time": "2023-04-23T07:48:49.407Z"
   },
   {
    "duration": 8,
    "start_time": "2023-04-23T07:48:49.415Z"
   },
   {
    "duration": 12,
    "start_time": "2023-04-23T07:48:49.424Z"
   },
   {
    "duration": 20,
    "start_time": "2023-04-23T07:48:49.437Z"
   },
   {
    "duration": 11,
    "start_time": "2023-04-23T07:48:49.459Z"
   },
   {
    "duration": 8,
    "start_time": "2023-04-23T07:48:49.472Z"
   },
   {
    "duration": 8,
    "start_time": "2023-04-23T07:48:49.482Z"
   },
   {
    "duration": 7,
    "start_time": "2023-04-23T07:48:49.491Z"
   },
   {
    "duration": 6,
    "start_time": "2023-04-23T07:48:49.499Z"
   },
   {
    "duration": 134,
    "start_time": "2023-04-23T07:48:49.507Z"
   },
   {
    "duration": 3,
    "start_time": "2023-04-23T07:48:49.642Z"
   },
   {
    "duration": 1027,
    "start_time": "2023-04-23T07:48:49.646Z"
   },
   {
    "duration": 12437,
    "start_time": "2023-04-23T07:48:50.675Z"
   },
   {
    "duration": 6729,
    "start_time": "2023-04-23T07:49:03.113Z"
   },
   {
    "duration": 198,
    "start_time": "2023-04-23T07:49:09.844Z"
   },
   {
    "duration": 454,
    "start_time": "2023-04-23T07:49:10.044Z"
   },
   {
    "duration": 17,
    "start_time": "2023-04-23T07:49:10.500Z"
   },
   {
    "duration": 1116,
    "start_time": "2023-04-23T07:49:10.518Z"
   },
   {
    "duration": 12488,
    "start_time": "2023-04-23T07:49:11.635Z"
   },
   {
    "duration": 7015,
    "start_time": "2023-04-23T07:49:24.125Z"
   },
   {
    "duration": 98,
    "start_time": "2023-04-23T07:49:31.142Z"
   },
   {
    "duration": 194,
    "start_time": "2023-04-23T07:49:31.242Z"
   },
   {
    "duration": 1196,
    "start_time": "2023-04-23T07:49:31.438Z"
   },
   {
    "duration": 17333,
    "start_time": "2023-04-23T07:49:32.636Z"
   },
   {
    "duration": 8979,
    "start_time": "2023-04-23T07:49:49.970Z"
   },
   {
    "duration": 91,
    "start_time": "2023-04-23T07:49:58.951Z"
   },
   {
    "duration": 194,
    "start_time": "2023-04-23T07:49:59.044Z"
   },
   {
    "duration": 464,
    "start_time": "2023-04-23T07:49:59.240Z"
   },
   {
    "duration": 6604,
    "start_time": "2023-04-23T07:49:59.707Z"
   },
   {
    "duration": 4827,
    "start_time": "2023-04-23T07:50:06.312Z"
   },
   {
    "duration": 2,
    "start_time": "2023-04-23T08:14:34.119Z"
   },
   {
    "duration": 1282,
    "start_time": "2023-04-23T08:14:41.127Z"
   },
   {
    "duration": 38,
    "start_time": "2023-04-23T08:14:42.412Z"
   },
   {
    "duration": 18,
    "start_time": "2023-04-23T08:14:42.453Z"
   },
   {
    "duration": 12,
    "start_time": "2023-04-23T08:14:42.473Z"
   },
   {
    "duration": 11,
    "start_time": "2023-04-23T08:14:42.486Z"
   },
   {
    "duration": 7,
    "start_time": "2023-04-23T08:14:42.498Z"
   },
   {
    "duration": 73,
    "start_time": "2023-04-23T08:14:42.507Z"
   },
   {
    "duration": 4,
    "start_time": "2023-04-23T08:14:42.581Z"
   },
   {
    "duration": 6,
    "start_time": "2023-04-23T08:14:42.586Z"
   },
   {
    "duration": 6,
    "start_time": "2023-04-23T08:14:42.594Z"
   },
   {
    "duration": 11,
    "start_time": "2023-04-23T08:14:42.601Z"
   },
   {
    "duration": 805,
    "start_time": "2023-04-23T08:14:42.634Z"
   },
   {
    "duration": 4,
    "start_time": "2023-04-23T08:14:43.442Z"
   },
   {
    "duration": 9,
    "start_time": "2023-04-23T08:14:43.447Z"
   },
   {
    "duration": 11,
    "start_time": "2023-04-23T08:14:43.457Z"
   },
   {
    "duration": 18,
    "start_time": "2023-04-23T08:14:43.469Z"
   },
   {
    "duration": 11,
    "start_time": "2023-04-23T08:14:43.488Z"
   },
   {
    "duration": 6,
    "start_time": "2023-04-23T08:14:43.500Z"
   },
   {
    "duration": 29,
    "start_time": "2023-04-23T08:14:43.507Z"
   },
   {
    "duration": 10,
    "start_time": "2023-04-23T08:14:43.537Z"
   },
   {
    "duration": 7,
    "start_time": "2023-04-23T08:14:43.549Z"
   },
   {
    "duration": 100,
    "start_time": "2023-04-23T08:14:43.557Z"
   },
   {
    "duration": 3,
    "start_time": "2023-04-23T08:14:43.658Z"
   },
   {
    "duration": 987,
    "start_time": "2023-04-23T08:14:43.662Z"
   },
   {
    "duration": 12677,
    "start_time": "2023-04-23T08:14:44.651Z"
   },
   {
    "duration": 7006,
    "start_time": "2023-04-23T08:14:57.329Z"
   },
   {
    "duration": 114,
    "start_time": "2023-04-23T08:15:04.337Z"
   },
   {
    "duration": 363,
    "start_time": "2023-04-23T08:15:04.453Z"
   },
   {
    "duration": 26,
    "start_time": "2023-04-23T08:15:04.818Z"
   },
   {
    "duration": 1166,
    "start_time": "2023-04-23T08:15:04.847Z"
   },
   {
    "duration": 12229,
    "start_time": "2023-04-23T08:15:06.015Z"
   },
   {
    "duration": 6895,
    "start_time": "2023-04-23T08:15:18.246Z"
   },
   {
    "duration": 102,
    "start_time": "2023-04-23T08:15:25.146Z"
   },
   {
    "duration": 204,
    "start_time": "2023-04-23T08:15:25.249Z"
   },
   {
    "duration": 1175,
    "start_time": "2023-04-23T08:15:25.456Z"
   },
   {
    "duration": 16750,
    "start_time": "2023-04-23T08:15:26.633Z"
   },
   {
    "duration": 9257,
    "start_time": "2023-04-23T08:15:43.384Z"
   },
   {
    "duration": 102,
    "start_time": "2023-04-23T08:15:52.643Z"
   },
   {
    "duration": 193,
    "start_time": "2023-04-23T08:15:52.747Z"
   },
   {
    "duration": 462,
    "start_time": "2023-04-23T08:15:52.943Z"
   },
   {
    "duration": 6434,
    "start_time": "2023-04-23T08:15:53.407Z"
   },
   {
    "duration": 5299,
    "start_time": "2023-04-23T08:15:59.842Z"
   },
   {
    "duration": 1220,
    "start_time": "2023-04-23T08:21:05.487Z"
   },
   {
    "duration": 38,
    "start_time": "2023-04-23T08:21:06.709Z"
   },
   {
    "duration": 16,
    "start_time": "2023-04-23T08:21:06.748Z"
   },
   {
    "duration": 35,
    "start_time": "2023-04-23T08:21:06.766Z"
   },
   {
    "duration": 35,
    "start_time": "2023-04-23T08:21:06.802Z"
   },
   {
    "duration": 31,
    "start_time": "2023-04-23T08:21:06.838Z"
   },
   {
    "duration": 63,
    "start_time": "2023-04-23T08:21:06.871Z"
   },
   {
    "duration": 5,
    "start_time": "2023-04-23T08:21:06.936Z"
   },
   {
    "duration": 54,
    "start_time": "2023-04-23T08:21:06.942Z"
   },
   {
    "duration": 18,
    "start_time": "2023-04-23T08:21:06.999Z"
   },
   {
    "duration": 41,
    "start_time": "2023-04-23T08:21:07.019Z"
   },
   {
    "duration": 825,
    "start_time": "2023-04-23T08:21:07.062Z"
   },
   {
    "duration": 4,
    "start_time": "2023-04-23T08:21:07.889Z"
   },
   {
    "duration": 17,
    "start_time": "2023-04-23T08:21:07.894Z"
   },
   {
    "duration": 39,
    "start_time": "2023-04-23T08:21:07.912Z"
   },
   {
    "duration": 31,
    "start_time": "2023-04-23T08:21:07.953Z"
   },
   {
    "duration": 10,
    "start_time": "2023-04-23T08:21:07.986Z"
   },
   {
    "duration": 23,
    "start_time": "2023-04-23T08:21:07.997Z"
   },
   {
    "duration": 19,
    "start_time": "2023-04-23T08:21:08.021Z"
   },
   {
    "duration": 34,
    "start_time": "2023-04-23T08:21:08.042Z"
   },
   {
    "duration": 26,
    "start_time": "2023-04-23T08:21:08.077Z"
   },
   {
    "duration": 128,
    "start_time": "2023-04-23T08:21:08.104Z"
   },
   {
    "duration": 3,
    "start_time": "2023-04-23T08:21:08.233Z"
   },
   {
    "duration": 947,
    "start_time": "2023-04-23T08:21:08.237Z"
   },
   {
    "duration": 12991,
    "start_time": "2023-04-23T08:21:09.186Z"
   },
   {
    "duration": 6961,
    "start_time": "2023-04-23T08:21:22.178Z"
   },
   {
    "duration": 202,
    "start_time": "2023-04-23T08:21:29.141Z"
   },
   {
    "duration": 412,
    "start_time": "2023-04-23T08:21:29.346Z"
   },
   {
    "duration": 19,
    "start_time": "2023-04-23T08:21:29.760Z"
   },
   {
    "duration": 1143,
    "start_time": "2023-04-23T08:21:29.780Z"
   },
   {
    "duration": 13063,
    "start_time": "2023-04-23T08:21:30.924Z"
   },
   {
    "duration": 7451,
    "start_time": "2023-04-23T08:21:43.989Z"
   },
   {
    "duration": 193,
    "start_time": "2023-04-23T08:21:51.442Z"
   },
   {
    "duration": 102,
    "start_time": "2023-04-23T08:21:51.636Z"
   },
   {
    "duration": 1209,
    "start_time": "2023-04-23T08:21:51.740Z"
   },
   {
    "duration": 1308,
    "start_time": "2023-04-23T08:22:04.709Z"
   },
   {
    "duration": 39,
    "start_time": "2023-04-23T08:22:06.018Z"
   },
   {
    "duration": 17,
    "start_time": "2023-04-23T08:22:06.058Z"
   },
   {
    "duration": 12,
    "start_time": "2023-04-23T08:22:06.077Z"
   },
   {
    "duration": 11,
    "start_time": "2023-04-23T08:22:06.091Z"
   },
   {
    "duration": 6,
    "start_time": "2023-04-23T08:22:06.103Z"
   },
   {
    "duration": 68,
    "start_time": "2023-04-23T08:22:06.110Z"
   },
   {
    "duration": 4,
    "start_time": "2023-04-23T08:22:06.180Z"
   },
   {
    "duration": 35,
    "start_time": "2023-04-23T08:22:06.185Z"
   },
   {
    "duration": 14,
    "start_time": "2023-04-23T08:22:06.221Z"
   },
   {
    "duration": 11,
    "start_time": "2023-04-23T08:22:06.236Z"
   },
   {
    "duration": 838,
    "start_time": "2023-04-23T08:22:06.249Z"
   },
   {
    "duration": 4,
    "start_time": "2023-04-23T08:22:07.089Z"
   },
   {
    "duration": 18,
    "start_time": "2023-04-23T08:22:07.095Z"
   },
   {
    "duration": 23,
    "start_time": "2023-04-23T08:22:07.114Z"
   },
   {
    "duration": 32,
    "start_time": "2023-04-23T08:22:07.139Z"
   },
   {
    "duration": 11,
    "start_time": "2023-04-23T08:22:07.173Z"
   },
   {
    "duration": 21,
    "start_time": "2023-04-23T08:22:07.186Z"
   },
   {
    "duration": 10,
    "start_time": "2023-04-23T08:22:07.208Z"
   },
   {
    "duration": 8,
    "start_time": "2023-04-23T08:22:07.220Z"
   },
   {
    "duration": 9,
    "start_time": "2023-04-23T08:22:07.229Z"
   },
   {
    "duration": 103,
    "start_time": "2023-04-23T08:22:07.239Z"
   },
   {
    "duration": 3,
    "start_time": "2023-04-23T08:22:07.343Z"
   },
   {
    "duration": 956,
    "start_time": "2023-04-23T08:22:07.347Z"
   },
   {
    "duration": 13180,
    "start_time": "2023-04-23T08:22:08.304Z"
   },
   {
    "duration": 6651,
    "start_time": "2023-04-23T08:22:21.485Z"
   },
   {
    "duration": 109,
    "start_time": "2023-04-23T08:22:28.138Z"
   },
   {
    "duration": 459,
    "start_time": "2023-04-23T08:22:28.251Z"
   },
   {
    "duration": 26,
    "start_time": "2023-04-23T08:22:28.712Z"
   },
   {
    "duration": 1136,
    "start_time": "2023-04-23T08:22:28.741Z"
   },
   {
    "duration": 12012,
    "start_time": "2023-04-23T08:22:29.878Z"
   },
   {
    "duration": 7143,
    "start_time": "2023-04-23T08:22:41.891Z"
   },
   {
    "duration": 98,
    "start_time": "2023-04-23T08:22:49.037Z"
   },
   {
    "duration": 128,
    "start_time": "2023-04-23T08:22:49.137Z"
   },
   {
    "duration": 1344,
    "start_time": "2023-04-23T08:22:49.267Z"
   },
   {
    "duration": 16688,
    "start_time": "2023-04-23T08:22:50.613Z"
   },
   {
    "duration": 9336,
    "start_time": "2023-04-23T08:23:07.303Z"
   },
   {
    "duration": 98,
    "start_time": "2023-04-23T08:23:16.641Z"
   },
   {
    "duration": 199,
    "start_time": "2023-04-23T08:23:16.743Z"
   },
   {
    "duration": 463,
    "start_time": "2023-04-23T08:23:16.943Z"
   },
   {
    "duration": 6374,
    "start_time": "2023-04-23T08:23:17.409Z"
   },
   {
    "duration": 4854,
    "start_time": "2023-04-23T08:23:23.785Z"
   },
   {
    "duration": 1385,
    "start_time": "2023-04-23T08:34:28.459Z"
   },
   {
    "duration": 38,
    "start_time": "2023-04-23T08:34:29.846Z"
   },
   {
    "duration": 16,
    "start_time": "2023-04-23T08:34:29.886Z"
   },
   {
    "duration": 11,
    "start_time": "2023-04-23T08:34:29.903Z"
   },
   {
    "duration": 9,
    "start_time": "2023-04-23T08:34:29.915Z"
   },
   {
    "duration": 10,
    "start_time": "2023-04-23T08:34:29.925Z"
   },
   {
    "duration": 44,
    "start_time": "2023-04-23T08:34:29.936Z"
   },
   {
    "duration": 4,
    "start_time": "2023-04-23T08:34:29.982Z"
   },
   {
    "duration": 13,
    "start_time": "2023-04-23T08:34:29.987Z"
   },
   {
    "duration": 24,
    "start_time": "2023-04-23T08:34:30.003Z"
   },
   {
    "duration": 32,
    "start_time": "2023-04-23T08:34:30.028Z"
   },
   {
    "duration": 869,
    "start_time": "2023-04-23T08:34:30.062Z"
   },
   {
    "duration": 6,
    "start_time": "2023-04-23T08:34:30.933Z"
   },
   {
    "duration": 55,
    "start_time": "2023-04-23T08:34:30.941Z"
   },
   {
    "duration": 70,
    "start_time": "2023-04-23T08:34:30.998Z"
   },
   {
    "duration": 64,
    "start_time": "2023-04-23T08:34:31.070Z"
   },
   {
    "duration": 75,
    "start_time": "2023-04-23T08:34:31.135Z"
   },
   {
    "duration": 47,
    "start_time": "2023-04-23T08:34:31.212Z"
   },
   {
    "duration": 40,
    "start_time": "2023-04-23T08:34:31.260Z"
   },
   {
    "duration": 30,
    "start_time": "2023-04-23T08:34:31.302Z"
   },
   {
    "duration": 39,
    "start_time": "2023-04-23T08:34:31.333Z"
   },
   {
    "duration": 172,
    "start_time": "2023-04-23T08:34:31.373Z"
   },
   {
    "duration": 3,
    "start_time": "2023-04-23T08:34:31.546Z"
   },
   {
    "duration": 991,
    "start_time": "2023-04-23T08:34:31.550Z"
   },
   {
    "duration": 12541,
    "start_time": "2023-04-23T08:34:32.542Z"
   },
   {
    "duration": 6959,
    "start_time": "2023-04-23T08:34:45.085Z"
   },
   {
    "duration": 199,
    "start_time": "2023-04-23T08:34:52.046Z"
   },
   {
    "duration": 544,
    "start_time": "2023-04-23T08:34:52.248Z"
   },
   {
    "duration": 41,
    "start_time": "2023-04-23T08:34:52.794Z"
   },
   {
    "duration": 1082,
    "start_time": "2023-04-23T08:34:52.838Z"
   },
   {
    "duration": 12183,
    "start_time": "2023-04-23T08:34:53.922Z"
   },
   {
    "duration": 7030,
    "start_time": "2023-04-23T08:35:06.106Z"
   },
   {
    "duration": 102,
    "start_time": "2023-04-23T08:35:13.139Z"
   },
   {
    "duration": 118,
    "start_time": "2023-04-23T08:35:13.242Z"
   },
   {
    "duration": 1319,
    "start_time": "2023-04-23T08:35:13.362Z"
   },
   {
    "duration": 17334,
    "start_time": "2023-04-23T08:35:14.683Z"
   },
   {
    "duration": 9122,
    "start_time": "2023-04-23T08:35:32.018Z"
   },
   {
    "duration": 101,
    "start_time": "2023-04-23T08:35:41.142Z"
   },
   {
    "duration": 194,
    "start_time": "2023-04-23T08:35:41.245Z"
   },
   {
    "duration": 451,
    "start_time": "2023-04-23T08:35:41.440Z"
   },
   {
    "duration": 6844,
    "start_time": "2023-04-23T08:35:41.893Z"
   },
   {
    "duration": 5403,
    "start_time": "2023-04-23T08:35:48.739Z"
   },
   {
    "duration": 117,
    "start_time": "2023-04-23T08:41:41.017Z"
   },
   {
    "duration": 1276,
    "start_time": "2023-04-23T08:41:51.033Z"
   },
   {
    "duration": 8063,
    "start_time": "2023-04-23T08:42:03.377Z"
   },
   {
    "duration": 29244,
    "start_time": "2023-04-23T08:42:36.833Z"
   },
   {
    "duration": 33479,
    "start_time": "2023-04-23T08:43:20.370Z"
   },
   {
    "duration": 33246,
    "start_time": "2023-04-23T08:44:13.235Z"
   },
   {
    "duration": 56045,
    "start_time": "2023-04-23T08:46:01.868Z"
   },
   {
    "duration": 33477,
    "start_time": "2023-04-23T08:47:45.085Z"
   },
   {
    "duration": 1715,
    "start_time": "2023-04-23T08:48:32.693Z"
   },
   {
    "duration": 15,
    "start_time": "2023-04-23T08:48:54.438Z"
   },
   {
    "duration": 1000,
    "start_time": "2023-04-23T08:49:00.552Z"
   },
   {
    "duration": 229,
    "start_time": "2023-04-23T08:49:18.265Z"
   },
   {
    "duration": 143,
    "start_time": "2023-04-23T08:49:43.656Z"
   },
   {
    "duration": 6746,
    "start_time": "2023-04-23T08:51:53.393Z"
   },
   {
    "duration": 70,
    "start_time": "2023-04-23T10:39:00.669Z"
   },
   {
    "duration": 1699,
    "start_time": "2023-04-23T10:39:27.118Z"
   },
   {
    "duration": 105,
    "start_time": "2023-04-23T10:39:28.820Z"
   },
   {
    "duration": 30,
    "start_time": "2023-04-23T10:39:28.930Z"
   },
   {
    "duration": 19,
    "start_time": "2023-04-23T10:39:28.963Z"
   },
   {
    "duration": 15,
    "start_time": "2023-04-23T10:39:28.987Z"
   },
   {
    "duration": 9,
    "start_time": "2023-04-23T10:39:29.004Z"
   },
   {
    "duration": 86,
    "start_time": "2023-04-23T10:39:29.014Z"
   },
   {
    "duration": 5,
    "start_time": "2023-04-23T10:39:29.102Z"
   },
   {
    "duration": 18,
    "start_time": "2023-04-23T10:39:29.108Z"
   },
   {
    "duration": 26,
    "start_time": "2023-04-23T10:39:29.128Z"
   },
   {
    "duration": 32,
    "start_time": "2023-04-23T10:39:29.156Z"
   },
   {
    "duration": 1046,
    "start_time": "2023-04-23T10:39:29.189Z"
   },
   {
    "duration": 6,
    "start_time": "2023-04-23T10:39:30.240Z"
   },
   {
    "duration": 46,
    "start_time": "2023-04-23T10:39:30.248Z"
   },
   {
    "duration": 47,
    "start_time": "2023-04-23T10:39:30.296Z"
   },
   {
    "duration": 62,
    "start_time": "2023-04-23T10:39:30.345Z"
   },
   {
    "duration": 45,
    "start_time": "2023-04-23T10:39:30.411Z"
   },
   {
    "duration": 43,
    "start_time": "2023-04-23T10:39:30.458Z"
   },
   {
    "duration": 67,
    "start_time": "2023-04-23T10:39:30.503Z"
   },
   {
    "duration": 59,
    "start_time": "2023-04-23T10:39:30.572Z"
   },
   {
    "duration": 57,
    "start_time": "2023-04-23T10:39:30.633Z"
   },
   {
    "duration": 220,
    "start_time": "2023-04-23T10:39:30.692Z"
   },
   {
    "duration": 3,
    "start_time": "2023-04-23T10:39:30.914Z"
   },
   {
    "duration": 1304,
    "start_time": "2023-04-23T10:39:30.919Z"
   },
   {
    "duration": 42612,
    "start_time": "2023-04-23T10:39:32.225Z"
   },
   {
    "duration": 6947,
    "start_time": "2023-04-23T10:40:14.840Z"
   },
   {
    "duration": 123,
    "start_time": "2023-04-23T10:40:21.794Z"
   },
   {
    "duration": 903,
    "start_time": "2023-04-23T10:40:21.921Z"
   },
   {
    "duration": 67,
    "start_time": "2023-04-23T10:40:22.827Z"
   },
   {
    "duration": 1368,
    "start_time": "2023-04-23T10:40:22.897Z"
   },
   {
    "duration": 15924,
    "start_time": "2023-04-23T10:40:24.267Z"
   },
   {
    "duration": 7203,
    "start_time": "2023-04-23T10:40:40.194Z"
   },
   {
    "duration": 188,
    "start_time": "2023-04-23T10:40:47.401Z"
   },
   {
    "duration": 201,
    "start_time": "2023-04-23T10:40:47.591Z"
   },
   {
    "duration": 1586,
    "start_time": "2023-04-23T10:40:47.794Z"
   },
   {
    "duration": 21978,
    "start_time": "2023-04-23T10:40:49.383Z"
   },
   {
    "duration": 9229,
    "start_time": "2023-04-23T10:41:11.363Z"
   },
   {
    "duration": 109,
    "start_time": "2023-04-23T10:41:20.595Z"
   },
   {
    "duration": 230,
    "start_time": "2023-04-23T10:41:20.707Z"
   },
   {
    "duration": 574,
    "start_time": "2023-04-23T10:41:20.941Z"
   },
   {
    "duration": 8038,
    "start_time": "2023-04-23T10:41:21.517Z"
   },
   {
    "duration": 4637,
    "start_time": "2023-04-23T10:41:29.557Z"
   },
   {
    "duration": 5494,
    "start_time": "2023-04-23T10:42:54.101Z"
   },
   {
    "duration": 54,
    "start_time": "2023-04-23T10:43:33.844Z"
   },
   {
    "duration": 41350,
    "start_time": "2023-04-23T10:52:09.813Z"
   },
   {
    "duration": 4468,
    "start_time": "2023-04-23T10:53:14.835Z"
   },
   {
    "duration": 59752,
    "start_time": "2023-04-23T11:00:25.248Z"
   },
   {
    "duration": 22418,
    "start_time": "2023-04-23T11:04:20.617Z"
   },
   {
    "duration": 3570,
    "start_time": "2023-04-23T11:04:43.037Z"
   },
   {
    "duration": 1721,
    "start_time": "2023-04-23T11:19:21.524Z"
   },
   {
    "duration": 1649,
    "start_time": "2023-04-23T11:24:22.056Z"
   },
   {
    "duration": 1583,
    "start_time": "2023-04-23T11:25:04.159Z"
   },
   {
    "duration": 1649,
    "start_time": "2023-04-23T11:25:18.057Z"
   },
   {
    "duration": 1567,
    "start_time": "2023-04-23T11:29:20.988Z"
   },
   {
    "duration": 3601,
    "start_time": "2023-04-23T11:29:32.397Z"
   },
   {
    "duration": 20878,
    "start_time": "2023-04-23T11:29:57.218Z"
   },
   {
    "duration": 623,
    "start_time": "2023-04-23T11:30:18.099Z"
   },
   {
    "duration": 1764,
    "start_time": "2023-04-23T11:39:54.216Z"
   },
   {
    "duration": 1745,
    "start_time": "2023-04-23T11:40:54.326Z"
   },
   {
    "duration": 136,
    "start_time": "2023-04-23T11:41:54.327Z"
   },
   {
    "duration": 137,
    "start_time": "2023-04-23T11:43:25.024Z"
   },
   {
    "duration": 1720,
    "start_time": "2023-04-23T11:43:33.500Z"
   },
   {
    "duration": 3,
    "start_time": "2023-04-23T11:44:34.812Z"
   },
   {
    "duration": 1516,
    "start_time": "2023-04-23T11:48:15.351Z"
   },
   {
    "duration": 52,
    "start_time": "2023-04-23T11:48:16.870Z"
   },
   {
    "duration": 21,
    "start_time": "2023-04-23T11:48:16.924Z"
   },
   {
    "duration": 21,
    "start_time": "2023-04-23T11:48:16.947Z"
   },
   {
    "duration": 27,
    "start_time": "2023-04-23T11:48:16.970Z"
   },
   {
    "duration": 28,
    "start_time": "2023-04-23T11:48:17.000Z"
   },
   {
    "duration": 70,
    "start_time": "2023-04-23T11:48:17.029Z"
   },
   {
    "duration": 7,
    "start_time": "2023-04-23T11:48:17.104Z"
   },
   {
    "duration": 16,
    "start_time": "2023-04-23T11:48:17.112Z"
   },
   {
    "duration": 15,
    "start_time": "2023-04-23T11:48:17.131Z"
   },
   {
    "duration": 23,
    "start_time": "2023-04-23T11:48:17.148Z"
   },
   {
    "duration": 1070,
    "start_time": "2023-04-23T11:48:17.173Z"
   },
   {
    "duration": 5,
    "start_time": "2023-04-23T11:48:18.245Z"
   },
   {
    "duration": 7,
    "start_time": "2023-04-23T11:48:18.255Z"
   },
   {
    "duration": 21,
    "start_time": "2023-04-23T11:48:18.264Z"
   },
   {
    "duration": 28,
    "start_time": "2023-04-23T11:48:18.287Z"
   },
   {
    "duration": 20,
    "start_time": "2023-04-23T11:48:18.316Z"
   },
   {
    "duration": 10,
    "start_time": "2023-04-23T11:48:18.339Z"
   },
   {
    "duration": 5,
    "start_time": "2023-04-23T11:48:18.351Z"
   },
   {
    "duration": 31,
    "start_time": "2023-04-23T11:48:18.358Z"
   },
   {
    "duration": 48,
    "start_time": "2023-04-23T11:48:18.399Z"
   },
   {
    "duration": 160,
    "start_time": "2023-04-23T11:48:18.450Z"
   },
   {
    "duration": 4,
    "start_time": "2023-04-23T11:48:18.611Z"
   },
   {
    "duration": 1237,
    "start_time": "2023-04-23T11:48:18.617Z"
   },
   {
    "duration": 44937,
    "start_time": "2023-04-23T11:48:19.856Z"
   },
   {
    "duration": 4055,
    "start_time": "2023-04-23T11:49:04.795Z"
   },
   {
    "duration": 156,
    "start_time": "2023-04-23T11:49:08.852Z"
   },
   {
    "duration": 1021,
    "start_time": "2023-04-23T11:49:09.014Z"
   },
   {
    "duration": 64,
    "start_time": "2023-04-23T11:49:10.037Z"
   },
   {
    "duration": 1478,
    "start_time": "2023-04-23T11:49:10.105Z"
   },
   {
    "duration": 42835,
    "start_time": "2023-04-23T11:49:11.586Z"
   },
   {
    "duration": 5268,
    "start_time": "2023-04-23T11:49:54.423Z"
   },
   {
    "duration": 15,
    "start_time": "2023-04-23T11:49:59.694Z"
   },
   {
    "duration": 227,
    "start_time": "2023-04-23T11:49:59.720Z"
   },
   {
    "duration": 1588,
    "start_time": "2023-04-23T11:49:59.949Z"
   },
   {
    "duration": 61878,
    "start_time": "2023-04-23T11:50:01.539Z"
   },
   {
    "duration": 6684,
    "start_time": "2023-04-23T11:51:03.419Z"
   },
   {
    "duration": 87,
    "start_time": "2023-04-23T11:51:10.106Z"
   },
   {
    "duration": 230,
    "start_time": "2023-04-23T11:51:10.195Z"
   },
   {
    "duration": 673,
    "start_time": "2023-04-23T11:51:10.427Z"
   },
   {
    "duration": 21398,
    "start_time": "2023-04-23T11:51:11.106Z"
   },
   {
    "duration": 3598,
    "start_time": "2023-04-23T11:51:32.507Z"
   },
   {
    "duration": 1897,
    "start_time": "2023-04-23T11:51:36.109Z"
   },
   {
    "duration": 148,
    "start_time": "2023-04-23T11:51:38.008Z"
   },
   {
    "duration": 1472,
    "start_time": "2023-04-23T12:03:50.540Z"
   },
   {
    "duration": 43,
    "start_time": "2023-04-23T12:03:52.014Z"
   },
   {
    "duration": 20,
    "start_time": "2023-04-23T12:03:52.059Z"
   },
   {
    "duration": 23,
    "start_time": "2023-04-23T12:03:52.080Z"
   },
   {
    "duration": 32,
    "start_time": "2023-04-23T12:03:52.105Z"
   },
   {
    "duration": 17,
    "start_time": "2023-04-23T12:03:52.139Z"
   },
   {
    "duration": 66,
    "start_time": "2023-04-23T12:03:52.158Z"
   },
   {
    "duration": 5,
    "start_time": "2023-04-23T12:03:52.226Z"
   },
   {
    "duration": 10,
    "start_time": "2023-04-23T12:03:52.233Z"
   },
   {
    "duration": 18,
    "start_time": "2023-04-23T12:03:52.245Z"
   },
   {
    "duration": 18,
    "start_time": "2023-04-23T12:03:52.265Z"
   },
   {
    "duration": 1118,
    "start_time": "2023-04-23T12:03:52.285Z"
   },
   {
    "duration": 7,
    "start_time": "2023-04-23T12:03:53.405Z"
   },
   {
    "duration": 27,
    "start_time": "2023-04-23T12:03:53.415Z"
   },
   {
    "duration": 15,
    "start_time": "2023-04-23T12:03:53.444Z"
   },
   {
    "duration": 22,
    "start_time": "2023-04-23T12:03:53.462Z"
   },
   {
    "duration": 23,
    "start_time": "2023-04-23T12:03:53.486Z"
   },
   {
    "duration": 9,
    "start_time": "2023-04-23T12:03:53.511Z"
   },
   {
    "duration": 7,
    "start_time": "2023-04-23T12:03:53.522Z"
   },
   {
    "duration": 11,
    "start_time": "2023-04-23T12:03:53.531Z"
   },
   {
    "duration": 7,
    "start_time": "2023-04-23T12:03:53.544Z"
   },
   {
    "duration": 159,
    "start_time": "2023-04-23T12:03:53.552Z"
   },
   {
    "duration": 3,
    "start_time": "2023-04-23T12:03:53.712Z"
   },
   {
    "duration": 1188,
    "start_time": "2023-04-23T12:03:53.717Z"
   },
   {
    "duration": 41608,
    "start_time": "2023-04-23T12:03:54.907Z"
   },
   {
    "duration": 5295,
    "start_time": "2023-04-23T12:04:36.517Z"
   },
   {
    "duration": 119,
    "start_time": "2023-04-23T12:04:41.888Z"
   },
   {
    "duration": 897,
    "start_time": "2023-04-23T12:04:42.011Z"
   },
   {
    "duration": 22,
    "start_time": "2023-04-23T12:04:42.910Z"
   },
   {
    "duration": 1279,
    "start_time": "2023-04-23T12:04:42.991Z"
   },
   {
    "duration": 40688,
    "start_time": "2023-04-23T12:04:44.273Z"
   },
   {
    "duration": 5040,
    "start_time": "2023-04-23T12:05:24.963Z"
   },
   {
    "duration": 87,
    "start_time": "2023-04-23T12:05:30.006Z"
   },
   {
    "duration": 213,
    "start_time": "2023-04-23T12:05:30.095Z"
   },
   {
    "duration": 1638,
    "start_time": "2023-04-23T12:05:30.311Z"
   },
   {
    "duration": 57680,
    "start_time": "2023-04-23T12:05:31.952Z"
   },
   {
    "duration": 6178,
    "start_time": "2023-04-23T12:06:29.634Z"
   },
   {
    "duration": 83,
    "start_time": "2023-04-23T12:06:35.815Z"
   },
   {
    "duration": 297,
    "start_time": "2023-04-23T12:06:35.901Z"
   },
   {
    "duration": 602,
    "start_time": "2023-04-23T12:06:36.200Z"
   },
   {
    "duration": 21736,
    "start_time": "2023-04-23T12:06:36.809Z"
   },
   {
    "duration": 3247,
    "start_time": "2023-04-23T12:06:58.547Z"
   },
   {
    "duration": 1864,
    "start_time": "2023-04-23T12:07:01.797Z"
   },
   {
    "duration": 155,
    "start_time": "2023-04-23T12:07:03.665Z"
   },
   {
    "duration": 1719,
    "start_time": "2023-04-23T12:22:02.846Z"
   },
   {
    "duration": 1537,
    "start_time": "2023-04-23T12:25:26.601Z"
   },
   {
    "duration": 45,
    "start_time": "2023-04-23T12:25:28.140Z"
   },
   {
    "duration": 25,
    "start_time": "2023-04-23T12:25:28.187Z"
   },
   {
    "duration": 15,
    "start_time": "2023-04-23T12:25:28.214Z"
   },
   {
    "duration": 12,
    "start_time": "2023-04-23T12:25:28.230Z"
   },
   {
    "duration": 9,
    "start_time": "2023-04-23T12:25:28.244Z"
   },
   {
    "duration": 94,
    "start_time": "2023-04-23T12:25:28.256Z"
   },
   {
    "duration": 5,
    "start_time": "2023-04-23T12:25:28.352Z"
   },
   {
    "duration": 6,
    "start_time": "2023-04-23T12:25:28.360Z"
   },
   {
    "duration": 27,
    "start_time": "2023-04-23T12:25:28.369Z"
   },
   {
    "duration": 28,
    "start_time": "2023-04-23T12:25:28.398Z"
   },
   {
    "duration": 987,
    "start_time": "2023-04-23T12:25:28.428Z"
   },
   {
    "duration": 6,
    "start_time": "2023-04-23T12:25:29.417Z"
   },
   {
    "duration": 12,
    "start_time": "2023-04-23T12:25:29.425Z"
   },
   {
    "duration": 17,
    "start_time": "2023-04-23T12:25:29.439Z"
   },
   {
    "duration": 36,
    "start_time": "2023-04-23T12:25:29.458Z"
   },
   {
    "duration": 14,
    "start_time": "2023-04-23T12:25:29.496Z"
   },
   {
    "duration": 11,
    "start_time": "2023-04-23T12:25:29.511Z"
   },
   {
    "duration": 8,
    "start_time": "2023-04-23T12:25:29.524Z"
   },
   {
    "duration": 13,
    "start_time": "2023-04-23T12:25:29.533Z"
   },
   {
    "duration": 13,
    "start_time": "2023-04-23T12:25:29.548Z"
   },
   {
    "duration": 146,
    "start_time": "2023-04-23T12:25:29.562Z"
   },
   {
    "duration": 3,
    "start_time": "2023-04-23T12:25:29.710Z"
   },
   {
    "duration": 1229,
    "start_time": "2023-04-23T12:25:29.715Z"
   },
   {
    "duration": 41691,
    "start_time": "2023-04-23T12:25:30.947Z"
   },
   {
    "duration": 5173,
    "start_time": "2023-04-23T12:26:12.639Z"
   },
   {
    "duration": 114,
    "start_time": "2023-04-23T12:26:17.889Z"
   },
   {
    "duration": 948,
    "start_time": "2023-04-23T12:26:18.007Z"
   },
   {
    "duration": 49,
    "start_time": "2023-04-23T12:26:18.957Z"
   },
   {
    "duration": 1336,
    "start_time": "2023-04-23T12:26:19.008Z"
   },
   {
    "duration": 40955,
    "start_time": "2023-04-23T12:26:20.346Z"
   },
   {
    "duration": 4713,
    "start_time": "2023-04-23T12:27:01.303Z"
   },
   {
    "duration": 95,
    "start_time": "2023-04-23T12:27:06.020Z"
   },
   {
    "duration": 198,
    "start_time": "2023-04-23T12:27:06.188Z"
   },
   {
    "duration": 1541,
    "start_time": "2023-04-23T12:27:06.389Z"
   },
   {
    "duration": 58116,
    "start_time": "2023-04-23T12:27:07.932Z"
   },
   {
    "duration": 6639,
    "start_time": "2023-04-23T12:28:06.051Z"
   },
   {
    "duration": 91,
    "start_time": "2023-04-23T12:28:12.697Z"
   },
   {
    "duration": 150,
    "start_time": "2023-04-23T12:28:12.792Z"
   },
   {
    "duration": 582,
    "start_time": "2023-04-23T12:28:12.944Z"
   },
   {
    "duration": 21481,
    "start_time": "2023-04-23T12:28:13.527Z"
   },
   {
    "duration": 3790,
    "start_time": "2023-04-23T12:28:35.010Z"
   },
   {
    "duration": 1910,
    "start_time": "2023-04-23T12:28:38.802Z"
   },
   {
    "duration": 206,
    "start_time": "2023-04-23T12:28:40.716Z"
   },
   {
    "duration": 1499,
    "start_time": "2023-04-23T12:31:07.062Z"
   },
   {
    "duration": 51,
    "start_time": "2023-04-23T12:31:08.563Z"
   },
   {
    "duration": 21,
    "start_time": "2023-04-23T12:31:08.616Z"
   },
   {
    "duration": 21,
    "start_time": "2023-04-23T12:31:08.640Z"
   },
   {
    "duration": 32,
    "start_time": "2023-04-23T12:31:08.663Z"
   },
   {
    "duration": 13,
    "start_time": "2023-04-23T12:31:08.701Z"
   },
   {
    "duration": 55,
    "start_time": "2023-04-23T12:31:08.715Z"
   },
   {
    "duration": 29,
    "start_time": "2023-04-23T12:31:08.772Z"
   },
   {
    "duration": 12,
    "start_time": "2023-04-23T12:31:08.807Z"
   },
   {
    "duration": 10,
    "start_time": "2023-04-23T12:31:08.823Z"
   },
   {
    "duration": 17,
    "start_time": "2023-04-23T12:31:08.835Z"
   },
   {
    "duration": 957,
    "start_time": "2023-04-23T12:31:08.854Z"
   },
   {
    "duration": 6,
    "start_time": "2023-04-23T12:31:09.812Z"
   },
   {
    "duration": 19,
    "start_time": "2023-04-23T12:31:09.820Z"
   },
   {
    "duration": 18,
    "start_time": "2023-04-23T12:31:09.841Z"
   },
   {
    "duration": 26,
    "start_time": "2023-04-23T12:31:09.861Z"
   },
   {
    "duration": 14,
    "start_time": "2023-04-23T12:31:09.889Z"
   },
   {
    "duration": 20,
    "start_time": "2023-04-23T12:31:09.904Z"
   },
   {
    "duration": 7,
    "start_time": "2023-04-23T12:31:09.926Z"
   },
   {
    "duration": 17,
    "start_time": "2023-04-23T12:31:09.936Z"
   },
   {
    "duration": 8,
    "start_time": "2023-04-23T12:31:09.955Z"
   },
   {
    "duration": 133,
    "start_time": "2023-04-23T12:31:09.965Z"
   },
   {
    "duration": 3,
    "start_time": "2023-04-23T12:31:10.099Z"
   },
   {
    "duration": 1208,
    "start_time": "2023-04-23T12:31:10.104Z"
   },
   {
    "duration": 40363,
    "start_time": "2023-04-23T12:31:11.314Z"
   },
   {
    "duration": 5316,
    "start_time": "2023-04-23T12:31:51.679Z"
   },
   {
    "duration": 193,
    "start_time": "2023-04-23T12:31:56.997Z"
   },
   {
    "duration": 852,
    "start_time": "2023-04-23T12:31:57.196Z"
   },
   {
    "duration": 47,
    "start_time": "2023-04-23T12:31:58.050Z"
   },
   {
    "duration": 1325,
    "start_time": "2023-04-23T12:31:58.100Z"
   },
   {
    "duration": 39194,
    "start_time": "2023-04-23T12:31:59.426Z"
   },
   {
    "duration": 5269,
    "start_time": "2023-04-23T12:32:38.622Z"
   },
   {
    "duration": 96,
    "start_time": "2023-04-23T12:32:43.899Z"
   },
   {
    "duration": 146,
    "start_time": "2023-04-23T12:32:43.997Z"
   },
   {
    "duration": 1423,
    "start_time": "2023-04-23T12:32:44.145Z"
   },
   {
    "duration": 54828,
    "start_time": "2023-04-23T12:32:45.570Z"
   },
   {
    "duration": 7287,
    "start_time": "2023-04-23T12:33:40.402Z"
   },
   {
    "duration": 13,
    "start_time": "2023-04-23T12:33:47.691Z"
   },
   {
    "duration": 204,
    "start_time": "2023-04-23T12:33:47.706Z"
   },
   {
    "duration": 136,
    "start_time": "2023-04-23T12:33:47.912Z"
   },
   {
    "duration": 0,
    "start_time": "2023-04-23T12:33:48.051Z"
   },
   {
    "duration": 0,
    "start_time": "2023-04-23T12:33:48.052Z"
   },
   {
    "duration": 0,
    "start_time": "2023-04-23T12:33:48.053Z"
   },
   {
    "duration": 0,
    "start_time": "2023-04-23T12:33:48.054Z"
   },
   {
    "duration": 1629,
    "start_time": "2023-04-24T12:01:30.874Z"
   },
   {
    "duration": 172,
    "start_time": "2023-04-24T12:01:32.505Z"
   },
   {
    "duration": 19,
    "start_time": "2023-04-24T12:01:32.679Z"
   },
   {
    "duration": 21,
    "start_time": "2023-04-24T12:01:32.700Z"
   },
   {
    "duration": 12,
    "start_time": "2023-04-24T12:01:32.724Z"
   },
   {
    "duration": 9,
    "start_time": "2023-04-24T12:01:32.738Z"
   },
   {
    "duration": 57,
    "start_time": "2023-04-24T12:01:32.748Z"
   },
   {
    "duration": 5,
    "start_time": "2023-04-24T12:01:32.806Z"
   },
   {
    "duration": 7,
    "start_time": "2023-04-24T12:01:32.812Z"
   },
   {
    "duration": 5,
    "start_time": "2023-04-24T12:01:32.820Z"
   },
   {
    "duration": 12,
    "start_time": "2023-04-24T12:01:32.826Z"
   },
   {
    "duration": 938,
    "start_time": "2023-04-24T12:01:32.839Z"
   },
   {
    "duration": 4,
    "start_time": "2023-04-24T12:01:33.779Z"
   },
   {
    "duration": 5,
    "start_time": "2023-04-24T12:01:33.786Z"
   },
   {
    "duration": 23,
    "start_time": "2023-04-24T12:01:33.792Z"
   },
   {
    "duration": 18,
    "start_time": "2023-04-24T12:01:33.817Z"
   },
   {
    "duration": 12,
    "start_time": "2023-04-24T12:01:33.837Z"
   },
   {
    "duration": 11,
    "start_time": "2023-04-24T12:01:33.851Z"
   },
   {
    "duration": 5,
    "start_time": "2023-04-24T12:01:33.864Z"
   },
   {
    "duration": 23,
    "start_time": "2023-04-24T12:01:33.870Z"
   },
   {
    "duration": 3,
    "start_time": "2023-04-24T12:01:33.895Z"
   },
   {
    "duration": 130,
    "start_time": "2023-04-24T12:01:33.900Z"
   },
   {
    "duration": 2,
    "start_time": "2023-04-24T12:01:34.032Z"
   },
   {
    "duration": 979,
    "start_time": "2023-04-24T12:01:34.035Z"
   },
   {
    "duration": 34690,
    "start_time": "2023-04-24T12:01:35.015Z"
   },
   {
    "duration": 5190,
    "start_time": "2023-04-24T12:02:09.708Z"
   },
   {
    "duration": 201,
    "start_time": "2023-04-24T12:02:14.900Z"
   },
   {
    "duration": 832,
    "start_time": "2023-04-24T12:02:15.102Z"
   },
   {
    "duration": 61,
    "start_time": "2023-04-24T12:02:15.936Z"
   },
   {
    "duration": 1087,
    "start_time": "2023-04-24T12:02:15.999Z"
   },
   {
    "duration": 33265,
    "start_time": "2023-04-24T12:02:17.088Z"
   },
   {
    "duration": 5645,
    "start_time": "2023-04-24T12:02:50.355Z"
   },
   {
    "duration": 99,
    "start_time": "2023-04-24T12:02:56.001Z"
   },
   {
    "duration": 196,
    "start_time": "2023-04-24T12:02:56.102Z"
   },
   {
    "duration": 1196,
    "start_time": "2023-04-24T12:02:56.300Z"
   },
   {
    "duration": 46515,
    "start_time": "2023-04-24T12:02:57.498Z"
   },
   {
    "duration": 5483,
    "start_time": "2023-04-24T12:03:44.014Z"
   },
   {
    "duration": 18,
    "start_time": "2023-04-24T12:03:49.498Z"
   },
   {
    "duration": 210,
    "start_time": "2023-04-24T12:03:49.598Z"
   },
   {
    "duration": 136,
    "start_time": "2023-04-24T12:03:49.810Z"
   },
   {
    "duration": 0,
    "start_time": "2023-04-24T12:03:49.948Z"
   },
   {
    "duration": 0,
    "start_time": "2023-04-24T12:03:49.950Z"
   },
   {
    "duration": 0,
    "start_time": "2023-04-24T12:03:49.952Z"
   },
   {
    "duration": 0,
    "start_time": "2023-04-24T12:03:49.953Z"
   },
   {
    "duration": 13,
    "start_time": "2023-04-24T12:05:23.778Z"
   },
   {
    "duration": 11,
    "start_time": "2023-04-24T12:05:41.708Z"
   },
   {
    "duration": 6,
    "start_time": "2023-04-24T12:06:26.117Z"
   },
   {
    "duration": 12,
    "start_time": "2023-04-24T12:06:28.460Z"
   },
   {
    "duration": 11,
    "start_time": "2023-04-24T12:06:55.636Z"
   },
   {
    "duration": 896,
    "start_time": "2023-04-25T08:39:58.995Z"
   },
   {
    "duration": 711,
    "start_time": "2023-04-25T09:04:16.182Z"
   },
   {
    "duration": 1768,
    "start_time": "2023-04-26T11:42:53.434Z"
   },
   {
    "duration": 97,
    "start_time": "2023-04-26T11:42:55.204Z"
   },
   {
    "duration": 29,
    "start_time": "2023-04-26T11:42:55.303Z"
   },
   {
    "duration": 24,
    "start_time": "2023-04-26T11:42:55.334Z"
   },
   {
    "duration": 25,
    "start_time": "2023-04-26T11:42:55.361Z"
   },
   {
    "duration": 21,
    "start_time": "2023-04-26T11:42:55.388Z"
   },
   {
    "duration": 78,
    "start_time": "2023-04-26T11:42:55.411Z"
   },
   {
    "duration": 6,
    "start_time": "2023-04-26T11:42:55.491Z"
   },
   {
    "duration": 27,
    "start_time": "2023-04-26T11:42:55.499Z"
   },
   {
    "duration": 20,
    "start_time": "2023-04-26T11:42:55.528Z"
   },
   {
    "duration": 36,
    "start_time": "2023-04-26T11:42:55.551Z"
   },
   {
    "duration": 27,
    "start_time": "2023-04-26T11:42:55.589Z"
   },
   {
    "duration": 1074,
    "start_time": "2023-04-26T11:42:55.618Z"
   },
   {
    "duration": 6,
    "start_time": "2023-04-26T11:42:56.730Z"
   },
   {
    "duration": 10,
    "start_time": "2023-04-26T11:42:56.737Z"
   },
   {
    "duration": 15,
    "start_time": "2023-04-26T11:42:56.748Z"
   },
   {
    "duration": 225,
    "start_time": "2023-04-26T11:42:56.765Z"
   },
   {
    "duration": 0,
    "start_time": "2023-04-26T11:42:56.993Z"
   },
   {
    "duration": 0,
    "start_time": "2023-04-26T11:42:56.994Z"
   },
   {
    "duration": 0,
    "start_time": "2023-04-26T11:42:56.995Z"
   },
   {
    "duration": 0,
    "start_time": "2023-04-26T11:42:56.997Z"
   },
   {
    "duration": 0,
    "start_time": "2023-04-26T11:42:56.997Z"
   },
   {
    "duration": 0,
    "start_time": "2023-04-26T11:42:56.999Z"
   },
   {
    "duration": 0,
    "start_time": "2023-04-26T11:42:57.000Z"
   },
   {
    "duration": 0,
    "start_time": "2023-04-26T11:42:57.001Z"
   },
   {
    "duration": 0,
    "start_time": "2023-04-26T11:42:57.002Z"
   },
   {
    "duration": 0,
    "start_time": "2023-04-26T11:42:57.004Z"
   },
   {
    "duration": 0,
    "start_time": "2023-04-26T11:42:57.005Z"
   },
   {
    "duration": 0,
    "start_time": "2023-04-26T11:42:57.006Z"
   },
   {
    "duration": 0,
    "start_time": "2023-04-26T11:42:57.007Z"
   },
   {
    "duration": 0,
    "start_time": "2023-04-26T11:42:57.051Z"
   },
   {
    "duration": 0,
    "start_time": "2023-04-26T11:42:57.053Z"
   },
   {
    "duration": 0,
    "start_time": "2023-04-26T11:42:57.055Z"
   },
   {
    "duration": 0,
    "start_time": "2023-04-26T11:42:57.056Z"
   },
   {
    "duration": 0,
    "start_time": "2023-04-26T11:42:57.059Z"
   },
   {
    "duration": 0,
    "start_time": "2023-04-26T11:42:57.060Z"
   },
   {
    "duration": 0,
    "start_time": "2023-04-26T11:42:57.061Z"
   },
   {
    "duration": 0,
    "start_time": "2023-04-26T11:42:57.063Z"
   },
   {
    "duration": 1,
    "start_time": "2023-04-26T11:42:57.064Z"
   },
   {
    "duration": 0,
    "start_time": "2023-04-26T11:42:57.066Z"
   },
   {
    "duration": 0,
    "start_time": "2023-04-26T11:42:57.067Z"
   },
   {
    "duration": 0,
    "start_time": "2023-04-26T11:42:57.070Z"
   },
   {
    "duration": 0,
    "start_time": "2023-04-26T11:42:57.072Z"
   },
   {
    "duration": 0,
    "start_time": "2023-04-26T11:42:57.074Z"
   },
   {
    "duration": 0,
    "start_time": "2023-04-26T11:42:57.075Z"
   },
   {
    "duration": 0,
    "start_time": "2023-04-26T11:42:57.077Z"
   },
   {
    "duration": 21,
    "start_time": "2023-04-26T11:48:50.154Z"
   },
   {
    "duration": 13,
    "start_time": "2023-04-26T12:08:27.301Z"
   },
   {
    "duration": 27,
    "start_time": "2023-04-26T12:08:35.123Z"
   },
   {
    "duration": 1588,
    "start_time": "2023-04-26T12:10:40.412Z"
   },
   {
    "duration": 45,
    "start_time": "2023-04-26T12:10:42.003Z"
   },
   {
    "duration": 22,
    "start_time": "2023-04-26T12:10:42.050Z"
   },
   {
    "duration": 15,
    "start_time": "2023-04-26T12:10:42.074Z"
   },
   {
    "duration": 13,
    "start_time": "2023-04-26T12:10:42.091Z"
   },
   {
    "duration": 14,
    "start_time": "2023-04-26T12:10:42.106Z"
   },
   {
    "duration": 61,
    "start_time": "2023-04-26T12:10:42.142Z"
   },
   {
    "duration": 5,
    "start_time": "2023-04-26T12:10:42.205Z"
   },
   {
    "duration": 29,
    "start_time": "2023-04-26T12:10:42.212Z"
   },
   {
    "duration": 14,
    "start_time": "2023-04-26T12:10:42.243Z"
   },
   {
    "duration": 10,
    "start_time": "2023-04-26T12:10:42.259Z"
   },
   {
    "duration": 26,
    "start_time": "2023-04-26T12:10:42.271Z"
   },
   {
    "duration": 984,
    "start_time": "2023-04-26T12:10:42.299Z"
   },
   {
    "duration": 5,
    "start_time": "2023-04-26T12:10:43.288Z"
   },
   {
    "duration": 11,
    "start_time": "2023-04-26T12:10:43.294Z"
   },
   {
    "duration": 20,
    "start_time": "2023-04-26T12:10:43.307Z"
   },
   {
    "duration": 47,
    "start_time": "2023-04-26T12:10:43.330Z"
   },
   {
    "duration": 13,
    "start_time": "2023-04-26T12:10:43.379Z"
   },
   {
    "duration": 19,
    "start_time": "2023-04-26T12:10:43.394Z"
   },
   {
    "duration": 8,
    "start_time": "2023-04-26T12:10:43.415Z"
   },
   {
    "duration": 44,
    "start_time": "2023-04-26T12:10:43.425Z"
   },
   {
    "duration": 9,
    "start_time": "2023-04-26T12:10:43.471Z"
   },
   {
    "duration": 4,
    "start_time": "2023-04-26T12:10:43.482Z"
   },
   {
    "duration": 163,
    "start_time": "2023-04-26T12:10:43.488Z"
   },
   {
    "duration": 2,
    "start_time": "2023-04-26T12:10:43.653Z"
   },
   {
    "duration": 147,
    "start_time": "2023-04-26T12:10:43.657Z"
   },
   {
    "duration": 0,
    "start_time": "2023-04-26T12:10:43.806Z"
   },
   {
    "duration": 0,
    "start_time": "2023-04-26T12:10:43.807Z"
   },
   {
    "duration": 0,
    "start_time": "2023-04-26T12:10:43.808Z"
   },
   {
    "duration": 0,
    "start_time": "2023-04-26T12:10:43.810Z"
   },
   {
    "duration": 0,
    "start_time": "2023-04-26T12:10:43.811Z"
   },
   {
    "duration": 0,
    "start_time": "2023-04-26T12:10:43.812Z"
   },
   {
    "duration": 0,
    "start_time": "2023-04-26T12:10:43.813Z"
   },
   {
    "duration": 0,
    "start_time": "2023-04-26T12:10:43.814Z"
   },
   {
    "duration": 0,
    "start_time": "2023-04-26T12:10:43.815Z"
   },
   {
    "duration": 0,
    "start_time": "2023-04-26T12:10:43.816Z"
   },
   {
    "duration": 0,
    "start_time": "2023-04-26T12:10:43.945Z"
   },
   {
    "duration": 0,
    "start_time": "2023-04-26T12:10:43.947Z"
   },
   {
    "duration": 0,
    "start_time": "2023-04-26T12:10:43.948Z"
   },
   {
    "duration": 0,
    "start_time": "2023-04-26T12:10:43.949Z"
   },
   {
    "duration": 0,
    "start_time": "2023-04-26T12:10:43.950Z"
   },
   {
    "duration": 0,
    "start_time": "2023-04-26T12:10:43.951Z"
   },
   {
    "duration": 0,
    "start_time": "2023-04-26T12:10:43.953Z"
   },
   {
    "duration": 0,
    "start_time": "2023-04-26T12:10:43.954Z"
   },
   {
    "duration": 0,
    "start_time": "2023-04-26T12:10:43.955Z"
   },
   {
    "duration": 0,
    "start_time": "2023-04-26T12:10:43.956Z"
   },
   {
    "duration": 61,
    "start_time": "2023-04-26T12:36:56.426Z"
   },
   {
    "duration": 60,
    "start_time": "2023-04-26T12:37:13.238Z"
   },
   {
    "duration": 38,
    "start_time": "2023-04-26T12:37:37.997Z"
   },
   {
    "duration": 50,
    "start_time": "2023-04-26T12:38:40.153Z"
   },
   {
    "duration": 14,
    "start_time": "2023-04-26T12:38:46.372Z"
   },
   {
    "duration": 14,
    "start_time": "2023-04-26T12:38:48.868Z"
   },
   {
    "duration": 19,
    "start_time": "2023-04-26T12:44:50.192Z"
   },
   {
    "duration": 1619,
    "start_time": "2023-04-26T12:45:09.267Z"
   },
   {
    "duration": 45,
    "start_time": "2023-04-26T12:45:10.889Z"
   },
   {
    "duration": 25,
    "start_time": "2023-04-26T12:45:10.937Z"
   },
   {
    "duration": 22,
    "start_time": "2023-04-26T12:45:10.965Z"
   },
   {
    "duration": 27,
    "start_time": "2023-04-26T12:45:10.991Z"
   },
   {
    "duration": 29,
    "start_time": "2023-04-26T12:45:11.020Z"
   },
   {
    "duration": 79,
    "start_time": "2023-04-26T12:45:11.051Z"
   },
   {
    "duration": 10,
    "start_time": "2023-04-26T12:45:11.133Z"
   },
   {
    "duration": 37,
    "start_time": "2023-04-26T12:45:11.145Z"
   },
   {
    "duration": 30,
    "start_time": "2023-04-26T12:45:11.184Z"
   },
   {
    "duration": 7,
    "start_time": "2023-04-26T12:45:11.217Z"
   },
   {
    "duration": 59,
    "start_time": "2023-04-26T12:45:11.226Z"
   },
   {
    "duration": 979,
    "start_time": "2023-04-26T12:45:11.288Z"
   },
   {
    "duration": 6,
    "start_time": "2023-04-26T12:45:12.271Z"
   },
   {
    "duration": 40,
    "start_time": "2023-04-26T12:45:12.279Z"
   },
   {
    "duration": 32,
    "start_time": "2023-04-26T12:45:12.321Z"
   },
   {
    "duration": 45,
    "start_time": "2023-04-26T12:45:12.355Z"
   },
   {
    "duration": 16,
    "start_time": "2023-04-26T12:45:12.403Z"
   },
   {
    "duration": 32,
    "start_time": "2023-04-26T12:45:12.421Z"
   },
   {
    "duration": 20,
    "start_time": "2023-04-26T12:45:12.455Z"
   },
   {
    "duration": 65,
    "start_time": "2023-04-26T12:45:12.477Z"
   },
   {
    "duration": 9,
    "start_time": "2023-04-26T12:45:12.544Z"
   },
   {
    "duration": 19,
    "start_time": "2023-04-26T12:45:12.555Z"
   },
   {
    "duration": 169,
    "start_time": "2023-04-26T12:45:12.577Z"
   },
   {
    "duration": 3,
    "start_time": "2023-04-26T12:45:12.748Z"
   },
   {
    "duration": 150,
    "start_time": "2023-04-26T12:45:12.752Z"
   },
   {
    "duration": 0,
    "start_time": "2023-04-26T12:45:12.904Z"
   },
   {
    "duration": 1,
    "start_time": "2023-04-26T12:45:12.905Z"
   },
   {
    "duration": 1,
    "start_time": "2023-04-26T12:45:12.906Z"
   },
   {
    "duration": 0,
    "start_time": "2023-04-26T12:45:12.908Z"
   },
   {
    "duration": 0,
    "start_time": "2023-04-26T12:45:12.909Z"
   },
   {
    "duration": 0,
    "start_time": "2023-04-26T12:45:12.910Z"
   },
   {
    "duration": 0,
    "start_time": "2023-04-26T12:45:12.911Z"
   },
   {
    "duration": 0,
    "start_time": "2023-04-26T12:45:12.912Z"
   },
   {
    "duration": 0,
    "start_time": "2023-04-26T12:45:12.913Z"
   },
   {
    "duration": 0,
    "start_time": "2023-04-26T12:45:12.914Z"
   },
   {
    "duration": 0,
    "start_time": "2023-04-26T12:45:13.036Z"
   },
   {
    "duration": 0,
    "start_time": "2023-04-26T12:45:13.041Z"
   },
   {
    "duration": 0,
    "start_time": "2023-04-26T12:45:13.043Z"
   },
   {
    "duration": 0,
    "start_time": "2023-04-26T12:45:13.044Z"
   },
   {
    "duration": 0,
    "start_time": "2023-04-26T12:45:13.045Z"
   },
   {
    "duration": 0,
    "start_time": "2023-04-26T12:45:13.046Z"
   },
   {
    "duration": 0,
    "start_time": "2023-04-26T12:45:13.047Z"
   },
   {
    "duration": 0,
    "start_time": "2023-04-26T12:45:13.049Z"
   },
   {
    "duration": 0,
    "start_time": "2023-04-26T12:45:13.050Z"
   },
   {
    "duration": 0,
    "start_time": "2023-04-26T12:45:13.051Z"
   },
   {
    "duration": 29,
    "start_time": "2023-04-26T12:51:11.724Z"
   },
   {
    "duration": 38,
    "start_time": "2023-04-26T13:00:06.936Z"
   },
   {
    "duration": 42,
    "start_time": "2023-04-26T13:00:47.035Z"
   },
   {
    "duration": 41,
    "start_time": "2023-04-26T13:01:48.331Z"
   },
   {
    "duration": 13,
    "start_time": "2023-04-26T13:05:20.818Z"
   },
   {
    "duration": 13,
    "start_time": "2023-04-26T13:05:24.064Z"
   },
   {
    "duration": 17,
    "start_time": "2023-04-26T13:06:02.552Z"
   },
   {
    "duration": 40,
    "start_time": "2023-04-26T13:10:41.540Z"
   },
   {
    "duration": 1669,
    "start_time": "2023-04-26T13:11:20.506Z"
   },
   {
    "duration": 45,
    "start_time": "2023-04-26T13:11:22.178Z"
   },
   {
    "duration": 55,
    "start_time": "2023-04-26T13:11:22.225Z"
   },
   {
    "duration": 54,
    "start_time": "2023-04-26T13:11:22.281Z"
   },
   {
    "duration": 33,
    "start_time": "2023-04-26T13:11:22.338Z"
   },
   {
    "duration": 52,
    "start_time": "2023-04-26T13:11:22.373Z"
   },
   {
    "duration": 84,
    "start_time": "2023-04-26T13:11:22.427Z"
   },
   {
    "duration": 5,
    "start_time": "2023-04-26T13:11:22.513Z"
   },
   {
    "duration": 35,
    "start_time": "2023-04-26T13:11:22.520Z"
   },
   {
    "duration": 44,
    "start_time": "2023-04-26T13:11:22.557Z"
   },
   {
    "duration": 20,
    "start_time": "2023-04-26T13:11:22.603Z"
   },
   {
    "duration": 26,
    "start_time": "2023-04-26T13:11:22.625Z"
   },
   {
    "duration": 993,
    "start_time": "2023-04-26T13:11:22.653Z"
   },
   {
    "duration": 7,
    "start_time": "2023-04-26T13:11:23.652Z"
   },
   {
    "duration": 104,
    "start_time": "2023-04-26T13:11:23.661Z"
   },
   {
    "duration": 91,
    "start_time": "2023-04-26T13:11:23.767Z"
   },
   {
    "duration": 68,
    "start_time": "2023-04-26T13:11:23.861Z"
   },
   {
    "duration": 175,
    "start_time": "2023-04-26T13:11:23.931Z"
   },
   {
    "duration": 0,
    "start_time": "2023-04-26T13:11:24.109Z"
   },
   {
    "duration": 0,
    "start_time": "2023-04-26T13:11:24.110Z"
   },
   {
    "duration": 0,
    "start_time": "2023-04-26T13:11:24.112Z"
   },
   {
    "duration": 0,
    "start_time": "2023-04-26T13:11:24.113Z"
   },
   {
    "duration": 0,
    "start_time": "2023-04-26T13:11:24.114Z"
   },
   {
    "duration": 0,
    "start_time": "2023-04-26T13:11:24.116Z"
   },
   {
    "duration": 0,
    "start_time": "2023-04-26T13:11:24.117Z"
   },
   {
    "duration": 0,
    "start_time": "2023-04-26T13:11:24.119Z"
   },
   {
    "duration": 0,
    "start_time": "2023-04-26T13:11:24.142Z"
   },
   {
    "duration": 0,
    "start_time": "2023-04-26T13:11:24.143Z"
   },
   {
    "duration": 0,
    "start_time": "2023-04-26T13:11:24.145Z"
   },
   {
    "duration": 0,
    "start_time": "2023-04-26T13:11:24.147Z"
   },
   {
    "duration": 0,
    "start_time": "2023-04-26T13:11:24.149Z"
   },
   {
    "duration": 0,
    "start_time": "2023-04-26T13:11:24.151Z"
   },
   {
    "duration": 0,
    "start_time": "2023-04-26T13:11:24.152Z"
   },
   {
    "duration": 0,
    "start_time": "2023-04-26T13:11:24.154Z"
   },
   {
    "duration": 0,
    "start_time": "2023-04-26T13:11:24.156Z"
   },
   {
    "duration": 0,
    "start_time": "2023-04-26T13:11:24.158Z"
   },
   {
    "duration": 0,
    "start_time": "2023-04-26T13:11:24.159Z"
   },
   {
    "duration": 0,
    "start_time": "2023-04-26T13:11:24.161Z"
   },
   {
    "duration": 0,
    "start_time": "2023-04-26T13:11:24.163Z"
   },
   {
    "duration": 0,
    "start_time": "2023-04-26T13:11:24.164Z"
   },
   {
    "duration": 0,
    "start_time": "2023-04-26T13:11:24.165Z"
   },
   {
    "duration": 0,
    "start_time": "2023-04-26T13:11:24.166Z"
   },
   {
    "duration": 0,
    "start_time": "2023-04-26T13:11:24.167Z"
   },
   {
    "duration": 0,
    "start_time": "2023-04-26T13:11:24.169Z"
   },
   {
    "duration": 0,
    "start_time": "2023-04-26T13:11:24.170Z"
   },
   {
    "duration": 0,
    "start_time": "2023-04-26T13:11:24.171Z"
   },
   {
    "duration": 1546,
    "start_time": "2023-04-26T13:18:42.695Z"
   },
   {
    "duration": 46,
    "start_time": "2023-04-26T13:18:44.243Z"
   },
   {
    "duration": 22,
    "start_time": "2023-04-26T13:18:44.292Z"
   },
   {
    "duration": 42,
    "start_time": "2023-04-26T13:18:44.317Z"
   },
   {
    "duration": 15,
    "start_time": "2023-04-26T13:18:44.362Z"
   },
   {
    "duration": 18,
    "start_time": "2023-04-26T13:18:44.379Z"
   },
   {
    "duration": 84,
    "start_time": "2023-04-26T13:18:44.400Z"
   },
   {
    "duration": 6,
    "start_time": "2023-04-26T13:18:44.486Z"
   },
   {
    "duration": 16,
    "start_time": "2023-04-26T13:18:44.494Z"
   },
   {
    "duration": 31,
    "start_time": "2023-04-26T13:18:44.514Z"
   },
   {
    "duration": 7,
    "start_time": "2023-04-26T13:18:44.547Z"
   },
   {
    "duration": 48,
    "start_time": "2023-04-26T13:18:44.556Z"
   },
   {
    "duration": 1012,
    "start_time": "2023-04-26T13:18:44.607Z"
   },
   {
    "duration": 5,
    "start_time": "2023-04-26T13:18:45.621Z"
   },
   {
    "duration": 17,
    "start_time": "2023-04-26T13:18:45.628Z"
   },
   {
    "duration": 26,
    "start_time": "2023-04-26T13:18:45.647Z"
   },
   {
    "duration": 30,
    "start_time": "2023-04-26T13:18:45.676Z"
   },
   {
    "duration": 131,
    "start_time": "2023-04-26T13:18:45.708Z"
   },
   {
    "duration": 0,
    "start_time": "2023-04-26T13:18:45.842Z"
   },
   {
    "duration": 0,
    "start_time": "2023-04-26T13:18:45.843Z"
   },
   {
    "duration": 0,
    "start_time": "2023-04-26T13:18:45.845Z"
   },
   {
    "duration": 0,
    "start_time": "2023-04-26T13:18:45.846Z"
   },
   {
    "duration": 0,
    "start_time": "2023-04-26T13:18:45.847Z"
   },
   {
    "duration": 0,
    "start_time": "2023-04-26T13:18:45.849Z"
   },
   {
    "duration": 0,
    "start_time": "2023-04-26T13:18:45.850Z"
   },
   {
    "duration": 0,
    "start_time": "2023-04-26T13:18:45.852Z"
   },
   {
    "duration": 0,
    "start_time": "2023-04-26T13:18:45.853Z"
   },
   {
    "duration": 0,
    "start_time": "2023-04-26T13:18:45.855Z"
   },
   {
    "duration": 0,
    "start_time": "2023-04-26T13:18:45.857Z"
   },
   {
    "duration": 0,
    "start_time": "2023-04-26T13:18:45.859Z"
   },
   {
    "duration": 0,
    "start_time": "2023-04-26T13:18:45.860Z"
   },
   {
    "duration": 0,
    "start_time": "2023-04-26T13:18:45.862Z"
   },
   {
    "duration": 0,
    "start_time": "2023-04-26T13:18:45.863Z"
   },
   {
    "duration": 0,
    "start_time": "2023-04-26T13:18:45.865Z"
   },
   {
    "duration": 0,
    "start_time": "2023-04-26T13:18:45.867Z"
   },
   {
    "duration": 0,
    "start_time": "2023-04-26T13:18:45.868Z"
   },
   {
    "duration": 0,
    "start_time": "2023-04-26T13:18:45.870Z"
   },
   {
    "duration": 0,
    "start_time": "2023-04-26T13:18:45.871Z"
   },
   {
    "duration": 0,
    "start_time": "2023-04-26T13:18:45.872Z"
   },
   {
    "duration": 0,
    "start_time": "2023-04-26T13:18:45.873Z"
   },
   {
    "duration": 0,
    "start_time": "2023-04-26T13:18:45.874Z"
   },
   {
    "duration": 0,
    "start_time": "2023-04-26T13:18:45.875Z"
   },
   {
    "duration": 0,
    "start_time": "2023-04-26T13:18:45.877Z"
   },
   {
    "duration": 0,
    "start_time": "2023-04-26T13:18:45.878Z"
   },
   {
    "duration": 0,
    "start_time": "2023-04-26T13:18:45.879Z"
   },
   {
    "duration": 0,
    "start_time": "2023-04-26T13:18:45.890Z"
   },
   {
    "duration": 1612,
    "start_time": "2023-04-26T13:19:44.170Z"
   },
   {
    "duration": 49,
    "start_time": "2023-04-26T13:19:45.784Z"
   },
   {
    "duration": 29,
    "start_time": "2023-04-26T13:19:45.835Z"
   },
   {
    "duration": 20,
    "start_time": "2023-04-26T13:19:45.867Z"
   },
   {
    "duration": 17,
    "start_time": "2023-04-26T13:19:45.890Z"
   },
   {
    "duration": 40,
    "start_time": "2023-04-26T13:19:45.910Z"
   },
   {
    "duration": 100,
    "start_time": "2023-04-26T13:19:45.953Z"
   },
   {
    "duration": 7,
    "start_time": "2023-04-26T13:19:46.056Z"
   },
   {
    "duration": 21,
    "start_time": "2023-04-26T13:19:46.064Z"
   },
   {
    "duration": 24,
    "start_time": "2023-04-26T13:19:46.089Z"
   },
   {
    "duration": 5,
    "start_time": "2023-04-26T13:19:46.116Z"
   },
   {
    "duration": 28,
    "start_time": "2023-04-26T13:19:46.123Z"
   },
   {
    "duration": 998,
    "start_time": "2023-04-26T13:19:46.153Z"
   },
   {
    "duration": 6,
    "start_time": "2023-04-26T13:19:47.153Z"
   },
   {
    "duration": 14,
    "start_time": "2023-04-26T13:19:47.161Z"
   },
   {
    "duration": 43,
    "start_time": "2023-04-26T13:19:47.177Z"
   },
   {
    "duration": 24,
    "start_time": "2023-04-26T13:19:47.222Z"
   },
   {
    "duration": 16,
    "start_time": "2023-04-26T13:19:47.248Z"
   },
   {
    "duration": 11,
    "start_time": "2023-04-26T13:19:47.267Z"
   },
   {
    "duration": 19,
    "start_time": "2023-04-26T13:19:47.280Z"
   },
   {
    "duration": 63,
    "start_time": "2023-04-26T13:19:47.301Z"
   },
   {
    "duration": 9,
    "start_time": "2023-04-26T13:19:47.366Z"
   },
   {
    "duration": 6,
    "start_time": "2023-04-26T13:19:47.377Z"
   },
   {
    "duration": 171,
    "start_time": "2023-04-26T13:19:47.384Z"
   },
   {
    "duration": 2,
    "start_time": "2023-04-26T13:19:47.557Z"
   },
   {
    "duration": 1076,
    "start_time": "2023-04-26T13:19:47.562Z"
   },
   {
    "duration": 39797,
    "start_time": "2023-04-26T13:19:48.640Z"
   },
   {
    "duration": 5304,
    "start_time": "2023-04-26T13:20:28.444Z"
   },
   {
    "duration": 189,
    "start_time": "2023-04-26T13:20:33.752Z"
   },
   {
    "duration": 873,
    "start_time": "2023-04-26T13:20:33.944Z"
   },
   {
    "duration": 29,
    "start_time": "2023-04-26T13:20:34.820Z"
   },
   {
    "duration": 1366,
    "start_time": "2023-04-26T13:20:34.852Z"
   },
   {
    "duration": 37417,
    "start_time": "2023-04-26T13:20:36.220Z"
   },
   {
    "duration": 5801,
    "start_time": "2023-04-26T13:21:13.642Z"
   },
   {
    "duration": 99,
    "start_time": "2023-04-26T13:21:19.446Z"
   },
   {
    "duration": 154,
    "start_time": "2023-04-26T13:21:19.547Z"
   },
   {
    "duration": 1322,
    "start_time": "2023-04-26T13:21:19.703Z"
   },
   {
    "duration": 52259,
    "start_time": "2023-04-26T13:21:21.027Z"
   },
   {
    "duration": 6176,
    "start_time": "2023-04-26T13:22:13.289Z"
   },
   {
    "duration": 101,
    "start_time": "2023-04-26T13:22:19.541Z"
   },
   {
    "duration": 177,
    "start_time": "2023-04-26T13:22:19.646Z"
   },
   {
    "duration": 159,
    "start_time": "2023-04-26T13:22:19.825Z"
   },
   {
    "duration": 0,
    "start_time": "2023-04-26T13:22:19.987Z"
   },
   {
    "duration": 0,
    "start_time": "2023-04-26T13:22:19.988Z"
   },
   {
    "duration": 0,
    "start_time": "2023-04-26T13:22:19.989Z"
   },
   {
    "duration": 0,
    "start_time": "2023-04-26T13:22:19.990Z"
   },
   {
    "duration": 0,
    "start_time": "2023-04-26T13:22:19.992Z"
   },
   {
    "duration": 1213,
    "start_time": "2023-04-26T13:45:38.908Z"
   },
   {
    "duration": 1262,
    "start_time": "2023-04-26T13:45:53.643Z"
   },
   {
    "duration": 1318,
    "start_time": "2023-04-26T13:46:13.218Z"
   },
   {
    "duration": 1889,
    "start_time": "2023-04-27T08:45:15.708Z"
   },
   {
    "duration": 89,
    "start_time": "2023-04-27T08:45:17.599Z"
   },
   {
    "duration": 18,
    "start_time": "2023-04-27T08:45:17.690Z"
   },
   {
    "duration": 19,
    "start_time": "2023-04-27T08:45:17.710Z"
   },
   {
    "duration": 16,
    "start_time": "2023-04-27T08:45:17.731Z"
   },
   {
    "duration": 7,
    "start_time": "2023-04-27T08:45:17.749Z"
   },
   {
    "duration": 52,
    "start_time": "2023-04-27T08:45:17.758Z"
   },
   {
    "duration": 4,
    "start_time": "2023-04-27T08:45:17.812Z"
   },
   {
    "duration": 29,
    "start_time": "2023-04-27T08:45:17.817Z"
   },
   {
    "duration": 21,
    "start_time": "2023-04-27T08:45:17.849Z"
   },
   {
    "duration": 11,
    "start_time": "2023-04-27T08:45:17.871Z"
   },
   {
    "duration": 41,
    "start_time": "2023-04-27T08:45:17.884Z"
   },
   {
    "duration": 792,
    "start_time": "2023-04-27T08:45:17.927Z"
   },
   {
    "duration": 4,
    "start_time": "2023-04-27T08:45:18.721Z"
   },
   {
    "duration": 15,
    "start_time": "2023-04-27T08:45:18.726Z"
   },
   {
    "duration": 574,
    "start_time": "2023-04-27T08:45:18.743Z"
   },
   {
    "duration": 0,
    "start_time": "2023-04-27T08:45:19.319Z"
   },
   {
    "duration": 0,
    "start_time": "2023-04-27T08:45:19.320Z"
   },
   {
    "duration": 0,
    "start_time": "2023-04-27T08:45:19.321Z"
   },
   {
    "duration": 0,
    "start_time": "2023-04-27T08:45:19.322Z"
   },
   {
    "duration": 0,
    "start_time": "2023-04-27T08:45:19.323Z"
   },
   {
    "duration": 0,
    "start_time": "2023-04-27T08:45:19.324Z"
   },
   {
    "duration": 0,
    "start_time": "2023-04-27T08:45:19.324Z"
   },
   {
    "duration": 0,
    "start_time": "2023-04-27T08:45:19.325Z"
   },
   {
    "duration": 0,
    "start_time": "2023-04-27T08:45:19.326Z"
   },
   {
    "duration": 0,
    "start_time": "2023-04-27T08:45:19.327Z"
   },
   {
    "duration": 0,
    "start_time": "2023-04-27T08:45:19.328Z"
   },
   {
    "duration": 0,
    "start_time": "2023-04-27T08:45:19.329Z"
   },
   {
    "duration": 0,
    "start_time": "2023-04-27T08:45:19.330Z"
   },
   {
    "duration": 0,
    "start_time": "2023-04-27T08:45:19.331Z"
   },
   {
    "duration": 0,
    "start_time": "2023-04-27T08:45:19.332Z"
   },
   {
    "duration": 0,
    "start_time": "2023-04-27T08:45:19.333Z"
   },
   {
    "duration": 0,
    "start_time": "2023-04-27T08:45:19.334Z"
   },
   {
    "duration": 0,
    "start_time": "2023-04-27T08:45:19.335Z"
   },
   {
    "duration": 0,
    "start_time": "2023-04-27T08:45:19.335Z"
   },
   {
    "duration": 0,
    "start_time": "2023-04-27T08:45:19.336Z"
   },
   {
    "duration": 0,
    "start_time": "2023-04-27T08:45:19.337Z"
   },
   {
    "duration": 0,
    "start_time": "2023-04-27T08:45:19.338Z"
   },
   {
    "duration": 0,
    "start_time": "2023-04-27T08:45:19.339Z"
   },
   {
    "duration": 0,
    "start_time": "2023-04-27T08:45:19.340Z"
   },
   {
    "duration": 0,
    "start_time": "2023-04-27T08:45:19.341Z"
   },
   {
    "duration": 0,
    "start_time": "2023-04-27T08:45:19.341Z"
   },
   {
    "duration": 0,
    "start_time": "2023-04-27T08:45:19.342Z"
   },
   {
    "duration": 0,
    "start_time": "2023-04-27T08:45:19.343Z"
   },
   {
    "duration": 0,
    "start_time": "2023-04-27T08:45:19.344Z"
   },
   {
    "duration": 0,
    "start_time": "2023-04-27T08:45:19.345Z"
   },
   {
    "duration": 24,
    "start_time": "2023-04-27T08:47:25.288Z"
   },
   {
    "duration": 27,
    "start_time": "2023-04-27T08:48:37.099Z"
   },
   {
    "duration": 32,
    "start_time": "2023-04-27T08:50:02.558Z"
   },
   {
    "duration": 30,
    "start_time": "2023-04-27T08:50:47.848Z"
   },
   {
    "duration": 1684,
    "start_time": "2023-04-27T08:51:11.321Z"
   },
   {
    "duration": 41,
    "start_time": "2023-04-27T08:51:13.007Z"
   },
   {
    "duration": 19,
    "start_time": "2023-04-27T08:51:13.049Z"
   },
   {
    "duration": 18,
    "start_time": "2023-04-27T08:51:13.069Z"
   },
   {
    "duration": 35,
    "start_time": "2023-04-27T08:51:13.090Z"
   },
   {
    "duration": 9,
    "start_time": "2023-04-27T08:51:13.127Z"
   },
   {
    "duration": 58,
    "start_time": "2023-04-27T08:51:13.137Z"
   },
   {
    "duration": 5,
    "start_time": "2023-04-27T08:51:13.197Z"
   },
   {
    "duration": 17,
    "start_time": "2023-04-27T08:51:13.204Z"
   },
   {
    "duration": 20,
    "start_time": "2023-04-27T08:51:13.223Z"
   },
   {
    "duration": 4,
    "start_time": "2023-04-27T08:51:13.245Z"
   },
   {
    "duration": 16,
    "start_time": "2023-04-27T08:51:13.250Z"
   },
   {
    "duration": 892,
    "start_time": "2023-04-27T08:51:13.275Z"
   },
   {
    "duration": 5,
    "start_time": "2023-04-27T08:51:14.171Z"
   },
   {
    "duration": 13,
    "start_time": "2023-04-27T08:51:14.178Z"
   },
   {
    "duration": 65,
    "start_time": "2023-04-27T08:51:14.193Z"
   },
   {
    "duration": 11,
    "start_time": "2023-04-27T08:51:14.260Z"
   },
   {
    "duration": 41,
    "start_time": "2023-04-27T08:51:14.273Z"
   },
   {
    "duration": 25,
    "start_time": "2023-04-27T08:51:14.316Z"
   },
   {
    "duration": 22,
    "start_time": "2023-04-27T08:51:14.344Z"
   },
   {
    "duration": 39,
    "start_time": "2023-04-27T08:51:14.368Z"
   },
   {
    "duration": 8,
    "start_time": "2023-04-27T08:51:14.409Z"
   },
   {
    "duration": 16,
    "start_time": "2023-04-27T08:51:14.419Z"
   },
   {
    "duration": 132,
    "start_time": "2023-04-27T08:51:14.437Z"
   },
   {
    "duration": 3,
    "start_time": "2023-04-27T08:51:14.570Z"
   },
   {
    "duration": 36,
    "start_time": "2023-04-27T08:51:14.574Z"
   },
   {
    "duration": 0,
    "start_time": "2023-04-27T08:51:14.612Z"
   },
   {
    "duration": 0,
    "start_time": "2023-04-27T08:51:14.614Z"
   },
   {
    "duration": 0,
    "start_time": "2023-04-27T08:51:14.615Z"
   },
   {
    "duration": 0,
    "start_time": "2023-04-27T08:51:14.617Z"
   },
   {
    "duration": 0,
    "start_time": "2023-04-27T08:51:14.619Z"
   },
   {
    "duration": 0,
    "start_time": "2023-04-27T08:51:14.621Z"
   },
   {
    "duration": 0,
    "start_time": "2023-04-27T08:51:14.622Z"
   },
   {
    "duration": 0,
    "start_time": "2023-04-27T08:51:14.623Z"
   },
   {
    "duration": 0,
    "start_time": "2023-04-27T08:51:14.625Z"
   },
   {
    "duration": 0,
    "start_time": "2023-04-27T08:51:14.626Z"
   },
   {
    "duration": 0,
    "start_time": "2023-04-27T08:51:14.627Z"
   },
   {
    "duration": 0,
    "start_time": "2023-04-27T08:51:14.628Z"
   },
   {
    "duration": 0,
    "start_time": "2023-04-27T08:51:14.630Z"
   },
   {
    "duration": 0,
    "start_time": "2023-04-27T08:51:14.631Z"
   },
   {
    "duration": 0,
    "start_time": "2023-04-27T08:51:14.729Z"
   },
   {
    "duration": 0,
    "start_time": "2023-04-27T08:51:14.731Z"
   },
   {
    "duration": 0,
    "start_time": "2023-04-27T08:51:14.732Z"
   },
   {
    "duration": 0,
    "start_time": "2023-04-27T08:51:14.733Z"
   },
   {
    "duration": 0,
    "start_time": "2023-04-27T08:51:14.734Z"
   },
   {
    "duration": 0,
    "start_time": "2023-04-27T08:51:14.735Z"
   },
   {
    "duration": 135,
    "start_time": "2023-04-27T08:51:42.022Z"
   },
   {
    "duration": 1239,
    "start_time": "2023-04-27T08:52:10.358Z"
   },
   {
    "duration": 33602,
    "start_time": "2023-04-27T08:56:12.691Z"
   },
   {
    "duration": 10504,
    "start_time": "2023-04-27T08:58:47.867Z"
   },
   {
    "duration": 28145,
    "start_time": "2023-04-27T08:59:04.074Z"
   },
   {
    "duration": 34020,
    "start_time": "2023-04-27T08:59:52.101Z"
   },
   {
    "duration": 35681,
    "start_time": "2023-04-27T09:01:27.208Z"
   },
   {
    "duration": 37759,
    "start_time": "2023-04-27T09:02:15.736Z"
   },
   {
    "duration": 37932,
    "start_time": "2023-04-27T09:03:07.697Z"
   },
   {
    "duration": 37759,
    "start_time": "2023-04-27T09:04:05.640Z"
   },
   {
    "duration": 37648,
    "start_time": "2023-04-27T09:05:49.817Z"
   },
   {
    "duration": 38175,
    "start_time": "2023-04-27T09:07:03.314Z"
   },
   {
    "duration": 37820,
    "start_time": "2023-04-27T09:08:23.487Z"
   },
   {
    "duration": 37434,
    "start_time": "2023-04-27T09:09:14.400Z"
   },
   {
    "duration": 37457,
    "start_time": "2023-04-27T09:10:01.988Z"
   },
   {
    "duration": 16,
    "start_time": "2023-04-27T09:11:31.252Z"
   },
   {
    "duration": 396,
    "start_time": "2023-04-27T09:11:36.737Z"
   },
   {
    "duration": 8625,
    "start_time": "2023-04-27T09:11:52.164Z"
   },
   {
    "duration": 8727,
    "start_time": "2023-04-27T09:12:20.322Z"
   },
   {
    "duration": 7461,
    "start_time": "2023-04-27T09:12:33.792Z"
   },
   {
    "duration": 8720,
    "start_time": "2023-04-27T09:12:45.514Z"
   },
   {
    "duration": 9140,
    "start_time": "2023-04-27T09:13:05.520Z"
   },
   {
    "duration": 8791,
    "start_time": "2023-04-27T09:13:22.159Z"
   },
   {
    "duration": 8976,
    "start_time": "2023-04-27T09:13:35.489Z"
   },
   {
    "duration": 27411,
    "start_time": "2023-04-27T09:13:58.625Z"
   },
   {
    "duration": 7762,
    "start_time": "2023-04-27T09:14:38.908Z"
   },
   {
    "duration": 7925,
    "start_time": "2023-04-27T09:16:29.435Z"
   },
   {
    "duration": 111582,
    "start_time": "2023-04-27T09:19:57.991Z"
   },
   {
    "duration": 11,
    "start_time": "2023-04-27T12:33:47.505Z"
   },
   {
    "duration": 1585,
    "start_time": "2023-04-27T12:34:12.874Z"
   },
   {
    "duration": 164,
    "start_time": "2023-04-27T12:34:14.461Z"
   },
   {
    "duration": 19,
    "start_time": "2023-04-27T12:34:14.627Z"
   },
   {
    "duration": 18,
    "start_time": "2023-04-27T12:34:14.648Z"
   },
   {
    "duration": 16,
    "start_time": "2023-04-27T12:34:14.669Z"
   },
   {
    "duration": 7,
    "start_time": "2023-04-27T12:34:14.687Z"
   },
   {
    "duration": 89,
    "start_time": "2023-04-27T12:34:14.696Z"
   },
   {
    "duration": 5,
    "start_time": "2023-04-27T12:34:14.788Z"
   },
   {
    "duration": 17,
    "start_time": "2023-04-27T12:34:14.795Z"
   },
   {
    "duration": 15,
    "start_time": "2023-04-27T12:34:14.813Z"
   },
   {
    "duration": 5,
    "start_time": "2023-04-27T12:34:14.830Z"
   },
   {
    "duration": 17,
    "start_time": "2023-04-27T12:34:14.836Z"
   },
   {
    "duration": 1001,
    "start_time": "2023-04-27T12:34:14.855Z"
   },
   {
    "duration": 5,
    "start_time": "2023-04-27T12:34:15.860Z"
   },
   {
    "duration": 20,
    "start_time": "2023-04-27T12:34:15.866Z"
   },
   {
    "duration": 32,
    "start_time": "2023-04-27T12:34:15.888Z"
   },
   {
    "duration": 10,
    "start_time": "2023-04-27T12:34:15.922Z"
   },
   {
    "duration": 13,
    "start_time": "2023-04-27T12:34:15.933Z"
   },
   {
    "duration": 8,
    "start_time": "2023-04-27T12:34:15.947Z"
   },
   {
    "duration": 12,
    "start_time": "2023-04-27T12:34:15.956Z"
   },
   {
    "duration": 37,
    "start_time": "2023-04-27T12:34:15.969Z"
   },
   {
    "duration": 8,
    "start_time": "2023-04-27T12:34:16.012Z"
   },
   {
    "duration": 3,
    "start_time": "2023-04-27T12:34:16.022Z"
   },
   {
    "duration": 202,
    "start_time": "2023-04-27T12:34:16.027Z"
   },
   {
    "duration": 3,
    "start_time": "2023-04-27T12:34:16.231Z"
   },
   {
    "duration": 1295,
    "start_time": "2023-04-27T12:34:16.236Z"
   },
   {
    "duration": 111020,
    "start_time": "2023-04-27T12:34:17.533Z"
   },
   {
    "duration": 6,
    "start_time": "2023-04-27T12:36:08.555Z"
   },
   {
    "duration": 52,
    "start_time": "2023-04-27T12:36:08.562Z"
   },
   {
    "duration": 303,
    "start_time": "2023-04-27T12:36:08.616Z"
   },
   {
    "duration": 29,
    "start_time": "2023-04-27T12:36:08.921Z"
   },
   {
    "duration": 1208,
    "start_time": "2023-04-27T12:36:08.953Z"
   },
   {
    "duration": 34992,
    "start_time": "2023-04-27T12:36:10.163Z"
   },
   {
    "duration": 5366,
    "start_time": "2023-04-27T12:36:45.157Z"
   },
   {
    "duration": 95,
    "start_time": "2023-04-27T12:36:50.525Z"
   },
   {
    "duration": 208,
    "start_time": "2023-04-27T12:36:50.622Z"
   },
   {
    "duration": 1241,
    "start_time": "2023-04-27T12:36:50.832Z"
   },
   {
    "duration": 47885,
    "start_time": "2023-04-27T12:36:52.075Z"
   },
   {
    "duration": 6651,
    "start_time": "2023-04-27T12:37:39.962Z"
   },
   {
    "duration": 99,
    "start_time": "2023-04-27T12:37:46.615Z"
   },
   {
    "duration": 113,
    "start_time": "2023-04-27T12:37:46.718Z"
   },
   {
    "duration": 123,
    "start_time": "2023-04-27T12:37:46.833Z"
   },
   {
    "duration": 0,
    "start_time": "2023-04-27T12:37:46.958Z"
   },
   {
    "duration": 0,
    "start_time": "2023-04-27T12:37:46.960Z"
   },
   {
    "duration": 0,
    "start_time": "2023-04-27T12:37:46.961Z"
   },
   {
    "duration": 0,
    "start_time": "2023-04-27T12:37:46.962Z"
   },
   {
    "duration": 0,
    "start_time": "2023-04-27T12:37:46.963Z"
   },
   {
    "duration": 1443,
    "start_time": "2023-04-27T12:39:01.674Z"
   },
   {
    "duration": 8136,
    "start_time": "2023-04-27T12:39:56.288Z"
   },
   {
    "duration": 7602,
    "start_time": "2023-04-27T12:40:16.325Z"
   },
   {
    "duration": 6727,
    "start_time": "2023-04-27T12:41:21.484Z"
   },
   {
    "duration": 1636,
    "start_time": "2023-04-27T12:41:29.788Z"
   },
   {
    "duration": 1980,
    "start_time": "2023-04-27T12:45:02.302Z"
   },
   {
    "duration": 1578,
    "start_time": "2023-04-27T12:45:21.210Z"
   },
   {
    "duration": 788,
    "start_time": "2023-04-27T12:45:31.634Z"
   },
   {
    "duration": 1160,
    "start_time": "2023-04-27T13:55:44.179Z"
   },
   {
    "duration": 781,
    "start_time": "2023-04-27T13:57:54.040Z"
   },
   {
    "duration": 106420,
    "start_time": "2023-04-27T13:59:26.072Z"
   },
   {
    "duration": 25,
    "start_time": "2023-04-27T14:08:51.487Z"
   },
   {
    "duration": 974,
    "start_time": "2023-04-27T14:10:33.123Z"
   },
   {
    "duration": 144286,
    "start_time": "2023-04-27T14:12:09.497Z"
   },
   {
    "duration": 1639,
    "start_time": "2023-04-27T14:15:40.984Z"
   },
   {
    "duration": 446,
    "start_time": "2023-04-27T14:15:53.052Z"
   },
   {
    "duration": 1711,
    "start_time": "2023-04-27T14:17:14.301Z"
   },
   {
    "duration": 1498,
    "start_time": "2023-04-27T14:17:34.557Z"
   },
   {
    "duration": 44,
    "start_time": "2023-04-27T14:17:36.057Z"
   },
   {
    "duration": 69,
    "start_time": "2023-04-27T14:17:36.102Z"
   },
   {
    "duration": 20,
    "start_time": "2023-04-27T14:17:36.173Z"
   },
   {
    "duration": 44,
    "start_time": "2023-04-27T14:17:36.196Z"
   },
   {
    "duration": 9,
    "start_time": "2023-04-27T14:17:36.242Z"
   },
   {
    "duration": 76,
    "start_time": "2023-04-27T14:17:36.253Z"
   },
   {
    "duration": 5,
    "start_time": "2023-04-27T14:17:36.331Z"
   },
   {
    "duration": 40,
    "start_time": "2023-04-27T14:17:36.338Z"
   },
   {
    "duration": 23,
    "start_time": "2023-04-27T14:17:36.380Z"
   },
   {
    "duration": 24,
    "start_time": "2023-04-27T14:17:36.405Z"
   },
   {
    "duration": 38,
    "start_time": "2023-04-27T14:17:36.431Z"
   },
   {
    "duration": 1034,
    "start_time": "2023-04-27T14:17:36.471Z"
   },
   {
    "duration": 5,
    "start_time": "2023-04-27T14:17:37.508Z"
   },
   {
    "duration": 30,
    "start_time": "2023-04-27T14:17:37.515Z"
   },
   {
    "duration": 42,
    "start_time": "2023-04-27T14:17:37.547Z"
   },
   {
    "duration": 10,
    "start_time": "2023-04-27T14:17:37.591Z"
   },
   {
    "duration": 32,
    "start_time": "2023-04-27T14:17:37.603Z"
   },
   {
    "duration": 52,
    "start_time": "2023-04-27T14:17:37.637Z"
   },
   {
    "duration": 26,
    "start_time": "2023-04-27T14:17:37.691Z"
   },
   {
    "duration": 59,
    "start_time": "2023-04-27T14:17:37.719Z"
   },
   {
    "duration": 8,
    "start_time": "2023-04-27T14:17:37.780Z"
   },
   {
    "duration": 14,
    "start_time": "2023-04-27T14:17:37.790Z"
   },
   {
    "duration": 149,
    "start_time": "2023-04-27T14:17:37.806Z"
   },
   {
    "duration": 2,
    "start_time": "2023-04-27T14:17:37.957Z"
   },
   {
    "duration": 864,
    "start_time": "2023-04-27T14:17:37.960Z"
   },
   {
    "duration": 113338,
    "start_time": "2023-04-27T14:17:38.826Z"
   },
   {
    "duration": 6560,
    "start_time": "2023-04-27T14:19:32.166Z"
   },
   {
    "duration": 1895,
    "start_time": "2023-04-27T14:19:38.728Z"
   },
   {
    "duration": 928,
    "start_time": "2023-04-27T14:19:40.625Z"
   },
   {
    "duration": 114322,
    "start_time": "2023-04-27T14:19:41.555Z"
   },
   {
    "duration": 1354,
    "start_time": "2023-04-27T14:21:35.879Z"
   },
   {
    "duration": 86,
    "start_time": "2023-04-27T14:21:37.235Z"
   },
   {
    "duration": 203,
    "start_time": "2023-04-27T14:21:37.328Z"
   },
   {
    "duration": 1012,
    "start_time": "2023-04-27T14:21:37.532Z"
   },
   {
    "duration": 153416,
    "start_time": "2023-04-27T14:21:38.545Z"
   },
   {
    "duration": 1676,
    "start_time": "2023-04-27T14:24:11.963Z"
   },
   {
    "duration": 96,
    "start_time": "2023-04-27T14:24:13.723Z"
   },
   {
    "duration": 139,
    "start_time": "2023-04-27T14:24:13.827Z"
   },
   {
    "duration": 465,
    "start_time": "2023-04-27T14:24:13.968Z"
   },
   {
    "duration": 65332,
    "start_time": "2023-04-27T14:24:14.438Z"
   },
   {
    "duration": 1139,
    "start_time": "2023-04-27T14:25:19.773Z"
   },
   {
    "duration": 214,
    "start_time": "2023-04-27T14:25:20.915Z"
   },
   {
    "duration": 0,
    "start_time": "2023-04-27T14:25:21.131Z"
   },
   {
    "duration": 395,
    "start_time": "2023-04-27T14:39:52.046Z"
   },
   {
    "duration": 144,
    "start_time": "2023-04-27T14:40:03.942Z"
   },
   {
    "duration": 1435,
    "start_time": "2023-04-27T14:48:00.014Z"
   },
   {
    "duration": 41,
    "start_time": "2023-04-27T14:48:01.452Z"
   },
   {
    "duration": 18,
    "start_time": "2023-04-27T14:48:01.495Z"
   },
   {
    "duration": 27,
    "start_time": "2023-04-27T14:48:01.515Z"
   },
   {
    "duration": 20,
    "start_time": "2023-04-27T14:48:01.544Z"
   },
   {
    "duration": 8,
    "start_time": "2023-04-27T14:48:01.566Z"
   },
   {
    "duration": 56,
    "start_time": "2023-04-27T14:48:01.577Z"
   },
   {
    "duration": 5,
    "start_time": "2023-04-27T14:48:01.634Z"
   },
   {
    "duration": 19,
    "start_time": "2023-04-27T14:48:01.641Z"
   },
   {
    "duration": 37,
    "start_time": "2023-04-27T14:48:01.662Z"
   },
   {
    "duration": 27,
    "start_time": "2023-04-27T14:48:01.702Z"
   },
   {
    "duration": 23,
    "start_time": "2023-04-27T14:48:01.731Z"
   },
   {
    "duration": 884,
    "start_time": "2023-04-27T14:48:01.756Z"
   },
   {
    "duration": 5,
    "start_time": "2023-04-27T14:48:02.644Z"
   },
   {
    "duration": 18,
    "start_time": "2023-04-27T14:48:02.651Z"
   },
   {
    "duration": 58,
    "start_time": "2023-04-27T14:48:02.671Z"
   },
   {
    "duration": 17,
    "start_time": "2023-04-27T14:48:02.731Z"
   },
   {
    "duration": 22,
    "start_time": "2023-04-27T14:48:02.750Z"
   },
   {
    "duration": 27,
    "start_time": "2023-04-27T14:48:02.774Z"
   },
   {
    "duration": 15,
    "start_time": "2023-04-27T14:48:02.803Z"
   },
   {
    "duration": 61,
    "start_time": "2023-04-27T14:48:02.819Z"
   },
   {
    "duration": 24,
    "start_time": "2023-04-27T14:48:02.881Z"
   },
   {
    "duration": 21,
    "start_time": "2023-04-27T14:48:02.907Z"
   },
   {
    "duration": 160,
    "start_time": "2023-04-27T14:48:02.930Z"
   },
   {
    "duration": 3,
    "start_time": "2023-04-27T14:48:03.092Z"
   },
   {
    "duration": 897,
    "start_time": "2023-04-27T14:48:03.096Z"
   },
   {
    "duration": 109314,
    "start_time": "2023-04-27T14:48:03.995Z"
   },
   {
    "duration": 7400,
    "start_time": "2023-04-27T14:49:53.312Z"
   },
   {
    "duration": 1605,
    "start_time": "2023-04-27T14:50:00.715Z"
   },
   {
    "duration": 907,
    "start_time": "2023-04-27T14:50:02.323Z"
   },
   {
    "duration": 107481,
    "start_time": "2023-04-27T14:50:03.232Z"
   },
   {
    "duration": 1599,
    "start_time": "2023-04-27T14:51:50.714Z"
   },
   {
    "duration": 99,
    "start_time": "2023-04-27T14:51:52.319Z"
   },
   {
    "duration": 130,
    "start_time": "2023-04-27T14:51:52.420Z"
   },
   {
    "duration": 983,
    "start_time": "2023-04-27T14:51:52.551Z"
   },
   {
    "duration": 144800,
    "start_time": "2023-04-27T14:51:53.536Z"
   },
   {
    "duration": 1676,
    "start_time": "2023-04-27T14:54:18.338Z"
   },
   {
    "duration": 102,
    "start_time": "2023-04-27T14:54:20.017Z"
   },
   {
    "duration": 122,
    "start_time": "2023-04-27T14:54:20.121Z"
   },
   {
    "duration": 447,
    "start_time": "2023-04-27T14:54:20.244Z"
   },
   {
    "duration": 63444,
    "start_time": "2023-04-27T14:54:20.695Z"
   },
   {
    "duration": 1277,
    "start_time": "2023-04-27T14:55:24.141Z"
   },
   {
    "duration": 592,
    "start_time": "2023-04-27T14:55:25.420Z"
   },
   {
    "duration": 149,
    "start_time": "2023-04-27T14:55:26.014Z"
   },
   {
    "duration": 3703,
    "start_time": "2023-12-19T13:47:30.537Z"
   },
   {
    "duration": 2179,
    "start_time": "2023-12-19T13:47:46.636Z"
   },
   {
    "duration": 1245,
    "start_time": "2023-12-19T13:47:48.817Z"
   },
   {
    "duration": 76,
    "start_time": "2023-12-19T13:47:50.063Z"
   },
   {
    "duration": 16,
    "start_time": "2023-12-19T13:47:50.140Z"
   },
   {
    "duration": 10,
    "start_time": "2023-12-19T13:47:50.158Z"
   },
   {
    "duration": 12,
    "start_time": "2023-12-19T13:47:50.169Z"
   },
   {
    "duration": 8,
    "start_time": "2023-12-19T13:47:50.182Z"
   },
   {
    "duration": 49,
    "start_time": "2023-12-19T13:47:50.191Z"
   },
   {
    "duration": 3,
    "start_time": "2023-12-19T13:47:50.242Z"
   },
   {
    "duration": 8,
    "start_time": "2023-12-19T13:47:50.247Z"
   },
   {
    "duration": 27,
    "start_time": "2023-12-19T13:47:50.256Z"
   },
   {
    "duration": 4,
    "start_time": "2023-12-19T13:47:50.284Z"
   },
   {
    "duration": 22,
    "start_time": "2023-12-19T13:47:50.289Z"
   },
   {
    "duration": 1489,
    "start_time": "2023-12-19T13:47:50.314Z"
   },
   {
    "duration": 128,
    "start_time": "2023-12-19T13:47:51.805Z"
   },
   {
    "duration": 0,
    "start_time": "2023-12-19T13:47:51.935Z"
   },
   {
    "duration": 0,
    "start_time": "2023-12-19T13:47:51.936Z"
   },
   {
    "duration": 0,
    "start_time": "2023-12-19T13:47:51.937Z"
   },
   {
    "duration": 0,
    "start_time": "2023-12-19T13:47:51.938Z"
   },
   {
    "duration": 0,
    "start_time": "2023-12-19T13:47:51.939Z"
   },
   {
    "duration": 0,
    "start_time": "2023-12-19T13:47:51.940Z"
   },
   {
    "duration": 0,
    "start_time": "2023-12-19T13:47:51.940Z"
   },
   {
    "duration": 0,
    "start_time": "2023-12-19T13:47:51.942Z"
   },
   {
    "duration": 0,
    "start_time": "2023-12-19T13:47:51.942Z"
   },
   {
    "duration": 0,
    "start_time": "2023-12-19T13:47:51.943Z"
   },
   {
    "duration": 0,
    "start_time": "2023-12-19T13:47:51.944Z"
   },
   {
    "duration": 0,
    "start_time": "2023-12-19T13:47:52.040Z"
   },
   {
    "duration": 1,
    "start_time": "2023-12-19T13:47:52.040Z"
   },
   {
    "duration": 0,
    "start_time": "2023-12-19T13:47:52.042Z"
   },
   {
    "duration": 0,
    "start_time": "2023-12-19T13:47:52.043Z"
   },
   {
    "duration": 0,
    "start_time": "2023-12-19T13:47:52.043Z"
   },
   {
    "duration": 0,
    "start_time": "2023-12-19T13:47:52.044Z"
   },
   {
    "duration": 0,
    "start_time": "2023-12-19T13:47:52.045Z"
   },
   {
    "duration": 0,
    "start_time": "2023-12-19T13:47:52.046Z"
   },
   {
    "duration": 0,
    "start_time": "2023-12-19T13:47:52.047Z"
   },
   {
    "duration": 0,
    "start_time": "2023-12-19T13:47:52.048Z"
   },
   {
    "duration": 0,
    "start_time": "2023-12-19T13:47:52.049Z"
   },
   {
    "duration": 0,
    "start_time": "2023-12-19T13:47:52.050Z"
   },
   {
    "duration": 0,
    "start_time": "2023-12-19T13:47:52.051Z"
   },
   {
    "duration": 0,
    "start_time": "2023-12-19T13:47:52.052Z"
   },
   {
    "duration": 0,
    "start_time": "2023-12-19T13:47:52.052Z"
   },
   {
    "duration": 0,
    "start_time": "2023-12-19T13:47:52.053Z"
   },
   {
    "duration": 0,
    "start_time": "2023-12-19T13:47:52.054Z"
   },
   {
    "duration": 0,
    "start_time": "2023-12-19T13:47:52.055Z"
   },
   {
    "duration": 0,
    "start_time": "2023-12-19T13:47:52.056Z"
   },
   {
    "duration": 0,
    "start_time": "2023-12-19T13:47:52.082Z"
   },
   {
    "duration": 1379,
    "start_time": "2023-12-19T13:48:27.182Z"
   },
   {
    "duration": 1269,
    "start_time": "2023-12-19T13:51:47.801Z"
   }
  ],
  "kernelspec": {
   "display_name": "Python 3 (ipykernel)",
   "language": "python",
   "name": "python3"
  },
  "language_info": {
   "codemirror_mode": {
    "name": "ipython",
    "version": 3
   },
   "file_extension": ".py",
   "mimetype": "text/x-python",
   "name": "python",
   "nbconvert_exporter": "python",
   "pygments_lexer": "ipython3",
   "version": "3.9.13"
  },
  "toc": {
   "base_numbering": 1,
   "nav_menu": {},
   "number_sections": true,
   "sideBar": true,
   "skip_h1_title": true,
   "title_cell": "Содержание",
   "title_sidebar": "Contents",
   "toc_cell": true,
   "toc_position": {
    "height": "calc(100% - 180px)",
    "left": "10px",
    "top": "150px",
    "width": "324.774px"
   },
   "toc_section_display": true,
   "toc_window_display": true
  }
 },
 "nbformat": 4,
 "nbformat_minor": 2
}
