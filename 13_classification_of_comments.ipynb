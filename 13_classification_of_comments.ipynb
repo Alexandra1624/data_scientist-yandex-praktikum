{
 "cells": [
  {
   "cell_type": "markdown",
   "metadata": {
    "toc": true
   },
   "source": [
    "<h1>Содержание<span class=\"tocSkip\"></span></h1>\n",
    "<div class=\"toc\"><ul class=\"toc-item\"><li><span><a href=\"#Подготовка\" data-toc-modified-id=\"Подготовка-1\"><span class=\"toc-item-num\">1&nbsp;&nbsp;</span>Подготовка</a></span><ul class=\"toc-item\"><li><span><a href=\"#Открываем-файл-с-данными-и-изучаем-общую-информацию\" data-toc-modified-id=\"Открываем-файл-с-данными-и-изучаем-общую-информацию-1.1\"><span class=\"toc-item-num\">1.1&nbsp;&nbsp;</span>Открываем файл с данными и изучаем общую информацию</a></span></li><li><span><a href=\"#Очистка-и-лемматизирование-текстов\" data-toc-modified-id=\"Очистка-и-лемматизирование-текстов-1.2\"><span class=\"toc-item-num\">1.2&nbsp;&nbsp;</span>Очистка и лемматизирование текстов</a></span></li><li><span><a href=\"#Исследование-баланса-классов\" data-toc-modified-id=\"Исследование-баланса-классов-1.3\"><span class=\"toc-item-num\">1.3&nbsp;&nbsp;</span>Исследование баланса классов</a></span></li><li><span><a href=\"#Разделим-выборку-на-3-части\" data-toc-modified-id=\"Разделим-выборку-на-3-части-1.4\"><span class=\"toc-item-num\">1.4&nbsp;&nbsp;</span>Разделим выборку на 3 части</a></span></li></ul></li><li><span><a href=\"#Обучение\" data-toc-modified-id=\"Обучение-2\"><span class=\"toc-item-num\">2&nbsp;&nbsp;</span>Обучение</a></span><ul class=\"toc-item\"><li><span><a href=\"#Дерево-решений\" data-toc-modified-id=\"Дерево-решений-2.1\"><span class=\"toc-item-num\">2.1&nbsp;&nbsp;</span>Дерево решений</a></span></li><li><span><a href=\"#Случайный-лес\" data-toc-modified-id=\"Случайный-лес-2.2\"><span class=\"toc-item-num\">2.2&nbsp;&nbsp;</span>Случайный лес</a></span></li><li><span><a href=\"#Логистическая-регрессия\" data-toc-modified-id=\"Логистическая-регрессия-2.3\"><span class=\"toc-item-num\">2.3&nbsp;&nbsp;</span>Логистическая регрессия</a></span></li></ul></li><li><span><a href=\"#Тестирование-модели\" data-toc-modified-id=\"Тестирование-модели-3\"><span class=\"toc-item-num\">3&nbsp;&nbsp;</span>Тестирование модели</a></span></li><li><span><a href=\"#Выводы\" data-toc-modified-id=\"Выводы-4\"><span class=\"toc-item-num\">4&nbsp;&nbsp;</span>Выводы</a></span></li></ul></div>"
   ]
  },
  {
   "cell_type": "markdown",
   "metadata": {},
   "source": [
    "# Проект для «Викишоп»"
   ]
  },
  {
   "cell_type": "markdown",
   "metadata": {},
   "source": [
    "Интернет-магазин «Викишоп» запускает новый сервис. Теперь пользователи могут редактировать и дополнять описания товаров, как в вики-сообществах. То есть клиенты предлагают свои правки и комментируют изменения других. Магазину нужен инструмент, который будет искать токсичные комментарии и отправлять их на модерацию. \n",
    "\n",
    "Обучите модель классифицировать комментарии на позитивные и негативные. В вашем распоряжении набор данных с разметкой о токсичности правок.\n",
    "\n",
    "Постройте модель со значением метрики качества *F1* не меньше 0.75. \n",
    "\n",
    "**Инструкция по выполнению проекта**\n",
    "\n",
    "1. Загрузите и подготовьте данные.\n",
    "2. Обучите разные модели. \n",
    "3. Сделайте выводы.\n",
    "\n",
    "Для выполнения проекта применять *BERT* необязательно, но вы можете попробовать.\n",
    "\n",
    "**Описание данных**\n",
    "\n",
    "Данные находятся в файле `toxic_comments.csv`. Столбец *text* в нём содержит текст комментария, а *toxic* — целевой признак."
   ]
  },
  {
   "cell_type": "markdown",
   "metadata": {},
   "source": [
    "## Подготовка"
   ]
  },
  {
   "cell_type": "markdown",
   "metadata": {},
   "source": [
    "### Открываем файл с данными и изучаем общую информацию"
   ]
  },
  {
   "cell_type": "code",
   "execution_count": 1,
   "metadata": {},
   "outputs": [
    {
     "name": "stderr",
     "output_type": "stream",
     "text": [
      "[nltk_data] Downloading package wordnet to /home/jovyan/nltk_data...\n",
      "[nltk_data]   Package wordnet is already up-to-date!\n",
      "[nltk_data] Downloading package punkt to /home/jovyan/nltk_data...\n",
      "[nltk_data]   Package punkt is already up-to-date!\n",
      "[nltk_data] Downloading package omw-1.4 to /home/jovyan/nltk_data...\n",
      "[nltk_data]   Package omw-1.4 is already up-to-date!\n",
      "[nltk_data] Downloading package averaged_perceptron_tagger to\n",
      "[nltk_data]     /home/jovyan/nltk_data...\n",
      "[nltk_data]   Package averaged_perceptron_tagger is already up-to-\n",
      "[nltk_data]       date!\n",
      "[nltk_data] Downloading package stopwords to /home/jovyan/nltk_data...\n",
      "[nltk_data]   Package stopwords is already up-to-date!\n"
     ]
    }
   ],
   "source": [
    "# Импорт библиотек\n",
    "import numpy as np\n",
    "import os\n",
    "import pandas as pd\n",
    "import re \n",
    "\n",
    "import nltk\n",
    "nltk.download('wordnet')\n",
    "nltk.download('punkt')\n",
    "nltk.download('omw-1.4')\n",
    "nltk.download('averaged_perceptron_tagger')\n",
    "nltk.download('stopwords')\n",
    "\n",
    "from nltk.tokenize import word_tokenize \n",
    "from nltk.stem import WordNetLemmatizer\n",
    "from nltk.corpus import wordnet\n",
    "from nltk.corpus import stopwords as nltk_stopwords\n",
    "\n",
    "from sklearn.feature_extraction.text import TfidfVectorizer \n",
    "from sklearn.model_selection import train_test_split\n",
    "\n",
    "from sklearn.ensemble import RandomForestClassifier\n",
    "from sklearn.linear_model import LogisticRegression\n",
    "from sklearn.tree import DecisionTreeClassifier\n",
    "\n",
    "from sklearn.metrics import f1_score"
   ]
  },
  {
   "cell_type": "code",
   "execution_count": 2,
   "metadata": {},
   "outputs": [],
   "source": [
    "# чтение файлов с данными\n",
    "pth1 = 'toxic_comments.csv'\n",
    "pth1_local = 'D:/DS/datasets' + pth1\n",
    "    \n",
    "if os.path.exists(pth1):\n",
    "    data = pd.read_csv(pth1) \n",
    "    \n",
    "elif os.path.exists(pth1_local):\n",
    "    data = pd.read_csv(pth1_local)\n",
    "\n",
    "else:\n",
    "    print('Файлы не найдены')"
   ]
  },
  {
   "cell_type": "code",
   "execution_count": 3,
   "metadata": {
    "scrolled": true
   },
   "outputs": [
    {
     "data": {
      "text/html": [
       "<div>\n",
       "<style scoped>\n",
       "    .dataframe tbody tr th:only-of-type {\n",
       "        vertical-align: middle;\n",
       "    }\n",
       "\n",
       "    .dataframe tbody tr th {\n",
       "        vertical-align: top;\n",
       "    }\n",
       "\n",
       "    .dataframe thead th {\n",
       "        text-align: right;\n",
       "    }\n",
       "</style>\n",
       "<table border=\"1\" class=\"dataframe\">\n",
       "  <thead>\n",
       "    <tr style=\"text-align: right;\">\n",
       "      <th></th>\n",
       "      <th>text</th>\n",
       "      <th>toxic</th>\n",
       "    </tr>\n",
       "  </thead>\n",
       "  <tbody>\n",
       "    <tr>\n",
       "      <th>0</th>\n",
       "      <td>Explanation\\nWhy the edits made under my usern...</td>\n",
       "      <td>0</td>\n",
       "    </tr>\n",
       "    <tr>\n",
       "      <th>1</th>\n",
       "      <td>D'aww! He matches this background colour I'm s...</td>\n",
       "      <td>0</td>\n",
       "    </tr>\n",
       "    <tr>\n",
       "      <th>2</th>\n",
       "      <td>Hey man, I'm really not trying to edit war. It...</td>\n",
       "      <td>0</td>\n",
       "    </tr>\n",
       "    <tr>\n",
       "      <th>3</th>\n",
       "      <td>\"\\nMore\\nI can't make any real suggestions on ...</td>\n",
       "      <td>0</td>\n",
       "    </tr>\n",
       "    <tr>\n",
       "      <th>4</th>\n",
       "      <td>You, sir, are my hero. Any chance you remember...</td>\n",
       "      <td>0</td>\n",
       "    </tr>\n",
       "  </tbody>\n",
       "</table>\n",
       "</div>"
      ],
      "text/plain": [
       "                                                text  toxic\n",
       "0  Explanation\\nWhy the edits made under my usern...      0\n",
       "1  D'aww! He matches this background colour I'm s...      0\n",
       "2  Hey man, I'm really not trying to edit war. It...      0\n",
       "3  \"\\nMore\\nI can't make any real suggestions on ...      0\n",
       "4  You, sir, are my hero. Any chance you remember...      0"
      ]
     },
     "execution_count": 3,
     "metadata": {},
     "output_type": "execute_result"
    }
   ],
   "source": [
    "#Выводим первые 5 строчек датафрейма на экран.\n",
    "data.head()"
   ]
  },
  {
   "cell_type": "code",
   "execution_count": 4,
   "metadata": {
    "scrolled": true
   },
   "outputs": [
    {
     "name": "stdout",
     "output_type": "stream",
     "text": [
      "<class 'pandas.core.frame.DataFrame'>\n",
      "RangeIndex: 159292 entries, 0 to 159291\n",
      "Data columns (total 2 columns):\n",
      " #   Column  Non-Null Count   Dtype \n",
      "---  ------  --------------   ----- \n",
      " 0   text    159292 non-null  object\n",
      " 1   toxic   159292 non-null  int64 \n",
      "dtypes: int64(1), object(1)\n",
      "memory usage: 2.4+ MB\n"
     ]
    }
   ],
   "source": [
    "data.info() #Выводим основную информацию о датафрейме"
   ]
  },
  {
   "cell_type": "code",
   "execution_count": 5,
   "metadata": {},
   "outputs": [],
   "source": [
    "data = data.sample(50000).reset_index(drop=True) # мой компьютер не может обработать 159292. Выделила из датасета 50000 строк."
   ]
  },
  {
   "cell_type": "code",
   "execution_count": 6,
   "metadata": {
    "scrolled": false
   },
   "outputs": [
    {
     "name": "stdout",
     "output_type": "stream",
     "text": [
      "<class 'pandas.core.frame.DataFrame'>\n",
      "RangeIndex: 50000 entries, 0 to 49999\n",
      "Data columns (total 2 columns):\n",
      " #   Column  Non-Null Count  Dtype \n",
      "---  ------  --------------  ----- \n",
      " 0   text    50000 non-null  object\n",
      " 1   toxic   50000 non-null  int64 \n",
      "dtypes: int64(1), object(1)\n",
      "memory usage: 781.4+ KB\n"
     ]
    }
   ],
   "source": [
    "data.info() #Выводим основную информацию о датафрейме"
   ]
  },
  {
   "cell_type": "code",
   "execution_count": 7,
   "metadata": {
    "scrolled": true
   },
   "outputs": [
    {
     "data": {
      "text/plain": [
       "0"
      ]
     },
     "execution_count": 7,
     "metadata": {},
     "output_type": "execute_result"
    }
   ],
   "source": [
    "# Посчитаем количество полных дубликатов.\n",
    "data.duplicated().sum()"
   ]
  },
  {
   "cell_type": "code",
   "execution_count": 8,
   "metadata": {
    "scrolled": false
   },
   "outputs": [
    {
     "data": {
      "text/html": [
       "<style  type=\"text/css\" >\n",
       "#T_a6529_row0_col0,#T_a6529_row1_col0{\n",
       "            background-color:  #3b4cc0;\n",
       "            color:  #f1f1f1;\n",
       "        }</style><table id=\"T_a6529_\" ><thead>    <tr>        <th class=\"blank level0\" ></th>        <th class=\"col_heading level0 col0\" >0</th>    </tr></thead><tbody>\n",
       "                <tr>\n",
       "                        <th id=\"T_a6529_level0_row0\" class=\"row_heading level0 row0\" >text</th>\n",
       "                        <td id=\"T_a6529_row0_col0\" class=\"data row0 col0\" >0.000000</td>\n",
       "            </tr>\n",
       "            <tr>\n",
       "                        <th id=\"T_a6529_level0_row1\" class=\"row_heading level0 row1\" >toxic</th>\n",
       "                        <td id=\"T_a6529_row1_col0\" class=\"data row1 col0\" >0.000000</td>\n",
       "            </tr>\n",
       "    </tbody></table>"
      ],
      "text/plain": [
       "<pandas.io.formats.style.Styler at 0x7f677a6eb700>"
      ]
     },
     "execution_count": 8,
     "metadata": {},
     "output_type": "execute_result"
    }
   ],
   "source": [
    "pd.DataFrame(round(data.isna().mean()*100,)).style.background_gradient('coolwarm')"
   ]
  },
  {
   "cell_type": "markdown",
   "metadata": {},
   "source": [
    "**Вывод:**\n",
    "\n",
    " В выборке 159292 строк и 2 столбца. Текст на английском языке. Полных дубликатов и пропусков нет."
   ]
  },
  {
   "cell_type": "markdown",
   "metadata": {},
   "source": [
    "### Очистка и лемматизирование текстов"
   ]
  },
  {
   "cell_type": "code",
   "execution_count": 9,
   "metadata": {},
   "outputs": [],
   "source": [
    "# инициализируем Wordnet Lemmatizer\n",
    "lemmatizer = WordNetLemmatizer()"
   ]
  },
  {
   "cell_type": "code",
   "execution_count": 10,
   "metadata": {},
   "outputs": [],
   "source": [
    "# напишем функцию для pos-тегов - маркировки частей речи\n",
    "def get_wordnet_pos(word):\n",
    "    tag = nltk.pos_tag([word])[0][1][0].upper()\n",
    "    tag_dict = {\"J\": wordnet.ADJ,\n",
    "                \"N\": wordnet.NOUN,\n",
    "                \"V\": wordnet.VERB,\n",
    "                \"R\": wordnet.ADV}\n",
    "    return tag_dict.get(tag, wordnet.NOUN)"
   ]
  },
  {
   "cell_type": "code",
   "execution_count": 11,
   "metadata": {},
   "outputs": [],
   "source": [
    "# напишем функцию для очистки и лемматизации текста с маркированными частями речи\n",
    "def clear_lemmatize(text):\n",
    "    text = text.lower() # переведем в нижний регистр\n",
    "    text = re.sub(r'[^a-zA-Z]', ' ', text) # оставим только буквы\n",
    "    clear = text.split() \n",
    "    lemm = []\n",
    "    # в цикле лемматизируем очищенный текст\n",
    "    for i in range(len(clear)):\n",
    "        lemm.append(lemmatizer.lemmatize(clear[i], get_wordnet_pos(clear[i])))\n",
    "    return \" \".join(lemm)"
   ]
  },
  {
   "cell_type": "code",
   "execution_count": 12,
   "metadata": {},
   "outputs": [],
   "source": [
    "data['prepared_text'] = data['text'].apply(clear_lemmatize)"
   ]
  },
  {
   "cell_type": "code",
   "execution_count": 13,
   "metadata": {},
   "outputs": [
    {
     "data": {
      "text/html": [
       "<div>\n",
       "<style scoped>\n",
       "    .dataframe tbody tr th:only-of-type {\n",
       "        vertical-align: middle;\n",
       "    }\n",
       "\n",
       "    .dataframe tbody tr th {\n",
       "        vertical-align: top;\n",
       "    }\n",
       "\n",
       "    .dataframe thead th {\n",
       "        text-align: right;\n",
       "    }\n",
       "</style>\n",
       "<table border=\"1\" class=\"dataframe\">\n",
       "  <thead>\n",
       "    <tr style=\"text-align: right;\">\n",
       "      <th></th>\n",
       "      <th>text</th>\n",
       "      <th>toxic</th>\n",
       "      <th>prepared_text</th>\n",
       "    </tr>\n",
       "  </thead>\n",
       "  <tbody>\n",
       "    <tr>\n",
       "      <th>0</th>\n",
       "      <td>I could care less about American Hefeweizen. M...</td>\n",
       "      <td>0</td>\n",
       "      <td>i could care less about american hefeweizen ma...</td>\n",
       "    </tr>\n",
       "    <tr>\n",
       "      <th>1</th>\n",
       "      <td>So, after you, if I got it right, NATO is vand...</td>\n",
       "      <td>0</td>\n",
       "      <td>so after you if i get it right nato be vandali...</td>\n",
       "    </tr>\n",
       "    <tr>\n",
       "      <th>2</th>\n",
       "      <td>Given recent laws/cases in the US a Voter ID a...</td>\n",
       "      <td>0</td>\n",
       "      <td>give recent law case in the u a voter id artic...</td>\n",
       "    </tr>\n",
       "    <tr>\n",
       "      <th>3</th>\n",
       "      <td>Betty ok look your right but 10 year olds don'...</td>\n",
       "      <td>0</td>\n",
       "      <td>betty ok look your right but year old don t ne...</td>\n",
       "    </tr>\n",
       "    <tr>\n",
       "      <th>4</th>\n",
       "      <td>\"\\n\\nBoy was that difficult. ¦   \"</td>\n",
       "      <td>0</td>\n",
       "      <td>boy be that difficult</td>\n",
       "    </tr>\n",
       "  </tbody>\n",
       "</table>\n",
       "</div>"
      ],
      "text/plain": [
       "                                                text  toxic  \\\n",
       "0  I could care less about American Hefeweizen. M...      0   \n",
       "1  So, after you, if I got it right, NATO is vand...      0   \n",
       "2  Given recent laws/cases in the US a Voter ID a...      0   \n",
       "3  Betty ok look your right but 10 year olds don'...      0   \n",
       "4                 \"\\n\\nBoy was that difficult. ¦   \"      0   \n",
       "\n",
       "                                       prepared_text  \n",
       "0  i could care less about american hefeweizen ma...  \n",
       "1  so after you if i get it right nato be vandali...  \n",
       "2  give recent law case in the u a voter id artic...  \n",
       "3  betty ok look your right but year old don t ne...  \n",
       "4                              boy be that difficult  "
      ]
     },
     "execution_count": 13,
     "metadata": {},
     "output_type": "execute_result"
    }
   ],
   "source": [
    "#Выводим первые 5 строчек датафрейма на экран.\n",
    "data.head()"
   ]
  },
  {
   "cell_type": "markdown",
   "metadata": {},
   "source": [
    "**Вывод:**\n",
    "\n",
    "Провели очистку и лемматизацию комментариев."
   ]
  },
  {
   "cell_type": "markdown",
   "metadata": {},
   "source": [
    "### Исследование баланса классов"
   ]
  },
  {
   "cell_type": "code",
   "execution_count": 14,
   "metadata": {},
   "outputs": [
    {
     "name": "stdout",
     "output_type": "stream",
     "text": [
      "0    0.89812\n",
      "1    0.10188\n",
      "Name: toxic, dtype: float64\n"
     ]
    },
    {
     "data": {
      "image/png": "[encoded data removed]",
      "text/plain": [
       "<Figure size 216x216 with 1 Axes>"
      ]
     },
     "metadata": {
      "needs_background": "light"
     },
     "output_type": "display_data"
    }
   ],
   "source": [
    "print(data['toxic'].value_counts(normalize=1))\n",
    "data['toxic'].plot(kind ='hist', bins=2, figsize=(3,3));"
   ]
  },
  {
   "cell_type": "markdown",
   "metadata": {},
   "source": [
    "**Вывод:**\n",
    "\n",
    "Из полученных данных видно, что в целевом признаке наблюдается достаточно сильный дисбаланс классов.Только 10% отражают негативные комментарии. Разница почти в 9 раз."
   ]
  },
  {
   "cell_type": "markdown",
   "metadata": {},
   "source": [
    "### Разделим выборку на 3 части"
   ]
  },
  {
   "cell_type": "code",
   "execution_count": 15,
   "metadata": {},
   "outputs": [],
   "source": [
    "# Зададим RandomState\n",
    "RANDOM_STATE = 115247\n",
    "\n",
    "# Разбиваем выборку в соотношении 60/20/20. \n",
    "train, valid, test = np.split(data.sample(frac=1, random_state=RANDOM_STATE), [int(.6*len(data)), int(.8*len(data))])"
   ]
  },
  {
   "cell_type": "code",
   "execution_count": 16,
   "metadata": {},
   "outputs": [
    {
     "name": "stdout",
     "output_type": "stream",
     "text": [
      "(30000, 3)\n",
      "(10000, 3)\n"
     ]
    },
    {
     "data": {
      "text/plain": [
       "(10000, 3)"
      ]
     },
     "execution_count": 16,
     "metadata": {},
     "output_type": "execute_result"
    }
   ],
   "source": [
    "# Проверяем сколько строк и столбцов в полученных датасетах\n",
    "print(train.shape)\n",
    "print(valid.shape)\n",
    "test.shape"
   ]
  },
  {
   "cell_type": "markdown",
   "metadata": {},
   "source": [
    "Разделили датасет на 3 части в соотношении 60/20/20."
   ]
  },
  {
   "cell_type": "code",
   "execution_count": 17,
   "metadata": {},
   "outputs": [],
   "source": [
    "target_train = train['toxic']\n",
    "features_train = train['prepared_text']\n",
    "\n",
    "target_valid = valid['toxic']\n",
    "features_valid = valid['prepared_text']\n",
    "\n",
    "target_test = test['toxic']\n",
    "features_test = test['prepared_text']"
   ]
  },
  {
   "cell_type": "code",
   "execution_count": 18,
   "metadata": {},
   "outputs": [],
   "source": [
    "# найдём стоп-слова\n",
    "stopwords = set(nltk_stopwords.words('english'))\n",
    "\n",
    "# оздадим счётчик, указав в нём стоп-слова\n",
    "count_tf_idf = TfidfVectorizer(stop_words=stopwords)"
   ]
  },
  {
   "cell_type": "code",
   "execution_count": 19,
   "metadata": {},
   "outputs": [],
   "source": [
    "features_train = count_tf_idf.fit_transform(features_train)\n",
    "features_valid = count_tf_idf.transform(features_valid)\n",
    "features_test = count_tf_idf.transform(features_test)"
   ]
  },
  {
   "cell_type": "markdown",
   "metadata": {},
   "source": [
    "## Обучение"
   ]
  },
  {
   "cell_type": "markdown",
   "metadata": {},
   "source": [
    "Чтобы убрать дисбаланс классов, укажем гиперпараметр class_weight='balanced'"
   ]
  },
  {
   "cell_type": "markdown",
   "metadata": {},
   "source": [
    "### Дерево решений"
   ]
  },
  {
   "cell_type": "code",
   "execution_count": 20,
   "metadata": {},
   "outputs": [
    {
     "name": "stdout",
     "output_type": "stream",
     "text": [
      "Лучшая F1-мера: 0.6101123595505618 Глубина дерева: 18\n"
     ]
    }
   ],
   "source": [
    "best_f1 = 0\n",
    "best_depth = 0\n",
    "best_model = None\n",
    "for depth in range(2, 20, 2):\n",
    "    model = DecisionTreeClassifier(random_state=RANDOM_STATE, max_depth=depth,\n",
    "                                  class_weight='balanced') \n",
    "    model.fit(features_train, target_train) # обучите модель на тренировочной выборке\n",
    "    predictions_valid = model.predict(features_valid) # предсказания модели на валидационной выборке\n",
    "      \n",
    "    f1_tree = f1_score(target_valid, predictions_valid)\n",
    "    \n",
    "    if f1_tree > best_f1:\n",
    "        best_model = model\n",
    "        best_depth = depth\n",
    "        best_f1 = f1_tree\n",
    "        \n",
    "print(\"Лучшая F1-мера:\", best_f1, \"Глубина дерева:\", best_depth)"
   ]
  },
  {
   "cell_type": "markdown",
   "metadata": {},
   "source": [
    "### Случайный лес"
   ]
  },
  {
   "cell_type": "code",
   "execution_count": 21,
   "metadata": {},
   "outputs": [
    {
     "name": "stdout",
     "output_type": "stream",
     "text": [
      "Лучшая F1-мера 0.5028644175684278 Количество деревьев: 25 Глубина дерева: 21\n"
     ]
    }
   ],
   "source": [
    "best_f1 = 0\n",
    "best_est = 0\n",
    "best_depth = 0\n",
    "best_model = None\n",
    "for est in range(20, 50):\n",
    "    for depth in range(10, 25):\n",
    "        model = RandomForestClassifier(random_state=RANDOM_STATE, n_estimators=est, max_depth = depth,\n",
    "                                  class_weight='balanced') \n",
    "        model.fit(features_train, target_train) # обучите модель на тренировочной выборке\n",
    "        predictions_valid = model.predict(features_valid) # предсказания модели на валидационной выборке\n",
    "      \n",
    "        f1_tree = f1_score(target_valid, predictions_valid)\n",
    "    \n",
    "        if f1_tree > best_f1:\n",
    "            best_model = model\n",
    "            best_est = est\n",
    "            best_depth = depth\n",
    "            best_f1 = f1_tree\n",
    "\n",
    "print(\"Лучшая F1-мера\", best_f1, \"Количество деревьев:\", best_est, \"Глубина дерева:\", best_depth)"
   ]
  },
  {
   "cell_type": "markdown",
   "metadata": {},
   "source": [
    "### Логистическая регрессия"
   ]
  },
  {
   "cell_type": "code",
   "execution_count": 22,
   "metadata": {},
   "outputs": [
    {
     "name": "stdout",
     "output_type": "stream",
     "text": [
      "F1-мера 0.757454383622608\n",
      "F1-мера 0.7613483146067416\n",
      "F1-мера 0.7643600180913613\n",
      "F1-мера 0.7637687756030952\n",
      "F1-мера 0.7626886145404663\n",
      "F1-мера 0.7623853211009175\n",
      "F1-мера 0.7611596870685687\n",
      "F1-мера 0.7612009237875289\n",
      "F1-мера 0.7583333333333334\n",
      "F1-мера 0.7560296846011132\n",
      "F1-мера 0.7575616565844578\n",
      "F1-мера 0.7582673497904052\n",
      "F1-мера 0.7598130841121495\n",
      "F1-мера 0.757454383622608\n",
      "F1-мера 0.7613483146067416\n",
      "F1-мера 0.7643600180913613\n",
      "F1-мера 0.7637687756030952\n",
      "F1-мера 0.7626886145404663\n",
      "F1-мера 0.7623853211009175\n",
      "F1-мера 0.7611596870685687\n",
      "F1-мера 0.7612009237875289\n",
      "F1-мера 0.7583333333333334\n",
      "F1-мера 0.7560296846011132\n",
      "F1-мера 0.7575616565844578\n",
      "F1-мера 0.7582673497904052\n",
      "F1-мера 0.7598130841121495\n",
      "Лучшая F1-мера 0.7643600180913613 Глубина дерева: 900 intercept_scaling: 4\n"
     ]
    }
   ],
   "source": [
    "best_f1 = 0\n",
    "best_max_iter = 0\n",
    "best_c =0.1\n",
    "for max_iter in range(900, 1000, 50):\n",
    "    for c in range(2, 15):\n",
    "        model = LogisticRegression(random_state=RANDOM_STATE, max_iter=max_iter,\n",
    "                                  class_weight='balanced', C = c)  \n",
    "        model.fit(features_train, target_train) # обучите модель на тренировочной выборке\n",
    "        predictions_valid = model.predict(features_valid) # предсказания модели на валидационной выборке\n",
    "      \n",
    "        f1_tree = f1_score(target_valid, predictions_valid)\n",
    "        print(\"F1-мера\", f1_tree)\n",
    "   \n",
    "        if f1_tree > best_f1:\n",
    "            best_max_iter = max_iter\n",
    "            best_f1 = f1_tree\n",
    "            best_c = c\n",
    "\n",
    "print(\"Лучшая F1-мера\", best_f1, \"Глубина дерева:\", best_max_iter, \"C:\", best_c)"
   ]
  },
  {
   "cell_type": "markdown",
   "metadata": {},
   "source": [
    "**Вывод:**\n",
    "\n",
    "Наилучший результат получили для ***Логистической регрессии***. \n",
    "\n",
    "\n",
    "| \t|Дерево решений   \t|Случайный лес   \t|   Логистическая регрессия  \t|   \n",
    "|:---\t|:---:\t|:---:\t|:---:\t|\n",
    "|F1-мера    \t|0.6101123595505618   \t|0.5028644175684278 \t| 0.7643600180913613\t| "
   ]
  },
  {
   "cell_type": "markdown",
   "metadata": {},
   "source": [
    "## Тестирование модели"
   ]
  },
  {
   "cell_type": "code",
   "execution_count": 24,
   "metadata": {
    "scrolled": true
   },
   "outputs": [
    {
     "name": "stdout",
     "output_type": "stream",
     "text": [
      "F1-мера для тестовой выборки 0.7445323406235459 C: 4\n"
     ]
    }
   ],
   "source": [
    "model = LogisticRegression(random_state=RANDOM_STATE, max_iter=900,\n",
    "                                  class_weight='balanced', C = 4)    \n",
    "model.fit(features_train, target_train) # обучите модель на тренировочной выборке\n",
    "predictions_test = model.predict(features_test) # предсказания модели на валидационной выборке\n",
    "      \n",
    "f1_tree = f1_score(target_test, predictions_test)\n",
    "\n",
    "print(\"F1-мера для тестовой выборки\", f1_tree, \"C:\", 4)"
   ]
  },
  {
   "cell_type": "markdown",
   "metadata": {},
   "source": [
    "**Вывод:**\n",
    "\n",
    "F1-мера при тестировании показала результат, похожий для обучающей выборки.\n"
   ]
  },
  {
   "cell_type": "markdown",
   "metadata": {},
   "source": [
    "## Выводы"
   ]
  },
  {
   "cell_type": "markdown",
   "metadata": {},
   "source": [
    "Датасет состоит из 159292 строк. В нем нет полных дубликатов и пропущенных значений.\n",
    "\n",
    "Для обработки компьютером данных, выбрано 50000 строк, на которых строим модели.\n",
    "\n",
    "Комментарии были очищены от лемматизированы.\n",
    "\n",
    "Был выявлен дисбаланс классов (почти в 9 раз). Поэтому в модели добавлена строка class_weight='balanced'. Для взвешивания классов.\n",
    "\n",
    "Обучены 3 модели:\n",
    "\n",
    "1. Дерево решений\n",
    "2. Случайный лес\n",
    "3. Логистическая регрессия\n",
    "\n",
    "Наилучший результат показала модель ***Логистическая регрессия***. F1-мера = 0.7643600180913613.\n",
    "\n",
    "На тестовой выборке эта модель показала качество немного хуже. F1-мера = 0.7445323406235459"
   ]
  }
 ],
 "metadata": {
  "ExecuteTimeLog": [
   {
    "duration": 3077,
    "start_time": "2023-06-30T12:06:02.069Z"
   },
   {
    "duration": 4992,
    "start_time": "2023-06-30T12:06:40.467Z"
   },
   {
    "duration": 26,
    "start_time": "2023-06-30T12:07:08.542Z"
   },
   {
    "duration": 6366,
    "start_time": "2023-06-30T14:45:16.072Z"
   },
   {
    "duration": 2458,
    "start_time": "2023-06-30T14:45:33.780Z"
   },
   {
    "duration": 13,
    "start_time": "2023-06-30T14:45:36.240Z"
   },
   {
    "duration": 26,
    "start_time": "2023-06-30T14:45:53.013Z"
   },
   {
    "duration": 229,
    "start_time": "2023-06-30T14:46:18.076Z"
   },
   {
    "duration": 197,
    "start_time": "2023-06-30T14:46:29.344Z"
   },
   {
    "duration": 494,
    "start_time": "2023-06-30T14:46:37.610Z"
   },
   {
    "duration": 3,
    "start_time": "2023-06-30T16:04:10.673Z"
   },
   {
    "duration": 164,
    "start_time": "2023-06-30T16:18:54.127Z"
   },
   {
    "duration": 373,
    "start_time": "2023-06-30T16:21:00.291Z"
   },
   {
    "duration": 9,
    "start_time": "2023-06-30T16:21:16.575Z"
   },
   {
    "duration": 319,
    "start_time": "2023-06-30T16:34:25.047Z"
   },
   {
    "duration": 8098,
    "start_time": "2023-06-30T16:37:06.456Z"
   },
   {
    "duration": 3617,
    "start_time": "2023-06-30T16:37:14.555Z"
   },
   {
    "duration": 12,
    "start_time": "2023-06-30T16:37:18.173Z"
   },
   {
    "duration": 45,
    "start_time": "2023-06-30T16:37:18.186Z"
   },
   {
    "duration": 318,
    "start_time": "2023-06-30T16:37:18.233Z"
   },
   {
    "duration": 416,
    "start_time": "2023-06-30T16:37:18.557Z"
   },
   {
    "duration": 3,
    "start_time": "2023-06-30T16:37:18.974Z"
   },
   {
    "duration": 10,
    "start_time": "2023-06-30T16:37:18.979Z"
   },
   {
    "duration": 202,
    "start_time": "2023-06-30T16:37:18.990Z"
   },
   {
    "duration": 0,
    "start_time": "2023-06-30T16:37:19.193Z"
   },
   {
    "duration": 4924,
    "start_time": "2023-06-30T16:38:44.043Z"
   },
   {
    "duration": 7,
    "start_time": "2023-06-30T16:38:51.753Z"
   },
   {
    "duration": 3908,
    "start_time": "2023-06-30T16:39:11.241Z"
   },
   {
    "duration": 484,
    "start_time": "2023-06-30T16:39:27.044Z"
   },
   {
    "duration": 18,
    "start_time": "2023-06-30T16:40:04.175Z"
   },
   {
    "duration": 2223,
    "start_time": "2023-06-30T17:48:26.165Z"
   },
   {
    "duration": 1027,
    "start_time": "2023-06-30T17:48:28.390Z"
   },
   {
    "duration": 12,
    "start_time": "2023-06-30T17:48:29.419Z"
   },
   {
    "duration": 22,
    "start_time": "2023-06-30T17:48:29.433Z"
   },
   {
    "duration": 230,
    "start_time": "2023-06-30T17:48:29.457Z"
   },
   {
    "duration": 375,
    "start_time": "2023-06-30T17:48:29.689Z"
   },
   {
    "duration": 3,
    "start_time": "2023-06-30T17:48:30.065Z"
   },
   {
    "duration": 26,
    "start_time": "2023-06-30T17:48:30.069Z"
   },
   {
    "duration": 4117,
    "start_time": "2023-06-30T17:48:30.096Z"
   },
   {
    "duration": 4189800,
    "start_time": "2023-06-30T17:48:34.225Z"
   },
   {
    "duration": 0,
    "start_time": "2023-06-30T18:58:24.027Z"
   },
   {
    "duration": 3,
    "start_time": "2023-06-30T19:01:13.884Z"
   },
   {
    "duration": 541,
    "start_time": "2023-06-30T19:01:21.834Z"
   },
   {
    "duration": 972,
    "start_time": "2023-06-30T19:01:29.397Z"
   },
   {
    "duration": 2841,
    "start_time": "2023-06-30T19:01:36.981Z"
   },
   {
    "duration": 7,
    "start_time": "2023-06-30T19:01:42.475Z"
   },
   {
    "duration": 4136,
    "start_time": "2023-06-30T19:02:32.884Z"
   },
   {
    "duration": 1326,
    "start_time": "2023-06-30T19:02:37.021Z"
   },
   {
    "duration": 12,
    "start_time": "2023-06-30T19:02:38.349Z"
   },
   {
    "duration": 53,
    "start_time": "2023-06-30T19:02:38.364Z"
   },
   {
    "duration": 231,
    "start_time": "2023-06-30T19:02:38.419Z"
   },
   {
    "duration": 263,
    "start_time": "2023-06-30T19:02:38.652Z"
   },
   {
    "duration": 2,
    "start_time": "2023-06-30T19:02:38.917Z"
   },
   {
    "duration": 13,
    "start_time": "2023-06-30T19:02:38.921Z"
   },
   {
    "duration": 3958,
    "start_time": "2023-06-30T19:02:38.936Z"
   },
   {
    "duration": 18,
    "start_time": "2023-06-30T19:02:42.896Z"
   },
   {
    "duration": 2666,
    "start_time": "2023-06-30T19:02:42.916Z"
   },
   {
    "duration": 7,
    "start_time": "2023-06-30T19:02:45.583Z"
   },
   {
    "duration": 8,
    "start_time": "2023-06-30T19:03:51.031Z"
   },
   {
    "duration": 8,
    "start_time": "2023-06-30T19:04:43.919Z"
   },
   {
    "duration": 1445,
    "start_time": "2023-06-30T19:05:14.272Z"
   },
   {
    "duration": 7,
    "start_time": "2023-06-30T19:05:19.015Z"
   },
   {
    "duration": 174,
    "start_time": "2023-06-30T19:07:11.992Z"
   },
   {
    "duration": 4,
    "start_time": "2023-06-30T19:07:40.944Z"
   },
   {
    "duration": 230,
    "start_time": "2023-06-30T19:07:47.129Z"
   },
   {
    "duration": 2,
    "start_time": "2023-06-30T19:07:51.073Z"
   },
   {
    "duration": 1335,
    "start_time": "2023-06-30T19:08:00.545Z"
   },
   {
    "duration": 10,
    "start_time": "2023-06-30T19:08:06.482Z"
   },
   {
    "duration": 10,
    "start_time": "2023-06-30T19:08:47.450Z"
   },
   {
    "duration": 4,
    "start_time": "2023-06-30T19:09:18.707Z"
   },
   {
    "duration": 4,
    "start_time": "2023-06-30T19:11:24.540Z"
   },
   {
    "duration": 106122,
    "start_time": "2023-06-30T19:11:31.972Z"
   },
   {
    "duration": 1,
    "start_time": "2023-06-30T19:13:18.095Z"
   },
   {
    "duration": 3,
    "start_time": "2023-06-30T19:13:20.820Z"
   },
   {
    "duration": 120358,
    "start_time": "2023-06-30T19:13:25.148Z"
   },
   {
    "duration": 0,
    "start_time": "2023-06-30T19:15:25.508Z"
   },
   {
    "duration": 4,
    "start_time": "2023-06-30T19:15:28.037Z"
   },
   {
    "duration": 152757,
    "start_time": "2023-06-30T19:15:34.461Z"
   },
   {
    "duration": 6,
    "start_time": "2023-06-30T19:18:36.468Z"
   },
   {
    "duration": 8,
    "start_time": "2023-06-30T19:19:12.927Z"
   },
   {
    "duration": 3,
    "start_time": "2023-06-30T19:23:48.240Z"
   },
   {
    "duration": 372,
    "start_time": "2023-06-30T19:23:56.720Z"
   },
   {
    "duration": 4,
    "start_time": "2023-06-30T19:24:17.712Z"
   },
   {
    "duration": 192810,
    "start_time": "2023-06-30T19:24:21.104Z"
   },
   {
    "duration": 2549,
    "start_time": "2023-06-30T19:31:37.309Z"
   },
   {
    "duration": 908,
    "start_time": "2023-06-30T19:31:39.860Z"
   },
   {
    "duration": 12,
    "start_time": "2023-06-30T19:31:40.769Z"
   },
   {
    "duration": 37,
    "start_time": "2023-06-30T19:31:40.783Z"
   },
   {
    "duration": 239,
    "start_time": "2023-06-30T19:31:40.821Z"
   },
   {
    "duration": 237,
    "start_time": "2023-06-30T19:31:41.061Z"
   },
   {
    "duration": 217,
    "start_time": "2023-06-30T19:31:41.299Z"
   },
   {
    "duration": 3,
    "start_time": "2023-06-30T19:31:41.518Z"
   },
   {
    "duration": 201057,
    "start_time": "2023-06-30T19:31:41.522Z"
   },
   {
    "duration": 8,
    "start_time": "2023-06-30T19:35:02.581Z"
   },
   {
    "duration": 3,
    "start_time": "2023-06-30T19:36:14.076Z"
   },
   {
    "duration": 3,
    "start_time": "2023-06-30T19:37:01.498Z"
   },
   {
    "duration": 3,
    "start_time": "2023-06-30T19:37:27.787Z"
   },
   {
    "duration": 8,
    "start_time": "2023-07-01T05:58:08.739Z"
   },
   {
    "duration": 2581,
    "start_time": "2023-07-01T05:58:26.000Z"
   },
   {
    "duration": 2222,
    "start_time": "2023-07-01T05:58:28.583Z"
   },
   {
    "duration": 19,
    "start_time": "2023-07-01T05:58:30.807Z"
   },
   {
    "duration": 52,
    "start_time": "2023-07-01T05:58:30.828Z"
   },
   {
    "duration": 240,
    "start_time": "2023-07-01T05:58:30.883Z"
   },
   {
    "duration": 436,
    "start_time": "2023-07-01T05:58:31.125Z"
   },
   {
    "duration": 217,
    "start_time": "2023-07-01T05:58:31.563Z"
   },
   {
    "duration": 4,
    "start_time": "2023-07-01T05:58:31.781Z"
   },
   {
    "duration": 78498,
    "start_time": "2023-07-01T05:58:31.786Z"
   },
   {
    "duration": 10,
    "start_time": "2023-07-01T05:59:50.286Z"
   },
   {
    "duration": 14,
    "start_time": "2023-07-01T05:59:50.297Z"
   },
   {
    "duration": 2521,
    "start_time": "2023-07-01T06:00:54.561Z"
   },
   {
    "duration": 884,
    "start_time": "2023-07-01T06:00:57.084Z"
   },
   {
    "duration": 12,
    "start_time": "2023-07-01T06:00:57.969Z"
   },
   {
    "duration": 30,
    "start_time": "2023-07-01T06:00:57.983Z"
   },
   {
    "duration": 218,
    "start_time": "2023-07-01T06:00:58.015Z"
   },
   {
    "duration": 244,
    "start_time": "2023-07-01T06:00:58.234Z"
   },
   {
    "duration": 142,
    "start_time": "2023-07-01T06:00:58.479Z"
   },
   {
    "duration": 3,
    "start_time": "2023-07-01T06:00:58.623Z"
   },
   {
    "duration": 79932,
    "start_time": "2023-07-01T06:00:58.628Z"
   },
   {
    "duration": 14,
    "start_time": "2023-07-01T06:02:18.561Z"
   },
   {
    "duration": 9,
    "start_time": "2023-07-01T06:02:18.577Z"
   },
   {
    "duration": 11449,
    "start_time": "2023-07-01T07:15:49.749Z"
   },
   {
    "duration": 9829,
    "start_time": "2023-07-01T07:16:32.162Z"
   },
   {
    "duration": 9051,
    "start_time": "2023-07-01T07:18:25.601Z"
   },
   {
    "duration": 8683,
    "start_time": "2023-07-01T07:18:46.698Z"
   },
   {
    "duration": 4398,
    "start_time": "2023-07-01T07:36:03.358Z"
   },
   {
    "duration": 925,
    "start_time": "2023-07-01T07:36:07.758Z"
   },
   {
    "duration": 13,
    "start_time": "2023-07-01T07:36:08.685Z"
   },
   {
    "duration": 30,
    "start_time": "2023-07-01T07:36:08.700Z"
   },
   {
    "duration": 226,
    "start_time": "2023-07-01T07:36:08.731Z"
   },
   {
    "duration": 228,
    "start_time": "2023-07-01T07:36:08.959Z"
   },
   {
    "duration": 10474,
    "start_time": "2023-07-01T07:36:09.189Z"
   },
   {
    "duration": 3,
    "start_time": "2023-07-01T07:36:19.665Z"
   },
   {
    "duration": 25,
    "start_time": "2023-07-01T07:36:19.669Z"
   },
   {
    "duration": 6,
    "start_time": "2023-07-01T07:36:19.697Z"
   },
   {
    "duration": 1338,
    "start_time": "2023-07-01T07:36:19.705Z"
   },
   {
    "duration": 0,
    "start_time": "2023-07-01T07:36:21.044Z"
   },
   {
    "duration": 0,
    "start_time": "2023-07-01T07:36:21.045Z"
   },
   {
    "duration": 3,
    "start_time": "2023-07-01T07:42:11.920Z"
   },
   {
    "duration": 14828,
    "start_time": "2023-07-01T08:11:44.193Z"
   },
   {
    "duration": 4,
    "start_time": "2023-07-01T08:11:59.024Z"
   },
   {
    "duration": 862,
    "start_time": "2023-07-01T08:11:59.029Z"
   },
   {
    "duration": 5459,
    "start_time": "2023-07-01T11:35:52.076Z"
   },
   {
    "duration": 2279,
    "start_time": "2023-07-01T11:35:57.537Z"
   },
   {
    "duration": 13,
    "start_time": "2023-07-01T11:35:59.817Z"
   },
   {
    "duration": 28,
    "start_time": "2023-07-01T11:35:59.831Z"
   },
   {
    "duration": 236,
    "start_time": "2023-07-01T11:35:59.862Z"
   },
   {
    "duration": 229,
    "start_time": "2023-07-01T11:36:00.100Z"
   },
   {
    "duration": 9914,
    "start_time": "2023-07-01T11:36:00.331Z"
   },
   {
    "duration": 3,
    "start_time": "2023-07-01T11:36:10.247Z"
   },
   {
    "duration": 9,
    "start_time": "2023-07-01T11:36:10.251Z"
   },
   {
    "duration": 7,
    "start_time": "2023-07-01T11:36:10.261Z"
   },
   {
    "duration": 1570,
    "start_time": "2023-07-01T11:36:10.270Z"
   },
   {
    "duration": 0,
    "start_time": "2023-07-01T11:36:11.841Z"
   },
   {
    "duration": 4,
    "start_time": "2023-07-01T12:24:13.935Z"
   },
   {
    "duration": 797,
    "start_time": "2023-07-01T12:24:17.154Z"
   },
   {
    "duration": 4795,
    "start_time": "2023-07-01T12:24:46.496Z"
   },
   {
    "duration": 1033,
    "start_time": "2023-07-01T12:24:51.293Z"
   },
   {
    "duration": 18,
    "start_time": "2023-07-01T12:24:52.328Z"
   },
   {
    "duration": 46,
    "start_time": "2023-07-01T12:24:52.348Z"
   },
   {
    "duration": 226,
    "start_time": "2023-07-01T12:24:52.396Z"
   },
   {
    "duration": 235,
    "start_time": "2023-07-01T12:24:52.623Z"
   },
   {
    "duration": 10187,
    "start_time": "2023-07-01T12:24:52.860Z"
   },
   {
    "duration": 4,
    "start_time": "2023-07-01T12:25:03.049Z"
   },
   {
    "duration": 8,
    "start_time": "2023-07-01T12:25:03.054Z"
   },
   {
    "duration": 9,
    "start_time": "2023-07-01T12:25:03.064Z"
   },
   {
    "duration": 1577,
    "start_time": "2023-07-01T12:25:03.076Z"
   },
   {
    "duration": 0,
    "start_time": "2023-07-01T12:25:04.655Z"
   },
   {
    "duration": 17869,
    "start_time": "2023-07-01T13:51:08.027Z"
   },
   {
    "duration": 2044,
    "start_time": "2023-07-01T13:51:25.898Z"
   },
   {
    "duration": 19,
    "start_time": "2023-07-01T13:51:27.944Z"
   },
   {
    "duration": 40,
    "start_time": "2023-07-01T13:51:27.965Z"
   },
   {
    "duration": 260,
    "start_time": "2023-07-01T13:51:28.008Z"
   },
   {
    "duration": 312,
    "start_time": "2023-07-01T13:51:28.275Z"
   },
   {
    "duration": 12091,
    "start_time": "2023-07-01T13:51:28.589Z"
   },
   {
    "duration": 4,
    "start_time": "2023-07-01T13:51:40.682Z"
   },
   {
    "duration": 9,
    "start_time": "2023-07-01T13:51:40.688Z"
   },
   {
    "duration": 11,
    "start_time": "2023-07-01T13:51:40.700Z"
   },
   {
    "duration": 1836,
    "start_time": "2023-07-01T13:51:40.713Z"
   },
   {
    "duration": 0,
    "start_time": "2023-07-01T13:51:42.551Z"
   },
   {
    "duration": 21218,
    "start_time": "2023-07-01T18:38:50.893Z"
   },
   {
    "duration": 2325,
    "start_time": "2023-07-01T18:39:12.113Z"
   },
   {
    "duration": 13,
    "start_time": "2023-07-01T18:39:14.439Z"
   },
   {
    "duration": 41,
    "start_time": "2023-07-01T18:39:14.454Z"
   },
   {
    "duration": 217,
    "start_time": "2023-07-01T18:39:14.497Z"
   },
   {
    "duration": 343,
    "start_time": "2023-07-01T18:39:14.715Z"
   },
   {
    "duration": 11493,
    "start_time": "2023-07-01T18:39:15.060Z"
   },
   {
    "duration": 4,
    "start_time": "2023-07-01T18:39:26.555Z"
   },
   {
    "duration": 12,
    "start_time": "2023-07-01T18:39:26.560Z"
   },
   {
    "duration": 17,
    "start_time": "2023-07-01T18:39:26.573Z"
   },
   {
    "duration": 16,
    "start_time": "2023-07-01T18:39:26.592Z"
   },
   {
    "duration": 4138,
    "start_time": "2023-07-01T19:12:06.599Z"
   },
   {
    "duration": 946,
    "start_time": "2023-07-01T19:12:10.739Z"
   },
   {
    "duration": 13,
    "start_time": "2023-07-01T19:12:11.687Z"
   },
   {
    "duration": 31,
    "start_time": "2023-07-01T19:12:11.702Z"
   },
   {
    "duration": 225,
    "start_time": "2023-07-01T19:12:11.735Z"
   },
   {
    "duration": 225,
    "start_time": "2023-07-01T19:12:11.962Z"
   },
   {
    "duration": 9780,
    "start_time": "2023-07-01T19:12:12.188Z"
   },
   {
    "duration": 3,
    "start_time": "2023-07-01T19:12:21.970Z"
   },
   {
    "duration": 7,
    "start_time": "2023-07-01T19:12:21.974Z"
   },
   {
    "duration": 7,
    "start_time": "2023-07-01T19:12:21.983Z"
   },
   {
    "duration": 15,
    "start_time": "2023-07-01T19:12:21.992Z"
   },
   {
    "duration": 521710,
    "start_time": "2023-07-01T19:12:22.008Z"
   },
   {
    "duration": 0,
    "start_time": "2023-07-01T19:21:03.720Z"
   },
   {
    "duration": 0,
    "start_time": "2023-07-01T19:21:03.722Z"
   },
   {
    "duration": 0,
    "start_time": "2023-07-01T19:21:03.723Z"
   },
   {
    "duration": 0,
    "start_time": "2023-07-01T19:21:03.725Z"
   },
   {
    "duration": 0,
    "start_time": "2023-07-01T19:21:03.726Z"
   },
   {
    "duration": 1,
    "start_time": "2023-07-01T19:21:03.727Z"
   },
   {
    "duration": 0,
    "start_time": "2023-07-01T19:21:03.729Z"
   },
   {
    "duration": 0,
    "start_time": "2023-07-01T19:21:03.731Z"
   },
   {
    "duration": 10412,
    "start_time": "2023-07-01T19:21:07.903Z"
   },
   {
    "duration": 4,
    "start_time": "2023-07-01T19:21:38.720Z"
   },
   {
    "duration": 842657,
    "start_time": "2023-07-01T19:21:41.199Z"
   },
   {
    "duration": 5366,
    "start_time": "2023-07-01T19:36:25.455Z"
   },
   {
    "duration": 986,
    "start_time": "2023-07-01T19:36:30.823Z"
   },
   {
    "duration": 13,
    "start_time": "2023-07-01T19:36:31.811Z"
   },
   {
    "duration": 70,
    "start_time": "2023-07-01T19:36:31.825Z"
   },
   {
    "duration": 35,
    "start_time": "2023-07-01T19:36:31.898Z"
   },
   {
    "duration": 45,
    "start_time": "2023-07-01T19:36:31.935Z"
   },
   {
    "duration": 258,
    "start_time": "2023-07-01T19:36:31.982Z"
   },
   {
    "duration": 9767,
    "start_time": "2023-07-01T19:36:32.242Z"
   },
   {
    "duration": 3,
    "start_time": "2023-07-01T19:36:42.011Z"
   },
   {
    "duration": 8,
    "start_time": "2023-07-01T19:36:42.016Z"
   },
   {
    "duration": 6,
    "start_time": "2023-07-01T19:36:42.025Z"
   },
   {
    "duration": 8,
    "start_time": "2023-07-01T19:36:42.032Z"
   },
   {
    "duration": 108997,
    "start_time": "2023-07-01T19:36:42.041Z"
   },
   {
    "duration": 0,
    "start_time": "2023-07-01T19:38:31.040Z"
   },
   {
    "duration": 0,
    "start_time": "2023-07-01T19:38:31.042Z"
   },
   {
    "duration": 0,
    "start_time": "2023-07-01T19:38:31.043Z"
   },
   {
    "duration": 0,
    "start_time": "2023-07-01T19:38:31.044Z"
   },
   {
    "duration": 0,
    "start_time": "2023-07-01T19:38:31.045Z"
   },
   {
    "duration": 0,
    "start_time": "2023-07-01T19:38:31.046Z"
   },
   {
    "duration": 0,
    "start_time": "2023-07-01T19:38:31.047Z"
   },
   {
    "duration": 4,
    "start_time": "2023-07-01T19:38:37.203Z"
   },
   {
    "duration": 943,
    "start_time": "2023-07-01T19:38:37.613Z"
   },
   {
    "duration": 7,
    "start_time": "2023-07-01T19:38:38.558Z"
   },
   {
    "duration": 10,
    "start_time": "2023-07-01T19:38:39.231Z"
   },
   {
    "duration": 12,
    "start_time": "2023-07-01T19:38:40.301Z"
   },
   {
    "duration": 8,
    "start_time": "2023-07-01T19:38:41.123Z"
   },
   {
    "duration": 13,
    "start_time": "2023-07-01T19:38:41.627Z"
   },
   {
    "duration": 10246,
    "start_time": "2023-07-01T19:38:43.233Z"
   },
   {
    "duration": 3,
    "start_time": "2023-07-01T19:38:53.482Z"
   },
   {
    "duration": 9,
    "start_time": "2023-07-01T19:38:53.487Z"
   },
   {
    "duration": 6,
    "start_time": "2023-07-01T19:38:53.499Z"
   },
   {
    "duration": 13,
    "start_time": "2023-07-01T19:38:53.507Z"
   },
   {
    "duration": 23660,
    "start_time": "2023-07-01T19:38:53.522Z"
   },
   {
    "duration": 12,
    "start_time": "2023-07-01T19:39:42.588Z"
   },
   {
    "duration": 5908,
    "start_time": "2023-07-01T19:47:55.663Z"
   },
   {
    "duration": 1031,
    "start_time": "2023-07-01T19:48:01.574Z"
   },
   {
    "duration": 16,
    "start_time": "2023-07-01T19:48:02.607Z"
   },
   {
    "duration": 18,
    "start_time": "2023-07-01T19:48:02.625Z"
   },
   {
    "duration": 35,
    "start_time": "2023-07-01T19:48:02.645Z"
   },
   {
    "duration": 14,
    "start_time": "2023-07-01T19:48:02.682Z"
   },
   {
    "duration": 286,
    "start_time": "2023-07-01T19:48:02.697Z"
   },
   {
    "duration": 10057,
    "start_time": "2023-07-01T19:48:02.984Z"
   },
   {
    "duration": 3,
    "start_time": "2023-07-01T19:48:13.044Z"
   },
   {
    "duration": 15,
    "start_time": "2023-07-01T19:48:13.050Z"
   },
   {
    "duration": 21,
    "start_time": "2023-07-01T19:48:13.067Z"
   },
   {
    "duration": 18,
    "start_time": "2023-07-01T19:48:13.092Z"
   },
   {
    "duration": 47431,
    "start_time": "2023-07-01T19:48:13.111Z"
   },
   {
    "duration": 10,
    "start_time": "2023-07-01T19:49:00.544Z"
   },
   {
    "duration": 139,
    "start_time": "2023-07-01T19:49:00.556Z"
   },
   {
    "duration": 7,
    "start_time": "2023-07-01T19:49:00.697Z"
   },
   {
    "duration": 44,
    "start_time": "2023-07-01T19:49:00.705Z"
   },
   {
    "duration": 23,
    "start_time": "2023-07-01T19:49:00.751Z"
   },
   {
    "duration": 407,
    "start_time": "2023-07-01T19:49:00.776Z"
   },
   {
    "duration": 0,
    "start_time": "2023-07-01T19:49:01.185Z"
   },
   {
    "duration": 4102,
    "start_time": "2023-07-01T21:26:37.439Z"
   },
   {
    "duration": 929,
    "start_time": "2023-07-01T21:26:41.542Z"
   },
   {
    "duration": 13,
    "start_time": "2023-07-01T21:26:44.289Z"
   },
   {
    "duration": 3054,
    "start_time": "2023-07-01T21:26:56.019Z"
   },
   {
    "duration": 7013,
    "start_time": "2023-07-02T04:07:48.643Z"
   },
   {
    "duration": 3081,
    "start_time": "2023-07-02T04:07:57.185Z"
   },
   {
    "duration": 39,
    "start_time": "2023-07-02T04:08:02.788Z"
   },
   {
    "duration": 5049,
    "start_time": "2023-07-02T04:08:03.722Z"
   },
   {
    "duration": 4370,
    "start_time": "2023-07-02T06:00:58.953Z"
   },
   {
    "duration": 932,
    "start_time": "2023-07-02T06:01:03.325Z"
   },
   {
    "duration": 12,
    "start_time": "2023-07-02T06:01:04.258Z"
   },
   {
    "duration": 42,
    "start_time": "2023-07-02T06:01:04.272Z"
   },
   {
    "duration": 12,
    "start_time": "2023-07-02T06:01:04.317Z"
   },
   {
    "duration": 11,
    "start_time": "2023-07-02T06:01:04.331Z"
   },
   {
    "duration": 83,
    "start_time": "2023-07-02T06:01:04.343Z"
   },
   {
    "duration": 410,
    "start_time": "2023-07-02T06:01:04.428Z"
   },
   {
    "duration": 9863,
    "start_time": "2023-07-02T06:01:04.840Z"
   },
   {
    "duration": 3,
    "start_time": "2023-07-02T06:01:14.710Z"
   },
   {
    "duration": 11,
    "start_time": "2023-07-02T06:01:14.715Z"
   },
   {
    "duration": 15,
    "start_time": "2023-07-02T06:01:14.728Z"
   },
   {
    "duration": 6,
    "start_time": "2023-07-02T06:01:14.745Z"
   },
   {
    "duration": 7367027,
    "start_time": "2023-07-02T06:01:14.754Z"
   },
   {
    "duration": 0,
    "start_time": "2023-07-02T08:04:01.784Z"
   },
   {
    "duration": 0,
    "start_time": "2023-07-02T08:04:01.785Z"
   },
   {
    "duration": 0,
    "start_time": "2023-07-02T08:04:01.786Z"
   },
   {
    "duration": 0,
    "start_time": "2023-07-02T08:04:01.787Z"
   },
   {
    "duration": 0,
    "start_time": "2023-07-02T08:04:01.788Z"
   },
   {
    "duration": 0,
    "start_time": "2023-07-02T08:04:01.789Z"
   },
   {
    "duration": 0,
    "start_time": "2023-07-02T08:04:01.790Z"
   },
   {
    "duration": 5,
    "start_time": "2023-07-02T08:04:17.584Z"
   },
   {
    "duration": 11,
    "start_time": "2023-07-02T08:04:18.331Z"
   },
   {
    "duration": 5,
    "start_time": "2023-07-02T08:04:18.833Z"
   },
   {
    "duration": 10,
    "start_time": "2023-07-02T08:04:19.441Z"
   },
   {
    "duration": 35316,
    "start_time": "2023-07-02T08:04:21.242Z"
   },
   {
    "duration": 3,
    "start_time": "2023-07-02T08:04:56.560Z"
   },
   {
    "duration": 7,
    "start_time": "2023-07-02T08:04:56.565Z"
   },
   {
    "duration": 6,
    "start_time": "2023-07-02T08:04:56.574Z"
   },
   {
    "duration": 15,
    "start_time": "2023-07-02T08:04:56.581Z"
   },
   {
    "duration": 52393,
    "start_time": "2023-07-02T08:04:56.597Z"
   },
   {
    "duration": 9,
    "start_time": "2023-07-02T08:05:54.830Z"
   },
   {
    "duration": 2353,
    "start_time": "2023-07-02T08:39:01.281Z"
   },
   {
    "duration": 2734,
    "start_time": "2023-07-02T08:39:03.635Z"
   },
   {
    "duration": 12,
    "start_time": "2023-07-02T08:39:06.371Z"
   },
   {
    "duration": 46,
    "start_time": "2023-07-02T08:39:06.384Z"
   },
   {
    "duration": 38,
    "start_time": "2023-07-02T08:39:06.433Z"
   },
   {
    "duration": 16,
    "start_time": "2023-07-02T08:39:06.473Z"
   },
   {
    "duration": 79,
    "start_time": "2023-07-02T08:39:06.490Z"
   },
   {
    "duration": 364,
    "start_time": "2023-07-02T08:39:06.570Z"
   },
   {
    "duration": 3,
    "start_time": "2023-07-02T08:39:06.935Z"
   },
   {
    "duration": 8,
    "start_time": "2023-07-02T08:39:06.939Z"
   },
   {
    "duration": 15,
    "start_time": "2023-07-02T08:39:06.948Z"
   },
   {
    "duration": 5,
    "start_time": "2023-07-02T08:39:06.964Z"
   },
   {
    "duration": 13,
    "start_time": "2023-07-02T08:39:06.970Z"
   },
   {
    "duration": 10,
    "start_time": "2023-07-02T08:39:06.986Z"
   },
   {
    "duration": 26,
    "start_time": "2023-07-02T08:39:06.998Z"
   },
   {
    "duration": 620,
    "start_time": "2023-07-02T08:39:07.026Z"
   },
   {
    "duration": 7,
    "start_time": "2023-07-02T08:39:07.647Z"
   },
   {
    "duration": 121,
    "start_time": "2023-07-02T08:39:07.656Z"
   },
   {
    "duration": 14,
    "start_time": "2023-07-02T08:39:07.778Z"
   },
   {
    "duration": 9,
    "start_time": "2023-07-02T08:39:07.794Z"
   },
   {
    "duration": 21,
    "start_time": "2023-07-02T08:39:07.806Z"
   },
   {
    "duration": 30,
    "start_time": "2023-07-02T08:39:07.829Z"
   },
   {
    "duration": 0,
    "start_time": "2023-07-02T08:39:07.861Z"
   },
   {
    "duration": 3136,
    "start_time": "2023-07-02T08:40:10.295Z"
   },
   {
    "duration": 1429,
    "start_time": "2023-07-02T08:40:13.432Z"
   },
   {
    "duration": 14,
    "start_time": "2023-07-02T08:40:14.863Z"
   },
   {
    "duration": 89,
    "start_time": "2023-07-02T08:40:14.878Z"
   },
   {
    "duration": 20,
    "start_time": "2023-07-02T08:40:14.969Z"
   },
   {
    "duration": 68,
    "start_time": "2023-07-02T08:40:14.991Z"
   },
   {
    "duration": 81,
    "start_time": "2023-07-02T08:40:15.061Z"
   },
   {
    "duration": 414,
    "start_time": "2023-07-02T08:40:15.143Z"
   },
   {
    "duration": 2,
    "start_time": "2023-07-02T08:40:15.559Z"
   },
   {
    "duration": 7,
    "start_time": "2023-07-02T08:40:15.563Z"
   },
   {
    "duration": 8,
    "start_time": "2023-07-02T08:40:15.572Z"
   },
   {
    "duration": 5,
    "start_time": "2023-07-02T08:40:15.581Z"
   },
   {
    "duration": 4,
    "start_time": "2023-07-02T08:40:15.587Z"
   },
   {
    "duration": 26,
    "start_time": "2023-07-02T08:40:15.603Z"
   },
   {
    "duration": 13,
    "start_time": "2023-07-02T08:40:15.640Z"
   },
   {
    "duration": 723,
    "start_time": "2023-07-02T08:40:15.655Z"
   },
   {
    "duration": 8,
    "start_time": "2023-07-02T08:40:16.379Z"
   },
   {
    "duration": 156,
    "start_time": "2023-07-02T08:40:16.389Z"
   },
   {
    "duration": 12,
    "start_time": "2023-07-02T08:40:16.548Z"
   },
   {
    "duration": 5,
    "start_time": "2023-07-02T08:40:16.561Z"
   },
   {
    "duration": 10,
    "start_time": "2023-07-02T08:40:16.568Z"
   },
   {
    "duration": 35,
    "start_time": "2023-07-02T08:40:16.605Z"
   },
   {
    "duration": 0,
    "start_time": "2023-07-02T08:40:16.642Z"
   },
   {
    "duration": 2000,
    "start_time": "2023-07-02T08:43:52.589Z"
   },
   {
    "duration": 1562,
    "start_time": "2023-07-02T08:43:54.591Z"
   },
   {
    "duration": 3,
    "start_time": "2023-07-02T08:43:56.155Z"
   },
   {
    "duration": 68,
    "start_time": "2023-07-02T08:43:56.199Z"
   },
   {
    "duration": 82,
    "start_time": "2023-07-02T08:43:56.270Z"
   },
   {
    "duration": 109,
    "start_time": "2023-07-02T08:43:56.354Z"
   },
   {
    "duration": 72,
    "start_time": "2023-07-02T08:43:56.465Z"
   },
   {
    "duration": 192,
    "start_time": "2023-07-02T08:43:56.539Z"
   },
   {
    "duration": 469,
    "start_time": "2023-07-02T08:43:56.734Z"
   },
   {
    "duration": 5,
    "start_time": "2023-07-02T08:43:57.204Z"
   },
   {
    "duration": 2,
    "start_time": "2023-07-02T08:43:57.211Z"
   },
   {
    "duration": 7,
    "start_time": "2023-07-02T08:43:57.215Z"
   },
   {
    "duration": 3,
    "start_time": "2023-07-02T08:43:57.223Z"
   },
   {
    "duration": 4641,
    "start_time": "2023-07-02T08:43:57.229Z"
   },
   {
    "duration": 3,
    "start_time": "2023-07-02T08:44:01.872Z"
   },
   {
    "duration": 22,
    "start_time": "2023-07-02T08:44:01.876Z"
   },
   {
    "duration": 26,
    "start_time": "2023-07-02T08:44:01.901Z"
   },
   {
    "duration": 988,
    "start_time": "2023-07-02T08:44:01.929Z"
   },
   {
    "duration": 8,
    "start_time": "2023-07-02T08:44:02.918Z"
   },
   {
    "duration": 116,
    "start_time": "2023-07-02T08:44:02.927Z"
   },
   {
    "duration": 11,
    "start_time": "2023-07-02T08:44:03.044Z"
   },
   {
    "duration": 6,
    "start_time": "2023-07-02T08:44:03.056Z"
   },
   {
    "duration": 20,
    "start_time": "2023-07-02T08:44:03.063Z"
   },
   {
    "duration": 38,
    "start_time": "2023-07-02T08:44:03.085Z"
   },
   {
    "duration": 0,
    "start_time": "2023-07-02T08:44:03.124Z"
   },
   {
    "duration": 2352,
    "start_time": "2023-07-02T08:45:13.886Z"
   },
   {
    "duration": 1991,
    "start_time": "2023-07-02T08:45:16.242Z"
   },
   {
    "duration": 2,
    "start_time": "2023-07-02T08:45:18.235Z"
   },
   {
    "duration": 62,
    "start_time": "2023-07-02T08:45:18.239Z"
   },
   {
    "duration": 61,
    "start_time": "2023-07-02T08:45:18.302Z"
   },
   {
    "duration": 68,
    "start_time": "2023-07-02T08:45:18.364Z"
   },
   {
    "duration": 75,
    "start_time": "2023-07-02T08:45:18.437Z"
   },
   {
    "duration": 175,
    "start_time": "2023-07-02T08:45:18.528Z"
   },
   {
    "duration": 362,
    "start_time": "2023-07-02T08:45:18.705Z"
   },
   {
    "duration": 2,
    "start_time": "2023-07-02T08:45:19.070Z"
   },
   {
    "duration": 5,
    "start_time": "2023-07-02T08:45:19.074Z"
   },
   {
    "duration": 5,
    "start_time": "2023-07-02T08:45:19.080Z"
   },
   {
    "duration": 23,
    "start_time": "2023-07-02T08:45:19.086Z"
   },
   {
    "duration": 383,
    "start_time": "2023-07-02T08:45:19.110Z"
   },
   {
    "duration": 3,
    "start_time": "2023-07-02T08:45:19.495Z"
   },
   {
    "duration": 36,
    "start_time": "2023-07-02T08:45:19.512Z"
   },
   {
    "duration": 20,
    "start_time": "2023-07-02T08:45:19.549Z"
   },
   {
    "duration": 1305,
    "start_time": "2023-07-02T08:45:19.570Z"
   },
   {
    "duration": 7,
    "start_time": "2023-07-02T08:45:20.877Z"
   },
   {
    "duration": 165,
    "start_time": "2023-07-02T08:45:20.885Z"
   },
   {
    "duration": 14,
    "start_time": "2023-07-02T08:45:21.052Z"
   },
   {
    "duration": 6,
    "start_time": "2023-07-02T08:45:21.067Z"
   },
   {
    "duration": 38,
    "start_time": "2023-07-02T08:45:21.075Z"
   },
   {
    "duration": 33,
    "start_time": "2023-07-02T08:45:21.122Z"
   },
   {
    "duration": 0,
    "start_time": "2023-07-02T08:45:21.157Z"
   },
   {
    "duration": 7,
    "start_time": "2023-07-02T08:45:45.590Z"
   },
   {
    "duration": 2,
    "start_time": "2023-07-02T08:45:48.493Z"
   },
   {
    "duration": 3,
    "start_time": "2023-07-02T08:45:49.269Z"
   },
   {
    "duration": 4,
    "start_time": "2023-07-02T08:45:50.285Z"
   },
   {
    "duration": 559,
    "start_time": "2023-07-02T08:45:51.854Z"
   },
   {
    "duration": 4,
    "start_time": "2023-07-02T08:47:13.633Z"
   },
   {
    "duration": 872,
    "start_time": "2023-07-02T08:47:14.615Z"
   },
   {
    "duration": 3,
    "start_time": "2023-07-02T08:47:15.488Z"
   },
   {
    "duration": 7,
    "start_time": "2023-07-02T08:47:16.567Z"
   },
   {
    "duration": 31,
    "start_time": "2023-07-02T08:47:17.418Z"
   },
   {
    "duration": 12,
    "start_time": "2023-07-02T08:47:18.082Z"
   },
   {
    "duration": 16,
    "start_time": "2023-07-02T08:47:18.831Z"
   },
   {
    "duration": 65,
    "start_time": "2023-07-02T08:47:19.518Z"
   },
   {
    "duration": 18,
    "start_time": "2023-07-02T08:47:20.070Z"
   },
   {
    "duration": 3,
    "start_time": "2023-07-02T08:47:21.895Z"
   },
   {
    "duration": 4,
    "start_time": "2023-07-02T08:47:22.311Z"
   },
   {
    "duration": 4,
    "start_time": "2023-07-02T08:47:22.918Z"
   },
   {
    "duration": 3,
    "start_time": "2023-07-02T08:47:23.631Z"
   },
   {
    "duration": 6,
    "start_time": "2023-07-02T08:47:24.536Z"
   },
   {
    "duration": 3,
    "start_time": "2023-07-02T08:47:25.222Z"
   },
   {
    "duration": 5,
    "start_time": "2023-07-02T08:47:26.190Z"
   },
   {
    "duration": 3,
    "start_time": "2023-07-02T08:47:26.879Z"
   },
   {
    "duration": 282937,
    "start_time": "2023-07-02T08:47:27.591Z"
   },
   {
    "duration": 9,
    "start_time": "2023-07-02T08:52:10.530Z"
   },
   {
    "duration": 1583,
    "start_time": "2023-07-02T08:52:50.366Z"
   },
   {
    "duration": 3,
    "start_time": "2023-07-02T08:52:53.036Z"
   },
   {
    "duration": 7,
    "start_time": "2023-07-02T08:52:53.870Z"
   },
   {
    "duration": 1388,
    "start_time": "2023-07-02T08:53:42.853Z"
   },
   {
    "duration": 8,
    "start_time": "2023-07-02T08:53:45.027Z"
   },
   {
    "duration": 2185,
    "start_time": "2023-07-02T08:54:09.089Z"
   },
   {
    "duration": 1466,
    "start_time": "2023-07-02T08:54:11.276Z"
   },
   {
    "duration": 20,
    "start_time": "2023-07-02T08:54:12.751Z"
   },
   {
    "duration": 26,
    "start_time": "2023-07-02T08:54:12.772Z"
   },
   {
    "duration": 16,
    "start_time": "2023-07-02T08:54:12.805Z"
   },
   {
    "duration": 43,
    "start_time": "2023-07-02T08:54:12.833Z"
   },
   {
    "duration": 287,
    "start_time": "2023-07-02T08:54:12.878Z"
   },
   {
    "duration": 384,
    "start_time": "2023-07-02T08:54:13.166Z"
   },
   {
    "duration": 3,
    "start_time": "2023-07-02T08:54:13.554Z"
   },
   {
    "duration": 8,
    "start_time": "2023-07-02T08:54:13.559Z"
   },
   {
    "duration": 9,
    "start_time": "2023-07-02T08:54:13.569Z"
   },
   {
    "duration": 5,
    "start_time": "2023-07-02T08:54:13.579Z"
   },
   {
    "duration": 338,
    "start_time": "2023-07-02T08:54:13.586Z"
   },
   {
    "duration": 7,
    "start_time": "2023-07-02T08:54:13.928Z"
   },
   {
    "duration": 21,
    "start_time": "2023-07-02T08:54:13.936Z"
   },
   {
    "duration": 7,
    "start_time": "2023-07-02T08:54:13.959Z"
   },
   {
    "duration": 2465,
    "start_time": "2023-07-02T09:05:03.130Z"
   },
   {
    "duration": 1592,
    "start_time": "2023-07-02T09:05:05.596Z"
   },
   {
    "duration": 56,
    "start_time": "2023-07-02T09:05:07.189Z"
   },
   {
    "duration": 29,
    "start_time": "2023-07-02T09:05:07.249Z"
   },
   {
    "duration": 12,
    "start_time": "2023-07-02T09:05:07.280Z"
   },
   {
    "duration": 20,
    "start_time": "2023-07-02T09:05:07.293Z"
   },
   {
    "duration": 120,
    "start_time": "2023-07-02T09:05:07.318Z"
   },
   {
    "duration": 350,
    "start_time": "2023-07-02T09:05:07.440Z"
   },
   {
    "duration": 2,
    "start_time": "2023-07-02T09:05:07.791Z"
   },
   {
    "duration": 52,
    "start_time": "2023-07-02T09:05:07.794Z"
   },
   {
    "duration": 6,
    "start_time": "2023-07-02T09:05:07.847Z"
   },
   {
    "duration": 4,
    "start_time": "2023-07-02T09:05:07.855Z"
   },
   {
    "duration": 289,
    "start_time": "2023-07-02T09:05:07.860Z"
   },
   {
    "duration": 2,
    "start_time": "2023-07-02T09:05:08.152Z"
   },
   {
    "duration": 4,
    "start_time": "2023-07-02T09:05:08.155Z"
   },
   {
    "duration": 4,
    "start_time": "2023-07-02T09:05:08.160Z"
   },
   {
    "duration": 294643,
    "start_time": "2023-07-02T09:05:08.166Z"
   },
   {
    "duration": 23,
    "start_time": "2023-07-02T09:10:02.816Z"
   },
   {
    "duration": 131,
    "start_time": "2023-07-02T09:10:02.841Z"
   },
   {
    "duration": 18,
    "start_time": "2023-07-02T09:10:02.973Z"
   },
   {
    "duration": 22,
    "start_time": "2023-07-02T09:10:02.993Z"
   },
   {
    "duration": 18,
    "start_time": "2023-07-02T09:10:03.026Z"
   },
   {
    "duration": 215,
    "start_time": "2023-07-02T09:10:03.046Z"
   },
   {
    "duration": 0,
    "start_time": "2023-07-02T09:10:03.263Z"
   },
   {
    "duration": 6,
    "start_time": "2023-07-02T11:32:01.018Z"
   },
   {
    "duration": 23,
    "start_time": "2023-07-02T11:33:34.860Z"
   },
   {
    "duration": 18,
    "start_time": "2023-07-02T11:34:20.543Z"
   },
   {
    "duration": 27,
    "start_time": "2023-07-02T11:34:23.559Z"
   },
   {
    "duration": 12,
    "start_time": "2023-07-02T11:34:33.550Z"
   },
   {
    "duration": 17,
    "start_time": "2023-07-02T11:34:42.149Z"
   },
   {
    "duration": 17,
    "start_time": "2023-07-02T11:34:45.230Z"
   },
   {
    "duration": 118,
    "start_time": "2023-07-02T11:34:47.038Z"
   },
   {
    "duration": 35,
    "start_time": "2023-07-02T11:55:04.615Z"
   },
   {
    "duration": 171,
    "start_time": "2023-07-02T11:55:05.146Z"
   },
   {
    "duration": 43,
    "start_time": "2023-07-02T12:08:25.601Z"
   },
   {
    "duration": 406,
    "start_time": "2023-07-02T12:13:10.931Z"
   },
   {
    "duration": 4,
    "start_time": "2023-07-02T12:13:19.656Z"
   },
   {
    "duration": 11,
    "start_time": "2023-07-02T12:34:14.695Z"
   },
   {
    "duration": 8,
    "start_time": "2023-07-02T12:50:50.269Z"
   },
   {
    "duration": 12,
    "start_time": "2023-07-02T12:51:56.744Z"
   },
   {
    "duration": 204,
    "start_time": "2023-07-02T12:52:46.638Z"
   },
   {
    "duration": 26,
    "start_time": "2023-07-02T12:52:50.256Z"
   },
   {
    "duration": 27,
    "start_time": "2023-07-02T12:54:22.222Z"
   },
   {
    "duration": 19,
    "start_time": "2023-07-02T12:54:49.747Z"
   },
   {
    "duration": 14,
    "start_time": "2023-07-02T12:55:11.062Z"
   },
   {
    "duration": 29,
    "start_time": "2023-07-02T12:55:45.121Z"
   },
   {
    "duration": 19,
    "start_time": "2023-07-02T12:55:50.674Z"
   },
   {
    "duration": 51,
    "start_time": "2023-07-02T12:57:46.419Z"
   },
   {
    "duration": 12,
    "start_time": "2023-07-02T12:58:39.166Z"
   },
   {
    "duration": 18,
    "start_time": "2023-07-02T12:58:52.075Z"
   },
   {
    "duration": 28,
    "start_time": "2023-07-02T13:00:09.518Z"
   },
   {
    "duration": 45,
    "start_time": "2023-07-02T13:00:22.493Z"
   },
   {
    "duration": 36,
    "start_time": "2023-07-02T13:00:34.145Z"
   },
   {
    "duration": 38,
    "start_time": "2023-07-02T13:01:15.125Z"
   },
   {
    "duration": 5,
    "start_time": "2023-07-02T13:01:16.051Z"
   },
   {
    "duration": 7,
    "start_time": "2023-07-02T13:01:17.426Z"
   },
   {
    "duration": 18,
    "start_time": "2023-07-02T13:01:18.752Z"
   },
   {
    "duration": 278,
    "start_time": "2023-07-02T13:01:19.375Z"
   },
   {
    "duration": 23,
    "start_time": "2023-07-02T13:01:20.226Z"
   },
   {
    "duration": 2066,
    "start_time": "2023-07-02T13:01:21.014Z"
   },
   {
    "duration": 8010,
    "start_time": "2023-07-02T13:08:42.269Z"
   },
   {
    "duration": 1768,
    "start_time": "2023-07-02T13:08:50.281Z"
   },
   {
    "duration": 30,
    "start_time": "2023-07-02T13:08:52.056Z"
   },
   {
    "duration": 104,
    "start_time": "2023-07-02T13:08:52.088Z"
   },
   {
    "duration": 70,
    "start_time": "2023-07-02T13:08:52.194Z"
   },
   {
    "duration": 40,
    "start_time": "2023-07-02T13:08:52.266Z"
   },
   {
    "duration": 149,
    "start_time": "2023-07-02T13:08:52.307Z"
   },
   {
    "duration": 364,
    "start_time": "2023-07-02T13:08:52.458Z"
   },
   {
    "duration": 3,
    "start_time": "2023-07-02T13:08:52.823Z"
   },
   {
    "duration": 31,
    "start_time": "2023-07-02T13:08:52.827Z"
   },
   {
    "duration": 8,
    "start_time": "2023-07-02T13:08:52.860Z"
   },
   {
    "duration": 291863,
    "start_time": "2023-07-02T13:08:52.870Z"
   },
   {
    "duration": 10,
    "start_time": "2023-07-02T13:13:44.734Z"
   },
   {
    "duration": 136,
    "start_time": "2023-07-02T13:13:44.747Z"
   },
   {
    "duration": 27,
    "start_time": "2023-07-02T13:13:44.884Z"
   },
   {
    "duration": 19,
    "start_time": "2023-07-02T13:13:44.918Z"
   },
   {
    "duration": 6,
    "start_time": "2023-07-02T13:13:44.938Z"
   },
   {
    "duration": 12,
    "start_time": "2023-07-02T13:13:44.945Z"
   },
   {
    "duration": 97,
    "start_time": "2023-07-02T13:13:44.959Z"
   },
   {
    "duration": 3,
    "start_time": "2023-07-02T13:13:45.058Z"
   },
   {
    "duration": 1800,
    "start_time": "2023-07-02T13:13:45.063Z"
   },
   {
    "duration": 8685,
    "start_time": "2023-07-02T13:13:46.865Z"
   },
   {
    "duration": 239498,
    "start_time": "2023-07-02T13:13:55.552Z"
   },
   {
    "duration": 160954,
    "start_time": "2023-07-02T13:17:55.051Z"
   },
   {
    "duration": 1111,
    "start_time": "2023-07-02T13:23:07.118Z"
   },
   {
    "duration": 1169,
    "start_time": "2023-07-02T13:30:42.125Z"
   },
   {
    "duration": 1208,
    "start_time": "2023-07-02T13:31:20.365Z"
   },
   {
    "duration": 1140,
    "start_time": "2023-07-02T13:31:40.851Z"
   },
   {
    "duration": 1176,
    "start_time": "2023-07-02T13:31:58.121Z"
   },
   {
    "duration": 2662,
    "start_time": "2023-07-02T13:35:31.494Z"
   },
   {
    "duration": 1673,
    "start_time": "2023-07-02T13:35:34.158Z"
   },
   {
    "duration": 16,
    "start_time": "2023-07-02T13:35:35.835Z"
   },
   {
    "duration": 38,
    "start_time": "2023-07-02T13:35:35.852Z"
   },
   {
    "duration": 54,
    "start_time": "2023-07-02T13:35:35.893Z"
   },
   {
    "duration": 64,
    "start_time": "2023-07-02T13:35:35.949Z"
   },
   {
    "duration": 133,
    "start_time": "2023-07-02T13:35:36.015Z"
   },
   {
    "duration": 371,
    "start_time": "2023-07-02T13:35:36.159Z"
   },
   {
    "duration": 2,
    "start_time": "2023-07-02T13:35:36.531Z"
   },
   {
    "duration": 28,
    "start_time": "2023-07-02T13:35:36.535Z"
   },
   {
    "duration": 46,
    "start_time": "2023-07-02T13:35:36.565Z"
   },
   {
    "duration": 291380,
    "start_time": "2023-07-02T13:35:36.626Z"
   },
   {
    "duration": 27,
    "start_time": "2023-07-02T13:40:28.024Z"
   },
   {
    "duration": 141,
    "start_time": "2023-07-02T13:40:28.055Z"
   },
   {
    "duration": 48,
    "start_time": "2023-07-02T13:40:28.197Z"
   },
   {
    "duration": 21,
    "start_time": "2023-07-02T13:40:28.250Z"
   },
   {
    "duration": 12,
    "start_time": "2023-07-02T13:40:28.272Z"
   },
   {
    "duration": 5,
    "start_time": "2023-07-02T13:40:28.286Z"
   },
   {
    "duration": 1733,
    "start_time": "2023-07-02T13:40:28.292Z"
   },
   {
    "duration": 8570,
    "start_time": "2023-07-02T13:40:30.026Z"
   },
   {
    "duration": 243920,
    "start_time": "2023-07-02T13:40:38.597Z"
   },
   {
    "duration": 1256,
    "start_time": "2023-07-02T13:47:20.269Z"
   },
   {
    "duration": 118510,
    "start_time": "2023-07-02T13:47:21.530Z"
   },
   {
    "duration": 45744,
    "start_time": "2023-07-02T13:51:02.662Z"
   },
   {
    "duration": 202905,
    "start_time": "2023-07-02T13:52:09.864Z"
   },
   {
    "duration": 77301,
    "start_time": "2023-07-02T14:14:11.504Z"
   },
   {
    "duration": 55794,
    "start_time": "2023-07-02T14:15:55.036Z"
   },
   {
    "duration": 39693,
    "start_time": "2023-07-02T14:17:21.542Z"
   },
   {
    "duration": 14,
    "start_time": "2023-07-02T14:18:03.142Z"
   },
   {
    "duration": 5,
    "start_time": "2023-07-02T14:18:03.839Z"
   },
   {
    "duration": 5,
    "start_time": "2023-07-02T14:18:05.036Z"
   },
   {
    "duration": 5,
    "start_time": "2023-07-02T14:18:05.657Z"
   },
   {
    "duration": 1867,
    "start_time": "2023-07-02T14:18:06.237Z"
   },
   {
    "duration": 8597,
    "start_time": "2023-07-02T14:18:08.832Z"
   },
   {
    "duration": 238910,
    "start_time": "2023-07-02T14:18:17.431Z"
   },
   {
    "duration": 67682,
    "start_time": "2023-07-02T14:22:16.343Z"
   },
   {
    "duration": 41894,
    "start_time": "2023-07-02T14:24:13.833Z"
   },
   {
    "duration": 39895,
    "start_time": "2023-07-02T14:25:11.822Z"
   },
   {
    "duration": 41261,
    "start_time": "2023-07-02T14:26:23.462Z"
   },
   {
    "duration": 37685,
    "start_time": "2023-07-02T14:27:19.347Z"
   },
   {
    "duration": 16,
    "start_time": "2023-07-02T14:28:15.723Z"
   },
   {
    "duration": 5,
    "start_time": "2023-07-02T14:28:16.244Z"
   },
   {
    "duration": 4,
    "start_time": "2023-07-02T14:28:17.387Z"
   },
   {
    "duration": 5,
    "start_time": "2023-07-02T14:28:17.840Z"
   },
   {
    "duration": 1545,
    "start_time": "2023-07-02T14:28:18.337Z"
   },
   {
    "duration": 7970,
    "start_time": "2023-07-02T14:28:20.385Z"
   },
   {
    "duration": 227457,
    "start_time": "2023-07-02T14:28:28.356Z"
   },
   {
    "duration": 40994,
    "start_time": "2023-07-02T14:32:15.826Z"
   },
   {
    "duration": 38818,
    "start_time": "2023-07-02T14:33:35.097Z"
   },
   {
    "duration": 2759,
    "start_time": "2023-07-02T14:35:01.093Z"
   },
   {
    "duration": 1509,
    "start_time": "2023-07-02T14:35:03.854Z"
   },
   {
    "duration": 18,
    "start_time": "2023-07-02T14:35:05.365Z"
   },
   {
    "duration": 54,
    "start_time": "2023-07-02T14:35:05.385Z"
   },
   {
    "duration": 26,
    "start_time": "2023-07-02T14:35:05.441Z"
   },
   {
    "duration": 18,
    "start_time": "2023-07-02T14:35:05.468Z"
   },
   {
    "duration": 99,
    "start_time": "2023-07-02T14:35:05.488Z"
   },
   {
    "duration": 320,
    "start_time": "2023-07-02T14:35:05.589Z"
   },
   {
    "duration": 4,
    "start_time": "2023-07-02T14:35:05.911Z"
   },
   {
    "duration": 15,
    "start_time": "2023-07-02T14:35:05.916Z"
   },
   {
    "duration": 32,
    "start_time": "2023-07-02T14:35:05.935Z"
   },
   {
    "duration": 269625,
    "start_time": "2023-07-02T14:35:05.969Z"
   },
   {
    "duration": 12,
    "start_time": "2023-07-02T14:39:35.596Z"
   },
   {
    "duration": 136,
    "start_time": "2023-07-02T14:39:35.610Z"
   },
   {
    "duration": 19,
    "start_time": "2023-07-02T14:39:35.748Z"
   },
   {
    "duration": 4,
    "start_time": "2023-07-02T14:39:35.768Z"
   },
   {
    "duration": 7,
    "start_time": "2023-07-02T14:39:35.773Z"
   },
   {
    "duration": 4,
    "start_time": "2023-07-02T14:39:35.781Z"
   },
   {
    "duration": 1679,
    "start_time": "2023-07-02T14:39:35.800Z"
   },
   {
    "duration": 8416,
    "start_time": "2023-07-02T14:39:37.480Z"
   },
   {
    "duration": 246847,
    "start_time": "2023-07-02T14:39:45.897Z"
   },
   {
    "duration": 16385,
    "start_time": "2023-07-02T14:43:52.745Z"
   },
   {
    "duration": 1376,
    "start_time": "2023-07-02T14:44:09.132Z"
   },
   {
    "duration": 15,
    "start_time": "2023-07-02T14:45:45.715Z"
   },
   {
    "duration": 16,
    "start_time": "2023-07-02T14:45:46.193Z"
   },
   {
    "duration": 4,
    "start_time": "2023-07-02T14:45:47.617Z"
   },
   {
    "duration": 5,
    "start_time": "2023-07-02T14:45:49.915Z"
   },
   {
    "duration": 1489,
    "start_time": "2023-07-02T14:45:50.378Z"
   },
   {
    "duration": 8332,
    "start_time": "2023-07-02T14:45:52.853Z"
   },
   {
    "duration": 230394,
    "start_time": "2023-07-02T14:46:01.187Z"
   },
   {
    "duration": 17826,
    "start_time": "2023-07-02T14:49:51.583Z"
   },
   {
    "duration": 77,
    "start_time": "2023-07-02T14:58:01.521Z"
   },
   {
    "duration": 235,
    "start_time": "2023-07-02T14:59:39.134Z"
   },
   {
    "duration": 62362,
    "start_time": "2023-07-02T15:00:11.647Z"
   },
   {
    "duration": 15,
    "start_time": "2023-07-02T15:02:21.627Z"
   },
   {
    "duration": 12,
    "start_time": "2023-07-02T15:02:41.855Z"
   },
   {
    "duration": 11,
    "start_time": "2023-07-02T15:02:52.839Z"
   },
   {
    "duration": 16,
    "start_time": "2023-07-02T15:03:06.020Z"
   },
   {
    "duration": 18,
    "start_time": "2023-07-02T15:03:40.112Z"
   },
   {
    "duration": 18,
    "start_time": "2023-07-02T15:04:06.458Z"
   },
   {
    "duration": 13,
    "start_time": "2023-07-02T15:04:29.753Z"
   },
   {
    "duration": 335288,
    "start_time": "2023-07-02T15:05:45.922Z"
   },
   {
    "duration": 163,
    "start_time": "2023-07-02T15:16:41.046Z"
   },
   {
    "duration": 33,
    "start_time": "2023-07-02T15:16:41.211Z"
   },
   {
    "duration": 5,
    "start_time": "2023-07-02T15:16:41.247Z"
   },
   {
    "duration": 15,
    "start_time": "2023-07-02T15:16:41.253Z"
   },
   {
    "duration": 1786,
    "start_time": "2023-07-02T15:16:41.269Z"
   },
   {
    "duration": 8438,
    "start_time": "2023-07-02T15:16:43.057Z"
   },
   {
    "duration": 236424,
    "start_time": "2023-07-02T15:16:51.497Z"
   },
   {
    "duration": 407911,
    "start_time": "2023-07-02T15:20:47.926Z"
   },
   {
    "duration": 28791,
    "start_time": "2023-07-02T15:30:42.559Z"
   },
   {
    "duration": 2651,
    "start_time": "2023-07-02T15:32:24.898Z"
   },
   {
    "duration": 1626,
    "start_time": "2023-07-02T15:32:27.557Z"
   },
   {
    "duration": 23,
    "start_time": "2023-07-02T15:32:29.184Z"
   },
   {
    "duration": 52,
    "start_time": "2023-07-02T15:32:29.217Z"
   },
   {
    "duration": 12,
    "start_time": "2023-07-02T15:32:29.271Z"
   },
   {
    "duration": 12,
    "start_time": "2023-07-02T15:32:29.284Z"
   },
   {
    "duration": 116,
    "start_time": "2023-07-02T15:32:29.297Z"
   },
   {
    "duration": 361,
    "start_time": "2023-07-02T15:32:29.415Z"
   },
   {
    "duration": 2,
    "start_time": "2023-07-02T15:32:29.778Z"
   },
   {
    "duration": 11,
    "start_time": "2023-07-02T15:32:29.781Z"
   },
   {
    "duration": 21,
    "start_time": "2023-07-02T15:32:29.794Z"
   },
   {
    "duration": 285196,
    "start_time": "2023-07-02T15:32:29.817Z"
   },
   {
    "duration": 11,
    "start_time": "2023-07-02T15:37:15.015Z"
   },
   {
    "duration": 125,
    "start_time": "2023-07-02T15:37:15.029Z"
   },
   {
    "duration": 21,
    "start_time": "2023-07-02T15:37:15.156Z"
   },
   {
    "duration": 26,
    "start_time": "2023-07-02T15:37:15.179Z"
   },
   {
    "duration": 5,
    "start_time": "2023-07-02T15:37:15.214Z"
   },
   {
    "duration": 6,
    "start_time": "2023-07-02T15:37:15.220Z"
   },
   {
    "duration": 1625,
    "start_time": "2023-07-02T15:37:15.228Z"
   },
   {
    "duration": 8063,
    "start_time": "2023-07-02T15:37:16.854Z"
   },
   {
    "duration": 239155,
    "start_time": "2023-07-02T15:37:24.918Z"
   },
   {
    "duration": 2370,
    "start_time": "2023-07-02T15:45:21.488Z"
   },
   {
    "duration": 1369,
    "start_time": "2023-07-02T15:45:23.860Z"
   },
   {
    "duration": 13,
    "start_time": "2023-07-02T15:45:25.231Z"
   },
   {
    "duration": 25,
    "start_time": "2023-07-02T15:45:25.246Z"
   },
   {
    "duration": 41,
    "start_time": "2023-07-02T15:45:25.273Z"
   },
   {
    "duration": 15,
    "start_time": "2023-07-02T15:45:25.315Z"
   },
   {
    "duration": 87,
    "start_time": "2023-07-02T15:45:25.331Z"
   },
   {
    "duration": 358,
    "start_time": "2023-07-02T15:45:25.420Z"
   },
   {
    "duration": 3,
    "start_time": "2023-07-02T15:45:25.779Z"
   },
   {
    "duration": 5,
    "start_time": "2023-07-02T15:45:25.783Z"
   },
   {
    "duration": 10,
    "start_time": "2023-07-02T15:45:25.799Z"
   },
   {
    "duration": 268119,
    "start_time": "2023-07-02T15:45:25.810Z"
   },
   {
    "duration": 10,
    "start_time": "2023-07-02T15:49:53.933Z"
   },
   {
    "duration": 132,
    "start_time": "2023-07-02T15:49:53.944Z"
   },
   {
    "duration": 19,
    "start_time": "2023-07-02T15:49:54.077Z"
   },
   {
    "duration": 19,
    "start_time": "2023-07-02T15:49:54.105Z"
   },
   {
    "duration": 21,
    "start_time": "2023-07-02T15:49:54.125Z"
   },
   {
    "duration": 6,
    "start_time": "2023-07-02T15:49:54.147Z"
   },
   {
    "duration": 1598,
    "start_time": "2023-07-02T15:49:54.154Z"
   },
   {
    "duration": 8702,
    "start_time": "2023-07-02T15:49:55.753Z"
   },
   {
    "duration": 230017,
    "start_time": "2023-07-02T15:50:04.457Z"
   },
   {
    "duration": 668141,
    "start_time": "2023-07-02T15:53:54.476Z"
   },
   {
    "duration": 22415,
    "start_time": "2023-07-02T16:05:02.621Z"
   },
   {
    "duration": 2563,
    "start_time": "2023-07-02T16:06:22.166Z"
   },
   {
    "duration": 1524,
    "start_time": "2023-07-02T16:06:24.734Z"
   },
   {
    "duration": 14,
    "start_time": "2023-07-02T16:06:26.260Z"
   },
   {
    "duration": 48,
    "start_time": "2023-07-02T16:06:26.276Z"
   },
   {
    "duration": 23,
    "start_time": "2023-07-02T16:06:26.332Z"
   },
   {
    "duration": 18,
    "start_time": "2023-07-02T16:06:26.357Z"
   },
   {
    "duration": 102,
    "start_time": "2023-07-02T16:06:26.377Z"
   },
   {
    "duration": 343,
    "start_time": "2023-07-02T16:06:26.482Z"
   },
   {
    "duration": 2,
    "start_time": "2023-07-02T16:06:26.827Z"
   },
   {
    "duration": 6,
    "start_time": "2023-07-02T16:06:26.831Z"
   },
   {
    "duration": 9,
    "start_time": "2023-07-02T16:06:26.838Z"
   },
   {
    "duration": 1586,
    "start_time": "2023-07-02T16:09:52.324Z"
   },
   {
    "duration": 1460,
    "start_time": "2023-07-02T16:09:53.912Z"
   },
   {
    "duration": 13,
    "start_time": "2023-07-02T16:09:55.374Z"
   },
   {
    "duration": 50,
    "start_time": "2023-07-02T16:09:55.388Z"
   },
   {
    "duration": 23,
    "start_time": "2023-07-02T16:09:55.440Z"
   },
   {
    "duration": 13,
    "start_time": "2023-07-02T16:09:55.464Z"
   },
   {
    "duration": 110,
    "start_time": "2023-07-02T16:09:55.478Z"
   },
   {
    "duration": 324,
    "start_time": "2023-07-02T16:09:55.589Z"
   },
   {
    "duration": 2,
    "start_time": "2023-07-02T16:09:55.914Z"
   },
   {
    "duration": 12,
    "start_time": "2023-07-02T16:09:55.917Z"
   },
   {
    "duration": 35,
    "start_time": "2023-07-02T16:09:55.930Z"
   },
   {
    "duration": 1570,
    "start_time": "2023-07-02T16:12:49.325Z"
   },
   {
    "duration": 1435,
    "start_time": "2023-07-02T16:12:50.897Z"
   },
   {
    "duration": 13,
    "start_time": "2023-07-02T16:12:52.338Z"
   },
   {
    "duration": 30,
    "start_time": "2023-07-02T16:12:52.353Z"
   },
   {
    "duration": 44,
    "start_time": "2023-07-02T16:12:52.385Z"
   },
   {
    "duration": 19,
    "start_time": "2023-07-02T16:12:52.431Z"
   },
   {
    "duration": 90,
    "start_time": "2023-07-02T16:12:52.452Z"
   },
   {
    "duration": 515,
    "start_time": "2023-07-02T16:12:52.544Z"
   },
   {
    "duration": 3,
    "start_time": "2023-07-02T16:12:53.061Z"
   },
   {
    "duration": 6,
    "start_time": "2023-07-02T16:12:53.065Z"
   },
   {
    "duration": 4,
    "start_time": "2023-07-02T16:12:53.073Z"
   },
   {
    "duration": 1896,
    "start_time": "2023-07-02T16:14:24.443Z"
   },
   {
    "duration": 1452,
    "start_time": "2023-07-02T16:14:26.346Z"
   },
   {
    "duration": 26,
    "start_time": "2023-07-02T16:14:27.807Z"
   },
   {
    "duration": 43,
    "start_time": "2023-07-02T16:14:27.835Z"
   },
   {
    "duration": 13,
    "start_time": "2023-07-02T16:14:27.880Z"
   },
   {
    "duration": 39,
    "start_time": "2023-07-02T16:14:27.894Z"
   },
   {
    "duration": 103,
    "start_time": "2023-07-02T16:14:27.942Z"
   },
   {
    "duration": 375,
    "start_time": "2023-07-02T16:14:28.046Z"
   },
   {
    "duration": 9,
    "start_time": "2023-07-02T16:14:28.422Z"
   },
   {
    "duration": 19,
    "start_time": "2023-07-02T16:14:28.432Z"
   },
   {
    "duration": 7,
    "start_time": "2023-07-02T16:14:28.452Z"
   },
   {
    "duration": 353815,
    "start_time": "2023-07-02T16:14:28.461Z"
   },
   {
    "duration": 7,
    "start_time": "2023-07-02T16:20:22.277Z"
   },
   {
    "duration": 139,
    "start_time": "2023-07-02T16:20:22.286Z"
   },
   {
    "duration": 26,
    "start_time": "2023-07-02T16:20:22.426Z"
   },
   {
    "duration": 15,
    "start_time": "2023-07-02T16:20:22.455Z"
   },
   {
    "duration": 66,
    "start_time": "2023-07-02T16:20:22.471Z"
   },
   {
    "duration": 28,
    "start_time": "2023-07-02T16:20:22.538Z"
   },
   {
    "duration": 2206,
    "start_time": "2023-07-02T16:20:22.567Z"
   },
   {
    "duration": 11155,
    "start_time": "2023-07-02T16:20:24.775Z"
   },
   {
    "duration": 282756,
    "start_time": "2023-07-02T16:20:35.931Z"
   },
   {
    "duration": 709329,
    "start_time": "2023-07-02T16:25:18.689Z"
   },
   {
    "duration": 6,
    "start_time": "2023-07-02T16:37:08.025Z"
   },
   {
    "duration": 19217,
    "start_time": "2023-07-02T17:07:25.006Z"
   }
  ],
  "kernelspec": {
   "display_name": "Python 3 (ipykernel)",
   "language": "python",
   "name": "python3"
  },
  "language_info": {
   "codemirror_mode": {
    "name": "ipython",
    "version": 3
   },
   "file_extension": ".py",
   "mimetype": "text/x-python",
   "name": "python",
   "nbconvert_exporter": "python",
   "pygments_lexer": "ipython3",
   "version": "3.9.13"
  },
  "toc": {
   "base_numbering": 1,
   "nav_menu": {},
   "number_sections": true,
   "sideBar": true,
   "skip_h1_title": true,
   "title_cell": "Содержание",
   "title_sidebar": "Contents",
   "toc_cell": true,
   "toc_position": {
    "height": "calc(100% - 180px)",
    "left": "10px",
    "top": "150px",
    "width": "302.378px"
   },
   "toc_section_display": true,
   "toc_window_display": false
  }
 },
 "nbformat": 4,
 "nbformat_minor": 2
}
