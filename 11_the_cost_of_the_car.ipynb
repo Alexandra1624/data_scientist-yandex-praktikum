{
 "cells": [
  {
   "cell_type": "markdown",
   "metadata": {},
   "source": [
    "# Определение стоимости автомобилей"
   ]
  },
  {
   "cell_type": "markdown",
   "metadata": {},
   "source": [
    "Сервис по продаже автомобилей с пробегом «Не бит, не крашен» разрабатывает приложение для привлечения новых клиентов. В нём можно быстро узнать рыночную стоимость своего автомобиля. В вашем распоряжении исторические данные: технические характеристики, комплектации и цены автомобилей. Вам нужно построить модель для определения стоимости. \n",
    "\n",
    "Заказчику важны:\n",
    "\n",
    "- качество предсказания;\n",
    "- скорость предсказания;\n",
    "- время обучения."
   ]
  },
  {
   "cell_type": "markdown",
   "metadata": {},
   "source": [
    "## Подготовка данных"
   ]
  },
  {
   "cell_type": "markdown",
   "metadata": {},
   "source": [
    "### Открываем файл с данными и изучаем общую информацию"
   ]
  },
  {
   "cell_type": "code",
   "execution_count": 1,
   "metadata": {},
   "outputs": [],
   "source": [
    "!pip install category_encoders"
   ]
  },
  {
   "cell_type": "code",
   "execution_count": 2,
   "metadata": {},
   "outputs": [],
   "source": [
    "# Импорт библиотек\n",
    "import pandas as pd\n",
    "import numpy as np\n",
    "import os\n",
    "import seaborn as sns\n",
    "\n",
    "import lightgbm as lgb # импорт библиотеки LightGBM\n",
    "from lightgbm import LGBMRegressor\n",
    "\n",
    "from sklearn.model_selection import train_test_split\n",
    "#from sklearn.preprocessing import StandardScaler\n",
    "\n",
    "from sklearn.metrics import mean_squared_error\n",
    "from sklearn.tree import DecisionTreeRegressor\n",
    "from sklearn.linear_model import LinearRegression\n",
    "from sklearn.ensemble import RandomForestRegressor\n",
    "\n",
    "from sklearn.preprocessing import StandardScaler\n",
    "\n",
    "import category_encoders as ce"
   ]
  },
  {
   "cell_type": "code",
   "execution_count": 3,
   "metadata": {},
   "outputs": [
    {
     "name": "stdout",
     "output_type": "stream",
     "text": [
      "Версия LightGBM      :  3.3.1\n"
     ]
    }
   ],
   "source": [
    "# проверим версию LightGBM\n",
    "print(\"Версия LightGBM      : \", lgb.__version__)"
   ]
  },
  {
   "cell_type": "code",
   "execution_count": 4,
   "metadata": {},
   "outputs": [],
   "source": [
    "# чтение файлов с данными\n",
    "pth1 = '/datasets/autos.csv'\n",
    "\n",
    "pth1_local = 'C:/Users/Alexandra' + pth1\n",
    "    \n",
    "if os.path.exists(pth1):\n",
    "    data = pd.read_csv(pth1) \n",
    "    \n",
    "elif os.path.exists(pth1_local):\n",
    "    data = pd.read_csv(pth1_local)\n",
    "\n",
    "else:\n",
    "    print('Файлы не найдены')"
   ]
  },
  {
   "cell_type": "code",
   "execution_count": 5,
   "metadata": {
    "scrolled": true
   },
   "outputs": [
    {
     "data": {
      "text/html": [
       "<div>\n",
       "<style scoped>\n",
       "    .dataframe tbody tr th:only-of-type {\n",
       "        vertical-align: middle;\n",
       "    }\n",
       "\n",
       "    .dataframe tbody tr th {\n",
       "        vertical-align: top;\n",
       "    }\n",
       "\n",
       "    .dataframe thead th {\n",
       "        text-align: right;\n",
       "    }\n",
       "</style>\n",
       "<table border=\"1\" class=\"dataframe\">\n",
       "  <thead>\n",
       "    <tr style=\"text-align: right;\">\n",
       "      <th></th>\n",
       "      <th>DateCrawled</th>\n",
       "      <th>Price</th>\n",
       "      <th>VehicleType</th>\n",
       "      <th>RegistrationYear</th>\n",
       "      <th>Gearbox</th>\n",
       "      <th>Power</th>\n",
       "      <th>Model</th>\n",
       "      <th>Kilometer</th>\n",
       "      <th>RegistrationMonth</th>\n",
       "      <th>FuelType</th>\n",
       "      <th>Brand</th>\n",
       "      <th>Repaired</th>\n",
       "      <th>DateCreated</th>\n",
       "      <th>NumberOfPictures</th>\n",
       "      <th>PostalCode</th>\n",
       "      <th>LastSeen</th>\n",
       "    </tr>\n",
       "  </thead>\n",
       "  <tbody>\n",
       "    <tr>\n",
       "      <th>0</th>\n",
       "      <td>2016-03-24 11:52:17</td>\n",
       "      <td>480</td>\n",
       "      <td>NaN</td>\n",
       "      <td>1993</td>\n",
       "      <td>manual</td>\n",
       "      <td>0</td>\n",
       "      <td>golf</td>\n",
       "      <td>150000</td>\n",
       "      <td>0</td>\n",
       "      <td>petrol</td>\n",
       "      <td>volkswagen</td>\n",
       "      <td>NaN</td>\n",
       "      <td>2016-03-24 00:00:00</td>\n",
       "      <td>0</td>\n",
       "      <td>70435</td>\n",
       "      <td>2016-04-07 03:16:57</td>\n",
       "    </tr>\n",
       "    <tr>\n",
       "      <th>1</th>\n",
       "      <td>2016-03-24 10:58:45</td>\n",
       "      <td>18300</td>\n",
       "      <td>coupe</td>\n",
       "      <td>2011</td>\n",
       "      <td>manual</td>\n",
       "      <td>190</td>\n",
       "      <td>NaN</td>\n",
       "      <td>125000</td>\n",
       "      <td>5</td>\n",
       "      <td>gasoline</td>\n",
       "      <td>audi</td>\n",
       "      <td>yes</td>\n",
       "      <td>2016-03-24 00:00:00</td>\n",
       "      <td>0</td>\n",
       "      <td>66954</td>\n",
       "      <td>2016-04-07 01:46:50</td>\n",
       "    </tr>\n",
       "    <tr>\n",
       "      <th>2</th>\n",
       "      <td>2016-03-14 12:52:21</td>\n",
       "      <td>9800</td>\n",
       "      <td>suv</td>\n",
       "      <td>2004</td>\n",
       "      <td>auto</td>\n",
       "      <td>163</td>\n",
       "      <td>grand</td>\n",
       "      <td>125000</td>\n",
       "      <td>8</td>\n",
       "      <td>gasoline</td>\n",
       "      <td>jeep</td>\n",
       "      <td>NaN</td>\n",
       "      <td>2016-03-14 00:00:00</td>\n",
       "      <td>0</td>\n",
       "      <td>90480</td>\n",
       "      <td>2016-04-05 12:47:46</td>\n",
       "    </tr>\n",
       "    <tr>\n",
       "      <th>3</th>\n",
       "      <td>2016-03-17 16:54:04</td>\n",
       "      <td>1500</td>\n",
       "      <td>small</td>\n",
       "      <td>2001</td>\n",
       "      <td>manual</td>\n",
       "      <td>75</td>\n",
       "      <td>golf</td>\n",
       "      <td>150000</td>\n",
       "      <td>6</td>\n",
       "      <td>petrol</td>\n",
       "      <td>volkswagen</td>\n",
       "      <td>no</td>\n",
       "      <td>2016-03-17 00:00:00</td>\n",
       "      <td>0</td>\n",
       "      <td>91074</td>\n",
       "      <td>2016-03-17 17:40:17</td>\n",
       "    </tr>\n",
       "    <tr>\n",
       "      <th>4</th>\n",
       "      <td>2016-03-31 17:25:20</td>\n",
       "      <td>3600</td>\n",
       "      <td>small</td>\n",
       "      <td>2008</td>\n",
       "      <td>manual</td>\n",
       "      <td>69</td>\n",
       "      <td>fabia</td>\n",
       "      <td>90000</td>\n",
       "      <td>7</td>\n",
       "      <td>gasoline</td>\n",
       "      <td>skoda</td>\n",
       "      <td>no</td>\n",
       "      <td>2016-03-31 00:00:00</td>\n",
       "      <td>0</td>\n",
       "      <td>60437</td>\n",
       "      <td>2016-04-06 10:17:21</td>\n",
       "    </tr>\n",
       "  </tbody>\n",
       "</table>\n",
       "</div>"
      ],
      "text/plain": [
       "           DateCrawled  Price VehicleType  RegistrationYear Gearbox  Power  \\\n",
       "0  2016-03-24 11:52:17    480         NaN              1993  manual      0   \n",
       "1  2016-03-24 10:58:45  18300       coupe              2011  manual    190   \n",
       "2  2016-03-14 12:52:21   9800         suv              2004    auto    163   \n",
       "3  2016-03-17 16:54:04   1500       small              2001  manual     75   \n",
       "4  2016-03-31 17:25:20   3600       small              2008  manual     69   \n",
       "\n",
       "   Model  Kilometer  RegistrationMonth  FuelType       Brand Repaired  \\\n",
       "0   golf     150000                  0    petrol  volkswagen      NaN   \n",
       "1    NaN     125000                  5  gasoline        audi      yes   \n",
       "2  grand     125000                  8  gasoline        jeep      NaN   \n",
       "3   golf     150000                  6    petrol  volkswagen       no   \n",
       "4  fabia      90000                  7  gasoline       skoda       no   \n",
       "\n",
       "           DateCreated  NumberOfPictures  PostalCode             LastSeen  \n",
       "0  2016-03-24 00:00:00                 0       70435  2016-04-07 03:16:57  \n",
       "1  2016-03-24 00:00:00                 0       66954  2016-04-07 01:46:50  \n",
       "2  2016-03-14 00:00:00                 0       90480  2016-04-05 12:47:46  \n",
       "3  2016-03-17 00:00:00                 0       91074  2016-03-17 17:40:17  \n",
       "4  2016-03-31 00:00:00                 0       60437  2016-04-06 10:17:21  "
      ]
     },
     "execution_count": 5,
     "metadata": {},
     "output_type": "execute_result"
    }
   ],
   "source": [
    "#Выводим первые 5 строчек датафрейма на экран\n",
    "data.head()"
   ]
  },
  {
   "cell_type": "code",
   "execution_count": 6,
   "metadata": {
    "scrolled": false
   },
   "outputs": [
    {
     "name": "stdout",
     "output_type": "stream",
     "text": [
      "<class 'pandas.core.frame.DataFrame'>\n",
      "RangeIndex: 354369 entries, 0 to 354368\n",
      "Data columns (total 16 columns):\n",
      " #   Column             Non-Null Count   Dtype \n",
      "---  ------             --------------   ----- \n",
      " 0   DateCrawled        354369 non-null  object\n",
      " 1   Price              354369 non-null  int64 \n",
      " 2   VehicleType        316879 non-null  object\n",
      " 3   RegistrationYear   354369 non-null  int64 \n",
      " 4   Gearbox            334536 non-null  object\n",
      " 5   Power              354369 non-null  int64 \n",
      " 6   Model              334664 non-null  object\n",
      " 7   Kilometer          354369 non-null  int64 \n",
      " 8   RegistrationMonth  354369 non-null  int64 \n",
      " 9   FuelType           321474 non-null  object\n",
      " 10  Brand              354369 non-null  object\n",
      " 11  Repaired           283215 non-null  object\n",
      " 12  DateCreated        354369 non-null  object\n",
      " 13  NumberOfPictures   354369 non-null  int64 \n",
      " 14  PostalCode         354369 non-null  int64 \n",
      " 15  LastSeen           354369 non-null  object\n",
      "dtypes: int64(7), object(9)\n",
      "memory usage: 43.3+ MB\n"
     ]
    }
   ],
   "source": [
    "#Выводим основную информацию о датафрейме\n",
    "data.info()"
   ]
  },
  {
   "cell_type": "code",
   "execution_count": 7,
   "metadata": {
    "scrolled": false
   },
   "outputs": [
    {
     "data": {
      "text/html": [
       "<style  type=\"text/css\" >\n",
       "#T_051fd_row0_col0,#T_051fd_row1_col0,#T_051fd_row3_col0,#T_051fd_row5_col0,#T_051fd_row7_col0,#T_051fd_row8_col0,#T_051fd_row10_col0,#T_051fd_row12_col0,#T_051fd_row13_col0,#T_051fd_row14_col0,#T_051fd_row15_col0{\n",
       "            background-color:  #ffffcc;\n",
       "            color:  #000000;\n",
       "        }#T_051fd_row2_col0{\n",
       "            background-color:  #fd7435;\n",
       "            color:  #000000;\n",
       "        }#T_051fd_row4_col0,#T_051fd_row6_col0{\n",
       "            background-color:  #feca66;\n",
       "            color:  #000000;\n",
       "        }#T_051fd_row9_col0{\n",
       "            background-color:  #fd9c42;\n",
       "            color:  #000000;\n",
       "        }#T_051fd_row11_col0{\n",
       "            background-color:  #800026;\n",
       "            color:  #f1f1f1;\n",
       "        }</style><table id=\"T_051fd_\" ><thead>    <tr>        <th class=\"blank level0\" ></th>        <th class=\"col_heading level0 col0\" >0</th>    </tr></thead><tbody>\n",
       "                <tr>\n",
       "                        <th id=\"T_051fd_level0_row0\" class=\"row_heading level0 row0\" >DateCrawled</th>\n",
       "                        <td id=\"T_051fd_row0_col0\" class=\"data row0 col0\" >0.000000</td>\n",
       "            </tr>\n",
       "            <tr>\n",
       "                        <th id=\"T_051fd_level0_row1\" class=\"row_heading level0 row1\" >Price</th>\n",
       "                        <td id=\"T_051fd_row1_col0\" class=\"data row1 col0\" >0.000000</td>\n",
       "            </tr>\n",
       "            <tr>\n",
       "                        <th id=\"T_051fd_level0_row2\" class=\"row_heading level0 row2\" >VehicleType</th>\n",
       "                        <td id=\"T_051fd_row2_col0\" class=\"data row2 col0\" >11.000000</td>\n",
       "            </tr>\n",
       "            <tr>\n",
       "                        <th id=\"T_051fd_level0_row3\" class=\"row_heading level0 row3\" >RegistrationYear</th>\n",
       "                        <td id=\"T_051fd_row3_col0\" class=\"data row3 col0\" >0.000000</td>\n",
       "            </tr>\n",
       "            <tr>\n",
       "                        <th id=\"T_051fd_level0_row4\" class=\"row_heading level0 row4\" >Gearbox</th>\n",
       "                        <td id=\"T_051fd_row4_col0\" class=\"data row4 col0\" >6.000000</td>\n",
       "            </tr>\n",
       "            <tr>\n",
       "                        <th id=\"T_051fd_level0_row5\" class=\"row_heading level0 row5\" >Power</th>\n",
       "                        <td id=\"T_051fd_row5_col0\" class=\"data row5 col0\" >0.000000</td>\n",
       "            </tr>\n",
       "            <tr>\n",
       "                        <th id=\"T_051fd_level0_row6\" class=\"row_heading level0 row6\" >Model</th>\n",
       "                        <td id=\"T_051fd_row6_col0\" class=\"data row6 col0\" >6.000000</td>\n",
       "            </tr>\n",
       "            <tr>\n",
       "                        <th id=\"T_051fd_level0_row7\" class=\"row_heading level0 row7\" >Kilometer</th>\n",
       "                        <td id=\"T_051fd_row7_col0\" class=\"data row7 col0\" >0.000000</td>\n",
       "            </tr>\n",
       "            <tr>\n",
       "                        <th id=\"T_051fd_level0_row8\" class=\"row_heading level0 row8\" >RegistrationMonth</th>\n",
       "                        <td id=\"T_051fd_row8_col0\" class=\"data row8 col0\" >0.000000</td>\n",
       "            </tr>\n",
       "            <tr>\n",
       "                        <th id=\"T_051fd_level0_row9\" class=\"row_heading level0 row9\" >FuelType</th>\n",
       "                        <td id=\"T_051fd_row9_col0\" class=\"data row9 col0\" >9.000000</td>\n",
       "            </tr>\n",
       "            <tr>\n",
       "                        <th id=\"T_051fd_level0_row10\" class=\"row_heading level0 row10\" >Brand</th>\n",
       "                        <td id=\"T_051fd_row10_col0\" class=\"data row10 col0\" >0.000000</td>\n",
       "            </tr>\n",
       "            <tr>\n",
       "                        <th id=\"T_051fd_level0_row11\" class=\"row_heading level0 row11\" >Repaired</th>\n",
       "                        <td id=\"T_051fd_row11_col0\" class=\"data row11 col0\" >20.000000</td>\n",
       "            </tr>\n",
       "            <tr>\n",
       "                        <th id=\"T_051fd_level0_row12\" class=\"row_heading level0 row12\" >DateCreated</th>\n",
       "                        <td id=\"T_051fd_row12_col0\" class=\"data row12 col0\" >0.000000</td>\n",
       "            </tr>\n",
       "            <tr>\n",
       "                        <th id=\"T_051fd_level0_row13\" class=\"row_heading level0 row13\" >NumberOfPictures</th>\n",
       "                        <td id=\"T_051fd_row13_col0\" class=\"data row13 col0\" >0.000000</td>\n",
       "            </tr>\n",
       "            <tr>\n",
       "                        <th id=\"T_051fd_level0_row14\" class=\"row_heading level0 row14\" >PostalCode</th>\n",
       "                        <td id=\"T_051fd_row14_col0\" class=\"data row14 col0\" >0.000000</td>\n",
       "            </tr>\n",
       "            <tr>\n",
       "                        <th id=\"T_051fd_level0_row15\" class=\"row_heading level0 row15\" >LastSeen</th>\n",
       "                        <td id=\"T_051fd_row15_col0\" class=\"data row15 col0\" >0.000000</td>\n",
       "            </tr>\n",
       "    </tbody></table>"
      ],
      "text/plain": [
       "<pandas.io.formats.style.Styler at 0x7f1cda02f160>"
      ]
     },
     "execution_count": 7,
     "metadata": {},
     "output_type": "execute_result"
    }
   ],
   "source": [
    "# Проверяем пропущенные значения\n",
    "pd.DataFrame(round(data.isna().mean()*100,)).style.background_gradient('YlOrRd')"
   ]
  },
  {
   "cell_type": "markdown",
   "metadata": {},
   "source": [
    "**Вывод:**\n",
    "\n",
    "В выборке **data** 354369 строк, 16 столбцов. Имеются пропуски в столбцах:\n",
    "\n",
    "- VehicleType (тип автомобильного кузова)\n",
    "- Gearbox (тип коробки передач)\n",
    "- Model (модель автомобиля)\n",
    "- FuelType (тип топлива)\n",
    "- Repaired (была машина в ремонте или нет)"
   ]
  },
  {
   "cell_type": "markdown",
   "metadata": {},
   "source": [
    "### Проверяем аномальные значения"
   ]
  },
  {
   "cell_type": "code",
   "execution_count": 8,
   "metadata": {},
   "outputs": [
    {
     "data": {
      "text/plain": [
       "array([0])"
      ]
     },
     "execution_count": 8,
     "metadata": {},
     "output_type": "execute_result"
    }
   ],
   "source": [
    "data['NumberOfPictures'].unique() # Проверяем уникальные значения NumberOfPictures"
   ]
  },
  {
   "cell_type": "markdown",
   "metadata": {},
   "source": [
    "Столбец **NumberOfPictures** неинформативный."
   ]
  },
  {
   "cell_type": "code",
   "execution_count": 9,
   "metadata": {
    "scrolled": true
   },
   "outputs": [
    {
     "data": {
      "text/plain": [
       "{1000,\n",
       " 1001,\n",
       " 1039,\n",
       " 1111,\n",
       " 1200,\n",
       " 1234,\n",
       " 1253,\n",
       " 1255,\n",
       " 1300,\n",
       " 1400,\n",
       " 1500,\n",
       " 1600,\n",
       " 1602,\n",
       " 1688,\n",
       " 1800,\n",
       " 1910,\n",
       " 1915,\n",
       " 1919,\n",
       " 1920,\n",
       " 1923,\n",
       " 1925,\n",
       " 1927,\n",
       " 1928,\n",
       " 1929,\n",
       " 1930,\n",
       " 1931,\n",
       " 1932,\n",
       " 1933,\n",
       " 1934,\n",
       " 1935,\n",
       " 1936,\n",
       " 1937,\n",
       " 1938,\n",
       " 1940,\n",
       " 1941,\n",
       " 1942,\n",
       " 1943,\n",
       " 1944,\n",
       " 1945,\n",
       " 1946,\n",
       " 1947,\n",
       " 1948,\n",
       " 1949,\n",
       " 1950,\n",
       " 1951,\n",
       " 1952,\n",
       " 1953,\n",
       " 1954,\n",
       " 1955,\n",
       " 1956,\n",
       " 1957,\n",
       " 1958,\n",
       " 1959,\n",
       " 1960,\n",
       " 1961,\n",
       " 1962,\n",
       " 1963,\n",
       " 1964,\n",
       " 1965,\n",
       " 1966,\n",
       " 1967,\n",
       " 1968,\n",
       " 1969,\n",
       " 1970,\n",
       " 1971,\n",
       " 1972,\n",
       " 1973,\n",
       " 1974,\n",
       " 1975,\n",
       " 1976,\n",
       " 1977,\n",
       " 1978,\n",
       " 1979,\n",
       " 1980,\n",
       " 1981,\n",
       " 1982,\n",
       " 1983,\n",
       " 1984,\n",
       " 1985,\n",
       " 1986,\n",
       " 1987,\n",
       " 1988,\n",
       " 1989,\n",
       " 1990,\n",
       " 1991,\n",
       " 1992,\n",
       " 1993,\n",
       " 1994,\n",
       " 1995,\n",
       " 1996,\n",
       " 1997,\n",
       " 1998,\n",
       " 1999,\n",
       " 2000,\n",
       " 2001,\n",
       " 2002,\n",
       " 2003,\n",
       " 2004,\n",
       " 2005,\n",
       " 2006,\n",
       " 2007,\n",
       " 2008,\n",
       " 2009,\n",
       " 2010,\n",
       " 2011,\n",
       " 2012,\n",
       " 2013,\n",
       " 2014,\n",
       " 2015,\n",
       " 2016,\n",
       " 2017,\n",
       " 2018,\n",
       " 2019,\n",
       " 2066,\n",
       " 2200,\n",
       " 2222,\n",
       " 2290,\n",
       " 2500,\n",
       " 2800,\n",
       " 2900,\n",
       " 3000,\n",
       " 3200,\n",
       " 3500,\n",
       " 3700,\n",
       " 3800,\n",
       " 4000,\n",
       " 4100,\n",
       " 4500,\n",
       " 4800,\n",
       " 5000,\n",
       " 5300,\n",
       " 5555,\n",
       " 5600,\n",
       " 5900,\n",
       " 5911,\n",
       " 6000,\n",
       " 6500,\n",
       " 7000,\n",
       " 7100,\n",
       " 7500,\n",
       " 7800,\n",
       " 8000,\n",
       " 8200,\n",
       " 8455,\n",
       " 8500,\n",
       " 8888,\n",
       " 9000,\n",
       " 9229,\n",
       " 9450,\n",
       " 9996,\n",
       " 9999}"
      ]
     },
     "execution_count": 9,
     "metadata": {},
     "output_type": "execute_result"
    }
   ],
   "source": [
    "# Проверяем уникальные значения RegistrationYear\n",
    "unique_local_name = set(data['RegistrationYear'].unique())\n",
    "unique_local_name"
   ]
  },
  {
   "cell_type": "markdown",
   "metadata": {},
   "source": [
    "Проверим год, когда была создана последняя анкета."
   ]
  },
  {
   "cell_type": "code",
   "execution_count": 10,
   "metadata": {
    "scrolled": true
   },
   "outputs": [
    {
     "data": {
      "text/plain": [
       "{'2014-03-10 00:00:00',\n",
       " '2015-03-20 00:00:00',\n",
       " '2015-06-18 00:00:00',\n",
       " '2015-08-07 00:00:00',\n",
       " '2015-08-10 00:00:00',\n",
       " '2015-09-04 00:00:00',\n",
       " '2015-09-09 00:00:00',\n",
       " '2015-11-02 00:00:00',\n",
       " '2015-11-08 00:00:00',\n",
       " '2015-11-10 00:00:00',\n",
       " '2015-11-12 00:00:00',\n",
       " '2015-11-17 00:00:00',\n",
       " '2015-11-23 00:00:00',\n",
       " '2015-11-24 00:00:00',\n",
       " '2015-12-05 00:00:00',\n",
       " '2015-12-06 00:00:00',\n",
       " '2015-12-17 00:00:00',\n",
       " '2015-12-27 00:00:00',\n",
       " '2015-12-30 00:00:00',\n",
       " '2016-01-02 00:00:00',\n",
       " '2016-01-03 00:00:00',\n",
       " '2016-01-06 00:00:00',\n",
       " '2016-01-07 00:00:00',\n",
       " '2016-01-08 00:00:00',\n",
       " '2016-01-10 00:00:00',\n",
       " '2016-01-13 00:00:00',\n",
       " '2016-01-15 00:00:00',\n",
       " '2016-01-16 00:00:00',\n",
       " '2016-01-17 00:00:00',\n",
       " '2016-01-18 00:00:00',\n",
       " '2016-01-19 00:00:00',\n",
       " '2016-01-20 00:00:00',\n",
       " '2016-01-22 00:00:00',\n",
       " '2016-01-23 00:00:00',\n",
       " '2016-01-24 00:00:00',\n",
       " '2016-01-25 00:00:00',\n",
       " '2016-01-26 00:00:00',\n",
       " '2016-01-27 00:00:00',\n",
       " '2016-01-28 00:00:00',\n",
       " '2016-01-29 00:00:00',\n",
       " '2016-01-30 00:00:00',\n",
       " '2016-01-31 00:00:00',\n",
       " '2016-02-01 00:00:00',\n",
       " '2016-02-02 00:00:00',\n",
       " '2016-02-03 00:00:00',\n",
       " '2016-02-04 00:00:00',\n",
       " '2016-02-05 00:00:00',\n",
       " '2016-02-06 00:00:00',\n",
       " '2016-02-07 00:00:00',\n",
       " '2016-02-08 00:00:00',\n",
       " '2016-02-09 00:00:00',\n",
       " '2016-02-10 00:00:00',\n",
       " '2016-02-11 00:00:00',\n",
       " '2016-02-12 00:00:00',\n",
       " '2016-02-13 00:00:00',\n",
       " '2016-02-14 00:00:00',\n",
       " '2016-02-15 00:00:00',\n",
       " '2016-02-16 00:00:00',\n",
       " '2016-02-17 00:00:00',\n",
       " '2016-02-18 00:00:00',\n",
       " '2016-02-19 00:00:00',\n",
       " '2016-02-20 00:00:00',\n",
       " '2016-02-21 00:00:00',\n",
       " '2016-02-22 00:00:00',\n",
       " '2016-02-23 00:00:00',\n",
       " '2016-02-24 00:00:00',\n",
       " '2016-02-25 00:00:00',\n",
       " '2016-02-26 00:00:00',\n",
       " '2016-02-27 00:00:00',\n",
       " '2016-02-28 00:00:00',\n",
       " '2016-02-29 00:00:00',\n",
       " '2016-03-01 00:00:00',\n",
       " '2016-03-02 00:00:00',\n",
       " '2016-03-03 00:00:00',\n",
       " '2016-03-04 00:00:00',\n",
       " '2016-03-05 00:00:00',\n",
       " '2016-03-06 00:00:00',\n",
       " '2016-03-07 00:00:00',\n",
       " '2016-03-08 00:00:00',\n",
       " '2016-03-09 00:00:00',\n",
       " '2016-03-10 00:00:00',\n",
       " '2016-03-11 00:00:00',\n",
       " '2016-03-12 00:00:00',\n",
       " '2016-03-13 00:00:00',\n",
       " '2016-03-14 00:00:00',\n",
       " '2016-03-15 00:00:00',\n",
       " '2016-03-16 00:00:00',\n",
       " '2016-03-17 00:00:00',\n",
       " '2016-03-18 00:00:00',\n",
       " '2016-03-19 00:00:00',\n",
       " '2016-03-20 00:00:00',\n",
       " '2016-03-21 00:00:00',\n",
       " '2016-03-22 00:00:00',\n",
       " '2016-03-23 00:00:00',\n",
       " '2016-03-24 00:00:00',\n",
       " '2016-03-25 00:00:00',\n",
       " '2016-03-26 00:00:00',\n",
       " '2016-03-27 00:00:00',\n",
       " '2016-03-28 00:00:00',\n",
       " '2016-03-29 00:00:00',\n",
       " '2016-03-30 00:00:00',\n",
       " '2016-03-31 00:00:00',\n",
       " '2016-04-01 00:00:00',\n",
       " '2016-04-02 00:00:00',\n",
       " '2016-04-03 00:00:00',\n",
       " '2016-04-04 00:00:00',\n",
       " '2016-04-05 00:00:00',\n",
       " '2016-04-06 00:00:00',\n",
       " '2016-04-07 00:00:00'}"
      ]
     },
     "execution_count": 10,
     "metadata": {},
     "output_type": "execute_result"
    }
   ],
   "source": [
    "# Проверяем уникальные значения DateCreated\n",
    "unique_local_name = set(data['DateCreated'].unique())\n",
    "unique_local_name"
   ]
  },
  {
   "cell_type": "markdown",
   "metadata": {},
   "source": [
    "Последняя запись была сделана в 2016 году. Первые машины массового производства появились в 1900 году. Будем считать, что год регистрации меньше 1900  и больше 2016 - ошибочные."
   ]
  },
  {
   "cell_type": "code",
   "execution_count": 11,
   "metadata": {},
   "outputs": [],
   "source": [
    "data = data.loc[(data['RegistrationYear'] <= 2016) & (data['RegistrationYear'] >= 1900)]"
   ]
  },
  {
   "cell_type": "code",
   "execution_count": 12,
   "metadata": {
    "scrolled": true
   },
   "outputs": [
    {
     "data": {
      "text/plain": [
       "{1910,\n",
       " 1915,\n",
       " 1919,\n",
       " 1920,\n",
       " 1923,\n",
       " 1925,\n",
       " 1927,\n",
       " 1928,\n",
       " 1929,\n",
       " 1930,\n",
       " 1931,\n",
       " 1932,\n",
       " 1933,\n",
       " 1934,\n",
       " 1935,\n",
       " 1936,\n",
       " 1937,\n",
       " 1938,\n",
       " 1940,\n",
       " 1941,\n",
       " 1942,\n",
       " 1943,\n",
       " 1944,\n",
       " 1945,\n",
       " 1946,\n",
       " 1947,\n",
       " 1948,\n",
       " 1949,\n",
       " 1950,\n",
       " 1951,\n",
       " 1952,\n",
       " 1953,\n",
       " 1954,\n",
       " 1955,\n",
       " 1956,\n",
       " 1957,\n",
       " 1958,\n",
       " 1959,\n",
       " 1960,\n",
       " 1961,\n",
       " 1962,\n",
       " 1963,\n",
       " 1964,\n",
       " 1965,\n",
       " 1966,\n",
       " 1967,\n",
       " 1968,\n",
       " 1969,\n",
       " 1970,\n",
       " 1971,\n",
       " 1972,\n",
       " 1973,\n",
       " 1974,\n",
       " 1975,\n",
       " 1976,\n",
       " 1977,\n",
       " 1978,\n",
       " 1979,\n",
       " 1980,\n",
       " 1981,\n",
       " 1982,\n",
       " 1983,\n",
       " 1984,\n",
       " 1985,\n",
       " 1986,\n",
       " 1987,\n",
       " 1988,\n",
       " 1989,\n",
       " 1990,\n",
       " 1991,\n",
       " 1992,\n",
       " 1993,\n",
       " 1994,\n",
       " 1995,\n",
       " 1996,\n",
       " 1997,\n",
       " 1998,\n",
       " 1999,\n",
       " 2000,\n",
       " 2001,\n",
       " 2002,\n",
       " 2003,\n",
       " 2004,\n",
       " 2005,\n",
       " 2006,\n",
       " 2007,\n",
       " 2008,\n",
       " 2009,\n",
       " 2010,\n",
       " 2011,\n",
       " 2012,\n",
       " 2013,\n",
       " 2014,\n",
       " 2015,\n",
       " 2016}"
      ]
     },
     "execution_count": 12,
     "metadata": {},
     "output_type": "execute_result"
    }
   ],
   "source": [
    "# Проверяем уникальные значения RegistrationYear\n",
    "unique_local_name = set(data['RegistrationYear'].unique())\n",
    "unique_local_name"
   ]
  },
  {
   "cell_type": "markdown",
   "metadata": {},
   "source": [
    "Столбец **NumberOfPictures** имеет только нулевые значения. Удалим его. Также для моделей не понадобятся столбцы:\n",
    "- **DateCrawled** (дата скачивания анкеты из базы)\n",
    "- **RegistrationMonth** (месяц регистрации автомобиля)\n",
    "- **DateCreated** (дата создания анкеты)\n",
    "- **PostalCode** (почтовый индекс владельца анкеты (пользователя))\n",
    "- **LastSeen** (дата последней активности пользователя)\n",
    "\n",
    "Они не влияют на стоимость автомобиля. Удаляем."
   ]
  },
  {
   "cell_type": "code",
   "execution_count": 13,
   "metadata": {},
   "outputs": [],
   "source": [
    "#удалим столбцы, которые нам не понадобятся\n",
    "data = data.drop(['NumberOfPictures', 'DateCrawled', 'RegistrationMonth', 'DateCreated', 'PostalCode', 'LastSeen'], axis=1)"
   ]
  },
  {
   "cell_type": "code",
   "execution_count": 14,
   "metadata": {
    "scrolled": true
   },
   "outputs": [
    {
     "name": "stdout",
     "output_type": "stream",
     "text": [
      "<class 'pandas.core.frame.DataFrame'>\n",
      "Int64Index: 339773 entries, 0 to 354368\n",
      "Data columns (total 10 columns):\n",
      " #   Column            Non-Null Count   Dtype \n",
      "---  ------            --------------   ----- \n",
      " 0   Price             339773 non-null  int64 \n",
      " 1   VehicleType       316859 non-null  object\n",
      " 2   RegistrationYear  339773 non-null  int64 \n",
      " 3   Gearbox           321864 non-null  object\n",
      " 4   Power             339773 non-null  int64 \n",
      " 5   Model             322148 non-null  object\n",
      " 6   Kilometer         339773 non-null  int64 \n",
      " 7   FuelType          312524 non-null  object\n",
      " 8   Brand             339773 non-null  object\n",
      " 9   Repaired          274974 non-null  object\n",
      "dtypes: int64(4), object(6)\n",
      "memory usage: 28.5+ MB\n"
     ]
    }
   ],
   "source": [
    "data.info()"
   ]
  },
  {
   "cell_type": "code",
   "execution_count": 15,
   "metadata": {
    "scrolled": true
   },
   "outputs": [
    {
     "data": {
      "text/plain": [
       "{0,\n",
       " 1,\n",
       " 2,\n",
       " 3,\n",
       " 4,\n",
       " 5,\n",
       " 8198,\n",
       " 8199,\n",
       " 8200,\n",
       " 9,\n",
       " 8,\n",
       " 16390,\n",
       " 12,\n",
       " 13,\n",
       " 14,\n",
       " 10,\n",
       " 16400,\n",
       " 17,\n",
       " 15,\n",
       " 16399,\n",
       " 20,\n",
       " 16,\n",
       " 19,\n",
       " 8211,\n",
       " 24,\n",
       " 25,\n",
       " 21,\n",
       " 8219,\n",
       " 27,\n",
       " 29,\n",
       " 30,\n",
       " 8222,\n",
       " 32,\n",
       " 33,\n",
       " 8225,\n",
       " 35,\n",
       " 7,\n",
       " 8230,\n",
       " 39,\n",
       " 40,\n",
       " 38,\n",
       " 45,\n",
       " 16430,\n",
       " 47,\n",
       " 8240,\n",
       " 49,\n",
       " 50,\n",
       " 8245,\n",
       " 55,\n",
       " 8248,\n",
       " 8249,\n",
       " 8250,\n",
       " 59,\n",
       " 60,\n",
       " 11,\n",
       " 58,\n",
       " 8255,\n",
       " 16445,\n",
       " 16449,\n",
       " 16450,\n",
       " 65,\n",
       " 8258,\n",
       " 69,\n",
       " 70,\n",
       " 66,\n",
       " 8265,\n",
       " 74,\n",
       " 75,\n",
       " 77,\n",
       " 8270,\n",
       " 79,\n",
       " 80,\n",
       " 8275,\n",
       " 85,\n",
       " 8280,\n",
       " 88,\n",
       " 90,\n",
       " 16475,\n",
       " 89,\n",
       " 8282,\n",
       " 18,\n",
       " 95,\n",
       " 16480,\n",
       " 8288,\n",
       " 98,\n",
       " 99,\n",
       " 100,\n",
       " 8290,\n",
       " 101,\n",
       " 8295,\n",
       " 16485,\n",
       " 105,\n",
       " 16490,\n",
       " 8299,\n",
       " 8300,\n",
       " 108,\n",
       " 110,\n",
       " 111,\n",
       " 16495,\n",
       " 112,\n",
       " 16499,\n",
       " 16500,\n",
       " 115,\n",
       " 117,\n",
       " 119,\n",
       " 120,\n",
       " 121,\n",
       " 122,\n",
       " 123,\n",
       " 125,\n",
       " 126,\n",
       " 127,\n",
       " 8320,\n",
       " 129,\n",
       " 130,\n",
       " 8321,\n",
       " 132,\n",
       " 133,\n",
       " 128,\n",
       " 135,\n",
       " 26,\n",
       " 8330,\n",
       " 139,\n",
       " 140,\n",
       " 8333,\n",
       " 142,\n",
       " 8335,\n",
       " 145,\n",
       " 8340,\n",
       " 149,\n",
       " 150,\n",
       " 8345,\n",
       " 155,\n",
       " 156,\n",
       " 8349,\n",
       " 8350,\n",
       " 159,\n",
       " 160,\n",
       " 157,\n",
       " 158,\n",
       " 162,\n",
       " 16541,\n",
       " 165,\n",
       " 16550,\n",
       " 166,\n",
       " 8360,\n",
       " 169,\n",
       " 170,\n",
       " 16555,\n",
       " 16549,\n",
       " 173,\n",
       " 175,\n",
       " 177,\n",
       " 179,\n",
       " 180,\n",
       " 181,\n",
       " 185,\n",
       " 8380,\n",
       " 189,\n",
       " 190,\n",
       " 188,\n",
       " 192,\n",
       " 193,\n",
       " 195,\n",
       " 196,\n",
       " 16580,\n",
       " 8390,\n",
       " 199,\n",
       " 200,\n",
       " 198,\n",
       " 16579,\n",
       " 8395,\n",
       " 202,\n",
       " 205,\n",
       " 16590,\n",
       " 8399,\n",
       " 8400,\n",
       " 209,\n",
       " 210,\n",
       " 211,\n",
       " 215,\n",
       " 16600,\n",
       " 16599,\n",
       " 217,\n",
       " 219,\n",
       " 220,\n",
       " 222,\n",
       " 224,\n",
       " 225,\n",
       " 8419,\n",
       " 8420,\n",
       " 229,\n",
       " 230,\n",
       " 8425,\n",
       " 233,\n",
       " 235,\n",
       " 236,\n",
       " 16620,\n",
       " 238,\n",
       " 8431,\n",
       " 240,\n",
       " 243,\n",
       " 245,\n",
       " 248,\n",
       " 249,\n",
       " 250,\n",
       " 251,\n",
       " 8444,\n",
       " 253,\n",
       " 8446,\n",
       " 255,\n",
       " 252,\n",
       " 8449,\n",
       " 8450,\n",
       " 259,\n",
       " 260,\n",
       " 261,\n",
       " 8447,\n",
       " 263,\n",
       " 16648,\n",
       " 265,\n",
       " 16650,\n",
       " 16649,\n",
       " 8460,\n",
       " 269,\n",
       " 270,\n",
       " 266,\n",
       " 272,\n",
       " 273,\n",
       " 274,\n",
       " 275,\n",
       " 16660,\n",
       " 277,\n",
       " 8470,\n",
       " 279,\n",
       " 280,\n",
       " 281,\n",
       " 16666,\n",
       " 8469,\n",
       " 278,\n",
       " 285,\n",
       " 16669,\n",
       " 284,\n",
       " 8480,\n",
       " 289,\n",
       " 290,\n",
       " 288,\n",
       " 8484,\n",
       " 293,\n",
       " 8485,\n",
       " 295,\n",
       " 8488,\n",
       " 16680,\n",
       " 8490,\n",
       " 299,\n",
       " 300,\n",
       " 301,\n",
       " 298,\n",
       " 8495,\n",
       " 8494,\n",
       " 305,\n",
       " 16690,\n",
       " 8499,\n",
       " 8500,\n",
       " 309,\n",
       " 310,\n",
       " 16689,\n",
       " 308,\n",
       " 8498,\n",
       " 315,\n",
       " 16700,\n",
       " 316,\n",
       " 16699,\n",
       " 319,\n",
       " 320,\n",
       " 321,\n",
       " 8510,\n",
       " 323,\n",
       " 325,\n",
       " 8519,\n",
       " 8520,\n",
       " 329,\n",
       " 330,\n",
       " 331,\n",
       " 332,\n",
       " 333,\n",
       " 335,\n",
       " 338,\n",
       " 339,\n",
       " 340,\n",
       " 341,\n",
       " 344,\n",
       " 345,\n",
       " 348,\n",
       " 349,\n",
       " 350,\n",
       " 355,\n",
       " 356,\n",
       " 8549,\n",
       " 8550,\n",
       " 359,\n",
       " 360,\n",
       " 8555,\n",
       " 365,\n",
       " 16750,\n",
       " 366,\n",
       " 8560,\n",
       " 369,\n",
       " 370,\n",
       " 368,\n",
       " 16749,\n",
       " 373,\n",
       " 375,\n",
       " 377,\n",
       " 8570,\n",
       " 379,\n",
       " 380,\n",
       " 378,\n",
       " 384,\n",
       " 385,\n",
       " 8579,\n",
       " 8580,\n",
       " 389,\n",
       " 390,\n",
       " 388,\n",
       " 16777,\n",
       " 393,\n",
       " 395,\n",
       " 16780,\n",
       " 397,\n",
       " 8590,\n",
       " 398,\n",
       " 399,\n",
       " 400,\n",
       " 16786,\n",
       " 8595,\n",
       " 16788,\n",
       " 16790,\n",
       " 8599,\n",
       " 8600,\n",
       " 408,\n",
       " 410,\n",
       " 414,\n",
       " 16799,\n",
       " 16800,\n",
       " 415,\n",
       " 418,\n",
       " 419,\n",
       " 420,\n",
       " 422,\n",
       " 424,\n",
       " 425,\n",
       " 8620,\n",
       " 429,\n",
       " 430,\n",
       " 433,\n",
       " 435,\n",
       " 8630,\n",
       " 439,\n",
       " 440,\n",
       " 444,\n",
       " 445,\n",
       " 16830,\n",
       " 8640,\n",
       " 449,\n",
       " 450,\n",
       " 8645,\n",
       " 455,\n",
       " 456,\n",
       " 16840,\n",
       " 8650,\n",
       " 459,\n",
       " 460,\n",
       " 16845,\n",
       " 458,\n",
       " 8655,\n",
       " 465,\n",
       " 16850,\n",
       " 467,\n",
       " 466,\n",
       " 469,\n",
       " 470,\n",
       " 8663,\n",
       " 16856,\n",
       " 8665,\n",
       " 8666,\n",
       " 475,\n",
       " 477,\n",
       " 8670,\n",
       " 479,\n",
       " 480,\n",
       " 16866,\n",
       " 8675,\n",
       " 485,\n",
       " 16870,\n",
       " 487,\n",
       " 8680,\n",
       " 489,\n",
       " 490,\n",
       " 495,\n",
       " 16880,\n",
       " 8690,\n",
       " 499,\n",
       " 500,\n",
       " 498,\n",
       " 501,\n",
       " 8695,\n",
       " 16888,\n",
       " 505,\n",
       " 16890,\n",
       " 8699,\n",
       " 8700,\n",
       " 16885,\n",
       " 510,\n",
       " 8698,\n",
       " 9789,\n",
       " 514,\n",
       " 16899,\n",
       " 16900,\n",
       " 515,\n",
       " 517,\n",
       " 519,\n",
       " 520,\n",
       " 522,\n",
       " 523,\n",
       " 525,\n",
       " 16911,\n",
       " 8720,\n",
       " 530,\n",
       " 531,\n",
       " 533,\n",
       " 535,\n",
       " 16920,\n",
       " 536,\n",
       " 8730,\n",
       " 540,\n",
       " 543,\n",
       " 544,\n",
       " 545,\n",
       " 548,\n",
       " 549,\n",
       " 550,\n",
       " 554,\n",
       " 555,\n",
       " 16940,\n",
       " 8749,\n",
       " 8750,\n",
       " 559,\n",
       " 560,\n",
       " 8751,\n",
       " 8755,\n",
       " 565,\n",
       " 16950,\n",
       " 566,\n",
       " 8760,\n",
       " 569,\n",
       " 570,\n",
       " 16955,\n",
       " 8764,\n",
       " 8765,\n",
       " 574,\n",
       " 575,\n",
       " 16960,\n",
       " 577,\n",
       " 8770,\n",
       " 579,\n",
       " 580,\n",
       " 576,\n",
       " 16966,\n",
       " 578,\n",
       " 585,\n",
       " 16970,\n",
       " 8777,\n",
       " 588,\n",
       " 8780,\n",
       " 590,\n",
       " 589,\n",
       " 586,\n",
       " 593,\n",
       " 8785,\n",
       " 595,\n",
       " 16980,\n",
       " 8788,\n",
       " 8790,\n",
       " 599,\n",
       " 600,\n",
       " 598,\n",
       " 601,\n",
       " 8795,\n",
       " 16988,\n",
       " 16989,\n",
       " 16990,\n",
       " 8799,\n",
       " 8800,\n",
       " 8801,\n",
       " 8798,\n",
       " 16995,\n",
       " 610,\n",
       " 605,\n",
       " 16998,\n",
       " 16999,\n",
       " 17000,\n",
       " 615,\n",
       " 619,\n",
       " 620,\n",
       " 622,\n",
       " 623,\n",
       " 624,\n",
       " 625,\n",
       " 628,\n",
       " 629,\n",
       " 630,\n",
       " 632,\n",
       " 633,\n",
       " 634,\n",
       " 635,\n",
       " 639,\n",
       " 640,\n",
       " 8833,\n",
       " 644,\n",
       " 645,\n",
       " 647,\n",
       " 8840,\n",
       " 649,\n",
       " 650,\n",
       " 648,\n",
       " 655,\n",
       " 656,\n",
       " 8849,\n",
       " 8850,\n",
       " 659,\n",
       " 660,\n",
       " 658,\n",
       " 8854,\n",
       " 17047,\n",
       " 665,\n",
       " 666,\n",
       " 667,\n",
       " 669,\n",
       " 670,\n",
       " 675,\n",
       " 8870,\n",
       " 679,\n",
       " 680,\n",
       " 17064,\n",
       " 8875,\n",
       " 685,\n",
       " 686,\n",
       " 8880,\n",
       " 689,\n",
       " 690,\n",
       " 688,\n",
       " 691,\n",
       " 8885,\n",
       " 8886,\n",
       " 8887,\n",
       " 8888,\n",
       " 695,\n",
       " 698,\n",
       " 699,\n",
       " 700,\n",
       " 8890,\n",
       " 696,\n",
       " 701,\n",
       " 8889,\n",
       " 8897,\n",
       " 706,\n",
       " 8899,\n",
       " 8900,\n",
       " 709,\n",
       " 710,\n",
       " 8895,\n",
       " 8904,\n",
       " 8898,\n",
       " 17099,\n",
       " 17100,\n",
       " 717,\n",
       " 715,\n",
       " 8911,\n",
       " 719,\n",
       " 720,\n",
       " 722,\n",
       " 8285,\n",
       " 725,\n",
       " 17111,\n",
       " 728,\n",
       " 729,\n",
       " 730,\n",
       " 732,\n",
       " 8925,\n",
       " 735,\n",
       " 8930,\n",
       " 739,\n",
       " 740,\n",
       " 744,\n",
       " 745,\n",
       " 747,\n",
       " 8940,\n",
       " 749,\n",
       " 750,\n",
       " 17135,\n",
       " 8944,\n",
       " 8945,\n",
       " 755,\n",
       " 8949,\n",
       " 8950,\n",
       " 759,\n",
       " 760,\n",
       " 8955,\n",
       " 17148,\n",
       " 765,\n",
       " 17150,\n",
       " 17149,\n",
       " 766,\n",
       " 769,\n",
       " 770,\n",
       " 8960,\n",
       " 768,\n",
       " 775,\n",
       " 17159,\n",
       " 777,\n",
       " 8970,\n",
       " 776,\n",
       " 780,\n",
       " 8974,\n",
       " 8975,\n",
       " 785,\n",
       " 8979,\n",
       " 8980,\n",
       " 789,\n",
       " 790,\n",
       " 788,\n",
       " 793,\n",
       " 795,\n",
       " 8987,\n",
       " 797,\n",
       " 8990,\n",
       " 799,\n",
       " 800,\n",
       " 8989,\n",
       " 798,\n",
       " 8995,\n",
       " 804,\n",
       " 17189,\n",
       " 17190,\n",
       " 8999,\n",
       " 9000,\n",
       " 8998,\n",
       " 810,\n",
       " 9001,\n",
       " 16444,\n",
       " 17199,\n",
       " 17200,\n",
       " 816,\n",
       " 820,\n",
       " 822,\n",
       " 823,\n",
       " 825,\n",
       " 829,\n",
       " 830,\n",
       " 833,\n",
       " 834,\n",
       " 835,\n",
       " 836,\n",
       " 837,\n",
       " 840,\n",
       " 844,\n",
       " 845,\n",
       " 846,\n",
       " 849,\n",
       " 850,\n",
       " 851,\n",
       " 1797,\n",
       " 855,\n",
       " 9049,\n",
       " 9050,\n",
       " 859,\n",
       " 860,\n",
       " 865,\n",
       " 17250,\n",
       " 17249,\n",
       " 866,\n",
       " 869,\n",
       " 870,\n",
       " 17255,\n",
       " 1801,\n",
       " 873,\n",
       " 868,\n",
       " 875,\n",
       " 17260,\n",
       " 877,\n",
       " 1802,\n",
       " 879,\n",
       " 880,\n",
       " 885,\n",
       " 887,\n",
       " 888,\n",
       " 889,\n",
       " 890,\n",
       " 895,\n",
       " 17280,\n",
       " 897,\n",
       " 9090,\n",
       " 899,\n",
       " 900,\n",
       " 901,\n",
       " 898,\n",
       " 17290,\n",
       " 9099,\n",
       " 9100,\n",
       " 907,\n",
       " 910,\n",
       " 909,\n",
       " 17299,\n",
       " 17300,\n",
       " 915,\n",
       " 9110,\n",
       " 919,\n",
       " 920,\n",
       " 9111,\n",
       " 17307,\n",
       " 923,\n",
       " 925,\n",
       " 9120,\n",
       " 929,\n",
       " 930,\n",
       " 9125,\n",
       " 934,\n",
       " 935,\n",
       " 9130,\n",
       " 940,\n",
       " 943,\n",
       " 944,\n",
       " 945,\n",
       " 948,\n",
       " 949,\n",
       " 950,\n",
       " 951,\n",
       " 955,\n",
       " 9149,\n",
       " 9150,\n",
       " 959,\n",
       " 960,\n",
       " 958,\n",
       " 965,\n",
       " 17350,\n",
       " 966,\n",
       " 968,\n",
       " 969,\n",
       " 970,\n",
       " 975,\n",
       " 976,\n",
       " 9170,\n",
       " 979,\n",
       " 980,\n",
       " 982,\n",
       " 985,\n",
       " 17370,\n",
       " 987,\n",
       " 988,\n",
       " 989,\n",
       " 990,\n",
       " 991,\n",
       " 993,\n",
       " 995,\n",
       " 996,\n",
       " 997,\n",
       " 998,\n",
       " 999,\n",
       " 1000,\n",
       " 1001,\n",
       " 9190,\n",
       " 9195,\n",
       " 1003,\n",
       " 9198,\n",
       " 9199,\n",
       " 9200,\n",
       " 17390,\n",
       " 1010,\n",
       " 9203,\n",
       " 1009,\n",
       " 17399,\n",
       " 17400,\n",
       " 1020,\n",
       " 1025,\n",
       " 1026,\n",
       " 9221,\n",
       " 1030,\n",
       " 1031,\n",
       " 1033,\n",
       " 17419,\n",
       " 1035,\n",
       " 1039,\n",
       " 1040,\n",
       " 1042,\n",
       " 1045,\n",
       " 9240,\n",
       " 1049,\n",
       " 1050,\n",
       " 1052,\n",
       " 9245,\n",
       " 1055,\n",
       " 9249,\n",
       " 9250,\n",
       " 1059,\n",
       " 17444,\n",
       " 1060,\n",
       " 17449,\n",
       " 17450,\n",
       " 1070,\n",
       " 1075,\n",
       " 9270,\n",
       " 1080,\n",
       " 9275,\n",
       " 1085,\n",
       " 9280,\n",
       " 1089,\n",
       " 1090,\n",
       " 1095,\n",
       " 17480,\n",
       " 9289,\n",
       " 9290,\n",
       " 1099,\n",
       " 1100,\n",
       " 1101,\n",
       " 1098,\n",
       " 17485,\n",
       " 9988,\n",
       " 17490,\n",
       " 9299,\n",
       " 9300,\n",
       " 9298,\n",
       " 1110,\n",
       " 1111,\n",
       " 1112,\n",
       " 17495,\n",
       " 17498,\n",
       " 17499,\n",
       " 17500,\n",
       " 9991,\n",
       " 17501,\n",
       " 1119,\n",
       " 1120,\n",
       " 1113,\n",
       " 9307,\n",
       " 1125,\n",
       " 9993,\n",
       " 9320,\n",
       " 1129,\n",
       " 1130,\n",
       " 9994,\n",
       " 9325,\n",
       " 1135,\n",
       " 17520,\n",
       " 1140,\n",
       " 9333,\n",
       " 1144,\n",
       " 1145,\n",
       " 17530,\n",
       " 1149,\n",
       " 1150,\n",
       " 1155,\n",
       " 9349,\n",
       " 9350,\n",
       " 1159,\n",
       " 1160,\n",
       " 1165,\n",
       " 17550,\n",
       " 1169,\n",
       " 1170,\n",
       " 17555,\n",
       " 1175,\n",
       " 9370,\n",
       " 1179,\n",
       " 1180,\n",
       " 9375,\n",
       " 1185,\n",
       " 9379,\n",
       " 9380,\n",
       " 1189,\n",
       " 1190,\n",
       " 1187,\n",
       " 1192,\n",
       " 9385,\n",
       " 1193,\n",
       " 1195,\n",
       " 17580,\n",
       " 9390,\n",
       " 1199,\n",
       " 1200,\n",
       " 1198,\n",
       " 1201,\n",
       " 9395,\n",
       " 17590,\n",
       " 9399,\n",
       " 9400,\n",
       " 1208,\n",
       " 1210,\n",
       " 1211,\n",
       " 1212,\n",
       " 1209,\n",
       " 9398,\n",
       " 17599,\n",
       " 17600,\n",
       " 9410,\n",
       " 1220,\n",
       " 1221,\n",
       " 1222,\n",
       " 1224,\n",
       " 1225,\n",
       " 9420,\n",
       " 1230,\n",
       " 1231,\n",
       " 1233,\n",
       " 1234,\n",
       " 9428,\n",
       " 1240,\n",
       " 1247,\n",
       " 9440,\n",
       " 1249,\n",
       " 1250,\n",
       " 9444,\n",
       " 1253,\n",
       " 1252,\n",
       " 1255,\n",
       " 9449,\n",
       " 9450,\n",
       " 1259,\n",
       " 1260,\n",
       " 1262,\n",
       " 9455,\n",
       " 1265,\n",
       " 17650,\n",
       " 9460,\n",
       " 1269,\n",
       " 1270,\n",
       " 1275,\n",
       " 1277,\n",
       " 9470,\n",
       " 9469,\n",
       " 1280,\n",
       " 17666,\n",
       " 9475,\n",
       " 1285,\n",
       " 9480,\n",
       " 1288,\n",
       " 1290,\n",
       " 1289,\n",
       " 1294,\n",
       " 1295,\n",
       " 1296,\n",
       " 1297,\n",
       " 9490,\n",
       " 1299,\n",
       " 1300,\n",
       " 1298,\n",
       " 9488,\n",
       " 9495,\n",
       " 17680,\n",
       " 1301,\n",
       " 17690,\n",
       " 9499,\n",
       " 9500,\n",
       " 9498,\n",
       " 1310,\n",
       " 1311,\n",
       " 17695,\n",
       " 17699,\n",
       " 17700,\n",
       " 1320,\n",
       " 1321,\n",
       " 1323,\n",
       " 1325,\n",
       " 9520,\n",
       " 1329,\n",
       " 1330,\n",
       " 1333,\n",
       " 9525,\n",
       " 1335,\n",
       " 9529,\n",
       " 9530,\n",
       " 1340,\n",
       " 1344,\n",
       " 1345,\n",
       " 1347,\n",
       " 1348,\n",
       " 1349,\n",
       " 1350,\n",
       " 9540,\n",
       " 1355,\n",
       " 17740,\n",
       " 1357,\n",
       " 9550,\n",
       " 1359,\n",
       " 1360,\n",
       " 1358,\n",
       " 9549,\n",
       " 9555,\n",
       " 1361,\n",
       " 17749,\n",
       " ...}"
      ]
     },
     "execution_count": 15,
     "metadata": {},
     "output_type": "execute_result"
    }
   ],
   "source": [
    "# Проверяем уникальные значения Price\n",
    "unique_local_name = set(data['Price'].unique())\n",
    "unique_local_name"
   ]
  },
  {
   "cell_type": "code",
   "execution_count": 16,
   "metadata": {
    "scrolled": false
   },
   "outputs": [
    {
     "data": {
      "text/html": [
       "<div>\n",
       "<style scoped>\n",
       "    .dataframe tbody tr th:only-of-type {\n",
       "        vertical-align: middle;\n",
       "    }\n",
       "\n",
       "    .dataframe tbody tr th {\n",
       "        vertical-align: top;\n",
       "    }\n",
       "\n",
       "    .dataframe thead th {\n",
       "        text-align: right;\n",
       "    }\n",
       "</style>\n",
       "<table border=\"1\" class=\"dataframe\">\n",
       "  <thead>\n",
       "    <tr style=\"text-align: right;\">\n",
       "      <th></th>\n",
       "      <th>Price</th>\n",
       "      <th>VehicleType</th>\n",
       "      <th>RegistrationYear</th>\n",
       "      <th>Gearbox</th>\n",
       "      <th>Power</th>\n",
       "      <th>Model</th>\n",
       "      <th>Kilometer</th>\n",
       "      <th>FuelType</th>\n",
       "      <th>Brand</th>\n",
       "      <th>Repaired</th>\n",
       "    </tr>\n",
       "  </thead>\n",
       "  <tbody>\n",
       "    <tr>\n",
       "      <th>7</th>\n",
       "      <td>0</td>\n",
       "      <td>sedan</td>\n",
       "      <td>1980</td>\n",
       "      <td>manual</td>\n",
       "      <td>50</td>\n",
       "      <td>other</td>\n",
       "      <td>40000</td>\n",
       "      <td>petrol</td>\n",
       "      <td>volkswagen</td>\n",
       "      <td>no</td>\n",
       "    </tr>\n",
       "    <tr>\n",
       "      <th>40</th>\n",
       "      <td>0</td>\n",
       "      <td>NaN</td>\n",
       "      <td>1990</td>\n",
       "      <td>NaN</td>\n",
       "      <td>0</td>\n",
       "      <td>corsa</td>\n",
       "      <td>150000</td>\n",
       "      <td>petrol</td>\n",
       "      <td>opel</td>\n",
       "      <td>NaN</td>\n",
       "    </tr>\n",
       "    <tr>\n",
       "      <th>115</th>\n",
       "      <td>0</td>\n",
       "      <td>small</td>\n",
       "      <td>1999</td>\n",
       "      <td>NaN</td>\n",
       "      <td>0</td>\n",
       "      <td>NaN</td>\n",
       "      <td>5000</td>\n",
       "      <td>petrol</td>\n",
       "      <td>volkswagen</td>\n",
       "      <td>NaN</td>\n",
       "    </tr>\n",
       "    <tr>\n",
       "      <th>152</th>\n",
       "      <td>0</td>\n",
       "      <td>bus</td>\n",
       "      <td>2004</td>\n",
       "      <td>manual</td>\n",
       "      <td>101</td>\n",
       "      <td>meriva</td>\n",
       "      <td>150000</td>\n",
       "      <td>lpg</td>\n",
       "      <td>opel</td>\n",
       "      <td>yes</td>\n",
       "    </tr>\n",
       "    <tr>\n",
       "      <th>154</th>\n",
       "      <td>0</td>\n",
       "      <td>NaN</td>\n",
       "      <td>2006</td>\n",
       "      <td>NaN</td>\n",
       "      <td>0</td>\n",
       "      <td>other</td>\n",
       "      <td>5000</td>\n",
       "      <td>NaN</td>\n",
       "      <td>fiat</td>\n",
       "      <td>NaN</td>\n",
       "    </tr>\n",
       "    <tr>\n",
       "      <th>...</th>\n",
       "      <td>...</td>\n",
       "      <td>...</td>\n",
       "      <td>...</td>\n",
       "      <td>...</td>\n",
       "      <td>...</td>\n",
       "      <td>...</td>\n",
       "      <td>...</td>\n",
       "      <td>...</td>\n",
       "      <td>...</td>\n",
       "      <td>...</td>\n",
       "    </tr>\n",
       "    <tr>\n",
       "      <th>354205</th>\n",
       "      <td>0</td>\n",
       "      <td>NaN</td>\n",
       "      <td>2000</td>\n",
       "      <td>manual</td>\n",
       "      <td>65</td>\n",
       "      <td>corsa</td>\n",
       "      <td>150000</td>\n",
       "      <td>NaN</td>\n",
       "      <td>opel</td>\n",
       "      <td>yes</td>\n",
       "    </tr>\n",
       "    <tr>\n",
       "      <th>354238</th>\n",
       "      <td>0</td>\n",
       "      <td>small</td>\n",
       "      <td>2002</td>\n",
       "      <td>manual</td>\n",
       "      <td>60</td>\n",
       "      <td>fiesta</td>\n",
       "      <td>150000</td>\n",
       "      <td>petrol</td>\n",
       "      <td>ford</td>\n",
       "      <td>NaN</td>\n",
       "    </tr>\n",
       "    <tr>\n",
       "      <th>354248</th>\n",
       "      <td>0</td>\n",
       "      <td>small</td>\n",
       "      <td>1999</td>\n",
       "      <td>manual</td>\n",
       "      <td>53</td>\n",
       "      <td>swift</td>\n",
       "      <td>150000</td>\n",
       "      <td>petrol</td>\n",
       "      <td>suzuki</td>\n",
       "      <td>NaN</td>\n",
       "    </tr>\n",
       "    <tr>\n",
       "      <th>354277</th>\n",
       "      <td>0</td>\n",
       "      <td>small</td>\n",
       "      <td>1999</td>\n",
       "      <td>manual</td>\n",
       "      <td>37</td>\n",
       "      <td>arosa</td>\n",
       "      <td>150000</td>\n",
       "      <td>petrol</td>\n",
       "      <td>seat</td>\n",
       "      <td>yes</td>\n",
       "    </tr>\n",
       "    <tr>\n",
       "      <th>354364</th>\n",
       "      <td>0</td>\n",
       "      <td>NaN</td>\n",
       "      <td>2005</td>\n",
       "      <td>manual</td>\n",
       "      <td>0</td>\n",
       "      <td>colt</td>\n",
       "      <td>150000</td>\n",
       "      <td>petrol</td>\n",
       "      <td>mitsubishi</td>\n",
       "      <td>yes</td>\n",
       "    </tr>\n",
       "  </tbody>\n",
       "</table>\n",
       "<p>10008 rows × 10 columns</p>\n",
       "</div>"
      ],
      "text/plain": [
       "        Price VehicleType  RegistrationYear Gearbox  Power   Model  Kilometer  \\\n",
       "7           0       sedan              1980  manual     50   other      40000   \n",
       "40          0         NaN              1990     NaN      0   corsa     150000   \n",
       "115         0       small              1999     NaN      0     NaN       5000   \n",
       "152         0         bus              2004  manual    101  meriva     150000   \n",
       "154         0         NaN              2006     NaN      0   other       5000   \n",
       "...       ...         ...               ...     ...    ...     ...        ...   \n",
       "354205      0         NaN              2000  manual     65   corsa     150000   \n",
       "354238      0       small              2002  manual     60  fiesta     150000   \n",
       "354248      0       small              1999  manual     53   swift     150000   \n",
       "354277      0       small              1999  manual     37   arosa     150000   \n",
       "354364      0         NaN              2005  manual      0    colt     150000   \n",
       "\n",
       "       FuelType       Brand Repaired  \n",
       "7        petrol  volkswagen       no  \n",
       "40       petrol        opel      NaN  \n",
       "115      petrol  volkswagen      NaN  \n",
       "152         lpg        opel      yes  \n",
       "154         NaN        fiat      NaN  \n",
       "...         ...         ...      ...  \n",
       "354205      NaN        opel      yes  \n",
       "354238   petrol        ford      NaN  \n",
       "354248   petrol      suzuki      NaN  \n",
       "354277   petrol        seat      yes  \n",
       "354364   petrol  mitsubishi      yes  \n",
       "\n",
       "[10008 rows x 10 columns]"
      ]
     },
     "execution_count": 16,
     "metadata": {},
     "output_type": "execute_result"
    }
   ],
   "source": [
    "data[data['Price'] == 0]"
   ]
  },
  {
   "cell_type": "markdown",
   "metadata": {},
   "source": [
    "10008 строк с нулевой ценой. Удалим их и строки с ценой ниже 100 евро."
   ]
  },
  {
   "cell_type": "code",
   "execution_count": 17,
   "metadata": {},
   "outputs": [],
   "source": [
    "data = data[data['Price'] > 100]"
   ]
  },
  {
   "cell_type": "code",
   "execution_count": 18,
   "metadata": {},
   "outputs": [
    {
     "data": {
      "text/plain": [
       "{0,\n",
       " 1,\n",
       " 2,\n",
       " 3,\n",
       " 4,\n",
       " 5,\n",
       " 6,\n",
       " 7,\n",
       " 8,\n",
       " 9,\n",
       " 10,\n",
       " 11,\n",
       " 12,\n",
       " 13,\n",
       " 14,\n",
       " 15,\n",
       " 16,\n",
       " 17,\n",
       " 18,\n",
       " 19,\n",
       " 20,\n",
       " 21,\n",
       " 22,\n",
       " 23,\n",
       " 24,\n",
       " 25,\n",
       " 26,\n",
       " 27,\n",
       " 28,\n",
       " 29,\n",
       " 30,\n",
       " 31,\n",
       " 32,\n",
       " 33,\n",
       " 34,\n",
       " 35,\n",
       " 36,\n",
       " 37,\n",
       " 38,\n",
       " 39,\n",
       " 40,\n",
       " 41,\n",
       " 42,\n",
       " 43,\n",
       " 44,\n",
       " 45,\n",
       " 46,\n",
       " 47,\n",
       " 48,\n",
       " 49,\n",
       " 50,\n",
       " 51,\n",
       " 52,\n",
       " 53,\n",
       " 54,\n",
       " 55,\n",
       " 56,\n",
       " 57,\n",
       " 58,\n",
       " 59,\n",
       " 60,\n",
       " 61,\n",
       " 62,\n",
       " 63,\n",
       " 64,\n",
       " 65,\n",
       " 66,\n",
       " 67,\n",
       " 68,\n",
       " 69,\n",
       " 70,\n",
       " 71,\n",
       " 72,\n",
       " 73,\n",
       " 74,\n",
       " 75,\n",
       " 76,\n",
       " 77,\n",
       " 78,\n",
       " 79,\n",
       " 80,\n",
       " 81,\n",
       " 82,\n",
       " 83,\n",
       " 84,\n",
       " 85,\n",
       " 86,\n",
       " 87,\n",
       " 88,\n",
       " 89,\n",
       " 90,\n",
       " 91,\n",
       " 92,\n",
       " 93,\n",
       " 94,\n",
       " 95,\n",
       " 96,\n",
       " 97,\n",
       " 98,\n",
       " 99,\n",
       " 100,\n",
       " 101,\n",
       " 102,\n",
       " 103,\n",
       " 104,\n",
       " 105,\n",
       " 106,\n",
       " 107,\n",
       " 108,\n",
       " 109,\n",
       " 110,\n",
       " 111,\n",
       " 112,\n",
       " 113,\n",
       " 114,\n",
       " 115,\n",
       " 116,\n",
       " 117,\n",
       " 118,\n",
       " 119,\n",
       " 120,\n",
       " 121,\n",
       " 122,\n",
       " 123,\n",
       " 124,\n",
       " 125,\n",
       " 126,\n",
       " 127,\n",
       " 128,\n",
       " 129,\n",
       " 130,\n",
       " 131,\n",
       " 132,\n",
       " 133,\n",
       " 134,\n",
       " 135,\n",
       " 136,\n",
       " 137,\n",
       " 138,\n",
       " 139,\n",
       " 140,\n",
       " 141,\n",
       " 142,\n",
       " 143,\n",
       " 144,\n",
       " 145,\n",
       " 146,\n",
       " 147,\n",
       " 148,\n",
       " 149,\n",
       " 150,\n",
       " 151,\n",
       " 152,\n",
       " 153,\n",
       " 154,\n",
       " 155,\n",
       " 156,\n",
       " 157,\n",
       " 158,\n",
       " 159,\n",
       " 160,\n",
       " 161,\n",
       " 162,\n",
       " 163,\n",
       " 164,\n",
       " 165,\n",
       " 166,\n",
       " 167,\n",
       " 168,\n",
       " 169,\n",
       " 170,\n",
       " 171,\n",
       " 172,\n",
       " 173,\n",
       " 174,\n",
       " 175,\n",
       " 176,\n",
       " 177,\n",
       " 178,\n",
       " 179,\n",
       " 180,\n",
       " 181,\n",
       " 182,\n",
       " 183,\n",
       " 184,\n",
       " 185,\n",
       " 186,\n",
       " 187,\n",
       " 188,\n",
       " 189,\n",
       " 190,\n",
       " 191,\n",
       " 192,\n",
       " 193,\n",
       " 194,\n",
       " 195,\n",
       " 196,\n",
       " 197,\n",
       " 198,\n",
       " 199,\n",
       " 200,\n",
       " 201,\n",
       " 202,\n",
       " 203,\n",
       " 204,\n",
       " 205,\n",
       " 206,\n",
       " 207,\n",
       " 208,\n",
       " 209,\n",
       " 210,\n",
       " 211,\n",
       " 212,\n",
       " 213,\n",
       " 214,\n",
       " 215,\n",
       " 216,\n",
       " 217,\n",
       " 218,\n",
       " 219,\n",
       " 220,\n",
       " 221,\n",
       " 222,\n",
       " 223,\n",
       " 224,\n",
       " 225,\n",
       " 226,\n",
       " 227,\n",
       " 228,\n",
       " 229,\n",
       " 230,\n",
       " 231,\n",
       " 232,\n",
       " 233,\n",
       " 234,\n",
       " 235,\n",
       " 236,\n",
       " 237,\n",
       " 238,\n",
       " 239,\n",
       " 240,\n",
       " 241,\n",
       " 242,\n",
       " 243,\n",
       " 244,\n",
       " 245,\n",
       " 246,\n",
       " 247,\n",
       " 248,\n",
       " 249,\n",
       " 250,\n",
       " 251,\n",
       " 252,\n",
       " 253,\n",
       " 254,\n",
       " 255,\n",
       " 256,\n",
       " 257,\n",
       " 258,\n",
       " 259,\n",
       " 260,\n",
       " 261,\n",
       " 262,\n",
       " 264,\n",
       " 265,\n",
       " 266,\n",
       " 267,\n",
       " 268,\n",
       " 269,\n",
       " 270,\n",
       " 271,\n",
       " 272,\n",
       " 273,\n",
       " 274,\n",
       " 275,\n",
       " 276,\n",
       " 277,\n",
       " 278,\n",
       " 279,\n",
       " 280,\n",
       " 281,\n",
       " 282,\n",
       " 283,\n",
       " 284,\n",
       " 285,\n",
       " 286,\n",
       " 287,\n",
       " 288,\n",
       " 289,\n",
       " 290,\n",
       " 292,\n",
       " 293,\n",
       " 294,\n",
       " 295,\n",
       " 296,\n",
       " 297,\n",
       " 298,\n",
       " 299,\n",
       " 300,\n",
       " 301,\n",
       " 303,\n",
       " 304,\n",
       " 305,\n",
       " 306,\n",
       " 307,\n",
       " 308,\n",
       " 309,\n",
       " 310,\n",
       " 311,\n",
       " 313,\n",
       " 314,\n",
       " 315,\n",
       " 316,\n",
       " 317,\n",
       " 318,\n",
       " 320,\n",
       " 321,\n",
       " 322,\n",
       " 323,\n",
       " 324,\n",
       " 325,\n",
       " 326,\n",
       " 328,\n",
       " 329,\n",
       " 330,\n",
       " 331,\n",
       " 332,\n",
       " 333,\n",
       " 334,\n",
       " 335,\n",
       " 336,\n",
       " 337,\n",
       " 338,\n",
       " 339,\n",
       " 340,\n",
       " 341,\n",
       " 343,\n",
       " 344,\n",
       " 345,\n",
       " 346,\n",
       " 347,\n",
       " 348,\n",
       " 349,\n",
       " 350,\n",
       " 351,\n",
       " 352,\n",
       " 353,\n",
       " 354,\n",
       " 355,\n",
       " 356,\n",
       " 357,\n",
       " 358,\n",
       " 360,\n",
       " 361,\n",
       " 362,\n",
       " 363,\n",
       " 364,\n",
       " 365,\n",
       " 367,\n",
       " 368,\n",
       " 370,\n",
       " 371,\n",
       " 374,\n",
       " 375,\n",
       " 376,\n",
       " 377,\n",
       " 379,\n",
       " 380,\n",
       " 381,\n",
       " 382,\n",
       " 385,\n",
       " 386,\n",
       " 387,\n",
       " 388,\n",
       " 390,\n",
       " 392,\n",
       " 394,\n",
       " 396,\n",
       " 398,\n",
       " 399,\n",
       " 400,\n",
       " 401,\n",
       " 405,\n",
       " 408,\n",
       " 409,\n",
       " 411,\n",
       " 416,\n",
       " 420,\n",
       " 421,\n",
       " 425,\n",
       " 426,\n",
       " 428,\n",
       " 430,\n",
       " 431,\n",
       " 435,\n",
       " 440,\n",
       " 442,\n",
       " 445,\n",
       " 449,\n",
       " 450,\n",
       " 454,\n",
       " 457,\n",
       " 459,\n",
       " 460,\n",
       " 475,\n",
       " 476,\n",
       " 487,\n",
       " 489,\n",
       " 490,\n",
       " 500,\n",
       " 504,\n",
       " 505,\n",
       " 507,\n",
       " 508,\n",
       " 510,\n",
       " 514,\n",
       " 515,\n",
       " 517,\n",
       " 519,\n",
       " 520,\n",
       " 521,\n",
       " 525,\n",
       " 540,\n",
       " 541,\n",
       " 544,\n",
       " 550,\n",
       " 551,\n",
       " 560,\n",
       " 572,\n",
       " 579,\n",
       " 580,\n",
       " 584,\n",
       " 585,\n",
       " 600,\n",
       " 601,\n",
       " 602,\n",
       " 603,\n",
       " 604,\n",
       " 606,\n",
       " 610,\n",
       " 612,\n",
       " 620,\n",
       " 640,\n",
       " 645,\n",
       " 650,\n",
       " 651,\n",
       " 671,\n",
       " 678,\n",
       " 682,\n",
       " 685,\n",
       " 696,\n",
       " 700,\n",
       " 702,\n",
       " 703,\n",
       " 732,\n",
       " 743,\n",
       " 750,\n",
       " 751,\n",
       " 754,\n",
       " 771,\n",
       " 776,\n",
       " 800,\n",
       " 805,\n",
       " 850,\n",
       " 851,\n",
       " 871,\n",
       " 900,\n",
       " 902,\n",
       " 903,\n",
       " 907,\n",
       " 909,\n",
       " 923,\n",
       " 950,\n",
       " 952,\n",
       " 953,\n",
       " 998,\n",
       " 999,\n",
       " 1000,\n",
       " 1001,\n",
       " 1002,\n",
       " 1003,\n",
       " 1004,\n",
       " 1005,\n",
       " 1011,\n",
       " 1012,\n",
       " 1016,\n",
       " 1017,\n",
       " 1021,\n",
       " 1024,\n",
       " 1054,\n",
       " 1055,\n",
       " 1056,\n",
       " 1062,\n",
       " 1079,\n",
       " 1082,\n",
       " 1090,\n",
       " 1100,\n",
       " 1103,\n",
       " 1105,\n",
       " 1115,\n",
       " 1120,\n",
       " 1149,\n",
       " 1151,\n",
       " 1158,\n",
       " 1160,\n",
       " 1162,\n",
       " 1164,\n",
       " 1199,\n",
       " 1200,\n",
       " 1202,\n",
       " 1221,\n",
       " 1223,\n",
       " 1230,\n",
       " 1239,\n",
       " 1240,\n",
       " 1241,\n",
       " 1250,\n",
       " 1256,\n",
       " 1275,\n",
       " 1288,\n",
       " 1299,\n",
       " 1300,\n",
       " 1312,\n",
       " 1317,\n",
       " 1324,\n",
       " 1339,\n",
       " 1360,\n",
       " 1362,\n",
       " 1363,\n",
       " 1367,\n",
       " 1390,\n",
       " 1398,\n",
       " 1399,\n",
       " 1400,\n",
       " 1401,\n",
       " 1403,\n",
       " 1405,\n",
       " 1416,\n",
       " 1432,\n",
       " 1433,\n",
       " 1436,\n",
       " 1500,\n",
       " 1501,\n",
       " 1502,\n",
       " 1503,\n",
       " 1506,\n",
       " 1521,\n",
       " 1548,\n",
       " 1595,\n",
       " 1596,\n",
       " 1597,\n",
       " 1598,\n",
       " 1600,\n",
       " 1625,\n",
       " 1631,\n",
       " 1653,\n",
       " 1659,\n",
       " 1689,\n",
       " 1700,\n",
       " 1701,\n",
       " 1703,\n",
       " 1704,\n",
       " 1707,\n",
       " 1753,\n",
       " 1771,\n",
       " 1779,\n",
       " 1780,\n",
       " 1781,\n",
       " 1783,\n",
       " 1793,\n",
       " 1796,\n",
       " 1799,\n",
       " 1800,\n",
       " 1801,\n",
       " 1870,\n",
       " 1895,\n",
       " 1896,\n",
       " 1900,\n",
       " 1920,\n",
       " 1922,\n",
       " 1933,\n",
       " 1937,\n",
       " 1968,\n",
       " 1988,\n",
       " 1992,\n",
       " 1993,\n",
       " 1995,\n",
       " 1998,\n",
       " 1999,\n",
       " 2000,\n",
       " 2004,\n",
       " 2005,\n",
       " 2007,\n",
       " 2009,\n",
       " 2016,\n",
       " 2017,\n",
       " 2018,\n",
       " 2172,\n",
       " 2331,\n",
       " 2340,\n",
       " 2389,\n",
       " 2402,\n",
       " 2461,\n",
       " 2598,\n",
       " 2729,\n",
       " 2789,\n",
       " 2792,\n",
       " 2799,\n",
       " 3199,\n",
       " 3454,\n",
       " 3500,\n",
       " 4400,\n",
       " 4507,\n",
       " 4700,\n",
       " 5411,\n",
       " 5420,\n",
       " 5575,\n",
       " 5809,\n",
       " 5815,\n",
       " 5867,\n",
       " 6006,\n",
       " 6010,\n",
       " 6011,\n",
       " 6012,\n",
       " 6018,\n",
       " 6045,\n",
       " 6062,\n",
       " 6226,\n",
       " 6512,\n",
       " 6920,\n",
       " 7508,\n",
       " 7511,\n",
       " 7512,\n",
       " 7515,\n",
       " 7518,\n",
       " 7529,\n",
       " 7544,\n",
       " 8259,\n",
       " 8404,\n",
       " 8500,\n",
       " 9007,\n",
       " 9012,\n",
       " 9013,\n",
       " 10000,\n",
       " 10110,\n",
       " 10218,\n",
       " 10311,\n",
       " 10520,\n",
       " 10522,\n",
       " 10710,\n",
       " 10910,\n",
       " 10912,\n",
       " 11011,\n",
       " 11025,\n",
       " 11111,\n",
       " 11509,\n",
       " 11530,\n",
       " 11635,\n",
       " 12012,\n",
       " 12510,\n",
       " 12512,\n",
       " 12684,\n",
       " 13616,\n",
       " 13636,\n",
       " 14009,\n",
       " 15001,\n",
       " 15017,\n",
       " 15020,\n",
       " 15033,\n",
       " 16051,\n",
       " 16311,\n",
       " 16312,\n",
       " 17011,\n",
       " 17019,\n",
       " 17410,\n",
       " 17700,\n",
       " 17932,\n",
       " 19208,\n",
       " 19211,\n",
       " 19312,\n",
       " 20000}"
      ]
     },
     "execution_count": 18,
     "metadata": {},
     "output_type": "execute_result"
    }
   ],
   "source": [
    "# Проверяем уникальные значения Power\n",
    "unique_local_name = set(data['Power'].unique())\n",
    "unique_local_name"
   ]
  },
  {
   "cell_type": "code",
   "execution_count": 19,
   "metadata": {
    "scrolled": true
   },
   "outputs": [
    {
     "data": {
      "image/png": "[encoded data removed]",
      "text/plain": [
       "<Figure size 432x288 with 1 Axes>"
      ]
     },
     "metadata": {
      "needs_background": "light"
     },
     "output_type": "display_data"
    }
   ],
   "source": [
    "data[data['Power']<1000]['Power'].hist(bins = 30);"
   ]
  },
  {
   "cell_type": "code",
   "execution_count": 20,
   "metadata": {
    "scrolled": true
   },
   "outputs": [
    {
     "data": {
      "text/plain": [
       "31797"
      ]
     },
     "execution_count": 20,
     "metadata": {},
     "output_type": "execute_result"
    }
   ],
   "source": [
    "#Количество строк с мощностью меньше 10 и больше 500\n",
    "len(data[(data['Power']>500) | (data['Power']<10)]['Power'])"
   ]
  },
  {
   "cell_type": "markdown",
   "metadata": {},
   "source": [
    "Мощность меньше 10 и больше 500 - аномальные значения. Удаляем."
   ]
  },
  {
   "cell_type": "code",
   "execution_count": 21,
   "metadata": {},
   "outputs": [],
   "source": [
    "data = data[(data['Power']<500) & (data['Power']>10)]"
   ]
  },
  {
   "cell_type": "markdown",
   "metadata": {},
   "source": [
    "### Пропущенные значения"
   ]
  },
  {
   "cell_type": "code",
   "execution_count": 22,
   "metadata": {},
   "outputs": [
    {
     "data": {
      "text/plain": [
       "array(['yes', nan, 'no'], dtype=object)"
      ]
     },
     "execution_count": 22,
     "metadata": {},
     "output_type": "execute_result"
    }
   ],
   "source": [
    "# Проверяем уникальные значения Price\n",
    "data['Repaired'].unique()"
   ]
  },
  {
   "cell_type": "markdown",
   "metadata": {},
   "source": [
    "В столбцах VehicleType, Gearbox, Model, FuelType, Repaired заменим пропущенные значения **unknown**"
   ]
  },
  {
   "cell_type": "code",
   "execution_count": 23,
   "metadata": {},
   "outputs": [],
   "source": [
    "# Заполняем пропущенные значения\n",
    "def fill(column):\n",
    "    for i in column:\n",
    "        data[i] = data[i].fillna('unknown')\n",
    "        \n",
    "fill(['VehicleType', 'Gearbox', 'Model', 'FuelType', 'Repaired'])"
   ]
  },
  {
   "cell_type": "code",
   "execution_count": 24,
   "metadata": {
    "scrolled": false
   },
   "outputs": [
    {
     "data": {
      "text/html": [
       "<style  type=\"text/css\" >\n",
       "#T_0ec08_row0_col0,#T_0ec08_row1_col0,#T_0ec08_row2_col0,#T_0ec08_row3_col0,#T_0ec08_row4_col0,#T_0ec08_row5_col0,#T_0ec08_row6_col0,#T_0ec08_row7_col0,#T_0ec08_row8_col0,#T_0ec08_row9_col0{\n",
       "            background-color:  #ffffcc;\n",
       "            color:  #000000;\n",
       "        }</style><table id=\"T_0ec08_\" ><thead>    <tr>        <th class=\"blank level0\" ></th>        <th class=\"col_heading level0 col0\" >0</th>    </tr></thead><tbody>\n",
       "                <tr>\n",
       "                        <th id=\"T_0ec08_level0_row0\" class=\"row_heading level0 row0\" >Price</th>\n",
       "                        <td id=\"T_0ec08_row0_col0\" class=\"data row0 col0\" >0.000000</td>\n",
       "            </tr>\n",
       "            <tr>\n",
       "                        <th id=\"T_0ec08_level0_row1\" class=\"row_heading level0 row1\" >VehicleType</th>\n",
       "                        <td id=\"T_0ec08_row1_col0\" class=\"data row1 col0\" >0.000000</td>\n",
       "            </tr>\n",
       "            <tr>\n",
       "                        <th id=\"T_0ec08_level0_row2\" class=\"row_heading level0 row2\" >RegistrationYear</th>\n",
       "                        <td id=\"T_0ec08_row2_col0\" class=\"data row2 col0\" >0.000000</td>\n",
       "            </tr>\n",
       "            <tr>\n",
       "                        <th id=\"T_0ec08_level0_row3\" class=\"row_heading level0 row3\" >Gearbox</th>\n",
       "                        <td id=\"T_0ec08_row3_col0\" class=\"data row3 col0\" >0.000000</td>\n",
       "            </tr>\n",
       "            <tr>\n",
       "                        <th id=\"T_0ec08_level0_row4\" class=\"row_heading level0 row4\" >Power</th>\n",
       "                        <td id=\"T_0ec08_row4_col0\" class=\"data row4 col0\" >0.000000</td>\n",
       "            </tr>\n",
       "            <tr>\n",
       "                        <th id=\"T_0ec08_level0_row5\" class=\"row_heading level0 row5\" >Model</th>\n",
       "                        <td id=\"T_0ec08_row5_col0\" class=\"data row5 col0\" >0.000000</td>\n",
       "            </tr>\n",
       "            <tr>\n",
       "                        <th id=\"T_0ec08_level0_row6\" class=\"row_heading level0 row6\" >Kilometer</th>\n",
       "                        <td id=\"T_0ec08_row6_col0\" class=\"data row6 col0\" >0.000000</td>\n",
       "            </tr>\n",
       "            <tr>\n",
       "                        <th id=\"T_0ec08_level0_row7\" class=\"row_heading level0 row7\" >FuelType</th>\n",
       "                        <td id=\"T_0ec08_row7_col0\" class=\"data row7 col0\" >0.000000</td>\n",
       "            </tr>\n",
       "            <tr>\n",
       "                        <th id=\"T_0ec08_level0_row8\" class=\"row_heading level0 row8\" >Brand</th>\n",
       "                        <td id=\"T_0ec08_row8_col0\" class=\"data row8 col0\" >0.000000</td>\n",
       "            </tr>\n",
       "            <tr>\n",
       "                        <th id=\"T_0ec08_level0_row9\" class=\"row_heading level0 row9\" >Repaired</th>\n",
       "                        <td id=\"T_0ec08_row9_col0\" class=\"data row9 col0\" >0.000000</td>\n",
       "            </tr>\n",
       "    </tbody></table>"
      ],
      "text/plain": [
       "<pandas.io.formats.style.Styler at 0x7f1cd9d89d30>"
      ]
     },
     "execution_count": 24,
     "metadata": {},
     "output_type": "execute_result"
    }
   ],
   "source": [
    "# Проверяем пропущенные значения\n",
    "pd.DataFrame(round(data.isna().mean()*100,)).style.background_gradient('YlOrRd')"
   ]
  },
  {
   "cell_type": "markdown",
   "metadata": {},
   "source": [
    "### Проверяем полные дубликаты"
   ]
  },
  {
   "cell_type": "code",
   "execution_count": 25,
   "metadata": {
    "scrolled": true
   },
   "outputs": [
    {
     "data": {
      "text/plain": [
       "38962"
      ]
     },
     "execution_count": 25,
     "metadata": {},
     "output_type": "execute_result"
    }
   ],
   "source": [
    "data.duplicated().sum()"
   ]
  },
  {
   "cell_type": "markdown",
   "metadata": {},
   "source": [
    "Полные дубликаты появились, мне кажется, потому что убрали столбцы с датами и индексами, поэтому некоторые строки начали совпадать. Это данные для разных машин."
   ]
  },
  {
   "cell_type": "code",
   "execution_count": 26,
   "metadata": {},
   "outputs": [],
   "source": [
    "# Удаляем. Старые индексы обновляем.\n",
    "data = data.drop_duplicates().reset_index(drop=True)"
   ]
  },
  {
   "cell_type": "code",
   "execution_count": 27,
   "metadata": {
    "scrolled": true
   },
   "outputs": [
    {
     "data": {
      "text/plain": [
       "0"
      ]
     },
     "execution_count": 27,
     "metadata": {},
     "output_type": "execute_result"
    }
   ],
   "source": [
    "data.duplicated().sum()"
   ]
  },
  {
   "cell_type": "markdown",
   "metadata": {},
   "source": [
    "**Вывод:**\n",
    "\n",
    "В результате подготовки данных удалены столбцы: **NumberOfPictures, DateCrawled, RegistrationMonth, DateCreated, PostalCode, LastSeen**\n",
    "\n",
    "В столбцах **Price и Power** удалены аномальные значения.\n",
    "\n",
    "В столбцах **VehicleType, Gearbox, Model, FuelType, Repaired** пропущенные значения заменены на **unknown**\n"
   ]
  },
  {
   "cell_type": "markdown",
   "metadata": {},
   "source": [
    "## Обучение моделей"
   ]
  },
  {
   "cell_type": "markdown",
   "metadata": {},
   "source": [
    "### Подготовка выборки для обучения моделей"
   ]
  },
  {
   "cell_type": "markdown",
   "metadata": {},
   "source": [
    "#### Разделение на выборки"
   ]
  },
  {
   "cell_type": "code",
   "execution_count": 28,
   "metadata": {},
   "outputs": [
    {
     "name": "stdout",
     "output_type": "stream",
     "text": [
      "Размер обучающей выборки - 60%\n",
      "Размер валидационной выборки- 20%\n",
      "Размер тестовой выборки- 20%\n"
     ]
    }
   ],
   "source": [
    "# Зададим RandomState\n",
    "RANDOMSTATE = 505784\n",
    "\n",
    "# Разбиваем выборку в соотношении 60/20/20. \n",
    "train, valid, test = np.split(data.sample(frac=1, random_state=RANDOMSTATE), [int(.6*len(data)), int(.8*len(data))])\n",
    "\n",
    "# Проверяем сколько строк и столбцов в полученных датасетах\n",
    "print('Размер обучающей выборки - {:.0%}'.format(train.shape[0] / data.shape[0]))\n",
    "print('Размер валидационной выборки- {:.0%}'.format(valid.shape[0] / data.shape[0]))\n",
    "print('Размер тестовой выборки- {:.0%}'.format(test.shape[0] / data.shape[0]))\n"
   ]
  },
  {
   "cell_type": "code",
   "execution_count": 29,
   "metadata": {},
   "outputs": [
    {
     "name": "stdout",
     "output_type": "stream",
     "text": [
      "Проверяем размер обучающей выборки\n",
      "(153304, 10)\n",
      "Проверяем размер валидационной выборки\n",
      "(51102, 10)\n",
      "Проверяем размер тестовой выборки\n",
      "(51102, 10)\n"
     ]
    }
   ],
   "source": [
    "print('Проверяем размер обучающей выборки')\n",
    "print(train.shape) \n",
    "print('Проверяем размер валидационной выборки')\n",
    "print(valid.shape)\n",
    "print('Проверяем размер тестовой выборки')\n",
    "print(test.shape)"
   ]
  },
  {
   "cell_type": "markdown",
   "metadata": {},
   "source": [
    "#### Кодирование категоральных столбцов методами"
   ]
  },
  {
   "cell_type": "code",
   "execution_count": 30,
   "metadata": {},
   "outputs": [
    {
     "data": {
      "text/plain": [
       "Model          248\n",
       "Brand           40\n",
       "VehicleType      9\n",
       "FuelType         8\n",
       "Gearbox          3\n",
       "Repaired         3\n",
       "dtype: int64"
      ]
     },
     "execution_count": 30,
     "metadata": {},
     "output_type": "execute_result"
    }
   ],
   "source": [
    "# Рассмотрим количество параметров в категориях\n",
    "\n",
    "train.select_dtypes(include=[object]).nunique(axis=0).sort_values(ascending=False)"
   ]
  },
  {
   "cell_type": "markdown",
   "metadata": {},
   "source": [
    "В столбцах Model и Brand слишком много категорий. Для них будем использовать **Target encoding**. Для остальных категоральных столбцов - OneHotEncoder."
   ]
  },
  {
   "cell_type": "code",
   "execution_count": 31,
   "metadata": {
    "scrolled": false
   },
   "outputs": [
    {
     "data": {
      "text/html": [
       "<div>\n",
       "<style scoped>\n",
       "    .dataframe tbody tr th:only-of-type {\n",
       "        vertical-align: middle;\n",
       "    }\n",
       "\n",
       "    .dataframe tbody tr th {\n",
       "        vertical-align: top;\n",
       "    }\n",
       "\n",
       "    .dataframe thead th {\n",
       "        text-align: right;\n",
       "    }\n",
       "</style>\n",
       "<table border=\"1\" class=\"dataframe\">\n",
       "  <thead>\n",
       "    <tr style=\"text-align: right;\">\n",
       "      <th></th>\n",
       "      <th>Price</th>\n",
       "      <th>VehicleType</th>\n",
       "      <th>RegistrationYear</th>\n",
       "      <th>Gearbox</th>\n",
       "      <th>Power</th>\n",
       "      <th>Model</th>\n",
       "      <th>Kilometer</th>\n",
       "      <th>FuelType</th>\n",
       "      <th>Brand</th>\n",
       "      <th>Repaired</th>\n",
       "    </tr>\n",
       "  </thead>\n",
       "  <tbody>\n",
       "    <tr>\n",
       "      <th>120593</th>\n",
       "      <td>1800</td>\n",
       "      <td>bus</td>\n",
       "      <td>2005</td>\n",
       "      <td>manual</td>\n",
       "      <td>95</td>\n",
       "      <td>4672.693410</td>\n",
       "      <td>150000</td>\n",
       "      <td>gasoline</td>\n",
       "      <td>3548.672121</td>\n",
       "      <td>unknown</td>\n",
       "    </tr>\n",
       "    <tr>\n",
       "      <th>208321</th>\n",
       "      <td>17500</td>\n",
       "      <td>wagon</td>\n",
       "      <td>2012</td>\n",
       "      <td>manual</td>\n",
       "      <td>136</td>\n",
       "      <td>6345.387491</td>\n",
       "      <td>150000</td>\n",
       "      <td>gasoline</td>\n",
       "      <td>6814.189169</td>\n",
       "      <td>unknown</td>\n",
       "    </tr>\n",
       "    <tr>\n",
       "      <th>102521</th>\n",
       "      <td>1290</td>\n",
       "      <td>sedan</td>\n",
       "      <td>1999</td>\n",
       "      <td>manual</td>\n",
       "      <td>102</td>\n",
       "      <td>3772.899459</td>\n",
       "      <td>150000</td>\n",
       "      <td>petrol</td>\n",
       "      <td>6276.106023</td>\n",
       "      <td>no</td>\n",
       "    </tr>\n",
       "    <tr>\n",
       "      <th>153310</th>\n",
       "      <td>14500</td>\n",
       "      <td>coupe</td>\n",
       "      <td>2010</td>\n",
       "      <td>auto</td>\n",
       "      <td>190</td>\n",
       "      <td>3748.414771</td>\n",
       "      <td>150000</td>\n",
       "      <td>gasoline</td>\n",
       "      <td>6814.189169</td>\n",
       "      <td>no</td>\n",
       "    </tr>\n",
       "    <tr>\n",
       "      <th>123800</th>\n",
       "      <td>996</td>\n",
       "      <td>wagon</td>\n",
       "      <td>1996</td>\n",
       "      <td>manual</td>\n",
       "      <td>116</td>\n",
       "      <td>4877.580682</td>\n",
       "      <td>150000</td>\n",
       "      <td>petrol</td>\n",
       "      <td>5035.836616</td>\n",
       "      <td>no</td>\n",
       "    </tr>\n",
       "  </tbody>\n",
       "</table>\n",
       "</div>"
      ],
      "text/plain": [
       "        Price VehicleType  RegistrationYear Gearbox  Power        Model  \\\n",
       "120593   1800         bus              2005  manual     95  4672.693410   \n",
       "208321  17500       wagon              2012  manual    136  6345.387491   \n",
       "102521   1290       sedan              1999  manual    102  3772.899459   \n",
       "153310  14500       coupe              2010    auto    190  3748.414771   \n",
       "123800    996       wagon              1996  manual    116  4877.580682   \n",
       "\n",
       "        Kilometer  FuelType        Brand Repaired  \n",
       "120593     150000  gasoline  3548.672121  unknown  \n",
       "208321     150000  gasoline  6814.189169  unknown  \n",
       "102521     150000    petrol  6276.106023       no  \n",
       "153310     150000  gasoline  6814.189169       no  \n",
       "123800     150000    petrol  5035.836616       no  "
      ]
     },
     "execution_count": 31,
     "metadata": {},
     "output_type": "execute_result"
    }
   ],
   "source": [
    "# Target encoding\n",
    "target_encoder = ce.TargetEncoder(cols=['Model', 'Brand'])\n",
    "target_encoder_train = target_encoder.fit_transform(train, y=train['Price'])\n",
    "target_encoder_valid = target_encoder.transform(valid)\n",
    "target_encoder_test = target_encoder.transform(test)\n",
    "target_encoder_train.head(5) # выводим на экран закодированную обучающую выборку"
   ]
  },
  {
   "cell_type": "code",
   "execution_count": 32,
   "metadata": {
    "scrolled": true
   },
   "outputs": [
    {
     "data": {
      "text/html": [
       "<div>\n",
       "<style scoped>\n",
       "    .dataframe tbody tr th:only-of-type {\n",
       "        vertical-align: middle;\n",
       "    }\n",
       "\n",
       "    .dataframe tbody tr th {\n",
       "        vertical-align: top;\n",
       "    }\n",
       "\n",
       "    .dataframe thead th {\n",
       "        text-align: right;\n",
       "    }\n",
       "</style>\n",
       "<table border=\"1\" class=\"dataframe\">\n",
       "  <thead>\n",
       "    <tr style=\"text-align: right;\">\n",
       "      <th></th>\n",
       "      <th>Price</th>\n",
       "      <th>VehicleType</th>\n",
       "      <th>RegistrationYear</th>\n",
       "      <th>Gearbox</th>\n",
       "      <th>Power</th>\n",
       "      <th>Model</th>\n",
       "      <th>Kilometer</th>\n",
       "      <th>FuelType</th>\n",
       "      <th>Brand</th>\n",
       "      <th>Repaired</th>\n",
       "    </tr>\n",
       "  </thead>\n",
       "  <tbody>\n",
       "    <tr>\n",
       "      <th>120593</th>\n",
       "      <td>1800</td>\n",
       "      <td>bus</td>\n",
       "      <td>2005</td>\n",
       "      <td>manual</td>\n",
       "      <td>95</td>\n",
       "      <td>4673.522800</td>\n",
       "      <td>150000</td>\n",
       "      <td>gasoline</td>\n",
       "      <td>3548.802112</td>\n",
       "      <td>unknown</td>\n",
       "    </tr>\n",
       "    <tr>\n",
       "      <th>208321</th>\n",
       "      <td>17500</td>\n",
       "      <td>wagon</td>\n",
       "      <td>2012</td>\n",
       "      <td>manual</td>\n",
       "      <td>136</td>\n",
       "      <td>6345.068523</td>\n",
       "      <td>150000</td>\n",
       "      <td>gasoline</td>\n",
       "      <td>6814.049159</td>\n",
       "      <td>unknown</td>\n",
       "    </tr>\n",
       "    <tr>\n",
       "      <th>102521</th>\n",
       "      <td>1290</td>\n",
       "      <td>sedan</td>\n",
       "      <td>1999</td>\n",
       "      <td>manual</td>\n",
       "      <td>102</td>\n",
       "      <td>3773.542399</td>\n",
       "      <td>150000</td>\n",
       "      <td>petrol</td>\n",
       "      <td>6276.016151</td>\n",
       "      <td>no</td>\n",
       "    </tr>\n",
       "    <tr>\n",
       "      <th>153310</th>\n",
       "      <td>14500</td>\n",
       "      <td>coupe</td>\n",
       "      <td>2010</td>\n",
       "      <td>auto</td>\n",
       "      <td>190</td>\n",
       "      <td>3748.609319</td>\n",
       "      <td>150000</td>\n",
       "      <td>gasoline</td>\n",
       "      <td>6814.049159</td>\n",
       "      <td>no</td>\n",
       "    </tr>\n",
       "    <tr>\n",
       "      <th>123800</th>\n",
       "      <td>996</td>\n",
       "      <td>wagon</td>\n",
       "      <td>1996</td>\n",
       "      <td>manual</td>\n",
       "      <td>116</td>\n",
       "      <td>4877.600364</td>\n",
       "      <td>150000</td>\n",
       "      <td>petrol</td>\n",
       "      <td>5035.834309</td>\n",
       "      <td>no</td>\n",
       "    </tr>\n",
       "  </tbody>\n",
       "</table>\n",
       "</div>"
      ],
      "text/plain": [
       "        Price VehicleType  RegistrationYear Gearbox  Power        Model  \\\n",
       "120593   1800         bus              2005  manual     95  4673.522800   \n",
       "208321  17500       wagon              2012  manual    136  6345.068523   \n",
       "102521   1290       sedan              1999  manual    102  3773.542399   \n",
       "153310  14500       coupe              2010    auto    190  3748.609319   \n",
       "123800    996       wagon              1996  manual    116  4877.600364   \n",
       "\n",
       "        Kilometer  FuelType        Brand Repaired  \n",
       "120593     150000  gasoline  3548.802112  unknown  \n",
       "208321     150000  gasoline  6814.049159  unknown  \n",
       "102521     150000    petrol  6276.016151       no  \n",
       "153310     150000  gasoline  6814.049159       no  \n",
       "123800     150000    petrol  5035.834309       no  "
      ]
     },
     "execution_count": 32,
     "metadata": {},
     "output_type": "execute_result"
    }
   ],
   "source": [
    "# MEstimateEncoder для train\n",
    "ME_encoder = ce.MEstimateEncoder(cols=['Model', 'Brand'])\n",
    "ME_encoder.fit_transform(train, y=train['Price']).head(5)"
   ]
  },
  {
   "cell_type": "markdown",
   "metadata": {},
   "source": [
    "**MEstimateEncoder** дает значения, похожие на **Target encoding**. Оставим **TargetEncoder** для дальнейшей работы."
   ]
  },
  {
   "cell_type": "code",
   "execution_count": 33,
   "metadata": {
    "scrolled": true
   },
   "outputs": [
    {
     "data": {
      "text/html": [
       "<div>\n",
       "<style scoped>\n",
       "    .dataframe tbody tr th:only-of-type {\n",
       "        vertical-align: middle;\n",
       "    }\n",
       "\n",
       "    .dataframe tbody tr th {\n",
       "        vertical-align: top;\n",
       "    }\n",
       "\n",
       "    .dataframe thead th {\n",
       "        text-align: right;\n",
       "    }\n",
       "</style>\n",
       "<table border=\"1\" class=\"dataframe\">\n",
       "  <thead>\n",
       "    <tr style=\"text-align: right;\">\n",
       "      <th></th>\n",
       "      <th>Price</th>\n",
       "      <th>VehicleType_1</th>\n",
       "      <th>VehicleType_2</th>\n",
       "      <th>VehicleType_3</th>\n",
       "      <th>VehicleType_4</th>\n",
       "      <th>VehicleType_5</th>\n",
       "      <th>VehicleType_6</th>\n",
       "      <th>VehicleType_7</th>\n",
       "      <th>VehicleType_8</th>\n",
       "      <th>VehicleType_9</th>\n",
       "      <th>...</th>\n",
       "      <th>FuelType_3</th>\n",
       "      <th>FuelType_4</th>\n",
       "      <th>FuelType_5</th>\n",
       "      <th>FuelType_6</th>\n",
       "      <th>FuelType_7</th>\n",
       "      <th>FuelType_8</th>\n",
       "      <th>Brand</th>\n",
       "      <th>Repaired_1</th>\n",
       "      <th>Repaired_2</th>\n",
       "      <th>Repaired_3</th>\n",
       "    </tr>\n",
       "  </thead>\n",
       "  <tbody>\n",
       "    <tr>\n",
       "      <th>120593</th>\n",
       "      <td>1800</td>\n",
       "      <td>1</td>\n",
       "      <td>0</td>\n",
       "      <td>0</td>\n",
       "      <td>0</td>\n",
       "      <td>0</td>\n",
       "      <td>0</td>\n",
       "      <td>0</td>\n",
       "      <td>0</td>\n",
       "      <td>0</td>\n",
       "      <td>...</td>\n",
       "      <td>0</td>\n",
       "      <td>0</td>\n",
       "      <td>0</td>\n",
       "      <td>0</td>\n",
       "      <td>0</td>\n",
       "      <td>0</td>\n",
       "      <td>3548.672121</td>\n",
       "      <td>1</td>\n",
       "      <td>0</td>\n",
       "      <td>0</td>\n",
       "    </tr>\n",
       "    <tr>\n",
       "      <th>208321</th>\n",
       "      <td>17500</td>\n",
       "      <td>0</td>\n",
       "      <td>1</td>\n",
       "      <td>0</td>\n",
       "      <td>0</td>\n",
       "      <td>0</td>\n",
       "      <td>0</td>\n",
       "      <td>0</td>\n",
       "      <td>0</td>\n",
       "      <td>0</td>\n",
       "      <td>...</td>\n",
       "      <td>0</td>\n",
       "      <td>0</td>\n",
       "      <td>0</td>\n",
       "      <td>0</td>\n",
       "      <td>0</td>\n",
       "      <td>0</td>\n",
       "      <td>6814.189169</td>\n",
       "      <td>1</td>\n",
       "      <td>0</td>\n",
       "      <td>0</td>\n",
       "    </tr>\n",
       "    <tr>\n",
       "      <th>102521</th>\n",
       "      <td>1290</td>\n",
       "      <td>0</td>\n",
       "      <td>0</td>\n",
       "      <td>1</td>\n",
       "      <td>0</td>\n",
       "      <td>0</td>\n",
       "      <td>0</td>\n",
       "      <td>0</td>\n",
       "      <td>0</td>\n",
       "      <td>0</td>\n",
       "      <td>...</td>\n",
       "      <td>0</td>\n",
       "      <td>0</td>\n",
       "      <td>0</td>\n",
       "      <td>0</td>\n",
       "      <td>0</td>\n",
       "      <td>0</td>\n",
       "      <td>6276.106023</td>\n",
       "      <td>0</td>\n",
       "      <td>1</td>\n",
       "      <td>0</td>\n",
       "    </tr>\n",
       "    <tr>\n",
       "      <th>153310</th>\n",
       "      <td>14500</td>\n",
       "      <td>0</td>\n",
       "      <td>0</td>\n",
       "      <td>0</td>\n",
       "      <td>1</td>\n",
       "      <td>0</td>\n",
       "      <td>0</td>\n",
       "      <td>0</td>\n",
       "      <td>0</td>\n",
       "      <td>0</td>\n",
       "      <td>...</td>\n",
       "      <td>0</td>\n",
       "      <td>0</td>\n",
       "      <td>0</td>\n",
       "      <td>0</td>\n",
       "      <td>0</td>\n",
       "      <td>0</td>\n",
       "      <td>6814.189169</td>\n",
       "      <td>0</td>\n",
       "      <td>1</td>\n",
       "      <td>0</td>\n",
       "    </tr>\n",
       "    <tr>\n",
       "      <th>123800</th>\n",
       "      <td>996</td>\n",
       "      <td>0</td>\n",
       "      <td>1</td>\n",
       "      <td>0</td>\n",
       "      <td>0</td>\n",
       "      <td>0</td>\n",
       "      <td>0</td>\n",
       "      <td>0</td>\n",
       "      <td>0</td>\n",
       "      <td>0</td>\n",
       "      <td>...</td>\n",
       "      <td>0</td>\n",
       "      <td>0</td>\n",
       "      <td>0</td>\n",
       "      <td>0</td>\n",
       "      <td>0</td>\n",
       "      <td>0</td>\n",
       "      <td>5035.836616</td>\n",
       "      <td>0</td>\n",
       "      <td>1</td>\n",
       "      <td>0</td>\n",
       "    </tr>\n",
       "  </tbody>\n",
       "</table>\n",
       "<p>5 rows × 29 columns</p>\n",
       "</div>"
      ],
      "text/plain": [
       "        Price  VehicleType_1  VehicleType_2  VehicleType_3  VehicleType_4  \\\n",
       "120593   1800              1              0              0              0   \n",
       "208321  17500              0              1              0              0   \n",
       "102521   1290              0              0              1              0   \n",
       "153310  14500              0              0              0              1   \n",
       "123800    996              0              1              0              0   \n",
       "\n",
       "        VehicleType_5  VehicleType_6  VehicleType_7  VehicleType_8  \\\n",
       "120593              0              0              0              0   \n",
       "208321              0              0              0              0   \n",
       "102521              0              0              0              0   \n",
       "153310              0              0              0              0   \n",
       "123800              0              0              0              0   \n",
       "\n",
       "        VehicleType_9  ...  FuelType_3  FuelType_4  FuelType_5  FuelType_6  \\\n",
       "120593              0  ...           0           0           0           0   \n",
       "208321              0  ...           0           0           0           0   \n",
       "102521              0  ...           0           0           0           0   \n",
       "153310              0  ...           0           0           0           0   \n",
       "123800              0  ...           0           0           0           0   \n",
       "\n",
       "        FuelType_7  FuelType_8        Brand  Repaired_1  Repaired_2  \\\n",
       "120593           0           0  3548.672121           1           0   \n",
       "208321           0           0  6814.189169           1           0   \n",
       "102521           0           0  6276.106023           0           1   \n",
       "153310           0           0  6814.189169           0           1   \n",
       "123800           0           0  5035.836616           0           1   \n",
       "\n",
       "        Repaired_3  \n",
       "120593           0  \n",
       "208321           0  \n",
       "102521           0  \n",
       "153310           0  \n",
       "123800           0  \n",
       "\n",
       "[5 rows x 29 columns]"
      ]
     },
     "execution_count": 33,
     "metadata": {},
     "output_type": "execute_result"
    }
   ],
   "source": [
    "# OneHotEncoder\n",
    "ohe_encoder = ce.OneHotEncoder(cols=['VehicleType', 'FuelType', 'Gearbox', 'Repaired'])\n",
    "ohe_encoder.fit(target_encoder_train)\n",
    "\n",
    "train_encoder = ohe_encoder.transform(target_encoder_train)\n",
    "valid_encoder = ohe_encoder.transform(target_encoder_valid)\n",
    "test_encoder = ohe_encoder.transform(target_encoder_test)\n",
    "\n",
    "train_encoder.head(5)"
   ]
  },
  {
   "cell_type": "code",
   "execution_count": 34,
   "metadata": {},
   "outputs": [],
   "source": [
    "# Целевой признак  Price — цена\n",
    "target_train = train_encoder['Price']\n",
    "features_train = train_encoder.drop(['Price'], axis=1)\n",
    "\n",
    "target_valid = valid_encoder['Price']\n",
    "features_valid = valid_encoder.drop(['Price'], axis=1)\n",
    "\n",
    "target_test = test_encoder['Price']\n",
    "features_test = test_encoder.drop(['Price'], axis=1)"
   ]
  },
  {
   "cell_type": "markdown",
   "metadata": {},
   "source": [
    "#### Масштабирование признаков"
   ]
  },
  {
   "cell_type": "code",
   "execution_count": 35,
   "metadata": {},
   "outputs": [],
   "source": [
    "# Масштабирование признаков \n",
    "scaler = StandardScaler()\n",
    "scaler.fit(features_train) \n",
    "features_train = scaler.transform(features_train)\n",
    "features_valid = scaler.transform(features_valid)\n",
    "features_test = scaler.transform(features_test)"
   ]
  },
  {
   "cell_type": "markdown",
   "metadata": {},
   "source": [
    "### Дерево решений"
   ]
  },
  {
   "cell_type": "code",
   "execution_count": 36,
   "metadata": {
    "scrolled": true
   },
   "outputs": [
    {
     "name": "stdout",
     "output_type": "stream",
     "text": [
      "RMSE: 3261.89550280586 Глубина дерева: 2 min_samples_split: 2\n",
      "RMSE: 3261.89550280586 Глубина дерева: 2 min_samples_split: 3\n",
      "RMSE: 3261.89550280586 Глубина дерева: 2 min_samples_split: 4\n",
      "RMSE: 3261.89550280586 Глубина дерева: 2 min_samples_split: 5\n",
      "RMSE: 3261.89550280586 Глубина дерева: 2 min_samples_split: 6\n",
      "RMSE: 3261.89550280586 Глубина дерева: 2 min_samples_split: 7\n",
      "RMSE: 3261.89550280586 Глубина дерева: 2 min_samples_split: 8\n",
      "RMSE: 3261.89550280586 Глубина дерева: 2 min_samples_split: 9\n",
      "RMSE: 3261.89550280586 Глубина дерева: 2 min_samples_split: 10\n",
      "RMSE: 3261.89550280586 Глубина дерева: 2 min_samples_split: 11\n",
      "RMSE: 3261.89550280586 Глубина дерева: 2 min_samples_split: 12\n",
      "RMSE: 3261.89550280586 Глубина дерева: 2 min_samples_split: 13\n",
      "RMSE: 3261.89550280586 Глубина дерева: 2 min_samples_split: 14\n",
      "RMSE: 2991.6666359826195 Глубина дерева: 3 min_samples_split: 2\n",
      "RMSE: 2991.6666359826195 Глубина дерева: 3 min_samples_split: 3\n",
      "RMSE: 2991.6666359826195 Глубина дерева: 3 min_samples_split: 4\n",
      "RMSE: 2991.6666359826195 Глубина дерева: 3 min_samples_split: 5\n",
      "RMSE: 2991.6666359826195 Глубина дерева: 3 min_samples_split: 6\n",
      "RMSE: 2991.6666359826195 Глубина дерева: 3 min_samples_split: 7\n",
      "RMSE: 2991.6666359826195 Глубина дерева: 3 min_samples_split: 8\n",
      "RMSE: 2991.6666359826195 Глубина дерева: 3 min_samples_split: 9\n",
      "RMSE: 2991.6666359826195 Глубина дерева: 3 min_samples_split: 10\n",
      "RMSE: 2991.6666359826195 Глубина дерева: 3 min_samples_split: 11\n",
      "RMSE: 2991.6666359826195 Глубина дерева: 3 min_samples_split: 12\n",
      "RMSE: 2991.6666359826195 Глубина дерева: 3 min_samples_split: 13\n",
      "RMSE: 2991.6666359826195 Глубина дерева: 3 min_samples_split: 14\n",
      "RMSE: 2655.7436750023417 Глубина дерева: 4 min_samples_split: 2\n",
      "RMSE: 2655.7436750023417 Глубина дерева: 4 min_samples_split: 3\n",
      "RMSE: 2655.7436750023417 Глубина дерева: 4 min_samples_split: 4\n",
      "RMSE: 2655.7436750023417 Глубина дерева: 4 min_samples_split: 5\n",
      "RMSE: 2655.7436750023417 Глубина дерева: 4 min_samples_split: 6\n",
      "RMSE: 2655.7436750023417 Глубина дерева: 4 min_samples_split: 7\n",
      "RMSE: 2655.7436750023417 Глубина дерева: 4 min_samples_split: 8\n",
      "RMSE: 2655.7436750023417 Глубина дерева: 4 min_samples_split: 9\n",
      "RMSE: 2655.7436750023417 Глубина дерева: 4 min_samples_split: 10\n",
      "RMSE: 2655.7436750023417 Глубина дерева: 4 min_samples_split: 11\n",
      "RMSE: 2655.7436750023417 Глубина дерева: 4 min_samples_split: 12\n",
      "RMSE: 2655.7436750023417 Глубина дерева: 4 min_samples_split: 13\n",
      "RMSE: 2655.7436750023417 Глубина дерева: 4 min_samples_split: 14\n",
      "RMSE: 2441.292015067089 Глубина дерева: 5 min_samples_split: 2\n",
      "RMSE: 2441.292015067089 Глубина дерева: 5 min_samples_split: 3\n",
      "RMSE: 2441.292015067089 Глубина дерева: 5 min_samples_split: 4\n",
      "RMSE: 2441.292015067089 Глубина дерева: 5 min_samples_split: 5\n",
      "RMSE: 2441.292015067089 Глубина дерева: 5 min_samples_split: 6\n",
      "RMSE: 2441.292015067089 Глубина дерева: 5 min_samples_split: 7\n",
      "RMSE: 2441.292015067089 Глубина дерева: 5 min_samples_split: 8\n",
      "RMSE: 2441.292015067089 Глубина дерева: 5 min_samples_split: 9\n",
      "RMSE: 2441.292015067089 Глубина дерева: 5 min_samples_split: 10\n",
      "RMSE: 2441.292015067089 Глубина дерева: 5 min_samples_split: 11\n",
      "RMSE: 2441.292015067089 Глубина дерева: 5 min_samples_split: 12\n",
      "RMSE: 2441.292015067089 Глубина дерева: 5 min_samples_split: 13\n",
      "RMSE: 2441.292015067089 Глубина дерева: 5 min_samples_split: 14\n",
      "RMSE: 2270.99208668636 Глубина дерева: 6 min_samples_split: 2\n",
      "RMSE: 2270.99208668636 Глубина дерева: 6 min_samples_split: 3\n",
      "RMSE: 2270.99208668636 Глубина дерева: 6 min_samples_split: 4\n",
      "RMSE: 2270.99208668636 Глубина дерева: 6 min_samples_split: 5\n",
      "RMSE: 2270.99208668636 Глубина дерева: 6 min_samples_split: 6\n",
      "RMSE: 2270.99208668636 Глубина дерева: 6 min_samples_split: 7\n",
      "RMSE: 2270.99208668636 Глубина дерева: 6 min_samples_split: 8\n",
      "RMSE: 2270.99208668636 Глубина дерева: 6 min_samples_split: 9\n",
      "RMSE: 2270.99208668636 Глубина дерева: 6 min_samples_split: 10\n",
      "RMSE: 2270.99208668636 Глубина дерева: 6 min_samples_split: 11\n",
      "RMSE: 2270.99208668636 Глубина дерева: 6 min_samples_split: 12\n",
      "RMSE: 2270.99208668636 Глубина дерева: 6 min_samples_split: 13\n",
      "RMSE: 2270.99208668636 Глубина дерева: 6 min_samples_split: 14\n",
      "RMSE: 2157.5559782696496 Глубина дерева: 7 min_samples_split: 2\n",
      "RMSE: 2157.5559782696496 Глубина дерева: 7 min_samples_split: 3\n",
      "RMSE: 2157.5559782696496 Глубина дерева: 7 min_samples_split: 4\n",
      "RMSE: 2157.5559782696496 Глубина дерева: 7 min_samples_split: 5\n",
      "RMSE: 2157.5559782696496 Глубина дерева: 7 min_samples_split: 6\n",
      "RMSE: 2157.5559782696496 Глубина дерева: 7 min_samples_split: 7\n",
      "RMSE: 2157.5559782696496 Глубина дерева: 7 min_samples_split: 8\n",
      "RMSE: 2157.5559782696496 Глубина дерева: 7 min_samples_split: 9\n",
      "RMSE: 2157.5559782696496 Глубина дерева: 7 min_samples_split: 10\n",
      "RMSE: 2157.5559782696496 Глубина дерева: 7 min_samples_split: 11\n",
      "RMSE: 2157.5559782696496 Глубина дерева: 7 min_samples_split: 12\n",
      "RMSE: 2157.5559782696496 Глубина дерева: 7 min_samples_split: 13\n",
      "RMSE: 2157.5559782696496 Глубина дерева: 7 min_samples_split: 14\n",
      "RMSE: 2056.856533478029 Глубина дерева: 8 min_samples_split: 2\n",
      "RMSE: 2057.785867028522 Глубина дерева: 8 min_samples_split: 3\n",
      "RMSE: 2057.785867028522 Глубина дерева: 8 min_samples_split: 4\n",
      "RMSE: 2057.785867028522 Глубина дерева: 8 min_samples_split: 5\n",
      "RMSE: 2057.785867028522 Глубина дерева: 8 min_samples_split: 6\n",
      "RMSE: 2058.162404065314 Глубина дерева: 8 min_samples_split: 7\n",
      "RMSE: 2057.4773987917056 Глубина дерева: 8 min_samples_split: 8\n",
      "RMSE: 2057.4773987917056 Глубина дерева: 8 min_samples_split: 9\n",
      "RMSE: 2056.4183363545208 Глубина дерева: 8 min_samples_split: 10\n",
      "RMSE: 2056.4183363545208 Глубина дерева: 8 min_samples_split: 11\n",
      "RMSE: 2056.4183363545208 Глубина дерева: 8 min_samples_split: 12\n",
      "RMSE: 2056.9030571398216 Глубина дерева: 8 min_samples_split: 13\n",
      "RMSE: 2056.1929806271337 Глубина дерева: 8 min_samples_split: 14\n",
      "RMSE: 1990.2369215877445 Глубина дерева: 9 min_samples_split: 2\n",
      "RMSE: 1988.705230374066 Глубина дерева: 9 min_samples_split: 3\n",
      "RMSE: 1988.5930277816396 Глубина дерева: 9 min_samples_split: 4\n",
      "RMSE: 1988.0632293749672 Глубина дерева: 9 min_samples_split: 5\n",
      "RMSE: 1988.1344929529398 Глубина дерева: 9 min_samples_split: 6\n",
      "RMSE: 1988.3919430440778 Глубина дерева: 9 min_samples_split: 7\n",
      "RMSE: 1987.8345548147586 Глубина дерева: 9 min_samples_split: 8\n",
      "RMSE: 1988.0466682305907 Глубина дерева: 9 min_samples_split: 9\n",
      "RMSE: 1986.3367071229893 Глубина дерева: 9 min_samples_split: 10\n",
      "RMSE: 1986.3552583370606 Глубина дерева: 9 min_samples_split: 11\n",
      "RMSE: 1986.5662315311288 Глубина дерева: 9 min_samples_split: 12\n",
      "RMSE: 1985.3451484136185 Глубина дерева: 9 min_samples_split: 13\n",
      "RMSE: 1985.116998876751 Глубина дерева: 9 min_samples_split: 14\n",
      "\n",
      "RMSE: 1985.116998876751 Глубина дерева: 9 min_samples_split: 14\n",
      "CPU times: user 29 s, sys: 75.8 ms, total: 29.1 s\n",
      "Wall time: 29.3 s\n"
     ]
    }
   ],
   "source": [
    "%%time\n",
    "#Построим модель для дерева решений\n",
    "\n",
    "best_RMSE = 4000\n",
    "best_depth = 0\n",
    "best_samples_split = 2\n",
    "\n",
    "\n",
    "for depth in range(2, 10):\n",
    "    for samples_split in range(2,15):\n",
    "    \n",
    "        model = DecisionTreeRegressor(random_state=RANDOMSTATE, max_depth=depth, min_samples_split = samples_split) \n",
    "        model.fit(features_train, target_train) # обучаем модель на обучающей выборке\n",
    "    \n",
    "        predictions_valid = model.predict(features_valid) # предсказания модели на валидационной выборке\n",
    "\n",
    "      \n",
    "        RMSE = mean_squared_error(target_valid, predictions_valid)**0.5\n",
    "        print(\"RMSE:\", RMSE, \"Глубина дерева:\", depth,\"min_samples_split:\", samples_split)\n",
    "\n",
    "        if RMSE < best_RMSE:\n",
    "            best_depth = depth\n",
    "            best_RMSE = RMSE\n",
    "            best_samples_split = samples_split\n",
    "\n",
    "print()\n",
    "print(\"RMSE:\", best_RMSE, \"Глубина дерева:\", best_depth, \"min_samples_split:\", best_samples_split)"
   ]
  },
  {
   "cell_type": "markdown",
   "metadata": {},
   "source": [
    "### Случайный лес"
   ]
  },
  {
   "cell_type": "code",
   "execution_count": 37,
   "metadata": {
    "scrolled": true
   },
   "outputs": [
    {
     "name": "stdout",
     "output_type": "stream",
     "text": [
      "RMSE: 1845.9780482234332 Количество деревьев: 10 Глубина дерева: 10\n",
      "RMSE: 1791.310776318411 Количество деревьев: 10 Глубина дерева: 11\n",
      "RMSE: 1751.7859077634816 Количество деревьев: 10 Глубина дерева: 12\n",
      "RMSE: 1723.5680379514936 Количество деревьев: 10 Глубина дерева: 13\n",
      "RMSE: 1700.9507673963508 Количество деревьев: 10 Глубина дерева: 14\n",
      "RMSE: 1687.8119655705254 Количество деревьев: 10 Глубина дерева: 15\n",
      "RMSE: 1680.000711390171 Количество деревьев: 10 Глубина дерева: 16\n",
      "RMSE: 1678.9458371723356 Количество деревьев: 10 Глубина дерева: 17\n",
      "RMSE: 1678.8663972804418 Количество деревьев: 10 Глубина дерева: 18\n",
      "RMSE: 1680.1299071035091 Количество деревьев: 10 Глубина дерева: 19\n",
      "RMSE: 1843.3663180383344 Количество деревьев: 11 Глубина дерева: 10\n",
      "RMSE: 1788.2232827541404 Количество деревьев: 11 Глубина дерева: 11\n",
      "RMSE: 1747.8447089797723 Количество деревьев: 11 Глубина дерева: 12\n",
      "RMSE: 1718.5428206241124 Количество деревьев: 11 Глубина дерева: 13\n",
      "RMSE: 1696.176148983199 Количество деревьев: 11 Глубина дерева: 14\n",
      "RMSE: 1683.8907223555077 Количество деревьев: 11 Глубина дерева: 15\n",
      "RMSE: 1675.0018114639795 Количество деревьев: 11 Глубина дерева: 16\n",
      "RMSE: 1673.969074852521 Количество деревьев: 11 Глубина дерева: 17\n",
      "RMSE: 1673.5498940109808 Количество деревьев: 11 Глубина дерева: 18\n",
      "RMSE: 1675.0684045195874 Количество деревьев: 11 Глубина дерева: 19\n",
      "RMSE: 1842.9039028360578 Количество деревьев: 12 Глубина дерева: 10\n",
      "RMSE: 1787.0962580783826 Количество деревьев: 12 Глубина дерева: 11\n",
      "RMSE: 1745.5572447569189 Количество деревьев: 12 Глубина дерева: 12\n",
      "RMSE: 1715.9595016626781 Количество деревьев: 12 Глубина дерева: 13\n",
      "RMSE: 1692.8755598384255 Количество деревьев: 12 Глубина дерева: 14\n",
      "RMSE: 1679.7679834843582 Количество деревьев: 12 Глубина дерева: 15\n",
      "RMSE: 1670.4153328726163 Количество деревьев: 12 Глубина дерева: 16\n",
      "RMSE: 1668.6342644282488 Количество деревьев: 12 Глубина дерева: 17\n",
      "RMSE: 1667.963195762331 Количество деревьев: 12 Глубина дерева: 18\n",
      "RMSE: 1669.1427942506996 Количество деревьев: 12 Глубина дерева: 19\n",
      "\n",
      "RMSE: 1667.963195762331 Количество деревьев: 12 Глубина дерева: 18\n",
      "CPU times: user 2min 24s, sys: 211 ms, total: 2min 24s\n",
      "Wall time: 2min 25s\n"
     ]
    }
   ],
   "source": [
    "%%time\n",
    "#Построим модель для случайного леса\n",
    "\n",
    "best_RMSE = 4000\n",
    "best_est = 0\n",
    "best_depth = 0\n",
    "\n",
    "for est in range(10, 13):\n",
    "    for depth in range(10, 20):\n",
    "        model = RandomForestRegressor(random_state=RANDOMSTATE, n_estimators=est, max_depth=depth) \n",
    "        model.fit(features_train, target_train) # обучаем модель на обучающей выборке\n",
    "    \n",
    "        predictions_valid = model.predict(features_valid) # предсказания модели на валидационной выборке\n",
    "\n",
    "      \n",
    "        RMSE = mean_squared_error(target_valid, predictions_valid)**0.5\n",
    "        print(\"RMSE:\", RMSE, \"Количество деревьев:\", est, \"Глубина дерева:\", depth)\n",
    "\n",
    "        if RMSE < best_RMSE:\n",
    "            best_est = est\n",
    "            best_depth = depth\n",
    "            best_RMSE = RMSE\n",
    "\n",
    "print()\n",
    "print(\"RMSE:\", best_RMSE, \"Количество деревьев:\", best_est,  \"Глубина дерева:\", best_depth)"
   ]
  },
  {
   "cell_type": "markdown",
   "metadata": {},
   "source": [
    "### Линейная регрессия"
   ]
  },
  {
   "cell_type": "code",
   "execution_count": 38,
   "metadata": {},
   "outputs": [
    {
     "name": "stdout",
     "output_type": "stream",
     "text": [
      "RMSE: 2786.7404506855123\n",
      "CPU times: user 304 ms, sys: 223 ms, total: 527 ms\n",
      "Wall time: 515 ms\n"
     ]
    }
   ],
   "source": [
    "%%time\n",
    "#Построим модель для Линейной регрессии\n",
    "\n",
    "model = LinearRegression()\n",
    "model.fit(features_train, target_train) # обучаем модель на обучающей выборке\n",
    "    \n",
    "predictions_valid = model.predict(features_valid) # предсказания модели на валидационной выборке     \n",
    "RMSE = mean_squared_error(target_valid, predictions_valid)**0.5\n",
    "\n",
    "print(\"RMSE:\", RMSE)"
   ]
  },
  {
   "cell_type": "markdown",
   "metadata": {},
   "source": [
    "### Регрессия LightGBM"
   ]
  },
  {
   "cell_type": "code",
   "execution_count": 39,
   "metadata": {},
   "outputs": [
    {
     "name": "stdout",
     "output_type": "stream",
     "text": [
      "RMSE: 1630.8860000990644 Количество листьев: 35 Глубина дерева: 10\n",
      "RMSE: 1634.7360986750477 Количество листьев: 36 Глубина дерева: 10\n",
      "RMSE: 1632.4251463513733 Количество листьев: 35 Глубина дерева: 12\n",
      "RMSE: 1635.0901329038995 Количество листьев: 36 Глубина дерева: 12\n",
      "\n",
      "RMSE: 1630.8860000990644 Количество листьев: 35 Глубина дерева: 10\n",
      "CPU times: user 28min 13s, sys: 37.4 s, total: 28min 50s\n",
      "Wall time: 29min 7s\n"
     ]
    }
   ],
   "source": [
    "%%time\n",
    "#Построим модель для регрессии LightGBM\n",
    "best_RMSE = 4000\n",
    "best_depth = 0\n",
    "best_leaves = 0\n",
    "\n",
    "for depth in range(10, 14, 2):\n",
    "    for leaves in range(35, 37):\n",
    "        model = lgb.LGBMRegressor(num_leaves = leaves,\n",
    "                                  max_depth = depth,\n",
    "                                  random_state=RANDOMSTATE,\n",
    "                                  metric='rmse',\n",
    "                                  task='train', \n",
    "                                  objective='regression',\n",
    "                                  learning_rate=0.2,\n",
    "                                  verbose=-1)\n",
    "\n",
    "\n",
    "        model.fit(features_train, target_train)\n",
    "        predictions_valid = model.predict(features_valid)\n",
    "        RMSE = mean_squared_error(target_valid, predictions_valid)**0.5\n",
    "\n",
    "        print(\"RMSE:\", RMSE, \"Количество листьев:\", leaves,  \"Глубина дерева:\", depth)\n",
    "        \n",
    "        if RMSE < best_RMSE:\n",
    "            best_leaves = leaves\n",
    "            best_depth = depth\n",
    "            best_RMSE = RMSE\n",
    "\n",
    "print()\n",
    "print(\"RMSE:\", best_RMSE, \"Количество листьев:\", best_leaves,  \"Глубина дерева:\", best_depth)"
   ]
  },
  {
   "cell_type": "markdown",
   "metadata": {},
   "source": [
    "**Вывод:**\n",
    "\n",
    "Сравним полученные модели:\n",
    "\n",
    "| |Дерево решений  \t|Случайный лес  \t|Линейная регрессия| LightGBM|    \n",
    "|:---\t|:---:\t|:---:\t|:---:\t|:---:\t|\n",
    "|RMSE \t|1985.116998876751 \t|1667.963195762331\t|2786.7404506855123 |  1630.8860000990644|\n",
    "|Время \t|29.3 s\t|2min 25s|515 ms  |  29min 7s |\n",
    "\n",
    "Наилучшее значение RMSE показала модель **LightGBM** - 1630.8860000990644, но это самая медленная модель. Быстрее всех - Линейная регрессия(515 ms секунды), но дает худший результат по RMSE 2786.7404506855123."
   ]
  },
  {
   "cell_type": "markdown",
   "metadata": {},
   "source": [
    "## Анализ моделей"
   ]
  },
  {
   "cell_type": "markdown",
   "metadata": {},
   "source": [
    "Наилучшее значение RMSE получили для модели LightGBM. "
   ]
  },
  {
   "cell_type": "markdown",
   "metadata": {},
   "source": [
    "### Проверим лучшую модель на тестовой выборке"
   ]
  },
  {
   "cell_type": "code",
   "execution_count": 40,
   "metadata": {},
   "outputs": [
    {
     "name": "stdout",
     "output_type": "stream",
     "text": [
      "RMSE: 1626.7120985913086 Количество листьев: 35 Глубина дерева: 10\n"
     ]
    }
   ],
   "source": [
    "model = lgb.LGBMRegressor(num_leaves = 35,\n",
    "                            max_depth = 10,\n",
    "                            random_state=RANDOMSTATE,\n",
    "                            metric='rmse',\n",
    "                            task='train', \n",
    "                            objective='regression',\n",
    "                            learning_rate=0.2,\n",
    "                            verbose=-1)\n",
    "\n",
    "\n",
    "model.fit(features_train, target_train)\n",
    "predictions_test = model.predict(features_test)\n",
    "RMSE = mean_squared_error(target_test, predictions_test)**0.5\n",
    "\n",
    "print(\"RMSE:\", RMSE, \"Количество листьев:\", 35,  \"Глубина дерева:\", 10)"
   ]
  },
  {
   "cell_type": "markdown",
   "metadata": {},
   "source": [
    "**Вывод:**\n",
    "\n",
    "RMSE  на тестовой выборке - 1626.7120985913086. Немного меньше, чем на валидационной выборке. Модель нам подходит."
   ]
  },
  {
   "cell_type": "markdown",
   "metadata": {},
   "source": [
    "## Итоговые выводы"
   ]
  },
  {
   "cell_type": "markdown",
   "metadata": {},
   "source": [
    "В результате подготовки данных были обнаружены и удалены 4 полных дубликата.\n",
    "\n",
    "Удалены аномальные значения в столбцах: **RegistrationYear, Price и Power**.\n",
    "\n",
    "В столбцах **VehicleType, Gearbox, Model, FuelType, Repaired** заменены пропущенные значения на **unknown**.\n",
    "\n",
    "Удалены столбцы, не влияющие на цену: **NumberOfPictures, DateCrawled, RegistrationMonth, DateCreated, PostalCode, LastSeen**\n",
    "\n",
    "Исследуемые модели:\n",
    "\n",
    "- Дерево решений\n",
    "- Случайный лес\n",
    "- Линейная регрессия\n",
    "- LightGBM\n",
    "\n",
    "Наилучшее значение RMSE показала модель LightGBM - 1630.8860000990644, но это самая медленная модель. Быстрее всех - Линейная регрессия(515 ms секунды), но дает худший результат по RMSE 2786.7404506855123.\n",
    "\n",
    "RMSE на тестовой выборке модели **LightGBM** - 1626.7120985913086. Немного меньше, чем на валидационной выборке."
   ]
  },
  {
   "cell_type": "markdown",
   "metadata": {},
   "source": [
    "## Чек-лист проверки"
   ]
  },
  {
   "cell_type": "markdown",
   "metadata": {},
   "source": [
    "Поставьте 'x' в выполненных пунктах. Далее нажмите Shift+Enter."
   ]
  },
  {
   "cell_type": "markdown",
   "metadata": {},
   "source": [
    "- [x]  Jupyter Notebook открыт\n",
    "- [x]  Весь код выполняется без ошибок\n",
    "- [x]  Ячейки с кодом расположены в порядке исполнения\n",
    "- [x]  Выполнена загрузка и подготовка данных\n",
    "- [x]  Выполнено обучение моделей\n",
    "- [x]  Есть анализ скорости работы и качества моделей"
   ]
  }
 ],
 "metadata": {
  "ExecuteTimeLog": [
   {
    "duration": 18202,
    "start_time": "2023-06-12T04:37:16.879Z"
   },
   {
    "duration": 3675,
    "start_time": "2023-06-12T04:40:03.774Z"
   },
   {
    "duration": 129,
    "start_time": "2023-06-12T04:40:41.630Z"
   },
   {
    "duration": 1190,
    "start_time": "2023-06-12T04:45:46.462Z"
   },
   {
    "duration": 13,
    "start_time": "2023-06-12T04:46:08.431Z"
   },
   {
    "duration": 35023,
    "start_time": "2023-06-12T04:46:15.876Z"
   },
   {
    "duration": 15,
    "start_time": "2023-06-12T08:08:00.635Z"
   },
   {
    "duration": 117,
    "start_time": "2023-06-12T08:13:35.265Z"
   },
   {
    "duration": 147,
    "start_time": "2023-06-12T08:13:56.136Z"
   },
   {
    "duration": 429,
    "start_time": "2023-06-12T08:18:55.835Z"
   },
   {
    "duration": 455,
    "start_time": "2023-06-12T08:19:08.083Z"
   },
   {
    "duration": 9,
    "start_time": "2023-06-12T08:49:58.301Z"
   },
   {
    "duration": 1826,
    "start_time": "2023-06-16T09:14:27.334Z"
   },
   {
    "duration": 0,
    "start_time": "2023-06-16T09:14:29.162Z"
   },
   {
    "duration": 0,
    "start_time": "2023-06-16T09:14:29.163Z"
   },
   {
    "duration": 0,
    "start_time": "2023-06-16T09:14:29.165Z"
   },
   {
    "duration": 0,
    "start_time": "2023-06-16T09:14:29.166Z"
   },
   {
    "duration": 0,
    "start_time": "2023-06-16T09:14:29.171Z"
   },
   {
    "duration": 0,
    "start_time": "2023-06-16T09:14:29.173Z"
   },
   {
    "duration": 0,
    "start_time": "2023-06-16T09:14:29.174Z"
   },
   {
    "duration": 0,
    "start_time": "2023-06-16T09:14:29.175Z"
   },
   {
    "duration": 1846,
    "start_time": "2023-06-16T09:15:04.329Z"
   },
   {
    "duration": 6328,
    "start_time": "2023-06-16T09:15:06.177Z"
   },
   {
    "duration": 31,
    "start_time": "2023-06-16T09:15:12.507Z"
   },
   {
    "duration": 215,
    "start_time": "2023-06-16T09:15:12.545Z"
   },
   {
    "duration": 279,
    "start_time": "2023-06-16T09:15:12.762Z"
   },
   {
    "duration": 644,
    "start_time": "2023-06-16T09:15:13.043Z"
   },
   {
    "duration": 665,
    "start_time": "2023-06-16T09:15:13.691Z"
   },
   {
    "duration": 6,
    "start_time": "2023-06-16T09:15:14.358Z"
   },
   {
    "duration": 1491,
    "start_time": "2023-06-16T17:06:02.990Z"
   },
   {
    "duration": 2788,
    "start_time": "2023-06-16T17:06:04.483Z"
   },
   {
    "duration": 15,
    "start_time": "2023-06-16T17:06:07.272Z"
   },
   {
    "duration": 171,
    "start_time": "2023-06-16T17:06:07.289Z"
   },
   {
    "duration": 221,
    "start_time": "2023-06-16T17:06:07.462Z"
   },
   {
    "duration": 447,
    "start_time": "2023-06-16T17:06:07.685Z"
   },
   {
    "duration": 449,
    "start_time": "2023-06-16T17:06:08.134Z"
   },
   {
    "duration": 5,
    "start_time": "2023-06-16T17:06:08.584Z"
   },
   {
    "duration": 11,
    "start_time": "2023-06-16T18:18:39.704Z"
   },
   {
    "duration": 123,
    "start_time": "2023-06-16T18:19:09.516Z"
   },
   {
    "duration": 10,
    "start_time": "2023-06-16T18:19:40.752Z"
   },
   {
    "duration": 29,
    "start_time": "2023-06-16T18:19:59.953Z"
   },
   {
    "duration": 8,
    "start_time": "2023-06-16T18:20:56.783Z"
   },
   {
    "duration": 1761,
    "start_time": "2023-06-17T10:18:27.099Z"
   },
   {
    "duration": 1403,
    "start_time": "2023-06-17T10:18:28.862Z"
   },
   {
    "duration": 22,
    "start_time": "2023-06-17T10:18:30.266Z"
   },
   {
    "duration": 216,
    "start_time": "2023-06-17T10:18:30.290Z"
   },
   {
    "duration": 214,
    "start_time": "2023-06-17T10:18:30.509Z"
   },
   {
    "duration": 620,
    "start_time": "2023-06-17T10:18:30.725Z"
   },
   {
    "duration": 604,
    "start_time": "2023-06-17T10:18:31.347Z"
   },
   {
    "duration": 6,
    "start_time": "2023-06-17T10:18:31.952Z"
   },
   {
    "duration": 16,
    "start_time": "2023-06-17T10:18:31.988Z"
   },
   {
    "duration": 23,
    "start_time": "2023-06-17T10:18:32.006Z"
   },
   {
    "duration": 18,
    "start_time": "2023-06-17T10:18:52.297Z"
   },
   {
    "duration": 484,
    "start_time": "2023-06-17T11:47:32.535Z"
   },
   {
    "duration": 510,
    "start_time": "2023-06-17T11:49:44.473Z"
   },
   {
    "duration": 8,
    "start_time": "2023-06-17T11:52:17.968Z"
   },
   {
    "duration": 120,
    "start_time": "2023-06-17T12:00:45.075Z"
   },
   {
    "duration": 28,
    "start_time": "2023-06-17T12:02:05.060Z"
   },
   {
    "duration": 110,
    "start_time": "2023-06-17T12:08:04.976Z"
   },
   {
    "duration": 1431,
    "start_time": "2023-06-17T12:12:07.588Z"
   },
   {
    "duration": 939,
    "start_time": "2023-06-17T12:12:09.022Z"
   },
   {
    "duration": 20,
    "start_time": "2023-06-17T12:12:09.963Z"
   },
   {
    "duration": 163,
    "start_time": "2023-06-17T12:12:09.986Z"
   },
   {
    "duration": 303,
    "start_time": "2023-06-17T12:12:10.153Z"
   },
   {
    "duration": 559,
    "start_time": "2023-06-17T12:12:10.459Z"
   },
   {
    "duration": 558,
    "start_time": "2023-06-17T12:12:11.020Z"
   },
   {
    "duration": 707,
    "start_time": "2023-06-17T12:12:11.580Z"
   },
   {
    "duration": 7,
    "start_time": "2023-06-17T12:12:12.289Z"
   },
   {
    "duration": 14,
    "start_time": "2023-06-17T12:12:12.298Z"
   },
   {
    "duration": 69,
    "start_time": "2023-06-17T12:12:12.314Z"
   },
   {
    "duration": 67,
    "start_time": "2023-06-17T12:12:12.386Z"
   },
   {
    "duration": 21,
    "start_time": "2023-06-17T12:12:12.455Z"
   },
   {
    "duration": 37,
    "start_time": "2023-06-17T12:12:12.477Z"
   },
   {
    "duration": 11,
    "start_time": "2023-06-17T12:12:12.516Z"
   },
   {
    "duration": 99,
    "start_time": "2023-06-17T12:13:51.198Z"
   },
   {
    "duration": 101,
    "start_time": "2023-06-17T12:42:00.900Z"
   },
   {
    "duration": 21,
    "start_time": "2023-06-17T12:57:08.542Z"
   },
   {
    "duration": 19,
    "start_time": "2023-06-17T12:59:00.833Z"
   },
   {
    "duration": 85,
    "start_time": "2023-06-17T12:59:02.838Z"
   },
   {
    "duration": 1449,
    "start_time": "2023-06-17T13:00:14.754Z"
   },
   {
    "duration": 925,
    "start_time": "2023-06-17T13:00:16.205Z"
   },
   {
    "duration": 16,
    "start_time": "2023-06-17T13:00:17.132Z"
   },
   {
    "duration": 219,
    "start_time": "2023-06-17T13:00:17.150Z"
   },
   {
    "duration": 167,
    "start_time": "2023-06-17T13:00:17.375Z"
   },
   {
    "duration": 478,
    "start_time": "2023-06-17T13:00:17.543Z"
   },
   {
    "duration": 610,
    "start_time": "2023-06-17T13:00:18.023Z"
   },
   {
    "duration": 6,
    "start_time": "2023-06-17T13:00:18.636Z"
   },
   {
    "duration": 151,
    "start_time": "2023-06-17T13:00:18.644Z"
   },
   {
    "duration": 34,
    "start_time": "2023-06-17T13:00:18.796Z"
   },
   {
    "duration": 68,
    "start_time": "2023-06-17T13:00:18.832Z"
   },
   {
    "duration": 7,
    "start_time": "2023-06-17T13:00:18.901Z"
   },
   {
    "duration": 40,
    "start_time": "2023-06-17T13:00:18.909Z"
   },
   {
    "duration": 115,
    "start_time": "2023-06-17T13:00:18.952Z"
   },
   {
    "duration": 17,
    "start_time": "2023-06-17T13:00:19.069Z"
   },
   {
    "duration": 24,
    "start_time": "2023-06-17T13:00:19.087Z"
   },
   {
    "duration": 2,
    "start_time": "2023-06-17T13:00:19.113Z"
   },
   {
    "duration": 115,
    "start_time": "2023-06-17T13:00:19.117Z"
   },
   {
    "duration": 1469,
    "start_time": "2023-06-17T13:00:44.387Z"
   },
   {
    "duration": 924,
    "start_time": "2023-06-17T13:00:45.858Z"
   },
   {
    "duration": 18,
    "start_time": "2023-06-17T13:00:46.788Z"
   },
   {
    "duration": 154,
    "start_time": "2023-06-17T13:00:46.807Z"
   },
   {
    "duration": 196,
    "start_time": "2023-06-17T13:00:46.963Z"
   },
   {
    "duration": 501,
    "start_time": "2023-06-17T13:00:47.161Z"
   },
   {
    "duration": 609,
    "start_time": "2023-06-17T13:00:47.664Z"
   },
   {
    "duration": 11,
    "start_time": "2023-06-17T13:00:48.281Z"
   },
   {
    "duration": 13,
    "start_time": "2023-06-17T13:00:48.294Z"
   },
   {
    "duration": 52,
    "start_time": "2023-06-17T13:00:48.309Z"
   },
   {
    "duration": 64,
    "start_time": "2023-06-17T13:00:48.362Z"
   },
   {
    "duration": 8,
    "start_time": "2023-06-17T13:00:48.428Z"
   },
   {
    "duration": 51,
    "start_time": "2023-06-17T13:00:48.438Z"
   },
   {
    "duration": 96,
    "start_time": "2023-06-17T13:00:48.491Z"
   },
   {
    "duration": 22,
    "start_time": "2023-06-17T13:00:48.589Z"
   },
   {
    "duration": 2,
    "start_time": "2023-06-17T13:00:48.613Z"
   },
   {
    "duration": 14,
    "start_time": "2023-06-17T13:00:48.616Z"
   },
   {
    "duration": 100,
    "start_time": "2023-06-17T13:00:48.631Z"
   },
   {
    "duration": 31,
    "start_time": "2023-06-17T13:01:07.208Z"
   },
   {
    "duration": 115,
    "start_time": "2023-06-17T13:01:25.593Z"
   },
   {
    "duration": 25,
    "start_time": "2023-06-17T13:01:34.204Z"
   },
   {
    "duration": 24,
    "start_time": "2023-06-17T13:02:09.408Z"
   },
   {
    "duration": 21,
    "start_time": "2023-06-17T13:02:24.616Z"
   },
   {
    "duration": 22,
    "start_time": "2023-06-17T13:03:59.712Z"
   },
   {
    "duration": 7,
    "start_time": "2023-06-17T13:04:18.820Z"
   },
   {
    "duration": 15,
    "start_time": "2023-06-17T13:05:39.989Z"
   },
   {
    "duration": 1760,
    "start_time": "2023-06-17T13:09:34.003Z"
   },
   {
    "duration": 1560,
    "start_time": "2023-06-17T13:09:47.700Z"
   },
   {
    "duration": 210,
    "start_time": "2023-06-17T13:09:56.624Z"
   },
   {
    "duration": 1848,
    "start_time": "2023-06-17T13:12:39.948Z"
   },
   {
    "duration": 12,
    "start_time": "2023-06-17T13:13:00.527Z"
   },
   {
    "duration": 19,
    "start_time": "2023-06-17T13:15:02.116Z"
   },
   {
    "duration": 112,
    "start_time": "2023-06-17T13:15:05.291Z"
   },
   {
    "duration": 20,
    "start_time": "2023-06-17T13:31:45.932Z"
   },
   {
    "duration": 93,
    "start_time": "2023-06-17T13:34:09.557Z"
   },
   {
    "duration": 1706,
    "start_time": "2023-06-17T13:34:39.507Z"
   },
   {
    "duration": 1030,
    "start_time": "2023-06-17T13:34:41.216Z"
   },
   {
    "duration": 26,
    "start_time": "2023-06-17T13:34:42.248Z"
   },
   {
    "duration": 189,
    "start_time": "2023-06-17T13:34:42.279Z"
   },
   {
    "duration": 253,
    "start_time": "2023-06-17T13:34:42.476Z"
   },
   {
    "duration": 605,
    "start_time": "2023-06-17T13:34:42.731Z"
   },
   {
    "duration": 703,
    "start_time": "2023-06-17T13:34:43.338Z"
   },
   {
    "duration": 7,
    "start_time": "2023-06-17T13:34:44.043Z"
   },
   {
    "duration": 43,
    "start_time": "2023-06-17T13:34:44.052Z"
   },
   {
    "duration": 73,
    "start_time": "2023-06-17T13:34:44.108Z"
   },
   {
    "duration": 85,
    "start_time": "2023-06-17T13:34:44.182Z"
   },
   {
    "duration": 11,
    "start_time": "2023-06-17T13:34:44.268Z"
   },
   {
    "duration": 78,
    "start_time": "2023-06-17T13:34:44.285Z"
   },
   {
    "duration": 162,
    "start_time": "2023-06-17T13:34:44.366Z"
   },
   {
    "duration": 32,
    "start_time": "2023-06-17T13:34:44.531Z"
   },
   {
    "duration": 46,
    "start_time": "2023-06-17T13:34:44.565Z"
   },
   {
    "duration": 117,
    "start_time": "2023-06-17T13:34:44.612Z"
   },
   {
    "duration": 0,
    "start_time": "2023-06-17T13:34:44.731Z"
   },
   {
    "duration": 0,
    "start_time": "2023-06-17T13:34:44.732Z"
   },
   {
    "duration": 0,
    "start_time": "2023-06-17T13:34:44.734Z"
   },
   {
    "duration": 0,
    "start_time": "2023-06-17T13:34:44.735Z"
   },
   {
    "duration": 0,
    "start_time": "2023-06-17T13:34:44.737Z"
   },
   {
    "duration": 0,
    "start_time": "2023-06-17T13:34:44.738Z"
   },
   {
    "duration": 0,
    "start_time": "2023-06-17T13:34:44.739Z"
   },
   {
    "duration": 0,
    "start_time": "2023-06-17T13:34:44.740Z"
   },
   {
    "duration": 1703,
    "start_time": "2023-06-17T13:37:48.908Z"
   },
   {
    "duration": 1086,
    "start_time": "2023-06-17T13:37:50.613Z"
   },
   {
    "duration": 28,
    "start_time": "2023-06-17T13:37:51.701Z"
   },
   {
    "duration": 219,
    "start_time": "2023-06-17T13:37:51.734Z"
   },
   {
    "duration": 270,
    "start_time": "2023-06-17T13:37:51.956Z"
   },
   {
    "duration": 622,
    "start_time": "2023-06-17T13:37:52.231Z"
   },
   {
    "duration": 715,
    "start_time": "2023-06-17T13:37:52.855Z"
   },
   {
    "duration": 22,
    "start_time": "2023-06-17T13:37:53.572Z"
   },
   {
    "duration": 45,
    "start_time": "2023-06-17T13:37:53.603Z"
   },
   {
    "duration": 52,
    "start_time": "2023-06-17T13:37:53.650Z"
   },
   {
    "duration": 120,
    "start_time": "2023-06-17T13:37:53.704Z"
   },
   {
    "duration": 11,
    "start_time": "2023-06-17T13:37:53.828Z"
   },
   {
    "duration": 139,
    "start_time": "2023-06-17T13:37:53.841Z"
   },
   {
    "duration": 195,
    "start_time": "2023-06-17T13:37:53.992Z"
   },
   {
    "duration": 58,
    "start_time": "2023-06-17T13:37:54.193Z"
   },
   {
    "duration": 21,
    "start_time": "2023-06-17T13:37:54.253Z"
   },
   {
    "duration": 30,
    "start_time": "2023-06-17T13:37:54.277Z"
   },
   {
    "duration": 53,
    "start_time": "2023-06-17T13:37:54.310Z"
   },
   {
    "duration": 267,
    "start_time": "2023-06-17T13:37:54.365Z"
   },
   {
    "duration": 13,
    "start_time": "2023-06-17T13:37:54.634Z"
   },
   {
    "duration": 22,
    "start_time": "2023-06-17T13:37:54.649Z"
   },
   {
    "duration": 33,
    "start_time": "2023-06-17T13:37:54.673Z"
   },
   {
    "duration": 138,
    "start_time": "2023-06-17T13:37:54.710Z"
   },
   {
    "duration": 110,
    "start_time": "2023-06-17T13:37:54.850Z"
   },
   {
    "duration": 26,
    "start_time": "2023-06-17T13:38:19.345Z"
   },
   {
    "duration": 950,
    "start_time": "2023-06-17T13:59:03.902Z"
   },
   {
    "duration": 414,
    "start_time": "2023-06-17T14:00:47.540Z"
   },
   {
    "duration": 341,
    "start_time": "2023-06-17T14:08:39.134Z"
   },
   {
    "duration": 122,
    "start_time": "2023-06-17T14:23:22.804Z"
   },
   {
    "duration": 438,
    "start_time": "2023-06-17T14:23:45.944Z"
   },
   {
    "duration": 127,
    "start_time": "2023-06-17T14:23:47.633Z"
   },
   {
    "duration": 6,
    "start_time": "2023-06-17T14:23:56.048Z"
   },
   {
    "duration": 39,
    "start_time": "2023-06-17T14:24:05.456Z"
   },
   {
    "duration": 71,
    "start_time": "2023-06-17T14:27:52.593Z"
   },
   {
    "duration": 16,
    "start_time": "2023-06-17T14:30:43.944Z"
   },
   {
    "duration": 39,
    "start_time": "2023-06-17T14:44:23.053Z"
   },
   {
    "duration": 1518,
    "start_time": "2023-06-17T14:44:32.609Z"
   },
   {
    "duration": 881,
    "start_time": "2023-06-17T14:44:34.129Z"
   },
   {
    "duration": 25,
    "start_time": "2023-06-17T14:44:35.013Z"
   },
   {
    "duration": 211,
    "start_time": "2023-06-17T14:44:35.040Z"
   },
   {
    "duration": 187,
    "start_time": "2023-06-17T14:44:35.253Z"
   },
   {
    "duration": 560,
    "start_time": "2023-06-17T14:44:35.442Z"
   },
   {
    "duration": 603,
    "start_time": "2023-06-17T14:44:36.007Z"
   },
   {
    "duration": 6,
    "start_time": "2023-06-17T14:44:36.612Z"
   },
   {
    "duration": 28,
    "start_time": "2023-06-17T14:44:36.619Z"
   },
   {
    "duration": 62,
    "start_time": "2023-06-17T14:44:36.649Z"
   },
   {
    "duration": 76,
    "start_time": "2023-06-17T14:44:36.712Z"
   },
   {
    "duration": 17,
    "start_time": "2023-06-17T14:44:36.793Z"
   },
   {
    "duration": 89,
    "start_time": "2023-06-17T14:44:36.812Z"
   },
   {
    "duration": 166,
    "start_time": "2023-06-17T14:44:36.905Z"
   },
   {
    "duration": 36,
    "start_time": "2023-06-17T14:44:37.073Z"
   },
   {
    "duration": 38,
    "start_time": "2023-06-17T14:44:37.115Z"
   },
   {
    "duration": 29,
    "start_time": "2023-06-17T14:44:37.155Z"
   },
   {
    "duration": 35,
    "start_time": "2023-06-17T14:44:37.188Z"
   },
   {
    "duration": 208,
    "start_time": "2023-06-17T14:44:37.225Z"
   },
   {
    "duration": 11,
    "start_time": "2023-06-17T14:44:37.434Z"
   },
   {
    "duration": 36,
    "start_time": "2023-06-17T14:44:37.447Z"
   },
   {
    "duration": 40,
    "start_time": "2023-06-17T14:44:37.485Z"
   },
   {
    "duration": 109,
    "start_time": "2023-06-17T14:44:37.526Z"
   },
   {
    "duration": 91,
    "start_time": "2023-06-17T14:44:37.636Z"
   },
   {
    "duration": 701,
    "start_time": "2023-06-17T14:44:37.729Z"
   },
   {
    "duration": 113,
    "start_time": "2023-06-17T14:44:38.431Z"
   },
   {
    "duration": 15,
    "start_time": "2023-06-17T14:44:38.545Z"
   },
   {
    "duration": 135,
    "start_time": "2023-06-17T14:44:38.562Z"
   },
   {
    "duration": 65,
    "start_time": "2023-06-17T14:44:50.179Z"
   },
   {
    "duration": 44,
    "start_time": "2023-06-17T14:49:48.681Z"
   },
   {
    "duration": 1455,
    "start_time": "2023-06-17T14:52:43.795Z"
   },
   {
    "duration": 816,
    "start_time": "2023-06-17T14:52:45.252Z"
   },
   {
    "duration": 26,
    "start_time": "2023-06-17T14:52:46.070Z"
   },
   {
    "duration": 145,
    "start_time": "2023-06-17T14:52:46.097Z"
   },
   {
    "duration": 181,
    "start_time": "2023-06-17T14:52:46.244Z"
   },
   {
    "duration": 530,
    "start_time": "2023-06-17T14:52:46.426Z"
   },
   {
    "duration": 584,
    "start_time": "2023-06-17T14:52:46.958Z"
   },
   {
    "duration": 6,
    "start_time": "2023-06-17T14:52:47.544Z"
   },
   {
    "duration": 26,
    "start_time": "2023-06-17T14:52:47.551Z"
   },
   {
    "duration": 49,
    "start_time": "2023-06-17T14:52:47.581Z"
   },
   {
    "duration": 67,
    "start_time": "2023-06-17T14:52:47.631Z"
   },
   {
    "duration": 7,
    "start_time": "2023-06-17T14:52:47.699Z"
   },
   {
    "duration": 38,
    "start_time": "2023-06-17T14:52:47.707Z"
   },
   {
    "duration": 106,
    "start_time": "2023-06-17T14:52:47.748Z"
   },
   {
    "duration": 22,
    "start_time": "2023-06-17T14:52:47.856Z"
   },
   {
    "duration": 24,
    "start_time": "2023-06-17T14:52:47.881Z"
   },
   {
    "duration": 20,
    "start_time": "2023-06-17T14:52:47.907Z"
   },
   {
    "duration": 12,
    "start_time": "2023-06-17T14:52:47.929Z"
   },
   {
    "duration": 227,
    "start_time": "2023-06-17T14:52:47.942Z"
   },
   {
    "duration": 14,
    "start_time": "2023-06-17T14:52:48.170Z"
   },
   {
    "duration": 35,
    "start_time": "2023-06-17T14:52:48.187Z"
   },
   {
    "duration": 16,
    "start_time": "2023-06-17T14:52:48.224Z"
   },
   {
    "duration": 103,
    "start_time": "2023-06-17T14:52:48.241Z"
   },
   {
    "duration": 82,
    "start_time": "2023-06-17T14:52:48.345Z"
   },
   {
    "duration": 672,
    "start_time": "2023-06-17T14:52:48.429Z"
   },
   {
    "duration": 106,
    "start_time": "2023-06-17T14:52:49.103Z"
   },
   {
    "duration": 16,
    "start_time": "2023-06-17T14:52:49.211Z"
   },
   {
    "duration": 181,
    "start_time": "2023-06-17T14:52:49.229Z"
   },
   {
    "duration": 47,
    "start_time": "2023-06-17T14:57:30.582Z"
   },
   {
    "duration": 391,
    "start_time": "2023-06-17T15:07:50.014Z"
   },
   {
    "duration": 109,
    "start_time": "2023-06-17T15:07:51.773Z"
   },
   {
    "duration": 10,
    "start_time": "2023-06-17T15:07:53.134Z"
   },
   {
    "duration": 105269,
    "start_time": "2023-06-17T15:09:56.552Z"
   },
   {
    "duration": 106301,
    "start_time": "2023-06-17T15:11:50.813Z"
   },
   {
    "duration": 105675,
    "start_time": "2023-06-17T15:14:25.051Z"
   },
   {
    "duration": 1621,
    "start_time": "2023-06-17T15:32:15.826Z"
   },
   {
    "duration": 910,
    "start_time": "2023-06-17T15:32:17.450Z"
   },
   {
    "duration": 34,
    "start_time": "2023-06-17T15:32:18.362Z"
   },
   {
    "duration": 138,
    "start_time": "2023-06-17T15:32:18.402Z"
   },
   {
    "duration": 238,
    "start_time": "2023-06-17T15:32:18.542Z"
   },
   {
    "duration": 529,
    "start_time": "2023-06-17T15:32:18.781Z"
   },
   {
    "duration": 678,
    "start_time": "2023-06-17T15:32:19.312Z"
   },
   {
    "duration": 7,
    "start_time": "2023-06-17T15:32:19.992Z"
   },
   {
    "duration": 18,
    "start_time": "2023-06-17T15:32:20.001Z"
   },
   {
    "duration": 37,
    "start_time": "2023-06-17T15:32:20.022Z"
   },
   {
    "duration": 81,
    "start_time": "2023-06-17T15:32:20.061Z"
   },
   {
    "duration": 10,
    "start_time": "2023-06-17T15:32:20.144Z"
   },
   {
    "duration": 52,
    "start_time": "2023-06-17T15:32:20.156Z"
   },
   {
    "duration": 142,
    "start_time": "2023-06-17T15:32:20.210Z"
   },
   {
    "duration": 32,
    "start_time": "2023-06-17T15:32:20.355Z"
   },
   {
    "duration": 27,
    "start_time": "2023-06-17T15:32:20.390Z"
   },
   {
    "duration": 36,
    "start_time": "2023-06-17T15:32:20.418Z"
   },
   {
    "duration": 41,
    "start_time": "2023-06-17T15:32:20.456Z"
   },
   {
    "duration": 230,
    "start_time": "2023-06-17T15:32:20.499Z"
   },
   {
    "duration": 13,
    "start_time": "2023-06-17T15:32:20.730Z"
   },
   {
    "duration": 47,
    "start_time": "2023-06-17T15:32:20.745Z"
   },
   {
    "duration": 18,
    "start_time": "2023-06-17T15:32:20.794Z"
   },
   {
    "duration": 117,
    "start_time": "2023-06-17T15:32:20.814Z"
   },
   {
    "duration": 87,
    "start_time": "2023-06-17T15:32:20.933Z"
   },
   {
    "duration": 714,
    "start_time": "2023-06-17T15:32:21.021Z"
   },
   {
    "duration": 432,
    "start_time": "2023-06-17T15:32:21.737Z"
   },
   {
    "duration": 119,
    "start_time": "2023-06-17T15:32:22.175Z"
   },
   {
    "duration": 14,
    "start_time": "2023-06-17T15:32:22.298Z"
   },
   {
    "duration": 11,
    "start_time": "2023-06-17T15:32:22.314Z"
   },
   {
    "duration": 0,
    "start_time": "2023-06-17T15:32:22.327Z"
   },
   {
    "duration": 1614,
    "start_time": "2023-06-17T15:33:48.295Z"
   },
   {
    "duration": 974,
    "start_time": "2023-06-17T15:33:49.911Z"
   },
   {
    "duration": 31,
    "start_time": "2023-06-17T15:33:50.887Z"
   },
   {
    "duration": 160,
    "start_time": "2023-06-17T15:33:50.920Z"
   },
   {
    "duration": 235,
    "start_time": "2023-06-17T15:33:51.084Z"
   },
   {
    "duration": 595,
    "start_time": "2023-06-17T15:33:51.322Z"
   },
   {
    "duration": 697,
    "start_time": "2023-06-17T15:33:51.919Z"
   },
   {
    "duration": 7,
    "start_time": "2023-06-17T15:33:52.618Z"
   },
   {
    "duration": 13,
    "start_time": "2023-06-17T15:33:52.627Z"
   },
   {
    "duration": 54,
    "start_time": "2023-06-17T15:33:52.642Z"
   },
   {
    "duration": 60,
    "start_time": "2023-06-17T15:33:52.699Z"
   },
   {
    "duration": 23,
    "start_time": "2023-06-17T15:33:52.761Z"
   },
   {
    "duration": 58,
    "start_time": "2023-06-17T15:33:52.786Z"
   },
   {
    "duration": 120,
    "start_time": "2023-06-17T15:33:52.847Z"
   },
   {
    "duration": 38,
    "start_time": "2023-06-17T15:33:52.974Z"
   },
   {
    "duration": 37,
    "start_time": "2023-06-17T15:33:53.014Z"
   },
   {
    "duration": 35,
    "start_time": "2023-06-17T15:33:53.053Z"
   },
   {
    "duration": 37,
    "start_time": "2023-06-17T15:33:53.090Z"
   },
   {
    "duration": 250,
    "start_time": "2023-06-17T15:33:53.129Z"
   },
   {
    "duration": 27,
    "start_time": "2023-06-17T15:33:53.380Z"
   },
   {
    "duration": 33,
    "start_time": "2023-06-17T15:33:53.411Z"
   },
   {
    "duration": 36,
    "start_time": "2023-06-17T15:33:53.446Z"
   },
   {
    "duration": 135,
    "start_time": "2023-06-17T15:33:53.484Z"
   },
   {
    "duration": 107,
    "start_time": "2023-06-17T15:33:53.621Z"
   },
   {
    "duration": 817,
    "start_time": "2023-06-17T15:33:53.730Z"
   },
   {
    "duration": 455,
    "start_time": "2023-06-17T15:33:54.548Z"
   },
   {
    "duration": 126,
    "start_time": "2023-06-17T15:33:55.005Z"
   },
   {
    "duration": 11,
    "start_time": "2023-06-17T15:33:55.133Z"
   },
   {
    "duration": 1730,
    "start_time": "2023-06-17T15:44:50.918Z"
   },
   {
    "duration": 880,
    "start_time": "2023-06-17T15:44:52.650Z"
   },
   {
    "duration": 17,
    "start_time": "2023-06-17T15:44:53.532Z"
   },
   {
    "duration": 167,
    "start_time": "2023-06-17T15:44:53.550Z"
   },
   {
    "duration": 179,
    "start_time": "2023-06-17T15:44:53.719Z"
   },
   {
    "duration": 493,
    "start_time": "2023-06-17T15:44:53.900Z"
   },
   {
    "duration": 576,
    "start_time": "2023-06-17T15:44:54.394Z"
   },
   {
    "duration": 6,
    "start_time": "2023-06-17T15:44:54.975Z"
   },
   {
    "duration": 46,
    "start_time": "2023-06-17T15:44:54.983Z"
   },
   {
    "duration": 88,
    "start_time": "2023-06-17T15:44:55.031Z"
   },
   {
    "duration": 98,
    "start_time": "2023-06-17T15:44:55.121Z"
   },
   {
    "duration": 9,
    "start_time": "2023-06-17T15:44:55.221Z"
   },
   {
    "duration": 47,
    "start_time": "2023-06-17T15:44:55.232Z"
   },
   {
    "duration": 121,
    "start_time": "2023-06-17T15:44:55.282Z"
   },
   {
    "duration": 35,
    "start_time": "2023-06-17T15:44:55.404Z"
   },
   {
    "duration": 34,
    "start_time": "2023-06-17T15:44:55.441Z"
   },
   {
    "duration": 38,
    "start_time": "2023-06-17T15:44:55.477Z"
   },
   {
    "duration": 22,
    "start_time": "2023-06-17T15:44:55.517Z"
   },
   {
    "duration": 215,
    "start_time": "2023-06-17T15:44:55.541Z"
   },
   {
    "duration": 24,
    "start_time": "2023-06-17T15:44:55.758Z"
   },
   {
    "duration": 22,
    "start_time": "2023-06-17T15:44:55.784Z"
   },
   {
    "duration": 30,
    "start_time": "2023-06-17T15:44:55.807Z"
   },
   {
    "duration": 101,
    "start_time": "2023-06-17T15:44:55.839Z"
   },
   {
    "duration": 71,
    "start_time": "2023-06-17T15:44:55.942Z"
   },
   {
    "duration": 765,
    "start_time": "2023-06-17T15:44:56.014Z"
   },
   {
    "duration": 416,
    "start_time": "2023-06-17T15:44:56.781Z"
   },
   {
    "duration": 119,
    "start_time": "2023-06-17T15:44:57.199Z"
   },
   {
    "duration": 10,
    "start_time": "2023-06-17T15:44:57.319Z"
   },
   {
    "duration": 51882,
    "start_time": "2023-06-17T15:44:57.331Z"
   },
   {
    "duration": 2,
    "start_time": "2023-06-17T15:55:54.502Z"
   },
   {
    "duration": 281476,
    "start_time": "2023-06-17T15:55:55.802Z"
   },
   {
    "duration": 36757,
    "start_time": "2023-06-17T16:02:29.160Z"
   },
   {
    "duration": 36717,
    "start_time": "2023-06-17T16:06:27.820Z"
   },
   {
    "duration": 35203,
    "start_time": "2023-06-17T16:10:17.648Z"
   },
   {
    "duration": 30,
    "start_time": "2023-06-17T16:11:47.368Z"
   },
   {
    "duration": 151,
    "start_time": "2023-06-17T16:12:15.922Z"
   },
   {
    "duration": 5,
    "start_time": "2023-06-17T16:12:38.730Z"
   },
   {
    "duration": 172,
    "start_time": "2023-06-17T16:33:47.066Z"
   },
   {
    "duration": 30584,
    "start_time": "2023-06-17T16:33:54.794Z"
   },
   {
    "duration": 88,
    "start_time": "2023-06-17T16:37:10.240Z"
   },
   {
    "duration": 155,
    "start_time": "2023-06-17T16:43:09.194Z"
   },
   {
    "duration": 241590,
    "start_time": "2023-06-17T16:46:42.491Z"
   },
   {
    "duration": 341784,
    "start_time": "2023-06-17T17:04:12.192Z"
   },
   {
    "duration": 348068,
    "start_time": "2023-06-17T17:25:09.913Z"
   },
   {
    "duration": 1683,
    "start_time": "2023-06-18T01:31:06.106Z"
   },
   {
    "duration": 3,
    "start_time": "2023-06-18T01:31:07.790Z"
   },
   {
    "duration": 1026,
    "start_time": "2023-06-18T01:31:07.795Z"
   },
   {
    "duration": 17,
    "start_time": "2023-06-18T01:31:08.822Z"
   },
   {
    "duration": 114,
    "start_time": "2023-06-18T01:31:08.842Z"
   },
   {
    "duration": 156,
    "start_time": "2023-06-18T01:31:08.958Z"
   },
   {
    "duration": 432,
    "start_time": "2023-06-18T01:31:09.116Z"
   },
   {
    "duration": 521,
    "start_time": "2023-06-18T01:31:09.550Z"
   },
   {
    "duration": 7,
    "start_time": "2023-06-18T01:31:10.073Z"
   },
   {
    "duration": 19,
    "start_time": "2023-06-18T01:31:10.082Z"
   },
   {
    "duration": 61,
    "start_time": "2023-06-18T01:31:10.103Z"
   },
   {
    "duration": 62,
    "start_time": "2023-06-18T01:31:10.166Z"
   },
   {
    "duration": 8,
    "start_time": "2023-06-18T01:31:10.230Z"
   },
   {
    "duration": 46,
    "start_time": "2023-06-18T01:31:10.240Z"
   },
   {
    "duration": 95,
    "start_time": "2023-06-18T01:31:10.288Z"
   },
   {
    "duration": 17,
    "start_time": "2023-06-18T01:31:10.384Z"
   },
   {
    "duration": 31,
    "start_time": "2023-06-18T01:31:10.403Z"
   },
   {
    "duration": 21,
    "start_time": "2023-06-18T01:31:10.436Z"
   },
   {
    "duration": 13,
    "start_time": "2023-06-18T01:31:10.459Z"
   },
   {
    "duration": 197,
    "start_time": "2023-06-18T01:31:10.473Z"
   },
   {
    "duration": 10,
    "start_time": "2023-06-18T01:31:10.672Z"
   },
   {
    "duration": 41,
    "start_time": "2023-06-18T01:31:10.684Z"
   },
   {
    "duration": 22,
    "start_time": "2023-06-18T01:31:10.727Z"
   },
   {
    "duration": 75,
    "start_time": "2023-06-18T01:31:10.750Z"
   },
   {
    "duration": 64,
    "start_time": "2023-06-18T01:31:10.827Z"
   },
   {
    "duration": 547,
    "start_time": "2023-06-18T01:31:10.892Z"
   },
   {
    "duration": 305,
    "start_time": "2023-06-18T01:31:11.441Z"
   },
   {
    "duration": 86,
    "start_time": "2023-06-18T01:31:11.748Z"
   },
   {
    "duration": 9,
    "start_time": "2023-06-18T01:31:11.836Z"
   },
   {
    "duration": 41540,
    "start_time": "2023-06-18T01:31:11.846Z"
   },
   {
    "duration": 195974,
    "start_time": "2023-06-18T01:31:53.388Z"
   },
   {
    "duration": 13658,
    "start_time": "2023-06-18T01:35:09.363Z"
   },
   {
    "duration": 8200,
    "start_time": "2023-06-18T01:35:23.022Z"
   },
   {
    "duration": 7705,
    "start_time": "2023-06-18T01:35:31.223Z"
   },
   {
    "duration": 4160,
    "start_time": "2023-06-18T01:41:07.659Z"
   },
   {
    "duration": 3717,
    "start_time": "2023-06-18T01:42:53.915Z"
   },
   {
    "duration": 70086,
    "start_time": "2023-06-18T05:09:44.422Z"
   },
   {
    "duration": 5,
    "start_time": "2023-06-18T05:18:07.733Z"
   },
   {
    "duration": 212,
    "start_time": "2023-06-18T05:18:07.741Z"
   },
   {
    "duration": 47,
    "start_time": "2023-06-18T05:19:26.247Z"
   },
   {
    "duration": 173304,
    "start_time": "2023-06-18T05:23:03.126Z"
   },
   {
    "duration": 1424,
    "start_time": "2023-06-18T05:59:06.783Z"
   },
   {
    "duration": 3,
    "start_time": "2023-06-18T05:59:08.209Z"
   },
   {
    "duration": 790,
    "start_time": "2023-06-18T05:59:08.214Z"
   },
   {
    "duration": 24,
    "start_time": "2023-06-18T05:59:09.005Z"
   },
   {
    "duration": 137,
    "start_time": "2023-06-18T05:59:09.032Z"
   },
   {
    "duration": 188,
    "start_time": "2023-06-18T05:59:09.171Z"
   },
   {
    "duration": 446,
    "start_time": "2023-06-18T05:59:09.361Z"
   },
   {
    "duration": 556,
    "start_time": "2023-06-18T05:59:09.808Z"
   },
   {
    "duration": 7,
    "start_time": "2023-06-18T05:59:10.366Z"
   },
   {
    "duration": 9,
    "start_time": "2023-06-18T05:59:10.375Z"
   },
   {
    "duration": 54,
    "start_time": "2023-06-18T05:59:10.386Z"
   },
   {
    "duration": 54,
    "start_time": "2023-06-18T05:59:10.443Z"
   },
   {
    "duration": 27,
    "start_time": "2023-06-18T05:59:10.499Z"
   },
   {
    "duration": 35,
    "start_time": "2023-06-18T05:59:10.530Z"
   },
   {
    "duration": 103,
    "start_time": "2023-06-18T05:59:10.567Z"
   },
   {
    "duration": 25,
    "start_time": "2023-06-18T05:59:10.671Z"
   },
   {
    "duration": 41,
    "start_time": "2023-06-18T05:59:10.698Z"
   },
   {
    "duration": 23,
    "start_time": "2023-06-18T05:59:10.740Z"
   },
   {
    "duration": 26,
    "start_time": "2023-06-18T05:59:10.765Z"
   },
   {
    "duration": 207,
    "start_time": "2023-06-18T05:59:10.792Z"
   },
   {
    "duration": 22,
    "start_time": "2023-06-18T05:59:11.001Z"
   },
   {
    "duration": 44,
    "start_time": "2023-06-18T05:59:11.026Z"
   },
   {
    "duration": 48,
    "start_time": "2023-06-18T05:59:11.072Z"
   },
   {
    "duration": 142,
    "start_time": "2023-06-18T05:59:11.122Z"
   },
   {
    "duration": 94,
    "start_time": "2023-06-18T05:59:11.266Z"
   },
   {
    "duration": 499,
    "start_time": "2023-06-18T05:59:11.361Z"
   },
   {
    "duration": 314,
    "start_time": "2023-06-18T05:59:11.862Z"
   },
   {
    "duration": 83,
    "start_time": "2023-06-18T05:59:12.178Z"
   },
   {
    "duration": 10,
    "start_time": "2023-06-18T05:59:12.262Z"
   },
   {
    "duration": 43977,
    "start_time": "2023-06-18T05:59:12.274Z"
   },
   {
    "duration": 220218,
    "start_time": "2023-06-18T05:59:56.252Z"
   },
   {
    "duration": 49747,
    "start_time": "2023-06-18T06:03:36.472Z"
   },
   {
    "duration": 5,
    "start_time": "2023-06-18T06:04:26.222Z"
   },
   {
    "duration": 3151605,
    "start_time": "2023-06-18T06:04:26.228Z"
   },
   {
    "duration": 85,
    "start_time": "2023-06-18T06:56:57.835Z"
   },
   {
    "duration": 22528,
    "start_time": "2023-06-18T07:07:11.545Z"
   },
   {
    "duration": 964412,
    "start_time": "2023-06-18T07:12:17.311Z"
   },
   {
    "duration": 5,
    "start_time": "2023-06-18T07:28:50.692Z"
   },
   {
    "duration": 7,
    "start_time": "2023-06-18T07:30:39.110Z"
   },
   {
    "duration": 45,
    "start_time": "2023-06-20T07:51:31.242Z"
   },
   {
    "duration": 1972,
    "start_time": "2023-06-20T10:34:44.220Z"
   },
   {
    "duration": 3272,
    "start_time": "2023-06-20T10:35:02.906Z"
   },
   {
    "duration": 1678,
    "start_time": "2023-06-20T10:35:23.550Z"
   },
   {
    "duration": 2397,
    "start_time": "2023-06-20T10:49:19.693Z"
   },
   {
    "duration": 1617,
    "start_time": "2023-06-20T10:49:22.093Z"
   },
   {
    "duration": 3,
    "start_time": "2023-06-20T10:49:23.711Z"
   },
   {
    "duration": 3427,
    "start_time": "2023-06-20T10:49:23.715Z"
   },
   {
    "duration": 18,
    "start_time": "2023-06-20T10:49:27.144Z"
   },
   {
    "duration": 157,
    "start_time": "2023-06-20T10:49:27.164Z"
   },
   {
    "duration": 197,
    "start_time": "2023-06-20T10:49:27.323Z"
   },
   {
    "duration": 553,
    "start_time": "2023-06-20T10:49:27.522Z"
   },
   {
    "duration": 585,
    "start_time": "2023-06-20T10:49:28.077Z"
   },
   {
    "duration": 9,
    "start_time": "2023-06-20T10:49:28.665Z"
   },
   {
    "duration": 14,
    "start_time": "2023-06-20T10:49:28.675Z"
   },
   {
    "duration": 25,
    "start_time": "2023-06-20T10:49:28.691Z"
   },
   {
    "duration": 89,
    "start_time": "2023-06-20T10:49:28.718Z"
   },
   {
    "duration": 9,
    "start_time": "2023-06-20T10:49:28.811Z"
   },
   {
    "duration": 54,
    "start_time": "2023-06-20T10:49:28.821Z"
   },
   {
    "duration": 113,
    "start_time": "2023-06-20T10:49:28.878Z"
   },
   {
    "duration": 17,
    "start_time": "2023-06-20T10:49:28.993Z"
   },
   {
    "duration": 20,
    "start_time": "2023-06-20T10:49:29.012Z"
   },
   {
    "duration": 42,
    "start_time": "2023-06-20T10:49:29.034Z"
   },
   {
    "duration": 11,
    "start_time": "2023-06-20T10:49:29.078Z"
   },
   {
    "duration": 210,
    "start_time": "2023-06-20T10:49:29.091Z"
   },
   {
    "duration": 6,
    "start_time": "2023-06-20T10:49:29.303Z"
   },
   {
    "duration": 8,
    "start_time": "2023-06-20T10:49:29.311Z"
   },
   {
    "duration": 8,
    "start_time": "2023-06-20T10:49:29.320Z"
   },
   {
    "duration": 12,
    "start_time": "2023-06-20T10:49:29.329Z"
   },
   {
    "duration": 34,
    "start_time": "2023-06-20T10:49:29.343Z"
   },
   {
    "duration": 16,
    "start_time": "2023-06-20T10:49:29.379Z"
   },
   {
    "duration": 126,
    "start_time": "2023-06-20T10:49:29.396Z"
   },
   {
    "duration": 148,
    "start_time": "2023-06-20T10:49:29.523Z"
   },
   {
    "duration": 0,
    "start_time": "2023-06-20T10:49:29.673Z"
   },
   {
    "duration": 0,
    "start_time": "2023-06-20T10:49:29.674Z"
   },
   {
    "duration": 0,
    "start_time": "2023-06-20T10:49:29.675Z"
   },
   {
    "duration": 0,
    "start_time": "2023-06-20T10:49:29.675Z"
   },
   {
    "duration": 0,
    "start_time": "2023-06-20T10:49:29.676Z"
   },
   {
    "duration": 0,
    "start_time": "2023-06-20T10:49:29.676Z"
   },
   {
    "duration": 0,
    "start_time": "2023-06-20T10:49:29.677Z"
   },
   {
    "duration": 0,
    "start_time": "2023-06-20T10:49:29.678Z"
   },
   {
    "duration": 0,
    "start_time": "2023-06-20T10:49:29.680Z"
   },
   {
    "duration": 0,
    "start_time": "2023-06-20T10:49:29.681Z"
   },
   {
    "duration": 2149,
    "start_time": "2023-06-20T11:01:22.235Z"
   },
   {
    "duration": 3,
    "start_time": "2023-06-20T11:02:07.136Z"
   },
   {
    "duration": 11,
    "start_time": "2023-06-20T11:02:16.720Z"
   },
   {
    "duration": 4,
    "start_time": "2023-06-20T16:12:37.720Z"
   },
   {
    "duration": 2147,
    "start_time": "2023-06-20T16:12:37.726Z"
   },
   {
    "duration": 0,
    "start_time": "2023-06-20T16:12:39.878Z"
   },
   {
    "duration": 0,
    "start_time": "2023-06-20T16:12:39.879Z"
   },
   {
    "duration": 0,
    "start_time": "2023-06-20T16:12:39.881Z"
   },
   {
    "duration": 0,
    "start_time": "2023-06-20T16:12:39.883Z"
   },
   {
    "duration": 0,
    "start_time": "2023-06-20T16:12:39.884Z"
   },
   {
    "duration": 0,
    "start_time": "2023-06-20T16:12:39.886Z"
   },
   {
    "duration": 0,
    "start_time": "2023-06-20T16:12:39.887Z"
   },
   {
    "duration": 0,
    "start_time": "2023-06-20T16:12:39.889Z"
   },
   {
    "duration": 0,
    "start_time": "2023-06-20T16:12:39.890Z"
   },
   {
    "duration": 0,
    "start_time": "2023-06-20T16:12:39.891Z"
   },
   {
    "duration": 0,
    "start_time": "2023-06-20T16:12:39.893Z"
   },
   {
    "duration": 0,
    "start_time": "2023-06-20T16:12:39.894Z"
   },
   {
    "duration": 0,
    "start_time": "2023-06-20T16:12:39.895Z"
   },
   {
    "duration": 0,
    "start_time": "2023-06-20T16:12:39.896Z"
   },
   {
    "duration": 0,
    "start_time": "2023-06-20T16:12:39.898Z"
   },
   {
    "duration": 0,
    "start_time": "2023-06-20T16:12:39.900Z"
   },
   {
    "duration": 0,
    "start_time": "2023-06-20T16:12:39.901Z"
   },
   {
    "duration": 0,
    "start_time": "2023-06-20T16:12:39.903Z"
   },
   {
    "duration": 0,
    "start_time": "2023-06-20T16:12:39.904Z"
   },
   {
    "duration": 0,
    "start_time": "2023-06-20T16:12:39.906Z"
   },
   {
    "duration": 1,
    "start_time": "2023-06-20T16:12:39.906Z"
   },
   {
    "duration": 0,
    "start_time": "2023-06-20T16:12:39.908Z"
   },
   {
    "duration": 0,
    "start_time": "2023-06-20T16:12:39.909Z"
   },
   {
    "duration": 0,
    "start_time": "2023-06-20T16:12:39.910Z"
   },
   {
    "duration": 0,
    "start_time": "2023-06-20T16:12:39.911Z"
   },
   {
    "duration": 0,
    "start_time": "2023-06-20T16:12:39.912Z"
   },
   {
    "duration": 0,
    "start_time": "2023-06-20T16:12:39.913Z"
   },
   {
    "duration": 0,
    "start_time": "2023-06-20T16:12:39.914Z"
   },
   {
    "duration": 0,
    "start_time": "2023-06-20T16:12:39.915Z"
   },
   {
    "duration": 1,
    "start_time": "2023-06-20T16:12:39.961Z"
   },
   {
    "duration": 0,
    "start_time": "2023-06-20T16:12:39.963Z"
   },
   {
    "duration": 0,
    "start_time": "2023-06-20T16:12:39.965Z"
   },
   {
    "duration": 0,
    "start_time": "2023-06-20T16:12:39.966Z"
   },
   {
    "duration": 0,
    "start_time": "2023-06-20T16:12:39.968Z"
   },
   {
    "duration": 0,
    "start_time": "2023-06-20T16:12:39.969Z"
   },
   {
    "duration": 0,
    "start_time": "2023-06-20T16:12:39.971Z"
   },
   {
    "duration": 0,
    "start_time": "2023-06-20T16:12:39.972Z"
   },
   {
    "duration": 0,
    "start_time": "2023-06-20T16:12:39.974Z"
   },
   {
    "duration": 3792,
    "start_time": "2023-06-20T16:12:50.122Z"
   },
   {
    "duration": 4,
    "start_time": "2023-06-20T16:13:17.002Z"
   },
   {
    "duration": 2191,
    "start_time": "2023-06-20T16:13:17.008Z"
   },
   {
    "duration": 4,
    "start_time": "2023-06-20T16:13:19.202Z"
   },
   {
    "duration": 4440,
    "start_time": "2023-06-20T16:13:19.208Z"
   },
   {
    "duration": 32,
    "start_time": "2023-06-20T16:13:23.659Z"
   },
   {
    "duration": 153,
    "start_time": "2023-06-20T16:13:23.693Z"
   },
   {
    "duration": 221,
    "start_time": "2023-06-20T16:13:23.848Z"
   },
   {
    "duration": 841,
    "start_time": "2023-06-20T16:13:24.072Z"
   },
   {
    "duration": 896,
    "start_time": "2023-06-20T16:13:24.915Z"
   },
   {
    "duration": 8,
    "start_time": "2023-06-20T16:13:25.813Z"
   },
   {
    "duration": 18,
    "start_time": "2023-06-20T16:13:25.823Z"
   },
   {
    "duration": 63,
    "start_time": "2023-06-20T16:13:25.844Z"
   },
   {
    "duration": 90,
    "start_time": "2023-06-20T16:13:25.910Z"
   },
   {
    "duration": 9,
    "start_time": "2023-06-20T16:13:26.004Z"
   },
   {
    "duration": 50,
    "start_time": "2023-06-20T16:13:26.015Z"
   },
   {
    "duration": 101,
    "start_time": "2023-06-20T16:13:26.068Z"
   },
   {
    "duration": 29,
    "start_time": "2023-06-20T16:13:26.172Z"
   },
   {
    "duration": 30,
    "start_time": "2023-06-20T16:13:26.203Z"
   },
   {
    "duration": 46,
    "start_time": "2023-06-20T16:13:26.236Z"
   },
   {
    "duration": 11,
    "start_time": "2023-06-20T16:13:26.284Z"
   },
   {
    "duration": 228,
    "start_time": "2023-06-20T16:13:26.297Z"
   },
   {
    "duration": 9,
    "start_time": "2023-06-20T16:13:26.527Z"
   },
   {
    "duration": 46,
    "start_time": "2023-06-20T16:13:26.538Z"
   },
   {
    "duration": 15,
    "start_time": "2023-06-20T16:13:26.586Z"
   },
   {
    "duration": 16,
    "start_time": "2023-06-20T16:13:26.603Z"
   },
   {
    "duration": 30,
    "start_time": "2023-06-20T16:13:26.621Z"
   },
   {
    "duration": 45,
    "start_time": "2023-06-20T16:13:26.653Z"
   },
   {
    "duration": 28,
    "start_time": "2023-06-20T16:13:26.699Z"
   },
   {
    "duration": 176,
    "start_time": "2023-06-20T16:13:26.730Z"
   },
   {
    "duration": 127,
    "start_time": "2023-06-20T16:13:26.908Z"
   },
   {
    "duration": 0,
    "start_time": "2023-06-20T16:13:27.038Z"
   },
   {
    "duration": 0,
    "start_time": "2023-06-20T16:13:27.039Z"
   },
   {
    "duration": 0,
    "start_time": "2023-06-20T16:13:27.041Z"
   },
   {
    "duration": 0,
    "start_time": "2023-06-20T16:13:27.043Z"
   },
   {
    "duration": 0,
    "start_time": "2023-06-20T16:13:27.044Z"
   },
   {
    "duration": 0,
    "start_time": "2023-06-20T16:13:27.046Z"
   },
   {
    "duration": 0,
    "start_time": "2023-06-20T16:13:27.048Z"
   },
   {
    "duration": 1,
    "start_time": "2023-06-20T16:13:27.049Z"
   },
   {
    "duration": 0,
    "start_time": "2023-06-20T16:13:27.051Z"
   },
   {
    "duration": 0,
    "start_time": "2023-06-20T16:13:27.053Z"
   },
   {
    "duration": 26,
    "start_time": "2023-06-20T16:21:53.745Z"
   },
   {
    "duration": 20,
    "start_time": "2023-06-20T16:22:10.534Z"
   },
   {
    "duration": 1227,
    "start_time": "2023-06-20T16:23:03.744Z"
   },
   {
    "duration": 301,
    "start_time": "2023-06-20T16:23:13.482Z"
   },
   {
    "duration": 192,
    "start_time": "2023-06-20T16:23:31.754Z"
   },
   {
    "duration": 8,
    "start_time": "2023-06-20T16:23:49.028Z"
   },
   {
    "duration": 54,
    "start_time": "2023-06-20T16:23:57.849Z"
   },
   {
    "duration": 162,
    "start_time": "2023-06-20T16:24:07.513Z"
   },
   {
    "duration": 58,
    "start_time": "2023-06-20T16:24:54.345Z"
   },
   {
    "duration": 5,
    "start_time": "2023-06-20T16:33:53.331Z"
   },
   {
    "duration": 1939,
    "start_time": "2023-06-20T16:33:53.339Z"
   },
   {
    "duration": 5,
    "start_time": "2023-06-20T16:33:55.282Z"
   },
   {
    "duration": 1052,
    "start_time": "2023-06-20T16:33:55.289Z"
   },
   {
    "duration": 27,
    "start_time": "2023-06-20T16:33:56.343Z"
   },
   {
    "duration": 160,
    "start_time": "2023-06-20T16:33:56.372Z"
   },
   {
    "duration": 192,
    "start_time": "2023-06-20T16:33:56.534Z"
   },
   {
    "duration": 671,
    "start_time": "2023-06-20T16:33:56.728Z"
   },
   {
    "duration": 736,
    "start_time": "2023-06-20T16:33:57.401Z"
   },
   {
    "duration": 6,
    "start_time": "2023-06-20T16:33:58.140Z"
   },
   {
    "duration": 26,
    "start_time": "2023-06-20T16:33:58.159Z"
   },
   {
    "duration": 37,
    "start_time": "2023-06-20T16:33:58.187Z"
   },
   {
    "duration": 101,
    "start_time": "2023-06-20T16:33:58.226Z"
   },
   {
    "duration": 9,
    "start_time": "2023-06-20T16:33:58.329Z"
   },
   {
    "duration": 66,
    "start_time": "2023-06-20T16:33:58.340Z"
   },
   {
    "duration": 105,
    "start_time": "2023-06-20T16:33:58.408Z"
   },
   {
    "duration": 22,
    "start_time": "2023-06-20T16:33:58.516Z"
   },
   {
    "duration": 53,
    "start_time": "2023-06-20T16:33:58.539Z"
   },
   {
    "duration": 22,
    "start_time": "2023-06-20T16:33:58.594Z"
   },
   {
    "duration": 9,
    "start_time": "2023-06-20T16:33:58.619Z"
   },
   {
    "duration": 234,
    "start_time": "2023-06-20T16:33:58.630Z"
   },
   {
    "duration": 14,
    "start_time": "2023-06-20T16:33:58.865Z"
   },
   {
    "duration": 28,
    "start_time": "2023-06-20T16:33:58.882Z"
   },
   {
    "duration": 13,
    "start_time": "2023-06-20T16:33:58.912Z"
   },
   {
    "duration": 36,
    "start_time": "2023-06-20T16:33:58.927Z"
   },
   {
    "duration": 47,
    "start_time": "2023-06-20T16:33:58.968Z"
   },
   {
    "duration": 25,
    "start_time": "2023-06-20T16:33:59.017Z"
   },
   {
    "duration": 25,
    "start_time": "2023-06-20T16:33:59.046Z"
   },
   {
    "duration": 49,
    "start_time": "2023-06-20T16:33:59.077Z"
   },
   {
    "duration": 202,
    "start_time": "2023-06-20T16:33:59.129Z"
   },
   {
    "duration": 32,
    "start_time": "2023-06-20T16:33:59.333Z"
   },
   {
    "duration": 18,
    "start_time": "2023-06-20T16:33:59.369Z"
   },
   {
    "duration": 32,
    "start_time": "2023-06-20T16:33:59.389Z"
   },
   {
    "duration": 29,
    "start_time": "2023-06-20T16:33:59.423Z"
   },
   {
    "duration": 980,
    "start_time": "2023-06-20T16:33:59.454Z"
   },
   {
    "duration": 3895,
    "start_time": "2023-06-20T16:34:00.436Z"
   },
   {
    "duration": 13735,
    "start_time": "2023-06-20T16:34:04.334Z"
   },
   {
    "duration": 7,
    "start_time": "2023-06-20T16:34:18.072Z"
   },
   {
    "duration": 621748,
    "start_time": "2023-06-20T16:34:18.084Z"
   },
   {
    "duration": 218761,
    "start_time": "2023-06-20T16:44:39.834Z"
   },
   {
    "duration": 0,
    "start_time": "2023-06-20T16:48:18.597Z"
   },
   {
    "duration": 0,
    "start_time": "2023-06-20T16:48:18.599Z"
   },
   {
    "duration": 3660,
    "start_time": "2023-06-21T10:10:18.160Z"
   },
   {
    "duration": 4,
    "start_time": "2023-06-21T10:11:41.521Z"
   },
   {
    "duration": 1874,
    "start_time": "2023-06-21T10:11:41.534Z"
   },
   {
    "duration": 4,
    "start_time": "2023-06-21T10:11:43.410Z"
   },
   {
    "duration": 3846,
    "start_time": "2023-06-21T10:11:43.415Z"
   },
   {
    "duration": 24,
    "start_time": "2023-06-21T10:11:47.262Z"
   },
   {
    "duration": 126,
    "start_time": "2023-06-21T10:11:47.288Z"
   },
   {
    "duration": 173,
    "start_time": "2023-06-21T10:11:47.416Z"
   },
   {
    "duration": 522,
    "start_time": "2023-06-21T10:11:47.591Z"
   },
   {
    "duration": 596,
    "start_time": "2023-06-21T10:11:48.114Z"
   },
   {
    "duration": 7,
    "start_time": "2023-06-21T10:11:48.712Z"
   },
   {
    "duration": 16,
    "start_time": "2023-06-21T10:11:48.720Z"
   },
   {
    "duration": 49,
    "start_time": "2023-06-21T10:11:48.738Z"
   },
   {
    "duration": 58,
    "start_time": "2023-06-21T10:11:48.789Z"
   },
   {
    "duration": 7,
    "start_time": "2023-06-21T10:11:48.850Z"
   },
   {
    "duration": 38,
    "start_time": "2023-06-21T10:11:48.873Z"
   },
   {
    "duration": 94,
    "start_time": "2023-06-21T10:11:48.912Z"
   },
   {
    "duration": 18,
    "start_time": "2023-06-21T10:11:49.008Z"
   },
   {
    "duration": 54,
    "start_time": "2023-06-21T10:11:49.028Z"
   },
   {
    "duration": 15,
    "start_time": "2023-06-21T10:11:49.083Z"
   },
   {
    "duration": 8,
    "start_time": "2023-06-21T10:11:49.099Z"
   },
   {
    "duration": 178,
    "start_time": "2023-06-21T10:11:49.109Z"
   },
   {
    "duration": 7,
    "start_time": "2023-06-21T10:11:49.289Z"
   },
   {
    "duration": 17,
    "start_time": "2023-06-21T10:11:49.297Z"
   },
   {
    "duration": 8,
    "start_time": "2023-06-21T10:11:49.316Z"
   },
   {
    "duration": 21,
    "start_time": "2023-06-21T10:11:49.325Z"
   },
   {
    "duration": 16,
    "start_time": "2023-06-21T10:11:49.347Z"
   },
   {
    "duration": 34,
    "start_time": "2023-06-21T10:11:49.366Z"
   },
   {
    "duration": 34,
    "start_time": "2023-06-21T10:11:49.401Z"
   },
   {
    "duration": 104,
    "start_time": "2023-06-21T10:11:49.437Z"
   },
   {
    "duration": 186,
    "start_time": "2023-06-21T10:11:49.544Z"
   },
   {
    "duration": 0,
    "start_time": "2023-06-21T10:11:49.731Z"
   },
   {
    "duration": 0,
    "start_time": "2023-06-21T10:11:49.733Z"
   },
   {
    "duration": 0,
    "start_time": "2023-06-21T10:11:49.734Z"
   },
   {
    "duration": 0,
    "start_time": "2023-06-21T10:11:49.735Z"
   },
   {
    "duration": 0,
    "start_time": "2023-06-21T10:11:49.736Z"
   },
   {
    "duration": 0,
    "start_time": "2023-06-21T10:11:49.737Z"
   },
   {
    "duration": 0,
    "start_time": "2023-06-21T10:11:49.738Z"
   },
   {
    "duration": 0,
    "start_time": "2023-06-21T10:11:49.739Z"
   },
   {
    "duration": 0,
    "start_time": "2023-06-21T10:11:49.740Z"
   },
   {
    "duration": 0,
    "start_time": "2023-06-21T10:11:49.741Z"
   },
   {
    "duration": 0,
    "start_time": "2023-06-21T10:11:49.742Z"
   },
   {
    "duration": 7,
    "start_time": "2023-06-21T10:22:14.425Z"
   },
   {
    "duration": 8,
    "start_time": "2023-06-21T10:24:28.142Z"
   },
   {
    "duration": 13,
    "start_time": "2023-06-21T10:50:14.595Z"
   },
   {
    "duration": 77,
    "start_time": "2023-06-21T10:51:05.833Z"
   },
   {
    "duration": 77,
    "start_time": "2023-06-21T10:51:23.250Z"
   },
   {
    "duration": 7,
    "start_time": "2023-06-21T10:56:51.257Z"
   },
   {
    "duration": 9,
    "start_time": "2023-06-21T10:57:01.063Z"
   },
   {
    "duration": 82,
    "start_time": "2023-06-21T10:59:44.719Z"
   },
   {
    "duration": 14,
    "start_time": "2023-06-21T11:00:20.615Z"
   },
   {
    "duration": 47,
    "start_time": "2023-06-21T11:04:37.759Z"
   },
   {
    "duration": 78,
    "start_time": "2023-06-21T11:04:45.042Z"
   },
   {
    "duration": 58,
    "start_time": "2023-06-21T11:05:09.332Z"
   },
   {
    "duration": 14,
    "start_time": "2023-06-21T11:06:00.124Z"
   },
   {
    "duration": 14,
    "start_time": "2023-06-21T11:06:08.763Z"
   },
   {
    "duration": 17,
    "start_time": "2023-06-21T11:18:08.226Z"
   },
   {
    "duration": 15,
    "start_time": "2023-06-21T11:18:43.478Z"
   },
   {
    "duration": 14,
    "start_time": "2023-06-21T11:19:01.246Z"
   },
   {
    "duration": 10,
    "start_time": "2023-06-21T11:50:08.949Z"
   },
   {
    "duration": 11,
    "start_time": "2023-06-21T11:50:29.095Z"
   },
   {
    "duration": 7,
    "start_time": "2023-06-21T11:53:20.925Z"
   },
   {
    "duration": 7,
    "start_time": "2023-06-21T12:00:01.738Z"
   },
   {
    "duration": 8,
    "start_time": "2023-06-21T12:00:30.094Z"
   },
   {
    "duration": 14,
    "start_time": "2023-06-21T12:07:22.035Z"
   },
   {
    "duration": 7,
    "start_time": "2023-06-21T12:12:38.613Z"
   },
   {
    "duration": 31,
    "start_time": "2023-06-21T12:19:52.044Z"
   },
   {
    "duration": 29,
    "start_time": "2023-06-21T12:20:12.663Z"
   },
   {
    "duration": 21,
    "start_time": "2023-06-21T12:20:24.537Z"
   },
   {
    "duration": 65,
    "start_time": "2023-06-21T12:38:39.255Z"
   },
   {
    "duration": 73,
    "start_time": "2023-06-21T12:38:53.249Z"
   },
   {
    "duration": 80,
    "start_time": "2023-06-21T12:40:24.032Z"
   },
   {
    "duration": 63,
    "start_time": "2023-06-21T12:41:02.757Z"
   },
   {
    "duration": 60,
    "start_time": "2023-06-21T12:41:13.678Z"
   },
   {
    "duration": 65,
    "start_time": "2023-06-21T12:43:13.733Z"
   },
   {
    "duration": 12,
    "start_time": "2023-06-21T12:43:38.577Z"
   },
   {
    "duration": 55,
    "start_time": "2023-06-21T12:44:04.637Z"
   },
   {
    "duration": 71,
    "start_time": "2023-06-21T12:44:13.446Z"
   },
   {
    "duration": 67,
    "start_time": "2023-06-21T12:44:27.325Z"
   },
   {
    "duration": 11,
    "start_time": "2023-06-21T12:58:53.409Z"
   },
   {
    "duration": 62,
    "start_time": "2023-06-21T12:59:19.117Z"
   },
   {
    "duration": 4,
    "start_time": "2023-06-21T13:02:14.516Z"
   },
   {
    "duration": 2324,
    "start_time": "2023-06-21T13:02:14.522Z"
   },
   {
    "duration": 4,
    "start_time": "2023-06-21T13:02:16.848Z"
   },
   {
    "duration": 2683,
    "start_time": "2023-06-21T13:02:16.853Z"
   },
   {
    "duration": 17,
    "start_time": "2023-06-21T13:02:19.538Z"
   },
   {
    "duration": 128,
    "start_time": "2023-06-21T13:02:19.557Z"
   },
   {
    "duration": 162,
    "start_time": "2023-06-21T13:02:19.687Z"
   },
   {
    "duration": 475,
    "start_time": "2023-06-21T13:02:19.851Z"
   },
   {
    "duration": 576,
    "start_time": "2023-06-21T13:02:20.328Z"
   },
   {
    "duration": 6,
    "start_time": "2023-06-21T13:02:20.906Z"
   },
   {
    "duration": 31,
    "start_time": "2023-06-21T13:02:20.914Z"
   },
   {
    "duration": 60,
    "start_time": "2023-06-21T13:02:20.946Z"
   },
   {
    "duration": 54,
    "start_time": "2023-06-21T13:02:21.008Z"
   },
   {
    "duration": 14,
    "start_time": "2023-06-21T13:02:21.065Z"
   },
   {
    "duration": 41,
    "start_time": "2023-06-21T13:02:21.080Z"
   },
   {
    "duration": 96,
    "start_time": "2023-06-21T13:02:21.123Z"
   },
   {
    "duration": 30,
    "start_time": "2023-06-21T13:02:21.221Z"
   },
   {
    "duration": 42,
    "start_time": "2023-06-21T13:02:21.252Z"
   },
   {
    "duration": 23,
    "start_time": "2023-06-21T13:02:21.296Z"
   },
   {
    "duration": 40,
    "start_time": "2023-06-21T13:02:21.321Z"
   },
   {
    "duration": 179,
    "start_time": "2023-06-21T13:02:21.363Z"
   },
   {
    "duration": 8,
    "start_time": "2023-06-21T13:02:21.544Z"
   },
   {
    "duration": 16,
    "start_time": "2023-06-21T13:02:21.554Z"
   },
   {
    "duration": 14,
    "start_time": "2023-06-21T13:02:21.572Z"
   },
   {
    "duration": 13,
    "start_time": "2023-06-21T13:02:21.588Z"
   },
   {
    "duration": 14,
    "start_time": "2023-06-21T13:02:21.603Z"
   },
   {
    "duration": 26,
    "start_time": "2023-06-21T13:02:21.619Z"
   },
   {
    "duration": 10,
    "start_time": "2023-06-21T13:02:21.648Z"
   },
   {
    "duration": 104,
    "start_time": "2023-06-21T13:02:21.660Z"
   },
   {
    "duration": 32,
    "start_time": "2023-06-21T13:02:21.768Z"
   },
   {
    "duration": 27,
    "start_time": "2023-06-21T13:02:21.802Z"
   },
   {
    "duration": 77,
    "start_time": "2023-06-21T13:02:21.830Z"
   },
   {
    "duration": 10,
    "start_time": "2023-06-21T13:02:21.908Z"
   },
   {
    "duration": 164,
    "start_time": "2023-06-21T13:02:21.920Z"
   },
   {
    "duration": 1,
    "start_time": "2023-06-21T13:02:22.085Z"
   },
   {
    "duration": 0,
    "start_time": "2023-06-21T13:02:22.087Z"
   },
   {
    "duration": 0,
    "start_time": "2023-06-21T13:02:22.088Z"
   },
   {
    "duration": 0,
    "start_time": "2023-06-21T13:02:22.089Z"
   },
   {
    "duration": 0,
    "start_time": "2023-06-21T13:02:22.090Z"
   },
   {
    "duration": 0,
    "start_time": "2023-06-21T13:02:22.091Z"
   },
   {
    "duration": 0,
    "start_time": "2023-06-21T13:02:22.092Z"
   },
   {
    "duration": 0,
    "start_time": "2023-06-21T13:02:22.093Z"
   },
   {
    "duration": 14,
    "start_time": "2023-06-21T13:24:25.012Z"
   },
   {
    "duration": 80,
    "start_time": "2023-06-21T13:24:59.488Z"
   },
   {
    "duration": 62,
    "start_time": "2023-06-21T13:25:09.432Z"
   },
   {
    "duration": 6,
    "start_time": "2023-06-21T13:25:20.191Z"
   },
   {
    "duration": 10,
    "start_time": "2023-06-21T13:25:24.106Z"
   },
   {
    "duration": 9,
    "start_time": "2023-06-21T13:27:41.496Z"
   },
   {
    "duration": 6,
    "start_time": "2023-06-21T13:30:29.770Z"
   },
   {
    "duration": 8,
    "start_time": "2023-06-21T13:33:07.476Z"
   },
   {
    "duration": 7,
    "start_time": "2023-06-21T13:33:08.341Z"
   },
   {
    "duration": 11,
    "start_time": "2023-06-21T13:39:48.746Z"
   },
   {
    "duration": 11,
    "start_time": "2023-06-21T14:06:48.578Z"
   },
   {
    "duration": 4,
    "start_time": "2023-06-21T14:09:58.919Z"
   },
   {
    "duration": 1752,
    "start_time": "2023-06-21T14:09:58.926Z"
   },
   {
    "duration": 5,
    "start_time": "2023-06-21T14:10:00.679Z"
   },
   {
    "duration": 1028,
    "start_time": "2023-06-21T14:10:00.685Z"
   },
   {
    "duration": 19,
    "start_time": "2023-06-21T14:10:01.716Z"
   },
   {
    "duration": 184,
    "start_time": "2023-06-21T14:10:01.737Z"
   },
   {
    "duration": 244,
    "start_time": "2023-06-21T14:10:01.923Z"
   },
   {
    "duration": 572,
    "start_time": "2023-06-21T14:10:02.168Z"
   },
   {
    "duration": 664,
    "start_time": "2023-06-21T14:10:02.741Z"
   },
   {
    "duration": 7,
    "start_time": "2023-06-21T14:10:03.408Z"
   },
   {
    "duration": 42,
    "start_time": "2023-06-21T14:10:03.417Z"
   },
   {
    "duration": 39,
    "start_time": "2023-06-21T14:10:03.461Z"
   },
   {
    "duration": 71,
    "start_time": "2023-06-21T14:10:03.502Z"
   },
   {
    "duration": 7,
    "start_time": "2023-06-21T14:10:03.577Z"
   },
   {
    "duration": 44,
    "start_time": "2023-06-21T14:10:03.586Z"
   },
   {
    "duration": 99,
    "start_time": "2023-06-21T14:10:03.632Z"
   },
   {
    "duration": 27,
    "start_time": "2023-06-21T14:10:03.733Z"
   },
   {
    "duration": 29,
    "start_time": "2023-06-21T14:10:03.762Z"
   },
   {
    "duration": 51,
    "start_time": "2023-06-21T14:10:03.794Z"
   },
   {
    "duration": 74,
    "start_time": "2023-06-21T14:10:03.847Z"
   },
   {
    "duration": 265,
    "start_time": "2023-06-21T14:10:03.925Z"
   },
   {
    "duration": 9,
    "start_time": "2023-06-21T14:10:04.193Z"
   },
   {
    "duration": 17,
    "start_time": "2023-06-21T14:10:04.205Z"
   },
   {
    "duration": 28,
    "start_time": "2023-06-21T14:10:04.224Z"
   },
   {
    "duration": 27,
    "start_time": "2023-06-21T14:10:04.254Z"
   },
   {
    "duration": 50,
    "start_time": "2023-06-21T14:10:04.283Z"
   },
   {
    "duration": 30,
    "start_time": "2023-06-21T14:10:04.334Z"
   },
   {
    "duration": 20,
    "start_time": "2023-06-21T14:10:04.366Z"
   },
   {
    "duration": 122,
    "start_time": "2023-06-21T14:10:04.388Z"
   },
   {
    "duration": 11,
    "start_time": "2023-06-21T14:10:04.512Z"
   },
   {
    "duration": 12,
    "start_time": "2023-06-21T14:10:04.525Z"
   },
   {
    "duration": 34,
    "start_time": "2023-06-21T14:10:04.539Z"
   },
   {
    "duration": 84,
    "start_time": "2023-06-21T14:10:04.574Z"
   },
   {
    "duration": 9,
    "start_time": "2023-06-21T14:10:04.660Z"
   },
   {
    "duration": 17,
    "start_time": "2023-06-21T14:10:04.671Z"
   },
   {
    "duration": 38,
    "start_time": "2023-06-21T14:10:04.690Z"
   },
   {
    "duration": 38,
    "start_time": "2023-06-21T14:10:04.730Z"
   },
   {
    "duration": 728,
    "start_time": "2023-06-21T14:10:04.770Z"
   },
   {
    "duration": 994,
    "start_time": "2023-06-21T14:10:05.501Z"
   },
   {
    "duration": 12,
    "start_time": "2023-06-21T14:10:06.497Z"
   },
   {
    "duration": 314199,
    "start_time": "2023-06-21T14:10:06.570Z"
   },
   {
    "duration": 904,
    "start_time": "2023-06-21T14:15:20.770Z"
   },
   {
    "duration": 4,
    "start_time": "2023-06-21T14:24:33.648Z"
   },
   {
    "duration": 1735,
    "start_time": "2023-06-21T14:24:33.655Z"
   },
   {
    "duration": 4,
    "start_time": "2023-06-21T14:24:35.393Z"
   },
   {
    "duration": 883,
    "start_time": "2023-06-21T14:24:35.398Z"
   },
   {
    "duration": 19,
    "start_time": "2023-06-21T14:24:36.283Z"
   },
   {
    "duration": 143,
    "start_time": "2023-06-21T14:24:36.305Z"
   },
   {
    "duration": 184,
    "start_time": "2023-06-21T14:24:36.451Z"
   },
   {
    "duration": 535,
    "start_time": "2023-06-21T14:24:36.637Z"
   },
   {
    "duration": 606,
    "start_time": "2023-06-21T14:24:37.174Z"
   },
   {
    "duration": 6,
    "start_time": "2023-06-21T14:24:37.782Z"
   },
   {
    "duration": 20,
    "start_time": "2023-06-21T14:24:37.790Z"
   },
   {
    "duration": 36,
    "start_time": "2023-06-21T14:24:37.813Z"
   },
   {
    "duration": 67,
    "start_time": "2023-06-21T14:24:37.851Z"
   },
   {
    "duration": 7,
    "start_time": "2023-06-21T14:24:37.921Z"
   },
   {
    "duration": 53,
    "start_time": "2023-06-21T14:24:37.932Z"
   },
   {
    "duration": 84,
    "start_time": "2023-06-21T14:24:37.986Z"
   },
   {
    "duration": 19,
    "start_time": "2023-06-21T14:24:38.071Z"
   },
   {
    "duration": 24,
    "start_time": "2023-06-21T14:24:38.091Z"
   },
   {
    "duration": 26,
    "start_time": "2023-06-21T14:24:38.117Z"
   },
   {
    "duration": 14,
    "start_time": "2023-06-21T14:24:38.167Z"
   },
   {
    "duration": 247,
    "start_time": "2023-06-21T14:24:38.183Z"
   },
   {
    "duration": 15,
    "start_time": "2023-06-21T14:24:38.432Z"
   },
   {
    "duration": 41,
    "start_time": "2023-06-21T14:24:38.451Z"
   },
   {
    "duration": 26,
    "start_time": "2023-06-21T14:24:38.494Z"
   },
   {
    "duration": 91,
    "start_time": "2023-06-21T14:24:38.521Z"
   },
   {
    "duration": 91,
    "start_time": "2023-06-21T14:24:38.614Z"
   },
   {
    "duration": 166,
    "start_time": "2023-06-21T14:24:38.707Z"
   },
   {
    "duration": 20,
    "start_time": "2023-06-21T14:24:38.875Z"
   },
   {
    "duration": 165,
    "start_time": "2023-06-21T14:24:38.897Z"
   },
   {
    "duration": 45,
    "start_time": "2023-06-21T14:24:39.068Z"
   },
   {
    "duration": 69,
    "start_time": "2023-06-21T14:24:39.116Z"
   },
   {
    "duration": 33,
    "start_time": "2023-06-21T14:24:39.186Z"
   },
   {
    "duration": 1011,
    "start_time": "2023-06-21T14:24:39.221Z"
   },
   {
    "duration": 76,
    "start_time": "2023-06-21T14:24:40.234Z"
   },
   {
    "duration": 4,
    "start_time": "2023-06-21T14:24:40.312Z"
   },
   {
    "duration": 13,
    "start_time": "2023-06-21T14:24:40.317Z"
   },
   {
    "duration": 198,
    "start_time": "2023-06-21T14:24:40.332Z"
   },
   {
    "duration": 16,
    "start_time": "2023-06-21T14:24:40.532Z"
   },
   {
    "duration": 25063,
    "start_time": "2023-06-21T14:24:40.550Z"
   },
   {
    "duration": 34985,
    "start_time": "2023-06-21T14:25:05.615Z"
   },
   {
    "duration": 84,
    "start_time": "2023-06-21T14:25:40.602Z"
   },
   {
    "duration": 19788,
    "start_time": "2023-06-21T14:25:40.691Z"
   },
   {
    "duration": 4516,
    "start_time": "2023-06-21T14:26:00.481Z"
   },
   {
    "duration": 5,
    "start_time": "2023-06-21T14:29:03.920Z"
   },
   {
    "duration": 1848,
    "start_time": "2023-06-21T14:29:03.928Z"
   },
   {
    "duration": 4,
    "start_time": "2023-06-21T14:29:05.779Z"
   },
   {
    "duration": 1257,
    "start_time": "2023-06-21T14:29:05.785Z"
   },
   {
    "duration": 34,
    "start_time": "2023-06-21T14:29:07.044Z"
   },
   {
    "duration": 151,
    "start_time": "2023-06-21T14:29:07.081Z"
   },
   {
    "duration": 192,
    "start_time": "2023-06-21T14:29:07.234Z"
   },
   {
    "duration": 570,
    "start_time": "2023-06-21T14:29:07.427Z"
   },
   {
    "duration": 678,
    "start_time": "2023-06-21T14:29:08.000Z"
   },
   {
    "duration": 12,
    "start_time": "2023-06-21T14:29:08.688Z"
   },
   {
    "duration": 31,
    "start_time": "2023-06-21T14:29:08.703Z"
   },
   {
    "duration": 57,
    "start_time": "2023-06-21T14:29:08.737Z"
   },
   {
    "duration": 63,
    "start_time": "2023-06-21T14:29:08.796Z"
   },
   {
    "duration": 16,
    "start_time": "2023-06-21T14:29:08.861Z"
   },
   {
    "duration": 39,
    "start_time": "2023-06-21T14:29:08.888Z"
   },
   {
    "duration": 96,
    "start_time": "2023-06-21T14:29:08.929Z"
   },
   {
    "duration": 19,
    "start_time": "2023-06-21T14:29:09.027Z"
   },
   {
    "duration": 51,
    "start_time": "2023-06-21T14:29:09.048Z"
   },
   {
    "duration": 26,
    "start_time": "2023-06-21T14:29:09.101Z"
   },
   {
    "duration": 15,
    "start_time": "2023-06-21T14:29:09.129Z"
   },
   {
    "duration": 272,
    "start_time": "2023-06-21T14:29:09.145Z"
   },
   {
    "duration": 13,
    "start_time": "2023-06-21T14:29:09.420Z"
   },
   {
    "duration": 42,
    "start_time": "2023-06-21T14:29:09.434Z"
   },
   {
    "duration": 31,
    "start_time": "2023-06-21T14:29:09.481Z"
   },
   {
    "duration": 94,
    "start_time": "2023-06-21T14:29:09.514Z"
   },
   {
    "duration": 84,
    "start_time": "2023-06-21T14:29:09.610Z"
   },
   {
    "duration": 158,
    "start_time": "2023-06-21T14:29:09.696Z"
   },
   {
    "duration": 25,
    "start_time": "2023-06-21T14:29:09.856Z"
   },
   {
    "duration": 35,
    "start_time": "2023-06-21T14:29:09.886Z"
   },
   {
    "duration": 144,
    "start_time": "2023-06-21T14:29:09.923Z"
   },
   {
    "duration": 44,
    "start_time": "2023-06-21T14:29:10.069Z"
   },
   {
    "duration": 15,
    "start_time": "2023-06-21T14:29:10.115Z"
   },
   {
    "duration": 1116,
    "start_time": "2023-06-21T14:29:10.131Z"
   },
   {
    "duration": 91,
    "start_time": "2023-06-21T14:29:11.248Z"
   },
   {
    "duration": 5,
    "start_time": "2023-06-21T14:29:11.340Z"
   },
   {
    "duration": 34,
    "start_time": "2023-06-21T14:29:11.346Z"
   },
   {
    "duration": 198,
    "start_time": "2023-06-21T14:29:11.383Z"
   },
   {
    "duration": 19,
    "start_time": "2023-06-21T14:29:11.583Z"
   },
   {
    "duration": 33945,
    "start_time": "2023-06-21T14:29:11.604Z"
   },
   {
    "duration": 35145,
    "start_time": "2023-06-21T14:29:45.551Z"
   },
   {
    "duration": 73,
    "start_time": "2023-06-21T14:30:20.698Z"
   },
   {
    "duration": 17504,
    "start_time": "2023-06-21T14:30:20.775Z"
   },
   {
    "duration": 4302,
    "start_time": "2023-06-21T14:30:38.281Z"
   },
   {
    "duration": 3,
    "start_time": "2023-06-21T14:32:28.636Z"
   },
   {
    "duration": 1778,
    "start_time": "2023-06-21T14:32:28.641Z"
   },
   {
    "duration": 3,
    "start_time": "2023-06-21T14:32:30.421Z"
   },
   {
    "duration": 971,
    "start_time": "2023-06-21T14:32:30.426Z"
   },
   {
    "duration": 18,
    "start_time": "2023-06-21T14:32:31.399Z"
   },
   {
    "duration": 153,
    "start_time": "2023-06-21T14:32:31.419Z"
   },
   {
    "duration": 166,
    "start_time": "2023-06-21T14:32:31.574Z"
   },
   {
    "duration": 527,
    "start_time": "2023-06-21T14:32:31.741Z"
   },
   {
    "duration": 675,
    "start_time": "2023-06-21T14:32:32.270Z"
   },
   {
    "duration": 7,
    "start_time": "2023-06-21T14:32:32.948Z"
   },
   {
    "duration": 38,
    "start_time": "2023-06-21T14:32:32.967Z"
   },
   {
    "duration": 38,
    "start_time": "2023-06-21T14:32:33.007Z"
   },
   {
    "duration": 68,
    "start_time": "2023-06-21T14:32:33.047Z"
   },
   {
    "duration": 18,
    "start_time": "2023-06-21T14:32:33.118Z"
   },
   {
    "duration": 95,
    "start_time": "2023-06-21T14:32:33.138Z"
   },
   {
    "duration": 93,
    "start_time": "2023-06-21T14:32:33.235Z"
   },
   {
    "duration": 28,
    "start_time": "2023-06-21T14:32:33.329Z"
   },
   {
    "duration": 31,
    "start_time": "2023-06-21T14:32:33.359Z"
   },
   {
    "duration": 33,
    "start_time": "2023-06-21T14:32:33.392Z"
   },
   {
    "duration": 14,
    "start_time": "2023-06-21T14:32:33.427Z"
   },
   {
    "duration": 229,
    "start_time": "2023-06-21T14:32:33.443Z"
   },
   {
    "duration": 14,
    "start_time": "2023-06-21T14:32:33.674Z"
   },
   {
    "duration": 24,
    "start_time": "2023-06-21T14:32:33.690Z"
   },
   {
    "duration": 18,
    "start_time": "2023-06-21T14:32:33.716Z"
   },
   {
    "duration": 96,
    "start_time": "2023-06-21T14:32:33.735Z"
   },
   {
    "duration": 81,
    "start_time": "2023-06-21T14:32:33.832Z"
   },
   {
    "duration": 184,
    "start_time": "2023-06-21T14:32:33.916Z"
   },
   {
    "duration": 20,
    "start_time": "2023-06-21T14:32:34.103Z"
   },
   {
    "duration": 46,
    "start_time": "2023-06-21T14:32:34.126Z"
   },
   {
    "duration": 131,
    "start_time": "2023-06-21T14:32:34.174Z"
   },
   {
    "duration": 43,
    "start_time": "2023-06-21T14:32:34.306Z"
   },
   {
    "duration": 26,
    "start_time": "2023-06-21T14:32:34.351Z"
   },
   {
    "duration": 995,
    "start_time": "2023-06-21T14:32:34.379Z"
   },
   {
    "duration": 76,
    "start_time": "2023-06-21T14:32:35.375Z"
   },
   {
    "duration": 17,
    "start_time": "2023-06-21T14:32:35.453Z"
   },
   {
    "duration": 39,
    "start_time": "2023-06-21T14:32:35.472Z"
   },
   {
    "duration": 195,
    "start_time": "2023-06-21T14:32:35.512Z"
   },
   {
    "duration": 15,
    "start_time": "2023-06-21T14:32:35.709Z"
   },
   {
    "duration": 30571,
    "start_time": "2023-06-21T14:32:35.726Z"
   },
   {
    "duration": 35118,
    "start_time": "2023-06-21T14:33:06.299Z"
   },
   {
    "duration": 147,
    "start_time": "2023-06-21T14:33:41.421Z"
   },
   {
    "duration": 20506,
    "start_time": "2023-06-21T14:33:41.570Z"
   },
   {
    "duration": 4789,
    "start_time": "2023-06-21T14:34:02.078Z"
   },
   {
    "duration": 337834,
    "start_time": "2023-06-21T14:38:52.949Z"
   },
   {
    "duration": 3,
    "start_time": "2023-06-21T14:44:42.026Z"
   },
   {
    "duration": 1703,
    "start_time": "2023-06-21T14:44:42.031Z"
   },
   {
    "duration": 4,
    "start_time": "2023-06-21T14:44:43.736Z"
   },
   {
    "duration": 952,
    "start_time": "2023-06-21T14:44:43.742Z"
   },
   {
    "duration": 18,
    "start_time": "2023-06-21T14:44:44.696Z"
   },
   {
    "duration": 129,
    "start_time": "2023-06-21T14:44:44.715Z"
   },
   {
    "duration": 193,
    "start_time": "2023-06-21T14:44:44.845Z"
   },
   {
    "duration": 513,
    "start_time": "2023-06-21T14:44:45.040Z"
   },
   {
    "duration": 632,
    "start_time": "2023-06-21T14:44:45.555Z"
   },
   {
    "duration": 6,
    "start_time": "2023-06-21T14:44:46.189Z"
   },
   {
    "duration": 19,
    "start_time": "2023-06-21T14:44:46.196Z"
   },
   {
    "duration": 32,
    "start_time": "2023-06-21T14:44:46.217Z"
   },
   {
    "duration": 90,
    "start_time": "2023-06-21T14:44:46.251Z"
   },
   {
    "duration": 8,
    "start_time": "2023-06-21T14:44:46.345Z"
   },
   {
    "duration": 36,
    "start_time": "2023-06-21T14:44:46.354Z"
   },
   {
    "duration": 98,
    "start_time": "2023-06-21T14:44:46.392Z"
   },
   {
    "duration": 19,
    "start_time": "2023-06-21T14:44:46.492Z"
   },
   {
    "duration": 23,
    "start_time": "2023-06-21T14:44:46.513Z"
   },
   {
    "duration": 48,
    "start_time": "2023-06-21T14:44:46.538Z"
   },
   {
    "duration": 15,
    "start_time": "2023-06-21T14:44:46.588Z"
   },
   {
    "duration": 226,
    "start_time": "2023-06-21T14:44:46.605Z"
   },
   {
    "duration": 15,
    "start_time": "2023-06-21T14:44:46.833Z"
   },
   {
    "duration": 35,
    "start_time": "2023-06-21T14:44:46.850Z"
   },
   {
    "duration": 26,
    "start_time": "2023-06-21T14:44:46.887Z"
   },
   {
    "duration": 90,
    "start_time": "2023-06-21T14:44:46.915Z"
   },
   {
    "duration": 69,
    "start_time": "2023-06-21T14:44:47.007Z"
   },
   {
    "duration": 136,
    "start_time": "2023-06-21T14:44:47.077Z"
   },
   {
    "duration": 19,
    "start_time": "2023-06-21T14:44:47.214Z"
   },
   {
    "duration": 134,
    "start_time": "2023-06-21T14:44:47.235Z"
   },
   {
    "duration": 25,
    "start_time": "2023-06-21T14:44:47.371Z"
   },
   {
    "duration": 36,
    "start_time": "2023-06-21T14:44:47.398Z"
   },
   {
    "duration": 33,
    "start_time": "2023-06-21T14:44:47.436Z"
   },
   {
    "duration": 965,
    "start_time": "2023-06-21T14:44:47.471Z"
   },
   {
    "duration": 87,
    "start_time": "2023-06-21T14:44:48.438Z"
   },
   {
    "duration": 5,
    "start_time": "2023-06-21T14:44:48.527Z"
   },
   {
    "duration": 27,
    "start_time": "2023-06-21T14:44:48.534Z"
   },
   {
    "duration": 195,
    "start_time": "2023-06-21T14:44:48.567Z"
   },
   {
    "duration": 15,
    "start_time": "2023-06-21T14:44:48.767Z"
   },
   {
    "duration": 29805,
    "start_time": "2023-06-21T14:44:48.784Z"
   },
   {
    "duration": 34772,
    "start_time": "2023-06-21T14:45:18.590Z"
   },
   {
    "duration": 99,
    "start_time": "2023-06-21T14:45:53.369Z"
   },
   {
    "duration": 4,
    "start_time": "2023-06-21T15:01:18.036Z"
   },
   {
    "duration": 1811,
    "start_time": "2023-06-21T15:01:18.043Z"
   },
   {
    "duration": 3,
    "start_time": "2023-06-21T15:01:19.856Z"
   },
   {
    "duration": 1020,
    "start_time": "2023-06-21T15:01:19.869Z"
   },
   {
    "duration": 24,
    "start_time": "2023-06-21T15:01:20.891Z"
   },
   {
    "duration": 141,
    "start_time": "2023-06-21T15:01:20.917Z"
   },
   {
    "duration": 201,
    "start_time": "2023-06-21T15:01:21.061Z"
   },
   {
    "duration": 586,
    "start_time": "2023-06-21T15:01:21.266Z"
   },
   {
    "duration": 692,
    "start_time": "2023-06-21T15:01:21.854Z"
   },
   {
    "duration": 8,
    "start_time": "2023-06-21T15:01:22.549Z"
   },
   {
    "duration": 43,
    "start_time": "2023-06-21T15:01:22.558Z"
   },
   {
    "duration": 43,
    "start_time": "2023-06-21T15:01:22.603Z"
   },
   {
    "duration": 90,
    "start_time": "2023-06-21T15:01:22.647Z"
   },
   {
    "duration": 7,
    "start_time": "2023-06-21T15:01:22.740Z"
   },
   {
    "duration": 58,
    "start_time": "2023-06-21T15:01:22.749Z"
   },
   {
    "duration": 103,
    "start_time": "2023-06-21T15:01:22.809Z"
   },
   {
    "duration": 61,
    "start_time": "2023-06-21T15:01:22.914Z"
   },
   {
    "duration": 34,
    "start_time": "2023-06-21T15:01:22.981Z"
   },
   {
    "duration": 35,
    "start_time": "2023-06-21T15:01:23.016Z"
   },
   {
    "duration": 36,
    "start_time": "2023-06-21T15:01:23.053Z"
   },
   {
    "duration": 251,
    "start_time": "2023-06-21T15:01:23.095Z"
   },
   {
    "duration": 31,
    "start_time": "2023-06-21T15:01:23.347Z"
   },
   {
    "duration": 43,
    "start_time": "2023-06-21T15:01:23.381Z"
   },
   {
    "duration": 30,
    "start_time": "2023-06-21T15:01:23.426Z"
   },
   {
    "duration": 115,
    "start_time": "2023-06-21T15:01:23.458Z"
   },
   {
    "duration": 84,
    "start_time": "2023-06-21T15:01:23.575Z"
   },
   {
    "duration": 174,
    "start_time": "2023-06-21T15:01:23.661Z"
   },
   {
    "duration": 17,
    "start_time": "2023-06-21T15:01:23.839Z"
   },
   {
    "duration": 65,
    "start_time": "2023-06-21T15:01:23.859Z"
   },
   {
    "duration": 34,
    "start_time": "2023-06-21T15:01:23.927Z"
   },
   {
    "duration": 66,
    "start_time": "2023-06-21T15:01:23.966Z"
   },
   {
    "duration": 41,
    "start_time": "2023-06-21T15:01:24.034Z"
   },
   {
    "duration": 1313,
    "start_time": "2023-06-21T15:01:24.080Z"
   },
   {
    "duration": 83,
    "start_time": "2023-06-21T15:01:25.396Z"
   },
   {
    "duration": 49,
    "start_time": "2023-06-21T15:01:25.481Z"
   },
   {
    "duration": 33,
    "start_time": "2023-06-21T15:01:25.532Z"
   },
   {
    "duration": 196,
    "start_time": "2023-06-21T15:01:25.578Z"
   },
   {
    "duration": 16,
    "start_time": "2023-06-21T15:01:25.785Z"
   },
   {
    "duration": 34276,
    "start_time": "2023-06-21T15:01:25.803Z"
   },
   {
    "duration": 38479,
    "start_time": "2023-06-21T15:02:00.084Z"
   },
   {
    "duration": 112,
    "start_time": "2023-06-21T15:02:38.567Z"
   },
   {
    "duration": 2666804,
    "start_time": "2023-06-21T15:02:38.681Z"
   },
   {
    "duration": 268105,
    "start_time": "2023-06-21T15:47:05.487Z"
   },
   {
    "duration": 543774,
    "start_time": "2023-06-21T15:51:55.801Z"
   },
   {
    "duration": 4,
    "start_time": "2023-06-23T06:10:53.308Z"
   },
   {
    "duration": 1637,
    "start_time": "2023-06-23T06:10:53.314Z"
   },
   {
    "duration": 0,
    "start_time": "2023-06-23T06:10:54.954Z"
   },
   {
    "duration": 0,
    "start_time": "2023-06-23T06:10:54.956Z"
   },
   {
    "duration": 0,
    "start_time": "2023-06-23T06:10:54.957Z"
   },
   {
    "duration": 0,
    "start_time": "2023-06-23T06:10:54.958Z"
   },
   {
    "duration": 0,
    "start_time": "2023-06-23T06:10:54.959Z"
   },
   {
    "duration": 0,
    "start_time": "2023-06-23T06:10:54.960Z"
   },
   {
    "duration": 0,
    "start_time": "2023-06-23T06:10:54.962Z"
   },
   {
    "duration": 0,
    "start_time": "2023-06-23T06:10:54.963Z"
   },
   {
    "duration": 0,
    "start_time": "2023-06-23T06:10:54.975Z"
   },
   {
    "duration": 0,
    "start_time": "2023-06-23T06:10:54.976Z"
   },
   {
    "duration": 0,
    "start_time": "2023-06-23T06:10:54.977Z"
   },
   {
    "duration": 0,
    "start_time": "2023-06-23T06:10:54.979Z"
   },
   {
    "duration": 0,
    "start_time": "2023-06-23T06:10:54.980Z"
   },
   {
    "duration": 0,
    "start_time": "2023-06-23T06:10:54.981Z"
   },
   {
    "duration": 0,
    "start_time": "2023-06-23T06:10:54.982Z"
   },
   {
    "duration": 0,
    "start_time": "2023-06-23T06:10:54.984Z"
   },
   {
    "duration": 0,
    "start_time": "2023-06-23T06:10:54.985Z"
   },
   {
    "duration": 0,
    "start_time": "2023-06-23T06:10:54.986Z"
   },
   {
    "duration": 0,
    "start_time": "2023-06-23T06:10:54.988Z"
   },
   {
    "duration": 0,
    "start_time": "2023-06-23T06:10:54.989Z"
   },
   {
    "duration": 0,
    "start_time": "2023-06-23T06:10:54.990Z"
   },
   {
    "duration": 0,
    "start_time": "2023-06-23T06:10:54.992Z"
   },
   {
    "duration": 0,
    "start_time": "2023-06-23T06:10:54.994Z"
   },
   {
    "duration": 0,
    "start_time": "2023-06-23T06:10:54.995Z"
   },
   {
    "duration": 0,
    "start_time": "2023-06-23T06:10:54.995Z"
   },
   {
    "duration": 0,
    "start_time": "2023-06-23T06:10:54.996Z"
   },
   {
    "duration": 0,
    "start_time": "2023-06-23T06:10:54.998Z"
   },
   {
    "duration": 0,
    "start_time": "2023-06-23T06:10:54.999Z"
   },
   {
    "duration": 0,
    "start_time": "2023-06-23T06:10:54.999Z"
   },
   {
    "duration": 0,
    "start_time": "2023-06-23T06:10:55.000Z"
   },
   {
    "duration": 0,
    "start_time": "2023-06-23T06:10:55.001Z"
   },
   {
    "duration": 0,
    "start_time": "2023-06-23T06:10:55.002Z"
   },
   {
    "duration": 0,
    "start_time": "2023-06-23T06:10:55.004Z"
   },
   {
    "duration": 0,
    "start_time": "2023-06-23T06:10:55.005Z"
   },
   {
    "duration": 0,
    "start_time": "2023-06-23T06:10:55.005Z"
   },
   {
    "duration": 0,
    "start_time": "2023-06-23T06:10:55.007Z"
   },
   {
    "duration": 0,
    "start_time": "2023-06-23T06:10:55.008Z"
   },
   {
    "duration": 0,
    "start_time": "2023-06-23T06:10:55.009Z"
   },
   {
    "duration": 0,
    "start_time": "2023-06-23T06:10:55.010Z"
   },
   {
    "duration": 0,
    "start_time": "2023-06-23T06:10:55.011Z"
   },
   {
    "duration": 3030,
    "start_time": "2023-06-23T06:11:23.140Z"
   },
   {
    "duration": 4,
    "start_time": "2023-06-23T06:11:45.634Z"
   },
   {
    "duration": 1480,
    "start_time": "2023-06-23T06:11:45.640Z"
   },
   {
    "duration": 3,
    "start_time": "2023-06-23T06:11:47.121Z"
   },
   {
    "duration": 987,
    "start_time": "2023-06-23T06:11:47.125Z"
   },
   {
    "duration": 16,
    "start_time": "2023-06-23T06:11:48.114Z"
   },
   {
    "duration": 198,
    "start_time": "2023-06-23T06:11:48.131Z"
   },
   {
    "duration": 166,
    "start_time": "2023-06-23T06:11:48.331Z"
   },
   {
    "duration": 5,
    "start_time": "2023-06-23T06:11:48.499Z"
   },
   {
    "duration": 10,
    "start_time": "2023-06-23T06:11:48.506Z"
   },
   {
    "duration": 24,
    "start_time": "2023-06-23T06:11:48.517Z"
   },
   {
    "duration": 70,
    "start_time": "2023-06-23T06:11:48.544Z"
   },
   {
    "duration": 6,
    "start_time": "2023-06-23T06:11:48.615Z"
   },
   {
    "duration": 31,
    "start_time": "2023-06-23T06:11:48.622Z"
   },
   {
    "duration": 89,
    "start_time": "2023-06-23T06:11:48.656Z"
   },
   {
    "duration": 15,
    "start_time": "2023-06-23T06:11:48.747Z"
   },
   {
    "duration": 29,
    "start_time": "2023-06-23T06:11:48.763Z"
   },
   {
    "duration": 28,
    "start_time": "2023-06-23T06:11:48.793Z"
   },
   {
    "duration": 12,
    "start_time": "2023-06-23T06:11:48.822Z"
   },
   {
    "duration": 205,
    "start_time": "2023-06-23T06:11:48.836Z"
   },
   {
    "duration": 11,
    "start_time": "2023-06-23T06:11:49.042Z"
   },
   {
    "duration": 31,
    "start_time": "2023-06-23T06:11:49.054Z"
   },
   {
    "duration": 15,
    "start_time": "2023-06-23T06:11:49.087Z"
   },
   {
    "duration": 76,
    "start_time": "2023-06-23T06:11:49.104Z"
   },
   {
    "duration": 71,
    "start_time": "2023-06-23T06:11:49.182Z"
   },
   {
    "duration": 139,
    "start_time": "2023-06-23T06:11:49.255Z"
   },
   {
    "duration": 151,
    "start_time": "2023-06-23T06:11:49.396Z"
   },
   {
    "duration": 14,
    "start_time": "2023-06-23T06:11:49.549Z"
   },
   {
    "duration": 32,
    "start_time": "2023-06-23T06:11:49.565Z"
   },
   {
    "duration": 105,
    "start_time": "2023-06-23T06:11:49.599Z"
   },
   {
    "duration": 32,
    "start_time": "2023-06-23T06:11:49.706Z"
   },
   {
    "duration": 40,
    "start_time": "2023-06-23T06:11:49.739Z"
   },
   {
    "duration": 735,
    "start_time": "2023-06-23T06:11:49.780Z"
   },
   {
    "duration": 64,
    "start_time": "2023-06-23T06:11:50.516Z"
   },
   {
    "duration": 4,
    "start_time": "2023-06-23T06:11:50.581Z"
   },
   {
    "duration": 16,
    "start_time": "2023-06-23T06:11:50.586Z"
   },
   {
    "duration": 139,
    "start_time": "2023-06-23T06:11:50.604Z"
   },
   {
    "duration": 11,
    "start_time": "2023-06-23T06:11:50.745Z"
   },
   {
    "duration": 23152,
    "start_time": "2023-06-23T06:11:50.757Z"
   },
   {
    "duration": 26176,
    "start_time": "2023-06-23T06:12:13.911Z"
   },
   {
    "duration": 92,
    "start_time": "2023-06-23T06:12:40.089Z"
   },
   {
    "duration": 24308,
    "start_time": "2023-06-23T06:12:40.185Z"
   },
   {
    "duration": 4299,
    "start_time": "2023-06-23T06:13:04.495Z"
   },
   {
    "duration": 125,
    "start_time": "2023-06-23T06:13:57.772Z"
   },
   {
    "duration": 106,
    "start_time": "2023-06-23T06:14:12.195Z"
   },
   {
    "duration": 26,
    "start_time": "2023-06-23T06:15:55.840Z"
   },
   {
    "duration": 7,
    "start_time": "2023-06-23T06:46:05.599Z"
   },
   {
    "duration": 49,
    "start_time": "2023-06-23T06:46:34.108Z"
   },
   {
    "duration": 5,
    "start_time": "2023-06-23T06:46:35.313Z"
   },
   {
    "duration": 7,
    "start_time": "2023-06-23T06:46:36.821Z"
   },
   {
    "duration": 154,
    "start_time": "2023-06-23T06:47:57.608Z"
   },
   {
    "duration": 7,
    "start_time": "2023-06-23T06:48:32.433Z"
   },
   {
    "duration": 3,
    "start_time": "2023-06-23T06:48:42.197Z"
   },
   {
    "duration": 1645,
    "start_time": "2023-06-23T06:48:42.204Z"
   },
   {
    "duration": 3,
    "start_time": "2023-06-23T06:48:43.851Z"
   },
   {
    "duration": 977,
    "start_time": "2023-06-23T06:48:43.856Z"
   },
   {
    "duration": 17,
    "start_time": "2023-06-23T06:48:44.835Z"
   },
   {
    "duration": 201,
    "start_time": "2023-06-23T06:48:44.853Z"
   },
   {
    "duration": 224,
    "start_time": "2023-06-23T06:48:45.055Z"
   },
   {
    "duration": 14,
    "start_time": "2023-06-23T06:48:45.281Z"
   },
   {
    "duration": 44,
    "start_time": "2023-06-23T06:48:45.296Z"
   },
   {
    "duration": 31,
    "start_time": "2023-06-23T06:48:45.342Z"
   },
   {
    "duration": 55,
    "start_time": "2023-06-23T06:48:45.379Z"
   },
   {
    "duration": 20,
    "start_time": "2023-06-23T06:48:45.437Z"
   },
   {
    "duration": 42,
    "start_time": "2023-06-23T06:48:45.459Z"
   },
   {
    "duration": 151,
    "start_time": "2023-06-23T06:48:45.508Z"
   },
   {
    "duration": 42,
    "start_time": "2023-06-23T06:48:45.661Z"
   },
   {
    "duration": 53,
    "start_time": "2023-06-23T06:48:45.705Z"
   },
   {
    "duration": 34,
    "start_time": "2023-06-23T06:48:45.760Z"
   },
   {
    "duration": 53,
    "start_time": "2023-06-23T06:48:45.804Z"
   },
   {
    "duration": 274,
    "start_time": "2023-06-23T06:48:45.859Z"
   },
   {
    "duration": 11,
    "start_time": "2023-06-23T06:48:46.136Z"
   },
   {
    "duration": 34,
    "start_time": "2023-06-23T06:48:46.149Z"
   },
   {
    "duration": 76,
    "start_time": "2023-06-23T06:48:46.186Z"
   },
   {
    "duration": 157,
    "start_time": "2023-06-23T06:48:46.264Z"
   },
   {
    "duration": 115,
    "start_time": "2023-06-23T06:48:46.428Z"
   },
   {
    "duration": 177,
    "start_time": "2023-06-23T06:48:46.545Z"
   },
   {
    "duration": 214,
    "start_time": "2023-06-23T06:48:46.724Z"
   },
   {
    "duration": 155,
    "start_time": "2023-06-23T06:48:46.940Z"
   },
   {
    "duration": 248,
    "start_time": "2023-06-23T06:48:47.097Z"
   },
   {
    "duration": 0,
    "start_time": "2023-06-23T06:48:47.348Z"
   },
   {
    "duration": 0,
    "start_time": "2023-06-23T06:48:47.349Z"
   },
   {
    "duration": 0,
    "start_time": "2023-06-23T06:48:47.350Z"
   },
   {
    "duration": 0,
    "start_time": "2023-06-23T06:48:47.352Z"
   },
   {
    "duration": 0,
    "start_time": "2023-06-23T06:48:47.353Z"
   },
   {
    "duration": 0,
    "start_time": "2023-06-23T06:48:47.354Z"
   },
   {
    "duration": 0,
    "start_time": "2023-06-23T06:48:47.356Z"
   },
   {
    "duration": 0,
    "start_time": "2023-06-23T06:48:47.357Z"
   },
   {
    "duration": 0,
    "start_time": "2023-06-23T06:48:47.375Z"
   },
   {
    "duration": 0,
    "start_time": "2023-06-23T06:48:47.377Z"
   },
   {
    "duration": 0,
    "start_time": "2023-06-23T06:48:47.378Z"
   },
   {
    "duration": 0,
    "start_time": "2023-06-23T06:48:47.379Z"
   },
   {
    "duration": 0,
    "start_time": "2023-06-23T06:48:47.380Z"
   },
   {
    "duration": 1,
    "start_time": "2023-06-23T06:48:47.380Z"
   },
   {
    "duration": 0,
    "start_time": "2023-06-23T06:48:47.381Z"
   },
   {
    "duration": 0,
    "start_time": "2023-06-23T06:48:47.384Z"
   },
   {
    "duration": 0,
    "start_time": "2023-06-23T06:48:47.389Z"
   },
   {
    "duration": 87,
    "start_time": "2023-06-23T06:49:10.655Z"
   },
   {
    "duration": 87,
    "start_time": "2023-06-23T06:49:30.700Z"
   },
   {
    "duration": 6,
    "start_time": "2023-06-23T06:49:35.119Z"
   },
   {
    "duration": 10,
    "start_time": "2023-06-23T06:49:39.046Z"
   },
   {
    "duration": 129,
    "start_time": "2023-06-23T06:50:11.919Z"
   },
   {
    "duration": 13,
    "start_time": "2023-06-23T06:54:43.048Z"
   },
   {
    "duration": 480,
    "start_time": "2023-06-23T06:58:22.625Z"
   },
   {
    "duration": 516,
    "start_time": "2023-06-23T06:59:10.468Z"
   },
   {
    "duration": 478,
    "start_time": "2023-06-23T06:59:52.139Z"
   },
   {
    "duration": 463,
    "start_time": "2023-06-23T07:02:21.340Z"
   },
   {
    "duration": 454,
    "start_time": "2023-06-23T07:05:53.040Z"
   },
   {
    "duration": 1026,
    "start_time": "2023-06-23T07:10:12.926Z"
   },
   {
    "duration": 779,
    "start_time": "2023-06-23T07:13:38.403Z"
   },
   {
    "duration": 4,
    "start_time": "2023-06-23T07:15:01.645Z"
   },
   {
    "duration": 1939,
    "start_time": "2023-06-23T07:15:01.651Z"
   },
   {
    "duration": 5,
    "start_time": "2023-06-23T07:15:03.592Z"
   },
   {
    "duration": 934,
    "start_time": "2023-06-23T07:15:03.600Z"
   },
   {
    "duration": 17,
    "start_time": "2023-06-23T07:15:04.536Z"
   },
   {
    "duration": 161,
    "start_time": "2023-06-23T07:15:04.555Z"
   },
   {
    "duration": 190,
    "start_time": "2023-06-23T07:15:04.718Z"
   },
   {
    "duration": 5,
    "start_time": "2023-06-23T07:15:04.910Z"
   },
   {
    "duration": 18,
    "start_time": "2023-06-23T07:15:04.916Z"
   },
   {
    "duration": 61,
    "start_time": "2023-06-23T07:15:04.937Z"
   },
   {
    "duration": 48,
    "start_time": "2023-06-23T07:15:05.001Z"
   },
   {
    "duration": 7,
    "start_time": "2023-06-23T07:15:05.051Z"
   },
   {
    "duration": 63,
    "start_time": "2023-06-23T07:15:05.059Z"
   },
   {
    "duration": 125,
    "start_time": "2023-06-23T07:15:05.124Z"
   },
   {
    "duration": 25,
    "start_time": "2023-06-23T07:15:05.251Z"
   },
   {
    "duration": 48,
    "start_time": "2023-06-23T07:15:05.277Z"
   },
   {
    "duration": 41,
    "start_time": "2023-06-23T07:15:05.327Z"
   },
   {
    "duration": 33,
    "start_time": "2023-06-23T07:15:05.369Z"
   },
   {
    "duration": 200,
    "start_time": "2023-06-23T07:15:05.404Z"
   },
   {
    "duration": 12,
    "start_time": "2023-06-23T07:15:05.606Z"
   },
   {
    "duration": 77,
    "start_time": "2023-06-23T07:15:05.621Z"
   },
   {
    "duration": 27,
    "start_time": "2023-06-23T07:15:05.701Z"
   },
   {
    "duration": 103,
    "start_time": "2023-06-23T07:15:05.729Z"
   },
   {
    "duration": 100,
    "start_time": "2023-06-23T07:15:05.834Z"
   },
   {
    "duration": 150,
    "start_time": "2023-06-23T07:15:05.936Z"
   },
   {
    "duration": 182,
    "start_time": "2023-06-23T07:15:06.090Z"
   },
   {
    "duration": 172,
    "start_time": "2023-06-23T07:15:06.274Z"
   },
   {
    "duration": 190,
    "start_time": "2023-06-23T07:15:06.451Z"
   },
   {
    "duration": 30,
    "start_time": "2023-06-23T07:15:06.643Z"
   },
   {
    "duration": 158,
    "start_time": "2023-06-23T07:15:06.678Z"
   },
   {
    "duration": 507,
    "start_time": "2023-06-23T07:15:06.838Z"
   },
   {
    "duration": 485,
    "start_time": "2023-06-23T07:15:07.347Z"
   },
   {
    "duration": 1019,
    "start_time": "2023-06-23T07:15:07.834Z"
   },
   {
    "duration": 10,
    "start_time": "2023-06-23T07:15:08.855Z"
   },
   {
    "duration": 46,
    "start_time": "2023-06-23T07:15:08.866Z"
   },
   {
    "duration": 28,
    "start_time": "2023-06-23T07:15:08.914Z"
   },
   {
    "duration": 48,
    "start_time": "2023-06-23T07:15:08.944Z"
   },
   {
    "duration": 45,
    "start_time": "2023-06-23T07:15:08.996Z"
   },
   {
    "duration": 33,
    "start_time": "2023-06-23T07:15:09.043Z"
   },
   {
    "duration": 43,
    "start_time": "2023-06-23T07:15:09.078Z"
   },
   {
    "duration": 975,
    "start_time": "2023-06-23T07:15:09.123Z"
   },
   {
    "duration": 164,
    "start_time": "2023-06-23T07:15:10.103Z"
   },
   {
    "duration": 41,
    "start_time": "2023-06-23T07:15:10.269Z"
   },
   {
    "duration": 329,
    "start_time": "2023-06-23T07:15:10.312Z"
   },
   {
    "duration": 221,
    "start_time": "2023-06-23T07:15:10.642Z"
   },
   {
    "duration": 198,
    "start_time": "2023-06-23T07:15:10.864Z"
   },
   {
    "duration": 122,
    "start_time": "2023-06-23T07:15:11.064Z"
   },
   {
    "duration": 32,
    "start_time": "2023-06-23T07:15:11.188Z"
   },
   {
    "duration": 1008,
    "start_time": "2023-06-23T07:18:36.236Z"
   },
   {
    "duration": 1039,
    "start_time": "2023-06-23T07:18:45.648Z"
   },
   {
    "duration": 4,
    "start_time": "2023-06-23T08:12:58.411Z"
   },
   {
    "duration": 1615,
    "start_time": "2023-06-23T08:12:58.416Z"
   },
   {
    "duration": 4,
    "start_time": "2023-06-23T08:13:00.033Z"
   },
   {
    "duration": 1076,
    "start_time": "2023-06-23T08:13:00.040Z"
   },
   {
    "duration": 22,
    "start_time": "2023-06-23T08:13:01.118Z"
   },
   {
    "duration": 299,
    "start_time": "2023-06-23T08:13:01.142Z"
   },
   {
    "duration": 327,
    "start_time": "2023-06-23T08:13:01.443Z"
   },
   {
    "duration": 134,
    "start_time": "2023-06-23T08:13:01.771Z"
   },
   {
    "duration": 113,
    "start_time": "2023-06-23T08:13:01.907Z"
   },
   {
    "duration": 57,
    "start_time": "2023-06-23T08:13:02.022Z"
   },
   {
    "duration": 161,
    "start_time": "2023-06-23T08:13:02.081Z"
   },
   {
    "duration": 108,
    "start_time": "2023-06-23T08:13:02.244Z"
   },
   {
    "duration": 96,
    "start_time": "2023-06-23T08:13:02.354Z"
   },
   {
    "duration": 334,
    "start_time": "2023-06-23T08:13:02.452Z"
   },
   {
    "duration": 27,
    "start_time": "2023-06-23T08:13:02.789Z"
   },
   {
    "duration": 49,
    "start_time": "2023-06-23T08:13:02.818Z"
   },
   {
    "duration": 38,
    "start_time": "2023-06-23T08:13:02.869Z"
   },
   {
    "duration": 27,
    "start_time": "2023-06-23T08:13:02.909Z"
   },
   {
    "duration": 229,
    "start_time": "2023-06-23T08:13:02.937Z"
   },
   {
    "duration": 26,
    "start_time": "2023-06-23T08:13:03.167Z"
   },
   {
    "duration": 179,
    "start_time": "2023-06-23T08:13:03.197Z"
   },
   {
    "duration": 137,
    "start_time": "2023-06-23T08:13:03.380Z"
   },
   {
    "duration": 110,
    "start_time": "2023-06-23T08:13:03.518Z"
   },
   {
    "duration": 94,
    "start_time": "2023-06-23T08:13:03.630Z"
   },
   {
    "duration": 151,
    "start_time": "2023-06-23T08:13:03.725Z"
   },
   {
    "duration": 204,
    "start_time": "2023-06-23T08:13:03.878Z"
   },
   {
    "duration": 139,
    "start_time": "2023-06-23T08:13:04.088Z"
   },
   {
    "duration": 142,
    "start_time": "2023-06-23T08:13:04.230Z"
   },
   {
    "duration": 5,
    "start_time": "2023-06-23T08:13:04.375Z"
   },
   {
    "duration": 364,
    "start_time": "2023-06-23T08:13:04.383Z"
   },
   {
    "duration": 465,
    "start_time": "2023-06-23T08:13:04.749Z"
   },
   {
    "duration": 474,
    "start_time": "2023-06-23T08:13:05.216Z"
   },
   {
    "duration": 1000,
    "start_time": "2023-06-23T08:13:05.693Z"
   },
   {
    "duration": 26,
    "start_time": "2023-06-23T08:13:06.698Z"
   },
   {
    "duration": 319,
    "start_time": "2023-06-23T08:13:06.726Z"
   },
   {
    "duration": 0,
    "start_time": "2023-06-23T08:13:07.047Z"
   },
   {
    "duration": 0,
    "start_time": "2023-06-23T08:13:07.048Z"
   },
   {
    "duration": 0,
    "start_time": "2023-06-23T08:13:07.049Z"
   },
   {
    "duration": 0,
    "start_time": "2023-06-23T08:13:07.051Z"
   },
   {
    "duration": 0,
    "start_time": "2023-06-23T08:13:07.052Z"
   },
   {
    "duration": 20,
    "start_time": "2023-06-23T08:45:36.602Z"
   },
   {
    "duration": 3,
    "start_time": "2023-06-23T08:47:52.239Z"
   },
   {
    "duration": 1822,
    "start_time": "2023-06-23T08:47:52.244Z"
   },
   {
    "duration": 3,
    "start_time": "2023-06-23T08:47:54.068Z"
   },
   {
    "duration": 1053,
    "start_time": "2023-06-23T08:47:54.082Z"
   },
   {
    "duration": 15,
    "start_time": "2023-06-23T08:47:55.136Z"
   },
   {
    "duration": 213,
    "start_time": "2023-06-23T08:47:55.153Z"
   },
   {
    "duration": 241,
    "start_time": "2023-06-23T08:47:55.368Z"
   },
   {
    "duration": 18,
    "start_time": "2023-06-23T08:47:55.611Z"
   },
   {
    "duration": 33,
    "start_time": "2023-06-23T08:47:55.631Z"
   },
   {
    "duration": 79,
    "start_time": "2023-06-23T08:47:55.668Z"
   },
   {
    "duration": 76,
    "start_time": "2023-06-23T08:47:55.749Z"
   },
   {
    "duration": 29,
    "start_time": "2023-06-23T08:47:55.827Z"
   },
   {
    "duration": 71,
    "start_time": "2023-06-23T08:47:55.858Z"
   },
   {
    "duration": 126,
    "start_time": "2023-06-23T08:47:55.934Z"
   },
   {
    "duration": 34,
    "start_time": "2023-06-23T08:47:56.062Z"
   },
   {
    "duration": 67,
    "start_time": "2023-06-23T08:47:56.103Z"
   },
   {
    "duration": 66,
    "start_time": "2023-06-23T08:47:56.171Z"
   },
   {
    "duration": 19,
    "start_time": "2023-06-23T08:47:56.240Z"
   },
   {
    "duration": 262,
    "start_time": "2023-06-23T08:47:56.260Z"
   },
   {
    "duration": 13,
    "start_time": "2023-06-23T08:47:56.525Z"
   },
   {
    "duration": 66,
    "start_time": "2023-06-23T08:47:56.540Z"
   },
   {
    "duration": 50,
    "start_time": "2023-06-23T08:47:56.610Z"
   },
   {
    "duration": 143,
    "start_time": "2023-06-23T08:47:56.662Z"
   },
   {
    "duration": 108,
    "start_time": "2023-06-23T08:47:56.807Z"
   },
   {
    "duration": 195,
    "start_time": "2023-06-23T08:47:56.919Z"
   },
   {
    "duration": 195,
    "start_time": "2023-06-23T08:47:57.122Z"
   },
   {
    "duration": 149,
    "start_time": "2023-06-23T08:47:57.318Z"
   },
   {
    "duration": 186,
    "start_time": "2023-06-23T08:47:57.480Z"
   },
   {
    "duration": 14,
    "start_time": "2023-06-23T08:47:57.668Z"
   },
   {
    "duration": 164,
    "start_time": "2023-06-23T08:47:57.684Z"
   },
   {
    "duration": 646,
    "start_time": "2023-06-23T08:47:57.849Z"
   },
   {
    "duration": 0,
    "start_time": "2023-06-23T08:47:58.497Z"
   },
   {
    "duration": 0,
    "start_time": "2023-06-23T08:47:58.498Z"
   },
   {
    "duration": 0,
    "start_time": "2023-06-23T08:47:58.499Z"
   },
   {
    "duration": 1,
    "start_time": "2023-06-23T08:47:58.499Z"
   },
   {
    "duration": 0,
    "start_time": "2023-06-23T08:47:58.501Z"
   },
   {
    "duration": 0,
    "start_time": "2023-06-23T08:47:58.503Z"
   },
   {
    "duration": 0,
    "start_time": "2023-06-23T08:47:58.504Z"
   },
   {
    "duration": 0,
    "start_time": "2023-06-23T08:47:58.505Z"
   },
   {
    "duration": 0,
    "start_time": "2023-06-23T08:47:58.506Z"
   },
   {
    "duration": 536,
    "start_time": "2023-06-23T08:48:18.996Z"
   },
   {
    "duration": 955,
    "start_time": "2023-06-23T08:48:52.458Z"
   },
   {
    "duration": 899,
    "start_time": "2023-06-23T08:49:47.448Z"
   },
   {
    "duration": 981,
    "start_time": "2023-06-23T08:50:19.139Z"
   },
   {
    "duration": 5,
    "start_time": "2023-06-23T08:51:53.574Z"
   },
   {
    "duration": 1773,
    "start_time": "2023-06-23T08:51:53.583Z"
   },
   {
    "duration": 3,
    "start_time": "2023-06-23T08:51:55.358Z"
   },
   {
    "duration": 1031,
    "start_time": "2023-06-23T08:51:55.363Z"
   },
   {
    "duration": 23,
    "start_time": "2023-06-23T08:51:56.396Z"
   },
   {
    "duration": 217,
    "start_time": "2023-06-23T08:51:56.429Z"
   },
   {
    "duration": 277,
    "start_time": "2023-06-23T08:51:56.648Z"
   },
   {
    "duration": 8,
    "start_time": "2023-06-23T08:51:56.927Z"
   },
   {
    "duration": 8,
    "start_time": "2023-06-23T08:51:56.937Z"
   },
   {
    "duration": 65,
    "start_time": "2023-06-23T08:51:56.947Z"
   },
   {
    "duration": 53,
    "start_time": "2023-06-23T08:51:57.014Z"
   },
   {
    "duration": 13,
    "start_time": "2023-06-23T08:51:57.069Z"
   },
   {
    "duration": 75,
    "start_time": "2023-06-23T08:51:57.084Z"
   },
   {
    "duration": 138,
    "start_time": "2023-06-23T08:51:57.161Z"
   },
   {
    "duration": 83,
    "start_time": "2023-06-23T08:51:57.301Z"
   },
   {
    "duration": 66,
    "start_time": "2023-06-23T08:51:57.390Z"
   },
   {
    "duration": 40,
    "start_time": "2023-06-23T08:51:57.458Z"
   },
   {
    "duration": 25,
    "start_time": "2023-06-23T08:51:57.499Z"
   },
   {
    "duration": 263,
    "start_time": "2023-06-23T08:51:57.526Z"
   },
   {
    "duration": 16,
    "start_time": "2023-06-23T08:51:57.791Z"
   },
   {
    "duration": 50,
    "start_time": "2023-06-23T08:51:57.808Z"
   },
   {
    "duration": 19,
    "start_time": "2023-06-23T08:51:57.860Z"
   },
   {
    "duration": 148,
    "start_time": "2023-06-23T08:51:57.881Z"
   },
   {
    "duration": 93,
    "start_time": "2023-06-23T08:51:58.033Z"
   },
   {
    "duration": 148,
    "start_time": "2023-06-23T08:51:58.128Z"
   },
   {
    "duration": 217,
    "start_time": "2023-06-23T08:51:58.279Z"
   },
   {
    "duration": 154,
    "start_time": "2023-06-23T08:51:58.498Z"
   },
   {
    "duration": 176,
    "start_time": "2023-06-23T08:51:58.654Z"
   },
   {
    "duration": 4,
    "start_time": "2023-06-23T08:51:58.833Z"
   },
   {
    "duration": 130,
    "start_time": "2023-06-23T08:51:58.839Z"
   },
   {
    "duration": 895,
    "start_time": "2023-06-23T08:51:58.970Z"
   },
   {
    "duration": 587,
    "start_time": "2023-06-23T08:51:59.867Z"
   },
   {
    "duration": 174,
    "start_time": "2023-06-23T08:52:00.456Z"
   },
   {
    "duration": 0,
    "start_time": "2023-06-23T08:52:00.635Z"
   },
   {
    "duration": 0,
    "start_time": "2023-06-23T08:52:00.639Z"
   },
   {
    "duration": 0,
    "start_time": "2023-06-23T08:52:00.640Z"
   },
   {
    "duration": 0,
    "start_time": "2023-06-23T08:52:00.641Z"
   },
   {
    "duration": 0,
    "start_time": "2023-06-23T08:52:00.642Z"
   },
   {
    "duration": 0,
    "start_time": "2023-06-23T08:52:00.643Z"
   },
   {
    "duration": 0,
    "start_time": "2023-06-23T08:52:00.644Z"
   },
   {
    "duration": 1818,
    "start_time": "2023-06-23T08:52:47.202Z"
   },
   {
    "duration": 1973,
    "start_time": "2023-06-23T08:52:59.240Z"
   },
   {
    "duration": 18,
    "start_time": "2023-06-23T08:53:16.635Z"
   },
   {
    "duration": 172,
    "start_time": "2023-06-23T08:53:19.722Z"
   },
   {
    "duration": 4,
    "start_time": "2023-06-23T08:53:27.652Z"
   },
   {
    "duration": 2087,
    "start_time": "2023-06-23T08:53:27.658Z"
   },
   {
    "duration": 5,
    "start_time": "2023-06-23T08:53:29.747Z"
   },
   {
    "duration": 1152,
    "start_time": "2023-06-23T08:53:29.754Z"
   },
   {
    "duration": 19,
    "start_time": "2023-06-23T08:53:30.909Z"
   },
   {
    "duration": 347,
    "start_time": "2023-06-23T08:53:30.930Z"
   },
   {
    "duration": 373,
    "start_time": "2023-06-23T08:53:31.279Z"
   },
   {
    "duration": 32,
    "start_time": "2023-06-23T08:53:31.654Z"
   },
   {
    "duration": 66,
    "start_time": "2023-06-23T08:53:31.690Z"
   },
   {
    "duration": 83,
    "start_time": "2023-06-23T08:53:31.757Z"
   },
   {
    "duration": 86,
    "start_time": "2023-06-23T08:53:31.842Z"
   },
   {
    "duration": 17,
    "start_time": "2023-06-23T08:53:31.930Z"
   },
   {
    "duration": 53,
    "start_time": "2023-06-23T08:53:31.949Z"
   },
   {
    "duration": 135,
    "start_time": "2023-06-23T08:53:32.007Z"
   },
   {
    "duration": 17,
    "start_time": "2023-06-23T08:53:32.143Z"
   },
   {
    "duration": 51,
    "start_time": "2023-06-23T08:53:32.161Z"
   },
   {
    "duration": 48,
    "start_time": "2023-06-23T08:53:32.214Z"
   },
   {
    "duration": 44,
    "start_time": "2023-06-23T08:53:32.264Z"
   },
   {
    "duration": 328,
    "start_time": "2023-06-23T08:53:32.310Z"
   },
   {
    "duration": 14,
    "start_time": "2023-06-23T08:53:32.640Z"
   },
   {
    "duration": 32,
    "start_time": "2023-06-23T08:53:32.656Z"
   },
   {
    "duration": 36,
    "start_time": "2023-06-23T08:53:32.690Z"
   },
   {
    "duration": 122,
    "start_time": "2023-06-23T08:53:32.728Z"
   },
   {
    "duration": 111,
    "start_time": "2023-06-23T08:53:32.852Z"
   },
   {
    "duration": 201,
    "start_time": "2023-06-23T08:53:32.965Z"
   },
   {
    "duration": 230,
    "start_time": "2023-06-23T08:53:33.167Z"
   },
   {
    "duration": 168,
    "start_time": "2023-06-23T08:53:33.398Z"
   },
   {
    "duration": 200,
    "start_time": "2023-06-23T08:53:33.568Z"
   },
   {
    "duration": 21,
    "start_time": "2023-06-23T08:53:33.769Z"
   },
   {
    "duration": 184,
    "start_time": "2023-06-23T08:53:33.792Z"
   },
   {
    "duration": 1034,
    "start_time": "2023-06-23T08:53:33.977Z"
   },
   {
    "duration": 580,
    "start_time": "2023-06-23T08:53:35.014Z"
   },
   {
    "duration": 1842,
    "start_time": "2023-06-23T08:53:35.596Z"
   },
   {
    "duration": 23,
    "start_time": "2023-06-23T08:53:37.440Z"
   },
   {
    "duration": 180,
    "start_time": "2023-06-23T08:53:37.476Z"
   },
   {
    "duration": 49820,
    "start_time": "2023-06-23T08:53:37.658Z"
   },
   {
    "duration": 57466,
    "start_time": "2023-06-23T08:54:27.485Z"
   },
   {
    "duration": 647,
    "start_time": "2023-06-23T08:55:24.953Z"
   },
   {
    "duration": 831381,
    "start_time": "2023-06-23T08:55:25.610Z"
   },
   {
    "duration": 138810,
    "start_time": "2023-06-23T09:09:16.996Z"
   },
   {
    "duration": 0,
    "start_time": "2023-06-23T09:11:35.832Z"
   },
   {
    "duration": 29464,
    "start_time": "2023-06-23T09:11:41.344Z"
   },
   {
    "duration": 259,
    "start_time": "2023-06-23T09:12:28.056Z"
   },
   {
    "duration": 4023,
    "start_time": "2023-06-23T09:12:33.931Z"
   },
   {
    "duration": 4041,
    "start_time": "2023-06-23T09:13:02.145Z"
   },
   {
    "duration": 6925,
    "start_time": "2023-06-23T09:13:25.222Z"
   },
   {
    "duration": 11649,
    "start_time": "2023-06-23T09:13:53.315Z"
   },
   {
    "duration": 15641,
    "start_time": "2023-06-23T09:18:06.653Z"
   },
   {
    "duration": 34960,
    "start_time": "2023-06-23T09:18:47.400Z"
   },
   {
    "duration": 86401,
    "start_time": "2023-06-23T09:20:45.317Z"
   },
   {
    "duration": 192045,
    "start_time": "2023-06-23T09:23:13.338Z"
   },
   {
    "duration": 355220,
    "start_time": "2023-06-23T09:44:10.314Z"
   },
   {
    "duration": 738859,
    "start_time": "2023-06-23T09:50:09.360Z"
   },
   {
    "duration": 11,
    "start_time": "2023-06-23T11:22:51.577Z"
   },
   {
    "duration": 2214,
    "start_time": "2023-06-23T11:22:51.590Z"
   },
   {
    "duration": 16,
    "start_time": "2023-06-23T11:22:53.806Z"
   },
   {
    "duration": 1069,
    "start_time": "2023-06-23T11:22:53.824Z"
   },
   {
    "duration": 32,
    "start_time": "2023-06-23T11:22:54.900Z"
   },
   {
    "duration": 224,
    "start_time": "2023-06-23T11:22:54.934Z"
   },
   {
    "duration": 305,
    "start_time": "2023-06-23T11:22:55.159Z"
   },
   {
    "duration": 12,
    "start_time": "2023-06-23T11:22:55.466Z"
   },
   {
    "duration": 51,
    "start_time": "2023-06-23T11:22:55.487Z"
   },
   {
    "duration": 42,
    "start_time": "2023-06-23T11:22:55.539Z"
   },
   {
    "duration": 111,
    "start_time": "2023-06-23T11:22:55.583Z"
   },
   {
    "duration": 15,
    "start_time": "2023-06-23T11:22:55.695Z"
   },
   {
    "duration": 106,
    "start_time": "2023-06-23T11:22:55.712Z"
   },
   {
    "duration": 133,
    "start_time": "2023-06-23T11:22:55.832Z"
   },
   {
    "duration": 36,
    "start_time": "2023-06-23T11:22:55.967Z"
   },
   {
    "duration": 62,
    "start_time": "2023-06-23T11:22:56.004Z"
   },
   {
    "duration": 32,
    "start_time": "2023-06-23T11:22:56.068Z"
   },
   {
    "duration": 50,
    "start_time": "2023-06-23T11:22:56.101Z"
   },
   {
    "duration": 279,
    "start_time": "2023-06-23T11:22:56.153Z"
   },
   {
    "duration": 16,
    "start_time": "2023-06-23T11:22:56.433Z"
   },
   {
    "duration": 72,
    "start_time": "2023-06-23T11:22:56.450Z"
   },
   {
    "duration": 41,
    "start_time": "2023-06-23T11:22:56.525Z"
   },
   {
    "duration": 186,
    "start_time": "2023-06-23T11:22:56.567Z"
   },
   {
    "duration": 165,
    "start_time": "2023-06-23T11:22:56.757Z"
   },
   {
    "duration": 248,
    "start_time": "2023-06-23T11:22:56.923Z"
   },
   {
    "duration": 242,
    "start_time": "2023-06-23T11:22:57.172Z"
   },
   {
    "duration": 161,
    "start_time": "2023-06-23T11:22:57.416Z"
   },
   {
    "duration": 171,
    "start_time": "2023-06-23T11:22:57.579Z"
   },
   {
    "duration": 4,
    "start_time": "2023-06-23T11:22:57.752Z"
   },
   {
    "duration": 175,
    "start_time": "2023-06-23T11:22:57.758Z"
   },
   {
    "duration": 979,
    "start_time": "2023-06-23T11:22:57.937Z"
   },
   {
    "duration": 606,
    "start_time": "2023-06-23T11:22:58.918Z"
   },
   {
    "duration": 1812,
    "start_time": "2023-06-23T11:22:59.526Z"
   },
   {
    "duration": 54,
    "start_time": "2023-06-23T11:23:01.339Z"
   },
   {
    "duration": 234,
    "start_time": "2023-06-23T11:23:01.395Z"
   },
   {
    "duration": 34426,
    "start_time": "2023-06-23T11:23:01.632Z"
   },
   {
    "duration": 173223,
    "start_time": "2023-06-23T11:23:36.060Z"
   },
   {
    "duration": 618,
    "start_time": "2023-06-23T11:26:29.285Z"
   },
   {
    "duration": 915234,
    "start_time": "2023-06-23T11:26:29.909Z"
   },
   {
    "duration": 236740,
    "start_time": "2023-06-23T11:41:45.145Z"
   },
   {
    "duration": 6517,
    "start_time": "2023-06-23T11:49:05.816Z"
   },
   {
    "duration": 5048,
    "start_time": "2023-06-23T11:49:58.153Z"
   },
   {
    "duration": 5151,
    "start_time": "2023-06-23T11:51:06.414Z"
   },
   {
    "duration": 3082,
    "start_time": "2023-06-23T17:27:12.824Z"
   },
   {
    "duration": 4,
    "start_time": "2023-06-23T17:27:28.910Z"
   },
   {
    "duration": 1828,
    "start_time": "2023-06-23T17:27:28.916Z"
   },
   {
    "duration": 10,
    "start_time": "2023-06-23T17:27:30.746Z"
   },
   {
    "duration": 3192,
    "start_time": "2023-06-23T17:27:30.758Z"
   },
   {
    "duration": 16,
    "start_time": "2023-06-23T17:27:33.952Z"
   },
   {
    "duration": 136,
    "start_time": "2023-06-23T17:27:33.970Z"
   },
   {
    "duration": 178,
    "start_time": "2023-06-23T17:27:34.107Z"
   },
   {
    "duration": 5,
    "start_time": "2023-06-23T17:27:34.287Z"
   },
   {
    "duration": 9,
    "start_time": "2023-06-23T17:27:34.293Z"
   },
   {
    "duration": 52,
    "start_time": "2023-06-23T17:27:34.303Z"
   },
   {
    "duration": 50,
    "start_time": "2023-06-23T17:27:34.357Z"
   },
   {
    "duration": 9,
    "start_time": "2023-06-23T17:27:34.409Z"
   },
   {
    "duration": 57,
    "start_time": "2023-06-23T17:27:34.420Z"
   },
   {
    "duration": 97,
    "start_time": "2023-06-23T17:27:34.480Z"
   },
   {
    "duration": 16,
    "start_time": "2023-06-23T17:27:34.579Z"
   },
   {
    "duration": 21,
    "start_time": "2023-06-23T17:27:34.597Z"
   },
   {
    "duration": 62,
    "start_time": "2023-06-23T17:27:34.620Z"
   },
   {
    "duration": 13,
    "start_time": "2023-06-23T17:27:34.684Z"
   },
   {
    "duration": 213,
    "start_time": "2023-06-23T17:27:34.699Z"
   },
   {
    "duration": 12,
    "start_time": "2023-06-23T17:27:34.914Z"
   },
   {
    "duration": 36,
    "start_time": "2023-06-23T17:27:34.928Z"
   },
   {
    "duration": 19,
    "start_time": "2023-06-23T17:27:34.966Z"
   },
   {
    "duration": 93,
    "start_time": "2023-06-23T17:27:34.987Z"
   },
   {
    "duration": 90,
    "start_time": "2023-06-23T17:27:35.082Z"
   },
   {
    "duration": 146,
    "start_time": "2023-06-23T17:27:35.174Z"
   },
   {
    "duration": 171,
    "start_time": "2023-06-23T17:27:35.321Z"
   },
   {
    "duration": 133,
    "start_time": "2023-06-23T17:27:35.494Z"
   },
   {
    "duration": 158,
    "start_time": "2023-06-23T17:27:35.629Z"
   },
   {
    "duration": 4,
    "start_time": "2023-06-23T17:27:35.789Z"
   },
   {
    "duration": 123,
    "start_time": "2023-06-23T17:27:35.795Z"
   },
   {
    "duration": 535,
    "start_time": "2023-06-23T17:27:35.920Z"
   },
   {
    "duration": 461,
    "start_time": "2023-06-23T17:27:36.457Z"
   },
   {
    "duration": 1110,
    "start_time": "2023-06-23T17:27:36.920Z"
   },
   {
    "duration": 29,
    "start_time": "2023-06-23T17:27:38.032Z"
   },
   {
    "duration": 170,
    "start_time": "2023-06-23T17:27:38.062Z"
   },
   {
    "duration": 29599,
    "start_time": "2023-06-23T17:27:38.234Z"
   },
   {
    "duration": 153233,
    "start_time": "2023-06-23T17:28:07.835Z"
   },
   {
    "duration": 488,
    "start_time": "2023-06-23T17:30:41.070Z"
   },
   {
    "duration": 4490,
    "start_time": "2023-06-23T17:46:22.768Z"
   },
   {
    "duration": 0,
    "start_time": "2023-06-23T17:46:27.260Z"
   },
   {
    "duration": 1190111,
    "start_time": "2023-06-23T17:47:15.944Z"
   },
   {
    "duration": 4918,
    "start_time": "2023-06-23T18:11:30.938Z"
   },
   {
    "duration": 4542,
    "start_time": "2023-06-23T18:12:17.719Z"
   },
   {
    "duration": 4860,
    "start_time": "2023-06-23T18:12:45.107Z"
   },
   {
    "duration": 5049,
    "start_time": "2023-06-23T18:14:34.812Z"
   },
   {
    "duration": 10919,
    "start_time": "2023-06-23T18:14:56.962Z"
   },
   {
    "duration": 4,
    "start_time": "2023-06-23T18:19:45.708Z"
   },
   {
    "duration": 1572,
    "start_time": "2023-06-23T18:19:45.714Z"
   },
   {
    "duration": 5,
    "start_time": "2023-06-23T18:19:47.288Z"
   },
   {
    "duration": 854,
    "start_time": "2023-06-23T18:19:47.294Z"
   },
   {
    "duration": 17,
    "start_time": "2023-06-23T18:19:48.150Z"
   },
   {
    "duration": 134,
    "start_time": "2023-06-23T18:19:48.168Z"
   },
   {
    "duration": 170,
    "start_time": "2023-06-23T18:19:48.304Z"
   },
   {
    "duration": 5,
    "start_time": "2023-06-23T18:19:48.476Z"
   },
   {
    "duration": 9,
    "start_time": "2023-06-23T18:19:48.482Z"
   },
   {
    "duration": 33,
    "start_time": "2023-06-23T18:19:48.492Z"
   },
   {
    "duration": 65,
    "start_time": "2023-06-23T18:19:48.526Z"
   },
   {
    "duration": 7,
    "start_time": "2023-06-23T18:19:48.593Z"
   },
   {
    "duration": 32,
    "start_time": "2023-06-23T18:19:48.601Z"
   },
   {
    "duration": 85,
    "start_time": "2023-06-23T18:19:48.657Z"
   },
   {
    "duration": 26,
    "start_time": "2023-06-23T18:19:48.743Z"
   },
   {
    "duration": 20,
    "start_time": "2023-06-23T18:19:48.771Z"
   },
   {
    "duration": 29,
    "start_time": "2023-06-23T18:19:48.793Z"
   },
   {
    "duration": 37,
    "start_time": "2023-06-23T18:19:48.824Z"
   },
   {
    "duration": 204,
    "start_time": "2023-06-23T18:19:48.863Z"
   },
   {
    "duration": 11,
    "start_time": "2023-06-23T18:19:49.069Z"
   },
   {
    "duration": 20,
    "start_time": "2023-06-23T18:19:49.082Z"
   },
   {
    "duration": 17,
    "start_time": "2023-06-23T18:19:49.104Z"
   },
   {
    "duration": 96,
    "start_time": "2023-06-23T18:19:49.122Z"
   },
   {
    "duration": 76,
    "start_time": "2023-06-23T18:19:49.219Z"
   },
   {
    "duration": 133,
    "start_time": "2023-06-23T18:19:49.297Z"
   },
   {
    "duration": 158,
    "start_time": "2023-06-23T18:19:49.432Z"
   },
   {
    "duration": 123,
    "start_time": "2023-06-23T18:19:49.592Z"
   },
   {
    "duration": 137,
    "start_time": "2023-06-23T18:19:49.717Z"
   },
   {
    "duration": 4,
    "start_time": "2023-06-23T18:19:49.856Z"
   },
   {
    "duration": 111,
    "start_time": "2023-06-23T18:19:49.862Z"
   },
   {
    "duration": 480,
    "start_time": "2023-06-23T18:19:49.975Z"
   },
   {
    "duration": 435,
    "start_time": "2023-06-23T18:19:50.456Z"
   },
   {
    "duration": 1082,
    "start_time": "2023-06-23T18:19:50.893Z"
   },
   {
    "duration": 25,
    "start_time": "2023-06-23T18:19:51.977Z"
   },
   {
    "duration": 169,
    "start_time": "2023-06-23T18:19:52.004Z"
   },
   {
    "duration": 29260,
    "start_time": "2023-06-23T18:19:52.174Z"
   },
   {
    "duration": 145101,
    "start_time": "2023-06-23T18:20:21.436Z"
   },
   {
    "duration": 519,
    "start_time": "2023-06-23T18:22:46.539Z"
   },
   {
    "duration": 1747398,
    "start_time": "2023-06-23T18:22:47.060Z"
   },
   {
    "duration": 399734,
    "start_time": "2023-06-23T18:51:54.460Z"
   }
  ],
  "kernelspec": {
   "display_name": "Python 3 (ipykernel)",
   "language": "python",
   "name": "python3"
  },
  "language_info": {
   "codemirror_mode": {
    "name": "ipython",
    "version": 3
   },
   "file_extension": ".py",
   "mimetype": "text/x-python",
   "name": "python",
   "nbconvert_exporter": "python",
   "pygments_lexer": "ipython3",
   "version": "3.9.5"
  },
  "toc": {
   "base_numbering": 1,
   "nav_menu": {},
   "number_sections": true,
   "sideBar": true,
   "skip_h1_title": true,
   "title_cell": "Table of Contents",
   "title_sidebar": "Contents",
   "toc_cell": false,
   "toc_position": {
    "height": "calc(100% - 180px)",
    "left": "10px",
    "top": "150px",
    "width": "276.51px"
   },
   "toc_section_display": true,
   "toc_window_display": true
  }
 },
 "nbformat": 4,
 "nbformat_minor": 2
}
