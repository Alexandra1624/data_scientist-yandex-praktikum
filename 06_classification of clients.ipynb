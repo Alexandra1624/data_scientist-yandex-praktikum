{
 "cells": [
  {
   "cell_type": "markdown",
   "metadata": {},
   "source": [
    "# Рекомендация тарифов"
   ]
  },
  {
   "cell_type": "markdown",
   "metadata": {},
   "source": [
    "В вашем распоряжении данные о поведении клиентов, которые уже перешли на эти тарифы (из проекта курса «Статистический анализ данных»). Нужно построить модель для задачи классификации, которая выберет подходящий тариф. Предобработка данных не понадобится — вы её уже сделали.\n",
    "\n",
    "Постройте модель с максимально большим значением *accuracy*. Чтобы сдать проект успешно, нужно довести долю правильных ответов по крайней мере до 0.75. Проверьте *accuracy* на тестовой выборке самостоятельно."
   ]
  },
  {
   "cell_type": "markdown",
   "metadata": {},
   "source": [
    "## Откройте и изучите файл"
   ]
  },
  {
   "cell_type": "code",
   "execution_count": 1,
   "metadata": {},
   "outputs": [],
   "source": [
    "# Импорт библиотек\n",
    "import numpy as np\n",
    "import pandas as pd\n",
    "\n",
    "from joblib import dump\n",
    "\n",
    "from sklearn.metrics import accuracy_score\n",
    "from sklearn.metrics import precision_score\n",
    "from sklearn.metrics import recall_score\n",
    "\n",
    "from sklearn.model_selection import train_test_split\n",
    "\n",
    "from sklearn.ensemble import RandomForestClassifier\n",
    "from sklearn.linear_model import LogisticRegression\n",
    "from sklearn.tree import DecisionTreeClassifier"
   ]
  },
  {
   "cell_type": "code",
   "execution_count": 2,
   "metadata": {},
   "outputs": [],
   "source": [
    " # чтение файла с данными\n",
    "try:\n",
    "    data = pd.read_csv('/datasets/users_behavior.csv')\n",
    "except:\n",
    "    data = pd.read_csv('C:/Users/Alexandra/datasets/users_behavior.csv')"
   ]
  },
  {
   "cell_type": "code",
   "execution_count": 3,
   "metadata": {
    "scrolled": false
   },
   "outputs": [
    {
     "data": {
      "text/html": [
       "<div>\n",
       "<style scoped>\n",
       "    .dataframe tbody tr th:only-of-type {\n",
       "        vertical-align: middle;\n",
       "    }\n",
       "\n",
       "    .dataframe tbody tr th {\n",
       "        vertical-align: top;\n",
       "    }\n",
       "\n",
       "    .dataframe thead th {\n",
       "        text-align: right;\n",
       "    }\n",
       "</style>\n",
       "<table border=\"1\" class=\"dataframe\">\n",
       "  <thead>\n",
       "    <tr style=\"text-align: right;\">\n",
       "      <th></th>\n",
       "      <th>calls</th>\n",
       "      <th>minutes</th>\n",
       "      <th>messages</th>\n",
       "      <th>mb_used</th>\n",
       "      <th>is_ultra</th>\n",
       "    </tr>\n",
       "  </thead>\n",
       "  <tbody>\n",
       "    <tr>\n",
       "      <th>0</th>\n",
       "      <td>40.0</td>\n",
       "      <td>311.90</td>\n",
       "      <td>83.0</td>\n",
       "      <td>19915.42</td>\n",
       "      <td>0</td>\n",
       "    </tr>\n",
       "    <tr>\n",
       "      <th>1</th>\n",
       "      <td>85.0</td>\n",
       "      <td>516.75</td>\n",
       "      <td>56.0</td>\n",
       "      <td>22696.96</td>\n",
       "      <td>0</td>\n",
       "    </tr>\n",
       "    <tr>\n",
       "      <th>2</th>\n",
       "      <td>77.0</td>\n",
       "      <td>467.66</td>\n",
       "      <td>86.0</td>\n",
       "      <td>21060.45</td>\n",
       "      <td>0</td>\n",
       "    </tr>\n",
       "    <tr>\n",
       "      <th>3</th>\n",
       "      <td>106.0</td>\n",
       "      <td>745.53</td>\n",
       "      <td>81.0</td>\n",
       "      <td>8437.39</td>\n",
       "      <td>1</td>\n",
       "    </tr>\n",
       "    <tr>\n",
       "      <th>4</th>\n",
       "      <td>66.0</td>\n",
       "      <td>418.74</td>\n",
       "      <td>1.0</td>\n",
       "      <td>14502.75</td>\n",
       "      <td>0</td>\n",
       "    </tr>\n",
       "    <tr>\n",
       "      <th>5</th>\n",
       "      <td>58.0</td>\n",
       "      <td>344.56</td>\n",
       "      <td>21.0</td>\n",
       "      <td>15823.37</td>\n",
       "      <td>0</td>\n",
       "    </tr>\n",
       "    <tr>\n",
       "      <th>6</th>\n",
       "      <td>57.0</td>\n",
       "      <td>431.64</td>\n",
       "      <td>20.0</td>\n",
       "      <td>3738.90</td>\n",
       "      <td>1</td>\n",
       "    </tr>\n",
       "    <tr>\n",
       "      <th>7</th>\n",
       "      <td>15.0</td>\n",
       "      <td>132.40</td>\n",
       "      <td>6.0</td>\n",
       "      <td>21911.60</td>\n",
       "      <td>0</td>\n",
       "    </tr>\n",
       "    <tr>\n",
       "      <th>8</th>\n",
       "      <td>7.0</td>\n",
       "      <td>43.39</td>\n",
       "      <td>3.0</td>\n",
       "      <td>2538.67</td>\n",
       "      <td>1</td>\n",
       "    </tr>\n",
       "    <tr>\n",
       "      <th>9</th>\n",
       "      <td>90.0</td>\n",
       "      <td>665.41</td>\n",
       "      <td>38.0</td>\n",
       "      <td>17358.61</td>\n",
       "      <td>0</td>\n",
       "    </tr>\n",
       "  </tbody>\n",
       "</table>\n",
       "</div>"
      ],
      "text/plain": [
       "   calls  minutes  messages   mb_used  is_ultra\n",
       "0   40.0   311.90      83.0  19915.42         0\n",
       "1   85.0   516.75      56.0  22696.96         0\n",
       "2   77.0   467.66      86.0  21060.45         0\n",
       "3  106.0   745.53      81.0   8437.39         1\n",
       "4   66.0   418.74       1.0  14502.75         0\n",
       "5   58.0   344.56      21.0  15823.37         0\n",
       "6   57.0   431.64      20.0   3738.90         1\n",
       "7   15.0   132.40       6.0  21911.60         0\n",
       "8    7.0    43.39       3.0   2538.67         1\n",
       "9   90.0   665.41      38.0  17358.61         0"
      ]
     },
     "execution_count": 3,
     "metadata": {},
     "output_type": "execute_result"
    }
   ],
   "source": [
    "#Выводим первые 10 строчек датафрейма data на экран\n",
    "data.head(10)"
   ]
  },
  {
   "cell_type": "code",
   "execution_count": 4,
   "metadata": {
    "scrolled": true
   },
   "outputs": [
    {
     "name": "stdout",
     "output_type": "stream",
     "text": [
      "<class 'pandas.core.frame.DataFrame'>\n",
      "RangeIndex: 3214 entries, 0 to 3213\n",
      "Data columns (total 5 columns):\n",
      " #   Column    Non-Null Count  Dtype  \n",
      "---  ------    --------------  -----  \n",
      " 0   calls     3214 non-null   float64\n",
      " 1   minutes   3214 non-null   float64\n",
      " 2   messages  3214 non-null   float64\n",
      " 3   mb_used   3214 non-null   float64\n",
      " 4   is_ultra  3214 non-null   int64  \n",
      "dtypes: float64(4), int64(1)\n",
      "memory usage: 125.7 KB\n"
     ]
    }
   ],
   "source": [
    "#Выводим основную информацию о датафрейме\n",
    "data.info()"
   ]
  },
  {
   "cell_type": "markdown",
   "metadata": {},
   "source": [
    "**Вывод:**\n",
    "\n",
    "В датасете 3214 записи, 5 колонок. У четырех из них формат **float64**, у столбца **is_ultra**  - целочисленный тип данных."
   ]
  },
  {
   "cell_type": "markdown",
   "metadata": {},
   "source": [
    "### Предобработка данных"
   ]
  },
  {
   "cell_type": "code",
   "execution_count": 5,
   "metadata": {},
   "outputs": [
    {
     "data": {
      "text/plain": [
       "0"
      ]
     },
     "execution_count": 5,
     "metadata": {},
     "output_type": "execute_result"
    }
   ],
   "source": [
    "#Проверим дубликаты\n",
    "data.duplicated().sum()"
   ]
  },
  {
   "cell_type": "code",
   "execution_count": 6,
   "metadata": {},
   "outputs": [
    {
     "data": {
      "text/plain": [
       "calls       0\n",
       "minutes     0\n",
       "messages    0\n",
       "mb_used     0\n",
       "is_ultra    0\n",
       "dtype: int64"
      ]
     },
     "execution_count": 6,
     "metadata": {},
     "output_type": "execute_result"
    }
   ],
   "source": [
    "data.isna().sum() # Выводим количество пропущенных значений для каждого столбца."
   ]
  },
  {
   "cell_type": "code",
   "execution_count": 7,
   "metadata": {
    "scrolled": true
   },
   "outputs": [
    {
     "data": {
      "text/plain": [
       "array([ 83.,  56.,  86.,  81.,   1.,  21.,  20.,   6.,   3.,  38.,  13.,\n",
       "        61.,  16.,   0.,   4.,  90.,  31.,  97.,  66.,  19.,  30.,  52.,\n",
       "        48.,  44.,  27.,   7.,   9.,  43.,  33.,  34.,  10., 106.,  65.,\n",
       "        17.,  11.,  29.,  75.,  47.,  49.,  64., 144.,  99.,  46.,  24.,\n",
       "        22.,  55.,   8.,  93., 153.,  37.,  69.,  18.,  78.,  42.,  82.,\n",
       "        62.,  40.,  57.,  60.,  58., 123.,  26.,  51., 109.,   5.,  39.,\n",
       "        35.,  79.,  12., 182.,  36., 126.,  59., 102.,  14., 133., 110.,\n",
       "        54.,  72., 103.,  23., 108.,  92.,  73.,  15.,  25.,  91., 113.,\n",
       "       105.,  85., 191.,  32.,  50., 145.,  41., 150.,  53., 171., 176.,\n",
       "        68.,  28.,  76.,  71., 118.,  63., 132.,  84.,   2.,  67., 111.,\n",
       "       101.,  96., 112.,  95.,  89., 143.,  45.,  70.,  77.,  94., 137.,\n",
       "       107.,  98., 141., 124., 129., 114.,  87.,  80., 117., 138., 142.,\n",
       "       134., 128., 180., 115., 154.,  74., 185., 121., 127., 116.,  88.,\n",
       "       140., 201., 100., 169., 155., 135., 151., 139., 131., 188., 157.,\n",
       "       148., 104., 224., 158., 211., 120., 149., 190., 173., 172., 146.,\n",
       "       162., 119., 178., 223., 130., 122., 159., 181., 125., 152., 197.,\n",
       "       136., 165., 183., 170.])"
      ]
     },
     "execution_count": 7,
     "metadata": {},
     "output_type": "execute_result"
    }
   ],
   "source": [
    "data['messages'].unique() #уникальные значения messages содержат только целочисленные значения"
   ]
  },
  {
   "cell_type": "code",
   "execution_count": 8,
   "metadata": {},
   "outputs": [
    {
     "data": {
      "text/plain": [
       "array([ 40.,  85.,  77., 106.,  66.,  58.,  57.,  15.,   7.,  90.,  82.,\n",
       "        45.,  51.,  56., 108.,   6.,   2.,  26.,  79.,  49.,  93.,  48.,\n",
       "        11.,  53.,  81., 154.,  37.,  50.,  41.,  10.,  71.,  65., 110.,\n",
       "       120.,  76.,  64.,  23.,  34.,  98.,  35.,   5.,  70., 124., 129.,\n",
       "        67.,   0.,  13.,  68.,  91., 121., 114., 125.,  80.,  33., 138.,\n",
       "        84.,  78.,  69.,  63.,  72.,  73.,   1.,  43., 118.,  74.,  83.,\n",
       "       141., 117.,  54., 101.,  29.,   3., 107.,  55.,  47., 158.,  87.,\n",
       "        28.,  59.,  52.,  44.,  17., 111., 109.,  14.,  92.,  94.,  46.,\n",
       "       133.,  75.,  38.,  60., 100.,  31.,  61.,  89.,  27., 196.,  24.,\n",
       "        99.,  62., 162., 116., 123.,  18.,  21.,  12.,  86.,  32.,  95.,\n",
       "        39.,  30.,  25.,  36.,  42., 113.,   9., 183., 156., 127.,  96.,\n",
       "        16.,   4., 102.,  97.,  20., 104., 144.,  19., 132., 131., 136.,\n",
       "        88., 115., 176., 160., 164., 169.,  22., 105., 152., 177., 161.,\n",
       "       112.,   8., 126., 178., 103., 130., 198., 119., 137., 150., 122.,\n",
       "       146., 151., 157., 203., 143., 148., 128., 185., 167., 181., 184.,\n",
       "       171., 153., 140., 159., 188., 134., 189., 182., 173., 172., 145.,\n",
       "       180., 155., 174., 244., 165., 163., 142., 168.])"
      ]
     },
     "execution_count": 8,
     "metadata": {},
     "output_type": "execute_result"
    }
   ],
   "source": [
    "data['calls'].unique() #уникальные значения calls содержат только целочисленные значения"
   ]
  },
  {
   "cell_type": "code",
   "execution_count": 9,
   "metadata": {},
   "outputs": [],
   "source": [
    "#Меняем тип значений в столбцах messages и calls на целочисленные\n",
    "data['messages'] = data['messages'].astype(int)\n",
    "data['calls'] = data['calls'].astype(int)"
   ]
  },
  {
   "cell_type": "code",
   "execution_count": 10,
   "metadata": {
    "scrolled": true
   },
   "outputs": [
    {
     "data": {
      "text/html": [
       "<div>\n",
       "<style scoped>\n",
       "    .dataframe tbody tr th:only-of-type {\n",
       "        vertical-align: middle;\n",
       "    }\n",
       "\n",
       "    .dataframe tbody tr th {\n",
       "        vertical-align: top;\n",
       "    }\n",
       "\n",
       "    .dataframe thead th {\n",
       "        text-align: right;\n",
       "    }\n",
       "</style>\n",
       "<table border=\"1\" class=\"dataframe\">\n",
       "  <thead>\n",
       "    <tr style=\"text-align: right;\">\n",
       "      <th></th>\n",
       "      <th>calls</th>\n",
       "      <th>minutes</th>\n",
       "      <th>messages</th>\n",
       "      <th>mb_used</th>\n",
       "      <th>is_ultra</th>\n",
       "    </tr>\n",
       "  </thead>\n",
       "  <tbody>\n",
       "    <tr>\n",
       "      <th>0</th>\n",
       "      <td>40</td>\n",
       "      <td>311.90</td>\n",
       "      <td>83</td>\n",
       "      <td>19915.42</td>\n",
       "      <td>0</td>\n",
       "    </tr>\n",
       "    <tr>\n",
       "      <th>1</th>\n",
       "      <td>85</td>\n",
       "      <td>516.75</td>\n",
       "      <td>56</td>\n",
       "      <td>22696.96</td>\n",
       "      <td>0</td>\n",
       "    </tr>\n",
       "    <tr>\n",
       "      <th>2</th>\n",
       "      <td>77</td>\n",
       "      <td>467.66</td>\n",
       "      <td>86</td>\n",
       "      <td>21060.45</td>\n",
       "      <td>0</td>\n",
       "    </tr>\n",
       "    <tr>\n",
       "      <th>3</th>\n",
       "      <td>106</td>\n",
       "      <td>745.53</td>\n",
       "      <td>81</td>\n",
       "      <td>8437.39</td>\n",
       "      <td>1</td>\n",
       "    </tr>\n",
       "    <tr>\n",
       "      <th>4</th>\n",
       "      <td>66</td>\n",
       "      <td>418.74</td>\n",
       "      <td>1</td>\n",
       "      <td>14502.75</td>\n",
       "      <td>0</td>\n",
       "    </tr>\n",
       "    <tr>\n",
       "      <th>5</th>\n",
       "      <td>58</td>\n",
       "      <td>344.56</td>\n",
       "      <td>21</td>\n",
       "      <td>15823.37</td>\n",
       "      <td>0</td>\n",
       "    </tr>\n",
       "    <tr>\n",
       "      <th>6</th>\n",
       "      <td>57</td>\n",
       "      <td>431.64</td>\n",
       "      <td>20</td>\n",
       "      <td>3738.90</td>\n",
       "      <td>1</td>\n",
       "    </tr>\n",
       "    <tr>\n",
       "      <th>7</th>\n",
       "      <td>15</td>\n",
       "      <td>132.40</td>\n",
       "      <td>6</td>\n",
       "      <td>21911.60</td>\n",
       "      <td>0</td>\n",
       "    </tr>\n",
       "    <tr>\n",
       "      <th>8</th>\n",
       "      <td>7</td>\n",
       "      <td>43.39</td>\n",
       "      <td>3</td>\n",
       "      <td>2538.67</td>\n",
       "      <td>1</td>\n",
       "    </tr>\n",
       "    <tr>\n",
       "      <th>9</th>\n",
       "      <td>90</td>\n",
       "      <td>665.41</td>\n",
       "      <td>38</td>\n",
       "      <td>17358.61</td>\n",
       "      <td>0</td>\n",
       "    </tr>\n",
       "  </tbody>\n",
       "</table>\n",
       "</div>"
      ],
      "text/plain": [
       "   calls  minutes  messages   mb_used  is_ultra\n",
       "0     40   311.90        83  19915.42         0\n",
       "1     85   516.75        56  22696.96         0\n",
       "2     77   467.66        86  21060.45         0\n",
       "3    106   745.53        81   8437.39         1\n",
       "4     66   418.74         1  14502.75         0\n",
       "5     58   344.56        21  15823.37         0\n",
       "6     57   431.64        20   3738.90         1\n",
       "7     15   132.40         6  21911.60         0\n",
       "8      7    43.39         3   2538.67         1\n",
       "9     90   665.41        38  17358.61         0"
      ]
     },
     "execution_count": 10,
     "metadata": {},
     "output_type": "execute_result"
    }
   ],
   "source": [
    "#Выводим первые 10 строчек датафрейма data на экран\n",
    "data.head(10)"
   ]
  },
  {
   "cell_type": "code",
   "execution_count": 11,
   "metadata": {},
   "outputs": [
    {
     "data": {
      "text/plain": [
       "array([0, 1])"
      ]
     },
     "execution_count": 11,
     "metadata": {},
     "output_type": "execute_result"
    }
   ],
   "source": [
    "data['is_ultra'].unique() #уникальные значения is_ultra"
   ]
  },
  {
   "cell_type": "markdown",
   "metadata": {},
   "source": [
    "**Вывод:**\n",
    "\n",
    "Полных дубликатов и пропущенных значений нет. Тип данных в столбцах ***messages и calls*** изменен на целочисленные.\n",
    "\n",
    "\n",
    "**Целевой признак** для нашего исследования - это столбец **is_ultra**. В этом столбце возможные значения **0** или **1**.  Стобец показывает, каким тарифом пользовался пользователь в течение месяца **(«Ультра» — 1, «Смарт» — 0)**.\n",
    "\n",
    "Целевой признак - категоральный, значит, будем решать задачу классификации. \n",
    "\n",
    "Эта задача относится к классу **«обучение с учителем»**. Проверим корреляцию у признаков."
   ]
  },
  {
   "cell_type": "code",
   "execution_count": 12,
   "metadata": {},
   "outputs": [
    {
     "data": {
      "image/png": "[encoded data removed]",
      "text/plain": [
       "<Figure size 432x288 with 2 Axes>"
      ]
     },
     "metadata": {
      "needs_background": "light"
     },
     "output_type": "display_data"
    }
   ],
   "source": [
    "import seaborn as sns \n",
    "\n",
    "df_plot = sns.heatmap(data.corr(), cmap=\"YlGnBu\", annot=True) "
   ]
  },
  {
   "cell_type": "markdown",
   "metadata": {},
   "source": [
    "**Вывод:**\n",
    "\n",
    "Столбцы minutes и calls имеют высокую корреляцию (0.98). Calls — количество звонков,\n",
    "minutes — суммарная длительность звонков в минутах. Чтобы избежать мультиколлениарности следует один из признаков удалить. Удалим calls.\n"
   ]
  },
  {
   "cell_type": "code",
   "execution_count": 13,
   "metadata": {},
   "outputs": [],
   "source": [
    "data = data.drop(['calls'], axis=1)"
   ]
  },
  {
   "cell_type": "markdown",
   "metadata": {},
   "source": [
    "## Разбейте данные на выборки"
   ]
  },
  {
   "cell_type": "code",
   "execution_count": 14,
   "metadata": {},
   "outputs": [],
   "source": [
    "features = data.drop(['is_ultra'], axis=1) # извлекаем данные без целевого признака\n",
    "target = data['is_ultra'] # извлекаем целевой признак"
   ]
  },
  {
   "cell_type": "markdown",
   "metadata": {},
   "source": [
    "Разбиваем исходный датасет на 3 части: обучающую, валидационную и тестовую в соотношении **60% 20% 20%**."
   ]
  },
  {
   "cell_type": "code",
   "execution_count": 15,
   "metadata": {},
   "outputs": [],
   "source": [
    "# Выбираем параметр random_state\n",
    "RANDOM_STATE = 5541123"
   ]
  },
  {
   "cell_type": "markdown",
   "metadata": {},
   "source": [
    "### Выделяем обучающей выборке 60%"
   ]
  },
  {
   "cell_type": "code",
   "execution_count": 16,
   "metadata": {},
   "outputs": [],
   "source": [
    "features_train, features_test, target_train, target_test = train_test_split(\n",
    "    features, target, test_size=0.4, random_state=RANDOM_STATE)"
   ]
  },
  {
   "cell_type": "code",
   "execution_count": 17,
   "metadata": {},
   "outputs": [
    {
     "name": "stdout",
     "output_type": "stream",
     "text": [
      "(1928, 3)\n",
      "(1928,)\n"
     ]
    }
   ],
   "source": [
    "# Проверяем размер обучающей выборки\n",
    "print(features_train.shape)\n",
    "print(target_train.shape)"
   ]
  },
  {
   "cell_type": "markdown",
   "metadata": {},
   "source": [
    "### Выделяем валидационной и тестовой выборкам по 20%"
   ]
  },
  {
   "cell_type": "code",
   "execution_count": 18,
   "metadata": {},
   "outputs": [],
   "source": [
    "features_valid, features_test, target_valid, target_test = train_test_split(\n",
    "    features_test, target_test, test_size=0.5, random_state=RANDOM_STATE)"
   ]
  },
  {
   "cell_type": "code",
   "execution_count": 19,
   "metadata": {},
   "outputs": [
    {
     "name": "stdout",
     "output_type": "stream",
     "text": [
      "(643, 3)\n",
      "(643,)\n"
     ]
    }
   ],
   "source": [
    "# Проверяем размер валидационной выборки\n",
    "print(features_valid.shape)\n",
    "print(target_valid.shape)"
   ]
  },
  {
   "cell_type": "code",
   "execution_count": 20,
   "metadata": {},
   "outputs": [
    {
     "name": "stdout",
     "output_type": "stream",
     "text": [
      "(643, 3)\n",
      "(643,)\n"
     ]
    }
   ],
   "source": [
    "# Проверяем размер тестовой выборки\n",
    "print(features_test.shape)\n",
    "print(target_test.shape)"
   ]
  },
  {
   "cell_type": "code",
   "execution_count": 21,
   "metadata": {},
   "outputs": [],
   "source": [
    "train, valid, test = np.split(data.sample(frac=1, random_state=821), [int(.6*len(data)), int(.8*len(data))])"
   ]
  },
  {
   "cell_type": "markdown",
   "metadata": {},
   "source": [
    "## Исследуйте модели"
   ]
  },
  {
   "cell_type": "markdown",
   "metadata": {},
   "source": [
    "Исследуем 3 изученные модели:\n",
    "- дерево решений\n",
    "- случайный лес\n",
    "- логистическую регрессию"
   ]
  },
  {
   "cell_type": "markdown",
   "metadata": {},
   "source": [
    "### Дерево решений"
   ]
  },
  {
   "cell_type": "code",
   "execution_count": 22,
   "metadata": {},
   "outputs": [
    {
     "name": "stdout",
     "output_type": "stream",
     "text": [
      "Точность 0.744945567651633 Глубина дерева 1\n",
      "Точность 0.7776049766718507 Глубина дерева 2\n",
      "Точность 0.7978227060653188 Глубина дерева 3\n",
      "Точность 0.7993779160186625 Глубина дерева 4\n",
      "Точность 0.8055987558320373 Глубина дерева 5\n",
      "Точность 0.807153965785381 Глубина дерева 6\n",
      "Точность 0.8055987558320373 Глубина дерева 7\n",
      "Точность 0.8087091757387247 Глубина дерева 8\n",
      "Точность 0.7962674961119751 Глубина дерева 9\n",
      "Точность 0.7947122861586314 Глубина дерева 10\n",
      "Точность 0.7791601866251944 Глубина дерева 11\n",
      "Точность 0.7636080870917574 Глубина дерева 12\n",
      "Точность 0.7698289269051322 Глубина дерева 13\n",
      "Точность 0.7682737169517885 Глубина дерева 14\n",
      "Точность 0.7402799377916018 Глубина дерева 15\n",
      "Точность 0.7433903576982893 Глубина дерева 16\n",
      "Точность 0.7480559875583204 Глубина дерева 17\n",
      "Точность 0.7309486780715396 Глубина дерева 18\n",
      "Точность 0.7371695178849145 Глубина дерева 19\n",
      "Точность 0.7231726283048211 Глубина дерева 20\n",
      "Точность 0.7200622083981337 Глубина дерева 21\n",
      "Точность 0.7200622083981337 Глубина дерева 22\n",
      "Точность 0.7325038880248833 Глубина дерева 23\n",
      "Точность 0.7278382581648523 Глубина дерева 24\n",
      "Точность 0.7200622083981337 Глубина дерева 25\n",
      "Точность 0.7200622083981337 Глубина дерева 26\n",
      "Точность 0.7200622083981337 Глубина дерева 27\n",
      "Точность 0.7200622083981337 Глубина дерева 28\n",
      "Точность 0.7200622083981337 Глубина дерева 29\n",
      "Точность 0.7200622083981337 Глубина дерева 30\n",
      "Точность 0.7200622083981337 Глубина дерева 31\n",
      "Точность 0.7200622083981337 Глубина дерева 32\n",
      "Точность 0.7200622083981337 Глубина дерева 33\n",
      "Точность 0.7200622083981337 Глубина дерева 34\n",
      "Точность 0.7200622083981337 Глубина дерева 35\n",
      "Точность 0.7200622083981337 Глубина дерева 36\n",
      "Точность 0.7200622083981337 Глубина дерева 37\n",
      "Точность 0.7200622083981337 Глубина дерева 38\n",
      "Точность 0.7200622083981337 Глубина дерева 39\n",
      "\n",
      "Лучшая точность 0.8087091757387247 Глубина дерева: 8\n"
     ]
    }
   ],
   "source": [
    "best_accuracy = 0\n",
    "best_depth = 0\n",
    "for depth in range(1, 40):\n",
    "    model = DecisionTreeClassifier(random_state=RANDOM_STATE, max_depth=depth) # инициализируйте модель DecisionTreeClassifier с параметром random_state=12345 и max_depth=depth\n",
    "    model.fit(features_train, target_train) # обучите модель на тренировочной выборке\n",
    "    predictions_valid = model.predict(features_valid) # получите предсказания модели на валидационной выборке\n",
    "      \n",
    "    accuracy = accuracy_score(target_valid, predictions_valid)\n",
    "    print('Точность',accuracy, 'Глубина дерева', depth)\n",
    "    if accuracy > best_accuracy:\n",
    "        best_depth = depth\n",
    "        best_accuracy = accuracy\n",
    "print('')\n",
    "print(\"Лучшая точность\", best_accuracy, \"Глубина дерева:\", best_depth)"
   ]
  },
  {
   "cell_type": "markdown",
   "metadata": {},
   "source": [
    "### Случайный лес"
   ]
  },
  {
   "cell_type": "code",
   "execution_count": 23,
   "metadata": {
    "scrolled": false
   },
   "outputs": [
    {
     "name": "stdout",
     "output_type": "stream",
     "text": [
      "Точность 0.7480559875583204 Глубина дерева 1\n",
      "Точность 0.7729393468118196 Глубина дерева 2\n",
      "Точность 0.7573872472783826 Глубина дерева 3\n",
      "Точность 0.7729393468118196 Глубина дерева 4\n",
      "Точность 0.7620528771384136 Глубина дерева 5\n",
      "Точность 0.7744945567651633 Глубина дерева 6\n",
      "Точность 0.776049766718507 Глубина дерева 7\n",
      "Точность 0.7900466562986003 Глубина дерева 8\n",
      "Точность 0.7900466562986003 Глубина дерева 9\n",
      "Точность 0.7931570762052877 Глубина дерева 10\n",
      "Точность 0.7962674961119751 Глубина дерева 11\n",
      "Точность 0.8040435458786936 Глубина дерева 12\n",
      "Точность 0.7884914463452566 Глубина дерева 13\n",
      "Точность 0.7993779160186625 Глубина дерева 14\n",
      "Точность 0.7900466562986003 Глубина дерева 15\n",
      "Точность 0.7978227060653188 Глубина дерева 16\n",
      "Точность 0.7916018662519441 Глубина дерева 17\n",
      "Точность 0.7978227060653188 Глубина дерева 18\n",
      "Точность 0.7900466562986003 Глубина дерева 19\n",
      "Точность 0.8009331259720062 Глубина дерева 20\n",
      "Точность 0.7931570762052877 Глубина дерева 21\n",
      "Точность 0.7993779160186625 Глубина дерева 22\n",
      "Точность 0.7962674961119751 Глубина дерева 23\n",
      "Точность 0.7962674961119751 Глубина дерева 24\n",
      "Точность 0.7978227060653188 Глубина дерева 25\n",
      "Точность 0.7962674961119751 Глубина дерева 26\n",
      "Точность 0.7931570762052877 Глубина дерева 27\n",
      "Точность 0.7962674961119751 Глубина дерева 28\n",
      "Точность 0.7916018662519441 Глубина дерева 29\n",
      "Точность 0.7931570762052877 Глубина дерева 30\n",
      "Точность 0.7931570762052877 Глубина дерева 31\n",
      "Точность 0.7916018662519441 Глубина дерева 32\n",
      "Точность 0.7931570762052877 Глубина дерева 33\n",
      "Точность 0.7900466562986003 Глубина дерева 34\n",
      "Точность 0.7884914463452566 Глубина дерева 35\n",
      "Точность 0.7916018662519441 Глубина дерева 36\n",
      "Точность 0.7978227060653188 Глубина дерева 37\n",
      "Точность 0.7947122861586314 Глубина дерева 38\n",
      "Точность 0.7947122861586314 Глубина дерева 39\n",
      "\n",
      "Лучшая точность 0.8040435458786936 Глубина дерева: 12\n"
     ]
    }
   ],
   "source": [
    "best_accuracy = 0\n",
    "best_est = 0\n",
    "for est in range(1, 40):\n",
    "    model = RandomForestClassifier(random_state=RANDOM_STATE, n_estimators=est)\n",
    "    model.fit(features_train, target_train) # обучите модель на тренировочной выборке\n",
    "    predictions_valid = model.predict(features_valid) # получите предсказания модели на валидационной выборке\n",
    "      \n",
    "    accuracy = accuracy_score(target_valid, predictions_valid)\n",
    "    print('Точность',accuracy, 'Глубина дерева', est)\n",
    "    if accuracy > best_accuracy:\n",
    "        best_est = est\n",
    "        best_accuracy = accuracy\n",
    "print('')\n",
    "print(\"Лучшая точность\", best_accuracy, \"Глубина дерева:\", best_est)"
   ]
  },
  {
   "cell_type": "markdown",
   "metadata": {},
   "source": [
    "### Логистическая регрессия"
   ]
  },
  {
   "cell_type": "code",
   "execution_count": 24,
   "metadata": {
    "scrolled": true
   },
   "outputs": [
    {
     "name": "stdout",
     "output_type": "stream",
     "text": [
      "Лучшая точность 0.7527216174183515 Лучшее количество итераций: 100\n"
     ]
    }
   ],
   "source": [
    "best_max_iter = 0\n",
    "best_accuracy = 0\n",
    "\n",
    "for max_iter in range(100,300):\n",
    "    model = LogisticRegression(random_state=RANDOM_STATE, solver='lbfgs', max_iter=max_iter) \n",
    "    model.fit(features_train, target_train)\n",
    "\n",
    "    predictions_valid = model.predict(features_valid) # получите предсказания модели на валидационной выборке    \n",
    "    accuracy = accuracy_score(target_valid, predictions_valid)\n",
    "    \n",
    "    if accuracy > best_accuracy:\n",
    "        best_max_iter = max_iter\n",
    "        best_accuracy = accuracy\n",
    "\n",
    "        \n",
    "print(\"Лучшая точность\", best_accuracy, \"Лучшее количество итераций:\", best_max_iter)"
   ]
  },
  {
   "cell_type": "markdown",
   "metadata": {},
   "source": [
    "**Вывод:**\n",
    "\n",
    "Исследование данных для обучения моделей показало, что наибольшую точность дала модель **Дерево решений**. Точность достигла **0.8087091757387247**"
   ]
  },
  {
   "cell_type": "markdown",
   "metadata": {},
   "source": [
    "## Проверьте модель на тестовой выборке"
   ]
  },
  {
   "cell_type": "markdown",
   "metadata": {},
   "source": [
    "### Дерево решений"
   ]
  },
  {
   "cell_type": "code",
   "execution_count": 25,
   "metadata": {},
   "outputs": [
    {
     "name": "stdout",
     "output_type": "stream",
     "text": [
      "Точность: 0.7807153965785381\n"
     ]
    }
   ],
   "source": [
    "model = DecisionTreeClassifier(random_state=RANDOM_STATE, max_depth=best_depth)\n",
    "model.fit(features_train, target_train)\n",
    "accuracy = model.score(features_test, target_test)\n",
    "print(\"Точность:\", accuracy)"
   ]
  },
  {
   "cell_type": "markdown",
   "metadata": {},
   "source": [
    "### Случайный лес"
   ]
  },
  {
   "cell_type": "code",
   "execution_count": 26,
   "metadata": {},
   "outputs": [
    {
     "name": "stdout",
     "output_type": "stream",
     "text": [
      "Точность: 0.7573872472783826\n"
     ]
    }
   ],
   "source": [
    "model = RandomForestClassifier(random_state=RANDOM_STATE, n_estimators=best_est)\n",
    "model.fit(features_train, target_train)\n",
    "accuracy = model.score(features_test, target_test)\n",
    "print(\"Точность:\", accuracy)"
   ]
  },
  {
   "cell_type": "markdown",
   "metadata": {},
   "source": [
    "### Логистическая регрессия"
   ]
  },
  {
   "cell_type": "code",
   "execution_count": 27,
   "metadata": {
    "scrolled": true
   },
   "outputs": [
    {
     "name": "stdout",
     "output_type": "stream",
     "text": [
      "Точность: 0.7511664074650077\n"
     ]
    }
   ],
   "source": [
    "model = LogisticRegression(random_state=RANDOM_STATE, solver='lbfgs', max_iter=best_max_iter)\n",
    "model.fit(features_train, target_train)\n",
    "accuracy = model.score(features_test, target_test)\n",
    "print(\"Точность:\", accuracy)"
   ]
  },
  {
   "cell_type": "markdown",
   "metadata": {},
   "source": [
    "**Вывод:**\n",
    "\n",
    "Исследование тестовых данных показало, что наибольшую точность дала модель **Дерево решений**, как и в исследовании модели. Точность достигла **0.7807153965785381**"
   ]
  },
  {
   "cell_type": "markdown",
   "metadata": {},
   "source": [
    "## (бонус) Проверьте модели на адекватность"
   ]
  },
  {
   "cell_type": "markdown",
   "metadata": {},
   "source": [
    "Для оценки модели есть 3 метрики качества:\n",
    "\n",
    "- accuracy - точность совпадения прогнозов с правильными ответами.\n",
    "- Точность (англ. **precision**) показывает долю объектов, названных классификатором положительными и при этом действительно являющимися положительными\n",
    "- Полнота (англ. **recall**) выявляет, какую долю объектов положительного класса из всех объектов положительного класса нашел алгоритм."
   ]
  },
  {
   "cell_type": "markdown",
   "metadata": {},
   "source": [
    "Проверим модель на адекватность с помощью <b>DummyClassifier"
   ]
  },
  {
   "cell_type": "code",
   "execution_count": 28,
   "metadata": {},
   "outputs": [
    {
     "name": "stdout",
     "output_type": "stream",
     "text": [
      "Качество прогноза DummyClassifier: 0.5738724727838258\n",
      "Качество нашего прогноза : 0.7807153965785381\n"
     ]
    }
   ],
   "source": [
    "from sklearn.dummy import DummyClassifier\n",
    "\n",
    "dmb = DummyClassifier(strategy=\"stratified\" ,random_state=1515)\n",
    "dmb.fit(features_train, target_train)\n",
    "acc = dmb.score(features_test, target_test)\n",
    "print(\"Качество прогноза DummyClassifier:\", acc)\n",
    "print(\"Качество нашего прогноза : 0.7807153965785381\")"
   ]
  },
  {
   "cell_type": "code",
   "execution_count": 29,
   "metadata": {},
   "outputs": [
    {
     "name": "stdout",
     "output_type": "stream",
     "text": [
      "Качество прогноза DummyClassifier: 0.48989113530326595\n",
      "Качество нашего прогноза : 0.7807153965785381\n"
     ]
    }
   ],
   "source": [
    "from sklearn.dummy import DummyClassifier\n",
    "\n",
    "dmb = DummyClassifier(strategy=\"uniform\" ,random_state=1515)\n",
    "dmb.fit(features_train, target_train)\n",
    "acc = dmb.score(features_test, target_test)\n",
    "print(\"Качество прогноза DummyClassifier:\", acc)\n",
    "print(\"Качество нашего прогноза : 0.7807153965785381\")"
   ]
  },
  {
   "cell_type": "markdown",
   "metadata": {},
   "source": [
    "**Вывод:**\n",
    "\n",
    "Прогноз нашей модели выше, чем прогноз, полученный DummyClassifier. Значит, модель адекватная."
   ]
  },
  {
   "cell_type": "markdown",
   "metadata": {},
   "source": [
    "### Дерево решений"
   ]
  },
  {
   "cell_type": "code",
   "execution_count": 30,
   "metadata": {},
   "outputs": [
    {
     "name": "stdout",
     "output_type": "stream",
     "text": [
      "Accuracy = 0.7807153965785381 Precision = 0.6875 Recall = 0.4656084656084656\n"
     ]
    }
   ],
   "source": [
    "model = DecisionTreeClassifier(random_state=RANDOM_STATE, max_depth=best_depth)\n",
    "model.fit(features_train, target_train)\n",
    "test_predictions = model.predict(features_test)\n",
    "\n",
    "accuracy = accuracy_score(target_test, test_predictions)\n",
    "precision = precision_score(target_test, test_predictions)\n",
    "recall = recall_score(target_test, test_predictions)\n",
    "\n",
    "print('Accuracy =', accuracy, 'Precision =', precision, 'Recall =', recall)"
   ]
  },
  {
   "cell_type": "markdown",
   "metadata": {},
   "source": [
    "### Случайный лес"
   ]
  },
  {
   "cell_type": "code",
   "execution_count": 31,
   "metadata": {
    "scrolled": true
   },
   "outputs": [
    {
     "name": "stdout",
     "output_type": "stream",
     "text": [
      "Accuracy = 0.7573872472783826 Precision = 0.5964912280701754 Recall = 0.5396825396825397\n"
     ]
    }
   ],
   "source": [
    "model = RandomForestClassifier(random_state=RANDOM_STATE, n_estimators=best_est)\n",
    "model.fit(features_train, target_train)\n",
    "test_predictions = model.predict(features_test)\n",
    "\n",
    "accuracy = accuracy_score(target_test, test_predictions)\n",
    "precision = precision_score(target_test, test_predictions)\n",
    "recall = recall_score(target_test, test_predictions)\n",
    "\n",
    "print('Accuracy =', accuracy, 'Precision =', precision, 'Recall =', recall)"
   ]
  },
  {
   "cell_type": "markdown",
   "metadata": {},
   "source": [
    "### Логистическая регрессия"
   ]
  },
  {
   "cell_type": "code",
   "execution_count": 32,
   "metadata": {},
   "outputs": [
    {
     "name": "stdout",
     "output_type": "stream",
     "text": [
      "Accuracy = 0.7511664074650077 Precision = 0.7959183673469388 Recall = 0.20634920634920634\n"
     ]
    }
   ],
   "source": [
    "model = LogisticRegression(random_state=RANDOM_STATE, solver='lbfgs', max_iter=best_max_iter)\n",
    "model.fit(features_train, target_train)\n",
    "test_predictions = model.predict(features_test)\n",
    "\n",
    "accuracy = accuracy_score(target_test, test_predictions)\n",
    "precision = precision_score(target_test, test_predictions)\n",
    "recall = recall_score(target_test, test_predictions)\n",
    "\n",
    "print('Accuracy =', accuracy, 'Precision =', precision, 'Recall =', recall)"
   ]
  },
  {
   "cell_type": "markdown",
   "metadata": {},
   "source": [
    "## Общий вывод"
   ]
  },
  {
   "cell_type": "markdown",
   "metadata": {},
   "source": [
    "В ходе исследования данных были изменены форматы данных в столбцах **messages и calls** на целочисленные.\n",
    "\n",
    "Была выявлена сильная зависимость между **calls и minutes**. Поэтому столбец **calls** удалили из исследования.\n",
    "\n",
    "Был выявлен целевой признак **is_ultra**.\n",
    "\n",
    "Выборка разделена на 3 части: обучающую, валидационную и тестовую в соотношении **60% 20% 20%**.\n",
    "\n",
    "Исследование проводилось на моделях:\n",
    "- дерево решений\n",
    "- случайный лес\n",
    "- логистическую регрессию\n",
    "    \n",
    "\n",
    "Было выявлено, что лучший результат дает модель **Дерево решений**. Точность достигла **0.8087091757387247**\n",
    "Проверка на тестовых данных подтвердила этот результат. Точность на тестовых данных **0.7807153965785381**\n",
    "\n",
    "Тестовые модели проверены на адекватность с помощью метрик **accuracy, precision, recall**. Дерево решений имеет наибольшую адекватность. **Accuracy = 0.7807153965785381 Precision = 0.6875 Recall = 0.4656084656084656**\n",
    "       \n",
    "Прогноз нашей модели выше, чем прогноз, полученный **DummyClassifier**. Значит, модель адекватная.\n"
   ]
  }
 ],
 "metadata": {
  "ExecuteTimeLog": [
   {
    "duration": 51,
    "start_time": "2023-04-04T16:00:44.972Z"
   },
   {
    "duration": 424,
    "start_time": "2023-04-04T16:01:17.146Z"
   },
   {
    "duration": 64,
    "start_time": "2023-04-04T16:01:19.096Z"
   },
   {
    "duration": 42,
    "start_time": "2023-04-04T16:02:17.840Z"
   },
   {
    "duration": 434,
    "start_time": "2023-04-05T10:25:55.100Z"
   },
   {
    "duration": 89,
    "start_time": "2023-04-05T10:26:57.836Z"
   },
   {
    "duration": 19,
    "start_time": "2023-04-05T10:26:59.808Z"
   },
   {
    "duration": 14,
    "start_time": "2023-04-05T10:27:41.828Z"
   },
   {
    "duration": 11,
    "start_time": "2023-04-05T10:28:35.497Z"
   },
   {
    "duration": 7,
    "start_time": "2023-04-05T10:37:00.823Z"
   },
   {
    "duration": 11,
    "start_time": "2023-04-05T10:37:45.496Z"
   },
   {
    "duration": 11,
    "start_time": "2023-04-05T10:39:41.540Z"
   },
   {
    "duration": 7,
    "start_time": "2023-04-05T10:40:15.701Z"
   },
   {
    "duration": 6,
    "start_time": "2023-04-05T10:40:16.412Z"
   },
   {
    "duration": 6,
    "start_time": "2023-04-05T10:42:30.478Z"
   },
   {
    "duration": 17,
    "start_time": "2023-04-05T10:42:57.675Z"
   },
   {
    "duration": 6,
    "start_time": "2023-04-05T10:49:32.676Z"
   },
   {
    "duration": 70,
    "start_time": "2023-04-05T11:07:27.851Z"
   },
   {
    "duration": 7,
    "start_time": "2023-04-05T11:07:36.589Z"
   },
   {
    "duration": 448,
    "start_time": "2023-04-07T07:30:01.482Z"
   },
   {
    "duration": 131,
    "start_time": "2023-04-07T07:30:01.932Z"
   },
   {
    "duration": 21,
    "start_time": "2023-04-07T07:30:02.065Z"
   },
   {
    "duration": 83,
    "start_time": "2023-04-07T07:30:02.088Z"
   },
   {
    "duration": 35,
    "start_time": "2023-04-07T07:30:02.173Z"
   },
   {
    "duration": 55,
    "start_time": "2023-04-07T07:30:02.210Z"
   },
   {
    "duration": 19,
    "start_time": "2023-04-07T07:30:02.267Z"
   },
   {
    "duration": 27,
    "start_time": "2023-04-07T07:30:02.288Z"
   },
   {
    "duration": 55,
    "start_time": "2023-04-07T07:30:02.317Z"
   },
   {
    "duration": 22,
    "start_time": "2023-04-07T07:30:02.374Z"
   },
   {
    "duration": 115,
    "start_time": "2023-04-07T07:30:02.398Z"
   },
   {
    "duration": 9,
    "start_time": "2023-04-07T07:41:58.090Z"
   },
   {
    "duration": 5,
    "start_time": "2023-04-07T07:42:19.983Z"
   },
   {
    "duration": 4,
    "start_time": "2023-04-07T07:43:04.531Z"
   },
   {
    "duration": 8,
    "start_time": "2023-04-07T07:44:07.589Z"
   },
   {
    "duration": 698,
    "start_time": "2023-04-07T07:44:34.796Z"
   },
   {
    "duration": 6,
    "start_time": "2023-04-07T07:44:41.247Z"
   },
   {
    "duration": 4,
    "start_time": "2023-04-07T07:45:42.196Z"
   },
   {
    "duration": 4,
    "start_time": "2023-04-07T07:46:46.525Z"
   },
   {
    "duration": 5,
    "start_time": "2023-04-07T07:47:14.014Z"
   },
   {
    "duration": 4,
    "start_time": "2023-04-07T07:47:17.425Z"
   },
   {
    "duration": 5,
    "start_time": "2023-04-07T07:50:22.712Z"
   },
   {
    "duration": 5,
    "start_time": "2023-04-07T07:50:26.343Z"
   },
   {
    "duration": 5,
    "start_time": "2023-04-07T07:50:30.912Z"
   },
   {
    "duration": 3,
    "start_time": "2023-04-07T07:51:08.137Z"
   },
   {
    "duration": 4,
    "start_time": "2023-04-07T07:51:35.017Z"
   },
   {
    "duration": 4,
    "start_time": "2023-04-07T07:52:01.110Z"
   },
   {
    "duration": 1058,
    "start_time": "2023-04-07T07:57:15.145Z"
   },
   {
    "duration": 30,
    "start_time": "2023-04-07T07:57:16.205Z"
   },
   {
    "duration": 20,
    "start_time": "2023-04-07T07:57:16.237Z"
   },
   {
    "duration": 12,
    "start_time": "2023-04-07T07:57:16.259Z"
   },
   {
    "duration": 6,
    "start_time": "2023-04-07T07:57:16.274Z"
   },
   {
    "duration": 6,
    "start_time": "2023-04-07T07:57:16.288Z"
   },
   {
    "duration": 7,
    "start_time": "2023-04-07T07:57:16.296Z"
   },
   {
    "duration": 6,
    "start_time": "2023-04-07T07:57:16.305Z"
   },
   {
    "duration": 10,
    "start_time": "2023-04-07T07:57:16.313Z"
   },
   {
    "duration": 7,
    "start_time": "2023-04-07T07:57:16.325Z"
   },
   {
    "duration": 7,
    "start_time": "2023-04-07T07:57:16.334Z"
   },
   {
    "duration": 10,
    "start_time": "2023-04-07T07:57:16.342Z"
   },
   {
    "duration": 34,
    "start_time": "2023-04-07T07:57:16.354Z"
   },
   {
    "duration": 5,
    "start_time": "2023-04-07T07:57:16.391Z"
   },
   {
    "duration": 7,
    "start_time": "2023-04-07T07:57:16.397Z"
   },
   {
    "duration": 7,
    "start_time": "2023-04-07T07:57:16.406Z"
   },
   {
    "duration": 1167,
    "start_time": "2023-04-07T11:44:52.358Z"
   },
   {
    "duration": 138,
    "start_time": "2023-04-07T11:44:53.529Z"
   },
   {
    "duration": 32,
    "start_time": "2023-04-07T11:44:53.669Z"
   },
   {
    "duration": 38,
    "start_time": "2023-04-07T11:44:53.703Z"
   },
   {
    "duration": 55,
    "start_time": "2023-04-07T11:44:53.744Z"
   },
   {
    "duration": 38,
    "start_time": "2023-04-07T11:44:53.801Z"
   },
   {
    "duration": 37,
    "start_time": "2023-04-07T11:44:53.841Z"
   },
   {
    "duration": 32,
    "start_time": "2023-04-07T11:44:53.880Z"
   },
   {
    "duration": 54,
    "start_time": "2023-04-07T11:44:53.914Z"
   },
   {
    "duration": 33,
    "start_time": "2023-04-07T11:44:53.970Z"
   },
   {
    "duration": 52,
    "start_time": "2023-04-07T11:44:54.005Z"
   },
   {
    "duration": 44,
    "start_time": "2023-04-07T11:44:54.059Z"
   },
   {
    "duration": 43,
    "start_time": "2023-04-07T11:44:54.106Z"
   },
   {
    "duration": 37,
    "start_time": "2023-04-07T11:44:54.153Z"
   },
   {
    "duration": 37,
    "start_time": "2023-04-07T11:44:54.193Z"
   },
   {
    "duration": 24,
    "start_time": "2023-04-07T11:44:54.233Z"
   },
   {
    "duration": 126,
    "start_time": "2023-04-07T11:44:54.259Z"
   },
   {
    "duration": 50,
    "start_time": "2023-04-07T11:46:08.513Z"
   },
   {
    "duration": 19,
    "start_time": "2023-04-07T11:52:07.409Z"
   },
   {
    "duration": 16,
    "start_time": "2023-04-07T11:52:59.418Z"
   },
   {
    "duration": 3,
    "start_time": "2023-04-07T11:58:13.416Z"
   },
   {
    "duration": 133,
    "start_time": "2023-04-07T11:58:31.643Z"
   },
   {
    "duration": 128,
    "start_time": "2023-04-07T12:00:01.572Z"
   },
   {
    "duration": 118,
    "start_time": "2023-04-07T12:14:50.228Z"
   },
   {
    "duration": 143,
    "start_time": "2023-04-07T12:14:59.843Z"
   },
   {
    "duration": 134,
    "start_time": "2023-04-07T12:15:39.513Z"
   },
   {
    "duration": 15,
    "start_time": "2023-04-07T12:51:46.245Z"
   },
   {
    "duration": 3,
    "start_time": "2023-04-07T12:52:19.986Z"
   },
   {
    "duration": 124,
    "start_time": "2023-04-07T12:52:27.985Z"
   },
   {
    "duration": 115,
    "start_time": "2023-04-07T12:53:33.960Z"
   },
   {
    "duration": 433,
    "start_time": "2023-04-07T12:54:35.735Z"
   },
   {
    "duration": 3425,
    "start_time": "2023-04-07T12:56:57.955Z"
   },
   {
    "duration": 3440,
    "start_time": "2023-04-07T12:57:56.740Z"
   },
   {
    "duration": 1143,
    "start_time": "2023-04-08T05:14:26.494Z"
   },
   {
    "duration": 132,
    "start_time": "2023-04-08T05:14:27.639Z"
   },
   {
    "duration": 18,
    "start_time": "2023-04-08T05:14:27.773Z"
   },
   {
    "duration": 11,
    "start_time": "2023-04-08T05:14:27.793Z"
   },
   {
    "duration": 8,
    "start_time": "2023-04-08T05:14:27.807Z"
   },
   {
    "duration": 6,
    "start_time": "2023-04-08T05:14:27.817Z"
   },
   {
    "duration": 8,
    "start_time": "2023-04-08T05:14:27.824Z"
   },
   {
    "duration": 9,
    "start_time": "2023-04-08T05:14:27.834Z"
   },
   {
    "duration": 14,
    "start_time": "2023-04-08T05:14:27.845Z"
   },
   {
    "duration": 6,
    "start_time": "2023-04-08T05:14:27.861Z"
   },
   {
    "duration": 14,
    "start_time": "2023-04-08T05:14:27.868Z"
   },
   {
    "duration": 7,
    "start_time": "2023-04-08T05:14:27.884Z"
   },
   {
    "duration": 14,
    "start_time": "2023-04-08T05:14:27.892Z"
   },
   {
    "duration": 5,
    "start_time": "2023-04-08T05:14:27.909Z"
   },
   {
    "duration": 9,
    "start_time": "2023-04-08T05:14:27.916Z"
   },
   {
    "duration": 18,
    "start_time": "2023-04-08T05:14:27.927Z"
   },
   {
    "duration": 7,
    "start_time": "2023-04-08T05:14:27.947Z"
   },
   {
    "duration": 434,
    "start_time": "2023-04-08T05:14:27.956Z"
   },
   {
    "duration": 3303,
    "start_time": "2023-04-08T05:14:28.392Z"
   },
   {
    "duration": 1189,
    "start_time": "2023-04-08T05:15:25.500Z"
   },
   {
    "duration": 32,
    "start_time": "2023-04-08T05:15:26.691Z"
   },
   {
    "duration": 22,
    "start_time": "2023-04-08T05:15:26.725Z"
   },
   {
    "duration": 16,
    "start_time": "2023-04-08T05:15:26.750Z"
   },
   {
    "duration": 17,
    "start_time": "2023-04-08T05:15:26.767Z"
   },
   {
    "duration": 10,
    "start_time": "2023-04-08T05:15:26.786Z"
   },
   {
    "duration": 7,
    "start_time": "2023-04-08T05:15:26.798Z"
   },
   {
    "duration": 10,
    "start_time": "2023-04-08T05:15:26.807Z"
   },
   {
    "duration": 30,
    "start_time": "2023-04-08T05:15:26.819Z"
   },
   {
    "duration": 16,
    "start_time": "2023-04-08T05:15:26.853Z"
   },
   {
    "duration": 8,
    "start_time": "2023-04-08T05:15:26.871Z"
   },
   {
    "duration": 8,
    "start_time": "2023-04-08T05:15:26.881Z"
   },
   {
    "duration": 9,
    "start_time": "2023-04-08T05:15:26.890Z"
   },
   {
    "duration": 7,
    "start_time": "2023-04-08T05:15:26.900Z"
   },
   {
    "duration": 20,
    "start_time": "2023-04-08T05:15:26.908Z"
   },
   {
    "duration": 17,
    "start_time": "2023-04-08T05:15:26.930Z"
   },
   {
    "duration": 19,
    "start_time": "2023-04-08T05:15:26.949Z"
   },
   {
    "duration": 457,
    "start_time": "2023-04-08T05:15:26.970Z"
   },
   {
    "duration": 3632,
    "start_time": "2023-04-08T05:15:27.428Z"
   },
   {
    "duration": 1168,
    "start_time": "2023-04-08T05:16:03.829Z"
   },
   {
    "duration": 32,
    "start_time": "2023-04-08T05:16:04.999Z"
   },
   {
    "duration": 21,
    "start_time": "2023-04-08T05:16:05.033Z"
   },
   {
    "duration": 13,
    "start_time": "2023-04-08T05:16:05.055Z"
   },
   {
    "duration": 15,
    "start_time": "2023-04-08T05:16:05.071Z"
   },
   {
    "duration": 13,
    "start_time": "2023-04-08T05:16:05.088Z"
   },
   {
    "duration": 9,
    "start_time": "2023-04-08T05:16:05.103Z"
   },
   {
    "duration": 17,
    "start_time": "2023-04-08T05:16:05.114Z"
   },
   {
    "duration": 22,
    "start_time": "2023-04-08T05:16:05.133Z"
   },
   {
    "duration": 15,
    "start_time": "2023-04-08T05:16:05.157Z"
   },
   {
    "duration": 13,
    "start_time": "2023-04-08T05:16:05.173Z"
   },
   {
    "duration": 9,
    "start_time": "2023-04-08T05:16:05.188Z"
   },
   {
    "duration": 8,
    "start_time": "2023-04-08T05:16:05.199Z"
   },
   {
    "duration": 11,
    "start_time": "2023-04-08T05:16:05.209Z"
   },
   {
    "duration": 28,
    "start_time": "2023-04-08T05:16:05.221Z"
   },
   {
    "duration": 20,
    "start_time": "2023-04-08T05:16:05.251Z"
   },
   {
    "duration": 21,
    "start_time": "2023-04-08T05:16:05.273Z"
   },
   {
    "duration": 529,
    "start_time": "2023-04-08T05:16:05.296Z"
   },
   {
    "duration": 3396,
    "start_time": "2023-04-08T05:16:05.827Z"
   },
   {
    "duration": 1132,
    "start_time": "2023-04-08T05:16:32.200Z"
   },
   {
    "duration": 32,
    "start_time": "2023-04-08T05:16:33.335Z"
   },
   {
    "duration": 20,
    "start_time": "2023-04-08T05:16:33.369Z"
   },
   {
    "duration": 17,
    "start_time": "2023-04-08T05:16:33.390Z"
   },
   {
    "duration": 14,
    "start_time": "2023-04-08T05:16:33.409Z"
   },
   {
    "duration": 24,
    "start_time": "2023-04-08T05:16:33.425Z"
   },
   {
    "duration": 11,
    "start_time": "2023-04-08T05:16:33.451Z"
   },
   {
    "duration": 20,
    "start_time": "2023-04-08T05:16:33.464Z"
   },
   {
    "duration": 20,
    "start_time": "2023-04-08T05:16:33.485Z"
   },
   {
    "duration": 17,
    "start_time": "2023-04-08T05:16:33.507Z"
   },
   {
    "duration": 18,
    "start_time": "2023-04-08T05:16:33.526Z"
   },
   {
    "duration": 10,
    "start_time": "2023-04-08T05:16:33.545Z"
   },
   {
    "duration": 18,
    "start_time": "2023-04-08T05:16:33.557Z"
   },
   {
    "duration": 14,
    "start_time": "2023-04-08T05:16:33.578Z"
   },
   {
    "duration": 21,
    "start_time": "2023-04-08T05:16:33.594Z"
   },
   {
    "duration": 19,
    "start_time": "2023-04-08T05:16:33.617Z"
   },
   {
    "duration": 11,
    "start_time": "2023-04-08T05:16:33.638Z"
   },
   {
    "duration": 466,
    "start_time": "2023-04-08T05:16:33.651Z"
   },
   {
    "duration": 3607,
    "start_time": "2023-04-08T05:16:34.118Z"
   },
   {
    "duration": 1111,
    "start_time": "2023-04-08T05:16:59.487Z"
   },
   {
    "duration": 32,
    "start_time": "2023-04-08T05:17:00.600Z"
   },
   {
    "duration": 22,
    "start_time": "2023-04-08T05:17:00.635Z"
   },
   {
    "duration": 53,
    "start_time": "2023-04-08T05:17:00.658Z"
   },
   {
    "duration": 45,
    "start_time": "2023-04-08T05:17:00.714Z"
   },
   {
    "duration": 36,
    "start_time": "2023-04-08T05:17:00.761Z"
   },
   {
    "duration": 38,
    "start_time": "2023-04-08T05:17:00.799Z"
   },
   {
    "duration": 27,
    "start_time": "2023-04-08T05:17:00.839Z"
   },
   {
    "duration": 69,
    "start_time": "2023-04-08T05:17:00.868Z"
   },
   {
    "duration": 65,
    "start_time": "2023-04-08T05:17:00.939Z"
   },
   {
    "duration": 51,
    "start_time": "2023-04-08T05:17:01.005Z"
   },
   {
    "duration": 28,
    "start_time": "2023-04-08T05:17:01.058Z"
   },
   {
    "duration": 20,
    "start_time": "2023-04-08T05:17:01.088Z"
   },
   {
    "duration": 34,
    "start_time": "2023-04-08T05:17:01.111Z"
   },
   {
    "duration": 30,
    "start_time": "2023-04-08T05:17:01.147Z"
   },
   {
    "duration": 22,
    "start_time": "2023-04-08T05:17:01.179Z"
   },
   {
    "duration": 45,
    "start_time": "2023-04-08T05:17:01.203Z"
   },
   {
    "duration": 473,
    "start_time": "2023-04-08T05:17:01.251Z"
   },
   {
    "duration": 3394,
    "start_time": "2023-04-08T05:17:01.726Z"
   },
   {
    "duration": 1253,
    "start_time": "2023-04-08T05:18:04.658Z"
   },
   {
    "duration": 48,
    "start_time": "2023-04-08T05:18:05.914Z"
   },
   {
    "duration": 23,
    "start_time": "2023-04-08T05:18:05.965Z"
   },
   {
    "duration": 26,
    "start_time": "2023-04-08T05:18:05.991Z"
   },
   {
    "duration": 46,
    "start_time": "2023-04-08T05:18:06.019Z"
   },
   {
    "duration": 22,
    "start_time": "2023-04-08T05:18:06.068Z"
   },
   {
    "duration": 79,
    "start_time": "2023-04-08T05:18:06.093Z"
   },
   {
    "duration": 18,
    "start_time": "2023-04-08T05:18:06.174Z"
   },
   {
    "duration": 21,
    "start_time": "2023-04-08T05:18:06.195Z"
   },
   {
    "duration": 9,
    "start_time": "2023-04-08T05:18:06.219Z"
   },
   {
    "duration": 12,
    "start_time": "2023-04-08T05:18:06.230Z"
   },
   {
    "duration": 28,
    "start_time": "2023-04-08T05:18:06.243Z"
   },
   {
    "duration": 9,
    "start_time": "2023-04-08T05:18:06.273Z"
   },
   {
    "duration": 18,
    "start_time": "2023-04-08T05:18:06.284Z"
   },
   {
    "duration": 26,
    "start_time": "2023-04-08T05:18:06.304Z"
   },
   {
    "duration": 26,
    "start_time": "2023-04-08T05:18:06.333Z"
   },
   {
    "duration": 30,
    "start_time": "2023-04-08T05:18:06.361Z"
   },
   {
    "duration": 537,
    "start_time": "2023-04-08T05:18:06.392Z"
   },
   {
    "duration": 3655,
    "start_time": "2023-04-08T05:18:06.942Z"
   },
   {
    "duration": 1197,
    "start_time": "2023-04-08T05:48:37.600Z"
   },
   {
    "duration": 32,
    "start_time": "2023-04-08T05:48:38.799Z"
   },
   {
    "duration": 21,
    "start_time": "2023-04-08T05:48:38.832Z"
   },
   {
    "duration": 16,
    "start_time": "2023-04-08T05:48:38.855Z"
   },
   {
    "duration": 23,
    "start_time": "2023-04-08T05:48:38.874Z"
   },
   {
    "duration": 12,
    "start_time": "2023-04-08T05:48:38.899Z"
   },
   {
    "duration": 31,
    "start_time": "2023-04-08T05:48:38.913Z"
   },
   {
    "duration": 7,
    "start_time": "2023-04-08T05:48:38.946Z"
   },
   {
    "duration": 12,
    "start_time": "2023-04-08T05:48:38.955Z"
   },
   {
    "duration": 9,
    "start_time": "2023-04-08T05:48:38.969Z"
   },
   {
    "duration": 7,
    "start_time": "2023-04-08T05:48:38.980Z"
   },
   {
    "duration": 6,
    "start_time": "2023-04-08T05:48:38.988Z"
   },
   {
    "duration": 11,
    "start_time": "2023-04-08T05:48:38.996Z"
   },
   {
    "duration": 5,
    "start_time": "2023-04-08T05:48:39.043Z"
   },
   {
    "duration": 14,
    "start_time": "2023-04-08T05:48:39.049Z"
   },
   {
    "duration": 10,
    "start_time": "2023-04-08T05:48:39.065Z"
   },
   {
    "duration": 11,
    "start_time": "2023-04-08T05:48:39.077Z"
   },
   {
    "duration": 482,
    "start_time": "2023-04-08T05:48:39.090Z"
   },
   {
    "duration": 3769,
    "start_time": "2023-04-08T05:48:39.574Z"
   },
   {
    "duration": 222,
    "start_time": "2023-04-08T05:48:43.345Z"
   },
   {
    "duration": 1218,
    "start_time": "2023-04-08T05:49:13.217Z"
   },
   {
    "duration": 31,
    "start_time": "2023-04-08T05:49:14.438Z"
   },
   {
    "duration": 19,
    "start_time": "2023-04-08T05:49:14.471Z"
   },
   {
    "duration": 19,
    "start_time": "2023-04-08T05:49:14.492Z"
   },
   {
    "duration": 20,
    "start_time": "2023-04-08T05:49:14.515Z"
   },
   {
    "duration": 26,
    "start_time": "2023-04-08T05:49:14.537Z"
   },
   {
    "duration": 76,
    "start_time": "2023-04-08T05:49:14.565Z"
   },
   {
    "duration": 59,
    "start_time": "2023-04-08T05:49:14.644Z"
   },
   {
    "duration": 41,
    "start_time": "2023-04-08T05:49:14.705Z"
   },
   {
    "duration": 34,
    "start_time": "2023-04-08T05:49:14.748Z"
   },
   {
    "duration": 10,
    "start_time": "2023-04-08T05:49:14.784Z"
   },
   {
    "duration": 40,
    "start_time": "2023-04-08T05:49:14.796Z"
   },
   {
    "duration": 63,
    "start_time": "2023-04-08T05:49:14.839Z"
   },
   {
    "duration": 10,
    "start_time": "2023-04-08T05:49:14.905Z"
   },
   {
    "duration": 23,
    "start_time": "2023-04-08T05:49:14.917Z"
   },
   {
    "duration": 21,
    "start_time": "2023-04-08T05:49:14.942Z"
   },
   {
    "duration": 17,
    "start_time": "2023-04-08T05:49:14.965Z"
   },
   {
    "duration": 510,
    "start_time": "2023-04-08T05:49:14.984Z"
   },
   {
    "duration": 3600,
    "start_time": "2023-04-08T05:49:15.496Z"
   },
   {
    "duration": 92,
    "start_time": "2023-04-08T05:49:19.098Z"
   },
   {
    "duration": 1403,
    "start_time": "2023-04-08T05:49:52.461Z"
   },
   {
    "duration": 34,
    "start_time": "2023-04-08T05:49:53.867Z"
   },
   {
    "duration": 34,
    "start_time": "2023-04-08T05:49:53.903Z"
   },
   {
    "duration": 30,
    "start_time": "2023-04-08T05:49:53.939Z"
   },
   {
    "duration": 46,
    "start_time": "2023-04-08T05:49:53.971Z"
   },
   {
    "duration": 45,
    "start_time": "2023-04-08T05:49:54.019Z"
   },
   {
    "duration": 54,
    "start_time": "2023-04-08T05:49:54.066Z"
   },
   {
    "duration": 29,
    "start_time": "2023-04-08T05:49:54.122Z"
   },
   {
    "duration": 35,
    "start_time": "2023-04-08T05:49:54.154Z"
   },
   {
    "duration": 28,
    "start_time": "2023-04-08T05:49:54.194Z"
   },
   {
    "duration": 35,
    "start_time": "2023-04-08T05:49:54.225Z"
   },
   {
    "duration": 49,
    "start_time": "2023-04-08T05:49:54.263Z"
   },
   {
    "duration": 21,
    "start_time": "2023-04-08T05:49:54.314Z"
   },
   {
    "duration": 23,
    "start_time": "2023-04-08T05:49:54.337Z"
   },
   {
    "duration": 39,
    "start_time": "2023-04-08T05:49:54.362Z"
   },
   {
    "duration": 45,
    "start_time": "2023-04-08T05:49:54.403Z"
   },
   {
    "duration": 9,
    "start_time": "2023-04-08T05:49:54.450Z"
   },
   {
    "duration": 511,
    "start_time": "2023-04-08T05:49:54.461Z"
   },
   {
    "duration": 3830,
    "start_time": "2023-04-08T05:49:54.974Z"
   },
   {
    "duration": 75,
    "start_time": "2023-04-08T05:49:58.806Z"
   },
   {
    "duration": 22055,
    "start_time": "2023-04-08T05:57:56.477Z"
   },
   {
    "duration": 4175,
    "start_time": "2023-04-08T05:58:41.327Z"
   },
   {
    "duration": 1433,
    "start_time": "2023-04-08T05:58:53.819Z"
   },
   {
    "duration": 46,
    "start_time": "2023-04-08T06:00:09.479Z"
   },
   {
    "duration": 2854,
    "start_time": "2023-04-08T06:27:12.676Z"
   },
   {
    "duration": 3254,
    "start_time": "2023-04-08T06:27:43.718Z"
   },
   {
    "duration": 1541,
    "start_time": "2023-04-08T06:28:53.917Z"
   },
   {
    "duration": 36,
    "start_time": "2023-04-08T06:28:55.464Z"
   },
   {
    "duration": 21,
    "start_time": "2023-04-08T06:28:55.501Z"
   },
   {
    "duration": 14,
    "start_time": "2023-04-08T06:28:55.524Z"
   },
   {
    "duration": 45,
    "start_time": "2023-04-08T06:28:55.542Z"
   },
   {
    "duration": 13,
    "start_time": "2023-04-08T06:28:55.590Z"
   },
   {
    "duration": 8,
    "start_time": "2023-04-08T06:28:55.607Z"
   },
   {
    "duration": 12,
    "start_time": "2023-04-08T06:28:55.617Z"
   },
   {
    "duration": 39,
    "start_time": "2023-04-08T06:28:55.631Z"
   },
   {
    "duration": 10,
    "start_time": "2023-04-08T06:28:55.673Z"
   },
   {
    "duration": 7,
    "start_time": "2023-04-08T06:28:55.686Z"
   },
   {
    "duration": 10,
    "start_time": "2023-04-08T06:28:55.695Z"
   },
   {
    "duration": 13,
    "start_time": "2023-04-08T06:28:55.707Z"
   },
   {
    "duration": 57,
    "start_time": "2023-04-08T06:28:55.725Z"
   },
   {
    "duration": 90,
    "start_time": "2023-04-08T06:28:55.785Z"
   },
   {
    "duration": 17,
    "start_time": "2023-04-08T06:28:55.878Z"
   },
   {
    "duration": 58,
    "start_time": "2023-04-08T06:28:55.897Z"
   },
   {
    "duration": 721,
    "start_time": "2023-04-08T06:28:55.957Z"
   },
   {
    "duration": 4383,
    "start_time": "2023-04-08T06:28:56.681Z"
   },
   {
    "duration": 5308,
    "start_time": "2023-04-08T06:29:01.066Z"
   },
   {
    "duration": 1448,
    "start_time": "2023-04-08T06:29:34.731Z"
   },
   {
    "duration": 48,
    "start_time": "2023-04-08T06:29:36.184Z"
   },
   {
    "duration": 43,
    "start_time": "2023-04-08T06:29:36.235Z"
   },
   {
    "duration": 27,
    "start_time": "2023-04-08T06:29:36.281Z"
   },
   {
    "duration": 55,
    "start_time": "2023-04-08T06:29:36.311Z"
   },
   {
    "duration": 33,
    "start_time": "2023-04-08T06:29:36.372Z"
   },
   {
    "duration": 58,
    "start_time": "2023-04-08T06:29:36.408Z"
   },
   {
    "duration": 18,
    "start_time": "2023-04-08T06:29:36.469Z"
   },
   {
    "duration": 24,
    "start_time": "2023-04-08T06:29:36.492Z"
   },
   {
    "duration": 52,
    "start_time": "2023-04-08T06:29:36.518Z"
   },
   {
    "duration": 22,
    "start_time": "2023-04-08T06:29:36.573Z"
   },
   {
    "duration": 11,
    "start_time": "2023-04-08T06:29:36.597Z"
   },
   {
    "duration": 26,
    "start_time": "2023-04-08T06:29:36.610Z"
   },
   {
    "duration": 15,
    "start_time": "2023-04-08T06:29:36.645Z"
   },
   {
    "duration": 46,
    "start_time": "2023-04-08T06:29:36.664Z"
   },
   {
    "duration": 28,
    "start_time": "2023-04-08T06:29:36.712Z"
   },
   {
    "duration": 60,
    "start_time": "2023-04-08T06:29:36.743Z"
   },
   {
    "duration": 577,
    "start_time": "2023-04-08T06:29:36.806Z"
   },
   {
    "duration": 4252,
    "start_time": "2023-04-08T06:29:37.386Z"
   },
   {
    "duration": 7863,
    "start_time": "2023-04-08T06:29:41.647Z"
   },
   {
    "duration": 50,
    "start_time": "2023-04-08T09:47:31.387Z"
   },
   {
    "duration": 1076,
    "start_time": "2023-04-08T09:47:36.903Z"
   },
   {
    "duration": 124,
    "start_time": "2023-04-08T09:47:37.981Z"
   },
   {
    "duration": 20,
    "start_time": "2023-04-08T09:47:38.107Z"
   },
   {
    "duration": 17,
    "start_time": "2023-04-08T09:47:38.129Z"
   },
   {
    "duration": 8,
    "start_time": "2023-04-08T09:47:38.149Z"
   },
   {
    "duration": 26,
    "start_time": "2023-04-08T09:47:38.158Z"
   },
   {
    "duration": 12,
    "start_time": "2023-04-08T09:47:38.185Z"
   },
   {
    "duration": 11,
    "start_time": "2023-04-08T09:47:38.198Z"
   },
   {
    "duration": 10,
    "start_time": "2023-04-08T09:47:38.210Z"
   },
   {
    "duration": 7,
    "start_time": "2023-04-08T09:47:38.221Z"
   },
   {
    "duration": 5,
    "start_time": "2023-04-08T09:47:38.229Z"
   },
   {
    "duration": 4,
    "start_time": "2023-04-08T09:47:38.235Z"
   },
   {
    "duration": 10,
    "start_time": "2023-04-08T09:47:38.240Z"
   },
   {
    "duration": 3,
    "start_time": "2023-04-08T09:47:38.253Z"
   },
   {
    "duration": 8,
    "start_time": "2023-04-08T09:47:38.258Z"
   },
   {
    "duration": 8,
    "start_time": "2023-04-08T09:47:38.268Z"
   },
   {
    "duration": 4,
    "start_time": "2023-04-08T09:47:38.278Z"
   },
   {
    "duration": 545,
    "start_time": "2023-04-08T09:47:38.284Z"
   },
   {
    "duration": 3494,
    "start_time": "2023-04-08T09:47:38.831Z"
   },
   {
    "duration": 5042,
    "start_time": "2023-04-08T09:47:42.326Z"
   },
   {
    "duration": 29,
    "start_time": "2023-04-08T09:47:47.370Z"
   },
   {
    "duration": 1101,
    "start_time": "2023-04-08T09:54:26.674Z"
   },
   {
    "duration": 30,
    "start_time": "2023-04-08T09:54:27.777Z"
   },
   {
    "duration": 17,
    "start_time": "2023-04-08T09:54:27.808Z"
   },
   {
    "duration": 11,
    "start_time": "2023-04-08T09:54:27.826Z"
   },
   {
    "duration": 10,
    "start_time": "2023-04-08T09:54:27.839Z"
   },
   {
    "duration": 7,
    "start_time": "2023-04-08T09:54:27.850Z"
   },
   {
    "duration": 10,
    "start_time": "2023-04-08T09:54:27.859Z"
   },
   {
    "duration": 5,
    "start_time": "2023-04-08T09:54:27.871Z"
   },
   {
    "duration": 13,
    "start_time": "2023-04-08T09:54:27.877Z"
   },
   {
    "duration": 7,
    "start_time": "2023-04-08T09:54:27.892Z"
   },
   {
    "duration": 6,
    "start_time": "2023-04-08T09:54:27.901Z"
   },
   {
    "duration": 11,
    "start_time": "2023-04-08T09:54:27.909Z"
   },
   {
    "duration": 10,
    "start_time": "2023-04-08T09:54:27.921Z"
   },
   {
    "duration": 4,
    "start_time": "2023-04-08T09:54:27.948Z"
   },
   {
    "duration": 8,
    "start_time": "2023-04-08T09:54:27.954Z"
   },
   {
    "duration": 3,
    "start_time": "2023-04-08T09:54:27.964Z"
   },
   {
    "duration": 4,
    "start_time": "2023-04-08T09:54:27.969Z"
   },
   {
    "duration": 496,
    "start_time": "2023-04-08T09:54:27.975Z"
   },
   {
    "duration": 3592,
    "start_time": "2023-04-08T09:54:28.473Z"
   },
   {
    "duration": 4941,
    "start_time": "2023-04-08T09:54:32.067Z"
   },
   {
    "duration": 14,
    "start_time": "2023-04-08T09:54:37.010Z"
   },
   {
    "duration": 151,
    "start_time": "2023-04-08T09:54:37.025Z"
   },
   {
    "duration": 33,
    "start_time": "2023-04-08T09:54:37.178Z"
   },
   {
    "duration": 2433,
    "start_time": "2023-04-08T09:55:09.133Z"
   },
   {
    "duration": 1626,
    "start_time": "2023-04-08T09:55:59.576Z"
   },
   {
    "duration": 5051,
    "start_time": "2023-04-08T09:56:13.588Z"
   },
   {
    "duration": 5113,
    "start_time": "2023-04-08T09:56:19.040Z"
   },
   {
    "duration": 1145,
    "start_time": "2023-04-08T09:56:50.821Z"
   },
   {
    "duration": 30,
    "start_time": "2023-04-08T09:56:51.968Z"
   },
   {
    "duration": 17,
    "start_time": "2023-04-08T09:56:52.000Z"
   },
   {
    "duration": 11,
    "start_time": "2023-04-08T09:56:52.019Z"
   },
   {
    "duration": 6,
    "start_time": "2023-04-08T09:56:52.032Z"
   },
   {
    "duration": 11,
    "start_time": "2023-04-08T09:56:52.040Z"
   },
   {
    "duration": 9,
    "start_time": "2023-04-08T09:56:52.052Z"
   },
   {
    "duration": 17,
    "start_time": "2023-04-08T09:56:52.062Z"
   },
   {
    "duration": 15,
    "start_time": "2023-04-08T09:56:52.081Z"
   },
   {
    "duration": 7,
    "start_time": "2023-04-08T09:56:52.098Z"
   },
   {
    "duration": 16,
    "start_time": "2023-04-08T09:56:52.107Z"
   },
   {
    "duration": 9,
    "start_time": "2023-04-08T09:56:52.125Z"
   },
   {
    "duration": 14,
    "start_time": "2023-04-08T09:56:52.136Z"
   },
   {
    "duration": 14,
    "start_time": "2023-04-08T09:56:52.154Z"
   },
   {
    "duration": 12,
    "start_time": "2023-04-08T09:56:52.170Z"
   },
   {
    "duration": 23,
    "start_time": "2023-04-08T09:56:52.183Z"
   },
   {
    "duration": 6,
    "start_time": "2023-04-08T09:56:52.208Z"
   },
   {
    "duration": 485,
    "start_time": "2023-04-08T09:56:52.215Z"
   },
   {
    "duration": 3584,
    "start_time": "2023-04-08T09:56:52.701Z"
   },
   {
    "duration": 4074,
    "start_time": "2023-04-08T09:56:56.286Z"
   },
   {
    "duration": 13,
    "start_time": "2023-04-08T09:57:00.362Z"
   },
   {
    "duration": 116,
    "start_time": "2023-04-08T09:57:00.376Z"
   },
   {
    "duration": 25,
    "start_time": "2023-04-08T09:57:00.494Z"
   },
   {
    "duration": 111,
    "start_time": "2023-04-08T10:16:06.406Z"
   },
   {
    "duration": 17,
    "start_time": "2023-04-08T10:18:06.906Z"
   },
   {
    "duration": 74,
    "start_time": "2023-04-08T10:18:35.605Z"
   },
   {
    "duration": 1105,
    "start_time": "2023-04-08T10:19:44.459Z"
   },
   {
    "duration": 29,
    "start_time": "2023-04-08T10:19:45.566Z"
   },
   {
    "duration": 18,
    "start_time": "2023-04-08T10:19:45.597Z"
   },
   {
    "duration": 29,
    "start_time": "2023-04-08T10:19:45.617Z"
   },
   {
    "duration": 16,
    "start_time": "2023-04-08T10:19:45.647Z"
   },
   {
    "duration": 15,
    "start_time": "2023-04-08T10:19:45.665Z"
   },
   {
    "duration": 10,
    "start_time": "2023-04-08T10:19:45.682Z"
   },
   {
    "duration": 6,
    "start_time": "2023-04-08T10:19:45.693Z"
   },
   {
    "duration": 13,
    "start_time": "2023-04-08T10:19:45.701Z"
   },
   {
    "duration": 6,
    "start_time": "2023-04-08T10:19:45.717Z"
   },
   {
    "duration": 9,
    "start_time": "2023-04-08T10:19:45.725Z"
   },
   {
    "duration": 5,
    "start_time": "2023-04-08T10:19:45.735Z"
   },
   {
    "duration": 10,
    "start_time": "2023-04-08T10:19:45.741Z"
   },
   {
    "duration": 6,
    "start_time": "2023-04-08T10:19:45.752Z"
   },
   {
    "duration": 6,
    "start_time": "2023-04-08T10:19:45.760Z"
   },
   {
    "duration": 4,
    "start_time": "2023-04-08T10:19:45.767Z"
   },
   {
    "duration": 5,
    "start_time": "2023-04-08T10:19:45.772Z"
   },
   {
    "duration": 501,
    "start_time": "2023-04-08T10:19:45.778Z"
   },
   {
    "duration": 3511,
    "start_time": "2023-04-08T10:19:46.281Z"
   },
   {
    "duration": 4328,
    "start_time": "2023-04-08T10:19:49.794Z"
   },
   {
    "duration": 14,
    "start_time": "2023-04-08T10:19:54.124Z"
   },
   {
    "duration": 67,
    "start_time": "2023-04-08T10:19:54.149Z"
   },
   {
    "duration": 40,
    "start_time": "2023-04-08T10:19:54.218Z"
   },
   {
    "duration": 71,
    "start_time": "2023-04-08T10:19:54.260Z"
   },
   {
    "duration": 18,
    "start_time": "2023-04-08T10:25:12.669Z"
   },
   {
    "duration": 25,
    "start_time": "2023-04-08T10:25:27.473Z"
   },
   {
    "duration": 35,
    "start_time": "2023-04-08T10:25:43.232Z"
   },
   {
    "duration": 1197,
    "start_time": "2023-04-08T10:33:34.205Z"
   },
   {
    "duration": 30,
    "start_time": "2023-04-08T10:33:35.404Z"
   },
   {
    "duration": 20,
    "start_time": "2023-04-08T10:33:35.436Z"
   },
   {
    "duration": 16,
    "start_time": "2023-04-08T10:33:35.458Z"
   },
   {
    "duration": 21,
    "start_time": "2023-04-08T10:33:35.475Z"
   },
   {
    "duration": 11,
    "start_time": "2023-04-08T10:33:35.498Z"
   },
   {
    "duration": 16,
    "start_time": "2023-04-08T10:33:35.511Z"
   },
   {
    "duration": 7,
    "start_time": "2023-04-08T10:33:35.528Z"
   },
   {
    "duration": 24,
    "start_time": "2023-04-08T10:33:35.536Z"
   },
   {
    "duration": 13,
    "start_time": "2023-04-08T10:33:35.562Z"
   },
   {
    "duration": 8,
    "start_time": "2023-04-08T10:33:35.576Z"
   },
   {
    "duration": 19,
    "start_time": "2023-04-08T10:33:35.585Z"
   },
   {
    "duration": 16,
    "start_time": "2023-04-08T10:33:35.606Z"
   },
   {
    "duration": 9,
    "start_time": "2023-04-08T10:33:35.624Z"
   },
   {
    "duration": 18,
    "start_time": "2023-04-08T10:33:35.634Z"
   },
   {
    "duration": 11,
    "start_time": "2023-04-08T10:33:35.654Z"
   },
   {
    "duration": 5,
    "start_time": "2023-04-08T10:33:35.666Z"
   },
   {
    "duration": 488,
    "start_time": "2023-04-08T10:33:35.673Z"
   },
   {
    "duration": 3533,
    "start_time": "2023-04-08T10:33:36.162Z"
   },
   {
    "duration": 4114,
    "start_time": "2023-04-08T10:33:39.696Z"
   },
   {
    "duration": 13,
    "start_time": "2023-04-08T10:33:43.812Z"
   },
   {
    "duration": 81,
    "start_time": "2023-04-08T10:33:43.827Z"
   },
   {
    "duration": 23,
    "start_time": "2023-04-08T10:33:43.909Z"
   },
   {
    "duration": 27,
    "start_time": "2023-04-08T10:33:43.934Z"
   },
   {
    "duration": 67,
    "start_time": "2023-04-08T10:33:43.962Z"
   },
   {
    "duration": 42,
    "start_time": "2023-04-08T10:33:44.031Z"
   },
   {
    "duration": 1062,
    "start_time": "2023-04-08T10:45:38.134Z"
   },
   {
    "duration": 31,
    "start_time": "2023-04-08T10:45:39.197Z"
   },
   {
    "duration": 22,
    "start_time": "2023-04-08T10:45:39.230Z"
   },
   {
    "duration": 14,
    "start_time": "2023-04-08T10:45:39.254Z"
   },
   {
    "duration": 18,
    "start_time": "2023-04-08T10:45:39.270Z"
   },
   {
    "duration": 35,
    "start_time": "2023-04-08T10:45:39.290Z"
   },
   {
    "duration": 7,
    "start_time": "2023-04-08T10:45:39.326Z"
   },
   {
    "duration": 7,
    "start_time": "2023-04-08T10:45:39.334Z"
   },
   {
    "duration": 23,
    "start_time": "2023-04-08T10:45:39.342Z"
   },
   {
    "duration": 16,
    "start_time": "2023-04-08T10:45:39.367Z"
   },
   {
    "duration": 19,
    "start_time": "2023-04-08T10:45:39.385Z"
   },
   {
    "duration": 6,
    "start_time": "2023-04-08T10:45:39.405Z"
   },
   {
    "duration": 12,
    "start_time": "2023-04-08T10:45:39.412Z"
   },
   {
    "duration": 10,
    "start_time": "2023-04-08T10:45:39.427Z"
   },
   {
    "duration": 7,
    "start_time": "2023-04-08T10:45:39.438Z"
   },
   {
    "duration": 10,
    "start_time": "2023-04-08T10:45:39.447Z"
   },
   {
    "duration": 8,
    "start_time": "2023-04-08T10:45:39.458Z"
   },
   {
    "duration": 484,
    "start_time": "2023-04-08T10:45:39.468Z"
   },
   {
    "duration": 3450,
    "start_time": "2023-04-08T10:45:39.954Z"
   },
   {
    "duration": 4243,
    "start_time": "2023-04-08T10:45:43.407Z"
   },
   {
    "duration": 13,
    "start_time": "2023-04-08T10:45:47.652Z"
   },
   {
    "duration": 68,
    "start_time": "2023-04-08T10:45:47.667Z"
   },
   {
    "duration": 26,
    "start_time": "2023-04-08T10:45:47.750Z"
   },
   {
    "duration": 16,
    "start_time": "2023-04-08T10:45:47.778Z"
   },
   {
    "duration": 97,
    "start_time": "2023-04-08T10:45:47.796Z"
   },
   {
    "duration": 27,
    "start_time": "2023-04-08T10:45:47.895Z"
   },
   {
    "duration": 2485,
    "start_time": "2023-04-08T11:22:16.495Z"
   },
   {
    "duration": 72,
    "start_time": "2023-04-08T11:22:18.982Z"
   },
   {
    "duration": 16,
    "start_time": "2023-04-08T11:22:19.056Z"
   },
   {
    "duration": 24,
    "start_time": "2023-04-08T11:22:19.074Z"
   },
   {
    "duration": 18,
    "start_time": "2023-04-08T11:22:19.099Z"
   },
   {
    "duration": 17,
    "start_time": "2023-04-08T11:22:19.118Z"
   },
   {
    "duration": 36,
    "start_time": "2023-04-08T11:22:19.136Z"
   },
   {
    "duration": 37,
    "start_time": "2023-04-08T11:22:19.174Z"
   },
   {
    "duration": 41,
    "start_time": "2023-04-08T11:22:19.213Z"
   },
   {
    "duration": 14,
    "start_time": "2023-04-08T11:22:19.257Z"
   },
   {
    "duration": 28,
    "start_time": "2023-04-08T11:22:19.273Z"
   },
   {
    "duration": 24,
    "start_time": "2023-04-08T11:22:19.302Z"
   },
   {
    "duration": 11,
    "start_time": "2023-04-08T11:22:19.327Z"
   },
   {
    "duration": 28,
    "start_time": "2023-04-08T11:22:19.345Z"
   },
   {
    "duration": 24,
    "start_time": "2023-04-08T11:22:19.375Z"
   },
   {
    "duration": 21,
    "start_time": "2023-04-08T11:22:19.400Z"
   },
   {
    "duration": 27,
    "start_time": "2023-04-08T11:22:19.422Z"
   },
   {
    "duration": 450,
    "start_time": "2023-04-08T11:22:19.450Z"
   },
   {
    "duration": 3336,
    "start_time": "2023-04-08T11:22:19.901Z"
   },
   {
    "duration": 4094,
    "start_time": "2023-04-08T11:22:23.240Z"
   },
   {
    "duration": 22,
    "start_time": "2023-04-08T11:22:27.335Z"
   },
   {
    "duration": 102,
    "start_time": "2023-04-08T11:22:27.359Z"
   },
   {
    "duration": 25,
    "start_time": "2023-04-08T11:22:27.463Z"
   },
   {
    "duration": 15,
    "start_time": "2023-04-08T11:22:27.489Z"
   },
   {
    "duration": 80,
    "start_time": "2023-04-08T11:22:27.505Z"
   },
   {
    "duration": 26,
    "start_time": "2023-04-08T11:22:27.586Z"
   },
   {
    "duration": 1176,
    "start_time": "2023-04-09T04:43:40.397Z"
   },
   {
    "duration": 158,
    "start_time": "2023-04-09T04:43:41.575Z"
   },
   {
    "duration": 22,
    "start_time": "2023-04-09T04:43:41.735Z"
   },
   {
    "duration": 25,
    "start_time": "2023-04-09T04:43:41.760Z"
   },
   {
    "duration": 23,
    "start_time": "2023-04-09T04:43:41.794Z"
   },
   {
    "duration": 10,
    "start_time": "2023-04-09T04:43:41.819Z"
   },
   {
    "duration": 13,
    "start_time": "2023-04-09T04:43:41.831Z"
   },
   {
    "duration": 14,
    "start_time": "2023-04-09T04:43:41.846Z"
   },
   {
    "duration": 36,
    "start_time": "2023-04-09T04:43:41.861Z"
   },
   {
    "duration": 24,
    "start_time": "2023-04-09T04:43:41.899Z"
   },
   {
    "duration": 7,
    "start_time": "2023-04-09T04:43:41.926Z"
   },
   {
    "duration": 19,
    "start_time": "2023-04-09T04:43:41.934Z"
   },
   {
    "duration": 4,
    "start_time": "2023-04-09T04:43:41.955Z"
   },
   {
    "duration": 10,
    "start_time": "2023-04-09T04:43:41.961Z"
   },
   {
    "duration": 40,
    "start_time": "2023-04-09T04:43:41.975Z"
   },
   {
    "duration": 19,
    "start_time": "2023-04-09T04:43:42.017Z"
   },
   {
    "duration": 14,
    "start_time": "2023-04-09T04:43:42.037Z"
   },
   {
    "duration": 24,
    "start_time": "2023-04-09T04:43:42.053Z"
   },
   {
    "duration": 506,
    "start_time": "2023-04-09T04:43:42.080Z"
   },
   {
    "duration": 3374,
    "start_time": "2023-04-09T04:43:42.594Z"
   },
   {
    "duration": 4234,
    "start_time": "2023-04-09T04:43:45.972Z"
   },
   {
    "duration": 16,
    "start_time": "2023-04-09T04:43:50.207Z"
   },
   {
    "duration": 98,
    "start_time": "2023-04-09T04:43:50.225Z"
   },
   {
    "duration": 23,
    "start_time": "2023-04-09T04:43:50.324Z"
   },
   {
    "duration": 39,
    "start_time": "2023-04-09T04:43:50.349Z"
   },
   {
    "duration": 63,
    "start_time": "2023-04-09T04:43:50.390Z"
   },
   {
    "duration": 42,
    "start_time": "2023-04-09T04:43:50.455Z"
   },
   {
    "duration": 151,
    "start_time": "2023-04-09T05:59:24.496Z"
   },
   {
    "duration": 1182,
    "start_time": "2023-04-09T06:00:19.258Z"
   },
   {
    "duration": 28,
    "start_time": "2023-04-09T06:00:20.442Z"
   },
   {
    "duration": 30,
    "start_time": "2023-04-09T06:00:20.471Z"
   },
   {
    "duration": 52,
    "start_time": "2023-04-09T06:00:20.510Z"
   },
   {
    "duration": 64,
    "start_time": "2023-04-09T06:00:20.564Z"
   },
   {
    "duration": 23,
    "start_time": "2023-04-09T06:00:20.630Z"
   },
   {
    "duration": 12,
    "start_time": "2023-04-09T06:00:20.655Z"
   },
   {
    "duration": 65,
    "start_time": "2023-04-09T06:00:20.669Z"
   },
   {
    "duration": 16,
    "start_time": "2023-04-09T06:00:20.736Z"
   },
   {
    "duration": 23,
    "start_time": "2023-04-09T06:00:20.754Z"
   },
   {
    "duration": 50,
    "start_time": "2023-04-09T06:00:20.778Z"
   },
   {
    "duration": 9,
    "start_time": "2023-04-09T06:00:20.829Z"
   },
   {
    "duration": 6,
    "start_time": "2023-04-09T06:00:20.840Z"
   },
   {
    "duration": 6,
    "start_time": "2023-04-09T06:00:20.848Z"
   },
   {
    "duration": 19,
    "start_time": "2023-04-09T06:00:20.855Z"
   },
   {
    "duration": 14,
    "start_time": "2023-04-09T06:00:20.876Z"
   },
   {
    "duration": 48,
    "start_time": "2023-04-09T06:00:20.894Z"
   },
   {
    "duration": 25,
    "start_time": "2023-04-09T06:00:20.943Z"
   },
   {
    "duration": 55,
    "start_time": "2023-04-09T06:00:20.970Z"
   },
   {
    "duration": 514,
    "start_time": "2023-04-09T06:00:21.027Z"
   },
   {
    "duration": 3720,
    "start_time": "2023-04-09T06:00:21.543Z"
   },
   {
    "duration": 4872,
    "start_time": "2023-04-09T06:00:25.265Z"
   },
   {
    "duration": 14,
    "start_time": "2023-04-09T06:00:30.138Z"
   },
   {
    "duration": 88,
    "start_time": "2023-04-09T06:00:30.153Z"
   },
   {
    "duration": 46,
    "start_time": "2023-04-09T06:00:30.243Z"
   },
   {
    "duration": 52,
    "start_time": "2023-04-09T06:00:30.291Z"
   },
   {
    "duration": 174,
    "start_time": "2023-04-09T06:00:30.344Z"
   },
   {
    "duration": 33,
    "start_time": "2023-04-09T06:00:30.520Z"
   },
   {
    "duration": 43,
    "start_time": "2023-04-10T12:33:09.501Z"
   },
   {
    "duration": 1096,
    "start_time": "2023-04-10T12:35:03.098Z"
   },
   {
    "duration": 68,
    "start_time": "2023-04-10T12:35:04.196Z"
   },
   {
    "duration": 20,
    "start_time": "2023-04-10T12:35:04.266Z"
   },
   {
    "duration": 12,
    "start_time": "2023-04-10T12:35:04.289Z"
   },
   {
    "duration": 10,
    "start_time": "2023-04-10T12:35:04.303Z"
   },
   {
    "duration": 7,
    "start_time": "2023-04-10T12:35:04.315Z"
   },
   {
    "duration": 7,
    "start_time": "2023-04-10T12:35:04.323Z"
   },
   {
    "duration": 6,
    "start_time": "2023-04-10T12:35:04.331Z"
   },
   {
    "duration": 7,
    "start_time": "2023-04-10T12:35:04.339Z"
   },
   {
    "duration": 16,
    "start_time": "2023-04-10T12:35:04.348Z"
   },
   {
    "duration": 5,
    "start_time": "2023-04-10T12:35:04.394Z"
   },
   {
    "duration": 8,
    "start_time": "2023-04-10T12:35:04.401Z"
   },
   {
    "duration": 4,
    "start_time": "2023-04-10T12:35:04.411Z"
   },
   {
    "duration": 4,
    "start_time": "2023-04-10T12:35:04.416Z"
   },
   {
    "duration": 8,
    "start_time": "2023-04-10T12:35:04.421Z"
   },
   {
    "duration": 3,
    "start_time": "2023-04-10T12:35:04.431Z"
   },
   {
    "duration": 6,
    "start_time": "2023-04-10T12:35:04.436Z"
   },
   {
    "duration": 5,
    "start_time": "2023-04-10T12:35:04.443Z"
   },
   {
    "duration": 4,
    "start_time": "2023-04-10T12:35:04.449Z"
   },
   {
    "duration": 6,
    "start_time": "2023-04-10T12:35:04.455Z"
   },
   {
    "duration": 384,
    "start_time": "2023-04-10T12:35:04.493Z"
   },
   {
    "duration": 3000,
    "start_time": "2023-04-10T12:35:04.879Z"
   },
   {
    "duration": 5621,
    "start_time": "2023-04-10T12:35:07.881Z"
   },
   {
    "duration": 12,
    "start_time": "2023-04-10T12:35:13.504Z"
   },
   {
    "duration": 58,
    "start_time": "2023-04-10T12:35:13.517Z"
   },
   {
    "duration": 30,
    "start_time": "2023-04-10T12:35:13.594Z"
   },
   {
    "duration": 15,
    "start_time": "2023-04-10T12:35:13.625Z"
   },
   {
    "duration": 74,
    "start_time": "2023-04-10T12:35:13.643Z"
   },
   {
    "duration": 32,
    "start_time": "2023-04-10T12:35:13.719Z"
   },
   {
    "duration": 8,
    "start_time": "2023-04-10T12:39:11.507Z"
   },
   {
    "duration": 826,
    "start_time": "2023-04-10T12:41:27.651Z"
   },
   {
    "duration": 6,
    "start_time": "2023-04-10T12:49:47.210Z"
   },
   {
    "duration": 4,
    "start_time": "2023-04-10T12:51:11.552Z"
   },
   {
    "duration": 1048,
    "start_time": "2023-04-10T12:51:17.867Z"
   },
   {
    "duration": 27,
    "start_time": "2023-04-10T12:51:18.917Z"
   },
   {
    "duration": 17,
    "start_time": "2023-04-10T12:51:18.945Z"
   },
   {
    "duration": 10,
    "start_time": "2023-04-10T12:51:18.963Z"
   },
   {
    "duration": 6,
    "start_time": "2023-04-10T12:51:18.975Z"
   },
   {
    "duration": 17,
    "start_time": "2023-04-10T12:51:18.982Z"
   },
   {
    "duration": 12,
    "start_time": "2023-04-10T12:51:19.000Z"
   },
   {
    "duration": 11,
    "start_time": "2023-04-10T12:51:19.013Z"
   },
   {
    "duration": 8,
    "start_time": "2023-04-10T12:51:19.025Z"
   },
   {
    "duration": 10,
    "start_time": "2023-04-10T12:51:19.034Z"
   },
   {
    "duration": 6,
    "start_time": "2023-04-10T12:51:19.046Z"
   },
   {
    "duration": 678,
    "start_time": "2023-04-10T12:51:19.053Z"
   },
   {
    "duration": 5,
    "start_time": "2023-04-10T12:51:19.733Z"
   },
   {
    "duration": 14,
    "start_time": "2023-04-10T12:51:19.740Z"
   },
   {
    "duration": 6,
    "start_time": "2023-04-10T12:51:19.755Z"
   },
   {
    "duration": 6,
    "start_time": "2023-04-10T12:51:19.763Z"
   },
   {
    "duration": 4,
    "start_time": "2023-04-10T12:51:19.771Z"
   },
   {
    "duration": 20,
    "start_time": "2023-04-10T12:51:19.777Z"
   },
   {
    "duration": 6,
    "start_time": "2023-04-10T12:51:19.798Z"
   },
   {
    "duration": 8,
    "start_time": "2023-04-10T12:51:19.805Z"
   },
   {
    "duration": 6,
    "start_time": "2023-04-10T12:51:19.815Z"
   },
   {
    "duration": 382,
    "start_time": "2023-04-10T12:51:19.822Z"
   },
   {
    "duration": 2274,
    "start_time": "2023-04-10T12:51:20.206Z"
   },
   {
    "duration": 4235,
    "start_time": "2023-04-10T12:51:22.482Z"
   },
   {
    "duration": 12,
    "start_time": "2023-04-10T12:51:26.719Z"
   },
   {
    "duration": 42,
    "start_time": "2023-04-10T12:51:26.732Z"
   },
   {
    "duration": 41,
    "start_time": "2023-04-10T12:51:26.775Z"
   },
   {
    "duration": 13,
    "start_time": "2023-04-10T12:51:26.818Z"
   },
   {
    "duration": 42,
    "start_time": "2023-04-10T12:51:26.833Z"
   },
   {
    "duration": 29,
    "start_time": "2023-04-10T12:51:26.895Z"
   },
   {
    "duration": 128,
    "start_time": "2023-04-10T13:26:03.975Z"
   },
   {
    "duration": 8,
    "start_time": "2023-04-10T13:26:25.131Z"
   },
   {
    "duration": 6,
    "start_time": "2023-04-10T13:31:38.984Z"
   },
   {
    "duration": 7,
    "start_time": "2023-04-10T13:32:49.792Z"
   },
   {
    "duration": 6,
    "start_time": "2023-04-10T13:33:11.987Z"
   },
   {
    "duration": 1141,
    "start_time": "2023-04-10T13:41:57.174Z"
   },
   {
    "duration": 27,
    "start_time": "2023-04-10T13:41:58.317Z"
   },
   {
    "duration": 19,
    "start_time": "2023-04-10T13:41:58.346Z"
   },
   {
    "duration": 11,
    "start_time": "2023-04-10T13:41:58.367Z"
   },
   {
    "duration": 6,
    "start_time": "2023-04-10T13:41:58.380Z"
   },
   {
    "duration": 9,
    "start_time": "2023-04-10T13:41:58.396Z"
   },
   {
    "duration": 8,
    "start_time": "2023-04-10T13:41:58.407Z"
   },
   {
    "duration": 7,
    "start_time": "2023-04-10T13:41:58.417Z"
   },
   {
    "duration": 7,
    "start_time": "2023-04-10T13:41:58.425Z"
   },
   {
    "duration": 11,
    "start_time": "2023-04-10T13:41:58.433Z"
   },
   {
    "duration": 7,
    "start_time": "2023-04-10T13:41:58.446Z"
   },
   {
    "duration": 717,
    "start_time": "2023-04-10T13:41:58.454Z"
   },
   {
    "duration": 5,
    "start_time": "2023-04-10T13:41:59.172Z"
   },
   {
    "duration": 6,
    "start_time": "2023-04-10T13:41:59.179Z"
   },
   {
    "duration": 5,
    "start_time": "2023-04-10T13:41:59.186Z"
   },
   {
    "duration": 18,
    "start_time": "2023-04-10T13:41:59.194Z"
   },
   {
    "duration": 5,
    "start_time": "2023-04-10T13:41:59.214Z"
   },
   {
    "duration": 5,
    "start_time": "2023-04-10T13:41:59.221Z"
   },
   {
    "duration": 8,
    "start_time": "2023-04-10T13:41:59.228Z"
   },
   {
    "duration": 19,
    "start_time": "2023-04-10T13:41:59.238Z"
   },
   {
    "duration": 12,
    "start_time": "2023-04-10T13:41:59.259Z"
   },
   {
    "duration": 386,
    "start_time": "2023-04-10T13:41:59.273Z"
   },
   {
    "duration": 2518,
    "start_time": "2023-04-10T13:41:59.660Z"
   },
   {
    "duration": 4237,
    "start_time": "2023-04-10T13:42:02.180Z"
   },
   {
    "duration": 10,
    "start_time": "2023-04-10T13:42:06.419Z"
   },
   {
    "duration": 38,
    "start_time": "2023-04-10T13:42:06.431Z"
   },
   {
    "duration": 43,
    "start_time": "2023-04-10T13:42:06.470Z"
   },
   {
    "duration": 6,
    "start_time": "2023-04-10T13:42:06.515Z"
   },
   {
    "duration": 8,
    "start_time": "2023-04-10T13:42:06.522Z"
   },
   {
    "duration": 13,
    "start_time": "2023-04-10T13:42:06.531Z"
   },
   {
    "duration": 69,
    "start_time": "2023-04-10T13:42:06.545Z"
   },
   {
    "duration": 26,
    "start_time": "2023-04-10T13:42:06.616Z"
   }
  ],
  "kernelspec": {
   "display_name": "Python 3 (ipykernel)",
   "language": "python",
   "name": "python3"
  },
  "language_info": {
   "codemirror_mode": {
    "name": "ipython",
    "version": 3
   },
   "file_extension": ".py",
   "mimetype": "text/x-python",
   "name": "python",
   "nbconvert_exporter": "python",
   "pygments_lexer": "ipython3",
   "version": "3.9.13"
  },
  "toc": {
   "base_numbering": 1,
   "nav_menu": {},
   "number_sections": true,
   "sideBar": true,
   "skip_h1_title": true,
   "title_cell": "Table of Contents",
   "title_sidebar": "Contents",
   "toc_cell": false,
   "toc_position": {},
   "toc_section_display": true,
   "toc_window_display": true
  }
 },
 "nbformat": 4,
 "nbformat_minor": 2
}
